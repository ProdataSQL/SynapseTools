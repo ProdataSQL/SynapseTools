{
    "metadata": {
        "kernelspec": {
            "name": "SQL",
            "display_name": "SQL",
            "language": "sql"
        },
        "language_info": {
            "name": "sql",
            "version": ""
        }
    },
    "nbformat_minor": 2,
    "nbformat": 4,
    "cells": [
        {
            "cell_type": "markdown",
            "source": [
                "### Demo - Open Delta Stores"
            ],
            "metadata": {
                "azdata_cell_guid": "32e1064e-a364-4d24-9021-ebfe2d5b68b7"
            }
        },
        {
            "cell_type": "code",
            "source": [
                "/* \r\n",
                "    IF we insert < 200k via bulk or update we vam get some inserted rows whice are not compressed. Eg insert 6 million rows\r\n",
                "\r\n",
                "*/\r\n",
                "INSERT INTO FactFinance100m ([AccountKey], [ScenarioKey], [DepartmentGroupKey], [DateKey], [OrganizationKey], [Amount], [Date], [LineageKey])\r\n",
                "SELECT TOP 6000000 [AccountKey], [ScenarioKey], [DepartmentGroupKey], [DateKey], [OrganizationKey], [Amount], [Date], [LineageKey] FROM [dbo].[FactFinance1b]\r\n",
                "\r\n",
                "SELECT * FROM dbo.vColumnstoreStats WHERE table_name='FactFinance100m'\r\n",
                "select * From [dbo].[vCS_rg_physical_stats] WHERE logical_table_name='FactFinance100m'"
            ],
            "metadata": {
                "azdata_cell_guid": "7e8905cc-d2a0-45d7-8471-116f3b4d3f8d"
            },
            "outputs": [
                {
                    "output_type": "display_data",
                    "data": {
                        "text/html": "(6000000 rows affected)"
                    },
                    "metadata": {}
                },
                {
                    "output_type": "display_data",
                    "data": {
                        "text/html": "(1 row affected)"
                    },
                    "metadata": {}
                },
                {
                    "output_type": "display_data",
                    "data": {
                        "text/html": "(120 rows affected)"
                    },
                    "metadata": {}
                },
                {
                    "output_type": "display_data",
                    "data": {
                        "text/html": "Total execution time: 00:00:56.681"
                    },
                    "metadata": {}
                },
                {
                    "output_type": "execute_result",
                    "metadata": {},
                    "execution_count": 1,
                    "data": {
                        "application/vnd.dataresource+json": {
                            "schema": {
                                "fields": [
                                    {
                                        "name": "execution_date"
                                    },
                                    {
                                        "name": "database_name"
                                    },
                                    {
                                        "name": "schema_name"
                                    },
                                    {
                                        "name": "table_name"
                                    },
                                    {
                                        "name": "partition_number"
                                    },
                                    {
                                        "name": "partition_scheme"
                                    },
                                    {
                                        "name": "object_id"
                                    },
                                    {
                                        "name": "index_name"
                                    },
                                    {
                                        "name": "row_count"
                                    },
                                    {
                                        "name": "deleted_row_count"
                                    },
                                    {
                                        "name": "row_group_count"
                                    },
                                    {
                                        "name": "compressed_row_count"
                                    },
                                    {
                                        "name": "compressed_rowgroup_count"
                                    },
                                    {
                                        "name": "open_rowgroup_count"
                                    },
                                    {
                                        "name": "open_row_count"
                                    },
                                    {
                                        "name": "compressed_row_max"
                                    },
                                    {
                                        "name": "compressed_row_avg"
                                    },
                                    {
                                        "name": "fragmentation_density"
                                    },
                                    {
                                        "name": "fragmentation_deletes"
                                    },
                                    {
                                        "name": "fragmentation_open"
                                    }
                                ]
                            },
                            "data": [
                                {
                                    "0": "2021-08-22 18:58:31.997",
                                    "1": "AdventureWorksDW",
                                    "2": "dbo",
                                    "3": "FactFinance100m",
                                    "4": "NULL",
                                    "5": "NULL",
                                    "6": "1940917986",
                                    "7": "ClusteredIndex_1fba0db5c48b40288124497ec2198389",
                                    "8": "66000000",
                                    "9": "0",
                                    "10": "120",
                                    "11": "60000000",
                                    "12": "60",
                                    "13": "60",
                                    "14": "6000000",
                                    "15": "1000520",
                                    "16": "1000000",
                                    "17": "4.6300",
                                    "18": "0.0000",
                                    "19": "9.9900"
                                }
                            ]
                        },
                        "text/html": [
                            "<table>",
                            "<tr><th>execution_date</th><th>database_name</th><th>schema_name</th><th>table_name</th><th>partition_number</th><th>partition_scheme</th><th>object_id</th><th>index_name</th><th>row_count</th><th>deleted_row_count</th><th>row_group_count</th><th>compressed_row_count</th><th>compressed_rowgroup_count</th><th>open_rowgroup_count</th><th>open_row_count</th><th>compressed_row_max</th><th>compressed_row_avg</th><th>fragmentation_density</th><th>fragmentation_deletes</th><th>fragmentation_open</th></tr>",
                            "<tr><td>2021-08-22 18:58:31.997</td><td>AdventureWorksDW</td><td>dbo</td><td>FactFinance100m</td><td>NULL</td><td>NULL</td><td>1940917986</td><td>ClusteredIndex_1fba0db5c48b40288124497ec2198389</td><td>66000000</td><td>0</td><td>120</td><td>60000000</td><td>60</td><td>60</td><td>6000000</td><td>1000520</td><td>1000000</td><td>4.6300</td><td>0.0000</td><td>9.9900</td></tr>",
                            "</table>"
                        ]
                    }
                },
                {
                    "output_type": "execute_result",
                    "metadata": {},
                    "execution_count": 1,
                    "data": {
                        "application/vnd.dataresource+json": {
                            "schema": {
                                "fields": [
                                    {
                                        "name": "logical_table_name"
                                    },
                                    {
                                        "name": "row_group_id"
                                    },
                                    {
                                        "name": "partition_number"
                                    },
                                    {
                                        "name": "state"
                                    },
                                    {
                                        "name": "state_desc"
                                    },
                                    {
                                        "name": "total_rows"
                                    },
                                    {
                                        "name": "trim_reason_desc"
                                    },
                                    {
                                        "name": "physical_name"
                                    },
                                    {
                                        "name": "created_time"
                                    }
                                ]
                            },
                            "data": [
                                {
                                    "0": "FactFinance100m",
                                    "1": "4",
                                    "2": "1",
                                    "3": "1",
                                    "4": "OPEN",
                                    "5": "100392",
                                    "6": "NULL",
                                    "7": "Table_8c92dbd39040490a8eae0c6877992248_1",
                                    "8": "2021-08-22 18:58:28.080"
                                },
                                {
                                    "0": "FactFinance100m",
                                    "1": "4",
                                    "2": "1",
                                    "3": "1",
                                    "4": "OPEN",
                                    "5": "100392",
                                    "6": "NULL",
                                    "7": "Table_8c92dbd39040490a8eae0c6877992248_2",
                                    "8": "2021-08-22 18:58:29.160"
                                },
                                {
                                    "0": "FactFinance100m",
                                    "1": "4",
                                    "2": "1",
                                    "3": "1",
                                    "4": "OPEN",
                                    "5": "100392",
                                    "6": "NULL",
                                    "7": "Table_8c92dbd39040490a8eae0c6877992248_3",
                                    "8": "2021-08-22 18:58:29.310"
                                },
                                {
                                    "0": "FactFinance100m",
                                    "1": "4",
                                    "2": "1",
                                    "3": "1",
                                    "4": "OPEN",
                                    "5": "100392",
                                    "6": "NULL",
                                    "7": "Table_8c92dbd39040490a8eae0c6877992248_4",
                                    "8": "2021-08-22 18:58:29.997"
                                },
                                {
                                    "0": "FactFinance100m",
                                    "1": "4",
                                    "2": "1",
                                    "3": "1",
                                    "4": "OPEN",
                                    "5": "100392",
                                    "6": "NULL",
                                    "7": "Table_8c92dbd39040490a8eae0c6877992248_5",
                                    "8": "2021-08-22 18:58:26.863"
                                },
                                {
                                    "0": "FactFinance100m",
                                    "1": "4",
                                    "2": "1",
                                    "3": "1",
                                    "4": "OPEN",
                                    "5": "100392",
                                    "6": "NULL",
                                    "7": "Table_8c92dbd39040490a8eae0c6877992248_6",
                                    "8": "2021-08-22 18:58:29.273"
                                },
                                {
                                    "0": "FactFinance100m",
                                    "1": "4",
                                    "2": "1",
                                    "3": "1",
                                    "4": "OPEN",
                                    "5": "100392",
                                    "6": "NULL",
                                    "7": "Table_8c92dbd39040490a8eae0c6877992248_7",
                                    "8": "2021-08-22 18:58:29.947"
                                },
                                {
                                    "0": "FactFinance100m",
                                    "1": "4",
                                    "2": "1",
                                    "3": "1",
                                    "4": "OPEN",
                                    "5": "100392",
                                    "6": "NULL",
                                    "7": "Table_8c92dbd39040490a8eae0c6877992248_8",
                                    "8": "2021-08-22 18:58:26.360"
                                },
                                {
                                    "0": "FactFinance100m",
                                    "1": "4",
                                    "2": "1",
                                    "3": "1",
                                    "4": "OPEN",
                                    "5": "100392",
                                    "6": "NULL",
                                    "7": "Table_8c92dbd39040490a8eae0c6877992248_9",
                                    "8": "2021-08-22 18:58:28.737"
                                },
                                {
                                    "0": "FactFinance100m",
                                    "1": "4",
                                    "2": "1",
                                    "3": "1",
                                    "4": "OPEN",
                                    "5": "100392",
                                    "6": "NULL",
                                    "7": "Table_8c92dbd39040490a8eae0c6877992248_10",
                                    "8": "2021-08-22 18:58:27.507"
                                },
                                {
                                    "0": "FactFinance100m",
                                    "1": "4",
                                    "2": "1",
                                    "3": "1",
                                    "4": "OPEN",
                                    "5": "100392",
                                    "6": "NULL",
                                    "7": "Table_8c92dbd39040490a8eae0c6877992248_11",
                                    "8": "2021-08-22 18:58:29.973"
                                },
                                {
                                    "0": "FactFinance100m",
                                    "1": "4",
                                    "2": "1",
                                    "3": "1",
                                    "4": "OPEN",
                                    "5": "100392",
                                    "6": "NULL",
                                    "7": "Table_8c92dbd39040490a8eae0c6877992248_12",
                                    "8": "2021-08-22 18:58:26.940"
                                },
                                {
                                    "0": "FactFinance100m",
                                    "1": "4",
                                    "2": "1",
                                    "3": "1",
                                    "4": "OPEN",
                                    "5": "100392",
                                    "6": "NULL",
                                    "7": "Table_8c92dbd39040490a8eae0c6877992248_13",
                                    "8": "2021-08-22 18:58:27.463"
                                },
                                {
                                    "0": "FactFinance100m",
                                    "1": "4",
                                    "2": "1",
                                    "3": "1",
                                    "4": "OPEN",
                                    "5": "100392",
                                    "6": "NULL",
                                    "7": "Table_8c92dbd39040490a8eae0c6877992248_14",
                                    "8": "2021-08-22 18:58:29.307"
                                },
                                {
                                    "0": "FactFinance100m",
                                    "1": "4",
                                    "2": "1",
                                    "3": "1",
                                    "4": "OPEN",
                                    "5": "100392",
                                    "6": "NULL",
                                    "7": "Table_8c92dbd39040490a8eae0c6877992248_15",
                                    "8": "2021-08-22 18:58:29.963"
                                },
                                {
                                    "0": "FactFinance100m",
                                    "1": "4",
                                    "2": "1",
                                    "3": "1",
                                    "4": "OPEN",
                                    "5": "99996",
                                    "6": "NULL",
                                    "7": "Table_8c92dbd39040490a8eae0c6877992248_16",
                                    "8": "2021-08-22 18:58:27.630"
                                },
                                {
                                    "0": "FactFinance100m",
                                    "1": "4",
                                    "2": "1",
                                    "3": "1",
                                    "4": "OPEN",
                                    "5": "99828",
                                    "6": "NULL",
                                    "7": "Table_8c92dbd39040490a8eae0c6877992248_17",
                                    "8": "2021-08-22 18:58:27.500"
                                },
                                {
                                    "0": "FactFinance100m",
                                    "1": "3",
                                    "2": "1",
                                    "3": "3",
                                    "4": "COMPRESSED",
                                    "5": "999960",
                                    "6": "REORG",
                                    "7": "Table_8c92dbd39040490a8eae0c6877992248_18",
                                    "8": "2021-08-22 18:50:16.987"
                                },
                                {
                                    "0": "FactFinance100m",
                                    "1": "4",
                                    "2": "1",
                                    "3": "1",
                                    "4": "OPEN",
                                    "5": "99828",
                                    "6": "NULL",
                                    "7": "Table_8c92dbd39040490a8eae0c6877992248_19",
                                    "8": "2021-08-22 18:58:26.853"
                                },
                                {
                                    "0": "FactFinance100m",
                                    "1": "3",
                                    "2": "1",
                                    "3": "3",
                                    "4": "COMPRESSED",
                                    "5": "999960",
                                    "6": "REORG",
                                    "7": "Table_8c92dbd39040490a8eae0c6877992248_20",
                                    "8": "2021-08-22 18:50:13.823"
                                },
                                {
                                    "0": "FactFinance100m",
                                    "1": "4",
                                    "2": "1",
                                    "3": "1",
                                    "4": "OPEN",
                                    "5": "99828",
                                    "6": "NULL",
                                    "7": "Table_8c92dbd39040490a8eae0c6877992248_21",
                                    "8": "2021-08-22 18:58:29.953"
                                },
                                {
                                    "0": "FactFinance100m",
                                    "1": "4",
                                    "2": "1",
                                    "3": "1",
                                    "4": "OPEN",
                                    "5": "99828",
                                    "6": "NULL",
                                    "7": "Table_8c92dbd39040490a8eae0c6877992248_22",
                                    "8": "2021-08-22 18:58:27.633"
                                },
                                {
                                    "0": "FactFinance100m",
                                    "1": "4",
                                    "2": "1",
                                    "3": "1",
                                    "4": "OPEN",
                                    "5": "99828",
                                    "6": "NULL",
                                    "7": "Table_8c92dbd39040490a8eae0c6877992248_23",
                                    "8": "2021-08-22 18:58:28.027"
                                },
                                {
                                    "0": "FactFinance100m",
                                    "1": "3",
                                    "2": "1",
                                    "3": "3",
                                    "4": "COMPRESSED",
                                    "5": "999960",
                                    "6": "REORG",
                                    "7": "Table_8c92dbd39040490a8eae0c6877992248_24",
                                    "8": "2021-08-22 18:50:14.830"
                                },
                                {
                                    "0": "FactFinance100m",
                                    "1": "4",
                                    "2": "1",
                                    "3": "1",
                                    "4": "OPEN",
                                    "5": "99828",
                                    "6": "NULL",
                                    "7": "Table_8c92dbd39040490a8eae0c6877992248_25",
                                    "8": "2021-08-22 18:58:28.110"
                                },
                                {
                                    "0": "FactFinance100m",
                                    "1": "4",
                                    "2": "1",
                                    "3": "1",
                                    "4": "OPEN",
                                    "5": "99828",
                                    "6": "NULL",
                                    "7": "Table_8c92dbd39040490a8eae0c6877992248_26",
                                    "8": "2021-08-22 18:58:29.920"
                                },
                                {
                                    "0": "FactFinance100m",
                                    "1": "3",
                                    "2": "1",
                                    "3": "3",
                                    "4": "COMPRESSED",
                                    "5": "999960",
                                    "6": "REORG",
                                    "7": "Table_8c92dbd39040490a8eae0c6877992248_27",
                                    "8": "2021-08-22 18:50:08.670"
                                },
                                {
                                    "0": "FactFinance100m",
                                    "1": "4",
                                    "2": "1",
                                    "3": "1",
                                    "4": "OPEN",
                                    "5": "99828",
                                    "6": "NULL",
                                    "7": "Table_8c92dbd39040490a8eae0c6877992248_28",
                                    "8": "2021-08-22 18:58:27.680"
                                },
                                {
                                    "0": "FactFinance100m",
                                    "1": "4",
                                    "2": "1",
                                    "3": "1",
                                    "4": "OPEN",
                                    "5": "99828",
                                    "6": "NULL",
                                    "7": "Table_8c92dbd39040490a8eae0c6877992248_29",
                                    "8": "2021-08-22 18:58:27.480"
                                },
                                {
                                    "0": "FactFinance100m",
                                    "1": "3",
                                    "2": "1",
                                    "3": "3",
                                    "4": "COMPRESSED",
                                    "5": "999960",
                                    "6": "REORG",
                                    "7": "Table_8c92dbd39040490a8eae0c6877992248_30",
                                    "8": "2021-08-22 18:50:12.280"
                                },
                                {
                                    "0": "FactFinance100m",
                                    "1": "4",
                                    "2": "1",
                                    "3": "1",
                                    "4": "OPEN",
                                    "5": "99828",
                                    "6": "NULL",
                                    "7": "Table_8c92dbd39040490a8eae0c6877992248_31",
                                    "8": "2021-08-22 18:58:27.573"
                                },
                                {
                                    "0": "FactFinance100m",
                                    "1": "4",
                                    "2": "1",
                                    "3": "1",
                                    "4": "OPEN",
                                    "5": "99828",
                                    "6": "NULL",
                                    "7": "Table_8c92dbd39040490a8eae0c6877992248_32",
                                    "8": "2021-08-22 18:58:29.950"
                                },
                                {
                                    "0": "FactFinance100m",
                                    "1": "4",
                                    "2": "1",
                                    "3": "1",
                                    "4": "OPEN",
                                    "5": "99828",
                                    "6": "NULL",
                                    "7": "Table_8c92dbd39040490a8eae0c6877992248_33",
                                    "8": "2021-08-22 18:58:29.050"
                                },
                                {
                                    "0": "FactFinance100m",
                                    "1": "4",
                                    "2": "1",
                                    "3": "1",
                                    "4": "OPEN",
                                    "5": "99828",
                                    "6": "NULL",
                                    "7": "Table_8c92dbd39040490a8eae0c6877992248_34",
                                    "8": "2021-08-22 18:58:27.413"
                                },
                                {
                                    "0": "FactFinance100m",
                                    "1": "4",
                                    "2": "1",
                                    "3": "1",
                                    "4": "OPEN",
                                    "5": "99828",
                                    "6": "NULL",
                                    "7": "Table_8c92dbd39040490a8eae0c6877992248_35",
                                    "8": "2021-08-22 18:58:27.357"
                                },
                                {
                                    "0": "FactFinance100m",
                                    "1": "4",
                                    "2": "1",
                                    "3": "1",
                                    "4": "OPEN",
                                    "5": "99828",
                                    "6": "NULL",
                                    "7": "Table_8c92dbd39040490a8eae0c6877992248_36",
                                    "8": "2021-08-22 18:58:27.693"
                                },
                                {
                                    "0": "FactFinance100m",
                                    "1": "4",
                                    "2": "1",
                                    "3": "1",
                                    "4": "OPEN",
                                    "5": "99828",
                                    "6": "NULL",
                                    "7": "Table_8c92dbd39040490a8eae0c6877992248_37",
                                    "8": "2021-08-22 18:58:29.217"
                                },
                                {
                                    "0": "FactFinance100m",
                                    "1": "4",
                                    "2": "1",
                                    "3": "1",
                                    "4": "OPEN",
                                    "5": "99828",
                                    "6": "NULL",
                                    "7": "Table_8c92dbd39040490a8eae0c6877992248_38",
                                    "8": "2021-08-22 18:58:27.580"
                                },
                                {
                                    "0": "FactFinance100m",
                                    "1": "4",
                                    "2": "1",
                                    "3": "1",
                                    "4": "OPEN",
                                    "5": "99828",
                                    "6": "NULL",
                                    "7": "Table_8c92dbd39040490a8eae0c6877992248_39",
                                    "8": "2021-08-22 18:58:26.900"
                                },
                                {
                                    "0": "FactFinance100m",
                                    "1": "4",
                                    "2": "1",
                                    "3": "1",
                                    "4": "OPEN",
                                    "5": "99828",
                                    "6": "NULL",
                                    "7": "Table_8c92dbd39040490a8eae0c6877992248_40",
                                    "8": "2021-08-22 18:58:25.750"
                                },
                                {
                                    "0": "FactFinance100m",
                                    "1": "4",
                                    "2": "1",
                                    "3": "1",
                                    "4": "OPEN",
                                    "5": "99828",
                                    "6": "NULL",
                                    "7": "Table_8c92dbd39040490a8eae0c6877992248_41",
                                    "8": "2021-08-22 18:58:26.940"
                                },
                                {
                                    "0": "FactFinance100m",
                                    "1": "4",
                                    "2": "1",
                                    "3": "1",
                                    "4": "OPEN",
                                    "5": "99828",
                                    "6": "NULL",
                                    "7": "Table_8c92dbd39040490a8eae0c6877992248_42",
                                    "8": "2021-08-22 18:58:27.680"
                                },
                                {
                                    "0": "FactFinance100m",
                                    "1": "4",
                                    "2": "1",
                                    "3": "1",
                                    "4": "OPEN",
                                    "5": "99828",
                                    "6": "NULL",
                                    "7": "Table_8c92dbd39040490a8eae0c6877992248_43",
                                    "8": "2021-08-22 18:58:29.960"
                                },
                                {
                                    "0": "FactFinance100m",
                                    "1": "4",
                                    "2": "1",
                                    "3": "1",
                                    "4": "OPEN",
                                    "5": "99828",
                                    "6": "NULL",
                                    "7": "Table_8c92dbd39040490a8eae0c6877992248_44",
                                    "8": "2021-08-22 18:58:29.950"
                                },
                                {
                                    "0": "FactFinance100m",
                                    "1": "4",
                                    "2": "1",
                                    "3": "1",
                                    "4": "OPEN",
                                    "5": "99828",
                                    "6": "NULL",
                                    "7": "Table_8c92dbd39040490a8eae0c6877992248_45",
                                    "8": "2021-08-22 18:58:27.667"
                                },
                                {
                                    "0": "FactFinance100m",
                                    "1": "4",
                                    "2": "1",
                                    "3": "1",
                                    "4": "OPEN",
                                    "5": "99828",
                                    "6": "NULL",
                                    "7": "Table_8c92dbd39040490a8eae0c6877992248_46",
                                    "8": "2021-08-22 18:58:26.930"
                                },
                                {
                                    "0": "FactFinance100m",
                                    "1": "4",
                                    "2": "1",
                                    "3": "1",
                                    "4": "OPEN",
                                    "5": "99828",
                                    "6": "NULL",
                                    "7": "Table_8c92dbd39040490a8eae0c6877992248_47",
                                    "8": "2021-08-22 18:58:27.550"
                                },
                                {
                                    "0": "FactFinance100m",
                                    "1": "4",
                                    "2": "1",
                                    "3": "1",
                                    "4": "OPEN",
                                    "5": "99828",
                                    "6": "NULL",
                                    "7": "Table_8c92dbd39040490a8eae0c6877992248_48",
                                    "8": "2021-08-22 18:58:28.063"
                                },
                                {
                                    "0": "FactFinance100m",
                                    "1": "4",
                                    "2": "1",
                                    "3": "1",
                                    "4": "OPEN",
                                    "5": "99828",
                                    "6": "NULL",
                                    "7": "Table_8c92dbd39040490a8eae0c6877992248_49",
                                    "8": "2021-08-22 18:58:26.890"
                                },
                                {
                                    "0": "FactFinance100m",
                                    "1": "4",
                                    "2": "1",
                                    "3": "1",
                                    "4": "OPEN",
                                    "5": "99828",
                                    "6": "NULL",
                                    "7": "Table_8c92dbd39040490a8eae0c6877992248_50",
                                    "8": "2021-08-22 18:58:29.220"
                                },
                                {
                                    "0": "FactFinance100m",
                                    "1": "4",
                                    "2": "1",
                                    "3": "1",
                                    "4": "OPEN",
                                    "5": "99828",
                                    "6": "NULL",
                                    "7": "Table_8c92dbd39040490a8eae0c6877992248_51",
                                    "8": "2021-08-22 18:58:27.693"
                                },
                                {
                                    "0": "FactFinance100m",
                                    "1": "4",
                                    "2": "1",
                                    "3": "1",
                                    "4": "OPEN",
                                    "5": "99828",
                                    "6": "NULL",
                                    "7": "Table_8c92dbd39040490a8eae0c6877992248_52",
                                    "8": "2021-08-22 18:58:27.570"
                                },
                                {
                                    "0": "FactFinance100m",
                                    "1": "4",
                                    "2": "1",
                                    "3": "1",
                                    "4": "OPEN",
                                    "5": "99828",
                                    "6": "NULL",
                                    "7": "Table_8c92dbd39040490a8eae0c6877992248_53",
                                    "8": "2021-08-22 18:58:26.913"
                                },
                                {
                                    "0": "FactFinance100m",
                                    "1": "4",
                                    "2": "1",
                                    "3": "1",
                                    "4": "OPEN",
                                    "5": "99828",
                                    "6": "NULL",
                                    "7": "Table_8c92dbd39040490a8eae0c6877992248_54",
                                    "8": "2021-08-22 18:58:26.360"
                                },
                                {
                                    "0": "FactFinance100m",
                                    "1": "4",
                                    "2": "1",
                                    "3": "1",
                                    "4": "OPEN",
                                    "5": "99828",
                                    "6": "NULL",
                                    "7": "Table_8c92dbd39040490a8eae0c6877992248_55",
                                    "8": "2021-08-22 18:58:27.683"
                                },
                                {
                                    "0": "FactFinance100m",
                                    "1": "4",
                                    "2": "1",
                                    "3": "1",
                                    "4": "OPEN",
                                    "5": "99828",
                                    "6": "NULL",
                                    "7": "Table_8c92dbd39040490a8eae0c6877992248_56",
                                    "8": "2021-08-22 18:58:27.570"
                                },
                                {
                                    "0": "FactFinance100m",
                                    "1": "4",
                                    "2": "1",
                                    "3": "1",
                                    "4": "OPEN",
                                    "5": "99828",
                                    "6": "NULL",
                                    "7": "Table_8c92dbd39040490a8eae0c6877992248_57",
                                    "8": "2021-08-22 18:58:30.020"
                                },
                                {
                                    "0": "FactFinance100m",
                                    "1": "3",
                                    "2": "1",
                                    "3": "3",
                                    "4": "COMPRESSED",
                                    "5": "999960",
                                    "6": "REORG",
                                    "7": "Table_8c92dbd39040490a8eae0c6877992248_58",
                                    "8": "2021-08-22 18:50:13.610"
                                },
                                {
                                    "0": "FactFinance100m",
                                    "1": "4",
                                    "2": "1",
                                    "3": "1",
                                    "4": "OPEN",
                                    "5": "100392",
                                    "6": "NULL",
                                    "7": "Table_8c92dbd39040490a8eae0c6877992248_59",
                                    "8": "2021-08-22 18:58:27.420"
                                },
                                {
                                    "0": "FactFinance100m",
                                    "1": "4",
                                    "2": "1",
                                    "3": "1",
                                    "4": "OPEN",
                                    "5": "100392",
                                    "6": "NULL",
                                    "7": "Table_8c92dbd39040490a8eae0c6877992248_60",
                                    "8": "2021-08-22 18:58:29.280"
                                },
                                {
                                    "0": "FactFinance100m",
                                    "1": "3",
                                    "2": "1",
                                    "3": "3",
                                    "4": "COMPRESSED",
                                    "5": "999960",
                                    "6": "REORG",
                                    "7": "Table_8c92dbd39040490a8eae0c6877992248_1",
                                    "8": "2021-08-22 18:50:12.597"
                                },
                                {
                                    "0": "FactFinance100m",
                                    "1": "3",
                                    "2": "1",
                                    "3": "3",
                                    "4": "COMPRESSED",
                                    "5": "999960",
                                    "6": "REORG",
                                    "7": "Table_8c92dbd39040490a8eae0c6877992248_2",
                                    "8": "2021-08-22 18:50:10.677"
                                },
                                {
                                    "0": "FactFinance100m",
                                    "1": "3",
                                    "2": "1",
                                    "3": "3",
                                    "4": "COMPRESSED",
                                    "5": "1000520",
                                    "6": "REORG",
                                    "7": "Table_8c92dbd39040490a8eae0c6877992248_3",
                                    "8": "2021-08-22 18:50:15.077"
                                },
                                {
                                    "0": "FactFinance100m",
                                    "1": "3",
                                    "2": "1",
                                    "3": "3",
                                    "4": "COMPRESSED",
                                    "5": "1000520",
                                    "6": "REORG",
                                    "7": "Table_8c92dbd39040490a8eae0c6877992248_4",
                                    "8": "2021-08-22 18:50:13.157"
                                },
                                {
                                    "0": "FactFinance100m",
                                    "1": "3",
                                    "2": "1",
                                    "3": "3",
                                    "4": "COMPRESSED",
                                    "5": "999960",
                                    "6": "REORG",
                                    "7": "Table_8c92dbd39040490a8eae0c6877992248_5",
                                    "8": "2021-08-22 18:50:09.270"
                                },
                                {
                                    "0": "FactFinance100m",
                                    "1": "3",
                                    "2": "1",
                                    "3": "3",
                                    "4": "COMPRESSED",
                                    "5": "999960",
                                    "6": "REORG",
                                    "7": "Table_8c92dbd39040490a8eae0c6877992248_6",
                                    "8": "2021-08-22 18:50:08.450"
                                },
                                {
                                    "0": "FactFinance100m",
                                    "1": "3",
                                    "2": "1",
                                    "3": "3",
                                    "4": "COMPRESSED",
                                    "5": "999960",
                                    "6": "REORG",
                                    "7": "Table_8c92dbd39040490a8eae0c6877992248_7",
                                    "8": "2021-08-22 18:50:12.277"
                                },
                                {
                                    "0": "FactFinance100m",
                                    "1": "3",
                                    "2": "1",
                                    "3": "3",
                                    "4": "COMPRESSED",
                                    "5": "999960",
                                    "6": "REORG",
                                    "7": "Table_8c92dbd39040490a8eae0c6877992248_8",
                                    "8": "2021-08-22 18:50:13.150"
                                },
                                {
                                    "0": "FactFinance100m",
                                    "1": "3",
                                    "2": "1",
                                    "3": "3",
                                    "4": "COMPRESSED",
                                    "5": "999960",
                                    "6": "REORG",
                                    "7": "Table_8c92dbd39040490a8eae0c6877992248_9",
                                    "8": "2021-08-22 18:50:12.790"
                                },
                                {
                                    "0": "FactFinance100m",
                                    "1": "3",
                                    "2": "1",
                                    "3": "3",
                                    "4": "COMPRESSED",
                                    "5": "999960",
                                    "6": "REORG",
                                    "7": "Table_8c92dbd39040490a8eae0c6877992248_10",
                                    "8": "2021-08-22 18:50:17.007"
                                },
                                {
                                    "0": "FactFinance100m",
                                    "1": "3",
                                    "2": "1",
                                    "3": "3",
                                    "4": "COMPRESSED",
                                    "5": "999960",
                                    "6": "REORG",
                                    "7": "Table_8c92dbd39040490a8eae0c6877992248_11",
                                    "8": "2021-08-22 18:50:09.960"
                                },
                                {
                                    "0": "FactFinance100m",
                                    "1": "3",
                                    "2": "1",
                                    "3": "3",
                                    "4": "COMPRESSED",
                                    "5": "999960",
                                    "6": "REORG",
                                    "7": "Table_8c92dbd39040490a8eae0c6877992248_12",
                                    "8": "2021-08-22 18:50:10.710"
                                },
                                {
                                    "0": "FactFinance100m",
                                    "1": "3",
                                    "2": "1",
                                    "3": "3",
                                    "4": "COMPRESSED",
                                    "5": "999960",
                                    "6": "REORG",
                                    "7": "Table_8c92dbd39040490a8eae0c6877992248_13",
                                    "8": "2021-08-22 18:50:12.533"
                                },
                                {
                                    "0": "FactFinance100m",
                                    "1": "3",
                                    "2": "1",
                                    "3": "3",
                                    "4": "COMPRESSED",
                                    "5": "999960",
                                    "6": "REORG",
                                    "7": "Table_8c92dbd39040490a8eae0c6877992248_14",
                                    "8": "2021-08-22 18:50:12.020"
                                },
                                {
                                    "0": "FactFinance100m",
                                    "1": "3",
                                    "2": "1",
                                    "3": "3",
                                    "4": "COMPRESSED",
                                    "5": "999960",
                                    "6": "REORG",
                                    "7": "Table_8c92dbd39040490a8eae0c6877992248_15",
                                    "8": "2021-08-22 18:50:14.883"
                                },
                                {
                                    "0": "FactFinance100m",
                                    "1": "3",
                                    "2": "1",
                                    "3": "3",
                                    "4": "COMPRESSED",
                                    "5": "999960",
                                    "6": "REORG",
                                    "7": "Table_8c92dbd39040490a8eae0c6877992248_16",
                                    "8": "2021-08-22 18:50:15.103"
                                },
                                {
                                    "0": "FactFinance100m",
                                    "1": "3",
                                    "2": "1",
                                    "3": "3",
                                    "4": "COMPRESSED",
                                    "5": "999960",
                                    "6": "REORG",
                                    "7": "Table_8c92dbd39040490a8eae0c6877992248_17",
                                    "8": "2021-08-22 18:50:15.113"
                                },
                                {
                                    "0": "FactFinance100m",
                                    "1": "4",
                                    "2": "1",
                                    "3": "1",
                                    "4": "OPEN",
                                    "5": "99828",
                                    "6": "NULL",
                                    "7": "Table_8c92dbd39040490a8eae0c6877992248_18",
                                    "8": "2021-08-22 18:58:27.463"
                                },
                                {
                                    "0": "FactFinance100m",
                                    "1": "3",
                                    "2": "1",
                                    "3": "3",
                                    "4": "COMPRESSED",
                                    "5": "999960",
                                    "6": "REORG",
                                    "7": "Table_8c92dbd39040490a8eae0c6877992248_19",
                                    "8": "2021-08-22 18:50:13.360"
                                },
                                {
                                    "0": "FactFinance100m",
                                    "1": "4",
                                    "2": "1",
                                    "3": "1",
                                    "4": "OPEN",
                                    "5": "99828",
                                    "6": "NULL",
                                    "7": "Table_8c92dbd39040490a8eae0c6877992248_20",
                                    "8": "2021-08-22 18:58:27.440"
                                },
                                {
                                    "0": "FactFinance100m",
                                    "1": "3",
                                    "2": "1",
                                    "3": "3",
                                    "4": "COMPRESSED",
                                    "5": "999960",
                                    "6": "REORG",
                                    "7": "Table_8c92dbd39040490a8eae0c6877992248_21",
                                    "8": "2021-08-22 18:50:11.873"
                                },
                                {
                                    "0": "FactFinance100m",
                                    "1": "3",
                                    "2": "1",
                                    "3": "3",
                                    "4": "COMPRESSED",
                                    "5": "999960",
                                    "6": "REORG",
                                    "7": "Table_8c92dbd39040490a8eae0c6877992248_22",
                                    "8": "2021-08-22 18:50:12.657"
                                },
                                {
                                    "0": "FactFinance100m",
                                    "1": "3",
                                    "2": "1",
                                    "3": "3",
                                    "4": "COMPRESSED",
                                    "5": "999960",
                                    "6": "REORG",
                                    "7": "Table_8c92dbd39040490a8eae0c6877992248_23",
                                    "8": "2021-08-22 18:50:14.880"
                                },
                                {
                                    "0": "FactFinance100m",
                                    "1": "4",
                                    "2": "1",
                                    "3": "1",
                                    "4": "OPEN",
                                    "5": "99828",
                                    "6": "NULL",
                                    "7": "Table_8c92dbd39040490a8eae0c6877992248_24",
                                    "8": "2021-08-22 18:58:27.490"
                                },
                                {
                                    "0": "FactFinance100m",
                                    "1": "3",
                                    "2": "1",
                                    "3": "3",
                                    "4": "COMPRESSED",
                                    "5": "999960",
                                    "6": "REORG",
                                    "7": "Table_8c92dbd39040490a8eae0c6877992248_25",
                                    "8": "2021-08-22 18:50:10.460"
                                },
                                {
                                    "0": "FactFinance100m",
                                    "1": "3",
                                    "2": "1",
                                    "3": "3",
                                    "4": "COMPRESSED",
                                    "5": "999960",
                                    "6": "REORG",
                                    "7": "Table_8c92dbd39040490a8eae0c6877992248_26",
                                    "8": "2021-08-22 18:50:10.380"
                                },
                                {
                                    "0": "FactFinance100m",
                                    "1": "4",
                                    "2": "1",
                                    "3": "1",
                                    "4": "OPEN",
                                    "5": "99828",
                                    "6": "NULL",
                                    "7": "Table_8c92dbd39040490a8eae0c6877992248_27",
                                    "8": "2021-08-22 18:58:27.443"
                                },
                                {
                                    "0": "FactFinance100m",
                                    "1": "3",
                                    "2": "1",
                                    "3": "3",
                                    "4": "COMPRESSED",
                                    "5": "999960",
                                    "6": "REORG",
                                    "7": "Table_8c92dbd39040490a8eae0c6877992248_28",
                                    "8": "2021-08-22 18:50:15.160"
                                },
                                {
                                    "0": "FactFinance100m",
                                    "1": "3",
                                    "2": "1",
                                    "3": "3",
                                    "4": "COMPRESSED",
                                    "5": "999960",
                                    "6": "REORG",
                                    "7": "Table_8c92dbd39040490a8eae0c6877992248_29",
                                    "8": "2021-08-22 18:50:16.570"
                                },
                                {
                                    "0": "FactFinance100m",
                                    "1": "4",
                                    "2": "1",
                                    "3": "1",
                                    "4": "OPEN",
                                    "5": "99828",
                                    "6": "NULL",
                                    "7": "Table_8c92dbd39040490a8eae0c6877992248_30",
                                    "8": "2021-08-22 18:58:28.110"
                                },
                                {
                                    "0": "FactFinance100m",
                                    "1": "3",
                                    "2": "1",
                                    "3": "3",
                                    "4": "COMPRESSED",
                                    "5": "999960",
                                    "6": "REORG",
                                    "7": "Table_8c92dbd39040490a8eae0c6877992248_31",
                                    "8": "2021-08-22 18:50:12.483"
                                },
                                {
                                    "0": "FactFinance100m",
                                    "1": "3",
                                    "2": "1",
                                    "3": "3",
                                    "4": "COMPRESSED",
                                    "5": "999960",
                                    "6": "REORG",
                                    "7": "Table_8c92dbd39040490a8eae0c6877992248_32",
                                    "8": "2021-08-22 18:50:13.127"
                                },
                                {
                                    "0": "FactFinance100m",
                                    "1": "3",
                                    "2": "1",
                                    "3": "3",
                                    "4": "COMPRESSED",
                                    "5": "999960",
                                    "6": "REORG",
                                    "7": "Table_8c92dbd39040490a8eae0c6877992248_33",
                                    "8": "2021-08-22 18:50:11.800"
                                },
                                {
                                    "0": "FactFinance100m",
                                    "1": "3",
                                    "2": "1",
                                    "3": "3",
                                    "4": "COMPRESSED",
                                    "5": "999960",
                                    "6": "REORG",
                                    "7": "Table_8c92dbd39040490a8eae0c6877992248_34",
                                    "8": "2021-08-22 18:50:12.337"
                                },
                                {
                                    "0": "FactFinance100m",
                                    "1": "3",
                                    "2": "1",
                                    "3": "3",
                                    "4": "COMPRESSED",
                                    "5": "999960",
                                    "6": "REORG",
                                    "7": "Table_8c92dbd39040490a8eae0c6877992248_35",
                                    "8": "2021-08-22 18:50:13.823"
                                },
                                {
                                    "0": "FactFinance100m",
                                    "1": "3",
                                    "2": "1",
                                    "3": "3",
                                    "4": "COMPRESSED",
                                    "5": "999960",
                                    "6": "REORG",
                                    "7": "Table_8c92dbd39040490a8eae0c6877992248_36",
                                    "8": "2021-08-22 18:50:12.600"
                                },
                                {
                                    "0": "FactFinance100m",
                                    "1": "3",
                                    "2": "1",
                                    "3": "3",
                                    "4": "COMPRESSED",
                                    "5": "999960",
                                    "6": "REORG",
                                    "7": "Table_8c92dbd39040490a8eae0c6877992248_37",
                                    "8": "2021-08-22 18:50:12.817"
                                },
                                {
                                    "0": "FactFinance100m",
                                    "1": "3",
                                    "2": "1",
                                    "3": "3",
                                    "4": "COMPRESSED",
                                    "5": "999960",
                                    "6": "REORG",
                                    "7": "Table_8c92dbd39040490a8eae0c6877992248_38",
                                    "8": "2021-08-22 18:50:16.987"
                                },
                                {
                                    "0": "FactFinance100m",
                                    "1": "3",
                                    "2": "1",
                                    "3": "3",
                                    "4": "COMPRESSED",
                                    "5": "999960",
                                    "6": "REORG",
                                    "7": "Table_8c92dbd39040490a8eae0c6877992248_39",
                                    "8": "2021-08-22 18:50:17.017"
                                },
                                {
                                    "0": "FactFinance100m",
                                    "1": "3",
                                    "2": "1",
                                    "3": "3",
                                    "4": "COMPRESSED",
                                    "5": "999960",
                                    "6": "REORG",
                                    "7": "Table_8c92dbd39040490a8eae0c6877992248_40",
                                    "8": "2021-08-22 18:50:10.850"
                                },
                                {
                                    "0": "FactFinance100m",
                                    "1": "3",
                                    "2": "1",
                                    "3": "3",
                                    "4": "COMPRESSED",
                                    "5": "999960",
                                    "6": "REORG",
                                    "7": "Table_8c92dbd39040490a8eae0c6877992248_41",
                                    "8": "2021-08-22 18:50:10.143"
                                },
                                {
                                    "0": "FactFinance100m",
                                    "1": "3",
                                    "2": "1",
                                    "3": "3",
                                    "4": "COMPRESSED",
                                    "5": "999960",
                                    "6": "REORG",
                                    "7": "Table_8c92dbd39040490a8eae0c6877992248_42",
                                    "8": "2021-08-22 18:50:13.740"
                                },
                                {
                                    "0": "FactFinance100m",
                                    "1": "3",
                                    "2": "1",
                                    "3": "3",
                                    "4": "COMPRESSED",
                                    "5": "999960",
                                    "6": "REORG",
                                    "7": "Table_8c92dbd39040490a8eae0c6877992248_43",
                                    "8": "2021-08-22 18:50:13.660"
                                },
                                {
                                    "0": "FactFinance100m",
                                    "1": "3",
                                    "2": "1",
                                    "3": "3",
                                    "4": "COMPRESSED",
                                    "5": "999960",
                                    "6": "REORG",
                                    "7": "Table_8c92dbd39040490a8eae0c6877992248_44",
                                    "8": "2021-08-22 18:50:13.723"
                                },
                                {
                                    "0": "FactFinance100m",
                                    "1": "3",
                                    "2": "1",
                                    "3": "3",
                                    "4": "COMPRESSED",
                                    "5": "999960",
                                    "6": "REORG",
                                    "7": "Table_8c92dbd39040490a8eae0c6877992248_45",
                                    "8": "2021-08-22 18:50:15.097"
                                },
                                {
                                    "0": "FactFinance100m",
                                    "1": "3",
                                    "2": "1",
                                    "3": "3",
                                    "4": "COMPRESSED",
                                    "5": "999960",
                                    "6": "REORG",
                                    "7": "Table_8c92dbd39040490a8eae0c6877992248_46",
                                    "8": "2021-08-22 18:50:09.893"
                                },
                                {
                                    "0": "FactFinance100m",
                                    "1": "3",
                                    "2": "1",
                                    "3": "3",
                                    "4": "COMPRESSED",
                                    "5": "1000456",
                                    "6": "REORG",
                                    "7": "Table_8c92dbd39040490a8eae0c6877992248_47",
                                    "8": "2021-08-22 18:50:08.703"
                                },
                                {
                                    "0": "FactFinance100m",
                                    "1": "3",
                                    "2": "1",
                                    "3": "3",
                                    "4": "COMPRESSED",
                                    "5": "1000456",
                                    "6": "REORG",
                                    "7": "Table_8c92dbd39040490a8eae0c6877992248_48",
                                    "8": "2021-08-22 18:50:11.240"
                                },
                                {
                                    "0": "FactFinance100m",
                                    "1": "3",
                                    "2": "1",
                                    "3": "3",
                                    "4": "COMPRESSED",
                                    "5": "1000248",
                                    "6": "REORG",
                                    "7": "Table_8c92dbd39040490a8eae0c6877992248_49",
                                    "8": "2021-08-22 18:50:09.893"
                                },
                                {
                                    "0": "FactFinance100m",
                                    "1": "3",
                                    "2": "1",
                                    "3": "3",
                                    "4": "COMPRESSED",
                                    "5": "999960",
                                    "6": "REORG",
                                    "7": "Table_8c92dbd39040490a8eae0c6877992248_50",
                                    "8": "2021-08-22 18:50:13.570"
                                },
                                {
                                    "0": "FactFinance100m",
                                    "1": "3",
                                    "2": "1",
                                    "3": "3",
                                    "4": "COMPRESSED",
                                    "5": "999960",
                                    "6": "REORG",
                                    "7": "Table_8c92dbd39040490a8eae0c6877992248_51",
                                    "8": "2021-08-22 18:50:16.540"
                                },
                                {
                                    "0": "FactFinance100m",
                                    "1": "3",
                                    "2": "1",
                                    "3": "3",
                                    "4": "COMPRESSED",
                                    "5": "999960",
                                    "6": "REORG",
                                    "7": "Table_8c92dbd39040490a8eae0c6877992248_52",
                                    "8": "2021-08-22 18:50:08.593"
                                },
                                {
                                    "0": "FactFinance100m",
                                    "1": "3",
                                    "2": "1",
                                    "3": "3",
                                    "4": "COMPRESSED",
                                    "5": "999960",
                                    "6": "REORG",
                                    "7": "Table_8c92dbd39040490a8eae0c6877992248_53",
                                    "8": "2021-08-22 18:50:13.137"
                                },
                                {
                                    "0": "FactFinance100m",
                                    "1": "3",
                                    "2": "1",
                                    "3": "3",
                                    "4": "COMPRESSED",
                                    "5": "999960",
                                    "6": "REORG",
                                    "7": "Table_8c92dbd39040490a8eae0c6877992248_54",
                                    "8": "2021-08-22 18:50:10.640"
                                },
                                {
                                    "0": "FactFinance100m",
                                    "1": "3",
                                    "2": "1",
                                    "3": "3",
                                    "4": "COMPRESSED",
                                    "5": "999960",
                                    "6": "REORG",
                                    "7": "Table_8c92dbd39040490a8eae0c6877992248_55",
                                    "8": "2021-08-22 18:50:06.080"
                                },
                                {
                                    "0": "FactFinance100m",
                                    "1": "3",
                                    "2": "1",
                                    "3": "3",
                                    "4": "COMPRESSED",
                                    "5": "999960",
                                    "6": "REORG",
                                    "7": "Table_8c92dbd39040490a8eae0c6877992248_56",
                                    "8": "2021-08-22 18:50:16.710"
                                },
                                {
                                    "0": "FactFinance100m",
                                    "1": "3",
                                    "2": "1",
                                    "3": "3",
                                    "4": "COMPRESSED",
                                    "5": "999960",
                                    "6": "REORG",
                                    "7": "Table_8c92dbd39040490a8eae0c6877992248_57",
                                    "8": "2021-08-22 18:50:09.717"
                                },
                                {
                                    "0": "FactFinance100m",
                                    "1": "4",
                                    "2": "1",
                                    "3": "1",
                                    "4": "OPEN",
                                    "5": "100392",
                                    "6": "NULL",
                                    "7": "Table_8c92dbd39040490a8eae0c6877992248_58",
                                    "8": "2021-08-22 18:58:26.880"
                                },
                                {
                                    "0": "FactFinance100m",
                                    "1": "3",
                                    "2": "1",
                                    "3": "3",
                                    "4": "COMPRESSED",
                                    "5": "999960",
                                    "6": "REORG",
                                    "7": "Table_8c92dbd39040490a8eae0c6877992248_59",
                                    "8": "2021-08-22 18:50:12.453"
                                },
                                {
                                    "0": "FactFinance100m",
                                    "1": "3",
                                    "2": "1",
                                    "3": "3",
                                    "4": "COMPRESSED",
                                    "5": "999960",
                                    "6": "REORG",
                                    "7": "Table_8c92dbd39040490a8eae0c6877992248_60",
                                    "8": "2021-08-22 18:50:12.423"
                                }
                            ]
                        },
                        "text/html": [
                            "<table>",
                            "<tr><th>logical_table_name</th><th>row_group_id</th><th>partition_number</th><th>state</th><th>state_desc</th><th>total_rows</th><th>trim_reason_desc</th><th>physical_name</th><th>created_time</th></tr>",
                            "<tr><td>FactFinance100m</td><td>4</td><td>1</td><td>1</td><td>OPEN</td><td>100392</td><td>NULL</td><td>Table_8c92dbd39040490a8eae0c6877992248_1</td><td>2021-08-22 18:58:28.080</td></tr>",
                            "<tr><td>FactFinance100m</td><td>4</td><td>1</td><td>1</td><td>OPEN</td><td>100392</td><td>NULL</td><td>Table_8c92dbd39040490a8eae0c6877992248_2</td><td>2021-08-22 18:58:29.160</td></tr>",
                            "<tr><td>FactFinance100m</td><td>4</td><td>1</td><td>1</td><td>OPEN</td><td>100392</td><td>NULL</td><td>Table_8c92dbd39040490a8eae0c6877992248_3</td><td>2021-08-22 18:58:29.310</td></tr>",
                            "<tr><td>FactFinance100m</td><td>4</td><td>1</td><td>1</td><td>OPEN</td><td>100392</td><td>NULL</td><td>Table_8c92dbd39040490a8eae0c6877992248_4</td><td>2021-08-22 18:58:29.997</td></tr>",
                            "<tr><td>FactFinance100m</td><td>4</td><td>1</td><td>1</td><td>OPEN</td><td>100392</td><td>NULL</td><td>Table_8c92dbd39040490a8eae0c6877992248_5</td><td>2021-08-22 18:58:26.863</td></tr>",
                            "<tr><td>FactFinance100m</td><td>4</td><td>1</td><td>1</td><td>OPEN</td><td>100392</td><td>NULL</td><td>Table_8c92dbd39040490a8eae0c6877992248_6</td><td>2021-08-22 18:58:29.273</td></tr>",
                            "<tr><td>FactFinance100m</td><td>4</td><td>1</td><td>1</td><td>OPEN</td><td>100392</td><td>NULL</td><td>Table_8c92dbd39040490a8eae0c6877992248_7</td><td>2021-08-22 18:58:29.947</td></tr>",
                            "<tr><td>FactFinance100m</td><td>4</td><td>1</td><td>1</td><td>OPEN</td><td>100392</td><td>NULL</td><td>Table_8c92dbd39040490a8eae0c6877992248_8</td><td>2021-08-22 18:58:26.360</td></tr>",
                            "<tr><td>FactFinance100m</td><td>4</td><td>1</td><td>1</td><td>OPEN</td><td>100392</td><td>NULL</td><td>Table_8c92dbd39040490a8eae0c6877992248_9</td><td>2021-08-22 18:58:28.737</td></tr>",
                            "<tr><td>FactFinance100m</td><td>4</td><td>1</td><td>1</td><td>OPEN</td><td>100392</td><td>NULL</td><td>Table_8c92dbd39040490a8eae0c6877992248_10</td><td>2021-08-22 18:58:27.507</td></tr>",
                            "<tr><td>FactFinance100m</td><td>4</td><td>1</td><td>1</td><td>OPEN</td><td>100392</td><td>NULL</td><td>Table_8c92dbd39040490a8eae0c6877992248_11</td><td>2021-08-22 18:58:29.973</td></tr>",
                            "<tr><td>FactFinance100m</td><td>4</td><td>1</td><td>1</td><td>OPEN</td><td>100392</td><td>NULL</td><td>Table_8c92dbd39040490a8eae0c6877992248_12</td><td>2021-08-22 18:58:26.940</td></tr>",
                            "<tr><td>FactFinance100m</td><td>4</td><td>1</td><td>1</td><td>OPEN</td><td>100392</td><td>NULL</td><td>Table_8c92dbd39040490a8eae0c6877992248_13</td><td>2021-08-22 18:58:27.463</td></tr>",
                            "<tr><td>FactFinance100m</td><td>4</td><td>1</td><td>1</td><td>OPEN</td><td>100392</td><td>NULL</td><td>Table_8c92dbd39040490a8eae0c6877992248_14</td><td>2021-08-22 18:58:29.307</td></tr>",
                            "<tr><td>FactFinance100m</td><td>4</td><td>1</td><td>1</td><td>OPEN</td><td>100392</td><td>NULL</td><td>Table_8c92dbd39040490a8eae0c6877992248_15</td><td>2021-08-22 18:58:29.963</td></tr>",
                            "<tr><td>FactFinance100m</td><td>4</td><td>1</td><td>1</td><td>OPEN</td><td>99996</td><td>NULL</td><td>Table_8c92dbd39040490a8eae0c6877992248_16</td><td>2021-08-22 18:58:27.630</td></tr>",
                            "<tr><td>FactFinance100m</td><td>4</td><td>1</td><td>1</td><td>OPEN</td><td>99828</td><td>NULL</td><td>Table_8c92dbd39040490a8eae0c6877992248_17</td><td>2021-08-22 18:58:27.500</td></tr>",
                            "<tr><td>FactFinance100m</td><td>3</td><td>1</td><td>3</td><td>COMPRESSED</td><td>999960</td><td>REORG</td><td>Table_8c92dbd39040490a8eae0c6877992248_18</td><td>2021-08-22 18:50:16.987</td></tr>",
                            "<tr><td>FactFinance100m</td><td>4</td><td>1</td><td>1</td><td>OPEN</td><td>99828</td><td>NULL</td><td>Table_8c92dbd39040490a8eae0c6877992248_19</td><td>2021-08-22 18:58:26.853</td></tr>",
                            "<tr><td>FactFinance100m</td><td>3</td><td>1</td><td>3</td><td>COMPRESSED</td><td>999960</td><td>REORG</td><td>Table_8c92dbd39040490a8eae0c6877992248_20</td><td>2021-08-22 18:50:13.823</td></tr>",
                            "<tr><td>FactFinance100m</td><td>4</td><td>1</td><td>1</td><td>OPEN</td><td>99828</td><td>NULL</td><td>Table_8c92dbd39040490a8eae0c6877992248_21</td><td>2021-08-22 18:58:29.953</td></tr>",
                            "<tr><td>FactFinance100m</td><td>4</td><td>1</td><td>1</td><td>OPEN</td><td>99828</td><td>NULL</td><td>Table_8c92dbd39040490a8eae0c6877992248_22</td><td>2021-08-22 18:58:27.633</td></tr>",
                            "<tr><td>FactFinance100m</td><td>4</td><td>1</td><td>1</td><td>OPEN</td><td>99828</td><td>NULL</td><td>Table_8c92dbd39040490a8eae0c6877992248_23</td><td>2021-08-22 18:58:28.027</td></tr>",
                            "<tr><td>FactFinance100m</td><td>3</td><td>1</td><td>3</td><td>COMPRESSED</td><td>999960</td><td>REORG</td><td>Table_8c92dbd39040490a8eae0c6877992248_24</td><td>2021-08-22 18:50:14.830</td></tr>",
                            "<tr><td>FactFinance100m</td><td>4</td><td>1</td><td>1</td><td>OPEN</td><td>99828</td><td>NULL</td><td>Table_8c92dbd39040490a8eae0c6877992248_25</td><td>2021-08-22 18:58:28.110</td></tr>",
                            "<tr><td>FactFinance100m</td><td>4</td><td>1</td><td>1</td><td>OPEN</td><td>99828</td><td>NULL</td><td>Table_8c92dbd39040490a8eae0c6877992248_26</td><td>2021-08-22 18:58:29.920</td></tr>",
                            "<tr><td>FactFinance100m</td><td>3</td><td>1</td><td>3</td><td>COMPRESSED</td><td>999960</td><td>REORG</td><td>Table_8c92dbd39040490a8eae0c6877992248_27</td><td>2021-08-22 18:50:08.670</td></tr>",
                            "<tr><td>FactFinance100m</td><td>4</td><td>1</td><td>1</td><td>OPEN</td><td>99828</td><td>NULL</td><td>Table_8c92dbd39040490a8eae0c6877992248_28</td><td>2021-08-22 18:58:27.680</td></tr>",
                            "<tr><td>FactFinance100m</td><td>4</td><td>1</td><td>1</td><td>OPEN</td><td>99828</td><td>NULL</td><td>Table_8c92dbd39040490a8eae0c6877992248_29</td><td>2021-08-22 18:58:27.480</td></tr>",
                            "<tr><td>FactFinance100m</td><td>3</td><td>1</td><td>3</td><td>COMPRESSED</td><td>999960</td><td>REORG</td><td>Table_8c92dbd39040490a8eae0c6877992248_30</td><td>2021-08-22 18:50:12.280</td></tr>",
                            "<tr><td>FactFinance100m</td><td>4</td><td>1</td><td>1</td><td>OPEN</td><td>99828</td><td>NULL</td><td>Table_8c92dbd39040490a8eae0c6877992248_31</td><td>2021-08-22 18:58:27.573</td></tr>",
                            "<tr><td>FactFinance100m</td><td>4</td><td>1</td><td>1</td><td>OPEN</td><td>99828</td><td>NULL</td><td>Table_8c92dbd39040490a8eae0c6877992248_32</td><td>2021-08-22 18:58:29.950</td></tr>",
                            "<tr><td>FactFinance100m</td><td>4</td><td>1</td><td>1</td><td>OPEN</td><td>99828</td><td>NULL</td><td>Table_8c92dbd39040490a8eae0c6877992248_33</td><td>2021-08-22 18:58:29.050</td></tr>",
                            "<tr><td>FactFinance100m</td><td>4</td><td>1</td><td>1</td><td>OPEN</td><td>99828</td><td>NULL</td><td>Table_8c92dbd39040490a8eae0c6877992248_34</td><td>2021-08-22 18:58:27.413</td></tr>",
                            "<tr><td>FactFinance100m</td><td>4</td><td>1</td><td>1</td><td>OPEN</td><td>99828</td><td>NULL</td><td>Table_8c92dbd39040490a8eae0c6877992248_35</td><td>2021-08-22 18:58:27.357</td></tr>",
                            "<tr><td>FactFinance100m</td><td>4</td><td>1</td><td>1</td><td>OPEN</td><td>99828</td><td>NULL</td><td>Table_8c92dbd39040490a8eae0c6877992248_36</td><td>2021-08-22 18:58:27.693</td></tr>",
                            "<tr><td>FactFinance100m</td><td>4</td><td>1</td><td>1</td><td>OPEN</td><td>99828</td><td>NULL</td><td>Table_8c92dbd39040490a8eae0c6877992248_37</td><td>2021-08-22 18:58:29.217</td></tr>",
                            "<tr><td>FactFinance100m</td><td>4</td><td>1</td><td>1</td><td>OPEN</td><td>99828</td><td>NULL</td><td>Table_8c92dbd39040490a8eae0c6877992248_38</td><td>2021-08-22 18:58:27.580</td></tr>",
                            "<tr><td>FactFinance100m</td><td>4</td><td>1</td><td>1</td><td>OPEN</td><td>99828</td><td>NULL</td><td>Table_8c92dbd39040490a8eae0c6877992248_39</td><td>2021-08-22 18:58:26.900</td></tr>",
                            "<tr><td>FactFinance100m</td><td>4</td><td>1</td><td>1</td><td>OPEN</td><td>99828</td><td>NULL</td><td>Table_8c92dbd39040490a8eae0c6877992248_40</td><td>2021-08-22 18:58:25.750</td></tr>",
                            "<tr><td>FactFinance100m</td><td>4</td><td>1</td><td>1</td><td>OPEN</td><td>99828</td><td>NULL</td><td>Table_8c92dbd39040490a8eae0c6877992248_41</td><td>2021-08-22 18:58:26.940</td></tr>",
                            "<tr><td>FactFinance100m</td><td>4</td><td>1</td><td>1</td><td>OPEN</td><td>99828</td><td>NULL</td><td>Table_8c92dbd39040490a8eae0c6877992248_42</td><td>2021-08-22 18:58:27.680</td></tr>",
                            "<tr><td>FactFinance100m</td><td>4</td><td>1</td><td>1</td><td>OPEN</td><td>99828</td><td>NULL</td><td>Table_8c92dbd39040490a8eae0c6877992248_43</td><td>2021-08-22 18:58:29.960</td></tr>",
                            "<tr><td>FactFinance100m</td><td>4</td><td>1</td><td>1</td><td>OPEN</td><td>99828</td><td>NULL</td><td>Table_8c92dbd39040490a8eae0c6877992248_44</td><td>2021-08-22 18:58:29.950</td></tr>",
                            "<tr><td>FactFinance100m</td><td>4</td><td>1</td><td>1</td><td>OPEN</td><td>99828</td><td>NULL</td><td>Table_8c92dbd39040490a8eae0c6877992248_45</td><td>2021-08-22 18:58:27.667</td></tr>",
                            "<tr><td>FactFinance100m</td><td>4</td><td>1</td><td>1</td><td>OPEN</td><td>99828</td><td>NULL</td><td>Table_8c92dbd39040490a8eae0c6877992248_46</td><td>2021-08-22 18:58:26.930</td></tr>",
                            "<tr><td>FactFinance100m</td><td>4</td><td>1</td><td>1</td><td>OPEN</td><td>99828</td><td>NULL</td><td>Table_8c92dbd39040490a8eae0c6877992248_47</td><td>2021-08-22 18:58:27.550</td></tr>",
                            "<tr><td>FactFinance100m</td><td>4</td><td>1</td><td>1</td><td>OPEN</td><td>99828</td><td>NULL</td><td>Table_8c92dbd39040490a8eae0c6877992248_48</td><td>2021-08-22 18:58:28.063</td></tr>",
                            "<tr><td>FactFinance100m</td><td>4</td><td>1</td><td>1</td><td>OPEN</td><td>99828</td><td>NULL</td><td>Table_8c92dbd39040490a8eae0c6877992248_49</td><td>2021-08-22 18:58:26.890</td></tr>",
                            "<tr><td>FactFinance100m</td><td>4</td><td>1</td><td>1</td><td>OPEN</td><td>99828</td><td>NULL</td><td>Table_8c92dbd39040490a8eae0c6877992248_50</td><td>2021-08-22 18:58:29.220</td></tr>",
                            "<tr><td>FactFinance100m</td><td>4</td><td>1</td><td>1</td><td>OPEN</td><td>99828</td><td>NULL</td><td>Table_8c92dbd39040490a8eae0c6877992248_51</td><td>2021-08-22 18:58:27.693</td></tr>",
                            "<tr><td>FactFinance100m</td><td>4</td><td>1</td><td>1</td><td>OPEN</td><td>99828</td><td>NULL</td><td>Table_8c92dbd39040490a8eae0c6877992248_52</td><td>2021-08-22 18:58:27.570</td></tr>",
                            "<tr><td>FactFinance100m</td><td>4</td><td>1</td><td>1</td><td>OPEN</td><td>99828</td><td>NULL</td><td>Table_8c92dbd39040490a8eae0c6877992248_53</td><td>2021-08-22 18:58:26.913</td></tr>",
                            "<tr><td>FactFinance100m</td><td>4</td><td>1</td><td>1</td><td>OPEN</td><td>99828</td><td>NULL</td><td>Table_8c92dbd39040490a8eae0c6877992248_54</td><td>2021-08-22 18:58:26.360</td></tr>",
                            "<tr><td>FactFinance100m</td><td>4</td><td>1</td><td>1</td><td>OPEN</td><td>99828</td><td>NULL</td><td>Table_8c92dbd39040490a8eae0c6877992248_55</td><td>2021-08-22 18:58:27.683</td></tr>",
                            "<tr><td>FactFinance100m</td><td>4</td><td>1</td><td>1</td><td>OPEN</td><td>99828</td><td>NULL</td><td>Table_8c92dbd39040490a8eae0c6877992248_56</td><td>2021-08-22 18:58:27.570</td></tr>",
                            "<tr><td>FactFinance100m</td><td>4</td><td>1</td><td>1</td><td>OPEN</td><td>99828</td><td>NULL</td><td>Table_8c92dbd39040490a8eae0c6877992248_57</td><td>2021-08-22 18:58:30.020</td></tr>",
                            "<tr><td>FactFinance100m</td><td>3</td><td>1</td><td>3</td><td>COMPRESSED</td><td>999960</td><td>REORG</td><td>Table_8c92dbd39040490a8eae0c6877992248_58</td><td>2021-08-22 18:50:13.610</td></tr>",
                            "<tr><td>FactFinance100m</td><td>4</td><td>1</td><td>1</td><td>OPEN</td><td>100392</td><td>NULL</td><td>Table_8c92dbd39040490a8eae0c6877992248_59</td><td>2021-08-22 18:58:27.420</td></tr>",
                            "<tr><td>FactFinance100m</td><td>4</td><td>1</td><td>1</td><td>OPEN</td><td>100392</td><td>NULL</td><td>Table_8c92dbd39040490a8eae0c6877992248_60</td><td>2021-08-22 18:58:29.280</td></tr>",
                            "<tr><td>FactFinance100m</td><td>3</td><td>1</td><td>3</td><td>COMPRESSED</td><td>999960</td><td>REORG</td><td>Table_8c92dbd39040490a8eae0c6877992248_1</td><td>2021-08-22 18:50:12.597</td></tr>",
                            "<tr><td>FactFinance100m</td><td>3</td><td>1</td><td>3</td><td>COMPRESSED</td><td>999960</td><td>REORG</td><td>Table_8c92dbd39040490a8eae0c6877992248_2</td><td>2021-08-22 18:50:10.677</td></tr>",
                            "<tr><td>FactFinance100m</td><td>3</td><td>1</td><td>3</td><td>COMPRESSED</td><td>1000520</td><td>REORG</td><td>Table_8c92dbd39040490a8eae0c6877992248_3</td><td>2021-08-22 18:50:15.077</td></tr>",
                            "<tr><td>FactFinance100m</td><td>3</td><td>1</td><td>3</td><td>COMPRESSED</td><td>1000520</td><td>REORG</td><td>Table_8c92dbd39040490a8eae0c6877992248_4</td><td>2021-08-22 18:50:13.157</td></tr>",
                            "<tr><td>FactFinance100m</td><td>3</td><td>1</td><td>3</td><td>COMPRESSED</td><td>999960</td><td>REORG</td><td>Table_8c92dbd39040490a8eae0c6877992248_5</td><td>2021-08-22 18:50:09.270</td></tr>",
                            "<tr><td>FactFinance100m</td><td>3</td><td>1</td><td>3</td><td>COMPRESSED</td><td>999960</td><td>REORG</td><td>Table_8c92dbd39040490a8eae0c6877992248_6</td><td>2021-08-22 18:50:08.450</td></tr>",
                            "<tr><td>FactFinance100m</td><td>3</td><td>1</td><td>3</td><td>COMPRESSED</td><td>999960</td><td>REORG</td><td>Table_8c92dbd39040490a8eae0c6877992248_7</td><td>2021-08-22 18:50:12.277</td></tr>",
                            "<tr><td>FactFinance100m</td><td>3</td><td>1</td><td>3</td><td>COMPRESSED</td><td>999960</td><td>REORG</td><td>Table_8c92dbd39040490a8eae0c6877992248_8</td><td>2021-08-22 18:50:13.150</td></tr>",
                            "<tr><td>FactFinance100m</td><td>3</td><td>1</td><td>3</td><td>COMPRESSED</td><td>999960</td><td>REORG</td><td>Table_8c92dbd39040490a8eae0c6877992248_9</td><td>2021-08-22 18:50:12.790</td></tr>",
                            "<tr><td>FactFinance100m</td><td>3</td><td>1</td><td>3</td><td>COMPRESSED</td><td>999960</td><td>REORG</td><td>Table_8c92dbd39040490a8eae0c6877992248_10</td><td>2021-08-22 18:50:17.007</td></tr>",
                            "<tr><td>FactFinance100m</td><td>3</td><td>1</td><td>3</td><td>COMPRESSED</td><td>999960</td><td>REORG</td><td>Table_8c92dbd39040490a8eae0c6877992248_11</td><td>2021-08-22 18:50:09.960</td></tr>",
                            "<tr><td>FactFinance100m</td><td>3</td><td>1</td><td>3</td><td>COMPRESSED</td><td>999960</td><td>REORG</td><td>Table_8c92dbd39040490a8eae0c6877992248_12</td><td>2021-08-22 18:50:10.710</td></tr>",
                            "<tr><td>FactFinance100m</td><td>3</td><td>1</td><td>3</td><td>COMPRESSED</td><td>999960</td><td>REORG</td><td>Table_8c92dbd39040490a8eae0c6877992248_13</td><td>2021-08-22 18:50:12.533</td></tr>",
                            "<tr><td>FactFinance100m</td><td>3</td><td>1</td><td>3</td><td>COMPRESSED</td><td>999960</td><td>REORG</td><td>Table_8c92dbd39040490a8eae0c6877992248_14</td><td>2021-08-22 18:50:12.020</td></tr>",
                            "<tr><td>FactFinance100m</td><td>3</td><td>1</td><td>3</td><td>COMPRESSED</td><td>999960</td><td>REORG</td><td>Table_8c92dbd39040490a8eae0c6877992248_15</td><td>2021-08-22 18:50:14.883</td></tr>",
                            "<tr><td>FactFinance100m</td><td>3</td><td>1</td><td>3</td><td>COMPRESSED</td><td>999960</td><td>REORG</td><td>Table_8c92dbd39040490a8eae0c6877992248_16</td><td>2021-08-22 18:50:15.103</td></tr>",
                            "<tr><td>FactFinance100m</td><td>3</td><td>1</td><td>3</td><td>COMPRESSED</td><td>999960</td><td>REORG</td><td>Table_8c92dbd39040490a8eae0c6877992248_17</td><td>2021-08-22 18:50:15.113</td></tr>",
                            "<tr><td>FactFinance100m</td><td>4</td><td>1</td><td>1</td><td>OPEN</td><td>99828</td><td>NULL</td><td>Table_8c92dbd39040490a8eae0c6877992248_18</td><td>2021-08-22 18:58:27.463</td></tr>",
                            "<tr><td>FactFinance100m</td><td>3</td><td>1</td><td>3</td><td>COMPRESSED</td><td>999960</td><td>REORG</td><td>Table_8c92dbd39040490a8eae0c6877992248_19</td><td>2021-08-22 18:50:13.360</td></tr>",
                            "<tr><td>FactFinance100m</td><td>4</td><td>1</td><td>1</td><td>OPEN</td><td>99828</td><td>NULL</td><td>Table_8c92dbd39040490a8eae0c6877992248_20</td><td>2021-08-22 18:58:27.440</td></tr>",
                            "<tr><td>FactFinance100m</td><td>3</td><td>1</td><td>3</td><td>COMPRESSED</td><td>999960</td><td>REORG</td><td>Table_8c92dbd39040490a8eae0c6877992248_21</td><td>2021-08-22 18:50:11.873</td></tr>",
                            "<tr><td>FactFinance100m</td><td>3</td><td>1</td><td>3</td><td>COMPRESSED</td><td>999960</td><td>REORG</td><td>Table_8c92dbd39040490a8eae0c6877992248_22</td><td>2021-08-22 18:50:12.657</td></tr>",
                            "<tr><td>FactFinance100m</td><td>3</td><td>1</td><td>3</td><td>COMPRESSED</td><td>999960</td><td>REORG</td><td>Table_8c92dbd39040490a8eae0c6877992248_23</td><td>2021-08-22 18:50:14.880</td></tr>",
                            "<tr><td>FactFinance100m</td><td>4</td><td>1</td><td>1</td><td>OPEN</td><td>99828</td><td>NULL</td><td>Table_8c92dbd39040490a8eae0c6877992248_24</td><td>2021-08-22 18:58:27.490</td></tr>",
                            "<tr><td>FactFinance100m</td><td>3</td><td>1</td><td>3</td><td>COMPRESSED</td><td>999960</td><td>REORG</td><td>Table_8c92dbd39040490a8eae0c6877992248_25</td><td>2021-08-22 18:50:10.460</td></tr>",
                            "<tr><td>FactFinance100m</td><td>3</td><td>1</td><td>3</td><td>COMPRESSED</td><td>999960</td><td>REORG</td><td>Table_8c92dbd39040490a8eae0c6877992248_26</td><td>2021-08-22 18:50:10.380</td></tr>",
                            "<tr><td>FactFinance100m</td><td>4</td><td>1</td><td>1</td><td>OPEN</td><td>99828</td><td>NULL</td><td>Table_8c92dbd39040490a8eae0c6877992248_27</td><td>2021-08-22 18:58:27.443</td></tr>",
                            "<tr><td>FactFinance100m</td><td>3</td><td>1</td><td>3</td><td>COMPRESSED</td><td>999960</td><td>REORG</td><td>Table_8c92dbd39040490a8eae0c6877992248_28</td><td>2021-08-22 18:50:15.160</td></tr>",
                            "<tr><td>FactFinance100m</td><td>3</td><td>1</td><td>3</td><td>COMPRESSED</td><td>999960</td><td>REORG</td><td>Table_8c92dbd39040490a8eae0c6877992248_29</td><td>2021-08-22 18:50:16.570</td></tr>",
                            "<tr><td>FactFinance100m</td><td>4</td><td>1</td><td>1</td><td>OPEN</td><td>99828</td><td>NULL</td><td>Table_8c92dbd39040490a8eae0c6877992248_30</td><td>2021-08-22 18:58:28.110</td></tr>",
                            "<tr><td>FactFinance100m</td><td>3</td><td>1</td><td>3</td><td>COMPRESSED</td><td>999960</td><td>REORG</td><td>Table_8c92dbd39040490a8eae0c6877992248_31</td><td>2021-08-22 18:50:12.483</td></tr>",
                            "<tr><td>FactFinance100m</td><td>3</td><td>1</td><td>3</td><td>COMPRESSED</td><td>999960</td><td>REORG</td><td>Table_8c92dbd39040490a8eae0c6877992248_32</td><td>2021-08-22 18:50:13.127</td></tr>",
                            "<tr><td>FactFinance100m</td><td>3</td><td>1</td><td>3</td><td>COMPRESSED</td><td>999960</td><td>REORG</td><td>Table_8c92dbd39040490a8eae0c6877992248_33</td><td>2021-08-22 18:50:11.800</td></tr>",
                            "<tr><td>FactFinance100m</td><td>3</td><td>1</td><td>3</td><td>COMPRESSED</td><td>999960</td><td>REORG</td><td>Table_8c92dbd39040490a8eae0c6877992248_34</td><td>2021-08-22 18:50:12.337</td></tr>",
                            "<tr><td>FactFinance100m</td><td>3</td><td>1</td><td>3</td><td>COMPRESSED</td><td>999960</td><td>REORG</td><td>Table_8c92dbd39040490a8eae0c6877992248_35</td><td>2021-08-22 18:50:13.823</td></tr>",
                            "<tr><td>FactFinance100m</td><td>3</td><td>1</td><td>3</td><td>COMPRESSED</td><td>999960</td><td>REORG</td><td>Table_8c92dbd39040490a8eae0c6877992248_36</td><td>2021-08-22 18:50:12.600</td></tr>",
                            "<tr><td>FactFinance100m</td><td>3</td><td>1</td><td>3</td><td>COMPRESSED</td><td>999960</td><td>REORG</td><td>Table_8c92dbd39040490a8eae0c6877992248_37</td><td>2021-08-22 18:50:12.817</td></tr>",
                            "<tr><td>FactFinance100m</td><td>3</td><td>1</td><td>3</td><td>COMPRESSED</td><td>999960</td><td>REORG</td><td>Table_8c92dbd39040490a8eae0c6877992248_38</td><td>2021-08-22 18:50:16.987</td></tr>",
                            "<tr><td>FactFinance100m</td><td>3</td><td>1</td><td>3</td><td>COMPRESSED</td><td>999960</td><td>REORG</td><td>Table_8c92dbd39040490a8eae0c6877992248_39</td><td>2021-08-22 18:50:17.017</td></tr>",
                            "<tr><td>FactFinance100m</td><td>3</td><td>1</td><td>3</td><td>COMPRESSED</td><td>999960</td><td>REORG</td><td>Table_8c92dbd39040490a8eae0c6877992248_40</td><td>2021-08-22 18:50:10.850</td></tr>",
                            "<tr><td>FactFinance100m</td><td>3</td><td>1</td><td>3</td><td>COMPRESSED</td><td>999960</td><td>REORG</td><td>Table_8c92dbd39040490a8eae0c6877992248_41</td><td>2021-08-22 18:50:10.143</td></tr>",
                            "<tr><td>FactFinance100m</td><td>3</td><td>1</td><td>3</td><td>COMPRESSED</td><td>999960</td><td>REORG</td><td>Table_8c92dbd39040490a8eae0c6877992248_42</td><td>2021-08-22 18:50:13.740</td></tr>",
                            "<tr><td>FactFinance100m</td><td>3</td><td>1</td><td>3</td><td>COMPRESSED</td><td>999960</td><td>REORG</td><td>Table_8c92dbd39040490a8eae0c6877992248_43</td><td>2021-08-22 18:50:13.660</td></tr>",
                            "<tr><td>FactFinance100m</td><td>3</td><td>1</td><td>3</td><td>COMPRESSED</td><td>999960</td><td>REORG</td><td>Table_8c92dbd39040490a8eae0c6877992248_44</td><td>2021-08-22 18:50:13.723</td></tr>",
                            "<tr><td>FactFinance100m</td><td>3</td><td>1</td><td>3</td><td>COMPRESSED</td><td>999960</td><td>REORG</td><td>Table_8c92dbd39040490a8eae0c6877992248_45</td><td>2021-08-22 18:50:15.097</td></tr>",
                            "<tr><td>FactFinance100m</td><td>3</td><td>1</td><td>3</td><td>COMPRESSED</td><td>999960</td><td>REORG</td><td>Table_8c92dbd39040490a8eae0c6877992248_46</td><td>2021-08-22 18:50:09.893</td></tr>",
                            "<tr><td>FactFinance100m</td><td>3</td><td>1</td><td>3</td><td>COMPRESSED</td><td>1000456</td><td>REORG</td><td>Table_8c92dbd39040490a8eae0c6877992248_47</td><td>2021-08-22 18:50:08.703</td></tr>",
                            "<tr><td>FactFinance100m</td><td>3</td><td>1</td><td>3</td><td>COMPRESSED</td><td>1000456</td><td>REORG</td><td>Table_8c92dbd39040490a8eae0c6877992248_48</td><td>2021-08-22 18:50:11.240</td></tr>",
                            "<tr><td>FactFinance100m</td><td>3</td><td>1</td><td>3</td><td>COMPRESSED</td><td>1000248</td><td>REORG</td><td>Table_8c92dbd39040490a8eae0c6877992248_49</td><td>2021-08-22 18:50:09.893</td></tr>",
                            "<tr><td>FactFinance100m</td><td>3</td><td>1</td><td>3</td><td>COMPRESSED</td><td>999960</td><td>REORG</td><td>Table_8c92dbd39040490a8eae0c6877992248_50</td><td>2021-08-22 18:50:13.570</td></tr>",
                            "<tr><td>FactFinance100m</td><td>3</td><td>1</td><td>3</td><td>COMPRESSED</td><td>999960</td><td>REORG</td><td>Table_8c92dbd39040490a8eae0c6877992248_51</td><td>2021-08-22 18:50:16.540</td></tr>",
                            "<tr><td>FactFinance100m</td><td>3</td><td>1</td><td>3</td><td>COMPRESSED</td><td>999960</td><td>REORG</td><td>Table_8c92dbd39040490a8eae0c6877992248_52</td><td>2021-08-22 18:50:08.593</td></tr>",
                            "<tr><td>FactFinance100m</td><td>3</td><td>1</td><td>3</td><td>COMPRESSED</td><td>999960</td><td>REORG</td><td>Table_8c92dbd39040490a8eae0c6877992248_53</td><td>2021-08-22 18:50:13.137</td></tr>",
                            "<tr><td>FactFinance100m</td><td>3</td><td>1</td><td>3</td><td>COMPRESSED</td><td>999960</td><td>REORG</td><td>Table_8c92dbd39040490a8eae0c6877992248_54</td><td>2021-08-22 18:50:10.640</td></tr>",
                            "<tr><td>FactFinance100m</td><td>3</td><td>1</td><td>3</td><td>COMPRESSED</td><td>999960</td><td>REORG</td><td>Table_8c92dbd39040490a8eae0c6877992248_55</td><td>2021-08-22 18:50:06.080</td></tr>",
                            "<tr><td>FactFinance100m</td><td>3</td><td>1</td><td>3</td><td>COMPRESSED</td><td>999960</td><td>REORG</td><td>Table_8c92dbd39040490a8eae0c6877992248_56</td><td>2021-08-22 18:50:16.710</td></tr>",
                            "<tr><td>FactFinance100m</td><td>3</td><td>1</td><td>3</td><td>COMPRESSED</td><td>999960</td><td>REORG</td><td>Table_8c92dbd39040490a8eae0c6877992248_57</td><td>2021-08-22 18:50:09.717</td></tr>",
                            "<tr><td>FactFinance100m</td><td>4</td><td>1</td><td>1</td><td>OPEN</td><td>100392</td><td>NULL</td><td>Table_8c92dbd39040490a8eae0c6877992248_58</td><td>2021-08-22 18:58:26.880</td></tr>",
                            "<tr><td>FactFinance100m</td><td>3</td><td>1</td><td>3</td><td>COMPRESSED</td><td>999960</td><td>REORG</td><td>Table_8c92dbd39040490a8eae0c6877992248_59</td><td>2021-08-22 18:50:12.453</td></tr>",
                            "<tr><td>FactFinance100m</td><td>3</td><td>1</td><td>3</td><td>COMPRESSED</td><td>999960</td><td>REORG</td><td>Table_8c92dbd39040490a8eae0c6877992248_60</td><td>2021-08-22 18:50:12.423</td></tr>",
                            "</table>"
                        ]
                    }
                }
            ],
            "execution_count": 1
        },
        {
            "cell_type": "code",
            "source": [
                "/*  \r\n",
                "    a REORG will NOT close open delta stores, but we can issue a command like below using Framework \r\n",
                "\r\n",
                "    ALTER INDEX ClusteredIndex_1fba0db5c48b40288124497ec2198389 ON [dbo].[FactFinance100m] REORGANIZE WITH (COMPRESS_ALL_ROW_GROUPS = ON)\r\n",
                "\r\n",
                "    Note: Resultant Frgamentation is high as one RowGroup is very small. Hence we ignore densiry if only 120 RowGroups or less.\r\n",
                "\r\n",
                "*/\r\n",
                "\r\n",
                "exec   [dbo].[ColumnstoreOptimize]  @Tables='FactFinance100m'\r\n",
                ",@DensityThreshold=null\r\n",
                ",@OpenThreshold=200000\r\n",
                ",@DeleteThreshold=null\r\n",
                ",@TimeLimit =null\r\n",
                ", @Execute='Y'\r\n",
                "\r\n",
                "SELECT * FROM dbo.vColumnstoreStats WHERE table_name='FactFinance100m'"
            ],
            "metadata": {
                "azdata_cell_guid": "8f77bfb6-48cf-4fdc-b395-f7e6b57a1672",
                "tags": []
            },
            "outputs": [
                {
                    "output_type": "display_data",
                    "data": {
                        "text/html": "Date and time: 2021-08-22 19:02:08"
                    },
                    "metadata": {}
                },
                {
                    "output_type": "display_data",
                    "data": {
                        "text/html": "Server: aw-dev"
                    },
                    "metadata": {}
                },
                {
                    "output_type": "display_data",
                    "data": {
                        "text/html": "Version: 10.0.13582.0"
                    },
                    "metadata": {}
                },
                {
                    "output_type": "display_data",
                    "data": {
                        "text/html": "Edition: SQL Azure"
                    },
                    "metadata": {}
                },
                {
                    "output_type": "display_data",
                    "data": {
                        "text/html": "Parameters: @Tables= 'FactFinance100m', @DensityThreshold = 25.00, @OpenThreshold = 200000, @DeleteThreshold = 200000, @Execute = Y"
                    },
                    "metadata": {}
                },
                {
                    "output_type": "display_data",
                    "data": {
                        "text/html": "Version: Microsoft Azure SQL Data Warehouse - 10.0.13582.0 Aug 5 2021 06:54:02 Copyright (c) Microsoft Corporation"
                    },
                    "metadata": {}
                },
                {
                    "output_type": "display_data",
                    "data": {
                        "text/html": "Source: https://github.com/ProdataSQL/SynapseTools/tree/main/SqlPools/Maintenance"
                    },
                    "metadata": {}
                },
                {
                    "output_type": "display_data",
                    "data": {
                        "text/html": "Date and time: 2021-08-22 19:02:13"
                    },
                    "metadata": {}
                },
                {
                    "output_type": "display_data",
                    "data": {
                        "text/html": "[dbo].[FactFinance100m]"
                    },
                    "metadata": {}
                },
                {
                    "output_type": "display_data",
                    "data": {
                        "text/html": "SqlCommand: ALTER INDEX ClusteredIndex_1fba0db5c48b40288124497ec2198389 ON [dbo].[FactFinance100m] REORGANIZE WITH (COMPRESS_ALL_ROW_GROUPS = ON)"
                    },
                    "metadata": {}
                },
                {
                    "output_type": "display_data",
                    "data": {
                        "text/html": "<ExtendedInfo><RowGroups>60</RowGroups><Rows>66000000</Rows><OpenRows>6000000</OpenRows><DeletedRows>0</DeletedRows><DensityFragmentation>4.63%</DensityFragmentation></ExtendedInfo>"
                    },
                    "metadata": {}
                },
                {
                    "output_type": "display_data",
                    "data": {
                        "text/html": "(1 row affected)"
                    },
                    "metadata": {}
                },
                {
                    "output_type": "display_data",
                    "data": {
                        "text/html": "Total execution time: 00:00:14.340"
                    },
                    "metadata": {}
                },
                {
                    "output_type": "execute_result",
                    "metadata": {},
                    "execution_count": 3,
                    "data": {
                        "application/vnd.dataresource+json": {
                            "schema": {
                                "fields": [
                                    {
                                        "name": "execution_date"
                                    },
                                    {
                                        "name": "database_name"
                                    },
                                    {
                                        "name": "schema_name"
                                    },
                                    {
                                        "name": "table_name"
                                    },
                                    {
                                        "name": "partition_number"
                                    },
                                    {
                                        "name": "partition_scheme"
                                    },
                                    {
                                        "name": "object_id"
                                    },
                                    {
                                        "name": "index_name"
                                    },
                                    {
                                        "name": "row_count"
                                    },
                                    {
                                        "name": "deleted_row_count"
                                    },
                                    {
                                        "name": "row_group_count"
                                    },
                                    {
                                        "name": "compressed_row_count"
                                    },
                                    {
                                        "name": "compressed_rowgroup_count"
                                    },
                                    {
                                        "name": "open_rowgroup_count"
                                    },
                                    {
                                        "name": "open_row_count"
                                    },
                                    {
                                        "name": "compressed_row_max"
                                    },
                                    {
                                        "name": "compressed_row_avg"
                                    },
                                    {
                                        "name": "fragmentation_density"
                                    },
                                    {
                                        "name": "fragmentation_deletes"
                                    },
                                    {
                                        "name": "fragmentation_open"
                                    }
                                ]
                            },
                            "data": [
                                {
                                    "0": "2021-08-22 19:02:20.467",
                                    "1": "AdventureWorksDW",
                                    "2": "dbo",
                                    "3": "FactFinance100m",
                                    "4": "NULL",
                                    "5": "NULL",
                                    "6": "1940917986",
                                    "7": "ClusteredIndex_1fba0db5c48b40288124497ec2198389",
                                    "8": "72000000",
                                    "9": "0",
                                    "10": "180",
                                    "11": "66000000",
                                    "12": "120",
                                    "13": "0",
                                    "14": "0",
                                    "15": "1000520",
                                    "16": "550000",
                                    "17": "47.5500",
                                    "18": "0.0000",
                                    "19": "0.0000"
                                }
                            ]
                        },
                        "text/html": [
                            "<table>",
                            "<tr><th>execution_date</th><th>database_name</th><th>schema_name</th><th>table_name</th><th>partition_number</th><th>partition_scheme</th><th>object_id</th><th>index_name</th><th>row_count</th><th>deleted_row_count</th><th>row_group_count</th><th>compressed_row_count</th><th>compressed_rowgroup_count</th><th>open_rowgroup_count</th><th>open_row_count</th><th>compressed_row_max</th><th>compressed_row_avg</th><th>fragmentation_density</th><th>fragmentation_deletes</th><th>fragmentation_open</th></tr>",
                            "<tr><td>2021-08-22 19:02:20.467</td><td>AdventureWorksDW</td><td>dbo</td><td>FactFinance100m</td><td>NULL</td><td>NULL</td><td>1940917986</td><td>ClusteredIndex_1fba0db5c48b40288124497ec2198389</td><td>72000000</td><td>0</td><td>180</td><td>66000000</td><td>120</td><td>0</td><td>0</td><td>1000520</td><td>550000</td><td>47.5500</td><td>0.0000</td><td>0.0000</td></tr>",
                            "</table>"
                        ]
                    }
                }
            ],
            "execution_count": 3
        }
    ]
}