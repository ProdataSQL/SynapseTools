{
    "metadata": {
        "kernelspec": {
            "name": "SQL",
            "display_name": "SQL",
            "language": "sql"
        },
        "language_info": {
            "name": "sql",
            "version": ""
        },
        "extensions": {
            "azuredatastudio": {
                "version": 1,
                "views": []
            }
        }
    },
    "nbformat_minor": 2,
    "nbformat": 4,
    "cells": [
        {
            "cell_type": "markdown",
            "source": [
                "# ColumnStoreOptimize"
            ],
            "metadata": {
                "azdata_cell_guid": "6bc6a6a2-166d-4792-b337-46ce4274cf59",
                "extensions": {
                    "azuredatastudio": {
                        "views": []
                    }
                }
            }
        },
        {
            "cell_type": "markdown",
            "source": [
                "## 1.0 Introduction\n",
                "\n",
                "Most Fact tables within a synapse dimensional data warehouse should be using a clustered column store. This will compress data using a column store into segments of about a million rows, across the 60 distributions. Hence a common recommendation is that tables below 60 million rows don’t get as much benefit from column stores in SQL Pools, whereas they may on SMP platform such as SQLDB or IaaS.\n",
                "\n",
                "If a data is only ever loaded once into a column store index and there is no special tuning such as ordering (discussed later), then there is pretty much no maintenance to be done.\n",
                "\n",
                "If data is gradually inserted/deleted/updated, then we can be left with “delta stores” which are a row store contained within the column store containing new rows and “soft deletes”. These can hurt performance in two ways\n",
                "\n",
                "- The effective size of a column store becomes much smaller than the 1 million expected\n",
                "- The query has to traverse both the columns store and then the delta store to contra out deletes and add in uncompressed/open rows."
            ],
            "metadata": {
                "azdata_cell_guid": "fa81beb0-83f8-467f-bfee-c80d05e46021",
                "extensions": {
                    "azuredatastudio": {
                        "views": []
                    }
                }
            },
            "attachments": {}
        },
        {
            "cell_type": "markdown",
            "source": [
                "## 1.1 Locating ColumnStores that need maintenance\n",
                "\n",
                "We have three scenarios that may class a column store as requiring maintenance.\n",
                "\n",
                "- The Avg Row size of a segment is below the optimal (1024\\*1024=1,048,576). We call this density and it can be expressed as %. Eg 10% fragmentation means each segment is only 90% full.\n",
                "- The table contains a lot of soft deleted rows\n",
                "- The table contains a lot of inserted rows that have not yet been compressed by the [tuple mover](https://docs.microsoft.com/en-us/azure/synapse-analytics/sql-data-warehouse/sql-data-warehouse-tables-index). It can take over 60 million rows before this is engaged (eg 1 segment per distribution)."
            ],
            "metadata": {
                "azdata_cell_guid": "c9e3f785-68fe-4310-9eb7-ea6abf14a0b7",
                "extensions": {
                    "azuredatastudio": {
                        "views": []
                    }
                }
            },
            "attachments": {}
        },
        {
            "cell_type": "markdown",
            "source": [
                "### Demo - Fragmentation and Density"
            ],
            "metadata": {
                "azdata_cell_guid": "060e53bc-8043-4f9a-8676-81a31f7229ba",
                "extensions": {
                    "azuredatastudio": {
                        "views": []
                    }
                }
            }
        },
        {
            "cell_type": "code",
            "source": [
                "/* Demo - Examining Column store Density on inital Insert fro 100 milion row */\r\n",
                "IF OBJECT_ID('[dbo].[FactFinance100m]') is not null \r\n",
                "\tDROP TABLE [dbo].[FactFinance100m]\r\n",
                "GO\r\n",
                "CREATE TABLE [dbo].[FactFinance100m] WITH (\r\n",
                "\tDISTRIBUTION = ROUND_ROBIN, CLUSTERED COLUMNSTORE INDEX \r\n",
                ") AS\r\n",
                "SELECT TOP 130000000 * FROM [dbo].[FactFinance1b]\r\n",
                "\r\n",
                ""
            ],
            "metadata": {
                "azdata_cell_guid": "5ef551d3-a01a-4e0d-84a8-516a38ab3c34",
                "extensions": {
                    "azuredatastudio": {
                        "views": []
                    }
                }
            },
            "outputs": [
                {
                    "output_type": "display_data",
                    "data": {
                        "text/html": "Commands completed successfully."
                    },
                    "metadata": {}
                },
                {
                    "output_type": "display_data",
                    "data": {
                        "text/html": "(130000000 rows affected)"
                    },
                    "metadata": {}
                },
                {
                    "output_type": "display_data",
                    "data": {
                        "text/html": "Total execution time: 00:08:09.671"
                    },
                    "metadata": {}
                }
            ],
            "execution_count": 11
        },
        {
            "cell_type": "code",
            "source": [
                "\r\n",
                "/* This view shows the fragmentation_density is perfect, with some open row stores for overspill. Not ununsual as this table is only 2 complete segments per distribution */ \r\n",
                "SELECT * FROM dbo.vColumnstoreStats WHERE table_name='FactFinance100m'\r\n",
                "\r\n",
                ""
            ],
            "metadata": {
                "azdata_cell_guid": "5ec29bb3-bb92-493b-a319-05b8cb504110",
                "extensions": {
                    "azuredatastudio": {
                        "views": []
                    }
                }
            },
            "outputs": [
                {
                    "output_type": "display_data",
                    "data": {
                        "text/html": "(1 row affected)"
                    },
                    "metadata": {}
                },
                {
                    "output_type": "display_data",
                    "data": {
                        "text/html": "Total execution time: 00:00:02.870"
                    },
                    "metadata": {}
                },
                {
                    "output_type": "execute_result",
                    "execution_count": 12,
                    "data": {
                        "application/vnd.dataresource+json": {
                            "schema": {
                                "fields": [
                                    {
                                        "name": "execution_date"
                                    },
                                    {
                                        "name": "database_name"
                                    },
                                    {
                                        "name": "schema_name"
                                    },
                                    {
                                        "name": "table_name"
                                    },
                                    {
                                        "name": "partition_number"
                                    },
                                    {
                                        "name": "partition_scheme"
                                    },
                                    {
                                        "name": "object_id"
                                    },
                                    {
                                        "name": "index_name"
                                    },
                                    {
                                        "name": "row_count"
                                    },
                                    {
                                        "name": "deleted_row_count"
                                    },
                                    {
                                        "name": "row_group_count"
                                    },
                                    {
                                        "name": "compressed_row_count"
                                    },
                                    {
                                        "name": "compressed_rowgroup_count"
                                    },
                                    {
                                        "name": "open_rowgroup_count"
                                    },
                                    {
                                        "name": "open_row_count"
                                    },
                                    {
                                        "name": "compressed_row_max"
                                    },
                                    {
                                        "name": "compressed_row_avg"
                                    },
                                    {
                                        "name": "fragmentation_density"
                                    },
                                    {
                                        "name": "fragmentation_deletes"
                                    },
                                    {
                                        "name": "fragmentation_open"
                                    }
                                ]
                            },
                            "data": [
                                {
                                    "0": "2021-08-22 18:17:47.190",
                                    "1": "AdventureWorksDW",
                                    "2": "dbo",
                                    "3": "FactFinance100m",
                                    "4": "NULL",
                                    "5": "NULL",
                                    "6": "1924917929",
                                    "7": "ClusteredIndex_90da849ca6c24fafbf608f90686201ca",
                                    "8": "130000000",
                                    "9": "0",
                                    "10": "180",
                                    "11": "125829120",
                                    "12": "120",
                                    "13": "60",
                                    "14": "4170880",
                                    "15": "1048576",
                                    "16": "1048576",
                                    "17": "0.0000",
                                    "18": "0.0000",
                                    "19": "6.6300"
                                }
                            ]
                        },
                        "text/html": "<table><tr><th>execution_date</th><th>database_name</th><th>schema_name</th><th>table_name</th><th>partition_number</th><th>partition_scheme</th><th>object_id</th><th>index_name</th><th>row_count</th><th>deleted_row_count</th><th>row_group_count</th><th>compressed_row_count</th><th>compressed_rowgroup_count</th><th>open_rowgroup_count</th><th>open_row_count</th><th>compressed_row_max</th><th>compressed_row_avg</th><th>fragmentation_density</th><th>fragmentation_deletes</th><th>fragmentation_open</th></tr><tr><td>2021-08-22 18:17:47.190</td><td>AdventureWorksDW</td><td>dbo</td><td>FactFinance100m</td><td>NULL</td><td>NULL</td><td>1924917929</td><td>ClusteredIndex_90da849ca6c24fafbf608f90686201ca</td><td>130000000</td><td>0</td><td>180</td><td>125829120</td><td>120</td><td>60</td><td>4170880</td><td>1048576</td><td>1048576</td><td>0.0000</td><td>0.0000</td><td>6.6300</td></tr></table>"
                    },
                    "metadata": {}
                }
            ],
            "execution_count": 12
        },
        {
            "cell_type": "code",
            "source": [
                ""
            ],
            "metadata": {
                "azdata_cell_guid": "e5837555-6337-4dd9-8017-9315632857ce",
                "extensions": {
                    "azuredatastudio": {
                        "views": []
                    }
                }
            },
            "outputs": [],
            "execution_count": null
        },
        {
            "cell_type": "code",
            "source": [
                "/* Using the DMV sys.[dm_pdw_nodes_db_column_store_row_group_physical_stats] we can track the size of each segment and WHY it was closed \r\n",
                "    The view \"[dbo].[vCS_rg_physical_stats]\" from https://docs.microsoft.com/en-us/azure/synapse-analytics/sql-data-warehouse/sql-data-warehouse-memory-optimizations-for-columnstore-compression \r\n",
                "    Helps a lot in understanding why segments arent full.\r\n",
                "\r\n",
                "    BULK INSERT, over partitioning or over enthusiastic REORG are the.\r\n",
                "\r\n",
                "    In this case we see only OPEN and NO_TRIM\r\n",
                "\r\n",
                "*/\r\n",
                "select * From [dbo].[vCS_rg_physical_stats] WHERE logical_table_name='FactFinance100m'"
            ],
            "metadata": {
                "azdata_cell_guid": "ab9dd387-cba0-4645-af24-db570f9c18b4",
                "extensions": {
                    "azuredatastudio": {
                        "views": []
                    }
                }
            },
            "outputs": [
                {
                    "output_type": "display_data",
                    "data": {
                        "text/html": "(180 rows affected)"
                    },
                    "metadata": {}
                },
                {
                    "output_type": "display_data",
                    "data": {
                        "text/html": "Total execution time: 00:00:02.212"
                    },
                    "metadata": {}
                },
                {
                    "output_type": "execute_result",
                    "execution_count": 14,
                    "data": {
                        "application/vnd.dataresource+json": {
                            "schema": {
                                "fields": [
                                    {
                                        "name": "logical_table_name"
                                    },
                                    {
                                        "name": "row_group_id"
                                    },
                                    {
                                        "name": "partition_number"
                                    },
                                    {
                                        "name": "state"
                                    },
                                    {
                                        "name": "state_desc"
                                    },
                                    {
                                        "name": "total_rows"
                                    },
                                    {
                                        "name": "trim_reason_desc"
                                    },
                                    {
                                        "name": "physical_name"
                                    },
                                    {
                                        "name": "created_time"
                                    }
                                ]
                            },
                            "data": [
                                {
                                    "0": "FactFinance100m",
                                    "1": "2",
                                    "2": "1",
                                    "3": "1",
                                    "4": "OPEN",
                                    "5": "69376",
                                    "6": "NULL",
                                    "7": "Table_3f728d8864434c88a9f60907a5c2168f_1",
                                    "8": "2021-08-22 18:14:29.690"
                                },
                                {
                                    "0": "FactFinance100m",
                                    "1": "2",
                                    "2": "1",
                                    "3": "1",
                                    "4": "OPEN",
                                    "5": "69376",
                                    "6": "NULL",
                                    "7": "Table_3f728d8864434c88a9f60907a5c2168f_2",
                                    "8": "2021-08-22 18:15:18.770"
                                },
                                {
                                    "0": "FactFinance100m",
                                    "1": "2",
                                    "2": "1",
                                    "3": "1",
                                    "4": "OPEN",
                                    "5": "69376",
                                    "6": "NULL",
                                    "7": "Table_3f728d8864434c88a9f60907a5c2168f_3",
                                    "8": "2021-08-22 18:15:09.563"
                                },
                                {
                                    "0": "FactFinance100m",
                                    "1": "2",
                                    "2": "1",
                                    "3": "1",
                                    "4": "OPEN",
                                    "5": "69376",
                                    "6": "NULL",
                                    "7": "Table_3f728d8864434c88a9f60907a5c2168f_4",
                                    "8": "2021-08-22 18:15:18.877"
                                },
                                {
                                    "0": "FactFinance100m",
                                    "1": "2",
                                    "2": "1",
                                    "3": "1",
                                    "4": "OPEN",
                                    "5": "69376",
                                    "6": "NULL",
                                    "7": "Table_3f728d8864434c88a9f60907a5c2168f_5",
                                    "8": "2021-08-22 18:14:11.883"
                                },
                                {
                                    "0": "FactFinance100m",
                                    "1": "2",
                                    "2": "1",
                                    "3": "1",
                                    "4": "OPEN",
                                    "5": "69376",
                                    "6": "NULL",
                                    "7": "Table_3f728d8864434c88a9f60907a5c2168f_6",
                                    "8": "2021-08-22 18:15:09.660"
                                },
                                {
                                    "0": "FactFinance100m",
                                    "1": "2",
                                    "2": "1",
                                    "3": "1",
                                    "4": "OPEN",
                                    "5": "69376",
                                    "6": "NULL",
                                    "7": "Table_3f728d8864434c88a9f60907a5c2168f_7",
                                    "8": "2021-08-22 18:15:06.670"
                                },
                                {
                                    "0": "FactFinance100m",
                                    "1": "2",
                                    "2": "1",
                                    "3": "1",
                                    "4": "OPEN",
                                    "5": "69376",
                                    "6": "NULL",
                                    "7": "Table_3f728d8864434c88a9f60907a5c2168f_8",
                                    "8": "2021-08-22 18:14:29.497"
                                },
                                {
                                    "0": "FactFinance100m",
                                    "1": "2",
                                    "2": "1",
                                    "3": "1",
                                    "4": "OPEN",
                                    "5": "69376",
                                    "6": "NULL",
                                    "7": "Table_3f728d8864434c88a9f60907a5c2168f_9",
                                    "8": "2021-08-22 18:15:06.697"
                                },
                                {
                                    "0": "FactFinance100m",
                                    "1": "2",
                                    "2": "1",
                                    "3": "1",
                                    "4": "OPEN",
                                    "5": "69376",
                                    "6": "NULL",
                                    "7": "Table_3f728d8864434c88a9f60907a5c2168f_10",
                                    "8": "2021-08-22 18:14:29.970"
                                },
                                {
                                    "0": "FactFinance100m",
                                    "1": "2",
                                    "2": "1",
                                    "3": "1",
                                    "4": "OPEN",
                                    "5": "69376",
                                    "6": "NULL",
                                    "7": "Table_3f728d8864434c88a9f60907a5c2168f_11",
                                    "8": "2021-08-22 18:14:12.360"
                                },
                                {
                                    "0": "FactFinance100m",
                                    "1": "2",
                                    "2": "1",
                                    "3": "1",
                                    "4": "OPEN",
                                    "5": "69376",
                                    "6": "NULL",
                                    "7": "Table_3f728d8864434c88a9f60907a5c2168f_12",
                                    "8": "2021-08-22 18:15:06.707"
                                },
                                {
                                    "0": "FactFinance100m",
                                    "1": "2",
                                    "2": "1",
                                    "3": "1",
                                    "4": "OPEN",
                                    "5": "69376",
                                    "6": "NULL",
                                    "7": "Table_3f728d8864434c88a9f60907a5c2168f_13",
                                    "8": "2021-08-22 18:14:12.157"
                                },
                                {
                                    "0": "FactFinance100m",
                                    "1": "2",
                                    "2": "1",
                                    "3": "1",
                                    "4": "OPEN",
                                    "5": "69376",
                                    "6": "NULL",
                                    "7": "Table_3f728d8864434c88a9f60907a5c2168f_14",
                                    "8": "2021-08-22 18:14:30.207"
                                },
                                {
                                    "0": "FactFinance100m",
                                    "1": "2",
                                    "2": "1",
                                    "3": "1",
                                    "4": "OPEN",
                                    "5": "69376",
                                    "6": "NULL",
                                    "7": "Table_3f728d8864434c88a9f60907a5c2168f_15",
                                    "8": "2021-08-22 18:14:11.570"
                                },
                                {
                                    "0": "FactFinance100m",
                                    "1": "2",
                                    "2": "1",
                                    "3": "1",
                                    "4": "OPEN",
                                    "5": "69376",
                                    "6": "NULL",
                                    "7": "Table_3f728d8864434c88a9f60907a5c2168f_16",
                                    "8": "2021-08-22 18:14:58.063"
                                },
                                {
                                    "0": "FactFinance100m",
                                    "1": "2",
                                    "2": "1",
                                    "3": "1",
                                    "4": "OPEN",
                                    "5": "69376",
                                    "6": "NULL",
                                    "7": "Table_3f728d8864434c88a9f60907a5c2168f_17",
                                    "8": "2021-08-22 18:14:37.903"
                                },
                                {
                                    "0": "FactFinance100m",
                                    "1": "2",
                                    "2": "1",
                                    "3": "1",
                                    "4": "OPEN",
                                    "5": "69376",
                                    "6": "NULL",
                                    "7": "Table_3f728d8864434c88a9f60907a5c2168f_18",
                                    "8": "2021-08-22 18:13:48.790"
                                },
                                {
                                    "0": "FactFinance100m",
                                    "1": "2",
                                    "2": "1",
                                    "3": "1",
                                    "4": "OPEN",
                                    "5": "69376",
                                    "6": "NULL",
                                    "7": "Table_3f728d8864434c88a9f60907a5c2168f_19",
                                    "8": "2021-08-22 18:15:18.657"
                                },
                                {
                                    "0": "FactFinance100m",
                                    "1": "2",
                                    "2": "1",
                                    "3": "1",
                                    "4": "OPEN",
                                    "5": "69376",
                                    "6": "NULL",
                                    "7": "Table_3f728d8864434c88a9f60907a5c2168f_20",
                                    "8": "2021-08-22 18:14:29.883"
                                },
                                {
                                    "0": "FactFinance100m",
                                    "1": "2",
                                    "2": "1",
                                    "3": "1",
                                    "4": "OPEN",
                                    "5": "69376",
                                    "6": "NULL",
                                    "7": "Table_3f728d8864434c88a9f60907a5c2168f_21",
                                    "8": "2021-08-22 18:14:37.923"
                                },
                                {
                                    "0": "FactFinance100m",
                                    "1": "2",
                                    "2": "1",
                                    "3": "1",
                                    "4": "OPEN",
                                    "5": "69872",
                                    "6": "NULL",
                                    "7": "Table_3f728d8864434c88a9f60907a5c2168f_22",
                                    "8": "2021-08-22 18:14:37.797"
                                },
                                {
                                    "0": "FactFinance100m",
                                    "1": "2",
                                    "2": "1",
                                    "3": "1",
                                    "4": "OPEN",
                                    "5": "69872",
                                    "6": "NULL",
                                    "7": "Table_3f728d8864434c88a9f60907a5c2168f_23",
                                    "8": "2021-08-22 18:14:12.157"
                                },
                                {
                                    "0": "FactFinance100m",
                                    "1": "2",
                                    "2": "1",
                                    "3": "1",
                                    "4": "OPEN",
                                    "5": "69872",
                                    "6": "NULL",
                                    "7": "Table_3f728d8864434c88a9f60907a5c2168f_24",
                                    "8": "2021-08-22 18:14:29.187"
                                },
                                {
                                    "0": "FactFinance100m",
                                    "1": "2",
                                    "2": "1",
                                    "3": "1",
                                    "4": "OPEN",
                                    "5": "69872",
                                    "6": "NULL",
                                    "7": "Table_3f728d8864434c88a9f60907a5c2168f_25",
                                    "8": "2021-08-22 18:14:11.643"
                                },
                                {
                                    "0": "FactFinance100m",
                                    "1": "2",
                                    "2": "1",
                                    "3": "1",
                                    "4": "OPEN",
                                    "5": "69872",
                                    "6": "NULL",
                                    "7": "Table_3f728d8864434c88a9f60907a5c2168f_26",
                                    "8": "2021-08-22 18:13:49.363"
                                },
                                {
                                    "0": "FactFinance100m",
                                    "1": "2",
                                    "2": "1",
                                    "3": "1",
                                    "4": "OPEN",
                                    "5": "69872",
                                    "6": "NULL",
                                    "7": "Table_3f728d8864434c88a9f60907a5c2168f_27",
                                    "8": "2021-08-22 18:14:37.963"
                                },
                                {
                                    "0": "FactFinance100m",
                                    "1": "2",
                                    "2": "1",
                                    "3": "1",
                                    "4": "OPEN",
                                    "5": "69872",
                                    "6": "NULL",
                                    "7": "Table_3f728d8864434c88a9f60907a5c2168f_28",
                                    "8": "2021-08-22 18:14:58.180"
                                },
                                {
                                    "0": "FactFinance100m",
                                    "1": "2",
                                    "2": "1",
                                    "3": "1",
                                    "4": "OPEN",
                                    "5": "69872",
                                    "6": "NULL",
                                    "7": "Table_3f728d8864434c88a9f60907a5c2168f_29",
                                    "8": "2021-08-22 18:14:29.920"
                                },
                                {
                                    "0": "FactFinance100m",
                                    "1": "2",
                                    "2": "1",
                                    "3": "1",
                                    "4": "OPEN",
                                    "5": "69872",
                                    "6": "NULL",
                                    "7": "Table_3f728d8864434c88a9f60907a5c2168f_30",
                                    "8": "2021-08-22 18:14:13.283"
                                },
                                {
                                    "0": "FactFinance100m",
                                    "1": "2",
                                    "2": "1",
                                    "3": "1",
                                    "4": "OPEN",
                                    "5": "69872",
                                    "6": "NULL",
                                    "7": "Table_3f728d8864434c88a9f60907a5c2168f_31",
                                    "8": "2021-08-22 18:14:58.140"
                                },
                                {
                                    "0": "FactFinance100m",
                                    "1": "2",
                                    "2": "1",
                                    "3": "1",
                                    "4": "OPEN",
                                    "5": "69872",
                                    "6": "NULL",
                                    "7": "Table_3f728d8864434c88a9f60907a5c2168f_32",
                                    "8": "2021-08-22 18:13:48.553"
                                },
                                {
                                    "0": "FactFinance100m",
                                    "1": "2",
                                    "2": "1",
                                    "3": "1",
                                    "4": "OPEN",
                                    "5": "69872",
                                    "6": "NULL",
                                    "7": "Table_3f728d8864434c88a9f60907a5c2168f_33",
                                    "8": "2021-08-22 18:15:10.280"
                                },
                                {
                                    "0": "FactFinance100m",
                                    "1": "2",
                                    "2": "1",
                                    "3": "1",
                                    "4": "OPEN",
                                    "5": "69872",
                                    "6": "NULL",
                                    "7": "Table_3f728d8864434c88a9f60907a5c2168f_34",
                                    "8": "2021-08-22 18:15:18.787"
                                },
                                {
                                    "0": "FactFinance100m",
                                    "1": "2",
                                    "2": "1",
                                    "3": "1",
                                    "4": "OPEN",
                                    "5": "69872",
                                    "6": "NULL",
                                    "7": "Table_3f728d8864434c88a9f60907a5c2168f_35",
                                    "8": "2021-08-22 18:14:13.360"
                                },
                                {
                                    "0": "FactFinance100m",
                                    "1": "2",
                                    "2": "1",
                                    "3": "1",
                                    "4": "OPEN",
                                    "5": "69872",
                                    "6": "NULL",
                                    "7": "Table_3f728d8864434c88a9f60907a5c2168f_36",
                                    "8": "2021-08-22 18:15:06.690"
                                },
                                {
                                    "0": "FactFinance100m",
                                    "1": "2",
                                    "2": "1",
                                    "3": "1",
                                    "4": "OPEN",
                                    "5": "69872",
                                    "6": "NULL",
                                    "7": "Table_3f728d8864434c88a9f60907a5c2168f_37",
                                    "8": "2021-08-22 18:15:10.313"
                                },
                                {
                                    "0": "FactFinance100m",
                                    "1": "2",
                                    "2": "1",
                                    "3": "1",
                                    "4": "OPEN",
                                    "5": "69760",
                                    "6": "NULL",
                                    "7": "Table_3f728d8864434c88a9f60907a5c2168f_38",
                                    "8": "2021-08-22 18:14:29.640"
                                },
                                {
                                    "0": "FactFinance100m",
                                    "1": "2",
                                    "2": "1",
                                    "3": "1",
                                    "4": "OPEN",
                                    "5": "69376",
                                    "6": "NULL",
                                    "7": "Table_3f728d8864434c88a9f60907a5c2168f_39",
                                    "8": "2021-08-22 18:14:29.970"
                                },
                                {
                                    "0": "FactFinance100m",
                                    "1": "2",
                                    "2": "1",
                                    "3": "1",
                                    "4": "OPEN",
                                    "5": "69376",
                                    "6": "NULL",
                                    "7": "Table_3f728d8864434c88a9f60907a5c2168f_40",
                                    "8": "2021-08-22 18:15:10.437"
                                },
                                {
                                    "0": "FactFinance100m",
                                    "1": "2",
                                    "2": "1",
                                    "3": "1",
                                    "4": "OPEN",
                                    "5": "69376",
                                    "6": "NULL",
                                    "7": "Table_3f728d8864434c88a9f60907a5c2168f_41",
                                    "8": "2021-08-22 18:14:11.300"
                                },
                                {
                                    "0": "FactFinance100m",
                                    "1": "2",
                                    "2": "1",
                                    "3": "1",
                                    "4": "OPEN",
                                    "5": "69376",
                                    "6": "NULL",
                                    "7": "Table_3f728d8864434c88a9f60907a5c2168f_42",
                                    "8": "2021-08-22 18:14:58.070"
                                },
                                {
                                    "0": "FactFinance100m",
                                    "1": "2",
                                    "2": "1",
                                    "3": "1",
                                    "4": "OPEN",
                                    "5": "69376",
                                    "6": "NULL",
                                    "7": "Table_3f728d8864434c88a9f60907a5c2168f_43",
                                    "8": "2021-08-22 18:14:58.113"
                                },
                                {
                                    "0": "FactFinance100m",
                                    "1": "2",
                                    "2": "1",
                                    "3": "1",
                                    "4": "OPEN",
                                    "5": "69376",
                                    "6": "NULL",
                                    "7": "Table_3f728d8864434c88a9f60907a5c2168f_44",
                                    "8": "2021-08-22 18:14:57.000"
                                },
                                {
                                    "0": "FactFinance100m",
                                    "1": "2",
                                    "2": "1",
                                    "3": "1",
                                    "4": "OPEN",
                                    "5": "69376",
                                    "6": "NULL",
                                    "7": "Table_3f728d8864434c88a9f60907a5c2168f_45",
                                    "8": "2021-08-22 18:15:10.357"
                                },
                                {
                                    "0": "FactFinance100m",
                                    "1": "2",
                                    "2": "1",
                                    "3": "1",
                                    "4": "OPEN",
                                    "5": "69376",
                                    "6": "NULL",
                                    "7": "Table_3f728d8864434c88a9f60907a5c2168f_46",
                                    "8": "2021-08-22 18:14:29.517"
                                },
                                {
                                    "0": "FactFinance100m",
                                    "1": "2",
                                    "2": "1",
                                    "3": "1",
                                    "4": "OPEN",
                                    "5": "69376",
                                    "6": "NULL",
                                    "7": "Table_3f728d8864434c88a9f60907a5c2168f_47",
                                    "8": "2021-08-22 18:15:18.440"
                                },
                                {
                                    "0": "FactFinance100m",
                                    "1": "2",
                                    "2": "1",
                                    "3": "1",
                                    "4": "OPEN",
                                    "5": "69376",
                                    "6": "NULL",
                                    "7": "Table_3f728d8864434c88a9f60907a5c2168f_48",
                                    "8": "2021-08-22 18:14:12.330"
                                },
                                {
                                    "0": "FactFinance100m",
                                    "1": "2",
                                    "2": "1",
                                    "3": "1",
                                    "4": "OPEN",
                                    "5": "69376",
                                    "6": "NULL",
                                    "7": "Table_3f728d8864434c88a9f60907a5c2168f_49",
                                    "8": "2021-08-22 18:14:13.617"
                                },
                                {
                                    "0": "FactFinance100m",
                                    "1": "2",
                                    "2": "1",
                                    "3": "1",
                                    "4": "OPEN",
                                    "5": "69376",
                                    "6": "NULL",
                                    "7": "Table_3f728d8864434c88a9f60907a5c2168f_50",
                                    "8": "2021-08-22 18:15:18.853"
                                },
                                {
                                    "0": "FactFinance100m",
                                    "1": "2",
                                    "2": "1",
                                    "3": "1",
                                    "4": "OPEN",
                                    "5": "69376",
                                    "6": "NULL",
                                    "7": "Table_3f728d8864434c88a9f60907a5c2168f_51",
                                    "8": "2021-08-22 18:15:18.777"
                                },
                                {
                                    "0": "FactFinance100m",
                                    "1": "2",
                                    "2": "1",
                                    "3": "1",
                                    "4": "OPEN",
                                    "5": "69376",
                                    "6": "NULL",
                                    "7": "Table_3f728d8864434c88a9f60907a5c2168f_52",
                                    "8": "2021-08-22 18:15:18.843"
                                },
                                {
                                    "0": "FactFinance100m",
                                    "1": "2",
                                    "2": "1",
                                    "3": "1",
                                    "4": "OPEN",
                                    "5": "69376",
                                    "6": "NULL",
                                    "7": "Table_3f728d8864434c88a9f60907a5c2168f_53",
                                    "8": "2021-08-22 18:15:10.373"
                                },
                                {
                                    "0": "FactFinance100m",
                                    "1": "2",
                                    "2": "1",
                                    "3": "1",
                                    "4": "OPEN",
                                    "5": "69376",
                                    "6": "NULL",
                                    "7": "Table_3f728d8864434c88a9f60907a5c2168f_54",
                                    "8": "2021-08-22 18:14:29.867"
                                },
                                {
                                    "0": "FactFinance100m",
                                    "1": "2",
                                    "2": "1",
                                    "3": "1",
                                    "4": "OPEN",
                                    "5": "69376",
                                    "6": "NULL",
                                    "7": "Table_3f728d8864434c88a9f60907a5c2168f_55",
                                    "8": "2021-08-22 18:15:06.687"
                                },
                                {
                                    "0": "FactFinance100m",
                                    "1": "2",
                                    "2": "1",
                                    "3": "1",
                                    "4": "OPEN",
                                    "5": "69376",
                                    "6": "NULL",
                                    "7": "Table_3f728d8864434c88a9f60907a5c2168f_56",
                                    "8": "2021-08-22 18:15:05.500"
                                },
                                {
                                    "0": "FactFinance100m",
                                    "1": "2",
                                    "2": "1",
                                    "3": "1",
                                    "4": "OPEN",
                                    "5": "69376",
                                    "6": "NULL",
                                    "7": "Table_3f728d8864434c88a9f60907a5c2168f_57",
                                    "8": "2021-08-22 18:14:28.733"
                                },
                                {
                                    "0": "FactFinance100m",
                                    "1": "2",
                                    "2": "1",
                                    "3": "1",
                                    "4": "OPEN",
                                    "5": "69376",
                                    "6": "NULL",
                                    "7": "Table_3f728d8864434c88a9f60907a5c2168f_58",
                                    "8": "2021-08-22 18:14:13.567"
                                },
                                {
                                    "0": "FactFinance100m",
                                    "1": "2",
                                    "2": "1",
                                    "3": "1",
                                    "4": "OPEN",
                                    "5": "69376",
                                    "6": "NULL",
                                    "7": "Table_3f728d8864434c88a9f60907a5c2168f_59",
                                    "8": "2021-08-22 18:14:37.953"
                                },
                                {
                                    "0": "FactFinance100m",
                                    "1": "2",
                                    "2": "1",
                                    "3": "1",
                                    "4": "OPEN",
                                    "5": "69376",
                                    "6": "NULL",
                                    "7": "Table_3f728d8864434c88a9f60907a5c2168f_60",
                                    "8": "2021-08-22 18:15:06.553"
                                },
                                {
                                    "0": "FactFinance100m",
                                    "1": "1",
                                    "2": "1",
                                    "3": "3",
                                    "4": "COMPRESSED",
                                    "5": "1048576",
                                    "6": "NO_TRIM",
                                    "7": "Table_3f728d8864434c88a9f60907a5c2168f_1",
                                    "8": "2021-08-22 18:14:28.427"
                                },
                                {
                                    "0": "FactFinance100m",
                                    "1": "1",
                                    "2": "1",
                                    "3": "3",
                                    "4": "COMPRESSED",
                                    "5": "1048576",
                                    "6": "NO_TRIM",
                                    "7": "Table_3f728d8864434c88a9f60907a5c2168f_2",
                                    "8": "2021-08-22 18:15:17.360"
                                },
                                {
                                    "0": "FactFinance100m",
                                    "1": "1",
                                    "2": "1",
                                    "3": "3",
                                    "4": "COMPRESSED",
                                    "5": "1048576",
                                    "6": "NO_TRIM",
                                    "7": "Table_3f728d8864434c88a9f60907a5c2168f_3",
                                    "8": "2021-08-22 18:15:07.693"
                                },
                                {
                                    "0": "FactFinance100m",
                                    "1": "1",
                                    "2": "1",
                                    "3": "3",
                                    "4": "COMPRESSED",
                                    "5": "1048576",
                                    "6": "NO_TRIM",
                                    "7": "Table_3f728d8864434c88a9f60907a5c2168f_4",
                                    "8": "2021-08-22 18:15:17.420"
                                },
                                {
                                    "0": "FactFinance100m",
                                    "1": "1",
                                    "2": "1",
                                    "3": "3",
                                    "4": "COMPRESSED",
                                    "5": "1048576",
                                    "6": "NO_TRIM",
                                    "7": "Table_3f728d8864434c88a9f60907a5c2168f_5",
                                    "8": "2021-08-22 18:14:11.210"
                                },
                                {
                                    "0": "FactFinance100m",
                                    "1": "1",
                                    "2": "1",
                                    "3": "3",
                                    "4": "COMPRESSED",
                                    "5": "1048576",
                                    "6": "NO_TRIM",
                                    "7": "Table_3f728d8864434c88a9f60907a5c2168f_6",
                                    "8": "2021-08-22 18:15:07.743"
                                },
                                {
                                    "0": "FactFinance100m",
                                    "1": "1",
                                    "2": "1",
                                    "3": "3",
                                    "4": "COMPRESSED",
                                    "5": "1048576",
                                    "6": "NO_TRIM",
                                    "7": "Table_3f728d8864434c88a9f60907a5c2168f_7",
                                    "8": "2021-08-22 18:15:05.457"
                                },
                                {
                                    "0": "FactFinance100m",
                                    "1": "1",
                                    "2": "1",
                                    "3": "3",
                                    "4": "COMPRESSED",
                                    "5": "1048576",
                                    "6": "NO_TRIM",
                                    "7": "Table_3f728d8864434c88a9f60907a5c2168f_8",
                                    "8": "2021-08-22 18:14:28.380"
                                },
                                {
                                    "0": "FactFinance100m",
                                    "1": "1",
                                    "2": "1",
                                    "3": "3",
                                    "4": "COMPRESSED",
                                    "5": "1048576",
                                    "6": "NO_TRIM",
                                    "7": "Table_3f728d8864434c88a9f60907a5c2168f_9",
                                    "8": "2021-08-22 18:15:05.507"
                                },
                                {
                                    "0": "FactFinance100m",
                                    "1": "1",
                                    "2": "1",
                                    "3": "3",
                                    "4": "COMPRESSED",
                                    "5": "1048576",
                                    "6": "NO_TRIM",
                                    "7": "Table_3f728d8864434c88a9f60907a5c2168f_10",
                                    "8": "2021-08-22 18:14:28.603"
                                },
                                {
                                    "0": "FactFinance100m",
                                    "1": "1",
                                    "2": "1",
                                    "3": "3",
                                    "4": "COMPRESSED",
                                    "5": "1048576",
                                    "6": "NO_TRIM",
                                    "7": "Table_3f728d8864434c88a9f60907a5c2168f_11",
                                    "8": "2021-08-22 18:14:11.623"
                                },
                                {
                                    "0": "FactFinance100m",
                                    "1": "1",
                                    "2": "1",
                                    "3": "3",
                                    "4": "COMPRESSED",
                                    "5": "1048576",
                                    "6": "NO_TRIM",
                                    "7": "Table_3f728d8864434c88a9f60907a5c2168f_12",
                                    "8": "2021-08-22 18:15:05.490"
                                },
                                {
                                    "0": "FactFinance100m",
                                    "1": "1",
                                    "2": "1",
                                    "3": "3",
                                    "4": "COMPRESSED",
                                    "5": "1048576",
                                    "6": "NO_TRIM",
                                    "7": "Table_3f728d8864434c88a9f60907a5c2168f_13",
                                    "8": "2021-08-22 18:14:11.530"
                                },
                                {
                                    "0": "FactFinance100m",
                                    "1": "1",
                                    "2": "1",
                                    "3": "3",
                                    "4": "COMPRESSED",
                                    "5": "1048576",
                                    "6": "NO_TRIM",
                                    "7": "Table_3f728d8864434c88a9f60907a5c2168f_14",
                                    "8": "2021-08-22 18:14:28.703"
                                },
                                {
                                    "0": "FactFinance100m",
                                    "1": "1",
                                    "2": "1",
                                    "3": "3",
                                    "4": "COMPRESSED",
                                    "5": "1048576",
                                    "6": "NO_TRIM",
                                    "7": "Table_3f728d8864434c88a9f60907a5c2168f_15",
                                    "8": "2021-08-22 18:14:11.330"
                                },
                                {
                                    "0": "FactFinance100m",
                                    "1": "1",
                                    "2": "1",
                                    "3": "3",
                                    "4": "COMPRESSED",
                                    "5": "1048576",
                                    "6": "NO_TRIM",
                                    "7": "Table_3f728d8864434c88a9f60907a5c2168f_16",
                                    "8": "2021-08-22 18:14:55.877"
                                },
                                {
                                    "0": "FactFinance100m",
                                    "1": "1",
                                    "2": "1",
                                    "3": "3",
                                    "4": "COMPRESSED",
                                    "5": "1048576",
                                    "6": "NO_TRIM",
                                    "7": "Table_3f728d8864434c88a9f60907a5c2168f_17",
                                    "8": "2021-08-22 18:14:37.027"
                                },
                                {
                                    "0": "FactFinance100m",
                                    "1": "1",
                                    "2": "1",
                                    "3": "3",
                                    "4": "COMPRESSED",
                                    "5": "1048576",
                                    "6": "NO_TRIM",
                                    "7": "Table_3f728d8864434c88a9f60907a5c2168f_18",
                                    "8": "2021-08-22 18:13:48.410"
                                },
                                {
                                    "0": "FactFinance100m",
                                    "1": "1",
                                    "2": "1",
                                    "3": "3",
                                    "4": "COMPRESSED",
                                    "5": "1048576",
                                    "6": "NO_TRIM",
                                    "7": "Table_3f728d8864434c88a9f60907a5c2168f_19",
                                    "8": "2021-08-22 18:15:17.330"
                                },
                                {
                                    "0": "FactFinance100m",
                                    "1": "1",
                                    "2": "1",
                                    "3": "3",
                                    "4": "COMPRESSED",
                                    "5": "1048576",
                                    "6": "NO_TRIM",
                                    "7": "Table_3f728d8864434c88a9f60907a5c2168f_20",
                                    "8": "2021-08-22 18:14:28.567"
                                },
                                {
                                    "0": "FactFinance100m",
                                    "1": "1",
                                    "2": "1",
                                    "3": "3",
                                    "4": "COMPRESSED",
                                    "5": "1048576",
                                    "6": "NO_TRIM",
                                    "7": "Table_3f728d8864434c88a9f60907a5c2168f_21",
                                    "8": "2021-08-22 18:14:37.047"
                                },
                                {
                                    "0": "FactFinance100m",
                                    "1": "1",
                                    "2": "1",
                                    "3": "3",
                                    "4": "COMPRESSED",
                                    "5": "1048576",
                                    "6": "NO_TRIM",
                                    "7": "Table_3f728d8864434c88a9f60907a5c2168f_22",
                                    "8": "2021-08-22 18:14:37.000"
                                },
                                {
                                    "0": "FactFinance100m",
                                    "1": "1",
                                    "2": "1",
                                    "3": "3",
                                    "4": "COMPRESSED",
                                    "5": "1048576",
                                    "6": "NO_TRIM",
                                    "7": "Table_3f728d8864434c88a9f60907a5c2168f_23",
                                    "8": "2021-08-22 18:14:11.443"
                                },
                                {
                                    "0": "FactFinance100m",
                                    "1": "1",
                                    "2": "1",
                                    "3": "3",
                                    "4": "COMPRESSED",
                                    "5": "1048576",
                                    "6": "NO_TRIM",
                                    "7": "Table_3f728d8864434c88a9f60907a5c2168f_24",
                                    "8": "2021-08-22 18:14:28.413"
                                },
                                {
                                    "0": "FactFinance100m",
                                    "1": "1",
                                    "2": "1",
                                    "3": "3",
                                    "4": "COMPRESSED",
                                    "5": "1048576",
                                    "6": "NO_TRIM",
                                    "7": "Table_3f728d8864434c88a9f60907a5c2168f_25",
                                    "8": "2021-08-22 18:14:11.077"
                                },
                                {
                                    "0": "FactFinance100m",
                                    "1": "1",
                                    "2": "1",
                                    "3": "3",
                                    "4": "COMPRESSED",
                                    "5": "1048576",
                                    "6": "NO_TRIM",
                                    "7": "Table_3f728d8864434c88a9f60907a5c2168f_26",
                                    "8": "2021-08-22 18:13:48.970"
                                },
                                {
                                    "0": "FactFinance100m",
                                    "1": "1",
                                    "2": "1",
                                    "3": "3",
                                    "4": "COMPRESSED",
                                    "5": "1048576",
                                    "6": "NO_TRIM",
                                    "7": "Table_3f728d8864434c88a9f60907a5c2168f_27",
                                    "8": "2021-08-22 18:14:37.067"
                                },
                                {
                                    "0": "FactFinance100m",
                                    "1": "1",
                                    "2": "1",
                                    "3": "3",
                                    "4": "COMPRESSED",
                                    "5": "1048576",
                                    "6": "NO_TRIM",
                                    "7": "Table_3f728d8864434c88a9f60907a5c2168f_28",
                                    "8": "2021-08-22 18:14:55.940"
                                },
                                {
                                    "0": "FactFinance100m",
                                    "1": "1",
                                    "2": "1",
                                    "3": "3",
                                    "4": "COMPRESSED",
                                    "5": "1048576",
                                    "6": "NO_TRIM",
                                    "7": "Table_3f728d8864434c88a9f60907a5c2168f_29",
                                    "8": "2021-08-22 18:14:28.613"
                                },
                                {
                                    "0": "FactFinance100m",
                                    "1": "1",
                                    "2": "1",
                                    "3": "3",
                                    "4": "COMPRESSED",
                                    "5": "1048576",
                                    "6": "NO_TRIM",
                                    "7": "Table_3f728d8864434c88a9f60907a5c2168f_30",
                                    "8": "2021-08-22 18:14:12.697"
                                },
                                {
                                    "0": "FactFinance100m",
                                    "1": "1",
                                    "2": "1",
                                    "3": "3",
                                    "4": "COMPRESSED",
                                    "5": "1048576",
                                    "6": "NO_TRIM",
                                    "7": "Table_3f728d8864434c88a9f60907a5c2168f_31",
                                    "8": "2021-08-22 18:14:55.893"
                                },
                                {
                                    "0": "FactFinance100m",
                                    "1": "1",
                                    "2": "1",
                                    "3": "3",
                                    "4": "COMPRESSED",
                                    "5": "1048576",
                                    "6": "NO_TRIM",
                                    "7": "Table_3f728d8864434c88a9f60907a5c2168f_32",
                                    "8": "2021-08-22 18:13:48.150"
                                },
                                {
                                    "0": "FactFinance100m",
                                    "1": "1",
                                    "2": "1",
                                    "3": "3",
                                    "4": "COMPRESSED",
                                    "5": "1048576",
                                    "6": "NO_TRIM",
                                    "7": "Table_3f728d8864434c88a9f60907a5c2168f_33",
                                    "8": "2021-08-22 18:15:07.957"
                                },
                                {
                                    "0": "FactFinance100m",
                                    "1": "1",
                                    "2": "1",
                                    "3": "3",
                                    "4": "COMPRESSED",
                                    "5": "1048576",
                                    "6": "NO_TRIM",
                                    "7": "Table_3f728d8864434c88a9f60907a5c2168f_34",
                                    "8": "2021-08-22 18:15:17.367"
                                },
                                {
                                    "0": "FactFinance100m",
                                    "1": "1",
                                    "2": "1",
                                    "3": "3",
                                    "4": "COMPRESSED",
                                    "5": "1048576",
                                    "6": "NO_TRIM",
                                    "7": "Table_3f728d8864434c88a9f60907a5c2168f_35",
                                    "8": "2021-08-22 18:14:12.727"
                                },
                                {
                                    "0": "FactFinance100m",
                                    "1": "1",
                                    "2": "1",
                                    "3": "3",
                                    "4": "COMPRESSED",
                                    "5": "1048576",
                                    "6": "NO_TRIM",
                                    "7": "Table_3f728d8864434c88a9f60907a5c2168f_36",
                                    "8": "2021-08-22 18:15:05.477"
                                },
                                {
                                    "0": "FactFinance100m",
                                    "1": "1",
                                    "2": "1",
                                    "3": "3",
                                    "4": "COMPRESSED",
                                    "5": "1048576",
                                    "6": "NO_TRIM",
                                    "7": "Table_3f728d8864434c88a9f60907a5c2168f_37",
                                    "8": "2021-08-22 18:15:07.977"
                                },
                                {
                                    "0": "FactFinance100m",
                                    "1": "1",
                                    "2": "1",
                                    "3": "3",
                                    "4": "COMPRESSED",
                                    "5": "1048576",
                                    "6": "NO_TRIM",
                                    "7": "Table_3f728d8864434c88a9f60907a5c2168f_38",
                                    "8": "2021-08-22 18:14:28.323"
                                },
                                {
                                    "0": "FactFinance100m",
                                    "1": "1",
                                    "2": "1",
                                    "3": "3",
                                    "4": "COMPRESSED",
                                    "5": "1048576",
                                    "6": "NO_TRIM",
                                    "7": "Table_3f728d8864434c88a9f60907a5c2168f_39",
                                    "8": "2021-08-22 18:14:28.623"
                                },
                                {
                                    "0": "FactFinance100m",
                                    "1": "1",
                                    "2": "1",
                                    "3": "3",
                                    "4": "COMPRESSED",
                                    "5": "1048576",
                                    "6": "NO_TRIM",
                                    "7": "Table_3f728d8864434c88a9f60907a5c2168f_40",
                                    "8": "2021-08-22 18:15:08.080"
                                },
                                {
                                    "0": "FactFinance100m",
                                    "1": "1",
                                    "2": "1",
                                    "3": "3",
                                    "4": "COMPRESSED",
                                    "5": "1048576",
                                    "6": "NO_TRIM",
                                    "7": "Table_3f728d8864434c88a9f60907a5c2168f_41",
                                    "8": "2021-08-22 18:14:10.963"
                                },
                                {
                                    "0": "FactFinance100m",
                                    "1": "1",
                                    "2": "1",
                                    "3": "3",
                                    "4": "COMPRESSED",
                                    "5": "1048576",
                                    "6": "NO_TRIM",
                                    "7": "Table_3f728d8864434c88a9f60907a5c2168f_42",
                                    "8": "2021-08-22 18:14:55.870"
                                },
                                {
                                    "0": "FactFinance100m",
                                    "1": "1",
                                    "2": "1",
                                    "3": "3",
                                    "4": "COMPRESSED",
                                    "5": "1048576",
                                    "6": "NO_TRIM",
                                    "7": "Table_3f728d8864434c88a9f60907a5c2168f_43",
                                    "8": "2021-08-22 18:14:55.887"
                                },
                                {
                                    "0": "FactFinance100m",
                                    "1": "1",
                                    "2": "1",
                                    "3": "3",
                                    "4": "COMPRESSED",
                                    "5": "1048576",
                                    "6": "NO_TRIM",
                                    "7": "Table_3f728d8864434c88a9f60907a5c2168f_44",
                                    "8": "2021-08-22 18:14:55.680"
                                },
                                {
                                    "0": "FactFinance100m",
                                    "1": "1",
                                    "2": "1",
                                    "3": "3",
                                    "4": "COMPRESSED",
                                    "5": "1048576",
                                    "6": "NO_TRIM",
                                    "7": "Table_3f728d8864434c88a9f60907a5c2168f_45",
                                    "8": "2021-08-22 18:15:08.003"
                                },
                                {
                                    "0": "FactFinance100m",
                                    "1": "1",
                                    "2": "1",
                                    "3": "3",
                                    "4": "COMPRESSED",
                                    "5": "1048576",
                                    "6": "NO_TRIM",
                                    "7": "Table_3f728d8864434c88a9f60907a5c2168f_46",
                                    "8": "2021-08-22 18:14:28.283"
                                },
                                {
                                    "0": "FactFinance100m",
                                    "1": "1",
                                    "2": "1",
                                    "3": "3",
                                    "4": "COMPRESSED",
                                    "5": "1048576",
                                    "6": "NO_TRIM",
                                    "7": "Table_3f728d8864434c88a9f60907a5c2168f_47",
                                    "8": "2021-08-22 18:15:17.313"
                                },
                                {
                                    "0": "FactFinance100m",
                                    "1": "1",
                                    "2": "1",
                                    "3": "3",
                                    "4": "COMPRESSED",
                                    "5": "1048576",
                                    "6": "NO_TRIM",
                                    "7": "Table_3f728d8864434c88a9f60907a5c2168f_48",
                                    "8": "2021-08-22 18:14:11.600"
                                },
                                {
                                    "0": "FactFinance100m",
                                    "1": "1",
                                    "2": "1",
                                    "3": "3",
                                    "4": "COMPRESSED",
                                    "5": "1048576",
                                    "6": "NO_TRIM",
                                    "7": "Table_3f728d8864434c88a9f60907a5c2168f_49",
                                    "8": "2021-08-22 18:14:12.913"
                                },
                                {
                                    "0": "FactFinance100m",
                                    "1": "1",
                                    "2": "1",
                                    "3": "3",
                                    "4": "COMPRESSED",
                                    "5": "1048576",
                                    "6": "NO_TRIM",
                                    "7": "Table_3f728d8864434c88a9f60907a5c2168f_50",
                                    "8": "2021-08-22 18:15:17.423"
                                },
                                {
                                    "0": "FactFinance100m",
                                    "1": "1",
                                    "2": "1",
                                    "3": "3",
                                    "4": "COMPRESSED",
                                    "5": "1048576",
                                    "6": "NO_TRIM",
                                    "7": "Table_3f728d8864434c88a9f60907a5c2168f_51",
                                    "8": "2021-08-22 18:15:17.363"
                                },
                                {
                                    "0": "FactFinance100m",
                                    "1": "1",
                                    "2": "1",
                                    "3": "3",
                                    "4": "COMPRESSED",
                                    "5": "1048576",
                                    "6": "NO_TRIM",
                                    "7": "Table_3f728d8864434c88a9f60907a5c2168f_52",
                                    "8": "2021-08-22 18:15:17.407"
                                },
                                {
                                    "0": "FactFinance100m",
                                    "1": "1",
                                    "2": "1",
                                    "3": "3",
                                    "4": "COMPRESSED",
                                    "5": "1048576",
                                    "6": "NO_TRIM",
                                    "7": "Table_3f728d8864434c88a9f60907a5c2168f_53",
                                    "8": "2021-08-22 18:15:08.040"
                                },
                                {
                                    "0": "FactFinance100m",
                                    "1": "1",
                                    "2": "1",
                                    "3": "3",
                                    "4": "COMPRESSED",
                                    "5": "1048576",
                                    "6": "NO_TRIM",
                                    "7": "Table_3f728d8864434c88a9f60907a5c2168f_54",
                                    "8": "2021-08-22 18:14:28.437"
                                },
                                {
                                    "0": "FactFinance100m",
                                    "1": "1",
                                    "2": "1",
                                    "3": "3",
                                    "4": "COMPRESSED",
                                    "5": "1048576",
                                    "6": "NO_TRIM",
                                    "7": "Table_3f728d8864434c88a9f60907a5c2168f_55",
                                    "8": "2021-08-22 18:15:05.480"
                                },
                                {
                                    "0": "FactFinance100m",
                                    "1": "1",
                                    "2": "1",
                                    "3": "3",
                                    "4": "COMPRESSED",
                                    "5": "1048576",
                                    "6": "NO_TRIM",
                                    "7": "Table_3f728d8864434c88a9f60907a5c2168f_56",
                                    "8": "2021-08-22 18:15:05.203"
                                },
                                {
                                    "0": "FactFinance100m",
                                    "1": "1",
                                    "2": "1",
                                    "3": "3",
                                    "4": "COMPRESSED",
                                    "5": "1048576",
                                    "6": "NO_TRIM",
                                    "7": "Table_3f728d8864434c88a9f60907a5c2168f_57",
                                    "8": "2021-08-22 18:14:28.247"
                                },
                                {
                                    "0": "FactFinance100m",
                                    "1": "1",
                                    "2": "1",
                                    "3": "3",
                                    "4": "COMPRESSED",
                                    "5": "1048576",
                                    "6": "NO_TRIM",
                                    "7": "Table_3f728d8864434c88a9f60907a5c2168f_58",
                                    "8": "2021-08-22 18:14:12.847"
                                },
                                {
                                    "0": "FactFinance100m",
                                    "1": "1",
                                    "2": "1",
                                    "3": "3",
                                    "4": "COMPRESSED",
                                    "5": "1048576",
                                    "6": "NO_TRIM",
                                    "7": "Table_3f728d8864434c88a9f60907a5c2168f_59",
                                    "8": "2021-08-22 18:14:37.087"
                                },
                                {
                                    "0": "FactFinance100m",
                                    "1": "1",
                                    "2": "1",
                                    "3": "3",
                                    "4": "COMPRESSED",
                                    "5": "1048576",
                                    "6": "NO_TRIM",
                                    "7": "Table_3f728d8864434c88a9f60907a5c2168f_60",
                                    "8": "2021-08-22 18:15:05.427"
                                },
                                {
                                    "0": "FactFinance100m",
                                    "1": "0",
                                    "2": "1",
                                    "3": "3",
                                    "4": "COMPRESSED",
                                    "5": "1048576",
                                    "6": "NO_TRIM",
                                    "7": "Table_3f728d8864434c88a9f60907a5c2168f_1",
                                    "8": "2021-08-22 18:14:02.397"
                                },
                                {
                                    "0": "FactFinance100m",
                                    "1": "0",
                                    "2": "1",
                                    "3": "3",
                                    "4": "COMPRESSED",
                                    "5": "1048576",
                                    "6": "NO_TRIM",
                                    "7": "Table_3f728d8864434c88a9f60907a5c2168f_2",
                                    "8": "2021-08-22 18:14:31.853"
                                },
                                {
                                    "0": "FactFinance100m",
                                    "1": "0",
                                    "2": "1",
                                    "3": "3",
                                    "4": "COMPRESSED",
                                    "5": "1048576",
                                    "6": "NO_TRIM",
                                    "7": "Table_3f728d8864434c88a9f60907a5c2168f_3",
                                    "8": "2021-08-22 18:14:24.683"
                                },
                                {
                                    "0": "FactFinance100m",
                                    "1": "0",
                                    "2": "1",
                                    "3": "3",
                                    "4": "COMPRESSED",
                                    "5": "1048576",
                                    "6": "NO_TRIM",
                                    "7": "Table_3f728d8864434c88a9f60907a5c2168f_4",
                                    "8": "2021-08-22 18:14:31.950"
                                },
                                {
                                    "0": "FactFinance100m",
                                    "1": "0",
                                    "2": "1",
                                    "3": "3",
                                    "4": "COMPRESSED",
                                    "5": "1048576",
                                    "6": "NO_TRIM",
                                    "7": "Table_3f728d8864434c88a9f60907a5c2168f_5",
                                    "8": "2021-08-22 18:13:56.027"
                                },
                                {
                                    "0": "FactFinance100m",
                                    "1": "0",
                                    "2": "1",
                                    "3": "3",
                                    "4": "COMPRESSED",
                                    "5": "1048576",
                                    "6": "NO_TRIM",
                                    "7": "Table_3f728d8864434c88a9f60907a5c2168f_6",
                                    "8": "2021-08-22 18:14:24.693"
                                },
                                {
                                    "0": "FactFinance100m",
                                    "1": "0",
                                    "2": "1",
                                    "3": "3",
                                    "4": "COMPRESSED",
                                    "5": "1048576",
                                    "6": "NO_TRIM",
                                    "7": "Table_3f728d8864434c88a9f60907a5c2168f_7",
                                    "8": "2021-08-22 18:14:23.870"
                                },
                                {
                                    "0": "FactFinance100m",
                                    "1": "0",
                                    "2": "1",
                                    "3": "3",
                                    "4": "COMPRESSED",
                                    "5": "1048576",
                                    "6": "NO_TRIM",
                                    "7": "Table_3f728d8864434c88a9f60907a5c2168f_8",
                                    "8": "2021-08-22 18:14:02.440"
                                },
                                {
                                    "0": "FactFinance100m",
                                    "1": "0",
                                    "2": "1",
                                    "3": "3",
                                    "4": "COMPRESSED",
                                    "5": "1048576",
                                    "6": "NO_TRIM",
                                    "7": "Table_3f728d8864434c88a9f60907a5c2168f_9",
                                    "8": "2021-08-22 18:14:24.033"
                                },
                                {
                                    "0": "FactFinance100m",
                                    "1": "0",
                                    "2": "1",
                                    "3": "3",
                                    "4": "COMPRESSED",
                                    "5": "1048576",
                                    "6": "NO_TRIM",
                                    "7": "Table_3f728d8864434c88a9f60907a5c2168f_10",
                                    "8": "2021-08-22 18:14:02.537"
                                },
                                {
                                    "0": "FactFinance100m",
                                    "1": "0",
                                    "2": "1",
                                    "3": "3",
                                    "4": "COMPRESSED",
                                    "5": "1048576",
                                    "6": "NO_TRIM",
                                    "7": "Table_3f728d8864434c88a9f60907a5c2168f_11",
                                    "8": "2021-08-22 18:13:56.157"
                                },
                                {
                                    "0": "FactFinance100m",
                                    "1": "0",
                                    "2": "1",
                                    "3": "3",
                                    "4": "COMPRESSED",
                                    "5": "1048576",
                                    "6": "NO_TRIM",
                                    "7": "Table_3f728d8864434c88a9f60907a5c2168f_12",
                                    "8": "2021-08-22 18:14:23.907"
                                },
                                {
                                    "0": "FactFinance100m",
                                    "1": "0",
                                    "2": "1",
                                    "3": "3",
                                    "4": "COMPRESSED",
                                    "5": "1048576",
                                    "6": "NO_TRIM",
                                    "7": "Table_3f728d8864434c88a9f60907a5c2168f_13",
                                    "8": "2021-08-22 18:13:56.090"
                                },
                                {
                                    "0": "FactFinance100m",
                                    "1": "0",
                                    "2": "1",
                                    "3": "3",
                                    "4": "COMPRESSED",
                                    "5": "1048576",
                                    "6": "NO_TRIM",
                                    "7": "Table_3f728d8864434c88a9f60907a5c2168f_14",
                                    "8": "2021-08-22 18:14:01.273"
                                },
                                {
                                    "0": "FactFinance100m",
                                    "1": "0",
                                    "2": "1",
                                    "3": "3",
                                    "4": "COMPRESSED",
                                    "5": "1048576",
                                    "6": "NO_TRIM",
                                    "7": "Table_3f728d8864434c88a9f60907a5c2168f_15",
                                    "8": "2021-08-22 18:13:56.037"
                                },
                                {
                                    "0": "FactFinance100m",
                                    "1": "0",
                                    "2": "1",
                                    "3": "3",
                                    "4": "COMPRESSED",
                                    "5": "1048576",
                                    "6": "NO_TRIM",
                                    "7": "Table_3f728d8864434c88a9f60907a5c2168f_16",
                                    "8": "2021-08-22 18:14:16.930"
                                },
                                {
                                    "0": "FactFinance100m",
                                    "1": "0",
                                    "2": "1",
                                    "3": "3",
                                    "4": "COMPRESSED",
                                    "5": "1048576",
                                    "6": "NO_TRIM",
                                    "7": "Table_3f728d8864434c88a9f60907a5c2168f_17",
                                    "8": "2021-08-22 18:14:07.443"
                                },
                                {
                                    "0": "FactFinance100m",
                                    "1": "0",
                                    "2": "1",
                                    "3": "3",
                                    "4": "COMPRESSED",
                                    "5": "1048576",
                                    "6": "NO_TRIM",
                                    "7": "Table_3f728d8864434c88a9f60907a5c2168f_18",
                                    "8": "2021-08-22 18:13:40.640"
                                },
                                {
                                    "0": "FactFinance100m",
                                    "1": "0",
                                    "2": "1",
                                    "3": "3",
                                    "4": "COMPRESSED",
                                    "5": "1048576",
                                    "6": "NO_TRIM",
                                    "7": "Table_3f728d8864434c88a9f60907a5c2168f_19",
                                    "8": "2021-08-22 18:14:31.887"
                                },
                                {
                                    "0": "FactFinance100m",
                                    "1": "0",
                                    "2": "1",
                                    "3": "3",
                                    "4": "COMPRESSED",
                                    "5": "1048576",
                                    "6": "NO_TRIM",
                                    "7": "Table_3f728d8864434c88a9f60907a5c2168f_20",
                                    "8": "2021-08-22 18:14:02.613"
                                },
                                {
                                    "0": "FactFinance100m",
                                    "1": "0",
                                    "2": "1",
                                    "3": "3",
                                    "4": "COMPRESSED",
                                    "5": "1048576",
                                    "6": "NO_TRIM",
                                    "7": "Table_3f728d8864434c88a9f60907a5c2168f_21",
                                    "8": "2021-08-22 18:14:07.340"
                                },
                                {
                                    "0": "FactFinance100m",
                                    "1": "0",
                                    "2": "1",
                                    "3": "3",
                                    "4": "COMPRESSED",
                                    "5": "1048576",
                                    "6": "NO_TRIM",
                                    "7": "Table_3f728d8864434c88a9f60907a5c2168f_22",
                                    "8": "2021-08-22 18:14:07.230"
                                },
                                {
                                    "0": "FactFinance100m",
                                    "1": "0",
                                    "2": "1",
                                    "3": "3",
                                    "4": "COMPRESSED",
                                    "5": "1048576",
                                    "6": "NO_TRIM",
                                    "7": "Table_3f728d8864434c88a9f60907a5c2168f_23",
                                    "8": "2021-08-22 18:13:56.083"
                                },
                                {
                                    "0": "FactFinance100m",
                                    "1": "0",
                                    "2": "1",
                                    "3": "3",
                                    "4": "COMPRESSED",
                                    "5": "1048576",
                                    "6": "NO_TRIM",
                                    "7": "Table_3f728d8864434c88a9f60907a5c2168f_24",
                                    "8": "2021-08-22 18:14:02.493"
                                },
                                {
                                    "0": "FactFinance100m",
                                    "1": "0",
                                    "2": "1",
                                    "3": "3",
                                    "4": "COMPRESSED",
                                    "5": "1048576",
                                    "6": "NO_TRIM",
                                    "7": "Table_3f728d8864434c88a9f60907a5c2168f_25",
                                    "8": "2021-08-22 18:13:55.930"
                                },
                                {
                                    "0": "FactFinance100m",
                                    "1": "0",
                                    "2": "1",
                                    "3": "3",
                                    "4": "COMPRESSED",
                                    "5": "1048576",
                                    "6": "NO_TRIM",
                                    "7": "Table_3f728d8864434c88a9f60907a5c2168f_26",
                                    "8": "2021-08-22 18:13:40.660"
                                },
                                {
                                    "0": "FactFinance100m",
                                    "1": "0",
                                    "2": "1",
                                    "3": "3",
                                    "4": "COMPRESSED",
                                    "5": "1048576",
                                    "6": "NO_TRIM",
                                    "7": "Table_3f728d8864434c88a9f60907a5c2168f_27",
                                    "8": "2021-08-22 18:14:07.393"
                                },
                                {
                                    "0": "FactFinance100m",
                                    "1": "0",
                                    "2": "1",
                                    "3": "3",
                                    "4": "COMPRESSED",
                                    "5": "1048576",
                                    "6": "NO_TRIM",
                                    "7": "Table_3f728d8864434c88a9f60907a5c2168f_28",
                                    "8": "2021-08-22 18:14:16.953"
                                },
                                {
                                    "0": "FactFinance100m",
                                    "1": "0",
                                    "2": "1",
                                    "3": "3",
                                    "4": "COMPRESSED",
                                    "5": "1048576",
                                    "6": "NO_TRIM",
                                    "7": "Table_3f728d8864434c88a9f60907a5c2168f_29",
                                    "8": "2021-08-22 18:14:02.570"
                                },
                                {
                                    "0": "FactFinance100m",
                                    "1": "0",
                                    "2": "1",
                                    "3": "3",
                                    "4": "COMPRESSED",
                                    "5": "1048576",
                                    "6": "NO_TRIM",
                                    "7": "Table_3f728d8864434c88a9f60907a5c2168f_30",
                                    "8": "2021-08-22 18:13:56.597"
                                },
                                {
                                    "0": "FactFinance100m",
                                    "1": "0",
                                    "2": "1",
                                    "3": "3",
                                    "4": "COMPRESSED",
                                    "5": "1048576",
                                    "6": "NO_TRIM",
                                    "7": "Table_3f728d8864434c88a9f60907a5c2168f_31",
                                    "8": "2021-08-22 18:14:17.013"
                                },
                                {
                                    "0": "FactFinance100m",
                                    "1": "0",
                                    "2": "1",
                                    "3": "3",
                                    "4": "COMPRESSED",
                                    "5": "1048576",
                                    "6": "NO_TRIM",
                                    "7": "Table_3f728d8864434c88a9f60907a5c2168f_32",
                                    "8": "2021-08-22 18:13:40.630"
                                },
                                {
                                    "0": "FactFinance100m",
                                    "1": "0",
                                    "2": "1",
                                    "3": "3",
                                    "4": "COMPRESSED",
                                    "5": "1048576",
                                    "6": "NO_TRIM",
                                    "7": "Table_3f728d8864434c88a9f60907a5c2168f_33",
                                    "8": "2021-08-22 18:14:24.830"
                                },
                                {
                                    "0": "FactFinance100m",
                                    "1": "0",
                                    "2": "1",
                                    "3": "3",
                                    "4": "COMPRESSED",
                                    "5": "1048576",
                                    "6": "NO_TRIM",
                                    "7": "Table_3f728d8864434c88a9f60907a5c2168f_34",
                                    "8": "2021-08-22 18:14:31.860"
                                },
                                {
                                    "0": "FactFinance100m",
                                    "1": "0",
                                    "2": "1",
                                    "3": "3",
                                    "4": "COMPRESSED",
                                    "5": "1048576",
                                    "6": "NO_TRIM",
                                    "7": "Table_3f728d8864434c88a9f60907a5c2168f_35",
                                    "8": "2021-08-22 18:13:56.677"
                                },
                                {
                                    "0": "FactFinance100m",
                                    "1": "0",
                                    "2": "1",
                                    "3": "3",
                                    "4": "COMPRESSED",
                                    "5": "1048576",
                                    "6": "NO_TRIM",
                                    "7": "Table_3f728d8864434c88a9f60907a5c2168f_36",
                                    "8": "2021-08-22 18:14:23.890"
                                },
                                {
                                    "0": "FactFinance100m",
                                    "1": "0",
                                    "2": "1",
                                    "3": "3",
                                    "4": "COMPRESSED",
                                    "5": "1048576",
                                    "6": "NO_TRIM",
                                    "7": "Table_3f728d8864434c88a9f60907a5c2168f_37",
                                    "8": "2021-08-22 18:14:24.747"
                                },
                                {
                                    "0": "FactFinance100m",
                                    "1": "0",
                                    "2": "1",
                                    "3": "3",
                                    "4": "COMPRESSED",
                                    "5": "1048576",
                                    "6": "NO_TRIM",
                                    "7": "Table_3f728d8864434c88a9f60907a5c2168f_38",
                                    "8": "2021-08-22 18:14:01.280"
                                },
                                {
                                    "0": "FactFinance100m",
                                    "1": "0",
                                    "2": "1",
                                    "3": "3",
                                    "4": "COMPRESSED",
                                    "5": "1048576",
                                    "6": "NO_TRIM",
                                    "7": "Table_3f728d8864434c88a9f60907a5c2168f_39",
                                    "8": "2021-08-22 18:14:02.653"
                                },
                                {
                                    "0": "FactFinance100m",
                                    "1": "0",
                                    "2": "1",
                                    "3": "3",
                                    "4": "COMPRESSED",
                                    "5": "1048576",
                                    "6": "NO_TRIM",
                                    "7": "Table_3f728d8864434c88a9f60907a5c2168f_40",
                                    "8": "2021-08-22 18:14:24.823"
                                },
                                {
                                    "0": "FactFinance100m",
                                    "1": "0",
                                    "2": "1",
                                    "3": "3",
                                    "4": "COMPRESSED",
                                    "5": "1048576",
                                    "6": "NO_TRIM",
                                    "7": "Table_3f728d8864434c88a9f60907a5c2168f_41",
                                    "8": "2021-08-22 18:13:55.843"
                                },
                                {
                                    "0": "FactFinance100m",
                                    "1": "0",
                                    "2": "1",
                                    "3": "3",
                                    "4": "COMPRESSED",
                                    "5": "1048576",
                                    "6": "NO_TRIM",
                                    "7": "Table_3f728d8864434c88a9f60907a5c2168f_42",
                                    "8": "2021-08-22 18:14:16.960"
                                },
                                {
                                    "0": "FactFinance100m",
                                    "1": "0",
                                    "2": "1",
                                    "3": "3",
                                    "4": "COMPRESSED",
                                    "5": "1048576",
                                    "6": "NO_TRIM",
                                    "7": "Table_3f728d8864434c88a9f60907a5c2168f_43",
                                    "8": "2021-08-22 18:14:17.000"
                                },
                                {
                                    "0": "FactFinance100m",
                                    "1": "0",
                                    "2": "1",
                                    "3": "3",
                                    "4": "COMPRESSED",
                                    "5": "1048576",
                                    "6": "NO_TRIM",
                                    "7": "Table_3f728d8864434c88a9f60907a5c2168f_44",
                                    "8": "2021-08-22 18:14:16.890"
                                },
                                {
                                    "0": "FactFinance100m",
                                    "1": "0",
                                    "2": "1",
                                    "3": "3",
                                    "4": "COMPRESSED",
                                    "5": "1048576",
                                    "6": "NO_TRIM",
                                    "7": "Table_3f728d8864434c88a9f60907a5c2168f_45",
                                    "8": "2021-08-22 18:14:24.793"
                                },
                                {
                                    "0": "FactFinance100m",
                                    "1": "0",
                                    "2": "1",
                                    "3": "3",
                                    "4": "COMPRESSED",
                                    "5": "1048576",
                                    "6": "NO_TRIM",
                                    "7": "Table_3f728d8864434c88a9f60907a5c2168f_46",
                                    "8": "2021-08-22 18:14:01.193"
                                },
                                {
                                    "0": "FactFinance100m",
                                    "1": "0",
                                    "2": "1",
                                    "3": "3",
                                    "4": "COMPRESSED",
                                    "5": "1048576",
                                    "6": "NO_TRIM",
                                    "7": "Table_3f728d8864434c88a9f60907a5c2168f_47",
                                    "8": "2021-08-22 18:14:31.847"
                                },
                                {
                                    "0": "FactFinance100m",
                                    "1": "0",
                                    "2": "1",
                                    "3": "3",
                                    "4": "COMPRESSED",
                                    "5": "1048576",
                                    "6": "NO_TRIM",
                                    "7": "Table_3f728d8864434c88a9f60907a5c2168f_48",
                                    "8": "2021-08-22 18:13:56.150"
                                },
                                {
                                    "0": "FactFinance100m",
                                    "1": "0",
                                    "2": "1",
                                    "3": "3",
                                    "4": "COMPRESSED",
                                    "5": "1048576",
                                    "6": "NO_TRIM",
                                    "7": "Table_3f728d8864434c88a9f60907a5c2168f_49",
                                    "8": "2021-08-22 18:13:56.653"
                                },
                                {
                                    "0": "FactFinance100m",
                                    "1": "0",
                                    "2": "1",
                                    "3": "3",
                                    "4": "COMPRESSED",
                                    "5": "1048576",
                                    "6": "NO_TRIM",
                                    "7": "Table_3f728d8864434c88a9f60907a5c2168f_50",
                                    "8": "2021-08-22 18:14:31.953"
                                },
                                {
                                    "0": "FactFinance100m",
                                    "1": "0",
                                    "2": "1",
                                    "3": "3",
                                    "4": "COMPRESSED",
                                    "5": "1048576",
                                    "6": "NO_TRIM",
                                    "7": "Table_3f728d8864434c88a9f60907a5c2168f_51",
                                    "8": "2021-08-22 18:14:31.883"
                                },
                                {
                                    "0": "FactFinance100m",
                                    "1": "0",
                                    "2": "1",
                                    "3": "3",
                                    "4": "COMPRESSED",
                                    "5": "1048576",
                                    "6": "NO_TRIM",
                                    "7": "Table_3f728d8864434c88a9f60907a5c2168f_52",
                                    "8": "2021-08-22 18:14:32.097"
                                },
                                {
                                    "0": "FactFinance100m",
                                    "1": "0",
                                    "2": "1",
                                    "3": "3",
                                    "4": "COMPRESSED",
                                    "5": "1048576",
                                    "6": "NO_TRIM",
                                    "7": "Table_3f728d8864434c88a9f60907a5c2168f_53",
                                    "8": "2021-08-22 18:14:24.760"
                                },
                                {
                                    "0": "FactFinance100m",
                                    "1": "0",
                                    "2": "1",
                                    "3": "3",
                                    "4": "COMPRESSED",
                                    "5": "1048576",
                                    "6": "NO_TRIM",
                                    "7": "Table_3f728d8864434c88a9f60907a5c2168f_54",
                                    "8": "2021-08-22 18:14:01.320"
                                },
                                {
                                    "0": "FactFinance100m",
                                    "1": "0",
                                    "2": "1",
                                    "3": "3",
                                    "4": "COMPRESSED",
                                    "5": "1048576",
                                    "6": "NO_TRIM",
                                    "7": "Table_3f728d8864434c88a9f60907a5c2168f_55",
                                    "8": "2021-08-22 18:14:23.873"
                                },
                                {
                                    "0": "FactFinance100m",
                                    "1": "0",
                                    "2": "1",
                                    "3": "3",
                                    "4": "COMPRESSED",
                                    "5": "1048576",
                                    "6": "NO_TRIM",
                                    "7": "Table_3f728d8864434c88a9f60907a5c2168f_56",
                                    "8": "2021-08-22 18:14:23.767"
                                },
                                {
                                    "0": "FactFinance100m",
                                    "1": "0",
                                    "2": "1",
                                    "3": "3",
                                    "4": "COMPRESSED",
                                    "5": "1048576",
                                    "6": "NO_TRIM",
                                    "7": "Table_3f728d8864434c88a9f60907a5c2168f_57",
                                    "8": "2021-08-22 18:14:02.357"
                                },
                                {
                                    "0": "FactFinance100m",
                                    "1": "0",
                                    "2": "1",
                                    "3": "3",
                                    "4": "COMPRESSED",
                                    "5": "1048576",
                                    "6": "NO_TRIM",
                                    "7": "Table_3f728d8864434c88a9f60907a5c2168f_58",
                                    "8": "2021-08-22 18:13:56.630"
                                },
                                {
                                    "0": "FactFinance100m",
                                    "1": "0",
                                    "2": "1",
                                    "3": "3",
                                    "4": "COMPRESSED",
                                    "5": "1048576",
                                    "6": "NO_TRIM",
                                    "7": "Table_3f728d8864434c88a9f60907a5c2168f_59",
                                    "8": "2021-08-22 18:14:07.300"
                                },
                                {
                                    "0": "FactFinance100m",
                                    "1": "0",
                                    "2": "1",
                                    "3": "3",
                                    "4": "COMPRESSED",
                                    "5": "1048576",
                                    "6": "NO_TRIM",
                                    "7": "Table_3f728d8864434c88a9f60907a5c2168f_60",
                                    "8": "2021-08-22 18:14:23.877"
                                }
                            ]
                        },
                        "text/html": "<table><tr><th>logical_table_name</th><th>row_group_id</th><th>partition_number</th><th>state</th><th>state_desc</th><th>total_rows</th><th>trim_reason_desc</th><th>physical_name</th><th>created_time</th></tr><tr><td>FactFinance100m</td><td>2</td><td>1</td><td>1</td><td>OPEN</td><td>69376</td><td>NULL</td><td>Table_3f728d8864434c88a9f60907a5c2168f_1</td><td>2021-08-22 18:14:29.690</td></tr><tr><td>FactFinance100m</td><td>2</td><td>1</td><td>1</td><td>OPEN</td><td>69376</td><td>NULL</td><td>Table_3f728d8864434c88a9f60907a5c2168f_2</td><td>2021-08-22 18:15:18.770</td></tr><tr><td>FactFinance100m</td><td>2</td><td>1</td><td>1</td><td>OPEN</td><td>69376</td><td>NULL</td><td>Table_3f728d8864434c88a9f60907a5c2168f_3</td><td>2021-08-22 18:15:09.563</td></tr><tr><td>FactFinance100m</td><td>2</td><td>1</td><td>1</td><td>OPEN</td><td>69376</td><td>NULL</td><td>Table_3f728d8864434c88a9f60907a5c2168f_4</td><td>2021-08-22 18:15:18.877</td></tr><tr><td>FactFinance100m</td><td>2</td><td>1</td><td>1</td><td>OPEN</td><td>69376</td><td>NULL</td><td>Table_3f728d8864434c88a9f60907a5c2168f_5</td><td>2021-08-22 18:14:11.883</td></tr><tr><td>FactFinance100m</td><td>2</td><td>1</td><td>1</td><td>OPEN</td><td>69376</td><td>NULL</td><td>Table_3f728d8864434c88a9f60907a5c2168f_6</td><td>2021-08-22 18:15:09.660</td></tr><tr><td>FactFinance100m</td><td>2</td><td>1</td><td>1</td><td>OPEN</td><td>69376</td><td>NULL</td><td>Table_3f728d8864434c88a9f60907a5c2168f_7</td><td>2021-08-22 18:15:06.670</td></tr><tr><td>FactFinance100m</td><td>2</td><td>1</td><td>1</td><td>OPEN</td><td>69376</td><td>NULL</td><td>Table_3f728d8864434c88a9f60907a5c2168f_8</td><td>2021-08-22 18:14:29.497</td></tr><tr><td>FactFinance100m</td><td>2</td><td>1</td><td>1</td><td>OPEN</td><td>69376</td><td>NULL</td><td>Table_3f728d8864434c88a9f60907a5c2168f_9</td><td>2021-08-22 18:15:06.697</td></tr><tr><td>FactFinance100m</td><td>2</td><td>1</td><td>1</td><td>OPEN</td><td>69376</td><td>NULL</td><td>Table_3f728d8864434c88a9f60907a5c2168f_10</td><td>2021-08-22 18:14:29.970</td></tr><tr><td>FactFinance100m</td><td>2</td><td>1</td><td>1</td><td>OPEN</td><td>69376</td><td>NULL</td><td>Table_3f728d8864434c88a9f60907a5c2168f_11</td><td>2021-08-22 18:14:12.360</td></tr><tr><td>FactFinance100m</td><td>2</td><td>1</td><td>1</td><td>OPEN</td><td>69376</td><td>NULL</td><td>Table_3f728d8864434c88a9f60907a5c2168f_12</td><td>2021-08-22 18:15:06.707</td></tr><tr><td>FactFinance100m</td><td>2</td><td>1</td><td>1</td><td>OPEN</td><td>69376</td><td>NULL</td><td>Table_3f728d8864434c88a9f60907a5c2168f_13</td><td>2021-08-22 18:14:12.157</td></tr><tr><td>FactFinance100m</td><td>2</td><td>1</td><td>1</td><td>OPEN</td><td>69376</td><td>NULL</td><td>Table_3f728d8864434c88a9f60907a5c2168f_14</td><td>2021-08-22 18:14:30.207</td></tr><tr><td>FactFinance100m</td><td>2</td><td>1</td><td>1</td><td>OPEN</td><td>69376</td><td>NULL</td><td>Table_3f728d8864434c88a9f60907a5c2168f_15</td><td>2021-08-22 18:14:11.570</td></tr><tr><td>FactFinance100m</td><td>2</td><td>1</td><td>1</td><td>OPEN</td><td>69376</td><td>NULL</td><td>Table_3f728d8864434c88a9f60907a5c2168f_16</td><td>2021-08-22 18:14:58.063</td></tr><tr><td>FactFinance100m</td><td>2</td><td>1</td><td>1</td><td>OPEN</td><td>69376</td><td>NULL</td><td>Table_3f728d8864434c88a9f60907a5c2168f_17</td><td>2021-08-22 18:14:37.903</td></tr><tr><td>FactFinance100m</td><td>2</td><td>1</td><td>1</td><td>OPEN</td><td>69376</td><td>NULL</td><td>Table_3f728d8864434c88a9f60907a5c2168f_18</td><td>2021-08-22 18:13:48.790</td></tr><tr><td>FactFinance100m</td><td>2</td><td>1</td><td>1</td><td>OPEN</td><td>69376</td><td>NULL</td><td>Table_3f728d8864434c88a9f60907a5c2168f_19</td><td>2021-08-22 18:15:18.657</td></tr><tr><td>FactFinance100m</td><td>2</td><td>1</td><td>1</td><td>OPEN</td><td>69376</td><td>NULL</td><td>Table_3f728d8864434c88a9f60907a5c2168f_20</td><td>2021-08-22 18:14:29.883</td></tr><tr><td>FactFinance100m</td><td>2</td><td>1</td><td>1</td><td>OPEN</td><td>69376</td><td>NULL</td><td>Table_3f728d8864434c88a9f60907a5c2168f_21</td><td>2021-08-22 18:14:37.923</td></tr><tr><td>FactFinance100m</td><td>2</td><td>1</td><td>1</td><td>OPEN</td><td>69872</td><td>NULL</td><td>Table_3f728d8864434c88a9f60907a5c2168f_22</td><td>2021-08-22 18:14:37.797</td></tr><tr><td>FactFinance100m</td><td>2</td><td>1</td><td>1</td><td>OPEN</td><td>69872</td><td>NULL</td><td>Table_3f728d8864434c88a9f60907a5c2168f_23</td><td>2021-08-22 18:14:12.157</td></tr><tr><td>FactFinance100m</td><td>2</td><td>1</td><td>1</td><td>OPEN</td><td>69872</td><td>NULL</td><td>Table_3f728d8864434c88a9f60907a5c2168f_24</td><td>2021-08-22 18:14:29.187</td></tr><tr><td>FactFinance100m</td><td>2</td><td>1</td><td>1</td><td>OPEN</td><td>69872</td><td>NULL</td><td>Table_3f728d8864434c88a9f60907a5c2168f_25</td><td>2021-08-22 18:14:11.643</td></tr><tr><td>FactFinance100m</td><td>2</td><td>1</td><td>1</td><td>OPEN</td><td>69872</td><td>NULL</td><td>Table_3f728d8864434c88a9f60907a5c2168f_26</td><td>2021-08-22 18:13:49.363</td></tr><tr><td>FactFinance100m</td><td>2</td><td>1</td><td>1</td><td>OPEN</td><td>69872</td><td>NULL</td><td>Table_3f728d8864434c88a9f60907a5c2168f_27</td><td>2021-08-22 18:14:37.963</td></tr><tr><td>FactFinance100m</td><td>2</td><td>1</td><td>1</td><td>OPEN</td><td>69872</td><td>NULL</td><td>Table_3f728d8864434c88a9f60907a5c2168f_28</td><td>2021-08-22 18:14:58.180</td></tr><tr><td>FactFinance100m</td><td>2</td><td>1</td><td>1</td><td>OPEN</td><td>69872</td><td>NULL</td><td>Table_3f728d8864434c88a9f60907a5c2168f_29</td><td>2021-08-22 18:14:29.920</td></tr><tr><td>FactFinance100m</td><td>2</td><td>1</td><td>1</td><td>OPEN</td><td>69872</td><td>NULL</td><td>Table_3f728d8864434c88a9f60907a5c2168f_30</td><td>2021-08-22 18:14:13.283</td></tr><tr><td>FactFinance100m</td><td>2</td><td>1</td><td>1</td><td>OPEN</td><td>69872</td><td>NULL</td><td>Table_3f728d8864434c88a9f60907a5c2168f_31</td><td>2021-08-22 18:14:58.140</td></tr><tr><td>FactFinance100m</td><td>2</td><td>1</td><td>1</td><td>OPEN</td><td>69872</td><td>NULL</td><td>Table_3f728d8864434c88a9f60907a5c2168f_32</td><td>2021-08-22 18:13:48.553</td></tr><tr><td>FactFinance100m</td><td>2</td><td>1</td><td>1</td><td>OPEN</td><td>69872</td><td>NULL</td><td>Table_3f728d8864434c88a9f60907a5c2168f_33</td><td>2021-08-22 18:15:10.280</td></tr><tr><td>FactFinance100m</td><td>2</td><td>1</td><td>1</td><td>OPEN</td><td>69872</td><td>NULL</td><td>Table_3f728d8864434c88a9f60907a5c2168f_34</td><td>2021-08-22 18:15:18.787</td></tr><tr><td>FactFinance100m</td><td>2</td><td>1</td><td>1</td><td>OPEN</td><td>69872</td><td>NULL</td><td>Table_3f728d8864434c88a9f60907a5c2168f_35</td><td>2021-08-22 18:14:13.360</td></tr><tr><td>FactFinance100m</td><td>2</td><td>1</td><td>1</td><td>OPEN</td><td>69872</td><td>NULL</td><td>Table_3f728d8864434c88a9f60907a5c2168f_36</td><td>2021-08-22 18:15:06.690</td></tr><tr><td>FactFinance100m</td><td>2</td><td>1</td><td>1</td><td>OPEN</td><td>69872</td><td>NULL</td><td>Table_3f728d8864434c88a9f60907a5c2168f_37</td><td>2021-08-22 18:15:10.313</td></tr><tr><td>FactFinance100m</td><td>2</td><td>1</td><td>1</td><td>OPEN</td><td>69760</td><td>NULL</td><td>Table_3f728d8864434c88a9f60907a5c2168f_38</td><td>2021-08-22 18:14:29.640</td></tr><tr><td>FactFinance100m</td><td>2</td><td>1</td><td>1</td><td>OPEN</td><td>69376</td><td>NULL</td><td>Table_3f728d8864434c88a9f60907a5c2168f_39</td><td>2021-08-22 18:14:29.970</td></tr><tr><td>FactFinance100m</td><td>2</td><td>1</td><td>1</td><td>OPEN</td><td>69376</td><td>NULL</td><td>Table_3f728d8864434c88a9f60907a5c2168f_40</td><td>2021-08-22 18:15:10.437</td></tr><tr><td>FactFinance100m</td><td>2</td><td>1</td><td>1</td><td>OPEN</td><td>69376</td><td>NULL</td><td>Table_3f728d8864434c88a9f60907a5c2168f_41</td><td>2021-08-22 18:14:11.300</td></tr><tr><td>FactFinance100m</td><td>2</td><td>1</td><td>1</td><td>OPEN</td><td>69376</td><td>NULL</td><td>Table_3f728d8864434c88a9f60907a5c2168f_42</td><td>2021-08-22 18:14:58.070</td></tr><tr><td>FactFinance100m</td><td>2</td><td>1</td><td>1</td><td>OPEN</td><td>69376</td><td>NULL</td><td>Table_3f728d8864434c88a9f60907a5c2168f_43</td><td>2021-08-22 18:14:58.113</td></tr><tr><td>FactFinance100m</td><td>2</td><td>1</td><td>1</td><td>OPEN</td><td>69376</td><td>NULL</td><td>Table_3f728d8864434c88a9f60907a5c2168f_44</td><td>2021-08-22 18:14:57.000</td></tr><tr><td>FactFinance100m</td><td>2</td><td>1</td><td>1</td><td>OPEN</td><td>69376</td><td>NULL</td><td>Table_3f728d8864434c88a9f60907a5c2168f_45</td><td>2021-08-22 18:15:10.357</td></tr><tr><td>FactFinance100m</td><td>2</td><td>1</td><td>1</td><td>OPEN</td><td>69376</td><td>NULL</td><td>Table_3f728d8864434c88a9f60907a5c2168f_46</td><td>2021-08-22 18:14:29.517</td></tr><tr><td>FactFinance100m</td><td>2</td><td>1</td><td>1</td><td>OPEN</td><td>69376</td><td>NULL</td><td>Table_3f728d8864434c88a9f60907a5c2168f_47</td><td>2021-08-22 18:15:18.440</td></tr><tr><td>FactFinance100m</td><td>2</td><td>1</td><td>1</td><td>OPEN</td><td>69376</td><td>NULL</td><td>Table_3f728d8864434c88a9f60907a5c2168f_48</td><td>2021-08-22 18:14:12.330</td></tr><tr><td>FactFinance100m</td><td>2</td><td>1</td><td>1</td><td>OPEN</td><td>69376</td><td>NULL</td><td>Table_3f728d8864434c88a9f60907a5c2168f_49</td><td>2021-08-22 18:14:13.617</td></tr><tr><td>FactFinance100m</td><td>2</td><td>1</td><td>1</td><td>OPEN</td><td>69376</td><td>NULL</td><td>Table_3f728d8864434c88a9f60907a5c2168f_50</td><td>2021-08-22 18:15:18.853</td></tr><tr><td>FactFinance100m</td><td>2</td><td>1</td><td>1</td><td>OPEN</td><td>69376</td><td>NULL</td><td>Table_3f728d8864434c88a9f60907a5c2168f_51</td><td>2021-08-22 18:15:18.777</td></tr><tr><td>FactFinance100m</td><td>2</td><td>1</td><td>1</td><td>OPEN</td><td>69376</td><td>NULL</td><td>Table_3f728d8864434c88a9f60907a5c2168f_52</td><td>2021-08-22 18:15:18.843</td></tr><tr><td>FactFinance100m</td><td>2</td><td>1</td><td>1</td><td>OPEN</td><td>69376</td><td>NULL</td><td>Table_3f728d8864434c88a9f60907a5c2168f_53</td><td>2021-08-22 18:15:10.373</td></tr><tr><td>FactFinance100m</td><td>2</td><td>1</td><td>1</td><td>OPEN</td><td>69376</td><td>NULL</td><td>Table_3f728d8864434c88a9f60907a5c2168f_54</td><td>2021-08-22 18:14:29.867</td></tr><tr><td>FactFinance100m</td><td>2</td><td>1</td><td>1</td><td>OPEN</td><td>69376</td><td>NULL</td><td>Table_3f728d8864434c88a9f60907a5c2168f_55</td><td>2021-08-22 18:15:06.687</td></tr><tr><td>FactFinance100m</td><td>2</td><td>1</td><td>1</td><td>OPEN</td><td>69376</td><td>NULL</td><td>Table_3f728d8864434c88a9f60907a5c2168f_56</td><td>2021-08-22 18:15:05.500</td></tr><tr><td>FactFinance100m</td><td>2</td><td>1</td><td>1</td><td>OPEN</td><td>69376</td><td>NULL</td><td>Table_3f728d8864434c88a9f60907a5c2168f_57</td><td>2021-08-22 18:14:28.733</td></tr><tr><td>FactFinance100m</td><td>2</td><td>1</td><td>1</td><td>OPEN</td><td>69376</td><td>NULL</td><td>Table_3f728d8864434c88a9f60907a5c2168f_58</td><td>2021-08-22 18:14:13.567</td></tr><tr><td>FactFinance100m</td><td>2</td><td>1</td><td>1</td><td>OPEN</td><td>69376</td><td>NULL</td><td>Table_3f728d8864434c88a9f60907a5c2168f_59</td><td>2021-08-22 18:14:37.953</td></tr><tr><td>FactFinance100m</td><td>2</td><td>1</td><td>1</td><td>OPEN</td><td>69376</td><td>NULL</td><td>Table_3f728d8864434c88a9f60907a5c2168f_60</td><td>2021-08-22 18:15:06.553</td></tr><tr><td>FactFinance100m</td><td>1</td><td>1</td><td>3</td><td>COMPRESSED</td><td>1048576</td><td>NO_TRIM</td><td>Table_3f728d8864434c88a9f60907a5c2168f_1</td><td>2021-08-22 18:14:28.427</td></tr><tr><td>FactFinance100m</td><td>1</td><td>1</td><td>3</td><td>COMPRESSED</td><td>1048576</td><td>NO_TRIM</td><td>Table_3f728d8864434c88a9f60907a5c2168f_2</td><td>2021-08-22 18:15:17.360</td></tr><tr><td>FactFinance100m</td><td>1</td><td>1</td><td>3</td><td>COMPRESSED</td><td>1048576</td><td>NO_TRIM</td><td>Table_3f728d8864434c88a9f60907a5c2168f_3</td><td>2021-08-22 18:15:07.693</td></tr><tr><td>FactFinance100m</td><td>1</td><td>1</td><td>3</td><td>COMPRESSED</td><td>1048576</td><td>NO_TRIM</td><td>Table_3f728d8864434c88a9f60907a5c2168f_4</td><td>2021-08-22 18:15:17.420</td></tr><tr><td>FactFinance100m</td><td>1</td><td>1</td><td>3</td><td>COMPRESSED</td><td>1048576</td><td>NO_TRIM</td><td>Table_3f728d8864434c88a9f60907a5c2168f_5</td><td>2021-08-22 18:14:11.210</td></tr><tr><td>FactFinance100m</td><td>1</td><td>1</td><td>3</td><td>COMPRESSED</td><td>1048576</td><td>NO_TRIM</td><td>Table_3f728d8864434c88a9f60907a5c2168f_6</td><td>2021-08-22 18:15:07.743</td></tr><tr><td>FactFinance100m</td><td>1</td><td>1</td><td>3</td><td>COMPRESSED</td><td>1048576</td><td>NO_TRIM</td><td>Table_3f728d8864434c88a9f60907a5c2168f_7</td><td>2021-08-22 18:15:05.457</td></tr><tr><td>FactFinance100m</td><td>1</td><td>1</td><td>3</td><td>COMPRESSED</td><td>1048576</td><td>NO_TRIM</td><td>Table_3f728d8864434c88a9f60907a5c2168f_8</td><td>2021-08-22 18:14:28.380</td></tr><tr><td>FactFinance100m</td><td>1</td><td>1</td><td>3</td><td>COMPRESSED</td><td>1048576</td><td>NO_TRIM</td><td>Table_3f728d8864434c88a9f60907a5c2168f_9</td><td>2021-08-22 18:15:05.507</td></tr><tr><td>FactFinance100m</td><td>1</td><td>1</td><td>3</td><td>COMPRESSED</td><td>1048576</td><td>NO_TRIM</td><td>Table_3f728d8864434c88a9f60907a5c2168f_10</td><td>2021-08-22 18:14:28.603</td></tr><tr><td>FactFinance100m</td><td>1</td><td>1</td><td>3</td><td>COMPRESSED</td><td>1048576</td><td>NO_TRIM</td><td>Table_3f728d8864434c88a9f60907a5c2168f_11</td><td>2021-08-22 18:14:11.623</td></tr><tr><td>FactFinance100m</td><td>1</td><td>1</td><td>3</td><td>COMPRESSED</td><td>1048576</td><td>NO_TRIM</td><td>Table_3f728d8864434c88a9f60907a5c2168f_12</td><td>2021-08-22 18:15:05.490</td></tr><tr><td>FactFinance100m</td><td>1</td><td>1</td><td>3</td><td>COMPRESSED</td><td>1048576</td><td>NO_TRIM</td><td>Table_3f728d8864434c88a9f60907a5c2168f_13</td><td>2021-08-22 18:14:11.530</td></tr><tr><td>FactFinance100m</td><td>1</td><td>1</td><td>3</td><td>COMPRESSED</td><td>1048576</td><td>NO_TRIM</td><td>Table_3f728d8864434c88a9f60907a5c2168f_14</td><td>2021-08-22 18:14:28.703</td></tr><tr><td>FactFinance100m</td><td>1</td><td>1</td><td>3</td><td>COMPRESSED</td><td>1048576</td><td>NO_TRIM</td><td>Table_3f728d8864434c88a9f60907a5c2168f_15</td><td>2021-08-22 18:14:11.330</td></tr><tr><td>FactFinance100m</td><td>1</td><td>1</td><td>3</td><td>COMPRESSED</td><td>1048576</td><td>NO_TRIM</td><td>Table_3f728d8864434c88a9f60907a5c2168f_16</td><td>2021-08-22 18:14:55.877</td></tr><tr><td>FactFinance100m</td><td>1</td><td>1</td><td>3</td><td>COMPRESSED</td><td>1048576</td><td>NO_TRIM</td><td>Table_3f728d8864434c88a9f60907a5c2168f_17</td><td>2021-08-22 18:14:37.027</td></tr><tr><td>FactFinance100m</td><td>1</td><td>1</td><td>3</td><td>COMPRESSED</td><td>1048576</td><td>NO_TRIM</td><td>Table_3f728d8864434c88a9f60907a5c2168f_18</td><td>2021-08-22 18:13:48.410</td></tr><tr><td>FactFinance100m</td><td>1</td><td>1</td><td>3</td><td>COMPRESSED</td><td>1048576</td><td>NO_TRIM</td><td>Table_3f728d8864434c88a9f60907a5c2168f_19</td><td>2021-08-22 18:15:17.330</td></tr><tr><td>FactFinance100m</td><td>1</td><td>1</td><td>3</td><td>COMPRESSED</td><td>1048576</td><td>NO_TRIM</td><td>Table_3f728d8864434c88a9f60907a5c2168f_20</td><td>2021-08-22 18:14:28.567</td></tr><tr><td>FactFinance100m</td><td>1</td><td>1</td><td>3</td><td>COMPRESSED</td><td>1048576</td><td>NO_TRIM</td><td>Table_3f728d8864434c88a9f60907a5c2168f_21</td><td>2021-08-22 18:14:37.047</td></tr><tr><td>FactFinance100m</td><td>1</td><td>1</td><td>3</td><td>COMPRESSED</td><td>1048576</td><td>NO_TRIM</td><td>Table_3f728d8864434c88a9f60907a5c2168f_22</td><td>2021-08-22 18:14:37.000</td></tr><tr><td>FactFinance100m</td><td>1</td><td>1</td><td>3</td><td>COMPRESSED</td><td>1048576</td><td>NO_TRIM</td><td>Table_3f728d8864434c88a9f60907a5c2168f_23</td><td>2021-08-22 18:14:11.443</td></tr><tr><td>FactFinance100m</td><td>1</td><td>1</td><td>3</td><td>COMPRESSED</td><td>1048576</td><td>NO_TRIM</td><td>Table_3f728d8864434c88a9f60907a5c2168f_24</td><td>2021-08-22 18:14:28.413</td></tr><tr><td>FactFinance100m</td><td>1</td><td>1</td><td>3</td><td>COMPRESSED</td><td>1048576</td><td>NO_TRIM</td><td>Table_3f728d8864434c88a9f60907a5c2168f_25</td><td>2021-08-22 18:14:11.077</td></tr><tr><td>FactFinance100m</td><td>1</td><td>1</td><td>3</td><td>COMPRESSED</td><td>1048576</td><td>NO_TRIM</td><td>Table_3f728d8864434c88a9f60907a5c2168f_26</td><td>2021-08-22 18:13:48.970</td></tr><tr><td>FactFinance100m</td><td>1</td><td>1</td><td>3</td><td>COMPRESSED</td><td>1048576</td><td>NO_TRIM</td><td>Table_3f728d8864434c88a9f60907a5c2168f_27</td><td>2021-08-22 18:14:37.067</td></tr><tr><td>FactFinance100m</td><td>1</td><td>1</td><td>3</td><td>COMPRESSED</td><td>1048576</td><td>NO_TRIM</td><td>Table_3f728d8864434c88a9f60907a5c2168f_28</td><td>2021-08-22 18:14:55.940</td></tr><tr><td>FactFinance100m</td><td>1</td><td>1</td><td>3</td><td>COMPRESSED</td><td>1048576</td><td>NO_TRIM</td><td>Table_3f728d8864434c88a9f60907a5c2168f_29</td><td>2021-08-22 18:14:28.613</td></tr><tr><td>FactFinance100m</td><td>1</td><td>1</td><td>3</td><td>COMPRESSED</td><td>1048576</td><td>NO_TRIM</td><td>Table_3f728d8864434c88a9f60907a5c2168f_30</td><td>2021-08-22 18:14:12.697</td></tr><tr><td>FactFinance100m</td><td>1</td><td>1</td><td>3</td><td>COMPRESSED</td><td>1048576</td><td>NO_TRIM</td><td>Table_3f728d8864434c88a9f60907a5c2168f_31</td><td>2021-08-22 18:14:55.893</td></tr><tr><td>FactFinance100m</td><td>1</td><td>1</td><td>3</td><td>COMPRESSED</td><td>1048576</td><td>NO_TRIM</td><td>Table_3f728d8864434c88a9f60907a5c2168f_32</td><td>2021-08-22 18:13:48.150</td></tr><tr><td>FactFinance100m</td><td>1</td><td>1</td><td>3</td><td>COMPRESSED</td><td>1048576</td><td>NO_TRIM</td><td>Table_3f728d8864434c88a9f60907a5c2168f_33</td><td>2021-08-22 18:15:07.957</td></tr><tr><td>FactFinance100m</td><td>1</td><td>1</td><td>3</td><td>COMPRESSED</td><td>1048576</td><td>NO_TRIM</td><td>Table_3f728d8864434c88a9f60907a5c2168f_34</td><td>2021-08-22 18:15:17.367</td></tr><tr><td>FactFinance100m</td><td>1</td><td>1</td><td>3</td><td>COMPRESSED</td><td>1048576</td><td>NO_TRIM</td><td>Table_3f728d8864434c88a9f60907a5c2168f_35</td><td>2021-08-22 18:14:12.727</td></tr><tr><td>FactFinance100m</td><td>1</td><td>1</td><td>3</td><td>COMPRESSED</td><td>1048576</td><td>NO_TRIM</td><td>Table_3f728d8864434c88a9f60907a5c2168f_36</td><td>2021-08-22 18:15:05.477</td></tr><tr><td>FactFinance100m</td><td>1</td><td>1</td><td>3</td><td>COMPRESSED</td><td>1048576</td><td>NO_TRIM</td><td>Table_3f728d8864434c88a9f60907a5c2168f_37</td><td>2021-08-22 18:15:07.977</td></tr><tr><td>FactFinance100m</td><td>1</td><td>1</td><td>3</td><td>COMPRESSED</td><td>1048576</td><td>NO_TRIM</td><td>Table_3f728d8864434c88a9f60907a5c2168f_38</td><td>2021-08-22 18:14:28.323</td></tr><tr><td>FactFinance100m</td><td>1</td><td>1</td><td>3</td><td>COMPRESSED</td><td>1048576</td><td>NO_TRIM</td><td>Table_3f728d8864434c88a9f60907a5c2168f_39</td><td>2021-08-22 18:14:28.623</td></tr><tr><td>FactFinance100m</td><td>1</td><td>1</td><td>3</td><td>COMPRESSED</td><td>1048576</td><td>NO_TRIM</td><td>Table_3f728d8864434c88a9f60907a5c2168f_40</td><td>2021-08-22 18:15:08.080</td></tr><tr><td>FactFinance100m</td><td>1</td><td>1</td><td>3</td><td>COMPRESSED</td><td>1048576</td><td>NO_TRIM</td><td>Table_3f728d8864434c88a9f60907a5c2168f_41</td><td>2021-08-22 18:14:10.963</td></tr><tr><td>FactFinance100m</td><td>1</td><td>1</td><td>3</td><td>COMPRESSED</td><td>1048576</td><td>NO_TRIM</td><td>Table_3f728d8864434c88a9f60907a5c2168f_42</td><td>2021-08-22 18:14:55.870</td></tr><tr><td>FactFinance100m</td><td>1</td><td>1</td><td>3</td><td>COMPRESSED</td><td>1048576</td><td>NO_TRIM</td><td>Table_3f728d8864434c88a9f60907a5c2168f_43</td><td>2021-08-22 18:14:55.887</td></tr><tr><td>FactFinance100m</td><td>1</td><td>1</td><td>3</td><td>COMPRESSED</td><td>1048576</td><td>NO_TRIM</td><td>Table_3f728d8864434c88a9f60907a5c2168f_44</td><td>2021-08-22 18:14:55.680</td></tr><tr><td>FactFinance100m</td><td>1</td><td>1</td><td>3</td><td>COMPRESSED</td><td>1048576</td><td>NO_TRIM</td><td>Table_3f728d8864434c88a9f60907a5c2168f_45</td><td>2021-08-22 18:15:08.003</td></tr><tr><td>FactFinance100m</td><td>1</td><td>1</td><td>3</td><td>COMPRESSED</td><td>1048576</td><td>NO_TRIM</td><td>Table_3f728d8864434c88a9f60907a5c2168f_46</td><td>2021-08-22 18:14:28.283</td></tr><tr><td>FactFinance100m</td><td>1</td><td>1</td><td>3</td><td>COMPRESSED</td><td>1048576</td><td>NO_TRIM</td><td>Table_3f728d8864434c88a9f60907a5c2168f_47</td><td>2021-08-22 18:15:17.313</td></tr><tr><td>FactFinance100m</td><td>1</td><td>1</td><td>3</td><td>COMPRESSED</td><td>1048576</td><td>NO_TRIM</td><td>Table_3f728d8864434c88a9f60907a5c2168f_48</td><td>2021-08-22 18:14:11.600</td></tr><tr><td>FactFinance100m</td><td>1</td><td>1</td><td>3</td><td>COMPRESSED</td><td>1048576</td><td>NO_TRIM</td><td>Table_3f728d8864434c88a9f60907a5c2168f_49</td><td>2021-08-22 18:14:12.913</td></tr><tr><td>FactFinance100m</td><td>1</td><td>1</td><td>3</td><td>COMPRESSED</td><td>1048576</td><td>NO_TRIM</td><td>Table_3f728d8864434c88a9f60907a5c2168f_50</td><td>2021-08-22 18:15:17.423</td></tr><tr><td>FactFinance100m</td><td>1</td><td>1</td><td>3</td><td>COMPRESSED</td><td>1048576</td><td>NO_TRIM</td><td>Table_3f728d8864434c88a9f60907a5c2168f_51</td><td>2021-08-22 18:15:17.363</td></tr><tr><td>FactFinance100m</td><td>1</td><td>1</td><td>3</td><td>COMPRESSED</td><td>1048576</td><td>NO_TRIM</td><td>Table_3f728d8864434c88a9f60907a5c2168f_52</td><td>2021-08-22 18:15:17.407</td></tr><tr><td>FactFinance100m</td><td>1</td><td>1</td><td>3</td><td>COMPRESSED</td><td>1048576</td><td>NO_TRIM</td><td>Table_3f728d8864434c88a9f60907a5c2168f_53</td><td>2021-08-22 18:15:08.040</td></tr><tr><td>FactFinance100m</td><td>1</td><td>1</td><td>3</td><td>COMPRESSED</td><td>1048576</td><td>NO_TRIM</td><td>Table_3f728d8864434c88a9f60907a5c2168f_54</td><td>2021-08-22 18:14:28.437</td></tr><tr><td>FactFinance100m</td><td>1</td><td>1</td><td>3</td><td>COMPRESSED</td><td>1048576</td><td>NO_TRIM</td><td>Table_3f728d8864434c88a9f60907a5c2168f_55</td><td>2021-08-22 18:15:05.480</td></tr><tr><td>FactFinance100m</td><td>1</td><td>1</td><td>3</td><td>COMPRESSED</td><td>1048576</td><td>NO_TRIM</td><td>Table_3f728d8864434c88a9f60907a5c2168f_56</td><td>2021-08-22 18:15:05.203</td></tr><tr><td>FactFinance100m</td><td>1</td><td>1</td><td>3</td><td>COMPRESSED</td><td>1048576</td><td>NO_TRIM</td><td>Table_3f728d8864434c88a9f60907a5c2168f_57</td><td>2021-08-22 18:14:28.247</td></tr><tr><td>FactFinance100m</td><td>1</td><td>1</td><td>3</td><td>COMPRESSED</td><td>1048576</td><td>NO_TRIM</td><td>Table_3f728d8864434c88a9f60907a5c2168f_58</td><td>2021-08-22 18:14:12.847</td></tr><tr><td>FactFinance100m</td><td>1</td><td>1</td><td>3</td><td>COMPRESSED</td><td>1048576</td><td>NO_TRIM</td><td>Table_3f728d8864434c88a9f60907a5c2168f_59</td><td>2021-08-22 18:14:37.087</td></tr><tr><td>FactFinance100m</td><td>1</td><td>1</td><td>3</td><td>COMPRESSED</td><td>1048576</td><td>NO_TRIM</td><td>Table_3f728d8864434c88a9f60907a5c2168f_60</td><td>2021-08-22 18:15:05.427</td></tr><tr><td>FactFinance100m</td><td>0</td><td>1</td><td>3</td><td>COMPRESSED</td><td>1048576</td><td>NO_TRIM</td><td>Table_3f728d8864434c88a9f60907a5c2168f_1</td><td>2021-08-22 18:14:02.397</td></tr><tr><td>FactFinance100m</td><td>0</td><td>1</td><td>3</td><td>COMPRESSED</td><td>1048576</td><td>NO_TRIM</td><td>Table_3f728d8864434c88a9f60907a5c2168f_2</td><td>2021-08-22 18:14:31.853</td></tr><tr><td>FactFinance100m</td><td>0</td><td>1</td><td>3</td><td>COMPRESSED</td><td>1048576</td><td>NO_TRIM</td><td>Table_3f728d8864434c88a9f60907a5c2168f_3</td><td>2021-08-22 18:14:24.683</td></tr><tr><td>FactFinance100m</td><td>0</td><td>1</td><td>3</td><td>COMPRESSED</td><td>1048576</td><td>NO_TRIM</td><td>Table_3f728d8864434c88a9f60907a5c2168f_4</td><td>2021-08-22 18:14:31.950</td></tr><tr><td>FactFinance100m</td><td>0</td><td>1</td><td>3</td><td>COMPRESSED</td><td>1048576</td><td>NO_TRIM</td><td>Table_3f728d8864434c88a9f60907a5c2168f_5</td><td>2021-08-22 18:13:56.027</td></tr><tr><td>FactFinance100m</td><td>0</td><td>1</td><td>3</td><td>COMPRESSED</td><td>1048576</td><td>NO_TRIM</td><td>Table_3f728d8864434c88a9f60907a5c2168f_6</td><td>2021-08-22 18:14:24.693</td></tr><tr><td>FactFinance100m</td><td>0</td><td>1</td><td>3</td><td>COMPRESSED</td><td>1048576</td><td>NO_TRIM</td><td>Table_3f728d8864434c88a9f60907a5c2168f_7</td><td>2021-08-22 18:14:23.870</td></tr><tr><td>FactFinance100m</td><td>0</td><td>1</td><td>3</td><td>COMPRESSED</td><td>1048576</td><td>NO_TRIM</td><td>Table_3f728d8864434c88a9f60907a5c2168f_8</td><td>2021-08-22 18:14:02.440</td></tr><tr><td>FactFinance100m</td><td>0</td><td>1</td><td>3</td><td>COMPRESSED</td><td>1048576</td><td>NO_TRIM</td><td>Table_3f728d8864434c88a9f60907a5c2168f_9</td><td>2021-08-22 18:14:24.033</td></tr><tr><td>FactFinance100m</td><td>0</td><td>1</td><td>3</td><td>COMPRESSED</td><td>1048576</td><td>NO_TRIM</td><td>Table_3f728d8864434c88a9f60907a5c2168f_10</td><td>2021-08-22 18:14:02.537</td></tr><tr><td>FactFinance100m</td><td>0</td><td>1</td><td>3</td><td>COMPRESSED</td><td>1048576</td><td>NO_TRIM</td><td>Table_3f728d8864434c88a9f60907a5c2168f_11</td><td>2021-08-22 18:13:56.157</td></tr><tr><td>FactFinance100m</td><td>0</td><td>1</td><td>3</td><td>COMPRESSED</td><td>1048576</td><td>NO_TRIM</td><td>Table_3f728d8864434c88a9f60907a5c2168f_12</td><td>2021-08-22 18:14:23.907</td></tr><tr><td>FactFinance100m</td><td>0</td><td>1</td><td>3</td><td>COMPRESSED</td><td>1048576</td><td>NO_TRIM</td><td>Table_3f728d8864434c88a9f60907a5c2168f_13</td><td>2021-08-22 18:13:56.090</td></tr><tr><td>FactFinance100m</td><td>0</td><td>1</td><td>3</td><td>COMPRESSED</td><td>1048576</td><td>NO_TRIM</td><td>Table_3f728d8864434c88a9f60907a5c2168f_14</td><td>2021-08-22 18:14:01.273</td></tr><tr><td>FactFinance100m</td><td>0</td><td>1</td><td>3</td><td>COMPRESSED</td><td>1048576</td><td>NO_TRIM</td><td>Table_3f728d8864434c88a9f60907a5c2168f_15</td><td>2021-08-22 18:13:56.037</td></tr><tr><td>FactFinance100m</td><td>0</td><td>1</td><td>3</td><td>COMPRESSED</td><td>1048576</td><td>NO_TRIM</td><td>Table_3f728d8864434c88a9f60907a5c2168f_16</td><td>2021-08-22 18:14:16.930</td></tr><tr><td>FactFinance100m</td><td>0</td><td>1</td><td>3</td><td>COMPRESSED</td><td>1048576</td><td>NO_TRIM</td><td>Table_3f728d8864434c88a9f60907a5c2168f_17</td><td>2021-08-22 18:14:07.443</td></tr><tr><td>FactFinance100m</td><td>0</td><td>1</td><td>3</td><td>COMPRESSED</td><td>1048576</td><td>NO_TRIM</td><td>Table_3f728d8864434c88a9f60907a5c2168f_18</td><td>2021-08-22 18:13:40.640</td></tr><tr><td>FactFinance100m</td><td>0</td><td>1</td><td>3</td><td>COMPRESSED</td><td>1048576</td><td>NO_TRIM</td><td>Table_3f728d8864434c88a9f60907a5c2168f_19</td><td>2021-08-22 18:14:31.887</td></tr><tr><td>FactFinance100m</td><td>0</td><td>1</td><td>3</td><td>COMPRESSED</td><td>1048576</td><td>NO_TRIM</td><td>Table_3f728d8864434c88a9f60907a5c2168f_20</td><td>2021-08-22 18:14:02.613</td></tr><tr><td>FactFinance100m</td><td>0</td><td>1</td><td>3</td><td>COMPRESSED</td><td>1048576</td><td>NO_TRIM</td><td>Table_3f728d8864434c88a9f60907a5c2168f_21</td><td>2021-08-22 18:14:07.340</td></tr><tr><td>FactFinance100m</td><td>0</td><td>1</td><td>3</td><td>COMPRESSED</td><td>1048576</td><td>NO_TRIM</td><td>Table_3f728d8864434c88a9f60907a5c2168f_22</td><td>2021-08-22 18:14:07.230</td></tr><tr><td>FactFinance100m</td><td>0</td><td>1</td><td>3</td><td>COMPRESSED</td><td>1048576</td><td>NO_TRIM</td><td>Table_3f728d8864434c88a9f60907a5c2168f_23</td><td>2021-08-22 18:13:56.083</td></tr><tr><td>FactFinance100m</td><td>0</td><td>1</td><td>3</td><td>COMPRESSED</td><td>1048576</td><td>NO_TRIM</td><td>Table_3f728d8864434c88a9f60907a5c2168f_24</td><td>2021-08-22 18:14:02.493</td></tr><tr><td>FactFinance100m</td><td>0</td><td>1</td><td>3</td><td>COMPRESSED</td><td>1048576</td><td>NO_TRIM</td><td>Table_3f728d8864434c88a9f60907a5c2168f_25</td><td>2021-08-22 18:13:55.930</td></tr><tr><td>FactFinance100m</td><td>0</td><td>1</td><td>3</td><td>COMPRESSED</td><td>1048576</td><td>NO_TRIM</td><td>Table_3f728d8864434c88a9f60907a5c2168f_26</td><td>2021-08-22 18:13:40.660</td></tr><tr><td>FactFinance100m</td><td>0</td><td>1</td><td>3</td><td>COMPRESSED</td><td>1048576</td><td>NO_TRIM</td><td>Table_3f728d8864434c88a9f60907a5c2168f_27</td><td>2021-08-22 18:14:07.393</td></tr><tr><td>FactFinance100m</td><td>0</td><td>1</td><td>3</td><td>COMPRESSED</td><td>1048576</td><td>NO_TRIM</td><td>Table_3f728d8864434c88a9f60907a5c2168f_28</td><td>2021-08-22 18:14:16.953</td></tr><tr><td>FactFinance100m</td><td>0</td><td>1</td><td>3</td><td>COMPRESSED</td><td>1048576</td><td>NO_TRIM</td><td>Table_3f728d8864434c88a9f60907a5c2168f_29</td><td>2021-08-22 18:14:02.570</td></tr><tr><td>FactFinance100m</td><td>0</td><td>1</td><td>3</td><td>COMPRESSED</td><td>1048576</td><td>NO_TRIM</td><td>Table_3f728d8864434c88a9f60907a5c2168f_30</td><td>2021-08-22 18:13:56.597</td></tr><tr><td>FactFinance100m</td><td>0</td><td>1</td><td>3</td><td>COMPRESSED</td><td>1048576</td><td>NO_TRIM</td><td>Table_3f728d8864434c88a9f60907a5c2168f_31</td><td>2021-08-22 18:14:17.013</td></tr><tr><td>FactFinance100m</td><td>0</td><td>1</td><td>3</td><td>COMPRESSED</td><td>1048576</td><td>NO_TRIM</td><td>Table_3f728d8864434c88a9f60907a5c2168f_32</td><td>2021-08-22 18:13:40.630</td></tr><tr><td>FactFinance100m</td><td>0</td><td>1</td><td>3</td><td>COMPRESSED</td><td>1048576</td><td>NO_TRIM</td><td>Table_3f728d8864434c88a9f60907a5c2168f_33</td><td>2021-08-22 18:14:24.830</td></tr><tr><td>FactFinance100m</td><td>0</td><td>1</td><td>3</td><td>COMPRESSED</td><td>1048576</td><td>NO_TRIM</td><td>Table_3f728d8864434c88a9f60907a5c2168f_34</td><td>2021-08-22 18:14:31.860</td></tr><tr><td>FactFinance100m</td><td>0</td><td>1</td><td>3</td><td>COMPRESSED</td><td>1048576</td><td>NO_TRIM</td><td>Table_3f728d8864434c88a9f60907a5c2168f_35</td><td>2021-08-22 18:13:56.677</td></tr><tr><td>FactFinance100m</td><td>0</td><td>1</td><td>3</td><td>COMPRESSED</td><td>1048576</td><td>NO_TRIM</td><td>Table_3f728d8864434c88a9f60907a5c2168f_36</td><td>2021-08-22 18:14:23.890</td></tr><tr><td>FactFinance100m</td><td>0</td><td>1</td><td>3</td><td>COMPRESSED</td><td>1048576</td><td>NO_TRIM</td><td>Table_3f728d8864434c88a9f60907a5c2168f_37</td><td>2021-08-22 18:14:24.747</td></tr><tr><td>FactFinance100m</td><td>0</td><td>1</td><td>3</td><td>COMPRESSED</td><td>1048576</td><td>NO_TRIM</td><td>Table_3f728d8864434c88a9f60907a5c2168f_38</td><td>2021-08-22 18:14:01.280</td></tr><tr><td>FactFinance100m</td><td>0</td><td>1</td><td>3</td><td>COMPRESSED</td><td>1048576</td><td>NO_TRIM</td><td>Table_3f728d8864434c88a9f60907a5c2168f_39</td><td>2021-08-22 18:14:02.653</td></tr><tr><td>FactFinance100m</td><td>0</td><td>1</td><td>3</td><td>COMPRESSED</td><td>1048576</td><td>NO_TRIM</td><td>Table_3f728d8864434c88a9f60907a5c2168f_40</td><td>2021-08-22 18:14:24.823</td></tr><tr><td>FactFinance100m</td><td>0</td><td>1</td><td>3</td><td>COMPRESSED</td><td>1048576</td><td>NO_TRIM</td><td>Table_3f728d8864434c88a9f60907a5c2168f_41</td><td>2021-08-22 18:13:55.843</td></tr><tr><td>FactFinance100m</td><td>0</td><td>1</td><td>3</td><td>COMPRESSED</td><td>1048576</td><td>NO_TRIM</td><td>Table_3f728d8864434c88a9f60907a5c2168f_42</td><td>2021-08-22 18:14:16.960</td></tr><tr><td>FactFinance100m</td><td>0</td><td>1</td><td>3</td><td>COMPRESSED</td><td>1048576</td><td>NO_TRIM</td><td>Table_3f728d8864434c88a9f60907a5c2168f_43</td><td>2021-08-22 18:14:17.000</td></tr><tr><td>FactFinance100m</td><td>0</td><td>1</td><td>3</td><td>COMPRESSED</td><td>1048576</td><td>NO_TRIM</td><td>Table_3f728d8864434c88a9f60907a5c2168f_44</td><td>2021-08-22 18:14:16.890</td></tr><tr><td>FactFinance100m</td><td>0</td><td>1</td><td>3</td><td>COMPRESSED</td><td>1048576</td><td>NO_TRIM</td><td>Table_3f728d8864434c88a9f60907a5c2168f_45</td><td>2021-08-22 18:14:24.793</td></tr><tr><td>FactFinance100m</td><td>0</td><td>1</td><td>3</td><td>COMPRESSED</td><td>1048576</td><td>NO_TRIM</td><td>Table_3f728d8864434c88a9f60907a5c2168f_46</td><td>2021-08-22 18:14:01.193</td></tr><tr><td>FactFinance100m</td><td>0</td><td>1</td><td>3</td><td>COMPRESSED</td><td>1048576</td><td>NO_TRIM</td><td>Table_3f728d8864434c88a9f60907a5c2168f_47</td><td>2021-08-22 18:14:31.847</td></tr><tr><td>FactFinance100m</td><td>0</td><td>1</td><td>3</td><td>COMPRESSED</td><td>1048576</td><td>NO_TRIM</td><td>Table_3f728d8864434c88a9f60907a5c2168f_48</td><td>2021-08-22 18:13:56.150</td></tr><tr><td>FactFinance100m</td><td>0</td><td>1</td><td>3</td><td>COMPRESSED</td><td>1048576</td><td>NO_TRIM</td><td>Table_3f728d8864434c88a9f60907a5c2168f_49</td><td>2021-08-22 18:13:56.653</td></tr><tr><td>FactFinance100m</td><td>0</td><td>1</td><td>3</td><td>COMPRESSED</td><td>1048576</td><td>NO_TRIM</td><td>Table_3f728d8864434c88a9f60907a5c2168f_50</td><td>2021-08-22 18:14:31.953</td></tr><tr><td>FactFinance100m</td><td>0</td><td>1</td><td>3</td><td>COMPRESSED</td><td>1048576</td><td>NO_TRIM</td><td>Table_3f728d8864434c88a9f60907a5c2168f_51</td><td>2021-08-22 18:14:31.883</td></tr><tr><td>FactFinance100m</td><td>0</td><td>1</td><td>3</td><td>COMPRESSED</td><td>1048576</td><td>NO_TRIM</td><td>Table_3f728d8864434c88a9f60907a5c2168f_52</td><td>2021-08-22 18:14:32.097</td></tr><tr><td>FactFinance100m</td><td>0</td><td>1</td><td>3</td><td>COMPRESSED</td><td>1048576</td><td>NO_TRIM</td><td>Table_3f728d8864434c88a9f60907a5c2168f_53</td><td>2021-08-22 18:14:24.760</td></tr><tr><td>FactFinance100m</td><td>0</td><td>1</td><td>3</td><td>COMPRESSED</td><td>1048576</td><td>NO_TRIM</td><td>Table_3f728d8864434c88a9f60907a5c2168f_54</td><td>2021-08-22 18:14:01.320</td></tr><tr><td>FactFinance100m</td><td>0</td><td>1</td><td>3</td><td>COMPRESSED</td><td>1048576</td><td>NO_TRIM</td><td>Table_3f728d8864434c88a9f60907a5c2168f_55</td><td>2021-08-22 18:14:23.873</td></tr><tr><td>FactFinance100m</td><td>0</td><td>1</td><td>3</td><td>COMPRESSED</td><td>1048576</td><td>NO_TRIM</td><td>Table_3f728d8864434c88a9f60907a5c2168f_56</td><td>2021-08-22 18:14:23.767</td></tr><tr><td>FactFinance100m</td><td>0</td><td>1</td><td>3</td><td>COMPRESSED</td><td>1048576</td><td>NO_TRIM</td><td>Table_3f728d8864434c88a9f60907a5c2168f_57</td><td>2021-08-22 18:14:02.357</td></tr><tr><td>FactFinance100m</td><td>0</td><td>1</td><td>3</td><td>COMPRESSED</td><td>1048576</td><td>NO_TRIM</td><td>Table_3f728d8864434c88a9f60907a5c2168f_58</td><td>2021-08-22 18:13:56.630</td></tr><tr><td>FactFinance100m</td><td>0</td><td>1</td><td>3</td><td>COMPRESSED</td><td>1048576</td><td>NO_TRIM</td><td>Table_3f728d8864434c88a9f60907a5c2168f_59</td><td>2021-08-22 18:14:07.300</td></tr><tr><td>FactFinance100m</td><td>0</td><td>1</td><td>3</td><td>COMPRESSED</td><td>1048576</td><td>NO_TRIM</td><td>Table_3f728d8864434c88a9f60907a5c2168f_60</td><td>2021-08-22 18:14:23.877</td></tr></table>"
                    },
                    "metadata": {}
                }
            ],
            "execution_count": 14
        },
        {
            "cell_type": "code",
            "source": [
                "/*\r\n",
                "    Lets create same table, but just with 20 million rows (not complete segment, then insert in batches to make 130 million)\r\n",
                "\r\n",
                "    Here we can see the RowGroup closed prematurely by BULOAD. If BULK operation si > about 200k records a close may happen on inital insert.\r\n",
                "\r\n",
                "    This results in 14% fragmentation and veery small RowGroupo\r\n",
                "*/\r\n",
                "\r\n",
                "IF OBJECT_ID('[dbo].[FactFinance100m]') is not null \r\n",
                "\tDROP TABLE [dbo].[FactFinance100m]\r\n",
                "GO\r\n",
                "CREATE TABLE [dbo].[FactFinance100m] WITH (\r\n",
                "\tDISTRIBUTION = ROUND_ROBIN, CLUSTERED COLUMNSTORE INDEX \r\n",
                ") AS\r\n",
                "SELECT TOP 20000000 * FROM [dbo].[FactFinance1b]\r\n",
                "GO\r\n",
                "SELECT * FROM dbo.vColumnstoreStats WHERE table_name='FactFinance100m'\r\n",
                "select * From [dbo].[vCS_rg_physical_stats] WHERE logical_table_name='FactFinance100m'\r\n",
                ""
            ],
            "metadata": {
                "azdata_cell_guid": "7be95957-cae8-4386-8e65-6a21953d7aee",
                "extensions": {
                    "azuredatastudio": {
                        "views": []
                    }
                }
            },
            "outputs": [
                {
                    "output_type": "display_data",
                    "data": {
                        "text/html": "Commands completed successfully."
                    },
                    "metadata": {}
                },
                {
                    "output_type": "display_data",
                    "data": {
                        "text/html": "(20000000 rows affected)"
                    },
                    "metadata": {}
                },
                {
                    "output_type": "display_data",
                    "data": {
                        "text/html": "(1 row affected)"
                    },
                    "metadata": {}
                },
                {
                    "output_type": "display_data",
                    "data": {
                        "text/html": "(60 rows affected)"
                    },
                    "metadata": {}
                },
                {
                    "output_type": "display_data",
                    "data": {
                        "text/html": "Total execution time: 00:03:12.995"
                    },
                    "metadata": {}
                },
                {
                    "output_type": "execute_result",
                    "execution_count": 15,
                    "data": {
                        "application/vnd.dataresource+json": {
                            "schema": {
                                "fields": [
                                    {
                                        "name": "execution_date"
                                    },
                                    {
                                        "name": "database_name"
                                    },
                                    {
                                        "name": "schema_name"
                                    },
                                    {
                                        "name": "table_name"
                                    },
                                    {
                                        "name": "partition_number"
                                    },
                                    {
                                        "name": "partition_scheme"
                                    },
                                    {
                                        "name": "object_id"
                                    },
                                    {
                                        "name": "index_name"
                                    },
                                    {
                                        "name": "row_count"
                                    },
                                    {
                                        "name": "deleted_row_count"
                                    },
                                    {
                                        "name": "row_group_count"
                                    },
                                    {
                                        "name": "compressed_row_count"
                                    },
                                    {
                                        "name": "compressed_rowgroup_count"
                                    },
                                    {
                                        "name": "open_rowgroup_count"
                                    },
                                    {
                                        "name": "open_row_count"
                                    },
                                    {
                                        "name": "compressed_row_max"
                                    },
                                    {
                                        "name": "compressed_row_avg"
                                    },
                                    {
                                        "name": "fragmentation_density"
                                    },
                                    {
                                        "name": "fragmentation_deletes"
                                    },
                                    {
                                        "name": "fragmentation_open"
                                    }
                                ]
                            },
                            "data": [
                                {
                                    "0": "2021-08-22 18:37:43.140",
                                    "1": "AdventureWorksDW",
                                    "2": "dbo",
                                    "3": "FactFinance100m",
                                    "4": "NULL",
                                    "5": "NULL",
                                    "6": "1940917986",
                                    "7": "ClusteredIndex_1fba0db5c48b40288124497ec2198389",
                                    "8": "20000000",
                                    "9": "0",
                                    "10": "60",
                                    "11": "20000000",
                                    "12": "60",
                                    "13": "0",
                                    "14": "0",
                                    "15": "333808",
                                    "16": "333333",
                                    "17": "68.2100",
                                    "18": "0.0000",
                                    "19": "0.0000"
                                }
                            ]
                        },
                        "text/html": "<table><tr><th>execution_date</th><th>database_name</th><th>schema_name</th><th>table_name</th><th>partition_number</th><th>partition_scheme</th><th>object_id</th><th>index_name</th><th>row_count</th><th>deleted_row_count</th><th>row_group_count</th><th>compressed_row_count</th><th>compressed_rowgroup_count</th><th>open_rowgroup_count</th><th>open_row_count</th><th>compressed_row_max</th><th>compressed_row_avg</th><th>fragmentation_density</th><th>fragmentation_deletes</th><th>fragmentation_open</th></tr><tr><td>2021-08-22 18:37:43.140</td><td>AdventureWorksDW</td><td>dbo</td><td>FactFinance100m</td><td>NULL</td><td>NULL</td><td>1940917986</td><td>ClusteredIndex_1fba0db5c48b40288124497ec2198389</td><td>20000000</td><td>0</td><td>60</td><td>20000000</td><td>60</td><td>0</td><td>0</td><td>333808</td><td>333333</td><td>68.2100</td><td>0.0000</td><td>0.0000</td></tr></table>"
                    },
                    "metadata": {}
                },
                {
                    "output_type": "execute_result",
                    "execution_count": 15,
                    "data": {
                        "application/vnd.dataresource+json": {
                            "schema": {
                                "fields": [
                                    {
                                        "name": "logical_table_name"
                                    },
                                    {
                                        "name": "row_group_id"
                                    },
                                    {
                                        "name": "partition_number"
                                    },
                                    {
                                        "name": "state"
                                    },
                                    {
                                        "name": "state_desc"
                                    },
                                    {
                                        "name": "total_rows"
                                    },
                                    {
                                        "name": "trim_reason_desc"
                                    },
                                    {
                                        "name": "physical_name"
                                    },
                                    {
                                        "name": "created_time"
                                    }
                                ]
                            },
                            "data": [
                                {
                                    "0": "FactFinance100m",
                                    "1": "0",
                                    "2": "1",
                                    "3": "3",
                                    "4": "COMPRESSED",
                                    "5": "333312",
                                    "6": "BULKLOAD",
                                    "7": "Table_8c92dbd39040490a8eae0c6877992248_1",
                                    "8": "2021-08-22 18:37:35.767"
                                },
                                {
                                    "0": "FactFinance100m",
                                    "1": "0",
                                    "2": "1",
                                    "3": "3",
                                    "4": "COMPRESSED",
                                    "5": "333312",
                                    "6": "BULKLOAD",
                                    "7": "Table_8c92dbd39040490a8eae0c6877992248_2",
                                    "8": "2021-08-22 18:37:38.800"
                                },
                                {
                                    "0": "FactFinance100m",
                                    "1": "0",
                                    "2": "1",
                                    "3": "3",
                                    "4": "COMPRESSED",
                                    "5": "333312",
                                    "6": "BULKLOAD",
                                    "7": "Table_8c92dbd39040490a8eae0c6877992248_3",
                                    "8": "2021-08-22 18:37:38.783"
                                },
                                {
                                    "0": "FactFinance100m",
                                    "1": "0",
                                    "2": "1",
                                    "3": "3",
                                    "4": "COMPRESSED",
                                    "5": "333312",
                                    "6": "BULKLOAD",
                                    "7": "Table_8c92dbd39040490a8eae0c6877992248_4",
                                    "8": "2021-08-22 18:37:35.057"
                                },
                                {
                                    "0": "FactFinance100m",
                                    "1": "0",
                                    "2": "1",
                                    "3": "3",
                                    "4": "COMPRESSED",
                                    "5": "333312",
                                    "6": "BULKLOAD",
                                    "7": "Table_8c92dbd39040490a8eae0c6877992248_5",
                                    "8": "2021-08-22 18:37:40.100"
                                },
                                {
                                    "0": "FactFinance100m",
                                    "1": "0",
                                    "2": "1",
                                    "3": "3",
                                    "4": "COMPRESSED",
                                    "5": "333312",
                                    "6": "BULKLOAD",
                                    "7": "Table_8c92dbd39040490a8eae0c6877992248_6",
                                    "8": "2021-08-22 18:37:41.600"
                                },
                                {
                                    "0": "FactFinance100m",
                                    "1": "0",
                                    "2": "1",
                                    "3": "3",
                                    "4": "COMPRESSED",
                                    "5": "333312",
                                    "6": "BULKLOAD",
                                    "7": "Table_8c92dbd39040490a8eae0c6877992248_7",
                                    "8": "2021-08-22 18:37:41.603"
                                },
                                {
                                    "0": "FactFinance100m",
                                    "1": "0",
                                    "2": "1",
                                    "3": "3",
                                    "4": "COMPRESSED",
                                    "5": "333312",
                                    "6": "BULKLOAD",
                                    "7": "Table_8c92dbd39040490a8eae0c6877992248_8",
                                    "8": "2021-08-22 18:37:35.160"
                                },
                                {
                                    "0": "FactFinance100m",
                                    "1": "0",
                                    "2": "1",
                                    "3": "3",
                                    "4": "COMPRESSED",
                                    "5": "333312",
                                    "6": "BULKLOAD",
                                    "7": "Table_8c92dbd39040490a8eae0c6877992248_9",
                                    "8": "2021-08-22 18:37:40.050"
                                },
                                {
                                    "0": "FactFinance100m",
                                    "1": "0",
                                    "2": "1",
                                    "3": "3",
                                    "4": "COMPRESSED",
                                    "5": "333312",
                                    "6": "BULKLOAD",
                                    "7": "Table_8c92dbd39040490a8eae0c6877992248_10",
                                    "8": "2021-08-22 18:37:34.487"
                                },
                                {
                                    "0": "FactFinance100m",
                                    "1": "0",
                                    "2": "1",
                                    "3": "3",
                                    "4": "COMPRESSED",
                                    "5": "333312",
                                    "6": "BULKLOAD",
                                    "7": "Table_8c92dbd39040490a8eae0c6877992248_11",
                                    "8": "2021-08-22 18:37:29.720"
                                },
                                {
                                    "0": "FactFinance100m",
                                    "1": "0",
                                    "2": "1",
                                    "3": "3",
                                    "4": "COMPRESSED",
                                    "5": "333312",
                                    "6": "BULKLOAD",
                                    "7": "Table_8c92dbd39040490a8eae0c6877992248_12",
                                    "8": "2021-08-22 18:37:38.790"
                                },
                                {
                                    "0": "FactFinance100m",
                                    "1": "0",
                                    "2": "1",
                                    "3": "3",
                                    "4": "COMPRESSED",
                                    "5": "333312",
                                    "6": "BULKLOAD",
                                    "7": "Table_8c92dbd39040490a8eae0c6877992248_13",
                                    "8": "2021-08-22 18:37:32.233"
                                },
                                {
                                    "0": "FactFinance100m",
                                    "1": "0",
                                    "2": "1",
                                    "3": "3",
                                    "4": "COMPRESSED",
                                    "5": "333312",
                                    "6": "BULKLOAD",
                                    "7": "Table_8c92dbd39040490a8eae0c6877992248_14",
                                    "8": "2021-08-22 18:37:35.797"
                                },
                                {
                                    "0": "FactFinance100m",
                                    "1": "0",
                                    "2": "1",
                                    "3": "3",
                                    "4": "COMPRESSED",
                                    "5": "333312",
                                    "6": "BULKLOAD",
                                    "7": "Table_8c92dbd39040490a8eae0c6877992248_15",
                                    "8": "2021-08-22 18:37:33.937"
                                },
                                {
                                    "0": "FactFinance100m",
                                    "1": "0",
                                    "2": "1",
                                    "3": "3",
                                    "4": "COMPRESSED",
                                    "5": "333312",
                                    "6": "BULKLOAD",
                                    "7": "Table_8c92dbd39040490a8eae0c6877992248_16",
                                    "8": "2021-08-22 18:37:41.640"
                                },
                                {
                                    "0": "FactFinance100m",
                                    "1": "0",
                                    "2": "1",
                                    "3": "3",
                                    "4": "COMPRESSED",
                                    "5": "333312",
                                    "6": "BULKLOAD",
                                    "7": "Table_8c92dbd39040490a8eae0c6877992248_17",
                                    "8": "2021-08-22 18:37:34.363"
                                },
                                {
                                    "0": "FactFinance100m",
                                    "1": "0",
                                    "2": "1",
                                    "3": "3",
                                    "4": "COMPRESSED",
                                    "5": "333312",
                                    "6": "BULKLOAD",
                                    "7": "Table_8c92dbd39040490a8eae0c6877992248_18",
                                    "8": "2021-08-22 18:37:31.333"
                                },
                                {
                                    "0": "FactFinance100m",
                                    "1": "0",
                                    "2": "1",
                                    "3": "3",
                                    "4": "COMPRESSED",
                                    "5": "333312",
                                    "6": "BULKLOAD",
                                    "7": "Table_8c92dbd39040490a8eae0c6877992248_19",
                                    "8": "2021-08-22 18:37:41.617"
                                },
                                {
                                    "0": "FactFinance100m",
                                    "1": "0",
                                    "2": "1",
                                    "3": "3",
                                    "4": "COMPRESSED",
                                    "5": "333312",
                                    "6": "BULKLOAD",
                                    "7": "Table_8c92dbd39040490a8eae0c6877992248_20",
                                    "8": "2021-08-22 18:37:40.060"
                                },
                                {
                                    "0": "FactFinance100m",
                                    "1": "0",
                                    "2": "1",
                                    "3": "3",
                                    "4": "COMPRESSED",
                                    "5": "333312",
                                    "6": "BULKLOAD",
                                    "7": "Table_8c92dbd39040490a8eae0c6877992248_21",
                                    "8": "2021-08-22 18:37:41.680"
                                },
                                {
                                    "0": "FactFinance100m",
                                    "1": "0",
                                    "2": "1",
                                    "3": "3",
                                    "4": "COMPRESSED",
                                    "5": "333312",
                                    "6": "BULKLOAD",
                                    "7": "Table_8c92dbd39040490a8eae0c6877992248_22",
                                    "8": "2021-08-22 18:37:40.177"
                                },
                                {
                                    "0": "FactFinance100m",
                                    "1": "0",
                                    "2": "1",
                                    "3": "3",
                                    "4": "COMPRESSED",
                                    "5": "333312",
                                    "6": "BULKLOAD",
                                    "7": "Table_8c92dbd39040490a8eae0c6877992248_23",
                                    "8": "2021-08-22 18:37:32.310"
                                },
                                {
                                    "0": "FactFinance100m",
                                    "1": "0",
                                    "2": "1",
                                    "3": "3",
                                    "4": "COMPRESSED",
                                    "5": "333312",
                                    "6": "BULKLOAD",
                                    "7": "Table_8c92dbd39040490a8eae0c6877992248_24",
                                    "8": "2021-08-22 18:37:33.990"
                                },
                                {
                                    "0": "FactFinance100m",
                                    "1": "0",
                                    "2": "1",
                                    "3": "3",
                                    "4": "COMPRESSED",
                                    "5": "333312",
                                    "6": "BULKLOAD",
                                    "7": "Table_8c92dbd39040490a8eae0c6877992248_25",
                                    "8": "2021-08-22 18:37:29.677"
                                },
                                {
                                    "0": "FactFinance100m",
                                    "1": "0",
                                    "2": "1",
                                    "3": "3",
                                    "4": "COMPRESSED",
                                    "5": "333312",
                                    "6": "BULKLOAD",
                                    "7": "Table_8c92dbd39040490a8eae0c6877992248_26",
                                    "8": "2021-08-22 18:37:31.950"
                                },
                                {
                                    "0": "FactFinance100m",
                                    "1": "0",
                                    "2": "1",
                                    "3": "3",
                                    "4": "COMPRESSED",
                                    "5": "333312",
                                    "6": "BULKLOAD",
                                    "7": "Table_8c92dbd39040490a8eae0c6877992248_27",
                                    "8": "2021-08-22 18:37:29.760"
                                },
                                {
                                    "0": "FactFinance100m",
                                    "1": "0",
                                    "2": "1",
                                    "3": "3",
                                    "4": "COMPRESSED",
                                    "5": "333312",
                                    "6": "BULKLOAD",
                                    "7": "Table_8c92dbd39040490a8eae0c6877992248_28",
                                    "8": "2021-08-22 18:37:35.753"
                                },
                                {
                                    "0": "FactFinance100m",
                                    "1": "0",
                                    "2": "1",
                                    "3": "3",
                                    "4": "COMPRESSED",
                                    "5": "333312",
                                    "6": "BULKLOAD",
                                    "7": "Table_8c92dbd39040490a8eae0c6877992248_29",
                                    "8": "2021-08-22 18:37:31.387"
                                },
                                {
                                    "0": "FactFinance100m",
                                    "1": "0",
                                    "2": "1",
                                    "3": "3",
                                    "4": "COMPRESSED",
                                    "5": "333312",
                                    "6": "BULKLOAD",
                                    "7": "Table_8c92dbd39040490a8eae0c6877992248_30",
                                    "8": "2021-08-22 18:37:32.187"
                                },
                                {
                                    "0": "FactFinance100m",
                                    "1": "0",
                                    "2": "1",
                                    "3": "3",
                                    "4": "COMPRESSED",
                                    "5": "333312",
                                    "6": "BULKLOAD",
                                    "7": "Table_8c92dbd39040490a8eae0c6877992248_31",
                                    "8": "2021-08-22 18:37:40.070"
                                },
                                {
                                    "0": "FactFinance100m",
                                    "1": "0",
                                    "2": "1",
                                    "3": "3",
                                    "4": "COMPRESSED",
                                    "5": "333312",
                                    "6": "BULKLOAD",
                                    "7": "Table_8c92dbd39040490a8eae0c6877992248_32",
                                    "8": "2021-08-22 18:37:41.610"
                                },
                                {
                                    "0": "FactFinance100m",
                                    "1": "0",
                                    "2": "1",
                                    "3": "3",
                                    "4": "COMPRESSED",
                                    "5": "333312",
                                    "6": "BULKLOAD",
                                    "7": "Table_8c92dbd39040490a8eae0c6877992248_33",
                                    "8": "2021-08-22 18:37:40.090"
                                },
                                {
                                    "0": "FactFinance100m",
                                    "1": "0",
                                    "2": "1",
                                    "3": "3",
                                    "4": "COMPRESSED",
                                    "5": "333312",
                                    "6": "BULKLOAD",
                                    "7": "Table_8c92dbd39040490a8eae0c6877992248_34",
                                    "8": "2021-08-22 18:37:41.547"
                                },
                                {
                                    "0": "FactFinance100m",
                                    "1": "0",
                                    "2": "1",
                                    "3": "3",
                                    "4": "COMPRESSED",
                                    "5": "333312",
                                    "6": "BULKLOAD",
                                    "7": "Table_8c92dbd39040490a8eae0c6877992248_35",
                                    "8": "2021-08-22 18:37:41.543"
                                },
                                {
                                    "0": "FactFinance100m",
                                    "1": "0",
                                    "2": "1",
                                    "3": "3",
                                    "4": "COMPRESSED",
                                    "5": "333312",
                                    "6": "BULKLOAD",
                                    "7": "Table_8c92dbd39040490a8eae0c6877992248_36",
                                    "8": "2021-08-22 18:37:31.183"
                                },
                                {
                                    "0": "FactFinance100m",
                                    "1": "0",
                                    "2": "1",
                                    "3": "3",
                                    "4": "COMPRESSED",
                                    "5": "333312",
                                    "6": "BULKLOAD",
                                    "7": "Table_8c92dbd39040490a8eae0c6877992248_37",
                                    "8": "2021-08-22 18:37:35.720"
                                },
                                {
                                    "0": "FactFinance100m",
                                    "1": "0",
                                    "2": "1",
                                    "3": "3",
                                    "4": "COMPRESSED",
                                    "5": "333312",
                                    "6": "BULKLOAD",
                                    "7": "Table_8c92dbd39040490a8eae0c6877992248_38",
                                    "8": "2021-08-22 18:37:35.803"
                                },
                                {
                                    "0": "FactFinance100m",
                                    "1": "0",
                                    "2": "1",
                                    "3": "3",
                                    "4": "COMPRESSED",
                                    "5": "333312",
                                    "6": "BULKLOAD",
                                    "7": "Table_8c92dbd39040490a8eae0c6877992248_39",
                                    "8": "2021-08-22 18:37:29.683"
                                },
                                {
                                    "0": "FactFinance100m",
                                    "1": "0",
                                    "2": "1",
                                    "3": "3",
                                    "4": "COMPRESSED",
                                    "5": "333312",
                                    "6": "BULKLOAD",
                                    "7": "Table_8c92dbd39040490a8eae0c6877992248_40",
                                    "8": "2021-08-22 18:37:41.610"
                                },
                                {
                                    "0": "FactFinance100m",
                                    "1": "0",
                                    "2": "1",
                                    "3": "3",
                                    "4": "COMPRESSED",
                                    "5": "333312",
                                    "6": "BULKLOAD",
                                    "7": "Table_8c92dbd39040490a8eae0c6877992248_41",
                                    "8": "2021-08-22 18:37:32.343"
                                },
                                {
                                    "0": "FactFinance100m",
                                    "1": "0",
                                    "2": "1",
                                    "3": "3",
                                    "4": "COMPRESSED",
                                    "5": "333312",
                                    "6": "BULKLOAD",
                                    "7": "Table_8c92dbd39040490a8eae0c6877992248_42",
                                    "8": "2021-08-22 18:37:41.653"
                                },
                                {
                                    "0": "FactFinance100m",
                                    "1": "0",
                                    "2": "1",
                                    "3": "3",
                                    "4": "COMPRESSED",
                                    "5": "333312",
                                    "6": "BULKLOAD",
                                    "7": "Table_8c92dbd39040490a8eae0c6877992248_43",
                                    "8": "2021-08-22 18:37:41.650"
                                },
                                {
                                    "0": "FactFinance100m",
                                    "1": "0",
                                    "2": "1",
                                    "3": "3",
                                    "4": "COMPRESSED",
                                    "5": "333312",
                                    "6": "BULKLOAD",
                                    "7": "Table_8c92dbd39040490a8eae0c6877992248_44",
                                    "8": "2021-08-22 18:37:41.580"
                                },
                                {
                                    "0": "FactFinance100m",
                                    "1": "0",
                                    "2": "1",
                                    "3": "3",
                                    "4": "COMPRESSED",
                                    "5": "333312",
                                    "6": "BULKLOAD",
                                    "7": "Table_8c92dbd39040490a8eae0c6877992248_45",
                                    "8": "2021-08-22 18:37:34.340"
                                },
                                {
                                    "0": "FactFinance100m",
                                    "1": "0",
                                    "2": "1",
                                    "3": "3",
                                    "4": "COMPRESSED",
                                    "5": "333312",
                                    "6": "BULKLOAD",
                                    "7": "Table_8c92dbd39040490a8eae0c6877992248_46",
                                    "8": "2021-08-22 18:37:32.240"
                                },
                                {
                                    "0": "FactFinance100m",
                                    "1": "0",
                                    "2": "1",
                                    "3": "3",
                                    "4": "COMPRESSED",
                                    "5": "333808",
                                    "6": "BULKLOAD",
                                    "7": "Table_8c92dbd39040490a8eae0c6877992248_47",
                                    "8": "2021-08-22 18:37:38.893"
                                },
                                {
                                    "0": "FactFinance100m",
                                    "1": "0",
                                    "2": "1",
                                    "3": "3",
                                    "4": "COMPRESSED",
                                    "5": "333808",
                                    "6": "BULKLOAD",
                                    "7": "Table_8c92dbd39040490a8eae0c6877992248_48",
                                    "8": "2021-08-22 18:37:35.120"
                                },
                                {
                                    "0": "FactFinance100m",
                                    "1": "0",
                                    "2": "1",
                                    "3": "3",
                                    "4": "COMPRESSED",
                                    "5": "333600",
                                    "6": "BULKLOAD",
                                    "7": "Table_8c92dbd39040490a8eae0c6877992248_49",
                                    "8": "2021-08-22 18:37:33.910"
                                },
                                {
                                    "0": "FactFinance100m",
                                    "1": "0",
                                    "2": "1",
                                    "3": "3",
                                    "4": "COMPRESSED",
                                    "5": "333312",
                                    "6": "BULKLOAD",
                                    "7": "Table_8c92dbd39040490a8eae0c6877992248_50",
                                    "8": "2021-08-22 18:37:40.187"
                                },
                                {
                                    "0": "FactFinance100m",
                                    "1": "0",
                                    "2": "1",
                                    "3": "3",
                                    "4": "COMPRESSED",
                                    "5": "333312",
                                    "6": "BULKLOAD",
                                    "7": "Table_8c92dbd39040490a8eae0c6877992248_51",
                                    "8": "2021-08-22 18:37:38.790"
                                },
                                {
                                    "0": "FactFinance100m",
                                    "1": "0",
                                    "2": "1",
                                    "3": "3",
                                    "4": "COMPRESSED",
                                    "5": "333312",
                                    "6": "BULKLOAD",
                                    "7": "Table_8c92dbd39040490a8eae0c6877992248_52",
                                    "8": "2021-08-22 18:37:41.617"
                                },
                                {
                                    "0": "FactFinance100m",
                                    "1": "0",
                                    "2": "1",
                                    "3": "3",
                                    "4": "COMPRESSED",
                                    "5": "333312",
                                    "6": "BULKLOAD",
                                    "7": "Table_8c92dbd39040490a8eae0c6877992248_53",
                                    "8": "2021-08-22 18:37:34.337"
                                },
                                {
                                    "0": "FactFinance100m",
                                    "1": "0",
                                    "2": "1",
                                    "3": "3",
                                    "4": "COMPRESSED",
                                    "5": "333312",
                                    "6": "BULKLOAD",
                                    "7": "Table_8c92dbd39040490a8eae0c6877992248_54",
                                    "8": "2021-08-22 18:37:31.290"
                                },
                                {
                                    "0": "FactFinance100m",
                                    "1": "0",
                                    "2": "1",
                                    "3": "3",
                                    "4": "COMPRESSED",
                                    "5": "333312",
                                    "6": "BULKLOAD",
                                    "7": "Table_8c92dbd39040490a8eae0c6877992248_55",
                                    "8": "2021-08-22 18:37:41.640"
                                },
                                {
                                    "0": "FactFinance100m",
                                    "1": "0",
                                    "2": "1",
                                    "3": "3",
                                    "4": "COMPRESSED",
                                    "5": "333312",
                                    "6": "BULKLOAD",
                                    "7": "Table_8c92dbd39040490a8eae0c6877992248_56",
                                    "8": "2021-08-22 18:37:33.907"
                                },
                                {
                                    "0": "FactFinance100m",
                                    "1": "0",
                                    "2": "1",
                                    "3": "3",
                                    "4": "COMPRESSED",
                                    "5": "333312",
                                    "6": "BULKLOAD",
                                    "7": "Table_8c92dbd39040490a8eae0c6877992248_57",
                                    "8": "2021-08-22 18:37:31.163"
                                },
                                {
                                    "0": "FactFinance100m",
                                    "1": "0",
                                    "2": "1",
                                    "3": "3",
                                    "4": "COMPRESSED",
                                    "5": "333312",
                                    "6": "BULKLOAD",
                                    "7": "Table_8c92dbd39040490a8eae0c6877992248_58",
                                    "8": "2021-08-22 18:37:35.237"
                                },
                                {
                                    "0": "FactFinance100m",
                                    "1": "0",
                                    "2": "1",
                                    "3": "3",
                                    "4": "COMPRESSED",
                                    "5": "333312",
                                    "6": "BULKLOAD",
                                    "7": "Table_8c92dbd39040490a8eae0c6877992248_59",
                                    "8": "2021-08-22 18:37:38.827"
                                },
                                {
                                    "0": "FactFinance100m",
                                    "1": "0",
                                    "2": "1",
                                    "3": "3",
                                    "4": "COMPRESSED",
                                    "5": "333312",
                                    "6": "BULKLOAD",
                                    "7": "Table_8c92dbd39040490a8eae0c6877992248_60",
                                    "8": "2021-08-22 18:37:35.057"
                                }
                            ]
                        },
                        "text/html": "<table><tr><th>logical_table_name</th><th>row_group_id</th><th>partition_number</th><th>state</th><th>state_desc</th><th>total_rows</th><th>trim_reason_desc</th><th>physical_name</th><th>created_time</th></tr><tr><td>FactFinance100m</td><td>0</td><td>1</td><td>3</td><td>COMPRESSED</td><td>333312</td><td>BULKLOAD</td><td>Table_8c92dbd39040490a8eae0c6877992248_1</td><td>2021-08-22 18:37:35.767</td></tr><tr><td>FactFinance100m</td><td>0</td><td>1</td><td>3</td><td>COMPRESSED</td><td>333312</td><td>BULKLOAD</td><td>Table_8c92dbd39040490a8eae0c6877992248_2</td><td>2021-08-22 18:37:38.800</td></tr><tr><td>FactFinance100m</td><td>0</td><td>1</td><td>3</td><td>COMPRESSED</td><td>333312</td><td>BULKLOAD</td><td>Table_8c92dbd39040490a8eae0c6877992248_3</td><td>2021-08-22 18:37:38.783</td></tr><tr><td>FactFinance100m</td><td>0</td><td>1</td><td>3</td><td>COMPRESSED</td><td>333312</td><td>BULKLOAD</td><td>Table_8c92dbd39040490a8eae0c6877992248_4</td><td>2021-08-22 18:37:35.057</td></tr><tr><td>FactFinance100m</td><td>0</td><td>1</td><td>3</td><td>COMPRESSED</td><td>333312</td><td>BULKLOAD</td><td>Table_8c92dbd39040490a8eae0c6877992248_5</td><td>2021-08-22 18:37:40.100</td></tr><tr><td>FactFinance100m</td><td>0</td><td>1</td><td>3</td><td>COMPRESSED</td><td>333312</td><td>BULKLOAD</td><td>Table_8c92dbd39040490a8eae0c6877992248_6</td><td>2021-08-22 18:37:41.600</td></tr><tr><td>FactFinance100m</td><td>0</td><td>1</td><td>3</td><td>COMPRESSED</td><td>333312</td><td>BULKLOAD</td><td>Table_8c92dbd39040490a8eae0c6877992248_7</td><td>2021-08-22 18:37:41.603</td></tr><tr><td>FactFinance100m</td><td>0</td><td>1</td><td>3</td><td>COMPRESSED</td><td>333312</td><td>BULKLOAD</td><td>Table_8c92dbd39040490a8eae0c6877992248_8</td><td>2021-08-22 18:37:35.160</td></tr><tr><td>FactFinance100m</td><td>0</td><td>1</td><td>3</td><td>COMPRESSED</td><td>333312</td><td>BULKLOAD</td><td>Table_8c92dbd39040490a8eae0c6877992248_9</td><td>2021-08-22 18:37:40.050</td></tr><tr><td>FactFinance100m</td><td>0</td><td>1</td><td>3</td><td>COMPRESSED</td><td>333312</td><td>BULKLOAD</td><td>Table_8c92dbd39040490a8eae0c6877992248_10</td><td>2021-08-22 18:37:34.487</td></tr><tr><td>FactFinance100m</td><td>0</td><td>1</td><td>3</td><td>COMPRESSED</td><td>333312</td><td>BULKLOAD</td><td>Table_8c92dbd39040490a8eae0c6877992248_11</td><td>2021-08-22 18:37:29.720</td></tr><tr><td>FactFinance100m</td><td>0</td><td>1</td><td>3</td><td>COMPRESSED</td><td>333312</td><td>BULKLOAD</td><td>Table_8c92dbd39040490a8eae0c6877992248_12</td><td>2021-08-22 18:37:38.790</td></tr><tr><td>FactFinance100m</td><td>0</td><td>1</td><td>3</td><td>COMPRESSED</td><td>333312</td><td>BULKLOAD</td><td>Table_8c92dbd39040490a8eae0c6877992248_13</td><td>2021-08-22 18:37:32.233</td></tr><tr><td>FactFinance100m</td><td>0</td><td>1</td><td>3</td><td>COMPRESSED</td><td>333312</td><td>BULKLOAD</td><td>Table_8c92dbd39040490a8eae0c6877992248_14</td><td>2021-08-22 18:37:35.797</td></tr><tr><td>FactFinance100m</td><td>0</td><td>1</td><td>3</td><td>COMPRESSED</td><td>333312</td><td>BULKLOAD</td><td>Table_8c92dbd39040490a8eae0c6877992248_15</td><td>2021-08-22 18:37:33.937</td></tr><tr><td>FactFinance100m</td><td>0</td><td>1</td><td>3</td><td>COMPRESSED</td><td>333312</td><td>BULKLOAD</td><td>Table_8c92dbd39040490a8eae0c6877992248_16</td><td>2021-08-22 18:37:41.640</td></tr><tr><td>FactFinance100m</td><td>0</td><td>1</td><td>3</td><td>COMPRESSED</td><td>333312</td><td>BULKLOAD</td><td>Table_8c92dbd39040490a8eae0c6877992248_17</td><td>2021-08-22 18:37:34.363</td></tr><tr><td>FactFinance100m</td><td>0</td><td>1</td><td>3</td><td>COMPRESSED</td><td>333312</td><td>BULKLOAD</td><td>Table_8c92dbd39040490a8eae0c6877992248_18</td><td>2021-08-22 18:37:31.333</td></tr><tr><td>FactFinance100m</td><td>0</td><td>1</td><td>3</td><td>COMPRESSED</td><td>333312</td><td>BULKLOAD</td><td>Table_8c92dbd39040490a8eae0c6877992248_19</td><td>2021-08-22 18:37:41.617</td></tr><tr><td>FactFinance100m</td><td>0</td><td>1</td><td>3</td><td>COMPRESSED</td><td>333312</td><td>BULKLOAD</td><td>Table_8c92dbd39040490a8eae0c6877992248_20</td><td>2021-08-22 18:37:40.060</td></tr><tr><td>FactFinance100m</td><td>0</td><td>1</td><td>3</td><td>COMPRESSED</td><td>333312</td><td>BULKLOAD</td><td>Table_8c92dbd39040490a8eae0c6877992248_21</td><td>2021-08-22 18:37:41.680</td></tr><tr><td>FactFinance100m</td><td>0</td><td>1</td><td>3</td><td>COMPRESSED</td><td>333312</td><td>BULKLOAD</td><td>Table_8c92dbd39040490a8eae0c6877992248_22</td><td>2021-08-22 18:37:40.177</td></tr><tr><td>FactFinance100m</td><td>0</td><td>1</td><td>3</td><td>COMPRESSED</td><td>333312</td><td>BULKLOAD</td><td>Table_8c92dbd39040490a8eae0c6877992248_23</td><td>2021-08-22 18:37:32.310</td></tr><tr><td>FactFinance100m</td><td>0</td><td>1</td><td>3</td><td>COMPRESSED</td><td>333312</td><td>BULKLOAD</td><td>Table_8c92dbd39040490a8eae0c6877992248_24</td><td>2021-08-22 18:37:33.990</td></tr><tr><td>FactFinance100m</td><td>0</td><td>1</td><td>3</td><td>COMPRESSED</td><td>333312</td><td>BULKLOAD</td><td>Table_8c92dbd39040490a8eae0c6877992248_25</td><td>2021-08-22 18:37:29.677</td></tr><tr><td>FactFinance100m</td><td>0</td><td>1</td><td>3</td><td>COMPRESSED</td><td>333312</td><td>BULKLOAD</td><td>Table_8c92dbd39040490a8eae0c6877992248_26</td><td>2021-08-22 18:37:31.950</td></tr><tr><td>FactFinance100m</td><td>0</td><td>1</td><td>3</td><td>COMPRESSED</td><td>333312</td><td>BULKLOAD</td><td>Table_8c92dbd39040490a8eae0c6877992248_27</td><td>2021-08-22 18:37:29.760</td></tr><tr><td>FactFinance100m</td><td>0</td><td>1</td><td>3</td><td>COMPRESSED</td><td>333312</td><td>BULKLOAD</td><td>Table_8c92dbd39040490a8eae0c6877992248_28</td><td>2021-08-22 18:37:35.753</td></tr><tr><td>FactFinance100m</td><td>0</td><td>1</td><td>3</td><td>COMPRESSED</td><td>333312</td><td>BULKLOAD</td><td>Table_8c92dbd39040490a8eae0c6877992248_29</td><td>2021-08-22 18:37:31.387</td></tr><tr><td>FactFinance100m</td><td>0</td><td>1</td><td>3</td><td>COMPRESSED</td><td>333312</td><td>BULKLOAD</td><td>Table_8c92dbd39040490a8eae0c6877992248_30</td><td>2021-08-22 18:37:32.187</td></tr><tr><td>FactFinance100m</td><td>0</td><td>1</td><td>3</td><td>COMPRESSED</td><td>333312</td><td>BULKLOAD</td><td>Table_8c92dbd39040490a8eae0c6877992248_31</td><td>2021-08-22 18:37:40.070</td></tr><tr><td>FactFinance100m</td><td>0</td><td>1</td><td>3</td><td>COMPRESSED</td><td>333312</td><td>BULKLOAD</td><td>Table_8c92dbd39040490a8eae0c6877992248_32</td><td>2021-08-22 18:37:41.610</td></tr><tr><td>FactFinance100m</td><td>0</td><td>1</td><td>3</td><td>COMPRESSED</td><td>333312</td><td>BULKLOAD</td><td>Table_8c92dbd39040490a8eae0c6877992248_33</td><td>2021-08-22 18:37:40.090</td></tr><tr><td>FactFinance100m</td><td>0</td><td>1</td><td>3</td><td>COMPRESSED</td><td>333312</td><td>BULKLOAD</td><td>Table_8c92dbd39040490a8eae0c6877992248_34</td><td>2021-08-22 18:37:41.547</td></tr><tr><td>FactFinance100m</td><td>0</td><td>1</td><td>3</td><td>COMPRESSED</td><td>333312</td><td>BULKLOAD</td><td>Table_8c92dbd39040490a8eae0c6877992248_35</td><td>2021-08-22 18:37:41.543</td></tr><tr><td>FactFinance100m</td><td>0</td><td>1</td><td>3</td><td>COMPRESSED</td><td>333312</td><td>BULKLOAD</td><td>Table_8c92dbd39040490a8eae0c6877992248_36</td><td>2021-08-22 18:37:31.183</td></tr><tr><td>FactFinance100m</td><td>0</td><td>1</td><td>3</td><td>COMPRESSED</td><td>333312</td><td>BULKLOAD</td><td>Table_8c92dbd39040490a8eae0c6877992248_37</td><td>2021-08-22 18:37:35.720</td></tr><tr><td>FactFinance100m</td><td>0</td><td>1</td><td>3</td><td>COMPRESSED</td><td>333312</td><td>BULKLOAD</td><td>Table_8c92dbd39040490a8eae0c6877992248_38</td><td>2021-08-22 18:37:35.803</td></tr><tr><td>FactFinance100m</td><td>0</td><td>1</td><td>3</td><td>COMPRESSED</td><td>333312</td><td>BULKLOAD</td><td>Table_8c92dbd39040490a8eae0c6877992248_39</td><td>2021-08-22 18:37:29.683</td></tr><tr><td>FactFinance100m</td><td>0</td><td>1</td><td>3</td><td>COMPRESSED</td><td>333312</td><td>BULKLOAD</td><td>Table_8c92dbd39040490a8eae0c6877992248_40</td><td>2021-08-22 18:37:41.610</td></tr><tr><td>FactFinance100m</td><td>0</td><td>1</td><td>3</td><td>COMPRESSED</td><td>333312</td><td>BULKLOAD</td><td>Table_8c92dbd39040490a8eae0c6877992248_41</td><td>2021-08-22 18:37:32.343</td></tr><tr><td>FactFinance100m</td><td>0</td><td>1</td><td>3</td><td>COMPRESSED</td><td>333312</td><td>BULKLOAD</td><td>Table_8c92dbd39040490a8eae0c6877992248_42</td><td>2021-08-22 18:37:41.653</td></tr><tr><td>FactFinance100m</td><td>0</td><td>1</td><td>3</td><td>COMPRESSED</td><td>333312</td><td>BULKLOAD</td><td>Table_8c92dbd39040490a8eae0c6877992248_43</td><td>2021-08-22 18:37:41.650</td></tr><tr><td>FactFinance100m</td><td>0</td><td>1</td><td>3</td><td>COMPRESSED</td><td>333312</td><td>BULKLOAD</td><td>Table_8c92dbd39040490a8eae0c6877992248_44</td><td>2021-08-22 18:37:41.580</td></tr><tr><td>FactFinance100m</td><td>0</td><td>1</td><td>3</td><td>COMPRESSED</td><td>333312</td><td>BULKLOAD</td><td>Table_8c92dbd39040490a8eae0c6877992248_45</td><td>2021-08-22 18:37:34.340</td></tr><tr><td>FactFinance100m</td><td>0</td><td>1</td><td>3</td><td>COMPRESSED</td><td>333312</td><td>BULKLOAD</td><td>Table_8c92dbd39040490a8eae0c6877992248_46</td><td>2021-08-22 18:37:32.240</td></tr><tr><td>FactFinance100m</td><td>0</td><td>1</td><td>3</td><td>COMPRESSED</td><td>333808</td><td>BULKLOAD</td><td>Table_8c92dbd39040490a8eae0c6877992248_47</td><td>2021-08-22 18:37:38.893</td></tr><tr><td>FactFinance100m</td><td>0</td><td>1</td><td>3</td><td>COMPRESSED</td><td>333808</td><td>BULKLOAD</td><td>Table_8c92dbd39040490a8eae0c6877992248_48</td><td>2021-08-22 18:37:35.120</td></tr><tr><td>FactFinance100m</td><td>0</td><td>1</td><td>3</td><td>COMPRESSED</td><td>333600</td><td>BULKLOAD</td><td>Table_8c92dbd39040490a8eae0c6877992248_49</td><td>2021-08-22 18:37:33.910</td></tr><tr><td>FactFinance100m</td><td>0</td><td>1</td><td>3</td><td>COMPRESSED</td><td>333312</td><td>BULKLOAD</td><td>Table_8c92dbd39040490a8eae0c6877992248_50</td><td>2021-08-22 18:37:40.187</td></tr><tr><td>FactFinance100m</td><td>0</td><td>1</td><td>3</td><td>COMPRESSED</td><td>333312</td><td>BULKLOAD</td><td>Table_8c92dbd39040490a8eae0c6877992248_51</td><td>2021-08-22 18:37:38.790</td></tr><tr><td>FactFinance100m</td><td>0</td><td>1</td><td>3</td><td>COMPRESSED</td><td>333312</td><td>BULKLOAD</td><td>Table_8c92dbd39040490a8eae0c6877992248_52</td><td>2021-08-22 18:37:41.617</td></tr><tr><td>FactFinance100m</td><td>0</td><td>1</td><td>3</td><td>COMPRESSED</td><td>333312</td><td>BULKLOAD</td><td>Table_8c92dbd39040490a8eae0c6877992248_53</td><td>2021-08-22 18:37:34.337</td></tr><tr><td>FactFinance100m</td><td>0</td><td>1</td><td>3</td><td>COMPRESSED</td><td>333312</td><td>BULKLOAD</td><td>Table_8c92dbd39040490a8eae0c6877992248_54</td><td>2021-08-22 18:37:31.290</td></tr><tr><td>FactFinance100m</td><td>0</td><td>1</td><td>3</td><td>COMPRESSED</td><td>333312</td><td>BULKLOAD</td><td>Table_8c92dbd39040490a8eae0c6877992248_55</td><td>2021-08-22 18:37:41.640</td></tr><tr><td>FactFinance100m</td><td>0</td><td>1</td><td>3</td><td>COMPRESSED</td><td>333312</td><td>BULKLOAD</td><td>Table_8c92dbd39040490a8eae0c6877992248_56</td><td>2021-08-22 18:37:33.907</td></tr><tr><td>FactFinance100m</td><td>0</td><td>1</td><td>3</td><td>COMPRESSED</td><td>333312</td><td>BULKLOAD</td><td>Table_8c92dbd39040490a8eae0c6877992248_57</td><td>2021-08-22 18:37:31.163</td></tr><tr><td>FactFinance100m</td><td>0</td><td>1</td><td>3</td><td>COMPRESSED</td><td>333312</td><td>BULKLOAD</td><td>Table_8c92dbd39040490a8eae0c6877992248_58</td><td>2021-08-22 18:37:35.237</td></tr><tr><td>FactFinance100m</td><td>0</td><td>1</td><td>3</td><td>COMPRESSED</td><td>333312</td><td>BULKLOAD</td><td>Table_8c92dbd39040490a8eae0c6877992248_59</td><td>2021-08-22 18:37:38.827</td></tr><tr><td>FactFinance100m</td><td>0</td><td>1</td><td>3</td><td>COMPRESSED</td><td>333312</td><td>BULKLOAD</td><td>Table_8c92dbd39040490a8eae0c6877992248_60</td><td>2021-08-22 18:37:35.057</td></tr></table>"
                    },
                    "metadata": {}
                }
            ],
            "execution_count": 15
        },
        {
            "cell_type": "code",
            "source": [
                "/*\r\n",
                "    Lets Insert another 100 million to make similar as inital test case (120 million)\r\n",
                "\r\n",
                "    We can see that we have 360 RowGroups instead of 180 and Fragmentation is only 17%, with only 33k per Row Group instead of 1024l\r\n",
                "*/\r\n",
                "\r\n",
                "INSERT INTO FactFinance100m ([AccountKey], [ScenarioKey], [DepartmentGroupKey], [DateKey], [OrganizationKey], [Amount], [Date], [LineageKey])\r\n",
                "SELECT TOP 20000000 [AccountKey], [ScenarioKey], [DepartmentGroupKey], [DateKey], [OrganizationKey], [Amount], [Date], [LineageKey] FROM [dbo].[FactFinance1b]\r\n",
                "GO 5\r\n",
                ""
            ],
            "metadata": {
                "azdata_cell_guid": "9b0176c2-01d7-4155-919a-e15a1dfecc0f",
                "extensions": {
                    "azuredatastudio": {
                        "views": []
                    }
                }
            },
            "outputs": [
                {
                    "output_type": "display_data",
                    "data": {
                        "text/html": "Beginning execution loop"
                    },
                    "metadata": {}
                },
                {
                    "output_type": "display_data",
                    "data": {
                        "text/html": "(20000000 rows affected)"
                    },
                    "metadata": {}
                },
                {
                    "output_type": "display_data",
                    "data": {
                        "text/html": "(20000000 rows affected)"
                    },
                    "metadata": {}
                }
            ],
            "execution_count": 16
        },
        {
            "cell_type": "code",
            "source": [
                "/* Now lets Look at the Fragmnentation. 68% Fragmented. Eg only 32% full */\r\n",
                "\r\n",
                "SELECT * FROM dbo.vColumnstoreStats WHERE table_name='FactFinance100m'\r\n",
                "select * From [dbo].[vCS_rg_physical_stats] WHERE logical_table_name='FactFinance100m'"
            ],
            "metadata": {
                "azdata_cell_guid": "b5acfcbb-5481-48c4-99d8-f6c74d874cc3",
                "extensions": {
                    "azuredatastudio": {
                        "views": []
                    }
                }
            },
            "outputs": [
                {
                    "output_type": "display_data",
                    "data": {
                        "text/html": "(1 row affected)"
                    },
                    "metadata": {}
                },
                {
                    "output_type": "display_data",
                    "data": {
                        "text/html": "(180 rows affected)"
                    },
                    "metadata": {}
                },
                {
                    "output_type": "display_data",
                    "data": {
                        "text/html": "Total execution time: 00:00:04.837"
                    },
                    "metadata": {}
                },
                {
                    "output_type": "execute_result",
                    "execution_count": 18,
                    "data": {
                        "application/vnd.dataresource+json": {
                            "schema": {
                                "fields": [
                                    {
                                        "name": "execution_date"
                                    },
                                    {
                                        "name": "database_name"
                                    },
                                    {
                                        "name": "schema_name"
                                    },
                                    {
                                        "name": "table_name"
                                    },
                                    {
                                        "name": "partition_number"
                                    },
                                    {
                                        "name": "partition_scheme"
                                    },
                                    {
                                        "name": "object_id"
                                    },
                                    {
                                        "name": "index_name"
                                    },
                                    {
                                        "name": "row_count"
                                    },
                                    {
                                        "name": "deleted_row_count"
                                    },
                                    {
                                        "name": "row_group_count"
                                    },
                                    {
                                        "name": "compressed_row_count"
                                    },
                                    {
                                        "name": "compressed_rowgroup_count"
                                    },
                                    {
                                        "name": "open_rowgroup_count"
                                    },
                                    {
                                        "name": "open_row_count"
                                    },
                                    {
                                        "name": "compressed_row_max"
                                    },
                                    {
                                        "name": "compressed_row_avg"
                                    },
                                    {
                                        "name": "fragmentation_density"
                                    },
                                    {
                                        "name": "fragmentation_deletes"
                                    },
                                    {
                                        "name": "fragmentation_open"
                                    }
                                ]
                            },
                            "data": [
                                {
                                    "0": "2021-08-22 18:45:21.170",
                                    "1": "AdventureWorksDW",
                                    "2": "dbo",
                                    "3": "FactFinance100m",
                                    "4": "NULL",
                                    "5": "NULL",
                                    "6": "1940917986",
                                    "7": "ClusteredIndex_1fba0db5c48b40288124497ec2198389",
                                    "8": "60000000",
                                    "9": "0",
                                    "10": "180",
                                    "11": "60000000",
                                    "12": "180",
                                    "13": "0",
                                    "14": "0",
                                    "15": "333884",
                                    "16": "333333",
                                    "17": "68.2100",
                                    "18": "0.0000",
                                    "19": "0.0000"
                                }
                            ]
                        },
                        "text/html": "<table><tr><th>execution_date</th><th>database_name</th><th>schema_name</th><th>table_name</th><th>partition_number</th><th>partition_scheme</th><th>object_id</th><th>index_name</th><th>row_count</th><th>deleted_row_count</th><th>row_group_count</th><th>compressed_row_count</th><th>compressed_rowgroup_count</th><th>open_rowgroup_count</th><th>open_row_count</th><th>compressed_row_max</th><th>compressed_row_avg</th><th>fragmentation_density</th><th>fragmentation_deletes</th><th>fragmentation_open</th></tr><tr><td>2021-08-22 18:45:21.170</td><td>AdventureWorksDW</td><td>dbo</td><td>FactFinance100m</td><td>NULL</td><td>NULL</td><td>1940917986</td><td>ClusteredIndex_1fba0db5c48b40288124497ec2198389</td><td>60000000</td><td>0</td><td>180</td><td>60000000</td><td>180</td><td>0</td><td>0</td><td>333884</td><td>333333</td><td>68.2100</td><td>0.0000</td><td>0.0000</td></tr></table>"
                    },
                    "metadata": {}
                },
                {
                    "output_type": "execute_result",
                    "execution_count": 18,
                    "data": {
                        "application/vnd.dataresource+json": {
                            "schema": {
                                "fields": [
                                    {
                                        "name": "logical_table_name"
                                    },
                                    {
                                        "name": "row_group_id"
                                    },
                                    {
                                        "name": "partition_number"
                                    },
                                    {
                                        "name": "state"
                                    },
                                    {
                                        "name": "state_desc"
                                    },
                                    {
                                        "name": "total_rows"
                                    },
                                    {
                                        "name": "trim_reason_desc"
                                    },
                                    {
                                        "name": "physical_name"
                                    },
                                    {
                                        "name": "created_time"
                                    }
                                ]
                            },
                            "data": [
                                {
                                    "0": "FactFinance100m",
                                    "1": "2",
                                    "2": "1",
                                    "3": "3",
                                    "4": "COMPRESSED",
                                    "5": "333324",
                                    "6": "BULKLOAD",
                                    "7": "Table_8c92dbd39040490a8eae0c6877992248_1",
                                    "8": "2021-08-22 18:44:29.980"
                                },
                                {
                                    "0": "FactFinance100m",
                                    "1": "2",
                                    "2": "1",
                                    "3": "3",
                                    "4": "COMPRESSED",
                                    "5": "333324",
                                    "6": "BULKLOAD",
                                    "7": "Table_8c92dbd39040490a8eae0c6877992248_2",
                                    "8": "2021-08-22 18:44:30.760"
                                },
                                {
                                    "0": "FactFinance100m",
                                    "1": "2",
                                    "2": "1",
                                    "3": "3",
                                    "4": "COMPRESSED",
                                    "5": "333324",
                                    "6": "BULKLOAD",
                                    "7": "Table_8c92dbd39040490a8eae0c6877992248_3",
                                    "8": "2021-08-22 18:44:31.943"
                                },
                                {
                                    "0": "FactFinance100m",
                                    "1": "2",
                                    "2": "1",
                                    "3": "3",
                                    "4": "COMPRESSED",
                                    "5": "333884",
                                    "6": "BULKLOAD",
                                    "7": "Table_8c92dbd39040490a8eae0c6877992248_4",
                                    "8": "2021-08-22 18:44:27.803"
                                },
                                {
                                    "0": "FactFinance100m",
                                    "1": "2",
                                    "2": "1",
                                    "3": "3",
                                    "4": "COMPRESSED",
                                    "5": "333324",
                                    "6": "BULKLOAD",
                                    "7": "Table_8c92dbd39040490a8eae0c6877992248_5",
                                    "8": "2021-08-22 18:44:30.640"
                                },
                                {
                                    "0": "FactFinance100m",
                                    "1": "2",
                                    "2": "1",
                                    "3": "3",
                                    "4": "COMPRESSED",
                                    "5": "333324",
                                    "6": "BULKLOAD",
                                    "7": "Table_8c92dbd39040490a8eae0c6877992248_6",
                                    "8": "2021-08-22 18:44:30.880"
                                },
                                {
                                    "0": "FactFinance100m",
                                    "1": "2",
                                    "2": "1",
                                    "3": "3",
                                    "4": "COMPRESSED",
                                    "5": "333324",
                                    "6": "BULKLOAD",
                                    "7": "Table_8c92dbd39040490a8eae0c6877992248_7",
                                    "8": "2021-08-22 18:44:29.987"
                                },
                                {
                                    "0": "FactFinance100m",
                                    "1": "2",
                                    "2": "1",
                                    "3": "3",
                                    "4": "COMPRESSED",
                                    "5": "333324",
                                    "6": "BULKLOAD",
                                    "7": "Table_8c92dbd39040490a8eae0c6877992248_8",
                                    "8": "2021-08-22 18:44:20.310"
                                },
                                {
                                    "0": "FactFinance100m",
                                    "1": "2",
                                    "2": "1",
                                    "3": "3",
                                    "4": "COMPRESSED",
                                    "5": "333324",
                                    "6": "BULKLOAD",
                                    "7": "Table_8c92dbd39040490a8eae0c6877992248_9",
                                    "8": "2021-08-22 18:44:27.783"
                                },
                                {
                                    "0": "FactFinance100m",
                                    "1": "2",
                                    "2": "1",
                                    "3": "3",
                                    "4": "COMPRESSED",
                                    "5": "333324",
                                    "6": "BULKLOAD",
                                    "7": "Table_8c92dbd39040490a8eae0c6877992248_10",
                                    "8": "2021-08-22 18:44:30.793"
                                },
                                {
                                    "0": "FactFinance100m",
                                    "1": "2",
                                    "2": "1",
                                    "3": "3",
                                    "4": "COMPRESSED",
                                    "5": "333324",
                                    "6": "BULKLOAD",
                                    "7": "Table_8c92dbd39040490a8eae0c6877992248_11",
                                    "8": "2021-08-22 18:44:25.457"
                                },
                                {
                                    "0": "FactFinance100m",
                                    "1": "2",
                                    "2": "1",
                                    "3": "3",
                                    "4": "COMPRESSED",
                                    "5": "333324",
                                    "6": "BULKLOAD",
                                    "7": "Table_8c92dbd39040490a8eae0c6877992248_12",
                                    "8": "2021-08-22 18:44:30.017"
                                },
                                {
                                    "0": "FactFinance100m",
                                    "1": "2",
                                    "2": "1",
                                    "3": "3",
                                    "4": "COMPRESSED",
                                    "5": "333324",
                                    "6": "BULKLOAD",
                                    "7": "Table_8c92dbd39040490a8eae0c6877992248_13",
                                    "8": "2021-08-22 18:44:18.030"
                                },
                                {
                                    "0": "FactFinance100m",
                                    "1": "2",
                                    "2": "1",
                                    "3": "3",
                                    "4": "COMPRESSED",
                                    "5": "333324",
                                    "6": "BULKLOAD",
                                    "7": "Table_8c92dbd39040490a8eae0c6877992248_14",
                                    "8": "2021-08-22 18:44:31.953"
                                },
                                {
                                    "0": "FactFinance100m",
                                    "1": "2",
                                    "2": "1",
                                    "3": "3",
                                    "4": "COMPRESSED",
                                    "5": "333324",
                                    "6": "BULKLOAD",
                                    "7": "Table_8c92dbd39040490a8eae0c6877992248_15",
                                    "8": "2021-08-22 18:44:22.800"
                                },
                                {
                                    "0": "FactFinance100m",
                                    "1": "2",
                                    "2": "1",
                                    "3": "3",
                                    "4": "COMPRESSED",
                                    "5": "333324",
                                    "6": "BULKLOAD",
                                    "7": "Table_8c92dbd39040490a8eae0c6877992248_16",
                                    "8": "2021-08-22 18:44:31.960"
                                },
                                {
                                    "0": "FactFinance100m",
                                    "1": "2",
                                    "2": "1",
                                    "3": "3",
                                    "4": "COMPRESSED",
                                    "5": "333324",
                                    "6": "BULKLOAD",
                                    "7": "Table_8c92dbd39040490a8eae0c6877992248_17",
                                    "8": "2021-08-22 18:44:27.793"
                                },
                                {
                                    "0": "FactFinance100m",
                                    "1": "1",
                                    "2": "1",
                                    "3": "3",
                                    "4": "COMPRESSED",
                                    "5": "333324",
                                    "6": "BULKLOAD",
                                    "7": "Table_8c92dbd39040490a8eae0c6877992248_18",
                                    "8": "2021-08-22 18:41:20.887"
                                },
                                {
                                    "0": "FactFinance100m",
                                    "1": "2",
                                    "2": "1",
                                    "3": "3",
                                    "4": "COMPRESSED",
                                    "5": "333324",
                                    "6": "BULKLOAD",
                                    "7": "Table_8c92dbd39040490a8eae0c6877992248_19",
                                    "8": "2021-08-22 18:44:30.610"
                                },
                                {
                                    "0": "FactFinance100m",
                                    "1": "1",
                                    "2": "1",
                                    "3": "3",
                                    "4": "COMPRESSED",
                                    "5": "333324",
                                    "6": "BULKLOAD",
                                    "7": "Table_8c92dbd39040490a8eae0c6877992248_20",
                                    "8": "2021-08-22 18:41:26.450"
                                },
                                {
                                    "0": "FactFinance100m",
                                    "1": "2",
                                    "2": "1",
                                    "3": "3",
                                    "4": "COMPRESSED",
                                    "5": "333324",
                                    "6": "BULKLOAD",
                                    "7": "Table_8c92dbd39040490a8eae0c6877992248_21",
                                    "8": "2021-08-22 18:44:25.453"
                                },
                                {
                                    "0": "FactFinance100m",
                                    "1": "2",
                                    "2": "1",
                                    "3": "3",
                                    "4": "COMPRESSED",
                                    "5": "333324",
                                    "6": "BULKLOAD",
                                    "7": "Table_8c92dbd39040490a8eae0c6877992248_22",
                                    "8": "2021-08-22 18:44:23.120"
                                },
                                {
                                    "0": "FactFinance100m",
                                    "1": "2",
                                    "2": "1",
                                    "3": "3",
                                    "4": "COMPRESSED",
                                    "5": "333324",
                                    "6": "BULKLOAD",
                                    "7": "Table_8c92dbd39040490a8eae0c6877992248_23",
                                    "8": "2021-08-22 18:44:22.867"
                                },
                                {
                                    "0": "FactFinance100m",
                                    "1": "1",
                                    "2": "1",
                                    "3": "3",
                                    "4": "COMPRESSED",
                                    "5": "333324",
                                    "6": "BULKLOAD",
                                    "7": "Table_8c92dbd39040490a8eae0c6877992248_24",
                                    "8": "2021-08-22 18:41:19.583"
                                },
                                {
                                    "0": "FactFinance100m",
                                    "1": "2",
                                    "2": "1",
                                    "3": "3",
                                    "4": "COMPRESSED",
                                    "5": "333324",
                                    "6": "BULKLOAD",
                                    "7": "Table_8c92dbd39040490a8eae0c6877992248_25",
                                    "8": "2021-08-22 18:44:25.567"
                                },
                                {
                                    "0": "FactFinance100m",
                                    "1": "2",
                                    "2": "1",
                                    "3": "3",
                                    "4": "COMPRESSED",
                                    "5": "333324",
                                    "6": "BULKLOAD",
                                    "7": "Table_8c92dbd39040490a8eae0c6877992248_26",
                                    "8": "2021-08-22 18:44:22.827"
                                },
                                {
                                    "0": "FactFinance100m",
                                    "1": "1",
                                    "2": "1",
                                    "3": "3",
                                    "4": "COMPRESSED",
                                    "5": "333324",
                                    "6": "BULKLOAD",
                                    "7": "Table_8c92dbd39040490a8eae0c6877992248_27",
                                    "8": "2021-08-22 18:41:24.577"
                                },
                                {
                                    "0": "FactFinance100m",
                                    "1": "2",
                                    "2": "1",
                                    "3": "3",
                                    "4": "COMPRESSED",
                                    "5": "333324",
                                    "6": "BULKLOAD",
                                    "7": "Table_8c92dbd39040490a8eae0c6877992248_28",
                                    "8": "2021-08-22 18:44:25.313"
                                },
                                {
                                    "0": "FactFinance100m",
                                    "1": "2",
                                    "2": "1",
                                    "3": "3",
                                    "4": "COMPRESSED",
                                    "5": "333324",
                                    "6": "BULKLOAD",
                                    "7": "Table_8c92dbd39040490a8eae0c6877992248_29",
                                    "8": "2021-08-22 18:44:18.160"
                                },
                                {
                                    "0": "FactFinance100m",
                                    "1": "1",
                                    "2": "1",
                                    "3": "3",
                                    "4": "COMPRESSED",
                                    "5": "333324",
                                    "6": "BULKLOAD",
                                    "7": "Table_8c92dbd39040490a8eae0c6877992248_30",
                                    "8": "2021-08-22 18:41:19.483"
                                },
                                {
                                    "0": "FactFinance100m",
                                    "1": "2",
                                    "2": "1",
                                    "3": "3",
                                    "4": "COMPRESSED",
                                    "5": "333324",
                                    "6": "BULKLOAD",
                                    "7": "Table_8c92dbd39040490a8eae0c6877992248_31",
                                    "8": "2021-08-22 18:44:30.820"
                                },
                                {
                                    "0": "FactFinance100m",
                                    "1": "2",
                                    "2": "1",
                                    "3": "3",
                                    "4": "COMPRESSED",
                                    "5": "333324",
                                    "6": "BULKLOAD",
                                    "7": "Table_8c92dbd39040490a8eae0c6877992248_32",
                                    "8": "2021-08-22 18:44:31.907"
                                },
                                {
                                    "0": "FactFinance100m",
                                    "1": "2",
                                    "2": "1",
                                    "3": "3",
                                    "4": "COMPRESSED",
                                    "5": "333324",
                                    "6": "BULKLOAD",
                                    "7": "Table_8c92dbd39040490a8eae0c6877992248_33",
                                    "8": "2021-08-22 18:44:30.787"
                                },
                                {
                                    "0": "FactFinance100m",
                                    "1": "2",
                                    "2": "1",
                                    "3": "3",
                                    "4": "COMPRESSED",
                                    "5": "333324",
                                    "6": "BULKLOAD",
                                    "7": "Table_8c92dbd39040490a8eae0c6877992248_34",
                                    "8": "2021-08-22 18:44:30.787"
                                },
                                {
                                    "0": "FactFinance100m",
                                    "1": "2",
                                    "2": "1",
                                    "3": "3",
                                    "4": "COMPRESSED",
                                    "5": "333324",
                                    "6": "BULKLOAD",
                                    "7": "Table_8c92dbd39040490a8eae0c6877992248_35",
                                    "8": "2021-08-22 18:44:19.190"
                                },
                                {
                                    "0": "FactFinance100m",
                                    "1": "2",
                                    "2": "1",
                                    "3": "3",
                                    "4": "COMPRESSED",
                                    "5": "333324",
                                    "6": "BULKLOAD",
                                    "7": "Table_8c92dbd39040490a8eae0c6877992248_36",
                                    "8": "2021-08-22 18:44:23.077"
                                },
                                {
                                    "0": "FactFinance100m",
                                    "1": "2",
                                    "2": "1",
                                    "3": "3",
                                    "4": "COMPRESSED",
                                    "5": "333324",
                                    "6": "BULKLOAD",
                                    "7": "Table_8c92dbd39040490a8eae0c6877992248_37",
                                    "8": "2021-08-22 18:44:31.903"
                                },
                                {
                                    "0": "FactFinance100m",
                                    "1": "2",
                                    "2": "1",
                                    "3": "3",
                                    "4": "COMPRESSED",
                                    "5": "333324",
                                    "6": "BULKLOAD",
                                    "7": "Table_8c92dbd39040490a8eae0c6877992248_38",
                                    "8": "2021-08-22 18:44:30.630"
                                },
                                {
                                    "0": "FactFinance100m",
                                    "1": "2",
                                    "2": "1",
                                    "3": "3",
                                    "4": "COMPRESSED",
                                    "5": "333324",
                                    "6": "BULKLOAD",
                                    "7": "Table_8c92dbd39040490a8eae0c6877992248_39",
                                    "8": "2021-08-22 18:44:20.050"
                                },
                                {
                                    "0": "FactFinance100m",
                                    "1": "2",
                                    "2": "1",
                                    "3": "3",
                                    "4": "COMPRESSED",
                                    "5": "333324",
                                    "6": "BULKLOAD",
                                    "7": "Table_8c92dbd39040490a8eae0c6877992248_40",
                                    "8": "2021-08-22 18:44:30.003"
                                },
                                {
                                    "0": "FactFinance100m",
                                    "1": "2",
                                    "2": "1",
                                    "3": "3",
                                    "4": "COMPRESSED",
                                    "5": "333324",
                                    "6": "BULKLOAD",
                                    "7": "Table_8c92dbd39040490a8eae0c6877992248_41",
                                    "8": "2021-08-22 18:44:25.413"
                                },
                                {
                                    "0": "FactFinance100m",
                                    "1": "2",
                                    "2": "1",
                                    "3": "3",
                                    "4": "COMPRESSED",
                                    "5": "333324",
                                    "6": "BULKLOAD",
                                    "7": "Table_8c92dbd39040490a8eae0c6877992248_42",
                                    "8": "2021-08-22 18:44:30.033"
                                },
                                {
                                    "0": "FactFinance100m",
                                    "1": "2",
                                    "2": "1",
                                    "3": "3",
                                    "4": "COMPRESSED",
                                    "5": "333324",
                                    "6": "BULKLOAD",
                                    "7": "Table_8c92dbd39040490a8eae0c6877992248_43",
                                    "8": "2021-08-22 18:44:27.823"
                                },
                                {
                                    "0": "FactFinance100m",
                                    "1": "2",
                                    "2": "1",
                                    "3": "3",
                                    "4": "COMPRESSED",
                                    "5": "333324",
                                    "6": "BULKLOAD",
                                    "7": "Table_8c92dbd39040490a8eae0c6877992248_44",
                                    "8": "2021-08-22 18:44:31.900"
                                },
                                {
                                    "0": "FactFinance100m",
                                    "1": "2",
                                    "2": "1",
                                    "3": "3",
                                    "4": "COMPRESSED",
                                    "5": "333324",
                                    "6": "BULKLOAD",
                                    "7": "Table_8c92dbd39040490a8eae0c6877992248_45",
                                    "8": "2021-08-22 18:44:25.320"
                                },
                                {
                                    "0": "FactFinance100m",
                                    "1": "2",
                                    "2": "1",
                                    "3": "3",
                                    "4": "COMPRESSED",
                                    "5": "333324",
                                    "6": "BULKLOAD",
                                    "7": "Table_8c92dbd39040490a8eae0c6877992248_46",
                                    "8": "2021-08-22 18:44:30.030"
                                },
                                {
                                    "0": "FactFinance100m",
                                    "1": "2",
                                    "2": "1",
                                    "3": "3",
                                    "4": "COMPRESSED",
                                    "5": "333324",
                                    "6": "BULKLOAD",
                                    "7": "Table_8c92dbd39040490a8eae0c6877992248_47",
                                    "8": "2021-08-22 18:44:27.833"
                                },
                                {
                                    "0": "FactFinance100m",
                                    "1": "2",
                                    "2": "1",
                                    "3": "3",
                                    "4": "COMPRESSED",
                                    "5": "333324",
                                    "6": "BULKLOAD",
                                    "7": "Table_8c92dbd39040490a8eae0c6877992248_48",
                                    "8": "2021-08-22 18:44:23.060"
                                },
                                {
                                    "0": "FactFinance100m",
                                    "1": "2",
                                    "2": "1",
                                    "3": "3",
                                    "4": "COMPRESSED",
                                    "5": "333324",
                                    "6": "BULKLOAD",
                                    "7": "Table_8c92dbd39040490a8eae0c6877992248_49",
                                    "8": "2021-08-22 18:44:20.050"
                                },
                                {
                                    "0": "FactFinance100m",
                                    "1": "2",
                                    "2": "1",
                                    "3": "3",
                                    "4": "COMPRESSED",
                                    "5": "333324",
                                    "6": "BULKLOAD",
                                    "7": "Table_8c92dbd39040490a8eae0c6877992248_50",
                                    "8": "2021-08-22 18:44:30.687"
                                },
                                {
                                    "0": "FactFinance100m",
                                    "1": "2",
                                    "2": "1",
                                    "3": "3",
                                    "4": "COMPRESSED",
                                    "5": "333324",
                                    "6": "BULKLOAD",
                                    "7": "Table_8c92dbd39040490a8eae0c6877992248_51",
                                    "8": "2021-08-22 18:44:30.757"
                                },
                                {
                                    "0": "FactFinance100m",
                                    "1": "2",
                                    "2": "1",
                                    "3": "3",
                                    "4": "COMPRESSED",
                                    "5": "333324",
                                    "6": "BULKLOAD",
                                    "7": "Table_8c92dbd39040490a8eae0c6877992248_52",
                                    "8": "2021-08-22 18:44:31.953"
                                },
                                {
                                    "0": "FactFinance100m",
                                    "1": "2",
                                    "2": "1",
                                    "3": "3",
                                    "4": "COMPRESSED",
                                    "5": "333324",
                                    "6": "BULKLOAD",
                                    "7": "Table_8c92dbd39040490a8eae0c6877992248_53",
                                    "8": "2021-08-22 18:44:30.737"
                                },
                                {
                                    "0": "FactFinance100m",
                                    "1": "2",
                                    "2": "1",
                                    "3": "3",
                                    "4": "COMPRESSED",
                                    "5": "333324",
                                    "6": "BULKLOAD",
                                    "7": "Table_8c92dbd39040490a8eae0c6877992248_54",
                                    "8": "2021-08-22 18:44:30.627"
                                },
                                {
                                    "0": "FactFinance100m",
                                    "1": "2",
                                    "2": "1",
                                    "3": "3",
                                    "4": "COMPRESSED",
                                    "5": "333324",
                                    "6": "BULKLOAD",
                                    "7": "Table_8c92dbd39040490a8eae0c6877992248_55",
                                    "8": "2021-08-22 18:44:30.790"
                                },
                                {
                                    "0": "FactFinance100m",
                                    "1": "2",
                                    "2": "1",
                                    "3": "3",
                                    "4": "COMPRESSED",
                                    "5": "333324",
                                    "6": "BULKLOAD",
                                    "7": "Table_8c92dbd39040490a8eae0c6877992248_56",
                                    "8": "2021-08-22 18:44:25.253"
                                },
                                {
                                    "0": "FactFinance100m",
                                    "1": "2",
                                    "2": "1",
                                    "3": "3",
                                    "4": "COMPRESSED",
                                    "5": "333324",
                                    "6": "BULKLOAD",
                                    "7": "Table_8c92dbd39040490a8eae0c6877992248_57",
                                    "8": "2021-08-22 18:44:22.913"
                                },
                                {
                                    "0": "FactFinance100m",
                                    "1": "1",
                                    "2": "1",
                                    "3": "3",
                                    "4": "COMPRESSED",
                                    "5": "333324",
                                    "6": "BULKLOAD",
                                    "7": "Table_8c92dbd39040490a8eae0c6877992248_58",
                                    "8": "2021-08-22 18:41:17.117"
                                },
                                {
                                    "0": "FactFinance100m",
                                    "1": "2",
                                    "2": "1",
                                    "3": "3",
                                    "4": "COMPRESSED",
                                    "5": "333324",
                                    "6": "BULKLOAD",
                                    "7": "Table_8c92dbd39040490a8eae0c6877992248_59",
                                    "8": "2021-08-22 18:44:25.277"
                                },
                                {
                                    "0": "FactFinance100m",
                                    "1": "2",
                                    "2": "1",
                                    "3": "3",
                                    "4": "COMPRESSED",
                                    "5": "333324",
                                    "6": "BULKLOAD",
                                    "7": "Table_8c92dbd39040490a8eae0c6877992248_60",
                                    "8": "2021-08-22 18:44:30.650"
                                },
                                {
                                    "0": "FactFinance100m",
                                    "1": "1",
                                    "2": "1",
                                    "3": "3",
                                    "4": "COMPRESSED",
                                    "5": "333324",
                                    "6": "BULKLOAD",
                                    "7": "Table_8c92dbd39040490a8eae0c6877992248_1",
                                    "8": "2021-08-22 18:41:20.700"
                                },
                                {
                                    "0": "FactFinance100m",
                                    "1": "1",
                                    "2": "1",
                                    "3": "3",
                                    "4": "COMPRESSED",
                                    "5": "333324",
                                    "6": "BULKLOAD",
                                    "7": "Table_8c92dbd39040490a8eae0c6877992248_2",
                                    "8": "2021-08-22 18:41:24.657"
                                },
                                {
                                    "0": "FactFinance100m",
                                    "1": "1",
                                    "2": "1",
                                    "3": "3",
                                    "4": "COMPRESSED",
                                    "5": "333884",
                                    "6": "BULKLOAD",
                                    "7": "Table_8c92dbd39040490a8eae0c6877992248_3",
                                    "8": "2021-08-22 18:41:26.490"
                                },
                                {
                                    "0": "FactFinance100m",
                                    "1": "1",
                                    "2": "1",
                                    "3": "3",
                                    "4": "COMPRESSED",
                                    "5": "333324",
                                    "6": "BULKLOAD",
                                    "7": "Table_8c92dbd39040490a8eae0c6877992248_4",
                                    "8": "2021-08-22 18:41:23.833"
                                },
                                {
                                    "0": "FactFinance100m",
                                    "1": "1",
                                    "2": "1",
                                    "3": "3",
                                    "4": "COMPRESSED",
                                    "5": "333324",
                                    "6": "BULKLOAD",
                                    "7": "Table_8c92dbd39040490a8eae0c6877992248_5",
                                    "8": "2021-08-22 18:41:21.097"
                                },
                                {
                                    "0": "FactFinance100m",
                                    "1": "1",
                                    "2": "1",
                                    "3": "3",
                                    "4": "COMPRESSED",
                                    "5": "333324",
                                    "6": "BULKLOAD",
                                    "7": "Table_8c92dbd39040490a8eae0c6877992248_6",
                                    "8": "2021-08-22 18:41:26.000"
                                },
                                {
                                    "0": "FactFinance100m",
                                    "1": "1",
                                    "2": "1",
                                    "3": "3",
                                    "4": "COMPRESSED",
                                    "5": "333324",
                                    "6": "BULKLOAD",
                                    "7": "Table_8c92dbd39040490a8eae0c6877992248_7",
                                    "8": "2021-08-22 18:41:26.497"
                                },
                                {
                                    "0": "FactFinance100m",
                                    "1": "1",
                                    "2": "1",
                                    "3": "3",
                                    "4": "COMPRESSED",
                                    "5": "333324",
                                    "6": "BULKLOAD",
                                    "7": "Table_8c92dbd39040490a8eae0c6877992248_8",
                                    "8": "2021-08-22 18:41:15.513"
                                },
                                {
                                    "0": "FactFinance100m",
                                    "1": "1",
                                    "2": "1",
                                    "3": "3",
                                    "4": "COMPRESSED",
                                    "5": "333324",
                                    "6": "BULKLOAD",
                                    "7": "Table_8c92dbd39040490a8eae0c6877992248_9",
                                    "8": "2021-08-22 18:41:26.477"
                                },
                                {
                                    "0": "FactFinance100m",
                                    "1": "1",
                                    "2": "1",
                                    "3": "3",
                                    "4": "COMPRESSED",
                                    "5": "333324",
                                    "6": "BULKLOAD",
                                    "7": "Table_8c92dbd39040490a8eae0c6877992248_10",
                                    "8": "2021-08-22 18:41:23.867"
                                },
                                {
                                    "0": "FactFinance100m",
                                    "1": "1",
                                    "2": "1",
                                    "3": "3",
                                    "4": "COMPRESSED",
                                    "5": "333324",
                                    "6": "BULKLOAD",
                                    "7": "Table_8c92dbd39040490a8eae0c6877992248_11",
                                    "8": "2021-08-22 18:41:17.700"
                                },
                                {
                                    "0": "FactFinance100m",
                                    "1": "1",
                                    "2": "1",
                                    "3": "3",
                                    "4": "COMPRESSED",
                                    "5": "333324",
                                    "6": "BULKLOAD",
                                    "7": "Table_8c92dbd39040490a8eae0c6877992248_12",
                                    "8": "2021-08-22 18:41:19.950"
                                },
                                {
                                    "0": "FactFinance100m",
                                    "1": "1",
                                    "2": "1",
                                    "3": "3",
                                    "4": "COMPRESSED",
                                    "5": "333324",
                                    "6": "BULKLOAD",
                                    "7": "Table_8c92dbd39040490a8eae0c6877992248_13",
                                    "8": "2021-08-22 18:41:21.047"
                                },
                                {
                                    "0": "FactFinance100m",
                                    "1": "1",
                                    "2": "1",
                                    "3": "3",
                                    "4": "COMPRESSED",
                                    "5": "333324",
                                    "6": "BULKLOAD",
                                    "7": "Table_8c92dbd39040490a8eae0c6877992248_14",
                                    "8": "2021-08-22 18:41:26.013"
                                },
                                {
                                    "0": "FactFinance100m",
                                    "1": "1",
                                    "2": "1",
                                    "3": "3",
                                    "4": "COMPRESSED",
                                    "5": "333324",
                                    "6": "BULKLOAD",
                                    "7": "Table_8c92dbd39040490a8eae0c6877992248_15",
                                    "8": "2021-08-22 18:41:20.263"
                                },
                                {
                                    "0": "FactFinance100m",
                                    "1": "1",
                                    "2": "1",
                                    "3": "3",
                                    "4": "COMPRESSED",
                                    "5": "333324",
                                    "6": "BULKLOAD",
                                    "7": "Table_8c92dbd39040490a8eae0c6877992248_16",
                                    "8": "2021-08-22 18:41:26.003"
                                },
                                {
                                    "0": "FactFinance100m",
                                    "1": "1",
                                    "2": "1",
                                    "3": "3",
                                    "4": "COMPRESSED",
                                    "5": "333324",
                                    "6": "BULKLOAD",
                                    "7": "Table_8c92dbd39040490a8eae0c6877992248_17",
                                    "8": "2021-08-22 18:41:26.053"
                                },
                                {
                                    "0": "FactFinance100m",
                                    "1": "0",
                                    "2": "1",
                                    "3": "3",
                                    "4": "COMPRESSED",
                                    "5": "333312",
                                    "6": "BULKLOAD",
                                    "7": "Table_8c92dbd39040490a8eae0c6877992248_18",
                                    "8": "2021-08-22 18:37:31.333"
                                },
                                {
                                    "0": "FactFinance100m",
                                    "1": "1",
                                    "2": "1",
                                    "3": "3",
                                    "4": "COMPRESSED",
                                    "5": "333324",
                                    "6": "BULKLOAD",
                                    "7": "Table_8c92dbd39040490a8eae0c6877992248_19",
                                    "8": "2021-08-22 18:41:26.473"
                                },
                                {
                                    "0": "FactFinance100m",
                                    "1": "0",
                                    "2": "1",
                                    "3": "3",
                                    "4": "COMPRESSED",
                                    "5": "333312",
                                    "6": "BULKLOAD",
                                    "7": "Table_8c92dbd39040490a8eae0c6877992248_20",
                                    "8": "2021-08-22 18:37:40.060"
                                },
                                {
                                    "0": "FactFinance100m",
                                    "1": "1",
                                    "2": "1",
                                    "3": "3",
                                    "4": "COMPRESSED",
                                    "5": "333324",
                                    "6": "BULKLOAD",
                                    "7": "Table_8c92dbd39040490a8eae0c6877992248_21",
                                    "8": "2021-08-22 18:41:30.930"
                                },
                                {
                                    "0": "FactFinance100m",
                                    "1": "1",
                                    "2": "1",
                                    "3": "3",
                                    "4": "COMPRESSED",
                                    "5": "333324",
                                    "6": "BULKLOAD",
                                    "7": "Table_8c92dbd39040490a8eae0c6877992248_22",
                                    "8": "2021-08-22 18:41:28.630"
                                },
                                {
                                    "0": "FactFinance100m",
                                    "1": "1",
                                    "2": "1",
                                    "3": "3",
                                    "4": "COMPRESSED",
                                    "5": "333324",
                                    "6": "BULKLOAD",
                                    "7": "Table_8c92dbd39040490a8eae0c6877992248_23",
                                    "8": "2021-08-22 18:41:20.600"
                                },
                                {
                                    "0": "FactFinance100m",
                                    "1": "0",
                                    "2": "1",
                                    "3": "3",
                                    "4": "COMPRESSED",
                                    "5": "333312",
                                    "6": "BULKLOAD",
                                    "7": "Table_8c92dbd39040490a8eae0c6877992248_24",
                                    "8": "2021-08-22 18:37:33.990"
                                },
                                {
                                    "0": "FactFinance100m",
                                    "1": "1",
                                    "2": "1",
                                    "3": "3",
                                    "4": "COMPRESSED",
                                    "5": "333324",
                                    "6": "BULKLOAD",
                                    "7": "Table_8c92dbd39040490a8eae0c6877992248_25",
                                    "8": "2021-08-22 18:41:19.503"
                                },
                                {
                                    "0": "FactFinance100m",
                                    "1": "1",
                                    "2": "1",
                                    "3": "3",
                                    "4": "COMPRESSED",
                                    "5": "333324",
                                    "6": "BULKLOAD",
                                    "7": "Table_8c92dbd39040490a8eae0c6877992248_26",
                                    "8": "2021-08-22 18:41:21.107"
                                },
                                {
                                    "0": "FactFinance100m",
                                    "1": "0",
                                    "2": "1",
                                    "3": "3",
                                    "4": "COMPRESSED",
                                    "5": "333312",
                                    "6": "BULKLOAD",
                                    "7": "Table_8c92dbd39040490a8eae0c6877992248_27",
                                    "8": "2021-08-22 18:37:29.760"
                                },
                                {
                                    "0": "FactFinance100m",
                                    "1": "1",
                                    "2": "1",
                                    "3": "3",
                                    "4": "COMPRESSED",
                                    "5": "333324",
                                    "6": "BULKLOAD",
                                    "7": "Table_8c92dbd39040490a8eae0c6877992248_28",
                                    "8": "2021-08-22 18:41:26.483"
                                },
                                {
                                    "0": "FactFinance100m",
                                    "1": "1",
                                    "2": "1",
                                    "3": "3",
                                    "4": "COMPRESSED",
                                    "5": "333324",
                                    "6": "BULKLOAD",
                                    "7": "Table_8c92dbd39040490a8eae0c6877992248_29",
                                    "8": "2021-08-22 18:41:19.490"
                                },
                                {
                                    "0": "FactFinance100m",
                                    "1": "0",
                                    "2": "1",
                                    "3": "3",
                                    "4": "COMPRESSED",
                                    "5": "333312",
                                    "6": "BULKLOAD",
                                    "7": "Table_8c92dbd39040490a8eae0c6877992248_30",
                                    "8": "2021-08-22 18:37:32.187"
                                },
                                {
                                    "0": "FactFinance100m",
                                    "1": "1",
                                    "2": "1",
                                    "3": "3",
                                    "4": "COMPRESSED",
                                    "5": "333324",
                                    "6": "BULKLOAD",
                                    "7": "Table_8c92dbd39040490a8eae0c6877992248_31",
                                    "8": "2021-08-22 18:41:30.950"
                                },
                                {
                                    "0": "FactFinance100m",
                                    "1": "1",
                                    "2": "1",
                                    "3": "3",
                                    "4": "COMPRESSED",
                                    "5": "333324",
                                    "6": "BULKLOAD",
                                    "7": "Table_8c92dbd39040490a8eae0c6877992248_32",
                                    "8": "2021-08-22 18:41:20.520"
                                },
                                {
                                    "0": "FactFinance100m",
                                    "1": "1",
                                    "2": "1",
                                    "3": "3",
                                    "4": "COMPRESSED",
                                    "5": "333324",
                                    "6": "BULKLOAD",
                                    "7": "Table_8c92dbd39040490a8eae0c6877992248_33",
                                    "8": "2021-08-22 18:41:30.963"
                                },
                                {
                                    "0": "FactFinance100m",
                                    "1": "1",
                                    "2": "1",
                                    "3": "3",
                                    "4": "COMPRESSED",
                                    "5": "333324",
                                    "6": "BULKLOAD",
                                    "7": "Table_8c92dbd39040490a8eae0c6877992248_34",
                                    "8": "2021-08-22 18:41:24.667"
                                },
                                {
                                    "0": "FactFinance100m",
                                    "1": "1",
                                    "2": "1",
                                    "3": "3",
                                    "4": "COMPRESSED",
                                    "5": "333324",
                                    "6": "BULKLOAD",
                                    "7": "Table_8c92dbd39040490a8eae0c6877992248_35",
                                    "8": "2021-08-22 18:41:28.653"
                                },
                                {
                                    "0": "FactFinance100m",
                                    "1": "1",
                                    "2": "1",
                                    "3": "3",
                                    "4": "COMPRESSED",
                                    "5": "333324",
                                    "6": "BULKLOAD",
                                    "7": "Table_8c92dbd39040490a8eae0c6877992248_36",
                                    "8": "2021-08-22 18:41:30.933"
                                },
                                {
                                    "0": "FactFinance100m",
                                    "1": "1",
                                    "2": "1",
                                    "3": "3",
                                    "4": "COMPRESSED",
                                    "5": "333324",
                                    "6": "BULKLOAD",
                                    "7": "Table_8c92dbd39040490a8eae0c6877992248_37",
                                    "8": "2021-08-22 18:41:24.610"
                                },
                                {
                                    "0": "FactFinance100m",
                                    "1": "1",
                                    "2": "1",
                                    "3": "3",
                                    "4": "COMPRESSED",
                                    "5": "333324",
                                    "6": "BULKLOAD",
                                    "7": "Table_8c92dbd39040490a8eae0c6877992248_38",
                                    "8": "2021-08-22 18:41:30.973"
                                },
                                {
                                    "0": "FactFinance100m",
                                    "1": "1",
                                    "2": "1",
                                    "3": "3",
                                    "4": "COMPRESSED",
                                    "5": "333324",
                                    "6": "BULKLOAD",
                                    "7": "Table_8c92dbd39040490a8eae0c6877992248_39",
                                    "8": "2021-08-22 18:41:17.790"
                                },
                                {
                                    "0": "FactFinance100m",
                                    "1": "1",
                                    "2": "1",
                                    "3": "3",
                                    "4": "COMPRESSED",
                                    "5": "333324",
                                    "6": "BULKLOAD",
                                    "7": "Table_8c92dbd39040490a8eae0c6877992248_40",
                                    "8": "2021-08-22 18:41:28.643"
                                },
                                {
                                    "0": "FactFinance100m",
                                    "1": "1",
                                    "2": "1",
                                    "3": "3",
                                    "4": "COMPRESSED",
                                    "5": "333324",
                                    "6": "BULKLOAD",
                                    "7": "Table_8c92dbd39040490a8eae0c6877992248_41",
                                    "8": "2021-08-22 18:41:17.653"
                                },
                                {
                                    "0": "FactFinance100m",
                                    "1": "1",
                                    "2": "1",
                                    "3": "3",
                                    "4": "COMPRESSED",
                                    "5": "333324",
                                    "6": "BULKLOAD",
                                    "7": "Table_8c92dbd39040490a8eae0c6877992248_42",
                                    "8": "2021-08-22 18:41:28.677"
                                },
                                {
                                    "0": "FactFinance100m",
                                    "1": "1",
                                    "2": "1",
                                    "3": "3",
                                    "4": "COMPRESSED",
                                    "5": "333324",
                                    "6": "BULKLOAD",
                                    "7": "Table_8c92dbd39040490a8eae0c6877992248_43",
                                    "8": "2021-08-22 18:41:30.990"
                                },
                                {
                                    "0": "FactFinance100m",
                                    "1": "1",
                                    "2": "1",
                                    "3": "3",
                                    "4": "COMPRESSED",
                                    "5": "333324",
                                    "6": "BULKLOAD",
                                    "7": "Table_8c92dbd39040490a8eae0c6877992248_44",
                                    "8": "2021-08-22 18:41:23.873"
                                },
                                {
                                    "0": "FactFinance100m",
                                    "1": "1",
                                    "2": "1",
                                    "3": "3",
                                    "4": "COMPRESSED",
                                    "5": "333324",
                                    "6": "BULKLOAD",
                                    "7": "Table_8c92dbd39040490a8eae0c6877992248_45",
                                    "8": "2021-08-22 18:41:25.983"
                                },
                                {
                                    "0": "FactFinance100m",
                                    "1": "1",
                                    "2": "1",
                                    "3": "3",
                                    "4": "COMPRESSED",
                                    "5": "333324",
                                    "6": "BULKLOAD",
                                    "7": "Table_8c92dbd39040490a8eae0c6877992248_46",
                                    "8": "2021-08-22 18:41:21.083"
                                },
                                {
                                    "0": "FactFinance100m",
                                    "1": "1",
                                    "2": "1",
                                    "3": "3",
                                    "4": "COMPRESSED",
                                    "5": "333324",
                                    "6": "BULKLOAD",
                                    "7": "Table_8c92dbd39040490a8eae0c6877992248_47",
                                    "8": "2021-08-22 18:41:28.647"
                                },
                                {
                                    "0": "FactFinance100m",
                                    "1": "1",
                                    "2": "1",
                                    "3": "3",
                                    "4": "COMPRESSED",
                                    "5": "333324",
                                    "6": "BULKLOAD",
                                    "7": "Table_8c92dbd39040490a8eae0c6877992248_48",
                                    "8": "2021-08-22 18:41:19.567"
                                },
                                {
                                    "0": "FactFinance100m",
                                    "1": "1",
                                    "2": "1",
                                    "3": "3",
                                    "4": "COMPRESSED",
                                    "5": "333324",
                                    "6": "BULKLOAD",
                                    "7": "Table_8c92dbd39040490a8eae0c6877992248_49",
                                    "8": "2021-08-22 18:41:20.457"
                                },
                                {
                                    "0": "FactFinance100m",
                                    "1": "1",
                                    "2": "1",
                                    "3": "3",
                                    "4": "COMPRESSED",
                                    "5": "333324",
                                    "6": "BULKLOAD",
                                    "7": "Table_8c92dbd39040490a8eae0c6877992248_50",
                                    "8": "2021-08-22 18:41:23.893"
                                },
                                {
                                    "0": "FactFinance100m",
                                    "1": "1",
                                    "2": "1",
                                    "3": "3",
                                    "4": "COMPRESSED",
                                    "5": "333324",
                                    "6": "BULKLOAD",
                                    "7": "Table_8c92dbd39040490a8eae0c6877992248_51",
                                    "8": "2021-08-22 18:41:30.943"
                                },
                                {
                                    "0": "FactFinance100m",
                                    "1": "1",
                                    "2": "1",
                                    "3": "3",
                                    "4": "COMPRESSED",
                                    "5": "333324",
                                    "6": "BULKLOAD",
                                    "7": "Table_8c92dbd39040490a8eae0c6877992248_52",
                                    "8": "2021-08-22 18:41:30.923"
                                },
                                {
                                    "0": "FactFinance100m",
                                    "1": "1",
                                    "2": "1",
                                    "3": "3",
                                    "4": "COMPRESSED",
                                    "5": "333324",
                                    "6": "BULKLOAD",
                                    "7": "Table_8c92dbd39040490a8eae0c6877992248_53",
                                    "8": "2021-08-22 18:41:28.713"
                                },
                                {
                                    "0": "FactFinance100m",
                                    "1": "1",
                                    "2": "1",
                                    "3": "3",
                                    "4": "COMPRESSED",
                                    "5": "333324",
                                    "6": "BULKLOAD",
                                    "7": "Table_8c92dbd39040490a8eae0c6877992248_54",
                                    "8": "2021-08-22 18:41:28.630"
                                },
                                {
                                    "0": "FactFinance100m",
                                    "1": "1",
                                    "2": "1",
                                    "3": "3",
                                    "4": "COMPRESSED",
                                    "5": "333324",
                                    "6": "BULKLOAD",
                                    "7": "Table_8c92dbd39040490a8eae0c6877992248_55",
                                    "8": "2021-08-22 18:41:24.657"
                                },
                                {
                                    "0": "FactFinance100m",
                                    "1": "1",
                                    "2": "1",
                                    "3": "3",
                                    "4": "COMPRESSED",
                                    "5": "333324",
                                    "6": "BULKLOAD",
                                    "7": "Table_8c92dbd39040490a8eae0c6877992248_56",
                                    "8": "2021-08-22 18:41:25.947"
                                },
                                {
                                    "0": "FactFinance100m",
                                    "1": "1",
                                    "2": "1",
                                    "3": "3",
                                    "4": "COMPRESSED",
                                    "5": "333324",
                                    "6": "BULKLOAD",
                                    "7": "Table_8c92dbd39040490a8eae0c6877992248_57",
                                    "8": "2021-08-22 18:41:17.163"
                                },
                                {
                                    "0": "FactFinance100m",
                                    "1": "0",
                                    "2": "1",
                                    "3": "3",
                                    "4": "COMPRESSED",
                                    "5": "333312",
                                    "6": "BULKLOAD",
                                    "7": "Table_8c92dbd39040490a8eae0c6877992248_58",
                                    "8": "2021-08-22 18:37:35.237"
                                },
                                {
                                    "0": "FactFinance100m",
                                    "1": "1",
                                    "2": "1",
                                    "3": "3",
                                    "4": "COMPRESSED",
                                    "5": "333324",
                                    "6": "BULKLOAD",
                                    "7": "Table_8c92dbd39040490a8eae0c6877992248_59",
                                    "8": "2021-08-22 18:41:26.453"
                                },
                                {
                                    "0": "FactFinance100m",
                                    "1": "1",
                                    "2": "1",
                                    "3": "3",
                                    "4": "COMPRESSED",
                                    "5": "333324",
                                    "6": "BULKLOAD",
                                    "7": "Table_8c92dbd39040490a8eae0c6877992248_60",
                                    "8": "2021-08-22 18:41:23.843"
                                },
                                {
                                    "0": "FactFinance100m",
                                    "1": "0",
                                    "2": "1",
                                    "3": "3",
                                    "4": "COMPRESSED",
                                    "5": "333312",
                                    "6": "BULKLOAD",
                                    "7": "Table_8c92dbd39040490a8eae0c6877992248_1",
                                    "8": "2021-08-22 18:37:35.767"
                                },
                                {
                                    "0": "FactFinance100m",
                                    "1": "0",
                                    "2": "1",
                                    "3": "3",
                                    "4": "COMPRESSED",
                                    "5": "333312",
                                    "6": "BULKLOAD",
                                    "7": "Table_8c92dbd39040490a8eae0c6877992248_2",
                                    "8": "2021-08-22 18:37:38.800"
                                },
                                {
                                    "0": "FactFinance100m",
                                    "1": "0",
                                    "2": "1",
                                    "3": "3",
                                    "4": "COMPRESSED",
                                    "5": "333312",
                                    "6": "BULKLOAD",
                                    "7": "Table_8c92dbd39040490a8eae0c6877992248_3",
                                    "8": "2021-08-22 18:37:38.783"
                                },
                                {
                                    "0": "FactFinance100m",
                                    "1": "0",
                                    "2": "1",
                                    "3": "3",
                                    "4": "COMPRESSED",
                                    "5": "333312",
                                    "6": "BULKLOAD",
                                    "7": "Table_8c92dbd39040490a8eae0c6877992248_4",
                                    "8": "2021-08-22 18:37:35.057"
                                },
                                {
                                    "0": "FactFinance100m",
                                    "1": "0",
                                    "2": "1",
                                    "3": "3",
                                    "4": "COMPRESSED",
                                    "5": "333312",
                                    "6": "BULKLOAD",
                                    "7": "Table_8c92dbd39040490a8eae0c6877992248_5",
                                    "8": "2021-08-22 18:37:40.100"
                                },
                                {
                                    "0": "FactFinance100m",
                                    "1": "0",
                                    "2": "1",
                                    "3": "3",
                                    "4": "COMPRESSED",
                                    "5": "333312",
                                    "6": "BULKLOAD",
                                    "7": "Table_8c92dbd39040490a8eae0c6877992248_6",
                                    "8": "2021-08-22 18:37:41.600"
                                },
                                {
                                    "0": "FactFinance100m",
                                    "1": "0",
                                    "2": "1",
                                    "3": "3",
                                    "4": "COMPRESSED",
                                    "5": "333312",
                                    "6": "BULKLOAD",
                                    "7": "Table_8c92dbd39040490a8eae0c6877992248_7",
                                    "8": "2021-08-22 18:37:41.603"
                                },
                                {
                                    "0": "FactFinance100m",
                                    "1": "0",
                                    "2": "1",
                                    "3": "3",
                                    "4": "COMPRESSED",
                                    "5": "333312",
                                    "6": "BULKLOAD",
                                    "7": "Table_8c92dbd39040490a8eae0c6877992248_8",
                                    "8": "2021-08-22 18:37:35.160"
                                },
                                {
                                    "0": "FactFinance100m",
                                    "1": "0",
                                    "2": "1",
                                    "3": "3",
                                    "4": "COMPRESSED",
                                    "5": "333312",
                                    "6": "BULKLOAD",
                                    "7": "Table_8c92dbd39040490a8eae0c6877992248_9",
                                    "8": "2021-08-22 18:37:40.050"
                                },
                                {
                                    "0": "FactFinance100m",
                                    "1": "0",
                                    "2": "1",
                                    "3": "3",
                                    "4": "COMPRESSED",
                                    "5": "333312",
                                    "6": "BULKLOAD",
                                    "7": "Table_8c92dbd39040490a8eae0c6877992248_10",
                                    "8": "2021-08-22 18:37:34.487"
                                },
                                {
                                    "0": "FactFinance100m",
                                    "1": "0",
                                    "2": "1",
                                    "3": "3",
                                    "4": "COMPRESSED",
                                    "5": "333312",
                                    "6": "BULKLOAD",
                                    "7": "Table_8c92dbd39040490a8eae0c6877992248_11",
                                    "8": "2021-08-22 18:37:29.720"
                                },
                                {
                                    "0": "FactFinance100m",
                                    "1": "0",
                                    "2": "1",
                                    "3": "3",
                                    "4": "COMPRESSED",
                                    "5": "333312",
                                    "6": "BULKLOAD",
                                    "7": "Table_8c92dbd39040490a8eae0c6877992248_12",
                                    "8": "2021-08-22 18:37:38.790"
                                },
                                {
                                    "0": "FactFinance100m",
                                    "1": "0",
                                    "2": "1",
                                    "3": "3",
                                    "4": "COMPRESSED",
                                    "5": "333312",
                                    "6": "BULKLOAD",
                                    "7": "Table_8c92dbd39040490a8eae0c6877992248_13",
                                    "8": "2021-08-22 18:37:32.233"
                                },
                                {
                                    "0": "FactFinance100m",
                                    "1": "0",
                                    "2": "1",
                                    "3": "3",
                                    "4": "COMPRESSED",
                                    "5": "333312",
                                    "6": "BULKLOAD",
                                    "7": "Table_8c92dbd39040490a8eae0c6877992248_14",
                                    "8": "2021-08-22 18:37:35.797"
                                },
                                {
                                    "0": "FactFinance100m",
                                    "1": "0",
                                    "2": "1",
                                    "3": "3",
                                    "4": "COMPRESSED",
                                    "5": "333312",
                                    "6": "BULKLOAD",
                                    "7": "Table_8c92dbd39040490a8eae0c6877992248_15",
                                    "8": "2021-08-22 18:37:33.937"
                                },
                                {
                                    "0": "FactFinance100m",
                                    "1": "0",
                                    "2": "1",
                                    "3": "3",
                                    "4": "COMPRESSED",
                                    "5": "333312",
                                    "6": "BULKLOAD",
                                    "7": "Table_8c92dbd39040490a8eae0c6877992248_16",
                                    "8": "2021-08-22 18:37:41.640"
                                },
                                {
                                    "0": "FactFinance100m",
                                    "1": "0",
                                    "2": "1",
                                    "3": "3",
                                    "4": "COMPRESSED",
                                    "5": "333312",
                                    "6": "BULKLOAD",
                                    "7": "Table_8c92dbd39040490a8eae0c6877992248_17",
                                    "8": "2021-08-22 18:37:34.363"
                                },
                                {
                                    "0": "FactFinance100m",
                                    "1": "2",
                                    "2": "1",
                                    "3": "3",
                                    "4": "COMPRESSED",
                                    "5": "333324",
                                    "6": "BULKLOAD",
                                    "7": "Table_8c92dbd39040490a8eae0c6877992248_18",
                                    "8": "2021-08-22 18:44:20.100"
                                },
                                {
                                    "0": "FactFinance100m",
                                    "1": "0",
                                    "2": "1",
                                    "3": "3",
                                    "4": "COMPRESSED",
                                    "5": "333312",
                                    "6": "BULKLOAD",
                                    "7": "Table_8c92dbd39040490a8eae0c6877992248_19",
                                    "8": "2021-08-22 18:37:41.617"
                                },
                                {
                                    "0": "FactFinance100m",
                                    "1": "2",
                                    "2": "1",
                                    "3": "3",
                                    "4": "COMPRESSED",
                                    "5": "333324",
                                    "6": "BULKLOAD",
                                    "7": "Table_8c92dbd39040490a8eae0c6877992248_20",
                                    "8": "2021-08-22 18:44:25.530"
                                },
                                {
                                    "0": "FactFinance100m",
                                    "1": "0",
                                    "2": "1",
                                    "3": "3",
                                    "4": "COMPRESSED",
                                    "5": "333312",
                                    "6": "BULKLOAD",
                                    "7": "Table_8c92dbd39040490a8eae0c6877992248_21",
                                    "8": "2021-08-22 18:37:41.680"
                                },
                                {
                                    "0": "FactFinance100m",
                                    "1": "0",
                                    "2": "1",
                                    "3": "3",
                                    "4": "COMPRESSED",
                                    "5": "333312",
                                    "6": "BULKLOAD",
                                    "7": "Table_8c92dbd39040490a8eae0c6877992248_22",
                                    "8": "2021-08-22 18:37:40.177"
                                },
                                {
                                    "0": "FactFinance100m",
                                    "1": "0",
                                    "2": "1",
                                    "3": "3",
                                    "4": "COMPRESSED",
                                    "5": "333312",
                                    "6": "BULKLOAD",
                                    "7": "Table_8c92dbd39040490a8eae0c6877992248_23",
                                    "8": "2021-08-22 18:37:32.310"
                                },
                                {
                                    "0": "FactFinance100m",
                                    "1": "2",
                                    "2": "1",
                                    "3": "3",
                                    "4": "COMPRESSED",
                                    "5": "333324",
                                    "6": "BULKLOAD",
                                    "7": "Table_8c92dbd39040490a8eae0c6877992248_24",
                                    "8": "2021-08-22 18:44:19.153"
                                },
                                {
                                    "0": "FactFinance100m",
                                    "1": "0",
                                    "2": "1",
                                    "3": "3",
                                    "4": "COMPRESSED",
                                    "5": "333312",
                                    "6": "BULKLOAD",
                                    "7": "Table_8c92dbd39040490a8eae0c6877992248_25",
                                    "8": "2021-08-22 18:37:29.677"
                                },
                                {
                                    "0": "FactFinance100m",
                                    "1": "0",
                                    "2": "1",
                                    "3": "3",
                                    "4": "COMPRESSED",
                                    "5": "333312",
                                    "6": "BULKLOAD",
                                    "7": "Table_8c92dbd39040490a8eae0c6877992248_26",
                                    "8": "2021-08-22 18:37:31.950"
                                },
                                {
                                    "0": "FactFinance100m",
                                    "1": "2",
                                    "2": "1",
                                    "3": "3",
                                    "4": "COMPRESSED",
                                    "5": "333324",
                                    "6": "BULKLOAD",
                                    "7": "Table_8c92dbd39040490a8eae0c6877992248_27",
                                    "8": "2021-08-22 18:44:31.913"
                                },
                                {
                                    "0": "FactFinance100m",
                                    "1": "0",
                                    "2": "1",
                                    "3": "3",
                                    "4": "COMPRESSED",
                                    "5": "333312",
                                    "6": "BULKLOAD",
                                    "7": "Table_8c92dbd39040490a8eae0c6877992248_28",
                                    "8": "2021-08-22 18:37:35.753"
                                },
                                {
                                    "0": "FactFinance100m",
                                    "1": "0",
                                    "2": "1",
                                    "3": "3",
                                    "4": "COMPRESSED",
                                    "5": "333312",
                                    "6": "BULKLOAD",
                                    "7": "Table_8c92dbd39040490a8eae0c6877992248_29",
                                    "8": "2021-08-22 18:37:31.387"
                                },
                                {
                                    "0": "FactFinance100m",
                                    "1": "2",
                                    "2": "1",
                                    "3": "3",
                                    "4": "COMPRESSED",
                                    "5": "333324",
                                    "6": "BULKLOAD",
                                    "7": "Table_8c92dbd39040490a8eae0c6877992248_30",
                                    "8": "2021-08-22 18:44:22.803"
                                },
                                {
                                    "0": "FactFinance100m",
                                    "1": "0",
                                    "2": "1",
                                    "3": "3",
                                    "4": "COMPRESSED",
                                    "5": "333312",
                                    "6": "BULKLOAD",
                                    "7": "Table_8c92dbd39040490a8eae0c6877992248_31",
                                    "8": "2021-08-22 18:37:40.070"
                                },
                                {
                                    "0": "FactFinance100m",
                                    "1": "0",
                                    "2": "1",
                                    "3": "3",
                                    "4": "COMPRESSED",
                                    "5": "333312",
                                    "6": "BULKLOAD",
                                    "7": "Table_8c92dbd39040490a8eae0c6877992248_32",
                                    "8": "2021-08-22 18:37:41.610"
                                },
                                {
                                    "0": "FactFinance100m",
                                    "1": "0",
                                    "2": "1",
                                    "3": "3",
                                    "4": "COMPRESSED",
                                    "5": "333312",
                                    "6": "BULKLOAD",
                                    "7": "Table_8c92dbd39040490a8eae0c6877992248_33",
                                    "8": "2021-08-22 18:37:40.090"
                                },
                                {
                                    "0": "FactFinance100m",
                                    "1": "0",
                                    "2": "1",
                                    "3": "3",
                                    "4": "COMPRESSED",
                                    "5": "333312",
                                    "6": "BULKLOAD",
                                    "7": "Table_8c92dbd39040490a8eae0c6877992248_34",
                                    "8": "2021-08-22 18:37:41.547"
                                },
                                {
                                    "0": "FactFinance100m",
                                    "1": "0",
                                    "2": "1",
                                    "3": "3",
                                    "4": "COMPRESSED",
                                    "5": "333312",
                                    "6": "BULKLOAD",
                                    "7": "Table_8c92dbd39040490a8eae0c6877992248_35",
                                    "8": "2021-08-22 18:37:41.543"
                                },
                                {
                                    "0": "FactFinance100m",
                                    "1": "0",
                                    "2": "1",
                                    "3": "3",
                                    "4": "COMPRESSED",
                                    "5": "333312",
                                    "6": "BULKLOAD",
                                    "7": "Table_8c92dbd39040490a8eae0c6877992248_36",
                                    "8": "2021-08-22 18:37:31.183"
                                },
                                {
                                    "0": "FactFinance100m",
                                    "1": "0",
                                    "2": "1",
                                    "3": "3",
                                    "4": "COMPRESSED",
                                    "5": "333312",
                                    "6": "BULKLOAD",
                                    "7": "Table_8c92dbd39040490a8eae0c6877992248_37",
                                    "8": "2021-08-22 18:37:35.720"
                                },
                                {
                                    "0": "FactFinance100m",
                                    "1": "0",
                                    "2": "1",
                                    "3": "3",
                                    "4": "COMPRESSED",
                                    "5": "333312",
                                    "6": "BULKLOAD",
                                    "7": "Table_8c92dbd39040490a8eae0c6877992248_38",
                                    "8": "2021-08-22 18:37:35.803"
                                },
                                {
                                    "0": "FactFinance100m",
                                    "1": "0",
                                    "2": "1",
                                    "3": "3",
                                    "4": "COMPRESSED",
                                    "5": "333312",
                                    "6": "BULKLOAD",
                                    "7": "Table_8c92dbd39040490a8eae0c6877992248_39",
                                    "8": "2021-08-22 18:37:29.683"
                                },
                                {
                                    "0": "FactFinance100m",
                                    "1": "0",
                                    "2": "1",
                                    "3": "3",
                                    "4": "COMPRESSED",
                                    "5": "333312",
                                    "6": "BULKLOAD",
                                    "7": "Table_8c92dbd39040490a8eae0c6877992248_40",
                                    "8": "2021-08-22 18:37:41.610"
                                },
                                {
                                    "0": "FactFinance100m",
                                    "1": "0",
                                    "2": "1",
                                    "3": "3",
                                    "4": "COMPRESSED",
                                    "5": "333312",
                                    "6": "BULKLOAD",
                                    "7": "Table_8c92dbd39040490a8eae0c6877992248_41",
                                    "8": "2021-08-22 18:37:32.343"
                                },
                                {
                                    "0": "FactFinance100m",
                                    "1": "0",
                                    "2": "1",
                                    "3": "3",
                                    "4": "COMPRESSED",
                                    "5": "333312",
                                    "6": "BULKLOAD",
                                    "7": "Table_8c92dbd39040490a8eae0c6877992248_42",
                                    "8": "2021-08-22 18:37:41.653"
                                },
                                {
                                    "0": "FactFinance100m",
                                    "1": "0",
                                    "2": "1",
                                    "3": "3",
                                    "4": "COMPRESSED",
                                    "5": "333312",
                                    "6": "BULKLOAD",
                                    "7": "Table_8c92dbd39040490a8eae0c6877992248_43",
                                    "8": "2021-08-22 18:37:41.650"
                                },
                                {
                                    "0": "FactFinance100m",
                                    "1": "0",
                                    "2": "1",
                                    "3": "3",
                                    "4": "COMPRESSED",
                                    "5": "333312",
                                    "6": "BULKLOAD",
                                    "7": "Table_8c92dbd39040490a8eae0c6877992248_44",
                                    "8": "2021-08-22 18:37:41.580"
                                },
                                {
                                    "0": "FactFinance100m",
                                    "1": "0",
                                    "2": "1",
                                    "3": "3",
                                    "4": "COMPRESSED",
                                    "5": "333312",
                                    "6": "BULKLOAD",
                                    "7": "Table_8c92dbd39040490a8eae0c6877992248_45",
                                    "8": "2021-08-22 18:37:34.340"
                                },
                                {
                                    "0": "FactFinance100m",
                                    "1": "0",
                                    "2": "1",
                                    "3": "3",
                                    "4": "COMPRESSED",
                                    "5": "333312",
                                    "6": "BULKLOAD",
                                    "7": "Table_8c92dbd39040490a8eae0c6877992248_46",
                                    "8": "2021-08-22 18:37:32.240"
                                },
                                {
                                    "0": "FactFinance100m",
                                    "1": "0",
                                    "2": "1",
                                    "3": "3",
                                    "4": "COMPRESSED",
                                    "5": "333808",
                                    "6": "BULKLOAD",
                                    "7": "Table_8c92dbd39040490a8eae0c6877992248_47",
                                    "8": "2021-08-22 18:37:38.893"
                                },
                                {
                                    "0": "FactFinance100m",
                                    "1": "0",
                                    "2": "1",
                                    "3": "3",
                                    "4": "COMPRESSED",
                                    "5": "333808",
                                    "6": "BULKLOAD",
                                    "7": "Table_8c92dbd39040490a8eae0c6877992248_48",
                                    "8": "2021-08-22 18:37:35.120"
                                },
                                {
                                    "0": "FactFinance100m",
                                    "1": "0",
                                    "2": "1",
                                    "3": "3",
                                    "4": "COMPRESSED",
                                    "5": "333600",
                                    "6": "BULKLOAD",
                                    "7": "Table_8c92dbd39040490a8eae0c6877992248_49",
                                    "8": "2021-08-22 18:37:33.910"
                                },
                                {
                                    "0": "FactFinance100m",
                                    "1": "0",
                                    "2": "1",
                                    "3": "3",
                                    "4": "COMPRESSED",
                                    "5": "333312",
                                    "6": "BULKLOAD",
                                    "7": "Table_8c92dbd39040490a8eae0c6877992248_50",
                                    "8": "2021-08-22 18:37:40.187"
                                },
                                {
                                    "0": "FactFinance100m",
                                    "1": "0",
                                    "2": "1",
                                    "3": "3",
                                    "4": "COMPRESSED",
                                    "5": "333312",
                                    "6": "BULKLOAD",
                                    "7": "Table_8c92dbd39040490a8eae0c6877992248_51",
                                    "8": "2021-08-22 18:37:38.790"
                                },
                                {
                                    "0": "FactFinance100m",
                                    "1": "0",
                                    "2": "1",
                                    "3": "3",
                                    "4": "COMPRESSED",
                                    "5": "333312",
                                    "6": "BULKLOAD",
                                    "7": "Table_8c92dbd39040490a8eae0c6877992248_52",
                                    "8": "2021-08-22 18:37:41.617"
                                },
                                {
                                    "0": "FactFinance100m",
                                    "1": "0",
                                    "2": "1",
                                    "3": "3",
                                    "4": "COMPRESSED",
                                    "5": "333312",
                                    "6": "BULKLOAD",
                                    "7": "Table_8c92dbd39040490a8eae0c6877992248_53",
                                    "8": "2021-08-22 18:37:34.337"
                                },
                                {
                                    "0": "FactFinance100m",
                                    "1": "0",
                                    "2": "1",
                                    "3": "3",
                                    "4": "COMPRESSED",
                                    "5": "333312",
                                    "6": "BULKLOAD",
                                    "7": "Table_8c92dbd39040490a8eae0c6877992248_54",
                                    "8": "2021-08-22 18:37:31.290"
                                },
                                {
                                    "0": "FactFinance100m",
                                    "1": "0",
                                    "2": "1",
                                    "3": "3",
                                    "4": "COMPRESSED",
                                    "5": "333312",
                                    "6": "BULKLOAD",
                                    "7": "Table_8c92dbd39040490a8eae0c6877992248_55",
                                    "8": "2021-08-22 18:37:41.640"
                                },
                                {
                                    "0": "FactFinance100m",
                                    "1": "0",
                                    "2": "1",
                                    "3": "3",
                                    "4": "COMPRESSED",
                                    "5": "333312",
                                    "6": "BULKLOAD",
                                    "7": "Table_8c92dbd39040490a8eae0c6877992248_56",
                                    "8": "2021-08-22 18:37:33.907"
                                },
                                {
                                    "0": "FactFinance100m",
                                    "1": "0",
                                    "2": "1",
                                    "3": "3",
                                    "4": "COMPRESSED",
                                    "5": "333312",
                                    "6": "BULKLOAD",
                                    "7": "Table_8c92dbd39040490a8eae0c6877992248_57",
                                    "8": "2021-08-22 18:37:31.163"
                                },
                                {
                                    "0": "FactFinance100m",
                                    "1": "2",
                                    "2": "1",
                                    "3": "3",
                                    "4": "COMPRESSED",
                                    "5": "333324",
                                    "6": "BULKLOAD",
                                    "7": "Table_8c92dbd39040490a8eae0c6877992248_58",
                                    "8": "2021-08-22 18:44:25.437"
                                },
                                {
                                    "0": "FactFinance100m",
                                    "1": "0",
                                    "2": "1",
                                    "3": "3",
                                    "4": "COMPRESSED",
                                    "5": "333312",
                                    "6": "BULKLOAD",
                                    "7": "Table_8c92dbd39040490a8eae0c6877992248_59",
                                    "8": "2021-08-22 18:37:38.827"
                                },
                                {
                                    "0": "FactFinance100m",
                                    "1": "0",
                                    "2": "1",
                                    "3": "3",
                                    "4": "COMPRESSED",
                                    "5": "333312",
                                    "6": "BULKLOAD",
                                    "7": "Table_8c92dbd39040490a8eae0c6877992248_60",
                                    "8": "2021-08-22 18:37:35.057"
                                }
                            ]
                        },
                        "text/html": "<table><tr><th>logical_table_name</th><th>row_group_id</th><th>partition_number</th><th>state</th><th>state_desc</th><th>total_rows</th><th>trim_reason_desc</th><th>physical_name</th><th>created_time</th></tr><tr><td>FactFinance100m</td><td>2</td><td>1</td><td>3</td><td>COMPRESSED</td><td>333324</td><td>BULKLOAD</td><td>Table_8c92dbd39040490a8eae0c6877992248_1</td><td>2021-08-22 18:44:29.980</td></tr><tr><td>FactFinance100m</td><td>2</td><td>1</td><td>3</td><td>COMPRESSED</td><td>333324</td><td>BULKLOAD</td><td>Table_8c92dbd39040490a8eae0c6877992248_2</td><td>2021-08-22 18:44:30.760</td></tr><tr><td>FactFinance100m</td><td>2</td><td>1</td><td>3</td><td>COMPRESSED</td><td>333324</td><td>BULKLOAD</td><td>Table_8c92dbd39040490a8eae0c6877992248_3</td><td>2021-08-22 18:44:31.943</td></tr><tr><td>FactFinance100m</td><td>2</td><td>1</td><td>3</td><td>COMPRESSED</td><td>333884</td><td>BULKLOAD</td><td>Table_8c92dbd39040490a8eae0c6877992248_4</td><td>2021-08-22 18:44:27.803</td></tr><tr><td>FactFinance100m</td><td>2</td><td>1</td><td>3</td><td>COMPRESSED</td><td>333324</td><td>BULKLOAD</td><td>Table_8c92dbd39040490a8eae0c6877992248_5</td><td>2021-08-22 18:44:30.640</td></tr><tr><td>FactFinance100m</td><td>2</td><td>1</td><td>3</td><td>COMPRESSED</td><td>333324</td><td>BULKLOAD</td><td>Table_8c92dbd39040490a8eae0c6877992248_6</td><td>2021-08-22 18:44:30.880</td></tr><tr><td>FactFinance100m</td><td>2</td><td>1</td><td>3</td><td>COMPRESSED</td><td>333324</td><td>BULKLOAD</td><td>Table_8c92dbd39040490a8eae0c6877992248_7</td><td>2021-08-22 18:44:29.987</td></tr><tr><td>FactFinance100m</td><td>2</td><td>1</td><td>3</td><td>COMPRESSED</td><td>333324</td><td>BULKLOAD</td><td>Table_8c92dbd39040490a8eae0c6877992248_8</td><td>2021-08-22 18:44:20.310</td></tr><tr><td>FactFinance100m</td><td>2</td><td>1</td><td>3</td><td>COMPRESSED</td><td>333324</td><td>BULKLOAD</td><td>Table_8c92dbd39040490a8eae0c6877992248_9</td><td>2021-08-22 18:44:27.783</td></tr><tr><td>FactFinance100m</td><td>2</td><td>1</td><td>3</td><td>COMPRESSED</td><td>333324</td><td>BULKLOAD</td><td>Table_8c92dbd39040490a8eae0c6877992248_10</td><td>2021-08-22 18:44:30.793</td></tr><tr><td>FactFinance100m</td><td>2</td><td>1</td><td>3</td><td>COMPRESSED</td><td>333324</td><td>BULKLOAD</td><td>Table_8c92dbd39040490a8eae0c6877992248_11</td><td>2021-08-22 18:44:25.457</td></tr><tr><td>FactFinance100m</td><td>2</td><td>1</td><td>3</td><td>COMPRESSED</td><td>333324</td><td>BULKLOAD</td><td>Table_8c92dbd39040490a8eae0c6877992248_12</td><td>2021-08-22 18:44:30.017</td></tr><tr><td>FactFinance100m</td><td>2</td><td>1</td><td>3</td><td>COMPRESSED</td><td>333324</td><td>BULKLOAD</td><td>Table_8c92dbd39040490a8eae0c6877992248_13</td><td>2021-08-22 18:44:18.030</td></tr><tr><td>FactFinance100m</td><td>2</td><td>1</td><td>3</td><td>COMPRESSED</td><td>333324</td><td>BULKLOAD</td><td>Table_8c92dbd39040490a8eae0c6877992248_14</td><td>2021-08-22 18:44:31.953</td></tr><tr><td>FactFinance100m</td><td>2</td><td>1</td><td>3</td><td>COMPRESSED</td><td>333324</td><td>BULKLOAD</td><td>Table_8c92dbd39040490a8eae0c6877992248_15</td><td>2021-08-22 18:44:22.800</td></tr><tr><td>FactFinance100m</td><td>2</td><td>1</td><td>3</td><td>COMPRESSED</td><td>333324</td><td>BULKLOAD</td><td>Table_8c92dbd39040490a8eae0c6877992248_16</td><td>2021-08-22 18:44:31.960</td></tr><tr><td>FactFinance100m</td><td>2</td><td>1</td><td>3</td><td>COMPRESSED</td><td>333324</td><td>BULKLOAD</td><td>Table_8c92dbd39040490a8eae0c6877992248_17</td><td>2021-08-22 18:44:27.793</td></tr><tr><td>FactFinance100m</td><td>1</td><td>1</td><td>3</td><td>COMPRESSED</td><td>333324</td><td>BULKLOAD</td><td>Table_8c92dbd39040490a8eae0c6877992248_18</td><td>2021-08-22 18:41:20.887</td></tr><tr><td>FactFinance100m</td><td>2</td><td>1</td><td>3</td><td>COMPRESSED</td><td>333324</td><td>BULKLOAD</td><td>Table_8c92dbd39040490a8eae0c6877992248_19</td><td>2021-08-22 18:44:30.610</td></tr><tr><td>FactFinance100m</td><td>1</td><td>1</td><td>3</td><td>COMPRESSED</td><td>333324</td><td>BULKLOAD</td><td>Table_8c92dbd39040490a8eae0c6877992248_20</td><td>2021-08-22 18:41:26.450</td></tr><tr><td>FactFinance100m</td><td>2</td><td>1</td><td>3</td><td>COMPRESSED</td><td>333324</td><td>BULKLOAD</td><td>Table_8c92dbd39040490a8eae0c6877992248_21</td><td>2021-08-22 18:44:25.453</td></tr><tr><td>FactFinance100m</td><td>2</td><td>1</td><td>3</td><td>COMPRESSED</td><td>333324</td><td>BULKLOAD</td><td>Table_8c92dbd39040490a8eae0c6877992248_22</td><td>2021-08-22 18:44:23.120</td></tr><tr><td>FactFinance100m</td><td>2</td><td>1</td><td>3</td><td>COMPRESSED</td><td>333324</td><td>BULKLOAD</td><td>Table_8c92dbd39040490a8eae0c6877992248_23</td><td>2021-08-22 18:44:22.867</td></tr><tr><td>FactFinance100m</td><td>1</td><td>1</td><td>3</td><td>COMPRESSED</td><td>333324</td><td>BULKLOAD</td><td>Table_8c92dbd39040490a8eae0c6877992248_24</td><td>2021-08-22 18:41:19.583</td></tr><tr><td>FactFinance100m</td><td>2</td><td>1</td><td>3</td><td>COMPRESSED</td><td>333324</td><td>BULKLOAD</td><td>Table_8c92dbd39040490a8eae0c6877992248_25</td><td>2021-08-22 18:44:25.567</td></tr><tr><td>FactFinance100m</td><td>2</td><td>1</td><td>3</td><td>COMPRESSED</td><td>333324</td><td>BULKLOAD</td><td>Table_8c92dbd39040490a8eae0c6877992248_26</td><td>2021-08-22 18:44:22.827</td></tr><tr><td>FactFinance100m</td><td>1</td><td>1</td><td>3</td><td>COMPRESSED</td><td>333324</td><td>BULKLOAD</td><td>Table_8c92dbd39040490a8eae0c6877992248_27</td><td>2021-08-22 18:41:24.577</td></tr><tr><td>FactFinance100m</td><td>2</td><td>1</td><td>3</td><td>COMPRESSED</td><td>333324</td><td>BULKLOAD</td><td>Table_8c92dbd39040490a8eae0c6877992248_28</td><td>2021-08-22 18:44:25.313</td></tr><tr><td>FactFinance100m</td><td>2</td><td>1</td><td>3</td><td>COMPRESSED</td><td>333324</td><td>BULKLOAD</td><td>Table_8c92dbd39040490a8eae0c6877992248_29</td><td>2021-08-22 18:44:18.160</td></tr><tr><td>FactFinance100m</td><td>1</td><td>1</td><td>3</td><td>COMPRESSED</td><td>333324</td><td>BULKLOAD</td><td>Table_8c92dbd39040490a8eae0c6877992248_30</td><td>2021-08-22 18:41:19.483</td></tr><tr><td>FactFinance100m</td><td>2</td><td>1</td><td>3</td><td>COMPRESSED</td><td>333324</td><td>BULKLOAD</td><td>Table_8c92dbd39040490a8eae0c6877992248_31</td><td>2021-08-22 18:44:30.820</td></tr><tr><td>FactFinance100m</td><td>2</td><td>1</td><td>3</td><td>COMPRESSED</td><td>333324</td><td>BULKLOAD</td><td>Table_8c92dbd39040490a8eae0c6877992248_32</td><td>2021-08-22 18:44:31.907</td></tr><tr><td>FactFinance100m</td><td>2</td><td>1</td><td>3</td><td>COMPRESSED</td><td>333324</td><td>BULKLOAD</td><td>Table_8c92dbd39040490a8eae0c6877992248_33</td><td>2021-08-22 18:44:30.787</td></tr><tr><td>FactFinance100m</td><td>2</td><td>1</td><td>3</td><td>COMPRESSED</td><td>333324</td><td>BULKLOAD</td><td>Table_8c92dbd39040490a8eae0c6877992248_34</td><td>2021-08-22 18:44:30.787</td></tr><tr><td>FactFinance100m</td><td>2</td><td>1</td><td>3</td><td>COMPRESSED</td><td>333324</td><td>BULKLOAD</td><td>Table_8c92dbd39040490a8eae0c6877992248_35</td><td>2021-08-22 18:44:19.190</td></tr><tr><td>FactFinance100m</td><td>2</td><td>1</td><td>3</td><td>COMPRESSED</td><td>333324</td><td>BULKLOAD</td><td>Table_8c92dbd39040490a8eae0c6877992248_36</td><td>2021-08-22 18:44:23.077</td></tr><tr><td>FactFinance100m</td><td>2</td><td>1</td><td>3</td><td>COMPRESSED</td><td>333324</td><td>BULKLOAD</td><td>Table_8c92dbd39040490a8eae0c6877992248_37</td><td>2021-08-22 18:44:31.903</td></tr><tr><td>FactFinance100m</td><td>2</td><td>1</td><td>3</td><td>COMPRESSED</td><td>333324</td><td>BULKLOAD</td><td>Table_8c92dbd39040490a8eae0c6877992248_38</td><td>2021-08-22 18:44:30.630</td></tr><tr><td>FactFinance100m</td><td>2</td><td>1</td><td>3</td><td>COMPRESSED</td><td>333324</td><td>BULKLOAD</td><td>Table_8c92dbd39040490a8eae0c6877992248_39</td><td>2021-08-22 18:44:20.050</td></tr><tr><td>FactFinance100m</td><td>2</td><td>1</td><td>3</td><td>COMPRESSED</td><td>333324</td><td>BULKLOAD</td><td>Table_8c92dbd39040490a8eae0c6877992248_40</td><td>2021-08-22 18:44:30.003</td></tr><tr><td>FactFinance100m</td><td>2</td><td>1</td><td>3</td><td>COMPRESSED</td><td>333324</td><td>BULKLOAD</td><td>Table_8c92dbd39040490a8eae0c6877992248_41</td><td>2021-08-22 18:44:25.413</td></tr><tr><td>FactFinance100m</td><td>2</td><td>1</td><td>3</td><td>COMPRESSED</td><td>333324</td><td>BULKLOAD</td><td>Table_8c92dbd39040490a8eae0c6877992248_42</td><td>2021-08-22 18:44:30.033</td></tr><tr><td>FactFinance100m</td><td>2</td><td>1</td><td>3</td><td>COMPRESSED</td><td>333324</td><td>BULKLOAD</td><td>Table_8c92dbd39040490a8eae0c6877992248_43</td><td>2021-08-22 18:44:27.823</td></tr><tr><td>FactFinance100m</td><td>2</td><td>1</td><td>3</td><td>COMPRESSED</td><td>333324</td><td>BULKLOAD</td><td>Table_8c92dbd39040490a8eae0c6877992248_44</td><td>2021-08-22 18:44:31.900</td></tr><tr><td>FactFinance100m</td><td>2</td><td>1</td><td>3</td><td>COMPRESSED</td><td>333324</td><td>BULKLOAD</td><td>Table_8c92dbd39040490a8eae0c6877992248_45</td><td>2021-08-22 18:44:25.320</td></tr><tr><td>FactFinance100m</td><td>2</td><td>1</td><td>3</td><td>COMPRESSED</td><td>333324</td><td>BULKLOAD</td><td>Table_8c92dbd39040490a8eae0c6877992248_46</td><td>2021-08-22 18:44:30.030</td></tr><tr><td>FactFinance100m</td><td>2</td><td>1</td><td>3</td><td>COMPRESSED</td><td>333324</td><td>BULKLOAD</td><td>Table_8c92dbd39040490a8eae0c6877992248_47</td><td>2021-08-22 18:44:27.833</td></tr><tr><td>FactFinance100m</td><td>2</td><td>1</td><td>3</td><td>COMPRESSED</td><td>333324</td><td>BULKLOAD</td><td>Table_8c92dbd39040490a8eae0c6877992248_48</td><td>2021-08-22 18:44:23.060</td></tr><tr><td>FactFinance100m</td><td>2</td><td>1</td><td>3</td><td>COMPRESSED</td><td>333324</td><td>BULKLOAD</td><td>Table_8c92dbd39040490a8eae0c6877992248_49</td><td>2021-08-22 18:44:20.050</td></tr><tr><td>FactFinance100m</td><td>2</td><td>1</td><td>3</td><td>COMPRESSED</td><td>333324</td><td>BULKLOAD</td><td>Table_8c92dbd39040490a8eae0c6877992248_50</td><td>2021-08-22 18:44:30.687</td></tr><tr><td>FactFinance100m</td><td>2</td><td>1</td><td>3</td><td>COMPRESSED</td><td>333324</td><td>BULKLOAD</td><td>Table_8c92dbd39040490a8eae0c6877992248_51</td><td>2021-08-22 18:44:30.757</td></tr><tr><td>FactFinance100m</td><td>2</td><td>1</td><td>3</td><td>COMPRESSED</td><td>333324</td><td>BULKLOAD</td><td>Table_8c92dbd39040490a8eae0c6877992248_52</td><td>2021-08-22 18:44:31.953</td></tr><tr><td>FactFinance100m</td><td>2</td><td>1</td><td>3</td><td>COMPRESSED</td><td>333324</td><td>BULKLOAD</td><td>Table_8c92dbd39040490a8eae0c6877992248_53</td><td>2021-08-22 18:44:30.737</td></tr><tr><td>FactFinance100m</td><td>2</td><td>1</td><td>3</td><td>COMPRESSED</td><td>333324</td><td>BULKLOAD</td><td>Table_8c92dbd39040490a8eae0c6877992248_54</td><td>2021-08-22 18:44:30.627</td></tr><tr><td>FactFinance100m</td><td>2</td><td>1</td><td>3</td><td>COMPRESSED</td><td>333324</td><td>BULKLOAD</td><td>Table_8c92dbd39040490a8eae0c6877992248_55</td><td>2021-08-22 18:44:30.790</td></tr><tr><td>FactFinance100m</td><td>2</td><td>1</td><td>3</td><td>COMPRESSED</td><td>333324</td><td>BULKLOAD</td><td>Table_8c92dbd39040490a8eae0c6877992248_56</td><td>2021-08-22 18:44:25.253</td></tr><tr><td>FactFinance100m</td><td>2</td><td>1</td><td>3</td><td>COMPRESSED</td><td>333324</td><td>BULKLOAD</td><td>Table_8c92dbd39040490a8eae0c6877992248_57</td><td>2021-08-22 18:44:22.913</td></tr><tr><td>FactFinance100m</td><td>1</td><td>1</td><td>3</td><td>COMPRESSED</td><td>333324</td><td>BULKLOAD</td><td>Table_8c92dbd39040490a8eae0c6877992248_58</td><td>2021-08-22 18:41:17.117</td></tr><tr><td>FactFinance100m</td><td>2</td><td>1</td><td>3</td><td>COMPRESSED</td><td>333324</td><td>BULKLOAD</td><td>Table_8c92dbd39040490a8eae0c6877992248_59</td><td>2021-08-22 18:44:25.277</td></tr><tr><td>FactFinance100m</td><td>2</td><td>1</td><td>3</td><td>COMPRESSED</td><td>333324</td><td>BULKLOAD</td><td>Table_8c92dbd39040490a8eae0c6877992248_60</td><td>2021-08-22 18:44:30.650</td></tr><tr><td>FactFinance100m</td><td>1</td><td>1</td><td>3</td><td>COMPRESSED</td><td>333324</td><td>BULKLOAD</td><td>Table_8c92dbd39040490a8eae0c6877992248_1</td><td>2021-08-22 18:41:20.700</td></tr><tr><td>FactFinance100m</td><td>1</td><td>1</td><td>3</td><td>COMPRESSED</td><td>333324</td><td>BULKLOAD</td><td>Table_8c92dbd39040490a8eae0c6877992248_2</td><td>2021-08-22 18:41:24.657</td></tr><tr><td>FactFinance100m</td><td>1</td><td>1</td><td>3</td><td>COMPRESSED</td><td>333884</td><td>BULKLOAD</td><td>Table_8c92dbd39040490a8eae0c6877992248_3</td><td>2021-08-22 18:41:26.490</td></tr><tr><td>FactFinance100m</td><td>1</td><td>1</td><td>3</td><td>COMPRESSED</td><td>333324</td><td>BULKLOAD</td><td>Table_8c92dbd39040490a8eae0c6877992248_4</td><td>2021-08-22 18:41:23.833</td></tr><tr><td>FactFinance100m</td><td>1</td><td>1</td><td>3</td><td>COMPRESSED</td><td>333324</td><td>BULKLOAD</td><td>Table_8c92dbd39040490a8eae0c6877992248_5</td><td>2021-08-22 18:41:21.097</td></tr><tr><td>FactFinance100m</td><td>1</td><td>1</td><td>3</td><td>COMPRESSED</td><td>333324</td><td>BULKLOAD</td><td>Table_8c92dbd39040490a8eae0c6877992248_6</td><td>2021-08-22 18:41:26.000</td></tr><tr><td>FactFinance100m</td><td>1</td><td>1</td><td>3</td><td>COMPRESSED</td><td>333324</td><td>BULKLOAD</td><td>Table_8c92dbd39040490a8eae0c6877992248_7</td><td>2021-08-22 18:41:26.497</td></tr><tr><td>FactFinance100m</td><td>1</td><td>1</td><td>3</td><td>COMPRESSED</td><td>333324</td><td>BULKLOAD</td><td>Table_8c92dbd39040490a8eae0c6877992248_8</td><td>2021-08-22 18:41:15.513</td></tr><tr><td>FactFinance100m</td><td>1</td><td>1</td><td>3</td><td>COMPRESSED</td><td>333324</td><td>BULKLOAD</td><td>Table_8c92dbd39040490a8eae0c6877992248_9</td><td>2021-08-22 18:41:26.477</td></tr><tr><td>FactFinance100m</td><td>1</td><td>1</td><td>3</td><td>COMPRESSED</td><td>333324</td><td>BULKLOAD</td><td>Table_8c92dbd39040490a8eae0c6877992248_10</td><td>2021-08-22 18:41:23.867</td></tr><tr><td>FactFinance100m</td><td>1</td><td>1</td><td>3</td><td>COMPRESSED</td><td>333324</td><td>BULKLOAD</td><td>Table_8c92dbd39040490a8eae0c6877992248_11</td><td>2021-08-22 18:41:17.700</td></tr><tr><td>FactFinance100m</td><td>1</td><td>1</td><td>3</td><td>COMPRESSED</td><td>333324</td><td>BULKLOAD</td><td>Table_8c92dbd39040490a8eae0c6877992248_12</td><td>2021-08-22 18:41:19.950</td></tr><tr><td>FactFinance100m</td><td>1</td><td>1</td><td>3</td><td>COMPRESSED</td><td>333324</td><td>BULKLOAD</td><td>Table_8c92dbd39040490a8eae0c6877992248_13</td><td>2021-08-22 18:41:21.047</td></tr><tr><td>FactFinance100m</td><td>1</td><td>1</td><td>3</td><td>COMPRESSED</td><td>333324</td><td>BULKLOAD</td><td>Table_8c92dbd39040490a8eae0c6877992248_14</td><td>2021-08-22 18:41:26.013</td></tr><tr><td>FactFinance100m</td><td>1</td><td>1</td><td>3</td><td>COMPRESSED</td><td>333324</td><td>BULKLOAD</td><td>Table_8c92dbd39040490a8eae0c6877992248_15</td><td>2021-08-22 18:41:20.263</td></tr><tr><td>FactFinance100m</td><td>1</td><td>1</td><td>3</td><td>COMPRESSED</td><td>333324</td><td>BULKLOAD</td><td>Table_8c92dbd39040490a8eae0c6877992248_16</td><td>2021-08-22 18:41:26.003</td></tr><tr><td>FactFinance100m</td><td>1</td><td>1</td><td>3</td><td>COMPRESSED</td><td>333324</td><td>BULKLOAD</td><td>Table_8c92dbd39040490a8eae0c6877992248_17</td><td>2021-08-22 18:41:26.053</td></tr><tr><td>FactFinance100m</td><td>0</td><td>1</td><td>3</td><td>COMPRESSED</td><td>333312</td><td>BULKLOAD</td><td>Table_8c92dbd39040490a8eae0c6877992248_18</td><td>2021-08-22 18:37:31.333</td></tr><tr><td>FactFinance100m</td><td>1</td><td>1</td><td>3</td><td>COMPRESSED</td><td>333324</td><td>BULKLOAD</td><td>Table_8c92dbd39040490a8eae0c6877992248_19</td><td>2021-08-22 18:41:26.473</td></tr><tr><td>FactFinance100m</td><td>0</td><td>1</td><td>3</td><td>COMPRESSED</td><td>333312</td><td>BULKLOAD</td><td>Table_8c92dbd39040490a8eae0c6877992248_20</td><td>2021-08-22 18:37:40.060</td></tr><tr><td>FactFinance100m</td><td>1</td><td>1</td><td>3</td><td>COMPRESSED</td><td>333324</td><td>BULKLOAD</td><td>Table_8c92dbd39040490a8eae0c6877992248_21</td><td>2021-08-22 18:41:30.930</td></tr><tr><td>FactFinance100m</td><td>1</td><td>1</td><td>3</td><td>COMPRESSED</td><td>333324</td><td>BULKLOAD</td><td>Table_8c92dbd39040490a8eae0c6877992248_22</td><td>2021-08-22 18:41:28.630</td></tr><tr><td>FactFinance100m</td><td>1</td><td>1</td><td>3</td><td>COMPRESSED</td><td>333324</td><td>BULKLOAD</td><td>Table_8c92dbd39040490a8eae0c6877992248_23</td><td>2021-08-22 18:41:20.600</td></tr><tr><td>FactFinance100m</td><td>0</td><td>1</td><td>3</td><td>COMPRESSED</td><td>333312</td><td>BULKLOAD</td><td>Table_8c92dbd39040490a8eae0c6877992248_24</td><td>2021-08-22 18:37:33.990</td></tr><tr><td>FactFinance100m</td><td>1</td><td>1</td><td>3</td><td>COMPRESSED</td><td>333324</td><td>BULKLOAD</td><td>Table_8c92dbd39040490a8eae0c6877992248_25</td><td>2021-08-22 18:41:19.503</td></tr><tr><td>FactFinance100m</td><td>1</td><td>1</td><td>3</td><td>COMPRESSED</td><td>333324</td><td>BULKLOAD</td><td>Table_8c92dbd39040490a8eae0c6877992248_26</td><td>2021-08-22 18:41:21.107</td></tr><tr><td>FactFinance100m</td><td>0</td><td>1</td><td>3</td><td>COMPRESSED</td><td>333312</td><td>BULKLOAD</td><td>Table_8c92dbd39040490a8eae0c6877992248_27</td><td>2021-08-22 18:37:29.760</td></tr><tr><td>FactFinance100m</td><td>1</td><td>1</td><td>3</td><td>COMPRESSED</td><td>333324</td><td>BULKLOAD</td><td>Table_8c92dbd39040490a8eae0c6877992248_28</td><td>2021-08-22 18:41:26.483</td></tr><tr><td>FactFinance100m</td><td>1</td><td>1</td><td>3</td><td>COMPRESSED</td><td>333324</td><td>BULKLOAD</td><td>Table_8c92dbd39040490a8eae0c6877992248_29</td><td>2021-08-22 18:41:19.490</td></tr><tr><td>FactFinance100m</td><td>0</td><td>1</td><td>3</td><td>COMPRESSED</td><td>333312</td><td>BULKLOAD</td><td>Table_8c92dbd39040490a8eae0c6877992248_30</td><td>2021-08-22 18:37:32.187</td></tr><tr><td>FactFinance100m</td><td>1</td><td>1</td><td>3</td><td>COMPRESSED</td><td>333324</td><td>BULKLOAD</td><td>Table_8c92dbd39040490a8eae0c6877992248_31</td><td>2021-08-22 18:41:30.950</td></tr><tr><td>FactFinance100m</td><td>1</td><td>1</td><td>3</td><td>COMPRESSED</td><td>333324</td><td>BULKLOAD</td><td>Table_8c92dbd39040490a8eae0c6877992248_32</td><td>2021-08-22 18:41:20.520</td></tr><tr><td>FactFinance100m</td><td>1</td><td>1</td><td>3</td><td>COMPRESSED</td><td>333324</td><td>BULKLOAD</td><td>Table_8c92dbd39040490a8eae0c6877992248_33</td><td>2021-08-22 18:41:30.963</td></tr><tr><td>FactFinance100m</td><td>1</td><td>1</td><td>3</td><td>COMPRESSED</td><td>333324</td><td>BULKLOAD</td><td>Table_8c92dbd39040490a8eae0c6877992248_34</td><td>2021-08-22 18:41:24.667</td></tr><tr><td>FactFinance100m</td><td>1</td><td>1</td><td>3</td><td>COMPRESSED</td><td>333324</td><td>BULKLOAD</td><td>Table_8c92dbd39040490a8eae0c6877992248_35</td><td>2021-08-22 18:41:28.653</td></tr><tr><td>FactFinance100m</td><td>1</td><td>1</td><td>3</td><td>COMPRESSED</td><td>333324</td><td>BULKLOAD</td><td>Table_8c92dbd39040490a8eae0c6877992248_36</td><td>2021-08-22 18:41:30.933</td></tr><tr><td>FactFinance100m</td><td>1</td><td>1</td><td>3</td><td>COMPRESSED</td><td>333324</td><td>BULKLOAD</td><td>Table_8c92dbd39040490a8eae0c6877992248_37</td><td>2021-08-22 18:41:24.610</td></tr><tr><td>FactFinance100m</td><td>1</td><td>1</td><td>3</td><td>COMPRESSED</td><td>333324</td><td>BULKLOAD</td><td>Table_8c92dbd39040490a8eae0c6877992248_38</td><td>2021-08-22 18:41:30.973</td></tr><tr><td>FactFinance100m</td><td>1</td><td>1</td><td>3</td><td>COMPRESSED</td><td>333324</td><td>BULKLOAD</td><td>Table_8c92dbd39040490a8eae0c6877992248_39</td><td>2021-08-22 18:41:17.790</td></tr><tr><td>FactFinance100m</td><td>1</td><td>1</td><td>3</td><td>COMPRESSED</td><td>333324</td><td>BULKLOAD</td><td>Table_8c92dbd39040490a8eae0c6877992248_40</td><td>2021-08-22 18:41:28.643</td></tr><tr><td>FactFinance100m</td><td>1</td><td>1</td><td>3</td><td>COMPRESSED</td><td>333324</td><td>BULKLOAD</td><td>Table_8c92dbd39040490a8eae0c6877992248_41</td><td>2021-08-22 18:41:17.653</td></tr><tr><td>FactFinance100m</td><td>1</td><td>1</td><td>3</td><td>COMPRESSED</td><td>333324</td><td>BULKLOAD</td><td>Table_8c92dbd39040490a8eae0c6877992248_42</td><td>2021-08-22 18:41:28.677</td></tr><tr><td>FactFinance100m</td><td>1</td><td>1</td><td>3</td><td>COMPRESSED</td><td>333324</td><td>BULKLOAD</td><td>Table_8c92dbd39040490a8eae0c6877992248_43</td><td>2021-08-22 18:41:30.990</td></tr><tr><td>FactFinance100m</td><td>1</td><td>1</td><td>3</td><td>COMPRESSED</td><td>333324</td><td>BULKLOAD</td><td>Table_8c92dbd39040490a8eae0c6877992248_44</td><td>2021-08-22 18:41:23.873</td></tr><tr><td>FactFinance100m</td><td>1</td><td>1</td><td>3</td><td>COMPRESSED</td><td>333324</td><td>BULKLOAD</td><td>Table_8c92dbd39040490a8eae0c6877992248_45</td><td>2021-08-22 18:41:25.983</td></tr><tr><td>FactFinance100m</td><td>1</td><td>1</td><td>3</td><td>COMPRESSED</td><td>333324</td><td>BULKLOAD</td><td>Table_8c92dbd39040490a8eae0c6877992248_46</td><td>2021-08-22 18:41:21.083</td></tr><tr><td>FactFinance100m</td><td>1</td><td>1</td><td>3</td><td>COMPRESSED</td><td>333324</td><td>BULKLOAD</td><td>Table_8c92dbd39040490a8eae0c6877992248_47</td><td>2021-08-22 18:41:28.647</td></tr><tr><td>FactFinance100m</td><td>1</td><td>1</td><td>3</td><td>COMPRESSED</td><td>333324</td><td>BULKLOAD</td><td>Table_8c92dbd39040490a8eae0c6877992248_48</td><td>2021-08-22 18:41:19.567</td></tr><tr><td>FactFinance100m</td><td>1</td><td>1</td><td>3</td><td>COMPRESSED</td><td>333324</td><td>BULKLOAD</td><td>Table_8c92dbd39040490a8eae0c6877992248_49</td><td>2021-08-22 18:41:20.457</td></tr><tr><td>FactFinance100m</td><td>1</td><td>1</td><td>3</td><td>COMPRESSED</td><td>333324</td><td>BULKLOAD</td><td>Table_8c92dbd39040490a8eae0c6877992248_50</td><td>2021-08-22 18:41:23.893</td></tr><tr><td>FactFinance100m</td><td>1</td><td>1</td><td>3</td><td>COMPRESSED</td><td>333324</td><td>BULKLOAD</td><td>Table_8c92dbd39040490a8eae0c6877992248_51</td><td>2021-08-22 18:41:30.943</td></tr><tr><td>FactFinance100m</td><td>1</td><td>1</td><td>3</td><td>COMPRESSED</td><td>333324</td><td>BULKLOAD</td><td>Table_8c92dbd39040490a8eae0c6877992248_52</td><td>2021-08-22 18:41:30.923</td></tr><tr><td>FactFinance100m</td><td>1</td><td>1</td><td>3</td><td>COMPRESSED</td><td>333324</td><td>BULKLOAD</td><td>Table_8c92dbd39040490a8eae0c6877992248_53</td><td>2021-08-22 18:41:28.713</td></tr><tr><td>FactFinance100m</td><td>1</td><td>1</td><td>3</td><td>COMPRESSED</td><td>333324</td><td>BULKLOAD</td><td>Table_8c92dbd39040490a8eae0c6877992248_54</td><td>2021-08-22 18:41:28.630</td></tr><tr><td>FactFinance100m</td><td>1</td><td>1</td><td>3</td><td>COMPRESSED</td><td>333324</td><td>BULKLOAD</td><td>Table_8c92dbd39040490a8eae0c6877992248_55</td><td>2021-08-22 18:41:24.657</td></tr><tr><td>FactFinance100m</td><td>1</td><td>1</td><td>3</td><td>COMPRESSED</td><td>333324</td><td>BULKLOAD</td><td>Table_8c92dbd39040490a8eae0c6877992248_56</td><td>2021-08-22 18:41:25.947</td></tr><tr><td>FactFinance100m</td><td>1</td><td>1</td><td>3</td><td>COMPRESSED</td><td>333324</td><td>BULKLOAD</td><td>Table_8c92dbd39040490a8eae0c6877992248_57</td><td>2021-08-22 18:41:17.163</td></tr><tr><td>FactFinance100m</td><td>0</td><td>1</td><td>3</td><td>COMPRESSED</td><td>333312</td><td>BULKLOAD</td><td>Table_8c92dbd39040490a8eae0c6877992248_58</td><td>2021-08-22 18:37:35.237</td></tr><tr><td>FactFinance100m</td><td>1</td><td>1</td><td>3</td><td>COMPRESSED</td><td>333324</td><td>BULKLOAD</td><td>Table_8c92dbd39040490a8eae0c6877992248_59</td><td>2021-08-22 18:41:26.453</td></tr><tr><td>FactFinance100m</td><td>1</td><td>1</td><td>3</td><td>COMPRESSED</td><td>333324</td><td>BULKLOAD</td><td>Table_8c92dbd39040490a8eae0c6877992248_60</td><td>2021-08-22 18:41:23.843</td></tr><tr><td>FactFinance100m</td><td>0</td><td>1</td><td>3</td><td>COMPRESSED</td><td>333312</td><td>BULKLOAD</td><td>Table_8c92dbd39040490a8eae0c6877992248_1</td><td>2021-08-22 18:37:35.767</td></tr><tr><td>FactFinance100m</td><td>0</td><td>1</td><td>3</td><td>COMPRESSED</td><td>333312</td><td>BULKLOAD</td><td>Table_8c92dbd39040490a8eae0c6877992248_2</td><td>2021-08-22 18:37:38.800</td></tr><tr><td>FactFinance100m</td><td>0</td><td>1</td><td>3</td><td>COMPRESSED</td><td>333312</td><td>BULKLOAD</td><td>Table_8c92dbd39040490a8eae0c6877992248_3</td><td>2021-08-22 18:37:38.783</td></tr><tr><td>FactFinance100m</td><td>0</td><td>1</td><td>3</td><td>COMPRESSED</td><td>333312</td><td>BULKLOAD</td><td>Table_8c92dbd39040490a8eae0c6877992248_4</td><td>2021-08-22 18:37:35.057</td></tr><tr><td>FactFinance100m</td><td>0</td><td>1</td><td>3</td><td>COMPRESSED</td><td>333312</td><td>BULKLOAD</td><td>Table_8c92dbd39040490a8eae0c6877992248_5</td><td>2021-08-22 18:37:40.100</td></tr><tr><td>FactFinance100m</td><td>0</td><td>1</td><td>3</td><td>COMPRESSED</td><td>333312</td><td>BULKLOAD</td><td>Table_8c92dbd39040490a8eae0c6877992248_6</td><td>2021-08-22 18:37:41.600</td></tr><tr><td>FactFinance100m</td><td>0</td><td>1</td><td>3</td><td>COMPRESSED</td><td>333312</td><td>BULKLOAD</td><td>Table_8c92dbd39040490a8eae0c6877992248_7</td><td>2021-08-22 18:37:41.603</td></tr><tr><td>FactFinance100m</td><td>0</td><td>1</td><td>3</td><td>COMPRESSED</td><td>333312</td><td>BULKLOAD</td><td>Table_8c92dbd39040490a8eae0c6877992248_8</td><td>2021-08-22 18:37:35.160</td></tr><tr><td>FactFinance100m</td><td>0</td><td>1</td><td>3</td><td>COMPRESSED</td><td>333312</td><td>BULKLOAD</td><td>Table_8c92dbd39040490a8eae0c6877992248_9</td><td>2021-08-22 18:37:40.050</td></tr><tr><td>FactFinance100m</td><td>0</td><td>1</td><td>3</td><td>COMPRESSED</td><td>333312</td><td>BULKLOAD</td><td>Table_8c92dbd39040490a8eae0c6877992248_10</td><td>2021-08-22 18:37:34.487</td></tr><tr><td>FactFinance100m</td><td>0</td><td>1</td><td>3</td><td>COMPRESSED</td><td>333312</td><td>BULKLOAD</td><td>Table_8c92dbd39040490a8eae0c6877992248_11</td><td>2021-08-22 18:37:29.720</td></tr><tr><td>FactFinance100m</td><td>0</td><td>1</td><td>3</td><td>COMPRESSED</td><td>333312</td><td>BULKLOAD</td><td>Table_8c92dbd39040490a8eae0c6877992248_12</td><td>2021-08-22 18:37:38.790</td></tr><tr><td>FactFinance100m</td><td>0</td><td>1</td><td>3</td><td>COMPRESSED</td><td>333312</td><td>BULKLOAD</td><td>Table_8c92dbd39040490a8eae0c6877992248_13</td><td>2021-08-22 18:37:32.233</td></tr><tr><td>FactFinance100m</td><td>0</td><td>1</td><td>3</td><td>COMPRESSED</td><td>333312</td><td>BULKLOAD</td><td>Table_8c92dbd39040490a8eae0c6877992248_14</td><td>2021-08-22 18:37:35.797</td></tr><tr><td>FactFinance100m</td><td>0</td><td>1</td><td>3</td><td>COMPRESSED</td><td>333312</td><td>BULKLOAD</td><td>Table_8c92dbd39040490a8eae0c6877992248_15</td><td>2021-08-22 18:37:33.937</td></tr><tr><td>FactFinance100m</td><td>0</td><td>1</td><td>3</td><td>COMPRESSED</td><td>333312</td><td>BULKLOAD</td><td>Table_8c92dbd39040490a8eae0c6877992248_16</td><td>2021-08-22 18:37:41.640</td></tr><tr><td>FactFinance100m</td><td>0</td><td>1</td><td>3</td><td>COMPRESSED</td><td>333312</td><td>BULKLOAD</td><td>Table_8c92dbd39040490a8eae0c6877992248_17</td><td>2021-08-22 18:37:34.363</td></tr><tr><td>FactFinance100m</td><td>2</td><td>1</td><td>3</td><td>COMPRESSED</td><td>333324</td><td>BULKLOAD</td><td>Table_8c92dbd39040490a8eae0c6877992248_18</td><td>2021-08-22 18:44:20.100</td></tr><tr><td>FactFinance100m</td><td>0</td><td>1</td><td>3</td><td>COMPRESSED</td><td>333312</td><td>BULKLOAD</td><td>Table_8c92dbd39040490a8eae0c6877992248_19</td><td>2021-08-22 18:37:41.617</td></tr><tr><td>FactFinance100m</td><td>2</td><td>1</td><td>3</td><td>COMPRESSED</td><td>333324</td><td>BULKLOAD</td><td>Table_8c92dbd39040490a8eae0c6877992248_20</td><td>2021-08-22 18:44:25.530</td></tr><tr><td>FactFinance100m</td><td>0</td><td>1</td><td>3</td><td>COMPRESSED</td><td>333312</td><td>BULKLOAD</td><td>Table_8c92dbd39040490a8eae0c6877992248_21</td><td>2021-08-22 18:37:41.680</td></tr><tr><td>FactFinance100m</td><td>0</td><td>1</td><td>3</td><td>COMPRESSED</td><td>333312</td><td>BULKLOAD</td><td>Table_8c92dbd39040490a8eae0c6877992248_22</td><td>2021-08-22 18:37:40.177</td></tr><tr><td>FactFinance100m</td><td>0</td><td>1</td><td>3</td><td>COMPRESSED</td><td>333312</td><td>BULKLOAD</td><td>Table_8c92dbd39040490a8eae0c6877992248_23</td><td>2021-08-22 18:37:32.310</td></tr><tr><td>FactFinance100m</td><td>2</td><td>1</td><td>3</td><td>COMPRESSED</td><td>333324</td><td>BULKLOAD</td><td>Table_8c92dbd39040490a8eae0c6877992248_24</td><td>2021-08-22 18:44:19.153</td></tr><tr><td>FactFinance100m</td><td>0</td><td>1</td><td>3</td><td>COMPRESSED</td><td>333312</td><td>BULKLOAD</td><td>Table_8c92dbd39040490a8eae0c6877992248_25</td><td>2021-08-22 18:37:29.677</td></tr><tr><td>FactFinance100m</td><td>0</td><td>1</td><td>3</td><td>COMPRESSED</td><td>333312</td><td>BULKLOAD</td><td>Table_8c92dbd39040490a8eae0c6877992248_26</td><td>2021-08-22 18:37:31.950</td></tr><tr><td>FactFinance100m</td><td>2</td><td>1</td><td>3</td><td>COMPRESSED</td><td>333324</td><td>BULKLOAD</td><td>Table_8c92dbd39040490a8eae0c6877992248_27</td><td>2021-08-22 18:44:31.913</td></tr><tr><td>FactFinance100m</td><td>0</td><td>1</td><td>3</td><td>COMPRESSED</td><td>333312</td><td>BULKLOAD</td><td>Table_8c92dbd39040490a8eae0c6877992248_28</td><td>2021-08-22 18:37:35.753</td></tr><tr><td>FactFinance100m</td><td>0</td><td>1</td><td>3</td><td>COMPRESSED</td><td>333312</td><td>BULKLOAD</td><td>Table_8c92dbd39040490a8eae0c6877992248_29</td><td>2021-08-22 18:37:31.387</td></tr><tr><td>FactFinance100m</td><td>2</td><td>1</td><td>3</td><td>COMPRESSED</td><td>333324</td><td>BULKLOAD</td><td>Table_8c92dbd39040490a8eae0c6877992248_30</td><td>2021-08-22 18:44:22.803</td></tr><tr><td>FactFinance100m</td><td>0</td><td>1</td><td>3</td><td>COMPRESSED</td><td>333312</td><td>BULKLOAD</td><td>Table_8c92dbd39040490a8eae0c6877992248_31</td><td>2021-08-22 18:37:40.070</td></tr><tr><td>FactFinance100m</td><td>0</td><td>1</td><td>3</td><td>COMPRESSED</td><td>333312</td><td>BULKLOAD</td><td>Table_8c92dbd39040490a8eae0c6877992248_32</td><td>2021-08-22 18:37:41.610</td></tr><tr><td>FactFinance100m</td><td>0</td><td>1</td><td>3</td><td>COMPRESSED</td><td>333312</td><td>BULKLOAD</td><td>Table_8c92dbd39040490a8eae0c6877992248_33</td><td>2021-08-22 18:37:40.090</td></tr><tr><td>FactFinance100m</td><td>0</td><td>1</td><td>3</td><td>COMPRESSED</td><td>333312</td><td>BULKLOAD</td><td>Table_8c92dbd39040490a8eae0c6877992248_34</td><td>2021-08-22 18:37:41.547</td></tr><tr><td>FactFinance100m</td><td>0</td><td>1</td><td>3</td><td>COMPRESSED</td><td>333312</td><td>BULKLOAD</td><td>Table_8c92dbd39040490a8eae0c6877992248_35</td><td>2021-08-22 18:37:41.543</td></tr><tr><td>FactFinance100m</td><td>0</td><td>1</td><td>3</td><td>COMPRESSED</td><td>333312</td><td>BULKLOAD</td><td>Table_8c92dbd39040490a8eae0c6877992248_36</td><td>2021-08-22 18:37:31.183</td></tr><tr><td>FactFinance100m</td><td>0</td><td>1</td><td>3</td><td>COMPRESSED</td><td>333312</td><td>BULKLOAD</td><td>Table_8c92dbd39040490a8eae0c6877992248_37</td><td>2021-08-22 18:37:35.720</td></tr><tr><td>FactFinance100m</td><td>0</td><td>1</td><td>3</td><td>COMPRESSED</td><td>333312</td><td>BULKLOAD</td><td>Table_8c92dbd39040490a8eae0c6877992248_38</td><td>2021-08-22 18:37:35.803</td></tr><tr><td>FactFinance100m</td><td>0</td><td>1</td><td>3</td><td>COMPRESSED</td><td>333312</td><td>BULKLOAD</td><td>Table_8c92dbd39040490a8eae0c6877992248_39</td><td>2021-08-22 18:37:29.683</td></tr><tr><td>FactFinance100m</td><td>0</td><td>1</td><td>3</td><td>COMPRESSED</td><td>333312</td><td>BULKLOAD</td><td>Table_8c92dbd39040490a8eae0c6877992248_40</td><td>2021-08-22 18:37:41.610</td></tr><tr><td>FactFinance100m</td><td>0</td><td>1</td><td>3</td><td>COMPRESSED</td><td>333312</td><td>BULKLOAD</td><td>Table_8c92dbd39040490a8eae0c6877992248_41</td><td>2021-08-22 18:37:32.343</td></tr><tr><td>FactFinance100m</td><td>0</td><td>1</td><td>3</td><td>COMPRESSED</td><td>333312</td><td>BULKLOAD</td><td>Table_8c92dbd39040490a8eae0c6877992248_42</td><td>2021-08-22 18:37:41.653</td></tr><tr><td>FactFinance100m</td><td>0</td><td>1</td><td>3</td><td>COMPRESSED</td><td>333312</td><td>BULKLOAD</td><td>Table_8c92dbd39040490a8eae0c6877992248_43</td><td>2021-08-22 18:37:41.650</td></tr><tr><td>FactFinance100m</td><td>0</td><td>1</td><td>3</td><td>COMPRESSED</td><td>333312</td><td>BULKLOAD</td><td>Table_8c92dbd39040490a8eae0c6877992248_44</td><td>2021-08-22 18:37:41.580</td></tr><tr><td>FactFinance100m</td><td>0</td><td>1</td><td>3</td><td>COMPRESSED</td><td>333312</td><td>BULKLOAD</td><td>Table_8c92dbd39040490a8eae0c6877992248_45</td><td>2021-08-22 18:37:34.340</td></tr><tr><td>FactFinance100m</td><td>0</td><td>1</td><td>3</td><td>COMPRESSED</td><td>333312</td><td>BULKLOAD</td><td>Table_8c92dbd39040490a8eae0c6877992248_46</td><td>2021-08-22 18:37:32.240</td></tr><tr><td>FactFinance100m</td><td>0</td><td>1</td><td>3</td><td>COMPRESSED</td><td>333808</td><td>BULKLOAD</td><td>Table_8c92dbd39040490a8eae0c6877992248_47</td><td>2021-08-22 18:37:38.893</td></tr><tr><td>FactFinance100m</td><td>0</td><td>1</td><td>3</td><td>COMPRESSED</td><td>333808</td><td>BULKLOAD</td><td>Table_8c92dbd39040490a8eae0c6877992248_48</td><td>2021-08-22 18:37:35.120</td></tr><tr><td>FactFinance100m</td><td>0</td><td>1</td><td>3</td><td>COMPRESSED</td><td>333600</td><td>BULKLOAD</td><td>Table_8c92dbd39040490a8eae0c6877992248_49</td><td>2021-08-22 18:37:33.910</td></tr><tr><td>FactFinance100m</td><td>0</td><td>1</td><td>3</td><td>COMPRESSED</td><td>333312</td><td>BULKLOAD</td><td>Table_8c92dbd39040490a8eae0c6877992248_50</td><td>2021-08-22 18:37:40.187</td></tr><tr><td>FactFinance100m</td><td>0</td><td>1</td><td>3</td><td>COMPRESSED</td><td>333312</td><td>BULKLOAD</td><td>Table_8c92dbd39040490a8eae0c6877992248_51</td><td>2021-08-22 18:37:38.790</td></tr><tr><td>FactFinance100m</td><td>0</td><td>1</td><td>3</td><td>COMPRESSED</td><td>333312</td><td>BULKLOAD</td><td>Table_8c92dbd39040490a8eae0c6877992248_52</td><td>2021-08-22 18:37:41.617</td></tr><tr><td>FactFinance100m</td><td>0</td><td>1</td><td>3</td><td>COMPRESSED</td><td>333312</td><td>BULKLOAD</td><td>Table_8c92dbd39040490a8eae0c6877992248_53</td><td>2021-08-22 18:37:34.337</td></tr><tr><td>FactFinance100m</td><td>0</td><td>1</td><td>3</td><td>COMPRESSED</td><td>333312</td><td>BULKLOAD</td><td>Table_8c92dbd39040490a8eae0c6877992248_54</td><td>2021-08-22 18:37:31.290</td></tr><tr><td>FactFinance100m</td><td>0</td><td>1</td><td>3</td><td>COMPRESSED</td><td>333312</td><td>BULKLOAD</td><td>Table_8c92dbd39040490a8eae0c6877992248_55</td><td>2021-08-22 18:37:41.640</td></tr><tr><td>FactFinance100m</td><td>0</td><td>1</td><td>3</td><td>COMPRESSED</td><td>333312</td><td>BULKLOAD</td><td>Table_8c92dbd39040490a8eae0c6877992248_56</td><td>2021-08-22 18:37:33.907</td></tr><tr><td>FactFinance100m</td><td>0</td><td>1</td><td>3</td><td>COMPRESSED</td><td>333312</td><td>BULKLOAD</td><td>Table_8c92dbd39040490a8eae0c6877992248_57</td><td>2021-08-22 18:37:31.163</td></tr><tr><td>FactFinance100m</td><td>2</td><td>1</td><td>3</td><td>COMPRESSED</td><td>333324</td><td>BULKLOAD</td><td>Table_8c92dbd39040490a8eae0c6877992248_58</td><td>2021-08-22 18:44:25.437</td></tr><tr><td>FactFinance100m</td><td>0</td><td>1</td><td>3</td><td>COMPRESSED</td><td>333312</td><td>BULKLOAD</td><td>Table_8c92dbd39040490a8eae0c6877992248_59</td><td>2021-08-22 18:37:38.827</td></tr><tr><td>FactFinance100m</td><td>0</td><td>1</td><td>3</td><td>COMPRESSED</td><td>333312</td><td>BULKLOAD</td><td>Table_8c92dbd39040490a8eae0c6877992248_60</td><td>2021-08-22 18:37:35.057</td></tr></table>"
                    },
                    "metadata": {}
                }
            ],
            "execution_count": 18
        },
        {
            "cell_type": "code",
            "source": [
                "/* We could fix this with a REORG \r\n",
                "    ALTER INDEX ClusteredIndex_1fba0db5c48b40288124497ec2198389 ON [dbo].[FactFinance100m] REORGANIZE\r\n",
                "\r\n",
                "    But, lets introduce the ColumnStoreOptimize which can locate all Column Stores with low density and REORG them\r\n",
                "*/\r\n",
                "exec   [dbo].[ColumnstoreOptimize]  @Tables='FactFinance100m'\r\n",
                ",@DensityThreshold=25 /* Default */\r\n",
                ",@OPenThreshold=null\r\n",
                ",@DeleteThreshold=null\r\n",
                ",@TimeLimit =null\r\n",
                ", @Execute='Y'\r\n",
                ""
            ],
            "metadata": {
                "azdata_cell_guid": "8fab48bc-e202-46d5-9f7e-087a780f9fdd",
                "extensions": {
                    "azuredatastudio": {
                        "views": []
                    }
                },
                "tags": [
                    "hide_input"
                ]
            },
            "outputs": [
                {
                    "output_type": "display_data",
                    "data": {
                        "text/html": "Date and time: 2021-08-22 18:49:47"
                    },
                    "metadata": {}
                },
                {
                    "output_type": "display_data",
                    "data": {
                        "text/html": "Server: aw-dev"
                    },
                    "metadata": {}
                },
                {
                    "output_type": "display_data",
                    "data": {
                        "text/html": "Version: 10.0.13582.0"
                    },
                    "metadata": {}
                },
                {
                    "output_type": "display_data",
                    "data": {
                        "text/html": "Edition: SQL Azure"
                    },
                    "metadata": {}
                },
                {
                    "output_type": "display_data",
                    "data": {
                        "text/html": "Parameters: @Tables= 'FactFinance100m', @DensityThreshold = 25.00, @OpenThreshold = 200000, @DeleteThreshold = 200000, @Execute = Y"
                    },
                    "metadata": {}
                },
                {
                    "output_type": "display_data",
                    "data": {
                        "text/html": "Version: Microsoft Azure SQL Data Warehouse - 10.0.13582.0 Aug 5 2021 06:54:02 Copyright (c) Microsoft Corporation"
                    },
                    "metadata": {}
                },
                {
                    "output_type": "display_data",
                    "data": {
                        "text/html": "Source: https://github.com/ProdataSQL/SynapseTools/tree/main/SqlPools/Maintenance"
                    },
                    "metadata": {}
                },
                {
                    "output_type": "display_data",
                    "data": {
                        "text/html": "Date and time: 2021-08-22 18:49:52"
                    },
                    "metadata": {}
                },
                {
                    "output_type": "display_data",
                    "data": {
                        "text/html": "[dbo].[FactFinance100m]"
                    },
                    "metadata": {}
                },
                {
                    "output_type": "display_data",
                    "data": {
                        "text/html": "SqlCommand: ALTER INDEX ClusteredIndex_1fba0db5c48b40288124497ec2198389 ON [dbo].[FactFinance100m] REORGANIZE"
                    },
                    "metadata": {}
                },
                {
                    "output_type": "display_data",
                    "data": {
                        "text/html": "<ExtendedInfo><RowGroups>180</RowGroups><Rows>60000000</Rows><OpenRows>0</OpenRows><DeletedRows>0</DeletedRows><DensityFragmentation>68.21%</DensityFragmentation></ExtendedInfo>"
                    },
                    "metadata": {}
                },
                {
                    "output_type": "display_data",
                    "data": {
                        "text/html": "Total execution time: 00:00:32.418"
                    },
                    "metadata": {}
                }
            ],
            "execution_count": 20
        },
        {
            "cell_type": "code",
            "source": [
                "/*  Now we can check commandlog and also imprves Stats\r\n",
                "    From 180 row groups to just 60 (one per distibution)\r\n",
                " */\r\n",
                "SELECT TOP 1 * FROM dbo.CommandLog ORDER BY StartTime DESC\r\n",
                "SELECT * From vColumnstoreStats where table_name ='factFinance100m'\r\n",
                ""
            ],
            "metadata": {
                "azdata_cell_guid": "dbcf391b-fcd1-4e63-8284-b8433fd7ed47",
                "extensions": {
                    "azuredatastudio": {
                        "views": []
                    }
                }
            },
            "outputs": [
                {
                    "output_type": "display_data",
                    "data": {
                        "text/html": "(1 row affected)"
                    },
                    "metadata": {}
                },
                {
                    "output_type": "display_data",
                    "data": {
                        "text/html": "(1 row affected)"
                    },
                    "metadata": {}
                },
                {
                    "output_type": "display_data",
                    "data": {
                        "text/html": "Total execution time: 00:00:02.502"
                    },
                    "metadata": {}
                },
                {
                    "output_type": "execute_result",
                    "execution_count": 21,
                    "data": {
                        "application/vnd.dataresource+json": {
                            "schema": {
                                "fields": [
                                    {
                                        "name": "ID"
                                    },
                                    {
                                        "name": "DatabaseName"
                                    },
                                    {
                                        "name": "SchemaName"
                                    },
                                    {
                                        "name": "ObjectName"
                                    },
                                    {
                                        "name": "ObjectType"
                                    },
                                    {
                                        "name": "IndexName"
                                    },
                                    {
                                        "name": "IndexType"
                                    },
                                    {
                                        "name": "StatisticsName"
                                    },
                                    {
                                        "name": "PartitionNumber"
                                    },
                                    {
                                        "name": "ExtendedInfo"
                                    },
                                    {
                                        "name": "Command"
                                    },
                                    {
                                        "name": "CommandType"
                                    },
                                    {
                                        "name": "StartTime"
                                    },
                                    {
                                        "name": "EndTime"
                                    },
                                    {
                                        "name": "ErrorNumber"
                                    },
                                    {
                                        "name": "ErrorMessage"
                                    }
                                ]
                            },
                            "data": [
                                {
                                    "0": "396",
                                    "1": "AdventureWorksDW",
                                    "2": "dbo",
                                    "3": "FactFinance100m",
                                    "4": "U ",
                                    "5": "ClusteredIndex_1fba0db5c48b40288124497ec2198389",
                                    "6": "5",
                                    "7": "NULL",
                                    "8": "NULL",
                                    "9": "<ExtendedInfo><RowGroups>180</RowGroups><Rows>60000000</Rows><OpenRows>0</OpenRows><DeletedRows>0</DeletedRows><DensityFragmentation>68.21%</DensityFragmentation></ExtendedInfo>",
                                    "10": "ALTER INDEX ClusteredIndex_1fba0db5c48b40288124497ec2198389 ON [dbo].[FactFinance100m] REORGANIZE",
                                    "11": "ALTER INDEX",
                                    "12": "2021-08-22 18:49:52.140",
                                    "13": "2021-08-22 18:50:17.373",
                                    "14": "NULL",
                                    "15": "NULL"
                                }
                            ]
                        },
                        "text/html": "<table><tr><th>ID</th><th>DatabaseName</th><th>SchemaName</th><th>ObjectName</th><th>ObjectType</th><th>IndexName</th><th>IndexType</th><th>StatisticsName</th><th>PartitionNumber</th><th>ExtendedInfo</th><th>Command</th><th>CommandType</th><th>StartTime</th><th>EndTime</th><th>ErrorNumber</th><th>ErrorMessage</th></tr><tr><td>396</td><td>AdventureWorksDW</td><td>dbo</td><td>FactFinance100m</td><td>U </td><td>ClusteredIndex_1fba0db5c48b40288124497ec2198389</td><td>5</td><td>NULL</td><td>NULL</td><td>&lt;ExtendedInfo&gt;&lt;RowGroups&gt;180&lt;/RowGroups&gt;&lt;Rows&gt;60000000&lt;/Rows&gt;&lt;OpenRows&gt;0&lt;/OpenRows&gt;&lt;DeletedRows&gt;0&lt;/DeletedRows&gt;&lt;DensityFragmentation&gt;68.21%&lt;/DensityFragmentation&gt;&lt;/ExtendedInfo&gt;</td><td>ALTER INDEX ClusteredIndex_1fba0db5c48b40288124497ec2198389 ON [dbo].[FactFinance100m] REORGANIZE</td><td>ALTER INDEX</td><td>2021-08-22 18:49:52.140</td><td>2021-08-22 18:50:17.373</td><td>NULL</td><td>NULL</td></tr></table>"
                    },
                    "metadata": {}
                },
                {
                    "output_type": "execute_result",
                    "execution_count": 21,
                    "data": {
                        "application/vnd.dataresource+json": {
                            "schema": {
                                "fields": [
                                    {
                                        "name": "execution_date"
                                    },
                                    {
                                        "name": "database_name"
                                    },
                                    {
                                        "name": "schema_name"
                                    },
                                    {
                                        "name": "table_name"
                                    },
                                    {
                                        "name": "partition_number"
                                    },
                                    {
                                        "name": "partition_scheme"
                                    },
                                    {
                                        "name": "object_id"
                                    },
                                    {
                                        "name": "index_name"
                                    },
                                    {
                                        "name": "row_count"
                                    },
                                    {
                                        "name": "deleted_row_count"
                                    },
                                    {
                                        "name": "row_group_count"
                                    },
                                    {
                                        "name": "compressed_row_count"
                                    },
                                    {
                                        "name": "compressed_rowgroup_count"
                                    },
                                    {
                                        "name": "open_rowgroup_count"
                                    },
                                    {
                                        "name": "open_row_count"
                                    },
                                    {
                                        "name": "compressed_row_max"
                                    },
                                    {
                                        "name": "compressed_row_avg"
                                    },
                                    {
                                        "name": "fragmentation_density"
                                    },
                                    {
                                        "name": "fragmentation_deletes"
                                    },
                                    {
                                        "name": "fragmentation_open"
                                    }
                                ]
                            },
                            "data": [
                                {
                                    "0": "2021-08-22 18:52:13.123",
                                    "1": "AdventureWorksDW",
                                    "2": "dbo",
                                    "3": "FactFinance100m",
                                    "4": "NULL",
                                    "5": "NULL",
                                    "6": "1940917986",
                                    "7": "ClusteredIndex_1fba0db5c48b40288124497ec2198389",
                                    "8": "60000000",
                                    "9": "0",
                                    "10": "60",
                                    "11": "60000000",
                                    "12": "60",
                                    "13": "0",
                                    "14": "0",
                                    "15": "1000520",
                                    "16": "1000000",
                                    "17": "4.6300",
                                    "18": "0.0000",
                                    "19": "0.0000"
                                }
                            ]
                        },
                        "text/html": "<table><tr><th>execution_date</th><th>database_name</th><th>schema_name</th><th>table_name</th><th>partition_number</th><th>partition_scheme</th><th>object_id</th><th>index_name</th><th>row_count</th><th>deleted_row_count</th><th>row_group_count</th><th>compressed_row_count</th><th>compressed_rowgroup_count</th><th>open_rowgroup_count</th><th>open_row_count</th><th>compressed_row_max</th><th>compressed_row_avg</th><th>fragmentation_density</th><th>fragmentation_deletes</th><th>fragmentation_open</th></tr><tr><td>2021-08-22 18:52:13.123</td><td>AdventureWorksDW</td><td>dbo</td><td>FactFinance100m</td><td>NULL</td><td>NULL</td><td>1940917986</td><td>ClusteredIndex_1fba0db5c48b40288124497ec2198389</td><td>60000000</td><td>0</td><td>60</td><td>60000000</td><td>60</td><td>0</td><td>0</td><td>1000520</td><td>1000000</td><td>4.6300</td><td>0.0000</td><td>0.0000</td></tr></table>"
                    },
                    "metadata": {}
                }
            ],
            "execution_count": 21
        }
    ]
}