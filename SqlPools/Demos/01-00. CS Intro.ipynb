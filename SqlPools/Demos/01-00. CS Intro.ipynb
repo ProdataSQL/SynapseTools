{
    "metadata": {
        "kernelspec": {
            "name": "SQL",
            "display_name": "SQL",
            "language": "sql"
        },
        "language_info": {
            "name": "sql",
            "version": ""
        },
        "extensions": {
            "azuredatastudio": {
                "version": 1,
                "views": []
            }
        }
    },
    "nbformat_minor": 2,
    "nbformat": 4,
    "cells": [
        {
            "cell_type": "markdown",
            "source": [
                "# ColumnStoreOptimize - Introduction"
            ],
            "metadata": {
                "azdata_cell_guid": "6bc6a6a2-166d-4792-b337-46ce4274cf59",
                "extensions": {
                    "azuredatastudio": {
                        "views": []
                    }
                }
            },
            "attachments": {}
        },
        {
            "cell_type": "markdown",
            "source": [
                "A columnstore contains multiple row groups (and segments) with two types\n",
                "\n",
                "- closed - compressed row groups using ColumnStore compression\n",
                "- open - A delta row group containing rowstore clustered index. There can be deltastores for inserted AND deleted rows\n",
                "\n",
                "![Clustered columnstore index](https://docs.microsoft.com/en-us/sql/relational-databases/indexes/media/sql-server-pdw-columnstore-physicalstorage.gif?view=sql-server-ver16)"
            ],
            "metadata": {
                "azdata_cell_guid": "fa81beb0-83f8-467f-bfee-c80d05e46021",
                "extensions": {
                    "azuredatastudio": {
                        "views": []
                    }
                }
            },
            "attachments": {}
        }
    ]
}