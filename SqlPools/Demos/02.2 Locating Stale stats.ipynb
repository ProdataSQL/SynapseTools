{
    "metadata": {
        "kernelspec": {
            "name": "SQL",
            "display_name": "SQL",
            "language": "sql"
        },
        "language_info": {
            "name": "sql",
            "version": ""
        },
        "extensions": {
            "azuredatastudio": {
                "version": 1,
                "views": []
            }
        }
    },
    "nbformat_minor": 2,
    "nbformat": 4,
    "cells": [
        {
            "cell_type": "markdown",
            "source": [
                "## 2.2 Locating Stale Stats\n",
                "\n",
                "While SQL pools do have auto create stats they do not have auto update stats like traditional SQL Server, so we really need to maintain statistics ourlseves.\n",
                "\n",
                "How can stats get out of date and how can we decide which stats are up to date and which need updating ?\n",
                "\n",
                "### 2.21 Example of Stale Stats\n",
                "\n",
                "If a table is created with under 1,000 rows then the SQL pol may create stats, but it will \"assume\" 1,000 rows. Even as new data is loaded this stat will become older.\n",
                "\n",
                "Its especially a problem if we create empty tables or very small tables before adding more data. For example."
            ],
            "metadata": {
                "azdata_cell_guid": "d0672a9e-0456-4600-9f29-fbd560d7daf2",
                "extensions": {
                    "azuredatastudio": {
                        "views": []
                    }
                }
            },
            "attachments": {}
        },
        {
            "cell_type": "code",
            "source": [
                "IF OBJECT_ID('[dbo].[FactFinance100m_nostats]') is not null \r\n",
                "\tDROP TABLE [dbo].[FactFinance100m_nostats]\r\n",
                "GO\r\n",
                "CREATE TABLE [dbo].[FactFinance100m_nostats] WITH (\r\n",
                "\tDISTRIBUTION = ROUND_ROBIN, CLUSTERED COLUMNSTORE INDEX \r\n",
                ") AS\r\n",
                "SELECT  TOP 100 *  FROM [dbo].[FactFinance1b] \r\n",
                "GO\r\n",
                "\r\n",
                "SELECT count(distinct DateKey) as DateKey, count(distinct AccountKey)  as AccountKey from FactFinance100m_nostats\r\n",
                "\r\n",
                "/* Prodata sample view to analyse Stats on Tables */\r\n",
                "SELECT * FROM dbo.vStats WHERE table_name='FactFinance100m_nostats'"
            ],
            "metadata": {
                "azdata_cell_guid": "01aad1ff-e63b-4b61-8a13-d232549e6adb",
                "tags": [],
                "language": "sql"
            },
            "outputs": [
                {
                    "output_type": "display_data",
                    "data": {
                        "text/html": "Commands completed successfully."
                    },
                    "metadata": {}
                },
                {
                    "output_type": "display_data",
                    "data": {
                        "text/html": "(100 rows affected)"
                    },
                    "metadata": {}
                },
                {
                    "output_type": "display_data",
                    "data": {
                        "text/html": "(1 row affected)"
                    },
                    "metadata": {}
                },
                {
                    "output_type": "display_data",
                    "data": {
                        "text/html": "(3 rows affected)"
                    },
                    "metadata": {}
                },
                {
                    "output_type": "display_data",
                    "data": {
                        "text/html": "Total execution time: 00:00:07.197"
                    },
                    "metadata": {}
                },
                {
                    "output_type": "execute_result",
                    "execution_count": 3,
                    "data": {
                        "application/vnd.dataresource+json": {
                            "schema": {
                                "fields": [
                                    {
                                        "name": "DateKey"
                                    },
                                    {
                                        "name": "AccountKey"
                                    }
                                ]
                            },
                            "data": [
                                {
                                    "0": "1",
                                    "1": "1"
                                }
                            ]
                        },
                        "text/html": "<table><tr><th>DateKey</th><th>AccountKey</th></tr><tr><td>1</td><td>1</td></tr></table>"
                    },
                    "metadata": {}
                },
                {
                    "output_type": "execute_result",
                    "execution_count": 3,
                    "data": {
                        "application/vnd.dataresource+json": {
                            "schema": {
                                "fields": [
                                    {
                                        "name": "object_id"
                                    },
                                    {
                                        "name": "stat_name"
                                    },
                                    {
                                        "name": "table_name"
                                    },
                                    {
                                        "name": "schema_name"
                                    },
                                    {
                                        "name": "stats_id"
                                    },
                                    {
                                        "name": "auto_created"
                                    },
                                    {
                                        "name": "filter_definition"
                                    },
                                    {
                                        "name": "last_updated_date"
                                    },
                                    {
                                        "name": "stat_columns"
                                    },
                                    {
                                        "name": "stats_row_count"
                                    },
                                    {
                                        "name": "actual_row_count"
                                    },
                                    {
                                        "name": "stats_difference_percent"
                                    },
                                    {
                                        "name": "stats_sample_rate"
                                    },
                                    {
                                        "name": "sqlCommand"
                                    }
                                ]
                            },
                            "data": [
                                {
                                    "0": "354868381",
                                    "1": "ClusteredIndex_790bfcda58a449a7a8517a169f0e7e0a",
                                    "2": "FactFinance100m_nostats",
                                    "3": "dbo",
                                    "4": "1",
                                    "5": "0",
                                    "6": "NULL",
                                    "7": "NULL",
                                    "8": "DateKey,DepartmentGroupKey,ScenarioKey,OrganizationKey,AccountKey,Amount,Date,LineageKey",
                                    "9": "100",
                                    "10": "100",
                                    "11": "0.00",
                                    "12": "100",
                                    "13": "UPDATE STATISTICS [dbo].[FactFinance100m_nostats] (ClusteredIndex_790bfcda58a449a7a8517a169f0e7e0a) WITH FULLSCAN"
                                },
                                {
                                    "0": "354868381",
                                    "1": "_WA_Sys_00000001_1526DC9D",
                                    "2": "FactFinance100m_nostats",
                                    "3": "dbo",
                                    "4": "2",
                                    "5": "1",
                                    "6": "NULL",
                                    "7": "2022-07-08 15:44:33.740",
                                    "8": "DateKey",
                                    "9": "100",
                                    "10": "100",
                                    "11": "0.00",
                                    "12": "100",
                                    "13": "UPDATE STATISTICS [dbo].[FactFinance100m_nostats] (_WA_Sys_00000001_1526DC9D) WITH FULLSCAN"
                                },
                                {
                                    "0": "354868381",
                                    "1": "_WA_Sys_00000005_1526DC9D",
                                    "2": "FactFinance100m_nostats",
                                    "3": "dbo",
                                    "4": "3",
                                    "5": "1",
                                    "6": "NULL",
                                    "7": "2022-07-08 15:44:34.317",
                                    "8": "AccountKey",
                                    "9": "100",
                                    "10": "100",
                                    "11": "0.00",
                                    "12": "100",
                                    "13": "UPDATE STATISTICS [dbo].[FactFinance100m_nostats] (_WA_Sys_00000005_1526DC9D) WITH FULLSCAN"
                                }
                            ]
                        },
                        "text/html": "<table><tr><th>object_id</th><th>stat_name</th><th>table_name</th><th>schema_name</th><th>stats_id</th><th>auto_created</th><th>filter_definition</th><th>last_updated_date</th><th>stat_columns</th><th>stats_row_count</th><th>actual_row_count</th><th>stats_difference_percent</th><th>stats_sample_rate</th><th>sqlCommand</th></tr><tr><td>354868381</td><td>ClusteredIndex_790bfcda58a449a7a8517a169f0e7e0a</td><td>FactFinance100m_nostats</td><td>dbo</td><td>1</td><td>0</td><td>NULL</td><td>NULL</td><td>DateKey,DepartmentGroupKey,ScenarioKey,OrganizationKey,AccountKey,Amount,Date,LineageKey</td><td>100</td><td>100</td><td>0.00</td><td>100</td><td>UPDATE STATISTICS [dbo].[FactFinance100m_nostats] (ClusteredIndex_790bfcda58a449a7a8517a169f0e7e0a) WITH FULLSCAN</td></tr><tr><td>354868381</td><td>_WA_Sys_00000001_1526DC9D</td><td>FactFinance100m_nostats</td><td>dbo</td><td>2</td><td>1</td><td>NULL</td><td>2022-07-08 15:44:33.740</td><td>DateKey</td><td>100</td><td>100</td><td>0.00</td><td>100</td><td>UPDATE STATISTICS [dbo].[FactFinance100m_nostats] (_WA_Sys_00000001_1526DC9D) WITH FULLSCAN</td></tr><tr><td>354868381</td><td>_WA_Sys_00000005_1526DC9D</td><td>FactFinance100m_nostats</td><td>dbo</td><td>3</td><td>1</td><td>NULL</td><td>2022-07-08 15:44:34.317</td><td>AccountKey</td><td>100</td><td>100</td><td>0.00</td><td>100</td><td>UPDATE STATISTICS [dbo].[FactFinance100m_nostats] (_WA_Sys_00000005_1526DC9D) WITH FULLSCAN</td></tr></table>"
                    },
                    "metadata": {}
                }
            ],
            "execution_count": 3
        },
        {
            "cell_type": "code",
            "source": [
                "/* Lets now insert 100 million rows */\r\n",
                "INSERT INTO FactFinance100m_nostats ([AccountKey], [ScenarioKey], [DepartmentGroupKey], [DateKey], [OrganizationKey], [Amount], [Date], [LineageKey])\r\n",
                "SELECT  TOP 100000000 [AccountKey], [ScenarioKey], [DepartmentGroupKey], [DateKey], [OrganizationKey], [Amount], [Date], [LineageKey]  \r\n",
                "FROM [dbo].[FactFinance1b]  "
            ],
            "metadata": {
                "azdata_cell_guid": "4634fd25-21b9-4641-aff9-1c3bfb2d77bb",
                "tags": [],
                "language": "sql"
            },
            "outputs": [
                {
                    "output_type": "display_data",
                    "data": {
                        "text/html": "(100000000 rows affected)"
                    },
                    "metadata": {}
                },
                {
                    "output_type": "display_data",
                    "data": {
                        "text/html": "Total execution time: 00:02:08.389"
                    },
                    "metadata": {}
                }
            ],
            "execution_count": 4
        },
        {
            "cell_type": "code",
            "source": [
                "/* \r\n",
                "    We can see that the stats are not super out of date \r\n",
                "\r\n",
                "*/\r\n",
                "SELECT * FROM dbo.vStats WHERE table_name='FactFinance100m_nostats'"
            ],
            "metadata": {
                "azdata_cell_guid": "1f53181f-37ad-41a6-830e-6accff0a4bc5",
                "language": "sql"
            },
            "outputs": [
                {
                    "output_type": "display_data",
                    "data": {
                        "text/html": "(3 rows affected)"
                    },
                    "metadata": {}
                },
                {
                    "output_type": "display_data",
                    "data": {
                        "text/html": "Total execution time: 00:00:01.416"
                    },
                    "metadata": {}
                },
                {
                    "output_type": "execute_result",
                    "execution_count": 6,
                    "data": {
                        "application/vnd.dataresource+json": {
                            "schema": {
                                "fields": [
                                    {
                                        "name": "object_id"
                                    },
                                    {
                                        "name": "stat_name"
                                    },
                                    {
                                        "name": "table_name"
                                    },
                                    {
                                        "name": "schema_name"
                                    },
                                    {
                                        "name": "stats_id"
                                    },
                                    {
                                        "name": "auto_created"
                                    },
                                    {
                                        "name": "filter_definition"
                                    },
                                    {
                                        "name": "last_updated_date"
                                    },
                                    {
                                        "name": "stat_columns"
                                    },
                                    {
                                        "name": "stats_row_count"
                                    },
                                    {
                                        "name": "actual_row_count"
                                    },
                                    {
                                        "name": "stats_difference_percent"
                                    },
                                    {
                                        "name": "stats_sample_rate"
                                    },
                                    {
                                        "name": "sqlCommand"
                                    }
                                ]
                            },
                            "data": [
                                {
                                    "0": "354868381",
                                    "1": "ClusteredIndex_790bfcda58a449a7a8517a169f0e7e0a",
                                    "2": "FactFinance100m_nostats",
                                    "3": "dbo",
                                    "4": "1",
                                    "5": "0",
                                    "6": "NULL",
                                    "7": "NULL",
                                    "8": "DateKey,DepartmentGroupKey,ScenarioKey,OrganizationKey,AccountKey,Amount,Date,LineageKey",
                                    "9": "100",
                                    "10": "100000100",
                                    "11": "100.00",
                                    "12": "9",
                                    "13": "UPDATE STATISTICS [dbo].[FactFinance100m_nostats] (ClusteredIndex_790bfcda58a449a7a8517a169f0e7e0a) WITH SAMPLE 9 PERCENT"
                                },
                                {
                                    "0": "354868381",
                                    "1": "_WA_Sys_00000001_1526DC9D",
                                    "2": "FactFinance100m_nostats",
                                    "3": "dbo",
                                    "4": "2",
                                    "5": "1",
                                    "6": "NULL",
                                    "7": "2022-07-08 15:44:33.740",
                                    "8": "DateKey",
                                    "9": "100",
                                    "10": "100000100",
                                    "11": "100.00",
                                    "12": "9",
                                    "13": "UPDATE STATISTICS [dbo].[FactFinance100m_nostats] (_WA_Sys_00000001_1526DC9D) WITH SAMPLE 9 PERCENT"
                                },
                                {
                                    "0": "354868381",
                                    "1": "_WA_Sys_00000005_1526DC9D",
                                    "2": "FactFinance100m_nostats",
                                    "3": "dbo",
                                    "4": "3",
                                    "5": "1",
                                    "6": "NULL",
                                    "7": "2022-07-08 15:44:34.317",
                                    "8": "AccountKey",
                                    "9": "100",
                                    "10": "100000100",
                                    "11": "100.00",
                                    "12": "9",
                                    "13": "UPDATE STATISTICS [dbo].[FactFinance100m_nostats] (_WA_Sys_00000005_1526DC9D) WITH SAMPLE 9 PERCENT"
                                }
                            ]
                        },
                        "text/html": "<table><tr><th>object_id</th><th>stat_name</th><th>table_name</th><th>schema_name</th><th>stats_id</th><th>auto_created</th><th>filter_definition</th><th>last_updated_date</th><th>stat_columns</th><th>stats_row_count</th><th>actual_row_count</th><th>stats_difference_percent</th><th>stats_sample_rate</th><th>sqlCommand</th></tr><tr><td>354868381</td><td>ClusteredIndex_790bfcda58a449a7a8517a169f0e7e0a</td><td>FactFinance100m_nostats</td><td>dbo</td><td>1</td><td>0</td><td>NULL</td><td>NULL</td><td>DateKey,DepartmentGroupKey,ScenarioKey,OrganizationKey,AccountKey,Amount,Date,LineageKey</td><td>100</td><td>100000100</td><td>100.00</td><td>9</td><td>UPDATE STATISTICS [dbo].[FactFinance100m_nostats] (ClusteredIndex_790bfcda58a449a7a8517a169f0e7e0a) WITH SAMPLE 9 PERCENT</td></tr><tr><td>354868381</td><td>_WA_Sys_00000001_1526DC9D</td><td>FactFinance100m_nostats</td><td>dbo</td><td>2</td><td>1</td><td>NULL</td><td>2022-07-08 15:44:33.740</td><td>DateKey</td><td>100</td><td>100000100</td><td>100.00</td><td>9</td><td>UPDATE STATISTICS [dbo].[FactFinance100m_nostats] (_WA_Sys_00000001_1526DC9D) WITH SAMPLE 9 PERCENT</td></tr><tr><td>354868381</td><td>_WA_Sys_00000005_1526DC9D</td><td>FactFinance100m_nostats</td><td>dbo</td><td>3</td><td>1</td><td>NULL</td><td>2022-07-08 15:44:34.317</td><td>AccountKey</td><td>100</td><td>100000100</td><td>100.00</td><td>9</td><td>UPDATE STATISTICS [dbo].[FactFinance100m_nostats] (_WA_Sys_00000005_1526DC9D) WITH SAMPLE 9 PERCENT</td></tr></table>"
                    },
                    "metadata": {}
                }
            ],
            "execution_count": 6
        },
        {
            "cell_type": "markdown",
            "source": [
                "<span style=\"color: rgb(33, 33, 33);\">Rather&nbsp;than&nbsp;<span style=\"color: #a31515;\">\"per&nbsp;stats\"</span>&nbsp;we&nbsp;track&nbsp;meta&nbsp;data&nbsp;per&nbsp;<span style=\"color: #0000ff;\">table</span>&nbsp;due&nbsp;</span> to the limitations in DMVs in the SqlPool. Sample View provided by Prodata below. This provides some critcal information\n",
                "\n",
                "- stats\\_row\\_count. This is the number of estimated rows when the stats were last rebuilt. Using DMV pdw\\_table\\_distribution\\_properties  \n",
                "- actual\\_row\\_count. This is the actual number of rows using the DMV sys.dm\\_pdw\\_nodes\\_db\\_partition\\_stats\n",
                "- dynamic\\_threshold\\_row. recommended threshold to update stats using same algorithm(s) as traditonal SQL Server. The lower of 20% difference or   SQRT(1000 \\* \\[row count\\])."
            ],
            "metadata": {
                "azdata_cell_guid": "1cb98a6a-2d3a-49d4-8a8c-5fb1286dae7d"
            },
            "attachments": {}
        }
    ]
}