{
    "metadata": {
        "kernelspec": {
            "name": "SQL",
            "display_name": "SQL",
            "language": "sql"
        },
        "language_info": {
            "name": "sql",
            "version": ""
        }
    },
    "nbformat_minor": 2,
    "nbformat": 4,
    "cells": [
        {
            "cell_type": "markdown",
            "source": [
                "### Demo - Open Delta Stores"
            ],
            "metadata": {
                "azdata_cell_guid": "32e1064e-a364-4d24-9021-ebfe2d5b68b7"
            }
        },
        {
            "cell_type": "code",
            "source": [
                "/* \r\n",
                "    IF we insert < 200k via bulk or update we cam get some inserted rows whice are not compressed. Eg insert 6 million rows\r\n",
                "\r\n",
                "*/\r\n",
                "TRUNCATE TABLE FactFinance100m\r\n",
                "INSERT INTO FactFinance100m ([AccountKey], [ScenarioKey], [DepartmentGroupKey], [DateKey], [OrganizationKey], [Amount], [Date], [LineageKey])\r\n",
                "SELECT TOP 6000000 [AccountKey], [ScenarioKey], [DepartmentGroupKey], [DateKey], [OrganizationKey], [Amount], [Date], [LineageKey] FROM [dbo].[FactFinance1b]\r\n",
                "\r\n",
                "SELECT * FROM dbo.vColumnstoreStats WHERE table_name='FactFinance100m'\r\n",
                "select * From [dbo].[vCS_rg_physical_stats] WHERE logical_table_name='FactFinance100m'"
            ],
            "metadata": {
                "azdata_cell_guid": "7e8905cc-d2a0-45d7-8471-116f3b4d3f8d",
                "language": "sql"
            },
            "outputs": [
                {
                    "output_type": "display_data",
                    "data": {
                        "text/html": "(6000000 rows affected)"
                    },
                    "metadata": {}
                },
                {
                    "output_type": "display_data",
                    "data": {
                        "text/html": "(1 row affected)"
                    },
                    "metadata": {}
                },
                {
                    "output_type": "display_data",
                    "data": {
                        "text/html": "(60 rows affected)"
                    },
                    "metadata": {}
                },
                {
                    "output_type": "display_data",
                    "data": {
                        "text/html": "Total execution time: 00:00:16.198"
                    },
                    "metadata": {}
                },
                {
                    "output_type": "execute_result",
                    "execution_count": 3,
                    "data": {
                        "application/vnd.dataresource+json": {
                            "schema": {
                                "fields": [
                                    {
                                        "name": "execution_date"
                                    },
                                    {
                                        "name": "database_name"
                                    },
                                    {
                                        "name": "schema_name"
                                    },
                                    {
                                        "name": "table_name"
                                    },
                                    {
                                        "name": "partition_number"
                                    },
                                    {
                                        "name": "partition_scheme"
                                    },
                                    {
                                        "name": "object_id"
                                    },
                                    {
                                        "name": "index_name"
                                    },
                                    {
                                        "name": "row_count"
                                    },
                                    {
                                        "name": "deleted_row_count"
                                    },
                                    {
                                        "name": "row_group_count"
                                    },
                                    {
                                        "name": "compressed_row_count"
                                    },
                                    {
                                        "name": "compressed_rowgroup_count"
                                    },
                                    {
                                        "name": "open_rowgroup_count"
                                    },
                                    {
                                        "name": "open_row_count"
                                    },
                                    {
                                        "name": "compressed_row_max"
                                    },
                                    {
                                        "name": "compressed_row_avg"
                                    },
                                    {
                                        "name": "fragmentation_density"
                                    },
                                    {
                                        "name": "fragmentation_deletes"
                                    },
                                    {
                                        "name": "fragmentation_open"
                                    }
                                ]
                            },
                            "data": [
                                {
                                    "0": "2022-07-08 14:57:43.190",
                                    "1": "AdventureWorksDW",
                                    "2": "dbo",
                                    "3": "FactFinance100m",
                                    "4": "NULL",
                                    "5": "NULL",
                                    "6": "290868153",
                                    "7": "ClusteredIndex_e2f1410ade274620bfb52e91dcee6ddb",
                                    "8": "6000000",
                                    "9": "0",
                                    "10": "60",
                                    "11": "NULL",
                                    "12": "0",
                                    "13": "60",
                                    "14": "6000000",
                                    "15": "NULL",
                                    "16": "NULL",
                                    "17": "NULL",
                                    "18": "0.0000",
                                    "19": "9.5400"
                                }
                            ]
                        },
                        "text/html": "<table><tr><th>execution_date</th><th>database_name</th><th>schema_name</th><th>table_name</th><th>partition_number</th><th>partition_scheme</th><th>object_id</th><th>index_name</th><th>row_count</th><th>deleted_row_count</th><th>row_group_count</th><th>compressed_row_count</th><th>compressed_rowgroup_count</th><th>open_rowgroup_count</th><th>open_row_count</th><th>compressed_row_max</th><th>compressed_row_avg</th><th>fragmentation_density</th><th>fragmentation_deletes</th><th>fragmentation_open</th></tr><tr><td>2022-07-08 14:57:43.190</td><td>AdventureWorksDW</td><td>dbo</td><td>FactFinance100m</td><td>NULL</td><td>NULL</td><td>290868153</td><td>ClusteredIndex_e2f1410ade274620bfb52e91dcee6ddb</td><td>6000000</td><td>0</td><td>60</td><td>NULL</td><td>0</td><td>60</td><td>6000000</td><td>NULL</td><td>NULL</td><td>NULL</td><td>0.0000</td><td>9.5400</td></tr></table>"
                    },
                    "metadata": {}
                },
                {
                    "output_type": "execute_result",
                    "execution_count": 3,
                    "data": {
                        "application/vnd.dataresource+json": {
                            "schema": {
                                "fields": [
                                    {
                                        "name": "logical_table_name"
                                    },
                                    {
                                        "name": "row_group_id"
                                    },
                                    {
                                        "name": "partition_number"
                                    },
                                    {
                                        "name": "state"
                                    },
                                    {
                                        "name": "state_desc"
                                    },
                                    {
                                        "name": "total_rows"
                                    },
                                    {
                                        "name": "trim_reason_desc"
                                    },
                                    {
                                        "name": "physical_name"
                                    },
                                    {
                                        "name": "created_time"
                                    }
                                ]
                            },
                            "data": [
                                {
                                    "0": "FactFinance100m",
                                    "1": "12",
                                    "2": "1",
                                    "3": "1",
                                    "4": "OPEN",
                                    "5": "99828",
                                    "6": "NULL",
                                    "7": "Table_5e36fad5620b4f1c8f3eb0d9fc992bec_1",
                                    "8": "2022-07-08 14:57:42.437"
                                },
                                {
                                    "0": "FactFinance100m",
                                    "1": "12",
                                    "2": "1",
                                    "3": "1",
                                    "4": "OPEN",
                                    "5": "99828",
                                    "6": "NULL",
                                    "7": "Table_5e36fad5620b4f1c8f3eb0d9fc992bec_2",
                                    "8": "2022-07-08 14:57:42.453"
                                },
                                {
                                    "0": "FactFinance100m",
                                    "1": "12",
                                    "2": "1",
                                    "3": "1",
                                    "4": "OPEN",
                                    "5": "99828",
                                    "6": "NULL",
                                    "7": "Table_5e36fad5620b4f1c8f3eb0d9fc992bec_3",
                                    "8": "2022-07-08 14:57:42.460"
                                },
                                {
                                    "0": "FactFinance100m",
                                    "1": "12",
                                    "2": "1",
                                    "3": "1",
                                    "4": "OPEN",
                                    "5": "99828",
                                    "6": "NULL",
                                    "7": "Table_5e36fad5620b4f1c8f3eb0d9fc992bec_4",
                                    "8": "2022-07-08 14:57:42.447"
                                },
                                {
                                    "0": "FactFinance100m",
                                    "1": "12",
                                    "2": "1",
                                    "3": "1",
                                    "4": "OPEN",
                                    "5": "99828",
                                    "6": "NULL",
                                    "7": "Table_5e36fad5620b4f1c8f3eb0d9fc992bec_5",
                                    "8": "2022-07-08 14:57:42.457"
                                },
                                {
                                    "0": "FactFinance100m",
                                    "1": "12",
                                    "2": "1",
                                    "3": "1",
                                    "4": "OPEN",
                                    "5": "100392",
                                    "6": "NULL",
                                    "7": "Table_5e36fad5620b4f1c8f3eb0d9fc992bec_6",
                                    "8": "2022-07-08 14:57:42.467"
                                },
                                {
                                    "0": "FactFinance100m",
                                    "1": "12",
                                    "2": "1",
                                    "3": "1",
                                    "4": "OPEN",
                                    "5": "100392",
                                    "6": "NULL",
                                    "7": "Table_5e36fad5620b4f1c8f3eb0d9fc992bec_7",
                                    "8": "2022-07-08 14:57:42.450"
                                },
                                {
                                    "0": "FactFinance100m",
                                    "1": "12",
                                    "2": "1",
                                    "3": "1",
                                    "4": "OPEN",
                                    "5": "100392",
                                    "6": "NULL",
                                    "7": "Table_5e36fad5620b4f1c8f3eb0d9fc992bec_8",
                                    "8": "2022-07-08 14:57:42.460"
                                },
                                {
                                    "0": "FactFinance100m",
                                    "1": "12",
                                    "2": "1",
                                    "3": "1",
                                    "4": "OPEN",
                                    "5": "100392",
                                    "6": "NULL",
                                    "7": "Table_5e36fad5620b4f1c8f3eb0d9fc992bec_9",
                                    "8": "2022-07-08 14:57:42.460"
                                },
                                {
                                    "0": "FactFinance100m",
                                    "1": "12",
                                    "2": "1",
                                    "3": "1",
                                    "4": "OPEN",
                                    "5": "100392",
                                    "6": "NULL",
                                    "7": "Table_5e36fad5620b4f1c8f3eb0d9fc992bec_10",
                                    "8": "2022-07-08 14:57:42.447"
                                },
                                {
                                    "0": "FactFinance100m",
                                    "1": "12",
                                    "2": "1",
                                    "3": "1",
                                    "4": "OPEN",
                                    "5": "100392",
                                    "6": "NULL",
                                    "7": "Table_5e36fad5620b4f1c8f3eb0d9fc992bec_11",
                                    "8": "2022-07-08 14:57:42.467"
                                },
                                {
                                    "0": "FactFinance100m",
                                    "1": "12",
                                    "2": "1",
                                    "3": "1",
                                    "4": "OPEN",
                                    "5": "100392",
                                    "6": "NULL",
                                    "7": "Table_5e36fad5620b4f1c8f3eb0d9fc992bec_12",
                                    "8": "2022-07-08 14:57:42.470"
                                },
                                {
                                    "0": "FactFinance100m",
                                    "1": "12",
                                    "2": "1",
                                    "3": "1",
                                    "4": "OPEN",
                                    "5": "100392",
                                    "6": "NULL",
                                    "7": "Table_5e36fad5620b4f1c8f3eb0d9fc992bec_13",
                                    "8": "2022-07-08 14:57:42.450"
                                },
                                {
                                    "0": "FactFinance100m",
                                    "1": "12",
                                    "2": "1",
                                    "3": "1",
                                    "4": "OPEN",
                                    "5": "100392",
                                    "6": "NULL",
                                    "7": "Table_5e36fad5620b4f1c8f3eb0d9fc992bec_14",
                                    "8": "2022-07-08 14:57:42.447"
                                },
                                {
                                    "0": "FactFinance100m",
                                    "1": "12",
                                    "2": "1",
                                    "3": "1",
                                    "4": "OPEN",
                                    "5": "100392",
                                    "6": "NULL",
                                    "7": "Table_5e36fad5620b4f1c8f3eb0d9fc992bec_15",
                                    "8": "2022-07-08 14:57:42.447"
                                },
                                {
                                    "0": "FactFinance100m",
                                    "1": "12",
                                    "2": "1",
                                    "3": "1",
                                    "4": "OPEN",
                                    "5": "100392",
                                    "6": "NULL",
                                    "7": "Table_5e36fad5620b4f1c8f3eb0d9fc992bec_16",
                                    "8": "2022-07-08 14:57:42.443"
                                },
                                {
                                    "0": "FactFinance100m",
                                    "1": "12",
                                    "2": "1",
                                    "3": "1",
                                    "4": "OPEN",
                                    "5": "100392",
                                    "6": "NULL",
                                    "7": "Table_5e36fad5620b4f1c8f3eb0d9fc992bec_17",
                                    "8": "2022-07-08 14:57:42.467"
                                },
                                {
                                    "0": "FactFinance100m",
                                    "1": "12",
                                    "2": "1",
                                    "3": "1",
                                    "4": "OPEN",
                                    "5": "100392",
                                    "6": "NULL",
                                    "7": "Table_5e36fad5620b4f1c8f3eb0d9fc992bec_18",
                                    "8": "2022-07-08 14:57:42.693"
                                },
                                {
                                    "0": "FactFinance100m",
                                    "1": "12",
                                    "2": "1",
                                    "3": "1",
                                    "4": "OPEN",
                                    "5": "100392",
                                    "6": "NULL",
                                    "7": "Table_5e36fad5620b4f1c8f3eb0d9fc992bec_19",
                                    "8": "2022-07-08 14:57:42.437"
                                },
                                {
                                    "0": "FactFinance100m",
                                    "1": "12",
                                    "2": "1",
                                    "3": "1",
                                    "4": "OPEN",
                                    "5": "100392",
                                    "6": "NULL",
                                    "7": "Table_5e36fad5620b4f1c8f3eb0d9fc992bec_20",
                                    "8": "2022-07-08 14:57:42.460"
                                },
                                {
                                    "0": "FactFinance100m",
                                    "1": "12",
                                    "2": "1",
                                    "3": "1",
                                    "4": "OPEN",
                                    "5": "100392",
                                    "6": "NULL",
                                    "7": "Table_5e36fad5620b4f1c8f3eb0d9fc992bec_21",
                                    "8": "2022-07-08 14:57:42.467"
                                },
                                {
                                    "0": "FactFinance100m",
                                    "1": "12",
                                    "2": "1",
                                    "3": "1",
                                    "4": "OPEN",
                                    "5": "100392",
                                    "6": "NULL",
                                    "7": "Table_5e36fad5620b4f1c8f3eb0d9fc992bec_22",
                                    "8": "2022-07-08 14:57:42.437"
                                },
                                {
                                    "0": "FactFinance100m",
                                    "1": "12",
                                    "2": "1",
                                    "3": "1",
                                    "4": "OPEN",
                                    "5": "100392",
                                    "6": "NULL",
                                    "7": "Table_5e36fad5620b4f1c8f3eb0d9fc992bec_23",
                                    "8": "2022-07-08 14:57:42.463"
                                },
                                {
                                    "0": "FactFinance100m",
                                    "1": "12",
                                    "2": "1",
                                    "3": "1",
                                    "4": "OPEN",
                                    "5": "99996",
                                    "6": "NULL",
                                    "7": "Table_5e36fad5620b4f1c8f3eb0d9fc992bec_24",
                                    "8": "2022-07-08 14:57:42.460"
                                },
                                {
                                    "0": "FactFinance100m",
                                    "1": "12",
                                    "2": "1",
                                    "3": "1",
                                    "4": "OPEN",
                                    "5": "99828",
                                    "6": "NULL",
                                    "7": "Table_5e36fad5620b4f1c8f3eb0d9fc992bec_25",
                                    "8": "2022-07-08 14:57:42.453"
                                },
                                {
                                    "0": "FactFinance100m",
                                    "1": "12",
                                    "2": "1",
                                    "3": "1",
                                    "4": "OPEN",
                                    "5": "99828",
                                    "6": "NULL",
                                    "7": "Table_5e36fad5620b4f1c8f3eb0d9fc992bec_26",
                                    "8": "2022-07-08 14:57:42.443"
                                },
                                {
                                    "0": "FactFinance100m",
                                    "1": "12",
                                    "2": "1",
                                    "3": "1",
                                    "4": "OPEN",
                                    "5": "99828",
                                    "6": "NULL",
                                    "7": "Table_5e36fad5620b4f1c8f3eb0d9fc992bec_27",
                                    "8": "2022-07-08 14:57:42.443"
                                },
                                {
                                    "0": "FactFinance100m",
                                    "1": "12",
                                    "2": "1",
                                    "3": "1",
                                    "4": "OPEN",
                                    "5": "99828",
                                    "6": "NULL",
                                    "7": "Table_5e36fad5620b4f1c8f3eb0d9fc992bec_28",
                                    "8": "2022-07-08 14:57:42.557"
                                },
                                {
                                    "0": "FactFinance100m",
                                    "1": "12",
                                    "2": "1",
                                    "3": "1",
                                    "4": "OPEN",
                                    "5": "99828",
                                    "6": "NULL",
                                    "7": "Table_5e36fad5620b4f1c8f3eb0d9fc992bec_29",
                                    "8": "2022-07-08 14:57:42.443"
                                },
                                {
                                    "0": "FactFinance100m",
                                    "1": "12",
                                    "2": "1",
                                    "3": "1",
                                    "4": "OPEN",
                                    "5": "99828",
                                    "6": "NULL",
                                    "7": "Table_5e36fad5620b4f1c8f3eb0d9fc992bec_30",
                                    "8": "2022-07-08 14:57:42.460"
                                },
                                {
                                    "0": "FactFinance100m",
                                    "1": "12",
                                    "2": "1",
                                    "3": "1",
                                    "4": "OPEN",
                                    "5": "99828",
                                    "6": "NULL",
                                    "7": "Table_5e36fad5620b4f1c8f3eb0d9fc992bec_31",
                                    "8": "2022-07-08 14:57:42.473"
                                },
                                {
                                    "0": "FactFinance100m",
                                    "1": "12",
                                    "2": "1",
                                    "3": "1",
                                    "4": "OPEN",
                                    "5": "99828",
                                    "6": "NULL",
                                    "7": "Table_5e36fad5620b4f1c8f3eb0d9fc992bec_32",
                                    "8": "2022-07-08 14:57:42.477"
                                },
                                {
                                    "0": "FactFinance100m",
                                    "1": "12",
                                    "2": "1",
                                    "3": "1",
                                    "4": "OPEN",
                                    "5": "99828",
                                    "6": "NULL",
                                    "7": "Table_5e36fad5620b4f1c8f3eb0d9fc992bec_33",
                                    "8": "2022-07-08 14:57:42.473"
                                },
                                {
                                    "0": "FactFinance100m",
                                    "1": "12",
                                    "2": "1",
                                    "3": "1",
                                    "4": "OPEN",
                                    "5": "99828",
                                    "6": "NULL",
                                    "7": "Table_5e36fad5620b4f1c8f3eb0d9fc992bec_34",
                                    "8": "2022-07-08 14:57:42.467"
                                },
                                {
                                    "0": "FactFinance100m",
                                    "1": "12",
                                    "2": "1",
                                    "3": "1",
                                    "4": "OPEN",
                                    "5": "99828",
                                    "6": "NULL",
                                    "7": "Table_5e36fad5620b4f1c8f3eb0d9fc992bec_35",
                                    "8": "2022-07-08 14:57:42.467"
                                },
                                {
                                    "0": "FactFinance100m",
                                    "1": "12",
                                    "2": "1",
                                    "3": "1",
                                    "4": "OPEN",
                                    "5": "99828",
                                    "6": "NULL",
                                    "7": "Table_5e36fad5620b4f1c8f3eb0d9fc992bec_36",
                                    "8": "2022-07-08 14:57:42.480"
                                },
                                {
                                    "0": "FactFinance100m",
                                    "1": "12",
                                    "2": "1",
                                    "3": "1",
                                    "4": "OPEN",
                                    "5": "99828",
                                    "6": "NULL",
                                    "7": "Table_5e36fad5620b4f1c8f3eb0d9fc992bec_37",
                                    "8": "2022-07-08 14:57:42.460"
                                },
                                {
                                    "0": "FactFinance100m",
                                    "1": "12",
                                    "2": "1",
                                    "3": "1",
                                    "4": "OPEN",
                                    "5": "99828",
                                    "6": "NULL",
                                    "7": "Table_5e36fad5620b4f1c8f3eb0d9fc992bec_38",
                                    "8": "2022-07-08 14:57:42.463"
                                },
                                {
                                    "0": "FactFinance100m",
                                    "1": "12",
                                    "2": "1",
                                    "3": "1",
                                    "4": "OPEN",
                                    "5": "99828",
                                    "6": "NULL",
                                    "7": "Table_5e36fad5620b4f1c8f3eb0d9fc992bec_39",
                                    "8": "2022-07-08 14:57:42.477"
                                },
                                {
                                    "0": "FactFinance100m",
                                    "1": "12",
                                    "2": "1",
                                    "3": "1",
                                    "4": "OPEN",
                                    "5": "99828",
                                    "6": "NULL",
                                    "7": "Table_5e36fad5620b4f1c8f3eb0d9fc992bec_40",
                                    "8": "2022-07-08 14:57:42.477"
                                },
                                {
                                    "0": "FactFinance100m",
                                    "1": "12",
                                    "2": "1",
                                    "3": "1",
                                    "4": "OPEN",
                                    "5": "99828",
                                    "6": "NULL",
                                    "7": "Table_5e36fad5620b4f1c8f3eb0d9fc992bec_41",
                                    "8": "2022-07-08 14:57:42.473"
                                },
                                {
                                    "0": "FactFinance100m",
                                    "1": "12",
                                    "2": "1",
                                    "3": "1",
                                    "4": "OPEN",
                                    "5": "99828",
                                    "6": "NULL",
                                    "7": "Table_5e36fad5620b4f1c8f3eb0d9fc992bec_42",
                                    "8": "2022-07-08 14:57:42.480"
                                },
                                {
                                    "0": "FactFinance100m",
                                    "1": "12",
                                    "2": "1",
                                    "3": "1",
                                    "4": "OPEN",
                                    "5": "99828",
                                    "6": "NULL",
                                    "7": "Table_5e36fad5620b4f1c8f3eb0d9fc992bec_43",
                                    "8": "2022-07-08 14:57:42.477"
                                },
                                {
                                    "0": "FactFinance100m",
                                    "1": "12",
                                    "2": "1",
                                    "3": "1",
                                    "4": "OPEN",
                                    "5": "99828",
                                    "6": "NULL",
                                    "7": "Table_5e36fad5620b4f1c8f3eb0d9fc992bec_44",
                                    "8": "2022-07-08 14:57:42.470"
                                },
                                {
                                    "0": "FactFinance100m",
                                    "1": "12",
                                    "2": "1",
                                    "3": "1",
                                    "4": "OPEN",
                                    "5": "99828",
                                    "6": "NULL",
                                    "7": "Table_5e36fad5620b4f1c8f3eb0d9fc992bec_45",
                                    "8": "2022-07-08 14:57:42.687"
                                },
                                {
                                    "0": "FactFinance100m",
                                    "1": "12",
                                    "2": "1",
                                    "3": "1",
                                    "4": "OPEN",
                                    "5": "99828",
                                    "6": "NULL",
                                    "7": "Table_5e36fad5620b4f1c8f3eb0d9fc992bec_46",
                                    "8": "2022-07-08 14:57:42.473"
                                },
                                {
                                    "0": "FactFinance100m",
                                    "1": "12",
                                    "2": "1",
                                    "3": "1",
                                    "4": "OPEN",
                                    "5": "99828",
                                    "6": "NULL",
                                    "7": "Table_5e36fad5620b4f1c8f3eb0d9fc992bec_47",
                                    "8": "2022-07-08 14:57:42.480"
                                },
                                {
                                    "0": "FactFinance100m",
                                    "1": "12",
                                    "2": "1",
                                    "3": "1",
                                    "4": "OPEN",
                                    "5": "99828",
                                    "6": "NULL",
                                    "7": "Table_5e36fad5620b4f1c8f3eb0d9fc992bec_48",
                                    "8": "2022-07-08 14:57:42.640"
                                },
                                {
                                    "0": "FactFinance100m",
                                    "1": "12",
                                    "2": "1",
                                    "3": "1",
                                    "4": "OPEN",
                                    "5": "99828",
                                    "6": "NULL",
                                    "7": "Table_5e36fad5620b4f1c8f3eb0d9fc992bec_49",
                                    "8": "2022-07-08 14:57:42.480"
                                },
                                {
                                    "0": "FactFinance100m",
                                    "1": "12",
                                    "2": "1",
                                    "3": "1",
                                    "4": "OPEN",
                                    "5": "99828",
                                    "6": "NULL",
                                    "7": "Table_5e36fad5620b4f1c8f3eb0d9fc992bec_50",
                                    "8": "2022-07-08 14:57:42.483"
                                },
                                {
                                    "0": "FactFinance100m",
                                    "1": "12",
                                    "2": "1",
                                    "3": "1",
                                    "4": "OPEN",
                                    "5": "99828",
                                    "6": "NULL",
                                    "7": "Table_5e36fad5620b4f1c8f3eb0d9fc992bec_51",
                                    "8": "2022-07-08 14:57:42.480"
                                },
                                {
                                    "0": "FactFinance100m",
                                    "1": "12",
                                    "2": "1",
                                    "3": "1",
                                    "4": "OPEN",
                                    "5": "99828",
                                    "6": "NULL",
                                    "7": "Table_5e36fad5620b4f1c8f3eb0d9fc992bec_52",
                                    "8": "2022-07-08 14:57:42.480"
                                },
                                {
                                    "0": "FactFinance100m",
                                    "1": "12",
                                    "2": "1",
                                    "3": "1",
                                    "4": "OPEN",
                                    "5": "99828",
                                    "6": "NULL",
                                    "7": "Table_5e36fad5620b4f1c8f3eb0d9fc992bec_53",
                                    "8": "2022-07-08 14:57:42.467"
                                },
                                {
                                    "0": "FactFinance100m",
                                    "1": "12",
                                    "2": "1",
                                    "3": "1",
                                    "4": "OPEN",
                                    "5": "99828",
                                    "6": "NULL",
                                    "7": "Table_5e36fad5620b4f1c8f3eb0d9fc992bec_54",
                                    "8": "2022-07-08 14:57:42.477"
                                },
                                {
                                    "0": "FactFinance100m",
                                    "1": "12",
                                    "2": "1",
                                    "3": "1",
                                    "4": "OPEN",
                                    "5": "99828",
                                    "6": "NULL",
                                    "7": "Table_5e36fad5620b4f1c8f3eb0d9fc992bec_55",
                                    "8": "2022-07-08 14:57:42.487"
                                },
                                {
                                    "0": "FactFinance100m",
                                    "1": "12",
                                    "2": "1",
                                    "3": "1",
                                    "4": "OPEN",
                                    "5": "99828",
                                    "6": "NULL",
                                    "7": "Table_5e36fad5620b4f1c8f3eb0d9fc992bec_56",
                                    "8": "2022-07-08 14:57:42.477"
                                },
                                {
                                    "0": "FactFinance100m",
                                    "1": "12",
                                    "2": "1",
                                    "3": "1",
                                    "4": "OPEN",
                                    "5": "99828",
                                    "6": "NULL",
                                    "7": "Table_5e36fad5620b4f1c8f3eb0d9fc992bec_57",
                                    "8": "2022-07-08 14:57:42.477"
                                },
                                {
                                    "0": "FactFinance100m",
                                    "1": "12",
                                    "2": "1",
                                    "3": "1",
                                    "4": "OPEN",
                                    "5": "99828",
                                    "6": "NULL",
                                    "7": "Table_5e36fad5620b4f1c8f3eb0d9fc992bec_58",
                                    "8": "2022-07-08 14:57:42.473"
                                },
                                {
                                    "0": "FactFinance100m",
                                    "1": "12",
                                    "2": "1",
                                    "3": "1",
                                    "4": "OPEN",
                                    "5": "99828",
                                    "6": "NULL",
                                    "7": "Table_5e36fad5620b4f1c8f3eb0d9fc992bec_59",
                                    "8": "2022-07-08 14:57:42.480"
                                },
                                {
                                    "0": "FactFinance100m",
                                    "1": "12",
                                    "2": "1",
                                    "3": "1",
                                    "4": "OPEN",
                                    "5": "99828",
                                    "6": "NULL",
                                    "7": "Table_5e36fad5620b4f1c8f3eb0d9fc992bec_60",
                                    "8": "2022-07-08 14:57:42.477"
                                }
                            ]
                        },
                        "text/html": "<table><tr><th>logical_table_name</th><th>row_group_id</th><th>partition_number</th><th>state</th><th>state_desc</th><th>total_rows</th><th>trim_reason_desc</th><th>physical_name</th><th>created_time</th></tr><tr><td>FactFinance100m</td><td>12</td><td>1</td><td>1</td><td>OPEN</td><td>99828</td><td>NULL</td><td>Table_5e36fad5620b4f1c8f3eb0d9fc992bec_1</td><td>2022-07-08 14:57:42.437</td></tr><tr><td>FactFinance100m</td><td>12</td><td>1</td><td>1</td><td>OPEN</td><td>99828</td><td>NULL</td><td>Table_5e36fad5620b4f1c8f3eb0d9fc992bec_2</td><td>2022-07-08 14:57:42.453</td></tr><tr><td>FactFinance100m</td><td>12</td><td>1</td><td>1</td><td>OPEN</td><td>99828</td><td>NULL</td><td>Table_5e36fad5620b4f1c8f3eb0d9fc992bec_3</td><td>2022-07-08 14:57:42.460</td></tr><tr><td>FactFinance100m</td><td>12</td><td>1</td><td>1</td><td>OPEN</td><td>99828</td><td>NULL</td><td>Table_5e36fad5620b4f1c8f3eb0d9fc992bec_4</td><td>2022-07-08 14:57:42.447</td></tr><tr><td>FactFinance100m</td><td>12</td><td>1</td><td>1</td><td>OPEN</td><td>99828</td><td>NULL</td><td>Table_5e36fad5620b4f1c8f3eb0d9fc992bec_5</td><td>2022-07-08 14:57:42.457</td></tr><tr><td>FactFinance100m</td><td>12</td><td>1</td><td>1</td><td>OPEN</td><td>100392</td><td>NULL</td><td>Table_5e36fad5620b4f1c8f3eb0d9fc992bec_6</td><td>2022-07-08 14:57:42.467</td></tr><tr><td>FactFinance100m</td><td>12</td><td>1</td><td>1</td><td>OPEN</td><td>100392</td><td>NULL</td><td>Table_5e36fad5620b4f1c8f3eb0d9fc992bec_7</td><td>2022-07-08 14:57:42.450</td></tr><tr><td>FactFinance100m</td><td>12</td><td>1</td><td>1</td><td>OPEN</td><td>100392</td><td>NULL</td><td>Table_5e36fad5620b4f1c8f3eb0d9fc992bec_8</td><td>2022-07-08 14:57:42.460</td></tr><tr><td>FactFinance100m</td><td>12</td><td>1</td><td>1</td><td>OPEN</td><td>100392</td><td>NULL</td><td>Table_5e36fad5620b4f1c8f3eb0d9fc992bec_9</td><td>2022-07-08 14:57:42.460</td></tr><tr><td>FactFinance100m</td><td>12</td><td>1</td><td>1</td><td>OPEN</td><td>100392</td><td>NULL</td><td>Table_5e36fad5620b4f1c8f3eb0d9fc992bec_10</td><td>2022-07-08 14:57:42.447</td></tr><tr><td>FactFinance100m</td><td>12</td><td>1</td><td>1</td><td>OPEN</td><td>100392</td><td>NULL</td><td>Table_5e36fad5620b4f1c8f3eb0d9fc992bec_11</td><td>2022-07-08 14:57:42.467</td></tr><tr><td>FactFinance100m</td><td>12</td><td>1</td><td>1</td><td>OPEN</td><td>100392</td><td>NULL</td><td>Table_5e36fad5620b4f1c8f3eb0d9fc992bec_12</td><td>2022-07-08 14:57:42.470</td></tr><tr><td>FactFinance100m</td><td>12</td><td>1</td><td>1</td><td>OPEN</td><td>100392</td><td>NULL</td><td>Table_5e36fad5620b4f1c8f3eb0d9fc992bec_13</td><td>2022-07-08 14:57:42.450</td></tr><tr><td>FactFinance100m</td><td>12</td><td>1</td><td>1</td><td>OPEN</td><td>100392</td><td>NULL</td><td>Table_5e36fad5620b4f1c8f3eb0d9fc992bec_14</td><td>2022-07-08 14:57:42.447</td></tr><tr><td>FactFinance100m</td><td>12</td><td>1</td><td>1</td><td>OPEN</td><td>100392</td><td>NULL</td><td>Table_5e36fad5620b4f1c8f3eb0d9fc992bec_15</td><td>2022-07-08 14:57:42.447</td></tr><tr><td>FactFinance100m</td><td>12</td><td>1</td><td>1</td><td>OPEN</td><td>100392</td><td>NULL</td><td>Table_5e36fad5620b4f1c8f3eb0d9fc992bec_16</td><td>2022-07-08 14:57:42.443</td></tr><tr><td>FactFinance100m</td><td>12</td><td>1</td><td>1</td><td>OPEN</td><td>100392</td><td>NULL</td><td>Table_5e36fad5620b4f1c8f3eb0d9fc992bec_17</td><td>2022-07-08 14:57:42.467</td></tr><tr><td>FactFinance100m</td><td>12</td><td>1</td><td>1</td><td>OPEN</td><td>100392</td><td>NULL</td><td>Table_5e36fad5620b4f1c8f3eb0d9fc992bec_18</td><td>2022-07-08 14:57:42.693</td></tr><tr><td>FactFinance100m</td><td>12</td><td>1</td><td>1</td><td>OPEN</td><td>100392</td><td>NULL</td><td>Table_5e36fad5620b4f1c8f3eb0d9fc992bec_19</td><td>2022-07-08 14:57:42.437</td></tr><tr><td>FactFinance100m</td><td>12</td><td>1</td><td>1</td><td>OPEN</td><td>100392</td><td>NULL</td><td>Table_5e36fad5620b4f1c8f3eb0d9fc992bec_20</td><td>2022-07-08 14:57:42.460</td></tr><tr><td>FactFinance100m</td><td>12</td><td>1</td><td>1</td><td>OPEN</td><td>100392</td><td>NULL</td><td>Table_5e36fad5620b4f1c8f3eb0d9fc992bec_21</td><td>2022-07-08 14:57:42.467</td></tr><tr><td>FactFinance100m</td><td>12</td><td>1</td><td>1</td><td>OPEN</td><td>100392</td><td>NULL</td><td>Table_5e36fad5620b4f1c8f3eb0d9fc992bec_22</td><td>2022-07-08 14:57:42.437</td></tr><tr><td>FactFinance100m</td><td>12</td><td>1</td><td>1</td><td>OPEN</td><td>100392</td><td>NULL</td><td>Table_5e36fad5620b4f1c8f3eb0d9fc992bec_23</td><td>2022-07-08 14:57:42.463</td></tr><tr><td>FactFinance100m</td><td>12</td><td>1</td><td>1</td><td>OPEN</td><td>99996</td><td>NULL</td><td>Table_5e36fad5620b4f1c8f3eb0d9fc992bec_24</td><td>2022-07-08 14:57:42.460</td></tr><tr><td>FactFinance100m</td><td>12</td><td>1</td><td>1</td><td>OPEN</td><td>99828</td><td>NULL</td><td>Table_5e36fad5620b4f1c8f3eb0d9fc992bec_25</td><td>2022-07-08 14:57:42.453</td></tr><tr><td>FactFinance100m</td><td>12</td><td>1</td><td>1</td><td>OPEN</td><td>99828</td><td>NULL</td><td>Table_5e36fad5620b4f1c8f3eb0d9fc992bec_26</td><td>2022-07-08 14:57:42.443</td></tr><tr><td>FactFinance100m</td><td>12</td><td>1</td><td>1</td><td>OPEN</td><td>99828</td><td>NULL</td><td>Table_5e36fad5620b4f1c8f3eb0d9fc992bec_27</td><td>2022-07-08 14:57:42.443</td></tr><tr><td>FactFinance100m</td><td>12</td><td>1</td><td>1</td><td>OPEN</td><td>99828</td><td>NULL</td><td>Table_5e36fad5620b4f1c8f3eb0d9fc992bec_28</td><td>2022-07-08 14:57:42.557</td></tr><tr><td>FactFinance100m</td><td>12</td><td>1</td><td>1</td><td>OPEN</td><td>99828</td><td>NULL</td><td>Table_5e36fad5620b4f1c8f3eb0d9fc992bec_29</td><td>2022-07-08 14:57:42.443</td></tr><tr><td>FactFinance100m</td><td>12</td><td>1</td><td>1</td><td>OPEN</td><td>99828</td><td>NULL</td><td>Table_5e36fad5620b4f1c8f3eb0d9fc992bec_30</td><td>2022-07-08 14:57:42.460</td></tr><tr><td>FactFinance100m</td><td>12</td><td>1</td><td>1</td><td>OPEN</td><td>99828</td><td>NULL</td><td>Table_5e36fad5620b4f1c8f3eb0d9fc992bec_31</td><td>2022-07-08 14:57:42.473</td></tr><tr><td>FactFinance100m</td><td>12</td><td>1</td><td>1</td><td>OPEN</td><td>99828</td><td>NULL</td><td>Table_5e36fad5620b4f1c8f3eb0d9fc992bec_32</td><td>2022-07-08 14:57:42.477</td></tr><tr><td>FactFinance100m</td><td>12</td><td>1</td><td>1</td><td>OPEN</td><td>99828</td><td>NULL</td><td>Table_5e36fad5620b4f1c8f3eb0d9fc992bec_33</td><td>2022-07-08 14:57:42.473</td></tr><tr><td>FactFinance100m</td><td>12</td><td>1</td><td>1</td><td>OPEN</td><td>99828</td><td>NULL</td><td>Table_5e36fad5620b4f1c8f3eb0d9fc992bec_34</td><td>2022-07-08 14:57:42.467</td></tr><tr><td>FactFinance100m</td><td>12</td><td>1</td><td>1</td><td>OPEN</td><td>99828</td><td>NULL</td><td>Table_5e36fad5620b4f1c8f3eb0d9fc992bec_35</td><td>2022-07-08 14:57:42.467</td></tr><tr><td>FactFinance100m</td><td>12</td><td>1</td><td>1</td><td>OPEN</td><td>99828</td><td>NULL</td><td>Table_5e36fad5620b4f1c8f3eb0d9fc992bec_36</td><td>2022-07-08 14:57:42.480</td></tr><tr><td>FactFinance100m</td><td>12</td><td>1</td><td>1</td><td>OPEN</td><td>99828</td><td>NULL</td><td>Table_5e36fad5620b4f1c8f3eb0d9fc992bec_37</td><td>2022-07-08 14:57:42.460</td></tr><tr><td>FactFinance100m</td><td>12</td><td>1</td><td>1</td><td>OPEN</td><td>99828</td><td>NULL</td><td>Table_5e36fad5620b4f1c8f3eb0d9fc992bec_38</td><td>2022-07-08 14:57:42.463</td></tr><tr><td>FactFinance100m</td><td>12</td><td>1</td><td>1</td><td>OPEN</td><td>99828</td><td>NULL</td><td>Table_5e36fad5620b4f1c8f3eb0d9fc992bec_39</td><td>2022-07-08 14:57:42.477</td></tr><tr><td>FactFinance100m</td><td>12</td><td>1</td><td>1</td><td>OPEN</td><td>99828</td><td>NULL</td><td>Table_5e36fad5620b4f1c8f3eb0d9fc992bec_40</td><td>2022-07-08 14:57:42.477</td></tr><tr><td>FactFinance100m</td><td>12</td><td>1</td><td>1</td><td>OPEN</td><td>99828</td><td>NULL</td><td>Table_5e36fad5620b4f1c8f3eb0d9fc992bec_41</td><td>2022-07-08 14:57:42.473</td></tr><tr><td>FactFinance100m</td><td>12</td><td>1</td><td>1</td><td>OPEN</td><td>99828</td><td>NULL</td><td>Table_5e36fad5620b4f1c8f3eb0d9fc992bec_42</td><td>2022-07-08 14:57:42.480</td></tr><tr><td>FactFinance100m</td><td>12</td><td>1</td><td>1</td><td>OPEN</td><td>99828</td><td>NULL</td><td>Table_5e36fad5620b4f1c8f3eb0d9fc992bec_43</td><td>2022-07-08 14:57:42.477</td></tr><tr><td>FactFinance100m</td><td>12</td><td>1</td><td>1</td><td>OPEN</td><td>99828</td><td>NULL</td><td>Table_5e36fad5620b4f1c8f3eb0d9fc992bec_44</td><td>2022-07-08 14:57:42.470</td></tr><tr><td>FactFinance100m</td><td>12</td><td>1</td><td>1</td><td>OPEN</td><td>99828</td><td>NULL</td><td>Table_5e36fad5620b4f1c8f3eb0d9fc992bec_45</td><td>2022-07-08 14:57:42.687</td></tr><tr><td>FactFinance100m</td><td>12</td><td>1</td><td>1</td><td>OPEN</td><td>99828</td><td>NULL</td><td>Table_5e36fad5620b4f1c8f3eb0d9fc992bec_46</td><td>2022-07-08 14:57:42.473</td></tr><tr><td>FactFinance100m</td><td>12</td><td>1</td><td>1</td><td>OPEN</td><td>99828</td><td>NULL</td><td>Table_5e36fad5620b4f1c8f3eb0d9fc992bec_47</td><td>2022-07-08 14:57:42.480</td></tr><tr><td>FactFinance100m</td><td>12</td><td>1</td><td>1</td><td>OPEN</td><td>99828</td><td>NULL</td><td>Table_5e36fad5620b4f1c8f3eb0d9fc992bec_48</td><td>2022-07-08 14:57:42.640</td></tr><tr><td>FactFinance100m</td><td>12</td><td>1</td><td>1</td><td>OPEN</td><td>99828</td><td>NULL</td><td>Table_5e36fad5620b4f1c8f3eb0d9fc992bec_49</td><td>2022-07-08 14:57:42.480</td></tr><tr><td>FactFinance100m</td><td>12</td><td>1</td><td>1</td><td>OPEN</td><td>99828</td><td>NULL</td><td>Table_5e36fad5620b4f1c8f3eb0d9fc992bec_50</td><td>2022-07-08 14:57:42.483</td></tr><tr><td>FactFinance100m</td><td>12</td><td>1</td><td>1</td><td>OPEN</td><td>99828</td><td>NULL</td><td>Table_5e36fad5620b4f1c8f3eb0d9fc992bec_51</td><td>2022-07-08 14:57:42.480</td></tr><tr><td>FactFinance100m</td><td>12</td><td>1</td><td>1</td><td>OPEN</td><td>99828</td><td>NULL</td><td>Table_5e36fad5620b4f1c8f3eb0d9fc992bec_52</td><td>2022-07-08 14:57:42.480</td></tr><tr><td>FactFinance100m</td><td>12</td><td>1</td><td>1</td><td>OPEN</td><td>99828</td><td>NULL</td><td>Table_5e36fad5620b4f1c8f3eb0d9fc992bec_53</td><td>2022-07-08 14:57:42.467</td></tr><tr><td>FactFinance100m</td><td>12</td><td>1</td><td>1</td><td>OPEN</td><td>99828</td><td>NULL</td><td>Table_5e36fad5620b4f1c8f3eb0d9fc992bec_54</td><td>2022-07-08 14:57:42.477</td></tr><tr><td>FactFinance100m</td><td>12</td><td>1</td><td>1</td><td>OPEN</td><td>99828</td><td>NULL</td><td>Table_5e36fad5620b4f1c8f3eb0d9fc992bec_55</td><td>2022-07-08 14:57:42.487</td></tr><tr><td>FactFinance100m</td><td>12</td><td>1</td><td>1</td><td>OPEN</td><td>99828</td><td>NULL</td><td>Table_5e36fad5620b4f1c8f3eb0d9fc992bec_56</td><td>2022-07-08 14:57:42.477</td></tr><tr><td>FactFinance100m</td><td>12</td><td>1</td><td>1</td><td>OPEN</td><td>99828</td><td>NULL</td><td>Table_5e36fad5620b4f1c8f3eb0d9fc992bec_57</td><td>2022-07-08 14:57:42.477</td></tr><tr><td>FactFinance100m</td><td>12</td><td>1</td><td>1</td><td>OPEN</td><td>99828</td><td>NULL</td><td>Table_5e36fad5620b4f1c8f3eb0d9fc992bec_58</td><td>2022-07-08 14:57:42.473</td></tr><tr><td>FactFinance100m</td><td>12</td><td>1</td><td>1</td><td>OPEN</td><td>99828</td><td>NULL</td><td>Table_5e36fad5620b4f1c8f3eb0d9fc992bec_59</td><td>2022-07-08 14:57:42.480</td></tr><tr><td>FactFinance100m</td><td>12</td><td>1</td><td>1</td><td>OPEN</td><td>99828</td><td>NULL</td><td>Table_5e36fad5620b4f1c8f3eb0d9fc992bec_60</td><td>2022-07-08 14:57:42.477</td></tr></table>"
                    },
                    "metadata": {}
                }
            ],
            "execution_count": 3
        },
        {
            "cell_type": "code",
            "source": [
                "/*  \r\n",
                "    a REORG will NOT close open delta stores, but we can issue a command like below using Framework \r\n",
                "\r\n",
                "    ALTER INDEX ClusteredIndex_1fba0db5c48b40288124497ec2198389 ON [dbo].[FactFinance100m] REORGANIZE WITH (COMPRESS_ALL_ROW_GROUPS = ON)\r\n",
                "\r\n",
                "    Note: Resultant Frgamentation is high as one RowGroup is very small. Hence we ignore density if only 120 RowGroups or less.\r\n",
                "\r\n",
                "*/\r\n",
                "\r\n",
                "exec   [dbo].[ColumnstoreOptimize]  @Tables='FactFinance100m'\r\n",
                ",@DensityThreshold=null\r\n",
                ",@OpenThreshold=200000\r\n",
                ",@DeleteThreshold=null\r\n",
                ",@TimeLimit =null\r\n",
                ", @Execute='Y'\r\n",
                "\r\n",
                "SELECT * FROM dbo.vColumnstoreStats WHERE table_name='FactFinance100m'"
            ],
            "metadata": {
                "azdata_cell_guid": "8f77bfb6-48cf-4fdc-b395-f7e6b57a1672",
                "tags": [],
                "language": "sql"
            },
            "outputs": [
                {
                    "output_type": "display_data",
                    "data": {
                        "text/html": "Date and time: 2022-07-08 14:59:32"
                    },
                    "metadata": {}
                },
                {
                    "output_type": "display_data",
                    "data": {
                        "text/html": "Server: aw-dev"
                    },
                    "metadata": {}
                },
                {
                    "output_type": "display_data",
                    "data": {
                        "text/html": "Version: 10.0.15665.0"
                    },
                    "metadata": {}
                },
                {
                    "output_type": "display_data",
                    "data": {
                        "text/html": "Edition: SQL Azure"
                    },
                    "metadata": {}
                },
                {
                    "output_type": "display_data",
                    "data": {
                        "text/html": "Parameters: @Tables= 'FactFinance100m', @DensityThreshold = 25.00, @OpenThreshold = 200000, @DeleteThreshold = 200000, @Execute = Y"
                    },
                    "metadata": {}
                },
                {
                    "output_type": "display_data",
                    "data": {
                        "text/html": "Version: Microsoft Azure SQL Data Warehouse - 10.0.15665.0 Jul 7 2022 07:03:56 Copyright (c) Microsoft Corporation"
                    },
                    "metadata": {}
                },
                {
                    "output_type": "display_data",
                    "data": {
                        "text/html": "Source: https://github.com/ProdataSQL/SynapseTools/tree/main/SqlPools/Maintenance"
                    },
                    "metadata": {}
                },
                {
                    "output_type": "display_data",
                    "data": {
                        "text/html": "Date and time: 2022-07-08 14:59:34"
                    },
                    "metadata": {}
                },
                {
                    "output_type": "display_data",
                    "data": {
                        "text/html": "SqlCommand: ALTER INDEX ClusteredIndex_e2f1410ade274620bfb52e91dcee6ddb ON [dbo].[FactFinance100m] REORGANIZE WITH (COMPRESS_ALL_ROW_GROUPS = ON)"
                    },
                    "metadata": {}
                },
                {
                    "output_type": "display_data",
                    "data": {
                        "text/html": "(1 row affected)"
                    },
                    "metadata": {}
                },
                {
                    "output_type": "display_data",
                    "data": {
                        "text/html": "Total execution time: 00:00:06.493"
                    },
                    "metadata": {}
                },
                {
                    "output_type": "execute_result",
                    "execution_count": 4,
                    "data": {
                        "application/vnd.dataresource+json": {
                            "schema": {
                                "fields": [
                                    {
                                        "name": "execution_date"
                                    },
                                    {
                                        "name": "database_name"
                                    },
                                    {
                                        "name": "schema_name"
                                    },
                                    {
                                        "name": "table_name"
                                    },
                                    {
                                        "name": "partition_number"
                                    },
                                    {
                                        "name": "partition_scheme"
                                    },
                                    {
                                        "name": "object_id"
                                    },
                                    {
                                        "name": "index_name"
                                    },
                                    {
                                        "name": "row_count"
                                    },
                                    {
                                        "name": "deleted_row_count"
                                    },
                                    {
                                        "name": "row_group_count"
                                    },
                                    {
                                        "name": "compressed_row_count"
                                    },
                                    {
                                        "name": "compressed_rowgroup_count"
                                    },
                                    {
                                        "name": "open_rowgroup_count"
                                    },
                                    {
                                        "name": "open_row_count"
                                    },
                                    {
                                        "name": "compressed_row_max"
                                    },
                                    {
                                        "name": "compressed_row_avg"
                                    },
                                    {
                                        "name": "fragmentation_density"
                                    },
                                    {
                                        "name": "fragmentation_deletes"
                                    },
                                    {
                                        "name": "fragmentation_open"
                                    }
                                ]
                            },
                            "data": [
                                {
                                    "0": "2022-07-08 14:59:37.267",
                                    "1": "AdventureWorksDW",
                                    "2": "dbo",
                                    "3": "FactFinance100m",
                                    "4": "NULL",
                                    "5": "NULL",
                                    "6": "290868153",
                                    "7": "ClusteredIndex_e2f1410ade274620bfb52e91dcee6ddb",
                                    "8": "6000000",
                                    "9": "0",
                                    "10": "60",
                                    "11": "6000000",
                                    "12": "60",
                                    "13": "0",
                                    "14": "0",
                                    "15": "100392",
                                    "16": "100000",
                                    "17": "0.3900",
                                    "18": "0.0000",
                                    "19": "0.0000"
                                }
                            ]
                        },
                        "text/html": "<table><tr><th>execution_date</th><th>database_name</th><th>schema_name</th><th>table_name</th><th>partition_number</th><th>partition_scheme</th><th>object_id</th><th>index_name</th><th>row_count</th><th>deleted_row_count</th><th>row_group_count</th><th>compressed_row_count</th><th>compressed_rowgroup_count</th><th>open_rowgroup_count</th><th>open_row_count</th><th>compressed_row_max</th><th>compressed_row_avg</th><th>fragmentation_density</th><th>fragmentation_deletes</th><th>fragmentation_open</th></tr><tr><td>2022-07-08 14:59:37.267</td><td>AdventureWorksDW</td><td>dbo</td><td>FactFinance100m</td><td>NULL</td><td>NULL</td><td>290868153</td><td>ClusteredIndex_e2f1410ade274620bfb52e91dcee6ddb</td><td>6000000</td><td>0</td><td>60</td><td>6000000</td><td>60</td><td>0</td><td>0</td><td>100392</td><td>100000</td><td>0.3900</td><td>0.0000</td><td>0.0000</td></tr></table>"
                    },
                    "metadata": {}
                }
            ],
            "execution_count": 4
        }
    ]
}