{
    "metadata": {
        "kernelspec": {
            "name": "SQL",
            "display_name": "SQL",
            "language": "sql"
        },
        "language_info": {
            "name": "sql",
            "version": ""
        }
    },
    "nbformat_minor": 2,
    "nbformat": 4,
    "cells": [
        {
            "cell_type": "markdown",
            "source": [
                "### Demo - Open Delta Stores"
            ],
            "metadata": {
                "azdata_cell_guid": "32e1064e-a364-4d24-9021-ebfe2d5b68b7"
            }
        },
        {
            "cell_type": "code",
            "source": [
                "/* \r\n",
                "    IF we insert < 200k via bulk or update we cam get some inserted rows whice are not compressed. Eg insert 6 million rows\r\n",
                "\r\n",
                "*/\r\n",
                "INSERT INTO FactFinance100m ([AccountKey], [ScenarioKey], [DepartmentGroupKey], [DateKey], [OrganizationKey], [Amount], [Date], [LineageKey])\r\n",
                "SELECT TOP 6000000 [AccountKey], [ScenarioKey], [DepartmentGroupKey], [DateKey], [OrganizationKey], [Amount], [Date], [LineageKey] FROM [dbo].[FactFinance1b]\r\n",
                "\r\n",
                "SELECT * FROM dbo.vColumnstoreStats WHERE table_name='FactFinance100m'\r\n",
                "select * From [dbo].[vCS_rg_physical_stats] WHERE logical_table_name='FactFinance100m'"
            ],
            "metadata": {
                "azdata_cell_guid": "7e8905cc-d2a0-45d7-8471-116f3b4d3f8d",
                "language": "sql"
            },
            "outputs": [
                {
                    "output_type": "display_data",
                    "data": {
                        "text/html": "(6000000 rows affected)"
                    },
                    "metadata": {}
                },
                {
                    "output_type": "display_data",
                    "data": {
                        "text/html": "(1 row affected)"
                    },
                    "metadata": {}
                },
                {
                    "output_type": "display_data",
                    "data": {
                        "text/html": "(180 rows affected)"
                    },
                    "metadata": {}
                },
                {
                    "output_type": "display_data",
                    "data": {
                        "text/html": "Total execution time: 00:00:15.795"
                    },
                    "metadata": {}
                },
                {
                    "output_type": "execute_result",
                    "metadata": {},
                    "execution_count": 2,
                    "data": {
                        "application/vnd.dataresource+json": {
                            "schema": {
                                "fields": [
                                    {
                                        "name": "execution_date"
                                    },
                                    {
                                        "name": "database_name"
                                    },
                                    {
                                        "name": "schema_name"
                                    },
                                    {
                                        "name": "table_name"
                                    },
                                    {
                                        "name": "partition_number"
                                    },
                                    {
                                        "name": "partition_scheme"
                                    },
                                    {
                                        "name": "object_id"
                                    },
                                    {
                                        "name": "index_name"
                                    },
                                    {
                                        "name": "row_count"
                                    },
                                    {
                                        "name": "deleted_row_count"
                                    },
                                    {
                                        "name": "row_group_count"
                                    },
                                    {
                                        "name": "compressed_row_count"
                                    },
                                    {
                                        "name": "compressed_rowgroup_count"
                                    },
                                    {
                                        "name": "open_rowgroup_count"
                                    },
                                    {
                                        "name": "open_row_count"
                                    },
                                    {
                                        "name": "compressed_row_max"
                                    },
                                    {
                                        "name": "compressed_row_avg"
                                    },
                                    {
                                        "name": "fragmentation_density"
                                    },
                                    {
                                        "name": "fragmentation_deletes"
                                    },
                                    {
                                        "name": "fragmentation_open"
                                    }
                                ]
                            },
                            "data": [
                                {
                                    "0": "2022-07-07 19:43:20.900",
                                    "1": "AdventureWorksDW",
                                    "2": "dbo",
                                    "3": "FactFinance100m",
                                    "4": "NULL",
                                    "5": "NULL",
                                    "6": "1958350091",
                                    "7": "ClusteredIndex_baff5ac740d64e1694b250169905d4cf",
                                    "8": "126000000",
                                    "9": "0",
                                    "10": "180",
                                    "11": "120000000",
                                    "12": "120",
                                    "13": "60",
                                    "14": "6000000",
                                    "15": "1000532",
                                    "16": "1000000",
                                    "17": "4.6300",
                                    "18": "0.0000",
                                    "19": "9.9900"
                                }
                            ]
                        },
                        "text/html": [
                            "<table>",
                            "<tr><th>execution_date</th><th>database_name</th><th>schema_name</th><th>table_name</th><th>partition_number</th><th>partition_scheme</th><th>object_id</th><th>index_name</th><th>row_count</th><th>deleted_row_count</th><th>row_group_count</th><th>compressed_row_count</th><th>compressed_rowgroup_count</th><th>open_rowgroup_count</th><th>open_row_count</th><th>compressed_row_max</th><th>compressed_row_avg</th><th>fragmentation_density</th><th>fragmentation_deletes</th><th>fragmentation_open</th></tr>",
                            "<tr><td>2022-07-07 19:43:20.900</td><td>AdventureWorksDW</td><td>dbo</td><td>FactFinance100m</td><td>NULL</td><td>NULL</td><td>1958350091</td><td>ClusteredIndex_baff5ac740d64e1694b250169905d4cf</td><td>126000000</td><td>0</td><td>180</td><td>120000000</td><td>120</td><td>60</td><td>6000000</td><td>1000532</td><td>1000000</td><td>4.6300</td><td>0.0000</td><td>9.9900</td></tr>",
                            "</table>"
                        ]
                    }
                },
                {
                    "output_type": "execute_result",
                    "metadata": {},
                    "execution_count": 2,
                    "data": {
                        "application/vnd.dataresource+json": {
                            "schema": {
                                "fields": [
                                    {
                                        "name": "logical_table_name"
                                    },
                                    {
                                        "name": "row_group_id"
                                    },
                                    {
                                        "name": "partition_number"
                                    },
                                    {
                                        "name": "state"
                                    },
                                    {
                                        "name": "state_desc"
                                    },
                                    {
                                        "name": "total_rows"
                                    },
                                    {
                                        "name": "trim_reason_desc"
                                    },
                                    {
                                        "name": "physical_name"
                                    },
                                    {
                                        "name": "created_time"
                                    }
                                ]
                            },
                            "data": [
                                {
                                    "0": "FactFinance100m",
                                    "1": "8",
                                    "2": "1",
                                    "3": "1",
                                    "4": "OPEN",
                                    "5": "99828",
                                    "6": "NULL",
                                    "7": "Table_5656864dfc4245699aef7ea313bce59e_1",
                                    "8": "2022-07-07 19:43:20.030"
                                },
                                {
                                    "0": "FactFinance100m",
                                    "1": "8",
                                    "2": "1",
                                    "3": "1",
                                    "4": "OPEN",
                                    "5": "99828",
                                    "6": "NULL",
                                    "7": "Table_5656864dfc4245699aef7ea313bce59e_2",
                                    "8": "2022-07-07 19:43:20.033"
                                },
                                {
                                    "0": "FactFinance100m",
                                    "1": "8",
                                    "2": "1",
                                    "3": "1",
                                    "4": "OPEN",
                                    "5": "99828",
                                    "6": "NULL",
                                    "7": "Table_5656864dfc4245699aef7ea313bce59e_3",
                                    "8": "2022-07-07 19:43:20.037"
                                },
                                {
                                    "0": "FactFinance100m",
                                    "1": "8",
                                    "2": "1",
                                    "3": "1",
                                    "4": "OPEN",
                                    "5": "99828",
                                    "6": "NULL",
                                    "7": "Table_5656864dfc4245699aef7ea313bce59e_4",
                                    "8": "2022-07-07 19:43:20.017"
                                },
                                {
                                    "0": "FactFinance100m",
                                    "1": "8",
                                    "2": "1",
                                    "3": "1",
                                    "4": "OPEN",
                                    "5": "99828",
                                    "6": "NULL",
                                    "7": "Table_5656864dfc4245699aef7ea313bce59e_5",
                                    "8": "2022-07-07 19:43:20.020"
                                },
                                {
                                    "0": "FactFinance100m",
                                    "1": "8",
                                    "2": "1",
                                    "3": "1",
                                    "4": "OPEN",
                                    "5": "99828",
                                    "6": "NULL",
                                    "7": "Table_5656864dfc4245699aef7ea313bce59e_6",
                                    "8": "2022-07-07 19:43:20.037"
                                },
                                {
                                    "0": "FactFinance100m",
                                    "1": "8",
                                    "2": "1",
                                    "3": "1",
                                    "4": "OPEN",
                                    "5": "99828",
                                    "6": "NULL",
                                    "7": "Table_5656864dfc4245699aef7ea313bce59e_7",
                                    "8": "2022-07-07 19:43:20.020"
                                },
                                {
                                    "0": "FactFinance100m",
                                    "1": "8",
                                    "2": "1",
                                    "3": "1",
                                    "4": "OPEN",
                                    "5": "99828",
                                    "6": "NULL",
                                    "7": "Table_5656864dfc4245699aef7ea313bce59e_8",
                                    "8": "2022-07-07 19:43:20.147"
                                },
                                {
                                    "0": "FactFinance100m",
                                    "1": "8",
                                    "2": "1",
                                    "3": "1",
                                    "4": "OPEN",
                                    "5": "99828",
                                    "6": "NULL",
                                    "7": "Table_5656864dfc4245699aef7ea313bce59e_9",
                                    "8": "2022-07-07 19:43:20.020"
                                },
                                {
                                    "0": "FactFinance100m",
                                    "1": "8",
                                    "2": "1",
                                    "3": "1",
                                    "4": "OPEN",
                                    "5": "99828",
                                    "6": "NULL",
                                    "7": "Table_5656864dfc4245699aef7ea313bce59e_10",
                                    "8": "2022-07-07 19:43:20.007"
                                },
                                {
                                    "0": "FactFinance100m",
                                    "1": "8",
                                    "2": "1",
                                    "3": "1",
                                    "4": "OPEN",
                                    "5": "99828",
                                    "6": "NULL",
                                    "7": "Table_5656864dfc4245699aef7ea313bce59e_11",
                                    "8": "2022-07-07 19:43:20.223"
                                },
                                {
                                    "0": "FactFinance100m",
                                    "1": "8",
                                    "2": "1",
                                    "3": "1",
                                    "4": "OPEN",
                                    "5": "100392",
                                    "6": "NULL",
                                    "7": "Table_5656864dfc4245699aef7ea313bce59e_12",
                                    "8": "2022-07-07 19:43:20.037"
                                },
                                {
                                    "0": "FactFinance100m",
                                    "1": "8",
                                    "2": "1",
                                    "3": "1",
                                    "4": "OPEN",
                                    "5": "100392",
                                    "6": "NULL",
                                    "7": "Table_5656864dfc4245699aef7ea313bce59e_13",
                                    "8": "2022-07-07 19:43:20.040"
                                },
                                {
                                    "0": "FactFinance100m",
                                    "1": "8",
                                    "2": "1",
                                    "3": "1",
                                    "4": "OPEN",
                                    "5": "100392",
                                    "6": "NULL",
                                    "7": "Table_5656864dfc4245699aef7ea313bce59e_14",
                                    "8": "2022-07-07 19:43:20.290"
                                },
                                {
                                    "0": "FactFinance100m",
                                    "1": "8",
                                    "2": "1",
                                    "3": "1",
                                    "4": "OPEN",
                                    "5": "100392",
                                    "6": "NULL",
                                    "7": "Table_5656864dfc4245699aef7ea313bce59e_15",
                                    "8": "2022-07-07 19:43:20.037"
                                },
                                {
                                    "0": "FactFinance100m",
                                    "1": "8",
                                    "2": "1",
                                    "3": "1",
                                    "4": "OPEN",
                                    "5": "100392",
                                    "6": "NULL",
                                    "7": "Table_5656864dfc4245699aef7ea313bce59e_16",
                                    "8": "2022-07-07 19:43:20.027"
                                },
                                {
                                    "0": "FactFinance100m",
                                    "1": "8",
                                    "2": "1",
                                    "3": "1",
                                    "4": "OPEN",
                                    "5": "100392",
                                    "6": "NULL",
                                    "7": "Table_5656864dfc4245699aef7ea313bce59e_17",
                                    "8": "2022-07-07 19:43:20.017"
                                },
                                {
                                    "0": "FactFinance100m",
                                    "1": "8",
                                    "2": "1",
                                    "3": "1",
                                    "4": "OPEN",
                                    "5": "100392",
                                    "6": "NULL",
                                    "7": "Table_5656864dfc4245699aef7ea313bce59e_18",
                                    "8": "2022-07-07 19:43:20.037"
                                },
                                {
                                    "0": "FactFinance100m",
                                    "1": "8",
                                    "2": "1",
                                    "3": "1",
                                    "4": "OPEN",
                                    "5": "100392",
                                    "6": "NULL",
                                    "7": "Table_5656864dfc4245699aef7ea313bce59e_19",
                                    "8": "2022-07-07 19:43:20.020"
                                },
                                {
                                    "0": "FactFinance100m",
                                    "1": "8",
                                    "2": "1",
                                    "3": "1",
                                    "4": "OPEN",
                                    "5": "100392",
                                    "6": "NULL",
                                    "7": "Table_5656864dfc4245699aef7ea313bce59e_20",
                                    "8": "2022-07-07 19:43:20.173"
                                },
                                {
                                    "0": "FactFinance100m",
                                    "1": "8",
                                    "2": "1",
                                    "3": "1",
                                    "4": "OPEN",
                                    "5": "100392",
                                    "6": "NULL",
                                    "7": "Table_5656864dfc4245699aef7ea313bce59e_21",
                                    "8": "2022-07-07 19:43:20.037"
                                },
                                {
                                    "0": "FactFinance100m",
                                    "1": "8",
                                    "2": "1",
                                    "3": "1",
                                    "4": "OPEN",
                                    "5": "100392",
                                    "6": "NULL",
                                    "7": "Table_5656864dfc4245699aef7ea313bce59e_22",
                                    "8": "2022-07-07 19:43:20.007"
                                },
                                {
                                    "0": "FactFinance100m",
                                    "1": "8",
                                    "2": "1",
                                    "3": "1",
                                    "4": "OPEN",
                                    "5": "100392",
                                    "6": "NULL",
                                    "7": "Table_5656864dfc4245699aef7ea313bce59e_23",
                                    "8": "2022-07-07 19:43:20.020"
                                },
                                {
                                    "0": "FactFinance100m",
                                    "1": "8",
                                    "2": "1",
                                    "3": "1",
                                    "4": "OPEN",
                                    "5": "100392",
                                    "6": "NULL",
                                    "7": "Table_5656864dfc4245699aef7ea313bce59e_24",
                                    "8": "2022-07-07 19:43:20.023"
                                },
                                {
                                    "0": "FactFinance100m",
                                    "1": "8",
                                    "2": "1",
                                    "3": "1",
                                    "4": "OPEN",
                                    "5": "100392",
                                    "6": "NULL",
                                    "7": "Table_5656864dfc4245699aef7ea313bce59e_25",
                                    "8": "2022-07-07 19:43:20.013"
                                },
                                {
                                    "0": "FactFinance100m",
                                    "1": "8",
                                    "2": "1",
                                    "3": "1",
                                    "4": "OPEN",
                                    "5": "100392",
                                    "6": "NULL",
                                    "7": "Table_5656864dfc4245699aef7ea313bce59e_26",
                                    "8": "2022-07-07 19:43:20.013"
                                },
                                {
                                    "0": "FactFinance100m",
                                    "1": "8",
                                    "2": "1",
                                    "3": "1",
                                    "4": "OPEN",
                                    "5": "100392",
                                    "6": "NULL",
                                    "7": "Table_5656864dfc4245699aef7ea313bce59e_27",
                                    "8": "2022-07-07 19:43:20.020"
                                },
                                {
                                    "0": "FactFinance100m",
                                    "1": "8",
                                    "2": "1",
                                    "3": "1",
                                    "4": "OPEN",
                                    "5": "100392",
                                    "6": "NULL",
                                    "7": "Table_5656864dfc4245699aef7ea313bce59e_28",
                                    "8": "2022-07-07 19:43:20.030"
                                },
                                {
                                    "0": "FactFinance100m",
                                    "1": "8",
                                    "2": "1",
                                    "3": "1",
                                    "4": "OPEN",
                                    "5": "100392",
                                    "6": "NULL",
                                    "7": "Table_5656864dfc4245699aef7ea313bce59e_29",
                                    "8": "2022-07-07 19:43:20.017"
                                },
                                {
                                    "0": "FactFinance100m",
                                    "1": "8",
                                    "2": "1",
                                    "3": "1",
                                    "4": "OPEN",
                                    "5": "99996",
                                    "6": "NULL",
                                    "7": "Table_5656864dfc4245699aef7ea313bce59e_30",
                                    "8": "2022-07-07 19:43:20.027"
                                },
                                {
                                    "0": "FactFinance100m",
                                    "1": "8",
                                    "2": "1",
                                    "3": "1",
                                    "4": "OPEN",
                                    "5": "99828",
                                    "6": "NULL",
                                    "7": "Table_5656864dfc4245699aef7ea313bce59e_31",
                                    "8": "2022-07-07 19:43:19.997"
                                },
                                {
                                    "0": "FactFinance100m",
                                    "1": "8",
                                    "2": "1",
                                    "3": "1",
                                    "4": "OPEN",
                                    "5": "99828",
                                    "6": "NULL",
                                    "7": "Table_5656864dfc4245699aef7ea313bce59e_32",
                                    "8": "2022-07-07 19:43:19.963"
                                },
                                {
                                    "0": "FactFinance100m",
                                    "1": "8",
                                    "2": "1",
                                    "3": "1",
                                    "4": "OPEN",
                                    "5": "99828",
                                    "6": "NULL",
                                    "7": "Table_5656864dfc4245699aef7ea313bce59e_33",
                                    "8": "2022-07-07 19:43:19.987"
                                },
                                {
                                    "0": "FactFinance100m",
                                    "1": "8",
                                    "2": "1",
                                    "3": "1",
                                    "4": "OPEN",
                                    "5": "99828",
                                    "6": "NULL",
                                    "7": "Table_5656864dfc4245699aef7ea313bce59e_34",
                                    "8": "2022-07-07 19:43:19.970"
                                },
                                {
                                    "0": "FactFinance100m",
                                    "1": "8",
                                    "2": "1",
                                    "3": "1",
                                    "4": "OPEN",
                                    "5": "99828",
                                    "6": "NULL",
                                    "7": "Table_5656864dfc4245699aef7ea313bce59e_35",
                                    "8": "2022-07-07 19:43:20.213"
                                },
                                {
                                    "0": "FactFinance100m",
                                    "1": "8",
                                    "2": "1",
                                    "3": "1",
                                    "4": "OPEN",
                                    "5": "99828",
                                    "6": "NULL",
                                    "7": "Table_5656864dfc4245699aef7ea313bce59e_36",
                                    "8": "2022-07-07 19:43:19.993"
                                },
                                {
                                    "0": "FactFinance100m",
                                    "1": "8",
                                    "2": "1",
                                    "3": "1",
                                    "4": "OPEN",
                                    "5": "99828",
                                    "6": "NULL",
                                    "7": "Table_5656864dfc4245699aef7ea313bce59e_37",
                                    "8": "2022-07-07 19:43:19.990"
                                },
                                {
                                    "0": "FactFinance100m",
                                    "1": "8",
                                    "2": "1",
                                    "3": "1",
                                    "4": "OPEN",
                                    "5": "99828",
                                    "6": "NULL",
                                    "7": "Table_5656864dfc4245699aef7ea313bce59e_38",
                                    "8": "2022-07-07 19:43:19.993"
                                },
                                {
                                    "0": "FactFinance100m",
                                    "1": "8",
                                    "2": "1",
                                    "3": "1",
                                    "4": "OPEN",
                                    "5": "99828",
                                    "6": "NULL",
                                    "7": "Table_5656864dfc4245699aef7ea313bce59e_39",
                                    "8": "2022-07-07 19:43:19.993"
                                },
                                {
                                    "0": "FactFinance100m",
                                    "1": "8",
                                    "2": "1",
                                    "3": "1",
                                    "4": "OPEN",
                                    "5": "99828",
                                    "6": "NULL",
                                    "7": "Table_5656864dfc4245699aef7ea313bce59e_40",
                                    "8": "2022-07-07 19:43:19.963"
                                },
                                {
                                    "0": "FactFinance100m",
                                    "1": "8",
                                    "2": "1",
                                    "3": "1",
                                    "4": "OPEN",
                                    "5": "99828",
                                    "6": "NULL",
                                    "7": "Table_5656864dfc4245699aef7ea313bce59e_41",
                                    "8": "2022-07-07 19:43:19.987"
                                },
                                {
                                    "0": "FactFinance100m",
                                    "1": "8",
                                    "2": "1",
                                    "3": "1",
                                    "4": "OPEN",
                                    "5": "99828",
                                    "6": "NULL",
                                    "7": "Table_5656864dfc4245699aef7ea313bce59e_42",
                                    "8": "2022-07-07 19:43:20.217"
                                },
                                {
                                    "0": "FactFinance100m",
                                    "1": "8",
                                    "2": "1",
                                    "3": "1",
                                    "4": "OPEN",
                                    "5": "99828",
                                    "6": "NULL",
                                    "7": "Table_5656864dfc4245699aef7ea313bce59e_43",
                                    "8": "2022-07-07 19:43:19.970"
                                },
                                {
                                    "0": "FactFinance100m",
                                    "1": "8",
                                    "2": "1",
                                    "3": "1",
                                    "4": "OPEN",
                                    "5": "99828",
                                    "6": "NULL",
                                    "7": "Table_5656864dfc4245699aef7ea313bce59e_44",
                                    "8": "2022-07-07 19:43:20.223"
                                },
                                {
                                    "0": "FactFinance100m",
                                    "1": "8",
                                    "2": "1",
                                    "3": "1",
                                    "4": "OPEN",
                                    "5": "99828",
                                    "6": "NULL",
                                    "7": "Table_5656864dfc4245699aef7ea313bce59e_45",
                                    "8": "2022-07-07 19:43:19.960"
                                },
                                {
                                    "0": "FactFinance100m",
                                    "1": "8",
                                    "2": "1",
                                    "3": "1",
                                    "4": "OPEN",
                                    "5": "99828",
                                    "6": "NULL",
                                    "7": "Table_5656864dfc4245699aef7ea313bce59e_46",
                                    "8": "2022-07-07 19:43:20.000"
                                },
                                {
                                    "0": "FactFinance100m",
                                    "1": "8",
                                    "2": "1",
                                    "3": "1",
                                    "4": "OPEN",
                                    "5": "99828",
                                    "6": "NULL",
                                    "7": "Table_5656864dfc4245699aef7ea313bce59e_47",
                                    "8": "2022-07-07 19:43:20.227"
                                },
                                {
                                    "0": "FactFinance100m",
                                    "1": "8",
                                    "2": "1",
                                    "3": "1",
                                    "4": "OPEN",
                                    "5": "99828",
                                    "6": "NULL",
                                    "7": "Table_5656864dfc4245699aef7ea313bce59e_48",
                                    "8": "2022-07-07 19:43:19.993"
                                },
                                {
                                    "0": "FactFinance100m",
                                    "1": "8",
                                    "2": "1",
                                    "3": "1",
                                    "4": "OPEN",
                                    "5": "99828",
                                    "6": "NULL",
                                    "7": "Table_5656864dfc4245699aef7ea313bce59e_49",
                                    "8": "2022-07-07 19:43:19.967"
                                },
                                {
                                    "0": "FactFinance100m",
                                    "1": "8",
                                    "2": "1",
                                    "3": "1",
                                    "4": "OPEN",
                                    "5": "99828",
                                    "6": "NULL",
                                    "7": "Table_5656864dfc4245699aef7ea313bce59e_50",
                                    "8": "2022-07-07 19:43:19.967"
                                },
                                {
                                    "0": "FactFinance100m",
                                    "1": "8",
                                    "2": "1",
                                    "3": "1",
                                    "4": "OPEN",
                                    "5": "99828",
                                    "6": "NULL",
                                    "7": "Table_5656864dfc4245699aef7ea313bce59e_51",
                                    "8": "2022-07-07 19:43:19.990"
                                },
                                {
                                    "0": "FactFinance100m",
                                    "1": "8",
                                    "2": "1",
                                    "3": "1",
                                    "4": "OPEN",
                                    "5": "99828",
                                    "6": "NULL",
                                    "7": "Table_5656864dfc4245699aef7ea313bce59e_52",
                                    "8": "2022-07-07 19:43:19.967"
                                },
                                {
                                    "0": "FactFinance100m",
                                    "1": "8",
                                    "2": "1",
                                    "3": "1",
                                    "4": "OPEN",
                                    "5": "99828",
                                    "6": "NULL",
                                    "7": "Table_5656864dfc4245699aef7ea313bce59e_53",
                                    "8": "2022-07-07 19:43:19.987"
                                },
                                {
                                    "0": "FactFinance100m",
                                    "1": "8",
                                    "2": "1",
                                    "3": "1",
                                    "4": "OPEN",
                                    "5": "99828",
                                    "6": "NULL",
                                    "7": "Table_5656864dfc4245699aef7ea313bce59e_54",
                                    "8": "2022-07-07 19:43:19.957"
                                },
                                {
                                    "0": "FactFinance100m",
                                    "1": "8",
                                    "2": "1",
                                    "3": "1",
                                    "4": "OPEN",
                                    "5": "99828",
                                    "6": "NULL",
                                    "7": "Table_5656864dfc4245699aef7ea313bce59e_55",
                                    "8": "2022-07-07 19:43:20.137"
                                },
                                {
                                    "0": "FactFinance100m",
                                    "1": "8",
                                    "2": "1",
                                    "3": "1",
                                    "4": "OPEN",
                                    "5": "99828",
                                    "6": "NULL",
                                    "7": "Table_5656864dfc4245699aef7ea313bce59e_56",
                                    "8": "2022-07-07 19:43:20.280"
                                },
                                {
                                    "0": "FactFinance100m",
                                    "1": "8",
                                    "2": "1",
                                    "3": "1",
                                    "4": "OPEN",
                                    "5": "99828",
                                    "6": "NULL",
                                    "7": "Table_5656864dfc4245699aef7ea313bce59e_57",
                                    "8": "2022-07-07 19:43:20.200"
                                },
                                {
                                    "0": "FactFinance100m",
                                    "1": "8",
                                    "2": "1",
                                    "3": "1",
                                    "4": "OPEN",
                                    "5": "99828",
                                    "6": "NULL",
                                    "7": "Table_5656864dfc4245699aef7ea313bce59e_58",
                                    "8": "2022-07-07 19:43:20.333"
                                },
                                {
                                    "0": "FactFinance100m",
                                    "1": "8",
                                    "2": "1",
                                    "3": "1",
                                    "4": "OPEN",
                                    "5": "99828",
                                    "6": "NULL",
                                    "7": "Table_5656864dfc4245699aef7ea313bce59e_59",
                                    "8": "2022-07-07 19:43:19.970"
                                },
                                {
                                    "0": "FactFinance100m",
                                    "1": "8",
                                    "2": "1",
                                    "3": "1",
                                    "4": "OPEN",
                                    "5": "99828",
                                    "6": "NULL",
                                    "7": "Table_5656864dfc4245699aef7ea313bce59e_60",
                                    "8": "2022-07-07 19:43:19.990"
                                },
                                {
                                    "0": "FactFinance100m",
                                    "1": "7",
                                    "2": "1",
                                    "3": "3",
                                    "4": "COMPRESSED",
                                    "5": "999972",
                                    "6": "REORG",
                                    "7": "Table_5656864dfc4245699aef7ea313bce59e_1",
                                    "8": "2022-07-07 19:23:08.850"
                                },
                                {
                                    "0": "FactFinance100m",
                                    "1": "7",
                                    "2": "1",
                                    "3": "3",
                                    "4": "COMPRESSED",
                                    "5": "999972",
                                    "6": "REORG",
                                    "7": "Table_5656864dfc4245699aef7ea313bce59e_2",
                                    "8": "2022-07-07 19:23:08.810"
                                },
                                {
                                    "0": "FactFinance100m",
                                    "1": "7",
                                    "2": "1",
                                    "3": "3",
                                    "4": "COMPRESSED",
                                    "5": "999972",
                                    "6": "REORG",
                                    "7": "Table_5656864dfc4245699aef7ea313bce59e_3",
                                    "8": "2022-07-07 19:23:12.073"
                                },
                                {
                                    "0": "FactFinance100m",
                                    "1": "7",
                                    "2": "1",
                                    "3": "3",
                                    "4": "COMPRESSED",
                                    "5": "999972",
                                    "6": "REORG",
                                    "7": "Table_5656864dfc4245699aef7ea313bce59e_4",
                                    "8": "2022-07-07 19:23:08.893"
                                },
                                {
                                    "0": "FactFinance100m",
                                    "1": "7",
                                    "2": "1",
                                    "3": "3",
                                    "4": "COMPRESSED",
                                    "5": "999972",
                                    "6": "REORG",
                                    "7": "Table_5656864dfc4245699aef7ea313bce59e_5",
                                    "8": "2022-07-07 19:23:12.150"
                                },
                                {
                                    "0": "FactFinance100m",
                                    "1": "7",
                                    "2": "1",
                                    "3": "3",
                                    "4": "COMPRESSED",
                                    "5": "999972",
                                    "6": "REORG",
                                    "7": "Table_5656864dfc4245699aef7ea313bce59e_6",
                                    "8": "2022-07-07 19:23:09.033"
                                },
                                {
                                    "0": "FactFinance100m",
                                    "1": "7",
                                    "2": "1",
                                    "3": "3",
                                    "4": "COMPRESSED",
                                    "5": "999972",
                                    "6": "REORG",
                                    "7": "Table_5656864dfc4245699aef7ea313bce59e_7",
                                    "8": "2022-07-07 19:23:08.720"
                                },
                                {
                                    "0": "FactFinance100m",
                                    "1": "7",
                                    "2": "1",
                                    "3": "3",
                                    "4": "COMPRESSED",
                                    "5": "999972",
                                    "6": "REORG",
                                    "7": "Table_5656864dfc4245699aef7ea313bce59e_8",
                                    "8": "2022-07-07 19:23:08.937"
                                },
                                {
                                    "0": "FactFinance100m",
                                    "1": "7",
                                    "2": "1",
                                    "3": "3",
                                    "4": "COMPRESSED",
                                    "5": "999972",
                                    "6": "REORG",
                                    "7": "Table_5656864dfc4245699aef7ea313bce59e_9",
                                    "8": "2022-07-07 19:23:08.817"
                                },
                                {
                                    "0": "FactFinance100m",
                                    "1": "7",
                                    "2": "1",
                                    "3": "3",
                                    "4": "COMPRESSED",
                                    "5": "999972",
                                    "6": "REORG",
                                    "7": "Table_5656864dfc4245699aef7ea313bce59e_10",
                                    "8": "2022-07-07 19:23:08.940"
                                },
                                {
                                    "0": "FactFinance100m",
                                    "1": "7",
                                    "2": "1",
                                    "3": "3",
                                    "4": "COMPRESSED",
                                    "5": "999972",
                                    "6": "REORG",
                                    "7": "Table_5656864dfc4245699aef7ea313bce59e_11",
                                    "8": "2022-07-07 19:23:08.810"
                                },
                                {
                                    "0": "FactFinance100m",
                                    "1": "7",
                                    "2": "1",
                                    "3": "3",
                                    "4": "COMPRESSED",
                                    "5": "999972",
                                    "6": "REORG",
                                    "7": "Table_5656864dfc4245699aef7ea313bce59e_12",
                                    "8": "2022-07-07 19:23:12.100"
                                },
                                {
                                    "0": "FactFinance100m",
                                    "1": "7",
                                    "2": "1",
                                    "3": "3",
                                    "4": "COMPRESSED",
                                    "5": "999972",
                                    "6": "REORG",
                                    "7": "Table_5656864dfc4245699aef7ea313bce59e_13",
                                    "8": "2022-07-07 19:23:08.940"
                                },
                                {
                                    "0": "FactFinance100m",
                                    "1": "7",
                                    "2": "1",
                                    "3": "3",
                                    "4": "COMPRESSED",
                                    "5": "999972",
                                    "6": "REORG",
                                    "7": "Table_5656864dfc4245699aef7ea313bce59e_14",
                                    "8": "2022-07-07 19:23:09.010"
                                },
                                {
                                    "0": "FactFinance100m",
                                    "1": "7",
                                    "2": "1",
                                    "3": "3",
                                    "4": "COMPRESSED",
                                    "5": "999972",
                                    "6": "REORG",
                                    "7": "Table_5656864dfc4245699aef7ea313bce59e_15",
                                    "8": "2022-07-07 19:23:12.130"
                                },
                                {
                                    "0": "FactFinance100m",
                                    "1": "7",
                                    "2": "1",
                                    "3": "3",
                                    "4": "COMPRESSED",
                                    "5": "999972",
                                    "6": "REORG",
                                    "7": "Table_5656864dfc4245699aef7ea313bce59e_16",
                                    "8": "2022-07-07 19:23:08.957"
                                },
                                {
                                    "0": "FactFinance100m",
                                    "1": "7",
                                    "2": "1",
                                    "3": "3",
                                    "4": "COMPRESSED",
                                    "5": "999972",
                                    "6": "REORG",
                                    "7": "Table_5656864dfc4245699aef7ea313bce59e_17",
                                    "8": "2022-07-07 19:23:08.770"
                                },
                                {
                                    "0": "FactFinance100m",
                                    "1": "7",
                                    "2": "1",
                                    "3": "3",
                                    "4": "COMPRESSED",
                                    "5": "999972",
                                    "6": "REORG",
                                    "7": "Table_5656864dfc4245699aef7ea313bce59e_18",
                                    "8": "2022-07-07 19:23:08.930"
                                },
                                {
                                    "0": "FactFinance100m",
                                    "1": "7",
                                    "2": "1",
                                    "3": "3",
                                    "4": "COMPRESSED",
                                    "5": "999972",
                                    "6": "REORG",
                                    "7": "Table_5656864dfc4245699aef7ea313bce59e_19",
                                    "8": "2022-07-07 19:23:08.843"
                                },
                                {
                                    "0": "FactFinance100m",
                                    "1": "7",
                                    "2": "1",
                                    "3": "3",
                                    "4": "COMPRESSED",
                                    "5": "999972",
                                    "6": "REORG",
                                    "7": "Table_5656864dfc4245699aef7ea313bce59e_20",
                                    "8": "2022-07-07 19:23:08.773"
                                },
                                {
                                    "0": "FactFinance100m",
                                    "1": "7",
                                    "2": "1",
                                    "3": "3",
                                    "4": "COMPRESSED",
                                    "5": "999972",
                                    "6": "REORG",
                                    "7": "Table_5656864dfc4245699aef7ea313bce59e_21",
                                    "8": "2022-07-07 19:23:08.863"
                                },
                                {
                                    "0": "FactFinance100m",
                                    "1": "7",
                                    "2": "1",
                                    "3": "3",
                                    "4": "COMPRESSED",
                                    "5": "999972",
                                    "6": "REORG",
                                    "7": "Table_5656864dfc4245699aef7ea313bce59e_22",
                                    "8": "2022-07-07 19:23:09.033"
                                },
                                {
                                    "0": "FactFinance100m",
                                    "1": "7",
                                    "2": "1",
                                    "3": "3",
                                    "4": "COMPRESSED",
                                    "5": "999972",
                                    "6": "REORG",
                                    "7": "Table_5656864dfc4245699aef7ea313bce59e_23",
                                    "8": "2022-07-07 19:23:08.820"
                                },
                                {
                                    "0": "FactFinance100m",
                                    "1": "7",
                                    "2": "1",
                                    "3": "3",
                                    "4": "COMPRESSED",
                                    "5": "999972",
                                    "6": "REORG",
                                    "7": "Table_5656864dfc4245699aef7ea313bce59e_24",
                                    "8": "2022-07-07 19:23:08.993"
                                },
                                {
                                    "0": "FactFinance100m",
                                    "1": "7",
                                    "2": "1",
                                    "3": "3",
                                    "4": "COMPRESSED",
                                    "5": "999972",
                                    "6": "REORG",
                                    "7": "Table_5656864dfc4245699aef7ea313bce59e_25",
                                    "8": "2022-07-07 19:23:08.920"
                                },
                                {
                                    "0": "FactFinance100m",
                                    "1": "7",
                                    "2": "1",
                                    "3": "3",
                                    "4": "COMPRESSED",
                                    "5": "999972",
                                    "6": "REORG",
                                    "7": "Table_5656864dfc4245699aef7ea313bce59e_26",
                                    "8": "2022-07-07 19:23:08.773"
                                },
                                {
                                    "0": "FactFinance100m",
                                    "1": "7",
                                    "2": "1",
                                    "3": "3",
                                    "4": "COMPRESSED",
                                    "5": "999972",
                                    "6": "REORG",
                                    "7": "Table_5656864dfc4245699aef7ea313bce59e_27",
                                    "8": "2022-07-07 19:23:08.863"
                                },
                                {
                                    "0": "FactFinance100m",
                                    "1": "7",
                                    "2": "1",
                                    "3": "3",
                                    "4": "COMPRESSED",
                                    "5": "999972",
                                    "6": "REORG",
                                    "7": "Table_5656864dfc4245699aef7ea313bce59e_28",
                                    "8": "2022-07-07 19:23:08.687"
                                },
                                {
                                    "0": "FactFinance100m",
                                    "1": "7",
                                    "2": "1",
                                    "3": "3",
                                    "4": "COMPRESSED",
                                    "5": "999972",
                                    "6": "REORG",
                                    "7": "Table_5656864dfc4245699aef7ea313bce59e_29",
                                    "8": "2022-07-07 19:23:08.990"
                                },
                                {
                                    "0": "FactFinance100m",
                                    "1": "7",
                                    "2": "1",
                                    "3": "3",
                                    "4": "COMPRESSED",
                                    "5": "999972",
                                    "6": "REORG",
                                    "7": "Table_5656864dfc4245699aef7ea313bce59e_30",
                                    "8": "2022-07-07 19:23:08.783"
                                },
                                {
                                    "0": "FactFinance100m",
                                    "1": "7",
                                    "2": "1",
                                    "3": "3",
                                    "4": "COMPRESSED",
                                    "5": "999972",
                                    "6": "REORG",
                                    "7": "Table_5656864dfc4245699aef7ea313bce59e_31",
                                    "8": "2022-07-07 19:23:09.040"
                                },
                                {
                                    "0": "FactFinance100m",
                                    "1": "7",
                                    "2": "1",
                                    "3": "3",
                                    "4": "COMPRESSED",
                                    "5": "999972",
                                    "6": "REORG",
                                    "7": "Table_5656864dfc4245699aef7ea313bce59e_32",
                                    "8": "2022-07-07 19:23:08.830"
                                },
                                {
                                    "0": "FactFinance100m",
                                    "1": "7",
                                    "2": "1",
                                    "3": "3",
                                    "4": "COMPRESSED",
                                    "5": "999972",
                                    "6": "REORG",
                                    "7": "Table_5656864dfc4245699aef7ea313bce59e_33",
                                    "8": "2022-07-07 19:23:09.113"
                                },
                                {
                                    "0": "FactFinance100m",
                                    "1": "7",
                                    "2": "1",
                                    "3": "3",
                                    "4": "COMPRESSED",
                                    "5": "999972",
                                    "6": "REORG",
                                    "7": "Table_5656864dfc4245699aef7ea313bce59e_34",
                                    "8": "2022-07-07 19:23:08.797"
                                },
                                {
                                    "0": "FactFinance100m",
                                    "1": "7",
                                    "2": "1",
                                    "3": "3",
                                    "4": "COMPRESSED",
                                    "5": "999972",
                                    "6": "REORG",
                                    "7": "Table_5656864dfc4245699aef7ea313bce59e_35",
                                    "8": "2022-07-07 19:23:09.167"
                                },
                                {
                                    "0": "FactFinance100m",
                                    "1": "7",
                                    "2": "1",
                                    "3": "3",
                                    "4": "COMPRESSED",
                                    "5": "999972",
                                    "6": "REORG",
                                    "7": "Table_5656864dfc4245699aef7ea313bce59e_36",
                                    "8": "2022-07-07 19:23:09.040"
                                },
                                {
                                    "0": "FactFinance100m",
                                    "1": "7",
                                    "2": "1",
                                    "3": "3",
                                    "4": "COMPRESSED",
                                    "5": "999972",
                                    "6": "REORG",
                                    "7": "Table_5656864dfc4245699aef7ea313bce59e_37",
                                    "8": "2022-07-07 19:23:08.683"
                                },
                                {
                                    "0": "FactFinance100m",
                                    "1": "7",
                                    "2": "1",
                                    "3": "3",
                                    "4": "COMPRESSED",
                                    "5": "999972",
                                    "6": "REORG",
                                    "7": "Table_5656864dfc4245699aef7ea313bce59e_38",
                                    "8": "2022-07-07 19:23:09.070"
                                },
                                {
                                    "0": "FactFinance100m",
                                    "1": "7",
                                    "2": "1",
                                    "3": "3",
                                    "4": "COMPRESSED",
                                    "5": "999972",
                                    "6": "REORG",
                                    "7": "Table_5656864dfc4245699aef7ea313bce59e_39",
                                    "8": "2022-07-07 19:23:09.117"
                                },
                                {
                                    "0": "FactFinance100m",
                                    "1": "7",
                                    "2": "1",
                                    "3": "3",
                                    "4": "COMPRESSED",
                                    "5": "999972",
                                    "6": "REORG",
                                    "7": "Table_5656864dfc4245699aef7ea313bce59e_40",
                                    "8": "2022-07-07 19:23:08.840"
                                },
                                {
                                    "0": "FactFinance100m",
                                    "1": "7",
                                    "2": "1",
                                    "3": "3",
                                    "4": "COMPRESSED",
                                    "5": "999972",
                                    "6": "REORG",
                                    "7": "Table_5656864dfc4245699aef7ea313bce59e_41",
                                    "8": "2022-07-07 19:23:09.057"
                                },
                                {
                                    "0": "FactFinance100m",
                                    "1": "7",
                                    "2": "1",
                                    "3": "3",
                                    "4": "COMPRESSED",
                                    "5": "999972",
                                    "6": "REORG",
                                    "7": "Table_5656864dfc4245699aef7ea313bce59e_42",
                                    "8": "2022-07-07 19:23:09.123"
                                },
                                {
                                    "0": "FactFinance100m",
                                    "1": "7",
                                    "2": "1",
                                    "3": "3",
                                    "4": "COMPRESSED",
                                    "5": "999972",
                                    "6": "REORG",
                                    "7": "Table_5656864dfc4245699aef7ea313bce59e_43",
                                    "8": "2022-07-07 19:23:08.837"
                                },
                                {
                                    "0": "FactFinance100m",
                                    "1": "7",
                                    "2": "1",
                                    "3": "3",
                                    "4": "COMPRESSED",
                                    "5": "999972",
                                    "6": "REORG",
                                    "7": "Table_5656864dfc4245699aef7ea313bce59e_44",
                                    "8": "2022-07-07 19:23:09.227"
                                },
                                {
                                    "0": "FactFinance100m",
                                    "1": "7",
                                    "2": "1",
                                    "3": "3",
                                    "4": "COMPRESSED",
                                    "5": "999972",
                                    "6": "REORG",
                                    "7": "Table_5656864dfc4245699aef7ea313bce59e_45",
                                    "8": "2022-07-07 19:23:08.883"
                                },
                                {
                                    "0": "FactFinance100m",
                                    "1": "7",
                                    "2": "1",
                                    "3": "3",
                                    "4": "COMPRESSED",
                                    "5": "999972",
                                    "6": "REORG",
                                    "7": "Table_5656864dfc4245699aef7ea313bce59e_46",
                                    "8": "2022-07-07 19:23:08.657"
                                },
                                {
                                    "0": "FactFinance100m",
                                    "1": "7",
                                    "2": "1",
                                    "3": "3",
                                    "4": "COMPRESSED",
                                    "5": "999972",
                                    "6": "REORG",
                                    "7": "Table_5656864dfc4245699aef7ea313bce59e_47",
                                    "8": "2022-07-07 19:23:09.163"
                                },
                                {
                                    "0": "FactFinance100m",
                                    "1": "7",
                                    "2": "1",
                                    "3": "3",
                                    "4": "COMPRESSED",
                                    "5": "999972",
                                    "6": "REORG",
                                    "7": "Table_5656864dfc4245699aef7ea313bce59e_48",
                                    "8": "2022-07-07 19:23:09.470"
                                },
                                {
                                    "0": "FactFinance100m",
                                    "1": "7",
                                    "2": "1",
                                    "3": "3",
                                    "4": "COMPRESSED",
                                    "5": "999972",
                                    "6": "REORG",
                                    "7": "Table_5656864dfc4245699aef7ea313bce59e_49",
                                    "8": "2022-07-07 19:23:08.783"
                                },
                                {
                                    "0": "FactFinance100m",
                                    "1": "7",
                                    "2": "1",
                                    "3": "3",
                                    "4": "COMPRESSED",
                                    "5": "999972",
                                    "6": "REORG",
                                    "7": "Table_5656864dfc4245699aef7ea313bce59e_50",
                                    "8": "2022-07-07 19:23:08.710"
                                },
                                {
                                    "0": "FactFinance100m",
                                    "1": "7",
                                    "2": "1",
                                    "3": "3",
                                    "4": "COMPRESSED",
                                    "5": "999972",
                                    "6": "REORG",
                                    "7": "Table_5656864dfc4245699aef7ea313bce59e_51",
                                    "8": "2022-07-07 19:23:09.253"
                                },
                                {
                                    "0": "FactFinance100m",
                                    "1": "7",
                                    "2": "1",
                                    "3": "3",
                                    "4": "COMPRESSED",
                                    "5": "999972",
                                    "6": "REORG",
                                    "7": "Table_5656864dfc4245699aef7ea313bce59e_52",
                                    "8": "2022-07-07 19:23:08.780"
                                },
                                {
                                    "0": "FactFinance100m",
                                    "1": "7",
                                    "2": "1",
                                    "3": "3",
                                    "4": "COMPRESSED",
                                    "5": "999972",
                                    "6": "REORG",
                                    "7": "Table_5656864dfc4245699aef7ea313bce59e_53",
                                    "8": "2022-07-07 19:23:08.827"
                                },
                                {
                                    "0": "FactFinance100m",
                                    "1": "7",
                                    "2": "1",
                                    "3": "3",
                                    "4": "COMPRESSED",
                                    "5": "999972",
                                    "6": "REORG",
                                    "7": "Table_5656864dfc4245699aef7ea313bce59e_54",
                                    "8": "2022-07-07 19:23:08.857"
                                },
                                {
                                    "0": "FactFinance100m",
                                    "1": "7",
                                    "2": "1",
                                    "3": "3",
                                    "4": "COMPRESSED",
                                    "5": "999972",
                                    "6": "REORG",
                                    "7": "Table_5656864dfc4245699aef7ea313bce59e_55",
                                    "8": "2022-07-07 19:23:09.127"
                                },
                                {
                                    "0": "FactFinance100m",
                                    "1": "7",
                                    "2": "1",
                                    "3": "3",
                                    "4": "COMPRESSED",
                                    "5": "999972",
                                    "6": "REORG",
                                    "7": "Table_5656864dfc4245699aef7ea313bce59e_56",
                                    "8": "2022-07-07 19:23:09.040"
                                },
                                {
                                    "0": "FactFinance100m",
                                    "1": "7",
                                    "2": "1",
                                    "3": "3",
                                    "4": "COMPRESSED",
                                    "5": "999972",
                                    "6": "REORG",
                                    "7": "Table_5656864dfc4245699aef7ea313bce59e_57",
                                    "8": "2022-07-07 19:23:08.867"
                                },
                                {
                                    "0": "FactFinance100m",
                                    "1": "7",
                                    "2": "1",
                                    "3": "3",
                                    "4": "COMPRESSED",
                                    "5": "999972",
                                    "6": "REORG",
                                    "7": "Table_5656864dfc4245699aef7ea313bce59e_58",
                                    "8": "2022-07-07 19:23:09.330"
                                },
                                {
                                    "0": "FactFinance100m",
                                    "1": "7",
                                    "2": "1",
                                    "3": "3",
                                    "4": "COMPRESSED",
                                    "5": "999972",
                                    "6": "REORG",
                                    "7": "Table_5656864dfc4245699aef7ea313bce59e_59",
                                    "8": "2022-07-07 19:23:08.723"
                                },
                                {
                                    "0": "FactFinance100m",
                                    "1": "7",
                                    "2": "1",
                                    "3": "3",
                                    "4": "COMPRESSED",
                                    "5": "999972",
                                    "6": "REORG",
                                    "7": "Table_5656864dfc4245699aef7ea313bce59e_60",
                                    "8": "2022-07-07 19:23:09.060"
                                },
                                {
                                    "0": "FactFinance100m",
                                    "1": "6",
                                    "2": "1",
                                    "3": "3",
                                    "4": "COMPRESSED",
                                    "5": "999972",
                                    "6": "REORG",
                                    "7": "Table_5656864dfc4245699aef7ea313bce59e_1",
                                    "8": "2022-07-07 19:23:05.950"
                                },
                                {
                                    "0": "FactFinance100m",
                                    "1": "6",
                                    "2": "1",
                                    "3": "3",
                                    "4": "COMPRESSED",
                                    "5": "999972",
                                    "6": "REORG",
                                    "7": "Table_5656864dfc4245699aef7ea313bce59e_2",
                                    "8": "2022-07-07 19:23:05.920"
                                },
                                {
                                    "0": "FactFinance100m",
                                    "1": "6",
                                    "2": "1",
                                    "3": "3",
                                    "4": "COMPRESSED",
                                    "5": "999972",
                                    "6": "REORG",
                                    "7": "Table_5656864dfc4245699aef7ea313bce59e_3",
                                    "8": "2022-07-07 19:23:07.943"
                                },
                                {
                                    "0": "FactFinance100m",
                                    "1": "6",
                                    "2": "1",
                                    "3": "3",
                                    "4": "COMPRESSED",
                                    "5": "1000532",
                                    "6": "REORG",
                                    "7": "Table_5656864dfc4245699aef7ea313bce59e_4",
                                    "8": "2022-07-07 19:23:05.937"
                                },
                                {
                                    "0": "FactFinance100m",
                                    "1": "6",
                                    "2": "1",
                                    "3": "3",
                                    "4": "COMPRESSED",
                                    "5": "999972",
                                    "6": "REORG",
                                    "7": "Table_5656864dfc4245699aef7ea313bce59e_5",
                                    "8": "2022-07-07 19:23:07.930"
                                },
                                {
                                    "0": "FactFinance100m",
                                    "1": "6",
                                    "2": "1",
                                    "3": "3",
                                    "4": "COMPRESSED",
                                    "5": "999972",
                                    "6": "REORG",
                                    "7": "Table_5656864dfc4245699aef7ea313bce59e_6",
                                    "8": "2022-07-07 19:23:06.097"
                                },
                                {
                                    "0": "FactFinance100m",
                                    "1": "6",
                                    "2": "1",
                                    "3": "3",
                                    "4": "COMPRESSED",
                                    "5": "999972",
                                    "6": "REORG",
                                    "7": "Table_5656864dfc4245699aef7ea313bce59e_7",
                                    "8": "2022-07-07 19:23:05.880"
                                },
                                {
                                    "0": "FactFinance100m",
                                    "1": "6",
                                    "2": "1",
                                    "3": "3",
                                    "4": "COMPRESSED",
                                    "5": "999972",
                                    "6": "REORG",
                                    "7": "Table_5656864dfc4245699aef7ea313bce59e_8",
                                    "8": "2022-07-07 19:23:05.990"
                                },
                                {
                                    "0": "FactFinance100m",
                                    "1": "6",
                                    "2": "1",
                                    "3": "3",
                                    "4": "COMPRESSED",
                                    "5": "999972",
                                    "6": "REORG",
                                    "7": "Table_5656864dfc4245699aef7ea313bce59e_9",
                                    "8": "2022-07-07 19:23:05.910"
                                },
                                {
                                    "0": "FactFinance100m",
                                    "1": "6",
                                    "2": "1",
                                    "3": "3",
                                    "4": "COMPRESSED",
                                    "5": "999972",
                                    "6": "REORG",
                                    "7": "Table_5656864dfc4245699aef7ea313bce59e_10",
                                    "8": "2022-07-07 19:23:05.953"
                                },
                                {
                                    "0": "FactFinance100m",
                                    "1": "6",
                                    "2": "1",
                                    "3": "3",
                                    "4": "COMPRESSED",
                                    "5": "999972",
                                    "6": "REORG",
                                    "7": "Table_5656864dfc4245699aef7ea313bce59e_11",
                                    "8": "2022-07-07 19:23:05.897"
                                },
                                {
                                    "0": "FactFinance100m",
                                    "1": "6",
                                    "2": "1",
                                    "3": "3",
                                    "4": "COMPRESSED",
                                    "5": "999972",
                                    "6": "REORG",
                                    "7": "Table_5656864dfc4245699aef7ea313bce59e_12",
                                    "8": "2022-07-07 19:23:07.843"
                                },
                                {
                                    "0": "FactFinance100m",
                                    "1": "6",
                                    "2": "1",
                                    "3": "3",
                                    "4": "COMPRESSED",
                                    "5": "999972",
                                    "6": "REORG",
                                    "7": "Table_5656864dfc4245699aef7ea313bce59e_13",
                                    "8": "2022-07-07 19:23:05.997"
                                },
                                {
                                    "0": "FactFinance100m",
                                    "1": "6",
                                    "2": "1",
                                    "3": "3",
                                    "4": "COMPRESSED",
                                    "5": "999972",
                                    "6": "REORG",
                                    "7": "Table_5656864dfc4245699aef7ea313bce59e_14",
                                    "8": "2022-07-07 19:23:05.990"
                                },
                                {
                                    "0": "FactFinance100m",
                                    "1": "6",
                                    "2": "1",
                                    "3": "3",
                                    "4": "COMPRESSED",
                                    "5": "1000532",
                                    "6": "REORG",
                                    "7": "Table_5656864dfc4245699aef7ea313bce59e_15",
                                    "8": "2022-07-07 19:23:07.927"
                                },
                                {
                                    "0": "FactFinance100m",
                                    "1": "6",
                                    "2": "1",
                                    "3": "3",
                                    "4": "COMPRESSED",
                                    "5": "999972",
                                    "6": "REORG",
                                    "7": "Table_5656864dfc4245699aef7ea313bce59e_16",
                                    "8": "2022-07-07 19:23:05.887"
                                },
                                {
                                    "0": "FactFinance100m",
                                    "1": "6",
                                    "2": "1",
                                    "3": "3",
                                    "4": "COMPRESSED",
                                    "5": "1000532",
                                    "6": "REORG",
                                    "7": "Table_5656864dfc4245699aef7ea313bce59e_17",
                                    "8": "2022-07-07 19:23:05.883"
                                },
                                {
                                    "0": "FactFinance100m",
                                    "1": "6",
                                    "2": "1",
                                    "3": "3",
                                    "4": "COMPRESSED",
                                    "5": "999972",
                                    "6": "REORG",
                                    "7": "Table_5656864dfc4245699aef7ea313bce59e_18",
                                    "8": "2022-07-07 19:23:05.967"
                                },
                                {
                                    "0": "FactFinance100m",
                                    "1": "6",
                                    "2": "1",
                                    "3": "3",
                                    "4": "COMPRESSED",
                                    "5": "999972",
                                    "6": "REORG",
                                    "7": "Table_5656864dfc4245699aef7ea313bce59e_19",
                                    "8": "2022-07-07 19:23:05.913"
                                },
                                {
                                    "0": "FactFinance100m",
                                    "1": "6",
                                    "2": "1",
                                    "3": "3",
                                    "4": "COMPRESSED",
                                    "5": "999972",
                                    "6": "REORG",
                                    "7": "Table_5656864dfc4245699aef7ea313bce59e_20",
                                    "8": "2022-07-07 19:23:05.900"
                                },
                                {
                                    "0": "FactFinance100m",
                                    "1": "6",
                                    "2": "1",
                                    "3": "3",
                                    "4": "COMPRESSED",
                                    "5": "999972",
                                    "6": "REORG",
                                    "7": "Table_5656864dfc4245699aef7ea313bce59e_21",
                                    "8": "2022-07-07 19:23:05.947"
                                },
                                {
                                    "0": "FactFinance100m",
                                    "1": "6",
                                    "2": "1",
                                    "3": "3",
                                    "4": "COMPRESSED",
                                    "5": "999972",
                                    "6": "REORG",
                                    "7": "Table_5656864dfc4245699aef7ea313bce59e_22",
                                    "8": "2022-07-07 19:23:05.980"
                                },
                                {
                                    "0": "FactFinance100m",
                                    "1": "6",
                                    "2": "1",
                                    "3": "3",
                                    "4": "COMPRESSED",
                                    "5": "999972",
                                    "6": "REORG",
                                    "7": "Table_5656864dfc4245699aef7ea313bce59e_23",
                                    "8": "2022-07-07 19:23:05.887"
                                },
                                {
                                    "0": "FactFinance100m",
                                    "1": "6",
                                    "2": "1",
                                    "3": "3",
                                    "4": "COMPRESSED",
                                    "5": "999972",
                                    "6": "REORG",
                                    "7": "Table_5656864dfc4245699aef7ea313bce59e_24",
                                    "8": "2022-07-07 19:23:05.957"
                                },
                                {
                                    "0": "FactFinance100m",
                                    "1": "6",
                                    "2": "1",
                                    "3": "3",
                                    "4": "COMPRESSED",
                                    "5": "999972",
                                    "6": "REORG",
                                    "7": "Table_5656864dfc4245699aef7ea313bce59e_25",
                                    "8": "2022-07-07 19:23:05.963"
                                },
                                {
                                    "0": "FactFinance100m",
                                    "1": "6",
                                    "2": "1",
                                    "3": "3",
                                    "4": "COMPRESSED",
                                    "5": "999972",
                                    "6": "REORG",
                                    "7": "Table_5656864dfc4245699aef7ea313bce59e_26",
                                    "8": "2022-07-07 19:23:05.823"
                                },
                                {
                                    "0": "FactFinance100m",
                                    "1": "6",
                                    "2": "1",
                                    "3": "3",
                                    "4": "COMPRESSED",
                                    "5": "999972",
                                    "6": "REORG",
                                    "7": "Table_5656864dfc4245699aef7ea313bce59e_27",
                                    "8": "2022-07-07 19:23:05.890"
                                },
                                {
                                    "0": "FactFinance100m",
                                    "1": "6",
                                    "2": "1",
                                    "3": "3",
                                    "4": "COMPRESSED",
                                    "5": "999972",
                                    "6": "REORG",
                                    "7": "Table_5656864dfc4245699aef7ea313bce59e_28",
                                    "8": "2022-07-07 19:23:05.853"
                                },
                                {
                                    "0": "FactFinance100m",
                                    "1": "6",
                                    "2": "1",
                                    "3": "3",
                                    "4": "COMPRESSED",
                                    "5": "999972",
                                    "6": "REORG",
                                    "7": "Table_5656864dfc4245699aef7ea313bce59e_29",
                                    "8": "2022-07-07 19:23:05.960"
                                },
                                {
                                    "0": "FactFinance100m",
                                    "1": "6",
                                    "2": "1",
                                    "3": "3",
                                    "4": "COMPRESSED",
                                    "5": "999972",
                                    "6": "REORG",
                                    "7": "Table_5656864dfc4245699aef7ea313bce59e_30",
                                    "8": "2022-07-07 19:23:05.887"
                                },
                                {
                                    "0": "FactFinance100m",
                                    "1": "6",
                                    "2": "1",
                                    "3": "3",
                                    "4": "COMPRESSED",
                                    "5": "999972",
                                    "6": "REORG",
                                    "7": "Table_5656864dfc4245699aef7ea313bce59e_31",
                                    "8": "2022-07-07 19:23:06.053"
                                },
                                {
                                    "0": "FactFinance100m",
                                    "1": "6",
                                    "2": "1",
                                    "3": "3",
                                    "4": "COMPRESSED",
                                    "5": "999972",
                                    "6": "REORG",
                                    "7": "Table_5656864dfc4245699aef7ea313bce59e_32",
                                    "8": "2022-07-07 19:23:05.897"
                                },
                                {
                                    "0": "FactFinance100m",
                                    "1": "6",
                                    "2": "1",
                                    "3": "3",
                                    "4": "COMPRESSED",
                                    "5": "999972",
                                    "6": "REORG",
                                    "7": "Table_5656864dfc4245699aef7ea313bce59e_33",
                                    "8": "2022-07-07 19:23:06.010"
                                },
                                {
                                    "0": "FactFinance100m",
                                    "1": "6",
                                    "2": "1",
                                    "3": "3",
                                    "4": "COMPRESSED",
                                    "5": "999972",
                                    "6": "REORG",
                                    "7": "Table_5656864dfc4245699aef7ea313bce59e_34",
                                    "8": "2022-07-07 19:23:05.860"
                                },
                                {
                                    "0": "FactFinance100m",
                                    "1": "6",
                                    "2": "1",
                                    "3": "3",
                                    "4": "COMPRESSED",
                                    "5": "999972",
                                    "6": "REORG",
                                    "7": "Table_5656864dfc4245699aef7ea313bce59e_35",
                                    "8": "2022-07-07 19:23:06.133"
                                },
                                {
                                    "0": "FactFinance100m",
                                    "1": "6",
                                    "2": "1",
                                    "3": "3",
                                    "4": "COMPRESSED",
                                    "5": "999972",
                                    "6": "REORG",
                                    "7": "Table_5656864dfc4245699aef7ea313bce59e_36",
                                    "8": "2022-07-07 19:23:06.000"
                                },
                                {
                                    "0": "FactFinance100m",
                                    "1": "6",
                                    "2": "1",
                                    "3": "3",
                                    "4": "COMPRESSED",
                                    "5": "999972",
                                    "6": "REORG",
                                    "7": "Table_5656864dfc4245699aef7ea313bce59e_37",
                                    "8": "2022-07-07 19:23:05.827"
                                },
                                {
                                    "0": "FactFinance100m",
                                    "1": "6",
                                    "2": "1",
                                    "3": "3",
                                    "4": "COMPRESSED",
                                    "5": "999972",
                                    "6": "REORG",
                                    "7": "Table_5656864dfc4245699aef7ea313bce59e_38",
                                    "8": "2022-07-07 19:23:06.033"
                                },
                                {
                                    "0": "FactFinance100m",
                                    "1": "6",
                                    "2": "1",
                                    "3": "3",
                                    "4": "COMPRESSED",
                                    "5": "999972",
                                    "6": "REORG",
                                    "7": "Table_5656864dfc4245699aef7ea313bce59e_39",
                                    "8": "2022-07-07 19:23:06.120"
                                },
                                {
                                    "0": "FactFinance100m",
                                    "1": "6",
                                    "2": "1",
                                    "3": "3",
                                    "4": "COMPRESSED",
                                    "5": "999972",
                                    "6": "REORG",
                                    "7": "Table_5656864dfc4245699aef7ea313bce59e_40",
                                    "8": "2022-07-07 19:23:05.767"
                                },
                                {
                                    "0": "FactFinance100m",
                                    "1": "6",
                                    "2": "1",
                                    "3": "3",
                                    "4": "COMPRESSED",
                                    "5": "999972",
                                    "6": "REORG",
                                    "7": "Table_5656864dfc4245699aef7ea313bce59e_41",
                                    "8": "2022-07-07 19:23:06.027"
                                },
                                {
                                    "0": "FactFinance100m",
                                    "1": "6",
                                    "2": "1",
                                    "3": "3",
                                    "4": "COMPRESSED",
                                    "5": "999972",
                                    "6": "REORG",
                                    "7": "Table_5656864dfc4245699aef7ea313bce59e_42",
                                    "8": "2022-07-07 19:23:06.150"
                                },
                                {
                                    "0": "FactFinance100m",
                                    "1": "6",
                                    "2": "1",
                                    "3": "3",
                                    "4": "COMPRESSED",
                                    "5": "999972",
                                    "6": "REORG",
                                    "7": "Table_5656864dfc4245699aef7ea313bce59e_43",
                                    "8": "2022-07-07 19:23:05.867"
                                },
                                {
                                    "0": "FactFinance100m",
                                    "1": "6",
                                    "2": "1",
                                    "3": "3",
                                    "4": "COMPRESSED",
                                    "5": "1000532",
                                    "6": "REORG",
                                    "7": "Table_5656864dfc4245699aef7ea313bce59e_44",
                                    "8": "2022-07-07 19:23:06.240"
                                },
                                {
                                    "0": "FactFinance100m",
                                    "1": "6",
                                    "2": "1",
                                    "3": "3",
                                    "4": "COMPRESSED",
                                    "5": "999972",
                                    "6": "REORG",
                                    "7": "Table_5656864dfc4245699aef7ea313bce59e_45",
                                    "8": "2022-07-07 19:23:05.967"
                                },
                                {
                                    "0": "FactFinance100m",
                                    "1": "6",
                                    "2": "1",
                                    "3": "3",
                                    "4": "COMPRESSED",
                                    "5": "1000532",
                                    "6": "REORG",
                                    "7": "Table_5656864dfc4245699aef7ea313bce59e_46",
                                    "8": "2022-07-07 19:23:05.717"
                                },
                                {
                                    "0": "FactFinance100m",
                                    "1": "6",
                                    "2": "1",
                                    "3": "3",
                                    "4": "COMPRESSED",
                                    "5": "999972",
                                    "6": "REORG",
                                    "7": "Table_5656864dfc4245699aef7ea313bce59e_47",
                                    "8": "2022-07-07 19:23:06.107"
                                },
                                {
                                    "0": "FactFinance100m",
                                    "1": "6",
                                    "2": "1",
                                    "3": "3",
                                    "4": "COMPRESSED",
                                    "5": "999972",
                                    "6": "REORG",
                                    "7": "Table_5656864dfc4245699aef7ea313bce59e_48",
                                    "8": "2022-07-07 19:23:06.110"
                                },
                                {
                                    "0": "FactFinance100m",
                                    "1": "6",
                                    "2": "1",
                                    "3": "3",
                                    "4": "COMPRESSED",
                                    "5": "999972",
                                    "6": "REORG",
                                    "7": "Table_5656864dfc4245699aef7ea313bce59e_49",
                                    "8": "2022-07-07 19:23:05.833"
                                },
                                {
                                    "0": "FactFinance100m",
                                    "1": "6",
                                    "2": "1",
                                    "3": "3",
                                    "4": "COMPRESSED",
                                    "5": "999972",
                                    "6": "REORG",
                                    "7": "Table_5656864dfc4245699aef7ea313bce59e_50",
                                    "8": "2022-07-07 19:23:05.770"
                                },
                                {
                                    "0": "FactFinance100m",
                                    "1": "6",
                                    "2": "1",
                                    "3": "3",
                                    "4": "COMPRESSED",
                                    "5": "999972",
                                    "6": "REORG",
                                    "7": "Table_5656864dfc4245699aef7ea313bce59e_51",
                                    "8": "2022-07-07 19:23:06.210"
                                },
                                {
                                    "0": "FactFinance100m",
                                    "1": "6",
                                    "2": "1",
                                    "3": "3",
                                    "4": "COMPRESSED",
                                    "5": "1000532",
                                    "6": "REORG",
                                    "7": "Table_5656864dfc4245699aef7ea313bce59e_52",
                                    "8": "2022-07-07 19:23:05.847"
                                },
                                {
                                    "0": "FactFinance100m",
                                    "1": "6",
                                    "2": "1",
                                    "3": "3",
                                    "4": "COMPRESSED",
                                    "5": "999972",
                                    "6": "REORG",
                                    "7": "Table_5656864dfc4245699aef7ea313bce59e_53",
                                    "8": "2022-07-07 19:23:05.860"
                                },
                                {
                                    "0": "FactFinance100m",
                                    "1": "6",
                                    "2": "1",
                                    "3": "3",
                                    "4": "COMPRESSED",
                                    "5": "999972",
                                    "6": "REORG",
                                    "7": "Table_5656864dfc4245699aef7ea313bce59e_54",
                                    "8": "2022-07-07 19:23:05.840"
                                },
                                {
                                    "0": "FactFinance100m",
                                    "1": "6",
                                    "2": "1",
                                    "3": "3",
                                    "4": "COMPRESSED",
                                    "5": "999972",
                                    "6": "REORG",
                                    "7": "Table_5656864dfc4245699aef7ea313bce59e_55",
                                    "8": "2022-07-07 19:23:06.097"
                                },
                                {
                                    "0": "FactFinance100m",
                                    "1": "6",
                                    "2": "1",
                                    "3": "3",
                                    "4": "COMPRESSED",
                                    "5": "999972",
                                    "6": "REORG",
                                    "7": "Table_5656864dfc4245699aef7ea313bce59e_56",
                                    "8": "2022-07-07 19:23:06.090"
                                },
                                {
                                    "0": "FactFinance100m",
                                    "1": "6",
                                    "2": "1",
                                    "3": "3",
                                    "4": "COMPRESSED",
                                    "5": "999972",
                                    "6": "REORG",
                                    "7": "Table_5656864dfc4245699aef7ea313bce59e_57",
                                    "8": "2022-07-07 19:23:05.917"
                                },
                                {
                                    "0": "FactFinance100m",
                                    "1": "6",
                                    "2": "1",
                                    "3": "3",
                                    "4": "COMPRESSED",
                                    "5": "999972",
                                    "6": "REORG",
                                    "7": "Table_5656864dfc4245699aef7ea313bce59e_58",
                                    "8": "2022-07-07 19:23:06.337"
                                },
                                {
                                    "0": "FactFinance100m",
                                    "1": "6",
                                    "2": "1",
                                    "3": "3",
                                    "4": "COMPRESSED",
                                    "5": "999972",
                                    "6": "REORG",
                                    "7": "Table_5656864dfc4245699aef7ea313bce59e_59",
                                    "8": "2022-07-07 19:23:05.810"
                                },
                                {
                                    "0": "FactFinance100m",
                                    "1": "6",
                                    "2": "1",
                                    "3": "3",
                                    "4": "COMPRESSED",
                                    "5": "999972",
                                    "6": "REORG",
                                    "7": "Table_5656864dfc4245699aef7ea313bce59e_60",
                                    "8": "2022-07-07 19:23:06.090"
                                }
                            ]
                        },
                        "text/html": [
                            "<table>",
                            "<tr><th>logical_table_name</th><th>row_group_id</th><th>partition_number</th><th>state</th><th>state_desc</th><th>total_rows</th><th>trim_reason_desc</th><th>physical_name</th><th>created_time</th></tr>",
                            "<tr><td>FactFinance100m</td><td>8</td><td>1</td><td>1</td><td>OPEN</td><td>99828</td><td>NULL</td><td>Table_5656864dfc4245699aef7ea313bce59e_1</td><td>2022-07-07 19:43:20.030</td></tr>",
                            "<tr><td>FactFinance100m</td><td>8</td><td>1</td><td>1</td><td>OPEN</td><td>99828</td><td>NULL</td><td>Table_5656864dfc4245699aef7ea313bce59e_2</td><td>2022-07-07 19:43:20.033</td></tr>",
                            "<tr><td>FactFinance100m</td><td>8</td><td>1</td><td>1</td><td>OPEN</td><td>99828</td><td>NULL</td><td>Table_5656864dfc4245699aef7ea313bce59e_3</td><td>2022-07-07 19:43:20.037</td></tr>",
                            "<tr><td>FactFinance100m</td><td>8</td><td>1</td><td>1</td><td>OPEN</td><td>99828</td><td>NULL</td><td>Table_5656864dfc4245699aef7ea313bce59e_4</td><td>2022-07-07 19:43:20.017</td></tr>",
                            "<tr><td>FactFinance100m</td><td>8</td><td>1</td><td>1</td><td>OPEN</td><td>99828</td><td>NULL</td><td>Table_5656864dfc4245699aef7ea313bce59e_5</td><td>2022-07-07 19:43:20.020</td></tr>",
                            "<tr><td>FactFinance100m</td><td>8</td><td>1</td><td>1</td><td>OPEN</td><td>99828</td><td>NULL</td><td>Table_5656864dfc4245699aef7ea313bce59e_6</td><td>2022-07-07 19:43:20.037</td></tr>",
                            "<tr><td>FactFinance100m</td><td>8</td><td>1</td><td>1</td><td>OPEN</td><td>99828</td><td>NULL</td><td>Table_5656864dfc4245699aef7ea313bce59e_7</td><td>2022-07-07 19:43:20.020</td></tr>",
                            "<tr><td>FactFinance100m</td><td>8</td><td>1</td><td>1</td><td>OPEN</td><td>99828</td><td>NULL</td><td>Table_5656864dfc4245699aef7ea313bce59e_8</td><td>2022-07-07 19:43:20.147</td></tr>",
                            "<tr><td>FactFinance100m</td><td>8</td><td>1</td><td>1</td><td>OPEN</td><td>99828</td><td>NULL</td><td>Table_5656864dfc4245699aef7ea313bce59e_9</td><td>2022-07-07 19:43:20.020</td></tr>",
                            "<tr><td>FactFinance100m</td><td>8</td><td>1</td><td>1</td><td>OPEN</td><td>99828</td><td>NULL</td><td>Table_5656864dfc4245699aef7ea313bce59e_10</td><td>2022-07-07 19:43:20.007</td></tr>",
                            "<tr><td>FactFinance100m</td><td>8</td><td>1</td><td>1</td><td>OPEN</td><td>99828</td><td>NULL</td><td>Table_5656864dfc4245699aef7ea313bce59e_11</td><td>2022-07-07 19:43:20.223</td></tr>",
                            "<tr><td>FactFinance100m</td><td>8</td><td>1</td><td>1</td><td>OPEN</td><td>100392</td><td>NULL</td><td>Table_5656864dfc4245699aef7ea313bce59e_12</td><td>2022-07-07 19:43:20.037</td></tr>",
                            "<tr><td>FactFinance100m</td><td>8</td><td>1</td><td>1</td><td>OPEN</td><td>100392</td><td>NULL</td><td>Table_5656864dfc4245699aef7ea313bce59e_13</td><td>2022-07-07 19:43:20.040</td></tr>",
                            "<tr><td>FactFinance100m</td><td>8</td><td>1</td><td>1</td><td>OPEN</td><td>100392</td><td>NULL</td><td>Table_5656864dfc4245699aef7ea313bce59e_14</td><td>2022-07-07 19:43:20.290</td></tr>",
                            "<tr><td>FactFinance100m</td><td>8</td><td>1</td><td>1</td><td>OPEN</td><td>100392</td><td>NULL</td><td>Table_5656864dfc4245699aef7ea313bce59e_15</td><td>2022-07-07 19:43:20.037</td></tr>",
                            "<tr><td>FactFinance100m</td><td>8</td><td>1</td><td>1</td><td>OPEN</td><td>100392</td><td>NULL</td><td>Table_5656864dfc4245699aef7ea313bce59e_16</td><td>2022-07-07 19:43:20.027</td></tr>",
                            "<tr><td>FactFinance100m</td><td>8</td><td>1</td><td>1</td><td>OPEN</td><td>100392</td><td>NULL</td><td>Table_5656864dfc4245699aef7ea313bce59e_17</td><td>2022-07-07 19:43:20.017</td></tr>",
                            "<tr><td>FactFinance100m</td><td>8</td><td>1</td><td>1</td><td>OPEN</td><td>100392</td><td>NULL</td><td>Table_5656864dfc4245699aef7ea313bce59e_18</td><td>2022-07-07 19:43:20.037</td></tr>",
                            "<tr><td>FactFinance100m</td><td>8</td><td>1</td><td>1</td><td>OPEN</td><td>100392</td><td>NULL</td><td>Table_5656864dfc4245699aef7ea313bce59e_19</td><td>2022-07-07 19:43:20.020</td></tr>",
                            "<tr><td>FactFinance100m</td><td>8</td><td>1</td><td>1</td><td>OPEN</td><td>100392</td><td>NULL</td><td>Table_5656864dfc4245699aef7ea313bce59e_20</td><td>2022-07-07 19:43:20.173</td></tr>",
                            "<tr><td>FactFinance100m</td><td>8</td><td>1</td><td>1</td><td>OPEN</td><td>100392</td><td>NULL</td><td>Table_5656864dfc4245699aef7ea313bce59e_21</td><td>2022-07-07 19:43:20.037</td></tr>",
                            "<tr><td>FactFinance100m</td><td>8</td><td>1</td><td>1</td><td>OPEN</td><td>100392</td><td>NULL</td><td>Table_5656864dfc4245699aef7ea313bce59e_22</td><td>2022-07-07 19:43:20.007</td></tr>",
                            "<tr><td>FactFinance100m</td><td>8</td><td>1</td><td>1</td><td>OPEN</td><td>100392</td><td>NULL</td><td>Table_5656864dfc4245699aef7ea313bce59e_23</td><td>2022-07-07 19:43:20.020</td></tr>",
                            "<tr><td>FactFinance100m</td><td>8</td><td>1</td><td>1</td><td>OPEN</td><td>100392</td><td>NULL</td><td>Table_5656864dfc4245699aef7ea313bce59e_24</td><td>2022-07-07 19:43:20.023</td></tr>",
                            "<tr><td>FactFinance100m</td><td>8</td><td>1</td><td>1</td><td>OPEN</td><td>100392</td><td>NULL</td><td>Table_5656864dfc4245699aef7ea313bce59e_25</td><td>2022-07-07 19:43:20.013</td></tr>",
                            "<tr><td>FactFinance100m</td><td>8</td><td>1</td><td>1</td><td>OPEN</td><td>100392</td><td>NULL</td><td>Table_5656864dfc4245699aef7ea313bce59e_26</td><td>2022-07-07 19:43:20.013</td></tr>",
                            "<tr><td>FactFinance100m</td><td>8</td><td>1</td><td>1</td><td>OPEN</td><td>100392</td><td>NULL</td><td>Table_5656864dfc4245699aef7ea313bce59e_27</td><td>2022-07-07 19:43:20.020</td></tr>",
                            "<tr><td>FactFinance100m</td><td>8</td><td>1</td><td>1</td><td>OPEN</td><td>100392</td><td>NULL</td><td>Table_5656864dfc4245699aef7ea313bce59e_28</td><td>2022-07-07 19:43:20.030</td></tr>",
                            "<tr><td>FactFinance100m</td><td>8</td><td>1</td><td>1</td><td>OPEN</td><td>100392</td><td>NULL</td><td>Table_5656864dfc4245699aef7ea313bce59e_29</td><td>2022-07-07 19:43:20.017</td></tr>",
                            "<tr><td>FactFinance100m</td><td>8</td><td>1</td><td>1</td><td>OPEN</td><td>99996</td><td>NULL</td><td>Table_5656864dfc4245699aef7ea313bce59e_30</td><td>2022-07-07 19:43:20.027</td></tr>",
                            "<tr><td>FactFinance100m</td><td>8</td><td>1</td><td>1</td><td>OPEN</td><td>99828</td><td>NULL</td><td>Table_5656864dfc4245699aef7ea313bce59e_31</td><td>2022-07-07 19:43:19.997</td></tr>",
                            "<tr><td>FactFinance100m</td><td>8</td><td>1</td><td>1</td><td>OPEN</td><td>99828</td><td>NULL</td><td>Table_5656864dfc4245699aef7ea313bce59e_32</td><td>2022-07-07 19:43:19.963</td></tr>",
                            "<tr><td>FactFinance100m</td><td>8</td><td>1</td><td>1</td><td>OPEN</td><td>99828</td><td>NULL</td><td>Table_5656864dfc4245699aef7ea313bce59e_33</td><td>2022-07-07 19:43:19.987</td></tr>",
                            "<tr><td>FactFinance100m</td><td>8</td><td>1</td><td>1</td><td>OPEN</td><td>99828</td><td>NULL</td><td>Table_5656864dfc4245699aef7ea313bce59e_34</td><td>2022-07-07 19:43:19.970</td></tr>",
                            "<tr><td>FactFinance100m</td><td>8</td><td>1</td><td>1</td><td>OPEN</td><td>99828</td><td>NULL</td><td>Table_5656864dfc4245699aef7ea313bce59e_35</td><td>2022-07-07 19:43:20.213</td></tr>",
                            "<tr><td>FactFinance100m</td><td>8</td><td>1</td><td>1</td><td>OPEN</td><td>99828</td><td>NULL</td><td>Table_5656864dfc4245699aef7ea313bce59e_36</td><td>2022-07-07 19:43:19.993</td></tr>",
                            "<tr><td>FactFinance100m</td><td>8</td><td>1</td><td>1</td><td>OPEN</td><td>99828</td><td>NULL</td><td>Table_5656864dfc4245699aef7ea313bce59e_37</td><td>2022-07-07 19:43:19.990</td></tr>",
                            "<tr><td>FactFinance100m</td><td>8</td><td>1</td><td>1</td><td>OPEN</td><td>99828</td><td>NULL</td><td>Table_5656864dfc4245699aef7ea313bce59e_38</td><td>2022-07-07 19:43:19.993</td></tr>",
                            "<tr><td>FactFinance100m</td><td>8</td><td>1</td><td>1</td><td>OPEN</td><td>99828</td><td>NULL</td><td>Table_5656864dfc4245699aef7ea313bce59e_39</td><td>2022-07-07 19:43:19.993</td></tr>",
                            "<tr><td>FactFinance100m</td><td>8</td><td>1</td><td>1</td><td>OPEN</td><td>99828</td><td>NULL</td><td>Table_5656864dfc4245699aef7ea313bce59e_40</td><td>2022-07-07 19:43:19.963</td></tr>",
                            "<tr><td>FactFinance100m</td><td>8</td><td>1</td><td>1</td><td>OPEN</td><td>99828</td><td>NULL</td><td>Table_5656864dfc4245699aef7ea313bce59e_41</td><td>2022-07-07 19:43:19.987</td></tr>",
                            "<tr><td>FactFinance100m</td><td>8</td><td>1</td><td>1</td><td>OPEN</td><td>99828</td><td>NULL</td><td>Table_5656864dfc4245699aef7ea313bce59e_42</td><td>2022-07-07 19:43:20.217</td></tr>",
                            "<tr><td>FactFinance100m</td><td>8</td><td>1</td><td>1</td><td>OPEN</td><td>99828</td><td>NULL</td><td>Table_5656864dfc4245699aef7ea313bce59e_43</td><td>2022-07-07 19:43:19.970</td></tr>",
                            "<tr><td>FactFinance100m</td><td>8</td><td>1</td><td>1</td><td>OPEN</td><td>99828</td><td>NULL</td><td>Table_5656864dfc4245699aef7ea313bce59e_44</td><td>2022-07-07 19:43:20.223</td></tr>",
                            "<tr><td>FactFinance100m</td><td>8</td><td>1</td><td>1</td><td>OPEN</td><td>99828</td><td>NULL</td><td>Table_5656864dfc4245699aef7ea313bce59e_45</td><td>2022-07-07 19:43:19.960</td></tr>",
                            "<tr><td>FactFinance100m</td><td>8</td><td>1</td><td>1</td><td>OPEN</td><td>99828</td><td>NULL</td><td>Table_5656864dfc4245699aef7ea313bce59e_46</td><td>2022-07-07 19:43:20.000</td></tr>",
                            "<tr><td>FactFinance100m</td><td>8</td><td>1</td><td>1</td><td>OPEN</td><td>99828</td><td>NULL</td><td>Table_5656864dfc4245699aef7ea313bce59e_47</td><td>2022-07-07 19:43:20.227</td></tr>",
                            "<tr><td>FactFinance100m</td><td>8</td><td>1</td><td>1</td><td>OPEN</td><td>99828</td><td>NULL</td><td>Table_5656864dfc4245699aef7ea313bce59e_48</td><td>2022-07-07 19:43:19.993</td></tr>",
                            "<tr><td>FactFinance100m</td><td>8</td><td>1</td><td>1</td><td>OPEN</td><td>99828</td><td>NULL</td><td>Table_5656864dfc4245699aef7ea313bce59e_49</td><td>2022-07-07 19:43:19.967</td></tr>",
                            "<tr><td>FactFinance100m</td><td>8</td><td>1</td><td>1</td><td>OPEN</td><td>99828</td><td>NULL</td><td>Table_5656864dfc4245699aef7ea313bce59e_50</td><td>2022-07-07 19:43:19.967</td></tr>",
                            "<tr><td>FactFinance100m</td><td>8</td><td>1</td><td>1</td><td>OPEN</td><td>99828</td><td>NULL</td><td>Table_5656864dfc4245699aef7ea313bce59e_51</td><td>2022-07-07 19:43:19.990</td></tr>",
                            "<tr><td>FactFinance100m</td><td>8</td><td>1</td><td>1</td><td>OPEN</td><td>99828</td><td>NULL</td><td>Table_5656864dfc4245699aef7ea313bce59e_52</td><td>2022-07-07 19:43:19.967</td></tr>",
                            "<tr><td>FactFinance100m</td><td>8</td><td>1</td><td>1</td><td>OPEN</td><td>99828</td><td>NULL</td><td>Table_5656864dfc4245699aef7ea313bce59e_53</td><td>2022-07-07 19:43:19.987</td></tr>",
                            "<tr><td>FactFinance100m</td><td>8</td><td>1</td><td>1</td><td>OPEN</td><td>99828</td><td>NULL</td><td>Table_5656864dfc4245699aef7ea313bce59e_54</td><td>2022-07-07 19:43:19.957</td></tr>",
                            "<tr><td>FactFinance100m</td><td>8</td><td>1</td><td>1</td><td>OPEN</td><td>99828</td><td>NULL</td><td>Table_5656864dfc4245699aef7ea313bce59e_55</td><td>2022-07-07 19:43:20.137</td></tr>",
                            "<tr><td>FactFinance100m</td><td>8</td><td>1</td><td>1</td><td>OPEN</td><td>99828</td><td>NULL</td><td>Table_5656864dfc4245699aef7ea313bce59e_56</td><td>2022-07-07 19:43:20.280</td></tr>",
                            "<tr><td>FactFinance100m</td><td>8</td><td>1</td><td>1</td><td>OPEN</td><td>99828</td><td>NULL</td><td>Table_5656864dfc4245699aef7ea313bce59e_57</td><td>2022-07-07 19:43:20.200</td></tr>",
                            "<tr><td>FactFinance100m</td><td>8</td><td>1</td><td>1</td><td>OPEN</td><td>99828</td><td>NULL</td><td>Table_5656864dfc4245699aef7ea313bce59e_58</td><td>2022-07-07 19:43:20.333</td></tr>",
                            "<tr><td>FactFinance100m</td><td>8</td><td>1</td><td>1</td><td>OPEN</td><td>99828</td><td>NULL</td><td>Table_5656864dfc4245699aef7ea313bce59e_59</td><td>2022-07-07 19:43:19.970</td></tr>",
                            "<tr><td>FactFinance100m</td><td>8</td><td>1</td><td>1</td><td>OPEN</td><td>99828</td><td>NULL</td><td>Table_5656864dfc4245699aef7ea313bce59e_60</td><td>2022-07-07 19:43:19.990</td></tr>",
                            "<tr><td>FactFinance100m</td><td>7</td><td>1</td><td>3</td><td>COMPRESSED</td><td>999972</td><td>REORG</td><td>Table_5656864dfc4245699aef7ea313bce59e_1</td><td>2022-07-07 19:23:08.850</td></tr>",
                            "<tr><td>FactFinance100m</td><td>7</td><td>1</td><td>3</td><td>COMPRESSED</td><td>999972</td><td>REORG</td><td>Table_5656864dfc4245699aef7ea313bce59e_2</td><td>2022-07-07 19:23:08.810</td></tr>",
                            "<tr><td>FactFinance100m</td><td>7</td><td>1</td><td>3</td><td>COMPRESSED</td><td>999972</td><td>REORG</td><td>Table_5656864dfc4245699aef7ea313bce59e_3</td><td>2022-07-07 19:23:12.073</td></tr>",
                            "<tr><td>FactFinance100m</td><td>7</td><td>1</td><td>3</td><td>COMPRESSED</td><td>999972</td><td>REORG</td><td>Table_5656864dfc4245699aef7ea313bce59e_4</td><td>2022-07-07 19:23:08.893</td></tr>",
                            "<tr><td>FactFinance100m</td><td>7</td><td>1</td><td>3</td><td>COMPRESSED</td><td>999972</td><td>REORG</td><td>Table_5656864dfc4245699aef7ea313bce59e_5</td><td>2022-07-07 19:23:12.150</td></tr>",
                            "<tr><td>FactFinance100m</td><td>7</td><td>1</td><td>3</td><td>COMPRESSED</td><td>999972</td><td>REORG</td><td>Table_5656864dfc4245699aef7ea313bce59e_6</td><td>2022-07-07 19:23:09.033</td></tr>",
                            "<tr><td>FactFinance100m</td><td>7</td><td>1</td><td>3</td><td>COMPRESSED</td><td>999972</td><td>REORG</td><td>Table_5656864dfc4245699aef7ea313bce59e_7</td><td>2022-07-07 19:23:08.720</td></tr>",
                            "<tr><td>FactFinance100m</td><td>7</td><td>1</td><td>3</td><td>COMPRESSED</td><td>999972</td><td>REORG</td><td>Table_5656864dfc4245699aef7ea313bce59e_8</td><td>2022-07-07 19:23:08.937</td></tr>",
                            "<tr><td>FactFinance100m</td><td>7</td><td>1</td><td>3</td><td>COMPRESSED</td><td>999972</td><td>REORG</td><td>Table_5656864dfc4245699aef7ea313bce59e_9</td><td>2022-07-07 19:23:08.817</td></tr>",
                            "<tr><td>FactFinance100m</td><td>7</td><td>1</td><td>3</td><td>COMPRESSED</td><td>999972</td><td>REORG</td><td>Table_5656864dfc4245699aef7ea313bce59e_10</td><td>2022-07-07 19:23:08.940</td></tr>",
                            "<tr><td>FactFinance100m</td><td>7</td><td>1</td><td>3</td><td>COMPRESSED</td><td>999972</td><td>REORG</td><td>Table_5656864dfc4245699aef7ea313bce59e_11</td><td>2022-07-07 19:23:08.810</td></tr>",
                            "<tr><td>FactFinance100m</td><td>7</td><td>1</td><td>3</td><td>COMPRESSED</td><td>999972</td><td>REORG</td><td>Table_5656864dfc4245699aef7ea313bce59e_12</td><td>2022-07-07 19:23:12.100</td></tr>",
                            "<tr><td>FactFinance100m</td><td>7</td><td>1</td><td>3</td><td>COMPRESSED</td><td>999972</td><td>REORG</td><td>Table_5656864dfc4245699aef7ea313bce59e_13</td><td>2022-07-07 19:23:08.940</td></tr>",
                            "<tr><td>FactFinance100m</td><td>7</td><td>1</td><td>3</td><td>COMPRESSED</td><td>999972</td><td>REORG</td><td>Table_5656864dfc4245699aef7ea313bce59e_14</td><td>2022-07-07 19:23:09.010</td></tr>",
                            "<tr><td>FactFinance100m</td><td>7</td><td>1</td><td>3</td><td>COMPRESSED</td><td>999972</td><td>REORG</td><td>Table_5656864dfc4245699aef7ea313bce59e_15</td><td>2022-07-07 19:23:12.130</td></tr>",
                            "<tr><td>FactFinance100m</td><td>7</td><td>1</td><td>3</td><td>COMPRESSED</td><td>999972</td><td>REORG</td><td>Table_5656864dfc4245699aef7ea313bce59e_16</td><td>2022-07-07 19:23:08.957</td></tr>",
                            "<tr><td>FactFinance100m</td><td>7</td><td>1</td><td>3</td><td>COMPRESSED</td><td>999972</td><td>REORG</td><td>Table_5656864dfc4245699aef7ea313bce59e_17</td><td>2022-07-07 19:23:08.770</td></tr>",
                            "<tr><td>FactFinance100m</td><td>7</td><td>1</td><td>3</td><td>COMPRESSED</td><td>999972</td><td>REORG</td><td>Table_5656864dfc4245699aef7ea313bce59e_18</td><td>2022-07-07 19:23:08.930</td></tr>",
                            "<tr><td>FactFinance100m</td><td>7</td><td>1</td><td>3</td><td>COMPRESSED</td><td>999972</td><td>REORG</td><td>Table_5656864dfc4245699aef7ea313bce59e_19</td><td>2022-07-07 19:23:08.843</td></tr>",
                            "<tr><td>FactFinance100m</td><td>7</td><td>1</td><td>3</td><td>COMPRESSED</td><td>999972</td><td>REORG</td><td>Table_5656864dfc4245699aef7ea313bce59e_20</td><td>2022-07-07 19:23:08.773</td></tr>",
                            "<tr><td>FactFinance100m</td><td>7</td><td>1</td><td>3</td><td>COMPRESSED</td><td>999972</td><td>REORG</td><td>Table_5656864dfc4245699aef7ea313bce59e_21</td><td>2022-07-07 19:23:08.863</td></tr>",
                            "<tr><td>FactFinance100m</td><td>7</td><td>1</td><td>3</td><td>COMPRESSED</td><td>999972</td><td>REORG</td><td>Table_5656864dfc4245699aef7ea313bce59e_22</td><td>2022-07-07 19:23:09.033</td></tr>",
                            "<tr><td>FactFinance100m</td><td>7</td><td>1</td><td>3</td><td>COMPRESSED</td><td>999972</td><td>REORG</td><td>Table_5656864dfc4245699aef7ea313bce59e_23</td><td>2022-07-07 19:23:08.820</td></tr>",
                            "<tr><td>FactFinance100m</td><td>7</td><td>1</td><td>3</td><td>COMPRESSED</td><td>999972</td><td>REORG</td><td>Table_5656864dfc4245699aef7ea313bce59e_24</td><td>2022-07-07 19:23:08.993</td></tr>",
                            "<tr><td>FactFinance100m</td><td>7</td><td>1</td><td>3</td><td>COMPRESSED</td><td>999972</td><td>REORG</td><td>Table_5656864dfc4245699aef7ea313bce59e_25</td><td>2022-07-07 19:23:08.920</td></tr>",
                            "<tr><td>FactFinance100m</td><td>7</td><td>1</td><td>3</td><td>COMPRESSED</td><td>999972</td><td>REORG</td><td>Table_5656864dfc4245699aef7ea313bce59e_26</td><td>2022-07-07 19:23:08.773</td></tr>",
                            "<tr><td>FactFinance100m</td><td>7</td><td>1</td><td>3</td><td>COMPRESSED</td><td>999972</td><td>REORG</td><td>Table_5656864dfc4245699aef7ea313bce59e_27</td><td>2022-07-07 19:23:08.863</td></tr>",
                            "<tr><td>FactFinance100m</td><td>7</td><td>1</td><td>3</td><td>COMPRESSED</td><td>999972</td><td>REORG</td><td>Table_5656864dfc4245699aef7ea313bce59e_28</td><td>2022-07-07 19:23:08.687</td></tr>",
                            "<tr><td>FactFinance100m</td><td>7</td><td>1</td><td>3</td><td>COMPRESSED</td><td>999972</td><td>REORG</td><td>Table_5656864dfc4245699aef7ea313bce59e_29</td><td>2022-07-07 19:23:08.990</td></tr>",
                            "<tr><td>FactFinance100m</td><td>7</td><td>1</td><td>3</td><td>COMPRESSED</td><td>999972</td><td>REORG</td><td>Table_5656864dfc4245699aef7ea313bce59e_30</td><td>2022-07-07 19:23:08.783</td></tr>",
                            "<tr><td>FactFinance100m</td><td>7</td><td>1</td><td>3</td><td>COMPRESSED</td><td>999972</td><td>REORG</td><td>Table_5656864dfc4245699aef7ea313bce59e_31</td><td>2022-07-07 19:23:09.040</td></tr>",
                            "<tr><td>FactFinance100m</td><td>7</td><td>1</td><td>3</td><td>COMPRESSED</td><td>999972</td><td>REORG</td><td>Table_5656864dfc4245699aef7ea313bce59e_32</td><td>2022-07-07 19:23:08.830</td></tr>",
                            "<tr><td>FactFinance100m</td><td>7</td><td>1</td><td>3</td><td>COMPRESSED</td><td>999972</td><td>REORG</td><td>Table_5656864dfc4245699aef7ea313bce59e_33</td><td>2022-07-07 19:23:09.113</td></tr>",
                            "<tr><td>FactFinance100m</td><td>7</td><td>1</td><td>3</td><td>COMPRESSED</td><td>999972</td><td>REORG</td><td>Table_5656864dfc4245699aef7ea313bce59e_34</td><td>2022-07-07 19:23:08.797</td></tr>",
                            "<tr><td>FactFinance100m</td><td>7</td><td>1</td><td>3</td><td>COMPRESSED</td><td>999972</td><td>REORG</td><td>Table_5656864dfc4245699aef7ea313bce59e_35</td><td>2022-07-07 19:23:09.167</td></tr>",
                            "<tr><td>FactFinance100m</td><td>7</td><td>1</td><td>3</td><td>COMPRESSED</td><td>999972</td><td>REORG</td><td>Table_5656864dfc4245699aef7ea313bce59e_36</td><td>2022-07-07 19:23:09.040</td></tr>",
                            "<tr><td>FactFinance100m</td><td>7</td><td>1</td><td>3</td><td>COMPRESSED</td><td>999972</td><td>REORG</td><td>Table_5656864dfc4245699aef7ea313bce59e_37</td><td>2022-07-07 19:23:08.683</td></tr>",
                            "<tr><td>FactFinance100m</td><td>7</td><td>1</td><td>3</td><td>COMPRESSED</td><td>999972</td><td>REORG</td><td>Table_5656864dfc4245699aef7ea313bce59e_38</td><td>2022-07-07 19:23:09.070</td></tr>",
                            "<tr><td>FactFinance100m</td><td>7</td><td>1</td><td>3</td><td>COMPRESSED</td><td>999972</td><td>REORG</td><td>Table_5656864dfc4245699aef7ea313bce59e_39</td><td>2022-07-07 19:23:09.117</td></tr>",
                            "<tr><td>FactFinance100m</td><td>7</td><td>1</td><td>3</td><td>COMPRESSED</td><td>999972</td><td>REORG</td><td>Table_5656864dfc4245699aef7ea313bce59e_40</td><td>2022-07-07 19:23:08.840</td></tr>",
                            "<tr><td>FactFinance100m</td><td>7</td><td>1</td><td>3</td><td>COMPRESSED</td><td>999972</td><td>REORG</td><td>Table_5656864dfc4245699aef7ea313bce59e_41</td><td>2022-07-07 19:23:09.057</td></tr>",
                            "<tr><td>FactFinance100m</td><td>7</td><td>1</td><td>3</td><td>COMPRESSED</td><td>999972</td><td>REORG</td><td>Table_5656864dfc4245699aef7ea313bce59e_42</td><td>2022-07-07 19:23:09.123</td></tr>",
                            "<tr><td>FactFinance100m</td><td>7</td><td>1</td><td>3</td><td>COMPRESSED</td><td>999972</td><td>REORG</td><td>Table_5656864dfc4245699aef7ea313bce59e_43</td><td>2022-07-07 19:23:08.837</td></tr>",
                            "<tr><td>FactFinance100m</td><td>7</td><td>1</td><td>3</td><td>COMPRESSED</td><td>999972</td><td>REORG</td><td>Table_5656864dfc4245699aef7ea313bce59e_44</td><td>2022-07-07 19:23:09.227</td></tr>",
                            "<tr><td>FactFinance100m</td><td>7</td><td>1</td><td>3</td><td>COMPRESSED</td><td>999972</td><td>REORG</td><td>Table_5656864dfc4245699aef7ea313bce59e_45</td><td>2022-07-07 19:23:08.883</td></tr>",
                            "<tr><td>FactFinance100m</td><td>7</td><td>1</td><td>3</td><td>COMPRESSED</td><td>999972</td><td>REORG</td><td>Table_5656864dfc4245699aef7ea313bce59e_46</td><td>2022-07-07 19:23:08.657</td></tr>",
                            "<tr><td>FactFinance100m</td><td>7</td><td>1</td><td>3</td><td>COMPRESSED</td><td>999972</td><td>REORG</td><td>Table_5656864dfc4245699aef7ea313bce59e_47</td><td>2022-07-07 19:23:09.163</td></tr>",
                            "<tr><td>FactFinance100m</td><td>7</td><td>1</td><td>3</td><td>COMPRESSED</td><td>999972</td><td>REORG</td><td>Table_5656864dfc4245699aef7ea313bce59e_48</td><td>2022-07-07 19:23:09.470</td></tr>",
                            "<tr><td>FactFinance100m</td><td>7</td><td>1</td><td>3</td><td>COMPRESSED</td><td>999972</td><td>REORG</td><td>Table_5656864dfc4245699aef7ea313bce59e_49</td><td>2022-07-07 19:23:08.783</td></tr>",
                            "<tr><td>FactFinance100m</td><td>7</td><td>1</td><td>3</td><td>COMPRESSED</td><td>999972</td><td>REORG</td><td>Table_5656864dfc4245699aef7ea313bce59e_50</td><td>2022-07-07 19:23:08.710</td></tr>",
                            "<tr><td>FactFinance100m</td><td>7</td><td>1</td><td>3</td><td>COMPRESSED</td><td>999972</td><td>REORG</td><td>Table_5656864dfc4245699aef7ea313bce59e_51</td><td>2022-07-07 19:23:09.253</td></tr>",
                            "<tr><td>FactFinance100m</td><td>7</td><td>1</td><td>3</td><td>COMPRESSED</td><td>999972</td><td>REORG</td><td>Table_5656864dfc4245699aef7ea313bce59e_52</td><td>2022-07-07 19:23:08.780</td></tr>",
                            "<tr><td>FactFinance100m</td><td>7</td><td>1</td><td>3</td><td>COMPRESSED</td><td>999972</td><td>REORG</td><td>Table_5656864dfc4245699aef7ea313bce59e_53</td><td>2022-07-07 19:23:08.827</td></tr>",
                            "<tr><td>FactFinance100m</td><td>7</td><td>1</td><td>3</td><td>COMPRESSED</td><td>999972</td><td>REORG</td><td>Table_5656864dfc4245699aef7ea313bce59e_54</td><td>2022-07-07 19:23:08.857</td></tr>",
                            "<tr><td>FactFinance100m</td><td>7</td><td>1</td><td>3</td><td>COMPRESSED</td><td>999972</td><td>REORG</td><td>Table_5656864dfc4245699aef7ea313bce59e_55</td><td>2022-07-07 19:23:09.127</td></tr>",
                            "<tr><td>FactFinance100m</td><td>7</td><td>1</td><td>3</td><td>COMPRESSED</td><td>999972</td><td>REORG</td><td>Table_5656864dfc4245699aef7ea313bce59e_56</td><td>2022-07-07 19:23:09.040</td></tr>",
                            "<tr><td>FactFinance100m</td><td>7</td><td>1</td><td>3</td><td>COMPRESSED</td><td>999972</td><td>REORG</td><td>Table_5656864dfc4245699aef7ea313bce59e_57</td><td>2022-07-07 19:23:08.867</td></tr>",
                            "<tr><td>FactFinance100m</td><td>7</td><td>1</td><td>3</td><td>COMPRESSED</td><td>999972</td><td>REORG</td><td>Table_5656864dfc4245699aef7ea313bce59e_58</td><td>2022-07-07 19:23:09.330</td></tr>",
                            "<tr><td>FactFinance100m</td><td>7</td><td>1</td><td>3</td><td>COMPRESSED</td><td>999972</td><td>REORG</td><td>Table_5656864dfc4245699aef7ea313bce59e_59</td><td>2022-07-07 19:23:08.723</td></tr>",
                            "<tr><td>FactFinance100m</td><td>7</td><td>1</td><td>3</td><td>COMPRESSED</td><td>999972</td><td>REORG</td><td>Table_5656864dfc4245699aef7ea313bce59e_60</td><td>2022-07-07 19:23:09.060</td></tr>",
                            "<tr><td>FactFinance100m</td><td>6</td><td>1</td><td>3</td><td>COMPRESSED</td><td>999972</td><td>REORG</td><td>Table_5656864dfc4245699aef7ea313bce59e_1</td><td>2022-07-07 19:23:05.950</td></tr>",
                            "<tr><td>FactFinance100m</td><td>6</td><td>1</td><td>3</td><td>COMPRESSED</td><td>999972</td><td>REORG</td><td>Table_5656864dfc4245699aef7ea313bce59e_2</td><td>2022-07-07 19:23:05.920</td></tr>",
                            "<tr><td>FactFinance100m</td><td>6</td><td>1</td><td>3</td><td>COMPRESSED</td><td>999972</td><td>REORG</td><td>Table_5656864dfc4245699aef7ea313bce59e_3</td><td>2022-07-07 19:23:07.943</td></tr>",
                            "<tr><td>FactFinance100m</td><td>6</td><td>1</td><td>3</td><td>COMPRESSED</td><td>1000532</td><td>REORG</td><td>Table_5656864dfc4245699aef7ea313bce59e_4</td><td>2022-07-07 19:23:05.937</td></tr>",
                            "<tr><td>FactFinance100m</td><td>6</td><td>1</td><td>3</td><td>COMPRESSED</td><td>999972</td><td>REORG</td><td>Table_5656864dfc4245699aef7ea313bce59e_5</td><td>2022-07-07 19:23:07.930</td></tr>",
                            "<tr><td>FactFinance100m</td><td>6</td><td>1</td><td>3</td><td>COMPRESSED</td><td>999972</td><td>REORG</td><td>Table_5656864dfc4245699aef7ea313bce59e_6</td><td>2022-07-07 19:23:06.097</td></tr>",
                            "<tr><td>FactFinance100m</td><td>6</td><td>1</td><td>3</td><td>COMPRESSED</td><td>999972</td><td>REORG</td><td>Table_5656864dfc4245699aef7ea313bce59e_7</td><td>2022-07-07 19:23:05.880</td></tr>",
                            "<tr><td>FactFinance100m</td><td>6</td><td>1</td><td>3</td><td>COMPRESSED</td><td>999972</td><td>REORG</td><td>Table_5656864dfc4245699aef7ea313bce59e_8</td><td>2022-07-07 19:23:05.990</td></tr>",
                            "<tr><td>FactFinance100m</td><td>6</td><td>1</td><td>3</td><td>COMPRESSED</td><td>999972</td><td>REORG</td><td>Table_5656864dfc4245699aef7ea313bce59e_9</td><td>2022-07-07 19:23:05.910</td></tr>",
                            "<tr><td>FactFinance100m</td><td>6</td><td>1</td><td>3</td><td>COMPRESSED</td><td>999972</td><td>REORG</td><td>Table_5656864dfc4245699aef7ea313bce59e_10</td><td>2022-07-07 19:23:05.953</td></tr>",
                            "<tr><td>FactFinance100m</td><td>6</td><td>1</td><td>3</td><td>COMPRESSED</td><td>999972</td><td>REORG</td><td>Table_5656864dfc4245699aef7ea313bce59e_11</td><td>2022-07-07 19:23:05.897</td></tr>",
                            "<tr><td>FactFinance100m</td><td>6</td><td>1</td><td>3</td><td>COMPRESSED</td><td>999972</td><td>REORG</td><td>Table_5656864dfc4245699aef7ea313bce59e_12</td><td>2022-07-07 19:23:07.843</td></tr>",
                            "<tr><td>FactFinance100m</td><td>6</td><td>1</td><td>3</td><td>COMPRESSED</td><td>999972</td><td>REORG</td><td>Table_5656864dfc4245699aef7ea313bce59e_13</td><td>2022-07-07 19:23:05.997</td></tr>",
                            "<tr><td>FactFinance100m</td><td>6</td><td>1</td><td>3</td><td>COMPRESSED</td><td>999972</td><td>REORG</td><td>Table_5656864dfc4245699aef7ea313bce59e_14</td><td>2022-07-07 19:23:05.990</td></tr>",
                            "<tr><td>FactFinance100m</td><td>6</td><td>1</td><td>3</td><td>COMPRESSED</td><td>1000532</td><td>REORG</td><td>Table_5656864dfc4245699aef7ea313bce59e_15</td><td>2022-07-07 19:23:07.927</td></tr>",
                            "<tr><td>FactFinance100m</td><td>6</td><td>1</td><td>3</td><td>COMPRESSED</td><td>999972</td><td>REORG</td><td>Table_5656864dfc4245699aef7ea313bce59e_16</td><td>2022-07-07 19:23:05.887</td></tr>",
                            "<tr><td>FactFinance100m</td><td>6</td><td>1</td><td>3</td><td>COMPRESSED</td><td>1000532</td><td>REORG</td><td>Table_5656864dfc4245699aef7ea313bce59e_17</td><td>2022-07-07 19:23:05.883</td></tr>",
                            "<tr><td>FactFinance100m</td><td>6</td><td>1</td><td>3</td><td>COMPRESSED</td><td>999972</td><td>REORG</td><td>Table_5656864dfc4245699aef7ea313bce59e_18</td><td>2022-07-07 19:23:05.967</td></tr>",
                            "<tr><td>FactFinance100m</td><td>6</td><td>1</td><td>3</td><td>COMPRESSED</td><td>999972</td><td>REORG</td><td>Table_5656864dfc4245699aef7ea313bce59e_19</td><td>2022-07-07 19:23:05.913</td></tr>",
                            "<tr><td>FactFinance100m</td><td>6</td><td>1</td><td>3</td><td>COMPRESSED</td><td>999972</td><td>REORG</td><td>Table_5656864dfc4245699aef7ea313bce59e_20</td><td>2022-07-07 19:23:05.900</td></tr>",
                            "<tr><td>FactFinance100m</td><td>6</td><td>1</td><td>3</td><td>COMPRESSED</td><td>999972</td><td>REORG</td><td>Table_5656864dfc4245699aef7ea313bce59e_21</td><td>2022-07-07 19:23:05.947</td></tr>",
                            "<tr><td>FactFinance100m</td><td>6</td><td>1</td><td>3</td><td>COMPRESSED</td><td>999972</td><td>REORG</td><td>Table_5656864dfc4245699aef7ea313bce59e_22</td><td>2022-07-07 19:23:05.980</td></tr>",
                            "<tr><td>FactFinance100m</td><td>6</td><td>1</td><td>3</td><td>COMPRESSED</td><td>999972</td><td>REORG</td><td>Table_5656864dfc4245699aef7ea313bce59e_23</td><td>2022-07-07 19:23:05.887</td></tr>",
                            "<tr><td>FactFinance100m</td><td>6</td><td>1</td><td>3</td><td>COMPRESSED</td><td>999972</td><td>REORG</td><td>Table_5656864dfc4245699aef7ea313bce59e_24</td><td>2022-07-07 19:23:05.957</td></tr>",
                            "<tr><td>FactFinance100m</td><td>6</td><td>1</td><td>3</td><td>COMPRESSED</td><td>999972</td><td>REORG</td><td>Table_5656864dfc4245699aef7ea313bce59e_25</td><td>2022-07-07 19:23:05.963</td></tr>",
                            "<tr><td>FactFinance100m</td><td>6</td><td>1</td><td>3</td><td>COMPRESSED</td><td>999972</td><td>REORG</td><td>Table_5656864dfc4245699aef7ea313bce59e_26</td><td>2022-07-07 19:23:05.823</td></tr>",
                            "<tr><td>FactFinance100m</td><td>6</td><td>1</td><td>3</td><td>COMPRESSED</td><td>999972</td><td>REORG</td><td>Table_5656864dfc4245699aef7ea313bce59e_27</td><td>2022-07-07 19:23:05.890</td></tr>",
                            "<tr><td>FactFinance100m</td><td>6</td><td>1</td><td>3</td><td>COMPRESSED</td><td>999972</td><td>REORG</td><td>Table_5656864dfc4245699aef7ea313bce59e_28</td><td>2022-07-07 19:23:05.853</td></tr>",
                            "<tr><td>FactFinance100m</td><td>6</td><td>1</td><td>3</td><td>COMPRESSED</td><td>999972</td><td>REORG</td><td>Table_5656864dfc4245699aef7ea313bce59e_29</td><td>2022-07-07 19:23:05.960</td></tr>",
                            "<tr><td>FactFinance100m</td><td>6</td><td>1</td><td>3</td><td>COMPRESSED</td><td>999972</td><td>REORG</td><td>Table_5656864dfc4245699aef7ea313bce59e_30</td><td>2022-07-07 19:23:05.887</td></tr>",
                            "<tr><td>FactFinance100m</td><td>6</td><td>1</td><td>3</td><td>COMPRESSED</td><td>999972</td><td>REORG</td><td>Table_5656864dfc4245699aef7ea313bce59e_31</td><td>2022-07-07 19:23:06.053</td></tr>",
                            "<tr><td>FactFinance100m</td><td>6</td><td>1</td><td>3</td><td>COMPRESSED</td><td>999972</td><td>REORG</td><td>Table_5656864dfc4245699aef7ea313bce59e_32</td><td>2022-07-07 19:23:05.897</td></tr>",
                            "<tr><td>FactFinance100m</td><td>6</td><td>1</td><td>3</td><td>COMPRESSED</td><td>999972</td><td>REORG</td><td>Table_5656864dfc4245699aef7ea313bce59e_33</td><td>2022-07-07 19:23:06.010</td></tr>",
                            "<tr><td>FactFinance100m</td><td>6</td><td>1</td><td>3</td><td>COMPRESSED</td><td>999972</td><td>REORG</td><td>Table_5656864dfc4245699aef7ea313bce59e_34</td><td>2022-07-07 19:23:05.860</td></tr>",
                            "<tr><td>FactFinance100m</td><td>6</td><td>1</td><td>3</td><td>COMPRESSED</td><td>999972</td><td>REORG</td><td>Table_5656864dfc4245699aef7ea313bce59e_35</td><td>2022-07-07 19:23:06.133</td></tr>",
                            "<tr><td>FactFinance100m</td><td>6</td><td>1</td><td>3</td><td>COMPRESSED</td><td>999972</td><td>REORG</td><td>Table_5656864dfc4245699aef7ea313bce59e_36</td><td>2022-07-07 19:23:06.000</td></tr>",
                            "<tr><td>FactFinance100m</td><td>6</td><td>1</td><td>3</td><td>COMPRESSED</td><td>999972</td><td>REORG</td><td>Table_5656864dfc4245699aef7ea313bce59e_37</td><td>2022-07-07 19:23:05.827</td></tr>",
                            "<tr><td>FactFinance100m</td><td>6</td><td>1</td><td>3</td><td>COMPRESSED</td><td>999972</td><td>REORG</td><td>Table_5656864dfc4245699aef7ea313bce59e_38</td><td>2022-07-07 19:23:06.033</td></tr>",
                            "<tr><td>FactFinance100m</td><td>6</td><td>1</td><td>3</td><td>COMPRESSED</td><td>999972</td><td>REORG</td><td>Table_5656864dfc4245699aef7ea313bce59e_39</td><td>2022-07-07 19:23:06.120</td></tr>",
                            "<tr><td>FactFinance100m</td><td>6</td><td>1</td><td>3</td><td>COMPRESSED</td><td>999972</td><td>REORG</td><td>Table_5656864dfc4245699aef7ea313bce59e_40</td><td>2022-07-07 19:23:05.767</td></tr>",
                            "<tr><td>FactFinance100m</td><td>6</td><td>1</td><td>3</td><td>COMPRESSED</td><td>999972</td><td>REORG</td><td>Table_5656864dfc4245699aef7ea313bce59e_41</td><td>2022-07-07 19:23:06.027</td></tr>",
                            "<tr><td>FactFinance100m</td><td>6</td><td>1</td><td>3</td><td>COMPRESSED</td><td>999972</td><td>REORG</td><td>Table_5656864dfc4245699aef7ea313bce59e_42</td><td>2022-07-07 19:23:06.150</td></tr>",
                            "<tr><td>FactFinance100m</td><td>6</td><td>1</td><td>3</td><td>COMPRESSED</td><td>999972</td><td>REORG</td><td>Table_5656864dfc4245699aef7ea313bce59e_43</td><td>2022-07-07 19:23:05.867</td></tr>",
                            "<tr><td>FactFinance100m</td><td>6</td><td>1</td><td>3</td><td>COMPRESSED</td><td>1000532</td><td>REORG</td><td>Table_5656864dfc4245699aef7ea313bce59e_44</td><td>2022-07-07 19:23:06.240</td></tr>",
                            "<tr><td>FactFinance100m</td><td>6</td><td>1</td><td>3</td><td>COMPRESSED</td><td>999972</td><td>REORG</td><td>Table_5656864dfc4245699aef7ea313bce59e_45</td><td>2022-07-07 19:23:05.967</td></tr>",
                            "<tr><td>FactFinance100m</td><td>6</td><td>1</td><td>3</td><td>COMPRESSED</td><td>1000532</td><td>REORG</td><td>Table_5656864dfc4245699aef7ea313bce59e_46</td><td>2022-07-07 19:23:05.717</td></tr>",
                            "<tr><td>FactFinance100m</td><td>6</td><td>1</td><td>3</td><td>COMPRESSED</td><td>999972</td><td>REORG</td><td>Table_5656864dfc4245699aef7ea313bce59e_47</td><td>2022-07-07 19:23:06.107</td></tr>",
                            "<tr><td>FactFinance100m</td><td>6</td><td>1</td><td>3</td><td>COMPRESSED</td><td>999972</td><td>REORG</td><td>Table_5656864dfc4245699aef7ea313bce59e_48</td><td>2022-07-07 19:23:06.110</td></tr>",
                            "<tr><td>FactFinance100m</td><td>6</td><td>1</td><td>3</td><td>COMPRESSED</td><td>999972</td><td>REORG</td><td>Table_5656864dfc4245699aef7ea313bce59e_49</td><td>2022-07-07 19:23:05.833</td></tr>",
                            "<tr><td>FactFinance100m</td><td>6</td><td>1</td><td>3</td><td>COMPRESSED</td><td>999972</td><td>REORG</td><td>Table_5656864dfc4245699aef7ea313bce59e_50</td><td>2022-07-07 19:23:05.770</td></tr>",
                            "<tr><td>FactFinance100m</td><td>6</td><td>1</td><td>3</td><td>COMPRESSED</td><td>999972</td><td>REORG</td><td>Table_5656864dfc4245699aef7ea313bce59e_51</td><td>2022-07-07 19:23:06.210</td></tr>",
                            "<tr><td>FactFinance100m</td><td>6</td><td>1</td><td>3</td><td>COMPRESSED</td><td>1000532</td><td>REORG</td><td>Table_5656864dfc4245699aef7ea313bce59e_52</td><td>2022-07-07 19:23:05.847</td></tr>",
                            "<tr><td>FactFinance100m</td><td>6</td><td>1</td><td>3</td><td>COMPRESSED</td><td>999972</td><td>REORG</td><td>Table_5656864dfc4245699aef7ea313bce59e_53</td><td>2022-07-07 19:23:05.860</td></tr>",
                            "<tr><td>FactFinance100m</td><td>6</td><td>1</td><td>3</td><td>COMPRESSED</td><td>999972</td><td>REORG</td><td>Table_5656864dfc4245699aef7ea313bce59e_54</td><td>2022-07-07 19:23:05.840</td></tr>",
                            "<tr><td>FactFinance100m</td><td>6</td><td>1</td><td>3</td><td>COMPRESSED</td><td>999972</td><td>REORG</td><td>Table_5656864dfc4245699aef7ea313bce59e_55</td><td>2022-07-07 19:23:06.097</td></tr>",
                            "<tr><td>FactFinance100m</td><td>6</td><td>1</td><td>3</td><td>COMPRESSED</td><td>999972</td><td>REORG</td><td>Table_5656864dfc4245699aef7ea313bce59e_56</td><td>2022-07-07 19:23:06.090</td></tr>",
                            "<tr><td>FactFinance100m</td><td>6</td><td>1</td><td>3</td><td>COMPRESSED</td><td>999972</td><td>REORG</td><td>Table_5656864dfc4245699aef7ea313bce59e_57</td><td>2022-07-07 19:23:05.917</td></tr>",
                            "<tr><td>FactFinance100m</td><td>6</td><td>1</td><td>3</td><td>COMPRESSED</td><td>999972</td><td>REORG</td><td>Table_5656864dfc4245699aef7ea313bce59e_58</td><td>2022-07-07 19:23:06.337</td></tr>",
                            "<tr><td>FactFinance100m</td><td>6</td><td>1</td><td>3</td><td>COMPRESSED</td><td>999972</td><td>REORG</td><td>Table_5656864dfc4245699aef7ea313bce59e_59</td><td>2022-07-07 19:23:05.810</td></tr>",
                            "<tr><td>FactFinance100m</td><td>6</td><td>1</td><td>3</td><td>COMPRESSED</td><td>999972</td><td>REORG</td><td>Table_5656864dfc4245699aef7ea313bce59e_60</td><td>2022-07-07 19:23:06.090</td></tr>",
                            "</table>"
                        ]
                    }
                }
            ],
            "execution_count": 2
        },
        {
            "cell_type": "code",
            "source": [
                "/*  \r\n",
                "    a REORG will NOT close open delta stores, but we can issue a command like below using Framework \r\n",
                "\r\n",
                "    ALTER INDEX ClusteredIndex_1fba0db5c48b40288124497ec2198389 ON [dbo].[FactFinance100m] REORGANIZE WITH (COMPRESS_ALL_ROW_GROUPS = ON)\r\n",
                "\r\n",
                "    Note: Resultant Frgamentation is high as one RowGroup is very small. Hence we ignore density if only 120 RowGroups or less.\r\n",
                "\r\n",
                "*/\r\n",
                "\r\n",
                "exec   [dbo].[ColumnstoreOptimize]  @Tables='FactFinance100m'\r\n",
                ",@DensityThreshold=null\r\n",
                ",@OpenThreshold=200000\r\n",
                ",@DeleteThreshold=null\r\n",
                ",@TimeLimit =null\r\n",
                ", @Execute='Y'\r\n",
                "\r\n",
                "SELECT * FROM dbo.vColumnstoreStats WHERE table_name='FactFinance100m'"
            ],
            "metadata": {
                "azdata_cell_guid": "8f77bfb6-48cf-4fdc-b395-f7e6b57a1672",
                "tags": [],
                "language": "sql"
            },
            "outputs": [
                {
                    "output_type": "display_data",
                    "data": {
                        "text/html": "Date and time: 2022-07-07 19:54:25"
                    },
                    "metadata": {}
                },
                {
                    "output_type": "display_data",
                    "data": {
                        "text/html": "Server: aw-dev"
                    },
                    "metadata": {}
                },
                {
                    "output_type": "display_data",
                    "data": {
                        "text/html": "Version: 10.0.15665.0"
                    },
                    "metadata": {}
                },
                {
                    "output_type": "display_data",
                    "data": {
                        "text/html": "Edition: SQL Azure"
                    },
                    "metadata": {}
                },
                {
                    "output_type": "display_data",
                    "data": {
                        "text/html": "Parameters: @Tables= 'FactFinance100m', @DensityThreshold = 25.00, @OpenThreshold = 200000, @DeleteThreshold = 200000, @Execute = Y"
                    },
                    "metadata": {}
                },
                {
                    "output_type": "display_data",
                    "data": {
                        "text/html": "Version: Microsoft Azure SQL Data Warehouse - 10.0.15665.0 Jul 6 2022 10:30:07 Copyright (c) Microsoft Corporation"
                    },
                    "metadata": {}
                },
                {
                    "output_type": "display_data",
                    "data": {
                        "text/html": "Source: https://github.com/ProdataSQL/SynapseTools/tree/main/SqlPools/Maintenance"
                    },
                    "metadata": {}
                },
                {
                    "output_type": "display_data",
                    "data": {
                        "text/html": "Date and time: 2022-07-07 19:54:28"
                    },
                    "metadata": {}
                },
                {
                    "output_type": "display_data",
                    "data": {
                        "text/html": "SqlCommand: ALTER INDEX ClusteredIndex_baff5ac740d64e1694b250169905d4cf ON [dbo].[FactFinance100m] REORGANIZE"
                    },
                    "metadata": {}
                },
                {
                    "output_type": "display_data",
                    "data": {
                        "text/html": "(1 row affected)"
                    },
                    "metadata": {}
                },
                {
                    "output_type": "display_data",
                    "data": {
                        "text/html": "Total execution time: 00:00:05.314"
                    },
                    "metadata": {}
                },
                {
                    "output_type": "execute_result",
                    "metadata": {},
                    "execution_count": 10,
                    "data": {
                        "application/vnd.dataresource+json": {
                            "schema": {
                                "fields": [
                                    {
                                        "name": "execution_date"
                                    },
                                    {
                                        "name": "database_name"
                                    },
                                    {
                                        "name": "schema_name"
                                    },
                                    {
                                        "name": "table_name"
                                    },
                                    {
                                        "name": "partition_number"
                                    },
                                    {
                                        "name": "partition_scheme"
                                    },
                                    {
                                        "name": "object_id"
                                    },
                                    {
                                        "name": "index_name"
                                    },
                                    {
                                        "name": "row_count"
                                    },
                                    {
                                        "name": "deleted_row_count"
                                    },
                                    {
                                        "name": "row_group_count"
                                    },
                                    {
                                        "name": "compressed_row_count"
                                    },
                                    {
                                        "name": "compressed_rowgroup_count"
                                    },
                                    {
                                        "name": "open_rowgroup_count"
                                    },
                                    {
                                        "name": "open_row_count"
                                    },
                                    {
                                        "name": "compressed_row_max"
                                    },
                                    {
                                        "name": "compressed_row_avg"
                                    },
                                    {
                                        "name": "fragmentation_density"
                                    },
                                    {
                                        "name": "fragmentation_deletes"
                                    },
                                    {
                                        "name": "fragmentation_open"
                                    }
                                ]
                            },
                            "data": [
                                {
                                    "0": "2022-07-07 19:54:29.987",
                                    "1": "AdventureWorksDW",
                                    "2": "dbo",
                                    "3": "FactFinance100m",
                                    "4": "NULL",
                                    "5": "NULL",
                                    "6": "1958350091",
                                    "7": "ClusteredIndex_baff5ac740d64e1694b250169905d4cf",
                                    "8": "126000000",
                                    "9": "0",
                                    "10": "180",
                                    "11": "126000000",
                                    "12": "180",
                                    "13": "0",
                                    "14": "0",
                                    "15": "1000532",
                                    "16": "700000",
                                    "17": "33.2400",
                                    "18": "0.0000",
                                    "19": "0.0000"
                                }
                            ]
                        },
                        "text/html": [
                            "<table>",
                            "<tr><th>execution_date</th><th>database_name</th><th>schema_name</th><th>table_name</th><th>partition_number</th><th>partition_scheme</th><th>object_id</th><th>index_name</th><th>row_count</th><th>deleted_row_count</th><th>row_group_count</th><th>compressed_row_count</th><th>compressed_rowgroup_count</th><th>open_rowgroup_count</th><th>open_row_count</th><th>compressed_row_max</th><th>compressed_row_avg</th><th>fragmentation_density</th><th>fragmentation_deletes</th><th>fragmentation_open</th></tr>",
                            "<tr><td>2022-07-07 19:54:29.987</td><td>AdventureWorksDW</td><td>dbo</td><td>FactFinance100m</td><td>NULL</td><td>NULL</td><td>1958350091</td><td>ClusteredIndex_baff5ac740d64e1694b250169905d4cf</td><td>126000000</td><td>0</td><td>180</td><td>126000000</td><td>180</td><td>0</td><td>0</td><td>1000532</td><td>700000</td><td>33.2400</td><td>0.0000</td><td>0.0000</td></tr>",
                            "</table>"
                        ]
                    }
                }
            ],
            "execution_count": 10
        }
    ]
}