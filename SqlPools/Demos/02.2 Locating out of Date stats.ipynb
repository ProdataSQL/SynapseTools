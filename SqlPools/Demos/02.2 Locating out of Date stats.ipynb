{
    "metadata": {
        "kernelspec": {
            "name": "SQL",
            "display_name": "SQL",
            "language": "sql"
        },
        "language_info": {
            "name": "sql",
            "version": ""
        },
        "extensions": {
            "azuredatastudio": {
                "version": 1,
                "views": []
            }
        }
    },
    "nbformat_minor": 2,
    "nbformat": 4,
    "cells": [
        {
            "cell_type": "markdown",
            "source": [
                "## 2.2 Locating Stale Stats\n",
                "\n",
                "While SQL pools do have auto create stats they do not have auto update stats like traditional SQL Server, so we really need to maintain statistics ourlseves.\n",
                "\n",
                "How can stats get out of date and how can we decide which stats are up to date and which need updating ?\n",
                "\n",
                "### 2.21 Example of Stale Stats\n",
                "\n",
                "If a table is created with under 1,00 rows then the SQL pol may create stats, but it will \"assume\" 1,00 rows. Even as new data is loaded this stat will becom older.\n",
                "\n",
                "Its especially a problme if we create empty tables or very small tables before adding more data. For example."
            ],
            "metadata": {
                "azdata_cell_guid": "d0672a9e-0456-4600-9f29-fbd560d7daf2",
                "extensions": {
                    "azuredatastudio": {
                        "views": []
                    }
                }
            },
            "attachments": {}
        },
        {
            "cell_type": "code",
            "source": [
                "IF OBJECT_ID('[dbo].[FactFinance100m_nostats]') is not null \r\n",
                "\tDROP TABLE [dbo].[FactFinance100m_nostats]\r\n",
                "GO\r\n",
                "CREATE TABLE [dbo].[FactFinance100m_nostats] WITH (\r\n",
                "\tDISTRIBUTION = ROUND_ROBIN, CLUSTERED COLUMNSTORE INDEX \r\n",
                ") AS\r\n",
                "SELECT  TOP 100 *  FROM [dbo].[FactFinance1b] \r\n",
                "GO\r\n",
                "\r\n",
                "SELECT count(distinct DateKey) as DateKey, count(distinct AccountKey)  as AccountKey from FactFinance100m_nostats\r\n",
                "\r\n",
                "/* Prodata sample view to analyse Stats on Tables */\r\n",
                "SELECT * FROM dbo.vStats WHERE table_name='FactFinance100m_nostats'"
            ],
            "metadata": {
                "azdata_cell_guid": "01aad1ff-e63b-4b61-8a13-d232549e6adb",
                "tags": []
            },
            "outputs": [
                {
                    "output_type": "display_data",
                    "data": {
                        "text/html": "Commands completed successfully."
                    },
                    "metadata": {}
                },
                {
                    "output_type": "display_data",
                    "data": {
                        "text/html": "(100 rows affected)"
                    },
                    "metadata": {}
                },
                {
                    "output_type": "display_data",
                    "data": {
                        "text/html": "(1 row affected)"
                    },
                    "metadata": {}
                },
                {
                    "output_type": "display_data",
                    "data": {
                        "text/html": "(3 rows affected)"
                    },
                    "metadata": {}
                },
                {
                    "output_type": "display_data",
                    "data": {
                        "text/html": "Total execution time: 00:00:07.398"
                    },
                    "metadata": {}
                },
                {
                    "output_type": "execute_result",
                    "metadata": {},
                    "execution_count": 4,
                    "data": {
                        "application/vnd.dataresource+json": {
                            "schema": {
                                "fields": [
                                    {
                                        "name": "DateKey"
                                    },
                                    {
                                        "name": "AccountKey"
                                    }
                                ]
                            },
                            "data": [
                                {
                                    "0": "1",
                                    "1": "1"
                                }
                            ]
                        },
                        "text/html": [
                            "<table>",
                            "<tr><th>DateKey</th><th>AccountKey</th></tr>",
                            "<tr><td>1</td><td>1</td></tr>",
                            "</table>"
                        ]
                    }
                },
                {
                    "output_type": "execute_result",
                    "metadata": {},
                    "execution_count": 4,
                    "data": {
                        "application/vnd.dataresource+json": {
                            "schema": {
                                "fields": [
                                    {
                                        "name": "object_id"
                                    },
                                    {
                                        "name": "stat_name"
                                    },
                                    {
                                        "name": "table_name"
                                    },
                                    {
                                        "name": "schema_name"
                                    },
                                    {
                                        "name": "stats_id"
                                    },
                                    {
                                        "name": "auto_created"
                                    },
                                    {
                                        "name": "filter_definition"
                                    },
                                    {
                                        "name": "last_updated_date"
                                    },
                                    {
                                        "name": "stat_columns"
                                    },
                                    {
                                        "name": "stats_row_count"
                                    },
                                    {
                                        "name": "actual_row_count"
                                    },
                                    {
                                        "name": "stats_difference_percent"
                                    },
                                    {
                                        "name": "dynamic_threshold_rows"
                                    },
                                    {
                                        "name": "stats_sample_rate"
                                    },
                                    {
                                        "name": "recommend_update"
                                    },
                                    {
                                        "name": "sqlCommand"
                                    }
                                ]
                            },
                            "data": [
                                {
                                    "0": "1655012977",
                                    "1": "ClusteredIndex_3acd8b271a154db3883ebb27ae616b9d",
                                    "2": "FactFinance100m_nostats",
                                    "3": "dbo",
                                    "4": "1",
                                    "5": "0",
                                    "6": "NULL",
                                    "7": "NULL",
                                    "8": "AccountKey,ScenarioKey,DepartmentGroupKey,DateKey,OrganizationKey,Amount,Date,LineageKey,ID",
                                    "9": "100",
                                    "10": "100",
                                    "11": "0.00",
                                    "12": "316",
                                    "13": "100",
                                    "14": "0",
                                    "15": "UPDATE STATISTICS [dbo].[FactFinance100m_nostats] (ClusteredIndex_3acd8b271a154db3883ebb27ae616b9d) WITH FULLSCAN"
                                },
                                {
                                    "0": "1655012977",
                                    "1": "_WA_Sys_00000001_62A57E71",
                                    "2": "FactFinance100m_nostats",
                                    "3": "dbo",
                                    "4": "2",
                                    "5": "1",
                                    "6": "NULL",
                                    "7": "2021-08-31 12:25:20.087",
                                    "8": "AccountKey",
                                    "9": "100",
                                    "10": "100",
                                    "11": "0.00",
                                    "12": "316",
                                    "13": "100",
                                    "14": "0",
                                    "15": "UPDATE STATISTICS [dbo].[FactFinance100m_nostats] (_WA_Sys_00000001_62A57E71) WITH FULLSCAN"
                                },
                                {
                                    "0": "1655012977",
                                    "1": "_WA_Sys_00000004_62A57E71",
                                    "2": "FactFinance100m_nostats",
                                    "3": "dbo",
                                    "4": "3",
                                    "5": "1",
                                    "6": "NULL",
                                    "7": "2021-08-31 12:25:20.663",
                                    "8": "DateKey",
                                    "9": "100",
                                    "10": "100",
                                    "11": "0.00",
                                    "12": "316",
                                    "13": "100",
                                    "14": "0",
                                    "15": "UPDATE STATISTICS [dbo].[FactFinance100m_nostats] (_WA_Sys_00000004_62A57E71) WITH FULLSCAN"
                                }
                            ]
                        },
                        "text/html": [
                            "<table>",
                            "<tr><th>object_id</th><th>stat_name</th><th>table_name</th><th>schema_name</th><th>stats_id</th><th>auto_created</th><th>filter_definition</th><th>last_updated_date</th><th>stat_columns</th><th>stats_row_count</th><th>actual_row_count</th><th>stats_difference_percent</th><th>dynamic_threshold_rows</th><th>stats_sample_rate</th><th>recommend_update</th><th>sqlCommand</th></tr>",
                            "<tr><td>1655012977</td><td>ClusteredIndex_3acd8b271a154db3883ebb27ae616b9d</td><td>FactFinance100m_nostats</td><td>dbo</td><td>1</td><td>0</td><td>NULL</td><td>NULL</td><td>AccountKey,ScenarioKey,DepartmentGroupKey,DateKey,OrganizationKey,Amount,Date,LineageKey,ID</td><td>100</td><td>100</td><td>0.00</td><td>316</td><td>100</td><td>0</td><td>UPDATE STATISTICS [dbo].[FactFinance100m_nostats] (ClusteredIndex_3acd8b271a154db3883ebb27ae616b9d) WITH FULLSCAN</td></tr>",
                            "<tr><td>1655012977</td><td>_WA_Sys_00000001_62A57E71</td><td>FactFinance100m_nostats</td><td>dbo</td><td>2</td><td>1</td><td>NULL</td><td>2021-08-31 12:25:20.087</td><td>AccountKey</td><td>100</td><td>100</td><td>0.00</td><td>316</td><td>100</td><td>0</td><td>UPDATE STATISTICS [dbo].[FactFinance100m_nostats] (_WA_Sys_00000001_62A57E71) WITH FULLSCAN</td></tr>",
                            "<tr><td>1655012977</td><td>_WA_Sys_00000004_62A57E71</td><td>FactFinance100m_nostats</td><td>dbo</td><td>3</td><td>1</td><td>NULL</td><td>2021-08-31 12:25:20.663</td><td>DateKey</td><td>100</td><td>100</td><td>0.00</td><td>316</td><td>100</td><td>0</td><td>UPDATE STATISTICS [dbo].[FactFinance100m_nostats] (_WA_Sys_00000004_62A57E71) WITH FULLSCAN</td></tr>",
                            "</table>"
                        ]
                    }
                }
            ],
            "execution_count": 4
        },
        {
            "cell_type": "code",
            "source": [
                "/* Lets now insert 100 million rows */\r\n",
                "INSERT INTO FactFinance100m_nostats ([AccountKey], [ScenarioKey], [DepartmentGroupKey], [DateKey], [OrganizationKey], [Amount], [Date], [LineageKey])\r\n",
                "SELECT  TOP 100000000 [AccountKey], [ScenarioKey], [DepartmentGroupKey], [DateKey], [OrganizationKey], [Amount], [Date], [LineageKey]  \r\n",
                "FROM [dbo].[FactFinance1b]  "
            ],
            "metadata": {
                "azdata_cell_guid": "4634fd25-21b9-4641-aff9-1c3bfb2d77bb",
                "tags": []
            },
            "outputs": [
                {
                    "output_type": "display_data",
                    "data": {
                        "text/html": "(100000000 rows affected)"
                    },
                    "metadata": {}
                },
                {
                    "output_type": "display_data",
                    "data": {
                        "text/html": "Total execution time: 00:06:25.721"
                    },
                    "metadata": {}
                }
            ],
            "execution_count": 8
        },
        {
            "cell_type": "code",
            "source": [
                "/* \r\n",
                "    We can see that the stats are not super out of date \r\n",
                "\r\n",
                "*/\r\n",
                "SELECT * FROM dbo.vStats WHERE table_name='FactFinance100m_nostats'"
            ],
            "metadata": {
                "azdata_cell_guid": "1f53181f-37ad-41a6-830e-6accff0a4bc5"
            },
            "outputs": [
                {
                    "output_type": "display_data",
                    "data": {
                        "text/html": "(3 rows affected)"
                    },
                    "metadata": {}
                },
                {
                    "output_type": "display_data",
                    "data": {
                        "text/html": "Total execution time: 00:00:03.007"
                    },
                    "metadata": {}
                },
                {
                    "output_type": "execute_result",
                    "metadata": {},
                    "execution_count": 9,
                    "data": {
                        "application/vnd.dataresource+json": {
                            "schema": {
                                "fields": [
                                    {
                                        "name": "object_id"
                                    },
                                    {
                                        "name": "stat_name"
                                    },
                                    {
                                        "name": "table_name"
                                    },
                                    {
                                        "name": "schema_name"
                                    },
                                    {
                                        "name": "stats_id"
                                    },
                                    {
                                        "name": "auto_created"
                                    },
                                    {
                                        "name": "filter_definition"
                                    },
                                    {
                                        "name": "last_updated_date"
                                    },
                                    {
                                        "name": "stat_columns"
                                    },
                                    {
                                        "name": "stats_row_count"
                                    },
                                    {
                                        "name": "actual_row_count"
                                    },
                                    {
                                        "name": "stats_difference_percent"
                                    },
                                    {
                                        "name": "dynamic_threshold_rows"
                                    },
                                    {
                                        "name": "stats_sample_rate"
                                    },
                                    {
                                        "name": "recommend_update"
                                    },
                                    {
                                        "name": "sqlCommand"
                                    }
                                ]
                            },
                            "data": [
                                {
                                    "0": "1655012977",
                                    "1": "ClusteredIndex_3acd8b271a154db3883ebb27ae616b9d",
                                    "2": "FactFinance100m_nostats",
                                    "3": "dbo",
                                    "4": "1",
                                    "5": "0",
                                    "6": "NULL",
                                    "7": "NULL",
                                    "8": "AccountKey,ScenarioKey,DepartmentGroupKey,DateKey,OrganizationKey,Amount,Date,LineageKey,ID",
                                    "9": "100",
                                    "10": "100000100",
                                    "11": "100.00",
                                    "12": "316227",
                                    "13": "9",
                                    "14": "1",
                                    "15": "UPDATE STATISTICS [dbo].[FactFinance100m_nostats] (ClusteredIndex_3acd8b271a154db3883ebb27ae616b9d) WITH SAMPLE 9 PERCENT"
                                },
                                {
                                    "0": "1655012977",
                                    "1": "_WA_Sys_00000001_62A57E71",
                                    "2": "FactFinance100m_nostats",
                                    "3": "dbo",
                                    "4": "2",
                                    "5": "1",
                                    "6": "NULL",
                                    "7": "2021-08-31 12:25:20.087",
                                    "8": "AccountKey",
                                    "9": "100",
                                    "10": "100000100",
                                    "11": "100.00",
                                    "12": "316227",
                                    "13": "9",
                                    "14": "1",
                                    "15": "UPDATE STATISTICS [dbo].[FactFinance100m_nostats] (_WA_Sys_00000001_62A57E71) WITH SAMPLE 9 PERCENT"
                                },
                                {
                                    "0": "1655012977",
                                    "1": "_WA_Sys_00000004_62A57E71",
                                    "2": "FactFinance100m_nostats",
                                    "3": "dbo",
                                    "4": "3",
                                    "5": "1",
                                    "6": "NULL",
                                    "7": "2021-08-31 12:25:20.663",
                                    "8": "DateKey",
                                    "9": "100",
                                    "10": "100000100",
                                    "11": "100.00",
                                    "12": "316227",
                                    "13": "9",
                                    "14": "1",
                                    "15": "UPDATE STATISTICS [dbo].[FactFinance100m_nostats] (_WA_Sys_00000004_62A57E71) WITH SAMPLE 9 PERCENT"
                                }
                            ]
                        },
                        "text/html": [
                            "<table>",
                            "<tr><th>object_id</th><th>stat_name</th><th>table_name</th><th>schema_name</th><th>stats_id</th><th>auto_created</th><th>filter_definition</th><th>last_updated_date</th><th>stat_columns</th><th>stats_row_count</th><th>actual_row_count</th><th>stats_difference_percent</th><th>dynamic_threshold_rows</th><th>stats_sample_rate</th><th>recommend_update</th><th>sqlCommand</th></tr>",
                            "<tr><td>1655012977</td><td>ClusteredIndex_3acd8b271a154db3883ebb27ae616b9d</td><td>FactFinance100m_nostats</td><td>dbo</td><td>1</td><td>0</td><td>NULL</td><td>NULL</td><td>AccountKey,ScenarioKey,DepartmentGroupKey,DateKey,OrganizationKey,Amount,Date,LineageKey,ID</td><td>100</td><td>100000100</td><td>100.00</td><td>316227</td><td>9</td><td>1</td><td>UPDATE STATISTICS [dbo].[FactFinance100m_nostats] (ClusteredIndex_3acd8b271a154db3883ebb27ae616b9d) WITH SAMPLE 9 PERCENT</td></tr>",
                            "<tr><td>1655012977</td><td>_WA_Sys_00000001_62A57E71</td><td>FactFinance100m_nostats</td><td>dbo</td><td>2</td><td>1</td><td>NULL</td><td>2021-08-31 12:25:20.087</td><td>AccountKey</td><td>100</td><td>100000100</td><td>100.00</td><td>316227</td><td>9</td><td>1</td><td>UPDATE STATISTICS [dbo].[FactFinance100m_nostats] (_WA_Sys_00000001_62A57E71) WITH SAMPLE 9 PERCENT</td></tr>",
                            "<tr><td>1655012977</td><td>_WA_Sys_00000004_62A57E71</td><td>FactFinance100m_nostats</td><td>dbo</td><td>3</td><td>1</td><td>NULL</td><td>2021-08-31 12:25:20.663</td><td>DateKey</td><td>100</td><td>100000100</td><td>100.00</td><td>316227</td><td>9</td><td>1</td><td>UPDATE STATISTICS [dbo].[FactFinance100m_nostats] (_WA_Sys_00000004_62A57E71) WITH SAMPLE 9 PERCENT</td></tr>",
                            "</table>"
                        ]
                    }
                }
            ],
            "execution_count": 9
        },
        {
            "cell_type": "markdown",
            "source": [
                "<span style=\"color: rgb(33, 33, 33);\">Rather&nbsp;than&nbsp;<span style=\"color: #a31515;\">\"per&nbsp;stats\"</span>&nbsp;we&nbsp;track&nbsp;meta&nbsp;data&nbsp;per&nbsp;<span style=\"color: #0000ff;\">table</span>&nbsp;due&nbsp;</span> to the limitations in DMVs in the SqlPool. Sample View provided by Prodata below. Thsi provides some critcal information\n",
                "\n",
                "- stats\\_row\\_count. This is the number of estimated rows when the stats were last rebuilt. Using DMV pdw\\_table\\_distribution\\_properties  \n",
                "- actual\\_row\\_count. This is the actual number of rows using the DMV sys.dm\\_pdw\\_nodes\\_db\\_partition\\_stats\n",
                "- dynamic\\_threshold\\_row. recommended threshold to update stats using same algorithm(s) as tradiitonal SQL Server. The lower of 20% difference or   SQRT(1000 \\* \\[row count\\])\n",
                "- stats\\_sample\\_rate (recommended sample rate). We use an adaptive formula for this, so that 1 billion is abotu 3% and less than 1 million is a FULLSCAN. The default other wise is 20%\n",
                "- recommeneded\\_update. 1 = we should consdier updating stats on the table."
            ],
            "metadata": {
                "azdata_cell_guid": "1cb98a6a-2d3a-49d4-8a8c-5fb1286dae7d"
            },
            "attachments": {}
        },
        {
            "cell_type": "code",
            "source": [
                "select * from vTableStats WHERE table_name='FactFinance100m_nostats'"
            ],
            "metadata": {
                "azdata_cell_guid": "31345e82-0821-4a1a-84f0-f9e90ad5995f"
            },
            "outputs": [
                {
                    "output_type": "display_data",
                    "data": {
                        "text/html": "(1 row affected)"
                    },
                    "metadata": {}
                },
                {
                    "output_type": "display_data",
                    "data": {
                        "text/html": "Total execution time: 00:00:02.098"
                    },
                    "metadata": {}
                },
                {
                    "output_type": "execute_result",
                    "metadata": {},
                    "execution_count": 11,
                    "data": {
                        "application/vnd.dataresource+json": {
                            "schema": {
                                "fields": [
                                    {
                                        "name": "object_id"
                                    },
                                    {
                                        "name": "schema_name"
                                    },
                                    {
                                        "name": "table_name"
                                    },
                                    {
                                        "name": "table_type"
                                    },
                                    {
                                        "name": "distribution_type"
                                    },
                                    {
                                        "name": "stats_row_count"
                                    },
                                    {
                                        "name": "actual_row_count"
                                    },
                                    {
                                        "name": "stats_difference_percent"
                                    },
                                    {
                                        "name": "dynamic_threshold_rows"
                                    },
                                    {
                                        "name": "stats_sample_rate"
                                    },
                                    {
                                        "name": "recommend_update"
                                    },
                                    {
                                        "name": "sqlCommand"
                                    }
                                ]
                            },
                            "data": [
                                {
                                    "0": "1655012977",
                                    "1": "dbo",
                                    "2": "FactFinance100m_nostats",
                                    "3": "CLUSTERED COLUMNSTORE",
                                    "4": "ROUND_ROBIN",
                                    "5": "100",
                                    "6": "100000100",
                                    "7": "100.00",
                                    "8": "316227",
                                    "9": "9",
                                    "10": "1",
                                    "11": "UPDATE STATISTICS [dbo].[FactFinance100m_nostats] WITH SAMPLE 9 PERCENT"
                                }
                            ]
                        },
                        "text/html": [
                            "<table>",
                            "<tr><th>object_id</th><th>schema_name</th><th>table_name</th><th>table_type</th><th>distribution_type</th><th>stats_row_count</th><th>actual_row_count</th><th>stats_difference_percent</th><th>dynamic_threshold_rows</th><th>stats_sample_rate</th><th>recommend_update</th><th>sqlCommand</th></tr>",
                            "<tr><td>1655012977</td><td>dbo</td><td>FactFinance100m_nostats</td><td>CLUSTERED COLUMNSTORE</td><td>ROUND_ROBIN</td><td>100</td><td>100000100</td><td>100.00</td><td>316227</td><td>9</td><td>1</td><td>UPDATE STATISTICS [dbo].[FactFinance100m_nostats] WITH SAMPLE 9 PERCENT</td></tr>",
                            "</table>"
                        ]
                    }
                }
            ],
            "execution_count": 11
        }
    ]
}