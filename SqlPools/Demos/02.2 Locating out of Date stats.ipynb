{
    "metadata": {
        "kernelspec": {
            "name": "SQL",
            "display_name": "SQL",
            "language": "sql"
        },
        "language_info": {
            "name": "sql",
            "version": ""
        }
    },
    "nbformat_minor": 2,
    "nbformat": 4,
    "cells": [
        {
            "cell_type": "markdown",
            "source": [
                "## 2.2 Locating Stale Stats\r\n",
                "\r\n",
                "One mis conception is that "
            ],
            "metadata": {
                "azdata_cell_guid": "d0672a9e-0456-4600-9f29-fbd560d7daf2"
            }
        }
    ]
}