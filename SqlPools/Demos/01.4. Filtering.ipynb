{
    "metadata": {
        "kernelspec": {
            "name": "SQL",
            "display_name": "SQL",
            "language": "sql"
        },
        "language_info": {
            "name": "sql",
            "version": ""
        }
    },
    "nbformat_minor": 2,
    "nbformat": 4,
    "cells": [
        {
            "cell_type": "markdown",
            "source": [
                "### Splitting up Your Work\r\n",
                "You cna use the @Tables parameter and the @Timelimit to avoid having to al maintenance work in one window. Example below.\r\n",
                ""
            ],
            "metadata": {
                "azdata_cell_guid": "b17c1e49-153d-441a-add4-42035fef0f89"
            },
            "attachments": {}
        },
        {
            "cell_type": "code",
            "source": [
                "/* Do Default Maintenance on All Fact Tables except those in staging schema \r\n",
                "    reorg if > 20% fragmented (may cause churn if this low. Recommend 25%)\r\n",
                "    Only do a rebuild if > 1 million deletes\r\n",
                "    Stop after 1 hour\r\n",
                "    Dont actually run just list commands\r\n",
                "*/\r\n",
                "\r\n",
                "exec   [dbo].[ColumnstoreOptimize]  \r\n",
                "@Tables='Fact%,-stg.%'\r\n",
                ",@DensityThreshold=20\r\n",
                ",@OpenThreshold=null\r\n",
                ",@DeleteThreshold=1000000\r\n",
                ",@TimeLimit =3600\r\n",
                ",@Execute='N'\r\n",
                "\r\n",
                "\r\n",
                ""
            ],
            "metadata": {
                "azdata_cell_guid": "23dc7197-ca5f-4e86-a719-6cadc321e0d9",
                "tags": []
            },
            "outputs": [
                {
                    "output_type": "display_data",
                    "data": {
                        "text/html": "Date and time: 2021-08-23 12:31:20"
                    },
                    "metadata": {}
                },
                {
                    "output_type": "display_data",
                    "data": {
                        "text/html": "Server: aw-dev"
                    },
                    "metadata": {}
                },
                {
                    "output_type": "display_data",
                    "data": {
                        "text/html": "Version: 10.0.13657.0"
                    },
                    "metadata": {}
                },
                {
                    "output_type": "display_data",
                    "data": {
                        "text/html": "Edition: SQL Azure"
                    },
                    "metadata": {}
                },
                {
                    "output_type": "display_data",
                    "data": {
                        "text/html": "Parameters: @Tables= 'Fact%,-stg.%', @DensityThreshold = 20.00, @OpenThreshold = 200000, @DeleteThreshold = 1000000, @Execute = N"
                    },
                    "metadata": {}
                },
                {
                    "output_type": "display_data",
                    "data": {
                        "text/html": "Version: Microsoft Azure SQL Data Warehouse - 10.0.13657.0 Aug 7 2021 01:10:26 Copyright (c) Microsoft Corporation"
                    },
                    "metadata": {}
                },
                {
                    "output_type": "display_data",
                    "data": {
                        "text/html": "Source: https://github.com/ProdataSQL/SynapseTools/tree/main/SqlPools/Maintenance"
                    },
                    "metadata": {}
                },
                {
                    "output_type": "display_data",
                    "data": {
                        "text/html": "Date and time: 2021-08-23 12:31:25"
                    },
                    "metadata": {}
                },
                {
                    "output_type": "display_data",
                    "data": {
                        "text/html": "[dbo].[FactFinance100m_partitioned]"
                    },
                    "metadata": {}
                },
                {
                    "output_type": "display_data",
                    "data": {
                        "text/html": "SqlCommand: ALTER INDEX ClusteredIndex_706b7ab060ad43dbb99ea3275590641f ON [dbo].[FactFinance100m_partitioned] REORGANIZE PARTITION=5"
                    },
                    "metadata": {}
                },
                {
                    "output_type": "display_data",
                    "data": {
                        "text/html": "<ExtendedInfo><RowGroups>414</RowGroups><Rows>338350094</Rows><OpenRows>0</OpenRows><DeletedRows>0</DeletedRows><DensityFragmentation>22.05%</DensityFragmentation></ExtendedInfo>"
                    },
                    "metadata": {}
                },
                {
                    "output_type": "display_data",
                    "data": {
                        "text/html": "Total execution time: 00:00:05.580"
                    },
                    "metadata": {}
                }
            ],
            "execution_count": 3
        }
    ]
}