{
    "metadata": {
        "kernelspec": {
            "name": "SQL",
            "display_name": "SQL",
            "language": "sql"
        },
        "language_info": {
            "name": "sql",
            "version": ""
        }
    },
    "nbformat_minor": 2,
    "nbformat": 4,
    "cells": [
        {
            "cell_type": "markdown",
            "source": [
                "### Demo - Deleted delta Stores"
            ],
            "metadata": {
                "azdata_cell_guid": "75c0f687-c8b5-4a6e-a0dd-14f7f8da0ce3"
            }
        },
        {
            "cell_type": "code",
            "source": [
                "/* \r\n",
                "    ColumnStores are READONLY, so when we delete (or update rows), it simulates R/W by writing a delete followed by an insert into the delta store, and merging this at query time.\r\n",
                "\r\n",
                "    This demo shows impact of Updatees and how we can see the deleted rows in the delta store.\r\n",
                "*/\r\n",
                "\r\n",
                "\tUPDATE [dbo].[FactFinance100m]\r\n",
                "\tSET Amount=Amount+1\r\n",
                "\twhere DateKey =20131228 \r\n",
                ""
            ],
            "metadata": {
                "azdata_cell_guid": "1b2be4a4-5f13-47c6-9ea9-97b86812c946",
                "language": "sql"
            },
            "outputs": [
                {
                    "output_type": "display_data",
                    "data": {
                        "text/html": "(64758 rows affected)"
                    },
                    "metadata": {}
                },
                {
                    "output_type": "display_data",
                    "data": {
                        "text/html": "Total execution time: 00:00:03.717"
                    },
                    "metadata": {}
                }
            ],
            "execution_count": 1
        },
        {
            "cell_type": "code",
            "source": [
                "/* we can see the impact on the deleted/inserted rows and open Delta Stores */\r\n",
                "\r\n",
                "SELECT * FROM dbo.vColumnstoreStats WHERE table_name='FactFinance100m'\r\n",
                ""
            ],
            "metadata": {
                "azdata_cell_guid": "0519a78c-8593-4919-a1ba-ac1fd8a0b52f",
                "language": "sql"
            },
            "outputs": [
                {
                    "output_type": "display_data",
                    "data": {
                        "text/html": "(1 row affected)"
                    },
                    "metadata": {}
                },
                {
                    "output_type": "display_data",
                    "data": {
                        "text/html": "Total execution time: 00:00:01.221"
                    },
                    "metadata": {}
                },
                {
                    "output_type": "execute_result",
                    "metadata": {},
                    "execution_count": 3,
                    "data": {
                        "application/vnd.dataresource+json": {
                            "schema": {
                                "fields": [
                                    {
                                        "name": "execution_date"
                                    },
                                    {
                                        "name": "database_name"
                                    },
                                    {
                                        "name": "schema_name"
                                    },
                                    {
                                        "name": "table_name"
                                    },
                                    {
                                        "name": "partition_number"
                                    },
                                    {
                                        "name": "partition_scheme"
                                    },
                                    {
                                        "name": "object_id"
                                    },
                                    {
                                        "name": "index_name"
                                    },
                                    {
                                        "name": "row_count"
                                    },
                                    {
                                        "name": "deleted_row_count"
                                    },
                                    {
                                        "name": "row_group_count"
                                    },
                                    {
                                        "name": "compressed_row_count"
                                    },
                                    {
                                        "name": "compressed_rowgroup_count"
                                    },
                                    {
                                        "name": "open_rowgroup_count"
                                    },
                                    {
                                        "name": "open_row_count"
                                    },
                                    {
                                        "name": "compressed_row_max"
                                    },
                                    {
                                        "name": "compressed_row_avg"
                                    },
                                    {
                                        "name": "fragmentation_density"
                                    },
                                    {
                                        "name": "fragmentation_deletes"
                                    },
                                    {
                                        "name": "fragmentation_open"
                                    }
                                ]
                            },
                            "data": [
                                {
                                    "0": "2022-07-08 13:12:32.560",
                                    "1": "AdventureWorksDW",
                                    "2": "dbo",
                                    "3": "FactFinance100m",
                                    "4": "NULL",
                                    "5": "NULL",
                                    "6": "162867697",
                                    "7": "ClusteredIndex_bfe60ded6e5d4ff498d34447e5d3f9bf",
                                    "8": "86064758",
                                    "9": "64758",
                                    "10": "239",
                                    "11": "86000000",
                                    "12": "180",
                                    "13": "59",
                                    "14": "64758",
                                    "15": "1000532",
                                    "16": "477777",
                                    "17": "54.4400",
                                    "18": "0.1100",
                                    "19": "0.1100"
                                }
                            ]
                        },
                        "text/html": [
                            "<table>",
                            "<tr><th>execution_date</th><th>database_name</th><th>schema_name</th><th>table_name</th><th>partition_number</th><th>partition_scheme</th><th>object_id</th><th>index_name</th><th>row_count</th><th>deleted_row_count</th><th>row_group_count</th><th>compressed_row_count</th><th>compressed_rowgroup_count</th><th>open_rowgroup_count</th><th>open_row_count</th><th>compressed_row_max</th><th>compressed_row_avg</th><th>fragmentation_density</th><th>fragmentation_deletes</th><th>fragmentation_open</th></tr>",
                            "<tr><td>2022-07-08 13:12:32.560</td><td>AdventureWorksDW</td><td>dbo</td><td>FactFinance100m</td><td>NULL</td><td>NULL</td><td>162867697</td><td>ClusteredIndex_bfe60ded6e5d4ff498d34447e5d3f9bf</td><td>86064758</td><td>64758</td><td>239</td><td>86000000</td><td>180</td><td>59</td><td>64758</td><td>1000532</td><td>477777</td><td>54.4400</td><td>0.1100</td><td>0.1100</td></tr>",
                            "</table>"
                        ]
                    }
                }
            ],
            "execution_count": 3
        },
        {
            "cell_type": "markdown",
            "source": [
                "A simple REORGANIZE wil not close the open row groups.\n",
                "\n",
                "While a <span style=\"color: rgb(0, 128, 0); font-family: Consolas, &quot;Courier New&quot;, monospace; font-size: 12px; white-space: pre;\">REORGANIZE&nbsp;WITH&nbsp;(COMPRESS_ALL_ROW_GROUPS&nbsp;=&nbsp;ON)</span> will close the open RowGroup for inserts it will also not take care of deleted row. See below - after REGORG we still have the deleted rows  \n",
                ""
            ],
            "metadata": {
                "azdata_cell_guid": "2f22701e-ae9a-4027-babd-f5ece18c6208"
            },
            "attachments": {}
        },
        {
            "cell_type": "code",
            "source": [
                "exec   [dbo].[ColumnstoreOptimize]  @Tables='FactFinance100m'\r\n",
                ",@DensityThreshold=null\r\n",
                ",@OpenThreshold=10000\r\n",
                ",@DeleteThreshold=null\r\n",
                ",@TimeLimit =null\r\n",
                ", @Execute='Y'\r\n",
                "\r\n",
                "SELECT * FROM dbo.vColumnstoreStats WHERE table_name='FactFinance100m'"
            ],
            "metadata": {
                "azdata_cell_guid": "94a67e55-db37-4367-b56d-b5051e8470fd",
                "language": "sql"
            },
            "outputs": [
                {
                    "output_type": "display_data",
                    "data": {
                        "text/html": "Date and time: 2022-07-08 13:13:36"
                    },
                    "metadata": {}
                },
                {
                    "output_type": "display_data",
                    "data": {
                        "text/html": "Server: aw-dev"
                    },
                    "metadata": {}
                },
                {
                    "output_type": "display_data",
                    "data": {
                        "text/html": "Version: 10.0.15665.0"
                    },
                    "metadata": {}
                },
                {
                    "output_type": "display_data",
                    "data": {
                        "text/html": "Edition: SQL Azure"
                    },
                    "metadata": {}
                },
                {
                    "output_type": "display_data",
                    "data": {
                        "text/html": "Parameters: @Tables= 'FactFinance100m', @DensityThreshold = 25.00, @OpenThreshold = 10000, @DeleteThreshold = 200000, @Execute = Y"
                    },
                    "metadata": {}
                },
                {
                    "output_type": "display_data",
                    "data": {
                        "text/html": "Version: Microsoft Azure SQL Data Warehouse - 10.0.15665.0 Jul 7 2022 07:03:56 Copyright (c) Microsoft Corporation"
                    },
                    "metadata": {}
                },
                {
                    "output_type": "display_data",
                    "data": {
                        "text/html": "Source: https://github.com/ProdataSQL/SynapseTools/tree/main/SqlPools/Maintenance"
                    },
                    "metadata": {}
                },
                {
                    "output_type": "display_data",
                    "data": {
                        "text/html": "Date and time: 2022-07-08 13:13:39"
                    },
                    "metadata": {}
                },
                {
                    "output_type": "display_data",
                    "data": {
                        "text/html": "SqlCommand: ALTER INDEX ClusteredIndex_bfe60ded6e5d4ff498d34447e5d3f9bf ON [dbo].[FactFinance100m] REORGANIZE WITH (COMPRESS_ALL_ROW_GROUPS = ON)"
                    },
                    "metadata": {}
                },
                {
                    "output_type": "display_data",
                    "data": {
                        "text/html": "(1 row affected)"
                    },
                    "metadata": {}
                },
                {
                    "output_type": "display_data",
                    "data": {
                        "text/html": "Total execution time: 00:00:05.651"
                    },
                    "metadata": {}
                },
                {
                    "output_type": "execute_result",
                    "metadata": {},
                    "execution_count": 6,
                    "data": {
                        "application/vnd.dataresource+json": {
                            "schema": {
                                "fields": [
                                    {
                                        "name": "execution_date"
                                    },
                                    {
                                        "name": "database_name"
                                    },
                                    {
                                        "name": "schema_name"
                                    },
                                    {
                                        "name": "table_name"
                                    },
                                    {
                                        "name": "partition_number"
                                    },
                                    {
                                        "name": "partition_scheme"
                                    },
                                    {
                                        "name": "object_id"
                                    },
                                    {
                                        "name": "index_name"
                                    },
                                    {
                                        "name": "row_count"
                                    },
                                    {
                                        "name": "deleted_row_count"
                                    },
                                    {
                                        "name": "row_group_count"
                                    },
                                    {
                                        "name": "compressed_row_count"
                                    },
                                    {
                                        "name": "compressed_rowgroup_count"
                                    },
                                    {
                                        "name": "open_rowgroup_count"
                                    },
                                    {
                                        "name": "open_row_count"
                                    },
                                    {
                                        "name": "compressed_row_max"
                                    },
                                    {
                                        "name": "compressed_row_avg"
                                    },
                                    {
                                        "name": "fragmentation_density"
                                    },
                                    {
                                        "name": "fragmentation_deletes"
                                    },
                                    {
                                        "name": "fragmentation_open"
                                    }
                                ]
                            },
                            "data": [
                                {
                                    "0": "2022-07-08 13:13:40.537",
                                    "1": "AdventureWorksDW",
                                    "2": "dbo",
                                    "3": "FactFinance100m",
                                    "4": "NULL",
                                    "5": "NULL",
                                    "6": "162867697",
                                    "7": "ClusteredIndex_bfe60ded6e5d4ff498d34447e5d3f9bf",
                                    "8": "86044901",
                                    "9": "44901",
                                    "10": "179",
                                    "11": "86044901",
                                    "12": "179",
                                    "13": "0",
                                    "14": "0",
                                    "15": "1000532",
                                    "16": "480697",
                                    "17": "54.1600",
                                    "18": "0.0700",
                                    "19": "0.0000"
                                }
                            ]
                        },
                        "text/html": [
                            "<table>",
                            "<tr><th>execution_date</th><th>database_name</th><th>schema_name</th><th>table_name</th><th>partition_number</th><th>partition_scheme</th><th>object_id</th><th>index_name</th><th>row_count</th><th>deleted_row_count</th><th>row_group_count</th><th>compressed_row_count</th><th>compressed_rowgroup_count</th><th>open_rowgroup_count</th><th>open_row_count</th><th>compressed_row_max</th><th>compressed_row_avg</th><th>fragmentation_density</th><th>fragmentation_deletes</th><th>fragmentation_open</th></tr>",
                            "<tr><td>2022-07-08 13:13:40.537</td><td>AdventureWorksDW</td><td>dbo</td><td>FactFinance100m</td><td>NULL</td><td>NULL</td><td>162867697</td><td>ClusteredIndex_bfe60ded6e5d4ff498d34447e5d3f9bf</td><td>86044901</td><td>44901</td><td>179</td><td>86044901</td><td>179</td><td>0</td><td>0</td><td>1000532</td><td>480697</td><td>54.1600</td><td>0.0700</td><td>0.0000</td></tr>",
                            "</table>"
                        ]
                    }
                }
            ],
            "execution_count": 6
        },
        {
            "cell_type": "markdown",
            "source": [
                "Using the ColumnStoreOrganise we can pass a DeleteThrehsold and force a REBUILD, which is an offline operation\n",
                "\n",
                "(queries blocked until finished)"
            ],
            "metadata": {
                "azdata_cell_guid": "d246c5a9-fdd0-47c1-adc7-bde91bf39b29"
            },
            "attachments": {}
        },
        {
            "cell_type": "code",
            "source": [
                "exec   [dbo].[ColumnstoreOptimize]  @Tables='FactFinance100m'\r\n",
                ",@DensityThreshold=null\r\n",
                ",@OpenThreshold=null\r\n",
                ",@DeleteThreshold=10000\r\n",
                ",@TimeLimit =null\r\n",
                ",@Execute=null\r\n",
                "\r\n",
                "SELECT * FROM dbo.vColumnstoreStats WHERE table_name='FactFinance100m'"
            ],
            "metadata": {
                "azdata_cell_guid": "af850ae7-d039-4615-8dae-f75011ca4e3f",
                "language": "sql"
            },
            "outputs": [
                {
                    "output_type": "display_data",
                    "data": {
                        "text/html": "Date and time: 2022-07-08 13:14:00"
                    },
                    "metadata": {}
                },
                {
                    "output_type": "display_data",
                    "data": {
                        "text/html": "Server: aw-dev"
                    },
                    "metadata": {}
                },
                {
                    "output_type": "display_data",
                    "data": {
                        "text/html": "Version: 10.0.15665.0"
                    },
                    "metadata": {}
                },
                {
                    "output_type": "display_data",
                    "data": {
                        "text/html": "Edition: SQL Azure"
                    },
                    "metadata": {}
                },
                {
                    "output_type": "display_data",
                    "data": {
                        "text/html": "Parameters: @Tables= 'FactFinance100m', @DensityThreshold = 25.00, @OpenThreshold = 200000, @DeleteThreshold = 10000, @Execute = Y"
                    },
                    "metadata": {}
                },
                {
                    "output_type": "display_data",
                    "data": {
                        "text/html": "Version: Microsoft Azure SQL Data Warehouse - 10.0.15665.0 Jul 7 2022 07:03:56 Copyright (c) Microsoft Corporation"
                    },
                    "metadata": {}
                },
                {
                    "output_type": "display_data",
                    "data": {
                        "text/html": "Source: https://github.com/ProdataSQL/SynapseTools/tree/main/SqlPools/Maintenance"
                    },
                    "metadata": {}
                },
                {
                    "output_type": "display_data",
                    "data": {
                        "text/html": "Date and time: 2022-07-08 13:14:03"
                    },
                    "metadata": {}
                },
                {
                    "output_type": "display_data",
                    "data": {
                        "text/html": "SqlCommand: ALTER INDEX ClusteredIndex_bfe60ded6e5d4ff498d34447e5d3f9bf ON [dbo].[FactFinance100m] REBUILD "
                    },
                    "metadata": {}
                },
                {
                    "output_type": "display_data",
                    "data": {
                        "text/html": "(1 row affected)"
                    },
                    "metadata": {}
                },
                {
                    "output_type": "display_data",
                    "data": {
                        "text/html": "Total execution time: 00:00:11.818"
                    },
                    "metadata": {}
                },
                {
                    "output_type": "execute_result",
                    "metadata": {},
                    "execution_count": 7,
                    "data": {
                        "application/vnd.dataresource+json": {
                            "schema": {
                                "fields": [
                                    {
                                        "name": "execution_date"
                                    },
                                    {
                                        "name": "database_name"
                                    },
                                    {
                                        "name": "schema_name"
                                    },
                                    {
                                        "name": "table_name"
                                    },
                                    {
                                        "name": "partition_number"
                                    },
                                    {
                                        "name": "partition_scheme"
                                    },
                                    {
                                        "name": "object_id"
                                    },
                                    {
                                        "name": "index_name"
                                    },
                                    {
                                        "name": "row_count"
                                    },
                                    {
                                        "name": "deleted_row_count"
                                    },
                                    {
                                        "name": "row_group_count"
                                    },
                                    {
                                        "name": "compressed_row_count"
                                    },
                                    {
                                        "name": "compressed_rowgroup_count"
                                    },
                                    {
                                        "name": "open_rowgroup_count"
                                    },
                                    {
                                        "name": "open_row_count"
                                    },
                                    {
                                        "name": "compressed_row_max"
                                    },
                                    {
                                        "name": "compressed_row_avg"
                                    },
                                    {
                                        "name": "fragmentation_density"
                                    },
                                    {
                                        "name": "fragmentation_deletes"
                                    },
                                    {
                                        "name": "fragmentation_open"
                                    }
                                ]
                            },
                            "data": [
                                {
                                    "0": "2022-07-08 13:14:10.910",
                                    "1": "AdventureWorksDW",
                                    "2": "dbo",
                                    "3": "FactFinance100m",
                                    "4": "NULL",
                                    "5": "NULL",
                                    "6": "162867697",
                                    "7": "ClusteredIndex_bfe60ded6e5d4ff498d34447e5d3f9bf",
                                    "8": "86000000",
                                    "9": "0",
                                    "10": "180",
                                    "11": "86000000",
                                    "12": "180",
                                    "13": "0",
                                    "14": "0",
                                    "15": "1048576",
                                    "16": "477777",
                                    "17": "54.4400",
                                    "18": "0.0000",
                                    "19": "0.0000"
                                }
                            ]
                        },
                        "text/html": [
                            "<table>",
                            "<tr><th>execution_date</th><th>database_name</th><th>schema_name</th><th>table_name</th><th>partition_number</th><th>partition_scheme</th><th>object_id</th><th>index_name</th><th>row_count</th><th>deleted_row_count</th><th>row_group_count</th><th>compressed_row_count</th><th>compressed_rowgroup_count</th><th>open_rowgroup_count</th><th>open_row_count</th><th>compressed_row_max</th><th>compressed_row_avg</th><th>fragmentation_density</th><th>fragmentation_deletes</th><th>fragmentation_open</th></tr>",
                            "<tr><td>2022-07-08 13:14:10.910</td><td>AdventureWorksDW</td><td>dbo</td><td>FactFinance100m</td><td>NULL</td><td>NULL</td><td>162867697</td><td>ClusteredIndex_bfe60ded6e5d4ff498d34447e5d3f9bf</td><td>86000000</td><td>0</td><td>180</td><td>86000000</td><td>180</td><td>0</td><td>0</td><td>1048576</td><td>477777</td><td>54.4400</td><td>0.0000</td><td>0.0000</td></tr>",
                            "</table>"
                        ]
                    }
                }
            ],
            "execution_count": 7
        }
    ]
}