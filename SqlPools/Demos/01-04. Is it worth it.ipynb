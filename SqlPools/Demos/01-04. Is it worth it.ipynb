{
    "metadata": {
        "kernelspec": {
            "name": "SQL",
            "display_name": "SQL",
            "language": "sql"
        },
        "language_info": {
            "name": "sql",
            "version": ""
        },
        "extensions": {
            "azuredatastudio": {
                "version": 1,
                "views": []
            }
        }
    },
    "nbformat_minor": 2,
    "nbformat": 4,
    "cells": [
        {
            "cell_type": "markdown",
            "source": [
                "# ColumnStoreOptimize - Is it worth it ?"
            ],
            "metadata": {
                "azdata_cell_guid": "6bc6a6a2-166d-4792-b337-46ce4274cf59",
                "extensions": {
                    "azuredatastudio": {
                        "views": []
                    }
                }
            },
            "attachments": {}
        },
        {
            "cell_type": "markdown",
            "source": [
                "## <span style=\"font-size:14px;\">As as a test , I took a </span> **60 million** <span style=\"font-size:14px;\">row table with a basic aggregate query and creates two tables</span>\n",
                "\n",
                "a) One with 64 row Groups.\n",
                "\n",
                "b) One with 582 row groups. Almost worst case\n",
                "\n",
                "![](https://i0.wp.com/prodata.ie/wp-content/uploads/2021/08/image-10.png?resize=481,288&ssl=1)"
            ],
            "metadata": {
                "azdata_cell_guid": "fa81beb0-83f8-467f-bfee-c80d05e46021",
                "extensions": {
                    "azuredatastudio": {
                        "views": []
                    }
                }
            },
            "attachments": {}
        },
        {
            "cell_type": "markdown",
            "source": [
                "## 1.1 Lessons learned\n",
                "\n",
                "- Watch out for \"incremental\" fact tables inserting less than 60 million rows at a time.\n",
                "- Measure queries before and after a REORG"
            ],
            "metadata": {
                "azdata_cell_guid": "c9e3f785-68fe-4310-9eb7-ea6abf14a0b7",
                "extensions": {
                    "azuredatastudio": {
                        "views": []
                    }
                }
            },
            "attachments": {}
        }
    ]
}