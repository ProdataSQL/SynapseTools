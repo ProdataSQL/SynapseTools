{
    "metadata": {
        "kernelspec": {
            "name": "SQL",
            "display_name": "SQL",
            "language": "sql"
        },
        "language_info": {
            "name": "sql",
            "version": ""
        }
    },
    "nbformat_minor": 2,
    "nbformat": 4,
    "cells": [
        {
            "cell_type": "markdown",
            "source": [
                "# StatsOptimize\n",
                "\n",
                "## Intro and why Update Stats \n",
                "While a SqlPool can automatically create statistics in response to new table or operation on a column, it will never update this statistic. This may be ok if the table is only ever loaded once, but if the table has a lot of subsequent data movement, the original statistics will become out of date. We call this an out of date or **_stale statistic_**\n",
                "\n",
                "If a table is empty or has very limited data, SQL Server may also add “generic” statists that assume 1,000 rows, regardless of the actual row size. We call this a **_missing statistic_**. \n",
                "\n",
                "Lastly, we may have auto stats on a single column but ALSO another stat covering that column. This is a waste of resources as the query plan can only use one of the statists. We call that **_overlapping statistics_** and the impact of this is just wasted disk space and time maintaining them.\n",
                "\n",
                "\n",
                "## 2.1 First Things First. Check Auto Stats\n",
                "\n",
                "You can confirm this with the query below if auto stats is created.\n",
                "\n",
                "This also shows us a few other things\n",
                "\n",
                "- If Query Store is on (it probably should be)\n",
                "- If Result Set Caching is enabled (it probably should be)\n",
                "- We can see that Auto Update Stats is not enabled (not currently supported on SqlPools)\n",
                "\n",
                "If auto stats creation is not enabled, then you can enable it with the following command (recommended).\n",
                "\n",
                "ALTER DATABASE \\<yourdatawarehousename\\>  \n",
                "SET AUTO\\_CREATE\\_STATISTICS ON\n",
                "\n",
                "More details is contained in MS Article below\n",
                "\n",
                "<span style=\"color: windowtext;\"><a href=\"https://docs.microsoft.com/en-us/azure/synapse-analytics/sql/develop-tables-statistics\">https://docs.microsoft.com/en-us/azure/synapse-analytics/sql/develop-tables-statistics</a></span>"
            ],
            "metadata": {
                "azdata_cell_guid": "82dc9ce0-5d24-4d9a-b87f-9fae828a1bdf"
            },
            "attachments": {}
        },
        {
            "cell_type": "code",
            "source": [
                "select name, d.is_query_store_on, is_result_set_caching_on, is_query_store_on, is_auto_update_stats_on, is_auto_create_stats_on\r\n",
                "from sys.databases d where d.name =db_name()"
            ],
            "metadata": {
                "azdata_cell_guid": "b5d102bc-ca23-48b5-972a-a992c5adac0c"
            },
            "outputs": [
                {
                    "output_type": "display_data",
                    "data": {
                        "text/html": "(1 row affected)"
                    },
                    "metadata": {}
                },
                {
                    "output_type": "display_data",
                    "data": {
                        "text/html": "Total execution time: 00:00:00.194"
                    },
                    "metadata": {}
                },
                {
                    "output_type": "execute_result",
                    "metadata": {},
                    "execution_count": 1,
                    "data": {
                        "application/vnd.dataresource+json": {
                            "schema": {
                                "fields": [
                                    {
                                        "name": "name"
                                    },
                                    {
                                        "name": "is_query_store_on"
                                    },
                                    {
                                        "name": "is_result_set_caching_on"
                                    },
                                    {
                                        "name": "is_query_store_on"
                                    },
                                    {
                                        "name": "is_auto_update_stats_on"
                                    },
                                    {
                                        "name": "is_auto_create_stats_on"
                                    }
                                ]
                            },
                            "data": [
                                {
                                    "0": "AdventureWorksDW",
                                    "1": "1",
                                    "2": "1",
                                    "3": "1",
                                    "4": "0",
                                    "5": "1"
                                }
                            ]
                        },
                        "text/html": [
                            "<table>",
                            "<tr><th>name</th><th>is_query_store_on</th><th>is_result_set_caching_on</th><th>is_query_store_on</th><th>is_auto_update_stats_on</th><th>is_auto_create_stats_on</th></tr>",
                            "<tr><td>AdventureWorksDW</td><td>1</td><td>1</td><td>1</td><td>0</td><td>1</td></tr>",
                            "</table>"
                        ]
                    }
                }
            ],
            "execution_count": 1
        },
        {
            "cell_type": "code",
            "source": [
                "/* \r\n",
                "    We can see auto stats in action here by creating table . It will just hav estats on the CX\r\n",
                "\r\n",
                "    We have Views that show Stats at three different Level s\r\n",
                "    - dbo.vStats\r\n",
                "    - dbo.vPartitionStats (you wont need this unless using partitioning at say > 300  billion rows)\r\n",
                "*/\r\n",
                "\r\n",
                "IF OBJECT_ID('[dbo].[FactFinance1m]') is not null \r\n",
                "\tDROP TABLE [dbo].[FactFinance1m]\r\n",
                "GO\r\n",
                "CREATE TABLE [dbo].[FactFinance1m] WITH (\r\n",
                "\tDISTRIBUTION = ROUND_ROBIN, CLUSTERED COLUMNSTORE INDEX \r\n",
                ") AS\r\n",
                "SELECT TOP 1000000 * FROM [dbo].[FactFinance1b]\r\n",
                "GO\r\n",
                "\r\n",
                "SELECT * FROM dbo.vStats WHERE table_name='FactFinance1m'\r\n",
                "\r\n",
                ""
            ],
            "metadata": {
                "azdata_cell_guid": "e09bab0f-7b97-4f43-87af-38c00cc3dfd9"
            },
            "outputs": [
                {
                    "output_type": "display_data",
                    "data": {
                        "text/html": "Commands completed successfully."
                    },
                    "metadata": {}
                },
                {
                    "output_type": "display_data",
                    "data": {
                        "text/html": "(1000000 rows affected)"
                    },
                    "metadata": {}
                },
                {
                    "output_type": "display_data",
                    "data": {
                        "text/html": "(1 row affected)"
                    },
                    "metadata": {}
                },
                {
                    "output_type": "display_data",
                    "data": {
                        "text/html": "Total execution time: 00:00:14.939"
                    },
                    "metadata": {}
                },
                {
                    "output_type": "execute_result",
                    "metadata": {},
                    "execution_count": 4,
                    "data": {
                        "application/vnd.dataresource+json": {
                            "schema": {
                                "fields": [
                                    {
                                        "name": "object_id"
                                    },
                                    {
                                        "name": "stat_name"
                                    },
                                    {
                                        "name": "table_name"
                                    },
                                    {
                                        "name": "schema_name"
                                    },
                                    {
                                        "name": "stats_id"
                                    },
                                    {
                                        "name": "auto_created"
                                    },
                                    {
                                        "name": "filter_definition"
                                    },
                                    {
                                        "name": "last_updated_date"
                                    },
                                    {
                                        "name": "stat_columns"
                                    },
                                    {
                                        "name": "stats_row_count"
                                    },
                                    {
                                        "name": "actual_row_count"
                                    },
                                    {
                                        "name": "stats_difference_percent"
                                    },
                                    {
                                        "name": "sqlCommand"
                                    }
                                ]
                            },
                            "data": [
                                {
                                    "0": "1921441919",
                                    "1": "ClusteredIndex_9c7f77bcccaf4aeb94d2b77e8bacc0f2",
                                    "2": "FactFinance1m",
                                    "3": "dbo",
                                    "4": "1",
                                    "5": "0",
                                    "6": "NULL",
                                    "7": "NULL",
                                    "8": "AccountKey,ScenarioKey,DepartmentGroupKey,DateKey,OrganizationKey,Amount,Date,LineageKey,ID",
                                    "9": "1000000",
                                    "10": "1000000",
                                    "11": "0.00",
                                    "12": "UPDATE STATISTICS [dbo].[FactFinance1m] (ClusteredIndex_9c7f77bcccaf4aeb94d2b77e8bacc0f2) WITH FULLSCAN"
                                }
                            ]
                        },
                        "text/html": [
                            "<table>",
                            "<tr><th>object_id</th><th>stat_name</th><th>table_name</th><th>schema_name</th><th>stats_id</th><th>auto_created</th><th>filter_definition</th><th>last_updated_date</th><th>stat_columns</th><th>stats_row_count</th><th>actual_row_count</th><th>stats_difference_percent</th><th>sqlCommand</th></tr>",
                            "<tr><td>1921441919</td><td>ClusteredIndex_9c7f77bcccaf4aeb94d2b77e8bacc0f2</td><td>FactFinance1m</td><td>dbo</td><td>1</td><td>0</td><td>NULL</td><td>NULL</td><td>AccountKey,ScenarioKey,DepartmentGroupKey,DateKey,OrganizationKey,Amount,Date,LineageKey,ID</td><td>1000000</td><td>1000000</td><td>0.00</td><td>UPDATE STATISTICS [dbo].[FactFinance1m] (ClusteredIndex_9c7f77bcccaf4aeb94d2b77e8bacc0f2) WITH FULLSCAN</td></tr>",
                            "</table>"
                        ]
                    }
                }
            ],
            "execution_count": 4
        },
        {
            "cell_type": "code",
            "source": [
                "SELECT Count(distinct AccountKey) as accountKeys, Count(distinct DateKey) as Dates from [dbo].[FactFinance1m] \r\n",
                "\r\n",
                "\r\n",
                "SELECT * FROM dbo.vStats WHERE table_name='FactFinance1m'"
            ],
            "metadata": {
                "azdata_cell_guid": "616e1129-2174-45e3-bf6c-dacc338b591e"
            },
            "outputs": [
                {
                    "output_type": "display_data",
                    "data": {
                        "text/html": "(1 row affected)"
                    },
                    "metadata": {}
                },
                {
                    "output_type": "display_data",
                    "data": {
                        "text/html": "(3 rows affected)"
                    },
                    "metadata": {}
                },
                {
                    "output_type": "display_data",
                    "data": {
                        "text/html": "Total execution time: 00:00:03.794"
                    },
                    "metadata": {}
                },
                {
                    "output_type": "execute_result",
                    "metadata": {},
                    "execution_count": 7,
                    "data": {
                        "application/vnd.dataresource+json": {
                            "schema": {
                                "fields": [
                                    {
                                        "name": "accountKeys"
                                    },
                                    {
                                        "name": "Dates"
                                    }
                                ]
                            },
                            "data": [
                                {
                                    "0": "68",
                                    "1": "23"
                                }
                            ]
                        },
                        "text/html": [
                            "<table>",
                            "<tr><th>accountKeys</th><th>Dates</th></tr>",
                            "<tr><td>68</td><td>23</td></tr>",
                            "</table>"
                        ]
                    }
                },
                {
                    "output_type": "execute_result",
                    "metadata": {},
                    "execution_count": 7,
                    "data": {
                        "application/vnd.dataresource+json": {
                            "schema": {
                                "fields": [
                                    {
                                        "name": "object_id"
                                    },
                                    {
                                        "name": "stat_name"
                                    },
                                    {
                                        "name": "table_name"
                                    },
                                    {
                                        "name": "schema_name"
                                    },
                                    {
                                        "name": "stats_id"
                                    },
                                    {
                                        "name": "auto_created"
                                    },
                                    {
                                        "name": "filter_definition"
                                    },
                                    {
                                        "name": "last_updated_date"
                                    },
                                    {
                                        "name": "stat_columns"
                                    },
                                    {
                                        "name": "stats_row_count"
                                    },
                                    {
                                        "name": "actual_row_count"
                                    },
                                    {
                                        "name": "stats_difference_percent"
                                    },
                                    {
                                        "name": "sqlCommand"
                                    }
                                ]
                            },
                            "data": [
                                {
                                    "0": "1921441919",
                                    "1": "ClusteredIndex_9c7f77bcccaf4aeb94d2b77e8bacc0f2",
                                    "2": "FactFinance1m",
                                    "3": "dbo",
                                    "4": "1",
                                    "5": "0",
                                    "6": "NULL",
                                    "7": "NULL",
                                    "8": "AccountKey,ScenarioKey,DepartmentGroupKey,DateKey,OrganizationKey,Amount,Date,LineageKey,ID",
                                    "9": "1000000",
                                    "10": "1000000",
                                    "11": "0.00",
                                    "12": "UPDATE STATISTICS [dbo].[FactFinance1m] (ClusteredIndex_9c7f77bcccaf4aeb94d2b77e8bacc0f2) WITH FULLSCAN"
                                },
                                {
                                    "0": "1921441919",
                                    "1": "_WA_Sys_00000001_7286E07F",
                                    "2": "FactFinance1m",
                                    "3": "dbo",
                                    "4": "2",
                                    "5": "1",
                                    "6": "NULL",
                                    "7": "2021-08-23 12:57:55.707",
                                    "8": "AccountKey",
                                    "9": "1000000",
                                    "10": "1000000",
                                    "11": "0.00",
                                    "12": "UPDATE STATISTICS [dbo].[FactFinance1m] (_WA_Sys_00000001_7286E07F) WITH FULLSCAN"
                                },
                                {
                                    "0": "1921441919",
                                    "1": "_WA_Sys_00000004_7286E07F",
                                    "2": "FactFinance1m",
                                    "3": "dbo",
                                    "4": "3",
                                    "5": "1",
                                    "6": "NULL",
                                    "7": "2021-08-23 12:57:58.677",
                                    "8": "DateKey",
                                    "9": "1000000",
                                    "10": "1000000",
                                    "11": "0.00",
                                    "12": "UPDATE STATISTICS [dbo].[FactFinance1m] (_WA_Sys_00000004_7286E07F) WITH FULLSCAN"
                                }
                            ]
                        },
                        "text/html": [
                            "<table>",
                            "<tr><th>object_id</th><th>stat_name</th><th>table_name</th><th>schema_name</th><th>stats_id</th><th>auto_created</th><th>filter_definition</th><th>last_updated_date</th><th>stat_columns</th><th>stats_row_count</th><th>actual_row_count</th><th>stats_difference_percent</th><th>sqlCommand</th></tr>",
                            "<tr><td>1921441919</td><td>ClusteredIndex_9c7f77bcccaf4aeb94d2b77e8bacc0f2</td><td>FactFinance1m</td><td>dbo</td><td>1</td><td>0</td><td>NULL</td><td>NULL</td><td>AccountKey,ScenarioKey,DepartmentGroupKey,DateKey,OrganizationKey,Amount,Date,LineageKey,ID</td><td>1000000</td><td>1000000</td><td>0.00</td><td>UPDATE STATISTICS [dbo].[FactFinance1m] (ClusteredIndex_9c7f77bcccaf4aeb94d2b77e8bacc0f2) WITH FULLSCAN</td></tr>",
                            "<tr><td>1921441919</td><td>_WA_Sys_00000001_7286E07F</td><td>FactFinance1m</td><td>dbo</td><td>2</td><td>1</td><td>NULL</td><td>2021-08-23 12:57:55.707</td><td>AccountKey</td><td>1000000</td><td>1000000</td><td>0.00</td><td>UPDATE STATISTICS [dbo].[FactFinance1m] (_WA_Sys_00000001_7286E07F) WITH FULLSCAN</td></tr>",
                            "<tr><td>1921441919</td><td>_WA_Sys_00000004_7286E07F</td><td>FactFinance1m</td><td>dbo</td><td>3</td><td>1</td><td>NULL</td><td>2021-08-23 12:57:58.677</td><td>DateKey</td><td>1000000</td><td>1000000</td><td>0.00</td><td>UPDATE STATISTICS [dbo].[FactFinance1m] (_WA_Sys_00000004_7286E07F) WITH FULLSCAN</td></tr>",
                            "</table>"
                        ]
                    }
                }
            ],
            "execution_count": 7
        },
        {
            "cell_type": "markdown",
            "source": [
                "If we run a query doing an aggregate on a column we can see the auto stats kick in.\n",
                "\n",
                "We can also the the potenital for overlapping stats."
            ],
            "metadata": {
                "azdata_cell_guid": "4850578d-348e-4e71-8454-b58e32ec7c7e"
            },
            "attachments": {}
        }
    ]
}