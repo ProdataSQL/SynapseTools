{
    "metadata": {
        "kernelspec": {
            "name": "SQL",
            "display_name": "SQL",
            "language": "sql"
        },
        "language_info": {
            "name": "sql",
            "version": ""
        },
        "extensions": {
            "azuredatastudio": {
                "version": 1,
                "views": []
            }
        }
    },
    "nbformat_minor": 2,
    "nbformat": 4,
    "cells": [
        {
            "cell_type": "markdown",
            "source": [
                "# StatsOptimize\n",
                "\n",
                "## Intro and why Update Stats \n",
                "While a SqlPool can automatically create statistics in response to new table or operation on a column, it will never update this statistic. This may be ok if the table is only ever loaded once, but if the table has a lot of subsequent data movement, the original statistics will become out of date. We call this an out of date or **_stale statistic_**\n",
                "\n",
                "If a table is empty or has very limited data, SQL Server may also add “generic” statists that assume 1,000 rows, regardless of the actual row size. We call this a **_missing statistic_**. \n",
                "\n",
                "Lastly, we may have auto stats on a single column but ALSO another stat covering that column. This is a waste of resources as the query plan can only use one of the statists. We call that **_overlapping statistics_** and the impact of this is just wasted disk space and time maintaining them.\n",
                "\n",
                "\n",
                "## 2.1 First Things First. Check Auto Stats\n",
                "\n",
                "You can confirm this with the query below if auto stats is created.\n",
                "\n",
                "This also shows us a few other things\n",
                "\n",
                "- If Query Store is on (it probably should be)\n",
                "- If Result Set Caching is enabled (it probably should be)\n",
                "- We can see that Auto Update Stats is not enabled (not currently supported on SqlPools)\n",
                "\n",
                "If auto stats creation is not enabled, then you can enable it with the following command (recommended).\n",
                "\n",
                "ALTER DATABASE \\<yourdatawarehousename\\>  \n",
                "SET AUTO\\_CREATE\\_STATISTICS ON\n",
                "\n",
                "More details is contained in MS Article below\n",
                "\n",
                "<span style=\"color: windowtext;\"><a href=\"https://docs.microsoft.com/en-us/azure/synapse-analytics/sql/develop-tables-statistics\">https://docs.microsoft.com/en-us/azure/synapse-analytics/sql/develop-tables-statistics</a></span>"
            ],
            "metadata": {
                "azdata_cell_guid": "82dc9ce0-5d24-4d9a-b87f-9fae828a1bdf",
                "extensions": {
                    "azuredatastudio": {
                        "views": []
                    }
                }
            },
            "attachments": {}
        },
        {
            "cell_type": "code",
            "source": [
                "select name, d.is_query_store_on, is_result_set_caching_on, is_query_store_on, is_auto_update_stats_on, is_auto_create_stats_on\r\n",
                "from sys.databases d where d.name =db_name()"
            ],
            "metadata": {
                "azdata_cell_guid": "b5d102bc-ca23-48b5-972a-a992c5adac0c",
                "extensions": {
                    "azuredatastudio": {
                        "views": []
                    }
                }
            },
            "outputs": [
                {
                    "output_type": "display_data",
                    "data": {
                        "text/html": "(1 row affected)"
                    },
                    "metadata": {}
                },
                {
                    "output_type": "display_data",
                    "data": {
                        "text/html": "Total execution time: 00:00:00.194"
                    },
                    "metadata": {}
                },
                {
                    "output_type": "execute_result",
                    "execution_count": 1,
                    "data": {
                        "application/vnd.dataresource+json": {
                            "schema": {
                                "fields": [
                                    {
                                        "name": "name"
                                    },
                                    {
                                        "name": "is_query_store_on"
                                    },
                                    {
                                        "name": "is_result_set_caching_on"
                                    },
                                    {
                                        "name": "is_query_store_on"
                                    },
                                    {
                                        "name": "is_auto_update_stats_on"
                                    },
                                    {
                                        "name": "is_auto_create_stats_on"
                                    }
                                ]
                            },
                            "data": [
                                {
                                    "0": "AdventureWorksDW",
                                    "1": "1",
                                    "2": "1",
                                    "3": "1",
                                    "4": "0",
                                    "5": "1"
                                }
                            ]
                        },
                        "text/html": "<table><tr><th>name</th><th>is_query_store_on</th><th>is_result_set_caching_on</th><th>is_query_store_on</th><th>is_auto_update_stats_on</th><th>is_auto_create_stats_on</th></tr><tr><td>AdventureWorksDW</td><td>1</td><td>1</td><td>1</td><td>0</td><td>1</td></tr></table>"
                    },
                    "metadata": {}
                }
            ],
            "execution_count": 1
        },
        {
            "cell_type": "code",
            "source": [
                "/* \r\n",
                "    We can see auto stats in action here by creating table . It will just hav estats on the CX\r\n",
                "\r\n",
                "    We have Views that show Stats at three different Level s\r\n",
                "    - dbo.vStats\r\n",
                "    - dbo.vPartitionStats (you wont need this unless using partitioning at say > 300  billion rows)\r\n",
                "*/\r\n",
                "\r\n",
                "IF OBJECT_ID('[dbo].[FactFinance1m]') is not null \r\n",
                "\tDROP TABLE [dbo].[FactFinance1m]\r\n",
                "GO\r\n",
                "CREATE TABLE [dbo].[FactFinance1m] WITH (\r\n",
                "\tDISTRIBUTION = ROUND_ROBIN, CLUSTERED COLUMNSTORE INDEX \r\n",
                ") AS\r\n",
                "SELECT TOP 1000000 * FROM [dbo].[FactFinance1b]\r\n",
                "GO\r\n",
                "\r\n",
                "SELECT * FROM dbo.vStats WHERE table_name='FactFinance1m'\r\n",
                "\r\n",
                ""
            ],
            "metadata": {
                "azdata_cell_guid": "e09bab0f-7b97-4f43-87af-38c00cc3dfd9",
                "extensions": {
                    "azuredatastudio": {
                        "views": []
                    }
                }
            },
            "outputs": [
                {
                    "output_type": "display_data",
                    "data": {
                        "text/html": "Commands completed successfully."
                    },
                    "metadata": {}
                },
                {
                    "output_type": "display_data",
                    "data": {
                        "text/html": "(1000000 rows affected)"
                    },
                    "metadata": {}
                },
                {
                    "output_type": "display_data",
                    "data": {
                        "text/html": "(1 row affected)"
                    },
                    "metadata": {}
                },
                {
                    "output_type": "display_data",
                    "data": {
                        "text/html": "Total execution time: 00:00:14.939"
                    },
                    "metadata": {}
                },
                {
                    "output_type": "execute_result",
                    "execution_count": 4,
                    "data": {
                        "application/vnd.dataresource+json": {
                            "schema": {
                                "fields": [
                                    {
                                        "name": "object_id"
                                    },
                                    {
                                        "name": "stat_name"
                                    },
                                    {
                                        "name": "table_name"
                                    },
                                    {
                                        "name": "schema_name"
                                    },
                                    {
                                        "name": "stats_id"
                                    },
                                    {
                                        "name": "auto_created"
                                    },
                                    {
                                        "name": "filter_definition"
                                    },
                                    {
                                        "name": "last_updated_date"
                                    },
                                    {
                                        "name": "stat_columns"
                                    },
                                    {
                                        "name": "stats_row_count"
                                    },
                                    {
                                        "name": "actual_row_count"
                                    },
                                    {
                                        "name": "stats_difference_percent"
                                    },
                                    {
                                        "name": "sqlCommand"
                                    }
                                ]
                            },
                            "data": [
                                {
                                    "0": "1921441919",
                                    "1": "ClusteredIndex_9c7f77bcccaf4aeb94d2b77e8bacc0f2",
                                    "2": "FactFinance1m",
                                    "3": "dbo",
                                    "4": "1",
                                    "5": "0",
                                    "6": "NULL",
                                    "7": "NULL",
                                    "8": "AccountKey,ScenarioKey,DepartmentGroupKey,DateKey,OrganizationKey,Amount,Date,LineageKey,ID",
                                    "9": "1000000",
                                    "10": "1000000",
                                    "11": "0.00",
                                    "12": "UPDATE STATISTICS [dbo].[FactFinance1m] (ClusteredIndex_9c7f77bcccaf4aeb94d2b77e8bacc0f2) WITH FULLSCAN"
                                }
                            ]
                        },
                        "text/html": "<table><tr><th>object_id</th><th>stat_name</th><th>table_name</th><th>schema_name</th><th>stats_id</th><th>auto_created</th><th>filter_definition</th><th>last_updated_date</th><th>stat_columns</th><th>stats_row_count</th><th>actual_row_count</th><th>stats_difference_percent</th><th>sqlCommand</th></tr><tr><td>1921441919</td><td>ClusteredIndex_9c7f77bcccaf4aeb94d2b77e8bacc0f2</td><td>FactFinance1m</td><td>dbo</td><td>1</td><td>0</td><td>NULL</td><td>NULL</td><td>AccountKey,ScenarioKey,DepartmentGroupKey,DateKey,OrganizationKey,Amount,Date,LineageKey,ID</td><td>1000000</td><td>1000000</td><td>0.00</td><td>UPDATE STATISTICS [dbo].[FactFinance1m] (ClusteredIndex_9c7f77bcccaf4aeb94d2b77e8bacc0f2) WITH FULLSCAN</td></tr></table>"
                    },
                    "metadata": {}
                }
            ],
            "execution_count": 4
        },
        {
            "cell_type": "code",
            "source": [
                "SELECT Count(distinct AccountKey) as accountKeys, Count(distinct DateKey) as Dates from [dbo].[FactFinance1m] \r\n",
                "\r\n",
                "/* Prodata View to View Stats Information */\r\n",
                "SELECT * FROM dbo.vStats WHERE table_name='FactFinance1m'"
            ],
            "metadata": {
                "azdata_cell_guid": "616e1129-2174-45e3-bf6c-dacc338b591e",
                "extensions": {
                    "azuredatastudio": {
                        "views": []
                    }
                }
            },
            "outputs": [
                {
                    "output_type": "display_data",
                    "data": {
                        "text/html": "(1 row affected)"
                    },
                    "metadata": {}
                },
                {
                    "output_type": "display_data",
                    "data": {
                        "text/html": "(3 rows affected)"
                    },
                    "metadata": {}
                },
                {
                    "output_type": "display_data",
                    "data": {
                        "text/html": "Total execution time: 00:00:04.026"
                    },
                    "metadata": {}
                },
                {
                    "output_type": "execute_result",
                    "metadata": {},
                    "execution_count": 2,
                    "data": {
                        "application/vnd.dataresource+json": {
                            "schema": {
                                "fields": [
                                    {
                                        "name": "accountKeys"
                                    },
                                    {
                                        "name": "Dates"
                                    }
                                ]
                            },
                            "data": [
                                {
                                    "0": "68",
                                    "1": "23"
                                }
                            ]
                        },
                        "text/html": [
                            "<table>",
                            "<tr><th>accountKeys</th><th>Dates</th></tr>",
                            "<tr><td>68</td><td>23</td></tr>",
                            "</table>"
                        ]
                    }
                },
                {
                    "output_type": "execute_result",
                    "metadata": {},
                    "execution_count": 2,
                    "data": {
                        "application/vnd.dataresource+json": {
                            "schema": {
                                "fields": [
                                    {
                                        "name": "object_id"
                                    },
                                    {
                                        "name": "stat_name"
                                    },
                                    {
                                        "name": "table_name"
                                    },
                                    {
                                        "name": "schema_name"
                                    },
                                    {
                                        "name": "stats_id"
                                    },
                                    {
                                        "name": "auto_created"
                                    },
                                    {
                                        "name": "filter_definition"
                                    },
                                    {
                                        "name": "last_updated_date"
                                    },
                                    {
                                        "name": "stat_columns"
                                    },
                                    {
                                        "name": "stats_row_count"
                                    },
                                    {
                                        "name": "actual_row_count"
                                    },
                                    {
                                        "name": "stats_difference_percent"
                                    },
                                    {
                                        "name": "dynamic_threshold_rows"
                                    },
                                    {
                                        "name": "stats_sample_rate"
                                    },
                                    {
                                        "name": "recommend_update"
                                    },
                                    {
                                        "name": "sqlCommand"
                                    }
                                ]
                            },
                            "data": [
                                {
                                    "0": "1953442033",
                                    "1": "ClusteredIndex_ecc8da729e134fe99547b46e1a9d1beb",
                                    "2": "FactFinance1m",
                                    "3": "dbo",
                                    "4": "1",
                                    "5": "0",
                                    "6": "NULL",
                                    "7": "NULL",
                                    "8": "AccountKey,ScenarioKey,DepartmentGroupKey,DateKey,OrganizationKey,Amount,Date,LineageKey,ID",
                                    "9": "1000000",
                                    "10": "1000000",
                                    "11": "0.00",
                                    "12": "31622",
                                    "13": "100",
                                    "14": "0",
                                    "15": "UPDATE STATISTICS [dbo].[FactFinance1m] (ClusteredIndex_ecc8da729e134fe99547b46e1a9d1beb) WITH FULLSCAN"
                                },
                                {
                                    "0": "1953442033",
                                    "1": "_WA_Sys_00000001_746F28F1",
                                    "2": "FactFinance1m",
                                    "3": "dbo",
                                    "4": "2",
                                    "5": "1",
                                    "6": "NULL",
                                    "7": "2021-08-31 12:08:15.003",
                                    "8": "AccountKey",
                                    "9": "1000000",
                                    "10": "1000000",
                                    "11": "0.00",
                                    "12": "31622",
                                    "13": "100",
                                    "14": "0",
                                    "15": "UPDATE STATISTICS [dbo].[FactFinance1m] (_WA_Sys_00000001_746F28F1) WITH FULLSCAN"
                                },
                                {
                                    "0": "1953442033",
                                    "1": "_WA_Sys_00000004_746F28F1",
                                    "2": "FactFinance1m",
                                    "3": "dbo",
                                    "4": "3",
                                    "5": "1",
                                    "6": "NULL",
                                    "7": "2021-08-23 15:17:28.400",
                                    "8": "DateKey",
                                    "9": "1000000",
                                    "10": "1000000",
                                    "11": "0.00",
                                    "12": "31622",
                                    "13": "100",
                                    "14": "0",
                                    "15": "UPDATE STATISTICS [dbo].[FactFinance1m] (_WA_Sys_00000004_746F28F1) WITH FULLSCAN"
                                }
                            ]
                        },
                        "text/html": [
                            "<table>",
                            "<tr><th>object_id</th><th>stat_name</th><th>table_name</th><th>schema_name</th><th>stats_id</th><th>auto_created</th><th>filter_definition</th><th>last_updated_date</th><th>stat_columns</th><th>stats_row_count</th><th>actual_row_count</th><th>stats_difference_percent</th><th>dynamic_threshold_rows</th><th>stats_sample_rate</th><th>recommend_update</th><th>sqlCommand</th></tr>",
                            "<tr><td>1953442033</td><td>ClusteredIndex_ecc8da729e134fe99547b46e1a9d1beb</td><td>FactFinance1m</td><td>dbo</td><td>1</td><td>0</td><td>NULL</td><td>NULL</td><td>AccountKey,ScenarioKey,DepartmentGroupKey,DateKey,OrganizationKey,Amount,Date,LineageKey,ID</td><td>1000000</td><td>1000000</td><td>0.00</td><td>31622</td><td>100</td><td>0</td><td>UPDATE STATISTICS [dbo].[FactFinance1m] (ClusteredIndex_ecc8da729e134fe99547b46e1a9d1beb) WITH FULLSCAN</td></tr>",
                            "<tr><td>1953442033</td><td>_WA_Sys_00000001_746F28F1</td><td>FactFinance1m</td><td>dbo</td><td>2</td><td>1</td><td>NULL</td><td>2021-08-31 12:08:15.003</td><td>AccountKey</td><td>1000000</td><td>1000000</td><td>0.00</td><td>31622</td><td>100</td><td>0</td><td>UPDATE STATISTICS [dbo].[FactFinance1m] (_WA_Sys_00000001_746F28F1) WITH FULLSCAN</td></tr>",
                            "<tr><td>1953442033</td><td>_WA_Sys_00000004_746F28F1</td><td>FactFinance1m</td><td>dbo</td><td>3</td><td>1</td><td>NULL</td><td>2021-08-23 15:17:28.400</td><td>DateKey</td><td>1000000</td><td>1000000</td><td>0.00</td><td>31622</td><td>100</td><td>0</td><td>UPDATE STATISTICS [dbo].[FactFinance1m] (_WA_Sys_00000004_746F28F1) WITH FULLSCAN</td></tr>",
                            "</table>"
                        ]
                    }
                }
            ],
            "execution_count": 2
        },
        {
            "cell_type": "markdown",
            "source": [
                "If we run a query doing an aggregate on a column we can see the auto stats kick in.\n",
                "\n",
                "We can also see the the potenital for overlapping stats on AccopuntKey Above"
            ],
            "metadata": {
                "azdata_cell_guid": "4850578d-348e-4e71-8454-b58e32ec7c7e",
                "extensions": {
                    "azuredatastudio": {
                        "views": []
                    }
                }
            },
            "attachments": {}
        },
        {
            "cell_type": "code",
            "source": [
                "/*We can see what a Stats object looks like with below query */\r\n",
                "\r\n",
                "\r\n",
                "DBCC SHOW_STATISTICS ('dbo.FactFinance1m' , _WA_Sys_00000004_746F28F1)\r\n",
                "\r\n",
                ""
            ],
            "metadata": {
                "azdata_cell_guid": "4f9ddbd7-7f42-40a3-88fd-db70cca9ebf9",
                "tags": []
            },
            "outputs": [
                {
                    "output_type": "display_data",
                    "data": {
                        "text/html": "(1 row affected)"
                    },
                    "metadata": {}
                },
                {
                    "output_type": "display_data",
                    "data": {
                        "text/html": "(1 row affected)"
                    },
                    "metadata": {}
                },
                {
                    "output_type": "display_data",
                    "data": {
                        "text/html": "(23 rows affected)"
                    },
                    "metadata": {}
                },
                {
                    "output_type": "display_data",
                    "data": {
                        "text/html": "Total execution time: 00:00:00.065"
                    },
                    "metadata": {}
                },
                {
                    "output_type": "execute_result",
                    "metadata": {},
                    "execution_count": 10,
                    "data": {
                        "application/vnd.dataresource+json": {
                            "schema": {
                                "fields": [
                                    {
                                        "name": "Name"
                                    },
                                    {
                                        "name": "Updated"
                                    },
                                    {
                                        "name": "Rows"
                                    },
                                    {
                                        "name": "Rows Sampled"
                                    },
                                    {
                                        "name": "Steps"
                                    },
                                    {
                                        "name": "Density"
                                    },
                                    {
                                        "name": "Average key length"
                                    },
                                    {
                                        "name": "String Index"
                                    },
                                    {
                                        "name": "Filter Expression"
                                    },
                                    {
                                        "name": "Unfiltered Rows"
                                    },
                                    {
                                        "name": "Persisted Sample Percent"
                                    }
                                ]
                            },
                            "data": [
                                {
                                    "0": "_WA_Sys_00000004_746F28F1",
                                    "1": "Aug 23 2021  3:17PM",
                                    "2": "1000000",
                                    "3": "1000000",
                                    "4": "23",
                                    "5": "0.04347826",
                                    "6": "4",
                                    "7": "NO ",
                                    "8": "NULL",
                                    "9": "1000000",
                                    "10": "0"
                                }
                            ]
                        },
                        "text/html": [
                            "<table>",
                            "<tr><th>Name</th><th>Updated</th><th>Rows</th><th>Rows Sampled</th><th>Steps</th><th>Density</th><th>Average key length</th><th>String Index</th><th>Filter Expression</th><th>Unfiltered Rows</th><th>Persisted Sample Percent</th></tr>",
                            "<tr><td>_WA_Sys_00000004_746F28F1</td><td>Aug 23 2021  3:17PM</td><td>1000000</td><td>1000000</td><td>23</td><td>0.04347826</td><td>4</td><td>NO </td><td>NULL</td><td>1000000</td><td>0</td></tr>",
                            "</table>"
                        ]
                    }
                },
                {
                    "output_type": "execute_result",
                    "metadata": {},
                    "execution_count": 10,
                    "data": {
                        "application/vnd.dataresource+json": {
                            "schema": {
                                "fields": [
                                    {
                                        "name": "All density"
                                    },
                                    {
                                        "name": "Average Length"
                                    },
                                    {
                                        "name": "Columns"
                                    }
                                ]
                            },
                            "data": [
                                {
                                    "0": "0.05928854",
                                    "1": "4",
                                    "2": "DateKey"
                                }
                            ]
                        },
                        "text/html": [
                            "<table>",
                            "<tr><th>All density</th><th>Average Length</th><th>Columns</th></tr>",
                            "<tr><td>0.05928854</td><td>4</td><td>DateKey</td></tr>",
                            "</table>"
                        ]
                    }
                },
                {
                    "output_type": "execute_result",
                    "metadata": {},
                    "execution_count": 10,
                    "data": {
                        "application/vnd.dataresource+json": {
                            "schema": {
                                "fields": [
                                    {
                                        "name": "RANGE_HI_KEY"
                                    },
                                    {
                                        "name": "RANGE_ROWS"
                                    },
                                    {
                                        "name": "EQ_ROWS"
                                    },
                                    {
                                        "name": "DISTINCT_RANGE_ROWS"
                                    },
                                    {
                                        "name": "AVG_RANGE_ROWS"
                                    }
                                ]
                            },
                            "data": [
                                {
                                    "0": "20110501",
                                    "1": "0",
                                    "2": "19224",
                                    "3": "0",
                                    "4": "1"
                                },
                                {
                                    "0": "20110531",
                                    "1": "0",
                                    "2": "29336",
                                    "3": "0",
                                    "4": "1"
                                },
                                {
                                    "0": "20110701",
                                    "1": "0",
                                    "2": "34396",
                                    "3": "0",
                                    "4": "1"
                                },
                                {
                                    "0": "20110801",
                                    "1": "0",
                                    "2": "6204",
                                    "3": "0",
                                    "4": "1"
                                },
                                {
                                    "0": "20110829",
                                    "1": "0",
                                    "2": "17116",
                                    "3": "0",
                                    "4": "1"
                                },
                                {
                                    "0": "20110929",
                                    "1": "0",
                                    "2": "60188",
                                    "3": "0",
                                    "4": "1"
                                },
                                {
                                    "0": "20111129",
                                    "1": "0",
                                    "2": "70544",
                                    "3": "0",
                                    "4": "1"
                                },
                                {
                                    "0": "20111228",
                                    "1": "0",
                                    "2": "2256",
                                    "3": "0",
                                    "4": "1"
                                },
                                {
                                    "0": "20120229",
                                    "1": "0",
                                    "2": "31768",
                                    "3": "0",
                                    "4": "1"
                                },
                                {
                                    "0": "20120330",
                                    "1": "0",
                                    "2": "20000",
                                    "3": "0",
                                    "4": "1"
                                },
                                {
                                    "0": "20120430",
                                    "1": "0",
                                    "2": "6768",
                                    "3": "0",
                                    "4": "1"
                                },
                                {
                                    "0": "20120828",
                                    "1": "0",
                                    "2": "39648",
                                    "3": "0",
                                    "4": "1"
                                },
                                {
                                    "0": "20120928",
                                    "1": "0",
                                    "2": "90083",
                                    "3": "0",
                                    "4": "1"
                                },
                                {
                                    "0": "20121028",
                                    "1": "0",
                                    "2": "116416",
                                    "3": "0",
                                    "4": "1"
                                },
                                {
                                    "0": "20121128",
                                    "1": "0",
                                    "2": "22220",
                                    "3": "0",
                                    "4": "1"
                                },
                                {
                                    "0": "20130228",
                                    "1": "0",
                                    "2": "1963",
                                    "3": "0",
                                    "4": "1"
                                },
                                {
                                    "0": "20130330",
                                    "1": "0",
                                    "2": "96794",
                                    "3": "0",
                                    "4": "1"
                                },
                                {
                                    "0": "20130430",
                                    "1": "0",
                                    "2": "93340",
                                    "3": "0",
                                    "4": "1"
                                },
                                {
                                    "0": "20130530",
                                    "1": "0",
                                    "2": "55911",
                                    "3": "0",
                                    "4": "1"
                                },
                                {
                                    "0": "20130630",
                                    "1": "0",
                                    "2": "74024",
                                    "3": "0",
                                    "4": "1"
                                },
                                {
                                    "0": "20130731",
                                    "1": "0",
                                    "2": "33528",
                                    "3": "0",
                                    "4": "1"
                                },
                                {
                                    "0": "20130829",
                                    "1": "0",
                                    "2": "20000",
                                    "3": "0",
                                    "4": "1"
                                },
                                {
                                    "0": "20130929",
                                    "1": "0",
                                    "2": "58273",
                                    "3": "0",
                                    "4": "1"
                                }
                            ]
                        },
                        "text/html": [
                            "<table>",
                            "<tr><th>RANGE_HI_KEY</th><th>RANGE_ROWS</th><th>EQ_ROWS</th><th>DISTINCT_RANGE_ROWS</th><th>AVG_RANGE_ROWS</th></tr>",
                            "<tr><td>20110501</td><td>0</td><td>19224</td><td>0</td><td>1</td></tr>",
                            "<tr><td>20110531</td><td>0</td><td>29336</td><td>0</td><td>1</td></tr>",
                            "<tr><td>20110701</td><td>0</td><td>34396</td><td>0</td><td>1</td></tr>",
                            "<tr><td>20110801</td><td>0</td><td>6204</td><td>0</td><td>1</td></tr>",
                            "<tr><td>20110829</td><td>0</td><td>17116</td><td>0</td><td>1</td></tr>",
                            "<tr><td>20110929</td><td>0</td><td>60188</td><td>0</td><td>1</td></tr>",
                            "<tr><td>20111129</td><td>0</td><td>70544</td><td>0</td><td>1</td></tr>",
                            "<tr><td>20111228</td><td>0</td><td>2256</td><td>0</td><td>1</td></tr>",
                            "<tr><td>20120229</td><td>0</td><td>31768</td><td>0</td><td>1</td></tr>",
                            "<tr><td>20120330</td><td>0</td><td>20000</td><td>0</td><td>1</td></tr>",
                            "<tr><td>20120430</td><td>0</td><td>6768</td><td>0</td><td>1</td></tr>",
                            "<tr><td>20120828</td><td>0</td><td>39648</td><td>0</td><td>1</td></tr>",
                            "<tr><td>20120928</td><td>0</td><td>90083</td><td>0</td><td>1</td></tr>",
                            "<tr><td>20121028</td><td>0</td><td>116416</td><td>0</td><td>1</td></tr>",
                            "<tr><td>20121128</td><td>0</td><td>22220</td><td>0</td><td>1</td></tr>",
                            "<tr><td>20130228</td><td>0</td><td>1963</td><td>0</td><td>1</td></tr>",
                            "<tr><td>20130330</td><td>0</td><td>96794</td><td>0</td><td>1</td></tr>",
                            "<tr><td>20130430</td><td>0</td><td>93340</td><td>0</td><td>1</td></tr>",
                            "<tr><td>20130530</td><td>0</td><td>55911</td><td>0</td><td>1</td></tr>",
                            "<tr><td>20130630</td><td>0</td><td>74024</td><td>0</td><td>1</td></tr>",
                            "<tr><td>20130731</td><td>0</td><td>33528</td><td>0</td><td>1</td></tr>",
                            "<tr><td>20130829</td><td>0</td><td>20000</td><td>0</td><td>1</td></tr>",
                            "<tr><td>20130929</td><td>0</td><td>58273</td><td>0</td><td>1</td></tr>",
                            "</table>"
                        ]
                    }
                }
            ],
            "execution_count": 10
        }
    ]
}