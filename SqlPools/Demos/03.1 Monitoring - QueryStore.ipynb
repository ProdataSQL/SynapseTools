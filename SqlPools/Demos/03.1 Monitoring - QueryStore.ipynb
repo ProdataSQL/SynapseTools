{
    "metadata": {
        "kernelspec": {
            "name": "SQL",
            "display_name": "SQL",
            "language": "sql"
        },
        "language_info": {
            "name": "sql",
            "version": ""
        },
        "extensions": {
            "azuredatastudio": {
                "version": 1,
                "views": []
            }
        }
    },
    "nbformat_minor": 2,
    "nbformat": 4,
    "cells": [
        {
            "cell_type": "code",
            "source": [
                "SELECT\r\n",
                "\t[qsq].[query_id], \r\n",
                "\tCOUNT([qsp].[plan_id]) AS [PlanCount],\r\n",
                "\tOBJECT_NAME([qsq].[object_id]) [ObjectName], \r\n",
                "\tMAX([qsp].[last_execution_time]) AS [LocalLastExecutionTime],\r\n",
                "\tMAX([qst].query_sql_text) AS [Query_Text]\r\n",
                "FROM [sys].[query_store_query] [qsq] \r\n",
                "JOIN [sys].[query_store_query_text] [qst]\r\n",
                "\tON [qsq].[query_text_id] = [qst].[query_text_id]\r\n",
                "JOIN [sys].[query_store_plan] [qsp] \r\n",
                "\tON [qsq].[query_id] = [qsp].[query_id]\r\n",
                "--WHERE [qsp].[last_execution_time] > DATEADD(HOUR, -8, GETUTCDATE())\r\n",
                "GROUP BY [qsq].[query_id], [qsq].[object_id]\r\n",
                "HAVING COUNT([qsp].[plan_id]) > 1;\r\n",
                "GO"
            ],
            "metadata": {
                "azdata_cell_guid": "25ab7a26-c74b-4563-ba30-2aa46c33ae05"
            },
            "outputs": [],
            "execution_count": null
        }
    ]
}