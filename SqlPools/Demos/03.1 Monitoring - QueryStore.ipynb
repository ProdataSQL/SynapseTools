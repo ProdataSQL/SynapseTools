{
    "metadata": {
        "kernelspec": {
            "name": "SQL",
            "display_name": "SQL",
            "language": "sql"
        },
        "language_info": {
            "name": "sql",
            "version": ""
        },
        "extensions": {
            "azuredatastudio": {
                "version": 1,
                "views": []
            }
        }
    },
    "nbformat_minor": 2,
    "nbformat": 4,
    "cells": [
        {
            "cell_type": "code",
            "source": [
                "SELECT\r\n",
                "\t[qsq].[query_id], \r\n",
                "\tCOUNT([qsp].[plan_id]) AS [PlanCount],\r\n",
                "\tOBJECT_NAME([qsq].[object_id]) [ObjectName], \r\n",
                "\tMAX([qsp].[last_execution_time]) AS [LocalLastExecutionTime],\r\n",
                "\tMAX([qst].query_sql_text) AS [Query_Text]\r\n",
                "FROM [sys].[query_store_query] [qsq] \r\n",
                "JOIN [sys].[query_store_query_text] [qst]\r\n",
                "\tON [qsq].[query_text_id] = [qst].[query_text_id]\r\n",
                "JOIN [sys].[query_store_plan] [qsp] \r\n",
                "\tON [qsq].[query_id] = [qsp].[query_id]\r\n",
                "--WHERE [qsp].[last_execution_time] > DATEADD(HOUR, -8, GETUTCDATE())\r\n",
                "GROUP BY [qsq].[query_id], [qsq].[object_id]\r\n",
                "HAVING COUNT([qsp].[plan_id]) > 1;\r\n",
                "GO"
            ],
            "metadata": {
                "azdata_cell_guid": "25ab7a26-c74b-4563-ba30-2aa46c33ae05",
                "language": "sql",
                "tags": []
            },
            "outputs": [
                {
                    "output_type": "display_data",
                    "data": {
                        "text/html": "(22 rows affected)"
                    },
                    "metadata": {}
                },
                {
                    "output_type": "display_data",
                    "data": {
                        "text/html": "Total execution time: 00:00:00.141"
                    },
                    "metadata": {}
                },
                {
                    "output_type": "execute_result",
                    "execution_count": 1,
                    "data": {
                        "application/vnd.dataresource+json": {
                            "schema": {
                                "fields": [
                                    {
                                        "name": "query_id"
                                    },
                                    {
                                        "name": "PlanCount"
                                    },
                                    {
                                        "name": "ObjectName"
                                    },
                                    {
                                        "name": "LocalLastExecutionTime"
                                    },
                                    {
                                        "name": "Query_Text"
                                    }
                                ]
                            },
                            "data": [
                                {
                                    "0": "3230",
                                    "1": "2",
                                    "2": "NULL",
                                    "3": "2022-07-06 07:47:55.2730000 +00:00",
                                    "4": "SELECT  coalesce(coalesce(ds.ExtractMethod, dr.ExtractMethod),'#') AS '#', dr.TargetTableName AS '#', ds.SchemaName AS '#', dr.TruncateTable AS '#', dr.SourceObject AS '#' FROM config.DataReaders dr\r\n\t\tINNER JOIN [config].[DataSources] ds on ds.SourceID=dr.SourceID\r\n\t\tINNER JOIN config.Configurations c on c.ConfigurationID=ds.[ConfigurationID]\r\n\t\tWHERE dr.ReaderID= CAST(-1 AS Int)"
                                },
                                {
                                    "0": "3233",
                                    "1": "2",
                                    "2": "NULL",
                                    "3": "2022-07-06 07:49:38.9900000 +00:00",
                                    "4": "SELECT coalesce(dr.AddTimestamp,-1) AS '#', dr.TruncateTable AS '#', ds.SchemaName + '#' + dr.TargetTableName AS '#' FROM config.DataReaders dr\r\n\tINNER JOIN config.DataSources ds on ds.SourceID=dr.SourceID\r\n\tWHERE dr.ReaderID= CAST(-1 AS SmallInt)"
                                },
                                {
                                    "0": "3241",
                                    "1": "2",
                                    "2": "NULL",
                                    "3": "2022-07-06 07:47:56.4770000 +00:00",
                                    "4": "SELECT dr.SourceObject AS '#', dr.TargetTableName AS '#', ds.SchemaName AS '#', dr.LineageEnabled AS '#', ds.Container AS '#', ds.Folder AS '#', dr.SubDirectory AS '#', coalesce(ds.Delimiter,'#') AS '#', c.Token AS '#', coalesce(ds.BlobStorageType,'#') AS '#', coalesce(ds.BlobFileType,'#') AS '#', c.[ConfigurationValue] AS '#', coalesce(c.CredentialIdentity,'#') AS '#', coalesce( dr.FirstRow, ds.FirstRow,-1) AS '#', coalesce( dr.RowTerminator,ds.RowTerminator, '#') AS '#', coalesce(dr.AddFileName,-1) AS '#', coalesce(dr.AddTimestamp,-1) AS '#', nullif(dr.SelectColumns,'#') AS '#', dr.DateFormat AS '#' FROM config.DataReaders dr\r\n\tINNER JOIN [config].[DataSources] ds on ds.SourceID=dr.SourceID\r\n\tINNER JOIN config.Configurations c on c.ConfigurationID=ds.[ConfigurationID]\r\n\tWHERE dr.ReaderID= CAST(-1 AS Int)"
                                },
                                {
                                    "0": "3252",
                                    "1": "2",
                                    "2": "NULL",
                                    "3": "2022-07-06 07:50:08.0370000 +00:00",
                                    "4": "select -1 where exists (SELECT * FROM config.DataReaders dr INNER JOIN config.DataSources ds on ds.SourceID =dr.SourceID WHERE dr.ReaderID = CAST(-1 AS SmallInt)  and (ds.ArchiveAction is not null or dr.ArchiveAction is not null))"
                                },
                                {
                                    "0": "3400",
                                    "1": "2",
                                    "2": "NULL",
                                    "3": "2022-07-06 08:10:24.6500000 +00:00",
                                    "4": "SELECT COUNT(*) AS '#' FROM audit.ExtractLog s WHERE ExecutionKey = CAST(-1 AS Int)  and Status='#'"
                                },
                                {
                                    "0": "3438",
                                    "1": "2",
                                    "2": "NULL",
                                    "3": "2022-07-07 16:33:16.6600000 +00:00",
                                    "4": "SELECT [Value] AS '#' FROM config.Settings \r\n\tWHERE [Entity]= CAST('#' AS VarChar(50)) \r\n\tAND Attribute =  CAST('#' AS VarChar(50))"
                                },
                                {
                                    "0": "3460",
                                    "1": "2",
                                    "2": "NULL",
                                    "3": "2022-07-06 07:47:56.2570000 +00:00",
                                    "4": "SELECT t.TableType AS '#' FROM  [config].[edwTables] t WHERE SourceObject= CAST(N'#' AS NVarChar(128))  + '#' +  CAST(N'#' AS NVarChar(128))"
                                },
                                {
                                    "0": "3502",
                                    "1": "2",
                                    "2": "NULL",
                                    "3": "2022-07-07 16:33:16.7670000 +00:00",
                                    "4": "SELECT t.TableID AS '#', SchemaName AS '#', TableName AS '#', t.SourceObject AS '#', t.TableType AS '#', t.SchemaName AS '#', t.TableName AS '#', t.SourceType AS '#', t.PrimaryKey AS '#', t.BusinessKeys AS '#', coalesce(t.UpdateFlag,-1) AS '#', coalesce(t.TablePrefix, lower(left(replace(t.TableName, '#','#'),-1))) AS '#', coalesce (t.AutoDrop,-1) AS '#', coalesce(t.AutoTruncate,-1) AS '#', coalesce(t.[Identity], case when charindex('#',t.BusinessKeys) > -1 and t.TableType='#' THEN -1 ELSE -1 END ) AS '#', coalesce(t.Distribution, case when t.TableType='#' THEN '#' ELSE '#' END ) AS '#', coalesce(t.TableStructure , case when t.TableType='#' THEN '#' ELSE '#' END) AS '#', t.CTAS AS '#', coalesce(t.DedupeRows,-1) AS '#', coalesce(t.Prestage,-1) AS '#', coalesce(t.PrestageSchema,'#') AS '#', coalesce(t.PrestageTable, t.TableName) AS '#', coalesce(t.PrestageSchema,'#') + coalesce(t.PrestageTable, t.TableName) AS '#', t.DeleteDDL AS '#', t.SchemaName + '#' +  t.TableName AS '#', coalesce(t.DeleteFlag, case when t.DeleteDDL is not null then -1 else -1 end ) AS '#', t.SkipSqlCondition AS '#', coalesce(t.InsertFlag,-1) AS '#', t.DeltaTargetObject AS '#', -1 AS '#', t.PostLoadSQL AS '#', t.PreLoadSQL AS '#', coalesce(t.JoinType, '#') AS '#', coalesce('#' + t.WhereSQL,null) AS '#', coalesce(t.AutoIndex, case when t.TableType='#' and t.BusinessKeys is not null then -1 end ) AS '#' FROM config.edwTables t \r\n\tWHERE (((t.SchemaName + '#' +  t.TableName = CAST('#' AS VarChar(512)) ) OR t.TableName = CAST('#' AS VarChar(512)) ) and  CAST(NULL AS Int)  is null) OR t.TableID =  CAST(NULL AS Int)"
                                },
                                {
                                    "0": "3511",
                                    "1": "3",
                                    "2": "NULL",
                                    "3": "2022-07-07 16:33:22.5170000 +00:00",
                                    "4": "WITH r as (\r\n\t\t\tSELECT r.TableID as RelatedTableID\r\n\t\t\t, coalesce(j.JoinSQL, string_agg(  '#'  + ltrim(bk.value) + '#' +  coalesce(r.TablePrefix, lower(left(replace(r.TableName, '#','#'),-1)))  +'#' +  ltrim(bk.value)  ,'#')) fk\r\n\t\t\t, r.BusinessKeys   , r.SchemaName, r.TableName,r.PrimaryKey\r\n\t\t\t, min(coalesce(r.TablePrefix, lower(left(replace(r.TableName, '#','#'),-1)))) TablePrefix\r\n\t\t\tFROM config.edwTables r\r\n\t\t\tINNER JOIN config.edwTableJoins j on j.RelatedTableID =r.TableID \r\n\t\t\tCROSS APPLY string_split (r.BusinessKeys,'#') bk\r\n\t\t\tWHERE j.TableID= CAST(-1 AS Int) \r\n\t\t\tGROUP BY r.TableID, r.BusinessKeys  , r.SchemaName, r.TableName, r.PrimaryKey, j.JoinSQL\r\n\t\t), t as (\r\n\t\t\tSELECT t.TableID, coalesce(t.TablePrefix, lower(left(replace(t.TableName, '#','#') ,-1)) ) as TablePrefix\r\n\t\t\tFROM config.edwTables t\r\n\t\t\tWHERE  t.TableID= CAST(-1 AS Int) \r\n\t\t)\r\n\t\tSELECT string_agg( coalesce(j.AliasPK, r.PrimaryKey), '#') AS '#', string_agg( r.TablePrefix + '#' + r.PrimaryKey  + coalesce('#' + j.AliasPK,'#') , '#') + char(13) AS '#', string_agg( r.BusinessKeys, '#') AS '#', string_agg( '#' + quotename(r.SchemaName) + '#' + quotename (r.TableName) + '#' + r.TablePrefix \r\n\t\t+ '#' +  r.fk  ,char(13)) AS '#' FROM config.edwTableJoins j \r\n\t\tINNER JOIN r on j.RelatedTableID =r.RelatedTableID\r\n\t\tWHERE j.TableID= CAST(-1 AS Int)"
                                },
                                {
                                    "0": "3512",
                                    "1": "3",
                                    "2": "NULL",
                                    "3": "2022-07-07 16:33:22.5800000 +00:00",
                                    "4": "select -1 where exists (SELECT * FROM config.edwTableJoins WHERE TableID= CAST(-1 AS Int) )"
                                },
                                {
                                    "0": "3515",
                                    "1": "2",
                                    "2": "NULL",
                                    "3": "2022-07-06 08:11:15.2930000 +00:00",
                                    "4": "SELECT t.SchemaName AS '#', t.TableName AS '#', t.TableType AS '#', t.SourceObject AS '#', t.[Identity] AS '#', t.[ColumnStore] AS '#', t.[Distribution] AS '#', t.TableStructure AS '#', t.PrimaryKey AS '#', t.BusinessKeys AS '#' FROM config.edwTables t WHERE (t.SchemaName + '#' +  t.TableName = CAST(NULL AS NVarChar(4000)) ) OR t.TableName = CAST(NULL AS NVarChar(4000))  OR t.TableID =  CAST(-1 AS Int)"
                                },
                                {
                                    "0": "3519",
                                    "1": "2",
                                    "2": "NULL",
                                    "3": "2022-07-06 08:11:15.7770000 +00:00",
                                    "4": "SELECT SourceObject AS '#', BusinessKeys AS '#', [Identity] AS '#', TableType AS '#', PrimaryKey AS '#', DeDupeRows AS '#' FROM config.edwTables \r\n\tWHERE TableID= CAST(-1 AS Int)"
                                },
                                {
                                    "0": "3520",
                                    "1": "2",
                                    "2": "NULL",
                                    "3": "2022-07-06 08:11:16.1370000 +00:00",
                                    "4": "SELECT string_agg(r.BusinessKeys, '#') AS '#' FROM config.edwTableJoins j  \r\n\tINNER JOIN config.edwTables r on j.RelatedTableID =r.TableID\r\n\tWHERE j.TableID= CAST(-1 AS Int)"
                                },
                                {
                                    "0": "3525",
                                    "1": "2",
                                    "2": "NULL",
                                    "3": "2022-07-06 08:15:21.9500000 +00:00",
                                    "4": "SELECT t.SchemaName AS '#', t.TableName AS '#', t.TableType AS '#', t.BusinessKeys AS '#', t.SchemaName + '#' + t.TableName AS '#', '#' + coalesce(replace(t.SchemaName, '#',null) + '#','#') + t.TableName + '#' AS '#' FROM config.edwTables t\r\n\tWHERE TableID= CAST(-1 AS Int)"
                                },
                                {
                                    "0": "3529",
                                    "1": "2",
                                    "2": "NULL",
                                    "3": "2022-07-07 16:33:30.5170000 +00:00",
                                    "4": "SELECT ll.[Status] AS '#', ll.ExecutionKey AS '#', CASE WHEN el.pipelineName='#' then -1 else -1 end AS '#' FROM audit.[LoadLog] ll\r\n\tLEFT JOIN audit.ExecutionLog el\r\n\t\tON ll.ExecutionKey=el.ExecutionKey\r\n\tWHERE LoadKey = CAST(-1 AS Int)"
                                },
                                {
                                    "0": "3540",
                                    "1": "3",
                                    "2": "NULL",
                                    "3": "2022-07-07 16:33:22.6430000 +00:00",
                                    "4": "SELECT coalesce( CAST(N'#' AS NVarChar(4000)) + '#' ,'#') + \r\n\t\t(\r\n\t\t\tselect string_agg(r.BusinessKeys, '#') \r\n\t\t\tfrom config.edwTableJoins j\r\n\t\t\tinner join config.edwTables r on r.TableID=j.RelatedTableID\r\n\t\t\twhere j.TableID= CAST(-1 AS Int) \r\n\t\t\tand (ShowBK is null or ShowBK=-1)\r\n\t\t) AS '#'"
                                },
                                {
                                    "0": "3552",
                                    "1": "2",
                                    "2": "NULL",
                                    "3": "2022-07-06 08:15:24.4030000 +00:00",
                                    "4": "SELECT t.TableID AS '#', SchemaName AS '#', TableName AS '#', t.SourceObject AS '#', t.TableType AS '#', t.SchemaName AS '#', t.TableName AS '#', t.SourceType AS '#', t.PrimaryKey AS '#', t.BusinessKeys AS '#', coalesce(t.UpdateFlag,-1) AS '#', coalesce(t.TablePrefix, lower(left(replace(t.TableName, '#','#'),-1))) AS '#', coalesce (t.AutoDrop,-1) AS '#', coalesce(t.AutoTruncate,-1) AS '#', coalesce(t.[Identity], case when charindex('#',t.BusinessKeys) > -1 and t.TableType='#' THEN -1 ELSE -1 END ) AS '#', coalesce(t.Distribution, case when t.TableType='#' THEN '#' ELSE '#' END ) AS '#', coalesce(t.TableStructure , case when t.TableType='#' THEN '#' ELSE '#' END) AS '#', t.CTAS AS '#', coalesce(t.DedupeRows,-1) AS '#', coalesce(t.Prestage,-1) AS '#', coalesce(t.PrestageSchema,'#') AS '#', coalesce(t.PrestageTable, t.TableName) AS '#', coalesce(t.PrestageSchema,'#') + coalesce(t.PrestageTable, t.TableName) AS '#', t.DeleteDDL AS '#', t.SchemaName + '#' +  t.TableName AS '#', coalesce(t.DeleteFlag, case when t.DeleteDDL is not null then -1 else -1 end ) AS '#', t.SkipSqlCondition AS '#', coalesce(t.InsertFlag,-1) AS '#', t.DeltaTargetObject AS '#', -1 AS '#', t.PostLoadSQL AS '#', t.PreLoadSQL AS '#', coalesce(t.JoinType, '#') AS '#', coalesce('#' + t.WhereSQL,null) AS '#', coalesce(t.AutoIndex, case when t.TableType='#' and t.BusinessKeys is not null then -1 end ) AS '#' FROM config.edwTables t \r\n\tWHERE (((t.SchemaName + '#' +  t.TableName = CAST(NULL AS VarChar(512)) ) OR t.TableName = CAST(NULL AS VarChar(512)) ) and  CAST(-1 AS Int)  is null) OR t.TableID =  CAST(-1 AS Int)"
                                },
                                {
                                    "0": "3598",
                                    "1": "2",
                                    "2": "NULL",
                                    "3": "2022-07-07 16:42:04.6670000 +00:00",
                                    "4": "SELECT [DateKey], [DepartmentGroupKey], [ScenarioKey], [OrganizationKey], [AccountKey], [Amount], [Date], [LineageKey]\r\n\tFROM dbo.FactFinance"
                                },
                                {
                                    "0": "3614",
                                    "1": "2",
                                    "2": "NULL",
                                    "3": "2022-07-07 17:41:22.3470000 +00:00",
                                    "4": "CREATE TABLE [dbo].[FactFinance1b]\r\n\tWITH\r\n\t(\r\n\t DISTRIBUTION = ROUND_ROBIN\r\n\t ,CLUSTERED COLUMNSTORE INDEX\r\n\t)\r\n\tAS\r\n\tSELECT TOP -1 [DateKey], [DepartmentGroupKey], [ScenarioKey], [OrganizationKey], [AccountKey], [Amount] *  (-1 * RAND(convert(varbinary, newid()))) as Amount , [Date], [LineageKey]\r\n\tFROM dbo.FactFinance\r\n\tCROSS  APPLY sys.objects s1\r\n\tCROSS  APPLY sys.objects s2\r\n\tCROSS  APPLY (SELECT TOP -1 * FROM sys.objects) s3"
                                },
                                {
                                    "0": "3664",
                                    "1": "2",
                                    "2": "NULL",
                                    "3": "2022-07-07 20:13:44.4270000 +00:00",
                                    "4": "SELECT Count(distinct AccountKey) as accountKeys, Count(distinct DateKey) as Dates from [dbo].[FactFinance1m]"
                                },
                                {
                                    "0": "3684",
                                    "1": "3",
                                    "2": "NULL",
                                    "3": "2022-07-07 20:39:56.8270000 +00:00",
                                    "4": "/* #### */\r\n\r\n\r\nselect d.[FiscalYear], d.DayOfWeek, sum(Amount) as Amount, count(*) as Rows  from \r\nFactFinance100m_nostats f \r\nINNER JOIN DimDate d on d.[DateKey]=f.DateKey \r\nWHERE d.DateKey=-1\r\nGROUP BY  d.[FiscalYear], d.DayOfWeek"
                                },
                                {
                                    "0": "3686",
                                    "1": "3",
                                    "2": "NULL",
                                    "3": "2022-07-07 20:40:14.4370000 +00:00",
                                    "4": "/* #### */\r\nselect d.[FiscalYear], d.DayOfWeek, sum(Amount) as Amount, count(*) as Rows  from \r\nFactFinance100m_nostats f \r\nINNER JOIN DimDate d on d.[DateKey]=f.DateKey \r\nWHERE d.DateKey=-1\r\nGROUP BY  d.[FiscalYear], d.DayOfWeek"
                                }
                            ]
                        },
                        "text/html": "<table><tr><th>query_id</th><th>PlanCount</th><th>ObjectName</th><th>LocalLastExecutionTime</th><th>Query_Text</th></tr><tr><td>3230</td><td>2</td><td>NULL</td><td>2022-07-06 07:47:55.2730000 +00:00</td><td>SELECT  coalesce(coalesce(ds.ExtractMethod, dr.ExtractMethod),'#') AS '#', dr.TargetTableName AS '#', ds.SchemaName AS '#', dr.TruncateTable AS '#', dr.SourceObject AS '#' FROM config.DataReaders dr\r\n\t\tINNER JOIN [config].[DataSources] ds on ds.SourceID=dr.SourceID\r\n\t\tINNER JOIN config.Configurations c on c.ConfigurationID=ds.[ConfigurationID]\r\n\t\tWHERE dr.ReaderID= CAST(-1 AS Int)</td></tr><tr><td>3233</td><td>2</td><td>NULL</td><td>2022-07-06 07:49:38.9900000 +00:00</td><td>SELECT coalesce(dr.AddTimestamp,-1) AS '#', dr.TruncateTable AS '#', ds.SchemaName + '#' + dr.TargetTableName AS '#' FROM config.DataReaders dr\r\n\tINNER JOIN config.DataSources ds on ds.SourceID=dr.SourceID\r\n\tWHERE dr.ReaderID= CAST(-1 AS SmallInt)</td></tr><tr><td>3241</td><td>2</td><td>NULL</td><td>2022-07-06 07:47:56.4770000 +00:00</td><td>SELECT dr.SourceObject AS '#', dr.TargetTableName AS '#', ds.SchemaName AS '#', dr.LineageEnabled AS '#', ds.Container AS '#', ds.Folder AS '#', dr.SubDirectory AS '#', coalesce(ds.Delimiter,'#') AS '#', c.Token AS '#', coalesce(ds.BlobStorageType,'#') AS '#', coalesce(ds.BlobFileType,'#') AS '#', c.[ConfigurationValue] AS '#', coalesce(c.CredentialIdentity,'#') AS '#', coalesce( dr.FirstRow, ds.FirstRow,-1) AS '#', coalesce( dr.RowTerminator,ds.RowTerminator, '#') AS '#', coalesce(dr.AddFileName,-1) AS '#', coalesce(dr.AddTimestamp,-1) AS '#', nullif(dr.SelectColumns,'#') AS '#', dr.DateFormat AS '#' FROM config.DataReaders dr\r\n\tINNER JOIN [config].[DataSources] ds on ds.SourceID=dr.SourceID\r\n\tINNER JOIN config.Configurations c on c.ConfigurationID=ds.[ConfigurationID]\r\n\tWHERE dr.ReaderID= CAST(-1 AS Int)</td></tr><tr><td>3252</td><td>2</td><td>NULL</td><td>2022-07-06 07:50:08.0370000 +00:00</td><td>select -1 where exists (SELECT * FROM config.DataReaders dr INNER JOIN config.DataSources ds on ds.SourceID =dr.SourceID WHERE dr.ReaderID = CAST(-1 AS SmallInt)  and (ds.ArchiveAction is not null or dr.ArchiveAction is not null))</td></tr><tr><td>3400</td><td>2</td><td>NULL</td><td>2022-07-06 08:10:24.6500000 +00:00</td><td>SELECT COUNT(*) AS '#' FROM audit.ExtractLog s WHERE ExecutionKey = CAST(-1 AS Int)  and Status='#'</td></tr><tr><td>3438</td><td>2</td><td>NULL</td><td>2022-07-07 16:33:16.6600000 +00:00</td><td>SELECT [Value] AS '#' FROM config.Settings \r\n\tWHERE [Entity]= CAST('#' AS VarChar(50)) \r\n\tAND Attribute =  CAST('#' AS VarChar(50))</td></tr><tr><td>3460</td><td>2</td><td>NULL</td><td>2022-07-06 07:47:56.2570000 +00:00</td><td>SELECT t.TableType AS '#' FROM  [config].[edwTables] t WHERE SourceObject= CAST(N'#' AS NVarChar(128))  + '#' +  CAST(N'#' AS NVarChar(128))</td></tr><tr><td>3502</td><td>2</td><td>NULL</td><td>2022-07-07 16:33:16.7670000 +00:00</td><td>SELECT t.TableID AS '#', SchemaName AS '#', TableName AS '#', t.SourceObject AS '#', t.TableType AS '#', t.SchemaName AS '#', t.TableName AS '#', t.SourceType AS '#', t.PrimaryKey AS '#', t.BusinessKeys AS '#', coalesce(t.UpdateFlag,-1) AS '#', coalesce(t.TablePrefix, lower(left(replace(t.TableName, '#','#'),-1))) AS '#', coalesce (t.AutoDrop,-1) AS '#', coalesce(t.AutoTruncate,-1) AS '#', coalesce(t.[Identity], case when charindex('#',t.BusinessKeys) &gt; -1 and t.TableType='#' THEN -1 ELSE -1 END ) AS '#', coalesce(t.Distribution, case when t.TableType='#' THEN '#' ELSE '#' END ) AS '#', coalesce(t.TableStructure , case when t.TableType='#' THEN '#' ELSE '#' END) AS '#', t.CTAS AS '#', coalesce(t.DedupeRows,-1) AS '#', coalesce(t.Prestage,-1) AS '#', coalesce(t.PrestageSchema,'#') AS '#', coalesce(t.PrestageTable, t.TableName) AS '#', coalesce(t.PrestageSchema,'#') + coalesce(t.PrestageTable, t.TableName) AS '#', t.DeleteDDL AS '#', t.SchemaName + '#' +  t.TableName AS '#', coalesce(t.DeleteFlag, case when t.DeleteDDL is not null then -1 else -1 end ) AS '#', t.SkipSqlCondition AS '#', coalesce(t.InsertFlag,-1) AS '#', t.DeltaTargetObject AS '#', -1 AS '#', t.PostLoadSQL AS '#', t.PreLoadSQL AS '#', coalesce(t.JoinType, '#') AS '#', coalesce('#' + t.WhereSQL,null) AS '#', coalesce(t.AutoIndex, case when t.TableType='#' and t.BusinessKeys is not null then -1 end ) AS '#' FROM config.edwTables t \r\n\tWHERE (((t.SchemaName + '#' +  t.TableName = CAST('#' AS VarChar(512)) ) OR t.TableName = CAST('#' AS VarChar(512)) ) and  CAST(NULL AS Int)  is null) OR t.TableID =  CAST(NULL AS Int)</td></tr><tr><td>3511</td><td>3</td><td>NULL</td><td>2022-07-07 16:33:22.5170000 +00:00</td><td>WITH r as (\r\n\t\t\tSELECT r.TableID as RelatedTableID\r\n\t\t\t, coalesce(j.JoinSQL, string_agg(  '#'  + ltrim(bk.value) + '#' +  coalesce(r.TablePrefix, lower(left(replace(r.TableName, '#','#'),-1)))  +'#' +  ltrim(bk.value)  ,'#')) fk\r\n\t\t\t, r.BusinessKeys   , r.SchemaName, r.TableName,r.PrimaryKey\r\n\t\t\t, min(coalesce(r.TablePrefix, lower(left(replace(r.TableName, '#','#'),-1)))) TablePrefix\r\n\t\t\tFROM config.edwTables r\r\n\t\t\tINNER JOIN config.edwTableJoins j on j.RelatedTableID =r.TableID \r\n\t\t\tCROSS APPLY string_split (r.BusinessKeys,'#') bk\r\n\t\t\tWHERE j.TableID= CAST(-1 AS Int) \r\n\t\t\tGROUP BY r.TableID, r.BusinessKeys  , r.SchemaName, r.TableName, r.PrimaryKey, j.JoinSQL\r\n\t\t), t as (\r\n\t\t\tSELECT t.TableID, coalesce(t.TablePrefix, lower(left(replace(t.TableName, '#','#') ,-1)) ) as TablePrefix\r\n\t\t\tFROM config.edwTables t\r\n\t\t\tWHERE  t.TableID= CAST(-1 AS Int) \r\n\t\t)\r\n\t\tSELECT string_agg( coalesce(j.AliasPK, r.PrimaryKey), '#') AS '#', string_agg( r.TablePrefix + '#' + r.PrimaryKey  + coalesce('#' + j.AliasPK,'#') , '#') + char(13) AS '#', string_agg( r.BusinessKeys, '#') AS '#', string_agg( '#' + quotename(r.SchemaName) + '#' + quotename (r.TableName) + '#' + r.TablePrefix \r\n\t\t+ '#' +  r.fk  ,char(13)) AS '#' FROM config.edwTableJoins j \r\n\t\tINNER JOIN r on j.RelatedTableID =r.RelatedTableID\r\n\t\tWHERE j.TableID= CAST(-1 AS Int)</td></tr><tr><td>3512</td><td>3</td><td>NULL</td><td>2022-07-07 16:33:22.5800000 +00:00</td><td>select -1 where exists (SELECT * FROM config.edwTableJoins WHERE TableID= CAST(-1 AS Int) )</td></tr><tr><td>3515</td><td>2</td><td>NULL</td><td>2022-07-06 08:11:15.2930000 +00:00</td><td>SELECT t.SchemaName AS '#', t.TableName AS '#', t.TableType AS '#', t.SourceObject AS '#', t.[Identity] AS '#', t.[ColumnStore] AS '#', t.[Distribution] AS '#', t.TableStructure AS '#', t.PrimaryKey AS '#', t.BusinessKeys AS '#' FROM config.edwTables t WHERE (t.SchemaName + '#' +  t.TableName = CAST(NULL AS NVarChar(4000)) ) OR t.TableName = CAST(NULL AS NVarChar(4000))  OR t.TableID =  CAST(-1 AS Int)</td></tr><tr><td>3519</td><td>2</td><td>NULL</td><td>2022-07-06 08:11:15.7770000 +00:00</td><td>SELECT SourceObject AS '#', BusinessKeys AS '#', [Identity] AS '#', TableType AS '#', PrimaryKey AS '#', DeDupeRows AS '#' FROM config.edwTables \r\n\tWHERE TableID= CAST(-1 AS Int)</td></tr><tr><td>3520</td><td>2</td><td>NULL</td><td>2022-07-06 08:11:16.1370000 +00:00</td><td>SELECT string_agg(r.BusinessKeys, '#') AS '#' FROM config.edwTableJoins j  \r\n\tINNER JOIN config.edwTables r on j.RelatedTableID =r.TableID\r\n\tWHERE j.TableID= CAST(-1 AS Int)</td></tr><tr><td>3525</td><td>2</td><td>NULL</td><td>2022-07-06 08:15:21.9500000 +00:00</td><td>SELECT t.SchemaName AS '#', t.TableName AS '#', t.TableType AS '#', t.BusinessKeys AS '#', t.SchemaName + '#' + t.TableName AS '#', '#' + coalesce(replace(t.SchemaName, '#',null) + '#','#') + t.TableName + '#' AS '#' FROM config.edwTables t\r\n\tWHERE TableID= CAST(-1 AS Int)</td></tr><tr><td>3529</td><td>2</td><td>NULL</td><td>2022-07-07 16:33:30.5170000 +00:00</td><td>SELECT ll.[Status] AS '#', ll.ExecutionKey AS '#', CASE WHEN el.pipelineName='#' then -1 else -1 end AS '#' FROM audit.[LoadLog] ll\r\n\tLEFT JOIN audit.ExecutionLog el\r\n\t\tON ll.ExecutionKey=el.ExecutionKey\r\n\tWHERE LoadKey = CAST(-1 AS Int)</td></tr><tr><td>3540</td><td>3</td><td>NULL</td><td>2022-07-07 16:33:22.6430000 +00:00</td><td>SELECT coalesce( CAST(N'#' AS NVarChar(4000)) + '#' ,'#') + \r\n\t\t(\r\n\t\t\tselect string_agg(r.BusinessKeys, '#') \r\n\t\t\tfrom config.edwTableJoins j\r\n\t\t\tinner join config.edwTables r on r.TableID=j.RelatedTableID\r\n\t\t\twhere j.TableID= CAST(-1 AS Int) \r\n\t\t\tand (ShowBK is null or ShowBK=-1)\r\n\t\t) AS '#'</td></tr><tr><td>3552</td><td>2</td><td>NULL</td><td>2022-07-06 08:15:24.4030000 +00:00</td><td>SELECT t.TableID AS '#', SchemaName AS '#', TableName AS '#', t.SourceObject AS '#', t.TableType AS '#', t.SchemaName AS '#', t.TableName AS '#', t.SourceType AS '#', t.PrimaryKey AS '#', t.BusinessKeys AS '#', coalesce(t.UpdateFlag,-1) AS '#', coalesce(t.TablePrefix, lower(left(replace(t.TableName, '#','#'),-1))) AS '#', coalesce (t.AutoDrop,-1) AS '#', coalesce(t.AutoTruncate,-1) AS '#', coalesce(t.[Identity], case when charindex('#',t.BusinessKeys) &gt; -1 and t.TableType='#' THEN -1 ELSE -1 END ) AS '#', coalesce(t.Distribution, case when t.TableType='#' THEN '#' ELSE '#' END ) AS '#', coalesce(t.TableStructure , case when t.TableType='#' THEN '#' ELSE '#' END) AS '#', t.CTAS AS '#', coalesce(t.DedupeRows,-1) AS '#', coalesce(t.Prestage,-1) AS '#', coalesce(t.PrestageSchema,'#') AS '#', coalesce(t.PrestageTable, t.TableName) AS '#', coalesce(t.PrestageSchema,'#') + coalesce(t.PrestageTable, t.TableName) AS '#', t.DeleteDDL AS '#', t.SchemaName + '#' +  t.TableName AS '#', coalesce(t.DeleteFlag, case when t.DeleteDDL is not null then -1 else -1 end ) AS '#', t.SkipSqlCondition AS '#', coalesce(t.InsertFlag,-1) AS '#', t.DeltaTargetObject AS '#', -1 AS '#', t.PostLoadSQL AS '#', t.PreLoadSQL AS '#', coalesce(t.JoinType, '#') AS '#', coalesce('#' + t.WhereSQL,null) AS '#', coalesce(t.AutoIndex, case when t.TableType='#' and t.BusinessKeys is not null then -1 end ) AS '#' FROM config.edwTables t \r\n\tWHERE (((t.SchemaName + '#' +  t.TableName = CAST(NULL AS VarChar(512)) ) OR t.TableName = CAST(NULL AS VarChar(512)) ) and  CAST(-1 AS Int)  is null) OR t.TableID =  CAST(-1 AS Int)</td></tr><tr><td>3598</td><td>2</td><td>NULL</td><td>2022-07-07 16:42:04.6670000 +00:00</td><td>SELECT [DateKey], [DepartmentGroupKey], [ScenarioKey], [OrganizationKey], [AccountKey], [Amount], [Date], [LineageKey]\r\n\tFROM dbo.FactFinance</td></tr><tr><td>3614</td><td>2</td><td>NULL</td><td>2022-07-07 17:41:22.3470000 +00:00</td><td>CREATE TABLE [dbo].[FactFinance1b]\r\n\tWITH\r\n\t(\r\n\t DISTRIBUTION = ROUND_ROBIN\r\n\t ,CLUSTERED COLUMNSTORE INDEX\r\n\t)\r\n\tAS\r\n\tSELECT TOP -1 [DateKey], [DepartmentGroupKey], [ScenarioKey], [OrganizationKey], [AccountKey], [Amount] *  (-1 * RAND(convert(varbinary, newid()))) as Amount , [Date], [LineageKey]\r\n\tFROM dbo.FactFinance\r\n\tCROSS  APPLY sys.objects s1\r\n\tCROSS  APPLY sys.objects s2\r\n\tCROSS  APPLY (SELECT TOP -1 * FROM sys.objects) s3</td></tr><tr><td>3664</td><td>2</td><td>NULL</td><td>2022-07-07 20:13:44.4270000 +00:00</td><td>SELECT Count(distinct AccountKey) as accountKeys, Count(distinct DateKey) as Dates from [dbo].[FactFinance1m]</td></tr><tr><td>3684</td><td>3</td><td>NULL</td><td>2022-07-07 20:39:56.8270000 +00:00</td><td>/* #### */\r\n\r\n\r\nselect d.[FiscalYear], d.DayOfWeek, sum(Amount) as Amount, count(*) as Rows  from \r\nFactFinance100m_nostats f \r\nINNER JOIN DimDate d on d.[DateKey]=f.DateKey \r\nWHERE d.DateKey=-1\r\nGROUP BY  d.[FiscalYear], d.DayOfWeek</td></tr><tr><td>3686</td><td>3</td><td>NULL</td><td>2022-07-07 20:40:14.4370000 +00:00</td><td>/* #### */\r\nselect d.[FiscalYear], d.DayOfWeek, sum(Amount) as Amount, count(*) as Rows  from \r\nFactFinance100m_nostats f \r\nINNER JOIN DimDate d on d.[DateKey]=f.DateKey \r\nWHERE d.DateKey=-1\r\nGROUP BY  d.[FiscalYear], d.DayOfWeek</td></tr></table>"
                    },
                    "metadata": {}
                }
            ],
            "execution_count": 1
        }
    ]
}