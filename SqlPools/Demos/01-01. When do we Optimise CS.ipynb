{
    "metadata": {
        "kernelspec": {
            "name": "SQL",
            "display_name": "SQL",
            "language": "sql"
        },
        "language_info": {
            "name": "sql",
            "version": ""
        },
        "extensions": {
            "azuredatastudio": {
                "version": 1,
                "views": []
            }
        }
    },
    "nbformat_minor": 2,
    "nbformat": 4,
    "cells": [
        {
            "cell_type": "markdown",
            "source": [
                "# When do we Optimize Column Stores ?"
            ],
            "metadata": {
                "azdata_cell_guid": "6bc6a6a2-166d-4792-b337-46ce4274cf59",
                "extensions": {
                    "azuredatastudio": {
                        "views": []
                    }
                }
            },
            "attachments": {}
        },
        {
            "cell_type": "markdown",
            "source": [
                "## <span style=\"font-size: 14px;\">We have three scenarios that may class a column store as requiring maintenance.</span>  \n",
                "\n",
                "- The Avg Row size of a segment is below the optimal (1024\\*1024=1,048,576). We call this density and it can be expressed as %. Eg 10% **fragmentation** means each segment is only 90% full.\n",
                "- The table contains a lot of soft **deleted** rows\n",
                "- The table contains a lot of **inserted** rows that have not yet been compressed by the [tuple mover](https://docs.microsoft.com/en-us/azure/synapse-analytics/sql-data-warehouse/sql-data-warehouse-tables-index). It can take over 60 million rows before this is engaged (eg 1 segment per distribution).\n",
                "\n",
                "."
            ],
            "metadata": {
                "azdata_cell_guid": "c9e3f785-68fe-4310-9eb7-ea6abf14a0b7",
                "extensions": {
                    "azuredatastudio": {
                        "views": []
                    }
                }
            },
            "attachments": {}
        },
        {
            "cell_type": "markdown",
            "source": [
                "### Demo - Fragmentation and Density"
            ],
            "metadata": {
                "azdata_cell_guid": "060e53bc-8043-4f9a-8676-81a31f7229ba",
                "extensions": {
                    "azuredatastudio": {
                        "views": []
                    }
                }
            }
        },
        {
            "cell_type": "code",
            "source": [
                "/* Demo - Examining Column store Density on inital Insert for 100 milion row */\r\n",
                "IF OBJECT_ID('[dbo].[FactFinance100m]') is not null \r\n",
                "\tDROP TABLE [dbo].[FactFinance100m]\r\n",
                "GO\r\n",
                "CREATE TABLE [dbo].[FactFinance100m] WITH (\r\n",
                "\tDISTRIBUTION = ROUND_ROBIN, CLUSTERED COLUMNSTORE INDEX \r\n",
                ") AS\r\n",
                "SELECT TOP 130000000 * FROM [dbo].[FactFinance1b]\r\n",
                "\r\n",
                ""
            ],
            "metadata": {
                "azdata_cell_guid": "5ef551d3-a01a-4e0d-84a8-516a38ab3c34",
                "extensions": {
                    "azuredatastudio": {
                        "views": []
                    }
                },
                "language": "sql",
                "tags": []
            },
            "outputs": [
                {
                    "output_type": "display_data",
                    "data": {
                        "text/html": "Commands completed successfully."
                    },
                    "metadata": {}
                },
                {
                    "output_type": "display_data",
                    "data": {
                        "text/html": "(130000000 rows affected)"
                    },
                    "metadata": {}
                },
                {
                    "output_type": "display_data",
                    "data": {
                        "text/html": "Total execution time: 00:02:55.592"
                    },
                    "metadata": {}
                }
            ],
            "execution_count": 2
        },
        {
            "cell_type": "code",
            "source": [
                "\r\n",
                "/* This view shows the fragmentation_density is perfect, with some open row stores for overspill. Not ununsual as this table is only 2 complete segments per distribution */ \r\n",
                "SELECT * FROM dbo.vColumnstoreStats WHERE table_name='FactFinance100m'\r\n",
                "\r\n",
                ""
            ],
            "metadata": {
                "azdata_cell_guid": "5ec29bb3-bb92-493b-a319-05b8cb504110",
                "extensions": {
                    "azuredatastudio": {
                        "views": []
                    }
                },
                "language": "sql",
                "tags": []
            },
            "outputs": [
                {
                    "output_type": "display_data",
                    "data": {
                        "text/html": "(1 row affected)"
                    },
                    "metadata": {}
                },
                {
                    "output_type": "display_data",
                    "data": {
                        "text/html": "Total execution time: 00:00:04.316"
                    },
                    "metadata": {}
                },
                {
                    "output_type": "execute_result",
                    "execution_count": 3,
                    "data": {
                        "application/vnd.dataresource+json": {
                            "schema": {
                                "fields": [
                                    {
                                        "name": "execution_date"
                                    },
                                    {
                                        "name": "database_name"
                                    },
                                    {
                                        "name": "schema_name"
                                    },
                                    {
                                        "name": "table_name"
                                    },
                                    {
                                        "name": "partition_number"
                                    },
                                    {
                                        "name": "partition_scheme"
                                    },
                                    {
                                        "name": "object_id"
                                    },
                                    {
                                        "name": "index_name"
                                    },
                                    {
                                        "name": "row_count"
                                    },
                                    {
                                        "name": "deleted_row_count"
                                    },
                                    {
                                        "name": "row_group_count"
                                    },
                                    {
                                        "name": "compressed_row_count"
                                    },
                                    {
                                        "name": "compressed_rowgroup_count"
                                    },
                                    {
                                        "name": "open_rowgroup_count"
                                    },
                                    {
                                        "name": "open_row_count"
                                    },
                                    {
                                        "name": "compressed_row_max"
                                    },
                                    {
                                        "name": "compressed_row_avg"
                                    },
                                    {
                                        "name": "fragmentation_density"
                                    },
                                    {
                                        "name": "fragmentation_deletes"
                                    },
                                    {
                                        "name": "fragmentation_open"
                                    }
                                ]
                            },
                            "data": [
                                {
                                    "0": "2022-07-08 11:45:52.233",
                                    "1": "AdventureWorksDW",
                                    "2": "dbo",
                                    "3": "FactFinance100m",
                                    "4": "NULL",
                                    "5": "NULL",
                                    "6": "114867526",
                                    "7": "ClusteredIndex_6177510f7ca142d4a29cb235500b018b",
                                    "8": "130000000",
                                    "9": "0",
                                    "10": "180",
                                    "11": "125829120",
                                    "12": "120",
                                    "13": "60",
                                    "14": "4170880",
                                    "15": "1048576",
                                    "16": "1048576",
                                    "17": "0.0000",
                                    "18": "0.0000",
                                    "19": "6.6300"
                                }
                            ]
                        },
                        "text/html": "<table><tr><th>execution_date</th><th>database_name</th><th>schema_name</th><th>table_name</th><th>partition_number</th><th>partition_scheme</th><th>object_id</th><th>index_name</th><th>row_count</th><th>deleted_row_count</th><th>row_group_count</th><th>compressed_row_count</th><th>compressed_rowgroup_count</th><th>open_rowgroup_count</th><th>open_row_count</th><th>compressed_row_max</th><th>compressed_row_avg</th><th>fragmentation_density</th><th>fragmentation_deletes</th><th>fragmentation_open</th></tr><tr><td>2022-07-08 11:45:52.233</td><td>AdventureWorksDW</td><td>dbo</td><td>FactFinance100m</td><td>NULL</td><td>NULL</td><td>114867526</td><td>ClusteredIndex_6177510f7ca142d4a29cb235500b018b</td><td>130000000</td><td>0</td><td>180</td><td>125829120</td><td>120</td><td>60</td><td>4170880</td><td>1048576</td><td>1048576</td><td>0.0000</td><td>0.0000</td><td>6.6300</td></tr></table>"
                    },
                    "metadata": {}
                }
            ],
            "execution_count": 3
        },
        {
            "cell_type": "code",
            "source": [
                ""
            ],
            "metadata": {
                "azdata_cell_guid": "e5837555-6337-4dd9-8017-9315632857ce",
                "extensions": {
                    "azuredatastudio": {
                        "views": []
                    }
                },
                "language": "sql"
            },
            "outputs": [
                {
                    "output_type": "display_data",
                    "data": {
                        "text/html": "Commands completed successfully."
                    },
                    "metadata": {}
                },
                {
                    "output_type": "display_data",
                    "data": {
                        "text/html": "Total execution time: 00:00:00"
                    },
                    "metadata": {}
                }
            ],
            "execution_count": 4
        },
        {
            "cell_type": "code",
            "source": [
                "/* Using the DMV sys.[dm_pdw_nodes_db_column_store_row_group_physical_stats] we can track the size of each segment and WHY it was closed \r\n",
                "    The view \"[dbo].[vCS_rg_physical_stats]\" from https://docs.microsoft.com/en-us/azure/synapse-analytics/sql-data-warehouse/sql-data-warehouse-memory-optimizations-for-columnstore-compression \r\n",
                "    Helps a lot in understanding why segments arent full.\r\n",
                "\r\n",
                "    BULK INSERT, over partitioning or over enthusiastic REORG are the.\r\n",
                "\r\n",
                "    In this case we see only OPEN and NO_TRIM\r\n",
                "\r\n",
                "*/\r\n",
                "select * From [dbo].[vCS_rg_physical_stats] WHERE logical_table_name='FactFinance100m'"
            ],
            "metadata": {
                "azdata_cell_guid": "ab9dd387-cba0-4645-af24-db570f9c18b4",
                "extensions": {
                    "azuredatastudio": {
                        "views": []
                    }
                },
                "language": "sql",
                "tags": []
            },
            "outputs": [
                {
                    "output_type": "display_data",
                    "data": {
                        "text/html": "(180 rows affected)"
                    },
                    "metadata": {}
                },
                {
                    "output_type": "display_data",
                    "data": {
                        "text/html": "Total execution time: 00:00:01.201"
                    },
                    "metadata": {}
                },
                {
                    "output_type": "execute_result",
                    "execution_count": 5,
                    "data": {
                        "application/vnd.dataresource+json": {
                            "schema": {
                                "fields": [
                                    {
                                        "name": "logical_table_name"
                                    },
                                    {
                                        "name": "row_group_id"
                                    },
                                    {
                                        "name": "partition_number"
                                    },
                                    {
                                        "name": "state"
                                    },
                                    {
                                        "name": "state_desc"
                                    },
                                    {
                                        "name": "total_rows"
                                    },
                                    {
                                        "name": "trim_reason_desc"
                                    },
                                    {
                                        "name": "physical_name"
                                    },
                                    {
                                        "name": "created_time"
                                    }
                                ]
                            },
                            "data": [
                                {
                                    "0": "FactFinance100m",
                                    "1": "2",
                                    "2": "1",
                                    "3": "1",
                                    "4": "OPEN",
                                    "5": "69736",
                                    "6": "NULL",
                                    "7": "Table_e60660723e60487b97aa571c0cf2e7d1_1",
                                    "8": "2022-07-08 11:45:51.030"
                                },
                                {
                                    "0": "FactFinance100m",
                                    "1": "2",
                                    "2": "1",
                                    "3": "1",
                                    "4": "OPEN",
                                    "5": "69736",
                                    "6": "NULL",
                                    "7": "Table_e60660723e60487b97aa571c0cf2e7d1_2",
                                    "8": "2022-07-08 11:45:46.053"
                                },
                                {
                                    "0": "FactFinance100m",
                                    "1": "2",
                                    "2": "1",
                                    "3": "1",
                                    "4": "OPEN",
                                    "5": "69736",
                                    "6": "NULL",
                                    "7": "Table_e60660723e60487b97aa571c0cf2e7d1_3",
                                    "8": "2022-07-08 11:45:50.983"
                                },
                                {
                                    "0": "FactFinance100m",
                                    "1": "2",
                                    "2": "1",
                                    "3": "1",
                                    "4": "OPEN",
                                    "5": "69736",
                                    "6": "NULL",
                                    "7": "Table_e60660723e60487b97aa571c0cf2e7d1_4",
                                    "8": "2022-07-08 11:45:50.780"
                                },
                                {
                                    "0": "FactFinance100m",
                                    "1": "2",
                                    "2": "1",
                                    "3": "1",
                                    "4": "OPEN",
                                    "5": "69736",
                                    "6": "NULL",
                                    "7": "Table_e60660723e60487b97aa571c0cf2e7d1_5",
                                    "8": "2022-07-08 11:45:46.017"
                                },
                                {
                                    "0": "FactFinance100m",
                                    "1": "2",
                                    "2": "1",
                                    "3": "1",
                                    "4": "OPEN",
                                    "5": "69736",
                                    "6": "NULL",
                                    "7": "Table_e60660723e60487b97aa571c0cf2e7d1_6",
                                    "8": "2022-07-08 11:45:46.083"
                                },
                                {
                                    "0": "FactFinance100m",
                                    "1": "2",
                                    "2": "1",
                                    "3": "1",
                                    "4": "OPEN",
                                    "5": "69736",
                                    "6": "NULL",
                                    "7": "Table_e60660723e60487b97aa571c0cf2e7d1_7",
                                    "8": "2022-07-08 11:45:51.023"
                                },
                                {
                                    "0": "FactFinance100m",
                                    "1": "2",
                                    "2": "1",
                                    "3": "1",
                                    "4": "OPEN",
                                    "5": "69736",
                                    "6": "NULL",
                                    "7": "Table_e60660723e60487b97aa571c0cf2e7d1_8",
                                    "8": "2022-07-08 11:45:46.047"
                                },
                                {
                                    "0": "FactFinance100m",
                                    "1": "2",
                                    "2": "1",
                                    "3": "1",
                                    "4": "OPEN",
                                    "5": "69736",
                                    "6": "NULL",
                                    "7": "Table_e60660723e60487b97aa571c0cf2e7d1_9",
                                    "8": "2022-07-08 11:45:46.057"
                                },
                                {
                                    "0": "FactFinance100m",
                                    "1": "2",
                                    "2": "1",
                                    "3": "1",
                                    "4": "OPEN",
                                    "5": "69736",
                                    "6": "NULL",
                                    "7": "Table_e60660723e60487b97aa571c0cf2e7d1_10",
                                    "8": "2022-07-08 11:45:45.697"
                                },
                                {
                                    "0": "FactFinance100m",
                                    "1": "2",
                                    "2": "1",
                                    "3": "1",
                                    "4": "OPEN",
                                    "5": "69736",
                                    "6": "NULL",
                                    "7": "Table_e60660723e60487b97aa571c0cf2e7d1_11",
                                    "8": "2022-07-08 11:45:45.857"
                                },
                                {
                                    "0": "FactFinance100m",
                                    "1": "2",
                                    "2": "1",
                                    "3": "1",
                                    "4": "OPEN",
                                    "5": "69428",
                                    "6": "NULL",
                                    "7": "Table_e60660723e60487b97aa571c0cf2e7d1_12",
                                    "8": "2022-07-08 11:45:45.987"
                                },
                                {
                                    "0": "FactFinance100m",
                                    "1": "2",
                                    "2": "1",
                                    "3": "1",
                                    "4": "OPEN",
                                    "5": "69172",
                                    "6": "NULL",
                                    "7": "Table_e60660723e60487b97aa571c0cf2e7d1_13",
                                    "8": "2022-07-08 11:45:45.967"
                                },
                                {
                                    "0": "FactFinance100m",
                                    "1": "2",
                                    "2": "1",
                                    "3": "1",
                                    "4": "OPEN",
                                    "5": "69172",
                                    "6": "NULL",
                                    "7": "Table_e60660723e60487b97aa571c0cf2e7d1_14",
                                    "8": "2022-07-08 11:45:51.047"
                                },
                                {
                                    "0": "FactFinance100m",
                                    "1": "2",
                                    "2": "1",
                                    "3": "1",
                                    "4": "OPEN",
                                    "5": "69172",
                                    "6": "NULL",
                                    "7": "Table_e60660723e60487b97aa571c0cf2e7d1_15",
                                    "8": "2022-07-08 11:45:45.777"
                                },
                                {
                                    "0": "FactFinance100m",
                                    "1": "2",
                                    "2": "1",
                                    "3": "1",
                                    "4": "OPEN",
                                    "5": "69172",
                                    "6": "NULL",
                                    "7": "Table_e60660723e60487b97aa571c0cf2e7d1_16",
                                    "8": "2022-07-08 11:45:51.030"
                                },
                                {
                                    "0": "FactFinance100m",
                                    "1": "2",
                                    "2": "1",
                                    "3": "1",
                                    "4": "OPEN",
                                    "5": "69172",
                                    "6": "NULL",
                                    "7": "Table_e60660723e60487b97aa571c0cf2e7d1_17",
                                    "8": "2022-07-08 11:45:46.010"
                                },
                                {
                                    "0": "FactFinance100m",
                                    "1": "2",
                                    "2": "1",
                                    "3": "1",
                                    "4": "OPEN",
                                    "5": "69172",
                                    "6": "NULL",
                                    "7": "Table_e60660723e60487b97aa571c0cf2e7d1_18",
                                    "8": "2022-07-08 11:45:45.913"
                                },
                                {
                                    "0": "FactFinance100m",
                                    "1": "2",
                                    "2": "1",
                                    "3": "1",
                                    "4": "OPEN",
                                    "5": "69172",
                                    "6": "NULL",
                                    "7": "Table_e60660723e60487b97aa571c0cf2e7d1_19",
                                    "8": "2022-07-08 11:45:45.997"
                                },
                                {
                                    "0": "FactFinance100m",
                                    "1": "2",
                                    "2": "1",
                                    "3": "1",
                                    "4": "OPEN",
                                    "5": "69172",
                                    "6": "NULL",
                                    "7": "Table_e60660723e60487b97aa571c0cf2e7d1_20",
                                    "8": "2022-07-08 11:45:45.730"
                                },
                                {
                                    "0": "FactFinance100m",
                                    "1": "2",
                                    "2": "1",
                                    "3": "1",
                                    "4": "OPEN",
                                    "5": "69172",
                                    "6": "NULL",
                                    "7": "Table_e60660723e60487b97aa571c0cf2e7d1_21",
                                    "8": "2022-07-08 11:45:46.077"
                                },
                                {
                                    "0": "FactFinance100m",
                                    "1": "2",
                                    "2": "1",
                                    "3": "1",
                                    "4": "OPEN",
                                    "5": "69172",
                                    "6": "NULL",
                                    "7": "Table_e60660723e60487b97aa571c0cf2e7d1_22",
                                    "8": "2022-07-08 11:45:45.723"
                                },
                                {
                                    "0": "FactFinance100m",
                                    "1": "2",
                                    "2": "1",
                                    "3": "1",
                                    "4": "OPEN",
                                    "5": "69172",
                                    "6": "NULL",
                                    "7": "Table_e60660723e60487b97aa571c0cf2e7d1_23",
                                    "8": "2022-07-08 11:45:46.030"
                                },
                                {
                                    "0": "FactFinance100m",
                                    "1": "2",
                                    "2": "1",
                                    "3": "1",
                                    "4": "OPEN",
                                    "5": "69172",
                                    "6": "NULL",
                                    "7": "Table_e60660723e60487b97aa571c0cf2e7d1_24",
                                    "8": "2022-07-08 11:45:45.923"
                                },
                                {
                                    "0": "FactFinance100m",
                                    "1": "2",
                                    "2": "1",
                                    "3": "1",
                                    "4": "OPEN",
                                    "5": "69172",
                                    "6": "NULL",
                                    "7": "Table_e60660723e60487b97aa571c0cf2e7d1_25",
                                    "8": "2022-07-08 11:45:51.083"
                                },
                                {
                                    "0": "FactFinance100m",
                                    "1": "2",
                                    "2": "1",
                                    "3": "1",
                                    "4": "OPEN",
                                    "5": "69172",
                                    "6": "NULL",
                                    "7": "Table_e60660723e60487b97aa571c0cf2e7d1_26",
                                    "8": "2022-07-08 11:45:45.890"
                                },
                                {
                                    "0": "FactFinance100m",
                                    "1": "2",
                                    "2": "1",
                                    "3": "1",
                                    "4": "OPEN",
                                    "5": "69172",
                                    "6": "NULL",
                                    "7": "Table_e60660723e60487b97aa571c0cf2e7d1_27",
                                    "8": "2022-07-08 11:45:46.007"
                                },
                                {
                                    "0": "FactFinance100m",
                                    "1": "2",
                                    "2": "1",
                                    "3": "1",
                                    "4": "OPEN",
                                    "5": "69172",
                                    "6": "NULL",
                                    "7": "Table_e60660723e60487b97aa571c0cf2e7d1_28",
                                    "8": "2022-07-08 11:45:45.967"
                                },
                                {
                                    "0": "FactFinance100m",
                                    "1": "2",
                                    "2": "1",
                                    "3": "1",
                                    "4": "OPEN",
                                    "5": "69172",
                                    "6": "NULL",
                                    "7": "Table_e60660723e60487b97aa571c0cf2e7d1_29",
                                    "8": "2022-07-08 11:45:45.880"
                                },
                                {
                                    "0": "FactFinance100m",
                                    "1": "2",
                                    "2": "1",
                                    "3": "1",
                                    "4": "OPEN",
                                    "5": "69172",
                                    "6": "NULL",
                                    "7": "Table_e60660723e60487b97aa571c0cf2e7d1_30",
                                    "8": "2022-07-08 11:45:51.070"
                                },
                                {
                                    "0": "FactFinance100m",
                                    "1": "2",
                                    "2": "1",
                                    "3": "1",
                                    "4": "OPEN",
                                    "5": "69172",
                                    "6": "NULL",
                                    "7": "Table_e60660723e60487b97aa571c0cf2e7d1_31",
                                    "8": "2022-07-08 11:45:45.733"
                                },
                                {
                                    "0": "FactFinance100m",
                                    "1": "2",
                                    "2": "1",
                                    "3": "1",
                                    "4": "OPEN",
                                    "5": "69172",
                                    "6": "NULL",
                                    "7": "Table_e60660723e60487b97aa571c0cf2e7d1_32",
                                    "8": "2022-07-08 11:45:45.927"
                                },
                                {
                                    "0": "FactFinance100m",
                                    "1": "2",
                                    "2": "1",
                                    "3": "1",
                                    "4": "OPEN",
                                    "5": "69172",
                                    "6": "NULL",
                                    "7": "Table_e60660723e60487b97aa571c0cf2e7d1_33",
                                    "8": "2022-07-08 11:45:45.837"
                                },
                                {
                                    "0": "FactFinance100m",
                                    "1": "2",
                                    "2": "1",
                                    "3": "1",
                                    "4": "OPEN",
                                    "5": "69172",
                                    "6": "NULL",
                                    "7": "Table_e60660723e60487b97aa571c0cf2e7d1_34",
                                    "8": "2022-07-08 11:45:47.093"
                                },
                                {
                                    "0": "FactFinance100m",
                                    "1": "2",
                                    "2": "1",
                                    "3": "1",
                                    "4": "OPEN",
                                    "5": "69172",
                                    "6": "NULL",
                                    "7": "Table_e60660723e60487b97aa571c0cf2e7d1_35",
                                    "8": "2022-07-08 11:45:45.777"
                                },
                                {
                                    "0": "FactFinance100m",
                                    "1": "2",
                                    "2": "1",
                                    "3": "1",
                                    "4": "OPEN",
                                    "5": "69736",
                                    "6": "NULL",
                                    "7": "Table_e60660723e60487b97aa571c0cf2e7d1_36",
                                    "8": "2022-07-08 11:45:45.843"
                                },
                                {
                                    "0": "FactFinance100m",
                                    "1": "2",
                                    "2": "1",
                                    "3": "1",
                                    "4": "OPEN",
                                    "5": "69736",
                                    "6": "NULL",
                                    "7": "Table_e60660723e60487b97aa571c0cf2e7d1_37",
                                    "8": "2022-07-08 11:45:50.727"
                                },
                                {
                                    "0": "FactFinance100m",
                                    "1": "2",
                                    "2": "1",
                                    "3": "1",
                                    "4": "OPEN",
                                    "5": "69736",
                                    "6": "NULL",
                                    "7": "Table_e60660723e60487b97aa571c0cf2e7d1_38",
                                    "8": "2022-07-08 11:45:46.260"
                                },
                                {
                                    "0": "FactFinance100m",
                                    "1": "2",
                                    "2": "1",
                                    "3": "1",
                                    "4": "OPEN",
                                    "5": "69736",
                                    "6": "NULL",
                                    "7": "Table_e60660723e60487b97aa571c0cf2e7d1_39",
                                    "8": "2022-07-08 11:45:45.930"
                                },
                                {
                                    "0": "FactFinance100m",
                                    "1": "2",
                                    "2": "1",
                                    "3": "1",
                                    "4": "OPEN",
                                    "5": "69736",
                                    "6": "NULL",
                                    "7": "Table_e60660723e60487b97aa571c0cf2e7d1_40",
                                    "8": "2022-07-08 11:45:45.850"
                                },
                                {
                                    "0": "FactFinance100m",
                                    "1": "2",
                                    "2": "1",
                                    "3": "1",
                                    "4": "OPEN",
                                    "5": "69736",
                                    "6": "NULL",
                                    "7": "Table_e60660723e60487b97aa571c0cf2e7d1_41",
                                    "8": "2022-07-08 11:45:45.900"
                                },
                                {
                                    "0": "FactFinance100m",
                                    "1": "2",
                                    "2": "1",
                                    "3": "1",
                                    "4": "OPEN",
                                    "5": "69736",
                                    "6": "NULL",
                                    "7": "Table_e60660723e60487b97aa571c0cf2e7d1_42",
                                    "8": "2022-07-08 11:45:51.167"
                                },
                                {
                                    "0": "FactFinance100m",
                                    "1": "2",
                                    "2": "1",
                                    "3": "1",
                                    "4": "OPEN",
                                    "5": "69736",
                                    "6": "NULL",
                                    "7": "Table_e60660723e60487b97aa571c0cf2e7d1_43",
                                    "8": "2022-07-08 11:45:45.987"
                                },
                                {
                                    "0": "FactFinance100m",
                                    "1": "2",
                                    "2": "1",
                                    "3": "1",
                                    "4": "OPEN",
                                    "5": "69736",
                                    "6": "NULL",
                                    "7": "Table_e60660723e60487b97aa571c0cf2e7d1_44",
                                    "8": "2022-07-08 11:45:45.827"
                                },
                                {
                                    "0": "FactFinance100m",
                                    "1": "2",
                                    "2": "1",
                                    "3": "1",
                                    "4": "OPEN",
                                    "5": "69736",
                                    "6": "NULL",
                                    "7": "Table_e60660723e60487b97aa571c0cf2e7d1_45",
                                    "8": "2022-07-08 11:45:51.147"
                                },
                                {
                                    "0": "FactFinance100m",
                                    "1": "2",
                                    "2": "1",
                                    "3": "1",
                                    "4": "OPEN",
                                    "5": "69736",
                                    "6": "NULL",
                                    "7": "Table_e60660723e60487b97aa571c0cf2e7d1_46",
                                    "8": "2022-07-08 11:45:45.707"
                                },
                                {
                                    "0": "FactFinance100m",
                                    "1": "2",
                                    "2": "1",
                                    "3": "1",
                                    "4": "OPEN",
                                    "5": "69736",
                                    "6": "NULL",
                                    "7": "Table_e60660723e60487b97aa571c0cf2e7d1_47",
                                    "8": "2022-07-08 11:45:50.813"
                                },
                                {
                                    "0": "FactFinance100m",
                                    "1": "2",
                                    "2": "1",
                                    "3": "1",
                                    "4": "OPEN",
                                    "5": "69736",
                                    "6": "NULL",
                                    "7": "Table_e60660723e60487b97aa571c0cf2e7d1_48",
                                    "8": "2022-07-08 11:45:46.207"
                                },
                                {
                                    "0": "FactFinance100m",
                                    "1": "2",
                                    "2": "1",
                                    "3": "1",
                                    "4": "OPEN",
                                    "5": "69736",
                                    "6": "NULL",
                                    "7": "Table_e60660723e60487b97aa571c0cf2e7d1_49",
                                    "8": "2022-07-08 11:45:45.657"
                                },
                                {
                                    "0": "FactFinance100m",
                                    "1": "2",
                                    "2": "1",
                                    "3": "1",
                                    "4": "OPEN",
                                    "5": "69736",
                                    "6": "NULL",
                                    "7": "Table_e60660723e60487b97aa571c0cf2e7d1_50",
                                    "8": "2022-07-08 11:45:45.853"
                                },
                                {
                                    "0": "FactFinance100m",
                                    "1": "2",
                                    "2": "1",
                                    "3": "1",
                                    "4": "OPEN",
                                    "5": "69736",
                                    "6": "NULL",
                                    "7": "Table_e60660723e60487b97aa571c0cf2e7d1_51",
                                    "8": "2022-07-08 11:45:50.970"
                                },
                                {
                                    "0": "FactFinance100m",
                                    "1": "2",
                                    "2": "1",
                                    "3": "1",
                                    "4": "OPEN",
                                    "5": "69736",
                                    "6": "NULL",
                                    "7": "Table_e60660723e60487b97aa571c0cf2e7d1_52",
                                    "8": "2022-07-08 11:45:50.753"
                                },
                                {
                                    "0": "FactFinance100m",
                                    "1": "2",
                                    "2": "1",
                                    "3": "1",
                                    "4": "OPEN",
                                    "5": "69736",
                                    "6": "NULL",
                                    "7": "Table_e60660723e60487b97aa571c0cf2e7d1_53",
                                    "8": "2022-07-08 11:45:50.657"
                                },
                                {
                                    "0": "FactFinance100m",
                                    "1": "2",
                                    "2": "1",
                                    "3": "1",
                                    "4": "OPEN",
                                    "5": "69736",
                                    "6": "NULL",
                                    "7": "Table_e60660723e60487b97aa571c0cf2e7d1_54",
                                    "8": "2022-07-08 11:45:51.280"
                                },
                                {
                                    "0": "FactFinance100m",
                                    "1": "2",
                                    "2": "1",
                                    "3": "1",
                                    "4": "OPEN",
                                    "5": "69736",
                                    "6": "NULL",
                                    "7": "Table_e60660723e60487b97aa571c0cf2e7d1_55",
                                    "8": "2022-07-08 11:45:51.147"
                                },
                                {
                                    "0": "FactFinance100m",
                                    "1": "2",
                                    "2": "1",
                                    "3": "1",
                                    "4": "OPEN",
                                    "5": "69736",
                                    "6": "NULL",
                                    "7": "Table_e60660723e60487b97aa571c0cf2e7d1_56",
                                    "8": "2022-07-08 11:45:45.833"
                                },
                                {
                                    "0": "FactFinance100m",
                                    "1": "2",
                                    "2": "1",
                                    "3": "1",
                                    "4": "OPEN",
                                    "5": "69736",
                                    "6": "NULL",
                                    "7": "Table_e60660723e60487b97aa571c0cf2e7d1_57",
                                    "8": "2022-07-08 11:45:45.627"
                                },
                                {
                                    "0": "FactFinance100m",
                                    "1": "2",
                                    "2": "1",
                                    "3": "1",
                                    "4": "OPEN",
                                    "5": "69736",
                                    "6": "NULL",
                                    "7": "Table_e60660723e60487b97aa571c0cf2e7d1_58",
                                    "8": "2022-07-08 11:45:45.723"
                                },
                                {
                                    "0": "FactFinance100m",
                                    "1": "2",
                                    "2": "1",
                                    "3": "1",
                                    "4": "OPEN",
                                    "5": "69736",
                                    "6": "NULL",
                                    "7": "Table_e60660723e60487b97aa571c0cf2e7d1_59",
                                    "8": "2022-07-08 11:45:46.010"
                                },
                                {
                                    "0": "FactFinance100m",
                                    "1": "2",
                                    "2": "1",
                                    "3": "1",
                                    "4": "OPEN",
                                    "5": "69736",
                                    "6": "NULL",
                                    "7": "Table_e60660723e60487b97aa571c0cf2e7d1_60",
                                    "8": "2022-07-08 11:45:51.180"
                                },
                                {
                                    "0": "FactFinance100m",
                                    "1": "1",
                                    "2": "1",
                                    "3": "3",
                                    "4": "COMPRESSED",
                                    "5": "1048576",
                                    "6": "NO_TRIM",
                                    "7": "Table_e60660723e60487b97aa571c0cf2e7d1_1",
                                    "8": "2022-07-08 11:45:50.747"
                                },
                                {
                                    "0": "FactFinance100m",
                                    "1": "1",
                                    "2": "1",
                                    "3": "3",
                                    "4": "COMPRESSED",
                                    "5": "1048576",
                                    "6": "NO_TRIM",
                                    "7": "Table_e60660723e60487b97aa571c0cf2e7d1_2",
                                    "8": "2022-07-08 11:45:45.883"
                                },
                                {
                                    "0": "FactFinance100m",
                                    "1": "1",
                                    "2": "1",
                                    "3": "3",
                                    "4": "COMPRESSED",
                                    "5": "1048576",
                                    "6": "NO_TRIM",
                                    "7": "Table_e60660723e60487b97aa571c0cf2e7d1_3",
                                    "8": "2022-07-08 11:45:50.783"
                                },
                                {
                                    "0": "FactFinance100m",
                                    "1": "1",
                                    "2": "1",
                                    "3": "3",
                                    "4": "COMPRESSED",
                                    "5": "1048576",
                                    "6": "NO_TRIM",
                                    "7": "Table_e60660723e60487b97aa571c0cf2e7d1_4",
                                    "8": "2022-07-08 11:45:50.637"
                                },
                                {
                                    "0": "FactFinance100m",
                                    "1": "1",
                                    "2": "1",
                                    "3": "3",
                                    "4": "COMPRESSED",
                                    "5": "1048576",
                                    "6": "NO_TRIM",
                                    "7": "Table_e60660723e60487b97aa571c0cf2e7d1_5",
                                    "8": "2022-07-08 11:45:45.827"
                                },
                                {
                                    "0": "FactFinance100m",
                                    "1": "1",
                                    "2": "1",
                                    "3": "3",
                                    "4": "COMPRESSED",
                                    "5": "1048576",
                                    "6": "NO_TRIM",
                                    "7": "Table_e60660723e60487b97aa571c0cf2e7d1_6",
                                    "8": "2022-07-08 11:45:45.913"
                                },
                                {
                                    "0": "FactFinance100m",
                                    "1": "1",
                                    "2": "1",
                                    "3": "3",
                                    "4": "COMPRESSED",
                                    "5": "1048576",
                                    "6": "NO_TRIM",
                                    "7": "Table_e60660723e60487b97aa571c0cf2e7d1_7",
                                    "8": "2022-07-08 11:45:50.753"
                                },
                                {
                                    "0": "FactFinance100m",
                                    "1": "1",
                                    "2": "1",
                                    "3": "3",
                                    "4": "COMPRESSED",
                                    "5": "1048576",
                                    "6": "NO_TRIM",
                                    "7": "Table_e60660723e60487b97aa571c0cf2e7d1_8",
                                    "8": "2022-07-08 11:45:45.863"
                                },
                                {
                                    "0": "FactFinance100m",
                                    "1": "1",
                                    "2": "1",
                                    "3": "3",
                                    "4": "COMPRESSED",
                                    "5": "1048576",
                                    "6": "NO_TRIM",
                                    "7": "Table_e60660723e60487b97aa571c0cf2e7d1_9",
                                    "8": "2022-07-08 11:45:45.873"
                                },
                                {
                                    "0": "FactFinance100m",
                                    "1": "1",
                                    "2": "1",
                                    "3": "3",
                                    "4": "COMPRESSED",
                                    "5": "1048576",
                                    "6": "NO_TRIM",
                                    "7": "Table_e60660723e60487b97aa571c0cf2e7d1_10",
                                    "8": "2022-07-08 11:45:45.520"
                                },
                                {
                                    "0": "FactFinance100m",
                                    "1": "1",
                                    "2": "1",
                                    "3": "3",
                                    "4": "COMPRESSED",
                                    "5": "1048576",
                                    "6": "NO_TRIM",
                                    "7": "Table_e60660723e60487b97aa571c0cf2e7d1_11",
                                    "8": "2022-07-08 11:45:45.683"
                                },
                                {
                                    "0": "FactFinance100m",
                                    "1": "1",
                                    "2": "1",
                                    "3": "3",
                                    "4": "COMPRESSED",
                                    "5": "1048576",
                                    "6": "NO_TRIM",
                                    "7": "Table_e60660723e60487b97aa571c0cf2e7d1_12",
                                    "8": "2022-07-08 11:45:45.810"
                                },
                                {
                                    "0": "FactFinance100m",
                                    "1": "1",
                                    "2": "1",
                                    "3": "3",
                                    "4": "COMPRESSED",
                                    "5": "1048576",
                                    "6": "NO_TRIM",
                                    "7": "Table_e60660723e60487b97aa571c0cf2e7d1_13",
                                    "8": "2022-07-08 11:45:45.777"
                                },
                                {
                                    "0": "FactFinance100m",
                                    "1": "1",
                                    "2": "1",
                                    "3": "3",
                                    "4": "COMPRESSED",
                                    "5": "1048576",
                                    "6": "NO_TRIM",
                                    "7": "Table_e60660723e60487b97aa571c0cf2e7d1_14",
                                    "8": "2022-07-08 11:45:50.770"
                                },
                                {
                                    "0": "FactFinance100m",
                                    "1": "1",
                                    "2": "1",
                                    "3": "3",
                                    "4": "COMPRESSED",
                                    "5": "1048576",
                                    "6": "NO_TRIM",
                                    "7": "Table_e60660723e60487b97aa571c0cf2e7d1_15",
                                    "8": "2022-07-08 11:45:45.597"
                                },
                                {
                                    "0": "FactFinance100m",
                                    "1": "1",
                                    "2": "1",
                                    "3": "3",
                                    "4": "COMPRESSED",
                                    "5": "1048576",
                                    "6": "NO_TRIM",
                                    "7": "Table_e60660723e60487b97aa571c0cf2e7d1_16",
                                    "8": "2022-07-08 11:45:50.750"
                                },
                                {
                                    "0": "FactFinance100m",
                                    "1": "1",
                                    "2": "1",
                                    "3": "3",
                                    "4": "COMPRESSED",
                                    "5": "1048576",
                                    "6": "NO_TRIM",
                                    "7": "Table_e60660723e60487b97aa571c0cf2e7d1_17",
                                    "8": "2022-07-08 11:45:45.843"
                                },
                                {
                                    "0": "FactFinance100m",
                                    "1": "1",
                                    "2": "1",
                                    "3": "3",
                                    "4": "COMPRESSED",
                                    "5": "1048576",
                                    "6": "NO_TRIM",
                                    "7": "Table_e60660723e60487b97aa571c0cf2e7d1_18",
                                    "8": "2022-07-08 11:45:45.743"
                                },
                                {
                                    "0": "FactFinance100m",
                                    "1": "1",
                                    "2": "1",
                                    "3": "3",
                                    "4": "COMPRESSED",
                                    "5": "1048576",
                                    "6": "NO_TRIM",
                                    "7": "Table_e60660723e60487b97aa571c0cf2e7d1_19",
                                    "8": "2022-07-08 11:45:45.807"
                                },
                                {
                                    "0": "FactFinance100m",
                                    "1": "1",
                                    "2": "1",
                                    "3": "3",
                                    "4": "COMPRESSED",
                                    "5": "1048576",
                                    "6": "NO_TRIM",
                                    "7": "Table_e60660723e60487b97aa571c0cf2e7d1_20",
                                    "8": "2022-07-08 11:45:45.560"
                                },
                                {
                                    "0": "FactFinance100m",
                                    "1": "1",
                                    "2": "1",
                                    "3": "3",
                                    "4": "COMPRESSED",
                                    "5": "1048576",
                                    "6": "NO_TRIM",
                                    "7": "Table_e60660723e60487b97aa571c0cf2e7d1_21",
                                    "8": "2022-07-08 11:45:45.887"
                                },
                                {
                                    "0": "FactFinance100m",
                                    "1": "1",
                                    "2": "1",
                                    "3": "3",
                                    "4": "COMPRESSED",
                                    "5": "1048576",
                                    "6": "NO_TRIM",
                                    "7": "Table_e60660723e60487b97aa571c0cf2e7d1_22",
                                    "8": "2022-07-08 11:45:45.547"
                                },
                                {
                                    "0": "FactFinance100m",
                                    "1": "1",
                                    "2": "1",
                                    "3": "3",
                                    "4": "COMPRESSED",
                                    "5": "1048576",
                                    "6": "NO_TRIM",
                                    "7": "Table_e60660723e60487b97aa571c0cf2e7d1_23",
                                    "8": "2022-07-08 11:45:45.857"
                                },
                                {
                                    "0": "FactFinance100m",
                                    "1": "1",
                                    "2": "1",
                                    "3": "3",
                                    "4": "COMPRESSED",
                                    "5": "1048576",
                                    "6": "NO_TRIM",
                                    "7": "Table_e60660723e60487b97aa571c0cf2e7d1_24",
                                    "8": "2022-07-08 11:45:45.753"
                                },
                                {
                                    "0": "FactFinance100m",
                                    "1": "1",
                                    "2": "1",
                                    "3": "3",
                                    "4": "COMPRESSED",
                                    "5": "1048576",
                                    "6": "NO_TRIM",
                                    "7": "Table_e60660723e60487b97aa571c0cf2e7d1_25",
                                    "8": "2022-07-08 11:45:50.790"
                                },
                                {
                                    "0": "FactFinance100m",
                                    "1": "1",
                                    "2": "1",
                                    "3": "3",
                                    "4": "COMPRESSED",
                                    "5": "1048576",
                                    "6": "NO_TRIM",
                                    "7": "Table_e60660723e60487b97aa571c0cf2e7d1_26",
                                    "8": "2022-07-08 11:45:45.720"
                                },
                                {
                                    "0": "FactFinance100m",
                                    "1": "1",
                                    "2": "1",
                                    "3": "3",
                                    "4": "COMPRESSED",
                                    "5": "1048576",
                                    "6": "NO_TRIM",
                                    "7": "Table_e60660723e60487b97aa571c0cf2e7d1_27",
                                    "8": "2022-07-08 11:45:45.840"
                                },
                                {
                                    "0": "FactFinance100m",
                                    "1": "1",
                                    "2": "1",
                                    "3": "3",
                                    "4": "COMPRESSED",
                                    "5": "1048576",
                                    "6": "NO_TRIM",
                                    "7": "Table_e60660723e60487b97aa571c0cf2e7d1_28",
                                    "8": "2022-07-08 11:45:45.787"
                                },
                                {
                                    "0": "FactFinance100m",
                                    "1": "1",
                                    "2": "1",
                                    "3": "3",
                                    "4": "COMPRESSED",
                                    "5": "1048576",
                                    "6": "NO_TRIM",
                                    "7": "Table_e60660723e60487b97aa571c0cf2e7d1_29",
                                    "8": "2022-07-08 11:45:45.710"
                                },
                                {
                                    "0": "FactFinance100m",
                                    "1": "1",
                                    "2": "1",
                                    "3": "3",
                                    "4": "COMPRESSED",
                                    "5": "1048576",
                                    "6": "NO_TRIM",
                                    "7": "Table_e60660723e60487b97aa571c0cf2e7d1_30",
                                    "8": "2022-07-08 11:45:50.780"
                                },
                                {
                                    "0": "FactFinance100m",
                                    "1": "1",
                                    "2": "1",
                                    "3": "3",
                                    "4": "COMPRESSED",
                                    "5": "1048576",
                                    "6": "NO_TRIM",
                                    "7": "Table_e60660723e60487b97aa571c0cf2e7d1_31",
                                    "8": "2022-07-08 11:45:45.563"
                                },
                                {
                                    "0": "FactFinance100m",
                                    "1": "1",
                                    "2": "1",
                                    "3": "3",
                                    "4": "COMPRESSED",
                                    "5": "1048576",
                                    "6": "NO_TRIM",
                                    "7": "Table_e60660723e60487b97aa571c0cf2e7d1_32",
                                    "8": "2022-07-08 11:45:45.760"
                                },
                                {
                                    "0": "FactFinance100m",
                                    "1": "1",
                                    "2": "1",
                                    "3": "3",
                                    "4": "COMPRESSED",
                                    "5": "1048576",
                                    "6": "NO_TRIM",
                                    "7": "Table_e60660723e60487b97aa571c0cf2e7d1_33",
                                    "8": "2022-07-08 11:45:45.663"
                                },
                                {
                                    "0": "FactFinance100m",
                                    "1": "1",
                                    "2": "1",
                                    "3": "3",
                                    "4": "COMPRESSED",
                                    "5": "1048576",
                                    "6": "NO_TRIM",
                                    "7": "Table_e60660723e60487b97aa571c0cf2e7d1_34",
                                    "8": "2022-07-08 11:45:46.940"
                                },
                                {
                                    "0": "FactFinance100m",
                                    "1": "1",
                                    "2": "1",
                                    "3": "3",
                                    "4": "COMPRESSED",
                                    "5": "1048576",
                                    "6": "NO_TRIM",
                                    "7": "Table_e60660723e60487b97aa571c0cf2e7d1_35",
                                    "8": "2022-07-08 11:45:45.607"
                                },
                                {
                                    "0": "FactFinance100m",
                                    "1": "1",
                                    "2": "1",
                                    "3": "3",
                                    "4": "COMPRESSED",
                                    "5": "1048576",
                                    "6": "NO_TRIM",
                                    "7": "Table_e60660723e60487b97aa571c0cf2e7d1_36",
                                    "8": "2022-07-08 11:45:45.663"
                                },
                                {
                                    "0": "FactFinance100m",
                                    "1": "1",
                                    "2": "1",
                                    "3": "3",
                                    "4": "COMPRESSED",
                                    "5": "1048576",
                                    "6": "NO_TRIM",
                                    "7": "Table_e60660723e60487b97aa571c0cf2e7d1_37",
                                    "8": "2022-07-08 11:45:50.500"
                                },
                                {
                                    "0": "FactFinance100m",
                                    "1": "1",
                                    "2": "1",
                                    "3": "3",
                                    "4": "COMPRESSED",
                                    "5": "1048576",
                                    "6": "NO_TRIM",
                                    "7": "Table_e60660723e60487b97aa571c0cf2e7d1_38",
                                    "8": "2022-07-08 11:45:46.090"
                                },
                                {
                                    "0": "FactFinance100m",
                                    "1": "1",
                                    "2": "1",
                                    "3": "3",
                                    "4": "COMPRESSED",
                                    "5": "1048576",
                                    "6": "NO_TRIM",
                                    "7": "Table_e60660723e60487b97aa571c0cf2e7d1_39",
                                    "8": "2022-07-08 11:45:45.760"
                                },
                                {
                                    "0": "FactFinance100m",
                                    "1": "1",
                                    "2": "1",
                                    "3": "3",
                                    "4": "COMPRESSED",
                                    "5": "1048576",
                                    "6": "NO_TRIM",
                                    "7": "Table_e60660723e60487b97aa571c0cf2e7d1_40",
                                    "8": "2022-07-08 11:45:45.670"
                                },
                                {
                                    "0": "FactFinance100m",
                                    "1": "1",
                                    "2": "1",
                                    "3": "3",
                                    "4": "COMPRESSED",
                                    "5": "1048576",
                                    "6": "NO_TRIM",
                                    "7": "Table_e60660723e60487b97aa571c0cf2e7d1_41",
                                    "8": "2022-07-08 11:45:45.723"
                                },
                                {
                                    "0": "FactFinance100m",
                                    "1": "1",
                                    "2": "1",
                                    "3": "3",
                                    "4": "COMPRESSED",
                                    "5": "1048576",
                                    "6": "NO_TRIM",
                                    "7": "Table_e60660723e60487b97aa571c0cf2e7d1_42",
                                    "8": "2022-07-08 11:45:50.857"
                                },
                                {
                                    "0": "FactFinance100m",
                                    "1": "1",
                                    "2": "1",
                                    "3": "3",
                                    "4": "COMPRESSED",
                                    "5": "1048576",
                                    "6": "NO_TRIM",
                                    "7": "Table_e60660723e60487b97aa571c0cf2e7d1_43",
                                    "8": "2022-07-08 11:45:45.790"
                                },
                                {
                                    "0": "FactFinance100m",
                                    "1": "1",
                                    "2": "1",
                                    "3": "3",
                                    "4": "COMPRESSED",
                                    "5": "1048576",
                                    "6": "NO_TRIM",
                                    "7": "Table_e60660723e60487b97aa571c0cf2e7d1_44",
                                    "8": "2022-07-08 11:45:45.653"
                                },
                                {
                                    "0": "FactFinance100m",
                                    "1": "1",
                                    "2": "1",
                                    "3": "3",
                                    "4": "COMPRESSED",
                                    "5": "1048576",
                                    "6": "NO_TRIM",
                                    "7": "Table_e60660723e60487b97aa571c0cf2e7d1_45",
                                    "8": "2022-07-08 11:45:50.840"
                                },
                                {
                                    "0": "FactFinance100m",
                                    "1": "1",
                                    "2": "1",
                                    "3": "3",
                                    "4": "COMPRESSED",
                                    "5": "1048576",
                                    "6": "NO_TRIM",
                                    "7": "Table_e60660723e60487b97aa571c0cf2e7d1_46",
                                    "8": "2022-07-08 11:45:45.540"
                                },
                                {
                                    "0": "FactFinance100m",
                                    "1": "1",
                                    "2": "1",
                                    "3": "3",
                                    "4": "COMPRESSED",
                                    "5": "1048576",
                                    "6": "NO_TRIM",
                                    "7": "Table_e60660723e60487b97aa571c0cf2e7d1_47",
                                    "8": "2022-07-08 11:45:50.537"
                                },
                                {
                                    "0": "FactFinance100m",
                                    "1": "1",
                                    "2": "1",
                                    "3": "3",
                                    "4": "COMPRESSED",
                                    "5": "1048576",
                                    "6": "NO_TRIM",
                                    "7": "Table_e60660723e60487b97aa571c0cf2e7d1_48",
                                    "8": "2022-07-08 11:45:46.047"
                                },
                                {
                                    "0": "FactFinance100m",
                                    "1": "1",
                                    "2": "1",
                                    "3": "3",
                                    "4": "COMPRESSED",
                                    "5": "1048576",
                                    "6": "NO_TRIM",
                                    "7": "Table_e60660723e60487b97aa571c0cf2e7d1_49",
                                    "8": "2022-07-08 11:45:45.487"
                                },
                                {
                                    "0": "FactFinance100m",
                                    "1": "1",
                                    "2": "1",
                                    "3": "3",
                                    "4": "COMPRESSED",
                                    "5": "1048576",
                                    "6": "NO_TRIM",
                                    "7": "Table_e60660723e60487b97aa571c0cf2e7d1_50",
                                    "8": "2022-07-08 11:45:45.683"
                                },
                                {
                                    "0": "FactFinance100m",
                                    "1": "1",
                                    "2": "1",
                                    "3": "3",
                                    "4": "COMPRESSED",
                                    "5": "1048576",
                                    "6": "NO_TRIM",
                                    "7": "Table_e60660723e60487b97aa571c0cf2e7d1_51",
                                    "8": "2022-07-08 11:45:50.767"
                                },
                                {
                                    "0": "FactFinance100m",
                                    "1": "1",
                                    "2": "1",
                                    "3": "3",
                                    "4": "COMPRESSED",
                                    "5": "1048576",
                                    "6": "NO_TRIM",
                                    "7": "Table_e60660723e60487b97aa571c0cf2e7d1_52",
                                    "8": "2022-07-08 11:45:50.500"
                                },
                                {
                                    "0": "FactFinance100m",
                                    "1": "1",
                                    "2": "1",
                                    "3": "3",
                                    "4": "COMPRESSED",
                                    "5": "1048576",
                                    "6": "NO_TRIM",
                                    "7": "Table_e60660723e60487b97aa571c0cf2e7d1_53",
                                    "8": "2022-07-08 11:45:50.453"
                                },
                                {
                                    "0": "FactFinance100m",
                                    "1": "1",
                                    "2": "1",
                                    "3": "3",
                                    "4": "COMPRESSED",
                                    "5": "1048576",
                                    "6": "NO_TRIM",
                                    "7": "Table_e60660723e60487b97aa571c0cf2e7d1_54",
                                    "8": "2022-07-08 11:45:50.980"
                                },
                                {
                                    "0": "FactFinance100m",
                                    "1": "1",
                                    "2": "1",
                                    "3": "3",
                                    "4": "COMPRESSED",
                                    "5": "1048576",
                                    "6": "NO_TRIM",
                                    "7": "Table_e60660723e60487b97aa571c0cf2e7d1_55",
                                    "8": "2022-07-08 11:45:50.873"
                                },
                                {
                                    "0": "FactFinance100m",
                                    "1": "1",
                                    "2": "1",
                                    "3": "3",
                                    "4": "COMPRESSED",
                                    "5": "1048576",
                                    "6": "NO_TRIM",
                                    "7": "Table_e60660723e60487b97aa571c0cf2e7d1_56",
                                    "8": "2022-07-08 11:45:45.663"
                                },
                                {
                                    "0": "FactFinance100m",
                                    "1": "1",
                                    "2": "1",
                                    "3": "3",
                                    "4": "COMPRESSED",
                                    "5": "1048576",
                                    "6": "NO_TRIM",
                                    "7": "Table_e60660723e60487b97aa571c0cf2e7d1_57",
                                    "8": "2022-07-08 11:45:45.457"
                                },
                                {
                                    "0": "FactFinance100m",
                                    "1": "1",
                                    "2": "1",
                                    "3": "3",
                                    "4": "COMPRESSED",
                                    "5": "1048576",
                                    "6": "NO_TRIM",
                                    "7": "Table_e60660723e60487b97aa571c0cf2e7d1_58",
                                    "8": "2022-07-08 11:45:45.553"
                                },
                                {
                                    "0": "FactFinance100m",
                                    "1": "1",
                                    "2": "1",
                                    "3": "3",
                                    "4": "COMPRESSED",
                                    "5": "1048576",
                                    "6": "NO_TRIM",
                                    "7": "Table_e60660723e60487b97aa571c0cf2e7d1_59",
                                    "8": "2022-07-08 11:45:45.813"
                                },
                                {
                                    "0": "FactFinance100m",
                                    "1": "1",
                                    "2": "1",
                                    "3": "3",
                                    "4": "COMPRESSED",
                                    "5": "1048576",
                                    "6": "NO_TRIM",
                                    "7": "Table_e60660723e60487b97aa571c0cf2e7d1_60",
                                    "8": "2022-07-08 11:45:50.927"
                                },
                                {
                                    "0": "FactFinance100m",
                                    "1": "0",
                                    "2": "1",
                                    "3": "3",
                                    "4": "COMPRESSED",
                                    "5": "1048576",
                                    "6": "NO_TRIM",
                                    "7": "Table_e60660723e60487b97aa571c0cf2e7d1_1",
                                    "8": "2022-07-08 11:45:45.253"
                                },
                                {
                                    "0": "FactFinance100m",
                                    "1": "0",
                                    "2": "1",
                                    "3": "3",
                                    "4": "COMPRESSED",
                                    "5": "1048576",
                                    "6": "NO_TRIM",
                                    "7": "Table_e60660723e60487b97aa571c0cf2e7d1_2",
                                    "8": "2022-07-08 11:45:42.523"
                                },
                                {
                                    "0": "FactFinance100m",
                                    "1": "0",
                                    "2": "1",
                                    "3": "3",
                                    "4": "COMPRESSED",
                                    "5": "1048576",
                                    "6": "NO_TRIM",
                                    "7": "Table_e60660723e60487b97aa571c0cf2e7d1_3",
                                    "8": "2022-07-08 11:45:45.470"
                                },
                                {
                                    "0": "FactFinance100m",
                                    "1": "0",
                                    "2": "1",
                                    "3": "3",
                                    "4": "COMPRESSED",
                                    "5": "1048576",
                                    "6": "NO_TRIM",
                                    "7": "Table_e60660723e60487b97aa571c0cf2e7d1_4",
                                    "8": "2022-07-08 11:45:45.347"
                                },
                                {
                                    "0": "FactFinance100m",
                                    "1": "0",
                                    "2": "1",
                                    "3": "3",
                                    "4": "COMPRESSED",
                                    "5": "1048576",
                                    "6": "NO_TRIM",
                                    "7": "Table_e60660723e60487b97aa571c0cf2e7d1_5",
                                    "8": "2022-07-08 11:45:42.443"
                                },
                                {
                                    "0": "FactFinance100m",
                                    "1": "0",
                                    "2": "1",
                                    "3": "3",
                                    "4": "COMPRESSED",
                                    "5": "1048576",
                                    "6": "NO_TRIM",
                                    "7": "Table_e60660723e60487b97aa571c0cf2e7d1_6",
                                    "8": "2022-07-08 11:45:42.540"
                                },
                                {
                                    "0": "FactFinance100m",
                                    "1": "0",
                                    "2": "1",
                                    "3": "3",
                                    "4": "COMPRESSED",
                                    "5": "1048576",
                                    "6": "NO_TRIM",
                                    "7": "Table_e60660723e60487b97aa571c0cf2e7d1_7",
                                    "8": "2022-07-08 11:45:45.273"
                                },
                                {
                                    "0": "FactFinance100m",
                                    "1": "0",
                                    "2": "1",
                                    "3": "3",
                                    "4": "COMPRESSED",
                                    "5": "1048576",
                                    "6": "NO_TRIM",
                                    "7": "Table_e60660723e60487b97aa571c0cf2e7d1_8",
                                    "8": "2022-07-08 11:45:42.483"
                                },
                                {
                                    "0": "FactFinance100m",
                                    "1": "0",
                                    "2": "1",
                                    "3": "3",
                                    "4": "COMPRESSED",
                                    "5": "1048576",
                                    "6": "NO_TRIM",
                                    "7": "Table_e60660723e60487b97aa571c0cf2e7d1_9",
                                    "8": "2022-07-08 11:45:42.487"
                                },
                                {
                                    "0": "FactFinance100m",
                                    "1": "0",
                                    "2": "1",
                                    "3": "3",
                                    "4": "COMPRESSED",
                                    "5": "1048576",
                                    "6": "NO_TRIM",
                                    "7": "Table_e60660723e60487b97aa571c0cf2e7d1_10",
                                    "8": "2022-07-08 11:45:42.223"
                                },
                                {
                                    "0": "FactFinance100m",
                                    "1": "0",
                                    "2": "1",
                                    "3": "3",
                                    "4": "COMPRESSED",
                                    "5": "1048576",
                                    "6": "NO_TRIM",
                                    "7": "Table_e60660723e60487b97aa571c0cf2e7d1_11",
                                    "8": "2022-07-08 11:45:42.370"
                                },
                                {
                                    "0": "FactFinance100m",
                                    "1": "0",
                                    "2": "1",
                                    "3": "3",
                                    "4": "COMPRESSED",
                                    "5": "1048576",
                                    "6": "NO_TRIM",
                                    "7": "Table_e60660723e60487b97aa571c0cf2e7d1_12",
                                    "8": "2022-07-08 11:45:42.470"
                                },
                                {
                                    "0": "FactFinance100m",
                                    "1": "0",
                                    "2": "1",
                                    "3": "3",
                                    "4": "COMPRESSED",
                                    "5": "1048576",
                                    "6": "NO_TRIM",
                                    "7": "Table_e60660723e60487b97aa571c0cf2e7d1_13",
                                    "8": "2022-07-08 11:45:42.447"
                                },
                                {
                                    "0": "FactFinance100m",
                                    "1": "0",
                                    "2": "1",
                                    "3": "3",
                                    "4": "COMPRESSED",
                                    "5": "1048576",
                                    "6": "NO_TRIM",
                                    "7": "Table_e60660723e60487b97aa571c0cf2e7d1_14",
                                    "8": "2022-07-08 11:45:45.303"
                                },
                                {
                                    "0": "FactFinance100m",
                                    "1": "0",
                                    "2": "1",
                                    "3": "3",
                                    "4": "COMPRESSED",
                                    "5": "1048576",
                                    "6": "NO_TRIM",
                                    "7": "Table_e60660723e60487b97aa571c0cf2e7d1_15",
                                    "8": "2022-07-08 11:45:42.333"
                                },
                                {
                                    "0": "FactFinance100m",
                                    "1": "0",
                                    "2": "1",
                                    "3": "3",
                                    "4": "COMPRESSED",
                                    "5": "1048576",
                                    "6": "NO_TRIM",
                                    "7": "Table_e60660723e60487b97aa571c0cf2e7d1_16",
                                    "8": "2022-07-08 11:45:45.293"
                                },
                                {
                                    "0": "FactFinance100m",
                                    "1": "0",
                                    "2": "1",
                                    "3": "3",
                                    "4": "COMPRESSED",
                                    "5": "1048576",
                                    "6": "NO_TRIM",
                                    "7": "Table_e60660723e60487b97aa571c0cf2e7d1_17",
                                    "8": "2022-07-08 11:45:42.527"
                                },
                                {
                                    "0": "FactFinance100m",
                                    "1": "0",
                                    "2": "1",
                                    "3": "3",
                                    "4": "COMPRESSED",
                                    "5": "1048576",
                                    "6": "NO_TRIM",
                                    "7": "Table_e60660723e60487b97aa571c0cf2e7d1_18",
                                    "8": "2022-07-08 11:45:42.397"
                                },
                                {
                                    "0": "FactFinance100m",
                                    "1": "0",
                                    "2": "1",
                                    "3": "3",
                                    "4": "COMPRESSED",
                                    "5": "1048576",
                                    "6": "NO_TRIM",
                                    "7": "Table_e60660723e60487b97aa571c0cf2e7d1_19",
                                    "8": "2022-07-08 11:45:42.407"
                                },
                                {
                                    "0": "FactFinance100m",
                                    "1": "0",
                                    "2": "1",
                                    "3": "3",
                                    "4": "COMPRESSED",
                                    "5": "1048576",
                                    "6": "NO_TRIM",
                                    "7": "Table_e60660723e60487b97aa571c0cf2e7d1_20",
                                    "8": "2022-07-08 11:45:42.233"
                                },
                                {
                                    "0": "FactFinance100m",
                                    "1": "0",
                                    "2": "1",
                                    "3": "3",
                                    "4": "COMPRESSED",
                                    "5": "1048576",
                                    "6": "NO_TRIM",
                                    "7": "Table_e60660723e60487b97aa571c0cf2e7d1_21",
                                    "8": "2022-07-08 11:45:42.470"
                                },
                                {
                                    "0": "FactFinance100m",
                                    "1": "0",
                                    "2": "1",
                                    "3": "3",
                                    "4": "COMPRESSED",
                                    "5": "1048576",
                                    "6": "NO_TRIM",
                                    "7": "Table_e60660723e60487b97aa571c0cf2e7d1_22",
                                    "8": "2022-07-08 11:45:42.270"
                                },
                                {
                                    "0": "FactFinance100m",
                                    "1": "0",
                                    "2": "1",
                                    "3": "3",
                                    "4": "COMPRESSED",
                                    "5": "1048576",
                                    "6": "NO_TRIM",
                                    "7": "Table_e60660723e60487b97aa571c0cf2e7d1_23",
                                    "8": "2022-07-08 11:45:42.480"
                                },
                                {
                                    "0": "FactFinance100m",
                                    "1": "0",
                                    "2": "1",
                                    "3": "3",
                                    "4": "COMPRESSED",
                                    "5": "1048576",
                                    "6": "NO_TRIM",
                                    "7": "Table_e60660723e60487b97aa571c0cf2e7d1_24",
                                    "8": "2022-07-08 11:45:42.433"
                                },
                                {
                                    "0": "FactFinance100m",
                                    "1": "0",
                                    "2": "1",
                                    "3": "3",
                                    "4": "COMPRESSED",
                                    "5": "1048576",
                                    "6": "NO_TRIM",
                                    "7": "Table_e60660723e60487b97aa571c0cf2e7d1_25",
                                    "8": "2022-07-08 11:45:45.400"
                                },
                                {
                                    "0": "FactFinance100m",
                                    "1": "0",
                                    "2": "1",
                                    "3": "3",
                                    "4": "COMPRESSED",
                                    "5": "1048576",
                                    "6": "NO_TRIM",
                                    "7": "Table_e60660723e60487b97aa571c0cf2e7d1_26",
                                    "8": "2022-07-08 11:45:42.380"
                                },
                                {
                                    "0": "FactFinance100m",
                                    "1": "0",
                                    "2": "1",
                                    "3": "3",
                                    "4": "COMPRESSED",
                                    "5": "1048576",
                                    "6": "NO_TRIM",
                                    "7": "Table_e60660723e60487b97aa571c0cf2e7d1_27",
                                    "8": "2022-07-08 11:45:42.413"
                                },
                                {
                                    "0": "FactFinance100m",
                                    "1": "0",
                                    "2": "1",
                                    "3": "3",
                                    "4": "COMPRESSED",
                                    "5": "1048576",
                                    "6": "NO_TRIM",
                                    "7": "Table_e60660723e60487b97aa571c0cf2e7d1_28",
                                    "8": "2022-07-08 11:45:42.450"
                                },
                                {
                                    "0": "FactFinance100m",
                                    "1": "0",
                                    "2": "1",
                                    "3": "3",
                                    "4": "COMPRESSED",
                                    "5": "1048576",
                                    "6": "NO_TRIM",
                                    "7": "Table_e60660723e60487b97aa571c0cf2e7d1_29",
                                    "8": "2022-07-08 11:45:42.403"
                                },
                                {
                                    "0": "FactFinance100m",
                                    "1": "0",
                                    "2": "1",
                                    "3": "3",
                                    "4": "COMPRESSED",
                                    "5": "1048576",
                                    "6": "NO_TRIM",
                                    "7": "Table_e60660723e60487b97aa571c0cf2e7d1_30",
                                    "8": "2022-07-08 11:45:45.363"
                                },
                                {
                                    "0": "FactFinance100m",
                                    "1": "0",
                                    "2": "1",
                                    "3": "3",
                                    "4": "COMPRESSED",
                                    "5": "1048576",
                                    "6": "NO_TRIM",
                                    "7": "Table_e60660723e60487b97aa571c0cf2e7d1_31",
                                    "8": "2022-07-08 11:45:42.303"
                                },
                                {
                                    "0": "FactFinance100m",
                                    "1": "0",
                                    "2": "1",
                                    "3": "3",
                                    "4": "COMPRESSED",
                                    "5": "1048576",
                                    "6": "NO_TRIM",
                                    "7": "Table_e60660723e60487b97aa571c0cf2e7d1_32",
                                    "8": "2022-07-08 11:45:42.400"
                                },
                                {
                                    "0": "FactFinance100m",
                                    "1": "0",
                                    "2": "1",
                                    "3": "3",
                                    "4": "COMPRESSED",
                                    "5": "1048576",
                                    "6": "NO_TRIM",
                                    "7": "Table_e60660723e60487b97aa571c0cf2e7d1_33",
                                    "8": "2022-07-08 11:45:42.323"
                                },
                                {
                                    "0": "FactFinance100m",
                                    "1": "0",
                                    "2": "1",
                                    "3": "3",
                                    "4": "COMPRESSED",
                                    "5": "1048576",
                                    "6": "NO_TRIM",
                                    "7": "Table_e60660723e60487b97aa571c0cf2e7d1_34",
                                    "8": "2022-07-08 11:45:43.670"
                                },
                                {
                                    "0": "FactFinance100m",
                                    "1": "0",
                                    "2": "1",
                                    "3": "3",
                                    "4": "COMPRESSED",
                                    "5": "1048576",
                                    "6": "NO_TRIM",
                                    "7": "Table_e60660723e60487b97aa571c0cf2e7d1_35",
                                    "8": "2022-07-08 11:45:42.340"
                                },
                                {
                                    "0": "FactFinance100m",
                                    "1": "0",
                                    "2": "1",
                                    "3": "3",
                                    "4": "COMPRESSED",
                                    "5": "1048576",
                                    "6": "NO_TRIM",
                                    "7": "Table_e60660723e60487b97aa571c0cf2e7d1_36",
                                    "8": "2022-07-08 11:45:42.363"
                                },
                                {
                                    "0": "FactFinance100m",
                                    "1": "0",
                                    "2": "1",
                                    "3": "3",
                                    "4": "COMPRESSED",
                                    "5": "1048576",
                                    "6": "NO_TRIM",
                                    "7": "Table_e60660723e60487b97aa571c0cf2e7d1_37",
                                    "8": "2022-07-08 11:45:45.223"
                                },
                                {
                                    "0": "FactFinance100m",
                                    "1": "0",
                                    "2": "1",
                                    "3": "3",
                                    "4": "COMPRESSED",
                                    "5": "1048576",
                                    "6": "NO_TRIM",
                                    "7": "Table_e60660723e60487b97aa571c0cf2e7d1_38",
                                    "8": "2022-07-08 11:45:42.457"
                                },
                                {
                                    "0": "FactFinance100m",
                                    "1": "0",
                                    "2": "1",
                                    "3": "3",
                                    "4": "COMPRESSED",
                                    "5": "1048576",
                                    "6": "NO_TRIM",
                                    "7": "Table_e60660723e60487b97aa571c0cf2e7d1_39",
                                    "8": "2022-07-08 11:45:42.523"
                                },
                                {
                                    "0": "FactFinance100m",
                                    "1": "0",
                                    "2": "1",
                                    "3": "3",
                                    "4": "COMPRESSED",
                                    "5": "1048576",
                                    "6": "NO_TRIM",
                                    "7": "Table_e60660723e60487b97aa571c0cf2e7d1_40",
                                    "8": "2022-07-08 11:45:42.363"
                                },
                                {
                                    "0": "FactFinance100m",
                                    "1": "0",
                                    "2": "1",
                                    "3": "3",
                                    "4": "COMPRESSED",
                                    "5": "1048576",
                                    "6": "NO_TRIM",
                                    "7": "Table_e60660723e60487b97aa571c0cf2e7d1_41",
                                    "8": "2022-07-08 11:45:42.410"
                                },
                                {
                                    "0": "FactFinance100m",
                                    "1": "0",
                                    "2": "1",
                                    "3": "3",
                                    "4": "COMPRESSED",
                                    "5": "1048576",
                                    "6": "NO_TRIM",
                                    "7": "Table_e60660723e60487b97aa571c0cf2e7d1_42",
                                    "8": "2022-07-08 11:45:45.320"
                                },
                                {
                                    "0": "FactFinance100m",
                                    "1": "0",
                                    "2": "1",
                                    "3": "3",
                                    "4": "COMPRESSED",
                                    "5": "1048576",
                                    "6": "NO_TRIM",
                                    "7": "Table_e60660723e60487b97aa571c0cf2e7d1_43",
                                    "8": "2022-07-08 11:45:42.507"
                                },
                                {
                                    "0": "FactFinance100m",
                                    "1": "0",
                                    "2": "1",
                                    "3": "3",
                                    "4": "COMPRESSED",
                                    "5": "1048576",
                                    "6": "NO_TRIM",
                                    "7": "Table_e60660723e60487b97aa571c0cf2e7d1_44",
                                    "8": "2022-07-08 11:45:42.367"
                                },
                                {
                                    "0": "FactFinance100m",
                                    "1": "0",
                                    "2": "1",
                                    "3": "3",
                                    "4": "COMPRESSED",
                                    "5": "1048576",
                                    "6": "NO_TRIM",
                                    "7": "Table_e60660723e60487b97aa571c0cf2e7d1_45",
                                    "8": "2022-07-08 11:45:45.297"
                                },
                                {
                                    "0": "FactFinance100m",
                                    "1": "0",
                                    "2": "1",
                                    "3": "3",
                                    "4": "COMPRESSED",
                                    "5": "1048576",
                                    "6": "NO_TRIM",
                                    "7": "Table_e60660723e60487b97aa571c0cf2e7d1_46",
                                    "8": "2022-07-08 11:45:42.250"
                                },
                                {
                                    "0": "FactFinance100m",
                                    "1": "0",
                                    "2": "1",
                                    "3": "3",
                                    "4": "COMPRESSED",
                                    "5": "1048576",
                                    "6": "NO_TRIM",
                                    "7": "Table_e60660723e60487b97aa571c0cf2e7d1_47",
                                    "8": "2022-07-08 11:45:45.280"
                                },
                                {
                                    "0": "FactFinance100m",
                                    "1": "0",
                                    "2": "1",
                                    "3": "3",
                                    "4": "COMPRESSED",
                                    "5": "1048576",
                                    "6": "NO_TRIM",
                                    "7": "Table_e60660723e60487b97aa571c0cf2e7d1_48",
                                    "8": "2022-07-08 11:45:42.413"
                                },
                                {
                                    "0": "FactFinance100m",
                                    "1": "0",
                                    "2": "1",
                                    "3": "3",
                                    "4": "COMPRESSED",
                                    "5": "1048576",
                                    "6": "NO_TRIM",
                                    "7": "Table_e60660723e60487b97aa571c0cf2e7d1_49",
                                    "8": "2022-07-08 11:45:42.250"
                                },
                                {
                                    "0": "FactFinance100m",
                                    "1": "0",
                                    "2": "1",
                                    "3": "3",
                                    "4": "COMPRESSED",
                                    "5": "1048576",
                                    "6": "NO_TRIM",
                                    "7": "Table_e60660723e60487b97aa571c0cf2e7d1_50",
                                    "8": "2022-07-08 11:45:42.357"
                                },
                                {
                                    "0": "FactFinance100m",
                                    "1": "0",
                                    "2": "1",
                                    "3": "3",
                                    "4": "COMPRESSED",
                                    "5": "1048576",
                                    "6": "NO_TRIM",
                                    "7": "Table_e60660723e60487b97aa571c0cf2e7d1_51",
                                    "8": "2022-07-08 11:45:45.287"
                                },
                                {
                                    "0": "FactFinance100m",
                                    "1": "0",
                                    "2": "1",
                                    "3": "3",
                                    "4": "COMPRESSED",
                                    "5": "1048576",
                                    "6": "NO_TRIM",
                                    "7": "Table_e60660723e60487b97aa571c0cf2e7d1_52",
                                    "8": "2022-07-08 11:45:45.227"
                                },
                                {
                                    "0": "FactFinance100m",
                                    "1": "0",
                                    "2": "1",
                                    "3": "3",
                                    "4": "COMPRESSED",
                                    "5": "1048576",
                                    "6": "NO_TRIM",
                                    "7": "Table_e60660723e60487b97aa571c0cf2e7d1_53",
                                    "8": "2022-07-08 11:45:45.213"
                                },
                                {
                                    "0": "FactFinance100m",
                                    "1": "0",
                                    "2": "1",
                                    "3": "3",
                                    "4": "COMPRESSED",
                                    "5": "1048576",
                                    "6": "NO_TRIM",
                                    "7": "Table_e60660723e60487b97aa571c0cf2e7d1_54",
                                    "8": "2022-07-08 11:45:45.417"
                                },
                                {
                                    "0": "FactFinance100m",
                                    "1": "0",
                                    "2": "1",
                                    "3": "3",
                                    "4": "COMPRESSED",
                                    "5": "1048576",
                                    "6": "NO_TRIM",
                                    "7": "Table_e60660723e60487b97aa571c0cf2e7d1_55",
                                    "8": "2022-07-08 11:45:45.390"
                                },
                                {
                                    "0": "FactFinance100m",
                                    "1": "0",
                                    "2": "1",
                                    "3": "3",
                                    "4": "COMPRESSED",
                                    "5": "1048576",
                                    "6": "NO_TRIM",
                                    "7": "Table_e60660723e60487b97aa571c0cf2e7d1_56",
                                    "8": "2022-07-08 11:45:42.373"
                                },
                                {
                                    "0": "FactFinance100m",
                                    "1": "0",
                                    "2": "1",
                                    "3": "3",
                                    "4": "COMPRESSED",
                                    "5": "1048576",
                                    "6": "NO_TRIM",
                                    "7": "Table_e60660723e60487b97aa571c0cf2e7d1_57",
                                    "8": "2022-07-08 11:45:42.213"
                                },
                                {
                                    "0": "FactFinance100m",
                                    "1": "0",
                                    "2": "1",
                                    "3": "3",
                                    "4": "COMPRESSED",
                                    "5": "1048576",
                                    "6": "NO_TRIM",
                                    "7": "Table_e60660723e60487b97aa571c0cf2e7d1_58",
                                    "8": "2022-07-08 11:45:42.260"
                                },
                                {
                                    "0": "FactFinance100m",
                                    "1": "0",
                                    "2": "1",
                                    "3": "3",
                                    "4": "COMPRESSED",
                                    "5": "1048576",
                                    "6": "NO_TRIM",
                                    "7": "Table_e60660723e60487b97aa571c0cf2e7d1_59",
                                    "8": "2022-07-08 11:45:42.453"
                                },
                                {
                                    "0": "FactFinance100m",
                                    "1": "0",
                                    "2": "1",
                                    "3": "3",
                                    "4": "COMPRESSED",
                                    "5": "1048576",
                                    "6": "NO_TRIM",
                                    "7": "Table_e60660723e60487b97aa571c0cf2e7d1_60",
                                    "8": "2022-07-08 11:45:45.363"
                                }
                            ]
                        },
                        "text/html": "<table><tr><th>logical_table_name</th><th>row_group_id</th><th>partition_number</th><th>state</th><th>state_desc</th><th>total_rows</th><th>trim_reason_desc</th><th>physical_name</th><th>created_time</th></tr><tr><td>FactFinance100m</td><td>2</td><td>1</td><td>1</td><td>OPEN</td><td>69736</td><td>NULL</td><td>Table_e60660723e60487b97aa571c0cf2e7d1_1</td><td>2022-07-08 11:45:51.030</td></tr><tr><td>FactFinance100m</td><td>2</td><td>1</td><td>1</td><td>OPEN</td><td>69736</td><td>NULL</td><td>Table_e60660723e60487b97aa571c0cf2e7d1_2</td><td>2022-07-08 11:45:46.053</td></tr><tr><td>FactFinance100m</td><td>2</td><td>1</td><td>1</td><td>OPEN</td><td>69736</td><td>NULL</td><td>Table_e60660723e60487b97aa571c0cf2e7d1_3</td><td>2022-07-08 11:45:50.983</td></tr><tr><td>FactFinance100m</td><td>2</td><td>1</td><td>1</td><td>OPEN</td><td>69736</td><td>NULL</td><td>Table_e60660723e60487b97aa571c0cf2e7d1_4</td><td>2022-07-08 11:45:50.780</td></tr><tr><td>FactFinance100m</td><td>2</td><td>1</td><td>1</td><td>OPEN</td><td>69736</td><td>NULL</td><td>Table_e60660723e60487b97aa571c0cf2e7d1_5</td><td>2022-07-08 11:45:46.017</td></tr><tr><td>FactFinance100m</td><td>2</td><td>1</td><td>1</td><td>OPEN</td><td>69736</td><td>NULL</td><td>Table_e60660723e60487b97aa571c0cf2e7d1_6</td><td>2022-07-08 11:45:46.083</td></tr><tr><td>FactFinance100m</td><td>2</td><td>1</td><td>1</td><td>OPEN</td><td>69736</td><td>NULL</td><td>Table_e60660723e60487b97aa571c0cf2e7d1_7</td><td>2022-07-08 11:45:51.023</td></tr><tr><td>FactFinance100m</td><td>2</td><td>1</td><td>1</td><td>OPEN</td><td>69736</td><td>NULL</td><td>Table_e60660723e60487b97aa571c0cf2e7d1_8</td><td>2022-07-08 11:45:46.047</td></tr><tr><td>FactFinance100m</td><td>2</td><td>1</td><td>1</td><td>OPEN</td><td>69736</td><td>NULL</td><td>Table_e60660723e60487b97aa571c0cf2e7d1_9</td><td>2022-07-08 11:45:46.057</td></tr><tr><td>FactFinance100m</td><td>2</td><td>1</td><td>1</td><td>OPEN</td><td>69736</td><td>NULL</td><td>Table_e60660723e60487b97aa571c0cf2e7d1_10</td><td>2022-07-08 11:45:45.697</td></tr><tr><td>FactFinance100m</td><td>2</td><td>1</td><td>1</td><td>OPEN</td><td>69736</td><td>NULL</td><td>Table_e60660723e60487b97aa571c0cf2e7d1_11</td><td>2022-07-08 11:45:45.857</td></tr><tr><td>FactFinance100m</td><td>2</td><td>1</td><td>1</td><td>OPEN</td><td>69428</td><td>NULL</td><td>Table_e60660723e60487b97aa571c0cf2e7d1_12</td><td>2022-07-08 11:45:45.987</td></tr><tr><td>FactFinance100m</td><td>2</td><td>1</td><td>1</td><td>OPEN</td><td>69172</td><td>NULL</td><td>Table_e60660723e60487b97aa571c0cf2e7d1_13</td><td>2022-07-08 11:45:45.967</td></tr><tr><td>FactFinance100m</td><td>2</td><td>1</td><td>1</td><td>OPEN</td><td>69172</td><td>NULL</td><td>Table_e60660723e60487b97aa571c0cf2e7d1_14</td><td>2022-07-08 11:45:51.047</td></tr><tr><td>FactFinance100m</td><td>2</td><td>1</td><td>1</td><td>OPEN</td><td>69172</td><td>NULL</td><td>Table_e60660723e60487b97aa571c0cf2e7d1_15</td><td>2022-07-08 11:45:45.777</td></tr><tr><td>FactFinance100m</td><td>2</td><td>1</td><td>1</td><td>OPEN</td><td>69172</td><td>NULL</td><td>Table_e60660723e60487b97aa571c0cf2e7d1_16</td><td>2022-07-08 11:45:51.030</td></tr><tr><td>FactFinance100m</td><td>2</td><td>1</td><td>1</td><td>OPEN</td><td>69172</td><td>NULL</td><td>Table_e60660723e60487b97aa571c0cf2e7d1_17</td><td>2022-07-08 11:45:46.010</td></tr><tr><td>FactFinance100m</td><td>2</td><td>1</td><td>1</td><td>OPEN</td><td>69172</td><td>NULL</td><td>Table_e60660723e60487b97aa571c0cf2e7d1_18</td><td>2022-07-08 11:45:45.913</td></tr><tr><td>FactFinance100m</td><td>2</td><td>1</td><td>1</td><td>OPEN</td><td>69172</td><td>NULL</td><td>Table_e60660723e60487b97aa571c0cf2e7d1_19</td><td>2022-07-08 11:45:45.997</td></tr><tr><td>FactFinance100m</td><td>2</td><td>1</td><td>1</td><td>OPEN</td><td>69172</td><td>NULL</td><td>Table_e60660723e60487b97aa571c0cf2e7d1_20</td><td>2022-07-08 11:45:45.730</td></tr><tr><td>FactFinance100m</td><td>2</td><td>1</td><td>1</td><td>OPEN</td><td>69172</td><td>NULL</td><td>Table_e60660723e60487b97aa571c0cf2e7d1_21</td><td>2022-07-08 11:45:46.077</td></tr><tr><td>FactFinance100m</td><td>2</td><td>1</td><td>1</td><td>OPEN</td><td>69172</td><td>NULL</td><td>Table_e60660723e60487b97aa571c0cf2e7d1_22</td><td>2022-07-08 11:45:45.723</td></tr><tr><td>FactFinance100m</td><td>2</td><td>1</td><td>1</td><td>OPEN</td><td>69172</td><td>NULL</td><td>Table_e60660723e60487b97aa571c0cf2e7d1_23</td><td>2022-07-08 11:45:46.030</td></tr><tr><td>FactFinance100m</td><td>2</td><td>1</td><td>1</td><td>OPEN</td><td>69172</td><td>NULL</td><td>Table_e60660723e60487b97aa571c0cf2e7d1_24</td><td>2022-07-08 11:45:45.923</td></tr><tr><td>FactFinance100m</td><td>2</td><td>1</td><td>1</td><td>OPEN</td><td>69172</td><td>NULL</td><td>Table_e60660723e60487b97aa571c0cf2e7d1_25</td><td>2022-07-08 11:45:51.083</td></tr><tr><td>FactFinance100m</td><td>2</td><td>1</td><td>1</td><td>OPEN</td><td>69172</td><td>NULL</td><td>Table_e60660723e60487b97aa571c0cf2e7d1_26</td><td>2022-07-08 11:45:45.890</td></tr><tr><td>FactFinance100m</td><td>2</td><td>1</td><td>1</td><td>OPEN</td><td>69172</td><td>NULL</td><td>Table_e60660723e60487b97aa571c0cf2e7d1_27</td><td>2022-07-08 11:45:46.007</td></tr><tr><td>FactFinance100m</td><td>2</td><td>1</td><td>1</td><td>OPEN</td><td>69172</td><td>NULL</td><td>Table_e60660723e60487b97aa571c0cf2e7d1_28</td><td>2022-07-08 11:45:45.967</td></tr><tr><td>FactFinance100m</td><td>2</td><td>1</td><td>1</td><td>OPEN</td><td>69172</td><td>NULL</td><td>Table_e60660723e60487b97aa571c0cf2e7d1_29</td><td>2022-07-08 11:45:45.880</td></tr><tr><td>FactFinance100m</td><td>2</td><td>1</td><td>1</td><td>OPEN</td><td>69172</td><td>NULL</td><td>Table_e60660723e60487b97aa571c0cf2e7d1_30</td><td>2022-07-08 11:45:51.070</td></tr><tr><td>FactFinance100m</td><td>2</td><td>1</td><td>1</td><td>OPEN</td><td>69172</td><td>NULL</td><td>Table_e60660723e60487b97aa571c0cf2e7d1_31</td><td>2022-07-08 11:45:45.733</td></tr><tr><td>FactFinance100m</td><td>2</td><td>1</td><td>1</td><td>OPEN</td><td>69172</td><td>NULL</td><td>Table_e60660723e60487b97aa571c0cf2e7d1_32</td><td>2022-07-08 11:45:45.927</td></tr><tr><td>FactFinance100m</td><td>2</td><td>1</td><td>1</td><td>OPEN</td><td>69172</td><td>NULL</td><td>Table_e60660723e60487b97aa571c0cf2e7d1_33</td><td>2022-07-08 11:45:45.837</td></tr><tr><td>FactFinance100m</td><td>2</td><td>1</td><td>1</td><td>OPEN</td><td>69172</td><td>NULL</td><td>Table_e60660723e60487b97aa571c0cf2e7d1_34</td><td>2022-07-08 11:45:47.093</td></tr><tr><td>FactFinance100m</td><td>2</td><td>1</td><td>1</td><td>OPEN</td><td>69172</td><td>NULL</td><td>Table_e60660723e60487b97aa571c0cf2e7d1_35</td><td>2022-07-08 11:45:45.777</td></tr><tr><td>FactFinance100m</td><td>2</td><td>1</td><td>1</td><td>OPEN</td><td>69736</td><td>NULL</td><td>Table_e60660723e60487b97aa571c0cf2e7d1_36</td><td>2022-07-08 11:45:45.843</td></tr><tr><td>FactFinance100m</td><td>2</td><td>1</td><td>1</td><td>OPEN</td><td>69736</td><td>NULL</td><td>Table_e60660723e60487b97aa571c0cf2e7d1_37</td><td>2022-07-08 11:45:50.727</td></tr><tr><td>FactFinance100m</td><td>2</td><td>1</td><td>1</td><td>OPEN</td><td>69736</td><td>NULL</td><td>Table_e60660723e60487b97aa571c0cf2e7d1_38</td><td>2022-07-08 11:45:46.260</td></tr><tr><td>FactFinance100m</td><td>2</td><td>1</td><td>1</td><td>OPEN</td><td>69736</td><td>NULL</td><td>Table_e60660723e60487b97aa571c0cf2e7d1_39</td><td>2022-07-08 11:45:45.930</td></tr><tr><td>FactFinance100m</td><td>2</td><td>1</td><td>1</td><td>OPEN</td><td>69736</td><td>NULL</td><td>Table_e60660723e60487b97aa571c0cf2e7d1_40</td><td>2022-07-08 11:45:45.850</td></tr><tr><td>FactFinance100m</td><td>2</td><td>1</td><td>1</td><td>OPEN</td><td>69736</td><td>NULL</td><td>Table_e60660723e60487b97aa571c0cf2e7d1_41</td><td>2022-07-08 11:45:45.900</td></tr><tr><td>FactFinance100m</td><td>2</td><td>1</td><td>1</td><td>OPEN</td><td>69736</td><td>NULL</td><td>Table_e60660723e60487b97aa571c0cf2e7d1_42</td><td>2022-07-08 11:45:51.167</td></tr><tr><td>FactFinance100m</td><td>2</td><td>1</td><td>1</td><td>OPEN</td><td>69736</td><td>NULL</td><td>Table_e60660723e60487b97aa571c0cf2e7d1_43</td><td>2022-07-08 11:45:45.987</td></tr><tr><td>FactFinance100m</td><td>2</td><td>1</td><td>1</td><td>OPEN</td><td>69736</td><td>NULL</td><td>Table_e60660723e60487b97aa571c0cf2e7d1_44</td><td>2022-07-08 11:45:45.827</td></tr><tr><td>FactFinance100m</td><td>2</td><td>1</td><td>1</td><td>OPEN</td><td>69736</td><td>NULL</td><td>Table_e60660723e60487b97aa571c0cf2e7d1_45</td><td>2022-07-08 11:45:51.147</td></tr><tr><td>FactFinance100m</td><td>2</td><td>1</td><td>1</td><td>OPEN</td><td>69736</td><td>NULL</td><td>Table_e60660723e60487b97aa571c0cf2e7d1_46</td><td>2022-07-08 11:45:45.707</td></tr><tr><td>FactFinance100m</td><td>2</td><td>1</td><td>1</td><td>OPEN</td><td>69736</td><td>NULL</td><td>Table_e60660723e60487b97aa571c0cf2e7d1_47</td><td>2022-07-08 11:45:50.813</td></tr><tr><td>FactFinance100m</td><td>2</td><td>1</td><td>1</td><td>OPEN</td><td>69736</td><td>NULL</td><td>Table_e60660723e60487b97aa571c0cf2e7d1_48</td><td>2022-07-08 11:45:46.207</td></tr><tr><td>FactFinance100m</td><td>2</td><td>1</td><td>1</td><td>OPEN</td><td>69736</td><td>NULL</td><td>Table_e60660723e60487b97aa571c0cf2e7d1_49</td><td>2022-07-08 11:45:45.657</td></tr><tr><td>FactFinance100m</td><td>2</td><td>1</td><td>1</td><td>OPEN</td><td>69736</td><td>NULL</td><td>Table_e60660723e60487b97aa571c0cf2e7d1_50</td><td>2022-07-08 11:45:45.853</td></tr><tr><td>FactFinance100m</td><td>2</td><td>1</td><td>1</td><td>OPEN</td><td>69736</td><td>NULL</td><td>Table_e60660723e60487b97aa571c0cf2e7d1_51</td><td>2022-07-08 11:45:50.970</td></tr><tr><td>FactFinance100m</td><td>2</td><td>1</td><td>1</td><td>OPEN</td><td>69736</td><td>NULL</td><td>Table_e60660723e60487b97aa571c0cf2e7d1_52</td><td>2022-07-08 11:45:50.753</td></tr><tr><td>FactFinance100m</td><td>2</td><td>1</td><td>1</td><td>OPEN</td><td>69736</td><td>NULL</td><td>Table_e60660723e60487b97aa571c0cf2e7d1_53</td><td>2022-07-08 11:45:50.657</td></tr><tr><td>FactFinance100m</td><td>2</td><td>1</td><td>1</td><td>OPEN</td><td>69736</td><td>NULL</td><td>Table_e60660723e60487b97aa571c0cf2e7d1_54</td><td>2022-07-08 11:45:51.280</td></tr><tr><td>FactFinance100m</td><td>2</td><td>1</td><td>1</td><td>OPEN</td><td>69736</td><td>NULL</td><td>Table_e60660723e60487b97aa571c0cf2e7d1_55</td><td>2022-07-08 11:45:51.147</td></tr><tr><td>FactFinance100m</td><td>2</td><td>1</td><td>1</td><td>OPEN</td><td>69736</td><td>NULL</td><td>Table_e60660723e60487b97aa571c0cf2e7d1_56</td><td>2022-07-08 11:45:45.833</td></tr><tr><td>FactFinance100m</td><td>2</td><td>1</td><td>1</td><td>OPEN</td><td>69736</td><td>NULL</td><td>Table_e60660723e60487b97aa571c0cf2e7d1_57</td><td>2022-07-08 11:45:45.627</td></tr><tr><td>FactFinance100m</td><td>2</td><td>1</td><td>1</td><td>OPEN</td><td>69736</td><td>NULL</td><td>Table_e60660723e60487b97aa571c0cf2e7d1_58</td><td>2022-07-08 11:45:45.723</td></tr><tr><td>FactFinance100m</td><td>2</td><td>1</td><td>1</td><td>OPEN</td><td>69736</td><td>NULL</td><td>Table_e60660723e60487b97aa571c0cf2e7d1_59</td><td>2022-07-08 11:45:46.010</td></tr><tr><td>FactFinance100m</td><td>2</td><td>1</td><td>1</td><td>OPEN</td><td>69736</td><td>NULL</td><td>Table_e60660723e60487b97aa571c0cf2e7d1_60</td><td>2022-07-08 11:45:51.180</td></tr><tr><td>FactFinance100m</td><td>1</td><td>1</td><td>3</td><td>COMPRESSED</td><td>1048576</td><td>NO_TRIM</td><td>Table_e60660723e60487b97aa571c0cf2e7d1_1</td><td>2022-07-08 11:45:50.747</td></tr><tr><td>FactFinance100m</td><td>1</td><td>1</td><td>3</td><td>COMPRESSED</td><td>1048576</td><td>NO_TRIM</td><td>Table_e60660723e60487b97aa571c0cf2e7d1_2</td><td>2022-07-08 11:45:45.883</td></tr><tr><td>FactFinance100m</td><td>1</td><td>1</td><td>3</td><td>COMPRESSED</td><td>1048576</td><td>NO_TRIM</td><td>Table_e60660723e60487b97aa571c0cf2e7d1_3</td><td>2022-07-08 11:45:50.783</td></tr><tr><td>FactFinance100m</td><td>1</td><td>1</td><td>3</td><td>COMPRESSED</td><td>1048576</td><td>NO_TRIM</td><td>Table_e60660723e60487b97aa571c0cf2e7d1_4</td><td>2022-07-08 11:45:50.637</td></tr><tr><td>FactFinance100m</td><td>1</td><td>1</td><td>3</td><td>COMPRESSED</td><td>1048576</td><td>NO_TRIM</td><td>Table_e60660723e60487b97aa571c0cf2e7d1_5</td><td>2022-07-08 11:45:45.827</td></tr><tr><td>FactFinance100m</td><td>1</td><td>1</td><td>3</td><td>COMPRESSED</td><td>1048576</td><td>NO_TRIM</td><td>Table_e60660723e60487b97aa571c0cf2e7d1_6</td><td>2022-07-08 11:45:45.913</td></tr><tr><td>FactFinance100m</td><td>1</td><td>1</td><td>3</td><td>COMPRESSED</td><td>1048576</td><td>NO_TRIM</td><td>Table_e60660723e60487b97aa571c0cf2e7d1_7</td><td>2022-07-08 11:45:50.753</td></tr><tr><td>FactFinance100m</td><td>1</td><td>1</td><td>3</td><td>COMPRESSED</td><td>1048576</td><td>NO_TRIM</td><td>Table_e60660723e60487b97aa571c0cf2e7d1_8</td><td>2022-07-08 11:45:45.863</td></tr><tr><td>FactFinance100m</td><td>1</td><td>1</td><td>3</td><td>COMPRESSED</td><td>1048576</td><td>NO_TRIM</td><td>Table_e60660723e60487b97aa571c0cf2e7d1_9</td><td>2022-07-08 11:45:45.873</td></tr><tr><td>FactFinance100m</td><td>1</td><td>1</td><td>3</td><td>COMPRESSED</td><td>1048576</td><td>NO_TRIM</td><td>Table_e60660723e60487b97aa571c0cf2e7d1_10</td><td>2022-07-08 11:45:45.520</td></tr><tr><td>FactFinance100m</td><td>1</td><td>1</td><td>3</td><td>COMPRESSED</td><td>1048576</td><td>NO_TRIM</td><td>Table_e60660723e60487b97aa571c0cf2e7d1_11</td><td>2022-07-08 11:45:45.683</td></tr><tr><td>FactFinance100m</td><td>1</td><td>1</td><td>3</td><td>COMPRESSED</td><td>1048576</td><td>NO_TRIM</td><td>Table_e60660723e60487b97aa571c0cf2e7d1_12</td><td>2022-07-08 11:45:45.810</td></tr><tr><td>FactFinance100m</td><td>1</td><td>1</td><td>3</td><td>COMPRESSED</td><td>1048576</td><td>NO_TRIM</td><td>Table_e60660723e60487b97aa571c0cf2e7d1_13</td><td>2022-07-08 11:45:45.777</td></tr><tr><td>FactFinance100m</td><td>1</td><td>1</td><td>3</td><td>COMPRESSED</td><td>1048576</td><td>NO_TRIM</td><td>Table_e60660723e60487b97aa571c0cf2e7d1_14</td><td>2022-07-08 11:45:50.770</td></tr><tr><td>FactFinance100m</td><td>1</td><td>1</td><td>3</td><td>COMPRESSED</td><td>1048576</td><td>NO_TRIM</td><td>Table_e60660723e60487b97aa571c0cf2e7d1_15</td><td>2022-07-08 11:45:45.597</td></tr><tr><td>FactFinance100m</td><td>1</td><td>1</td><td>3</td><td>COMPRESSED</td><td>1048576</td><td>NO_TRIM</td><td>Table_e60660723e60487b97aa571c0cf2e7d1_16</td><td>2022-07-08 11:45:50.750</td></tr><tr><td>FactFinance100m</td><td>1</td><td>1</td><td>3</td><td>COMPRESSED</td><td>1048576</td><td>NO_TRIM</td><td>Table_e60660723e60487b97aa571c0cf2e7d1_17</td><td>2022-07-08 11:45:45.843</td></tr><tr><td>FactFinance100m</td><td>1</td><td>1</td><td>3</td><td>COMPRESSED</td><td>1048576</td><td>NO_TRIM</td><td>Table_e60660723e60487b97aa571c0cf2e7d1_18</td><td>2022-07-08 11:45:45.743</td></tr><tr><td>FactFinance100m</td><td>1</td><td>1</td><td>3</td><td>COMPRESSED</td><td>1048576</td><td>NO_TRIM</td><td>Table_e60660723e60487b97aa571c0cf2e7d1_19</td><td>2022-07-08 11:45:45.807</td></tr><tr><td>FactFinance100m</td><td>1</td><td>1</td><td>3</td><td>COMPRESSED</td><td>1048576</td><td>NO_TRIM</td><td>Table_e60660723e60487b97aa571c0cf2e7d1_20</td><td>2022-07-08 11:45:45.560</td></tr><tr><td>FactFinance100m</td><td>1</td><td>1</td><td>3</td><td>COMPRESSED</td><td>1048576</td><td>NO_TRIM</td><td>Table_e60660723e60487b97aa571c0cf2e7d1_21</td><td>2022-07-08 11:45:45.887</td></tr><tr><td>FactFinance100m</td><td>1</td><td>1</td><td>3</td><td>COMPRESSED</td><td>1048576</td><td>NO_TRIM</td><td>Table_e60660723e60487b97aa571c0cf2e7d1_22</td><td>2022-07-08 11:45:45.547</td></tr><tr><td>FactFinance100m</td><td>1</td><td>1</td><td>3</td><td>COMPRESSED</td><td>1048576</td><td>NO_TRIM</td><td>Table_e60660723e60487b97aa571c0cf2e7d1_23</td><td>2022-07-08 11:45:45.857</td></tr><tr><td>FactFinance100m</td><td>1</td><td>1</td><td>3</td><td>COMPRESSED</td><td>1048576</td><td>NO_TRIM</td><td>Table_e60660723e60487b97aa571c0cf2e7d1_24</td><td>2022-07-08 11:45:45.753</td></tr><tr><td>FactFinance100m</td><td>1</td><td>1</td><td>3</td><td>COMPRESSED</td><td>1048576</td><td>NO_TRIM</td><td>Table_e60660723e60487b97aa571c0cf2e7d1_25</td><td>2022-07-08 11:45:50.790</td></tr><tr><td>FactFinance100m</td><td>1</td><td>1</td><td>3</td><td>COMPRESSED</td><td>1048576</td><td>NO_TRIM</td><td>Table_e60660723e60487b97aa571c0cf2e7d1_26</td><td>2022-07-08 11:45:45.720</td></tr><tr><td>FactFinance100m</td><td>1</td><td>1</td><td>3</td><td>COMPRESSED</td><td>1048576</td><td>NO_TRIM</td><td>Table_e60660723e60487b97aa571c0cf2e7d1_27</td><td>2022-07-08 11:45:45.840</td></tr><tr><td>FactFinance100m</td><td>1</td><td>1</td><td>3</td><td>COMPRESSED</td><td>1048576</td><td>NO_TRIM</td><td>Table_e60660723e60487b97aa571c0cf2e7d1_28</td><td>2022-07-08 11:45:45.787</td></tr><tr><td>FactFinance100m</td><td>1</td><td>1</td><td>3</td><td>COMPRESSED</td><td>1048576</td><td>NO_TRIM</td><td>Table_e60660723e60487b97aa571c0cf2e7d1_29</td><td>2022-07-08 11:45:45.710</td></tr><tr><td>FactFinance100m</td><td>1</td><td>1</td><td>3</td><td>COMPRESSED</td><td>1048576</td><td>NO_TRIM</td><td>Table_e60660723e60487b97aa571c0cf2e7d1_30</td><td>2022-07-08 11:45:50.780</td></tr><tr><td>FactFinance100m</td><td>1</td><td>1</td><td>3</td><td>COMPRESSED</td><td>1048576</td><td>NO_TRIM</td><td>Table_e60660723e60487b97aa571c0cf2e7d1_31</td><td>2022-07-08 11:45:45.563</td></tr><tr><td>FactFinance100m</td><td>1</td><td>1</td><td>3</td><td>COMPRESSED</td><td>1048576</td><td>NO_TRIM</td><td>Table_e60660723e60487b97aa571c0cf2e7d1_32</td><td>2022-07-08 11:45:45.760</td></tr><tr><td>FactFinance100m</td><td>1</td><td>1</td><td>3</td><td>COMPRESSED</td><td>1048576</td><td>NO_TRIM</td><td>Table_e60660723e60487b97aa571c0cf2e7d1_33</td><td>2022-07-08 11:45:45.663</td></tr><tr><td>FactFinance100m</td><td>1</td><td>1</td><td>3</td><td>COMPRESSED</td><td>1048576</td><td>NO_TRIM</td><td>Table_e60660723e60487b97aa571c0cf2e7d1_34</td><td>2022-07-08 11:45:46.940</td></tr><tr><td>FactFinance100m</td><td>1</td><td>1</td><td>3</td><td>COMPRESSED</td><td>1048576</td><td>NO_TRIM</td><td>Table_e60660723e60487b97aa571c0cf2e7d1_35</td><td>2022-07-08 11:45:45.607</td></tr><tr><td>FactFinance100m</td><td>1</td><td>1</td><td>3</td><td>COMPRESSED</td><td>1048576</td><td>NO_TRIM</td><td>Table_e60660723e60487b97aa571c0cf2e7d1_36</td><td>2022-07-08 11:45:45.663</td></tr><tr><td>FactFinance100m</td><td>1</td><td>1</td><td>3</td><td>COMPRESSED</td><td>1048576</td><td>NO_TRIM</td><td>Table_e60660723e60487b97aa571c0cf2e7d1_37</td><td>2022-07-08 11:45:50.500</td></tr><tr><td>FactFinance100m</td><td>1</td><td>1</td><td>3</td><td>COMPRESSED</td><td>1048576</td><td>NO_TRIM</td><td>Table_e60660723e60487b97aa571c0cf2e7d1_38</td><td>2022-07-08 11:45:46.090</td></tr><tr><td>FactFinance100m</td><td>1</td><td>1</td><td>3</td><td>COMPRESSED</td><td>1048576</td><td>NO_TRIM</td><td>Table_e60660723e60487b97aa571c0cf2e7d1_39</td><td>2022-07-08 11:45:45.760</td></tr><tr><td>FactFinance100m</td><td>1</td><td>1</td><td>3</td><td>COMPRESSED</td><td>1048576</td><td>NO_TRIM</td><td>Table_e60660723e60487b97aa571c0cf2e7d1_40</td><td>2022-07-08 11:45:45.670</td></tr><tr><td>FactFinance100m</td><td>1</td><td>1</td><td>3</td><td>COMPRESSED</td><td>1048576</td><td>NO_TRIM</td><td>Table_e60660723e60487b97aa571c0cf2e7d1_41</td><td>2022-07-08 11:45:45.723</td></tr><tr><td>FactFinance100m</td><td>1</td><td>1</td><td>3</td><td>COMPRESSED</td><td>1048576</td><td>NO_TRIM</td><td>Table_e60660723e60487b97aa571c0cf2e7d1_42</td><td>2022-07-08 11:45:50.857</td></tr><tr><td>FactFinance100m</td><td>1</td><td>1</td><td>3</td><td>COMPRESSED</td><td>1048576</td><td>NO_TRIM</td><td>Table_e60660723e60487b97aa571c0cf2e7d1_43</td><td>2022-07-08 11:45:45.790</td></tr><tr><td>FactFinance100m</td><td>1</td><td>1</td><td>3</td><td>COMPRESSED</td><td>1048576</td><td>NO_TRIM</td><td>Table_e60660723e60487b97aa571c0cf2e7d1_44</td><td>2022-07-08 11:45:45.653</td></tr><tr><td>FactFinance100m</td><td>1</td><td>1</td><td>3</td><td>COMPRESSED</td><td>1048576</td><td>NO_TRIM</td><td>Table_e60660723e60487b97aa571c0cf2e7d1_45</td><td>2022-07-08 11:45:50.840</td></tr><tr><td>FactFinance100m</td><td>1</td><td>1</td><td>3</td><td>COMPRESSED</td><td>1048576</td><td>NO_TRIM</td><td>Table_e60660723e60487b97aa571c0cf2e7d1_46</td><td>2022-07-08 11:45:45.540</td></tr><tr><td>FactFinance100m</td><td>1</td><td>1</td><td>3</td><td>COMPRESSED</td><td>1048576</td><td>NO_TRIM</td><td>Table_e60660723e60487b97aa571c0cf2e7d1_47</td><td>2022-07-08 11:45:50.537</td></tr><tr><td>FactFinance100m</td><td>1</td><td>1</td><td>3</td><td>COMPRESSED</td><td>1048576</td><td>NO_TRIM</td><td>Table_e60660723e60487b97aa571c0cf2e7d1_48</td><td>2022-07-08 11:45:46.047</td></tr><tr><td>FactFinance100m</td><td>1</td><td>1</td><td>3</td><td>COMPRESSED</td><td>1048576</td><td>NO_TRIM</td><td>Table_e60660723e60487b97aa571c0cf2e7d1_49</td><td>2022-07-08 11:45:45.487</td></tr><tr><td>FactFinance100m</td><td>1</td><td>1</td><td>3</td><td>COMPRESSED</td><td>1048576</td><td>NO_TRIM</td><td>Table_e60660723e60487b97aa571c0cf2e7d1_50</td><td>2022-07-08 11:45:45.683</td></tr><tr><td>FactFinance100m</td><td>1</td><td>1</td><td>3</td><td>COMPRESSED</td><td>1048576</td><td>NO_TRIM</td><td>Table_e60660723e60487b97aa571c0cf2e7d1_51</td><td>2022-07-08 11:45:50.767</td></tr><tr><td>FactFinance100m</td><td>1</td><td>1</td><td>3</td><td>COMPRESSED</td><td>1048576</td><td>NO_TRIM</td><td>Table_e60660723e60487b97aa571c0cf2e7d1_52</td><td>2022-07-08 11:45:50.500</td></tr><tr><td>FactFinance100m</td><td>1</td><td>1</td><td>3</td><td>COMPRESSED</td><td>1048576</td><td>NO_TRIM</td><td>Table_e60660723e60487b97aa571c0cf2e7d1_53</td><td>2022-07-08 11:45:50.453</td></tr><tr><td>FactFinance100m</td><td>1</td><td>1</td><td>3</td><td>COMPRESSED</td><td>1048576</td><td>NO_TRIM</td><td>Table_e60660723e60487b97aa571c0cf2e7d1_54</td><td>2022-07-08 11:45:50.980</td></tr><tr><td>FactFinance100m</td><td>1</td><td>1</td><td>3</td><td>COMPRESSED</td><td>1048576</td><td>NO_TRIM</td><td>Table_e60660723e60487b97aa571c0cf2e7d1_55</td><td>2022-07-08 11:45:50.873</td></tr><tr><td>FactFinance100m</td><td>1</td><td>1</td><td>3</td><td>COMPRESSED</td><td>1048576</td><td>NO_TRIM</td><td>Table_e60660723e60487b97aa571c0cf2e7d1_56</td><td>2022-07-08 11:45:45.663</td></tr><tr><td>FactFinance100m</td><td>1</td><td>1</td><td>3</td><td>COMPRESSED</td><td>1048576</td><td>NO_TRIM</td><td>Table_e60660723e60487b97aa571c0cf2e7d1_57</td><td>2022-07-08 11:45:45.457</td></tr><tr><td>FactFinance100m</td><td>1</td><td>1</td><td>3</td><td>COMPRESSED</td><td>1048576</td><td>NO_TRIM</td><td>Table_e60660723e60487b97aa571c0cf2e7d1_58</td><td>2022-07-08 11:45:45.553</td></tr><tr><td>FactFinance100m</td><td>1</td><td>1</td><td>3</td><td>COMPRESSED</td><td>1048576</td><td>NO_TRIM</td><td>Table_e60660723e60487b97aa571c0cf2e7d1_59</td><td>2022-07-08 11:45:45.813</td></tr><tr><td>FactFinance100m</td><td>1</td><td>1</td><td>3</td><td>COMPRESSED</td><td>1048576</td><td>NO_TRIM</td><td>Table_e60660723e60487b97aa571c0cf2e7d1_60</td><td>2022-07-08 11:45:50.927</td></tr><tr><td>FactFinance100m</td><td>0</td><td>1</td><td>3</td><td>COMPRESSED</td><td>1048576</td><td>NO_TRIM</td><td>Table_e60660723e60487b97aa571c0cf2e7d1_1</td><td>2022-07-08 11:45:45.253</td></tr><tr><td>FactFinance100m</td><td>0</td><td>1</td><td>3</td><td>COMPRESSED</td><td>1048576</td><td>NO_TRIM</td><td>Table_e60660723e60487b97aa571c0cf2e7d1_2</td><td>2022-07-08 11:45:42.523</td></tr><tr><td>FactFinance100m</td><td>0</td><td>1</td><td>3</td><td>COMPRESSED</td><td>1048576</td><td>NO_TRIM</td><td>Table_e60660723e60487b97aa571c0cf2e7d1_3</td><td>2022-07-08 11:45:45.470</td></tr><tr><td>FactFinance100m</td><td>0</td><td>1</td><td>3</td><td>COMPRESSED</td><td>1048576</td><td>NO_TRIM</td><td>Table_e60660723e60487b97aa571c0cf2e7d1_4</td><td>2022-07-08 11:45:45.347</td></tr><tr><td>FactFinance100m</td><td>0</td><td>1</td><td>3</td><td>COMPRESSED</td><td>1048576</td><td>NO_TRIM</td><td>Table_e60660723e60487b97aa571c0cf2e7d1_5</td><td>2022-07-08 11:45:42.443</td></tr><tr><td>FactFinance100m</td><td>0</td><td>1</td><td>3</td><td>COMPRESSED</td><td>1048576</td><td>NO_TRIM</td><td>Table_e60660723e60487b97aa571c0cf2e7d1_6</td><td>2022-07-08 11:45:42.540</td></tr><tr><td>FactFinance100m</td><td>0</td><td>1</td><td>3</td><td>COMPRESSED</td><td>1048576</td><td>NO_TRIM</td><td>Table_e60660723e60487b97aa571c0cf2e7d1_7</td><td>2022-07-08 11:45:45.273</td></tr><tr><td>FactFinance100m</td><td>0</td><td>1</td><td>3</td><td>COMPRESSED</td><td>1048576</td><td>NO_TRIM</td><td>Table_e60660723e60487b97aa571c0cf2e7d1_8</td><td>2022-07-08 11:45:42.483</td></tr><tr><td>FactFinance100m</td><td>0</td><td>1</td><td>3</td><td>COMPRESSED</td><td>1048576</td><td>NO_TRIM</td><td>Table_e60660723e60487b97aa571c0cf2e7d1_9</td><td>2022-07-08 11:45:42.487</td></tr><tr><td>FactFinance100m</td><td>0</td><td>1</td><td>3</td><td>COMPRESSED</td><td>1048576</td><td>NO_TRIM</td><td>Table_e60660723e60487b97aa571c0cf2e7d1_10</td><td>2022-07-08 11:45:42.223</td></tr><tr><td>FactFinance100m</td><td>0</td><td>1</td><td>3</td><td>COMPRESSED</td><td>1048576</td><td>NO_TRIM</td><td>Table_e60660723e60487b97aa571c0cf2e7d1_11</td><td>2022-07-08 11:45:42.370</td></tr><tr><td>FactFinance100m</td><td>0</td><td>1</td><td>3</td><td>COMPRESSED</td><td>1048576</td><td>NO_TRIM</td><td>Table_e60660723e60487b97aa571c0cf2e7d1_12</td><td>2022-07-08 11:45:42.470</td></tr><tr><td>FactFinance100m</td><td>0</td><td>1</td><td>3</td><td>COMPRESSED</td><td>1048576</td><td>NO_TRIM</td><td>Table_e60660723e60487b97aa571c0cf2e7d1_13</td><td>2022-07-08 11:45:42.447</td></tr><tr><td>FactFinance100m</td><td>0</td><td>1</td><td>3</td><td>COMPRESSED</td><td>1048576</td><td>NO_TRIM</td><td>Table_e60660723e60487b97aa571c0cf2e7d1_14</td><td>2022-07-08 11:45:45.303</td></tr><tr><td>FactFinance100m</td><td>0</td><td>1</td><td>3</td><td>COMPRESSED</td><td>1048576</td><td>NO_TRIM</td><td>Table_e60660723e60487b97aa571c0cf2e7d1_15</td><td>2022-07-08 11:45:42.333</td></tr><tr><td>FactFinance100m</td><td>0</td><td>1</td><td>3</td><td>COMPRESSED</td><td>1048576</td><td>NO_TRIM</td><td>Table_e60660723e60487b97aa571c0cf2e7d1_16</td><td>2022-07-08 11:45:45.293</td></tr><tr><td>FactFinance100m</td><td>0</td><td>1</td><td>3</td><td>COMPRESSED</td><td>1048576</td><td>NO_TRIM</td><td>Table_e60660723e60487b97aa571c0cf2e7d1_17</td><td>2022-07-08 11:45:42.527</td></tr><tr><td>FactFinance100m</td><td>0</td><td>1</td><td>3</td><td>COMPRESSED</td><td>1048576</td><td>NO_TRIM</td><td>Table_e60660723e60487b97aa571c0cf2e7d1_18</td><td>2022-07-08 11:45:42.397</td></tr><tr><td>FactFinance100m</td><td>0</td><td>1</td><td>3</td><td>COMPRESSED</td><td>1048576</td><td>NO_TRIM</td><td>Table_e60660723e60487b97aa571c0cf2e7d1_19</td><td>2022-07-08 11:45:42.407</td></tr><tr><td>FactFinance100m</td><td>0</td><td>1</td><td>3</td><td>COMPRESSED</td><td>1048576</td><td>NO_TRIM</td><td>Table_e60660723e60487b97aa571c0cf2e7d1_20</td><td>2022-07-08 11:45:42.233</td></tr><tr><td>FactFinance100m</td><td>0</td><td>1</td><td>3</td><td>COMPRESSED</td><td>1048576</td><td>NO_TRIM</td><td>Table_e60660723e60487b97aa571c0cf2e7d1_21</td><td>2022-07-08 11:45:42.470</td></tr><tr><td>FactFinance100m</td><td>0</td><td>1</td><td>3</td><td>COMPRESSED</td><td>1048576</td><td>NO_TRIM</td><td>Table_e60660723e60487b97aa571c0cf2e7d1_22</td><td>2022-07-08 11:45:42.270</td></tr><tr><td>FactFinance100m</td><td>0</td><td>1</td><td>3</td><td>COMPRESSED</td><td>1048576</td><td>NO_TRIM</td><td>Table_e60660723e60487b97aa571c0cf2e7d1_23</td><td>2022-07-08 11:45:42.480</td></tr><tr><td>FactFinance100m</td><td>0</td><td>1</td><td>3</td><td>COMPRESSED</td><td>1048576</td><td>NO_TRIM</td><td>Table_e60660723e60487b97aa571c0cf2e7d1_24</td><td>2022-07-08 11:45:42.433</td></tr><tr><td>FactFinance100m</td><td>0</td><td>1</td><td>3</td><td>COMPRESSED</td><td>1048576</td><td>NO_TRIM</td><td>Table_e60660723e60487b97aa571c0cf2e7d1_25</td><td>2022-07-08 11:45:45.400</td></tr><tr><td>FactFinance100m</td><td>0</td><td>1</td><td>3</td><td>COMPRESSED</td><td>1048576</td><td>NO_TRIM</td><td>Table_e60660723e60487b97aa571c0cf2e7d1_26</td><td>2022-07-08 11:45:42.380</td></tr><tr><td>FactFinance100m</td><td>0</td><td>1</td><td>3</td><td>COMPRESSED</td><td>1048576</td><td>NO_TRIM</td><td>Table_e60660723e60487b97aa571c0cf2e7d1_27</td><td>2022-07-08 11:45:42.413</td></tr><tr><td>FactFinance100m</td><td>0</td><td>1</td><td>3</td><td>COMPRESSED</td><td>1048576</td><td>NO_TRIM</td><td>Table_e60660723e60487b97aa571c0cf2e7d1_28</td><td>2022-07-08 11:45:42.450</td></tr><tr><td>FactFinance100m</td><td>0</td><td>1</td><td>3</td><td>COMPRESSED</td><td>1048576</td><td>NO_TRIM</td><td>Table_e60660723e60487b97aa571c0cf2e7d1_29</td><td>2022-07-08 11:45:42.403</td></tr><tr><td>FactFinance100m</td><td>0</td><td>1</td><td>3</td><td>COMPRESSED</td><td>1048576</td><td>NO_TRIM</td><td>Table_e60660723e60487b97aa571c0cf2e7d1_30</td><td>2022-07-08 11:45:45.363</td></tr><tr><td>FactFinance100m</td><td>0</td><td>1</td><td>3</td><td>COMPRESSED</td><td>1048576</td><td>NO_TRIM</td><td>Table_e60660723e60487b97aa571c0cf2e7d1_31</td><td>2022-07-08 11:45:42.303</td></tr><tr><td>FactFinance100m</td><td>0</td><td>1</td><td>3</td><td>COMPRESSED</td><td>1048576</td><td>NO_TRIM</td><td>Table_e60660723e60487b97aa571c0cf2e7d1_32</td><td>2022-07-08 11:45:42.400</td></tr><tr><td>FactFinance100m</td><td>0</td><td>1</td><td>3</td><td>COMPRESSED</td><td>1048576</td><td>NO_TRIM</td><td>Table_e60660723e60487b97aa571c0cf2e7d1_33</td><td>2022-07-08 11:45:42.323</td></tr><tr><td>FactFinance100m</td><td>0</td><td>1</td><td>3</td><td>COMPRESSED</td><td>1048576</td><td>NO_TRIM</td><td>Table_e60660723e60487b97aa571c0cf2e7d1_34</td><td>2022-07-08 11:45:43.670</td></tr><tr><td>FactFinance100m</td><td>0</td><td>1</td><td>3</td><td>COMPRESSED</td><td>1048576</td><td>NO_TRIM</td><td>Table_e60660723e60487b97aa571c0cf2e7d1_35</td><td>2022-07-08 11:45:42.340</td></tr><tr><td>FactFinance100m</td><td>0</td><td>1</td><td>3</td><td>COMPRESSED</td><td>1048576</td><td>NO_TRIM</td><td>Table_e60660723e60487b97aa571c0cf2e7d1_36</td><td>2022-07-08 11:45:42.363</td></tr><tr><td>FactFinance100m</td><td>0</td><td>1</td><td>3</td><td>COMPRESSED</td><td>1048576</td><td>NO_TRIM</td><td>Table_e60660723e60487b97aa571c0cf2e7d1_37</td><td>2022-07-08 11:45:45.223</td></tr><tr><td>FactFinance100m</td><td>0</td><td>1</td><td>3</td><td>COMPRESSED</td><td>1048576</td><td>NO_TRIM</td><td>Table_e60660723e60487b97aa571c0cf2e7d1_38</td><td>2022-07-08 11:45:42.457</td></tr><tr><td>FactFinance100m</td><td>0</td><td>1</td><td>3</td><td>COMPRESSED</td><td>1048576</td><td>NO_TRIM</td><td>Table_e60660723e60487b97aa571c0cf2e7d1_39</td><td>2022-07-08 11:45:42.523</td></tr><tr><td>FactFinance100m</td><td>0</td><td>1</td><td>3</td><td>COMPRESSED</td><td>1048576</td><td>NO_TRIM</td><td>Table_e60660723e60487b97aa571c0cf2e7d1_40</td><td>2022-07-08 11:45:42.363</td></tr><tr><td>FactFinance100m</td><td>0</td><td>1</td><td>3</td><td>COMPRESSED</td><td>1048576</td><td>NO_TRIM</td><td>Table_e60660723e60487b97aa571c0cf2e7d1_41</td><td>2022-07-08 11:45:42.410</td></tr><tr><td>FactFinance100m</td><td>0</td><td>1</td><td>3</td><td>COMPRESSED</td><td>1048576</td><td>NO_TRIM</td><td>Table_e60660723e60487b97aa571c0cf2e7d1_42</td><td>2022-07-08 11:45:45.320</td></tr><tr><td>FactFinance100m</td><td>0</td><td>1</td><td>3</td><td>COMPRESSED</td><td>1048576</td><td>NO_TRIM</td><td>Table_e60660723e60487b97aa571c0cf2e7d1_43</td><td>2022-07-08 11:45:42.507</td></tr><tr><td>FactFinance100m</td><td>0</td><td>1</td><td>3</td><td>COMPRESSED</td><td>1048576</td><td>NO_TRIM</td><td>Table_e60660723e60487b97aa571c0cf2e7d1_44</td><td>2022-07-08 11:45:42.367</td></tr><tr><td>FactFinance100m</td><td>0</td><td>1</td><td>3</td><td>COMPRESSED</td><td>1048576</td><td>NO_TRIM</td><td>Table_e60660723e60487b97aa571c0cf2e7d1_45</td><td>2022-07-08 11:45:45.297</td></tr><tr><td>FactFinance100m</td><td>0</td><td>1</td><td>3</td><td>COMPRESSED</td><td>1048576</td><td>NO_TRIM</td><td>Table_e60660723e60487b97aa571c0cf2e7d1_46</td><td>2022-07-08 11:45:42.250</td></tr><tr><td>FactFinance100m</td><td>0</td><td>1</td><td>3</td><td>COMPRESSED</td><td>1048576</td><td>NO_TRIM</td><td>Table_e60660723e60487b97aa571c0cf2e7d1_47</td><td>2022-07-08 11:45:45.280</td></tr><tr><td>FactFinance100m</td><td>0</td><td>1</td><td>3</td><td>COMPRESSED</td><td>1048576</td><td>NO_TRIM</td><td>Table_e60660723e60487b97aa571c0cf2e7d1_48</td><td>2022-07-08 11:45:42.413</td></tr><tr><td>FactFinance100m</td><td>0</td><td>1</td><td>3</td><td>COMPRESSED</td><td>1048576</td><td>NO_TRIM</td><td>Table_e60660723e60487b97aa571c0cf2e7d1_49</td><td>2022-07-08 11:45:42.250</td></tr><tr><td>FactFinance100m</td><td>0</td><td>1</td><td>3</td><td>COMPRESSED</td><td>1048576</td><td>NO_TRIM</td><td>Table_e60660723e60487b97aa571c0cf2e7d1_50</td><td>2022-07-08 11:45:42.357</td></tr><tr><td>FactFinance100m</td><td>0</td><td>1</td><td>3</td><td>COMPRESSED</td><td>1048576</td><td>NO_TRIM</td><td>Table_e60660723e60487b97aa571c0cf2e7d1_51</td><td>2022-07-08 11:45:45.287</td></tr><tr><td>FactFinance100m</td><td>0</td><td>1</td><td>3</td><td>COMPRESSED</td><td>1048576</td><td>NO_TRIM</td><td>Table_e60660723e60487b97aa571c0cf2e7d1_52</td><td>2022-07-08 11:45:45.227</td></tr><tr><td>FactFinance100m</td><td>0</td><td>1</td><td>3</td><td>COMPRESSED</td><td>1048576</td><td>NO_TRIM</td><td>Table_e60660723e60487b97aa571c0cf2e7d1_53</td><td>2022-07-08 11:45:45.213</td></tr><tr><td>FactFinance100m</td><td>0</td><td>1</td><td>3</td><td>COMPRESSED</td><td>1048576</td><td>NO_TRIM</td><td>Table_e60660723e60487b97aa571c0cf2e7d1_54</td><td>2022-07-08 11:45:45.417</td></tr><tr><td>FactFinance100m</td><td>0</td><td>1</td><td>3</td><td>COMPRESSED</td><td>1048576</td><td>NO_TRIM</td><td>Table_e60660723e60487b97aa571c0cf2e7d1_55</td><td>2022-07-08 11:45:45.390</td></tr><tr><td>FactFinance100m</td><td>0</td><td>1</td><td>3</td><td>COMPRESSED</td><td>1048576</td><td>NO_TRIM</td><td>Table_e60660723e60487b97aa571c0cf2e7d1_56</td><td>2022-07-08 11:45:42.373</td></tr><tr><td>FactFinance100m</td><td>0</td><td>1</td><td>3</td><td>COMPRESSED</td><td>1048576</td><td>NO_TRIM</td><td>Table_e60660723e60487b97aa571c0cf2e7d1_57</td><td>2022-07-08 11:45:42.213</td></tr><tr><td>FactFinance100m</td><td>0</td><td>1</td><td>3</td><td>COMPRESSED</td><td>1048576</td><td>NO_TRIM</td><td>Table_e60660723e60487b97aa571c0cf2e7d1_58</td><td>2022-07-08 11:45:42.260</td></tr><tr><td>FactFinance100m</td><td>0</td><td>1</td><td>3</td><td>COMPRESSED</td><td>1048576</td><td>NO_TRIM</td><td>Table_e60660723e60487b97aa571c0cf2e7d1_59</td><td>2022-07-08 11:45:42.453</td></tr><tr><td>FactFinance100m</td><td>0</td><td>1</td><td>3</td><td>COMPRESSED</td><td>1048576</td><td>NO_TRIM</td><td>Table_e60660723e60487b97aa571c0cf2e7d1_60</td><td>2022-07-08 11:45:45.363</td></tr></table>"
                    },
                    "metadata": {}
                }
            ],
            "execution_count": 5
        },
        {
            "cell_type": "code",
            "source": [
                "/*\r\n",
                "    Lets create same table, but just with 20 million rows (not complete segment, then insert in batches to make 130 million)\r\n",
                "\r\n",
                "    Here we can see the RowGroup closed prematurely by BULkOAD. If BULK operation IS > about 200k records a close may happen on inital insert.\r\n",
                "\r\n",
                "    This results in 14% fragmentation and very small RowGroupo\r\n",
                "*/\r\n",
                "\r\n",
                "IF OBJECT_ID('[dbo].[FactFinance100m]') is not null \r\n",
                "\tDROP TABLE [dbo].[FactFinance100m]\r\n",
                "GO\r\n",
                "CREATE TABLE [dbo].[FactFinance100m] WITH (\r\n",
                "\tDISTRIBUTION = ROUND_ROBIN, CLUSTERED COLUMNSTORE INDEX \r\n",
                ") AS\r\n",
                "SELECT TOP 20000000 * FROM [dbo].[FactFinance1b]\r\n",
                "GO\r\n",
                "SELECT * FROM dbo.vColumnstoreStats WHERE table_name='FactFinance100m'\r\n",
                "select * From [dbo].[vCS_rg_physical_stats] WHERE logical_table_name='FactFinance100m'\r\n",
                ""
            ],
            "metadata": {
                "azdata_cell_guid": "7be95957-cae8-4386-8e65-6a21953d7aee",
                "extensions": {
                    "azuredatastudio": {
                        "views": []
                    }
                },
                "language": "sql"
            },
            "outputs": [
                {
                    "output_type": "display_data",
                    "data": {
                        "text/html": "Commands completed successfully."
                    },
                    "metadata": {}
                },
                {
                    "output_type": "display_data",
                    "data": {
                        "text/html": "(20000000 rows affected)"
                    },
                    "metadata": {}
                },
                {
                    "output_type": "display_data",
                    "data": {
                        "text/html": "(1 row affected)"
                    },
                    "metadata": {}
                },
                {
                    "output_type": "display_data",
                    "data": {
                        "text/html": "(60 rows affected)"
                    },
                    "metadata": {}
                },
                {
                    "output_type": "display_data",
                    "data": {
                        "text/html": "Total execution time: 00:00:41.530"
                    },
                    "metadata": {}
                },
                {
                    "output_type": "execute_result",
                    "execution_count": 6,
                    "data": {
                        "application/vnd.dataresource+json": {
                            "schema": {
                                "fields": [
                                    {
                                        "name": "execution_date"
                                    },
                                    {
                                        "name": "database_name"
                                    },
                                    {
                                        "name": "schema_name"
                                    },
                                    {
                                        "name": "table_name"
                                    },
                                    {
                                        "name": "partition_number"
                                    },
                                    {
                                        "name": "partition_scheme"
                                    },
                                    {
                                        "name": "object_id"
                                    },
                                    {
                                        "name": "index_name"
                                    },
                                    {
                                        "name": "row_count"
                                    },
                                    {
                                        "name": "deleted_row_count"
                                    },
                                    {
                                        "name": "row_group_count"
                                    },
                                    {
                                        "name": "compressed_row_count"
                                    },
                                    {
                                        "name": "compressed_rowgroup_count"
                                    },
                                    {
                                        "name": "open_rowgroup_count"
                                    },
                                    {
                                        "name": "open_row_count"
                                    },
                                    {
                                        "name": "compressed_row_max"
                                    },
                                    {
                                        "name": "compressed_row_avg"
                                    },
                                    {
                                        "name": "fragmentation_density"
                                    },
                                    {
                                        "name": "fragmentation_deletes"
                                    },
                                    {
                                        "name": "fragmentation_open"
                                    }
                                ]
                            },
                            "data": [
                                {
                                    "0": "2022-07-08 11:46:37.263",
                                    "1": "AdventureWorksDW",
                                    "2": "dbo",
                                    "3": "FactFinance100m",
                                    "4": "NULL",
                                    "5": "NULL",
                                    "6": "130867583",
                                    "7": "ClusteredIndex_766ace22025346dba8b1db2efab6ee27",
                                    "8": "20000000",
                                    "9": "0",
                                    "10": "60",
                                    "11": "20000000",
                                    "12": "60",
                                    "13": "0",
                                    "14": "0",
                                    "15": "333884",
                                    "16": "333333",
                                    "17": "0.1700",
                                    "18": "0.0000",
                                    "19": "0.0000"
                                }
                            ]
                        },
                        "text/html": "<table><tr><th>execution_date</th><th>database_name</th><th>schema_name</th><th>table_name</th><th>partition_number</th><th>partition_scheme</th><th>object_id</th><th>index_name</th><th>row_count</th><th>deleted_row_count</th><th>row_group_count</th><th>compressed_row_count</th><th>compressed_rowgroup_count</th><th>open_rowgroup_count</th><th>open_row_count</th><th>compressed_row_max</th><th>compressed_row_avg</th><th>fragmentation_density</th><th>fragmentation_deletes</th><th>fragmentation_open</th></tr><tr><td>2022-07-08 11:46:37.263</td><td>AdventureWorksDW</td><td>dbo</td><td>FactFinance100m</td><td>NULL</td><td>NULL</td><td>130867583</td><td>ClusteredIndex_766ace22025346dba8b1db2efab6ee27</td><td>20000000</td><td>0</td><td>60</td><td>20000000</td><td>60</td><td>0</td><td>0</td><td>333884</td><td>333333</td><td>0.1700</td><td>0.0000</td><td>0.0000</td></tr></table>"
                    },
                    "metadata": {}
                },
                {
                    "output_type": "execute_result",
                    "execution_count": 6,
                    "data": {
                        "application/vnd.dataresource+json": {
                            "schema": {
                                "fields": [
                                    {
                                        "name": "logical_table_name"
                                    },
                                    {
                                        "name": "row_group_id"
                                    },
                                    {
                                        "name": "partition_number"
                                    },
                                    {
                                        "name": "state"
                                    },
                                    {
                                        "name": "state_desc"
                                    },
                                    {
                                        "name": "total_rows"
                                    },
                                    {
                                        "name": "trim_reason_desc"
                                    },
                                    {
                                        "name": "physical_name"
                                    },
                                    {
                                        "name": "created_time"
                                    }
                                ]
                            },
                            "data": [
                                {
                                    "0": "FactFinance100m",
                                    "1": "0",
                                    "2": "1",
                                    "3": "3",
                                    "4": "COMPRESSED",
                                    "5": "333324",
                                    "6": "BULKLOAD",
                                    "7": "Table_3b03618df7c6458cb362bc5edb705bfb_1",
                                    "8": "2022-07-08 11:46:35.730"
                                },
                                {
                                    "0": "FactFinance100m",
                                    "1": "0",
                                    "2": "1",
                                    "3": "3",
                                    "4": "COMPRESSED",
                                    "5": "333324",
                                    "6": "BULKLOAD",
                                    "7": "Table_3b03618df7c6458cb362bc5edb705bfb_2",
                                    "8": "2022-07-08 11:46:35.780"
                                },
                                {
                                    "0": "FactFinance100m",
                                    "1": "0",
                                    "2": "1",
                                    "3": "3",
                                    "4": "COMPRESSED",
                                    "5": "333324",
                                    "6": "BULKLOAD",
                                    "7": "Table_3b03618df7c6458cb362bc5edb705bfb_3",
                                    "8": "2022-07-08 11:46:36.693"
                                },
                                {
                                    "0": "FactFinance100m",
                                    "1": "0",
                                    "2": "1",
                                    "3": "3",
                                    "4": "COMPRESSED",
                                    "5": "333324",
                                    "6": "BULKLOAD",
                                    "7": "Table_3b03618df7c6458cb362bc5edb705bfb_4",
                                    "8": "2022-07-08 11:46:35.727"
                                },
                                {
                                    "0": "FactFinance100m",
                                    "1": "0",
                                    "2": "1",
                                    "3": "3",
                                    "4": "COMPRESSED",
                                    "5": "333324",
                                    "6": "BULKLOAD",
                                    "7": "Table_3b03618df7c6458cb362bc5edb705bfb_5",
                                    "8": "2022-07-08 11:46:35.770"
                                },
                                {
                                    "0": "FactFinance100m",
                                    "1": "0",
                                    "2": "1",
                                    "3": "3",
                                    "4": "COMPRESSED",
                                    "5": "333324",
                                    "6": "BULKLOAD",
                                    "7": "Table_3b03618df7c6458cb362bc5edb705bfb_6",
                                    "8": "2022-07-08 11:46:36.633"
                                },
                                {
                                    "0": "FactFinance100m",
                                    "1": "0",
                                    "2": "1",
                                    "3": "3",
                                    "4": "COMPRESSED",
                                    "5": "333324",
                                    "6": "BULKLOAD",
                                    "7": "Table_3b03618df7c6458cb362bc5edb705bfb_7",
                                    "8": "2022-07-08 11:46:35.740"
                                },
                                {
                                    "0": "FactFinance100m",
                                    "1": "0",
                                    "2": "1",
                                    "3": "3",
                                    "4": "COMPRESSED",
                                    "5": "333324",
                                    "6": "BULKLOAD",
                                    "7": "Table_3b03618df7c6458cb362bc5edb705bfb_8",
                                    "8": "2022-07-08 11:46:35.743"
                                },
                                {
                                    "0": "FactFinance100m",
                                    "1": "0",
                                    "2": "1",
                                    "3": "3",
                                    "4": "COMPRESSED",
                                    "5": "333324",
                                    "6": "BULKLOAD",
                                    "7": "Table_3b03618df7c6458cb362bc5edb705bfb_9",
                                    "8": "2022-07-08 11:46:35.767"
                                },
                                {
                                    "0": "FactFinance100m",
                                    "1": "0",
                                    "2": "1",
                                    "3": "3",
                                    "4": "COMPRESSED",
                                    "5": "333324",
                                    "6": "BULKLOAD",
                                    "7": "Table_3b03618df7c6458cb362bc5edb705bfb_10",
                                    "8": "2022-07-08 11:46:35.790"
                                },
                                {
                                    "0": "FactFinance100m",
                                    "1": "0",
                                    "2": "1",
                                    "3": "3",
                                    "4": "COMPRESSED",
                                    "5": "333324",
                                    "6": "BULKLOAD",
                                    "7": "Table_3b03618df7c6458cb362bc5edb705bfb_11",
                                    "8": "2022-07-08 11:46:36.693"
                                },
                                {
                                    "0": "FactFinance100m",
                                    "1": "0",
                                    "2": "1",
                                    "3": "3",
                                    "4": "COMPRESSED",
                                    "5": "333324",
                                    "6": "BULKLOAD",
                                    "7": "Table_3b03618df7c6458cb362bc5edb705bfb_12",
                                    "8": "2022-07-08 11:46:35.807"
                                },
                                {
                                    "0": "FactFinance100m",
                                    "1": "0",
                                    "2": "1",
                                    "3": "3",
                                    "4": "COMPRESSED",
                                    "5": "333324",
                                    "6": "BULKLOAD",
                                    "7": "Table_3b03618df7c6458cb362bc5edb705bfb_13",
                                    "8": "2022-07-08 11:46:35.760"
                                },
                                {
                                    "0": "FactFinance100m",
                                    "1": "0",
                                    "2": "1",
                                    "3": "3",
                                    "4": "COMPRESSED",
                                    "5": "333324",
                                    "6": "BULKLOAD",
                                    "7": "Table_3b03618df7c6458cb362bc5edb705bfb_14",
                                    "8": "2022-07-08 11:46:36.700"
                                },
                                {
                                    "0": "FactFinance100m",
                                    "1": "0",
                                    "2": "1",
                                    "3": "3",
                                    "4": "COMPRESSED",
                                    "5": "333324",
                                    "6": "BULKLOAD",
                                    "7": "Table_3b03618df7c6458cb362bc5edb705bfb_15",
                                    "8": "2022-07-08 11:46:35.747"
                                },
                                {
                                    "0": "FactFinance100m",
                                    "1": "0",
                                    "2": "1",
                                    "3": "3",
                                    "4": "COMPRESSED",
                                    "5": "333324",
                                    "6": "BULKLOAD",
                                    "7": "Table_3b03618df7c6458cb362bc5edb705bfb_16",
                                    "8": "2022-07-08 11:46:35.750"
                                },
                                {
                                    "0": "FactFinance100m",
                                    "1": "0",
                                    "2": "1",
                                    "3": "3",
                                    "4": "COMPRESSED",
                                    "5": "333324",
                                    "6": "BULKLOAD",
                                    "7": "Table_3b03618df7c6458cb362bc5edb705bfb_17",
                                    "8": "2022-07-08 11:46:35.717"
                                },
                                {
                                    "0": "FactFinance100m",
                                    "1": "0",
                                    "2": "1",
                                    "3": "3",
                                    "4": "COMPRESSED",
                                    "5": "333324",
                                    "6": "BULKLOAD",
                                    "7": "Table_3b03618df7c6458cb362bc5edb705bfb_18",
                                    "8": "2022-07-08 11:46:35.750"
                                },
                                {
                                    "0": "FactFinance100m",
                                    "1": "0",
                                    "2": "1",
                                    "3": "3",
                                    "4": "COMPRESSED",
                                    "5": "333324",
                                    "6": "BULKLOAD",
                                    "7": "Table_3b03618df7c6458cb362bc5edb705bfb_19",
                                    "8": "2022-07-08 11:46:36.637"
                                },
                                {
                                    "0": "FactFinance100m",
                                    "1": "0",
                                    "2": "1",
                                    "3": "3",
                                    "4": "COMPRESSED",
                                    "5": "333324",
                                    "6": "BULKLOAD",
                                    "7": "Table_3b03618df7c6458cb362bc5edb705bfb_20",
                                    "8": "2022-07-08 11:46:36.607"
                                },
                                {
                                    "0": "FactFinance100m",
                                    "1": "0",
                                    "2": "1",
                                    "3": "3",
                                    "4": "COMPRESSED",
                                    "5": "333324",
                                    "6": "BULKLOAD",
                                    "7": "Table_3b03618df7c6458cb362bc5edb705bfb_21",
                                    "8": "2022-07-08 11:46:35.733"
                                },
                                {
                                    "0": "FactFinance100m",
                                    "1": "0",
                                    "2": "1",
                                    "3": "3",
                                    "4": "COMPRESSED",
                                    "5": "333324",
                                    "6": "BULKLOAD",
                                    "7": "Table_3b03618df7c6458cb362bc5edb705bfb_22",
                                    "8": "2022-07-08 11:46:35.780"
                                },
                                {
                                    "0": "FactFinance100m",
                                    "1": "0",
                                    "2": "1",
                                    "3": "3",
                                    "4": "COMPRESSED",
                                    "5": "333324",
                                    "6": "BULKLOAD",
                                    "7": "Table_3b03618df7c6458cb362bc5edb705bfb_23",
                                    "8": "2022-07-08 11:46:36.687"
                                },
                                {
                                    "0": "FactFinance100m",
                                    "1": "0",
                                    "2": "1",
                                    "3": "3",
                                    "4": "COMPRESSED",
                                    "5": "333324",
                                    "6": "BULKLOAD",
                                    "7": "Table_3b03618df7c6458cb362bc5edb705bfb_24",
                                    "8": "2022-07-08 11:46:35.770"
                                },
                                {
                                    "0": "FactFinance100m",
                                    "1": "0",
                                    "2": "1",
                                    "3": "3",
                                    "4": "COMPRESSED",
                                    "5": "333324",
                                    "6": "BULKLOAD",
                                    "7": "Table_3b03618df7c6458cb362bc5edb705bfb_25",
                                    "8": "2022-07-08 11:46:35.787"
                                },
                                {
                                    "0": "FactFinance100m",
                                    "1": "0",
                                    "2": "1",
                                    "3": "3",
                                    "4": "COMPRESSED",
                                    "5": "333324",
                                    "6": "BULKLOAD",
                                    "7": "Table_3b03618df7c6458cb362bc5edb705bfb_26",
                                    "8": "2022-07-08 11:46:36.653"
                                },
                                {
                                    "0": "FactFinance100m",
                                    "1": "0",
                                    "2": "1",
                                    "3": "3",
                                    "4": "COMPRESSED",
                                    "5": "333324",
                                    "6": "BULKLOAD",
                                    "7": "Table_3b03618df7c6458cb362bc5edb705bfb_27",
                                    "8": "2022-07-08 11:46:36.610"
                                },
                                {
                                    "0": "FactFinance100m",
                                    "1": "0",
                                    "2": "1",
                                    "3": "3",
                                    "4": "COMPRESSED",
                                    "5": "333324",
                                    "6": "BULKLOAD",
                                    "7": "Table_3b03618df7c6458cb362bc5edb705bfb_28",
                                    "8": "2022-07-08 11:46:35.760"
                                },
                                {
                                    "0": "FactFinance100m",
                                    "1": "0",
                                    "2": "1",
                                    "3": "3",
                                    "4": "COMPRESSED",
                                    "5": "333324",
                                    "6": "BULKLOAD",
                                    "7": "Table_3b03618df7c6458cb362bc5edb705bfb_29",
                                    "8": "2022-07-08 11:46:35.697"
                                },
                                {
                                    "0": "FactFinance100m",
                                    "1": "0",
                                    "2": "1",
                                    "3": "3",
                                    "4": "COMPRESSED",
                                    "5": "333324",
                                    "6": "BULKLOAD",
                                    "7": "Table_3b03618df7c6458cb362bc5edb705bfb_30",
                                    "8": "2022-07-08 11:46:36.667"
                                },
                                {
                                    "0": "FactFinance100m",
                                    "1": "0",
                                    "2": "1",
                                    "3": "3",
                                    "4": "COMPRESSED",
                                    "5": "333324",
                                    "6": "BULKLOAD",
                                    "7": "Table_3b03618df7c6458cb362bc5edb705bfb_31",
                                    "8": "2022-07-08 11:46:35.820"
                                },
                                {
                                    "0": "FactFinance100m",
                                    "1": "0",
                                    "2": "1",
                                    "3": "3",
                                    "4": "COMPRESSED",
                                    "5": "333324",
                                    "6": "BULKLOAD",
                                    "7": "Table_3b03618df7c6458cb362bc5edb705bfb_32",
                                    "8": "2022-07-08 11:46:35.710"
                                },
                                {
                                    "0": "FactFinance100m",
                                    "1": "0",
                                    "2": "1",
                                    "3": "3",
                                    "4": "COMPRESSED",
                                    "5": "333324",
                                    "6": "BULKLOAD",
                                    "7": "Table_3b03618df7c6458cb362bc5edb705bfb_33",
                                    "8": "2022-07-08 11:46:36.627"
                                },
                                {
                                    "0": "FactFinance100m",
                                    "1": "0",
                                    "2": "1",
                                    "3": "3",
                                    "4": "COMPRESSED",
                                    "5": "333324",
                                    "6": "BULKLOAD",
                                    "7": "Table_3b03618df7c6458cb362bc5edb705bfb_34",
                                    "8": "2022-07-08 11:46:35.843"
                                },
                                {
                                    "0": "FactFinance100m",
                                    "1": "0",
                                    "2": "1",
                                    "3": "3",
                                    "4": "COMPRESSED",
                                    "5": "333324",
                                    "6": "BULKLOAD",
                                    "7": "Table_3b03618df7c6458cb362bc5edb705bfb_35",
                                    "8": "2022-07-08 11:46:36.577"
                                },
                                {
                                    "0": "FactFinance100m",
                                    "1": "0",
                                    "2": "1",
                                    "3": "3",
                                    "4": "COMPRESSED",
                                    "5": "333324",
                                    "6": "BULKLOAD",
                                    "7": "Table_3b03618df7c6458cb362bc5edb705bfb_36",
                                    "8": "2022-07-08 11:46:35.710"
                                },
                                {
                                    "0": "FactFinance100m",
                                    "1": "0",
                                    "2": "1",
                                    "3": "3",
                                    "4": "COMPRESSED",
                                    "5": "333324",
                                    "6": "BULKLOAD",
                                    "7": "Table_3b03618df7c6458cb362bc5edb705bfb_37",
                                    "8": "2022-07-08 11:46:35.727"
                                },
                                {
                                    "0": "FactFinance100m",
                                    "1": "0",
                                    "2": "1",
                                    "3": "3",
                                    "4": "COMPRESSED",
                                    "5": "333324",
                                    "6": "BULKLOAD",
                                    "7": "Table_3b03618df7c6458cb362bc5edb705bfb_38",
                                    "8": "2022-07-08 11:46:36.617"
                                },
                                {
                                    "0": "FactFinance100m",
                                    "1": "0",
                                    "2": "1",
                                    "3": "3",
                                    "4": "COMPRESSED",
                                    "5": "333324",
                                    "6": "BULKLOAD",
                                    "7": "Table_3b03618df7c6458cb362bc5edb705bfb_39",
                                    "8": "2022-07-08 11:46:35.803"
                                },
                                {
                                    "0": "FactFinance100m",
                                    "1": "0",
                                    "2": "1",
                                    "3": "3",
                                    "4": "COMPRESSED",
                                    "5": "333324",
                                    "6": "BULKLOAD",
                                    "7": "Table_3b03618df7c6458cb362bc5edb705bfb_40",
                                    "8": "2022-07-08 11:46:36.663"
                                },
                                {
                                    "0": "FactFinance100m",
                                    "1": "0",
                                    "2": "1",
                                    "3": "3",
                                    "4": "COMPRESSED",
                                    "5": "333324",
                                    "6": "BULKLOAD",
                                    "7": "Table_3b03618df7c6458cb362bc5edb705bfb_41",
                                    "8": "2022-07-08 11:46:35.777"
                                },
                                {
                                    "0": "FactFinance100m",
                                    "1": "0",
                                    "2": "1",
                                    "3": "3",
                                    "4": "COMPRESSED",
                                    "5": "333324",
                                    "6": "BULKLOAD",
                                    "7": "Table_3b03618df7c6458cb362bc5edb705bfb_42",
                                    "8": "2022-07-08 11:46:36.627"
                                },
                                {
                                    "0": "FactFinance100m",
                                    "1": "0",
                                    "2": "1",
                                    "3": "3",
                                    "4": "COMPRESSED",
                                    "5": "333324",
                                    "6": "BULKLOAD",
                                    "7": "Table_3b03618df7c6458cb362bc5edb705bfb_43",
                                    "8": "2022-07-08 11:46:35.780"
                                },
                                {
                                    "0": "FactFinance100m",
                                    "1": "0",
                                    "2": "1",
                                    "3": "3",
                                    "4": "COMPRESSED",
                                    "5": "333324",
                                    "6": "BULKLOAD",
                                    "7": "Table_3b03618df7c6458cb362bc5edb705bfb_44",
                                    "8": "2022-07-08 11:46:36.657"
                                },
                                {
                                    "0": "FactFinance100m",
                                    "1": "0",
                                    "2": "1",
                                    "3": "3",
                                    "4": "COMPRESSED",
                                    "5": "333324",
                                    "6": "BULKLOAD",
                                    "7": "Table_3b03618df7c6458cb362bc5edb705bfb_45",
                                    "8": "2022-07-08 11:46:35.787"
                                },
                                {
                                    "0": "FactFinance100m",
                                    "1": "0",
                                    "2": "1",
                                    "3": "3",
                                    "4": "COMPRESSED",
                                    "5": "333884",
                                    "6": "BULKLOAD",
                                    "7": "Table_3b03618df7c6458cb362bc5edb705bfb_46",
                                    "8": "2022-07-08 11:46:36.650"
                                },
                                {
                                    "0": "FactFinance100m",
                                    "1": "0",
                                    "2": "1",
                                    "3": "3",
                                    "4": "COMPRESSED",
                                    "5": "333324",
                                    "6": "BULKLOAD",
                                    "7": "Table_3b03618df7c6458cb362bc5edb705bfb_47",
                                    "8": "2022-07-08 11:46:36.687"
                                },
                                {
                                    "0": "FactFinance100m",
                                    "1": "0",
                                    "2": "1",
                                    "3": "3",
                                    "4": "COMPRESSED",
                                    "5": "333324",
                                    "6": "BULKLOAD",
                                    "7": "Table_3b03618df7c6458cb362bc5edb705bfb_48",
                                    "8": "2022-07-08 11:46:36.680"
                                },
                                {
                                    "0": "FactFinance100m",
                                    "1": "0",
                                    "2": "1",
                                    "3": "3",
                                    "4": "COMPRESSED",
                                    "5": "333324",
                                    "6": "BULKLOAD",
                                    "7": "Table_3b03618df7c6458cb362bc5edb705bfb_49",
                                    "8": "2022-07-08 11:46:35.853"
                                },
                                {
                                    "0": "FactFinance100m",
                                    "1": "0",
                                    "2": "1",
                                    "3": "3",
                                    "4": "COMPRESSED",
                                    "5": "333324",
                                    "6": "BULKLOAD",
                                    "7": "Table_3b03618df7c6458cb362bc5edb705bfb_50",
                                    "8": "2022-07-08 11:46:35.813"
                                },
                                {
                                    "0": "FactFinance100m",
                                    "1": "0",
                                    "2": "1",
                                    "3": "3",
                                    "4": "COMPRESSED",
                                    "5": "333324",
                                    "6": "BULKLOAD",
                                    "7": "Table_3b03618df7c6458cb362bc5edb705bfb_51",
                                    "8": "2022-07-08 11:46:35.750"
                                },
                                {
                                    "0": "FactFinance100m",
                                    "1": "0",
                                    "2": "1",
                                    "3": "3",
                                    "4": "COMPRESSED",
                                    "5": "333324",
                                    "6": "BULKLOAD",
                                    "7": "Table_3b03618df7c6458cb362bc5edb705bfb_52",
                                    "8": "2022-07-08 11:46:35.740"
                                },
                                {
                                    "0": "FactFinance100m",
                                    "1": "0",
                                    "2": "1",
                                    "3": "3",
                                    "4": "COMPRESSED",
                                    "5": "333324",
                                    "6": "BULKLOAD",
                                    "7": "Table_3b03618df7c6458cb362bc5edb705bfb_53",
                                    "8": "2022-07-08 11:46:35.700"
                                },
                                {
                                    "0": "FactFinance100m",
                                    "1": "0",
                                    "2": "1",
                                    "3": "3",
                                    "4": "COMPRESSED",
                                    "5": "333324",
                                    "6": "BULKLOAD",
                                    "7": "Table_3b03618df7c6458cb362bc5edb705bfb_54",
                                    "8": "2022-07-08 11:46:35.850"
                                },
                                {
                                    "0": "FactFinance100m",
                                    "1": "0",
                                    "2": "1",
                                    "3": "3",
                                    "4": "COMPRESSED",
                                    "5": "333324",
                                    "6": "BULKLOAD",
                                    "7": "Table_3b03618df7c6458cb362bc5edb705bfb_55",
                                    "8": "2022-07-08 11:46:36.627"
                                },
                                {
                                    "0": "FactFinance100m",
                                    "1": "0",
                                    "2": "1",
                                    "3": "3",
                                    "4": "COMPRESSED",
                                    "5": "333324",
                                    "6": "BULKLOAD",
                                    "7": "Table_3b03618df7c6458cb362bc5edb705bfb_56",
                                    "8": "2022-07-08 11:46:36.640"
                                },
                                {
                                    "0": "FactFinance100m",
                                    "1": "0",
                                    "2": "1",
                                    "3": "3",
                                    "4": "COMPRESSED",
                                    "5": "333324",
                                    "6": "BULKLOAD",
                                    "7": "Table_3b03618df7c6458cb362bc5edb705bfb_57",
                                    "8": "2022-07-08 11:46:36.123"
                                },
                                {
                                    "0": "FactFinance100m",
                                    "1": "0",
                                    "2": "1",
                                    "3": "3",
                                    "4": "COMPRESSED",
                                    "5": "333324",
                                    "6": "BULKLOAD",
                                    "7": "Table_3b03618df7c6458cb362bc5edb705bfb_58",
                                    "8": "2022-07-08 11:46:36.660"
                                },
                                {
                                    "0": "FactFinance100m",
                                    "1": "0",
                                    "2": "1",
                                    "3": "3",
                                    "4": "COMPRESSED",
                                    "5": "333324",
                                    "6": "BULKLOAD",
                                    "7": "Table_3b03618df7c6458cb362bc5edb705bfb_59",
                                    "8": "2022-07-08 11:46:35.760"
                                },
                                {
                                    "0": "FactFinance100m",
                                    "1": "0",
                                    "2": "1",
                                    "3": "3",
                                    "4": "COMPRESSED",
                                    "5": "333324",
                                    "6": "BULKLOAD",
                                    "7": "Table_3b03618df7c6458cb362bc5edb705bfb_60",
                                    "8": "2022-07-08 11:46:35.793"
                                }
                            ]
                        },
                        "text/html": "<table><tr><th>logical_table_name</th><th>row_group_id</th><th>partition_number</th><th>state</th><th>state_desc</th><th>total_rows</th><th>trim_reason_desc</th><th>physical_name</th><th>created_time</th></tr><tr><td>FactFinance100m</td><td>0</td><td>1</td><td>3</td><td>COMPRESSED</td><td>333324</td><td>BULKLOAD</td><td>Table_3b03618df7c6458cb362bc5edb705bfb_1</td><td>2022-07-08 11:46:35.730</td></tr><tr><td>FactFinance100m</td><td>0</td><td>1</td><td>3</td><td>COMPRESSED</td><td>333324</td><td>BULKLOAD</td><td>Table_3b03618df7c6458cb362bc5edb705bfb_2</td><td>2022-07-08 11:46:35.780</td></tr><tr><td>FactFinance100m</td><td>0</td><td>1</td><td>3</td><td>COMPRESSED</td><td>333324</td><td>BULKLOAD</td><td>Table_3b03618df7c6458cb362bc5edb705bfb_3</td><td>2022-07-08 11:46:36.693</td></tr><tr><td>FactFinance100m</td><td>0</td><td>1</td><td>3</td><td>COMPRESSED</td><td>333324</td><td>BULKLOAD</td><td>Table_3b03618df7c6458cb362bc5edb705bfb_4</td><td>2022-07-08 11:46:35.727</td></tr><tr><td>FactFinance100m</td><td>0</td><td>1</td><td>3</td><td>COMPRESSED</td><td>333324</td><td>BULKLOAD</td><td>Table_3b03618df7c6458cb362bc5edb705bfb_5</td><td>2022-07-08 11:46:35.770</td></tr><tr><td>FactFinance100m</td><td>0</td><td>1</td><td>3</td><td>COMPRESSED</td><td>333324</td><td>BULKLOAD</td><td>Table_3b03618df7c6458cb362bc5edb705bfb_6</td><td>2022-07-08 11:46:36.633</td></tr><tr><td>FactFinance100m</td><td>0</td><td>1</td><td>3</td><td>COMPRESSED</td><td>333324</td><td>BULKLOAD</td><td>Table_3b03618df7c6458cb362bc5edb705bfb_7</td><td>2022-07-08 11:46:35.740</td></tr><tr><td>FactFinance100m</td><td>0</td><td>1</td><td>3</td><td>COMPRESSED</td><td>333324</td><td>BULKLOAD</td><td>Table_3b03618df7c6458cb362bc5edb705bfb_8</td><td>2022-07-08 11:46:35.743</td></tr><tr><td>FactFinance100m</td><td>0</td><td>1</td><td>3</td><td>COMPRESSED</td><td>333324</td><td>BULKLOAD</td><td>Table_3b03618df7c6458cb362bc5edb705bfb_9</td><td>2022-07-08 11:46:35.767</td></tr><tr><td>FactFinance100m</td><td>0</td><td>1</td><td>3</td><td>COMPRESSED</td><td>333324</td><td>BULKLOAD</td><td>Table_3b03618df7c6458cb362bc5edb705bfb_10</td><td>2022-07-08 11:46:35.790</td></tr><tr><td>FactFinance100m</td><td>0</td><td>1</td><td>3</td><td>COMPRESSED</td><td>333324</td><td>BULKLOAD</td><td>Table_3b03618df7c6458cb362bc5edb705bfb_11</td><td>2022-07-08 11:46:36.693</td></tr><tr><td>FactFinance100m</td><td>0</td><td>1</td><td>3</td><td>COMPRESSED</td><td>333324</td><td>BULKLOAD</td><td>Table_3b03618df7c6458cb362bc5edb705bfb_12</td><td>2022-07-08 11:46:35.807</td></tr><tr><td>FactFinance100m</td><td>0</td><td>1</td><td>3</td><td>COMPRESSED</td><td>333324</td><td>BULKLOAD</td><td>Table_3b03618df7c6458cb362bc5edb705bfb_13</td><td>2022-07-08 11:46:35.760</td></tr><tr><td>FactFinance100m</td><td>0</td><td>1</td><td>3</td><td>COMPRESSED</td><td>333324</td><td>BULKLOAD</td><td>Table_3b03618df7c6458cb362bc5edb705bfb_14</td><td>2022-07-08 11:46:36.700</td></tr><tr><td>FactFinance100m</td><td>0</td><td>1</td><td>3</td><td>COMPRESSED</td><td>333324</td><td>BULKLOAD</td><td>Table_3b03618df7c6458cb362bc5edb705bfb_15</td><td>2022-07-08 11:46:35.747</td></tr><tr><td>FactFinance100m</td><td>0</td><td>1</td><td>3</td><td>COMPRESSED</td><td>333324</td><td>BULKLOAD</td><td>Table_3b03618df7c6458cb362bc5edb705bfb_16</td><td>2022-07-08 11:46:35.750</td></tr><tr><td>FactFinance100m</td><td>0</td><td>1</td><td>3</td><td>COMPRESSED</td><td>333324</td><td>BULKLOAD</td><td>Table_3b03618df7c6458cb362bc5edb705bfb_17</td><td>2022-07-08 11:46:35.717</td></tr><tr><td>FactFinance100m</td><td>0</td><td>1</td><td>3</td><td>COMPRESSED</td><td>333324</td><td>BULKLOAD</td><td>Table_3b03618df7c6458cb362bc5edb705bfb_18</td><td>2022-07-08 11:46:35.750</td></tr><tr><td>FactFinance100m</td><td>0</td><td>1</td><td>3</td><td>COMPRESSED</td><td>333324</td><td>BULKLOAD</td><td>Table_3b03618df7c6458cb362bc5edb705bfb_19</td><td>2022-07-08 11:46:36.637</td></tr><tr><td>FactFinance100m</td><td>0</td><td>1</td><td>3</td><td>COMPRESSED</td><td>333324</td><td>BULKLOAD</td><td>Table_3b03618df7c6458cb362bc5edb705bfb_20</td><td>2022-07-08 11:46:36.607</td></tr><tr><td>FactFinance100m</td><td>0</td><td>1</td><td>3</td><td>COMPRESSED</td><td>333324</td><td>BULKLOAD</td><td>Table_3b03618df7c6458cb362bc5edb705bfb_21</td><td>2022-07-08 11:46:35.733</td></tr><tr><td>FactFinance100m</td><td>0</td><td>1</td><td>3</td><td>COMPRESSED</td><td>333324</td><td>BULKLOAD</td><td>Table_3b03618df7c6458cb362bc5edb705bfb_22</td><td>2022-07-08 11:46:35.780</td></tr><tr><td>FactFinance100m</td><td>0</td><td>1</td><td>3</td><td>COMPRESSED</td><td>333324</td><td>BULKLOAD</td><td>Table_3b03618df7c6458cb362bc5edb705bfb_23</td><td>2022-07-08 11:46:36.687</td></tr><tr><td>FactFinance100m</td><td>0</td><td>1</td><td>3</td><td>COMPRESSED</td><td>333324</td><td>BULKLOAD</td><td>Table_3b03618df7c6458cb362bc5edb705bfb_24</td><td>2022-07-08 11:46:35.770</td></tr><tr><td>FactFinance100m</td><td>0</td><td>1</td><td>3</td><td>COMPRESSED</td><td>333324</td><td>BULKLOAD</td><td>Table_3b03618df7c6458cb362bc5edb705bfb_25</td><td>2022-07-08 11:46:35.787</td></tr><tr><td>FactFinance100m</td><td>0</td><td>1</td><td>3</td><td>COMPRESSED</td><td>333324</td><td>BULKLOAD</td><td>Table_3b03618df7c6458cb362bc5edb705bfb_26</td><td>2022-07-08 11:46:36.653</td></tr><tr><td>FactFinance100m</td><td>0</td><td>1</td><td>3</td><td>COMPRESSED</td><td>333324</td><td>BULKLOAD</td><td>Table_3b03618df7c6458cb362bc5edb705bfb_27</td><td>2022-07-08 11:46:36.610</td></tr><tr><td>FactFinance100m</td><td>0</td><td>1</td><td>3</td><td>COMPRESSED</td><td>333324</td><td>BULKLOAD</td><td>Table_3b03618df7c6458cb362bc5edb705bfb_28</td><td>2022-07-08 11:46:35.760</td></tr><tr><td>FactFinance100m</td><td>0</td><td>1</td><td>3</td><td>COMPRESSED</td><td>333324</td><td>BULKLOAD</td><td>Table_3b03618df7c6458cb362bc5edb705bfb_29</td><td>2022-07-08 11:46:35.697</td></tr><tr><td>FactFinance100m</td><td>0</td><td>1</td><td>3</td><td>COMPRESSED</td><td>333324</td><td>BULKLOAD</td><td>Table_3b03618df7c6458cb362bc5edb705bfb_30</td><td>2022-07-08 11:46:36.667</td></tr><tr><td>FactFinance100m</td><td>0</td><td>1</td><td>3</td><td>COMPRESSED</td><td>333324</td><td>BULKLOAD</td><td>Table_3b03618df7c6458cb362bc5edb705bfb_31</td><td>2022-07-08 11:46:35.820</td></tr><tr><td>FactFinance100m</td><td>0</td><td>1</td><td>3</td><td>COMPRESSED</td><td>333324</td><td>BULKLOAD</td><td>Table_3b03618df7c6458cb362bc5edb705bfb_32</td><td>2022-07-08 11:46:35.710</td></tr><tr><td>FactFinance100m</td><td>0</td><td>1</td><td>3</td><td>COMPRESSED</td><td>333324</td><td>BULKLOAD</td><td>Table_3b03618df7c6458cb362bc5edb705bfb_33</td><td>2022-07-08 11:46:36.627</td></tr><tr><td>FactFinance100m</td><td>0</td><td>1</td><td>3</td><td>COMPRESSED</td><td>333324</td><td>BULKLOAD</td><td>Table_3b03618df7c6458cb362bc5edb705bfb_34</td><td>2022-07-08 11:46:35.843</td></tr><tr><td>FactFinance100m</td><td>0</td><td>1</td><td>3</td><td>COMPRESSED</td><td>333324</td><td>BULKLOAD</td><td>Table_3b03618df7c6458cb362bc5edb705bfb_35</td><td>2022-07-08 11:46:36.577</td></tr><tr><td>FactFinance100m</td><td>0</td><td>1</td><td>3</td><td>COMPRESSED</td><td>333324</td><td>BULKLOAD</td><td>Table_3b03618df7c6458cb362bc5edb705bfb_36</td><td>2022-07-08 11:46:35.710</td></tr><tr><td>FactFinance100m</td><td>0</td><td>1</td><td>3</td><td>COMPRESSED</td><td>333324</td><td>BULKLOAD</td><td>Table_3b03618df7c6458cb362bc5edb705bfb_37</td><td>2022-07-08 11:46:35.727</td></tr><tr><td>FactFinance100m</td><td>0</td><td>1</td><td>3</td><td>COMPRESSED</td><td>333324</td><td>BULKLOAD</td><td>Table_3b03618df7c6458cb362bc5edb705bfb_38</td><td>2022-07-08 11:46:36.617</td></tr><tr><td>FactFinance100m</td><td>0</td><td>1</td><td>3</td><td>COMPRESSED</td><td>333324</td><td>BULKLOAD</td><td>Table_3b03618df7c6458cb362bc5edb705bfb_39</td><td>2022-07-08 11:46:35.803</td></tr><tr><td>FactFinance100m</td><td>0</td><td>1</td><td>3</td><td>COMPRESSED</td><td>333324</td><td>BULKLOAD</td><td>Table_3b03618df7c6458cb362bc5edb705bfb_40</td><td>2022-07-08 11:46:36.663</td></tr><tr><td>FactFinance100m</td><td>0</td><td>1</td><td>3</td><td>COMPRESSED</td><td>333324</td><td>BULKLOAD</td><td>Table_3b03618df7c6458cb362bc5edb705bfb_41</td><td>2022-07-08 11:46:35.777</td></tr><tr><td>FactFinance100m</td><td>0</td><td>1</td><td>3</td><td>COMPRESSED</td><td>333324</td><td>BULKLOAD</td><td>Table_3b03618df7c6458cb362bc5edb705bfb_42</td><td>2022-07-08 11:46:36.627</td></tr><tr><td>FactFinance100m</td><td>0</td><td>1</td><td>3</td><td>COMPRESSED</td><td>333324</td><td>BULKLOAD</td><td>Table_3b03618df7c6458cb362bc5edb705bfb_43</td><td>2022-07-08 11:46:35.780</td></tr><tr><td>FactFinance100m</td><td>0</td><td>1</td><td>3</td><td>COMPRESSED</td><td>333324</td><td>BULKLOAD</td><td>Table_3b03618df7c6458cb362bc5edb705bfb_44</td><td>2022-07-08 11:46:36.657</td></tr><tr><td>FactFinance100m</td><td>0</td><td>1</td><td>3</td><td>COMPRESSED</td><td>333324</td><td>BULKLOAD</td><td>Table_3b03618df7c6458cb362bc5edb705bfb_45</td><td>2022-07-08 11:46:35.787</td></tr><tr><td>FactFinance100m</td><td>0</td><td>1</td><td>3</td><td>COMPRESSED</td><td>333884</td><td>BULKLOAD</td><td>Table_3b03618df7c6458cb362bc5edb705bfb_46</td><td>2022-07-08 11:46:36.650</td></tr><tr><td>FactFinance100m</td><td>0</td><td>1</td><td>3</td><td>COMPRESSED</td><td>333324</td><td>BULKLOAD</td><td>Table_3b03618df7c6458cb362bc5edb705bfb_47</td><td>2022-07-08 11:46:36.687</td></tr><tr><td>FactFinance100m</td><td>0</td><td>1</td><td>3</td><td>COMPRESSED</td><td>333324</td><td>BULKLOAD</td><td>Table_3b03618df7c6458cb362bc5edb705bfb_48</td><td>2022-07-08 11:46:36.680</td></tr><tr><td>FactFinance100m</td><td>0</td><td>1</td><td>3</td><td>COMPRESSED</td><td>333324</td><td>BULKLOAD</td><td>Table_3b03618df7c6458cb362bc5edb705bfb_49</td><td>2022-07-08 11:46:35.853</td></tr><tr><td>FactFinance100m</td><td>0</td><td>1</td><td>3</td><td>COMPRESSED</td><td>333324</td><td>BULKLOAD</td><td>Table_3b03618df7c6458cb362bc5edb705bfb_50</td><td>2022-07-08 11:46:35.813</td></tr><tr><td>FactFinance100m</td><td>0</td><td>1</td><td>3</td><td>COMPRESSED</td><td>333324</td><td>BULKLOAD</td><td>Table_3b03618df7c6458cb362bc5edb705bfb_51</td><td>2022-07-08 11:46:35.750</td></tr><tr><td>FactFinance100m</td><td>0</td><td>1</td><td>3</td><td>COMPRESSED</td><td>333324</td><td>BULKLOAD</td><td>Table_3b03618df7c6458cb362bc5edb705bfb_52</td><td>2022-07-08 11:46:35.740</td></tr><tr><td>FactFinance100m</td><td>0</td><td>1</td><td>3</td><td>COMPRESSED</td><td>333324</td><td>BULKLOAD</td><td>Table_3b03618df7c6458cb362bc5edb705bfb_53</td><td>2022-07-08 11:46:35.700</td></tr><tr><td>FactFinance100m</td><td>0</td><td>1</td><td>3</td><td>COMPRESSED</td><td>333324</td><td>BULKLOAD</td><td>Table_3b03618df7c6458cb362bc5edb705bfb_54</td><td>2022-07-08 11:46:35.850</td></tr><tr><td>FactFinance100m</td><td>0</td><td>1</td><td>3</td><td>COMPRESSED</td><td>333324</td><td>BULKLOAD</td><td>Table_3b03618df7c6458cb362bc5edb705bfb_55</td><td>2022-07-08 11:46:36.627</td></tr><tr><td>FactFinance100m</td><td>0</td><td>1</td><td>3</td><td>COMPRESSED</td><td>333324</td><td>BULKLOAD</td><td>Table_3b03618df7c6458cb362bc5edb705bfb_56</td><td>2022-07-08 11:46:36.640</td></tr><tr><td>FactFinance100m</td><td>0</td><td>1</td><td>3</td><td>COMPRESSED</td><td>333324</td><td>BULKLOAD</td><td>Table_3b03618df7c6458cb362bc5edb705bfb_57</td><td>2022-07-08 11:46:36.123</td></tr><tr><td>FactFinance100m</td><td>0</td><td>1</td><td>3</td><td>COMPRESSED</td><td>333324</td><td>BULKLOAD</td><td>Table_3b03618df7c6458cb362bc5edb705bfb_58</td><td>2022-07-08 11:46:36.660</td></tr><tr><td>FactFinance100m</td><td>0</td><td>1</td><td>3</td><td>COMPRESSED</td><td>333324</td><td>BULKLOAD</td><td>Table_3b03618df7c6458cb362bc5edb705bfb_59</td><td>2022-07-08 11:46:35.760</td></tr><tr><td>FactFinance100m</td><td>0</td><td>1</td><td>3</td><td>COMPRESSED</td><td>333324</td><td>BULKLOAD</td><td>Table_3b03618df7c6458cb362bc5edb705bfb_60</td><td>2022-07-08 11:46:35.793</td></tr></table>"
                    },
                    "metadata": {}
                }
            ],
            "execution_count": 6
        },
        {
            "cell_type": "code",
            "source": [
                "/*\r\n",
                "    Lets Insert another 100 million to make similar as inital test case (120 million)\r\n",
                "\r\n",
                "    We can see that we have 360 RowGroups instead of 180 and Fragmentation is only 17%, with only 33k per Row Group instead of 1024l\r\n",
                "*/\r\n",
                "\r\n",
                "INSERT INTO FactFinance100m ([AccountKey], [ScenarioKey], [DepartmentGroupKey], [DateKey], [OrganizationKey], [Amount], [Date], [LineageKey])\r\n",
                "SELECT TOP 20000000 [AccountKey], [ScenarioKey], [DepartmentGroupKey], [DateKey], [OrganizationKey], [Amount], [Date], [LineageKey] FROM [dbo].[FactFinance1b]\r\n",
                "GO 5\r\n",
                ""
            ],
            "metadata": {
                "azdata_cell_guid": "9b0176c2-01d7-4155-919a-e15a1dfecc0f",
                "extensions": {
                    "azuredatastudio": {
                        "views": []
                    }
                },
                "language": "sql"
            },
            "outputs": [
                {
                    "output_type": "display_data",
                    "data": {
                        "text/html": "Beginning execution loop"
                    },
                    "metadata": {}
                },
                {
                    "output_type": "display_data",
                    "data": {
                        "text/html": "(20000000 rows affected)"
                    },
                    "metadata": {}
                },
                {
                    "output_type": "display_data",
                    "data": {
                        "text/html": "(20000000 rows affected)"
                    },
                    "metadata": {}
                },
                {
                    "output_type": "display_data",
                    "data": {
                        "text/html": "(20000000 rows affected)"
                    },
                    "metadata": {}
                },
                {
                    "output_type": "display_data",
                    "data": {
                        "text/html": "(20000000 rows affected)"
                    },
                    "metadata": {}
                },
                {
                    "output_type": "display_data",
                    "data": {
                        "text/html": "(20000000 rows affected)"
                    },
                    "metadata": {}
                },
                {
                    "output_type": "display_data",
                    "data": {
                        "text/html": "Batch execution completed 5 times..."
                    },
                    "metadata": {}
                },
                {
                    "output_type": "display_data",
                    "data": {
                        "text/html": "Total execution time: 00:03:24.244"
                    },
                    "metadata": {}
                }
            ],
            "execution_count": 7
        },
        {
            "cell_type": "code",
            "source": [
                "/* Now lets Look at the Fragmnentation. 68% Fragmented. Eg only 32% full */\r\n",
                "\r\n",
                "SELECT * FROM dbo.vColumnstoreStats WHERE table_name='FactFinance100m'\r\n",
                "select * From [dbo].[vCS_rg_physical_stats] WHERE logical_table_name='FactFinance100m'"
            ],
            "metadata": {
                "azdata_cell_guid": "b5acfcbb-5481-48c4-99d8-f6c74d874cc3",
                "extensions": {
                    "azuredatastudio": {
                        "views": []
                    }
                },
                "language": "sql"
            },
            "outputs": [
                {
                    "output_type": "display_data",
                    "data": {
                        "text/html": "(1 row affected)"
                    },
                    "metadata": {}
                },
                {
                    "output_type": "display_data",
                    "data": {
                        "text/html": "(360 rows affected)"
                    },
                    "metadata": {}
                },
                {
                    "output_type": "display_data",
                    "data": {
                        "text/html": "Total execution time: 00:00:02.409"
                    },
                    "metadata": {}
                },
                {
                    "output_type": "execute_result",
                    "execution_count": 8,
                    "data": {
                        "application/vnd.dataresource+json": {
                            "schema": {
                                "fields": [
                                    {
                                        "name": "execution_date"
                                    },
                                    {
                                        "name": "database_name"
                                    },
                                    {
                                        "name": "schema_name"
                                    },
                                    {
                                        "name": "table_name"
                                    },
                                    {
                                        "name": "partition_number"
                                    },
                                    {
                                        "name": "partition_scheme"
                                    },
                                    {
                                        "name": "object_id"
                                    },
                                    {
                                        "name": "index_name"
                                    },
                                    {
                                        "name": "row_count"
                                    },
                                    {
                                        "name": "deleted_row_count"
                                    },
                                    {
                                        "name": "row_group_count"
                                    },
                                    {
                                        "name": "compressed_row_count"
                                    },
                                    {
                                        "name": "compressed_rowgroup_count"
                                    },
                                    {
                                        "name": "open_rowgroup_count"
                                    },
                                    {
                                        "name": "open_row_count"
                                    },
                                    {
                                        "name": "compressed_row_max"
                                    },
                                    {
                                        "name": "compressed_row_avg"
                                    },
                                    {
                                        "name": "fragmentation_density"
                                    },
                                    {
                                        "name": "fragmentation_deletes"
                                    },
                                    {
                                        "name": "fragmentation_open"
                                    }
                                ]
                            },
                            "data": [
                                {
                                    "0": "2022-07-08 11:50:04.637",
                                    "1": "AdventureWorksDW",
                                    "2": "dbo",
                                    "3": "FactFinance100m",
                                    "4": "NULL",
                                    "5": "NULL",
                                    "6": "130867583",
                                    "7": "ClusteredIndex_766ace22025346dba8b1db2efab6ee27",
                                    "8": "120000000",
                                    "9": "0",
                                    "10": "360",
                                    "11": "120000000",
                                    "12": "360",
                                    "13": "0",
                                    "14": "0",
                                    "15": "333884",
                                    "16": "333333",
                                    "17": "68.2100",
                                    "18": "0.0000",
                                    "19": "0.0000"
                                }
                            ]
                        },
                        "text/html": "<table><tr><th>execution_date</th><th>database_name</th><th>schema_name</th><th>table_name</th><th>partition_number</th><th>partition_scheme</th><th>object_id</th><th>index_name</th><th>row_count</th><th>deleted_row_count</th><th>row_group_count</th><th>compressed_row_count</th><th>compressed_rowgroup_count</th><th>open_rowgroup_count</th><th>open_row_count</th><th>compressed_row_max</th><th>compressed_row_avg</th><th>fragmentation_density</th><th>fragmentation_deletes</th><th>fragmentation_open</th></tr><tr><td>2022-07-08 11:50:04.637</td><td>AdventureWorksDW</td><td>dbo</td><td>FactFinance100m</td><td>NULL</td><td>NULL</td><td>130867583</td><td>ClusteredIndex_766ace22025346dba8b1db2efab6ee27</td><td>120000000</td><td>0</td><td>360</td><td>120000000</td><td>360</td><td>0</td><td>0</td><td>333884</td><td>333333</td><td>68.2100</td><td>0.0000</td><td>0.0000</td></tr></table>"
                    },
                    "metadata": {}
                },
                {
                    "output_type": "execute_result",
                    "execution_count": 8,
                    "data": {
                        "application/vnd.dataresource+json": {
                            "schema": {
                                "fields": [
                                    {
                                        "name": "logical_table_name"
                                    },
                                    {
                                        "name": "row_group_id"
                                    },
                                    {
                                        "name": "partition_number"
                                    },
                                    {
                                        "name": "state"
                                    },
                                    {
                                        "name": "state_desc"
                                    },
                                    {
                                        "name": "total_rows"
                                    },
                                    {
                                        "name": "trim_reason_desc"
                                    },
                                    {
                                        "name": "physical_name"
                                    },
                                    {
                                        "name": "created_time"
                                    }
                                ]
                            },
                            "data": [
                                {
                                    "0": "FactFinance100m",
                                    "1": "5",
                                    "2": "1",
                                    "3": "3",
                                    "4": "COMPRESSED",
                                    "5": "333324",
                                    "6": "BULKLOAD",
                                    "7": "Table_3b03618df7c6458cb362bc5edb705bfb_1",
                                    "8": "2022-07-08 11:50:02.537"
                                },
                                {
                                    "0": "FactFinance100m",
                                    "1": "5",
                                    "2": "1",
                                    "3": "3",
                                    "4": "COMPRESSED",
                                    "5": "333324",
                                    "6": "BULKLOAD",
                                    "7": "Table_3b03618df7c6458cb362bc5edb705bfb_2",
                                    "8": "2022-07-08 11:50:03.283"
                                },
                                {
                                    "0": "FactFinance100m",
                                    "1": "5",
                                    "2": "1",
                                    "3": "3",
                                    "4": "COMPRESSED",
                                    "5": "333324",
                                    "6": "BULKLOAD",
                                    "7": "Table_3b03618df7c6458cb362bc5edb705bfb_3",
                                    "8": "2022-07-08 11:50:02.487"
                                },
                                {
                                    "0": "FactFinance100m",
                                    "1": "5",
                                    "2": "1",
                                    "3": "3",
                                    "4": "COMPRESSED",
                                    "5": "333324",
                                    "6": "BULKLOAD",
                                    "7": "Table_3b03618df7c6458cb362bc5edb705bfb_4",
                                    "8": "2022-07-08 11:50:04.167"
                                },
                                {
                                    "0": "FactFinance100m",
                                    "1": "5",
                                    "2": "1",
                                    "3": "3",
                                    "4": "COMPRESSED",
                                    "5": "333324",
                                    "6": "BULKLOAD",
                                    "7": "Table_3b03618df7c6458cb362bc5edb705bfb_5",
                                    "8": "2022-07-08 11:50:04.200"
                                },
                                {
                                    "0": "FactFinance100m",
                                    "1": "5",
                                    "2": "1",
                                    "3": "3",
                                    "4": "COMPRESSED",
                                    "5": "333324",
                                    "6": "BULKLOAD",
                                    "7": "Table_3b03618df7c6458cb362bc5edb705bfb_6",
                                    "8": "2022-07-08 11:50:02.567"
                                },
                                {
                                    "0": "FactFinance100m",
                                    "1": "5",
                                    "2": "1",
                                    "3": "3",
                                    "4": "COMPRESSED",
                                    "5": "333324",
                                    "6": "BULKLOAD",
                                    "7": "Table_3b03618df7c6458cb362bc5edb705bfb_7",
                                    "8": "2022-07-08 11:50:02.573"
                                },
                                {
                                    "0": "FactFinance100m",
                                    "1": "5",
                                    "2": "1",
                                    "3": "3",
                                    "4": "COMPRESSED",
                                    "5": "333324",
                                    "6": "BULKLOAD",
                                    "7": "Table_3b03618df7c6458cb362bc5edb705bfb_8",
                                    "8": "2022-07-08 11:50:04.197"
                                },
                                {
                                    "0": "FactFinance100m",
                                    "1": "5",
                                    "2": "1",
                                    "3": "3",
                                    "4": "COMPRESSED",
                                    "5": "333324",
                                    "6": "BULKLOAD",
                                    "7": "Table_3b03618df7c6458cb362bc5edb705bfb_9",
                                    "8": "2022-07-08 11:50:02.550"
                                },
                                {
                                    "0": "FactFinance100m",
                                    "1": "5",
                                    "2": "1",
                                    "3": "3",
                                    "4": "COMPRESSED",
                                    "5": "333324",
                                    "6": "BULKLOAD",
                                    "7": "Table_3b03618df7c6458cb362bc5edb705bfb_10",
                                    "8": "2022-07-08 11:50:02.560"
                                },
                                {
                                    "0": "FactFinance100m",
                                    "1": "5",
                                    "2": "1",
                                    "3": "3",
                                    "4": "COMPRESSED",
                                    "5": "333324",
                                    "6": "BULKLOAD",
                                    "7": "Table_3b03618df7c6458cb362bc5edb705bfb_11",
                                    "8": "2022-07-08 11:50:02.470"
                                },
                                {
                                    "0": "FactFinance100m",
                                    "1": "5",
                                    "2": "1",
                                    "3": "3",
                                    "4": "COMPRESSED",
                                    "5": "333324",
                                    "6": "BULKLOAD",
                                    "7": "Table_3b03618df7c6458cb362bc5edb705bfb_12",
                                    "8": "2022-07-08 11:50:02.533"
                                },
                                {
                                    "0": "FactFinance100m",
                                    "1": "5",
                                    "2": "1",
                                    "3": "3",
                                    "4": "COMPRESSED",
                                    "5": "333324",
                                    "6": "BULKLOAD",
                                    "7": "Table_3b03618df7c6458cb362bc5edb705bfb_13",
                                    "8": "2022-07-08 11:50:02.563"
                                },
                                {
                                    "0": "FactFinance100m",
                                    "1": "5",
                                    "2": "1",
                                    "3": "3",
                                    "4": "COMPRESSED",
                                    "5": "333324",
                                    "6": "BULKLOAD",
                                    "7": "Table_3b03618df7c6458cb362bc5edb705bfb_14",
                                    "8": "2022-07-08 11:50:02.573"
                                },
                                {
                                    "0": "FactFinance100m",
                                    "1": "5",
                                    "2": "1",
                                    "3": "3",
                                    "4": "COMPRESSED",
                                    "5": "333324",
                                    "6": "BULKLOAD",
                                    "7": "Table_3b03618df7c6458cb362bc5edb705bfb_15",
                                    "8": "2022-07-08 11:50:04.150"
                                },
                                {
                                    "0": "FactFinance100m",
                                    "1": "5",
                                    "2": "1",
                                    "3": "3",
                                    "4": "COMPRESSED",
                                    "5": "333324",
                                    "6": "BULKLOAD",
                                    "7": "Table_3b03618df7c6458cb362bc5edb705bfb_16",
                                    "8": "2022-07-08 11:50:02.567"
                                },
                                {
                                    "0": "FactFinance100m",
                                    "1": "5",
                                    "2": "1",
                                    "3": "3",
                                    "4": "COMPRESSED",
                                    "5": "333324",
                                    "6": "BULKLOAD",
                                    "7": "Table_3b03618df7c6458cb362bc5edb705bfb_17",
                                    "8": "2022-07-08 11:50:02.610"
                                },
                                {
                                    "0": "FactFinance100m",
                                    "1": "5",
                                    "2": "1",
                                    "3": "3",
                                    "4": "COMPRESSED",
                                    "5": "333324",
                                    "6": "BULKLOAD",
                                    "7": "Table_3b03618df7c6458cb362bc5edb705bfb_18",
                                    "8": "2022-07-08 11:50:02.557"
                                },
                                {
                                    "0": "FactFinance100m",
                                    "1": "5",
                                    "2": "1",
                                    "3": "3",
                                    "4": "COMPRESSED",
                                    "5": "333324",
                                    "6": "BULKLOAD",
                                    "7": "Table_3b03618df7c6458cb362bc5edb705bfb_19",
                                    "8": "2022-07-08 11:50:02.483"
                                },
                                {
                                    "0": "FactFinance100m",
                                    "1": "5",
                                    "2": "1",
                                    "3": "3",
                                    "4": "COMPRESSED",
                                    "5": "333324",
                                    "6": "BULKLOAD",
                                    "7": "Table_3b03618df7c6458cb362bc5edb705bfb_20",
                                    "8": "2022-07-08 11:50:02.490"
                                },
                                {
                                    "0": "FactFinance100m",
                                    "1": "5",
                                    "2": "1",
                                    "3": "3",
                                    "4": "COMPRESSED",
                                    "5": "333324",
                                    "6": "BULKLOAD",
                                    "7": "Table_3b03618df7c6458cb362bc5edb705bfb_21",
                                    "8": "2022-07-08 11:50:02.587"
                                },
                                {
                                    "0": "FactFinance100m",
                                    "1": "5",
                                    "2": "1",
                                    "3": "3",
                                    "4": "COMPRESSED",
                                    "5": "333324",
                                    "6": "BULKLOAD",
                                    "7": "Table_3b03618df7c6458cb362bc5edb705bfb_22",
                                    "8": "2022-07-08 11:50:02.563"
                                },
                                {
                                    "0": "FactFinance100m",
                                    "1": "5",
                                    "2": "1",
                                    "3": "3",
                                    "4": "COMPRESSED",
                                    "5": "333324",
                                    "6": "BULKLOAD",
                                    "7": "Table_3b03618df7c6458cb362bc5edb705bfb_23",
                                    "8": "2022-07-08 11:50:02.540"
                                },
                                {
                                    "0": "FactFinance100m",
                                    "1": "5",
                                    "2": "1",
                                    "3": "3",
                                    "4": "COMPRESSED",
                                    "5": "333324",
                                    "6": "BULKLOAD",
                                    "7": "Table_3b03618df7c6458cb362bc5edb705bfb_24",
                                    "8": "2022-07-08 11:50:02.500"
                                },
                                {
                                    "0": "FactFinance100m",
                                    "1": "5",
                                    "2": "1",
                                    "3": "3",
                                    "4": "COMPRESSED",
                                    "5": "333324",
                                    "6": "BULKLOAD",
                                    "7": "Table_3b03618df7c6458cb362bc5edb705bfb_25",
                                    "8": "2022-07-08 11:50:04.143"
                                },
                                {
                                    "0": "FactFinance100m",
                                    "1": "5",
                                    "2": "1",
                                    "3": "3",
                                    "4": "COMPRESSED",
                                    "5": "333324",
                                    "6": "BULKLOAD",
                                    "7": "Table_3b03618df7c6458cb362bc5edb705bfb_26",
                                    "8": "2022-07-08 11:50:03.257"
                                },
                                {
                                    "0": "FactFinance100m",
                                    "1": "5",
                                    "2": "1",
                                    "3": "3",
                                    "4": "COMPRESSED",
                                    "5": "333324",
                                    "6": "BULKLOAD",
                                    "7": "Table_3b03618df7c6458cb362bc5edb705bfb_27",
                                    "8": "2022-07-08 11:50:02.620"
                                },
                                {
                                    "0": "FactFinance100m",
                                    "1": "5",
                                    "2": "1",
                                    "3": "3",
                                    "4": "COMPRESSED",
                                    "5": "333324",
                                    "6": "BULKLOAD",
                                    "7": "Table_3b03618df7c6458cb362bc5edb705bfb_28",
                                    "8": "2022-07-08 11:50:02.520"
                                },
                                {
                                    "0": "FactFinance100m",
                                    "1": "5",
                                    "2": "1",
                                    "3": "3",
                                    "4": "COMPRESSED",
                                    "5": "333324",
                                    "6": "BULKLOAD",
                                    "7": "Table_3b03618df7c6458cb362bc5edb705bfb_29",
                                    "8": "2022-07-08 11:50:02.570"
                                },
                                {
                                    "0": "FactFinance100m",
                                    "1": "5",
                                    "2": "1",
                                    "3": "3",
                                    "4": "COMPRESSED",
                                    "5": "333324",
                                    "6": "BULKLOAD",
                                    "7": "Table_3b03618df7c6458cb362bc5edb705bfb_30",
                                    "8": "2022-07-08 11:50:04.163"
                                },
                                {
                                    "0": "FactFinance100m",
                                    "1": "5",
                                    "2": "1",
                                    "3": "3",
                                    "4": "COMPRESSED",
                                    "5": "333324",
                                    "6": "BULKLOAD",
                                    "7": "Table_3b03618df7c6458cb362bc5edb705bfb_31",
                                    "8": "2022-07-08 11:50:03.443"
                                },
                                {
                                    "0": "FactFinance100m",
                                    "1": "5",
                                    "2": "1",
                                    "3": "3",
                                    "4": "COMPRESSED",
                                    "5": "333324",
                                    "6": "BULKLOAD",
                                    "7": "Table_3b03618df7c6458cb362bc5edb705bfb_32",
                                    "8": "2022-07-08 11:50:02.510"
                                },
                                {
                                    "0": "FactFinance100m",
                                    "1": "5",
                                    "2": "1",
                                    "3": "3",
                                    "4": "COMPRESSED",
                                    "5": "333324",
                                    "6": "BULKLOAD",
                                    "7": "Table_3b03618df7c6458cb362bc5edb705bfb_33",
                                    "8": "2022-07-08 11:50:02.547"
                                },
                                {
                                    "0": "FactFinance100m",
                                    "1": "5",
                                    "2": "1",
                                    "3": "3",
                                    "4": "COMPRESSED",
                                    "5": "333324",
                                    "6": "BULKLOAD",
                                    "7": "Table_3b03618df7c6458cb362bc5edb705bfb_34",
                                    "8": "2022-07-08 11:50:02.547"
                                },
                                {
                                    "0": "FactFinance100m",
                                    "1": "5",
                                    "2": "1",
                                    "3": "3",
                                    "4": "COMPRESSED",
                                    "5": "333324",
                                    "6": "BULKLOAD",
                                    "7": "Table_3b03618df7c6458cb362bc5edb705bfb_35",
                                    "8": "2022-07-08 11:50:02.580"
                                },
                                {
                                    "0": "FactFinance100m",
                                    "1": "5",
                                    "2": "1",
                                    "3": "3",
                                    "4": "COMPRESSED",
                                    "5": "333324",
                                    "6": "BULKLOAD",
                                    "7": "Table_3b03618df7c6458cb362bc5edb705bfb_36",
                                    "8": "2022-07-08 11:50:03.453"
                                },
                                {
                                    "0": "FactFinance100m",
                                    "1": "5",
                                    "2": "1",
                                    "3": "3",
                                    "4": "COMPRESSED",
                                    "5": "333324",
                                    "6": "BULKLOAD",
                                    "7": "Table_3b03618df7c6458cb362bc5edb705bfb_37",
                                    "8": "2022-07-08 11:50:02.577"
                                },
                                {
                                    "0": "FactFinance100m",
                                    "1": "5",
                                    "2": "1",
                                    "3": "3",
                                    "4": "COMPRESSED",
                                    "5": "333324",
                                    "6": "BULKLOAD",
                                    "7": "Table_3b03618df7c6458cb362bc5edb705bfb_38",
                                    "8": "2022-07-08 11:50:02.547"
                                },
                                {
                                    "0": "FactFinance100m",
                                    "1": "5",
                                    "2": "1",
                                    "3": "3",
                                    "4": "COMPRESSED",
                                    "5": "333324",
                                    "6": "BULKLOAD",
                                    "7": "Table_3b03618df7c6458cb362bc5edb705bfb_39",
                                    "8": "2022-07-08 11:50:02.470"
                                },
                                {
                                    "0": "FactFinance100m",
                                    "1": "5",
                                    "2": "1",
                                    "3": "3",
                                    "4": "COMPRESSED",
                                    "5": "333324",
                                    "6": "BULKLOAD",
                                    "7": "Table_3b03618df7c6458cb362bc5edb705bfb_40",
                                    "8": "2022-07-08 11:50:02.567"
                                },
                                {
                                    "0": "FactFinance100m",
                                    "1": "5",
                                    "2": "1",
                                    "3": "3",
                                    "4": "COMPRESSED",
                                    "5": "333324",
                                    "6": "BULKLOAD",
                                    "7": "Table_3b03618df7c6458cb362bc5edb705bfb_41",
                                    "8": "2022-07-08 11:50:02.557"
                                },
                                {
                                    "0": "FactFinance100m",
                                    "1": "5",
                                    "2": "1",
                                    "3": "3",
                                    "4": "COMPRESSED",
                                    "5": "333324",
                                    "6": "BULKLOAD",
                                    "7": "Table_3b03618df7c6458cb362bc5edb705bfb_42",
                                    "8": "2022-07-08 11:50:03.457"
                                },
                                {
                                    "0": "FactFinance100m",
                                    "1": "5",
                                    "2": "1",
                                    "3": "3",
                                    "4": "COMPRESSED",
                                    "5": "333324",
                                    "6": "BULKLOAD",
                                    "7": "Table_3b03618df7c6458cb362bc5edb705bfb_43",
                                    "8": "2022-07-08 11:50:02.567"
                                },
                                {
                                    "0": "FactFinance100m",
                                    "1": "5",
                                    "2": "1",
                                    "3": "3",
                                    "4": "COMPRESSED",
                                    "5": "333324",
                                    "6": "BULKLOAD",
                                    "7": "Table_3b03618df7c6458cb362bc5edb705bfb_44",
                                    "8": "2022-07-08 11:50:02.607"
                                },
                                {
                                    "0": "FactFinance100m",
                                    "1": "5",
                                    "2": "1",
                                    "3": "3",
                                    "4": "COMPRESSED",
                                    "5": "333324",
                                    "6": "BULKLOAD",
                                    "7": "Table_3b03618df7c6458cb362bc5edb705bfb_45",
                                    "8": "2022-07-08 11:50:03.493"
                                },
                                {
                                    "0": "FactFinance100m",
                                    "1": "5",
                                    "2": "1",
                                    "3": "3",
                                    "4": "COMPRESSED",
                                    "5": "333324",
                                    "6": "BULKLOAD",
                                    "7": "Table_3b03618df7c6458cb362bc5edb705bfb_46",
                                    "8": "2022-07-08 11:50:02.463"
                                },
                                {
                                    "0": "FactFinance100m",
                                    "1": "5",
                                    "2": "1",
                                    "3": "3",
                                    "4": "COMPRESSED",
                                    "5": "333324",
                                    "6": "BULKLOAD",
                                    "7": "Table_3b03618df7c6458cb362bc5edb705bfb_47",
                                    "8": "2022-07-08 11:50:03.497"
                                },
                                {
                                    "0": "FactFinance100m",
                                    "1": "5",
                                    "2": "1",
                                    "3": "3",
                                    "4": "COMPRESSED",
                                    "5": "333884",
                                    "6": "BULKLOAD",
                                    "7": "Table_3b03618df7c6458cb362bc5edb705bfb_48",
                                    "8": "2022-07-08 11:50:02.560"
                                },
                                {
                                    "0": "FactFinance100m",
                                    "1": "5",
                                    "2": "1",
                                    "3": "3",
                                    "4": "COMPRESSED",
                                    "5": "333324",
                                    "6": "BULKLOAD",
                                    "7": "Table_3b03618df7c6458cb362bc5edb705bfb_49",
                                    "8": "2022-07-08 11:50:03.437"
                                },
                                {
                                    "0": "FactFinance100m",
                                    "1": "5",
                                    "2": "1",
                                    "3": "3",
                                    "4": "COMPRESSED",
                                    "5": "333324",
                                    "6": "BULKLOAD",
                                    "7": "Table_3b03618df7c6458cb362bc5edb705bfb_50",
                                    "8": "2022-07-08 11:50:02.530"
                                },
                                {
                                    "0": "FactFinance100m",
                                    "1": "5",
                                    "2": "1",
                                    "3": "3",
                                    "4": "COMPRESSED",
                                    "5": "333324",
                                    "6": "BULKLOAD",
                                    "7": "Table_3b03618df7c6458cb362bc5edb705bfb_51",
                                    "8": "2022-07-08 11:50:02.553"
                                },
                                {
                                    "0": "FactFinance100m",
                                    "1": "5",
                                    "2": "1",
                                    "3": "3",
                                    "4": "COMPRESSED",
                                    "5": "333324",
                                    "6": "BULKLOAD",
                                    "7": "Table_3b03618df7c6458cb362bc5edb705bfb_52",
                                    "8": "2022-07-08 11:50:02.593"
                                },
                                {
                                    "0": "FactFinance100m",
                                    "1": "5",
                                    "2": "1",
                                    "3": "3",
                                    "4": "COMPRESSED",
                                    "5": "333324",
                                    "6": "BULKLOAD",
                                    "7": "Table_3b03618df7c6458cb362bc5edb705bfb_53",
                                    "8": "2022-07-08 11:50:03.293"
                                },
                                {
                                    "0": "FactFinance100m",
                                    "1": "5",
                                    "2": "1",
                                    "3": "3",
                                    "4": "COMPRESSED",
                                    "5": "333324",
                                    "6": "BULKLOAD",
                                    "7": "Table_3b03618df7c6458cb362bc5edb705bfb_54",
                                    "8": "2022-07-08 11:50:03.380"
                                },
                                {
                                    "0": "FactFinance100m",
                                    "1": "5",
                                    "2": "1",
                                    "3": "3",
                                    "4": "COMPRESSED",
                                    "5": "333324",
                                    "6": "BULKLOAD",
                                    "7": "Table_3b03618df7c6458cb362bc5edb705bfb_55",
                                    "8": "2022-07-08 11:50:02.580"
                                },
                                {
                                    "0": "FactFinance100m",
                                    "1": "5",
                                    "2": "1",
                                    "3": "3",
                                    "4": "COMPRESSED",
                                    "5": "333324",
                                    "6": "BULKLOAD",
                                    "7": "Table_3b03618df7c6458cb362bc5edb705bfb_56",
                                    "8": "2022-07-08 11:50:03.450"
                                },
                                {
                                    "0": "FactFinance100m",
                                    "1": "5",
                                    "2": "1",
                                    "3": "3",
                                    "4": "COMPRESSED",
                                    "5": "333324",
                                    "6": "BULKLOAD",
                                    "7": "Table_3b03618df7c6458cb362bc5edb705bfb_57",
                                    "8": "2022-07-08 11:50:03.447"
                                },
                                {
                                    "0": "FactFinance100m",
                                    "1": "5",
                                    "2": "1",
                                    "3": "3",
                                    "4": "COMPRESSED",
                                    "5": "333324",
                                    "6": "BULKLOAD",
                                    "7": "Table_3b03618df7c6458cb362bc5edb705bfb_58",
                                    "8": "2022-07-08 11:50:02.510"
                                },
                                {
                                    "0": "FactFinance100m",
                                    "1": "5",
                                    "2": "1",
                                    "3": "3",
                                    "4": "COMPRESSED",
                                    "5": "333324",
                                    "6": "BULKLOAD",
                                    "7": "Table_3b03618df7c6458cb362bc5edb705bfb_59",
                                    "8": "2022-07-08 11:50:02.543"
                                },
                                {
                                    "0": "FactFinance100m",
                                    "1": "5",
                                    "2": "1",
                                    "3": "3",
                                    "4": "COMPRESSED",
                                    "5": "333324",
                                    "6": "BULKLOAD",
                                    "7": "Table_3b03618df7c6458cb362bc5edb705bfb_60",
                                    "8": "2022-07-08 11:50:02.600"
                                },
                                {
                                    "0": "FactFinance100m",
                                    "1": "4",
                                    "2": "1",
                                    "3": "3",
                                    "4": "COMPRESSED",
                                    "5": "333324",
                                    "6": "BULKLOAD",
                                    "7": "Table_3b03618df7c6458cb362bc5edb705bfb_1",
                                    "8": "2022-07-08 11:49:21.783"
                                },
                                {
                                    "0": "FactFinance100m",
                                    "1": "4",
                                    "2": "1",
                                    "3": "3",
                                    "4": "COMPRESSED",
                                    "5": "333324",
                                    "6": "BULKLOAD",
                                    "7": "Table_3b03618df7c6458cb362bc5edb705bfb_2",
                                    "8": "2022-07-08 11:49:21.740"
                                },
                                {
                                    "0": "FactFinance100m",
                                    "1": "4",
                                    "2": "1",
                                    "3": "3",
                                    "4": "COMPRESSED",
                                    "5": "333324",
                                    "6": "BULKLOAD",
                                    "7": "Table_3b03618df7c6458cb362bc5edb705bfb_3",
                                    "8": "2022-07-08 11:49:21.763"
                                },
                                {
                                    "0": "FactFinance100m",
                                    "1": "4",
                                    "2": "1",
                                    "3": "3",
                                    "4": "COMPRESSED",
                                    "5": "333324",
                                    "6": "BULKLOAD",
                                    "7": "Table_3b03618df7c6458cb362bc5edb705bfb_4",
                                    "8": "2022-07-08 11:49:21.840"
                                },
                                {
                                    "0": "FactFinance100m",
                                    "1": "4",
                                    "2": "1",
                                    "3": "3",
                                    "4": "COMPRESSED",
                                    "5": "333324",
                                    "6": "BULKLOAD",
                                    "7": "Table_3b03618df7c6458cb362bc5edb705bfb_5",
                                    "8": "2022-07-08 11:49:21.840"
                                },
                                {
                                    "0": "FactFinance100m",
                                    "1": "4",
                                    "2": "1",
                                    "3": "3",
                                    "4": "COMPRESSED",
                                    "5": "333324",
                                    "6": "BULKLOAD",
                                    "7": "Table_3b03618df7c6458cb362bc5edb705bfb_6",
                                    "8": "2022-07-08 11:49:21.827"
                                },
                                {
                                    "0": "FactFinance100m",
                                    "1": "4",
                                    "2": "1",
                                    "3": "3",
                                    "4": "COMPRESSED",
                                    "5": "333324",
                                    "6": "BULKLOAD",
                                    "7": "Table_3b03618df7c6458cb362bc5edb705bfb_7",
                                    "8": "2022-07-08 11:49:22.527"
                                },
                                {
                                    "0": "FactFinance100m",
                                    "1": "4",
                                    "2": "1",
                                    "3": "3",
                                    "4": "COMPRESSED",
                                    "5": "333324",
                                    "6": "BULKLOAD",
                                    "7": "Table_3b03618df7c6458cb362bc5edb705bfb_8",
                                    "8": "2022-07-08 11:49:21.760"
                                },
                                {
                                    "0": "FactFinance100m",
                                    "1": "4",
                                    "2": "1",
                                    "3": "3",
                                    "4": "COMPRESSED",
                                    "5": "333324",
                                    "6": "BULKLOAD",
                                    "7": "Table_3b03618df7c6458cb362bc5edb705bfb_9",
                                    "8": "2022-07-08 11:49:21.803"
                                },
                                {
                                    "0": "FactFinance100m",
                                    "1": "4",
                                    "2": "1",
                                    "3": "3",
                                    "4": "COMPRESSED",
                                    "5": "333324",
                                    "6": "BULKLOAD",
                                    "7": "Table_3b03618df7c6458cb362bc5edb705bfb_10",
                                    "8": "2022-07-08 11:49:21.840"
                                },
                                {
                                    "0": "FactFinance100m",
                                    "1": "4",
                                    "2": "1",
                                    "3": "3",
                                    "4": "COMPRESSED",
                                    "5": "333324",
                                    "6": "BULKLOAD",
                                    "7": "Table_3b03618df7c6458cb362bc5edb705bfb_11",
                                    "8": "2022-07-08 11:49:21.817"
                                },
                                {
                                    "0": "FactFinance100m",
                                    "1": "4",
                                    "2": "1",
                                    "3": "3",
                                    "4": "COMPRESSED",
                                    "5": "333324",
                                    "6": "BULKLOAD",
                                    "7": "Table_3b03618df7c6458cb362bc5edb705bfb_12",
                                    "8": "2022-07-08 11:49:21.727"
                                },
                                {
                                    "0": "FactFinance100m",
                                    "1": "4",
                                    "2": "1",
                                    "3": "3",
                                    "4": "COMPRESSED",
                                    "5": "333324",
                                    "6": "BULKLOAD",
                                    "7": "Table_3b03618df7c6458cb362bc5edb705bfb_13",
                                    "8": "2022-07-08 11:49:21.760"
                                },
                                {
                                    "0": "FactFinance100m",
                                    "1": "4",
                                    "2": "1",
                                    "3": "3",
                                    "4": "COMPRESSED",
                                    "5": "333324",
                                    "6": "BULKLOAD",
                                    "7": "Table_3b03618df7c6458cb362bc5edb705bfb_14",
                                    "8": "2022-07-08 11:49:21.793"
                                },
                                {
                                    "0": "FactFinance100m",
                                    "1": "4",
                                    "2": "1",
                                    "3": "3",
                                    "4": "COMPRESSED",
                                    "5": "333324",
                                    "6": "BULKLOAD",
                                    "7": "Table_3b03618df7c6458cb362bc5edb705bfb_15",
                                    "8": "2022-07-08 11:49:21.870"
                                },
                                {
                                    "0": "FactFinance100m",
                                    "1": "4",
                                    "2": "1",
                                    "3": "3",
                                    "4": "COMPRESSED",
                                    "5": "333324",
                                    "6": "BULKLOAD",
                                    "7": "Table_3b03618df7c6458cb362bc5edb705bfb_16",
                                    "8": "2022-07-08 11:49:21.740"
                                },
                                {
                                    "0": "FactFinance100m",
                                    "1": "4",
                                    "2": "1",
                                    "3": "3",
                                    "4": "COMPRESSED",
                                    "5": "333324",
                                    "6": "BULKLOAD",
                                    "7": "Table_3b03618df7c6458cb362bc5edb705bfb_17",
                                    "8": "2022-07-08 11:49:21.783"
                                },
                                {
                                    "0": "FactFinance100m",
                                    "1": "4",
                                    "2": "1",
                                    "3": "3",
                                    "4": "COMPRESSED",
                                    "5": "333324",
                                    "6": "BULKLOAD",
                                    "7": "Table_3b03618df7c6458cb362bc5edb705bfb_18",
                                    "8": "2022-07-08 11:49:21.817"
                                },
                                {
                                    "0": "FactFinance100m",
                                    "1": "4",
                                    "2": "1",
                                    "3": "3",
                                    "4": "COMPRESSED",
                                    "5": "333324",
                                    "6": "BULKLOAD",
                                    "7": "Table_3b03618df7c6458cb362bc5edb705bfb_19",
                                    "8": "2022-07-08 11:49:21.853"
                                },
                                {
                                    "0": "FactFinance100m",
                                    "1": "4",
                                    "2": "1",
                                    "3": "3",
                                    "4": "COMPRESSED",
                                    "5": "333324",
                                    "6": "BULKLOAD",
                                    "7": "Table_3b03618df7c6458cb362bc5edb705bfb_20",
                                    "8": "2022-07-08 11:49:21.777"
                                },
                                {
                                    "0": "FactFinance100m",
                                    "1": "4",
                                    "2": "1",
                                    "3": "3",
                                    "4": "COMPRESSED",
                                    "5": "333324",
                                    "6": "BULKLOAD",
                                    "7": "Table_3b03618df7c6458cb362bc5edb705bfb_21",
                                    "8": "2022-07-08 11:49:21.840"
                                },
                                {
                                    "0": "FactFinance100m",
                                    "1": "4",
                                    "2": "1",
                                    "3": "3",
                                    "4": "COMPRESSED",
                                    "5": "333324",
                                    "6": "BULKLOAD",
                                    "7": "Table_3b03618df7c6458cb362bc5edb705bfb_22",
                                    "8": "2022-07-08 11:49:21.790"
                                },
                                {
                                    "0": "FactFinance100m",
                                    "1": "4",
                                    "2": "1",
                                    "3": "3",
                                    "4": "COMPRESSED",
                                    "5": "333324",
                                    "6": "BULKLOAD",
                                    "7": "Table_3b03618df7c6458cb362bc5edb705bfb_23",
                                    "8": "2022-07-08 11:49:21.800"
                                },
                                {
                                    "0": "FactFinance100m",
                                    "1": "4",
                                    "2": "1",
                                    "3": "3",
                                    "4": "COMPRESSED",
                                    "5": "333324",
                                    "6": "BULKLOAD",
                                    "7": "Table_3b03618df7c6458cb362bc5edb705bfb_24",
                                    "8": "2022-07-08 11:49:21.810"
                                },
                                {
                                    "0": "FactFinance100m",
                                    "1": "4",
                                    "2": "1",
                                    "3": "3",
                                    "4": "COMPRESSED",
                                    "5": "333324",
                                    "6": "BULKLOAD",
                                    "7": "Table_3b03618df7c6458cb362bc5edb705bfb_25",
                                    "8": "2022-07-08 11:49:21.840"
                                },
                                {
                                    "0": "FactFinance100m",
                                    "1": "4",
                                    "2": "1",
                                    "3": "3",
                                    "4": "COMPRESSED",
                                    "5": "333324",
                                    "6": "BULKLOAD",
                                    "7": "Table_3b03618df7c6458cb362bc5edb705bfb_26",
                                    "8": "2022-07-08 11:49:21.800"
                                },
                                {
                                    "0": "FactFinance100m",
                                    "1": "4",
                                    "2": "1",
                                    "3": "3",
                                    "4": "COMPRESSED",
                                    "5": "333324",
                                    "6": "BULKLOAD",
                                    "7": "Table_3b03618df7c6458cb362bc5edb705bfb_27",
                                    "8": "2022-07-08 11:49:22.550"
                                },
                                {
                                    "0": "FactFinance100m",
                                    "1": "4",
                                    "2": "1",
                                    "3": "3",
                                    "4": "COMPRESSED",
                                    "5": "333324",
                                    "6": "BULKLOAD",
                                    "7": "Table_3b03618df7c6458cb362bc5edb705bfb_28",
                                    "8": "2022-07-08 11:49:21.767"
                                },
                                {
                                    "0": "FactFinance100m",
                                    "1": "4",
                                    "2": "1",
                                    "3": "3",
                                    "4": "COMPRESSED",
                                    "5": "333324",
                                    "6": "BULKLOAD",
                                    "7": "Table_3b03618df7c6458cb362bc5edb705bfb_29",
                                    "8": "2022-07-08 11:49:21.827"
                                },
                                {
                                    "0": "FactFinance100m",
                                    "1": "4",
                                    "2": "1",
                                    "3": "3",
                                    "4": "COMPRESSED",
                                    "5": "333324",
                                    "6": "BULKLOAD",
                                    "7": "Table_3b03618df7c6458cb362bc5edb705bfb_30",
                                    "8": "2022-07-08 11:49:21.833"
                                },
                                {
                                    "0": "FactFinance100m",
                                    "1": "4",
                                    "2": "1",
                                    "3": "3",
                                    "4": "COMPRESSED",
                                    "5": "333324",
                                    "6": "BULKLOAD",
                                    "7": "Table_3b03618df7c6458cb362bc5edb705bfb_31",
                                    "8": "2022-07-08 11:49:21.853"
                                },
                                {
                                    "0": "FactFinance100m",
                                    "1": "4",
                                    "2": "1",
                                    "3": "3",
                                    "4": "COMPRESSED",
                                    "5": "333324",
                                    "6": "BULKLOAD",
                                    "7": "Table_3b03618df7c6458cb362bc5edb705bfb_32",
                                    "8": "2022-07-08 11:49:21.760"
                                },
                                {
                                    "0": "FactFinance100m",
                                    "1": "4",
                                    "2": "1",
                                    "3": "3",
                                    "4": "COMPRESSED",
                                    "5": "333324",
                                    "6": "BULKLOAD",
                                    "7": "Table_3b03618df7c6458cb362bc5edb705bfb_33",
                                    "8": "2022-07-08 11:49:21.787"
                                },
                                {
                                    "0": "FactFinance100m",
                                    "1": "4",
                                    "2": "1",
                                    "3": "3",
                                    "4": "COMPRESSED",
                                    "5": "333324",
                                    "6": "BULKLOAD",
                                    "7": "Table_3b03618df7c6458cb362bc5edb705bfb_34",
                                    "8": "2022-07-08 11:49:21.850"
                                },
                                {
                                    "0": "FactFinance100m",
                                    "1": "4",
                                    "2": "1",
                                    "3": "3",
                                    "4": "COMPRESSED",
                                    "5": "333324",
                                    "6": "BULKLOAD",
                                    "7": "Table_3b03618df7c6458cb362bc5edb705bfb_35",
                                    "8": "2022-07-08 11:49:21.843"
                                },
                                {
                                    "0": "FactFinance100m",
                                    "1": "4",
                                    "2": "1",
                                    "3": "3",
                                    "4": "COMPRESSED",
                                    "5": "333324",
                                    "6": "BULKLOAD",
                                    "7": "Table_3b03618df7c6458cb362bc5edb705bfb_36",
                                    "8": "2022-07-08 11:49:22.600"
                                },
                                {
                                    "0": "FactFinance100m",
                                    "1": "4",
                                    "2": "1",
                                    "3": "3",
                                    "4": "COMPRESSED",
                                    "5": "333324",
                                    "6": "BULKLOAD",
                                    "7": "Table_3b03618df7c6458cb362bc5edb705bfb_37",
                                    "8": "2022-07-08 11:49:22.610"
                                },
                                {
                                    "0": "FactFinance100m",
                                    "1": "4",
                                    "2": "1",
                                    "3": "3",
                                    "4": "COMPRESSED",
                                    "5": "333324",
                                    "6": "BULKLOAD",
                                    "7": "Table_3b03618df7c6458cb362bc5edb705bfb_38",
                                    "8": "2022-07-08 11:49:21.833"
                                },
                                {
                                    "0": "FactFinance100m",
                                    "1": "4",
                                    "2": "1",
                                    "3": "3",
                                    "4": "COMPRESSED",
                                    "5": "333324",
                                    "6": "BULKLOAD",
                                    "7": "Table_3b03618df7c6458cb362bc5edb705bfb_39",
                                    "8": "2022-07-08 11:49:21.810"
                                },
                                {
                                    "0": "FactFinance100m",
                                    "1": "4",
                                    "2": "1",
                                    "3": "3",
                                    "4": "COMPRESSED",
                                    "5": "333324",
                                    "6": "BULKLOAD",
                                    "7": "Table_3b03618df7c6458cb362bc5edb705bfb_40",
                                    "8": "2022-07-08 11:49:21.833"
                                },
                                {
                                    "0": "FactFinance100m",
                                    "1": "4",
                                    "2": "1",
                                    "3": "3",
                                    "4": "COMPRESSED",
                                    "5": "333324",
                                    "6": "BULKLOAD",
                                    "7": "Table_3b03618df7c6458cb362bc5edb705bfb_41",
                                    "8": "2022-07-08 11:49:21.810"
                                },
                                {
                                    "0": "FactFinance100m",
                                    "1": "4",
                                    "2": "1",
                                    "3": "3",
                                    "4": "COMPRESSED",
                                    "5": "333324",
                                    "6": "BULKLOAD",
                                    "7": "Table_3b03618df7c6458cb362bc5edb705bfb_42",
                                    "8": "2022-07-08 11:49:21.797"
                                },
                                {
                                    "0": "FactFinance100m",
                                    "1": "4",
                                    "2": "1",
                                    "3": "3",
                                    "4": "COMPRESSED",
                                    "5": "333324",
                                    "6": "BULKLOAD",
                                    "7": "Table_3b03618df7c6458cb362bc5edb705bfb_43",
                                    "8": "2022-07-08 11:49:21.853"
                                },
                                {
                                    "0": "FactFinance100m",
                                    "1": "4",
                                    "2": "1",
                                    "3": "3",
                                    "4": "COMPRESSED",
                                    "5": "333324",
                                    "6": "BULKLOAD",
                                    "7": "Table_3b03618df7c6458cb362bc5edb705bfb_44",
                                    "8": "2022-07-08 11:49:21.883"
                                },
                                {
                                    "0": "FactFinance100m",
                                    "1": "4",
                                    "2": "1",
                                    "3": "3",
                                    "4": "COMPRESSED",
                                    "5": "333324",
                                    "6": "BULKLOAD",
                                    "7": "Table_3b03618df7c6458cb362bc5edb705bfb_45",
                                    "8": "2022-07-08 11:49:21.777"
                                },
                                {
                                    "0": "FactFinance100m",
                                    "1": "4",
                                    "2": "1",
                                    "3": "3",
                                    "4": "COMPRESSED",
                                    "5": "333324",
                                    "6": "BULKLOAD",
                                    "7": "Table_3b03618df7c6458cb362bc5edb705bfb_46",
                                    "8": "2022-07-08 11:49:22.533"
                                },
                                {
                                    "0": "FactFinance100m",
                                    "1": "4",
                                    "2": "1",
                                    "3": "3",
                                    "4": "COMPRESSED",
                                    "5": "333324",
                                    "6": "BULKLOAD",
                                    "7": "Table_3b03618df7c6458cb362bc5edb705bfb_47",
                                    "8": "2022-07-08 11:49:21.900"
                                },
                                {
                                    "0": "FactFinance100m",
                                    "1": "4",
                                    "2": "1",
                                    "3": "3",
                                    "4": "COMPRESSED",
                                    "5": "333884",
                                    "6": "BULKLOAD",
                                    "7": "Table_3b03618df7c6458cb362bc5edb705bfb_48",
                                    "8": "2022-07-08 11:49:21.877"
                                },
                                {
                                    "0": "FactFinance100m",
                                    "1": "4",
                                    "2": "1",
                                    "3": "3",
                                    "4": "COMPRESSED",
                                    "5": "333324",
                                    "6": "BULKLOAD",
                                    "7": "Table_3b03618df7c6458cb362bc5edb705bfb_49",
                                    "8": "2022-07-08 11:49:21.777"
                                },
                                {
                                    "0": "FactFinance100m",
                                    "1": "4",
                                    "2": "1",
                                    "3": "3",
                                    "4": "COMPRESSED",
                                    "5": "333324",
                                    "6": "BULKLOAD",
                                    "7": "Table_3b03618df7c6458cb362bc5edb705bfb_50",
                                    "8": "2022-07-08 11:49:22.540"
                                },
                                {
                                    "0": "FactFinance100m",
                                    "1": "4",
                                    "2": "1",
                                    "3": "3",
                                    "4": "COMPRESSED",
                                    "5": "333324",
                                    "6": "BULKLOAD",
                                    "7": "Table_3b03618df7c6458cb362bc5edb705bfb_51",
                                    "8": "2022-07-08 11:49:21.823"
                                },
                                {
                                    "0": "FactFinance100m",
                                    "1": "4",
                                    "2": "1",
                                    "3": "3",
                                    "4": "COMPRESSED",
                                    "5": "333324",
                                    "6": "BULKLOAD",
                                    "7": "Table_3b03618df7c6458cb362bc5edb705bfb_52",
                                    "8": "2022-07-08 11:49:21.793"
                                },
                                {
                                    "0": "FactFinance100m",
                                    "1": "4",
                                    "2": "1",
                                    "3": "3",
                                    "4": "COMPRESSED",
                                    "5": "333324",
                                    "6": "BULKLOAD",
                                    "7": "Table_3b03618df7c6458cb362bc5edb705bfb_53",
                                    "8": "2022-07-08 11:49:21.870"
                                },
                                {
                                    "0": "FactFinance100m",
                                    "1": "4",
                                    "2": "1",
                                    "3": "3",
                                    "4": "COMPRESSED",
                                    "5": "333324",
                                    "6": "BULKLOAD",
                                    "7": "Table_3b03618df7c6458cb362bc5edb705bfb_54",
                                    "8": "2022-07-08 11:49:21.770"
                                },
                                {
                                    "0": "FactFinance100m",
                                    "1": "4",
                                    "2": "1",
                                    "3": "3",
                                    "4": "COMPRESSED",
                                    "5": "333324",
                                    "6": "BULKLOAD",
                                    "7": "Table_3b03618df7c6458cb362bc5edb705bfb_55",
                                    "8": "2022-07-08 11:49:21.797"
                                },
                                {
                                    "0": "FactFinance100m",
                                    "1": "4",
                                    "2": "1",
                                    "3": "3",
                                    "4": "COMPRESSED",
                                    "5": "333324",
                                    "6": "BULKLOAD",
                                    "7": "Table_3b03618df7c6458cb362bc5edb705bfb_56",
                                    "8": "2022-07-08 11:49:21.877"
                                },
                                {
                                    "0": "FactFinance100m",
                                    "1": "4",
                                    "2": "1",
                                    "3": "3",
                                    "4": "COMPRESSED",
                                    "5": "333324",
                                    "6": "BULKLOAD",
                                    "7": "Table_3b03618df7c6458cb362bc5edb705bfb_57",
                                    "8": "2022-07-08 11:49:21.843"
                                },
                                {
                                    "0": "FactFinance100m",
                                    "1": "4",
                                    "2": "1",
                                    "3": "3",
                                    "4": "COMPRESSED",
                                    "5": "333324",
                                    "6": "BULKLOAD",
                                    "7": "Table_3b03618df7c6458cb362bc5edb705bfb_58",
                                    "8": "2022-07-08 11:49:21.707"
                                },
                                {
                                    "0": "FactFinance100m",
                                    "1": "4",
                                    "2": "1",
                                    "3": "3",
                                    "4": "COMPRESSED",
                                    "5": "333324",
                                    "6": "BULKLOAD",
                                    "7": "Table_3b03618df7c6458cb362bc5edb705bfb_59",
                                    "8": "2022-07-08 11:49:21.847"
                                },
                                {
                                    "0": "FactFinance100m",
                                    "1": "4",
                                    "2": "1",
                                    "3": "3",
                                    "4": "COMPRESSED",
                                    "5": "333324",
                                    "6": "BULKLOAD",
                                    "7": "Table_3b03618df7c6458cb362bc5edb705bfb_60",
                                    "8": "2022-07-08 11:49:21.707"
                                },
                                {
                                    "0": "FactFinance100m",
                                    "1": "3",
                                    "2": "1",
                                    "3": "3",
                                    "4": "COMPRESSED",
                                    "5": "333324",
                                    "6": "BULKLOAD",
                                    "7": "Table_3b03618df7c6458cb362bc5edb705bfb_1",
                                    "8": "2022-07-08 11:48:40.647"
                                },
                                {
                                    "0": "FactFinance100m",
                                    "1": "3",
                                    "2": "1",
                                    "3": "3",
                                    "4": "COMPRESSED",
                                    "5": "333324",
                                    "6": "BULKLOAD",
                                    "7": "Table_3b03618df7c6458cb362bc5edb705bfb_2",
                                    "8": "2022-07-08 11:48:40.617"
                                },
                                {
                                    "0": "FactFinance100m",
                                    "1": "3",
                                    "2": "1",
                                    "3": "3",
                                    "4": "COMPRESSED",
                                    "5": "333324",
                                    "6": "BULKLOAD",
                                    "7": "Table_3b03618df7c6458cb362bc5edb705bfb_3",
                                    "8": "2022-07-08 11:48:41.320"
                                },
                                {
                                    "0": "FactFinance100m",
                                    "1": "3",
                                    "2": "1",
                                    "3": "3",
                                    "4": "COMPRESSED",
                                    "5": "333324",
                                    "6": "BULKLOAD",
                                    "7": "Table_3b03618df7c6458cb362bc5edb705bfb_4",
                                    "8": "2022-07-08 11:48:40.560"
                                },
                                {
                                    "0": "FactFinance100m",
                                    "1": "3",
                                    "2": "1",
                                    "3": "3",
                                    "4": "COMPRESSED",
                                    "5": "333324",
                                    "6": "BULKLOAD",
                                    "7": "Table_3b03618df7c6458cb362bc5edb705bfb_5",
                                    "8": "2022-07-08 11:48:40.597"
                                },
                                {
                                    "0": "FactFinance100m",
                                    "1": "3",
                                    "2": "1",
                                    "3": "3",
                                    "4": "COMPRESSED",
                                    "5": "333324",
                                    "6": "BULKLOAD",
                                    "7": "Table_3b03618df7c6458cb362bc5edb705bfb_6",
                                    "8": "2022-07-08 11:48:42.207"
                                },
                                {
                                    "0": "FactFinance100m",
                                    "1": "3",
                                    "2": "1",
                                    "3": "3",
                                    "4": "COMPRESSED",
                                    "5": "333324",
                                    "6": "BULKLOAD",
                                    "7": "Table_3b03618df7c6458cb362bc5edb705bfb_7",
                                    "8": "2022-07-08 11:48:40.637"
                                },
                                {
                                    "0": "FactFinance100m",
                                    "1": "3",
                                    "2": "1",
                                    "3": "3",
                                    "4": "COMPRESSED",
                                    "5": "333324",
                                    "6": "BULKLOAD",
                                    "7": "Table_3b03618df7c6458cb362bc5edb705bfb_8",
                                    "8": "2022-07-08 11:48:40.543"
                                },
                                {
                                    "0": "FactFinance100m",
                                    "1": "3",
                                    "2": "1",
                                    "3": "3",
                                    "4": "COMPRESSED",
                                    "5": "333324",
                                    "6": "BULKLOAD",
                                    "7": "Table_3b03618df7c6458cb362bc5edb705bfb_9",
                                    "8": "2022-07-08 11:48:40.587"
                                },
                                {
                                    "0": "FactFinance100m",
                                    "1": "3",
                                    "2": "1",
                                    "3": "3",
                                    "4": "COMPRESSED",
                                    "5": "333884",
                                    "6": "BULKLOAD",
                                    "7": "Table_3b03618df7c6458cb362bc5edb705bfb_10",
                                    "8": "2022-07-08 11:48:40.653"
                                },
                                {
                                    "0": "FactFinance100m",
                                    "1": "3",
                                    "2": "1",
                                    "3": "3",
                                    "4": "COMPRESSED",
                                    "5": "333324",
                                    "6": "BULKLOAD",
                                    "7": "Table_3b03618df7c6458cb362bc5edb705bfb_11",
                                    "8": "2022-07-08 11:48:40.613"
                                },
                                {
                                    "0": "FactFinance100m",
                                    "1": "3",
                                    "2": "1",
                                    "3": "3",
                                    "4": "COMPRESSED",
                                    "5": "333324",
                                    "6": "BULKLOAD",
                                    "7": "Table_3b03618df7c6458cb362bc5edb705bfb_12",
                                    "8": "2022-07-08 11:48:40.567"
                                },
                                {
                                    "0": "FactFinance100m",
                                    "1": "3",
                                    "2": "1",
                                    "3": "3",
                                    "4": "COMPRESSED",
                                    "5": "333324",
                                    "6": "BULKLOAD",
                                    "7": "Table_3b03618df7c6458cb362bc5edb705bfb_13",
                                    "8": "2022-07-08 11:48:40.630"
                                },
                                {
                                    "0": "FactFinance100m",
                                    "1": "3",
                                    "2": "1",
                                    "3": "3",
                                    "4": "COMPRESSED",
                                    "5": "333324",
                                    "6": "BULKLOAD",
                                    "7": "Table_3b03618df7c6458cb362bc5edb705bfb_14",
                                    "8": "2022-07-08 11:48:40.633"
                                },
                                {
                                    "0": "FactFinance100m",
                                    "1": "3",
                                    "2": "1",
                                    "3": "3",
                                    "4": "COMPRESSED",
                                    "5": "333324",
                                    "6": "BULKLOAD",
                                    "7": "Table_3b03618df7c6458cb362bc5edb705bfb_15",
                                    "8": "2022-07-08 11:48:40.620"
                                },
                                {
                                    "0": "FactFinance100m",
                                    "1": "3",
                                    "2": "1",
                                    "3": "3",
                                    "4": "COMPRESSED",
                                    "5": "333324",
                                    "6": "BULKLOAD",
                                    "7": "Table_3b03618df7c6458cb362bc5edb705bfb_16",
                                    "8": "2022-07-08 11:48:41.303"
                                },
                                {
                                    "0": "FactFinance100m",
                                    "1": "3",
                                    "2": "1",
                                    "3": "3",
                                    "4": "COMPRESSED",
                                    "5": "333324",
                                    "6": "BULKLOAD",
                                    "7": "Table_3b03618df7c6458cb362bc5edb705bfb_17",
                                    "8": "2022-07-08 11:48:40.537"
                                },
                                {
                                    "0": "FactFinance100m",
                                    "1": "3",
                                    "2": "1",
                                    "3": "3",
                                    "4": "COMPRESSED",
                                    "5": "333324",
                                    "6": "BULKLOAD",
                                    "7": "Table_3b03618df7c6458cb362bc5edb705bfb_18",
                                    "8": "2022-07-08 11:48:40.660"
                                },
                                {
                                    "0": "FactFinance100m",
                                    "1": "3",
                                    "2": "1",
                                    "3": "3",
                                    "4": "COMPRESSED",
                                    "5": "333324",
                                    "6": "BULKLOAD",
                                    "7": "Table_3b03618df7c6458cb362bc5edb705bfb_19",
                                    "8": "2022-07-08 11:48:42.150"
                                },
                                {
                                    "0": "FactFinance100m",
                                    "1": "3",
                                    "2": "1",
                                    "3": "3",
                                    "4": "COMPRESSED",
                                    "5": "333324",
                                    "6": "BULKLOAD",
                                    "7": "Table_3b03618df7c6458cb362bc5edb705bfb_20",
                                    "8": "2022-07-08 11:48:40.570"
                                },
                                {
                                    "0": "FactFinance100m",
                                    "1": "3",
                                    "2": "1",
                                    "3": "3",
                                    "4": "COMPRESSED",
                                    "5": "333324",
                                    "6": "BULKLOAD",
                                    "7": "Table_3b03618df7c6458cb362bc5edb705bfb_21",
                                    "8": "2022-07-08 11:48:40.597"
                                },
                                {
                                    "0": "FactFinance100m",
                                    "1": "3",
                                    "2": "1",
                                    "3": "3",
                                    "4": "COMPRESSED",
                                    "5": "333324",
                                    "6": "BULKLOAD",
                                    "7": "Table_3b03618df7c6458cb362bc5edb705bfb_22",
                                    "8": "2022-07-08 11:48:42.170"
                                },
                                {
                                    "0": "FactFinance100m",
                                    "1": "3",
                                    "2": "1",
                                    "3": "3",
                                    "4": "COMPRESSED",
                                    "5": "333324",
                                    "6": "BULKLOAD",
                                    "7": "Table_3b03618df7c6458cb362bc5edb705bfb_23",
                                    "8": "2022-07-08 11:48:40.640"
                                },
                                {
                                    "0": "FactFinance100m",
                                    "1": "3",
                                    "2": "1",
                                    "3": "3",
                                    "4": "COMPRESSED",
                                    "5": "333324",
                                    "6": "BULKLOAD",
                                    "7": "Table_3b03618df7c6458cb362bc5edb705bfb_24",
                                    "8": "2022-07-08 11:48:40.510"
                                },
                                {
                                    "0": "FactFinance100m",
                                    "1": "3",
                                    "2": "1",
                                    "3": "3",
                                    "4": "COMPRESSED",
                                    "5": "333324",
                                    "6": "BULKLOAD",
                                    "7": "Table_3b03618df7c6458cb362bc5edb705bfb_25",
                                    "8": "2022-07-08 11:48:40.623"
                                },
                                {
                                    "0": "FactFinance100m",
                                    "1": "3",
                                    "2": "1",
                                    "3": "3",
                                    "4": "COMPRESSED",
                                    "5": "333324",
                                    "6": "BULKLOAD",
                                    "7": "Table_3b03618df7c6458cb362bc5edb705bfb_26",
                                    "8": "2022-07-08 11:48:40.630"
                                },
                                {
                                    "0": "FactFinance100m",
                                    "1": "3",
                                    "2": "1",
                                    "3": "3",
                                    "4": "COMPRESSED",
                                    "5": "333324",
                                    "6": "BULKLOAD",
                                    "7": "Table_3b03618df7c6458cb362bc5edb705bfb_27",
                                    "8": "2022-07-08 11:48:40.630"
                                },
                                {
                                    "0": "FactFinance100m",
                                    "1": "3",
                                    "2": "1",
                                    "3": "3",
                                    "4": "COMPRESSED",
                                    "5": "333324",
                                    "6": "BULKLOAD",
                                    "7": "Table_3b03618df7c6458cb362bc5edb705bfb_28",
                                    "8": "2022-07-08 11:48:40.540"
                                },
                                {
                                    "0": "FactFinance100m",
                                    "1": "3",
                                    "2": "1",
                                    "3": "3",
                                    "4": "COMPRESSED",
                                    "5": "333324",
                                    "6": "BULKLOAD",
                                    "7": "Table_3b03618df7c6458cb362bc5edb705bfb_29",
                                    "8": "2022-07-08 11:48:40.660"
                                },
                                {
                                    "0": "FactFinance100m",
                                    "1": "3",
                                    "2": "1",
                                    "3": "3",
                                    "4": "COMPRESSED",
                                    "5": "333324",
                                    "6": "BULKLOAD",
                                    "7": "Table_3b03618df7c6458cb362bc5edb705bfb_30",
                                    "8": "2022-07-08 11:48:40.623"
                                },
                                {
                                    "0": "FactFinance100m",
                                    "1": "3",
                                    "2": "1",
                                    "3": "3",
                                    "4": "COMPRESSED",
                                    "5": "333324",
                                    "6": "BULKLOAD",
                                    "7": "Table_3b03618df7c6458cb362bc5edb705bfb_31",
                                    "8": "2022-07-08 11:48:40.570"
                                },
                                {
                                    "0": "FactFinance100m",
                                    "1": "3",
                                    "2": "1",
                                    "3": "3",
                                    "4": "COMPRESSED",
                                    "5": "333324",
                                    "6": "BULKLOAD",
                                    "7": "Table_3b03618df7c6458cb362bc5edb705bfb_32",
                                    "8": "2022-07-08 11:48:40.457"
                                },
                                {
                                    "0": "FactFinance100m",
                                    "1": "3",
                                    "2": "1",
                                    "3": "3",
                                    "4": "COMPRESSED",
                                    "5": "333324",
                                    "6": "BULKLOAD",
                                    "7": "Table_3b03618df7c6458cb362bc5edb705bfb_33",
                                    "8": "2022-07-08 11:48:41.330"
                                },
                                {
                                    "0": "FactFinance100m",
                                    "1": "3",
                                    "2": "1",
                                    "3": "3",
                                    "4": "COMPRESSED",
                                    "5": "333324",
                                    "6": "BULKLOAD",
                                    "7": "Table_3b03618df7c6458cb362bc5edb705bfb_34",
                                    "8": "2022-07-08 11:48:41.290"
                                },
                                {
                                    "0": "FactFinance100m",
                                    "1": "3",
                                    "2": "1",
                                    "3": "3",
                                    "4": "COMPRESSED",
                                    "5": "333324",
                                    "6": "BULKLOAD",
                                    "7": "Table_3b03618df7c6458cb362bc5edb705bfb_35",
                                    "8": "2022-07-08 11:48:41.310"
                                },
                                {
                                    "0": "FactFinance100m",
                                    "1": "3",
                                    "2": "1",
                                    "3": "3",
                                    "4": "COMPRESSED",
                                    "5": "333324",
                                    "6": "BULKLOAD",
                                    "7": "Table_3b03618df7c6458cb362bc5edb705bfb_36",
                                    "8": "2022-07-08 11:48:41.347"
                                },
                                {
                                    "0": "FactFinance100m",
                                    "1": "3",
                                    "2": "1",
                                    "3": "3",
                                    "4": "COMPRESSED",
                                    "5": "333324",
                                    "6": "BULKLOAD",
                                    "7": "Table_3b03618df7c6458cb362bc5edb705bfb_37",
                                    "8": "2022-07-08 11:48:41.373"
                                },
                                {
                                    "0": "FactFinance100m",
                                    "1": "3",
                                    "2": "1",
                                    "3": "3",
                                    "4": "COMPRESSED",
                                    "5": "333324",
                                    "6": "BULKLOAD",
                                    "7": "Table_3b03618df7c6458cb362bc5edb705bfb_38",
                                    "8": "2022-07-08 11:48:40.540"
                                },
                                {
                                    "0": "FactFinance100m",
                                    "1": "3",
                                    "2": "1",
                                    "3": "3",
                                    "4": "COMPRESSED",
                                    "5": "333324",
                                    "6": "BULKLOAD",
                                    "7": "Table_3b03618df7c6458cb362bc5edb705bfb_39",
                                    "8": "2022-07-08 11:48:40.560"
                                },
                                {
                                    "0": "FactFinance100m",
                                    "1": "3",
                                    "2": "1",
                                    "3": "3",
                                    "4": "COMPRESSED",
                                    "5": "333324",
                                    "6": "BULKLOAD",
                                    "7": "Table_3b03618df7c6458cb362bc5edb705bfb_40",
                                    "8": "2022-07-08 11:48:40.517"
                                },
                                {
                                    "0": "FactFinance100m",
                                    "1": "3",
                                    "2": "1",
                                    "3": "3",
                                    "4": "COMPRESSED",
                                    "5": "333324",
                                    "6": "BULKLOAD",
                                    "7": "Table_3b03618df7c6458cb362bc5edb705bfb_41",
                                    "8": "2022-07-08 11:48:40.617"
                                },
                                {
                                    "0": "FactFinance100m",
                                    "1": "3",
                                    "2": "1",
                                    "3": "3",
                                    "4": "COMPRESSED",
                                    "5": "333324",
                                    "6": "BULKLOAD",
                                    "7": "Table_3b03618df7c6458cb362bc5edb705bfb_42",
                                    "8": "2022-07-08 11:48:40.620"
                                },
                                {
                                    "0": "FactFinance100m",
                                    "1": "3",
                                    "2": "1",
                                    "3": "3",
                                    "4": "COMPRESSED",
                                    "5": "333324",
                                    "6": "BULKLOAD",
                                    "7": "Table_3b03618df7c6458cb362bc5edb705bfb_43",
                                    "8": "2022-07-08 11:48:40.583"
                                },
                                {
                                    "0": "FactFinance100m",
                                    "1": "3",
                                    "2": "1",
                                    "3": "3",
                                    "4": "COMPRESSED",
                                    "5": "333324",
                                    "6": "BULKLOAD",
                                    "7": "Table_3b03618df7c6458cb362bc5edb705bfb_44",
                                    "8": "2022-07-08 11:48:40.587"
                                },
                                {
                                    "0": "FactFinance100m",
                                    "1": "3",
                                    "2": "1",
                                    "3": "3",
                                    "4": "COMPRESSED",
                                    "5": "333324",
                                    "6": "BULKLOAD",
                                    "7": "Table_3b03618df7c6458cb362bc5edb705bfb_45",
                                    "8": "2022-07-08 11:48:40.500"
                                },
                                {
                                    "0": "FactFinance100m",
                                    "1": "3",
                                    "2": "1",
                                    "3": "3",
                                    "4": "COMPRESSED",
                                    "5": "333324",
                                    "6": "BULKLOAD",
                                    "7": "Table_3b03618df7c6458cb362bc5edb705bfb_46",
                                    "8": "2022-07-08 11:48:41.367"
                                },
                                {
                                    "0": "FactFinance100m",
                                    "1": "3",
                                    "2": "1",
                                    "3": "3",
                                    "4": "COMPRESSED",
                                    "5": "333324",
                                    "6": "BULKLOAD",
                                    "7": "Table_3b03618df7c6458cb362bc5edb705bfb_47",
                                    "8": "2022-07-08 11:48:40.577"
                                },
                                {
                                    "0": "FactFinance100m",
                                    "1": "3",
                                    "2": "1",
                                    "3": "3",
                                    "4": "COMPRESSED",
                                    "5": "333324",
                                    "6": "BULKLOAD",
                                    "7": "Table_3b03618df7c6458cb362bc5edb705bfb_48",
                                    "8": "2022-07-08 11:48:41.410"
                                },
                                {
                                    "0": "FactFinance100m",
                                    "1": "3",
                                    "2": "1",
                                    "3": "3",
                                    "4": "COMPRESSED",
                                    "5": "333324",
                                    "6": "BULKLOAD",
                                    "7": "Table_3b03618df7c6458cb362bc5edb705bfb_49",
                                    "8": "2022-07-08 11:48:40.493"
                                },
                                {
                                    "0": "FactFinance100m",
                                    "1": "3",
                                    "2": "1",
                                    "3": "3",
                                    "4": "COMPRESSED",
                                    "5": "333324",
                                    "6": "BULKLOAD",
                                    "7": "Table_3b03618df7c6458cb362bc5edb705bfb_50",
                                    "8": "2022-07-08 11:48:41.387"
                                },
                                {
                                    "0": "FactFinance100m",
                                    "1": "3",
                                    "2": "1",
                                    "3": "3",
                                    "4": "COMPRESSED",
                                    "5": "333324",
                                    "6": "BULKLOAD",
                                    "7": "Table_3b03618df7c6458cb362bc5edb705bfb_51",
                                    "8": "2022-07-08 11:48:40.617"
                                },
                                {
                                    "0": "FactFinance100m",
                                    "1": "3",
                                    "2": "1",
                                    "3": "3",
                                    "4": "COMPRESSED",
                                    "5": "333324",
                                    "6": "BULKLOAD",
                                    "7": "Table_3b03618df7c6458cb362bc5edb705bfb_52",
                                    "8": "2022-07-08 11:48:40.603"
                                },
                                {
                                    "0": "FactFinance100m",
                                    "1": "3",
                                    "2": "1",
                                    "3": "3",
                                    "4": "COMPRESSED",
                                    "5": "333324",
                                    "6": "BULKLOAD",
                                    "7": "Table_3b03618df7c6458cb362bc5edb705bfb_53",
                                    "8": "2022-07-08 11:48:41.327"
                                },
                                {
                                    "0": "FactFinance100m",
                                    "1": "3",
                                    "2": "1",
                                    "3": "3",
                                    "4": "COMPRESSED",
                                    "5": "333324",
                                    "6": "BULKLOAD",
                                    "7": "Table_3b03618df7c6458cb362bc5edb705bfb_54",
                                    "8": "2022-07-08 11:48:40.500"
                                },
                                {
                                    "0": "FactFinance100m",
                                    "1": "3",
                                    "2": "1",
                                    "3": "3",
                                    "4": "COMPRESSED",
                                    "5": "333324",
                                    "6": "BULKLOAD",
                                    "7": "Table_3b03618df7c6458cb362bc5edb705bfb_55",
                                    "8": "2022-07-08 11:48:41.300"
                                },
                                {
                                    "0": "FactFinance100m",
                                    "1": "3",
                                    "2": "1",
                                    "3": "3",
                                    "4": "COMPRESSED",
                                    "5": "333324",
                                    "6": "BULKLOAD",
                                    "7": "Table_3b03618df7c6458cb362bc5edb705bfb_56",
                                    "8": "2022-07-08 11:48:40.557"
                                },
                                {
                                    "0": "FactFinance100m",
                                    "1": "3",
                                    "2": "1",
                                    "3": "3",
                                    "4": "COMPRESSED",
                                    "5": "333324",
                                    "6": "BULKLOAD",
                                    "7": "Table_3b03618df7c6458cb362bc5edb705bfb_57",
                                    "8": "2022-07-08 11:48:40.637"
                                },
                                {
                                    "0": "FactFinance100m",
                                    "1": "3",
                                    "2": "1",
                                    "3": "3",
                                    "4": "COMPRESSED",
                                    "5": "333324",
                                    "6": "BULKLOAD",
                                    "7": "Table_3b03618df7c6458cb362bc5edb705bfb_58",
                                    "8": "2022-07-08 11:48:40.490"
                                },
                                {
                                    "0": "FactFinance100m",
                                    "1": "3",
                                    "2": "1",
                                    "3": "3",
                                    "4": "COMPRESSED",
                                    "5": "333324",
                                    "6": "BULKLOAD",
                                    "7": "Table_3b03618df7c6458cb362bc5edb705bfb_59",
                                    "8": "2022-07-08 11:48:40.690"
                                },
                                {
                                    "0": "FactFinance100m",
                                    "1": "3",
                                    "2": "1",
                                    "3": "3",
                                    "4": "COMPRESSED",
                                    "5": "333324",
                                    "6": "BULKLOAD",
                                    "7": "Table_3b03618df7c6458cb362bc5edb705bfb_60",
                                    "8": "2022-07-08 11:48:40.503"
                                },
                                {
                                    "0": "FactFinance100m",
                                    "1": "2",
                                    "2": "1",
                                    "3": "3",
                                    "4": "COMPRESSED",
                                    "5": "333324",
                                    "6": "BULKLOAD",
                                    "7": "Table_3b03618df7c6458cb362bc5edb705bfb_1",
                                    "8": "2022-07-08 11:48:00.220"
                                },
                                {
                                    "0": "FactFinance100m",
                                    "1": "2",
                                    "2": "1",
                                    "3": "3",
                                    "4": "COMPRESSED",
                                    "5": "333324",
                                    "6": "BULKLOAD",
                                    "7": "Table_3b03618df7c6458cb362bc5edb705bfb_2",
                                    "8": "2022-07-08 11:48:00.263"
                                },
                                {
                                    "0": "FactFinance100m",
                                    "1": "2",
                                    "2": "1",
                                    "3": "3",
                                    "4": "COMPRESSED",
                                    "5": "333324",
                                    "6": "BULKLOAD",
                                    "7": "Table_3b03618df7c6458cb362bc5edb705bfb_3",
                                    "8": "2022-07-08 11:48:00.287"
                                },
                                {
                                    "0": "FactFinance100m",
                                    "1": "2",
                                    "2": "1",
                                    "3": "3",
                                    "4": "COMPRESSED",
                                    "5": "333324",
                                    "6": "BULKLOAD",
                                    "7": "Table_3b03618df7c6458cb362bc5edb705bfb_4",
                                    "8": "2022-07-08 11:48:01.177"
                                },
                                {
                                    "0": "FactFinance100m",
                                    "1": "2",
                                    "2": "1",
                                    "3": "3",
                                    "4": "COMPRESSED",
                                    "5": "333324",
                                    "6": "BULKLOAD",
                                    "7": "Table_3b03618df7c6458cb362bc5edb705bfb_5",
                                    "8": "2022-07-08 11:48:00.347"
                                },
                                {
                                    "0": "FactFinance100m",
                                    "1": "2",
                                    "2": "1",
                                    "3": "3",
                                    "4": "COMPRESSED",
                                    "5": "333324",
                                    "6": "BULKLOAD",
                                    "7": "Table_3b03618df7c6458cb362bc5edb705bfb_6",
                                    "8": "2022-07-08 11:48:00.280"
                                },
                                {
                                    "0": "FactFinance100m",
                                    "1": "2",
                                    "2": "1",
                                    "3": "3",
                                    "4": "COMPRESSED",
                                    "5": "333324",
                                    "6": "BULKLOAD",
                                    "7": "Table_3b03618df7c6458cb362bc5edb705bfb_7",
                                    "8": "2022-07-08 11:48:00.243"
                                },
                                {
                                    "0": "FactFinance100m",
                                    "1": "2",
                                    "2": "1",
                                    "3": "3",
                                    "4": "COMPRESSED",
                                    "5": "333324",
                                    "6": "BULKLOAD",
                                    "7": "Table_3b03618df7c6458cb362bc5edb705bfb_8",
                                    "8": "2022-07-08 11:48:00.287"
                                },
                                {
                                    "0": "FactFinance100m",
                                    "1": "2",
                                    "2": "1",
                                    "3": "3",
                                    "4": "COMPRESSED",
                                    "5": "333324",
                                    "6": "BULKLOAD",
                                    "7": "Table_3b03618df7c6458cb362bc5edb705bfb_9",
                                    "8": "2022-07-08 11:48:00.233"
                                },
                                {
                                    "0": "FactFinance100m",
                                    "1": "2",
                                    "2": "1",
                                    "3": "3",
                                    "4": "COMPRESSED",
                                    "5": "333324",
                                    "6": "BULKLOAD",
                                    "7": "Table_3b03618df7c6458cb362bc5edb705bfb_10",
                                    "8": "2022-07-08 11:48:00.270"
                                },
                                {
                                    "0": "FactFinance100m",
                                    "1": "2",
                                    "2": "1",
                                    "3": "3",
                                    "4": "COMPRESSED",
                                    "5": "333324",
                                    "6": "BULKLOAD",
                                    "7": "Table_3b03618df7c6458cb362bc5edb705bfb_11",
                                    "8": "2022-07-08 11:48:00.377"
                                },
                                {
                                    "0": "FactFinance100m",
                                    "1": "2",
                                    "2": "1",
                                    "3": "3",
                                    "4": "COMPRESSED",
                                    "5": "333324",
                                    "6": "BULKLOAD",
                                    "7": "Table_3b03618df7c6458cb362bc5edb705bfb_12",
                                    "8": "2022-07-08 11:48:00.310"
                                },
                                {
                                    "0": "FactFinance100m",
                                    "1": "2",
                                    "2": "1",
                                    "3": "3",
                                    "4": "COMPRESSED",
                                    "5": "333324",
                                    "6": "BULKLOAD",
                                    "7": "Table_3b03618df7c6458cb362bc5edb705bfb_13",
                                    "8": "2022-07-08 11:48:00.250"
                                },
                                {
                                    "0": "FactFinance100m",
                                    "1": "2",
                                    "2": "1",
                                    "3": "3",
                                    "4": "COMPRESSED",
                                    "5": "333324",
                                    "6": "BULKLOAD",
                                    "7": "Table_3b03618df7c6458cb362bc5edb705bfb_14",
                                    "8": "2022-07-08 11:48:00.313"
                                },
                                {
                                    "0": "FactFinance100m",
                                    "1": "2",
                                    "2": "1",
                                    "3": "3",
                                    "4": "COMPRESSED",
                                    "5": "333324",
                                    "6": "BULKLOAD",
                                    "7": "Table_3b03618df7c6458cb362bc5edb705bfb_15",
                                    "8": "2022-07-08 11:48:00.370"
                                },
                                {
                                    "0": "FactFinance100m",
                                    "1": "2",
                                    "2": "1",
                                    "3": "3",
                                    "4": "COMPRESSED",
                                    "5": "333324",
                                    "6": "BULKLOAD",
                                    "7": "Table_3b03618df7c6458cb362bc5edb705bfb_16",
                                    "8": "2022-07-08 11:48:00.320"
                                },
                                {
                                    "0": "FactFinance100m",
                                    "1": "2",
                                    "2": "1",
                                    "3": "3",
                                    "4": "COMPRESSED",
                                    "5": "333324",
                                    "6": "BULKLOAD",
                                    "7": "Table_3b03618df7c6458cb362bc5edb705bfb_17",
                                    "8": "2022-07-08 11:48:00.300"
                                },
                                {
                                    "0": "FactFinance100m",
                                    "1": "2",
                                    "2": "1",
                                    "3": "3",
                                    "4": "COMPRESSED",
                                    "5": "333324",
                                    "6": "BULKLOAD",
                                    "7": "Table_3b03618df7c6458cb362bc5edb705bfb_18",
                                    "8": "2022-07-08 11:48:00.327"
                                },
                                {
                                    "0": "FactFinance100m",
                                    "1": "2",
                                    "2": "1",
                                    "3": "3",
                                    "4": "COMPRESSED",
                                    "5": "333324",
                                    "6": "BULKLOAD",
                                    "7": "Table_3b03618df7c6458cb362bc5edb705bfb_19",
                                    "8": "2022-07-08 11:48:00.330"
                                },
                                {
                                    "0": "FactFinance100m",
                                    "1": "2",
                                    "2": "1",
                                    "3": "3",
                                    "4": "COMPRESSED",
                                    "5": "333324",
                                    "6": "BULKLOAD",
                                    "7": "Table_3b03618df7c6458cb362bc5edb705bfb_20",
                                    "8": "2022-07-08 11:48:00.307"
                                },
                                {
                                    "0": "FactFinance100m",
                                    "1": "2",
                                    "2": "1",
                                    "3": "3",
                                    "4": "COMPRESSED",
                                    "5": "333324",
                                    "6": "BULKLOAD",
                                    "7": "Table_3b03618df7c6458cb362bc5edb705bfb_21",
                                    "8": "2022-07-08 11:48:00.280"
                                },
                                {
                                    "0": "FactFinance100m",
                                    "1": "2",
                                    "2": "1",
                                    "3": "3",
                                    "4": "COMPRESSED",
                                    "5": "333324",
                                    "6": "BULKLOAD",
                                    "7": "Table_3b03618df7c6458cb362bc5edb705bfb_22",
                                    "8": "2022-07-08 11:48:00.353"
                                },
                                {
                                    "0": "FactFinance100m",
                                    "1": "2",
                                    "2": "1",
                                    "3": "3",
                                    "4": "COMPRESSED",
                                    "5": "333324",
                                    "6": "BULKLOAD",
                                    "7": "Table_3b03618df7c6458cb362bc5edb705bfb_23",
                                    "8": "2022-07-08 11:48:00.380"
                                },
                                {
                                    "0": "FactFinance100m",
                                    "1": "2",
                                    "2": "1",
                                    "3": "3",
                                    "4": "COMPRESSED",
                                    "5": "333324",
                                    "6": "BULKLOAD",
                                    "7": "Table_3b03618df7c6458cb362bc5edb705bfb_24",
                                    "8": "2022-07-08 11:48:00.313"
                                },
                                {
                                    "0": "FactFinance100m",
                                    "1": "2",
                                    "2": "1",
                                    "3": "3",
                                    "4": "COMPRESSED",
                                    "5": "333324",
                                    "6": "BULKLOAD",
                                    "7": "Table_3b03618df7c6458cb362bc5edb705bfb_25",
                                    "8": "2022-07-08 11:48:01.213"
                                },
                                {
                                    "0": "FactFinance100m",
                                    "1": "2",
                                    "2": "1",
                                    "3": "3",
                                    "4": "COMPRESSED",
                                    "5": "333324",
                                    "6": "BULKLOAD",
                                    "7": "Table_3b03618df7c6458cb362bc5edb705bfb_26",
                                    "8": "2022-07-08 11:48:00.320"
                                },
                                {
                                    "0": "FactFinance100m",
                                    "1": "2",
                                    "2": "1",
                                    "3": "3",
                                    "4": "COMPRESSED",
                                    "5": "333324",
                                    "6": "BULKLOAD",
                                    "7": "Table_3b03618df7c6458cb362bc5edb705bfb_27",
                                    "8": "2022-07-08 11:48:00.320"
                                },
                                {
                                    "0": "FactFinance100m",
                                    "1": "2",
                                    "2": "1",
                                    "3": "3",
                                    "4": "COMPRESSED",
                                    "5": "333324",
                                    "6": "BULKLOAD",
                                    "7": "Table_3b03618df7c6458cb362bc5edb705bfb_28",
                                    "8": "2022-07-08 11:48:00.343"
                                },
                                {
                                    "0": "FactFinance100m",
                                    "1": "2",
                                    "2": "1",
                                    "3": "3",
                                    "4": "COMPRESSED",
                                    "5": "333324",
                                    "6": "BULKLOAD",
                                    "7": "Table_3b03618df7c6458cb362bc5edb705bfb_29",
                                    "8": "2022-07-08 11:48:00.333"
                                },
                                {
                                    "0": "FactFinance100m",
                                    "1": "2",
                                    "2": "1",
                                    "3": "3",
                                    "4": "COMPRESSED",
                                    "5": "333324",
                                    "6": "BULKLOAD",
                                    "7": "Table_3b03618df7c6458cb362bc5edb705bfb_30",
                                    "8": "2022-07-08 11:48:00.397"
                                },
                                {
                                    "0": "FactFinance100m",
                                    "1": "2",
                                    "2": "1",
                                    "3": "3",
                                    "4": "COMPRESSED",
                                    "5": "333324",
                                    "6": "BULKLOAD",
                                    "7": "Table_3b03618df7c6458cb362bc5edb705bfb_31",
                                    "8": "2022-07-08 11:48:00.263"
                                },
                                {
                                    "0": "FactFinance100m",
                                    "1": "2",
                                    "2": "1",
                                    "3": "3",
                                    "4": "COMPRESSED",
                                    "5": "333324",
                                    "6": "BULKLOAD",
                                    "7": "Table_3b03618df7c6458cb362bc5edb705bfb_32",
                                    "8": "2022-07-08 11:48:01.010"
                                },
                                {
                                    "0": "FactFinance100m",
                                    "1": "2",
                                    "2": "1",
                                    "3": "3",
                                    "4": "COMPRESSED",
                                    "5": "333324",
                                    "6": "BULKLOAD",
                                    "7": "Table_3b03618df7c6458cb362bc5edb705bfb_33",
                                    "8": "2022-07-08 11:48:00.967"
                                },
                                {
                                    "0": "FactFinance100m",
                                    "1": "2",
                                    "2": "1",
                                    "3": "3",
                                    "4": "COMPRESSED",
                                    "5": "333324",
                                    "6": "BULKLOAD",
                                    "7": "Table_3b03618df7c6458cb362bc5edb705bfb_34",
                                    "8": "2022-07-08 11:48:01.040"
                                },
                                {
                                    "0": "FactFinance100m",
                                    "1": "2",
                                    "2": "1",
                                    "3": "3",
                                    "4": "COMPRESSED",
                                    "5": "333884",
                                    "6": "BULKLOAD",
                                    "7": "Table_3b03618df7c6458cb362bc5edb705bfb_35",
                                    "8": "2022-07-08 11:48:00.283"
                                },
                                {
                                    "0": "FactFinance100m",
                                    "1": "2",
                                    "2": "1",
                                    "3": "3",
                                    "4": "COMPRESSED",
                                    "5": "333324",
                                    "6": "BULKLOAD",
                                    "7": "Table_3b03618df7c6458cb362bc5edb705bfb_36",
                                    "8": "2022-07-08 11:48:00.947"
                                },
                                {
                                    "0": "FactFinance100m",
                                    "1": "2",
                                    "2": "1",
                                    "3": "3",
                                    "4": "COMPRESSED",
                                    "5": "333324",
                                    "6": "BULKLOAD",
                                    "7": "Table_3b03618df7c6458cb362bc5edb705bfb_37",
                                    "8": "2022-07-08 11:48:00.183"
                                },
                                {
                                    "0": "FactFinance100m",
                                    "1": "2",
                                    "2": "1",
                                    "3": "3",
                                    "4": "COMPRESSED",
                                    "5": "333324",
                                    "6": "BULKLOAD",
                                    "7": "Table_3b03618df7c6458cb362bc5edb705bfb_38",
                                    "8": "2022-07-08 11:48:00.230"
                                },
                                {
                                    "0": "FactFinance100m",
                                    "1": "2",
                                    "2": "1",
                                    "3": "3",
                                    "4": "COMPRESSED",
                                    "5": "333324",
                                    "6": "BULKLOAD",
                                    "7": "Table_3b03618df7c6458cb362bc5edb705bfb_39",
                                    "8": "2022-07-08 11:48:00.257"
                                },
                                {
                                    "0": "FactFinance100m",
                                    "1": "2",
                                    "2": "1",
                                    "3": "3",
                                    "4": "COMPRESSED",
                                    "5": "333324",
                                    "6": "BULKLOAD",
                                    "7": "Table_3b03618df7c6458cb362bc5edb705bfb_40",
                                    "8": "2022-07-08 11:48:00.200"
                                },
                                {
                                    "0": "FactFinance100m",
                                    "1": "2",
                                    "2": "1",
                                    "3": "3",
                                    "4": "COMPRESSED",
                                    "5": "333324",
                                    "6": "BULKLOAD",
                                    "7": "Table_3b03618df7c6458cb362bc5edb705bfb_41",
                                    "8": "2022-07-08 11:48:01.087"
                                },
                                {
                                    "0": "FactFinance100m",
                                    "1": "2",
                                    "2": "1",
                                    "3": "3",
                                    "4": "COMPRESSED",
                                    "5": "333324",
                                    "6": "BULKLOAD",
                                    "7": "Table_3b03618df7c6458cb362bc5edb705bfb_42",
                                    "8": "2022-07-08 11:48:00.203"
                                },
                                {
                                    "0": "FactFinance100m",
                                    "1": "2",
                                    "2": "1",
                                    "3": "3",
                                    "4": "COMPRESSED",
                                    "5": "333324",
                                    "6": "BULKLOAD",
                                    "7": "Table_3b03618df7c6458cb362bc5edb705bfb_43",
                                    "8": "2022-07-08 11:48:00.273"
                                },
                                {
                                    "0": "FactFinance100m",
                                    "1": "2",
                                    "2": "1",
                                    "3": "3",
                                    "4": "COMPRESSED",
                                    "5": "333324",
                                    "6": "BULKLOAD",
                                    "7": "Table_3b03618df7c6458cb362bc5edb705bfb_44",
                                    "8": "2022-07-08 11:48:00.250"
                                },
                                {
                                    "0": "FactFinance100m",
                                    "1": "2",
                                    "2": "1",
                                    "3": "3",
                                    "4": "COMPRESSED",
                                    "5": "333324",
                                    "6": "BULKLOAD",
                                    "7": "Table_3b03618df7c6458cb362bc5edb705bfb_45",
                                    "8": "2022-07-08 11:48:00.223"
                                },
                                {
                                    "0": "FactFinance100m",
                                    "1": "2",
                                    "2": "1",
                                    "3": "3",
                                    "4": "COMPRESSED",
                                    "5": "333324",
                                    "6": "BULKLOAD",
                                    "7": "Table_3b03618df7c6458cb362bc5edb705bfb_46",
                                    "8": "2022-07-08 11:48:00.203"
                                },
                                {
                                    "0": "FactFinance100m",
                                    "1": "2",
                                    "2": "1",
                                    "3": "3",
                                    "4": "COMPRESSED",
                                    "5": "333324",
                                    "6": "BULKLOAD",
                                    "7": "Table_3b03618df7c6458cb362bc5edb705bfb_47",
                                    "8": "2022-07-08 11:48:00.250"
                                },
                                {
                                    "0": "FactFinance100m",
                                    "1": "2",
                                    "2": "1",
                                    "3": "3",
                                    "4": "COMPRESSED",
                                    "5": "333324",
                                    "6": "BULKLOAD",
                                    "7": "Table_3b03618df7c6458cb362bc5edb705bfb_48",
                                    "8": "2022-07-08 11:48:01.027"
                                },
                                {
                                    "0": "FactFinance100m",
                                    "1": "2",
                                    "2": "1",
                                    "3": "3",
                                    "4": "COMPRESSED",
                                    "5": "333324",
                                    "6": "BULKLOAD",
                                    "7": "Table_3b03618df7c6458cb362bc5edb705bfb_49",
                                    "8": "2022-07-08 11:48:00.273"
                                },
                                {
                                    "0": "FactFinance100m",
                                    "1": "2",
                                    "2": "1",
                                    "3": "3",
                                    "4": "COMPRESSED",
                                    "5": "333324",
                                    "6": "BULKLOAD",
                                    "7": "Table_3b03618df7c6458cb362bc5edb705bfb_50",
                                    "8": "2022-07-08 11:48:00.187"
                                },
                                {
                                    "0": "FactFinance100m",
                                    "1": "2",
                                    "2": "1",
                                    "3": "3",
                                    "4": "COMPRESSED",
                                    "5": "333324",
                                    "6": "BULKLOAD",
                                    "7": "Table_3b03618df7c6458cb362bc5edb705bfb_51",
                                    "8": "2022-07-08 11:48:00.277"
                                },
                                {
                                    "0": "FactFinance100m",
                                    "1": "2",
                                    "2": "1",
                                    "3": "3",
                                    "4": "COMPRESSED",
                                    "5": "333324",
                                    "6": "BULKLOAD",
                                    "7": "Table_3b03618df7c6458cb362bc5edb705bfb_52",
                                    "8": "2022-07-08 11:48:00.210"
                                },
                                {
                                    "0": "FactFinance100m",
                                    "1": "2",
                                    "2": "1",
                                    "3": "3",
                                    "4": "COMPRESSED",
                                    "5": "333324",
                                    "6": "BULKLOAD",
                                    "7": "Table_3b03618df7c6458cb362bc5edb705bfb_53",
                                    "8": "2022-07-08 11:48:01.000"
                                },
                                {
                                    "0": "FactFinance100m",
                                    "1": "2",
                                    "2": "1",
                                    "3": "3",
                                    "4": "COMPRESSED",
                                    "5": "333324",
                                    "6": "BULKLOAD",
                                    "7": "Table_3b03618df7c6458cb362bc5edb705bfb_54",
                                    "8": "2022-07-08 11:48:00.210"
                                },
                                {
                                    "0": "FactFinance100m",
                                    "1": "2",
                                    "2": "1",
                                    "3": "3",
                                    "4": "COMPRESSED",
                                    "5": "333324",
                                    "6": "BULKLOAD",
                                    "7": "Table_3b03618df7c6458cb362bc5edb705bfb_55",
                                    "8": "2022-07-08 11:48:01.027"
                                },
                                {
                                    "0": "FactFinance100m",
                                    "1": "2",
                                    "2": "1",
                                    "3": "3",
                                    "4": "COMPRESSED",
                                    "5": "333324",
                                    "6": "BULKLOAD",
                                    "7": "Table_3b03618df7c6458cb362bc5edb705bfb_56",
                                    "8": "2022-07-08 11:48:00.300"
                                },
                                {
                                    "0": "FactFinance100m",
                                    "1": "2",
                                    "2": "1",
                                    "3": "3",
                                    "4": "COMPRESSED",
                                    "5": "333324",
                                    "6": "BULKLOAD",
                                    "7": "Table_3b03618df7c6458cb362bc5edb705bfb_57",
                                    "8": "2022-07-08 11:48:00.237"
                                },
                                {
                                    "0": "FactFinance100m",
                                    "1": "2",
                                    "2": "1",
                                    "3": "3",
                                    "4": "COMPRESSED",
                                    "5": "333324",
                                    "6": "BULKLOAD",
                                    "7": "Table_3b03618df7c6458cb362bc5edb705bfb_58",
                                    "8": "2022-07-08 11:48:00.173"
                                },
                                {
                                    "0": "FactFinance100m",
                                    "1": "2",
                                    "2": "1",
                                    "3": "3",
                                    "4": "COMPRESSED",
                                    "5": "333324",
                                    "6": "BULKLOAD",
                                    "7": "Table_3b03618df7c6458cb362bc5edb705bfb_59",
                                    "8": "2022-07-08 11:48:00.287"
                                },
                                {
                                    "0": "FactFinance100m",
                                    "1": "2",
                                    "2": "1",
                                    "3": "3",
                                    "4": "COMPRESSED",
                                    "5": "333324",
                                    "6": "BULKLOAD",
                                    "7": "Table_3b03618df7c6458cb362bc5edb705bfb_60",
                                    "8": "2022-07-08 11:48:00.200"
                                },
                                {
                                    "0": "FactFinance100m",
                                    "1": "1",
                                    "2": "1",
                                    "3": "3",
                                    "4": "COMPRESSED",
                                    "5": "333324",
                                    "6": "BULKLOAD",
                                    "7": "Table_3b03618df7c6458cb362bc5edb705bfb_1",
                                    "8": "2022-07-08 11:47:19.000"
                                },
                                {
                                    "0": "FactFinance100m",
                                    "1": "1",
                                    "2": "1",
                                    "3": "3",
                                    "4": "COMPRESSED",
                                    "5": "333324",
                                    "6": "BULKLOAD",
                                    "7": "Table_3b03618df7c6458cb362bc5edb705bfb_2",
                                    "8": "2022-07-08 11:47:18.923"
                                },
                                {
                                    "0": "FactFinance100m",
                                    "1": "1",
                                    "2": "1",
                                    "3": "3",
                                    "4": "COMPRESSED",
                                    "5": "333324",
                                    "6": "BULKLOAD",
                                    "7": "Table_3b03618df7c6458cb362bc5edb705bfb_3",
                                    "8": "2022-07-08 11:47:18.907"
                                },
                                {
                                    "0": "FactFinance100m",
                                    "1": "1",
                                    "2": "1",
                                    "3": "3",
                                    "4": "COMPRESSED",
                                    "5": "333324",
                                    "6": "BULKLOAD",
                                    "7": "Table_3b03618df7c6458cb362bc5edb705bfb_4",
                                    "8": "2022-07-08 11:47:19.770"
                                },
                                {
                                    "0": "FactFinance100m",
                                    "1": "1",
                                    "2": "1",
                                    "3": "3",
                                    "4": "COMPRESSED",
                                    "5": "333324",
                                    "6": "BULKLOAD",
                                    "7": "Table_3b03618df7c6458cb362bc5edb705bfb_5",
                                    "8": "2022-07-08 11:47:19.773"
                                },
                                {
                                    "0": "FactFinance100m",
                                    "1": "1",
                                    "2": "1",
                                    "3": "3",
                                    "4": "COMPRESSED",
                                    "5": "333324",
                                    "6": "BULKLOAD",
                                    "7": "Table_3b03618df7c6458cb362bc5edb705bfb_6",
                                    "8": "2022-07-08 11:47:18.953"
                                },
                                {
                                    "0": "FactFinance100m",
                                    "1": "1",
                                    "2": "1",
                                    "3": "3",
                                    "4": "COMPRESSED",
                                    "5": "333324",
                                    "6": "BULKLOAD",
                                    "7": "Table_3b03618df7c6458cb362bc5edb705bfb_7",
                                    "8": "2022-07-08 11:47:18.953"
                                },
                                {
                                    "0": "FactFinance100m",
                                    "1": "1",
                                    "2": "1",
                                    "3": "3",
                                    "4": "COMPRESSED",
                                    "5": "333324",
                                    "6": "BULKLOAD",
                                    "7": "Table_3b03618df7c6458cb362bc5edb705bfb_8",
                                    "8": "2022-07-08 11:47:19.807"
                                },
                                {
                                    "0": "FactFinance100m",
                                    "1": "1",
                                    "2": "1",
                                    "3": "3",
                                    "4": "COMPRESSED",
                                    "5": "333324",
                                    "6": "BULKLOAD",
                                    "7": "Table_3b03618df7c6458cb362bc5edb705bfb_9",
                                    "8": "2022-07-08 11:47:18.913"
                                },
                                {
                                    "0": "FactFinance100m",
                                    "1": "1",
                                    "2": "1",
                                    "3": "3",
                                    "4": "COMPRESSED",
                                    "5": "333324",
                                    "6": "BULKLOAD",
                                    "7": "Table_3b03618df7c6458cb362bc5edb705bfb_10",
                                    "8": "2022-07-08 11:47:18.933"
                                },
                                {
                                    "0": "FactFinance100m",
                                    "1": "1",
                                    "2": "1",
                                    "3": "3",
                                    "4": "COMPRESSED",
                                    "5": "333324",
                                    "6": "BULKLOAD",
                                    "7": "Table_3b03618df7c6458cb362bc5edb705bfb_11",
                                    "8": "2022-07-08 11:47:18.870"
                                },
                                {
                                    "0": "FactFinance100m",
                                    "1": "1",
                                    "2": "1",
                                    "3": "3",
                                    "4": "COMPRESSED",
                                    "5": "333324",
                                    "6": "BULKLOAD",
                                    "7": "Table_3b03618df7c6458cb362bc5edb705bfb_12",
                                    "8": "2022-07-08 11:47:18.877"
                                },
                                {
                                    "0": "FactFinance100m",
                                    "1": "1",
                                    "2": "1",
                                    "3": "3",
                                    "4": "COMPRESSED",
                                    "5": "333324",
                                    "6": "BULKLOAD",
                                    "7": "Table_3b03618df7c6458cb362bc5edb705bfb_13",
                                    "8": "2022-07-08 11:47:18.897"
                                },
                                {
                                    "0": "FactFinance100m",
                                    "1": "1",
                                    "2": "1",
                                    "3": "3",
                                    "4": "COMPRESSED",
                                    "5": "333324",
                                    "6": "BULKLOAD",
                                    "7": "Table_3b03618df7c6458cb362bc5edb705bfb_14",
                                    "8": "2022-07-08 11:47:19.040"
                                },
                                {
                                    "0": "FactFinance100m",
                                    "1": "1",
                                    "2": "1",
                                    "3": "3",
                                    "4": "COMPRESSED",
                                    "5": "333324",
                                    "6": "BULKLOAD",
                                    "7": "Table_3b03618df7c6458cb362bc5edb705bfb_15",
                                    "8": "2022-07-08 11:47:18.907"
                                },
                                {
                                    "0": "FactFinance100m",
                                    "1": "1",
                                    "2": "1",
                                    "3": "3",
                                    "4": "COMPRESSED",
                                    "5": "333324",
                                    "6": "BULKLOAD",
                                    "7": "Table_3b03618df7c6458cb362bc5edb705bfb_16",
                                    "8": "2022-07-08 11:47:18.940"
                                },
                                {
                                    "0": "FactFinance100m",
                                    "1": "1",
                                    "2": "1",
                                    "3": "3",
                                    "4": "COMPRESSED",
                                    "5": "333324",
                                    "6": "BULKLOAD",
                                    "7": "Table_3b03618df7c6458cb362bc5edb705bfb_17",
                                    "8": "2022-07-08 11:47:18.943"
                                },
                                {
                                    "0": "FactFinance100m",
                                    "1": "1",
                                    "2": "1",
                                    "3": "3",
                                    "4": "COMPRESSED",
                                    "5": "333324",
                                    "6": "BULKLOAD",
                                    "7": "Table_3b03618df7c6458cb362bc5edb705bfb_18",
                                    "8": "2022-07-08 11:47:18.937"
                                },
                                {
                                    "0": "FactFinance100m",
                                    "1": "1",
                                    "2": "1",
                                    "3": "3",
                                    "4": "COMPRESSED",
                                    "5": "333884",
                                    "6": "BULKLOAD",
                                    "7": "Table_3b03618df7c6458cb362bc5edb705bfb_19",
                                    "8": "2022-07-08 11:47:18.963"
                                },
                                {
                                    "0": "FactFinance100m",
                                    "1": "1",
                                    "2": "1",
                                    "3": "3",
                                    "4": "COMPRESSED",
                                    "5": "333324",
                                    "6": "BULKLOAD",
                                    "7": "Table_3b03618df7c6458cb362bc5edb705bfb_20",
                                    "8": "2022-07-08 11:47:19.757"
                                },
                                {
                                    "0": "FactFinance100m",
                                    "1": "1",
                                    "2": "1",
                                    "3": "3",
                                    "4": "COMPRESSED",
                                    "5": "333324",
                                    "6": "BULKLOAD",
                                    "7": "Table_3b03618df7c6458cb362bc5edb705bfb_21",
                                    "8": "2022-07-08 11:47:19.757"
                                },
                                {
                                    "0": "FactFinance100m",
                                    "1": "1",
                                    "2": "1",
                                    "3": "3",
                                    "4": "COMPRESSED",
                                    "5": "333324",
                                    "6": "BULKLOAD",
                                    "7": "Table_3b03618df7c6458cb362bc5edb705bfb_22",
                                    "8": "2022-07-08 11:47:19.750"
                                },
                                {
                                    "0": "FactFinance100m",
                                    "1": "1",
                                    "2": "1",
                                    "3": "3",
                                    "4": "COMPRESSED",
                                    "5": "333324",
                                    "6": "BULKLOAD",
                                    "7": "Table_3b03618df7c6458cb362bc5edb705bfb_23",
                                    "8": "2022-07-08 11:47:18.883"
                                },
                                {
                                    "0": "FactFinance100m",
                                    "1": "1",
                                    "2": "1",
                                    "3": "3",
                                    "4": "COMPRESSED",
                                    "5": "333324",
                                    "6": "BULKLOAD",
                                    "7": "Table_3b03618df7c6458cb362bc5edb705bfb_24",
                                    "8": "2022-07-08 11:47:18.873"
                                },
                                {
                                    "0": "FactFinance100m",
                                    "1": "1",
                                    "2": "1",
                                    "3": "3",
                                    "4": "COMPRESSED",
                                    "5": "333324",
                                    "6": "BULKLOAD",
                                    "7": "Table_3b03618df7c6458cb362bc5edb705bfb_25",
                                    "8": "2022-07-08 11:47:18.917"
                                },
                                {
                                    "0": "FactFinance100m",
                                    "1": "1",
                                    "2": "1",
                                    "3": "3",
                                    "4": "COMPRESSED",
                                    "5": "333324",
                                    "6": "BULKLOAD",
                                    "7": "Table_3b03618df7c6458cb362bc5edb705bfb_26",
                                    "8": "2022-07-08 11:47:18.897"
                                },
                                {
                                    "0": "FactFinance100m",
                                    "1": "1",
                                    "2": "1",
                                    "3": "3",
                                    "4": "COMPRESSED",
                                    "5": "333324",
                                    "6": "BULKLOAD",
                                    "7": "Table_3b03618df7c6458cb362bc5edb705bfb_27",
                                    "8": "2022-07-08 11:47:18.930"
                                },
                                {
                                    "0": "FactFinance100m",
                                    "1": "1",
                                    "2": "1",
                                    "3": "3",
                                    "4": "COMPRESSED",
                                    "5": "333324",
                                    "6": "BULKLOAD",
                                    "7": "Table_3b03618df7c6458cb362bc5edb705bfb_28",
                                    "8": "2022-07-08 11:47:18.973"
                                },
                                {
                                    "0": "FactFinance100m",
                                    "1": "1",
                                    "2": "1",
                                    "3": "3",
                                    "4": "COMPRESSED",
                                    "5": "333324",
                                    "6": "BULKLOAD",
                                    "7": "Table_3b03618df7c6458cb362bc5edb705bfb_29",
                                    "8": "2022-07-08 11:47:18.930"
                                },
                                {
                                    "0": "FactFinance100m",
                                    "1": "1",
                                    "2": "1",
                                    "3": "3",
                                    "4": "COMPRESSED",
                                    "5": "333324",
                                    "6": "BULKLOAD",
                                    "7": "Table_3b03618df7c6458cb362bc5edb705bfb_30",
                                    "8": "2022-07-08 11:47:18.850"
                                },
                                {
                                    "0": "FactFinance100m",
                                    "1": "1",
                                    "2": "1",
                                    "3": "3",
                                    "4": "COMPRESSED",
                                    "5": "333324",
                                    "6": "BULKLOAD",
                                    "7": "Table_3b03618df7c6458cb362bc5edb705bfb_31",
                                    "8": "2022-07-08 11:47:19.010"
                                },
                                {
                                    "0": "FactFinance100m",
                                    "1": "1",
                                    "2": "1",
                                    "3": "3",
                                    "4": "COMPRESSED",
                                    "5": "333324",
                                    "6": "BULKLOAD",
                                    "7": "Table_3b03618df7c6458cb362bc5edb705bfb_32",
                                    "8": "2022-07-08 11:47:18.820"
                                },
                                {
                                    "0": "FactFinance100m",
                                    "1": "1",
                                    "2": "1",
                                    "3": "3",
                                    "4": "COMPRESSED",
                                    "5": "333324",
                                    "6": "BULKLOAD",
                                    "7": "Table_3b03618df7c6458cb362bc5edb705bfb_33",
                                    "8": "2022-07-08 11:47:18.920"
                                },
                                {
                                    "0": "FactFinance100m",
                                    "1": "1",
                                    "2": "1",
                                    "3": "3",
                                    "4": "COMPRESSED",
                                    "5": "333324",
                                    "6": "BULKLOAD",
                                    "7": "Table_3b03618df7c6458cb362bc5edb705bfb_34",
                                    "8": "2022-07-08 11:47:18.987"
                                },
                                {
                                    "0": "FactFinance100m",
                                    "1": "1",
                                    "2": "1",
                                    "3": "3",
                                    "4": "COMPRESSED",
                                    "5": "333324",
                                    "6": "BULKLOAD",
                                    "7": "Table_3b03618df7c6458cb362bc5edb705bfb_35",
                                    "8": "2022-07-08 11:47:18.987"
                                },
                                {
                                    "0": "FactFinance100m",
                                    "1": "1",
                                    "2": "1",
                                    "3": "3",
                                    "4": "COMPRESSED",
                                    "5": "333324",
                                    "6": "BULKLOAD",
                                    "7": "Table_3b03618df7c6458cb362bc5edb705bfb_36",
                                    "8": "2022-07-08 11:47:19.680"
                                },
                                {
                                    "0": "FactFinance100m",
                                    "1": "1",
                                    "2": "1",
                                    "3": "3",
                                    "4": "COMPRESSED",
                                    "5": "333324",
                                    "6": "BULKLOAD",
                                    "7": "Table_3b03618df7c6458cb362bc5edb705bfb_37",
                                    "8": "2022-07-08 11:47:18.823"
                                },
                                {
                                    "0": "FactFinance100m",
                                    "1": "1",
                                    "2": "1",
                                    "3": "3",
                                    "4": "COMPRESSED",
                                    "5": "333324",
                                    "6": "BULKLOAD",
                                    "7": "Table_3b03618df7c6458cb362bc5edb705bfb_38",
                                    "8": "2022-07-08 11:47:18.910"
                                },
                                {
                                    "0": "FactFinance100m",
                                    "1": "1",
                                    "2": "1",
                                    "3": "3",
                                    "4": "COMPRESSED",
                                    "5": "333324",
                                    "6": "BULKLOAD",
                                    "7": "Table_3b03618df7c6458cb362bc5edb705bfb_39",
                                    "8": "2022-07-08 11:47:18.993"
                                },
                                {
                                    "0": "FactFinance100m",
                                    "1": "1",
                                    "2": "1",
                                    "3": "3",
                                    "4": "COMPRESSED",
                                    "5": "333324",
                                    "6": "BULKLOAD",
                                    "7": "Table_3b03618df7c6458cb362bc5edb705bfb_40",
                                    "8": "2022-07-08 11:47:18.870"
                                },
                                {
                                    "0": "FactFinance100m",
                                    "1": "1",
                                    "2": "1",
                                    "3": "3",
                                    "4": "COMPRESSED",
                                    "5": "333324",
                                    "6": "BULKLOAD",
                                    "7": "Table_3b03618df7c6458cb362bc5edb705bfb_41",
                                    "8": "2022-07-08 11:47:19.003"
                                },
                                {
                                    "0": "FactFinance100m",
                                    "1": "1",
                                    "2": "1",
                                    "3": "3",
                                    "4": "COMPRESSED",
                                    "5": "333324",
                                    "6": "BULKLOAD",
                                    "7": "Table_3b03618df7c6458cb362bc5edb705bfb_42",
                                    "8": "2022-07-08 11:47:18.940"
                                },
                                {
                                    "0": "FactFinance100m",
                                    "1": "1",
                                    "2": "1",
                                    "3": "3",
                                    "4": "COMPRESSED",
                                    "5": "333324",
                                    "6": "BULKLOAD",
                                    "7": "Table_3b03618df7c6458cb362bc5edb705bfb_43",
                                    "8": "2022-07-08 11:47:19.033"
                                },
                                {
                                    "0": "FactFinance100m",
                                    "1": "1",
                                    "2": "1",
                                    "3": "3",
                                    "4": "COMPRESSED",
                                    "5": "333324",
                                    "6": "BULKLOAD",
                                    "7": "Table_3b03618df7c6458cb362bc5edb705bfb_44",
                                    "8": "2022-07-08 11:47:19.050"
                                },
                                {
                                    "0": "FactFinance100m",
                                    "1": "1",
                                    "2": "1",
                                    "3": "3",
                                    "4": "COMPRESSED",
                                    "5": "333324",
                                    "6": "BULKLOAD",
                                    "7": "Table_3b03618df7c6458cb362bc5edb705bfb_45",
                                    "8": "2022-07-08 11:47:19.020"
                                },
                                {
                                    "0": "FactFinance100m",
                                    "1": "1",
                                    "2": "1",
                                    "3": "3",
                                    "4": "COMPRESSED",
                                    "5": "333324",
                                    "6": "BULKLOAD",
                                    "7": "Table_3b03618df7c6458cb362bc5edb705bfb_46",
                                    "8": "2022-07-08 11:47:18.897"
                                },
                                {
                                    "0": "FactFinance100m",
                                    "1": "1",
                                    "2": "1",
                                    "3": "3",
                                    "4": "COMPRESSED",
                                    "5": "333324",
                                    "6": "BULKLOAD",
                                    "7": "Table_3b03618df7c6458cb362bc5edb705bfb_47",
                                    "8": "2022-07-08 11:47:18.903"
                                },
                                {
                                    "0": "FactFinance100m",
                                    "1": "1",
                                    "2": "1",
                                    "3": "3",
                                    "4": "COMPRESSED",
                                    "5": "333324",
                                    "6": "BULKLOAD",
                                    "7": "Table_3b03618df7c6458cb362bc5edb705bfb_48",
                                    "8": "2022-07-08 11:47:19.667"
                                },
                                {
                                    "0": "FactFinance100m",
                                    "1": "1",
                                    "2": "1",
                                    "3": "3",
                                    "4": "COMPRESSED",
                                    "5": "333324",
                                    "6": "BULKLOAD",
                                    "7": "Table_3b03618df7c6458cb362bc5edb705bfb_49",
                                    "8": "2022-07-08 11:47:19.007"
                                },
                                {
                                    "0": "FactFinance100m",
                                    "1": "1",
                                    "2": "1",
                                    "3": "3",
                                    "4": "COMPRESSED",
                                    "5": "333324",
                                    "6": "BULKLOAD",
                                    "7": "Table_3b03618df7c6458cb362bc5edb705bfb_50",
                                    "8": "2022-07-08 11:47:19.060"
                                },
                                {
                                    "0": "FactFinance100m",
                                    "1": "1",
                                    "2": "1",
                                    "3": "3",
                                    "4": "COMPRESSED",
                                    "5": "333324",
                                    "6": "BULKLOAD",
                                    "7": "Table_3b03618df7c6458cb362bc5edb705bfb_51",
                                    "8": "2022-07-08 11:47:19.030"
                                },
                                {
                                    "0": "FactFinance100m",
                                    "1": "1",
                                    "2": "1",
                                    "3": "3",
                                    "4": "COMPRESSED",
                                    "5": "333324",
                                    "6": "BULKLOAD",
                                    "7": "Table_3b03618df7c6458cb362bc5edb705bfb_52",
                                    "8": "2022-07-08 11:47:18.947"
                                },
                                {
                                    "0": "FactFinance100m",
                                    "1": "1",
                                    "2": "1",
                                    "3": "3",
                                    "4": "COMPRESSED",
                                    "5": "333324",
                                    "6": "BULKLOAD",
                                    "7": "Table_3b03618df7c6458cb362bc5edb705bfb_53",
                                    "8": "2022-07-08 11:47:18.870"
                                },
                                {
                                    "0": "FactFinance100m",
                                    "1": "1",
                                    "2": "1",
                                    "3": "3",
                                    "4": "COMPRESSED",
                                    "5": "333324",
                                    "6": "BULKLOAD",
                                    "7": "Table_3b03618df7c6458cb362bc5edb705bfb_54",
                                    "8": "2022-07-08 11:47:18.993"
                                },
                                {
                                    "0": "FactFinance100m",
                                    "1": "1",
                                    "2": "1",
                                    "3": "3",
                                    "4": "COMPRESSED",
                                    "5": "333324",
                                    "6": "BULKLOAD",
                                    "7": "Table_3b03618df7c6458cb362bc5edb705bfb_55",
                                    "8": "2022-07-08 11:47:18.820"
                                },
                                {
                                    "0": "FactFinance100m",
                                    "1": "1",
                                    "2": "1",
                                    "3": "3",
                                    "4": "COMPRESSED",
                                    "5": "333324",
                                    "6": "BULKLOAD",
                                    "7": "Table_3b03618df7c6458cb362bc5edb705bfb_56",
                                    "8": "2022-07-08 11:47:19.050"
                                },
                                {
                                    "0": "FactFinance100m",
                                    "1": "1",
                                    "2": "1",
                                    "3": "3",
                                    "4": "COMPRESSED",
                                    "5": "333324",
                                    "6": "BULKLOAD",
                                    "7": "Table_3b03618df7c6458cb362bc5edb705bfb_57",
                                    "8": "2022-07-08 11:47:18.947"
                                },
                                {
                                    "0": "FactFinance100m",
                                    "1": "1",
                                    "2": "1",
                                    "3": "3",
                                    "4": "COMPRESSED",
                                    "5": "333324",
                                    "6": "BULKLOAD",
                                    "7": "Table_3b03618df7c6458cb362bc5edb705bfb_58",
                                    "8": "2022-07-08 11:47:18.940"
                                },
                                {
                                    "0": "FactFinance100m",
                                    "1": "1",
                                    "2": "1",
                                    "3": "3",
                                    "4": "COMPRESSED",
                                    "5": "333324",
                                    "6": "BULKLOAD",
                                    "7": "Table_3b03618df7c6458cb362bc5edb705bfb_59",
                                    "8": "2022-07-08 11:47:19.020"
                                },
                                {
                                    "0": "FactFinance100m",
                                    "1": "1",
                                    "2": "1",
                                    "3": "3",
                                    "4": "COMPRESSED",
                                    "5": "333324",
                                    "6": "BULKLOAD",
                                    "7": "Table_3b03618df7c6458cb362bc5edb705bfb_60",
                                    "8": "2022-07-08 11:47:18.960"
                                },
                                {
                                    "0": "FactFinance100m",
                                    "1": "0",
                                    "2": "1",
                                    "3": "3",
                                    "4": "COMPRESSED",
                                    "5": "333324",
                                    "6": "BULKLOAD",
                                    "7": "Table_3b03618df7c6458cb362bc5edb705bfb_1",
                                    "8": "2022-07-08 11:46:35.730"
                                },
                                {
                                    "0": "FactFinance100m",
                                    "1": "0",
                                    "2": "1",
                                    "3": "3",
                                    "4": "COMPRESSED",
                                    "5": "333324",
                                    "6": "BULKLOAD",
                                    "7": "Table_3b03618df7c6458cb362bc5edb705bfb_2",
                                    "8": "2022-07-08 11:46:35.780"
                                },
                                {
                                    "0": "FactFinance100m",
                                    "1": "0",
                                    "2": "1",
                                    "3": "3",
                                    "4": "COMPRESSED",
                                    "5": "333324",
                                    "6": "BULKLOAD",
                                    "7": "Table_3b03618df7c6458cb362bc5edb705bfb_3",
                                    "8": "2022-07-08 11:46:36.693"
                                },
                                {
                                    "0": "FactFinance100m",
                                    "1": "0",
                                    "2": "1",
                                    "3": "3",
                                    "4": "COMPRESSED",
                                    "5": "333324",
                                    "6": "BULKLOAD",
                                    "7": "Table_3b03618df7c6458cb362bc5edb705bfb_4",
                                    "8": "2022-07-08 11:46:35.727"
                                },
                                {
                                    "0": "FactFinance100m",
                                    "1": "0",
                                    "2": "1",
                                    "3": "3",
                                    "4": "COMPRESSED",
                                    "5": "333324",
                                    "6": "BULKLOAD",
                                    "7": "Table_3b03618df7c6458cb362bc5edb705bfb_5",
                                    "8": "2022-07-08 11:46:35.770"
                                },
                                {
                                    "0": "FactFinance100m",
                                    "1": "0",
                                    "2": "1",
                                    "3": "3",
                                    "4": "COMPRESSED",
                                    "5": "333324",
                                    "6": "BULKLOAD",
                                    "7": "Table_3b03618df7c6458cb362bc5edb705bfb_6",
                                    "8": "2022-07-08 11:46:36.633"
                                },
                                {
                                    "0": "FactFinance100m",
                                    "1": "0",
                                    "2": "1",
                                    "3": "3",
                                    "4": "COMPRESSED",
                                    "5": "333324",
                                    "6": "BULKLOAD",
                                    "7": "Table_3b03618df7c6458cb362bc5edb705bfb_7",
                                    "8": "2022-07-08 11:46:35.740"
                                },
                                {
                                    "0": "FactFinance100m",
                                    "1": "0",
                                    "2": "1",
                                    "3": "3",
                                    "4": "COMPRESSED",
                                    "5": "333324",
                                    "6": "BULKLOAD",
                                    "7": "Table_3b03618df7c6458cb362bc5edb705bfb_8",
                                    "8": "2022-07-08 11:46:35.743"
                                },
                                {
                                    "0": "FactFinance100m",
                                    "1": "0",
                                    "2": "1",
                                    "3": "3",
                                    "4": "COMPRESSED",
                                    "5": "333324",
                                    "6": "BULKLOAD",
                                    "7": "Table_3b03618df7c6458cb362bc5edb705bfb_9",
                                    "8": "2022-07-08 11:46:35.767"
                                },
                                {
                                    "0": "FactFinance100m",
                                    "1": "0",
                                    "2": "1",
                                    "3": "3",
                                    "4": "COMPRESSED",
                                    "5": "333324",
                                    "6": "BULKLOAD",
                                    "7": "Table_3b03618df7c6458cb362bc5edb705bfb_10",
                                    "8": "2022-07-08 11:46:35.790"
                                },
                                {
                                    "0": "FactFinance100m",
                                    "1": "0",
                                    "2": "1",
                                    "3": "3",
                                    "4": "COMPRESSED",
                                    "5": "333324",
                                    "6": "BULKLOAD",
                                    "7": "Table_3b03618df7c6458cb362bc5edb705bfb_11",
                                    "8": "2022-07-08 11:46:36.693"
                                },
                                {
                                    "0": "FactFinance100m",
                                    "1": "0",
                                    "2": "1",
                                    "3": "3",
                                    "4": "COMPRESSED",
                                    "5": "333324",
                                    "6": "BULKLOAD",
                                    "7": "Table_3b03618df7c6458cb362bc5edb705bfb_12",
                                    "8": "2022-07-08 11:46:35.807"
                                },
                                {
                                    "0": "FactFinance100m",
                                    "1": "0",
                                    "2": "1",
                                    "3": "3",
                                    "4": "COMPRESSED",
                                    "5": "333324",
                                    "6": "BULKLOAD",
                                    "7": "Table_3b03618df7c6458cb362bc5edb705bfb_13",
                                    "8": "2022-07-08 11:46:35.760"
                                },
                                {
                                    "0": "FactFinance100m",
                                    "1": "0",
                                    "2": "1",
                                    "3": "3",
                                    "4": "COMPRESSED",
                                    "5": "333324",
                                    "6": "BULKLOAD",
                                    "7": "Table_3b03618df7c6458cb362bc5edb705bfb_14",
                                    "8": "2022-07-08 11:46:36.700"
                                },
                                {
                                    "0": "FactFinance100m",
                                    "1": "0",
                                    "2": "1",
                                    "3": "3",
                                    "4": "COMPRESSED",
                                    "5": "333324",
                                    "6": "BULKLOAD",
                                    "7": "Table_3b03618df7c6458cb362bc5edb705bfb_15",
                                    "8": "2022-07-08 11:46:35.747"
                                },
                                {
                                    "0": "FactFinance100m",
                                    "1": "0",
                                    "2": "1",
                                    "3": "3",
                                    "4": "COMPRESSED",
                                    "5": "333324",
                                    "6": "BULKLOAD",
                                    "7": "Table_3b03618df7c6458cb362bc5edb705bfb_16",
                                    "8": "2022-07-08 11:46:35.750"
                                },
                                {
                                    "0": "FactFinance100m",
                                    "1": "0",
                                    "2": "1",
                                    "3": "3",
                                    "4": "COMPRESSED",
                                    "5": "333324",
                                    "6": "BULKLOAD",
                                    "7": "Table_3b03618df7c6458cb362bc5edb705bfb_17",
                                    "8": "2022-07-08 11:46:35.717"
                                },
                                {
                                    "0": "FactFinance100m",
                                    "1": "0",
                                    "2": "1",
                                    "3": "3",
                                    "4": "COMPRESSED",
                                    "5": "333324",
                                    "6": "BULKLOAD",
                                    "7": "Table_3b03618df7c6458cb362bc5edb705bfb_18",
                                    "8": "2022-07-08 11:46:35.750"
                                },
                                {
                                    "0": "FactFinance100m",
                                    "1": "0",
                                    "2": "1",
                                    "3": "3",
                                    "4": "COMPRESSED",
                                    "5": "333324",
                                    "6": "BULKLOAD",
                                    "7": "Table_3b03618df7c6458cb362bc5edb705bfb_19",
                                    "8": "2022-07-08 11:46:36.637"
                                },
                                {
                                    "0": "FactFinance100m",
                                    "1": "0",
                                    "2": "1",
                                    "3": "3",
                                    "4": "COMPRESSED",
                                    "5": "333324",
                                    "6": "BULKLOAD",
                                    "7": "Table_3b03618df7c6458cb362bc5edb705bfb_20",
                                    "8": "2022-07-08 11:46:36.607"
                                },
                                {
                                    "0": "FactFinance100m",
                                    "1": "0",
                                    "2": "1",
                                    "3": "3",
                                    "4": "COMPRESSED",
                                    "5": "333324",
                                    "6": "BULKLOAD",
                                    "7": "Table_3b03618df7c6458cb362bc5edb705bfb_21",
                                    "8": "2022-07-08 11:46:35.733"
                                },
                                {
                                    "0": "FactFinance100m",
                                    "1": "0",
                                    "2": "1",
                                    "3": "3",
                                    "4": "COMPRESSED",
                                    "5": "333324",
                                    "6": "BULKLOAD",
                                    "7": "Table_3b03618df7c6458cb362bc5edb705bfb_22",
                                    "8": "2022-07-08 11:46:35.780"
                                },
                                {
                                    "0": "FactFinance100m",
                                    "1": "0",
                                    "2": "1",
                                    "3": "3",
                                    "4": "COMPRESSED",
                                    "5": "333324",
                                    "6": "BULKLOAD",
                                    "7": "Table_3b03618df7c6458cb362bc5edb705bfb_23",
                                    "8": "2022-07-08 11:46:36.687"
                                },
                                {
                                    "0": "FactFinance100m",
                                    "1": "0",
                                    "2": "1",
                                    "3": "3",
                                    "4": "COMPRESSED",
                                    "5": "333324",
                                    "6": "BULKLOAD",
                                    "7": "Table_3b03618df7c6458cb362bc5edb705bfb_24",
                                    "8": "2022-07-08 11:46:35.770"
                                },
                                {
                                    "0": "FactFinance100m",
                                    "1": "0",
                                    "2": "1",
                                    "3": "3",
                                    "4": "COMPRESSED",
                                    "5": "333324",
                                    "6": "BULKLOAD",
                                    "7": "Table_3b03618df7c6458cb362bc5edb705bfb_25",
                                    "8": "2022-07-08 11:46:35.787"
                                },
                                {
                                    "0": "FactFinance100m",
                                    "1": "0",
                                    "2": "1",
                                    "3": "3",
                                    "4": "COMPRESSED",
                                    "5": "333324",
                                    "6": "BULKLOAD",
                                    "7": "Table_3b03618df7c6458cb362bc5edb705bfb_26",
                                    "8": "2022-07-08 11:46:36.653"
                                },
                                {
                                    "0": "FactFinance100m",
                                    "1": "0",
                                    "2": "1",
                                    "3": "3",
                                    "4": "COMPRESSED",
                                    "5": "333324",
                                    "6": "BULKLOAD",
                                    "7": "Table_3b03618df7c6458cb362bc5edb705bfb_27",
                                    "8": "2022-07-08 11:46:36.610"
                                },
                                {
                                    "0": "FactFinance100m",
                                    "1": "0",
                                    "2": "1",
                                    "3": "3",
                                    "4": "COMPRESSED",
                                    "5": "333324",
                                    "6": "BULKLOAD",
                                    "7": "Table_3b03618df7c6458cb362bc5edb705bfb_28",
                                    "8": "2022-07-08 11:46:35.760"
                                },
                                {
                                    "0": "FactFinance100m",
                                    "1": "0",
                                    "2": "1",
                                    "3": "3",
                                    "4": "COMPRESSED",
                                    "5": "333324",
                                    "6": "BULKLOAD",
                                    "7": "Table_3b03618df7c6458cb362bc5edb705bfb_29",
                                    "8": "2022-07-08 11:46:35.697"
                                },
                                {
                                    "0": "FactFinance100m",
                                    "1": "0",
                                    "2": "1",
                                    "3": "3",
                                    "4": "COMPRESSED",
                                    "5": "333324",
                                    "6": "BULKLOAD",
                                    "7": "Table_3b03618df7c6458cb362bc5edb705bfb_30",
                                    "8": "2022-07-08 11:46:36.667"
                                },
                                {
                                    "0": "FactFinance100m",
                                    "1": "0",
                                    "2": "1",
                                    "3": "3",
                                    "4": "COMPRESSED",
                                    "5": "333324",
                                    "6": "BULKLOAD",
                                    "7": "Table_3b03618df7c6458cb362bc5edb705bfb_31",
                                    "8": "2022-07-08 11:46:35.820"
                                },
                                {
                                    "0": "FactFinance100m",
                                    "1": "0",
                                    "2": "1",
                                    "3": "3",
                                    "4": "COMPRESSED",
                                    "5": "333324",
                                    "6": "BULKLOAD",
                                    "7": "Table_3b03618df7c6458cb362bc5edb705bfb_32",
                                    "8": "2022-07-08 11:46:35.710"
                                },
                                {
                                    "0": "FactFinance100m",
                                    "1": "0",
                                    "2": "1",
                                    "3": "3",
                                    "4": "COMPRESSED",
                                    "5": "333324",
                                    "6": "BULKLOAD",
                                    "7": "Table_3b03618df7c6458cb362bc5edb705bfb_33",
                                    "8": "2022-07-08 11:46:36.627"
                                },
                                {
                                    "0": "FactFinance100m",
                                    "1": "0",
                                    "2": "1",
                                    "3": "3",
                                    "4": "COMPRESSED",
                                    "5": "333324",
                                    "6": "BULKLOAD",
                                    "7": "Table_3b03618df7c6458cb362bc5edb705bfb_34",
                                    "8": "2022-07-08 11:46:35.843"
                                },
                                {
                                    "0": "FactFinance100m",
                                    "1": "0",
                                    "2": "1",
                                    "3": "3",
                                    "4": "COMPRESSED",
                                    "5": "333324",
                                    "6": "BULKLOAD",
                                    "7": "Table_3b03618df7c6458cb362bc5edb705bfb_35",
                                    "8": "2022-07-08 11:46:36.577"
                                },
                                {
                                    "0": "FactFinance100m",
                                    "1": "0",
                                    "2": "1",
                                    "3": "3",
                                    "4": "COMPRESSED",
                                    "5": "333324",
                                    "6": "BULKLOAD",
                                    "7": "Table_3b03618df7c6458cb362bc5edb705bfb_36",
                                    "8": "2022-07-08 11:46:35.710"
                                },
                                {
                                    "0": "FactFinance100m",
                                    "1": "0",
                                    "2": "1",
                                    "3": "3",
                                    "4": "COMPRESSED",
                                    "5": "333324",
                                    "6": "BULKLOAD",
                                    "7": "Table_3b03618df7c6458cb362bc5edb705bfb_37",
                                    "8": "2022-07-08 11:46:35.727"
                                },
                                {
                                    "0": "FactFinance100m",
                                    "1": "0",
                                    "2": "1",
                                    "3": "3",
                                    "4": "COMPRESSED",
                                    "5": "333324",
                                    "6": "BULKLOAD",
                                    "7": "Table_3b03618df7c6458cb362bc5edb705bfb_38",
                                    "8": "2022-07-08 11:46:36.617"
                                },
                                {
                                    "0": "FactFinance100m",
                                    "1": "0",
                                    "2": "1",
                                    "3": "3",
                                    "4": "COMPRESSED",
                                    "5": "333324",
                                    "6": "BULKLOAD",
                                    "7": "Table_3b03618df7c6458cb362bc5edb705bfb_39",
                                    "8": "2022-07-08 11:46:35.803"
                                },
                                {
                                    "0": "FactFinance100m",
                                    "1": "0",
                                    "2": "1",
                                    "3": "3",
                                    "4": "COMPRESSED",
                                    "5": "333324",
                                    "6": "BULKLOAD",
                                    "7": "Table_3b03618df7c6458cb362bc5edb705bfb_40",
                                    "8": "2022-07-08 11:46:36.663"
                                },
                                {
                                    "0": "FactFinance100m",
                                    "1": "0",
                                    "2": "1",
                                    "3": "3",
                                    "4": "COMPRESSED",
                                    "5": "333324",
                                    "6": "BULKLOAD",
                                    "7": "Table_3b03618df7c6458cb362bc5edb705bfb_41",
                                    "8": "2022-07-08 11:46:35.777"
                                },
                                {
                                    "0": "FactFinance100m",
                                    "1": "0",
                                    "2": "1",
                                    "3": "3",
                                    "4": "COMPRESSED",
                                    "5": "333324",
                                    "6": "BULKLOAD",
                                    "7": "Table_3b03618df7c6458cb362bc5edb705bfb_42",
                                    "8": "2022-07-08 11:46:36.627"
                                },
                                {
                                    "0": "FactFinance100m",
                                    "1": "0",
                                    "2": "1",
                                    "3": "3",
                                    "4": "COMPRESSED",
                                    "5": "333324",
                                    "6": "BULKLOAD",
                                    "7": "Table_3b03618df7c6458cb362bc5edb705bfb_43",
                                    "8": "2022-07-08 11:46:35.780"
                                },
                                {
                                    "0": "FactFinance100m",
                                    "1": "0",
                                    "2": "1",
                                    "3": "3",
                                    "4": "COMPRESSED",
                                    "5": "333324",
                                    "6": "BULKLOAD",
                                    "7": "Table_3b03618df7c6458cb362bc5edb705bfb_44",
                                    "8": "2022-07-08 11:46:36.657"
                                },
                                {
                                    "0": "FactFinance100m",
                                    "1": "0",
                                    "2": "1",
                                    "3": "3",
                                    "4": "COMPRESSED",
                                    "5": "333324",
                                    "6": "BULKLOAD",
                                    "7": "Table_3b03618df7c6458cb362bc5edb705bfb_45",
                                    "8": "2022-07-08 11:46:35.787"
                                },
                                {
                                    "0": "FactFinance100m",
                                    "1": "0",
                                    "2": "1",
                                    "3": "3",
                                    "4": "COMPRESSED",
                                    "5": "333884",
                                    "6": "BULKLOAD",
                                    "7": "Table_3b03618df7c6458cb362bc5edb705bfb_46",
                                    "8": "2022-07-08 11:46:36.650"
                                },
                                {
                                    "0": "FactFinance100m",
                                    "1": "0",
                                    "2": "1",
                                    "3": "3",
                                    "4": "COMPRESSED",
                                    "5": "333324",
                                    "6": "BULKLOAD",
                                    "7": "Table_3b03618df7c6458cb362bc5edb705bfb_47",
                                    "8": "2022-07-08 11:46:36.687"
                                },
                                {
                                    "0": "FactFinance100m",
                                    "1": "0",
                                    "2": "1",
                                    "3": "3",
                                    "4": "COMPRESSED",
                                    "5": "333324",
                                    "6": "BULKLOAD",
                                    "7": "Table_3b03618df7c6458cb362bc5edb705bfb_48",
                                    "8": "2022-07-08 11:46:36.680"
                                },
                                {
                                    "0": "FactFinance100m",
                                    "1": "0",
                                    "2": "1",
                                    "3": "3",
                                    "4": "COMPRESSED",
                                    "5": "333324",
                                    "6": "BULKLOAD",
                                    "7": "Table_3b03618df7c6458cb362bc5edb705bfb_49",
                                    "8": "2022-07-08 11:46:35.853"
                                },
                                {
                                    "0": "FactFinance100m",
                                    "1": "0",
                                    "2": "1",
                                    "3": "3",
                                    "4": "COMPRESSED",
                                    "5": "333324",
                                    "6": "BULKLOAD",
                                    "7": "Table_3b03618df7c6458cb362bc5edb705bfb_50",
                                    "8": "2022-07-08 11:46:35.813"
                                },
                                {
                                    "0": "FactFinance100m",
                                    "1": "0",
                                    "2": "1",
                                    "3": "3",
                                    "4": "COMPRESSED",
                                    "5": "333324",
                                    "6": "BULKLOAD",
                                    "7": "Table_3b03618df7c6458cb362bc5edb705bfb_51",
                                    "8": "2022-07-08 11:46:35.750"
                                },
                                {
                                    "0": "FactFinance100m",
                                    "1": "0",
                                    "2": "1",
                                    "3": "3",
                                    "4": "COMPRESSED",
                                    "5": "333324",
                                    "6": "BULKLOAD",
                                    "7": "Table_3b03618df7c6458cb362bc5edb705bfb_52",
                                    "8": "2022-07-08 11:46:35.740"
                                },
                                {
                                    "0": "FactFinance100m",
                                    "1": "0",
                                    "2": "1",
                                    "3": "3",
                                    "4": "COMPRESSED",
                                    "5": "333324",
                                    "6": "BULKLOAD",
                                    "7": "Table_3b03618df7c6458cb362bc5edb705bfb_53",
                                    "8": "2022-07-08 11:46:35.700"
                                },
                                {
                                    "0": "FactFinance100m",
                                    "1": "0",
                                    "2": "1",
                                    "3": "3",
                                    "4": "COMPRESSED",
                                    "5": "333324",
                                    "6": "BULKLOAD",
                                    "7": "Table_3b03618df7c6458cb362bc5edb705bfb_54",
                                    "8": "2022-07-08 11:46:35.850"
                                },
                                {
                                    "0": "FactFinance100m",
                                    "1": "0",
                                    "2": "1",
                                    "3": "3",
                                    "4": "COMPRESSED",
                                    "5": "333324",
                                    "6": "BULKLOAD",
                                    "7": "Table_3b03618df7c6458cb362bc5edb705bfb_55",
                                    "8": "2022-07-08 11:46:36.627"
                                },
                                {
                                    "0": "FactFinance100m",
                                    "1": "0",
                                    "2": "1",
                                    "3": "3",
                                    "4": "COMPRESSED",
                                    "5": "333324",
                                    "6": "BULKLOAD",
                                    "7": "Table_3b03618df7c6458cb362bc5edb705bfb_56",
                                    "8": "2022-07-08 11:46:36.640"
                                },
                                {
                                    "0": "FactFinance100m",
                                    "1": "0",
                                    "2": "1",
                                    "3": "3",
                                    "4": "COMPRESSED",
                                    "5": "333324",
                                    "6": "BULKLOAD",
                                    "7": "Table_3b03618df7c6458cb362bc5edb705bfb_57",
                                    "8": "2022-07-08 11:46:36.123"
                                },
                                {
                                    "0": "FactFinance100m",
                                    "1": "0",
                                    "2": "1",
                                    "3": "3",
                                    "4": "COMPRESSED",
                                    "5": "333324",
                                    "6": "BULKLOAD",
                                    "7": "Table_3b03618df7c6458cb362bc5edb705bfb_58",
                                    "8": "2022-07-08 11:46:36.660"
                                },
                                {
                                    "0": "FactFinance100m",
                                    "1": "0",
                                    "2": "1",
                                    "3": "3",
                                    "4": "COMPRESSED",
                                    "5": "333324",
                                    "6": "BULKLOAD",
                                    "7": "Table_3b03618df7c6458cb362bc5edb705bfb_59",
                                    "8": "2022-07-08 11:46:35.760"
                                },
                                {
                                    "0": "FactFinance100m",
                                    "1": "0",
                                    "2": "1",
                                    "3": "3",
                                    "4": "COMPRESSED",
                                    "5": "333324",
                                    "6": "BULKLOAD",
                                    "7": "Table_3b03618df7c6458cb362bc5edb705bfb_60",
                                    "8": "2022-07-08 11:46:35.793"
                                }
                            ]
                        },
                        "text/html": "<table><tr><th>logical_table_name</th><th>row_group_id</th><th>partition_number</th><th>state</th><th>state_desc</th><th>total_rows</th><th>trim_reason_desc</th><th>physical_name</th><th>created_time</th></tr><tr><td>FactFinance100m</td><td>5</td><td>1</td><td>3</td><td>COMPRESSED</td><td>333324</td><td>BULKLOAD</td><td>Table_3b03618df7c6458cb362bc5edb705bfb_1</td><td>2022-07-08 11:50:02.537</td></tr><tr><td>FactFinance100m</td><td>5</td><td>1</td><td>3</td><td>COMPRESSED</td><td>333324</td><td>BULKLOAD</td><td>Table_3b03618df7c6458cb362bc5edb705bfb_2</td><td>2022-07-08 11:50:03.283</td></tr><tr><td>FactFinance100m</td><td>5</td><td>1</td><td>3</td><td>COMPRESSED</td><td>333324</td><td>BULKLOAD</td><td>Table_3b03618df7c6458cb362bc5edb705bfb_3</td><td>2022-07-08 11:50:02.487</td></tr><tr><td>FactFinance100m</td><td>5</td><td>1</td><td>3</td><td>COMPRESSED</td><td>333324</td><td>BULKLOAD</td><td>Table_3b03618df7c6458cb362bc5edb705bfb_4</td><td>2022-07-08 11:50:04.167</td></tr><tr><td>FactFinance100m</td><td>5</td><td>1</td><td>3</td><td>COMPRESSED</td><td>333324</td><td>BULKLOAD</td><td>Table_3b03618df7c6458cb362bc5edb705bfb_5</td><td>2022-07-08 11:50:04.200</td></tr><tr><td>FactFinance100m</td><td>5</td><td>1</td><td>3</td><td>COMPRESSED</td><td>333324</td><td>BULKLOAD</td><td>Table_3b03618df7c6458cb362bc5edb705bfb_6</td><td>2022-07-08 11:50:02.567</td></tr><tr><td>FactFinance100m</td><td>5</td><td>1</td><td>3</td><td>COMPRESSED</td><td>333324</td><td>BULKLOAD</td><td>Table_3b03618df7c6458cb362bc5edb705bfb_7</td><td>2022-07-08 11:50:02.573</td></tr><tr><td>FactFinance100m</td><td>5</td><td>1</td><td>3</td><td>COMPRESSED</td><td>333324</td><td>BULKLOAD</td><td>Table_3b03618df7c6458cb362bc5edb705bfb_8</td><td>2022-07-08 11:50:04.197</td></tr><tr><td>FactFinance100m</td><td>5</td><td>1</td><td>3</td><td>COMPRESSED</td><td>333324</td><td>BULKLOAD</td><td>Table_3b03618df7c6458cb362bc5edb705bfb_9</td><td>2022-07-08 11:50:02.550</td></tr><tr><td>FactFinance100m</td><td>5</td><td>1</td><td>3</td><td>COMPRESSED</td><td>333324</td><td>BULKLOAD</td><td>Table_3b03618df7c6458cb362bc5edb705bfb_10</td><td>2022-07-08 11:50:02.560</td></tr><tr><td>FactFinance100m</td><td>5</td><td>1</td><td>3</td><td>COMPRESSED</td><td>333324</td><td>BULKLOAD</td><td>Table_3b03618df7c6458cb362bc5edb705bfb_11</td><td>2022-07-08 11:50:02.470</td></tr><tr><td>FactFinance100m</td><td>5</td><td>1</td><td>3</td><td>COMPRESSED</td><td>333324</td><td>BULKLOAD</td><td>Table_3b03618df7c6458cb362bc5edb705bfb_12</td><td>2022-07-08 11:50:02.533</td></tr><tr><td>FactFinance100m</td><td>5</td><td>1</td><td>3</td><td>COMPRESSED</td><td>333324</td><td>BULKLOAD</td><td>Table_3b03618df7c6458cb362bc5edb705bfb_13</td><td>2022-07-08 11:50:02.563</td></tr><tr><td>FactFinance100m</td><td>5</td><td>1</td><td>3</td><td>COMPRESSED</td><td>333324</td><td>BULKLOAD</td><td>Table_3b03618df7c6458cb362bc5edb705bfb_14</td><td>2022-07-08 11:50:02.573</td></tr><tr><td>FactFinance100m</td><td>5</td><td>1</td><td>3</td><td>COMPRESSED</td><td>333324</td><td>BULKLOAD</td><td>Table_3b03618df7c6458cb362bc5edb705bfb_15</td><td>2022-07-08 11:50:04.150</td></tr><tr><td>FactFinance100m</td><td>5</td><td>1</td><td>3</td><td>COMPRESSED</td><td>333324</td><td>BULKLOAD</td><td>Table_3b03618df7c6458cb362bc5edb705bfb_16</td><td>2022-07-08 11:50:02.567</td></tr><tr><td>FactFinance100m</td><td>5</td><td>1</td><td>3</td><td>COMPRESSED</td><td>333324</td><td>BULKLOAD</td><td>Table_3b03618df7c6458cb362bc5edb705bfb_17</td><td>2022-07-08 11:50:02.610</td></tr><tr><td>FactFinance100m</td><td>5</td><td>1</td><td>3</td><td>COMPRESSED</td><td>333324</td><td>BULKLOAD</td><td>Table_3b03618df7c6458cb362bc5edb705bfb_18</td><td>2022-07-08 11:50:02.557</td></tr><tr><td>FactFinance100m</td><td>5</td><td>1</td><td>3</td><td>COMPRESSED</td><td>333324</td><td>BULKLOAD</td><td>Table_3b03618df7c6458cb362bc5edb705bfb_19</td><td>2022-07-08 11:50:02.483</td></tr><tr><td>FactFinance100m</td><td>5</td><td>1</td><td>3</td><td>COMPRESSED</td><td>333324</td><td>BULKLOAD</td><td>Table_3b03618df7c6458cb362bc5edb705bfb_20</td><td>2022-07-08 11:50:02.490</td></tr><tr><td>FactFinance100m</td><td>5</td><td>1</td><td>3</td><td>COMPRESSED</td><td>333324</td><td>BULKLOAD</td><td>Table_3b03618df7c6458cb362bc5edb705bfb_21</td><td>2022-07-08 11:50:02.587</td></tr><tr><td>FactFinance100m</td><td>5</td><td>1</td><td>3</td><td>COMPRESSED</td><td>333324</td><td>BULKLOAD</td><td>Table_3b03618df7c6458cb362bc5edb705bfb_22</td><td>2022-07-08 11:50:02.563</td></tr><tr><td>FactFinance100m</td><td>5</td><td>1</td><td>3</td><td>COMPRESSED</td><td>333324</td><td>BULKLOAD</td><td>Table_3b03618df7c6458cb362bc5edb705bfb_23</td><td>2022-07-08 11:50:02.540</td></tr><tr><td>FactFinance100m</td><td>5</td><td>1</td><td>3</td><td>COMPRESSED</td><td>333324</td><td>BULKLOAD</td><td>Table_3b03618df7c6458cb362bc5edb705bfb_24</td><td>2022-07-08 11:50:02.500</td></tr><tr><td>FactFinance100m</td><td>5</td><td>1</td><td>3</td><td>COMPRESSED</td><td>333324</td><td>BULKLOAD</td><td>Table_3b03618df7c6458cb362bc5edb705bfb_25</td><td>2022-07-08 11:50:04.143</td></tr><tr><td>FactFinance100m</td><td>5</td><td>1</td><td>3</td><td>COMPRESSED</td><td>333324</td><td>BULKLOAD</td><td>Table_3b03618df7c6458cb362bc5edb705bfb_26</td><td>2022-07-08 11:50:03.257</td></tr><tr><td>FactFinance100m</td><td>5</td><td>1</td><td>3</td><td>COMPRESSED</td><td>333324</td><td>BULKLOAD</td><td>Table_3b03618df7c6458cb362bc5edb705bfb_27</td><td>2022-07-08 11:50:02.620</td></tr><tr><td>FactFinance100m</td><td>5</td><td>1</td><td>3</td><td>COMPRESSED</td><td>333324</td><td>BULKLOAD</td><td>Table_3b03618df7c6458cb362bc5edb705bfb_28</td><td>2022-07-08 11:50:02.520</td></tr><tr><td>FactFinance100m</td><td>5</td><td>1</td><td>3</td><td>COMPRESSED</td><td>333324</td><td>BULKLOAD</td><td>Table_3b03618df7c6458cb362bc5edb705bfb_29</td><td>2022-07-08 11:50:02.570</td></tr><tr><td>FactFinance100m</td><td>5</td><td>1</td><td>3</td><td>COMPRESSED</td><td>333324</td><td>BULKLOAD</td><td>Table_3b03618df7c6458cb362bc5edb705bfb_30</td><td>2022-07-08 11:50:04.163</td></tr><tr><td>FactFinance100m</td><td>5</td><td>1</td><td>3</td><td>COMPRESSED</td><td>333324</td><td>BULKLOAD</td><td>Table_3b03618df7c6458cb362bc5edb705bfb_31</td><td>2022-07-08 11:50:03.443</td></tr><tr><td>FactFinance100m</td><td>5</td><td>1</td><td>3</td><td>COMPRESSED</td><td>333324</td><td>BULKLOAD</td><td>Table_3b03618df7c6458cb362bc5edb705bfb_32</td><td>2022-07-08 11:50:02.510</td></tr><tr><td>FactFinance100m</td><td>5</td><td>1</td><td>3</td><td>COMPRESSED</td><td>333324</td><td>BULKLOAD</td><td>Table_3b03618df7c6458cb362bc5edb705bfb_33</td><td>2022-07-08 11:50:02.547</td></tr><tr><td>FactFinance100m</td><td>5</td><td>1</td><td>3</td><td>COMPRESSED</td><td>333324</td><td>BULKLOAD</td><td>Table_3b03618df7c6458cb362bc5edb705bfb_34</td><td>2022-07-08 11:50:02.547</td></tr><tr><td>FactFinance100m</td><td>5</td><td>1</td><td>3</td><td>COMPRESSED</td><td>333324</td><td>BULKLOAD</td><td>Table_3b03618df7c6458cb362bc5edb705bfb_35</td><td>2022-07-08 11:50:02.580</td></tr><tr><td>FactFinance100m</td><td>5</td><td>1</td><td>3</td><td>COMPRESSED</td><td>333324</td><td>BULKLOAD</td><td>Table_3b03618df7c6458cb362bc5edb705bfb_36</td><td>2022-07-08 11:50:03.453</td></tr><tr><td>FactFinance100m</td><td>5</td><td>1</td><td>3</td><td>COMPRESSED</td><td>333324</td><td>BULKLOAD</td><td>Table_3b03618df7c6458cb362bc5edb705bfb_37</td><td>2022-07-08 11:50:02.577</td></tr><tr><td>FactFinance100m</td><td>5</td><td>1</td><td>3</td><td>COMPRESSED</td><td>333324</td><td>BULKLOAD</td><td>Table_3b03618df7c6458cb362bc5edb705bfb_38</td><td>2022-07-08 11:50:02.547</td></tr><tr><td>FactFinance100m</td><td>5</td><td>1</td><td>3</td><td>COMPRESSED</td><td>333324</td><td>BULKLOAD</td><td>Table_3b03618df7c6458cb362bc5edb705bfb_39</td><td>2022-07-08 11:50:02.470</td></tr><tr><td>FactFinance100m</td><td>5</td><td>1</td><td>3</td><td>COMPRESSED</td><td>333324</td><td>BULKLOAD</td><td>Table_3b03618df7c6458cb362bc5edb705bfb_40</td><td>2022-07-08 11:50:02.567</td></tr><tr><td>FactFinance100m</td><td>5</td><td>1</td><td>3</td><td>COMPRESSED</td><td>333324</td><td>BULKLOAD</td><td>Table_3b03618df7c6458cb362bc5edb705bfb_41</td><td>2022-07-08 11:50:02.557</td></tr><tr><td>FactFinance100m</td><td>5</td><td>1</td><td>3</td><td>COMPRESSED</td><td>333324</td><td>BULKLOAD</td><td>Table_3b03618df7c6458cb362bc5edb705bfb_42</td><td>2022-07-08 11:50:03.457</td></tr><tr><td>FactFinance100m</td><td>5</td><td>1</td><td>3</td><td>COMPRESSED</td><td>333324</td><td>BULKLOAD</td><td>Table_3b03618df7c6458cb362bc5edb705bfb_43</td><td>2022-07-08 11:50:02.567</td></tr><tr><td>FactFinance100m</td><td>5</td><td>1</td><td>3</td><td>COMPRESSED</td><td>333324</td><td>BULKLOAD</td><td>Table_3b03618df7c6458cb362bc5edb705bfb_44</td><td>2022-07-08 11:50:02.607</td></tr><tr><td>FactFinance100m</td><td>5</td><td>1</td><td>3</td><td>COMPRESSED</td><td>333324</td><td>BULKLOAD</td><td>Table_3b03618df7c6458cb362bc5edb705bfb_45</td><td>2022-07-08 11:50:03.493</td></tr><tr><td>FactFinance100m</td><td>5</td><td>1</td><td>3</td><td>COMPRESSED</td><td>333324</td><td>BULKLOAD</td><td>Table_3b03618df7c6458cb362bc5edb705bfb_46</td><td>2022-07-08 11:50:02.463</td></tr><tr><td>FactFinance100m</td><td>5</td><td>1</td><td>3</td><td>COMPRESSED</td><td>333324</td><td>BULKLOAD</td><td>Table_3b03618df7c6458cb362bc5edb705bfb_47</td><td>2022-07-08 11:50:03.497</td></tr><tr><td>FactFinance100m</td><td>5</td><td>1</td><td>3</td><td>COMPRESSED</td><td>333884</td><td>BULKLOAD</td><td>Table_3b03618df7c6458cb362bc5edb705bfb_48</td><td>2022-07-08 11:50:02.560</td></tr><tr><td>FactFinance100m</td><td>5</td><td>1</td><td>3</td><td>COMPRESSED</td><td>333324</td><td>BULKLOAD</td><td>Table_3b03618df7c6458cb362bc5edb705bfb_49</td><td>2022-07-08 11:50:03.437</td></tr><tr><td>FactFinance100m</td><td>5</td><td>1</td><td>3</td><td>COMPRESSED</td><td>333324</td><td>BULKLOAD</td><td>Table_3b03618df7c6458cb362bc5edb705bfb_50</td><td>2022-07-08 11:50:02.530</td></tr><tr><td>FactFinance100m</td><td>5</td><td>1</td><td>3</td><td>COMPRESSED</td><td>333324</td><td>BULKLOAD</td><td>Table_3b03618df7c6458cb362bc5edb705bfb_51</td><td>2022-07-08 11:50:02.553</td></tr><tr><td>FactFinance100m</td><td>5</td><td>1</td><td>3</td><td>COMPRESSED</td><td>333324</td><td>BULKLOAD</td><td>Table_3b03618df7c6458cb362bc5edb705bfb_52</td><td>2022-07-08 11:50:02.593</td></tr><tr><td>FactFinance100m</td><td>5</td><td>1</td><td>3</td><td>COMPRESSED</td><td>333324</td><td>BULKLOAD</td><td>Table_3b03618df7c6458cb362bc5edb705bfb_53</td><td>2022-07-08 11:50:03.293</td></tr><tr><td>FactFinance100m</td><td>5</td><td>1</td><td>3</td><td>COMPRESSED</td><td>333324</td><td>BULKLOAD</td><td>Table_3b03618df7c6458cb362bc5edb705bfb_54</td><td>2022-07-08 11:50:03.380</td></tr><tr><td>FactFinance100m</td><td>5</td><td>1</td><td>3</td><td>COMPRESSED</td><td>333324</td><td>BULKLOAD</td><td>Table_3b03618df7c6458cb362bc5edb705bfb_55</td><td>2022-07-08 11:50:02.580</td></tr><tr><td>FactFinance100m</td><td>5</td><td>1</td><td>3</td><td>COMPRESSED</td><td>333324</td><td>BULKLOAD</td><td>Table_3b03618df7c6458cb362bc5edb705bfb_56</td><td>2022-07-08 11:50:03.450</td></tr><tr><td>FactFinance100m</td><td>5</td><td>1</td><td>3</td><td>COMPRESSED</td><td>333324</td><td>BULKLOAD</td><td>Table_3b03618df7c6458cb362bc5edb705bfb_57</td><td>2022-07-08 11:50:03.447</td></tr><tr><td>FactFinance100m</td><td>5</td><td>1</td><td>3</td><td>COMPRESSED</td><td>333324</td><td>BULKLOAD</td><td>Table_3b03618df7c6458cb362bc5edb705bfb_58</td><td>2022-07-08 11:50:02.510</td></tr><tr><td>FactFinance100m</td><td>5</td><td>1</td><td>3</td><td>COMPRESSED</td><td>333324</td><td>BULKLOAD</td><td>Table_3b03618df7c6458cb362bc5edb705bfb_59</td><td>2022-07-08 11:50:02.543</td></tr><tr><td>FactFinance100m</td><td>5</td><td>1</td><td>3</td><td>COMPRESSED</td><td>333324</td><td>BULKLOAD</td><td>Table_3b03618df7c6458cb362bc5edb705bfb_60</td><td>2022-07-08 11:50:02.600</td></tr><tr><td>FactFinance100m</td><td>4</td><td>1</td><td>3</td><td>COMPRESSED</td><td>333324</td><td>BULKLOAD</td><td>Table_3b03618df7c6458cb362bc5edb705bfb_1</td><td>2022-07-08 11:49:21.783</td></tr><tr><td>FactFinance100m</td><td>4</td><td>1</td><td>3</td><td>COMPRESSED</td><td>333324</td><td>BULKLOAD</td><td>Table_3b03618df7c6458cb362bc5edb705bfb_2</td><td>2022-07-08 11:49:21.740</td></tr><tr><td>FactFinance100m</td><td>4</td><td>1</td><td>3</td><td>COMPRESSED</td><td>333324</td><td>BULKLOAD</td><td>Table_3b03618df7c6458cb362bc5edb705bfb_3</td><td>2022-07-08 11:49:21.763</td></tr><tr><td>FactFinance100m</td><td>4</td><td>1</td><td>3</td><td>COMPRESSED</td><td>333324</td><td>BULKLOAD</td><td>Table_3b03618df7c6458cb362bc5edb705bfb_4</td><td>2022-07-08 11:49:21.840</td></tr><tr><td>FactFinance100m</td><td>4</td><td>1</td><td>3</td><td>COMPRESSED</td><td>333324</td><td>BULKLOAD</td><td>Table_3b03618df7c6458cb362bc5edb705bfb_5</td><td>2022-07-08 11:49:21.840</td></tr><tr><td>FactFinance100m</td><td>4</td><td>1</td><td>3</td><td>COMPRESSED</td><td>333324</td><td>BULKLOAD</td><td>Table_3b03618df7c6458cb362bc5edb705bfb_6</td><td>2022-07-08 11:49:21.827</td></tr><tr><td>FactFinance100m</td><td>4</td><td>1</td><td>3</td><td>COMPRESSED</td><td>333324</td><td>BULKLOAD</td><td>Table_3b03618df7c6458cb362bc5edb705bfb_7</td><td>2022-07-08 11:49:22.527</td></tr><tr><td>FactFinance100m</td><td>4</td><td>1</td><td>3</td><td>COMPRESSED</td><td>333324</td><td>BULKLOAD</td><td>Table_3b03618df7c6458cb362bc5edb705bfb_8</td><td>2022-07-08 11:49:21.760</td></tr><tr><td>FactFinance100m</td><td>4</td><td>1</td><td>3</td><td>COMPRESSED</td><td>333324</td><td>BULKLOAD</td><td>Table_3b03618df7c6458cb362bc5edb705bfb_9</td><td>2022-07-08 11:49:21.803</td></tr><tr><td>FactFinance100m</td><td>4</td><td>1</td><td>3</td><td>COMPRESSED</td><td>333324</td><td>BULKLOAD</td><td>Table_3b03618df7c6458cb362bc5edb705bfb_10</td><td>2022-07-08 11:49:21.840</td></tr><tr><td>FactFinance100m</td><td>4</td><td>1</td><td>3</td><td>COMPRESSED</td><td>333324</td><td>BULKLOAD</td><td>Table_3b03618df7c6458cb362bc5edb705bfb_11</td><td>2022-07-08 11:49:21.817</td></tr><tr><td>FactFinance100m</td><td>4</td><td>1</td><td>3</td><td>COMPRESSED</td><td>333324</td><td>BULKLOAD</td><td>Table_3b03618df7c6458cb362bc5edb705bfb_12</td><td>2022-07-08 11:49:21.727</td></tr><tr><td>FactFinance100m</td><td>4</td><td>1</td><td>3</td><td>COMPRESSED</td><td>333324</td><td>BULKLOAD</td><td>Table_3b03618df7c6458cb362bc5edb705bfb_13</td><td>2022-07-08 11:49:21.760</td></tr><tr><td>FactFinance100m</td><td>4</td><td>1</td><td>3</td><td>COMPRESSED</td><td>333324</td><td>BULKLOAD</td><td>Table_3b03618df7c6458cb362bc5edb705bfb_14</td><td>2022-07-08 11:49:21.793</td></tr><tr><td>FactFinance100m</td><td>4</td><td>1</td><td>3</td><td>COMPRESSED</td><td>333324</td><td>BULKLOAD</td><td>Table_3b03618df7c6458cb362bc5edb705bfb_15</td><td>2022-07-08 11:49:21.870</td></tr><tr><td>FactFinance100m</td><td>4</td><td>1</td><td>3</td><td>COMPRESSED</td><td>333324</td><td>BULKLOAD</td><td>Table_3b03618df7c6458cb362bc5edb705bfb_16</td><td>2022-07-08 11:49:21.740</td></tr><tr><td>FactFinance100m</td><td>4</td><td>1</td><td>3</td><td>COMPRESSED</td><td>333324</td><td>BULKLOAD</td><td>Table_3b03618df7c6458cb362bc5edb705bfb_17</td><td>2022-07-08 11:49:21.783</td></tr><tr><td>FactFinance100m</td><td>4</td><td>1</td><td>3</td><td>COMPRESSED</td><td>333324</td><td>BULKLOAD</td><td>Table_3b03618df7c6458cb362bc5edb705bfb_18</td><td>2022-07-08 11:49:21.817</td></tr><tr><td>FactFinance100m</td><td>4</td><td>1</td><td>3</td><td>COMPRESSED</td><td>333324</td><td>BULKLOAD</td><td>Table_3b03618df7c6458cb362bc5edb705bfb_19</td><td>2022-07-08 11:49:21.853</td></tr><tr><td>FactFinance100m</td><td>4</td><td>1</td><td>3</td><td>COMPRESSED</td><td>333324</td><td>BULKLOAD</td><td>Table_3b03618df7c6458cb362bc5edb705bfb_20</td><td>2022-07-08 11:49:21.777</td></tr><tr><td>FactFinance100m</td><td>4</td><td>1</td><td>3</td><td>COMPRESSED</td><td>333324</td><td>BULKLOAD</td><td>Table_3b03618df7c6458cb362bc5edb705bfb_21</td><td>2022-07-08 11:49:21.840</td></tr><tr><td>FactFinance100m</td><td>4</td><td>1</td><td>3</td><td>COMPRESSED</td><td>333324</td><td>BULKLOAD</td><td>Table_3b03618df7c6458cb362bc5edb705bfb_22</td><td>2022-07-08 11:49:21.790</td></tr><tr><td>FactFinance100m</td><td>4</td><td>1</td><td>3</td><td>COMPRESSED</td><td>333324</td><td>BULKLOAD</td><td>Table_3b03618df7c6458cb362bc5edb705bfb_23</td><td>2022-07-08 11:49:21.800</td></tr><tr><td>FactFinance100m</td><td>4</td><td>1</td><td>3</td><td>COMPRESSED</td><td>333324</td><td>BULKLOAD</td><td>Table_3b03618df7c6458cb362bc5edb705bfb_24</td><td>2022-07-08 11:49:21.810</td></tr><tr><td>FactFinance100m</td><td>4</td><td>1</td><td>3</td><td>COMPRESSED</td><td>333324</td><td>BULKLOAD</td><td>Table_3b03618df7c6458cb362bc5edb705bfb_25</td><td>2022-07-08 11:49:21.840</td></tr><tr><td>FactFinance100m</td><td>4</td><td>1</td><td>3</td><td>COMPRESSED</td><td>333324</td><td>BULKLOAD</td><td>Table_3b03618df7c6458cb362bc5edb705bfb_26</td><td>2022-07-08 11:49:21.800</td></tr><tr><td>FactFinance100m</td><td>4</td><td>1</td><td>3</td><td>COMPRESSED</td><td>333324</td><td>BULKLOAD</td><td>Table_3b03618df7c6458cb362bc5edb705bfb_27</td><td>2022-07-08 11:49:22.550</td></tr><tr><td>FactFinance100m</td><td>4</td><td>1</td><td>3</td><td>COMPRESSED</td><td>333324</td><td>BULKLOAD</td><td>Table_3b03618df7c6458cb362bc5edb705bfb_28</td><td>2022-07-08 11:49:21.767</td></tr><tr><td>FactFinance100m</td><td>4</td><td>1</td><td>3</td><td>COMPRESSED</td><td>333324</td><td>BULKLOAD</td><td>Table_3b03618df7c6458cb362bc5edb705bfb_29</td><td>2022-07-08 11:49:21.827</td></tr><tr><td>FactFinance100m</td><td>4</td><td>1</td><td>3</td><td>COMPRESSED</td><td>333324</td><td>BULKLOAD</td><td>Table_3b03618df7c6458cb362bc5edb705bfb_30</td><td>2022-07-08 11:49:21.833</td></tr><tr><td>FactFinance100m</td><td>4</td><td>1</td><td>3</td><td>COMPRESSED</td><td>333324</td><td>BULKLOAD</td><td>Table_3b03618df7c6458cb362bc5edb705bfb_31</td><td>2022-07-08 11:49:21.853</td></tr><tr><td>FactFinance100m</td><td>4</td><td>1</td><td>3</td><td>COMPRESSED</td><td>333324</td><td>BULKLOAD</td><td>Table_3b03618df7c6458cb362bc5edb705bfb_32</td><td>2022-07-08 11:49:21.760</td></tr><tr><td>FactFinance100m</td><td>4</td><td>1</td><td>3</td><td>COMPRESSED</td><td>333324</td><td>BULKLOAD</td><td>Table_3b03618df7c6458cb362bc5edb705bfb_33</td><td>2022-07-08 11:49:21.787</td></tr><tr><td>FactFinance100m</td><td>4</td><td>1</td><td>3</td><td>COMPRESSED</td><td>333324</td><td>BULKLOAD</td><td>Table_3b03618df7c6458cb362bc5edb705bfb_34</td><td>2022-07-08 11:49:21.850</td></tr><tr><td>FactFinance100m</td><td>4</td><td>1</td><td>3</td><td>COMPRESSED</td><td>333324</td><td>BULKLOAD</td><td>Table_3b03618df7c6458cb362bc5edb705bfb_35</td><td>2022-07-08 11:49:21.843</td></tr><tr><td>FactFinance100m</td><td>4</td><td>1</td><td>3</td><td>COMPRESSED</td><td>333324</td><td>BULKLOAD</td><td>Table_3b03618df7c6458cb362bc5edb705bfb_36</td><td>2022-07-08 11:49:22.600</td></tr><tr><td>FactFinance100m</td><td>4</td><td>1</td><td>3</td><td>COMPRESSED</td><td>333324</td><td>BULKLOAD</td><td>Table_3b03618df7c6458cb362bc5edb705bfb_37</td><td>2022-07-08 11:49:22.610</td></tr><tr><td>FactFinance100m</td><td>4</td><td>1</td><td>3</td><td>COMPRESSED</td><td>333324</td><td>BULKLOAD</td><td>Table_3b03618df7c6458cb362bc5edb705bfb_38</td><td>2022-07-08 11:49:21.833</td></tr><tr><td>FactFinance100m</td><td>4</td><td>1</td><td>3</td><td>COMPRESSED</td><td>333324</td><td>BULKLOAD</td><td>Table_3b03618df7c6458cb362bc5edb705bfb_39</td><td>2022-07-08 11:49:21.810</td></tr><tr><td>FactFinance100m</td><td>4</td><td>1</td><td>3</td><td>COMPRESSED</td><td>333324</td><td>BULKLOAD</td><td>Table_3b03618df7c6458cb362bc5edb705bfb_40</td><td>2022-07-08 11:49:21.833</td></tr><tr><td>FactFinance100m</td><td>4</td><td>1</td><td>3</td><td>COMPRESSED</td><td>333324</td><td>BULKLOAD</td><td>Table_3b03618df7c6458cb362bc5edb705bfb_41</td><td>2022-07-08 11:49:21.810</td></tr><tr><td>FactFinance100m</td><td>4</td><td>1</td><td>3</td><td>COMPRESSED</td><td>333324</td><td>BULKLOAD</td><td>Table_3b03618df7c6458cb362bc5edb705bfb_42</td><td>2022-07-08 11:49:21.797</td></tr><tr><td>FactFinance100m</td><td>4</td><td>1</td><td>3</td><td>COMPRESSED</td><td>333324</td><td>BULKLOAD</td><td>Table_3b03618df7c6458cb362bc5edb705bfb_43</td><td>2022-07-08 11:49:21.853</td></tr><tr><td>FactFinance100m</td><td>4</td><td>1</td><td>3</td><td>COMPRESSED</td><td>333324</td><td>BULKLOAD</td><td>Table_3b03618df7c6458cb362bc5edb705bfb_44</td><td>2022-07-08 11:49:21.883</td></tr><tr><td>FactFinance100m</td><td>4</td><td>1</td><td>3</td><td>COMPRESSED</td><td>333324</td><td>BULKLOAD</td><td>Table_3b03618df7c6458cb362bc5edb705bfb_45</td><td>2022-07-08 11:49:21.777</td></tr><tr><td>FactFinance100m</td><td>4</td><td>1</td><td>3</td><td>COMPRESSED</td><td>333324</td><td>BULKLOAD</td><td>Table_3b03618df7c6458cb362bc5edb705bfb_46</td><td>2022-07-08 11:49:22.533</td></tr><tr><td>FactFinance100m</td><td>4</td><td>1</td><td>3</td><td>COMPRESSED</td><td>333324</td><td>BULKLOAD</td><td>Table_3b03618df7c6458cb362bc5edb705bfb_47</td><td>2022-07-08 11:49:21.900</td></tr><tr><td>FactFinance100m</td><td>4</td><td>1</td><td>3</td><td>COMPRESSED</td><td>333884</td><td>BULKLOAD</td><td>Table_3b03618df7c6458cb362bc5edb705bfb_48</td><td>2022-07-08 11:49:21.877</td></tr><tr><td>FactFinance100m</td><td>4</td><td>1</td><td>3</td><td>COMPRESSED</td><td>333324</td><td>BULKLOAD</td><td>Table_3b03618df7c6458cb362bc5edb705bfb_49</td><td>2022-07-08 11:49:21.777</td></tr><tr><td>FactFinance100m</td><td>4</td><td>1</td><td>3</td><td>COMPRESSED</td><td>333324</td><td>BULKLOAD</td><td>Table_3b03618df7c6458cb362bc5edb705bfb_50</td><td>2022-07-08 11:49:22.540</td></tr><tr><td>FactFinance100m</td><td>4</td><td>1</td><td>3</td><td>COMPRESSED</td><td>333324</td><td>BULKLOAD</td><td>Table_3b03618df7c6458cb362bc5edb705bfb_51</td><td>2022-07-08 11:49:21.823</td></tr><tr><td>FactFinance100m</td><td>4</td><td>1</td><td>3</td><td>COMPRESSED</td><td>333324</td><td>BULKLOAD</td><td>Table_3b03618df7c6458cb362bc5edb705bfb_52</td><td>2022-07-08 11:49:21.793</td></tr><tr><td>FactFinance100m</td><td>4</td><td>1</td><td>3</td><td>COMPRESSED</td><td>333324</td><td>BULKLOAD</td><td>Table_3b03618df7c6458cb362bc5edb705bfb_53</td><td>2022-07-08 11:49:21.870</td></tr><tr><td>FactFinance100m</td><td>4</td><td>1</td><td>3</td><td>COMPRESSED</td><td>333324</td><td>BULKLOAD</td><td>Table_3b03618df7c6458cb362bc5edb705bfb_54</td><td>2022-07-08 11:49:21.770</td></tr><tr><td>FactFinance100m</td><td>4</td><td>1</td><td>3</td><td>COMPRESSED</td><td>333324</td><td>BULKLOAD</td><td>Table_3b03618df7c6458cb362bc5edb705bfb_55</td><td>2022-07-08 11:49:21.797</td></tr><tr><td>FactFinance100m</td><td>4</td><td>1</td><td>3</td><td>COMPRESSED</td><td>333324</td><td>BULKLOAD</td><td>Table_3b03618df7c6458cb362bc5edb705bfb_56</td><td>2022-07-08 11:49:21.877</td></tr><tr><td>FactFinance100m</td><td>4</td><td>1</td><td>3</td><td>COMPRESSED</td><td>333324</td><td>BULKLOAD</td><td>Table_3b03618df7c6458cb362bc5edb705bfb_57</td><td>2022-07-08 11:49:21.843</td></tr><tr><td>FactFinance100m</td><td>4</td><td>1</td><td>3</td><td>COMPRESSED</td><td>333324</td><td>BULKLOAD</td><td>Table_3b03618df7c6458cb362bc5edb705bfb_58</td><td>2022-07-08 11:49:21.707</td></tr><tr><td>FactFinance100m</td><td>4</td><td>1</td><td>3</td><td>COMPRESSED</td><td>333324</td><td>BULKLOAD</td><td>Table_3b03618df7c6458cb362bc5edb705bfb_59</td><td>2022-07-08 11:49:21.847</td></tr><tr><td>FactFinance100m</td><td>4</td><td>1</td><td>3</td><td>COMPRESSED</td><td>333324</td><td>BULKLOAD</td><td>Table_3b03618df7c6458cb362bc5edb705bfb_60</td><td>2022-07-08 11:49:21.707</td></tr><tr><td>FactFinance100m</td><td>3</td><td>1</td><td>3</td><td>COMPRESSED</td><td>333324</td><td>BULKLOAD</td><td>Table_3b03618df7c6458cb362bc5edb705bfb_1</td><td>2022-07-08 11:48:40.647</td></tr><tr><td>FactFinance100m</td><td>3</td><td>1</td><td>3</td><td>COMPRESSED</td><td>333324</td><td>BULKLOAD</td><td>Table_3b03618df7c6458cb362bc5edb705bfb_2</td><td>2022-07-08 11:48:40.617</td></tr><tr><td>FactFinance100m</td><td>3</td><td>1</td><td>3</td><td>COMPRESSED</td><td>333324</td><td>BULKLOAD</td><td>Table_3b03618df7c6458cb362bc5edb705bfb_3</td><td>2022-07-08 11:48:41.320</td></tr><tr><td>FactFinance100m</td><td>3</td><td>1</td><td>3</td><td>COMPRESSED</td><td>333324</td><td>BULKLOAD</td><td>Table_3b03618df7c6458cb362bc5edb705bfb_4</td><td>2022-07-08 11:48:40.560</td></tr><tr><td>FactFinance100m</td><td>3</td><td>1</td><td>3</td><td>COMPRESSED</td><td>333324</td><td>BULKLOAD</td><td>Table_3b03618df7c6458cb362bc5edb705bfb_5</td><td>2022-07-08 11:48:40.597</td></tr><tr><td>FactFinance100m</td><td>3</td><td>1</td><td>3</td><td>COMPRESSED</td><td>333324</td><td>BULKLOAD</td><td>Table_3b03618df7c6458cb362bc5edb705bfb_6</td><td>2022-07-08 11:48:42.207</td></tr><tr><td>FactFinance100m</td><td>3</td><td>1</td><td>3</td><td>COMPRESSED</td><td>333324</td><td>BULKLOAD</td><td>Table_3b03618df7c6458cb362bc5edb705bfb_7</td><td>2022-07-08 11:48:40.637</td></tr><tr><td>FactFinance100m</td><td>3</td><td>1</td><td>3</td><td>COMPRESSED</td><td>333324</td><td>BULKLOAD</td><td>Table_3b03618df7c6458cb362bc5edb705bfb_8</td><td>2022-07-08 11:48:40.543</td></tr><tr><td>FactFinance100m</td><td>3</td><td>1</td><td>3</td><td>COMPRESSED</td><td>333324</td><td>BULKLOAD</td><td>Table_3b03618df7c6458cb362bc5edb705bfb_9</td><td>2022-07-08 11:48:40.587</td></tr><tr><td>FactFinance100m</td><td>3</td><td>1</td><td>3</td><td>COMPRESSED</td><td>333884</td><td>BULKLOAD</td><td>Table_3b03618df7c6458cb362bc5edb705bfb_10</td><td>2022-07-08 11:48:40.653</td></tr><tr><td>FactFinance100m</td><td>3</td><td>1</td><td>3</td><td>COMPRESSED</td><td>333324</td><td>BULKLOAD</td><td>Table_3b03618df7c6458cb362bc5edb705bfb_11</td><td>2022-07-08 11:48:40.613</td></tr><tr><td>FactFinance100m</td><td>3</td><td>1</td><td>3</td><td>COMPRESSED</td><td>333324</td><td>BULKLOAD</td><td>Table_3b03618df7c6458cb362bc5edb705bfb_12</td><td>2022-07-08 11:48:40.567</td></tr><tr><td>FactFinance100m</td><td>3</td><td>1</td><td>3</td><td>COMPRESSED</td><td>333324</td><td>BULKLOAD</td><td>Table_3b03618df7c6458cb362bc5edb705bfb_13</td><td>2022-07-08 11:48:40.630</td></tr><tr><td>FactFinance100m</td><td>3</td><td>1</td><td>3</td><td>COMPRESSED</td><td>333324</td><td>BULKLOAD</td><td>Table_3b03618df7c6458cb362bc5edb705bfb_14</td><td>2022-07-08 11:48:40.633</td></tr><tr><td>FactFinance100m</td><td>3</td><td>1</td><td>3</td><td>COMPRESSED</td><td>333324</td><td>BULKLOAD</td><td>Table_3b03618df7c6458cb362bc5edb705bfb_15</td><td>2022-07-08 11:48:40.620</td></tr><tr><td>FactFinance100m</td><td>3</td><td>1</td><td>3</td><td>COMPRESSED</td><td>333324</td><td>BULKLOAD</td><td>Table_3b03618df7c6458cb362bc5edb705bfb_16</td><td>2022-07-08 11:48:41.303</td></tr><tr><td>FactFinance100m</td><td>3</td><td>1</td><td>3</td><td>COMPRESSED</td><td>333324</td><td>BULKLOAD</td><td>Table_3b03618df7c6458cb362bc5edb705bfb_17</td><td>2022-07-08 11:48:40.537</td></tr><tr><td>FactFinance100m</td><td>3</td><td>1</td><td>3</td><td>COMPRESSED</td><td>333324</td><td>BULKLOAD</td><td>Table_3b03618df7c6458cb362bc5edb705bfb_18</td><td>2022-07-08 11:48:40.660</td></tr><tr><td>FactFinance100m</td><td>3</td><td>1</td><td>3</td><td>COMPRESSED</td><td>333324</td><td>BULKLOAD</td><td>Table_3b03618df7c6458cb362bc5edb705bfb_19</td><td>2022-07-08 11:48:42.150</td></tr><tr><td>FactFinance100m</td><td>3</td><td>1</td><td>3</td><td>COMPRESSED</td><td>333324</td><td>BULKLOAD</td><td>Table_3b03618df7c6458cb362bc5edb705bfb_20</td><td>2022-07-08 11:48:40.570</td></tr><tr><td>FactFinance100m</td><td>3</td><td>1</td><td>3</td><td>COMPRESSED</td><td>333324</td><td>BULKLOAD</td><td>Table_3b03618df7c6458cb362bc5edb705bfb_21</td><td>2022-07-08 11:48:40.597</td></tr><tr><td>FactFinance100m</td><td>3</td><td>1</td><td>3</td><td>COMPRESSED</td><td>333324</td><td>BULKLOAD</td><td>Table_3b03618df7c6458cb362bc5edb705bfb_22</td><td>2022-07-08 11:48:42.170</td></tr><tr><td>FactFinance100m</td><td>3</td><td>1</td><td>3</td><td>COMPRESSED</td><td>333324</td><td>BULKLOAD</td><td>Table_3b03618df7c6458cb362bc5edb705bfb_23</td><td>2022-07-08 11:48:40.640</td></tr><tr><td>FactFinance100m</td><td>3</td><td>1</td><td>3</td><td>COMPRESSED</td><td>333324</td><td>BULKLOAD</td><td>Table_3b03618df7c6458cb362bc5edb705bfb_24</td><td>2022-07-08 11:48:40.510</td></tr><tr><td>FactFinance100m</td><td>3</td><td>1</td><td>3</td><td>COMPRESSED</td><td>333324</td><td>BULKLOAD</td><td>Table_3b03618df7c6458cb362bc5edb705bfb_25</td><td>2022-07-08 11:48:40.623</td></tr><tr><td>FactFinance100m</td><td>3</td><td>1</td><td>3</td><td>COMPRESSED</td><td>333324</td><td>BULKLOAD</td><td>Table_3b03618df7c6458cb362bc5edb705bfb_26</td><td>2022-07-08 11:48:40.630</td></tr><tr><td>FactFinance100m</td><td>3</td><td>1</td><td>3</td><td>COMPRESSED</td><td>333324</td><td>BULKLOAD</td><td>Table_3b03618df7c6458cb362bc5edb705bfb_27</td><td>2022-07-08 11:48:40.630</td></tr><tr><td>FactFinance100m</td><td>3</td><td>1</td><td>3</td><td>COMPRESSED</td><td>333324</td><td>BULKLOAD</td><td>Table_3b03618df7c6458cb362bc5edb705bfb_28</td><td>2022-07-08 11:48:40.540</td></tr><tr><td>FactFinance100m</td><td>3</td><td>1</td><td>3</td><td>COMPRESSED</td><td>333324</td><td>BULKLOAD</td><td>Table_3b03618df7c6458cb362bc5edb705bfb_29</td><td>2022-07-08 11:48:40.660</td></tr><tr><td>FactFinance100m</td><td>3</td><td>1</td><td>3</td><td>COMPRESSED</td><td>333324</td><td>BULKLOAD</td><td>Table_3b03618df7c6458cb362bc5edb705bfb_30</td><td>2022-07-08 11:48:40.623</td></tr><tr><td>FactFinance100m</td><td>3</td><td>1</td><td>3</td><td>COMPRESSED</td><td>333324</td><td>BULKLOAD</td><td>Table_3b03618df7c6458cb362bc5edb705bfb_31</td><td>2022-07-08 11:48:40.570</td></tr><tr><td>FactFinance100m</td><td>3</td><td>1</td><td>3</td><td>COMPRESSED</td><td>333324</td><td>BULKLOAD</td><td>Table_3b03618df7c6458cb362bc5edb705bfb_32</td><td>2022-07-08 11:48:40.457</td></tr><tr><td>FactFinance100m</td><td>3</td><td>1</td><td>3</td><td>COMPRESSED</td><td>333324</td><td>BULKLOAD</td><td>Table_3b03618df7c6458cb362bc5edb705bfb_33</td><td>2022-07-08 11:48:41.330</td></tr><tr><td>FactFinance100m</td><td>3</td><td>1</td><td>3</td><td>COMPRESSED</td><td>333324</td><td>BULKLOAD</td><td>Table_3b03618df7c6458cb362bc5edb705bfb_34</td><td>2022-07-08 11:48:41.290</td></tr><tr><td>FactFinance100m</td><td>3</td><td>1</td><td>3</td><td>COMPRESSED</td><td>333324</td><td>BULKLOAD</td><td>Table_3b03618df7c6458cb362bc5edb705bfb_35</td><td>2022-07-08 11:48:41.310</td></tr><tr><td>FactFinance100m</td><td>3</td><td>1</td><td>3</td><td>COMPRESSED</td><td>333324</td><td>BULKLOAD</td><td>Table_3b03618df7c6458cb362bc5edb705bfb_36</td><td>2022-07-08 11:48:41.347</td></tr><tr><td>FactFinance100m</td><td>3</td><td>1</td><td>3</td><td>COMPRESSED</td><td>333324</td><td>BULKLOAD</td><td>Table_3b03618df7c6458cb362bc5edb705bfb_37</td><td>2022-07-08 11:48:41.373</td></tr><tr><td>FactFinance100m</td><td>3</td><td>1</td><td>3</td><td>COMPRESSED</td><td>333324</td><td>BULKLOAD</td><td>Table_3b03618df7c6458cb362bc5edb705bfb_38</td><td>2022-07-08 11:48:40.540</td></tr><tr><td>FactFinance100m</td><td>3</td><td>1</td><td>3</td><td>COMPRESSED</td><td>333324</td><td>BULKLOAD</td><td>Table_3b03618df7c6458cb362bc5edb705bfb_39</td><td>2022-07-08 11:48:40.560</td></tr><tr><td>FactFinance100m</td><td>3</td><td>1</td><td>3</td><td>COMPRESSED</td><td>333324</td><td>BULKLOAD</td><td>Table_3b03618df7c6458cb362bc5edb705bfb_40</td><td>2022-07-08 11:48:40.517</td></tr><tr><td>FactFinance100m</td><td>3</td><td>1</td><td>3</td><td>COMPRESSED</td><td>333324</td><td>BULKLOAD</td><td>Table_3b03618df7c6458cb362bc5edb705bfb_41</td><td>2022-07-08 11:48:40.617</td></tr><tr><td>FactFinance100m</td><td>3</td><td>1</td><td>3</td><td>COMPRESSED</td><td>333324</td><td>BULKLOAD</td><td>Table_3b03618df7c6458cb362bc5edb705bfb_42</td><td>2022-07-08 11:48:40.620</td></tr><tr><td>FactFinance100m</td><td>3</td><td>1</td><td>3</td><td>COMPRESSED</td><td>333324</td><td>BULKLOAD</td><td>Table_3b03618df7c6458cb362bc5edb705bfb_43</td><td>2022-07-08 11:48:40.583</td></tr><tr><td>FactFinance100m</td><td>3</td><td>1</td><td>3</td><td>COMPRESSED</td><td>333324</td><td>BULKLOAD</td><td>Table_3b03618df7c6458cb362bc5edb705bfb_44</td><td>2022-07-08 11:48:40.587</td></tr><tr><td>FactFinance100m</td><td>3</td><td>1</td><td>3</td><td>COMPRESSED</td><td>333324</td><td>BULKLOAD</td><td>Table_3b03618df7c6458cb362bc5edb705bfb_45</td><td>2022-07-08 11:48:40.500</td></tr><tr><td>FactFinance100m</td><td>3</td><td>1</td><td>3</td><td>COMPRESSED</td><td>333324</td><td>BULKLOAD</td><td>Table_3b03618df7c6458cb362bc5edb705bfb_46</td><td>2022-07-08 11:48:41.367</td></tr><tr><td>FactFinance100m</td><td>3</td><td>1</td><td>3</td><td>COMPRESSED</td><td>333324</td><td>BULKLOAD</td><td>Table_3b03618df7c6458cb362bc5edb705bfb_47</td><td>2022-07-08 11:48:40.577</td></tr><tr><td>FactFinance100m</td><td>3</td><td>1</td><td>3</td><td>COMPRESSED</td><td>333324</td><td>BULKLOAD</td><td>Table_3b03618df7c6458cb362bc5edb705bfb_48</td><td>2022-07-08 11:48:41.410</td></tr><tr><td>FactFinance100m</td><td>3</td><td>1</td><td>3</td><td>COMPRESSED</td><td>333324</td><td>BULKLOAD</td><td>Table_3b03618df7c6458cb362bc5edb705bfb_49</td><td>2022-07-08 11:48:40.493</td></tr><tr><td>FactFinance100m</td><td>3</td><td>1</td><td>3</td><td>COMPRESSED</td><td>333324</td><td>BULKLOAD</td><td>Table_3b03618df7c6458cb362bc5edb705bfb_50</td><td>2022-07-08 11:48:41.387</td></tr><tr><td>FactFinance100m</td><td>3</td><td>1</td><td>3</td><td>COMPRESSED</td><td>333324</td><td>BULKLOAD</td><td>Table_3b03618df7c6458cb362bc5edb705bfb_51</td><td>2022-07-08 11:48:40.617</td></tr><tr><td>FactFinance100m</td><td>3</td><td>1</td><td>3</td><td>COMPRESSED</td><td>333324</td><td>BULKLOAD</td><td>Table_3b03618df7c6458cb362bc5edb705bfb_52</td><td>2022-07-08 11:48:40.603</td></tr><tr><td>FactFinance100m</td><td>3</td><td>1</td><td>3</td><td>COMPRESSED</td><td>333324</td><td>BULKLOAD</td><td>Table_3b03618df7c6458cb362bc5edb705bfb_53</td><td>2022-07-08 11:48:41.327</td></tr><tr><td>FactFinance100m</td><td>3</td><td>1</td><td>3</td><td>COMPRESSED</td><td>333324</td><td>BULKLOAD</td><td>Table_3b03618df7c6458cb362bc5edb705bfb_54</td><td>2022-07-08 11:48:40.500</td></tr><tr><td>FactFinance100m</td><td>3</td><td>1</td><td>3</td><td>COMPRESSED</td><td>333324</td><td>BULKLOAD</td><td>Table_3b03618df7c6458cb362bc5edb705bfb_55</td><td>2022-07-08 11:48:41.300</td></tr><tr><td>FactFinance100m</td><td>3</td><td>1</td><td>3</td><td>COMPRESSED</td><td>333324</td><td>BULKLOAD</td><td>Table_3b03618df7c6458cb362bc5edb705bfb_56</td><td>2022-07-08 11:48:40.557</td></tr><tr><td>FactFinance100m</td><td>3</td><td>1</td><td>3</td><td>COMPRESSED</td><td>333324</td><td>BULKLOAD</td><td>Table_3b03618df7c6458cb362bc5edb705bfb_57</td><td>2022-07-08 11:48:40.637</td></tr><tr><td>FactFinance100m</td><td>3</td><td>1</td><td>3</td><td>COMPRESSED</td><td>333324</td><td>BULKLOAD</td><td>Table_3b03618df7c6458cb362bc5edb705bfb_58</td><td>2022-07-08 11:48:40.490</td></tr><tr><td>FactFinance100m</td><td>3</td><td>1</td><td>3</td><td>COMPRESSED</td><td>333324</td><td>BULKLOAD</td><td>Table_3b03618df7c6458cb362bc5edb705bfb_59</td><td>2022-07-08 11:48:40.690</td></tr><tr><td>FactFinance100m</td><td>3</td><td>1</td><td>3</td><td>COMPRESSED</td><td>333324</td><td>BULKLOAD</td><td>Table_3b03618df7c6458cb362bc5edb705bfb_60</td><td>2022-07-08 11:48:40.503</td></tr><tr><td>FactFinance100m</td><td>2</td><td>1</td><td>3</td><td>COMPRESSED</td><td>333324</td><td>BULKLOAD</td><td>Table_3b03618df7c6458cb362bc5edb705bfb_1</td><td>2022-07-08 11:48:00.220</td></tr><tr><td>FactFinance100m</td><td>2</td><td>1</td><td>3</td><td>COMPRESSED</td><td>333324</td><td>BULKLOAD</td><td>Table_3b03618df7c6458cb362bc5edb705bfb_2</td><td>2022-07-08 11:48:00.263</td></tr><tr><td>FactFinance100m</td><td>2</td><td>1</td><td>3</td><td>COMPRESSED</td><td>333324</td><td>BULKLOAD</td><td>Table_3b03618df7c6458cb362bc5edb705bfb_3</td><td>2022-07-08 11:48:00.287</td></tr><tr><td>FactFinance100m</td><td>2</td><td>1</td><td>3</td><td>COMPRESSED</td><td>333324</td><td>BULKLOAD</td><td>Table_3b03618df7c6458cb362bc5edb705bfb_4</td><td>2022-07-08 11:48:01.177</td></tr><tr><td>FactFinance100m</td><td>2</td><td>1</td><td>3</td><td>COMPRESSED</td><td>333324</td><td>BULKLOAD</td><td>Table_3b03618df7c6458cb362bc5edb705bfb_5</td><td>2022-07-08 11:48:00.347</td></tr><tr><td>FactFinance100m</td><td>2</td><td>1</td><td>3</td><td>COMPRESSED</td><td>333324</td><td>BULKLOAD</td><td>Table_3b03618df7c6458cb362bc5edb705bfb_6</td><td>2022-07-08 11:48:00.280</td></tr><tr><td>FactFinance100m</td><td>2</td><td>1</td><td>3</td><td>COMPRESSED</td><td>333324</td><td>BULKLOAD</td><td>Table_3b03618df7c6458cb362bc5edb705bfb_7</td><td>2022-07-08 11:48:00.243</td></tr><tr><td>FactFinance100m</td><td>2</td><td>1</td><td>3</td><td>COMPRESSED</td><td>333324</td><td>BULKLOAD</td><td>Table_3b03618df7c6458cb362bc5edb705bfb_8</td><td>2022-07-08 11:48:00.287</td></tr><tr><td>FactFinance100m</td><td>2</td><td>1</td><td>3</td><td>COMPRESSED</td><td>333324</td><td>BULKLOAD</td><td>Table_3b03618df7c6458cb362bc5edb705bfb_9</td><td>2022-07-08 11:48:00.233</td></tr><tr><td>FactFinance100m</td><td>2</td><td>1</td><td>3</td><td>COMPRESSED</td><td>333324</td><td>BULKLOAD</td><td>Table_3b03618df7c6458cb362bc5edb705bfb_10</td><td>2022-07-08 11:48:00.270</td></tr><tr><td>FactFinance100m</td><td>2</td><td>1</td><td>3</td><td>COMPRESSED</td><td>333324</td><td>BULKLOAD</td><td>Table_3b03618df7c6458cb362bc5edb705bfb_11</td><td>2022-07-08 11:48:00.377</td></tr><tr><td>FactFinance100m</td><td>2</td><td>1</td><td>3</td><td>COMPRESSED</td><td>333324</td><td>BULKLOAD</td><td>Table_3b03618df7c6458cb362bc5edb705bfb_12</td><td>2022-07-08 11:48:00.310</td></tr><tr><td>FactFinance100m</td><td>2</td><td>1</td><td>3</td><td>COMPRESSED</td><td>333324</td><td>BULKLOAD</td><td>Table_3b03618df7c6458cb362bc5edb705bfb_13</td><td>2022-07-08 11:48:00.250</td></tr><tr><td>FactFinance100m</td><td>2</td><td>1</td><td>3</td><td>COMPRESSED</td><td>333324</td><td>BULKLOAD</td><td>Table_3b03618df7c6458cb362bc5edb705bfb_14</td><td>2022-07-08 11:48:00.313</td></tr><tr><td>FactFinance100m</td><td>2</td><td>1</td><td>3</td><td>COMPRESSED</td><td>333324</td><td>BULKLOAD</td><td>Table_3b03618df7c6458cb362bc5edb705bfb_15</td><td>2022-07-08 11:48:00.370</td></tr><tr><td>FactFinance100m</td><td>2</td><td>1</td><td>3</td><td>COMPRESSED</td><td>333324</td><td>BULKLOAD</td><td>Table_3b03618df7c6458cb362bc5edb705bfb_16</td><td>2022-07-08 11:48:00.320</td></tr><tr><td>FactFinance100m</td><td>2</td><td>1</td><td>3</td><td>COMPRESSED</td><td>333324</td><td>BULKLOAD</td><td>Table_3b03618df7c6458cb362bc5edb705bfb_17</td><td>2022-07-08 11:48:00.300</td></tr><tr><td>FactFinance100m</td><td>2</td><td>1</td><td>3</td><td>COMPRESSED</td><td>333324</td><td>BULKLOAD</td><td>Table_3b03618df7c6458cb362bc5edb705bfb_18</td><td>2022-07-08 11:48:00.327</td></tr><tr><td>FactFinance100m</td><td>2</td><td>1</td><td>3</td><td>COMPRESSED</td><td>333324</td><td>BULKLOAD</td><td>Table_3b03618df7c6458cb362bc5edb705bfb_19</td><td>2022-07-08 11:48:00.330</td></tr><tr><td>FactFinance100m</td><td>2</td><td>1</td><td>3</td><td>COMPRESSED</td><td>333324</td><td>BULKLOAD</td><td>Table_3b03618df7c6458cb362bc5edb705bfb_20</td><td>2022-07-08 11:48:00.307</td></tr><tr><td>FactFinance100m</td><td>2</td><td>1</td><td>3</td><td>COMPRESSED</td><td>333324</td><td>BULKLOAD</td><td>Table_3b03618df7c6458cb362bc5edb705bfb_21</td><td>2022-07-08 11:48:00.280</td></tr><tr><td>FactFinance100m</td><td>2</td><td>1</td><td>3</td><td>COMPRESSED</td><td>333324</td><td>BULKLOAD</td><td>Table_3b03618df7c6458cb362bc5edb705bfb_22</td><td>2022-07-08 11:48:00.353</td></tr><tr><td>FactFinance100m</td><td>2</td><td>1</td><td>3</td><td>COMPRESSED</td><td>333324</td><td>BULKLOAD</td><td>Table_3b03618df7c6458cb362bc5edb705bfb_23</td><td>2022-07-08 11:48:00.380</td></tr><tr><td>FactFinance100m</td><td>2</td><td>1</td><td>3</td><td>COMPRESSED</td><td>333324</td><td>BULKLOAD</td><td>Table_3b03618df7c6458cb362bc5edb705bfb_24</td><td>2022-07-08 11:48:00.313</td></tr><tr><td>FactFinance100m</td><td>2</td><td>1</td><td>3</td><td>COMPRESSED</td><td>333324</td><td>BULKLOAD</td><td>Table_3b03618df7c6458cb362bc5edb705bfb_25</td><td>2022-07-08 11:48:01.213</td></tr><tr><td>FactFinance100m</td><td>2</td><td>1</td><td>3</td><td>COMPRESSED</td><td>333324</td><td>BULKLOAD</td><td>Table_3b03618df7c6458cb362bc5edb705bfb_26</td><td>2022-07-08 11:48:00.320</td></tr><tr><td>FactFinance100m</td><td>2</td><td>1</td><td>3</td><td>COMPRESSED</td><td>333324</td><td>BULKLOAD</td><td>Table_3b03618df7c6458cb362bc5edb705bfb_27</td><td>2022-07-08 11:48:00.320</td></tr><tr><td>FactFinance100m</td><td>2</td><td>1</td><td>3</td><td>COMPRESSED</td><td>333324</td><td>BULKLOAD</td><td>Table_3b03618df7c6458cb362bc5edb705bfb_28</td><td>2022-07-08 11:48:00.343</td></tr><tr><td>FactFinance100m</td><td>2</td><td>1</td><td>3</td><td>COMPRESSED</td><td>333324</td><td>BULKLOAD</td><td>Table_3b03618df7c6458cb362bc5edb705bfb_29</td><td>2022-07-08 11:48:00.333</td></tr><tr><td>FactFinance100m</td><td>2</td><td>1</td><td>3</td><td>COMPRESSED</td><td>333324</td><td>BULKLOAD</td><td>Table_3b03618df7c6458cb362bc5edb705bfb_30</td><td>2022-07-08 11:48:00.397</td></tr><tr><td>FactFinance100m</td><td>2</td><td>1</td><td>3</td><td>COMPRESSED</td><td>333324</td><td>BULKLOAD</td><td>Table_3b03618df7c6458cb362bc5edb705bfb_31</td><td>2022-07-08 11:48:00.263</td></tr><tr><td>FactFinance100m</td><td>2</td><td>1</td><td>3</td><td>COMPRESSED</td><td>333324</td><td>BULKLOAD</td><td>Table_3b03618df7c6458cb362bc5edb705bfb_32</td><td>2022-07-08 11:48:01.010</td></tr><tr><td>FactFinance100m</td><td>2</td><td>1</td><td>3</td><td>COMPRESSED</td><td>333324</td><td>BULKLOAD</td><td>Table_3b03618df7c6458cb362bc5edb705bfb_33</td><td>2022-07-08 11:48:00.967</td></tr><tr><td>FactFinance100m</td><td>2</td><td>1</td><td>3</td><td>COMPRESSED</td><td>333324</td><td>BULKLOAD</td><td>Table_3b03618df7c6458cb362bc5edb705bfb_34</td><td>2022-07-08 11:48:01.040</td></tr><tr><td>FactFinance100m</td><td>2</td><td>1</td><td>3</td><td>COMPRESSED</td><td>333884</td><td>BULKLOAD</td><td>Table_3b03618df7c6458cb362bc5edb705bfb_35</td><td>2022-07-08 11:48:00.283</td></tr><tr><td>FactFinance100m</td><td>2</td><td>1</td><td>3</td><td>COMPRESSED</td><td>333324</td><td>BULKLOAD</td><td>Table_3b03618df7c6458cb362bc5edb705bfb_36</td><td>2022-07-08 11:48:00.947</td></tr><tr><td>FactFinance100m</td><td>2</td><td>1</td><td>3</td><td>COMPRESSED</td><td>333324</td><td>BULKLOAD</td><td>Table_3b03618df7c6458cb362bc5edb705bfb_37</td><td>2022-07-08 11:48:00.183</td></tr><tr><td>FactFinance100m</td><td>2</td><td>1</td><td>3</td><td>COMPRESSED</td><td>333324</td><td>BULKLOAD</td><td>Table_3b03618df7c6458cb362bc5edb705bfb_38</td><td>2022-07-08 11:48:00.230</td></tr><tr><td>FactFinance100m</td><td>2</td><td>1</td><td>3</td><td>COMPRESSED</td><td>333324</td><td>BULKLOAD</td><td>Table_3b03618df7c6458cb362bc5edb705bfb_39</td><td>2022-07-08 11:48:00.257</td></tr><tr><td>FactFinance100m</td><td>2</td><td>1</td><td>3</td><td>COMPRESSED</td><td>333324</td><td>BULKLOAD</td><td>Table_3b03618df7c6458cb362bc5edb705bfb_40</td><td>2022-07-08 11:48:00.200</td></tr><tr><td>FactFinance100m</td><td>2</td><td>1</td><td>3</td><td>COMPRESSED</td><td>333324</td><td>BULKLOAD</td><td>Table_3b03618df7c6458cb362bc5edb705bfb_41</td><td>2022-07-08 11:48:01.087</td></tr><tr><td>FactFinance100m</td><td>2</td><td>1</td><td>3</td><td>COMPRESSED</td><td>333324</td><td>BULKLOAD</td><td>Table_3b03618df7c6458cb362bc5edb705bfb_42</td><td>2022-07-08 11:48:00.203</td></tr><tr><td>FactFinance100m</td><td>2</td><td>1</td><td>3</td><td>COMPRESSED</td><td>333324</td><td>BULKLOAD</td><td>Table_3b03618df7c6458cb362bc5edb705bfb_43</td><td>2022-07-08 11:48:00.273</td></tr><tr><td>FactFinance100m</td><td>2</td><td>1</td><td>3</td><td>COMPRESSED</td><td>333324</td><td>BULKLOAD</td><td>Table_3b03618df7c6458cb362bc5edb705bfb_44</td><td>2022-07-08 11:48:00.250</td></tr><tr><td>FactFinance100m</td><td>2</td><td>1</td><td>3</td><td>COMPRESSED</td><td>333324</td><td>BULKLOAD</td><td>Table_3b03618df7c6458cb362bc5edb705bfb_45</td><td>2022-07-08 11:48:00.223</td></tr><tr><td>FactFinance100m</td><td>2</td><td>1</td><td>3</td><td>COMPRESSED</td><td>333324</td><td>BULKLOAD</td><td>Table_3b03618df7c6458cb362bc5edb705bfb_46</td><td>2022-07-08 11:48:00.203</td></tr><tr><td>FactFinance100m</td><td>2</td><td>1</td><td>3</td><td>COMPRESSED</td><td>333324</td><td>BULKLOAD</td><td>Table_3b03618df7c6458cb362bc5edb705bfb_47</td><td>2022-07-08 11:48:00.250</td></tr><tr><td>FactFinance100m</td><td>2</td><td>1</td><td>3</td><td>COMPRESSED</td><td>333324</td><td>BULKLOAD</td><td>Table_3b03618df7c6458cb362bc5edb705bfb_48</td><td>2022-07-08 11:48:01.027</td></tr><tr><td>FactFinance100m</td><td>2</td><td>1</td><td>3</td><td>COMPRESSED</td><td>333324</td><td>BULKLOAD</td><td>Table_3b03618df7c6458cb362bc5edb705bfb_49</td><td>2022-07-08 11:48:00.273</td></tr><tr><td>FactFinance100m</td><td>2</td><td>1</td><td>3</td><td>COMPRESSED</td><td>333324</td><td>BULKLOAD</td><td>Table_3b03618df7c6458cb362bc5edb705bfb_50</td><td>2022-07-08 11:48:00.187</td></tr><tr><td>FactFinance100m</td><td>2</td><td>1</td><td>3</td><td>COMPRESSED</td><td>333324</td><td>BULKLOAD</td><td>Table_3b03618df7c6458cb362bc5edb705bfb_51</td><td>2022-07-08 11:48:00.277</td></tr><tr><td>FactFinance100m</td><td>2</td><td>1</td><td>3</td><td>COMPRESSED</td><td>333324</td><td>BULKLOAD</td><td>Table_3b03618df7c6458cb362bc5edb705bfb_52</td><td>2022-07-08 11:48:00.210</td></tr><tr><td>FactFinance100m</td><td>2</td><td>1</td><td>3</td><td>COMPRESSED</td><td>333324</td><td>BULKLOAD</td><td>Table_3b03618df7c6458cb362bc5edb705bfb_53</td><td>2022-07-08 11:48:01.000</td></tr><tr><td>FactFinance100m</td><td>2</td><td>1</td><td>3</td><td>COMPRESSED</td><td>333324</td><td>BULKLOAD</td><td>Table_3b03618df7c6458cb362bc5edb705bfb_54</td><td>2022-07-08 11:48:00.210</td></tr><tr><td>FactFinance100m</td><td>2</td><td>1</td><td>3</td><td>COMPRESSED</td><td>333324</td><td>BULKLOAD</td><td>Table_3b03618df7c6458cb362bc5edb705bfb_55</td><td>2022-07-08 11:48:01.027</td></tr><tr><td>FactFinance100m</td><td>2</td><td>1</td><td>3</td><td>COMPRESSED</td><td>333324</td><td>BULKLOAD</td><td>Table_3b03618df7c6458cb362bc5edb705bfb_56</td><td>2022-07-08 11:48:00.300</td></tr><tr><td>FactFinance100m</td><td>2</td><td>1</td><td>3</td><td>COMPRESSED</td><td>333324</td><td>BULKLOAD</td><td>Table_3b03618df7c6458cb362bc5edb705bfb_57</td><td>2022-07-08 11:48:00.237</td></tr><tr><td>FactFinance100m</td><td>2</td><td>1</td><td>3</td><td>COMPRESSED</td><td>333324</td><td>BULKLOAD</td><td>Table_3b03618df7c6458cb362bc5edb705bfb_58</td><td>2022-07-08 11:48:00.173</td></tr><tr><td>FactFinance100m</td><td>2</td><td>1</td><td>3</td><td>COMPRESSED</td><td>333324</td><td>BULKLOAD</td><td>Table_3b03618df7c6458cb362bc5edb705bfb_59</td><td>2022-07-08 11:48:00.287</td></tr><tr><td>FactFinance100m</td><td>2</td><td>1</td><td>3</td><td>COMPRESSED</td><td>333324</td><td>BULKLOAD</td><td>Table_3b03618df7c6458cb362bc5edb705bfb_60</td><td>2022-07-08 11:48:00.200</td></tr><tr><td>FactFinance100m</td><td>1</td><td>1</td><td>3</td><td>COMPRESSED</td><td>333324</td><td>BULKLOAD</td><td>Table_3b03618df7c6458cb362bc5edb705bfb_1</td><td>2022-07-08 11:47:19.000</td></tr><tr><td>FactFinance100m</td><td>1</td><td>1</td><td>3</td><td>COMPRESSED</td><td>333324</td><td>BULKLOAD</td><td>Table_3b03618df7c6458cb362bc5edb705bfb_2</td><td>2022-07-08 11:47:18.923</td></tr><tr><td>FactFinance100m</td><td>1</td><td>1</td><td>3</td><td>COMPRESSED</td><td>333324</td><td>BULKLOAD</td><td>Table_3b03618df7c6458cb362bc5edb705bfb_3</td><td>2022-07-08 11:47:18.907</td></tr><tr><td>FactFinance100m</td><td>1</td><td>1</td><td>3</td><td>COMPRESSED</td><td>333324</td><td>BULKLOAD</td><td>Table_3b03618df7c6458cb362bc5edb705bfb_4</td><td>2022-07-08 11:47:19.770</td></tr><tr><td>FactFinance100m</td><td>1</td><td>1</td><td>3</td><td>COMPRESSED</td><td>333324</td><td>BULKLOAD</td><td>Table_3b03618df7c6458cb362bc5edb705bfb_5</td><td>2022-07-08 11:47:19.773</td></tr><tr><td>FactFinance100m</td><td>1</td><td>1</td><td>3</td><td>COMPRESSED</td><td>333324</td><td>BULKLOAD</td><td>Table_3b03618df7c6458cb362bc5edb705bfb_6</td><td>2022-07-08 11:47:18.953</td></tr><tr><td>FactFinance100m</td><td>1</td><td>1</td><td>3</td><td>COMPRESSED</td><td>333324</td><td>BULKLOAD</td><td>Table_3b03618df7c6458cb362bc5edb705bfb_7</td><td>2022-07-08 11:47:18.953</td></tr><tr><td>FactFinance100m</td><td>1</td><td>1</td><td>3</td><td>COMPRESSED</td><td>333324</td><td>BULKLOAD</td><td>Table_3b03618df7c6458cb362bc5edb705bfb_8</td><td>2022-07-08 11:47:19.807</td></tr><tr><td>FactFinance100m</td><td>1</td><td>1</td><td>3</td><td>COMPRESSED</td><td>333324</td><td>BULKLOAD</td><td>Table_3b03618df7c6458cb362bc5edb705bfb_9</td><td>2022-07-08 11:47:18.913</td></tr><tr><td>FactFinance100m</td><td>1</td><td>1</td><td>3</td><td>COMPRESSED</td><td>333324</td><td>BULKLOAD</td><td>Table_3b03618df7c6458cb362bc5edb705bfb_10</td><td>2022-07-08 11:47:18.933</td></tr><tr><td>FactFinance100m</td><td>1</td><td>1</td><td>3</td><td>COMPRESSED</td><td>333324</td><td>BULKLOAD</td><td>Table_3b03618df7c6458cb362bc5edb705bfb_11</td><td>2022-07-08 11:47:18.870</td></tr><tr><td>FactFinance100m</td><td>1</td><td>1</td><td>3</td><td>COMPRESSED</td><td>333324</td><td>BULKLOAD</td><td>Table_3b03618df7c6458cb362bc5edb705bfb_12</td><td>2022-07-08 11:47:18.877</td></tr><tr><td>FactFinance100m</td><td>1</td><td>1</td><td>3</td><td>COMPRESSED</td><td>333324</td><td>BULKLOAD</td><td>Table_3b03618df7c6458cb362bc5edb705bfb_13</td><td>2022-07-08 11:47:18.897</td></tr><tr><td>FactFinance100m</td><td>1</td><td>1</td><td>3</td><td>COMPRESSED</td><td>333324</td><td>BULKLOAD</td><td>Table_3b03618df7c6458cb362bc5edb705bfb_14</td><td>2022-07-08 11:47:19.040</td></tr><tr><td>FactFinance100m</td><td>1</td><td>1</td><td>3</td><td>COMPRESSED</td><td>333324</td><td>BULKLOAD</td><td>Table_3b03618df7c6458cb362bc5edb705bfb_15</td><td>2022-07-08 11:47:18.907</td></tr><tr><td>FactFinance100m</td><td>1</td><td>1</td><td>3</td><td>COMPRESSED</td><td>333324</td><td>BULKLOAD</td><td>Table_3b03618df7c6458cb362bc5edb705bfb_16</td><td>2022-07-08 11:47:18.940</td></tr><tr><td>FactFinance100m</td><td>1</td><td>1</td><td>3</td><td>COMPRESSED</td><td>333324</td><td>BULKLOAD</td><td>Table_3b03618df7c6458cb362bc5edb705bfb_17</td><td>2022-07-08 11:47:18.943</td></tr><tr><td>FactFinance100m</td><td>1</td><td>1</td><td>3</td><td>COMPRESSED</td><td>333324</td><td>BULKLOAD</td><td>Table_3b03618df7c6458cb362bc5edb705bfb_18</td><td>2022-07-08 11:47:18.937</td></tr><tr><td>FactFinance100m</td><td>1</td><td>1</td><td>3</td><td>COMPRESSED</td><td>333884</td><td>BULKLOAD</td><td>Table_3b03618df7c6458cb362bc5edb705bfb_19</td><td>2022-07-08 11:47:18.963</td></tr><tr><td>FactFinance100m</td><td>1</td><td>1</td><td>3</td><td>COMPRESSED</td><td>333324</td><td>BULKLOAD</td><td>Table_3b03618df7c6458cb362bc5edb705bfb_20</td><td>2022-07-08 11:47:19.757</td></tr><tr><td>FactFinance100m</td><td>1</td><td>1</td><td>3</td><td>COMPRESSED</td><td>333324</td><td>BULKLOAD</td><td>Table_3b03618df7c6458cb362bc5edb705bfb_21</td><td>2022-07-08 11:47:19.757</td></tr><tr><td>FactFinance100m</td><td>1</td><td>1</td><td>3</td><td>COMPRESSED</td><td>333324</td><td>BULKLOAD</td><td>Table_3b03618df7c6458cb362bc5edb705bfb_22</td><td>2022-07-08 11:47:19.750</td></tr><tr><td>FactFinance100m</td><td>1</td><td>1</td><td>3</td><td>COMPRESSED</td><td>333324</td><td>BULKLOAD</td><td>Table_3b03618df7c6458cb362bc5edb705bfb_23</td><td>2022-07-08 11:47:18.883</td></tr><tr><td>FactFinance100m</td><td>1</td><td>1</td><td>3</td><td>COMPRESSED</td><td>333324</td><td>BULKLOAD</td><td>Table_3b03618df7c6458cb362bc5edb705bfb_24</td><td>2022-07-08 11:47:18.873</td></tr><tr><td>FactFinance100m</td><td>1</td><td>1</td><td>3</td><td>COMPRESSED</td><td>333324</td><td>BULKLOAD</td><td>Table_3b03618df7c6458cb362bc5edb705bfb_25</td><td>2022-07-08 11:47:18.917</td></tr><tr><td>FactFinance100m</td><td>1</td><td>1</td><td>3</td><td>COMPRESSED</td><td>333324</td><td>BULKLOAD</td><td>Table_3b03618df7c6458cb362bc5edb705bfb_26</td><td>2022-07-08 11:47:18.897</td></tr><tr><td>FactFinance100m</td><td>1</td><td>1</td><td>3</td><td>COMPRESSED</td><td>333324</td><td>BULKLOAD</td><td>Table_3b03618df7c6458cb362bc5edb705bfb_27</td><td>2022-07-08 11:47:18.930</td></tr><tr><td>FactFinance100m</td><td>1</td><td>1</td><td>3</td><td>COMPRESSED</td><td>333324</td><td>BULKLOAD</td><td>Table_3b03618df7c6458cb362bc5edb705bfb_28</td><td>2022-07-08 11:47:18.973</td></tr><tr><td>FactFinance100m</td><td>1</td><td>1</td><td>3</td><td>COMPRESSED</td><td>333324</td><td>BULKLOAD</td><td>Table_3b03618df7c6458cb362bc5edb705bfb_29</td><td>2022-07-08 11:47:18.930</td></tr><tr><td>FactFinance100m</td><td>1</td><td>1</td><td>3</td><td>COMPRESSED</td><td>333324</td><td>BULKLOAD</td><td>Table_3b03618df7c6458cb362bc5edb705bfb_30</td><td>2022-07-08 11:47:18.850</td></tr><tr><td>FactFinance100m</td><td>1</td><td>1</td><td>3</td><td>COMPRESSED</td><td>333324</td><td>BULKLOAD</td><td>Table_3b03618df7c6458cb362bc5edb705bfb_31</td><td>2022-07-08 11:47:19.010</td></tr><tr><td>FactFinance100m</td><td>1</td><td>1</td><td>3</td><td>COMPRESSED</td><td>333324</td><td>BULKLOAD</td><td>Table_3b03618df7c6458cb362bc5edb705bfb_32</td><td>2022-07-08 11:47:18.820</td></tr><tr><td>FactFinance100m</td><td>1</td><td>1</td><td>3</td><td>COMPRESSED</td><td>333324</td><td>BULKLOAD</td><td>Table_3b03618df7c6458cb362bc5edb705bfb_33</td><td>2022-07-08 11:47:18.920</td></tr><tr><td>FactFinance100m</td><td>1</td><td>1</td><td>3</td><td>COMPRESSED</td><td>333324</td><td>BULKLOAD</td><td>Table_3b03618df7c6458cb362bc5edb705bfb_34</td><td>2022-07-08 11:47:18.987</td></tr><tr><td>FactFinance100m</td><td>1</td><td>1</td><td>3</td><td>COMPRESSED</td><td>333324</td><td>BULKLOAD</td><td>Table_3b03618df7c6458cb362bc5edb705bfb_35</td><td>2022-07-08 11:47:18.987</td></tr><tr><td>FactFinance100m</td><td>1</td><td>1</td><td>3</td><td>COMPRESSED</td><td>333324</td><td>BULKLOAD</td><td>Table_3b03618df7c6458cb362bc5edb705bfb_36</td><td>2022-07-08 11:47:19.680</td></tr><tr><td>FactFinance100m</td><td>1</td><td>1</td><td>3</td><td>COMPRESSED</td><td>333324</td><td>BULKLOAD</td><td>Table_3b03618df7c6458cb362bc5edb705bfb_37</td><td>2022-07-08 11:47:18.823</td></tr><tr><td>FactFinance100m</td><td>1</td><td>1</td><td>3</td><td>COMPRESSED</td><td>333324</td><td>BULKLOAD</td><td>Table_3b03618df7c6458cb362bc5edb705bfb_38</td><td>2022-07-08 11:47:18.910</td></tr><tr><td>FactFinance100m</td><td>1</td><td>1</td><td>3</td><td>COMPRESSED</td><td>333324</td><td>BULKLOAD</td><td>Table_3b03618df7c6458cb362bc5edb705bfb_39</td><td>2022-07-08 11:47:18.993</td></tr><tr><td>FactFinance100m</td><td>1</td><td>1</td><td>3</td><td>COMPRESSED</td><td>333324</td><td>BULKLOAD</td><td>Table_3b03618df7c6458cb362bc5edb705bfb_40</td><td>2022-07-08 11:47:18.870</td></tr><tr><td>FactFinance100m</td><td>1</td><td>1</td><td>3</td><td>COMPRESSED</td><td>333324</td><td>BULKLOAD</td><td>Table_3b03618df7c6458cb362bc5edb705bfb_41</td><td>2022-07-08 11:47:19.003</td></tr><tr><td>FactFinance100m</td><td>1</td><td>1</td><td>3</td><td>COMPRESSED</td><td>333324</td><td>BULKLOAD</td><td>Table_3b03618df7c6458cb362bc5edb705bfb_42</td><td>2022-07-08 11:47:18.940</td></tr><tr><td>FactFinance100m</td><td>1</td><td>1</td><td>3</td><td>COMPRESSED</td><td>333324</td><td>BULKLOAD</td><td>Table_3b03618df7c6458cb362bc5edb705bfb_43</td><td>2022-07-08 11:47:19.033</td></tr><tr><td>FactFinance100m</td><td>1</td><td>1</td><td>3</td><td>COMPRESSED</td><td>333324</td><td>BULKLOAD</td><td>Table_3b03618df7c6458cb362bc5edb705bfb_44</td><td>2022-07-08 11:47:19.050</td></tr><tr><td>FactFinance100m</td><td>1</td><td>1</td><td>3</td><td>COMPRESSED</td><td>333324</td><td>BULKLOAD</td><td>Table_3b03618df7c6458cb362bc5edb705bfb_45</td><td>2022-07-08 11:47:19.020</td></tr><tr><td>FactFinance100m</td><td>1</td><td>1</td><td>3</td><td>COMPRESSED</td><td>333324</td><td>BULKLOAD</td><td>Table_3b03618df7c6458cb362bc5edb705bfb_46</td><td>2022-07-08 11:47:18.897</td></tr><tr><td>FactFinance100m</td><td>1</td><td>1</td><td>3</td><td>COMPRESSED</td><td>333324</td><td>BULKLOAD</td><td>Table_3b03618df7c6458cb362bc5edb705bfb_47</td><td>2022-07-08 11:47:18.903</td></tr><tr><td>FactFinance100m</td><td>1</td><td>1</td><td>3</td><td>COMPRESSED</td><td>333324</td><td>BULKLOAD</td><td>Table_3b03618df7c6458cb362bc5edb705bfb_48</td><td>2022-07-08 11:47:19.667</td></tr><tr><td>FactFinance100m</td><td>1</td><td>1</td><td>3</td><td>COMPRESSED</td><td>333324</td><td>BULKLOAD</td><td>Table_3b03618df7c6458cb362bc5edb705bfb_49</td><td>2022-07-08 11:47:19.007</td></tr><tr><td>FactFinance100m</td><td>1</td><td>1</td><td>3</td><td>COMPRESSED</td><td>333324</td><td>BULKLOAD</td><td>Table_3b03618df7c6458cb362bc5edb705bfb_50</td><td>2022-07-08 11:47:19.060</td></tr><tr><td>FactFinance100m</td><td>1</td><td>1</td><td>3</td><td>COMPRESSED</td><td>333324</td><td>BULKLOAD</td><td>Table_3b03618df7c6458cb362bc5edb705bfb_51</td><td>2022-07-08 11:47:19.030</td></tr><tr><td>FactFinance100m</td><td>1</td><td>1</td><td>3</td><td>COMPRESSED</td><td>333324</td><td>BULKLOAD</td><td>Table_3b03618df7c6458cb362bc5edb705bfb_52</td><td>2022-07-08 11:47:18.947</td></tr><tr><td>FactFinance100m</td><td>1</td><td>1</td><td>3</td><td>COMPRESSED</td><td>333324</td><td>BULKLOAD</td><td>Table_3b03618df7c6458cb362bc5edb705bfb_53</td><td>2022-07-08 11:47:18.870</td></tr><tr><td>FactFinance100m</td><td>1</td><td>1</td><td>3</td><td>COMPRESSED</td><td>333324</td><td>BULKLOAD</td><td>Table_3b03618df7c6458cb362bc5edb705bfb_54</td><td>2022-07-08 11:47:18.993</td></tr><tr><td>FactFinance100m</td><td>1</td><td>1</td><td>3</td><td>COMPRESSED</td><td>333324</td><td>BULKLOAD</td><td>Table_3b03618df7c6458cb362bc5edb705bfb_55</td><td>2022-07-08 11:47:18.820</td></tr><tr><td>FactFinance100m</td><td>1</td><td>1</td><td>3</td><td>COMPRESSED</td><td>333324</td><td>BULKLOAD</td><td>Table_3b03618df7c6458cb362bc5edb705bfb_56</td><td>2022-07-08 11:47:19.050</td></tr><tr><td>FactFinance100m</td><td>1</td><td>1</td><td>3</td><td>COMPRESSED</td><td>333324</td><td>BULKLOAD</td><td>Table_3b03618df7c6458cb362bc5edb705bfb_57</td><td>2022-07-08 11:47:18.947</td></tr><tr><td>FactFinance100m</td><td>1</td><td>1</td><td>3</td><td>COMPRESSED</td><td>333324</td><td>BULKLOAD</td><td>Table_3b03618df7c6458cb362bc5edb705bfb_58</td><td>2022-07-08 11:47:18.940</td></tr><tr><td>FactFinance100m</td><td>1</td><td>1</td><td>3</td><td>COMPRESSED</td><td>333324</td><td>BULKLOAD</td><td>Table_3b03618df7c6458cb362bc5edb705bfb_59</td><td>2022-07-08 11:47:19.020</td></tr><tr><td>FactFinance100m</td><td>1</td><td>1</td><td>3</td><td>COMPRESSED</td><td>333324</td><td>BULKLOAD</td><td>Table_3b03618df7c6458cb362bc5edb705bfb_60</td><td>2022-07-08 11:47:18.960</td></tr><tr><td>FactFinance100m</td><td>0</td><td>1</td><td>3</td><td>COMPRESSED</td><td>333324</td><td>BULKLOAD</td><td>Table_3b03618df7c6458cb362bc5edb705bfb_1</td><td>2022-07-08 11:46:35.730</td></tr><tr><td>FactFinance100m</td><td>0</td><td>1</td><td>3</td><td>COMPRESSED</td><td>333324</td><td>BULKLOAD</td><td>Table_3b03618df7c6458cb362bc5edb705bfb_2</td><td>2022-07-08 11:46:35.780</td></tr><tr><td>FactFinance100m</td><td>0</td><td>1</td><td>3</td><td>COMPRESSED</td><td>333324</td><td>BULKLOAD</td><td>Table_3b03618df7c6458cb362bc5edb705bfb_3</td><td>2022-07-08 11:46:36.693</td></tr><tr><td>FactFinance100m</td><td>0</td><td>1</td><td>3</td><td>COMPRESSED</td><td>333324</td><td>BULKLOAD</td><td>Table_3b03618df7c6458cb362bc5edb705bfb_4</td><td>2022-07-08 11:46:35.727</td></tr><tr><td>FactFinance100m</td><td>0</td><td>1</td><td>3</td><td>COMPRESSED</td><td>333324</td><td>BULKLOAD</td><td>Table_3b03618df7c6458cb362bc5edb705bfb_5</td><td>2022-07-08 11:46:35.770</td></tr><tr><td>FactFinance100m</td><td>0</td><td>1</td><td>3</td><td>COMPRESSED</td><td>333324</td><td>BULKLOAD</td><td>Table_3b03618df7c6458cb362bc5edb705bfb_6</td><td>2022-07-08 11:46:36.633</td></tr><tr><td>FactFinance100m</td><td>0</td><td>1</td><td>3</td><td>COMPRESSED</td><td>333324</td><td>BULKLOAD</td><td>Table_3b03618df7c6458cb362bc5edb705bfb_7</td><td>2022-07-08 11:46:35.740</td></tr><tr><td>FactFinance100m</td><td>0</td><td>1</td><td>3</td><td>COMPRESSED</td><td>333324</td><td>BULKLOAD</td><td>Table_3b03618df7c6458cb362bc5edb705bfb_8</td><td>2022-07-08 11:46:35.743</td></tr><tr><td>FactFinance100m</td><td>0</td><td>1</td><td>3</td><td>COMPRESSED</td><td>333324</td><td>BULKLOAD</td><td>Table_3b03618df7c6458cb362bc5edb705bfb_9</td><td>2022-07-08 11:46:35.767</td></tr><tr><td>FactFinance100m</td><td>0</td><td>1</td><td>3</td><td>COMPRESSED</td><td>333324</td><td>BULKLOAD</td><td>Table_3b03618df7c6458cb362bc5edb705bfb_10</td><td>2022-07-08 11:46:35.790</td></tr><tr><td>FactFinance100m</td><td>0</td><td>1</td><td>3</td><td>COMPRESSED</td><td>333324</td><td>BULKLOAD</td><td>Table_3b03618df7c6458cb362bc5edb705bfb_11</td><td>2022-07-08 11:46:36.693</td></tr><tr><td>FactFinance100m</td><td>0</td><td>1</td><td>3</td><td>COMPRESSED</td><td>333324</td><td>BULKLOAD</td><td>Table_3b03618df7c6458cb362bc5edb705bfb_12</td><td>2022-07-08 11:46:35.807</td></tr><tr><td>FactFinance100m</td><td>0</td><td>1</td><td>3</td><td>COMPRESSED</td><td>333324</td><td>BULKLOAD</td><td>Table_3b03618df7c6458cb362bc5edb705bfb_13</td><td>2022-07-08 11:46:35.760</td></tr><tr><td>FactFinance100m</td><td>0</td><td>1</td><td>3</td><td>COMPRESSED</td><td>333324</td><td>BULKLOAD</td><td>Table_3b03618df7c6458cb362bc5edb705bfb_14</td><td>2022-07-08 11:46:36.700</td></tr><tr><td>FactFinance100m</td><td>0</td><td>1</td><td>3</td><td>COMPRESSED</td><td>333324</td><td>BULKLOAD</td><td>Table_3b03618df7c6458cb362bc5edb705bfb_15</td><td>2022-07-08 11:46:35.747</td></tr><tr><td>FactFinance100m</td><td>0</td><td>1</td><td>3</td><td>COMPRESSED</td><td>333324</td><td>BULKLOAD</td><td>Table_3b03618df7c6458cb362bc5edb705bfb_16</td><td>2022-07-08 11:46:35.750</td></tr><tr><td>FactFinance100m</td><td>0</td><td>1</td><td>3</td><td>COMPRESSED</td><td>333324</td><td>BULKLOAD</td><td>Table_3b03618df7c6458cb362bc5edb705bfb_17</td><td>2022-07-08 11:46:35.717</td></tr><tr><td>FactFinance100m</td><td>0</td><td>1</td><td>3</td><td>COMPRESSED</td><td>333324</td><td>BULKLOAD</td><td>Table_3b03618df7c6458cb362bc5edb705bfb_18</td><td>2022-07-08 11:46:35.750</td></tr><tr><td>FactFinance100m</td><td>0</td><td>1</td><td>3</td><td>COMPRESSED</td><td>333324</td><td>BULKLOAD</td><td>Table_3b03618df7c6458cb362bc5edb705bfb_19</td><td>2022-07-08 11:46:36.637</td></tr><tr><td>FactFinance100m</td><td>0</td><td>1</td><td>3</td><td>COMPRESSED</td><td>333324</td><td>BULKLOAD</td><td>Table_3b03618df7c6458cb362bc5edb705bfb_20</td><td>2022-07-08 11:46:36.607</td></tr><tr><td>FactFinance100m</td><td>0</td><td>1</td><td>3</td><td>COMPRESSED</td><td>333324</td><td>BULKLOAD</td><td>Table_3b03618df7c6458cb362bc5edb705bfb_21</td><td>2022-07-08 11:46:35.733</td></tr><tr><td>FactFinance100m</td><td>0</td><td>1</td><td>3</td><td>COMPRESSED</td><td>333324</td><td>BULKLOAD</td><td>Table_3b03618df7c6458cb362bc5edb705bfb_22</td><td>2022-07-08 11:46:35.780</td></tr><tr><td>FactFinance100m</td><td>0</td><td>1</td><td>3</td><td>COMPRESSED</td><td>333324</td><td>BULKLOAD</td><td>Table_3b03618df7c6458cb362bc5edb705bfb_23</td><td>2022-07-08 11:46:36.687</td></tr><tr><td>FactFinance100m</td><td>0</td><td>1</td><td>3</td><td>COMPRESSED</td><td>333324</td><td>BULKLOAD</td><td>Table_3b03618df7c6458cb362bc5edb705bfb_24</td><td>2022-07-08 11:46:35.770</td></tr><tr><td>FactFinance100m</td><td>0</td><td>1</td><td>3</td><td>COMPRESSED</td><td>333324</td><td>BULKLOAD</td><td>Table_3b03618df7c6458cb362bc5edb705bfb_25</td><td>2022-07-08 11:46:35.787</td></tr><tr><td>FactFinance100m</td><td>0</td><td>1</td><td>3</td><td>COMPRESSED</td><td>333324</td><td>BULKLOAD</td><td>Table_3b03618df7c6458cb362bc5edb705bfb_26</td><td>2022-07-08 11:46:36.653</td></tr><tr><td>FactFinance100m</td><td>0</td><td>1</td><td>3</td><td>COMPRESSED</td><td>333324</td><td>BULKLOAD</td><td>Table_3b03618df7c6458cb362bc5edb705bfb_27</td><td>2022-07-08 11:46:36.610</td></tr><tr><td>FactFinance100m</td><td>0</td><td>1</td><td>3</td><td>COMPRESSED</td><td>333324</td><td>BULKLOAD</td><td>Table_3b03618df7c6458cb362bc5edb705bfb_28</td><td>2022-07-08 11:46:35.760</td></tr><tr><td>FactFinance100m</td><td>0</td><td>1</td><td>3</td><td>COMPRESSED</td><td>333324</td><td>BULKLOAD</td><td>Table_3b03618df7c6458cb362bc5edb705bfb_29</td><td>2022-07-08 11:46:35.697</td></tr><tr><td>FactFinance100m</td><td>0</td><td>1</td><td>3</td><td>COMPRESSED</td><td>333324</td><td>BULKLOAD</td><td>Table_3b03618df7c6458cb362bc5edb705bfb_30</td><td>2022-07-08 11:46:36.667</td></tr><tr><td>FactFinance100m</td><td>0</td><td>1</td><td>3</td><td>COMPRESSED</td><td>333324</td><td>BULKLOAD</td><td>Table_3b03618df7c6458cb362bc5edb705bfb_31</td><td>2022-07-08 11:46:35.820</td></tr><tr><td>FactFinance100m</td><td>0</td><td>1</td><td>3</td><td>COMPRESSED</td><td>333324</td><td>BULKLOAD</td><td>Table_3b03618df7c6458cb362bc5edb705bfb_32</td><td>2022-07-08 11:46:35.710</td></tr><tr><td>FactFinance100m</td><td>0</td><td>1</td><td>3</td><td>COMPRESSED</td><td>333324</td><td>BULKLOAD</td><td>Table_3b03618df7c6458cb362bc5edb705bfb_33</td><td>2022-07-08 11:46:36.627</td></tr><tr><td>FactFinance100m</td><td>0</td><td>1</td><td>3</td><td>COMPRESSED</td><td>333324</td><td>BULKLOAD</td><td>Table_3b03618df7c6458cb362bc5edb705bfb_34</td><td>2022-07-08 11:46:35.843</td></tr><tr><td>FactFinance100m</td><td>0</td><td>1</td><td>3</td><td>COMPRESSED</td><td>333324</td><td>BULKLOAD</td><td>Table_3b03618df7c6458cb362bc5edb705bfb_35</td><td>2022-07-08 11:46:36.577</td></tr><tr><td>FactFinance100m</td><td>0</td><td>1</td><td>3</td><td>COMPRESSED</td><td>333324</td><td>BULKLOAD</td><td>Table_3b03618df7c6458cb362bc5edb705bfb_36</td><td>2022-07-08 11:46:35.710</td></tr><tr><td>FactFinance100m</td><td>0</td><td>1</td><td>3</td><td>COMPRESSED</td><td>333324</td><td>BULKLOAD</td><td>Table_3b03618df7c6458cb362bc5edb705bfb_37</td><td>2022-07-08 11:46:35.727</td></tr><tr><td>FactFinance100m</td><td>0</td><td>1</td><td>3</td><td>COMPRESSED</td><td>333324</td><td>BULKLOAD</td><td>Table_3b03618df7c6458cb362bc5edb705bfb_38</td><td>2022-07-08 11:46:36.617</td></tr><tr><td>FactFinance100m</td><td>0</td><td>1</td><td>3</td><td>COMPRESSED</td><td>333324</td><td>BULKLOAD</td><td>Table_3b03618df7c6458cb362bc5edb705bfb_39</td><td>2022-07-08 11:46:35.803</td></tr><tr><td>FactFinance100m</td><td>0</td><td>1</td><td>3</td><td>COMPRESSED</td><td>333324</td><td>BULKLOAD</td><td>Table_3b03618df7c6458cb362bc5edb705bfb_40</td><td>2022-07-08 11:46:36.663</td></tr><tr><td>FactFinance100m</td><td>0</td><td>1</td><td>3</td><td>COMPRESSED</td><td>333324</td><td>BULKLOAD</td><td>Table_3b03618df7c6458cb362bc5edb705bfb_41</td><td>2022-07-08 11:46:35.777</td></tr><tr><td>FactFinance100m</td><td>0</td><td>1</td><td>3</td><td>COMPRESSED</td><td>333324</td><td>BULKLOAD</td><td>Table_3b03618df7c6458cb362bc5edb705bfb_42</td><td>2022-07-08 11:46:36.627</td></tr><tr><td>FactFinance100m</td><td>0</td><td>1</td><td>3</td><td>COMPRESSED</td><td>333324</td><td>BULKLOAD</td><td>Table_3b03618df7c6458cb362bc5edb705bfb_43</td><td>2022-07-08 11:46:35.780</td></tr><tr><td>FactFinance100m</td><td>0</td><td>1</td><td>3</td><td>COMPRESSED</td><td>333324</td><td>BULKLOAD</td><td>Table_3b03618df7c6458cb362bc5edb705bfb_44</td><td>2022-07-08 11:46:36.657</td></tr><tr><td>FactFinance100m</td><td>0</td><td>1</td><td>3</td><td>COMPRESSED</td><td>333324</td><td>BULKLOAD</td><td>Table_3b03618df7c6458cb362bc5edb705bfb_45</td><td>2022-07-08 11:46:35.787</td></tr><tr><td>FactFinance100m</td><td>0</td><td>1</td><td>3</td><td>COMPRESSED</td><td>333884</td><td>BULKLOAD</td><td>Table_3b03618df7c6458cb362bc5edb705bfb_46</td><td>2022-07-08 11:46:36.650</td></tr><tr><td>FactFinance100m</td><td>0</td><td>1</td><td>3</td><td>COMPRESSED</td><td>333324</td><td>BULKLOAD</td><td>Table_3b03618df7c6458cb362bc5edb705bfb_47</td><td>2022-07-08 11:46:36.687</td></tr><tr><td>FactFinance100m</td><td>0</td><td>1</td><td>3</td><td>COMPRESSED</td><td>333324</td><td>BULKLOAD</td><td>Table_3b03618df7c6458cb362bc5edb705bfb_48</td><td>2022-07-08 11:46:36.680</td></tr><tr><td>FactFinance100m</td><td>0</td><td>1</td><td>3</td><td>COMPRESSED</td><td>333324</td><td>BULKLOAD</td><td>Table_3b03618df7c6458cb362bc5edb705bfb_49</td><td>2022-07-08 11:46:35.853</td></tr><tr><td>FactFinance100m</td><td>0</td><td>1</td><td>3</td><td>COMPRESSED</td><td>333324</td><td>BULKLOAD</td><td>Table_3b03618df7c6458cb362bc5edb705bfb_50</td><td>2022-07-08 11:46:35.813</td></tr><tr><td>FactFinance100m</td><td>0</td><td>1</td><td>3</td><td>COMPRESSED</td><td>333324</td><td>BULKLOAD</td><td>Table_3b03618df7c6458cb362bc5edb705bfb_51</td><td>2022-07-08 11:46:35.750</td></tr><tr><td>FactFinance100m</td><td>0</td><td>1</td><td>3</td><td>COMPRESSED</td><td>333324</td><td>BULKLOAD</td><td>Table_3b03618df7c6458cb362bc5edb705bfb_52</td><td>2022-07-08 11:46:35.740</td></tr><tr><td>FactFinance100m</td><td>0</td><td>1</td><td>3</td><td>COMPRESSED</td><td>333324</td><td>BULKLOAD</td><td>Table_3b03618df7c6458cb362bc5edb705bfb_53</td><td>2022-07-08 11:46:35.700</td></tr><tr><td>FactFinance100m</td><td>0</td><td>1</td><td>3</td><td>COMPRESSED</td><td>333324</td><td>BULKLOAD</td><td>Table_3b03618df7c6458cb362bc5edb705bfb_54</td><td>2022-07-08 11:46:35.850</td></tr><tr><td>FactFinance100m</td><td>0</td><td>1</td><td>3</td><td>COMPRESSED</td><td>333324</td><td>BULKLOAD</td><td>Table_3b03618df7c6458cb362bc5edb705bfb_55</td><td>2022-07-08 11:46:36.627</td></tr><tr><td>FactFinance100m</td><td>0</td><td>1</td><td>3</td><td>COMPRESSED</td><td>333324</td><td>BULKLOAD</td><td>Table_3b03618df7c6458cb362bc5edb705bfb_56</td><td>2022-07-08 11:46:36.640</td></tr><tr><td>FactFinance100m</td><td>0</td><td>1</td><td>3</td><td>COMPRESSED</td><td>333324</td><td>BULKLOAD</td><td>Table_3b03618df7c6458cb362bc5edb705bfb_57</td><td>2022-07-08 11:46:36.123</td></tr><tr><td>FactFinance100m</td><td>0</td><td>1</td><td>3</td><td>COMPRESSED</td><td>333324</td><td>BULKLOAD</td><td>Table_3b03618df7c6458cb362bc5edb705bfb_58</td><td>2022-07-08 11:46:36.660</td></tr><tr><td>FactFinance100m</td><td>0</td><td>1</td><td>3</td><td>COMPRESSED</td><td>333324</td><td>BULKLOAD</td><td>Table_3b03618df7c6458cb362bc5edb705bfb_59</td><td>2022-07-08 11:46:35.760</td></tr><tr><td>FactFinance100m</td><td>0</td><td>1</td><td>3</td><td>COMPRESSED</td><td>333324</td><td>BULKLOAD</td><td>Table_3b03618df7c6458cb362bc5edb705bfb_60</td><td>2022-07-08 11:46:35.793</td></tr></table>"
                    },
                    "metadata": {}
                }
            ],
            "execution_count": 8
        },
        {
            "cell_type": "code",
            "source": [
                "/* We could fix this with a REORG \r\n",
                "    ALTER INDEX ClusteredIndex_1fba0db5c48b40288124497ec2198389 ON [dbo].[FactFinance100m] REORGANIZE\r\n",
                "\r\n",
                "    But, lets introduce the ColumnStoreOptimize which can locate all Column Stores with low density and REORG them\r\n",
                "*/\r\n",
                "exec   [dbo].[ColumnstoreOptimize]  @Tables='FactFinance100m'\r\n",
                ",@DensityThreshold=25 /* Default=25 */\r\n",
                ",@OpenThreshold=null\r\n",
                ",@DeleteThreshold=null\r\n",
                ",@TimeLimit =null\r\n",
                ", @Execute='N'\r\n",
                ""
            ],
            "metadata": {
                "azdata_cell_guid": "8fab48bc-e202-46d5-9f7e-087a780f9fdd",
                "extensions": {
                    "azuredatastudio": {
                        "views": []
                    }
                },
                "tags": [],
                "language": "sql"
            },
            "outputs": [
                {
                    "output_type": "display_data",
                    "data": {
                        "text/html": "Date and time: 2022-07-08 11:50:07"
                    },
                    "metadata": {}
                },
                {
                    "output_type": "display_data",
                    "data": {
                        "text/html": "Server: aw-dev"
                    },
                    "metadata": {}
                },
                {
                    "output_type": "display_data",
                    "data": {
                        "text/html": "Version: 10.0.15665.0"
                    },
                    "metadata": {}
                },
                {
                    "output_type": "display_data",
                    "data": {
                        "text/html": "Edition: SQL Azure"
                    },
                    "metadata": {}
                },
                {
                    "output_type": "display_data",
                    "data": {
                        "text/html": "Parameters: @Tables= 'FactFinance100m', @DensityThreshold = 25.00, @OpenThreshold = 200000, @DeleteThreshold = 200000, @Execute = N"
                    },
                    "metadata": {}
                },
                {
                    "output_type": "display_data",
                    "data": {
                        "text/html": "Version: Microsoft Azure SQL Data Warehouse - 10.0.15665.0 Jul 7 2022 07:03:56 Copyright (c) Microsoft Corporation"
                    },
                    "metadata": {}
                },
                {
                    "output_type": "display_data",
                    "data": {
                        "text/html": "Source: https://github.com/ProdataSQL/SynapseTools/tree/main/SqlPools/Maintenance"
                    },
                    "metadata": {}
                },
                {
                    "output_type": "display_data",
                    "data": {
                        "text/html": "Date and time: 2022-07-08 11:50:11"
                    },
                    "metadata": {}
                },
                {
                    "output_type": "display_data",
                    "data": {
                        "text/html": "SqlCommand: ALTER INDEX ClusteredIndex_766ace22025346dba8b1db2efab6ee27 ON [dbo].[FactFinance100m] REORGANIZE"
                    },
                    "metadata": {}
                },
                {
                    "output_type": "display_data",
                    "data": {
                        "text/html": "Total execution time: 00:00:04.632"
                    },
                    "metadata": {}
                }
            ],
            "execution_count": 9
        },
        {
            "cell_type": "code",
            "source": [
                "/*  Now we can check commandlog and also imprves Stats\r\n",
                "    From 180 row groups to just 60 (one per distibution)\r\n",
                " */\r\n",
                "SELECT TOP 1 * FROM dbo.CommandLog ORDER BY StartTime DESC\r\n",
                "SELECT * From vColumnstoreStats where table_name ='factFinance100m'\r\n",
                ""
            ],
            "metadata": {
                "azdata_cell_guid": "dbcf391b-fcd1-4e63-8284-b8433fd7ed47",
                "extensions": {
                    "azuredatastudio": {
                        "views": []
                    }
                },
                "language": "sql"
            },
            "outputs": [
                {
                    "output_type": "display_data",
                    "data": {
                        "text/html": "(1 row affected)"
                    },
                    "metadata": {}
                },
                {
                    "output_type": "display_data",
                    "data": {
                        "text/html": "(1 row affected)"
                    },
                    "metadata": {}
                },
                {
                    "output_type": "display_data",
                    "data": {
                        "text/html": "Total execution time: 00:00:01.502"
                    },
                    "metadata": {}
                },
                {
                    "output_type": "execute_result",
                    "execution_count": 10,
                    "data": {
                        "application/vnd.dataresource+json": {
                            "schema": {
                                "fields": [
                                    {
                                        "name": "ID"
                                    },
                                    {
                                        "name": "DatabaseName"
                                    },
                                    {
                                        "name": "SchemaName"
                                    },
                                    {
                                        "name": "ObjectName"
                                    },
                                    {
                                        "name": "ObjectType"
                                    },
                                    {
                                        "name": "IndexName"
                                    },
                                    {
                                        "name": "IndexType"
                                    },
                                    {
                                        "name": "StatisticsName"
                                    },
                                    {
                                        "name": "PartitionNumber"
                                    },
                                    {
                                        "name": "ExtendedInfo"
                                    },
                                    {
                                        "name": "Command"
                                    },
                                    {
                                        "name": "CommandType"
                                    },
                                    {
                                        "name": "StartTime"
                                    },
                                    {
                                        "name": "EndTime"
                                    },
                                    {
                                        "name": "ErrorNumber"
                                    },
                                    {
                                        "name": "ErrorMessage"
                                    }
                                ]
                            },
                            "data": [
                                {
                                    "0": "4",
                                    "1": "AdventureWorksDW",
                                    "2": "dbo",
                                    "3": "FactFinance100m_nostats",
                                    "4": "U ",
                                    "5": "NULL",
                                    "6": "NULL",
                                    "7": "ALL",
                                    "8": "NULL",
                                    "9": "<ExtendedInfo><StatsRowCount>67844111</StatsRowCount><ActualRowCount>67403926</ActualRowCount><UpdateLevel>259622</UpdateLevel></ExtendedInfo>",
                                    "10": "UPDATE STATISTICS [dbo].[FactFinance100m_nostats] WITH FULLSCAN",
                                    "11": "UPDATE STATISTICS",
                                    "12": "2022-07-07 20:37:52.130",
                                    "13": "2022-07-07 20:37:55.077",
                                    "14": "NULL",
                                    "15": "NULL"
                                }
                            ]
                        },
                        "text/html": "<table><tr><th>ID</th><th>DatabaseName</th><th>SchemaName</th><th>ObjectName</th><th>ObjectType</th><th>IndexName</th><th>IndexType</th><th>StatisticsName</th><th>PartitionNumber</th><th>ExtendedInfo</th><th>Command</th><th>CommandType</th><th>StartTime</th><th>EndTime</th><th>ErrorNumber</th><th>ErrorMessage</th></tr><tr><td>4</td><td>AdventureWorksDW</td><td>dbo</td><td>FactFinance100m_nostats</td><td>U </td><td>NULL</td><td>NULL</td><td>ALL</td><td>NULL</td><td>&lt;ExtendedInfo&gt;&lt;StatsRowCount&gt;67844111&lt;/StatsRowCount&gt;&lt;ActualRowCount&gt;67403926&lt;/ActualRowCount&gt;&lt;UpdateLevel&gt;259622&lt;/UpdateLevel&gt;&lt;/ExtendedInfo&gt;</td><td>UPDATE STATISTICS [dbo].[FactFinance100m_nostats] WITH FULLSCAN</td><td>UPDATE STATISTICS</td><td>2022-07-07 20:37:52.130</td><td>2022-07-07 20:37:55.077</td><td>NULL</td><td>NULL</td></tr></table>"
                    },
                    "metadata": {}
                },
                {
                    "output_type": "execute_result",
                    "execution_count": 10,
                    "data": {
                        "application/vnd.dataresource+json": {
                            "schema": {
                                "fields": [
                                    {
                                        "name": "execution_date"
                                    },
                                    {
                                        "name": "database_name"
                                    },
                                    {
                                        "name": "schema_name"
                                    },
                                    {
                                        "name": "table_name"
                                    },
                                    {
                                        "name": "partition_number"
                                    },
                                    {
                                        "name": "partition_scheme"
                                    },
                                    {
                                        "name": "object_id"
                                    },
                                    {
                                        "name": "index_name"
                                    },
                                    {
                                        "name": "row_count"
                                    },
                                    {
                                        "name": "deleted_row_count"
                                    },
                                    {
                                        "name": "row_group_count"
                                    },
                                    {
                                        "name": "compressed_row_count"
                                    },
                                    {
                                        "name": "compressed_rowgroup_count"
                                    },
                                    {
                                        "name": "open_rowgroup_count"
                                    },
                                    {
                                        "name": "open_row_count"
                                    },
                                    {
                                        "name": "compressed_row_max"
                                    },
                                    {
                                        "name": "compressed_row_avg"
                                    },
                                    {
                                        "name": "fragmentation_density"
                                    },
                                    {
                                        "name": "fragmentation_deletes"
                                    },
                                    {
                                        "name": "fragmentation_open"
                                    }
                                ]
                            },
                            "data": [
                                {
                                    "0": "2022-07-08 11:50:12.400",
                                    "1": "AdventureWorksDW",
                                    "2": "dbo",
                                    "3": "FactFinance100m",
                                    "4": "NULL",
                                    "5": "NULL",
                                    "6": "130867583",
                                    "7": "ClusteredIndex_766ace22025346dba8b1db2efab6ee27",
                                    "8": "120000000",
                                    "9": "0",
                                    "10": "360",
                                    "11": "120000000",
                                    "12": "360",
                                    "13": "0",
                                    "14": "0",
                                    "15": "333884",
                                    "16": "333333",
                                    "17": "68.2100",
                                    "18": "0.0000",
                                    "19": "0.0000"
                                }
                            ]
                        },
                        "text/html": "<table><tr><th>execution_date</th><th>database_name</th><th>schema_name</th><th>table_name</th><th>partition_number</th><th>partition_scheme</th><th>object_id</th><th>index_name</th><th>row_count</th><th>deleted_row_count</th><th>row_group_count</th><th>compressed_row_count</th><th>compressed_rowgroup_count</th><th>open_rowgroup_count</th><th>open_row_count</th><th>compressed_row_max</th><th>compressed_row_avg</th><th>fragmentation_density</th><th>fragmentation_deletes</th><th>fragmentation_open</th></tr><tr><td>2022-07-08 11:50:12.400</td><td>AdventureWorksDW</td><td>dbo</td><td>FactFinance100m</td><td>NULL</td><td>NULL</td><td>130867583</td><td>ClusteredIndex_766ace22025346dba8b1db2efab6ee27</td><td>120000000</td><td>0</td><td>360</td><td>120000000</td><td>360</td><td>0</td><td>0</td><td>333884</td><td>333333</td><td>68.2100</td><td>0.0000</td><td>0.0000</td></tr></table>"
                    },
                    "metadata": {}
                }
            ],
            "execution_count": 10
        }
    ]
}