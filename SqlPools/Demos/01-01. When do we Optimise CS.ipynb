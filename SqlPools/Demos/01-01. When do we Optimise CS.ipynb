{
    "metadata": {
        "kernelspec": {
            "name": "SQL",
            "display_name": "SQL",
            "language": "sql"
        },
        "language_info": {
            "name": "sql",
            "version": ""
        },
        "extensions": {
            "azuredatastudio": {
                "version": 1,
                "views": []
            }
        }
    },
    "nbformat_minor": 2,
    "nbformat": 4,
    "cells": [
        {
            "cell_type": "markdown",
            "source": [
                "# When do we Optimize Column Stores ?"
            ],
            "metadata": {
                "azdata_cell_guid": "6bc6a6a2-166d-4792-b337-46ce4274cf59",
                "extensions": {
                    "azuredatastudio": {
                        "views": []
                    }
                }
            },
            "attachments": {}
        },
        {
            "cell_type": "markdown",
            "source": [
                "## <span style=\"font-size: 14px;\">We have three scenarios that may class a column store as requiring maintenance.</span>  \n",
                "\n",
                "- The Avg Row size of a segment is below the optimal (1024\\*1024=1,048,576). We call this density and it can be expressed as %. Eg 10% **fragmentation** means each segment is only 90% full.\n",
                "- The table contains a lot of soft **deleted** rows\n",
                "- The table contains a lot of **inserted** rows that have not yet been compressed by the [tuple mover](https://docs.microsoft.com/en-us/azure/synapse-analytics/sql-data-warehouse/sql-data-warehouse-tables-index). It can take over 60 million rows before this is engaged (eg 1 segment per distribution).\n",
                "\n",
                "."
            ],
            "metadata": {
                "azdata_cell_guid": "c9e3f785-68fe-4310-9eb7-ea6abf14a0b7",
                "extensions": {
                    "azuredatastudio": {
                        "views": []
                    }
                }
            },
            "attachments": {}
        },
        {
            "cell_type": "markdown",
            "source": [
                "### Demo - Fragmentation and Density"
            ],
            "metadata": {
                "azdata_cell_guid": "060e53bc-8043-4f9a-8676-81a31f7229ba",
                "extensions": {
                    "azuredatastudio": {
                        "views": []
                    }
                }
            }
        },
        {
            "cell_type": "code",
            "source": [
                "/* Demo - Examining Column store Density on inital Insert for 100 milion row */\r\n",
                "IF OBJECT_ID('[dbo].[FactFinance100m]') is not null \r\n",
                "\tDROP TABLE [dbo].[FactFinance100m]\r\n",
                "GO\r\n",
                "CREATE TABLE [dbo].[FactFinance100m] WITH (\r\n",
                "\tDISTRIBUTION = ROUND_ROBIN, CLUSTERED COLUMNSTORE INDEX \r\n",
                ") AS\r\n",
                "SELECT TOP 130000000 * FROM [dbo].[FactFinance1b]\r\n",
                "\r\n",
                ""
            ],
            "metadata": {
                "azdata_cell_guid": "5ef551d3-a01a-4e0d-84a8-516a38ab3c34",
                "extensions": {
                    "azuredatastudio": {
                        "views": []
                    }
                },
                "language": "sql",
                "tags": []
            },
            "outputs": [
                {
                    "output_type": "display_data",
                    "data": {
                        "text/html": "Commands completed successfully."
                    },
                    "metadata": {}
                },
                {
                    "output_type": "display_data",
                    "data": {
                        "text/html": "(130000000 rows affected)"
                    },
                    "metadata": {}
                },
                {
                    "output_type": "display_data",
                    "data": {
                        "text/html": "Total execution time: 00:02:13.655"
                    },
                    "metadata": {}
                }
            ],
            "execution_count": 30
        },
        {
            "cell_type": "code",
            "source": [
                "/* Using the DMV sys.[dm_pdw_nodes_db_column_store_row_group_physical_stats] we can track the size of each segment and WHY it was closed \r\n",
                "    The view \"[dbo].[vCS_rg_physical_stats]\" from https://docs.microsoft.com/en-us/azure/synapse-analytics/sql-data-warehouse/sql-data-warehouse-memory-optimizations-for-columnstore-compression \r\n",
                "    Helps a lot in understanding why segments arent full.\r\n",
                "\r\n",
                "    BULK INSERT, over partitioning or over enthusiastic REORG are the.\r\n",
                "\r\n",
                "    In this case we see only OPEN and NO_TRIM\r\n",
                "\r\n",
                "*/\r\n",
                "select * From [dbo].[vCS_rg_physical_stats] WHERE logical_table_name='FactFinance100m'"
            ],
            "metadata": {
                "azdata_cell_guid": "ab9dd387-cba0-4645-af24-db570f9c18b4",
                "extensions": {
                    "azuredatastudio": {
                        "views": []
                    }
                },
                "language": "sql",
                "tags": []
            },
            "outputs": [
                {
                    "output_type": "display_data",
                    "data": {
                        "text/html": "(180 rows affected)"
                    },
                    "metadata": {}
                },
                {
                    "output_type": "display_data",
                    "data": {
                        "text/html": "Total execution time: 00:00:01.289"
                    },
                    "metadata": {}
                },
                {
                    "output_type": "execute_result",
                    "execution_count": 31,
                    "data": {
                        "application/vnd.dataresource+json": {
                            "schema": {
                                "fields": [
                                    {
                                        "name": "logical_table_name"
                                    },
                                    {
                                        "name": "row_group_id"
                                    },
                                    {
                                        "name": "partition_number"
                                    },
                                    {
                                        "name": "state"
                                    },
                                    {
                                        "name": "state_desc"
                                    },
                                    {
                                        "name": "total_rows"
                                    },
                                    {
                                        "name": "trim_reason_desc"
                                    },
                                    {
                                        "name": "physical_name"
                                    },
                                    {
                                        "name": "created_time"
                                    }
                                ]
                            },
                            "data": [
                                {
                                    "0": "FactFinance100m",
                                    "1": "2",
                                    "2": "1",
                                    "3": "1",
                                    "4": "OPEN",
                                    "5": "69172",
                                    "6": "NULL",
                                    "7": "Table_5e36fad5620b4f1c8f3eb0d9fc992bec_1",
                                    "8": "2022-07-08 14:20:27.257"
                                },
                                {
                                    "0": "FactFinance100m",
                                    "1": "2",
                                    "2": "1",
                                    "3": "1",
                                    "4": "OPEN",
                                    "5": "69172",
                                    "6": "NULL",
                                    "7": "Table_5e36fad5620b4f1c8f3eb0d9fc992bec_2",
                                    "8": "2022-07-08 14:20:27.217"
                                },
                                {
                                    "0": "FactFinance100m",
                                    "1": "2",
                                    "2": "1",
                                    "3": "1",
                                    "4": "OPEN",
                                    "5": "69172",
                                    "6": "NULL",
                                    "7": "Table_5e36fad5620b4f1c8f3eb0d9fc992bec_3",
                                    "8": "2022-07-08 14:20:27.210"
                                },
                                {
                                    "0": "FactFinance100m",
                                    "1": "2",
                                    "2": "1",
                                    "3": "1",
                                    "4": "OPEN",
                                    "5": "69172",
                                    "6": "NULL",
                                    "7": "Table_5e36fad5620b4f1c8f3eb0d9fc992bec_4",
                                    "8": "2022-07-08 14:20:27.003"
                                },
                                {
                                    "0": "FactFinance100m",
                                    "1": "2",
                                    "2": "1",
                                    "3": "1",
                                    "4": "OPEN",
                                    "5": "69172",
                                    "6": "NULL",
                                    "7": "Table_5e36fad5620b4f1c8f3eb0d9fc992bec_5",
                                    "8": "2022-07-08 14:20:27.113"
                                },
                                {
                                    "0": "FactFinance100m",
                                    "1": "2",
                                    "2": "1",
                                    "3": "1",
                                    "4": "OPEN",
                                    "5": "69172",
                                    "6": "NULL",
                                    "7": "Table_5e36fad5620b4f1c8f3eb0d9fc992bec_6",
                                    "8": "2022-07-08 14:20:27.247"
                                },
                                {
                                    "0": "FactFinance100m",
                                    "1": "2",
                                    "2": "1",
                                    "3": "1",
                                    "4": "OPEN",
                                    "5": "69172",
                                    "6": "NULL",
                                    "7": "Table_5e36fad5620b4f1c8f3eb0d9fc992bec_7",
                                    "8": "2022-07-08 14:20:27.123"
                                },
                                {
                                    "0": "FactFinance100m",
                                    "1": "2",
                                    "2": "1",
                                    "3": "1",
                                    "4": "OPEN",
                                    "5": "69172",
                                    "6": "NULL",
                                    "7": "Table_5e36fad5620b4f1c8f3eb0d9fc992bec_8",
                                    "8": "2022-07-08 14:20:27.193"
                                },
                                {
                                    "0": "FactFinance100m",
                                    "1": "2",
                                    "2": "1",
                                    "3": "1",
                                    "4": "OPEN",
                                    "5": "69736",
                                    "6": "NULL",
                                    "7": "Table_5e36fad5620b4f1c8f3eb0d9fc992bec_9",
                                    "8": "2022-07-08 14:20:26.993"
                                },
                                {
                                    "0": "FactFinance100m",
                                    "1": "2",
                                    "2": "1",
                                    "3": "1",
                                    "4": "OPEN",
                                    "5": "69736",
                                    "6": "NULL",
                                    "7": "Table_5e36fad5620b4f1c8f3eb0d9fc992bec_10",
                                    "8": "2022-07-08 14:20:27.173"
                                },
                                {
                                    "0": "FactFinance100m",
                                    "1": "2",
                                    "2": "1",
                                    "3": "1",
                                    "4": "OPEN",
                                    "5": "69736",
                                    "6": "NULL",
                                    "7": "Table_5e36fad5620b4f1c8f3eb0d9fc992bec_11",
                                    "8": "2022-07-08 14:20:27.117"
                                },
                                {
                                    "0": "FactFinance100m",
                                    "1": "2",
                                    "2": "1",
                                    "3": "1",
                                    "4": "OPEN",
                                    "5": "69736",
                                    "6": "NULL",
                                    "7": "Table_5e36fad5620b4f1c8f3eb0d9fc992bec_12",
                                    "8": "2022-07-08 14:20:27.090"
                                },
                                {
                                    "0": "FactFinance100m",
                                    "1": "2",
                                    "2": "1",
                                    "3": "1",
                                    "4": "OPEN",
                                    "5": "69736",
                                    "6": "NULL",
                                    "7": "Table_5e36fad5620b4f1c8f3eb0d9fc992bec_13",
                                    "8": "2022-07-08 14:20:27.140"
                                },
                                {
                                    "0": "FactFinance100m",
                                    "1": "2",
                                    "2": "1",
                                    "3": "1",
                                    "4": "OPEN",
                                    "5": "69736",
                                    "6": "NULL",
                                    "7": "Table_5e36fad5620b4f1c8f3eb0d9fc992bec_14",
                                    "8": "2022-07-08 14:20:26.977"
                                },
                                {
                                    "0": "FactFinance100m",
                                    "1": "2",
                                    "2": "1",
                                    "3": "1",
                                    "4": "OPEN",
                                    "5": "69736",
                                    "6": "NULL",
                                    "7": "Table_5e36fad5620b4f1c8f3eb0d9fc992bec_15",
                                    "8": "2022-07-08 14:20:27.207"
                                },
                                {
                                    "0": "FactFinance100m",
                                    "1": "2",
                                    "2": "1",
                                    "3": "1",
                                    "4": "OPEN",
                                    "5": "69736",
                                    "6": "NULL",
                                    "7": "Table_5e36fad5620b4f1c8f3eb0d9fc992bec_16",
                                    "8": "2022-07-08 14:20:27.037"
                                },
                                {
                                    "0": "FactFinance100m",
                                    "1": "2",
                                    "2": "1",
                                    "3": "1",
                                    "4": "OPEN",
                                    "5": "69736",
                                    "6": "NULL",
                                    "7": "Table_5e36fad5620b4f1c8f3eb0d9fc992bec_17",
                                    "8": "2022-07-08 14:20:27.243"
                                },
                                {
                                    "0": "FactFinance100m",
                                    "1": "2",
                                    "2": "1",
                                    "3": "1",
                                    "4": "OPEN",
                                    "5": "69736",
                                    "6": "NULL",
                                    "7": "Table_5e36fad5620b4f1c8f3eb0d9fc992bec_18",
                                    "8": "2022-07-08 14:20:27.167"
                                },
                                {
                                    "0": "FactFinance100m",
                                    "1": "2",
                                    "2": "1",
                                    "3": "1",
                                    "4": "OPEN",
                                    "5": "69736",
                                    "6": "NULL",
                                    "7": "Table_5e36fad5620b4f1c8f3eb0d9fc992bec_19",
                                    "8": "2022-07-08 14:20:31.930"
                                },
                                {
                                    "0": "FactFinance100m",
                                    "1": "2",
                                    "2": "1",
                                    "3": "1",
                                    "4": "OPEN",
                                    "5": "69736",
                                    "6": "NULL",
                                    "7": "Table_5e36fad5620b4f1c8f3eb0d9fc992bec_20",
                                    "8": "2022-07-08 14:20:27.107"
                                },
                                {
                                    "0": "FactFinance100m",
                                    "1": "2",
                                    "2": "1",
                                    "3": "1",
                                    "4": "OPEN",
                                    "5": "69736",
                                    "6": "NULL",
                                    "7": "Table_5e36fad5620b4f1c8f3eb0d9fc992bec_21",
                                    "8": "2022-07-08 14:20:27.203"
                                },
                                {
                                    "0": "FactFinance100m",
                                    "1": "2",
                                    "2": "1",
                                    "3": "1",
                                    "4": "OPEN",
                                    "5": "69736",
                                    "6": "NULL",
                                    "7": "Table_5e36fad5620b4f1c8f3eb0d9fc992bec_22",
                                    "8": "2022-07-08 14:20:27.287"
                                },
                                {
                                    "0": "FactFinance100m",
                                    "1": "2",
                                    "2": "1",
                                    "3": "1",
                                    "4": "OPEN",
                                    "5": "69736",
                                    "6": "NULL",
                                    "7": "Table_5e36fad5620b4f1c8f3eb0d9fc992bec_23",
                                    "8": "2022-07-08 14:20:27.100"
                                },
                                {
                                    "0": "FactFinance100m",
                                    "1": "2",
                                    "2": "1",
                                    "3": "1",
                                    "4": "OPEN",
                                    "5": "69736",
                                    "6": "NULL",
                                    "7": "Table_5e36fad5620b4f1c8f3eb0d9fc992bec_24",
                                    "8": "2022-07-08 14:20:27.050"
                                },
                                {
                                    "0": "FactFinance100m",
                                    "1": "2",
                                    "2": "1",
                                    "3": "1",
                                    "4": "OPEN",
                                    "5": "69736",
                                    "6": "NULL",
                                    "7": "Table_5e36fad5620b4f1c8f3eb0d9fc992bec_25",
                                    "8": "2022-07-08 14:20:27.153"
                                },
                                {
                                    "0": "FactFinance100m",
                                    "1": "2",
                                    "2": "1",
                                    "3": "1",
                                    "4": "OPEN",
                                    "5": "69736",
                                    "6": "NULL",
                                    "7": "Table_5e36fad5620b4f1c8f3eb0d9fc992bec_26",
                                    "8": "2022-07-08 14:20:32.027"
                                },
                                {
                                    "0": "FactFinance100m",
                                    "1": "2",
                                    "2": "1",
                                    "3": "1",
                                    "4": "OPEN",
                                    "5": "69736",
                                    "6": "NULL",
                                    "7": "Table_5e36fad5620b4f1c8f3eb0d9fc992bec_27",
                                    "8": "2022-07-08 14:20:27.127"
                                },
                                {
                                    "0": "FactFinance100m",
                                    "1": "2",
                                    "2": "1",
                                    "3": "1",
                                    "4": "OPEN",
                                    "5": "69736",
                                    "6": "NULL",
                                    "7": "Table_5e36fad5620b4f1c8f3eb0d9fc992bec_28",
                                    "8": "2022-07-08 14:20:27.200"
                                },
                                {
                                    "0": "FactFinance100m",
                                    "1": "2",
                                    "2": "1",
                                    "3": "1",
                                    "4": "OPEN",
                                    "5": "69736",
                                    "6": "NULL",
                                    "7": "Table_5e36fad5620b4f1c8f3eb0d9fc992bec_29",
                                    "8": "2022-07-08 14:20:27.063"
                                },
                                {
                                    "0": "FactFinance100m",
                                    "1": "2",
                                    "2": "1",
                                    "3": "1",
                                    "4": "OPEN",
                                    "5": "69736",
                                    "6": "NULL",
                                    "7": "Table_5e36fad5620b4f1c8f3eb0d9fc992bec_30",
                                    "8": "2022-07-08 14:20:27.110"
                                },
                                {
                                    "0": "FactFinance100m",
                                    "1": "2",
                                    "2": "1",
                                    "3": "1",
                                    "4": "OPEN",
                                    "5": "69736",
                                    "6": "NULL",
                                    "7": "Table_5e36fad5620b4f1c8f3eb0d9fc992bec_31",
                                    "8": "2022-07-08 14:20:27.020"
                                },
                                {
                                    "0": "FactFinance100m",
                                    "1": "2",
                                    "2": "1",
                                    "3": "1",
                                    "4": "OPEN",
                                    "5": "69736",
                                    "6": "NULL",
                                    "7": "Table_5e36fad5620b4f1c8f3eb0d9fc992bec_32",
                                    "8": "2022-07-08 14:20:27.180"
                                },
                                {
                                    "0": "FactFinance100m",
                                    "1": "2",
                                    "2": "1",
                                    "3": "1",
                                    "4": "OPEN",
                                    "5": "69736",
                                    "6": "NULL",
                                    "7": "Table_5e36fad5620b4f1c8f3eb0d9fc992bec_33",
                                    "8": "2022-07-08 14:20:27.060"
                                },
                                {
                                    "0": "FactFinance100m",
                                    "1": "2",
                                    "2": "1",
                                    "3": "1",
                                    "4": "OPEN",
                                    "5": "69736",
                                    "6": "NULL",
                                    "7": "Table_5e36fad5620b4f1c8f3eb0d9fc992bec_34",
                                    "8": "2022-07-08 14:20:27.170"
                                },
                                {
                                    "0": "FactFinance100m",
                                    "1": "2",
                                    "2": "1",
                                    "3": "1",
                                    "4": "OPEN",
                                    "5": "69736",
                                    "6": "NULL",
                                    "7": "Table_5e36fad5620b4f1c8f3eb0d9fc992bec_35",
                                    "8": "2022-07-08 14:20:27.180"
                                },
                                {
                                    "0": "FactFinance100m",
                                    "1": "2",
                                    "2": "1",
                                    "3": "1",
                                    "4": "OPEN",
                                    "5": "69736",
                                    "6": "NULL",
                                    "7": "Table_5e36fad5620b4f1c8f3eb0d9fc992bec_36",
                                    "8": "2022-07-08 14:20:27.223"
                                },
                                {
                                    "0": "FactFinance100m",
                                    "1": "2",
                                    "2": "1",
                                    "3": "1",
                                    "4": "OPEN",
                                    "5": "69736",
                                    "6": "NULL",
                                    "7": "Table_5e36fad5620b4f1c8f3eb0d9fc992bec_37",
                                    "8": "2022-07-08 14:20:27.227"
                                },
                                {
                                    "0": "FactFinance100m",
                                    "1": "2",
                                    "2": "1",
                                    "3": "1",
                                    "4": "OPEN",
                                    "5": "69736",
                                    "6": "NULL",
                                    "7": "Table_5e36fad5620b4f1c8f3eb0d9fc992bec_38",
                                    "8": "2022-07-08 14:20:27.263"
                                },
                                {
                                    "0": "FactFinance100m",
                                    "1": "2",
                                    "2": "1",
                                    "3": "1",
                                    "4": "OPEN",
                                    "5": "69736",
                                    "6": "NULL",
                                    "7": "Table_5e36fad5620b4f1c8f3eb0d9fc992bec_39",
                                    "8": "2022-07-08 14:20:27.390"
                                },
                                {
                                    "0": "FactFinance100m",
                                    "1": "2",
                                    "2": "1",
                                    "3": "1",
                                    "4": "OPEN",
                                    "5": "69736",
                                    "6": "NULL",
                                    "7": "Table_5e36fad5620b4f1c8f3eb0d9fc992bec_40",
                                    "8": "2022-07-08 14:20:27.330"
                                },
                                {
                                    "0": "FactFinance100m",
                                    "1": "2",
                                    "2": "1",
                                    "3": "1",
                                    "4": "OPEN",
                                    "5": "69736",
                                    "6": "NULL",
                                    "7": "Table_5e36fad5620b4f1c8f3eb0d9fc992bec_41",
                                    "8": "2022-07-08 14:20:27.130"
                                },
                                {
                                    "0": "FactFinance100m",
                                    "1": "2",
                                    "2": "1",
                                    "3": "1",
                                    "4": "OPEN",
                                    "5": "69736",
                                    "6": "NULL",
                                    "7": "Table_5e36fad5620b4f1c8f3eb0d9fc992bec_42",
                                    "8": "2022-07-08 14:20:27.317"
                                },
                                {
                                    "0": "FactFinance100m",
                                    "1": "2",
                                    "2": "1",
                                    "3": "1",
                                    "4": "OPEN",
                                    "5": "69736",
                                    "6": "NULL",
                                    "7": "Table_5e36fad5620b4f1c8f3eb0d9fc992bec_43",
                                    "8": "2022-07-08 14:20:27.440"
                                },
                                {
                                    "0": "FactFinance100m",
                                    "1": "2",
                                    "2": "1",
                                    "3": "1",
                                    "4": "OPEN",
                                    "5": "69736",
                                    "6": "NULL",
                                    "7": "Table_5e36fad5620b4f1c8f3eb0d9fc992bec_44",
                                    "8": "2022-07-08 14:20:27.093"
                                },
                                {
                                    "0": "FactFinance100m",
                                    "1": "2",
                                    "2": "1",
                                    "3": "1",
                                    "4": "OPEN",
                                    "5": "69428",
                                    "6": "NULL",
                                    "7": "Table_5e36fad5620b4f1c8f3eb0d9fc992bec_45",
                                    "8": "2022-07-08 14:20:27.177"
                                },
                                {
                                    "0": "FactFinance100m",
                                    "1": "2",
                                    "2": "1",
                                    "3": "1",
                                    "4": "OPEN",
                                    "5": "69172",
                                    "6": "NULL",
                                    "7": "Table_5e36fad5620b4f1c8f3eb0d9fc992bec_46",
                                    "8": "2022-07-08 14:20:27.077"
                                },
                                {
                                    "0": "FactFinance100m",
                                    "1": "2",
                                    "2": "1",
                                    "3": "1",
                                    "4": "OPEN",
                                    "5": "69172",
                                    "6": "NULL",
                                    "7": "Table_5e36fad5620b4f1c8f3eb0d9fc992bec_47",
                                    "8": "2022-07-08 14:20:27.113"
                                },
                                {
                                    "0": "FactFinance100m",
                                    "1": "2",
                                    "2": "1",
                                    "3": "1",
                                    "4": "OPEN",
                                    "5": "69172",
                                    "6": "NULL",
                                    "7": "Table_5e36fad5620b4f1c8f3eb0d9fc992bec_48",
                                    "8": "2022-07-08 14:20:27.083"
                                },
                                {
                                    "0": "FactFinance100m",
                                    "1": "2",
                                    "2": "1",
                                    "3": "1",
                                    "4": "OPEN",
                                    "5": "69172",
                                    "6": "NULL",
                                    "7": "Table_5e36fad5620b4f1c8f3eb0d9fc992bec_49",
                                    "8": "2022-07-08 14:20:27.337"
                                },
                                {
                                    "0": "FactFinance100m",
                                    "1": "2",
                                    "2": "1",
                                    "3": "1",
                                    "4": "OPEN",
                                    "5": "69172",
                                    "6": "NULL",
                                    "7": "Table_5e36fad5620b4f1c8f3eb0d9fc992bec_50",
                                    "8": "2022-07-08 14:20:27.557"
                                },
                                {
                                    "0": "FactFinance100m",
                                    "1": "2",
                                    "2": "1",
                                    "3": "1",
                                    "4": "OPEN",
                                    "5": "69172",
                                    "6": "NULL",
                                    "7": "Table_5e36fad5620b4f1c8f3eb0d9fc992bec_51",
                                    "8": "2022-07-08 14:20:27.330"
                                },
                                {
                                    "0": "FactFinance100m",
                                    "1": "2",
                                    "2": "1",
                                    "3": "1",
                                    "4": "OPEN",
                                    "5": "69172",
                                    "6": "NULL",
                                    "7": "Table_5e36fad5620b4f1c8f3eb0d9fc992bec_52",
                                    "8": "2022-07-08 14:20:27.310"
                                },
                                {
                                    "0": "FactFinance100m",
                                    "1": "2",
                                    "2": "1",
                                    "3": "1",
                                    "4": "OPEN",
                                    "5": "69172",
                                    "6": "NULL",
                                    "7": "Table_5e36fad5620b4f1c8f3eb0d9fc992bec_53",
                                    "8": "2022-07-08 14:20:27.170"
                                },
                                {
                                    "0": "FactFinance100m",
                                    "1": "2",
                                    "2": "1",
                                    "3": "1",
                                    "4": "OPEN",
                                    "5": "69172",
                                    "6": "NULL",
                                    "7": "Table_5e36fad5620b4f1c8f3eb0d9fc992bec_54",
                                    "8": "2022-07-08 14:20:27.137"
                                },
                                {
                                    "0": "FactFinance100m",
                                    "1": "2",
                                    "2": "1",
                                    "3": "1",
                                    "4": "OPEN",
                                    "5": "69172",
                                    "6": "NULL",
                                    "7": "Table_5e36fad5620b4f1c8f3eb0d9fc992bec_55",
                                    "8": "2022-07-08 14:20:26.907"
                                },
                                {
                                    "0": "FactFinance100m",
                                    "1": "2",
                                    "2": "1",
                                    "3": "1",
                                    "4": "OPEN",
                                    "5": "69172",
                                    "6": "NULL",
                                    "7": "Table_5e36fad5620b4f1c8f3eb0d9fc992bec_56",
                                    "8": "2022-07-08 14:20:27.017"
                                },
                                {
                                    "0": "FactFinance100m",
                                    "1": "2",
                                    "2": "1",
                                    "3": "1",
                                    "4": "OPEN",
                                    "5": "69172",
                                    "6": "NULL",
                                    "7": "Table_5e36fad5620b4f1c8f3eb0d9fc992bec_57",
                                    "8": "2022-07-08 14:20:27.333"
                                },
                                {
                                    "0": "FactFinance100m",
                                    "1": "2",
                                    "2": "1",
                                    "3": "1",
                                    "4": "OPEN",
                                    "5": "69172",
                                    "6": "NULL",
                                    "7": "Table_5e36fad5620b4f1c8f3eb0d9fc992bec_58",
                                    "8": "2022-07-08 14:20:27.117"
                                },
                                {
                                    "0": "FactFinance100m",
                                    "1": "2",
                                    "2": "1",
                                    "3": "1",
                                    "4": "OPEN",
                                    "5": "69172",
                                    "6": "NULL",
                                    "7": "Table_5e36fad5620b4f1c8f3eb0d9fc992bec_59",
                                    "8": "2022-07-08 14:20:27.187"
                                },
                                {
                                    "0": "FactFinance100m",
                                    "1": "2",
                                    "2": "1",
                                    "3": "1",
                                    "4": "OPEN",
                                    "5": "69172",
                                    "6": "NULL",
                                    "7": "Table_5e36fad5620b4f1c8f3eb0d9fc992bec_60",
                                    "8": "2022-07-08 14:20:27.187"
                                },
                                {
                                    "0": "FactFinance100m",
                                    "1": "1",
                                    "2": "1",
                                    "3": "3",
                                    "4": "COMPRESSED",
                                    "5": "1048576",
                                    "6": "NO_TRIM",
                                    "7": "Table_5e36fad5620b4f1c8f3eb0d9fc992bec_1",
                                    "8": "2022-07-08 14:20:27.087"
                                },
                                {
                                    "0": "FactFinance100m",
                                    "1": "1",
                                    "2": "1",
                                    "3": "3",
                                    "4": "COMPRESSED",
                                    "5": "1048576",
                                    "6": "NO_TRIM",
                                    "7": "Table_5e36fad5620b4f1c8f3eb0d9fc992bec_2",
                                    "8": "2022-07-08 14:20:27.043"
                                },
                                {
                                    "0": "FactFinance100m",
                                    "1": "1",
                                    "2": "1",
                                    "3": "3",
                                    "4": "COMPRESSED",
                                    "5": "1048576",
                                    "6": "NO_TRIM",
                                    "7": "Table_5e36fad5620b4f1c8f3eb0d9fc992bec_3",
                                    "8": "2022-07-08 14:20:27.020"
                                },
                                {
                                    "0": "FactFinance100m",
                                    "1": "1",
                                    "2": "1",
                                    "3": "3",
                                    "4": "COMPRESSED",
                                    "5": "1048576",
                                    "6": "NO_TRIM",
                                    "7": "Table_5e36fad5620b4f1c8f3eb0d9fc992bec_4",
                                    "8": "2022-07-08 14:20:26.830"
                                },
                                {
                                    "0": "FactFinance100m",
                                    "1": "1",
                                    "2": "1",
                                    "3": "3",
                                    "4": "COMPRESSED",
                                    "5": "1048576",
                                    "6": "NO_TRIM",
                                    "7": "Table_5e36fad5620b4f1c8f3eb0d9fc992bec_5",
                                    "8": "2022-07-08 14:20:26.940"
                                },
                                {
                                    "0": "FactFinance100m",
                                    "1": "1",
                                    "2": "1",
                                    "3": "3",
                                    "4": "COMPRESSED",
                                    "5": "1048576",
                                    "6": "NO_TRIM",
                                    "7": "Table_5e36fad5620b4f1c8f3eb0d9fc992bec_6",
                                    "8": "2022-07-08 14:20:27.073"
                                },
                                {
                                    "0": "FactFinance100m",
                                    "1": "1",
                                    "2": "1",
                                    "3": "3",
                                    "4": "COMPRESSED",
                                    "5": "1048576",
                                    "6": "NO_TRIM",
                                    "7": "Table_5e36fad5620b4f1c8f3eb0d9fc992bec_7",
                                    "8": "2022-07-08 14:20:26.947"
                                },
                                {
                                    "0": "FactFinance100m",
                                    "1": "1",
                                    "2": "1",
                                    "3": "3",
                                    "4": "COMPRESSED",
                                    "5": "1048576",
                                    "6": "NO_TRIM",
                                    "7": "Table_5e36fad5620b4f1c8f3eb0d9fc992bec_8",
                                    "8": "2022-07-08 14:20:27.003"
                                },
                                {
                                    "0": "FactFinance100m",
                                    "1": "1",
                                    "2": "1",
                                    "3": "3",
                                    "4": "COMPRESSED",
                                    "5": "1048576",
                                    "6": "NO_TRIM",
                                    "7": "Table_5e36fad5620b4f1c8f3eb0d9fc992bec_9",
                                    "8": "2022-07-08 14:20:26.820"
                                },
                                {
                                    "0": "FactFinance100m",
                                    "1": "1",
                                    "2": "1",
                                    "3": "3",
                                    "4": "COMPRESSED",
                                    "5": "1048576",
                                    "6": "NO_TRIM",
                                    "7": "Table_5e36fad5620b4f1c8f3eb0d9fc992bec_10",
                                    "8": "2022-07-08 14:20:26.990"
                                },
                                {
                                    "0": "FactFinance100m",
                                    "1": "1",
                                    "2": "1",
                                    "3": "3",
                                    "4": "COMPRESSED",
                                    "5": "1048576",
                                    "6": "NO_TRIM",
                                    "7": "Table_5e36fad5620b4f1c8f3eb0d9fc992bec_11",
                                    "8": "2022-07-08 14:20:26.943"
                                },
                                {
                                    "0": "FactFinance100m",
                                    "1": "1",
                                    "2": "1",
                                    "3": "3",
                                    "4": "COMPRESSED",
                                    "5": "1048576",
                                    "6": "NO_TRIM",
                                    "7": "Table_5e36fad5620b4f1c8f3eb0d9fc992bec_12",
                                    "8": "2022-07-08 14:20:26.907"
                                },
                                {
                                    "0": "FactFinance100m",
                                    "1": "1",
                                    "2": "1",
                                    "3": "3",
                                    "4": "COMPRESSED",
                                    "5": "1048576",
                                    "6": "NO_TRIM",
                                    "7": "Table_5e36fad5620b4f1c8f3eb0d9fc992bec_13",
                                    "8": "2022-07-08 14:20:26.970"
                                },
                                {
                                    "0": "FactFinance100m",
                                    "1": "1",
                                    "2": "1",
                                    "3": "3",
                                    "4": "COMPRESSED",
                                    "5": "1048576",
                                    "6": "NO_TRIM",
                                    "7": "Table_5e36fad5620b4f1c8f3eb0d9fc992bec_14",
                                    "8": "2022-07-08 14:20:26.800"
                                },
                                {
                                    "0": "FactFinance100m",
                                    "1": "1",
                                    "2": "1",
                                    "3": "3",
                                    "4": "COMPRESSED",
                                    "5": "1048576",
                                    "6": "NO_TRIM",
                                    "7": "Table_5e36fad5620b4f1c8f3eb0d9fc992bec_15",
                                    "8": "2022-07-08 14:20:27.023"
                                },
                                {
                                    "0": "FactFinance100m",
                                    "1": "1",
                                    "2": "1",
                                    "3": "3",
                                    "4": "COMPRESSED",
                                    "5": "1048576",
                                    "6": "NO_TRIM",
                                    "7": "Table_5e36fad5620b4f1c8f3eb0d9fc992bec_16",
                                    "8": "2022-07-08 14:20:26.863"
                                },
                                {
                                    "0": "FactFinance100m",
                                    "1": "1",
                                    "2": "1",
                                    "3": "3",
                                    "4": "COMPRESSED",
                                    "5": "1048576",
                                    "6": "NO_TRIM",
                                    "7": "Table_5e36fad5620b4f1c8f3eb0d9fc992bec_17",
                                    "8": "2022-07-08 14:20:27.060"
                                },
                                {
                                    "0": "FactFinance100m",
                                    "1": "1",
                                    "2": "1",
                                    "3": "3",
                                    "4": "COMPRESSED",
                                    "5": "1048576",
                                    "6": "NO_TRIM",
                                    "7": "Table_5e36fad5620b4f1c8f3eb0d9fc992bec_18",
                                    "8": "2022-07-08 14:20:26.987"
                                },
                                {
                                    "0": "FactFinance100m",
                                    "1": "1",
                                    "2": "1",
                                    "3": "3",
                                    "4": "COMPRESSED",
                                    "5": "1048576",
                                    "6": "NO_TRIM",
                                    "7": "Table_5e36fad5620b4f1c8f3eb0d9fc992bec_19",
                                    "8": "2022-07-08 14:20:31.737"
                                },
                                {
                                    "0": "FactFinance100m",
                                    "1": "1",
                                    "2": "1",
                                    "3": "3",
                                    "4": "COMPRESSED",
                                    "5": "1048576",
                                    "6": "NO_TRIM",
                                    "7": "Table_5e36fad5620b4f1c8f3eb0d9fc992bec_20",
                                    "8": "2022-07-08 14:20:26.923"
                                },
                                {
                                    "0": "FactFinance100m",
                                    "1": "1",
                                    "2": "1",
                                    "3": "3",
                                    "4": "COMPRESSED",
                                    "5": "1048576",
                                    "6": "NO_TRIM",
                                    "7": "Table_5e36fad5620b4f1c8f3eb0d9fc992bec_21",
                                    "8": "2022-07-08 14:20:27.020"
                                },
                                {
                                    "0": "FactFinance100m",
                                    "1": "1",
                                    "2": "1",
                                    "3": "3",
                                    "4": "COMPRESSED",
                                    "5": "1048576",
                                    "6": "NO_TRIM",
                                    "7": "Table_5e36fad5620b4f1c8f3eb0d9fc992bec_22",
                                    "8": "2022-07-08 14:20:27.117"
                                },
                                {
                                    "0": "FactFinance100m",
                                    "1": "1",
                                    "2": "1",
                                    "3": "3",
                                    "4": "COMPRESSED",
                                    "5": "1048576",
                                    "6": "NO_TRIM",
                                    "7": "Table_5e36fad5620b4f1c8f3eb0d9fc992bec_23",
                                    "8": "2022-07-08 14:20:26.920"
                                },
                                {
                                    "0": "FactFinance100m",
                                    "1": "1",
                                    "2": "1",
                                    "3": "3",
                                    "4": "COMPRESSED",
                                    "5": "1048576",
                                    "6": "NO_TRIM",
                                    "7": "Table_5e36fad5620b4f1c8f3eb0d9fc992bec_24",
                                    "8": "2022-07-08 14:20:26.860"
                                },
                                {
                                    "0": "FactFinance100m",
                                    "1": "1",
                                    "2": "1",
                                    "3": "3",
                                    "4": "COMPRESSED",
                                    "5": "1048576",
                                    "6": "NO_TRIM",
                                    "7": "Table_5e36fad5620b4f1c8f3eb0d9fc992bec_25",
                                    "8": "2022-07-08 14:20:26.973"
                                },
                                {
                                    "0": "FactFinance100m",
                                    "1": "1",
                                    "2": "1",
                                    "3": "3",
                                    "4": "COMPRESSED",
                                    "5": "1048576",
                                    "6": "NO_TRIM",
                                    "7": "Table_5e36fad5620b4f1c8f3eb0d9fc992bec_26",
                                    "8": "2022-07-08 14:20:31.790"
                                },
                                {
                                    "0": "FactFinance100m",
                                    "1": "1",
                                    "2": "1",
                                    "3": "3",
                                    "4": "COMPRESSED",
                                    "5": "1048576",
                                    "6": "NO_TRIM",
                                    "7": "Table_5e36fad5620b4f1c8f3eb0d9fc992bec_27",
                                    "8": "2022-07-08 14:20:26.953"
                                },
                                {
                                    "0": "FactFinance100m",
                                    "1": "1",
                                    "2": "1",
                                    "3": "3",
                                    "4": "COMPRESSED",
                                    "5": "1048576",
                                    "6": "NO_TRIM",
                                    "7": "Table_5e36fad5620b4f1c8f3eb0d9fc992bec_28",
                                    "8": "2022-07-08 14:20:27.023"
                                },
                                {
                                    "0": "FactFinance100m",
                                    "1": "1",
                                    "2": "1",
                                    "3": "3",
                                    "4": "COMPRESSED",
                                    "5": "1048576",
                                    "6": "NO_TRIM",
                                    "7": "Table_5e36fad5620b4f1c8f3eb0d9fc992bec_29",
                                    "8": "2022-07-08 14:20:26.890"
                                },
                                {
                                    "0": "FactFinance100m",
                                    "1": "1",
                                    "2": "1",
                                    "3": "3",
                                    "4": "COMPRESSED",
                                    "5": "1048576",
                                    "6": "NO_TRIM",
                                    "7": "Table_5e36fad5620b4f1c8f3eb0d9fc992bec_30",
                                    "8": "2022-07-08 14:20:26.933"
                                },
                                {
                                    "0": "FactFinance100m",
                                    "1": "1",
                                    "2": "1",
                                    "3": "3",
                                    "4": "COMPRESSED",
                                    "5": "1048576",
                                    "6": "NO_TRIM",
                                    "7": "Table_5e36fad5620b4f1c8f3eb0d9fc992bec_31",
                                    "8": "2022-07-08 14:20:26.850"
                                },
                                {
                                    "0": "FactFinance100m",
                                    "1": "1",
                                    "2": "1",
                                    "3": "3",
                                    "4": "COMPRESSED",
                                    "5": "1048576",
                                    "6": "NO_TRIM",
                                    "7": "Table_5e36fad5620b4f1c8f3eb0d9fc992bec_32",
                                    "8": "2022-07-08 14:20:26.997"
                                },
                                {
                                    "0": "FactFinance100m",
                                    "1": "1",
                                    "2": "1",
                                    "3": "3",
                                    "4": "COMPRESSED",
                                    "5": "1048576",
                                    "6": "NO_TRIM",
                                    "7": "Table_5e36fad5620b4f1c8f3eb0d9fc992bec_33",
                                    "8": "2022-07-08 14:20:26.880"
                                },
                                {
                                    "0": "FactFinance100m",
                                    "1": "1",
                                    "2": "1",
                                    "3": "3",
                                    "4": "COMPRESSED",
                                    "5": "1048576",
                                    "6": "NO_TRIM",
                                    "7": "Table_5e36fad5620b4f1c8f3eb0d9fc992bec_34",
                                    "8": "2022-07-08 14:20:26.967"
                                },
                                {
                                    "0": "FactFinance100m",
                                    "1": "1",
                                    "2": "1",
                                    "3": "3",
                                    "4": "COMPRESSED",
                                    "5": "1048576",
                                    "6": "NO_TRIM",
                                    "7": "Table_5e36fad5620b4f1c8f3eb0d9fc992bec_35",
                                    "8": "2022-07-08 14:20:26.993"
                                },
                                {
                                    "0": "FactFinance100m",
                                    "1": "1",
                                    "2": "1",
                                    "3": "3",
                                    "4": "COMPRESSED",
                                    "5": "1048576",
                                    "6": "NO_TRIM",
                                    "7": "Table_5e36fad5620b4f1c8f3eb0d9fc992bec_36",
                                    "8": "2022-07-08 14:20:27.050"
                                },
                                {
                                    "0": "FactFinance100m",
                                    "1": "1",
                                    "2": "1",
                                    "3": "3",
                                    "4": "COMPRESSED",
                                    "5": "1048576",
                                    "6": "NO_TRIM",
                                    "7": "Table_5e36fad5620b4f1c8f3eb0d9fc992bec_37",
                                    "8": "2022-07-08 14:20:27.053"
                                },
                                {
                                    "0": "FactFinance100m",
                                    "1": "1",
                                    "2": "1",
                                    "3": "3",
                                    "4": "COMPRESSED",
                                    "5": "1048576",
                                    "6": "NO_TRIM",
                                    "7": "Table_5e36fad5620b4f1c8f3eb0d9fc992bec_38",
                                    "8": "2022-07-08 14:20:27.037"
                                },
                                {
                                    "0": "FactFinance100m",
                                    "1": "1",
                                    "2": "1",
                                    "3": "3",
                                    "4": "COMPRESSED",
                                    "5": "1048576",
                                    "6": "NO_TRIM",
                                    "7": "Table_5e36fad5620b4f1c8f3eb0d9fc992bec_39",
                                    "8": "2022-07-08 14:20:27.147"
                                },
                                {
                                    "0": "FactFinance100m",
                                    "1": "1",
                                    "2": "1",
                                    "3": "3",
                                    "4": "COMPRESSED",
                                    "5": "1048576",
                                    "6": "NO_TRIM",
                                    "7": "Table_5e36fad5620b4f1c8f3eb0d9fc992bec_40",
                                    "8": "2022-07-08 14:20:27.107"
                                },
                                {
                                    "0": "FactFinance100m",
                                    "1": "1",
                                    "2": "1",
                                    "3": "3",
                                    "4": "COMPRESSED",
                                    "5": "1048576",
                                    "6": "NO_TRIM",
                                    "7": "Table_5e36fad5620b4f1c8f3eb0d9fc992bec_41",
                                    "8": "2022-07-08 14:20:26.957"
                                },
                                {
                                    "0": "FactFinance100m",
                                    "1": "1",
                                    "2": "1",
                                    "3": "3",
                                    "4": "COMPRESSED",
                                    "5": "1048576",
                                    "6": "NO_TRIM",
                                    "7": "Table_5e36fad5620b4f1c8f3eb0d9fc992bec_42",
                                    "8": "2022-07-08 14:20:27.123"
                                },
                                {
                                    "0": "FactFinance100m",
                                    "1": "1",
                                    "2": "1",
                                    "3": "3",
                                    "4": "COMPRESSED",
                                    "5": "1048576",
                                    "6": "NO_TRIM",
                                    "7": "Table_5e36fad5620b4f1c8f3eb0d9fc992bec_43",
                                    "8": "2022-07-08 14:20:27.233"
                                },
                                {
                                    "0": "FactFinance100m",
                                    "1": "1",
                                    "2": "1",
                                    "3": "3",
                                    "4": "COMPRESSED",
                                    "5": "1048576",
                                    "6": "NO_TRIM",
                                    "7": "Table_5e36fad5620b4f1c8f3eb0d9fc992bec_44",
                                    "8": "2022-07-08 14:20:26.920"
                                },
                                {
                                    "0": "FactFinance100m",
                                    "1": "1",
                                    "2": "1",
                                    "3": "3",
                                    "4": "COMPRESSED",
                                    "5": "1048576",
                                    "6": "NO_TRIM",
                                    "7": "Table_5e36fad5620b4f1c8f3eb0d9fc992bec_45",
                                    "8": "2022-07-08 14:20:26.993"
                                },
                                {
                                    "0": "FactFinance100m",
                                    "1": "1",
                                    "2": "1",
                                    "3": "3",
                                    "4": "COMPRESSED",
                                    "5": "1048576",
                                    "6": "NO_TRIM",
                                    "7": "Table_5e36fad5620b4f1c8f3eb0d9fc992bec_46",
                                    "8": "2022-07-08 14:20:26.900"
                                },
                                {
                                    "0": "FactFinance100m",
                                    "1": "1",
                                    "2": "1",
                                    "3": "3",
                                    "4": "COMPRESSED",
                                    "5": "1048576",
                                    "6": "NO_TRIM",
                                    "7": "Table_5e36fad5620b4f1c8f3eb0d9fc992bec_47",
                                    "8": "2022-07-08 14:20:26.930"
                                },
                                {
                                    "0": "FactFinance100m",
                                    "1": "1",
                                    "2": "1",
                                    "3": "3",
                                    "4": "COMPRESSED",
                                    "5": "1048576",
                                    "6": "NO_TRIM",
                                    "7": "Table_5e36fad5620b4f1c8f3eb0d9fc992bec_48",
                                    "8": "2022-07-08 14:20:26.910"
                                },
                                {
                                    "0": "FactFinance100m",
                                    "1": "1",
                                    "2": "1",
                                    "3": "3",
                                    "4": "COMPRESSED",
                                    "5": "1048576",
                                    "6": "NO_TRIM",
                                    "7": "Table_5e36fad5620b4f1c8f3eb0d9fc992bec_49",
                                    "8": "2022-07-08 14:20:27.103"
                                },
                                {
                                    "0": "FactFinance100m",
                                    "1": "1",
                                    "2": "1",
                                    "3": "3",
                                    "4": "COMPRESSED",
                                    "5": "1048576",
                                    "6": "NO_TRIM",
                                    "7": "Table_5e36fad5620b4f1c8f3eb0d9fc992bec_50",
                                    "8": "2022-07-08 14:20:27.357"
                                },
                                {
                                    "0": "FactFinance100m",
                                    "1": "1",
                                    "2": "1",
                                    "3": "3",
                                    "4": "COMPRESSED",
                                    "5": "1048576",
                                    "6": "NO_TRIM",
                                    "7": "Table_5e36fad5620b4f1c8f3eb0d9fc992bec_51",
                                    "8": "2022-07-08 14:20:27.103"
                                },
                                {
                                    "0": "FactFinance100m",
                                    "1": "1",
                                    "2": "1",
                                    "3": "3",
                                    "4": "COMPRESSED",
                                    "5": "1048576",
                                    "6": "NO_TRIM",
                                    "7": "Table_5e36fad5620b4f1c8f3eb0d9fc992bec_52",
                                    "8": "2022-07-08 14:20:27.067"
                                },
                                {
                                    "0": "FactFinance100m",
                                    "1": "1",
                                    "2": "1",
                                    "3": "3",
                                    "4": "COMPRESSED",
                                    "5": "1048576",
                                    "6": "NO_TRIM",
                                    "7": "Table_5e36fad5620b4f1c8f3eb0d9fc992bec_53",
                                    "8": "2022-07-08 14:20:26.993"
                                },
                                {
                                    "0": "FactFinance100m",
                                    "1": "1",
                                    "2": "1",
                                    "3": "3",
                                    "4": "COMPRESSED",
                                    "5": "1048576",
                                    "6": "NO_TRIM",
                                    "7": "Table_5e36fad5620b4f1c8f3eb0d9fc992bec_54",
                                    "8": "2022-07-08 14:20:26.963"
                                },
                                {
                                    "0": "FactFinance100m",
                                    "1": "1",
                                    "2": "1",
                                    "3": "3",
                                    "4": "COMPRESSED",
                                    "5": "1048576",
                                    "6": "NO_TRIM",
                                    "7": "Table_5e36fad5620b4f1c8f3eb0d9fc992bec_55",
                                    "8": "2022-07-08 14:20:26.730"
                                },
                                {
                                    "0": "FactFinance100m",
                                    "1": "1",
                                    "2": "1",
                                    "3": "3",
                                    "4": "COMPRESSED",
                                    "5": "1048576",
                                    "6": "NO_TRIM",
                                    "7": "Table_5e36fad5620b4f1c8f3eb0d9fc992bec_56",
                                    "8": "2022-07-08 14:20:26.837"
                                },
                                {
                                    "0": "FactFinance100m",
                                    "1": "1",
                                    "2": "1",
                                    "3": "3",
                                    "4": "COMPRESSED",
                                    "5": "1048576",
                                    "6": "NO_TRIM",
                                    "7": "Table_5e36fad5620b4f1c8f3eb0d9fc992bec_57",
                                    "8": "2022-07-08 14:20:27.080"
                                },
                                {
                                    "0": "FactFinance100m",
                                    "1": "1",
                                    "2": "1",
                                    "3": "3",
                                    "4": "COMPRESSED",
                                    "5": "1048576",
                                    "6": "NO_TRIM",
                                    "7": "Table_5e36fad5620b4f1c8f3eb0d9fc992bec_58",
                                    "8": "2022-07-08 14:20:26.943"
                                },
                                {
                                    "0": "FactFinance100m",
                                    "1": "1",
                                    "2": "1",
                                    "3": "3",
                                    "4": "COMPRESSED",
                                    "5": "1048576",
                                    "6": "NO_TRIM",
                                    "7": "Table_5e36fad5620b4f1c8f3eb0d9fc992bec_59",
                                    "8": "2022-07-08 14:20:27.000"
                                },
                                {
                                    "0": "FactFinance100m",
                                    "1": "1",
                                    "2": "1",
                                    "3": "3",
                                    "4": "COMPRESSED",
                                    "5": "1048576",
                                    "6": "NO_TRIM",
                                    "7": "Table_5e36fad5620b4f1c8f3eb0d9fc992bec_60",
                                    "8": "2022-07-08 14:20:26.997"
                                },
                                {
                                    "0": "FactFinance100m",
                                    "1": "0",
                                    "2": "1",
                                    "3": "3",
                                    "4": "COMPRESSED",
                                    "5": "1048576",
                                    "6": "NO_TRIM",
                                    "7": "Table_5e36fad5620b4f1c8f3eb0d9fc992bec_1",
                                    "8": "2022-07-08 14:20:23.740"
                                },
                                {
                                    "0": "FactFinance100m",
                                    "1": "0",
                                    "2": "1",
                                    "3": "3",
                                    "4": "COMPRESSED",
                                    "5": "1048576",
                                    "6": "NO_TRIM",
                                    "7": "Table_5e36fad5620b4f1c8f3eb0d9fc992bec_2",
                                    "8": "2022-07-08 14:20:23.707"
                                },
                                {
                                    "0": "FactFinance100m",
                                    "1": "0",
                                    "2": "1",
                                    "3": "3",
                                    "4": "COMPRESSED",
                                    "5": "1048576",
                                    "6": "NO_TRIM",
                                    "7": "Table_5e36fad5620b4f1c8f3eb0d9fc992bec_3",
                                    "8": "2022-07-08 14:20:23.670"
                                },
                                {
                                    "0": "FactFinance100m",
                                    "1": "0",
                                    "2": "1",
                                    "3": "3",
                                    "4": "COMPRESSED",
                                    "5": "1048576",
                                    "6": "NO_TRIM",
                                    "7": "Table_5e36fad5620b4f1c8f3eb0d9fc992bec_4",
                                    "8": "2022-07-08 14:20:23.547"
                                },
                                {
                                    "0": "FactFinance100m",
                                    "1": "0",
                                    "2": "1",
                                    "3": "3",
                                    "4": "COMPRESSED",
                                    "5": "1048576",
                                    "6": "NO_TRIM",
                                    "7": "Table_5e36fad5620b4f1c8f3eb0d9fc992bec_5",
                                    "8": "2022-07-08 14:20:23.610"
                                },
                                {
                                    "0": "FactFinance100m",
                                    "1": "0",
                                    "2": "1",
                                    "3": "3",
                                    "4": "COMPRESSED",
                                    "5": "1048576",
                                    "6": "NO_TRIM",
                                    "7": "Table_5e36fad5620b4f1c8f3eb0d9fc992bec_6",
                                    "8": "2022-07-08 14:20:23.703"
                                },
                                {
                                    "0": "FactFinance100m",
                                    "1": "0",
                                    "2": "1",
                                    "3": "3",
                                    "4": "COMPRESSED",
                                    "5": "1048576",
                                    "6": "NO_TRIM",
                                    "7": "Table_5e36fad5620b4f1c8f3eb0d9fc992bec_7",
                                    "8": "2022-07-08 14:20:23.607"
                                },
                                {
                                    "0": "FactFinance100m",
                                    "1": "0",
                                    "2": "1",
                                    "3": "3",
                                    "4": "COMPRESSED",
                                    "5": "1048576",
                                    "6": "NO_TRIM",
                                    "7": "Table_5e36fad5620b4f1c8f3eb0d9fc992bec_8",
                                    "8": "2022-07-08 14:20:23.663"
                                },
                                {
                                    "0": "FactFinance100m",
                                    "1": "0",
                                    "2": "1",
                                    "3": "3",
                                    "4": "COMPRESSED",
                                    "5": "1048576",
                                    "6": "NO_TRIM",
                                    "7": "Table_5e36fad5620b4f1c8f3eb0d9fc992bec_9",
                                    "8": "2022-07-08 14:20:23.523"
                                },
                                {
                                    "0": "FactFinance100m",
                                    "1": "0",
                                    "2": "1",
                                    "3": "3",
                                    "4": "COMPRESSED",
                                    "5": "1048576",
                                    "6": "NO_TRIM",
                                    "7": "Table_5e36fad5620b4f1c8f3eb0d9fc992bec_10",
                                    "8": "2022-07-08 14:20:23.663"
                                },
                                {
                                    "0": "FactFinance100m",
                                    "1": "0",
                                    "2": "1",
                                    "3": "3",
                                    "4": "COMPRESSED",
                                    "5": "1048576",
                                    "6": "NO_TRIM",
                                    "7": "Table_5e36fad5620b4f1c8f3eb0d9fc992bec_11",
                                    "8": "2022-07-08 14:20:23.613"
                                },
                                {
                                    "0": "FactFinance100m",
                                    "1": "0",
                                    "2": "1",
                                    "3": "3",
                                    "4": "COMPRESSED",
                                    "5": "1048576",
                                    "6": "NO_TRIM",
                                    "7": "Table_5e36fad5620b4f1c8f3eb0d9fc992bec_12",
                                    "8": "2022-07-08 14:20:23.590"
                                },
                                {
                                    "0": "FactFinance100m",
                                    "1": "0",
                                    "2": "1",
                                    "3": "3",
                                    "4": "COMPRESSED",
                                    "5": "1048576",
                                    "6": "NO_TRIM",
                                    "7": "Table_5e36fad5620b4f1c8f3eb0d9fc992bec_13",
                                    "8": "2022-07-08 14:20:23.573"
                                },
                                {
                                    "0": "FactFinance100m",
                                    "1": "0",
                                    "2": "1",
                                    "3": "3",
                                    "4": "COMPRESSED",
                                    "5": "1048576",
                                    "6": "NO_TRIM",
                                    "7": "Table_5e36fad5620b4f1c8f3eb0d9fc992bec_14",
                                    "8": "2022-07-08 14:20:23.533"
                                },
                                {
                                    "0": "FactFinance100m",
                                    "1": "0",
                                    "2": "1",
                                    "3": "3",
                                    "4": "COMPRESSED",
                                    "5": "1048576",
                                    "6": "NO_TRIM",
                                    "7": "Table_5e36fad5620b4f1c8f3eb0d9fc992bec_15",
                                    "8": "2022-07-08 14:20:23.663"
                                },
                                {
                                    "0": "FactFinance100m",
                                    "1": "0",
                                    "2": "1",
                                    "3": "3",
                                    "4": "COMPRESSED",
                                    "5": "1048576",
                                    "6": "NO_TRIM",
                                    "7": "Table_5e36fad5620b4f1c8f3eb0d9fc992bec_16",
                                    "8": "2022-07-08 14:20:23.563"
                                },
                                {
                                    "0": "FactFinance100m",
                                    "1": "0",
                                    "2": "1",
                                    "3": "3",
                                    "4": "COMPRESSED",
                                    "5": "1048576",
                                    "6": "NO_TRIM",
                                    "7": "Table_5e36fad5620b4f1c8f3eb0d9fc992bec_17",
                                    "8": "2022-07-08 14:20:23.700"
                                },
                                {
                                    "0": "FactFinance100m",
                                    "1": "0",
                                    "2": "1",
                                    "3": "3",
                                    "4": "COMPRESSED",
                                    "5": "1048576",
                                    "6": "NO_TRIM",
                                    "7": "Table_5e36fad5620b4f1c8f3eb0d9fc992bec_18",
                                    "8": "2022-07-08 14:20:23.663"
                                },
                                {
                                    "0": "FactFinance100m",
                                    "1": "0",
                                    "2": "1",
                                    "3": "3",
                                    "4": "COMPRESSED",
                                    "5": "1048576",
                                    "6": "NO_TRIM",
                                    "7": "Table_5e36fad5620b4f1c8f3eb0d9fc992bec_19",
                                    "8": "2022-07-08 14:20:26.503"
                                },
                                {
                                    "0": "FactFinance100m",
                                    "1": "0",
                                    "2": "1",
                                    "3": "3",
                                    "4": "COMPRESSED",
                                    "5": "1048576",
                                    "6": "NO_TRIM",
                                    "7": "Table_5e36fad5620b4f1c8f3eb0d9fc992bec_20",
                                    "8": "2022-07-08 14:20:23.580"
                                },
                                {
                                    "0": "FactFinance100m",
                                    "1": "0",
                                    "2": "1",
                                    "3": "3",
                                    "4": "COMPRESSED",
                                    "5": "1048576",
                                    "6": "NO_TRIM",
                                    "7": "Table_5e36fad5620b4f1c8f3eb0d9fc992bec_21",
                                    "8": "2022-07-08 14:20:23.640"
                                },
                                {
                                    "0": "FactFinance100m",
                                    "1": "0",
                                    "2": "1",
                                    "3": "3",
                                    "4": "COMPRESSED",
                                    "5": "1048576",
                                    "6": "NO_TRIM",
                                    "7": "Table_5e36fad5620b4f1c8f3eb0d9fc992bec_22",
                                    "8": "2022-07-08 14:20:23.747"
                                },
                                {
                                    "0": "FactFinance100m",
                                    "1": "0",
                                    "2": "1",
                                    "3": "3",
                                    "4": "COMPRESSED",
                                    "5": "1048576",
                                    "6": "NO_TRIM",
                                    "7": "Table_5e36fad5620b4f1c8f3eb0d9fc992bec_23",
                                    "8": "2022-07-08 14:20:23.603"
                                },
                                {
                                    "0": "FactFinance100m",
                                    "1": "0",
                                    "2": "1",
                                    "3": "3",
                                    "4": "COMPRESSED",
                                    "5": "1048576",
                                    "6": "NO_TRIM",
                                    "7": "Table_5e36fad5620b4f1c8f3eb0d9fc992bec_24",
                                    "8": "2022-07-08 14:20:23.540"
                                },
                                {
                                    "0": "FactFinance100m",
                                    "1": "0",
                                    "2": "1",
                                    "3": "3",
                                    "4": "COMPRESSED",
                                    "5": "1048576",
                                    "6": "NO_TRIM",
                                    "7": "Table_5e36fad5620b4f1c8f3eb0d9fc992bec_25",
                                    "8": "2022-07-08 14:20:23.570"
                                },
                                {
                                    "0": "FactFinance100m",
                                    "1": "0",
                                    "2": "1",
                                    "3": "3",
                                    "4": "COMPRESSED",
                                    "5": "1048576",
                                    "6": "NO_TRIM",
                                    "7": "Table_5e36fad5620b4f1c8f3eb0d9fc992bec_26",
                                    "8": "2022-07-08 14:20:26.553"
                                },
                                {
                                    "0": "FactFinance100m",
                                    "1": "0",
                                    "2": "1",
                                    "3": "3",
                                    "4": "COMPRESSED",
                                    "5": "1048576",
                                    "6": "NO_TRIM",
                                    "7": "Table_5e36fad5620b4f1c8f3eb0d9fc992bec_27",
                                    "8": "2022-07-08 14:20:23.617"
                                },
                                {
                                    "0": "FactFinance100m",
                                    "1": "0",
                                    "2": "1",
                                    "3": "3",
                                    "4": "COMPRESSED",
                                    "5": "1048576",
                                    "6": "NO_TRIM",
                                    "7": "Table_5e36fad5620b4f1c8f3eb0d9fc992bec_28",
                                    "8": "2022-07-08 14:20:23.687"
                                },
                                {
                                    "0": "FactFinance100m",
                                    "1": "0",
                                    "2": "1",
                                    "3": "3",
                                    "4": "COMPRESSED",
                                    "5": "1048576",
                                    "6": "NO_TRIM",
                                    "7": "Table_5e36fad5620b4f1c8f3eb0d9fc992bec_29",
                                    "8": "2022-07-08 14:20:23.553"
                                },
                                {
                                    "0": "FactFinance100m",
                                    "1": "0",
                                    "2": "1",
                                    "3": "3",
                                    "4": "COMPRESSED",
                                    "5": "1048576",
                                    "6": "NO_TRIM",
                                    "7": "Table_5e36fad5620b4f1c8f3eb0d9fc992bec_30",
                                    "8": "2022-07-08 14:20:23.553"
                                },
                                {
                                    "0": "FactFinance100m",
                                    "1": "0",
                                    "2": "1",
                                    "3": "3",
                                    "4": "COMPRESSED",
                                    "5": "1048576",
                                    "6": "NO_TRIM",
                                    "7": "Table_5e36fad5620b4f1c8f3eb0d9fc992bec_31",
                                    "8": "2022-07-08 14:20:23.520"
                                },
                                {
                                    "0": "FactFinance100m",
                                    "1": "0",
                                    "2": "1",
                                    "3": "3",
                                    "4": "COMPRESSED",
                                    "5": "1048576",
                                    "6": "NO_TRIM",
                                    "7": "Table_5e36fad5620b4f1c8f3eb0d9fc992bec_32",
                                    "8": "2022-07-08 14:20:23.587"
                                },
                                {
                                    "0": "FactFinance100m",
                                    "1": "0",
                                    "2": "1",
                                    "3": "3",
                                    "4": "COMPRESSED",
                                    "5": "1048576",
                                    "6": "NO_TRIM",
                                    "7": "Table_5e36fad5620b4f1c8f3eb0d9fc992bec_33",
                                    "8": "2022-07-08 14:20:23.510"
                                },
                                {
                                    "0": "FactFinance100m",
                                    "1": "0",
                                    "2": "1",
                                    "3": "3",
                                    "4": "COMPRESSED",
                                    "5": "1048576",
                                    "6": "NO_TRIM",
                                    "7": "Table_5e36fad5620b4f1c8f3eb0d9fc992bec_34",
                                    "8": "2022-07-08 14:20:23.623"
                                },
                                {
                                    "0": "FactFinance100m",
                                    "1": "0",
                                    "2": "1",
                                    "3": "3",
                                    "4": "COMPRESSED",
                                    "5": "1048576",
                                    "6": "NO_TRIM",
                                    "7": "Table_5e36fad5620b4f1c8f3eb0d9fc992bec_35",
                                    "8": "2022-07-08 14:20:23.610"
                                },
                                {
                                    "0": "FactFinance100m",
                                    "1": "0",
                                    "2": "1",
                                    "3": "3",
                                    "4": "COMPRESSED",
                                    "5": "1048576",
                                    "6": "NO_TRIM",
                                    "7": "Table_5e36fad5620b4f1c8f3eb0d9fc992bec_36",
                                    "8": "2022-07-08 14:20:23.650"
                                },
                                {
                                    "0": "FactFinance100m",
                                    "1": "0",
                                    "2": "1",
                                    "3": "3",
                                    "4": "COMPRESSED",
                                    "5": "1048576",
                                    "6": "NO_TRIM",
                                    "7": "Table_5e36fad5620b4f1c8f3eb0d9fc992bec_37",
                                    "8": "2022-07-08 14:20:23.583"
                                },
                                {
                                    "0": "FactFinance100m",
                                    "1": "0",
                                    "2": "1",
                                    "3": "3",
                                    "4": "COMPRESSED",
                                    "5": "1048576",
                                    "6": "NO_TRIM",
                                    "7": "Table_5e36fad5620b4f1c8f3eb0d9fc992bec_38",
                                    "8": "2022-07-08 14:20:23.670"
                                },
                                {
                                    "0": "FactFinance100m",
                                    "1": "0",
                                    "2": "1",
                                    "3": "3",
                                    "4": "COMPRESSED",
                                    "5": "1048576",
                                    "6": "NO_TRIM",
                                    "7": "Table_5e36fad5620b4f1c8f3eb0d9fc992bec_39",
                                    "8": "2022-07-08 14:20:23.720"
                                },
                                {
                                    "0": "FactFinance100m",
                                    "1": "0",
                                    "2": "1",
                                    "3": "3",
                                    "4": "COMPRESSED",
                                    "5": "1048576",
                                    "6": "NO_TRIM",
                                    "7": "Table_5e36fad5620b4f1c8f3eb0d9fc992bec_40",
                                    "8": "2022-07-08 14:20:23.663"
                                },
                                {
                                    "0": "FactFinance100m",
                                    "1": "0",
                                    "2": "1",
                                    "3": "3",
                                    "4": "COMPRESSED",
                                    "5": "1048576",
                                    "6": "NO_TRIM",
                                    "7": "Table_5e36fad5620b4f1c8f3eb0d9fc992bec_41",
                                    "8": "2022-07-08 14:20:23.600"
                                },
                                {
                                    "0": "FactFinance100m",
                                    "1": "0",
                                    "2": "1",
                                    "3": "3",
                                    "4": "COMPRESSED",
                                    "5": "1048576",
                                    "6": "NO_TRIM",
                                    "7": "Table_5e36fad5620b4f1c8f3eb0d9fc992bec_42",
                                    "8": "2022-07-08 14:20:23.680"
                                },
                                {
                                    "0": "FactFinance100m",
                                    "1": "0",
                                    "2": "1",
                                    "3": "3",
                                    "4": "COMPRESSED",
                                    "5": "1048576",
                                    "6": "NO_TRIM",
                                    "7": "Table_5e36fad5620b4f1c8f3eb0d9fc992bec_43",
                                    "8": "2022-07-08 14:20:23.877"
                                },
                                {
                                    "0": "FactFinance100m",
                                    "1": "0",
                                    "2": "1",
                                    "3": "3",
                                    "4": "COMPRESSED",
                                    "5": "1048576",
                                    "6": "NO_TRIM",
                                    "7": "Table_5e36fad5620b4f1c8f3eb0d9fc992bec_44",
                                    "8": "2022-07-08 14:20:23.520"
                                },
                                {
                                    "0": "FactFinance100m",
                                    "1": "0",
                                    "2": "1",
                                    "3": "3",
                                    "4": "COMPRESSED",
                                    "5": "1048576",
                                    "6": "NO_TRIM",
                                    "7": "Table_5e36fad5620b4f1c8f3eb0d9fc992bec_45",
                                    "8": "2022-07-08 14:20:23.603"
                                },
                                {
                                    "0": "FactFinance100m",
                                    "1": "0",
                                    "2": "1",
                                    "3": "3",
                                    "4": "COMPRESSED",
                                    "5": "1048576",
                                    "6": "NO_TRIM",
                                    "7": "Table_5e36fad5620b4f1c8f3eb0d9fc992bec_46",
                                    "8": "2022-07-08 14:20:23.517"
                                },
                                {
                                    "0": "FactFinance100m",
                                    "1": "0",
                                    "2": "1",
                                    "3": "3",
                                    "4": "COMPRESSED",
                                    "5": "1048576",
                                    "6": "NO_TRIM",
                                    "7": "Table_5e36fad5620b4f1c8f3eb0d9fc992bec_47",
                                    "8": "2022-07-08 14:20:23.577"
                                },
                                {
                                    "0": "FactFinance100m",
                                    "1": "0",
                                    "2": "1",
                                    "3": "3",
                                    "4": "COMPRESSED",
                                    "5": "1048576",
                                    "6": "NO_TRIM",
                                    "7": "Table_5e36fad5620b4f1c8f3eb0d9fc992bec_48",
                                    "8": "2022-07-08 14:20:23.553"
                                },
                                {
                                    "0": "FactFinance100m",
                                    "1": "0",
                                    "2": "1",
                                    "3": "3",
                                    "4": "COMPRESSED",
                                    "5": "1048576",
                                    "6": "NO_TRIM",
                                    "7": "Table_5e36fad5620b4f1c8f3eb0d9fc992bec_49",
                                    "8": "2022-07-08 14:20:23.653"
                                },
                                {
                                    "0": "FactFinance100m",
                                    "1": "0",
                                    "2": "1",
                                    "3": "3",
                                    "4": "COMPRESSED",
                                    "5": "1048576",
                                    "6": "NO_TRIM",
                                    "7": "Table_5e36fad5620b4f1c8f3eb0d9fc992bec_50",
                                    "8": "2022-07-08 14:20:24.007"
                                },
                                {
                                    "0": "FactFinance100m",
                                    "1": "0",
                                    "2": "1",
                                    "3": "3",
                                    "4": "COMPRESSED",
                                    "5": "1048576",
                                    "6": "NO_TRIM",
                                    "7": "Table_5e36fad5620b4f1c8f3eb0d9fc992bec_51",
                                    "8": "2022-07-08 14:20:23.640"
                                },
                                {
                                    "0": "FactFinance100m",
                                    "1": "0",
                                    "2": "1",
                                    "3": "3",
                                    "4": "COMPRESSED",
                                    "5": "1048576",
                                    "6": "NO_TRIM",
                                    "7": "Table_5e36fad5620b4f1c8f3eb0d9fc992bec_52",
                                    "8": "2022-07-08 14:20:23.617"
                                },
                                {
                                    "0": "FactFinance100m",
                                    "1": "0",
                                    "2": "1",
                                    "3": "3",
                                    "4": "COMPRESSED",
                                    "5": "1048576",
                                    "6": "NO_TRIM",
                                    "7": "Table_5e36fad5620b4f1c8f3eb0d9fc992bec_53",
                                    "8": "2022-07-08 14:20:23.583"
                                },
                                {
                                    "0": "FactFinance100m",
                                    "1": "0",
                                    "2": "1",
                                    "3": "3",
                                    "4": "COMPRESSED",
                                    "5": "1048576",
                                    "6": "NO_TRIM",
                                    "7": "Table_5e36fad5620b4f1c8f3eb0d9fc992bec_54",
                                    "8": "2022-07-08 14:20:23.600"
                                },
                                {
                                    "0": "FactFinance100m",
                                    "1": "0",
                                    "2": "1",
                                    "3": "3",
                                    "4": "COMPRESSED",
                                    "5": "1048576",
                                    "6": "NO_TRIM",
                                    "7": "Table_5e36fad5620b4f1c8f3eb0d9fc992bec_55",
                                    "8": "2022-07-08 14:20:23.430"
                                },
                                {
                                    "0": "FactFinance100m",
                                    "1": "0",
                                    "2": "1",
                                    "3": "3",
                                    "4": "COMPRESSED",
                                    "5": "1048576",
                                    "6": "NO_TRIM",
                                    "7": "Table_5e36fad5620b4f1c8f3eb0d9fc992bec_56",
                                    "8": "2022-07-08 14:20:23.500"
                                },
                                {
                                    "0": "FactFinance100m",
                                    "1": "0",
                                    "2": "1",
                                    "3": "3",
                                    "4": "COMPRESSED",
                                    "5": "1048576",
                                    "6": "NO_TRIM",
                                    "7": "Table_5e36fad5620b4f1c8f3eb0d9fc992bec_57",
                                    "8": "2022-07-08 14:20:23.590"
                                },
                                {
                                    "0": "FactFinance100m",
                                    "1": "0",
                                    "2": "1",
                                    "3": "3",
                                    "4": "COMPRESSED",
                                    "5": "1048576",
                                    "6": "NO_TRIM",
                                    "7": "Table_5e36fad5620b4f1c8f3eb0d9fc992bec_58",
                                    "8": "2022-07-08 14:20:23.550"
                                },
                                {
                                    "0": "FactFinance100m",
                                    "1": "0",
                                    "2": "1",
                                    "3": "3",
                                    "4": "COMPRESSED",
                                    "5": "1048576",
                                    "6": "NO_TRIM",
                                    "7": "Table_5e36fad5620b4f1c8f3eb0d9fc992bec_59",
                                    "8": "2022-07-08 14:20:23.593"
                                },
                                {
                                    "0": "FactFinance100m",
                                    "1": "0",
                                    "2": "1",
                                    "3": "3",
                                    "4": "COMPRESSED",
                                    "5": "1048576",
                                    "6": "NO_TRIM",
                                    "7": "Table_5e36fad5620b4f1c8f3eb0d9fc992bec_60",
                                    "8": "2022-07-08 14:20:23.607"
                                }
                            ]
                        },
                        "text/html": "<table><tr><th>logical_table_name</th><th>row_group_id</th><th>partition_number</th><th>state</th><th>state_desc</th><th>total_rows</th><th>trim_reason_desc</th><th>physical_name</th><th>created_time</th></tr><tr><td>FactFinance100m</td><td>2</td><td>1</td><td>1</td><td>OPEN</td><td>69172</td><td>NULL</td><td>Table_5e36fad5620b4f1c8f3eb0d9fc992bec_1</td><td>2022-07-08 14:20:27.257</td></tr><tr><td>FactFinance100m</td><td>2</td><td>1</td><td>1</td><td>OPEN</td><td>69172</td><td>NULL</td><td>Table_5e36fad5620b4f1c8f3eb0d9fc992bec_2</td><td>2022-07-08 14:20:27.217</td></tr><tr><td>FactFinance100m</td><td>2</td><td>1</td><td>1</td><td>OPEN</td><td>69172</td><td>NULL</td><td>Table_5e36fad5620b4f1c8f3eb0d9fc992bec_3</td><td>2022-07-08 14:20:27.210</td></tr><tr><td>FactFinance100m</td><td>2</td><td>1</td><td>1</td><td>OPEN</td><td>69172</td><td>NULL</td><td>Table_5e36fad5620b4f1c8f3eb0d9fc992bec_4</td><td>2022-07-08 14:20:27.003</td></tr><tr><td>FactFinance100m</td><td>2</td><td>1</td><td>1</td><td>OPEN</td><td>69172</td><td>NULL</td><td>Table_5e36fad5620b4f1c8f3eb0d9fc992bec_5</td><td>2022-07-08 14:20:27.113</td></tr><tr><td>FactFinance100m</td><td>2</td><td>1</td><td>1</td><td>OPEN</td><td>69172</td><td>NULL</td><td>Table_5e36fad5620b4f1c8f3eb0d9fc992bec_6</td><td>2022-07-08 14:20:27.247</td></tr><tr><td>FactFinance100m</td><td>2</td><td>1</td><td>1</td><td>OPEN</td><td>69172</td><td>NULL</td><td>Table_5e36fad5620b4f1c8f3eb0d9fc992bec_7</td><td>2022-07-08 14:20:27.123</td></tr><tr><td>FactFinance100m</td><td>2</td><td>1</td><td>1</td><td>OPEN</td><td>69172</td><td>NULL</td><td>Table_5e36fad5620b4f1c8f3eb0d9fc992bec_8</td><td>2022-07-08 14:20:27.193</td></tr><tr><td>FactFinance100m</td><td>2</td><td>1</td><td>1</td><td>OPEN</td><td>69736</td><td>NULL</td><td>Table_5e36fad5620b4f1c8f3eb0d9fc992bec_9</td><td>2022-07-08 14:20:26.993</td></tr><tr><td>FactFinance100m</td><td>2</td><td>1</td><td>1</td><td>OPEN</td><td>69736</td><td>NULL</td><td>Table_5e36fad5620b4f1c8f3eb0d9fc992bec_10</td><td>2022-07-08 14:20:27.173</td></tr><tr><td>FactFinance100m</td><td>2</td><td>1</td><td>1</td><td>OPEN</td><td>69736</td><td>NULL</td><td>Table_5e36fad5620b4f1c8f3eb0d9fc992bec_11</td><td>2022-07-08 14:20:27.117</td></tr><tr><td>FactFinance100m</td><td>2</td><td>1</td><td>1</td><td>OPEN</td><td>69736</td><td>NULL</td><td>Table_5e36fad5620b4f1c8f3eb0d9fc992bec_12</td><td>2022-07-08 14:20:27.090</td></tr><tr><td>FactFinance100m</td><td>2</td><td>1</td><td>1</td><td>OPEN</td><td>69736</td><td>NULL</td><td>Table_5e36fad5620b4f1c8f3eb0d9fc992bec_13</td><td>2022-07-08 14:20:27.140</td></tr><tr><td>FactFinance100m</td><td>2</td><td>1</td><td>1</td><td>OPEN</td><td>69736</td><td>NULL</td><td>Table_5e36fad5620b4f1c8f3eb0d9fc992bec_14</td><td>2022-07-08 14:20:26.977</td></tr><tr><td>FactFinance100m</td><td>2</td><td>1</td><td>1</td><td>OPEN</td><td>69736</td><td>NULL</td><td>Table_5e36fad5620b4f1c8f3eb0d9fc992bec_15</td><td>2022-07-08 14:20:27.207</td></tr><tr><td>FactFinance100m</td><td>2</td><td>1</td><td>1</td><td>OPEN</td><td>69736</td><td>NULL</td><td>Table_5e36fad5620b4f1c8f3eb0d9fc992bec_16</td><td>2022-07-08 14:20:27.037</td></tr><tr><td>FactFinance100m</td><td>2</td><td>1</td><td>1</td><td>OPEN</td><td>69736</td><td>NULL</td><td>Table_5e36fad5620b4f1c8f3eb0d9fc992bec_17</td><td>2022-07-08 14:20:27.243</td></tr><tr><td>FactFinance100m</td><td>2</td><td>1</td><td>1</td><td>OPEN</td><td>69736</td><td>NULL</td><td>Table_5e36fad5620b4f1c8f3eb0d9fc992bec_18</td><td>2022-07-08 14:20:27.167</td></tr><tr><td>FactFinance100m</td><td>2</td><td>1</td><td>1</td><td>OPEN</td><td>69736</td><td>NULL</td><td>Table_5e36fad5620b4f1c8f3eb0d9fc992bec_19</td><td>2022-07-08 14:20:31.930</td></tr><tr><td>FactFinance100m</td><td>2</td><td>1</td><td>1</td><td>OPEN</td><td>69736</td><td>NULL</td><td>Table_5e36fad5620b4f1c8f3eb0d9fc992bec_20</td><td>2022-07-08 14:20:27.107</td></tr><tr><td>FactFinance100m</td><td>2</td><td>1</td><td>1</td><td>OPEN</td><td>69736</td><td>NULL</td><td>Table_5e36fad5620b4f1c8f3eb0d9fc992bec_21</td><td>2022-07-08 14:20:27.203</td></tr><tr><td>FactFinance100m</td><td>2</td><td>1</td><td>1</td><td>OPEN</td><td>69736</td><td>NULL</td><td>Table_5e36fad5620b4f1c8f3eb0d9fc992bec_22</td><td>2022-07-08 14:20:27.287</td></tr><tr><td>FactFinance100m</td><td>2</td><td>1</td><td>1</td><td>OPEN</td><td>69736</td><td>NULL</td><td>Table_5e36fad5620b4f1c8f3eb0d9fc992bec_23</td><td>2022-07-08 14:20:27.100</td></tr><tr><td>FactFinance100m</td><td>2</td><td>1</td><td>1</td><td>OPEN</td><td>69736</td><td>NULL</td><td>Table_5e36fad5620b4f1c8f3eb0d9fc992bec_24</td><td>2022-07-08 14:20:27.050</td></tr><tr><td>FactFinance100m</td><td>2</td><td>1</td><td>1</td><td>OPEN</td><td>69736</td><td>NULL</td><td>Table_5e36fad5620b4f1c8f3eb0d9fc992bec_25</td><td>2022-07-08 14:20:27.153</td></tr><tr><td>FactFinance100m</td><td>2</td><td>1</td><td>1</td><td>OPEN</td><td>69736</td><td>NULL</td><td>Table_5e36fad5620b4f1c8f3eb0d9fc992bec_26</td><td>2022-07-08 14:20:32.027</td></tr><tr><td>FactFinance100m</td><td>2</td><td>1</td><td>1</td><td>OPEN</td><td>69736</td><td>NULL</td><td>Table_5e36fad5620b4f1c8f3eb0d9fc992bec_27</td><td>2022-07-08 14:20:27.127</td></tr><tr><td>FactFinance100m</td><td>2</td><td>1</td><td>1</td><td>OPEN</td><td>69736</td><td>NULL</td><td>Table_5e36fad5620b4f1c8f3eb0d9fc992bec_28</td><td>2022-07-08 14:20:27.200</td></tr><tr><td>FactFinance100m</td><td>2</td><td>1</td><td>1</td><td>OPEN</td><td>69736</td><td>NULL</td><td>Table_5e36fad5620b4f1c8f3eb0d9fc992bec_29</td><td>2022-07-08 14:20:27.063</td></tr><tr><td>FactFinance100m</td><td>2</td><td>1</td><td>1</td><td>OPEN</td><td>69736</td><td>NULL</td><td>Table_5e36fad5620b4f1c8f3eb0d9fc992bec_30</td><td>2022-07-08 14:20:27.110</td></tr><tr><td>FactFinance100m</td><td>2</td><td>1</td><td>1</td><td>OPEN</td><td>69736</td><td>NULL</td><td>Table_5e36fad5620b4f1c8f3eb0d9fc992bec_31</td><td>2022-07-08 14:20:27.020</td></tr><tr><td>FactFinance100m</td><td>2</td><td>1</td><td>1</td><td>OPEN</td><td>69736</td><td>NULL</td><td>Table_5e36fad5620b4f1c8f3eb0d9fc992bec_32</td><td>2022-07-08 14:20:27.180</td></tr><tr><td>FactFinance100m</td><td>2</td><td>1</td><td>1</td><td>OPEN</td><td>69736</td><td>NULL</td><td>Table_5e36fad5620b4f1c8f3eb0d9fc992bec_33</td><td>2022-07-08 14:20:27.060</td></tr><tr><td>FactFinance100m</td><td>2</td><td>1</td><td>1</td><td>OPEN</td><td>69736</td><td>NULL</td><td>Table_5e36fad5620b4f1c8f3eb0d9fc992bec_34</td><td>2022-07-08 14:20:27.170</td></tr><tr><td>FactFinance100m</td><td>2</td><td>1</td><td>1</td><td>OPEN</td><td>69736</td><td>NULL</td><td>Table_5e36fad5620b4f1c8f3eb0d9fc992bec_35</td><td>2022-07-08 14:20:27.180</td></tr><tr><td>FactFinance100m</td><td>2</td><td>1</td><td>1</td><td>OPEN</td><td>69736</td><td>NULL</td><td>Table_5e36fad5620b4f1c8f3eb0d9fc992bec_36</td><td>2022-07-08 14:20:27.223</td></tr><tr><td>FactFinance100m</td><td>2</td><td>1</td><td>1</td><td>OPEN</td><td>69736</td><td>NULL</td><td>Table_5e36fad5620b4f1c8f3eb0d9fc992bec_37</td><td>2022-07-08 14:20:27.227</td></tr><tr><td>FactFinance100m</td><td>2</td><td>1</td><td>1</td><td>OPEN</td><td>69736</td><td>NULL</td><td>Table_5e36fad5620b4f1c8f3eb0d9fc992bec_38</td><td>2022-07-08 14:20:27.263</td></tr><tr><td>FactFinance100m</td><td>2</td><td>1</td><td>1</td><td>OPEN</td><td>69736</td><td>NULL</td><td>Table_5e36fad5620b4f1c8f3eb0d9fc992bec_39</td><td>2022-07-08 14:20:27.390</td></tr><tr><td>FactFinance100m</td><td>2</td><td>1</td><td>1</td><td>OPEN</td><td>69736</td><td>NULL</td><td>Table_5e36fad5620b4f1c8f3eb0d9fc992bec_40</td><td>2022-07-08 14:20:27.330</td></tr><tr><td>FactFinance100m</td><td>2</td><td>1</td><td>1</td><td>OPEN</td><td>69736</td><td>NULL</td><td>Table_5e36fad5620b4f1c8f3eb0d9fc992bec_41</td><td>2022-07-08 14:20:27.130</td></tr><tr><td>FactFinance100m</td><td>2</td><td>1</td><td>1</td><td>OPEN</td><td>69736</td><td>NULL</td><td>Table_5e36fad5620b4f1c8f3eb0d9fc992bec_42</td><td>2022-07-08 14:20:27.317</td></tr><tr><td>FactFinance100m</td><td>2</td><td>1</td><td>1</td><td>OPEN</td><td>69736</td><td>NULL</td><td>Table_5e36fad5620b4f1c8f3eb0d9fc992bec_43</td><td>2022-07-08 14:20:27.440</td></tr><tr><td>FactFinance100m</td><td>2</td><td>1</td><td>1</td><td>OPEN</td><td>69736</td><td>NULL</td><td>Table_5e36fad5620b4f1c8f3eb0d9fc992bec_44</td><td>2022-07-08 14:20:27.093</td></tr><tr><td>FactFinance100m</td><td>2</td><td>1</td><td>1</td><td>OPEN</td><td>69428</td><td>NULL</td><td>Table_5e36fad5620b4f1c8f3eb0d9fc992bec_45</td><td>2022-07-08 14:20:27.177</td></tr><tr><td>FactFinance100m</td><td>2</td><td>1</td><td>1</td><td>OPEN</td><td>69172</td><td>NULL</td><td>Table_5e36fad5620b4f1c8f3eb0d9fc992bec_46</td><td>2022-07-08 14:20:27.077</td></tr><tr><td>FactFinance100m</td><td>2</td><td>1</td><td>1</td><td>OPEN</td><td>69172</td><td>NULL</td><td>Table_5e36fad5620b4f1c8f3eb0d9fc992bec_47</td><td>2022-07-08 14:20:27.113</td></tr><tr><td>FactFinance100m</td><td>2</td><td>1</td><td>1</td><td>OPEN</td><td>69172</td><td>NULL</td><td>Table_5e36fad5620b4f1c8f3eb0d9fc992bec_48</td><td>2022-07-08 14:20:27.083</td></tr><tr><td>FactFinance100m</td><td>2</td><td>1</td><td>1</td><td>OPEN</td><td>69172</td><td>NULL</td><td>Table_5e36fad5620b4f1c8f3eb0d9fc992bec_49</td><td>2022-07-08 14:20:27.337</td></tr><tr><td>FactFinance100m</td><td>2</td><td>1</td><td>1</td><td>OPEN</td><td>69172</td><td>NULL</td><td>Table_5e36fad5620b4f1c8f3eb0d9fc992bec_50</td><td>2022-07-08 14:20:27.557</td></tr><tr><td>FactFinance100m</td><td>2</td><td>1</td><td>1</td><td>OPEN</td><td>69172</td><td>NULL</td><td>Table_5e36fad5620b4f1c8f3eb0d9fc992bec_51</td><td>2022-07-08 14:20:27.330</td></tr><tr><td>FactFinance100m</td><td>2</td><td>1</td><td>1</td><td>OPEN</td><td>69172</td><td>NULL</td><td>Table_5e36fad5620b4f1c8f3eb0d9fc992bec_52</td><td>2022-07-08 14:20:27.310</td></tr><tr><td>FactFinance100m</td><td>2</td><td>1</td><td>1</td><td>OPEN</td><td>69172</td><td>NULL</td><td>Table_5e36fad5620b4f1c8f3eb0d9fc992bec_53</td><td>2022-07-08 14:20:27.170</td></tr><tr><td>FactFinance100m</td><td>2</td><td>1</td><td>1</td><td>OPEN</td><td>69172</td><td>NULL</td><td>Table_5e36fad5620b4f1c8f3eb0d9fc992bec_54</td><td>2022-07-08 14:20:27.137</td></tr><tr><td>FactFinance100m</td><td>2</td><td>1</td><td>1</td><td>OPEN</td><td>69172</td><td>NULL</td><td>Table_5e36fad5620b4f1c8f3eb0d9fc992bec_55</td><td>2022-07-08 14:20:26.907</td></tr><tr><td>FactFinance100m</td><td>2</td><td>1</td><td>1</td><td>OPEN</td><td>69172</td><td>NULL</td><td>Table_5e36fad5620b4f1c8f3eb0d9fc992bec_56</td><td>2022-07-08 14:20:27.017</td></tr><tr><td>FactFinance100m</td><td>2</td><td>1</td><td>1</td><td>OPEN</td><td>69172</td><td>NULL</td><td>Table_5e36fad5620b4f1c8f3eb0d9fc992bec_57</td><td>2022-07-08 14:20:27.333</td></tr><tr><td>FactFinance100m</td><td>2</td><td>1</td><td>1</td><td>OPEN</td><td>69172</td><td>NULL</td><td>Table_5e36fad5620b4f1c8f3eb0d9fc992bec_58</td><td>2022-07-08 14:20:27.117</td></tr><tr><td>FactFinance100m</td><td>2</td><td>1</td><td>1</td><td>OPEN</td><td>69172</td><td>NULL</td><td>Table_5e36fad5620b4f1c8f3eb0d9fc992bec_59</td><td>2022-07-08 14:20:27.187</td></tr><tr><td>FactFinance100m</td><td>2</td><td>1</td><td>1</td><td>OPEN</td><td>69172</td><td>NULL</td><td>Table_5e36fad5620b4f1c8f3eb0d9fc992bec_60</td><td>2022-07-08 14:20:27.187</td></tr><tr><td>FactFinance100m</td><td>1</td><td>1</td><td>3</td><td>COMPRESSED</td><td>1048576</td><td>NO_TRIM</td><td>Table_5e36fad5620b4f1c8f3eb0d9fc992bec_1</td><td>2022-07-08 14:20:27.087</td></tr><tr><td>FactFinance100m</td><td>1</td><td>1</td><td>3</td><td>COMPRESSED</td><td>1048576</td><td>NO_TRIM</td><td>Table_5e36fad5620b4f1c8f3eb0d9fc992bec_2</td><td>2022-07-08 14:20:27.043</td></tr><tr><td>FactFinance100m</td><td>1</td><td>1</td><td>3</td><td>COMPRESSED</td><td>1048576</td><td>NO_TRIM</td><td>Table_5e36fad5620b4f1c8f3eb0d9fc992bec_3</td><td>2022-07-08 14:20:27.020</td></tr><tr><td>FactFinance100m</td><td>1</td><td>1</td><td>3</td><td>COMPRESSED</td><td>1048576</td><td>NO_TRIM</td><td>Table_5e36fad5620b4f1c8f3eb0d9fc992bec_4</td><td>2022-07-08 14:20:26.830</td></tr><tr><td>FactFinance100m</td><td>1</td><td>1</td><td>3</td><td>COMPRESSED</td><td>1048576</td><td>NO_TRIM</td><td>Table_5e36fad5620b4f1c8f3eb0d9fc992bec_5</td><td>2022-07-08 14:20:26.940</td></tr><tr><td>FactFinance100m</td><td>1</td><td>1</td><td>3</td><td>COMPRESSED</td><td>1048576</td><td>NO_TRIM</td><td>Table_5e36fad5620b4f1c8f3eb0d9fc992bec_6</td><td>2022-07-08 14:20:27.073</td></tr><tr><td>FactFinance100m</td><td>1</td><td>1</td><td>3</td><td>COMPRESSED</td><td>1048576</td><td>NO_TRIM</td><td>Table_5e36fad5620b4f1c8f3eb0d9fc992bec_7</td><td>2022-07-08 14:20:26.947</td></tr><tr><td>FactFinance100m</td><td>1</td><td>1</td><td>3</td><td>COMPRESSED</td><td>1048576</td><td>NO_TRIM</td><td>Table_5e36fad5620b4f1c8f3eb0d9fc992bec_8</td><td>2022-07-08 14:20:27.003</td></tr><tr><td>FactFinance100m</td><td>1</td><td>1</td><td>3</td><td>COMPRESSED</td><td>1048576</td><td>NO_TRIM</td><td>Table_5e36fad5620b4f1c8f3eb0d9fc992bec_9</td><td>2022-07-08 14:20:26.820</td></tr><tr><td>FactFinance100m</td><td>1</td><td>1</td><td>3</td><td>COMPRESSED</td><td>1048576</td><td>NO_TRIM</td><td>Table_5e36fad5620b4f1c8f3eb0d9fc992bec_10</td><td>2022-07-08 14:20:26.990</td></tr><tr><td>FactFinance100m</td><td>1</td><td>1</td><td>3</td><td>COMPRESSED</td><td>1048576</td><td>NO_TRIM</td><td>Table_5e36fad5620b4f1c8f3eb0d9fc992bec_11</td><td>2022-07-08 14:20:26.943</td></tr><tr><td>FactFinance100m</td><td>1</td><td>1</td><td>3</td><td>COMPRESSED</td><td>1048576</td><td>NO_TRIM</td><td>Table_5e36fad5620b4f1c8f3eb0d9fc992bec_12</td><td>2022-07-08 14:20:26.907</td></tr><tr><td>FactFinance100m</td><td>1</td><td>1</td><td>3</td><td>COMPRESSED</td><td>1048576</td><td>NO_TRIM</td><td>Table_5e36fad5620b4f1c8f3eb0d9fc992bec_13</td><td>2022-07-08 14:20:26.970</td></tr><tr><td>FactFinance100m</td><td>1</td><td>1</td><td>3</td><td>COMPRESSED</td><td>1048576</td><td>NO_TRIM</td><td>Table_5e36fad5620b4f1c8f3eb0d9fc992bec_14</td><td>2022-07-08 14:20:26.800</td></tr><tr><td>FactFinance100m</td><td>1</td><td>1</td><td>3</td><td>COMPRESSED</td><td>1048576</td><td>NO_TRIM</td><td>Table_5e36fad5620b4f1c8f3eb0d9fc992bec_15</td><td>2022-07-08 14:20:27.023</td></tr><tr><td>FactFinance100m</td><td>1</td><td>1</td><td>3</td><td>COMPRESSED</td><td>1048576</td><td>NO_TRIM</td><td>Table_5e36fad5620b4f1c8f3eb0d9fc992bec_16</td><td>2022-07-08 14:20:26.863</td></tr><tr><td>FactFinance100m</td><td>1</td><td>1</td><td>3</td><td>COMPRESSED</td><td>1048576</td><td>NO_TRIM</td><td>Table_5e36fad5620b4f1c8f3eb0d9fc992bec_17</td><td>2022-07-08 14:20:27.060</td></tr><tr><td>FactFinance100m</td><td>1</td><td>1</td><td>3</td><td>COMPRESSED</td><td>1048576</td><td>NO_TRIM</td><td>Table_5e36fad5620b4f1c8f3eb0d9fc992bec_18</td><td>2022-07-08 14:20:26.987</td></tr><tr><td>FactFinance100m</td><td>1</td><td>1</td><td>3</td><td>COMPRESSED</td><td>1048576</td><td>NO_TRIM</td><td>Table_5e36fad5620b4f1c8f3eb0d9fc992bec_19</td><td>2022-07-08 14:20:31.737</td></tr><tr><td>FactFinance100m</td><td>1</td><td>1</td><td>3</td><td>COMPRESSED</td><td>1048576</td><td>NO_TRIM</td><td>Table_5e36fad5620b4f1c8f3eb0d9fc992bec_20</td><td>2022-07-08 14:20:26.923</td></tr><tr><td>FactFinance100m</td><td>1</td><td>1</td><td>3</td><td>COMPRESSED</td><td>1048576</td><td>NO_TRIM</td><td>Table_5e36fad5620b4f1c8f3eb0d9fc992bec_21</td><td>2022-07-08 14:20:27.020</td></tr><tr><td>FactFinance100m</td><td>1</td><td>1</td><td>3</td><td>COMPRESSED</td><td>1048576</td><td>NO_TRIM</td><td>Table_5e36fad5620b4f1c8f3eb0d9fc992bec_22</td><td>2022-07-08 14:20:27.117</td></tr><tr><td>FactFinance100m</td><td>1</td><td>1</td><td>3</td><td>COMPRESSED</td><td>1048576</td><td>NO_TRIM</td><td>Table_5e36fad5620b4f1c8f3eb0d9fc992bec_23</td><td>2022-07-08 14:20:26.920</td></tr><tr><td>FactFinance100m</td><td>1</td><td>1</td><td>3</td><td>COMPRESSED</td><td>1048576</td><td>NO_TRIM</td><td>Table_5e36fad5620b4f1c8f3eb0d9fc992bec_24</td><td>2022-07-08 14:20:26.860</td></tr><tr><td>FactFinance100m</td><td>1</td><td>1</td><td>3</td><td>COMPRESSED</td><td>1048576</td><td>NO_TRIM</td><td>Table_5e36fad5620b4f1c8f3eb0d9fc992bec_25</td><td>2022-07-08 14:20:26.973</td></tr><tr><td>FactFinance100m</td><td>1</td><td>1</td><td>3</td><td>COMPRESSED</td><td>1048576</td><td>NO_TRIM</td><td>Table_5e36fad5620b4f1c8f3eb0d9fc992bec_26</td><td>2022-07-08 14:20:31.790</td></tr><tr><td>FactFinance100m</td><td>1</td><td>1</td><td>3</td><td>COMPRESSED</td><td>1048576</td><td>NO_TRIM</td><td>Table_5e36fad5620b4f1c8f3eb0d9fc992bec_27</td><td>2022-07-08 14:20:26.953</td></tr><tr><td>FactFinance100m</td><td>1</td><td>1</td><td>3</td><td>COMPRESSED</td><td>1048576</td><td>NO_TRIM</td><td>Table_5e36fad5620b4f1c8f3eb0d9fc992bec_28</td><td>2022-07-08 14:20:27.023</td></tr><tr><td>FactFinance100m</td><td>1</td><td>1</td><td>3</td><td>COMPRESSED</td><td>1048576</td><td>NO_TRIM</td><td>Table_5e36fad5620b4f1c8f3eb0d9fc992bec_29</td><td>2022-07-08 14:20:26.890</td></tr><tr><td>FactFinance100m</td><td>1</td><td>1</td><td>3</td><td>COMPRESSED</td><td>1048576</td><td>NO_TRIM</td><td>Table_5e36fad5620b4f1c8f3eb0d9fc992bec_30</td><td>2022-07-08 14:20:26.933</td></tr><tr><td>FactFinance100m</td><td>1</td><td>1</td><td>3</td><td>COMPRESSED</td><td>1048576</td><td>NO_TRIM</td><td>Table_5e36fad5620b4f1c8f3eb0d9fc992bec_31</td><td>2022-07-08 14:20:26.850</td></tr><tr><td>FactFinance100m</td><td>1</td><td>1</td><td>3</td><td>COMPRESSED</td><td>1048576</td><td>NO_TRIM</td><td>Table_5e36fad5620b4f1c8f3eb0d9fc992bec_32</td><td>2022-07-08 14:20:26.997</td></tr><tr><td>FactFinance100m</td><td>1</td><td>1</td><td>3</td><td>COMPRESSED</td><td>1048576</td><td>NO_TRIM</td><td>Table_5e36fad5620b4f1c8f3eb0d9fc992bec_33</td><td>2022-07-08 14:20:26.880</td></tr><tr><td>FactFinance100m</td><td>1</td><td>1</td><td>3</td><td>COMPRESSED</td><td>1048576</td><td>NO_TRIM</td><td>Table_5e36fad5620b4f1c8f3eb0d9fc992bec_34</td><td>2022-07-08 14:20:26.967</td></tr><tr><td>FactFinance100m</td><td>1</td><td>1</td><td>3</td><td>COMPRESSED</td><td>1048576</td><td>NO_TRIM</td><td>Table_5e36fad5620b4f1c8f3eb0d9fc992bec_35</td><td>2022-07-08 14:20:26.993</td></tr><tr><td>FactFinance100m</td><td>1</td><td>1</td><td>3</td><td>COMPRESSED</td><td>1048576</td><td>NO_TRIM</td><td>Table_5e36fad5620b4f1c8f3eb0d9fc992bec_36</td><td>2022-07-08 14:20:27.050</td></tr><tr><td>FactFinance100m</td><td>1</td><td>1</td><td>3</td><td>COMPRESSED</td><td>1048576</td><td>NO_TRIM</td><td>Table_5e36fad5620b4f1c8f3eb0d9fc992bec_37</td><td>2022-07-08 14:20:27.053</td></tr><tr><td>FactFinance100m</td><td>1</td><td>1</td><td>3</td><td>COMPRESSED</td><td>1048576</td><td>NO_TRIM</td><td>Table_5e36fad5620b4f1c8f3eb0d9fc992bec_38</td><td>2022-07-08 14:20:27.037</td></tr><tr><td>FactFinance100m</td><td>1</td><td>1</td><td>3</td><td>COMPRESSED</td><td>1048576</td><td>NO_TRIM</td><td>Table_5e36fad5620b4f1c8f3eb0d9fc992bec_39</td><td>2022-07-08 14:20:27.147</td></tr><tr><td>FactFinance100m</td><td>1</td><td>1</td><td>3</td><td>COMPRESSED</td><td>1048576</td><td>NO_TRIM</td><td>Table_5e36fad5620b4f1c8f3eb0d9fc992bec_40</td><td>2022-07-08 14:20:27.107</td></tr><tr><td>FactFinance100m</td><td>1</td><td>1</td><td>3</td><td>COMPRESSED</td><td>1048576</td><td>NO_TRIM</td><td>Table_5e36fad5620b4f1c8f3eb0d9fc992bec_41</td><td>2022-07-08 14:20:26.957</td></tr><tr><td>FactFinance100m</td><td>1</td><td>1</td><td>3</td><td>COMPRESSED</td><td>1048576</td><td>NO_TRIM</td><td>Table_5e36fad5620b4f1c8f3eb0d9fc992bec_42</td><td>2022-07-08 14:20:27.123</td></tr><tr><td>FactFinance100m</td><td>1</td><td>1</td><td>3</td><td>COMPRESSED</td><td>1048576</td><td>NO_TRIM</td><td>Table_5e36fad5620b4f1c8f3eb0d9fc992bec_43</td><td>2022-07-08 14:20:27.233</td></tr><tr><td>FactFinance100m</td><td>1</td><td>1</td><td>3</td><td>COMPRESSED</td><td>1048576</td><td>NO_TRIM</td><td>Table_5e36fad5620b4f1c8f3eb0d9fc992bec_44</td><td>2022-07-08 14:20:26.920</td></tr><tr><td>FactFinance100m</td><td>1</td><td>1</td><td>3</td><td>COMPRESSED</td><td>1048576</td><td>NO_TRIM</td><td>Table_5e36fad5620b4f1c8f3eb0d9fc992bec_45</td><td>2022-07-08 14:20:26.993</td></tr><tr><td>FactFinance100m</td><td>1</td><td>1</td><td>3</td><td>COMPRESSED</td><td>1048576</td><td>NO_TRIM</td><td>Table_5e36fad5620b4f1c8f3eb0d9fc992bec_46</td><td>2022-07-08 14:20:26.900</td></tr><tr><td>FactFinance100m</td><td>1</td><td>1</td><td>3</td><td>COMPRESSED</td><td>1048576</td><td>NO_TRIM</td><td>Table_5e36fad5620b4f1c8f3eb0d9fc992bec_47</td><td>2022-07-08 14:20:26.930</td></tr><tr><td>FactFinance100m</td><td>1</td><td>1</td><td>3</td><td>COMPRESSED</td><td>1048576</td><td>NO_TRIM</td><td>Table_5e36fad5620b4f1c8f3eb0d9fc992bec_48</td><td>2022-07-08 14:20:26.910</td></tr><tr><td>FactFinance100m</td><td>1</td><td>1</td><td>3</td><td>COMPRESSED</td><td>1048576</td><td>NO_TRIM</td><td>Table_5e36fad5620b4f1c8f3eb0d9fc992bec_49</td><td>2022-07-08 14:20:27.103</td></tr><tr><td>FactFinance100m</td><td>1</td><td>1</td><td>3</td><td>COMPRESSED</td><td>1048576</td><td>NO_TRIM</td><td>Table_5e36fad5620b4f1c8f3eb0d9fc992bec_50</td><td>2022-07-08 14:20:27.357</td></tr><tr><td>FactFinance100m</td><td>1</td><td>1</td><td>3</td><td>COMPRESSED</td><td>1048576</td><td>NO_TRIM</td><td>Table_5e36fad5620b4f1c8f3eb0d9fc992bec_51</td><td>2022-07-08 14:20:27.103</td></tr><tr><td>FactFinance100m</td><td>1</td><td>1</td><td>3</td><td>COMPRESSED</td><td>1048576</td><td>NO_TRIM</td><td>Table_5e36fad5620b4f1c8f3eb0d9fc992bec_52</td><td>2022-07-08 14:20:27.067</td></tr><tr><td>FactFinance100m</td><td>1</td><td>1</td><td>3</td><td>COMPRESSED</td><td>1048576</td><td>NO_TRIM</td><td>Table_5e36fad5620b4f1c8f3eb0d9fc992bec_53</td><td>2022-07-08 14:20:26.993</td></tr><tr><td>FactFinance100m</td><td>1</td><td>1</td><td>3</td><td>COMPRESSED</td><td>1048576</td><td>NO_TRIM</td><td>Table_5e36fad5620b4f1c8f3eb0d9fc992bec_54</td><td>2022-07-08 14:20:26.963</td></tr><tr><td>FactFinance100m</td><td>1</td><td>1</td><td>3</td><td>COMPRESSED</td><td>1048576</td><td>NO_TRIM</td><td>Table_5e36fad5620b4f1c8f3eb0d9fc992bec_55</td><td>2022-07-08 14:20:26.730</td></tr><tr><td>FactFinance100m</td><td>1</td><td>1</td><td>3</td><td>COMPRESSED</td><td>1048576</td><td>NO_TRIM</td><td>Table_5e36fad5620b4f1c8f3eb0d9fc992bec_56</td><td>2022-07-08 14:20:26.837</td></tr><tr><td>FactFinance100m</td><td>1</td><td>1</td><td>3</td><td>COMPRESSED</td><td>1048576</td><td>NO_TRIM</td><td>Table_5e36fad5620b4f1c8f3eb0d9fc992bec_57</td><td>2022-07-08 14:20:27.080</td></tr><tr><td>FactFinance100m</td><td>1</td><td>1</td><td>3</td><td>COMPRESSED</td><td>1048576</td><td>NO_TRIM</td><td>Table_5e36fad5620b4f1c8f3eb0d9fc992bec_58</td><td>2022-07-08 14:20:26.943</td></tr><tr><td>FactFinance100m</td><td>1</td><td>1</td><td>3</td><td>COMPRESSED</td><td>1048576</td><td>NO_TRIM</td><td>Table_5e36fad5620b4f1c8f3eb0d9fc992bec_59</td><td>2022-07-08 14:20:27.000</td></tr><tr><td>FactFinance100m</td><td>1</td><td>1</td><td>3</td><td>COMPRESSED</td><td>1048576</td><td>NO_TRIM</td><td>Table_5e36fad5620b4f1c8f3eb0d9fc992bec_60</td><td>2022-07-08 14:20:26.997</td></tr><tr><td>FactFinance100m</td><td>0</td><td>1</td><td>3</td><td>COMPRESSED</td><td>1048576</td><td>NO_TRIM</td><td>Table_5e36fad5620b4f1c8f3eb0d9fc992bec_1</td><td>2022-07-08 14:20:23.740</td></tr><tr><td>FactFinance100m</td><td>0</td><td>1</td><td>3</td><td>COMPRESSED</td><td>1048576</td><td>NO_TRIM</td><td>Table_5e36fad5620b4f1c8f3eb0d9fc992bec_2</td><td>2022-07-08 14:20:23.707</td></tr><tr><td>FactFinance100m</td><td>0</td><td>1</td><td>3</td><td>COMPRESSED</td><td>1048576</td><td>NO_TRIM</td><td>Table_5e36fad5620b4f1c8f3eb0d9fc992bec_3</td><td>2022-07-08 14:20:23.670</td></tr><tr><td>FactFinance100m</td><td>0</td><td>1</td><td>3</td><td>COMPRESSED</td><td>1048576</td><td>NO_TRIM</td><td>Table_5e36fad5620b4f1c8f3eb0d9fc992bec_4</td><td>2022-07-08 14:20:23.547</td></tr><tr><td>FactFinance100m</td><td>0</td><td>1</td><td>3</td><td>COMPRESSED</td><td>1048576</td><td>NO_TRIM</td><td>Table_5e36fad5620b4f1c8f3eb0d9fc992bec_5</td><td>2022-07-08 14:20:23.610</td></tr><tr><td>FactFinance100m</td><td>0</td><td>1</td><td>3</td><td>COMPRESSED</td><td>1048576</td><td>NO_TRIM</td><td>Table_5e36fad5620b4f1c8f3eb0d9fc992bec_6</td><td>2022-07-08 14:20:23.703</td></tr><tr><td>FactFinance100m</td><td>0</td><td>1</td><td>3</td><td>COMPRESSED</td><td>1048576</td><td>NO_TRIM</td><td>Table_5e36fad5620b4f1c8f3eb0d9fc992bec_7</td><td>2022-07-08 14:20:23.607</td></tr><tr><td>FactFinance100m</td><td>0</td><td>1</td><td>3</td><td>COMPRESSED</td><td>1048576</td><td>NO_TRIM</td><td>Table_5e36fad5620b4f1c8f3eb0d9fc992bec_8</td><td>2022-07-08 14:20:23.663</td></tr><tr><td>FactFinance100m</td><td>0</td><td>1</td><td>3</td><td>COMPRESSED</td><td>1048576</td><td>NO_TRIM</td><td>Table_5e36fad5620b4f1c8f3eb0d9fc992bec_9</td><td>2022-07-08 14:20:23.523</td></tr><tr><td>FactFinance100m</td><td>0</td><td>1</td><td>3</td><td>COMPRESSED</td><td>1048576</td><td>NO_TRIM</td><td>Table_5e36fad5620b4f1c8f3eb0d9fc992bec_10</td><td>2022-07-08 14:20:23.663</td></tr><tr><td>FactFinance100m</td><td>0</td><td>1</td><td>3</td><td>COMPRESSED</td><td>1048576</td><td>NO_TRIM</td><td>Table_5e36fad5620b4f1c8f3eb0d9fc992bec_11</td><td>2022-07-08 14:20:23.613</td></tr><tr><td>FactFinance100m</td><td>0</td><td>1</td><td>3</td><td>COMPRESSED</td><td>1048576</td><td>NO_TRIM</td><td>Table_5e36fad5620b4f1c8f3eb0d9fc992bec_12</td><td>2022-07-08 14:20:23.590</td></tr><tr><td>FactFinance100m</td><td>0</td><td>1</td><td>3</td><td>COMPRESSED</td><td>1048576</td><td>NO_TRIM</td><td>Table_5e36fad5620b4f1c8f3eb0d9fc992bec_13</td><td>2022-07-08 14:20:23.573</td></tr><tr><td>FactFinance100m</td><td>0</td><td>1</td><td>3</td><td>COMPRESSED</td><td>1048576</td><td>NO_TRIM</td><td>Table_5e36fad5620b4f1c8f3eb0d9fc992bec_14</td><td>2022-07-08 14:20:23.533</td></tr><tr><td>FactFinance100m</td><td>0</td><td>1</td><td>3</td><td>COMPRESSED</td><td>1048576</td><td>NO_TRIM</td><td>Table_5e36fad5620b4f1c8f3eb0d9fc992bec_15</td><td>2022-07-08 14:20:23.663</td></tr><tr><td>FactFinance100m</td><td>0</td><td>1</td><td>3</td><td>COMPRESSED</td><td>1048576</td><td>NO_TRIM</td><td>Table_5e36fad5620b4f1c8f3eb0d9fc992bec_16</td><td>2022-07-08 14:20:23.563</td></tr><tr><td>FactFinance100m</td><td>0</td><td>1</td><td>3</td><td>COMPRESSED</td><td>1048576</td><td>NO_TRIM</td><td>Table_5e36fad5620b4f1c8f3eb0d9fc992bec_17</td><td>2022-07-08 14:20:23.700</td></tr><tr><td>FactFinance100m</td><td>0</td><td>1</td><td>3</td><td>COMPRESSED</td><td>1048576</td><td>NO_TRIM</td><td>Table_5e36fad5620b4f1c8f3eb0d9fc992bec_18</td><td>2022-07-08 14:20:23.663</td></tr><tr><td>FactFinance100m</td><td>0</td><td>1</td><td>3</td><td>COMPRESSED</td><td>1048576</td><td>NO_TRIM</td><td>Table_5e36fad5620b4f1c8f3eb0d9fc992bec_19</td><td>2022-07-08 14:20:26.503</td></tr><tr><td>FactFinance100m</td><td>0</td><td>1</td><td>3</td><td>COMPRESSED</td><td>1048576</td><td>NO_TRIM</td><td>Table_5e36fad5620b4f1c8f3eb0d9fc992bec_20</td><td>2022-07-08 14:20:23.580</td></tr><tr><td>FactFinance100m</td><td>0</td><td>1</td><td>3</td><td>COMPRESSED</td><td>1048576</td><td>NO_TRIM</td><td>Table_5e36fad5620b4f1c8f3eb0d9fc992bec_21</td><td>2022-07-08 14:20:23.640</td></tr><tr><td>FactFinance100m</td><td>0</td><td>1</td><td>3</td><td>COMPRESSED</td><td>1048576</td><td>NO_TRIM</td><td>Table_5e36fad5620b4f1c8f3eb0d9fc992bec_22</td><td>2022-07-08 14:20:23.747</td></tr><tr><td>FactFinance100m</td><td>0</td><td>1</td><td>3</td><td>COMPRESSED</td><td>1048576</td><td>NO_TRIM</td><td>Table_5e36fad5620b4f1c8f3eb0d9fc992bec_23</td><td>2022-07-08 14:20:23.603</td></tr><tr><td>FactFinance100m</td><td>0</td><td>1</td><td>3</td><td>COMPRESSED</td><td>1048576</td><td>NO_TRIM</td><td>Table_5e36fad5620b4f1c8f3eb0d9fc992bec_24</td><td>2022-07-08 14:20:23.540</td></tr><tr><td>FactFinance100m</td><td>0</td><td>1</td><td>3</td><td>COMPRESSED</td><td>1048576</td><td>NO_TRIM</td><td>Table_5e36fad5620b4f1c8f3eb0d9fc992bec_25</td><td>2022-07-08 14:20:23.570</td></tr><tr><td>FactFinance100m</td><td>0</td><td>1</td><td>3</td><td>COMPRESSED</td><td>1048576</td><td>NO_TRIM</td><td>Table_5e36fad5620b4f1c8f3eb0d9fc992bec_26</td><td>2022-07-08 14:20:26.553</td></tr><tr><td>FactFinance100m</td><td>0</td><td>1</td><td>3</td><td>COMPRESSED</td><td>1048576</td><td>NO_TRIM</td><td>Table_5e36fad5620b4f1c8f3eb0d9fc992bec_27</td><td>2022-07-08 14:20:23.617</td></tr><tr><td>FactFinance100m</td><td>0</td><td>1</td><td>3</td><td>COMPRESSED</td><td>1048576</td><td>NO_TRIM</td><td>Table_5e36fad5620b4f1c8f3eb0d9fc992bec_28</td><td>2022-07-08 14:20:23.687</td></tr><tr><td>FactFinance100m</td><td>0</td><td>1</td><td>3</td><td>COMPRESSED</td><td>1048576</td><td>NO_TRIM</td><td>Table_5e36fad5620b4f1c8f3eb0d9fc992bec_29</td><td>2022-07-08 14:20:23.553</td></tr><tr><td>FactFinance100m</td><td>0</td><td>1</td><td>3</td><td>COMPRESSED</td><td>1048576</td><td>NO_TRIM</td><td>Table_5e36fad5620b4f1c8f3eb0d9fc992bec_30</td><td>2022-07-08 14:20:23.553</td></tr><tr><td>FactFinance100m</td><td>0</td><td>1</td><td>3</td><td>COMPRESSED</td><td>1048576</td><td>NO_TRIM</td><td>Table_5e36fad5620b4f1c8f3eb0d9fc992bec_31</td><td>2022-07-08 14:20:23.520</td></tr><tr><td>FactFinance100m</td><td>0</td><td>1</td><td>3</td><td>COMPRESSED</td><td>1048576</td><td>NO_TRIM</td><td>Table_5e36fad5620b4f1c8f3eb0d9fc992bec_32</td><td>2022-07-08 14:20:23.587</td></tr><tr><td>FactFinance100m</td><td>0</td><td>1</td><td>3</td><td>COMPRESSED</td><td>1048576</td><td>NO_TRIM</td><td>Table_5e36fad5620b4f1c8f3eb0d9fc992bec_33</td><td>2022-07-08 14:20:23.510</td></tr><tr><td>FactFinance100m</td><td>0</td><td>1</td><td>3</td><td>COMPRESSED</td><td>1048576</td><td>NO_TRIM</td><td>Table_5e36fad5620b4f1c8f3eb0d9fc992bec_34</td><td>2022-07-08 14:20:23.623</td></tr><tr><td>FactFinance100m</td><td>0</td><td>1</td><td>3</td><td>COMPRESSED</td><td>1048576</td><td>NO_TRIM</td><td>Table_5e36fad5620b4f1c8f3eb0d9fc992bec_35</td><td>2022-07-08 14:20:23.610</td></tr><tr><td>FactFinance100m</td><td>0</td><td>1</td><td>3</td><td>COMPRESSED</td><td>1048576</td><td>NO_TRIM</td><td>Table_5e36fad5620b4f1c8f3eb0d9fc992bec_36</td><td>2022-07-08 14:20:23.650</td></tr><tr><td>FactFinance100m</td><td>0</td><td>1</td><td>3</td><td>COMPRESSED</td><td>1048576</td><td>NO_TRIM</td><td>Table_5e36fad5620b4f1c8f3eb0d9fc992bec_37</td><td>2022-07-08 14:20:23.583</td></tr><tr><td>FactFinance100m</td><td>0</td><td>1</td><td>3</td><td>COMPRESSED</td><td>1048576</td><td>NO_TRIM</td><td>Table_5e36fad5620b4f1c8f3eb0d9fc992bec_38</td><td>2022-07-08 14:20:23.670</td></tr><tr><td>FactFinance100m</td><td>0</td><td>1</td><td>3</td><td>COMPRESSED</td><td>1048576</td><td>NO_TRIM</td><td>Table_5e36fad5620b4f1c8f3eb0d9fc992bec_39</td><td>2022-07-08 14:20:23.720</td></tr><tr><td>FactFinance100m</td><td>0</td><td>1</td><td>3</td><td>COMPRESSED</td><td>1048576</td><td>NO_TRIM</td><td>Table_5e36fad5620b4f1c8f3eb0d9fc992bec_40</td><td>2022-07-08 14:20:23.663</td></tr><tr><td>FactFinance100m</td><td>0</td><td>1</td><td>3</td><td>COMPRESSED</td><td>1048576</td><td>NO_TRIM</td><td>Table_5e36fad5620b4f1c8f3eb0d9fc992bec_41</td><td>2022-07-08 14:20:23.600</td></tr><tr><td>FactFinance100m</td><td>0</td><td>1</td><td>3</td><td>COMPRESSED</td><td>1048576</td><td>NO_TRIM</td><td>Table_5e36fad5620b4f1c8f3eb0d9fc992bec_42</td><td>2022-07-08 14:20:23.680</td></tr><tr><td>FactFinance100m</td><td>0</td><td>1</td><td>3</td><td>COMPRESSED</td><td>1048576</td><td>NO_TRIM</td><td>Table_5e36fad5620b4f1c8f3eb0d9fc992bec_43</td><td>2022-07-08 14:20:23.877</td></tr><tr><td>FactFinance100m</td><td>0</td><td>1</td><td>3</td><td>COMPRESSED</td><td>1048576</td><td>NO_TRIM</td><td>Table_5e36fad5620b4f1c8f3eb0d9fc992bec_44</td><td>2022-07-08 14:20:23.520</td></tr><tr><td>FactFinance100m</td><td>0</td><td>1</td><td>3</td><td>COMPRESSED</td><td>1048576</td><td>NO_TRIM</td><td>Table_5e36fad5620b4f1c8f3eb0d9fc992bec_45</td><td>2022-07-08 14:20:23.603</td></tr><tr><td>FactFinance100m</td><td>0</td><td>1</td><td>3</td><td>COMPRESSED</td><td>1048576</td><td>NO_TRIM</td><td>Table_5e36fad5620b4f1c8f3eb0d9fc992bec_46</td><td>2022-07-08 14:20:23.517</td></tr><tr><td>FactFinance100m</td><td>0</td><td>1</td><td>3</td><td>COMPRESSED</td><td>1048576</td><td>NO_TRIM</td><td>Table_5e36fad5620b4f1c8f3eb0d9fc992bec_47</td><td>2022-07-08 14:20:23.577</td></tr><tr><td>FactFinance100m</td><td>0</td><td>1</td><td>3</td><td>COMPRESSED</td><td>1048576</td><td>NO_TRIM</td><td>Table_5e36fad5620b4f1c8f3eb0d9fc992bec_48</td><td>2022-07-08 14:20:23.553</td></tr><tr><td>FactFinance100m</td><td>0</td><td>1</td><td>3</td><td>COMPRESSED</td><td>1048576</td><td>NO_TRIM</td><td>Table_5e36fad5620b4f1c8f3eb0d9fc992bec_49</td><td>2022-07-08 14:20:23.653</td></tr><tr><td>FactFinance100m</td><td>0</td><td>1</td><td>3</td><td>COMPRESSED</td><td>1048576</td><td>NO_TRIM</td><td>Table_5e36fad5620b4f1c8f3eb0d9fc992bec_50</td><td>2022-07-08 14:20:24.007</td></tr><tr><td>FactFinance100m</td><td>0</td><td>1</td><td>3</td><td>COMPRESSED</td><td>1048576</td><td>NO_TRIM</td><td>Table_5e36fad5620b4f1c8f3eb0d9fc992bec_51</td><td>2022-07-08 14:20:23.640</td></tr><tr><td>FactFinance100m</td><td>0</td><td>1</td><td>3</td><td>COMPRESSED</td><td>1048576</td><td>NO_TRIM</td><td>Table_5e36fad5620b4f1c8f3eb0d9fc992bec_52</td><td>2022-07-08 14:20:23.617</td></tr><tr><td>FactFinance100m</td><td>0</td><td>1</td><td>3</td><td>COMPRESSED</td><td>1048576</td><td>NO_TRIM</td><td>Table_5e36fad5620b4f1c8f3eb0d9fc992bec_53</td><td>2022-07-08 14:20:23.583</td></tr><tr><td>FactFinance100m</td><td>0</td><td>1</td><td>3</td><td>COMPRESSED</td><td>1048576</td><td>NO_TRIM</td><td>Table_5e36fad5620b4f1c8f3eb0d9fc992bec_54</td><td>2022-07-08 14:20:23.600</td></tr><tr><td>FactFinance100m</td><td>0</td><td>1</td><td>3</td><td>COMPRESSED</td><td>1048576</td><td>NO_TRIM</td><td>Table_5e36fad5620b4f1c8f3eb0d9fc992bec_55</td><td>2022-07-08 14:20:23.430</td></tr><tr><td>FactFinance100m</td><td>0</td><td>1</td><td>3</td><td>COMPRESSED</td><td>1048576</td><td>NO_TRIM</td><td>Table_5e36fad5620b4f1c8f3eb0d9fc992bec_56</td><td>2022-07-08 14:20:23.500</td></tr><tr><td>FactFinance100m</td><td>0</td><td>1</td><td>3</td><td>COMPRESSED</td><td>1048576</td><td>NO_TRIM</td><td>Table_5e36fad5620b4f1c8f3eb0d9fc992bec_57</td><td>2022-07-08 14:20:23.590</td></tr><tr><td>FactFinance100m</td><td>0</td><td>1</td><td>3</td><td>COMPRESSED</td><td>1048576</td><td>NO_TRIM</td><td>Table_5e36fad5620b4f1c8f3eb0d9fc992bec_58</td><td>2022-07-08 14:20:23.550</td></tr><tr><td>FactFinance100m</td><td>0</td><td>1</td><td>3</td><td>COMPRESSED</td><td>1048576</td><td>NO_TRIM</td><td>Table_5e36fad5620b4f1c8f3eb0d9fc992bec_59</td><td>2022-07-08 14:20:23.593</td></tr><tr><td>FactFinance100m</td><td>0</td><td>1</td><td>3</td><td>COMPRESSED</td><td>1048576</td><td>NO_TRIM</td><td>Table_5e36fad5620b4f1c8f3eb0d9fc992bec_60</td><td>2022-07-08 14:20:23.607</td></tr></table>"
                    },
                    "metadata": {}
                }
            ],
            "execution_count": 31
        },
        {
            "cell_type": "code",
            "source": [
                "\r\n",
                "/* This view shows the fragmentation_density is perfect, with some open row stores for overspill. Not ununsual as this table is only 2 complete segments per distribution */ \r\n",
                "SELECT * FROM dbo.vColumnstoreStats WHERE table_name='FactFinance100m'\r\n",
                "\r\n",
                ""
            ],
            "metadata": {
                "azdata_cell_guid": "5ec29bb3-bb92-493b-a319-05b8cb504110",
                "extensions": {
                    "azuredatastudio": {
                        "views": []
                    }
                },
                "language": "sql",
                "tags": []
            },
            "outputs": [
                {
                    "output_type": "display_data",
                    "data": {
                        "text/html": "(1 row affected)"
                    },
                    "metadata": {}
                },
                {
                    "output_type": "display_data",
                    "data": {
                        "text/html": "Total execution time: 00:00:01.194"
                    },
                    "metadata": {}
                },
                {
                    "output_type": "execute_result",
                    "execution_count": 32,
                    "data": {
                        "application/vnd.dataresource+json": {
                            "schema": {
                                "fields": [
                                    {
                                        "name": "execution_date"
                                    },
                                    {
                                        "name": "database_name"
                                    },
                                    {
                                        "name": "schema_name"
                                    },
                                    {
                                        "name": "table_name"
                                    },
                                    {
                                        "name": "partition_number"
                                    },
                                    {
                                        "name": "partition_scheme"
                                    },
                                    {
                                        "name": "object_id"
                                    },
                                    {
                                        "name": "index_name"
                                    },
                                    {
                                        "name": "row_count"
                                    },
                                    {
                                        "name": "deleted_row_count"
                                    },
                                    {
                                        "name": "row_group_count"
                                    },
                                    {
                                        "name": "compressed_row_count"
                                    },
                                    {
                                        "name": "compressed_rowgroup_count"
                                    },
                                    {
                                        "name": "open_rowgroup_count"
                                    },
                                    {
                                        "name": "open_row_count"
                                    },
                                    {
                                        "name": "compressed_row_max"
                                    },
                                    {
                                        "name": "compressed_row_avg"
                                    },
                                    {
                                        "name": "fragmentation_density"
                                    },
                                    {
                                        "name": "fragmentation_deletes"
                                    },
                                    {
                                        "name": "fragmentation_open"
                                    }
                                ]
                            },
                            "data": [
                                {
                                    "0": "2022-07-08 14:21:21.870",
                                    "1": "AdventureWorksDW",
                                    "2": "dbo",
                                    "3": "FactFinance100m",
                                    "4": "NULL",
                                    "5": "NULL",
                                    "6": "290868153",
                                    "7": "ClusteredIndex_e2f1410ade274620bfb52e91dcee6ddb",
                                    "8": "130000000",
                                    "9": "0",
                                    "10": "180",
                                    "11": "125829120",
                                    "12": "120",
                                    "13": "60",
                                    "14": "4170880",
                                    "15": "1048576",
                                    "16": "1048576",
                                    "17": "0.0000",
                                    "18": "0.0000",
                                    "19": "6.6300"
                                }
                            ]
                        },
                        "text/html": "<table><tr><th>execution_date</th><th>database_name</th><th>schema_name</th><th>table_name</th><th>partition_number</th><th>partition_scheme</th><th>object_id</th><th>index_name</th><th>row_count</th><th>deleted_row_count</th><th>row_group_count</th><th>compressed_row_count</th><th>compressed_rowgroup_count</th><th>open_rowgroup_count</th><th>open_row_count</th><th>compressed_row_max</th><th>compressed_row_avg</th><th>fragmentation_density</th><th>fragmentation_deletes</th><th>fragmentation_open</th></tr><tr><td>2022-07-08 14:21:21.870</td><td>AdventureWorksDW</td><td>dbo</td><td>FactFinance100m</td><td>NULL</td><td>NULL</td><td>290868153</td><td>ClusteredIndex_e2f1410ade274620bfb52e91dcee6ddb</td><td>130000000</td><td>0</td><td>180</td><td>125829120</td><td>120</td><td>60</td><td>4170880</td><td>1048576</td><td>1048576</td><td>0.0000</td><td>0.0000</td><td>6.6300</td></tr></table>"
                    },
                    "metadata": {}
                }
            ],
            "execution_count": 32
        },
        {
            "cell_type": "code",
            "source": [
                "/*\r\n",
                "    Lets create same table, but just with 20 million rows (not complete segment, then insert in batches to make 130 million)\r\n",
                "\r\n",
                "    Here we can see the RowGroup closed prematurely by BULkOAD. If BULK operation IS > about 200k records a close may happen on inital insert.\r\n",
                "\r\n",
                "    This results in 14% fragmentation and very small RowGroupo\r\n",
                "*/\r\n",
                "\r\n",
                "IF OBJECT_ID('[dbo].[FactFinance100m]') is not null \r\n",
                "\tDROP TABLE [dbo].[FactFinance100m]\r\n",
                "GO\r\n",
                "CREATE TABLE [dbo].[FactFinance100m] WITH (\r\n",
                "\tDISTRIBUTION = ROUND_ROBIN, CLUSTERED COLUMNSTORE INDEX \r\n",
                ") AS\r\n",
                "SELECT TOP 20000000 * FROM [dbo].[FactFinance1b]\r\n",
                "GO\r\n",
                "SELECT * FROM dbo.vColumnstoreStats WHERE table_name='FactFinance100m'\r\n",
                "select * From [dbo].[vCS_rg_physical_stats] WHERE logical_table_name='FactFinance100m'\r\n",
                ""
            ],
            "metadata": {
                "azdata_cell_guid": "7be95957-cae8-4386-8e65-6a21953d7aee",
                "extensions": {
                    "azuredatastudio": {
                        "views": []
                    }
                },
                "language": "sql"
            },
            "outputs": [
                {
                    "output_type": "display_data",
                    "data": {
                        "text/html": "Commands completed successfully."
                    },
                    "metadata": {}
                },
                {
                    "output_type": "display_data",
                    "data": {
                        "text/html": "(20000000 rows affected)"
                    },
                    "metadata": {}
                },
                {
                    "output_type": "display_data",
                    "data": {
                        "text/html": "(1 row affected)"
                    },
                    "metadata": {}
                },
                {
                    "output_type": "display_data",
                    "data": {
                        "text/html": "(60 rows affected)"
                    },
                    "metadata": {}
                },
                {
                    "output_type": "display_data",
                    "data": {
                        "text/html": "Total execution time: 00:00:43.234"
                    },
                    "metadata": {}
                },
                {
                    "output_type": "execute_result",
                    "execution_count": 28,
                    "data": {
                        "application/vnd.dataresource+json": {
                            "schema": {
                                "fields": [
                                    {
                                        "name": "execution_date"
                                    },
                                    {
                                        "name": "database_name"
                                    },
                                    {
                                        "name": "schema_name"
                                    },
                                    {
                                        "name": "table_name"
                                    },
                                    {
                                        "name": "partition_number"
                                    },
                                    {
                                        "name": "partition_scheme"
                                    },
                                    {
                                        "name": "object_id"
                                    },
                                    {
                                        "name": "index_name"
                                    },
                                    {
                                        "name": "row_count"
                                    },
                                    {
                                        "name": "deleted_row_count"
                                    },
                                    {
                                        "name": "row_group_count"
                                    },
                                    {
                                        "name": "compressed_row_count"
                                    },
                                    {
                                        "name": "compressed_rowgroup_count"
                                    },
                                    {
                                        "name": "open_rowgroup_count"
                                    },
                                    {
                                        "name": "open_row_count"
                                    },
                                    {
                                        "name": "compressed_row_max"
                                    },
                                    {
                                        "name": "compressed_row_avg"
                                    },
                                    {
                                        "name": "fragmentation_density"
                                    },
                                    {
                                        "name": "fragmentation_deletes"
                                    },
                                    {
                                        "name": "fragmentation_open"
                                    }
                                ]
                            },
                            "data": [
                                {
                                    "0": "2022-07-08 13:48:55.610",
                                    "1": "AdventureWorksDW",
                                    "2": "dbo",
                                    "3": "FactFinance100m",
                                    "4": "NULL",
                                    "5": "NULL",
                                    "6": "274868096",
                                    "7": "ClusteredIndex_f0d644e25550454eb739471226eee313",
                                    "8": "20000000",
                                    "9": "0",
                                    "10": "60",
                                    "11": "20000000",
                                    "12": "60",
                                    "13": "0",
                                    "14": "0",
                                    "15": "333884",
                                    "16": "333333",
                                    "17": "68.2100",
                                    "18": "0.0000",
                                    "19": "0.0000"
                                }
                            ]
                        },
                        "text/html": "<table><tr><th>execution_date</th><th>database_name</th><th>schema_name</th><th>table_name</th><th>partition_number</th><th>partition_scheme</th><th>object_id</th><th>index_name</th><th>row_count</th><th>deleted_row_count</th><th>row_group_count</th><th>compressed_row_count</th><th>compressed_rowgroup_count</th><th>open_rowgroup_count</th><th>open_row_count</th><th>compressed_row_max</th><th>compressed_row_avg</th><th>fragmentation_density</th><th>fragmentation_deletes</th><th>fragmentation_open</th></tr><tr><td>2022-07-08 13:48:55.610</td><td>AdventureWorksDW</td><td>dbo</td><td>FactFinance100m</td><td>NULL</td><td>NULL</td><td>274868096</td><td>ClusteredIndex_f0d644e25550454eb739471226eee313</td><td>20000000</td><td>0</td><td>60</td><td>20000000</td><td>60</td><td>0</td><td>0</td><td>333884</td><td>333333</td><td>68.2100</td><td>0.0000</td><td>0.0000</td></tr></table>"
                    },
                    "metadata": {}
                },
                {
                    "output_type": "execute_result",
                    "execution_count": 28,
                    "data": {
                        "application/vnd.dataresource+json": {
                            "schema": {
                                "fields": [
                                    {
                                        "name": "logical_table_name"
                                    },
                                    {
                                        "name": "row_group_id"
                                    },
                                    {
                                        "name": "partition_number"
                                    },
                                    {
                                        "name": "state"
                                    },
                                    {
                                        "name": "state_desc"
                                    },
                                    {
                                        "name": "total_rows"
                                    },
                                    {
                                        "name": "trim_reason_desc"
                                    },
                                    {
                                        "name": "physical_name"
                                    },
                                    {
                                        "name": "created_time"
                                    }
                                ]
                            },
                            "data": [
                                {
                                    "0": "FactFinance100m",
                                    "1": "0",
                                    "2": "1",
                                    "3": "3",
                                    "4": "COMPRESSED",
                                    "5": "333324",
                                    "6": "BULKLOAD",
                                    "7": "Table_fc3e1376c2bf43ea9af3735d63f84159_1",
                                    "8": "2022-07-08 13:48:54.293"
                                },
                                {
                                    "0": "FactFinance100m",
                                    "1": "0",
                                    "2": "1",
                                    "3": "3",
                                    "4": "COMPRESSED",
                                    "5": "333324",
                                    "6": "BULKLOAD",
                                    "7": "Table_fc3e1376c2bf43ea9af3735d63f84159_2",
                                    "8": "2022-07-08 13:48:54.433"
                                },
                                {
                                    "0": "FactFinance100m",
                                    "1": "0",
                                    "2": "1",
                                    "3": "3",
                                    "4": "COMPRESSED",
                                    "5": "333324",
                                    "6": "BULKLOAD",
                                    "7": "Table_fc3e1376c2bf43ea9af3735d63f84159_3",
                                    "8": "2022-07-08 13:48:54.277"
                                },
                                {
                                    "0": "FactFinance100m",
                                    "1": "0",
                                    "2": "1",
                                    "3": "3",
                                    "4": "COMPRESSED",
                                    "5": "333324",
                                    "6": "BULKLOAD",
                                    "7": "Table_fc3e1376c2bf43ea9af3735d63f84159_4",
                                    "8": "2022-07-08 13:48:54.337"
                                },
                                {
                                    "0": "FactFinance100m",
                                    "1": "0",
                                    "2": "1",
                                    "3": "3",
                                    "4": "COMPRESSED",
                                    "5": "333324",
                                    "6": "BULKLOAD",
                                    "7": "Table_fc3e1376c2bf43ea9af3735d63f84159_5",
                                    "8": "2022-07-08 13:48:54.320"
                                },
                                {
                                    "0": "FactFinance100m",
                                    "1": "0",
                                    "2": "1",
                                    "3": "3",
                                    "4": "COMPRESSED",
                                    "5": "333324",
                                    "6": "BULKLOAD",
                                    "7": "Table_fc3e1376c2bf43ea9af3735d63f84159_6",
                                    "8": "2022-07-08 13:48:54.380"
                                },
                                {
                                    "0": "FactFinance100m",
                                    "1": "0",
                                    "2": "1",
                                    "3": "3",
                                    "4": "COMPRESSED",
                                    "5": "333324",
                                    "6": "BULKLOAD",
                                    "7": "Table_fc3e1376c2bf43ea9af3735d63f84159_7",
                                    "8": "2022-07-08 13:48:54.313"
                                },
                                {
                                    "0": "FactFinance100m",
                                    "1": "0",
                                    "2": "1",
                                    "3": "3",
                                    "4": "COMPRESSED",
                                    "5": "333324",
                                    "6": "BULKLOAD",
                                    "7": "Table_fc3e1376c2bf43ea9af3735d63f84159_8",
                                    "8": "2022-07-08 13:48:54.300"
                                },
                                {
                                    "0": "FactFinance100m",
                                    "1": "0",
                                    "2": "1",
                                    "3": "3",
                                    "4": "COMPRESSED",
                                    "5": "333324",
                                    "6": "BULKLOAD",
                                    "7": "Table_fc3e1376c2bf43ea9af3735d63f84159_9",
                                    "8": "2022-07-08 13:48:54.320"
                                },
                                {
                                    "0": "FactFinance100m",
                                    "1": "0",
                                    "2": "1",
                                    "3": "3",
                                    "4": "COMPRESSED",
                                    "5": "333324",
                                    "6": "BULKLOAD",
                                    "7": "Table_fc3e1376c2bf43ea9af3735d63f84159_10",
                                    "8": "2022-07-08 13:48:54.453"
                                },
                                {
                                    "0": "FactFinance100m",
                                    "1": "0",
                                    "2": "1",
                                    "3": "3",
                                    "4": "COMPRESSED",
                                    "5": "333324",
                                    "6": "BULKLOAD",
                                    "7": "Table_fc3e1376c2bf43ea9af3735d63f84159_11",
                                    "8": "2022-07-08 13:48:54.417"
                                },
                                {
                                    "0": "FactFinance100m",
                                    "1": "0",
                                    "2": "1",
                                    "3": "3",
                                    "4": "COMPRESSED",
                                    "5": "333324",
                                    "6": "BULKLOAD",
                                    "7": "Table_fc3e1376c2bf43ea9af3735d63f84159_12",
                                    "8": "2022-07-08 13:48:54.297"
                                },
                                {
                                    "0": "FactFinance100m",
                                    "1": "0",
                                    "2": "1",
                                    "3": "3",
                                    "4": "COMPRESSED",
                                    "5": "333324",
                                    "6": "BULKLOAD",
                                    "7": "Table_fc3e1376c2bf43ea9af3735d63f84159_13",
                                    "8": "2022-07-08 13:48:54.453"
                                },
                                {
                                    "0": "FactFinance100m",
                                    "1": "0",
                                    "2": "1",
                                    "3": "3",
                                    "4": "COMPRESSED",
                                    "5": "333324",
                                    "6": "BULKLOAD",
                                    "7": "Table_fc3e1376c2bf43ea9af3735d63f84159_14",
                                    "8": "2022-07-08 13:48:54.437"
                                },
                                {
                                    "0": "FactFinance100m",
                                    "1": "0",
                                    "2": "1",
                                    "3": "3",
                                    "4": "COMPRESSED",
                                    "5": "333324",
                                    "6": "BULKLOAD",
                                    "7": "Table_fc3e1376c2bf43ea9af3735d63f84159_15",
                                    "8": "2022-07-08 13:48:54.423"
                                },
                                {
                                    "0": "FactFinance100m",
                                    "1": "0",
                                    "2": "1",
                                    "3": "3",
                                    "4": "COMPRESSED",
                                    "5": "333324",
                                    "6": "BULKLOAD",
                                    "7": "Table_fc3e1376c2bf43ea9af3735d63f84159_16",
                                    "8": "2022-07-08 13:48:54.210"
                                },
                                {
                                    "0": "FactFinance100m",
                                    "1": "0",
                                    "2": "1",
                                    "3": "3",
                                    "4": "COMPRESSED",
                                    "5": "333324",
                                    "6": "BULKLOAD",
                                    "7": "Table_fc3e1376c2bf43ea9af3735d63f84159_17",
                                    "8": "2022-07-08 13:48:55.017"
                                },
                                {
                                    "0": "FactFinance100m",
                                    "1": "0",
                                    "2": "1",
                                    "3": "3",
                                    "4": "COMPRESSED",
                                    "5": "333324",
                                    "6": "BULKLOAD",
                                    "7": "Table_fc3e1376c2bf43ea9af3735d63f84159_18",
                                    "8": "2022-07-08 13:48:54.293"
                                },
                                {
                                    "0": "FactFinance100m",
                                    "1": "0",
                                    "2": "1",
                                    "3": "3",
                                    "4": "COMPRESSED",
                                    "5": "333324",
                                    "6": "BULKLOAD",
                                    "7": "Table_fc3e1376c2bf43ea9af3735d63f84159_19",
                                    "8": "2022-07-08 13:48:54.987"
                                },
                                {
                                    "0": "FactFinance100m",
                                    "1": "0",
                                    "2": "1",
                                    "3": "3",
                                    "4": "COMPRESSED",
                                    "5": "333324",
                                    "6": "BULKLOAD",
                                    "7": "Table_fc3e1376c2bf43ea9af3735d63f84159_20",
                                    "8": "2022-07-08 13:48:54.433"
                                },
                                {
                                    "0": "FactFinance100m",
                                    "1": "0",
                                    "2": "1",
                                    "3": "3",
                                    "4": "COMPRESSED",
                                    "5": "333324",
                                    "6": "BULKLOAD",
                                    "7": "Table_fc3e1376c2bf43ea9af3735d63f84159_21",
                                    "8": "2022-07-08 13:48:54.380"
                                },
                                {
                                    "0": "FactFinance100m",
                                    "1": "0",
                                    "2": "1",
                                    "3": "3",
                                    "4": "COMPRESSED",
                                    "5": "333324",
                                    "6": "BULKLOAD",
                                    "7": "Table_fc3e1376c2bf43ea9af3735d63f84159_22",
                                    "8": "2022-07-08 13:48:54.380"
                                },
                                {
                                    "0": "FactFinance100m",
                                    "1": "0",
                                    "2": "1",
                                    "3": "3",
                                    "4": "COMPRESSED",
                                    "5": "333324",
                                    "6": "BULKLOAD",
                                    "7": "Table_fc3e1376c2bf43ea9af3735d63f84159_23",
                                    "8": "2022-07-08 13:48:54.293"
                                },
                                {
                                    "0": "FactFinance100m",
                                    "1": "0",
                                    "2": "1",
                                    "3": "3",
                                    "4": "COMPRESSED",
                                    "5": "333324",
                                    "6": "BULKLOAD",
                                    "7": "Table_fc3e1376c2bf43ea9af3735d63f84159_24",
                                    "8": "2022-07-08 13:48:54.363"
                                },
                                {
                                    "0": "FactFinance100m",
                                    "1": "0",
                                    "2": "1",
                                    "3": "3",
                                    "4": "COMPRESSED",
                                    "5": "333324",
                                    "6": "BULKLOAD",
                                    "7": "Table_fc3e1376c2bf43ea9af3735d63f84159_25",
                                    "8": "2022-07-08 13:48:54.290"
                                },
                                {
                                    "0": "FactFinance100m",
                                    "1": "0",
                                    "2": "1",
                                    "3": "3",
                                    "4": "COMPRESSED",
                                    "5": "333324",
                                    "6": "BULKLOAD",
                                    "7": "Table_fc3e1376c2bf43ea9af3735d63f84159_26",
                                    "8": "2022-07-08 13:48:54.440"
                                },
                                {
                                    "0": "FactFinance100m",
                                    "1": "0",
                                    "2": "1",
                                    "3": "3",
                                    "4": "COMPRESSED",
                                    "5": "333324",
                                    "6": "BULKLOAD",
                                    "7": "Table_fc3e1376c2bf43ea9af3735d63f84159_27",
                                    "8": "2022-07-08 13:48:54.297"
                                },
                                {
                                    "0": "FactFinance100m",
                                    "1": "0",
                                    "2": "1",
                                    "3": "3",
                                    "4": "COMPRESSED",
                                    "5": "333324",
                                    "6": "BULKLOAD",
                                    "7": "Table_fc3e1376c2bf43ea9af3735d63f84159_28",
                                    "8": "2022-07-08 13:48:54.450"
                                },
                                {
                                    "0": "FactFinance100m",
                                    "1": "0",
                                    "2": "1",
                                    "3": "3",
                                    "4": "COMPRESSED",
                                    "5": "333324",
                                    "6": "BULKLOAD",
                                    "7": "Table_fc3e1376c2bf43ea9af3735d63f84159_29",
                                    "8": "2022-07-08 13:48:54.440"
                                },
                                {
                                    "0": "FactFinance100m",
                                    "1": "0",
                                    "2": "1",
                                    "3": "3",
                                    "4": "COMPRESSED",
                                    "5": "333324",
                                    "6": "BULKLOAD",
                                    "7": "Table_fc3e1376c2bf43ea9af3735d63f84159_30",
                                    "8": "2022-07-08 13:48:54.403"
                                },
                                {
                                    "0": "FactFinance100m",
                                    "1": "0",
                                    "2": "1",
                                    "3": "3",
                                    "4": "COMPRESSED",
                                    "5": "333324",
                                    "6": "BULKLOAD",
                                    "7": "Table_fc3e1376c2bf43ea9af3735d63f84159_31",
                                    "8": "2022-07-08 13:48:54.300"
                                },
                                {
                                    "0": "FactFinance100m",
                                    "1": "0",
                                    "2": "1",
                                    "3": "3",
                                    "4": "COMPRESSED",
                                    "5": "333324",
                                    "6": "BULKLOAD",
                                    "7": "Table_fc3e1376c2bf43ea9af3735d63f84159_32",
                                    "8": "2022-07-08 13:48:54.330"
                                },
                                {
                                    "0": "FactFinance100m",
                                    "1": "0",
                                    "2": "1",
                                    "3": "3",
                                    "4": "COMPRESSED",
                                    "5": "333324",
                                    "6": "BULKLOAD",
                                    "7": "Table_fc3e1376c2bf43ea9af3735d63f84159_33",
                                    "8": "2022-07-08 13:48:54.340"
                                },
                                {
                                    "0": "FactFinance100m",
                                    "1": "0",
                                    "2": "1",
                                    "3": "3",
                                    "4": "COMPRESSED",
                                    "5": "333324",
                                    "6": "BULKLOAD",
                                    "7": "Table_fc3e1376c2bf43ea9af3735d63f84159_34",
                                    "8": "2022-07-08 13:48:54.447"
                                },
                                {
                                    "0": "FactFinance100m",
                                    "1": "0",
                                    "2": "1",
                                    "3": "3",
                                    "4": "COMPRESSED",
                                    "5": "333324",
                                    "6": "BULKLOAD",
                                    "7": "Table_fc3e1376c2bf43ea9af3735d63f84159_35",
                                    "8": "2022-07-08 13:48:54.453"
                                },
                                {
                                    "0": "FactFinance100m",
                                    "1": "0",
                                    "2": "1",
                                    "3": "3",
                                    "4": "COMPRESSED",
                                    "5": "333324",
                                    "6": "BULKLOAD",
                                    "7": "Table_fc3e1376c2bf43ea9af3735d63f84159_36",
                                    "8": "2022-07-08 13:48:54.270"
                                },
                                {
                                    "0": "FactFinance100m",
                                    "1": "0",
                                    "2": "1",
                                    "3": "3",
                                    "4": "COMPRESSED",
                                    "5": "333324",
                                    "6": "BULKLOAD",
                                    "7": "Table_fc3e1376c2bf43ea9af3735d63f84159_37",
                                    "8": "2022-07-08 13:48:54.240"
                                },
                                {
                                    "0": "FactFinance100m",
                                    "1": "0",
                                    "2": "1",
                                    "3": "3",
                                    "4": "COMPRESSED",
                                    "5": "333324",
                                    "6": "BULKLOAD",
                                    "7": "Table_fc3e1376c2bf43ea9af3735d63f84159_38",
                                    "8": "2022-07-08 13:48:54.400"
                                },
                                {
                                    "0": "FactFinance100m",
                                    "1": "0",
                                    "2": "1",
                                    "3": "3",
                                    "4": "COMPRESSED",
                                    "5": "333324",
                                    "6": "BULKLOAD",
                                    "7": "Table_fc3e1376c2bf43ea9af3735d63f84159_39",
                                    "8": "2022-07-08 13:48:54.360"
                                },
                                {
                                    "0": "FactFinance100m",
                                    "1": "0",
                                    "2": "1",
                                    "3": "3",
                                    "4": "COMPRESSED",
                                    "5": "333324",
                                    "6": "BULKLOAD",
                                    "7": "Table_fc3e1376c2bf43ea9af3735d63f84159_40",
                                    "8": "2022-07-08 13:48:54.450"
                                },
                                {
                                    "0": "FactFinance100m",
                                    "1": "0",
                                    "2": "1",
                                    "3": "3",
                                    "4": "COMPRESSED",
                                    "5": "333324",
                                    "6": "BULKLOAD",
                                    "7": "Table_fc3e1376c2bf43ea9af3735d63f84159_41",
                                    "8": "2022-07-08 13:48:54.287"
                                },
                                {
                                    "0": "FactFinance100m",
                                    "1": "0",
                                    "2": "1",
                                    "3": "3",
                                    "4": "COMPRESSED",
                                    "5": "333324",
                                    "6": "BULKLOAD",
                                    "7": "Table_fc3e1376c2bf43ea9af3735d63f84159_42",
                                    "8": "2022-07-08 13:48:54.453"
                                },
                                {
                                    "0": "FactFinance100m",
                                    "1": "0",
                                    "2": "1",
                                    "3": "3",
                                    "4": "COMPRESSED",
                                    "5": "333324",
                                    "6": "BULKLOAD",
                                    "7": "Table_fc3e1376c2bf43ea9af3735d63f84159_43",
                                    "8": "2022-07-08 13:48:54.400"
                                },
                                {
                                    "0": "FactFinance100m",
                                    "1": "0",
                                    "2": "1",
                                    "3": "3",
                                    "4": "COMPRESSED",
                                    "5": "333884",
                                    "6": "BULKLOAD",
                                    "7": "Table_fc3e1376c2bf43ea9af3735d63f84159_44",
                                    "8": "2022-07-08 13:48:54.347"
                                },
                                {
                                    "0": "FactFinance100m",
                                    "1": "0",
                                    "2": "1",
                                    "3": "3",
                                    "4": "COMPRESSED",
                                    "5": "333324",
                                    "6": "BULKLOAD",
                                    "7": "Table_fc3e1376c2bf43ea9af3735d63f84159_45",
                                    "8": "2022-07-08 13:48:54.480"
                                },
                                {
                                    "0": "FactFinance100m",
                                    "1": "0",
                                    "2": "1",
                                    "3": "3",
                                    "4": "COMPRESSED",
                                    "5": "333324",
                                    "6": "BULKLOAD",
                                    "7": "Table_fc3e1376c2bf43ea9af3735d63f84159_46",
                                    "8": "2022-07-08 13:48:54.257"
                                },
                                {
                                    "0": "FactFinance100m",
                                    "1": "0",
                                    "2": "1",
                                    "3": "3",
                                    "4": "COMPRESSED",
                                    "5": "333324",
                                    "6": "BULKLOAD",
                                    "7": "Table_fc3e1376c2bf43ea9af3735d63f84159_47",
                                    "8": "2022-07-08 13:48:54.280"
                                },
                                {
                                    "0": "FactFinance100m",
                                    "1": "0",
                                    "2": "1",
                                    "3": "3",
                                    "4": "COMPRESSED",
                                    "5": "333324",
                                    "6": "BULKLOAD",
                                    "7": "Table_fc3e1376c2bf43ea9af3735d63f84159_48",
                                    "8": "2022-07-08 13:48:54.363"
                                },
                                {
                                    "0": "FactFinance100m",
                                    "1": "0",
                                    "2": "1",
                                    "3": "3",
                                    "4": "COMPRESSED",
                                    "5": "333324",
                                    "6": "BULKLOAD",
                                    "7": "Table_fc3e1376c2bf43ea9af3735d63f84159_49",
                                    "8": "2022-07-08 13:48:54.443"
                                },
                                {
                                    "0": "FactFinance100m",
                                    "1": "0",
                                    "2": "1",
                                    "3": "3",
                                    "4": "COMPRESSED",
                                    "5": "333324",
                                    "6": "BULKLOAD",
                                    "7": "Table_fc3e1376c2bf43ea9af3735d63f84159_50",
                                    "8": "2022-07-08 13:48:54.443"
                                },
                                {
                                    "0": "FactFinance100m",
                                    "1": "0",
                                    "2": "1",
                                    "3": "3",
                                    "4": "COMPRESSED",
                                    "5": "333324",
                                    "6": "BULKLOAD",
                                    "7": "Table_fc3e1376c2bf43ea9af3735d63f84159_51",
                                    "8": "2022-07-08 13:48:54.253"
                                },
                                {
                                    "0": "FactFinance100m",
                                    "1": "0",
                                    "2": "1",
                                    "3": "3",
                                    "4": "COMPRESSED",
                                    "5": "333324",
                                    "6": "BULKLOAD",
                                    "7": "Table_fc3e1376c2bf43ea9af3735d63f84159_52",
                                    "8": "2022-07-08 13:48:54.497"
                                },
                                {
                                    "0": "FactFinance100m",
                                    "1": "0",
                                    "2": "1",
                                    "3": "3",
                                    "4": "COMPRESSED",
                                    "5": "333324",
                                    "6": "BULKLOAD",
                                    "7": "Table_fc3e1376c2bf43ea9af3735d63f84159_53",
                                    "8": "2022-07-08 13:48:54.407"
                                },
                                {
                                    "0": "FactFinance100m",
                                    "1": "0",
                                    "2": "1",
                                    "3": "3",
                                    "4": "COMPRESSED",
                                    "5": "333324",
                                    "6": "BULKLOAD",
                                    "7": "Table_fc3e1376c2bf43ea9af3735d63f84159_54",
                                    "8": "2022-07-08 13:48:54.393"
                                },
                                {
                                    "0": "FactFinance100m",
                                    "1": "0",
                                    "2": "1",
                                    "3": "3",
                                    "4": "COMPRESSED",
                                    "5": "333324",
                                    "6": "BULKLOAD",
                                    "7": "Table_fc3e1376c2bf43ea9af3735d63f84159_55",
                                    "8": "2022-07-08 13:48:54.257"
                                },
                                {
                                    "0": "FactFinance100m",
                                    "1": "0",
                                    "2": "1",
                                    "3": "3",
                                    "4": "COMPRESSED",
                                    "5": "333324",
                                    "6": "BULKLOAD",
                                    "7": "Table_fc3e1376c2bf43ea9af3735d63f84159_56",
                                    "8": "2022-07-08 13:48:54.320"
                                },
                                {
                                    "0": "FactFinance100m",
                                    "1": "0",
                                    "2": "1",
                                    "3": "3",
                                    "4": "COMPRESSED",
                                    "5": "333324",
                                    "6": "BULKLOAD",
                                    "7": "Table_fc3e1376c2bf43ea9af3735d63f84159_57",
                                    "8": "2022-07-08 13:48:54.440"
                                },
                                {
                                    "0": "FactFinance100m",
                                    "1": "0",
                                    "2": "1",
                                    "3": "3",
                                    "4": "COMPRESSED",
                                    "5": "333324",
                                    "6": "BULKLOAD",
                                    "7": "Table_fc3e1376c2bf43ea9af3735d63f84159_58",
                                    "8": "2022-07-08 13:48:54.293"
                                },
                                {
                                    "0": "FactFinance100m",
                                    "1": "0",
                                    "2": "1",
                                    "3": "3",
                                    "4": "COMPRESSED",
                                    "5": "333324",
                                    "6": "BULKLOAD",
                                    "7": "Table_fc3e1376c2bf43ea9af3735d63f84159_59",
                                    "8": "2022-07-08 13:48:54.457"
                                },
                                {
                                    "0": "FactFinance100m",
                                    "1": "0",
                                    "2": "1",
                                    "3": "3",
                                    "4": "COMPRESSED",
                                    "5": "333324",
                                    "6": "BULKLOAD",
                                    "7": "Table_fc3e1376c2bf43ea9af3735d63f84159_60",
                                    "8": "2022-07-08 13:48:54.443"
                                }
                            ]
                        },
                        "text/html": "<table><tr><th>logical_table_name</th><th>row_group_id</th><th>partition_number</th><th>state</th><th>state_desc</th><th>total_rows</th><th>trim_reason_desc</th><th>physical_name</th><th>created_time</th></tr><tr><td>FactFinance100m</td><td>0</td><td>1</td><td>3</td><td>COMPRESSED</td><td>333324</td><td>BULKLOAD</td><td>Table_fc3e1376c2bf43ea9af3735d63f84159_1</td><td>2022-07-08 13:48:54.293</td></tr><tr><td>FactFinance100m</td><td>0</td><td>1</td><td>3</td><td>COMPRESSED</td><td>333324</td><td>BULKLOAD</td><td>Table_fc3e1376c2bf43ea9af3735d63f84159_2</td><td>2022-07-08 13:48:54.433</td></tr><tr><td>FactFinance100m</td><td>0</td><td>1</td><td>3</td><td>COMPRESSED</td><td>333324</td><td>BULKLOAD</td><td>Table_fc3e1376c2bf43ea9af3735d63f84159_3</td><td>2022-07-08 13:48:54.277</td></tr><tr><td>FactFinance100m</td><td>0</td><td>1</td><td>3</td><td>COMPRESSED</td><td>333324</td><td>BULKLOAD</td><td>Table_fc3e1376c2bf43ea9af3735d63f84159_4</td><td>2022-07-08 13:48:54.337</td></tr><tr><td>FactFinance100m</td><td>0</td><td>1</td><td>3</td><td>COMPRESSED</td><td>333324</td><td>BULKLOAD</td><td>Table_fc3e1376c2bf43ea9af3735d63f84159_5</td><td>2022-07-08 13:48:54.320</td></tr><tr><td>FactFinance100m</td><td>0</td><td>1</td><td>3</td><td>COMPRESSED</td><td>333324</td><td>BULKLOAD</td><td>Table_fc3e1376c2bf43ea9af3735d63f84159_6</td><td>2022-07-08 13:48:54.380</td></tr><tr><td>FactFinance100m</td><td>0</td><td>1</td><td>3</td><td>COMPRESSED</td><td>333324</td><td>BULKLOAD</td><td>Table_fc3e1376c2bf43ea9af3735d63f84159_7</td><td>2022-07-08 13:48:54.313</td></tr><tr><td>FactFinance100m</td><td>0</td><td>1</td><td>3</td><td>COMPRESSED</td><td>333324</td><td>BULKLOAD</td><td>Table_fc3e1376c2bf43ea9af3735d63f84159_8</td><td>2022-07-08 13:48:54.300</td></tr><tr><td>FactFinance100m</td><td>0</td><td>1</td><td>3</td><td>COMPRESSED</td><td>333324</td><td>BULKLOAD</td><td>Table_fc3e1376c2bf43ea9af3735d63f84159_9</td><td>2022-07-08 13:48:54.320</td></tr><tr><td>FactFinance100m</td><td>0</td><td>1</td><td>3</td><td>COMPRESSED</td><td>333324</td><td>BULKLOAD</td><td>Table_fc3e1376c2bf43ea9af3735d63f84159_10</td><td>2022-07-08 13:48:54.453</td></tr><tr><td>FactFinance100m</td><td>0</td><td>1</td><td>3</td><td>COMPRESSED</td><td>333324</td><td>BULKLOAD</td><td>Table_fc3e1376c2bf43ea9af3735d63f84159_11</td><td>2022-07-08 13:48:54.417</td></tr><tr><td>FactFinance100m</td><td>0</td><td>1</td><td>3</td><td>COMPRESSED</td><td>333324</td><td>BULKLOAD</td><td>Table_fc3e1376c2bf43ea9af3735d63f84159_12</td><td>2022-07-08 13:48:54.297</td></tr><tr><td>FactFinance100m</td><td>0</td><td>1</td><td>3</td><td>COMPRESSED</td><td>333324</td><td>BULKLOAD</td><td>Table_fc3e1376c2bf43ea9af3735d63f84159_13</td><td>2022-07-08 13:48:54.453</td></tr><tr><td>FactFinance100m</td><td>0</td><td>1</td><td>3</td><td>COMPRESSED</td><td>333324</td><td>BULKLOAD</td><td>Table_fc3e1376c2bf43ea9af3735d63f84159_14</td><td>2022-07-08 13:48:54.437</td></tr><tr><td>FactFinance100m</td><td>0</td><td>1</td><td>3</td><td>COMPRESSED</td><td>333324</td><td>BULKLOAD</td><td>Table_fc3e1376c2bf43ea9af3735d63f84159_15</td><td>2022-07-08 13:48:54.423</td></tr><tr><td>FactFinance100m</td><td>0</td><td>1</td><td>3</td><td>COMPRESSED</td><td>333324</td><td>BULKLOAD</td><td>Table_fc3e1376c2bf43ea9af3735d63f84159_16</td><td>2022-07-08 13:48:54.210</td></tr><tr><td>FactFinance100m</td><td>0</td><td>1</td><td>3</td><td>COMPRESSED</td><td>333324</td><td>BULKLOAD</td><td>Table_fc3e1376c2bf43ea9af3735d63f84159_17</td><td>2022-07-08 13:48:55.017</td></tr><tr><td>FactFinance100m</td><td>0</td><td>1</td><td>3</td><td>COMPRESSED</td><td>333324</td><td>BULKLOAD</td><td>Table_fc3e1376c2bf43ea9af3735d63f84159_18</td><td>2022-07-08 13:48:54.293</td></tr><tr><td>FactFinance100m</td><td>0</td><td>1</td><td>3</td><td>COMPRESSED</td><td>333324</td><td>BULKLOAD</td><td>Table_fc3e1376c2bf43ea9af3735d63f84159_19</td><td>2022-07-08 13:48:54.987</td></tr><tr><td>FactFinance100m</td><td>0</td><td>1</td><td>3</td><td>COMPRESSED</td><td>333324</td><td>BULKLOAD</td><td>Table_fc3e1376c2bf43ea9af3735d63f84159_20</td><td>2022-07-08 13:48:54.433</td></tr><tr><td>FactFinance100m</td><td>0</td><td>1</td><td>3</td><td>COMPRESSED</td><td>333324</td><td>BULKLOAD</td><td>Table_fc3e1376c2bf43ea9af3735d63f84159_21</td><td>2022-07-08 13:48:54.380</td></tr><tr><td>FactFinance100m</td><td>0</td><td>1</td><td>3</td><td>COMPRESSED</td><td>333324</td><td>BULKLOAD</td><td>Table_fc3e1376c2bf43ea9af3735d63f84159_22</td><td>2022-07-08 13:48:54.380</td></tr><tr><td>FactFinance100m</td><td>0</td><td>1</td><td>3</td><td>COMPRESSED</td><td>333324</td><td>BULKLOAD</td><td>Table_fc3e1376c2bf43ea9af3735d63f84159_23</td><td>2022-07-08 13:48:54.293</td></tr><tr><td>FactFinance100m</td><td>0</td><td>1</td><td>3</td><td>COMPRESSED</td><td>333324</td><td>BULKLOAD</td><td>Table_fc3e1376c2bf43ea9af3735d63f84159_24</td><td>2022-07-08 13:48:54.363</td></tr><tr><td>FactFinance100m</td><td>0</td><td>1</td><td>3</td><td>COMPRESSED</td><td>333324</td><td>BULKLOAD</td><td>Table_fc3e1376c2bf43ea9af3735d63f84159_25</td><td>2022-07-08 13:48:54.290</td></tr><tr><td>FactFinance100m</td><td>0</td><td>1</td><td>3</td><td>COMPRESSED</td><td>333324</td><td>BULKLOAD</td><td>Table_fc3e1376c2bf43ea9af3735d63f84159_26</td><td>2022-07-08 13:48:54.440</td></tr><tr><td>FactFinance100m</td><td>0</td><td>1</td><td>3</td><td>COMPRESSED</td><td>333324</td><td>BULKLOAD</td><td>Table_fc3e1376c2bf43ea9af3735d63f84159_27</td><td>2022-07-08 13:48:54.297</td></tr><tr><td>FactFinance100m</td><td>0</td><td>1</td><td>3</td><td>COMPRESSED</td><td>333324</td><td>BULKLOAD</td><td>Table_fc3e1376c2bf43ea9af3735d63f84159_28</td><td>2022-07-08 13:48:54.450</td></tr><tr><td>FactFinance100m</td><td>0</td><td>1</td><td>3</td><td>COMPRESSED</td><td>333324</td><td>BULKLOAD</td><td>Table_fc3e1376c2bf43ea9af3735d63f84159_29</td><td>2022-07-08 13:48:54.440</td></tr><tr><td>FactFinance100m</td><td>0</td><td>1</td><td>3</td><td>COMPRESSED</td><td>333324</td><td>BULKLOAD</td><td>Table_fc3e1376c2bf43ea9af3735d63f84159_30</td><td>2022-07-08 13:48:54.403</td></tr><tr><td>FactFinance100m</td><td>0</td><td>1</td><td>3</td><td>COMPRESSED</td><td>333324</td><td>BULKLOAD</td><td>Table_fc3e1376c2bf43ea9af3735d63f84159_31</td><td>2022-07-08 13:48:54.300</td></tr><tr><td>FactFinance100m</td><td>0</td><td>1</td><td>3</td><td>COMPRESSED</td><td>333324</td><td>BULKLOAD</td><td>Table_fc3e1376c2bf43ea9af3735d63f84159_32</td><td>2022-07-08 13:48:54.330</td></tr><tr><td>FactFinance100m</td><td>0</td><td>1</td><td>3</td><td>COMPRESSED</td><td>333324</td><td>BULKLOAD</td><td>Table_fc3e1376c2bf43ea9af3735d63f84159_33</td><td>2022-07-08 13:48:54.340</td></tr><tr><td>FactFinance100m</td><td>0</td><td>1</td><td>3</td><td>COMPRESSED</td><td>333324</td><td>BULKLOAD</td><td>Table_fc3e1376c2bf43ea9af3735d63f84159_34</td><td>2022-07-08 13:48:54.447</td></tr><tr><td>FactFinance100m</td><td>0</td><td>1</td><td>3</td><td>COMPRESSED</td><td>333324</td><td>BULKLOAD</td><td>Table_fc3e1376c2bf43ea9af3735d63f84159_35</td><td>2022-07-08 13:48:54.453</td></tr><tr><td>FactFinance100m</td><td>0</td><td>1</td><td>3</td><td>COMPRESSED</td><td>333324</td><td>BULKLOAD</td><td>Table_fc3e1376c2bf43ea9af3735d63f84159_36</td><td>2022-07-08 13:48:54.270</td></tr><tr><td>FactFinance100m</td><td>0</td><td>1</td><td>3</td><td>COMPRESSED</td><td>333324</td><td>BULKLOAD</td><td>Table_fc3e1376c2bf43ea9af3735d63f84159_37</td><td>2022-07-08 13:48:54.240</td></tr><tr><td>FactFinance100m</td><td>0</td><td>1</td><td>3</td><td>COMPRESSED</td><td>333324</td><td>BULKLOAD</td><td>Table_fc3e1376c2bf43ea9af3735d63f84159_38</td><td>2022-07-08 13:48:54.400</td></tr><tr><td>FactFinance100m</td><td>0</td><td>1</td><td>3</td><td>COMPRESSED</td><td>333324</td><td>BULKLOAD</td><td>Table_fc3e1376c2bf43ea9af3735d63f84159_39</td><td>2022-07-08 13:48:54.360</td></tr><tr><td>FactFinance100m</td><td>0</td><td>1</td><td>3</td><td>COMPRESSED</td><td>333324</td><td>BULKLOAD</td><td>Table_fc3e1376c2bf43ea9af3735d63f84159_40</td><td>2022-07-08 13:48:54.450</td></tr><tr><td>FactFinance100m</td><td>0</td><td>1</td><td>3</td><td>COMPRESSED</td><td>333324</td><td>BULKLOAD</td><td>Table_fc3e1376c2bf43ea9af3735d63f84159_41</td><td>2022-07-08 13:48:54.287</td></tr><tr><td>FactFinance100m</td><td>0</td><td>1</td><td>3</td><td>COMPRESSED</td><td>333324</td><td>BULKLOAD</td><td>Table_fc3e1376c2bf43ea9af3735d63f84159_42</td><td>2022-07-08 13:48:54.453</td></tr><tr><td>FactFinance100m</td><td>0</td><td>1</td><td>3</td><td>COMPRESSED</td><td>333324</td><td>BULKLOAD</td><td>Table_fc3e1376c2bf43ea9af3735d63f84159_43</td><td>2022-07-08 13:48:54.400</td></tr><tr><td>FactFinance100m</td><td>0</td><td>1</td><td>3</td><td>COMPRESSED</td><td>333884</td><td>BULKLOAD</td><td>Table_fc3e1376c2bf43ea9af3735d63f84159_44</td><td>2022-07-08 13:48:54.347</td></tr><tr><td>FactFinance100m</td><td>0</td><td>1</td><td>3</td><td>COMPRESSED</td><td>333324</td><td>BULKLOAD</td><td>Table_fc3e1376c2bf43ea9af3735d63f84159_45</td><td>2022-07-08 13:48:54.480</td></tr><tr><td>FactFinance100m</td><td>0</td><td>1</td><td>3</td><td>COMPRESSED</td><td>333324</td><td>BULKLOAD</td><td>Table_fc3e1376c2bf43ea9af3735d63f84159_46</td><td>2022-07-08 13:48:54.257</td></tr><tr><td>FactFinance100m</td><td>0</td><td>1</td><td>3</td><td>COMPRESSED</td><td>333324</td><td>BULKLOAD</td><td>Table_fc3e1376c2bf43ea9af3735d63f84159_47</td><td>2022-07-08 13:48:54.280</td></tr><tr><td>FactFinance100m</td><td>0</td><td>1</td><td>3</td><td>COMPRESSED</td><td>333324</td><td>BULKLOAD</td><td>Table_fc3e1376c2bf43ea9af3735d63f84159_48</td><td>2022-07-08 13:48:54.363</td></tr><tr><td>FactFinance100m</td><td>0</td><td>1</td><td>3</td><td>COMPRESSED</td><td>333324</td><td>BULKLOAD</td><td>Table_fc3e1376c2bf43ea9af3735d63f84159_49</td><td>2022-07-08 13:48:54.443</td></tr><tr><td>FactFinance100m</td><td>0</td><td>1</td><td>3</td><td>COMPRESSED</td><td>333324</td><td>BULKLOAD</td><td>Table_fc3e1376c2bf43ea9af3735d63f84159_50</td><td>2022-07-08 13:48:54.443</td></tr><tr><td>FactFinance100m</td><td>0</td><td>1</td><td>3</td><td>COMPRESSED</td><td>333324</td><td>BULKLOAD</td><td>Table_fc3e1376c2bf43ea9af3735d63f84159_51</td><td>2022-07-08 13:48:54.253</td></tr><tr><td>FactFinance100m</td><td>0</td><td>1</td><td>3</td><td>COMPRESSED</td><td>333324</td><td>BULKLOAD</td><td>Table_fc3e1376c2bf43ea9af3735d63f84159_52</td><td>2022-07-08 13:48:54.497</td></tr><tr><td>FactFinance100m</td><td>0</td><td>1</td><td>3</td><td>COMPRESSED</td><td>333324</td><td>BULKLOAD</td><td>Table_fc3e1376c2bf43ea9af3735d63f84159_53</td><td>2022-07-08 13:48:54.407</td></tr><tr><td>FactFinance100m</td><td>0</td><td>1</td><td>3</td><td>COMPRESSED</td><td>333324</td><td>BULKLOAD</td><td>Table_fc3e1376c2bf43ea9af3735d63f84159_54</td><td>2022-07-08 13:48:54.393</td></tr><tr><td>FactFinance100m</td><td>0</td><td>1</td><td>3</td><td>COMPRESSED</td><td>333324</td><td>BULKLOAD</td><td>Table_fc3e1376c2bf43ea9af3735d63f84159_55</td><td>2022-07-08 13:48:54.257</td></tr><tr><td>FactFinance100m</td><td>0</td><td>1</td><td>3</td><td>COMPRESSED</td><td>333324</td><td>BULKLOAD</td><td>Table_fc3e1376c2bf43ea9af3735d63f84159_56</td><td>2022-07-08 13:48:54.320</td></tr><tr><td>FactFinance100m</td><td>0</td><td>1</td><td>3</td><td>COMPRESSED</td><td>333324</td><td>BULKLOAD</td><td>Table_fc3e1376c2bf43ea9af3735d63f84159_57</td><td>2022-07-08 13:48:54.440</td></tr><tr><td>FactFinance100m</td><td>0</td><td>1</td><td>3</td><td>COMPRESSED</td><td>333324</td><td>BULKLOAD</td><td>Table_fc3e1376c2bf43ea9af3735d63f84159_58</td><td>2022-07-08 13:48:54.293</td></tr><tr><td>FactFinance100m</td><td>0</td><td>1</td><td>3</td><td>COMPRESSED</td><td>333324</td><td>BULKLOAD</td><td>Table_fc3e1376c2bf43ea9af3735d63f84159_59</td><td>2022-07-08 13:48:54.457</td></tr><tr><td>FactFinance100m</td><td>0</td><td>1</td><td>3</td><td>COMPRESSED</td><td>333324</td><td>BULKLOAD</td><td>Table_fc3e1376c2bf43ea9af3735d63f84159_60</td><td>2022-07-08 13:48:54.443</td></tr></table>"
                    },
                    "metadata": {}
                }
            ],
            "execution_count": 28
        },
        {
            "cell_type": "code",
            "source": [
                "/*\r\n",
                "    Lets Insert another 100 million to make similar as inital test case (120 million)\r\n",
                "\r\n",
                "    We can see that we have 360 RowGroups instead of 180 and Fragmentation is only 17%, with only 33k per Row Group instead of 1024l\r\n",
                "*/\r\n",
                "\r\n",
                "INSERT INTO FactFinance100m ([AccountKey], [ScenarioKey], [DepartmentGroupKey], [DateKey], [OrganizationKey], [Amount], [Date], [LineageKey])\r\n",
                "SELECT TOP 20000000 [AccountKey], [ScenarioKey], [DepartmentGroupKey], [DateKey], [OrganizationKey], [Amount], [Date], [LineageKey] FROM [dbo].[FactFinance1b]\r\n",
                "GO 5\r\n",
                ""
            ],
            "metadata": {
                "azdata_cell_guid": "9b0176c2-01d7-4155-919a-e15a1dfecc0f",
                "extensions": {
                    "azuredatastudio": {
                        "views": []
                    }
                },
                "language": "sql"
            },
            "outputs": [
                {
                    "output_type": "display_data",
                    "data": {
                        "text/html": "Beginning execution loop"
                    },
                    "metadata": {}
                },
                {
                    "output_type": "display_data",
                    "data": {
                        "text/html": "(20000000 rows affected)"
                    },
                    "metadata": {}
                },
                {
                    "output_type": "display_data",
                    "data": {
                        "text/html": "(20000000 rows affected)"
                    },
                    "metadata": {}
                },
                {
                    "output_type": "display_data",
                    "data": {
                        "text/html": "(20000000 rows affected)"
                    },
                    "metadata": {}
                },
                {
                    "output_type": "display_data",
                    "data": {
                        "text/html": "(20000000 rows affected)"
                    },
                    "metadata": {}
                },
                {
                    "output_type": "display_data",
                    "data": {
                        "text/html": "(20000000 rows affected)"
                    },
                    "metadata": {}
                },
                {
                    "output_type": "display_data",
                    "data": {
                        "text/html": "Batch execution completed 5 times..."
                    },
                    "metadata": {}
                },
                {
                    "output_type": "display_data",
                    "data": {
                        "text/html": "Total execution time: 00:03:24.599"
                    },
                    "metadata": {}
                }
            ],
            "execution_count": 33
        },
        {
            "cell_type": "code",
            "source": [
                "/* Now lets Look at the Fragmnentation. 68% Fragmented. Eg only 32% full */\r\n",
                "\r\n",
                "SELECT * FROM dbo.vColumnstoreStats WHERE table_name='FactFinance100m'\r\n",
                "select * From [dbo].[vCS_rg_physical_stats] WHERE logical_table_name='FactFinance100m'"
            ],
            "metadata": {
                "azdata_cell_guid": "b5acfcbb-5481-48c4-99d8-f6c74d874cc3",
                "extensions": {
                    "azuredatastudio": {
                        "views": []
                    }
                },
                "language": "sql"
            },
            "outputs": [
                {
                    "output_type": "display_data",
                    "data": {
                        "text/html": "(1 row affected)"
                    },
                    "metadata": {}
                },
                {
                    "output_type": "display_data",
                    "data": {
                        "text/html": "(480 rows affected)"
                    },
                    "metadata": {}
                },
                {
                    "output_type": "display_data",
                    "data": {
                        "text/html": "Total execution time: 00:00:02.420"
                    },
                    "metadata": {}
                },
                {
                    "output_type": "execute_result",
                    "execution_count": 34,
                    "data": {
                        "application/vnd.dataresource+json": {
                            "schema": {
                                "fields": [
                                    {
                                        "name": "execution_date"
                                    },
                                    {
                                        "name": "database_name"
                                    },
                                    {
                                        "name": "schema_name"
                                    },
                                    {
                                        "name": "table_name"
                                    },
                                    {
                                        "name": "partition_number"
                                    },
                                    {
                                        "name": "partition_scheme"
                                    },
                                    {
                                        "name": "object_id"
                                    },
                                    {
                                        "name": "index_name"
                                    },
                                    {
                                        "name": "row_count"
                                    },
                                    {
                                        "name": "deleted_row_count"
                                    },
                                    {
                                        "name": "row_group_count"
                                    },
                                    {
                                        "name": "compressed_row_count"
                                    },
                                    {
                                        "name": "compressed_rowgroup_count"
                                    },
                                    {
                                        "name": "open_rowgroup_count"
                                    },
                                    {
                                        "name": "open_row_count"
                                    },
                                    {
                                        "name": "compressed_row_max"
                                    },
                                    {
                                        "name": "compressed_row_avg"
                                    },
                                    {
                                        "name": "fragmentation_density"
                                    },
                                    {
                                        "name": "fragmentation_deletes"
                                    },
                                    {
                                        "name": "fragmentation_open"
                                    }
                                ]
                            },
                            "data": [
                                {
                                    "0": "2022-07-08 14:32:24.287",
                                    "1": "AdventureWorksDW",
                                    "2": "dbo",
                                    "3": "FactFinance100m",
                                    "4": "NULL",
                                    "5": "NULL",
                                    "6": "290868153",
                                    "7": "ClusteredIndex_e2f1410ade274620bfb52e91dcee6ddb",
                                    "8": "230000000",
                                    "9": "0",
                                    "10": "480",
                                    "11": "225829120",
                                    "12": "420",
                                    "13": "60",
                                    "14": "4170880",
                                    "15": "1048576",
                                    "16": "537688",
                                    "17": "48.7200",
                                    "18": "0.0000",
                                    "19": "6.6300"
                                }
                            ]
                        },
                        "text/html": "<table><tr><th>execution_date</th><th>database_name</th><th>schema_name</th><th>table_name</th><th>partition_number</th><th>partition_scheme</th><th>object_id</th><th>index_name</th><th>row_count</th><th>deleted_row_count</th><th>row_group_count</th><th>compressed_row_count</th><th>compressed_rowgroup_count</th><th>open_rowgroup_count</th><th>open_row_count</th><th>compressed_row_max</th><th>compressed_row_avg</th><th>fragmentation_density</th><th>fragmentation_deletes</th><th>fragmentation_open</th></tr><tr><td>2022-07-08 14:32:24.287</td><td>AdventureWorksDW</td><td>dbo</td><td>FactFinance100m</td><td>NULL</td><td>NULL</td><td>290868153</td><td>ClusteredIndex_e2f1410ade274620bfb52e91dcee6ddb</td><td>230000000</td><td>0</td><td>480</td><td>225829120</td><td>420</td><td>60</td><td>4170880</td><td>1048576</td><td>537688</td><td>48.7200</td><td>0.0000</td><td>6.6300</td></tr></table>"
                    },
                    "metadata": {}
                },
                {
                    "output_type": "execute_result",
                    "execution_count": 34,
                    "data": {
                        "application/vnd.dataresource+json": {
                            "schema": {
                                "fields": [
                                    {
                                        "name": "logical_table_name"
                                    },
                                    {
                                        "name": "row_group_id"
                                    },
                                    {
                                        "name": "partition_number"
                                    },
                                    {
                                        "name": "state"
                                    },
                                    {
                                        "name": "state_desc"
                                    },
                                    {
                                        "name": "total_rows"
                                    },
                                    {
                                        "name": "trim_reason_desc"
                                    },
                                    {
                                        "name": "physical_name"
                                    },
                                    {
                                        "name": "created_time"
                                    }
                                ]
                            },
                            "data": [
                                {
                                    "0": "FactFinance100m",
                                    "1": "7",
                                    "2": "1",
                                    "3": "3",
                                    "4": "COMPRESSED",
                                    "5": "333324",
                                    "6": "BULKLOAD",
                                    "7": "Table_5e36fad5620b4f1c8f3eb0d9fc992bec_1",
                                    "8": "2022-07-08 14:30:44.753"
                                },
                                {
                                    "0": "FactFinance100m",
                                    "1": "7",
                                    "2": "1",
                                    "3": "3",
                                    "4": "COMPRESSED",
                                    "5": "333324",
                                    "6": "BULKLOAD",
                                    "7": "Table_5e36fad5620b4f1c8f3eb0d9fc992bec_2",
                                    "8": "2022-07-08 14:30:44.740"
                                },
                                {
                                    "0": "FactFinance100m",
                                    "1": "7",
                                    "2": "1",
                                    "3": "3",
                                    "4": "COMPRESSED",
                                    "5": "333324",
                                    "6": "BULKLOAD",
                                    "7": "Table_5e36fad5620b4f1c8f3eb0d9fc992bec_3",
                                    "8": "2022-07-08 14:30:44.840"
                                },
                                {
                                    "0": "FactFinance100m",
                                    "1": "7",
                                    "2": "1",
                                    "3": "3",
                                    "4": "COMPRESSED",
                                    "5": "333324",
                                    "6": "BULKLOAD",
                                    "7": "Table_5e36fad5620b4f1c8f3eb0d9fc992bec_4",
                                    "8": "2022-07-08 14:30:44.840"
                                },
                                {
                                    "0": "FactFinance100m",
                                    "1": "7",
                                    "2": "1",
                                    "3": "3",
                                    "4": "COMPRESSED",
                                    "5": "333324",
                                    "6": "BULKLOAD",
                                    "7": "Table_5e36fad5620b4f1c8f3eb0d9fc992bec_5",
                                    "8": "2022-07-08 14:30:44.797"
                                },
                                {
                                    "0": "FactFinance100m",
                                    "1": "7",
                                    "2": "1",
                                    "3": "3",
                                    "4": "COMPRESSED",
                                    "5": "333324",
                                    "6": "BULKLOAD",
                                    "7": "Table_5e36fad5620b4f1c8f3eb0d9fc992bec_6",
                                    "8": "2022-07-08 14:30:44.837"
                                },
                                {
                                    "0": "FactFinance100m",
                                    "1": "7",
                                    "2": "1",
                                    "3": "3",
                                    "4": "COMPRESSED",
                                    "5": "333324",
                                    "6": "BULKLOAD",
                                    "7": "Table_5e36fad5620b4f1c8f3eb0d9fc992bec_7",
                                    "8": "2022-07-08 14:30:45.490"
                                },
                                {
                                    "0": "FactFinance100m",
                                    "1": "7",
                                    "2": "1",
                                    "3": "3",
                                    "4": "COMPRESSED",
                                    "5": "333324",
                                    "6": "BULKLOAD",
                                    "7": "Table_5e36fad5620b4f1c8f3eb0d9fc992bec_8",
                                    "8": "2022-07-08 14:30:44.847"
                                },
                                {
                                    "0": "FactFinance100m",
                                    "1": "7",
                                    "2": "1",
                                    "3": "3",
                                    "4": "COMPRESSED",
                                    "5": "333324",
                                    "6": "BULKLOAD",
                                    "7": "Table_5e36fad5620b4f1c8f3eb0d9fc992bec_9",
                                    "8": "2022-07-08 14:30:45.540"
                                },
                                {
                                    "0": "FactFinance100m",
                                    "1": "7",
                                    "2": "1",
                                    "3": "3",
                                    "4": "COMPRESSED",
                                    "5": "333324",
                                    "6": "BULKLOAD",
                                    "7": "Table_5e36fad5620b4f1c8f3eb0d9fc992bec_10",
                                    "8": "2022-07-08 14:30:44.767"
                                },
                                {
                                    "0": "FactFinance100m",
                                    "1": "7",
                                    "2": "1",
                                    "3": "3",
                                    "4": "COMPRESSED",
                                    "5": "333324",
                                    "6": "BULKLOAD",
                                    "7": "Table_5e36fad5620b4f1c8f3eb0d9fc992bec_11",
                                    "8": "2022-07-08 14:30:44.743"
                                },
                                {
                                    "0": "FactFinance100m",
                                    "1": "7",
                                    "2": "1",
                                    "3": "3",
                                    "4": "COMPRESSED",
                                    "5": "333324",
                                    "6": "BULKLOAD",
                                    "7": "Table_5e36fad5620b4f1c8f3eb0d9fc992bec_12",
                                    "8": "2022-07-08 14:30:44.853"
                                },
                                {
                                    "0": "FactFinance100m",
                                    "1": "7",
                                    "2": "1",
                                    "3": "3",
                                    "4": "COMPRESSED",
                                    "5": "333324",
                                    "6": "BULKLOAD",
                                    "7": "Table_5e36fad5620b4f1c8f3eb0d9fc992bec_13",
                                    "8": "2022-07-08 14:30:44.843"
                                },
                                {
                                    "0": "FactFinance100m",
                                    "1": "7",
                                    "2": "1",
                                    "3": "3",
                                    "4": "COMPRESSED",
                                    "5": "333324",
                                    "6": "BULKLOAD",
                                    "7": "Table_5e36fad5620b4f1c8f3eb0d9fc992bec_14",
                                    "8": "2022-07-08 14:30:44.787"
                                },
                                {
                                    "0": "FactFinance100m",
                                    "1": "7",
                                    "2": "1",
                                    "3": "3",
                                    "4": "COMPRESSED",
                                    "5": "333324",
                                    "6": "BULKLOAD",
                                    "7": "Table_5e36fad5620b4f1c8f3eb0d9fc992bec_15",
                                    "8": "2022-07-08 14:30:45.510"
                                },
                                {
                                    "0": "FactFinance100m",
                                    "1": "7",
                                    "2": "1",
                                    "3": "3",
                                    "4": "COMPRESSED",
                                    "5": "333324",
                                    "6": "BULKLOAD",
                                    "7": "Table_5e36fad5620b4f1c8f3eb0d9fc992bec_16",
                                    "8": "2022-07-08 14:30:44.813"
                                },
                                {
                                    "0": "FactFinance100m",
                                    "1": "7",
                                    "2": "1",
                                    "3": "3",
                                    "4": "COMPRESSED",
                                    "5": "333324",
                                    "6": "BULKLOAD",
                                    "7": "Table_5e36fad5620b4f1c8f3eb0d9fc992bec_17",
                                    "8": "2022-07-08 14:30:44.847"
                                },
                                {
                                    "0": "FactFinance100m",
                                    "1": "7",
                                    "2": "1",
                                    "3": "3",
                                    "4": "COMPRESSED",
                                    "5": "333324",
                                    "6": "BULKLOAD",
                                    "7": "Table_5e36fad5620b4f1c8f3eb0d9fc992bec_18",
                                    "8": "2022-07-08 14:30:44.833"
                                },
                                {
                                    "0": "FactFinance100m",
                                    "1": "7",
                                    "2": "1",
                                    "3": "3",
                                    "4": "COMPRESSED",
                                    "5": "333324",
                                    "6": "BULKLOAD",
                                    "7": "Table_5e36fad5620b4f1c8f3eb0d9fc992bec_19",
                                    "8": "2022-07-08 14:30:44.723"
                                },
                                {
                                    "0": "FactFinance100m",
                                    "1": "7",
                                    "2": "1",
                                    "3": "3",
                                    "4": "COMPRESSED",
                                    "5": "333324",
                                    "6": "BULKLOAD",
                                    "7": "Table_5e36fad5620b4f1c8f3eb0d9fc992bec_20",
                                    "8": "2022-07-08 14:30:44.837"
                                },
                                {
                                    "0": "FactFinance100m",
                                    "1": "7",
                                    "2": "1",
                                    "3": "3",
                                    "4": "COMPRESSED",
                                    "5": "333324",
                                    "6": "BULKLOAD",
                                    "7": "Table_5e36fad5620b4f1c8f3eb0d9fc992bec_21",
                                    "8": "2022-07-08 14:30:44.740"
                                },
                                {
                                    "0": "FactFinance100m",
                                    "1": "7",
                                    "2": "1",
                                    "3": "3",
                                    "4": "COMPRESSED",
                                    "5": "333324",
                                    "6": "BULKLOAD",
                                    "7": "Table_5e36fad5620b4f1c8f3eb0d9fc992bec_22",
                                    "8": "2022-07-08 14:30:44.837"
                                },
                                {
                                    "0": "FactFinance100m",
                                    "1": "7",
                                    "2": "1",
                                    "3": "3",
                                    "4": "COMPRESSED",
                                    "5": "333324",
                                    "6": "BULKLOAD",
                                    "7": "Table_5e36fad5620b4f1c8f3eb0d9fc992bec_23",
                                    "8": "2022-07-08 14:30:44.853"
                                },
                                {
                                    "0": "FactFinance100m",
                                    "1": "7",
                                    "2": "1",
                                    "3": "3",
                                    "4": "COMPRESSED",
                                    "5": "333324",
                                    "6": "BULKLOAD",
                                    "7": "Table_5e36fad5620b4f1c8f3eb0d9fc992bec_24",
                                    "8": "2022-07-08 14:30:45.547"
                                },
                                {
                                    "0": "FactFinance100m",
                                    "1": "7",
                                    "2": "1",
                                    "3": "3",
                                    "4": "COMPRESSED",
                                    "5": "333324",
                                    "6": "BULKLOAD",
                                    "7": "Table_5e36fad5620b4f1c8f3eb0d9fc992bec_25",
                                    "8": "2022-07-08 14:30:44.847"
                                },
                                {
                                    "0": "FactFinance100m",
                                    "1": "7",
                                    "2": "1",
                                    "3": "3",
                                    "4": "COMPRESSED",
                                    "5": "333324",
                                    "6": "BULKLOAD",
                                    "7": "Table_5e36fad5620b4f1c8f3eb0d9fc992bec_26",
                                    "8": "2022-07-08 14:30:44.810"
                                },
                                {
                                    "0": "FactFinance100m",
                                    "1": "7",
                                    "2": "1",
                                    "3": "3",
                                    "4": "COMPRESSED",
                                    "5": "333884",
                                    "6": "BULKLOAD",
                                    "7": "Table_5e36fad5620b4f1c8f3eb0d9fc992bec_27",
                                    "8": "2022-07-08 14:30:44.853"
                                },
                                {
                                    "0": "FactFinance100m",
                                    "1": "7",
                                    "2": "1",
                                    "3": "3",
                                    "4": "COMPRESSED",
                                    "5": "333324",
                                    "6": "BULKLOAD",
                                    "7": "Table_5e36fad5620b4f1c8f3eb0d9fc992bec_28",
                                    "8": "2022-07-08 14:30:44.720"
                                },
                                {
                                    "0": "FactFinance100m",
                                    "1": "7",
                                    "2": "1",
                                    "3": "3",
                                    "4": "COMPRESSED",
                                    "5": "333324",
                                    "6": "BULKLOAD",
                                    "7": "Table_5e36fad5620b4f1c8f3eb0d9fc992bec_29",
                                    "8": "2022-07-08 14:30:44.703"
                                },
                                {
                                    "0": "FactFinance100m",
                                    "1": "7",
                                    "2": "1",
                                    "3": "3",
                                    "4": "COMPRESSED",
                                    "5": "333324",
                                    "6": "BULKLOAD",
                                    "7": "Table_5e36fad5620b4f1c8f3eb0d9fc992bec_30",
                                    "8": "2022-07-08 14:30:44.893"
                                },
                                {
                                    "0": "FactFinance100m",
                                    "1": "7",
                                    "2": "1",
                                    "3": "3",
                                    "4": "COMPRESSED",
                                    "5": "333324",
                                    "6": "BULKLOAD",
                                    "7": "Table_5e36fad5620b4f1c8f3eb0d9fc992bec_31",
                                    "8": "2022-07-08 14:30:44.773"
                                },
                                {
                                    "0": "FactFinance100m",
                                    "1": "7",
                                    "2": "1",
                                    "3": "3",
                                    "4": "COMPRESSED",
                                    "5": "333324",
                                    "6": "BULKLOAD",
                                    "7": "Table_5e36fad5620b4f1c8f3eb0d9fc992bec_32",
                                    "8": "2022-07-08 14:30:44.853"
                                },
                                {
                                    "0": "FactFinance100m",
                                    "1": "7",
                                    "2": "1",
                                    "3": "3",
                                    "4": "COMPRESSED",
                                    "5": "333324",
                                    "6": "BULKLOAD",
                                    "7": "Table_5e36fad5620b4f1c8f3eb0d9fc992bec_33",
                                    "8": "2022-07-08 14:30:44.720"
                                },
                                {
                                    "0": "FactFinance100m",
                                    "1": "7",
                                    "2": "1",
                                    "3": "3",
                                    "4": "COMPRESSED",
                                    "5": "333324",
                                    "6": "BULKLOAD",
                                    "7": "Table_5e36fad5620b4f1c8f3eb0d9fc992bec_34",
                                    "8": "2022-07-08 14:30:44.713"
                                },
                                {
                                    "0": "FactFinance100m",
                                    "1": "7",
                                    "2": "1",
                                    "3": "3",
                                    "4": "COMPRESSED",
                                    "5": "333324",
                                    "6": "BULKLOAD",
                                    "7": "Table_5e36fad5620b4f1c8f3eb0d9fc992bec_35",
                                    "8": "2022-07-08 14:30:44.847"
                                },
                                {
                                    "0": "FactFinance100m",
                                    "1": "7",
                                    "2": "1",
                                    "3": "3",
                                    "4": "COMPRESSED",
                                    "5": "333324",
                                    "6": "BULKLOAD",
                                    "7": "Table_5e36fad5620b4f1c8f3eb0d9fc992bec_36",
                                    "8": "2022-07-08 14:30:45.583"
                                },
                                {
                                    "0": "FactFinance100m",
                                    "1": "7",
                                    "2": "1",
                                    "3": "3",
                                    "4": "COMPRESSED",
                                    "5": "333324",
                                    "6": "BULKLOAD",
                                    "7": "Table_5e36fad5620b4f1c8f3eb0d9fc992bec_37",
                                    "8": "2022-07-08 14:30:44.850"
                                },
                                {
                                    "0": "FactFinance100m",
                                    "1": "7",
                                    "2": "1",
                                    "3": "3",
                                    "4": "COMPRESSED",
                                    "5": "333324",
                                    "6": "BULKLOAD",
                                    "7": "Table_5e36fad5620b4f1c8f3eb0d9fc992bec_38",
                                    "8": "2022-07-08 14:30:44.853"
                                },
                                {
                                    "0": "FactFinance100m",
                                    "1": "7",
                                    "2": "1",
                                    "3": "3",
                                    "4": "COMPRESSED",
                                    "5": "333324",
                                    "6": "BULKLOAD",
                                    "7": "Table_5e36fad5620b4f1c8f3eb0d9fc992bec_39",
                                    "8": "2022-07-08 14:30:44.810"
                                },
                                {
                                    "0": "FactFinance100m",
                                    "1": "7",
                                    "2": "1",
                                    "3": "3",
                                    "4": "COMPRESSED",
                                    "5": "333324",
                                    "6": "BULKLOAD",
                                    "7": "Table_5e36fad5620b4f1c8f3eb0d9fc992bec_40",
                                    "8": "2022-07-08 14:30:44.830"
                                },
                                {
                                    "0": "FactFinance100m",
                                    "1": "7",
                                    "2": "1",
                                    "3": "3",
                                    "4": "COMPRESSED",
                                    "5": "333324",
                                    "6": "BULKLOAD",
                                    "7": "Table_5e36fad5620b4f1c8f3eb0d9fc992bec_41",
                                    "8": "2022-07-08 14:30:44.883"
                                },
                                {
                                    "0": "FactFinance100m",
                                    "1": "7",
                                    "2": "1",
                                    "3": "3",
                                    "4": "COMPRESSED",
                                    "5": "333324",
                                    "6": "BULKLOAD",
                                    "7": "Table_5e36fad5620b4f1c8f3eb0d9fc992bec_42",
                                    "8": "2022-07-08 14:30:44.880"
                                },
                                {
                                    "0": "FactFinance100m",
                                    "1": "7",
                                    "2": "1",
                                    "3": "3",
                                    "4": "COMPRESSED",
                                    "5": "333324",
                                    "6": "BULKLOAD",
                                    "7": "Table_5e36fad5620b4f1c8f3eb0d9fc992bec_43",
                                    "8": "2022-07-08 14:30:44.843"
                                },
                                {
                                    "0": "FactFinance100m",
                                    "1": "7",
                                    "2": "1",
                                    "3": "3",
                                    "4": "COMPRESSED",
                                    "5": "333324",
                                    "6": "BULKLOAD",
                                    "7": "Table_5e36fad5620b4f1c8f3eb0d9fc992bec_44",
                                    "8": "2022-07-08 14:30:44.873"
                                },
                                {
                                    "0": "FactFinance100m",
                                    "1": "7",
                                    "2": "1",
                                    "3": "3",
                                    "4": "COMPRESSED",
                                    "5": "333324",
                                    "6": "BULKLOAD",
                                    "7": "Table_5e36fad5620b4f1c8f3eb0d9fc992bec_45",
                                    "8": "2022-07-08 14:30:44.733"
                                },
                                {
                                    "0": "FactFinance100m",
                                    "1": "7",
                                    "2": "1",
                                    "3": "3",
                                    "4": "COMPRESSED",
                                    "5": "333324",
                                    "6": "BULKLOAD",
                                    "7": "Table_5e36fad5620b4f1c8f3eb0d9fc992bec_46",
                                    "8": "2022-07-08 14:30:44.860"
                                },
                                {
                                    "0": "FactFinance100m",
                                    "1": "7",
                                    "2": "1",
                                    "3": "3",
                                    "4": "COMPRESSED",
                                    "5": "333324",
                                    "6": "BULKLOAD",
                                    "7": "Table_5e36fad5620b4f1c8f3eb0d9fc992bec_47",
                                    "8": "2022-07-08 14:30:44.773"
                                },
                                {
                                    "0": "FactFinance100m",
                                    "1": "7",
                                    "2": "1",
                                    "3": "3",
                                    "4": "COMPRESSED",
                                    "5": "333324",
                                    "6": "BULKLOAD",
                                    "7": "Table_5e36fad5620b4f1c8f3eb0d9fc992bec_48",
                                    "8": "2022-07-08 14:30:44.830"
                                },
                                {
                                    "0": "FactFinance100m",
                                    "1": "7",
                                    "2": "1",
                                    "3": "3",
                                    "4": "COMPRESSED",
                                    "5": "333324",
                                    "6": "BULKLOAD",
                                    "7": "Table_5e36fad5620b4f1c8f3eb0d9fc992bec_49",
                                    "8": "2022-07-08 14:30:44.733"
                                },
                                {
                                    "0": "FactFinance100m",
                                    "1": "7",
                                    "2": "1",
                                    "3": "3",
                                    "4": "COMPRESSED",
                                    "5": "333324",
                                    "6": "BULKLOAD",
                                    "7": "Table_5e36fad5620b4f1c8f3eb0d9fc992bec_50",
                                    "8": "2022-07-08 14:30:44.817"
                                },
                                {
                                    "0": "FactFinance100m",
                                    "1": "7",
                                    "2": "1",
                                    "3": "3",
                                    "4": "COMPRESSED",
                                    "5": "333324",
                                    "6": "BULKLOAD",
                                    "7": "Table_5e36fad5620b4f1c8f3eb0d9fc992bec_51",
                                    "8": "2022-07-08 14:30:44.853"
                                },
                                {
                                    "0": "FactFinance100m",
                                    "1": "7",
                                    "2": "1",
                                    "3": "3",
                                    "4": "COMPRESSED",
                                    "5": "333324",
                                    "6": "BULKLOAD",
                                    "7": "Table_5e36fad5620b4f1c8f3eb0d9fc992bec_52",
                                    "8": "2022-07-08 14:30:44.850"
                                },
                                {
                                    "0": "FactFinance100m",
                                    "1": "7",
                                    "2": "1",
                                    "3": "3",
                                    "4": "COMPRESSED",
                                    "5": "333324",
                                    "6": "BULKLOAD",
                                    "7": "Table_5e36fad5620b4f1c8f3eb0d9fc992bec_53",
                                    "8": "2022-07-08 14:30:44.800"
                                },
                                {
                                    "0": "FactFinance100m",
                                    "1": "7",
                                    "2": "1",
                                    "3": "3",
                                    "4": "COMPRESSED",
                                    "5": "333324",
                                    "6": "BULKLOAD",
                                    "7": "Table_5e36fad5620b4f1c8f3eb0d9fc992bec_54",
                                    "8": "2022-07-08 14:30:44.800"
                                },
                                {
                                    "0": "FactFinance100m",
                                    "1": "7",
                                    "2": "1",
                                    "3": "3",
                                    "4": "COMPRESSED",
                                    "5": "333324",
                                    "6": "BULKLOAD",
                                    "7": "Table_5e36fad5620b4f1c8f3eb0d9fc992bec_55",
                                    "8": "2022-07-08 14:30:44.700"
                                },
                                {
                                    "0": "FactFinance100m",
                                    "1": "7",
                                    "2": "1",
                                    "3": "3",
                                    "4": "COMPRESSED",
                                    "5": "333324",
                                    "6": "BULKLOAD",
                                    "7": "Table_5e36fad5620b4f1c8f3eb0d9fc992bec_56",
                                    "8": "2022-07-08 14:30:44.800"
                                },
                                {
                                    "0": "FactFinance100m",
                                    "1": "7",
                                    "2": "1",
                                    "3": "3",
                                    "4": "COMPRESSED",
                                    "5": "333324",
                                    "6": "BULKLOAD",
                                    "7": "Table_5e36fad5620b4f1c8f3eb0d9fc992bec_57",
                                    "8": "2022-07-08 14:30:44.890"
                                },
                                {
                                    "0": "FactFinance100m",
                                    "1": "7",
                                    "2": "1",
                                    "3": "3",
                                    "4": "COMPRESSED",
                                    "5": "333324",
                                    "6": "BULKLOAD",
                                    "7": "Table_5e36fad5620b4f1c8f3eb0d9fc992bec_58",
                                    "8": "2022-07-08 14:30:44.870"
                                },
                                {
                                    "0": "FactFinance100m",
                                    "1": "7",
                                    "2": "1",
                                    "3": "3",
                                    "4": "COMPRESSED",
                                    "5": "333324",
                                    "6": "BULKLOAD",
                                    "7": "Table_5e36fad5620b4f1c8f3eb0d9fc992bec_59",
                                    "8": "2022-07-08 14:30:45.520"
                                },
                                {
                                    "0": "FactFinance100m",
                                    "1": "7",
                                    "2": "1",
                                    "3": "3",
                                    "4": "COMPRESSED",
                                    "5": "333324",
                                    "6": "BULKLOAD",
                                    "7": "Table_5e36fad5620b4f1c8f3eb0d9fc992bec_60",
                                    "8": "2022-07-08 14:30:44.847"
                                },
                                {
                                    "0": "FactFinance100m",
                                    "1": "6",
                                    "2": "1",
                                    "3": "3",
                                    "4": "COMPRESSED",
                                    "5": "333324",
                                    "6": "BULKLOAD",
                                    "7": "Table_5e36fad5620b4f1c8f3eb0d9fc992bec_1",
                                    "8": "2022-07-08 14:30:06.097"
                                },
                                {
                                    "0": "FactFinance100m",
                                    "1": "6",
                                    "2": "1",
                                    "3": "3",
                                    "4": "COMPRESSED",
                                    "5": "333324",
                                    "6": "BULKLOAD",
                                    "7": "Table_5e36fad5620b4f1c8f3eb0d9fc992bec_2",
                                    "8": "2022-07-08 14:30:04.580"
                                },
                                {
                                    "0": "FactFinance100m",
                                    "1": "6",
                                    "2": "1",
                                    "3": "3",
                                    "4": "COMPRESSED",
                                    "5": "333324",
                                    "6": "BULKLOAD",
                                    "7": "Table_5e36fad5620b4f1c8f3eb0d9fc992bec_3",
                                    "8": "2022-07-08 14:30:05.363"
                                },
                                {
                                    "0": "FactFinance100m",
                                    "1": "6",
                                    "2": "1",
                                    "3": "3",
                                    "4": "COMPRESSED",
                                    "5": "333324",
                                    "6": "BULKLOAD",
                                    "7": "Table_5e36fad5620b4f1c8f3eb0d9fc992bec_4",
                                    "8": "2022-07-08 14:30:05.307"
                                },
                                {
                                    "0": "FactFinance100m",
                                    "1": "6",
                                    "2": "1",
                                    "3": "3",
                                    "4": "COMPRESSED",
                                    "5": "333324",
                                    "6": "BULKLOAD",
                                    "7": "Table_5e36fad5620b4f1c8f3eb0d9fc992bec_5",
                                    "8": "2022-07-08 14:30:04.600"
                                },
                                {
                                    "0": "FactFinance100m",
                                    "1": "6",
                                    "2": "1",
                                    "3": "3",
                                    "4": "COMPRESSED",
                                    "5": "333324",
                                    "6": "BULKLOAD",
                                    "7": "Table_5e36fad5620b4f1c8f3eb0d9fc992bec_6",
                                    "8": "2022-07-08 14:30:04.513"
                                },
                                {
                                    "0": "FactFinance100m",
                                    "1": "6",
                                    "2": "1",
                                    "3": "3",
                                    "4": "COMPRESSED",
                                    "5": "333324",
                                    "6": "BULKLOAD",
                                    "7": "Table_5e36fad5620b4f1c8f3eb0d9fc992bec_7",
                                    "8": "2022-07-08 14:30:04.613"
                                },
                                {
                                    "0": "FactFinance100m",
                                    "1": "6",
                                    "2": "1",
                                    "3": "3",
                                    "4": "COMPRESSED",
                                    "5": "333324",
                                    "6": "BULKLOAD",
                                    "7": "Table_5e36fad5620b4f1c8f3eb0d9fc992bec_8",
                                    "8": "2022-07-08 14:30:04.620"
                                },
                                {
                                    "0": "FactFinance100m",
                                    "1": "6",
                                    "2": "1",
                                    "3": "3",
                                    "4": "COMPRESSED",
                                    "5": "333324",
                                    "6": "BULKLOAD",
                                    "7": "Table_5e36fad5620b4f1c8f3eb0d9fc992bec_9",
                                    "8": "2022-07-08 14:30:04.607"
                                },
                                {
                                    "0": "FactFinance100m",
                                    "1": "6",
                                    "2": "1",
                                    "3": "3",
                                    "4": "COMPRESSED",
                                    "5": "333324",
                                    "6": "BULKLOAD",
                                    "7": "Table_5e36fad5620b4f1c8f3eb0d9fc992bec_10",
                                    "8": "2022-07-08 14:30:04.640"
                                },
                                {
                                    "0": "FactFinance100m",
                                    "1": "6",
                                    "2": "1",
                                    "3": "3",
                                    "4": "COMPRESSED",
                                    "5": "333324",
                                    "6": "BULKLOAD",
                                    "7": "Table_5e36fad5620b4f1c8f3eb0d9fc992bec_11",
                                    "8": "2022-07-08 14:30:04.607"
                                },
                                {
                                    "0": "FactFinance100m",
                                    "1": "6",
                                    "2": "1",
                                    "3": "3",
                                    "4": "COMPRESSED",
                                    "5": "333324",
                                    "6": "BULKLOAD",
                                    "7": "Table_5e36fad5620b4f1c8f3eb0d9fc992bec_12",
                                    "8": "2022-07-08 14:30:04.540"
                                },
                                {
                                    "0": "FactFinance100m",
                                    "1": "6",
                                    "2": "1",
                                    "3": "3",
                                    "4": "COMPRESSED",
                                    "5": "333324",
                                    "6": "BULKLOAD",
                                    "7": "Table_5e36fad5620b4f1c8f3eb0d9fc992bec_13",
                                    "8": "2022-07-08 14:30:04.537"
                                },
                                {
                                    "0": "FactFinance100m",
                                    "1": "6",
                                    "2": "1",
                                    "3": "3",
                                    "4": "COMPRESSED",
                                    "5": "333324",
                                    "6": "BULKLOAD",
                                    "7": "Table_5e36fad5620b4f1c8f3eb0d9fc992bec_14",
                                    "8": "2022-07-08 14:30:04.650"
                                },
                                {
                                    "0": "FactFinance100m",
                                    "1": "6",
                                    "2": "1",
                                    "3": "3",
                                    "4": "COMPRESSED",
                                    "5": "333324",
                                    "6": "BULKLOAD",
                                    "7": "Table_5e36fad5620b4f1c8f3eb0d9fc992bec_15",
                                    "8": "2022-07-08 14:30:04.627"
                                },
                                {
                                    "0": "FactFinance100m",
                                    "1": "6",
                                    "2": "1",
                                    "3": "3",
                                    "4": "COMPRESSED",
                                    "5": "333324",
                                    "6": "BULKLOAD",
                                    "7": "Table_5e36fad5620b4f1c8f3eb0d9fc992bec_16",
                                    "8": "2022-07-08 14:30:04.510"
                                },
                                {
                                    "0": "FactFinance100m",
                                    "1": "6",
                                    "2": "1",
                                    "3": "3",
                                    "4": "COMPRESSED",
                                    "5": "333324",
                                    "6": "BULKLOAD",
                                    "7": "Table_5e36fad5620b4f1c8f3eb0d9fc992bec_17",
                                    "8": "2022-07-08 14:30:04.617"
                                },
                                {
                                    "0": "FactFinance100m",
                                    "1": "6",
                                    "2": "1",
                                    "3": "3",
                                    "4": "COMPRESSED",
                                    "5": "333324",
                                    "6": "BULKLOAD",
                                    "7": "Table_5e36fad5620b4f1c8f3eb0d9fc992bec_18",
                                    "8": "2022-07-08 14:30:04.600"
                                },
                                {
                                    "0": "FactFinance100m",
                                    "1": "6",
                                    "2": "1",
                                    "3": "3",
                                    "4": "COMPRESSED",
                                    "5": "333324",
                                    "6": "BULKLOAD",
                                    "7": "Table_5e36fad5620b4f1c8f3eb0d9fc992bec_19",
                                    "8": "2022-07-08 14:30:06.180"
                                },
                                {
                                    "0": "FactFinance100m",
                                    "1": "6",
                                    "2": "1",
                                    "3": "3",
                                    "4": "COMPRESSED",
                                    "5": "333324",
                                    "6": "BULKLOAD",
                                    "7": "Table_5e36fad5620b4f1c8f3eb0d9fc992bec_20",
                                    "8": "2022-07-08 14:30:04.643"
                                },
                                {
                                    "0": "FactFinance100m",
                                    "1": "6",
                                    "2": "1",
                                    "3": "3",
                                    "4": "COMPRESSED",
                                    "5": "333324",
                                    "6": "BULKLOAD",
                                    "7": "Table_5e36fad5620b4f1c8f3eb0d9fc992bec_21",
                                    "8": "2022-07-08 14:30:04.537"
                                },
                                {
                                    "0": "FactFinance100m",
                                    "1": "6",
                                    "2": "1",
                                    "3": "3",
                                    "4": "COMPRESSED",
                                    "5": "333324",
                                    "6": "BULKLOAD",
                                    "7": "Table_5e36fad5620b4f1c8f3eb0d9fc992bec_22",
                                    "8": "2022-07-08 14:30:04.610"
                                },
                                {
                                    "0": "FactFinance100m",
                                    "1": "6",
                                    "2": "1",
                                    "3": "3",
                                    "4": "COMPRESSED",
                                    "5": "333324",
                                    "6": "BULKLOAD",
                                    "7": "Table_5e36fad5620b4f1c8f3eb0d9fc992bec_23",
                                    "8": "2022-07-08 14:30:04.513"
                                },
                                {
                                    "0": "FactFinance100m",
                                    "1": "6",
                                    "2": "1",
                                    "3": "3",
                                    "4": "COMPRESSED",
                                    "5": "333324",
                                    "6": "BULKLOAD",
                                    "7": "Table_5e36fad5620b4f1c8f3eb0d9fc992bec_24",
                                    "8": "2022-07-08 14:30:05.347"
                                },
                                {
                                    "0": "FactFinance100m",
                                    "1": "6",
                                    "2": "1",
                                    "3": "3",
                                    "4": "COMPRESSED",
                                    "5": "333324",
                                    "6": "BULKLOAD",
                                    "7": "Table_5e36fad5620b4f1c8f3eb0d9fc992bec_25",
                                    "8": "2022-07-08 14:30:05.377"
                                },
                                {
                                    "0": "FactFinance100m",
                                    "1": "6",
                                    "2": "1",
                                    "3": "3",
                                    "4": "COMPRESSED",
                                    "5": "333324",
                                    "6": "BULKLOAD",
                                    "7": "Table_5e36fad5620b4f1c8f3eb0d9fc992bec_26",
                                    "8": "2022-07-08 14:30:06.190"
                                },
                                {
                                    "0": "FactFinance100m",
                                    "1": "6",
                                    "2": "1",
                                    "3": "3",
                                    "4": "COMPRESSED",
                                    "5": "333324",
                                    "6": "BULKLOAD",
                                    "7": "Table_5e36fad5620b4f1c8f3eb0d9fc992bec_27",
                                    "8": "2022-07-08 14:30:04.650"
                                },
                                {
                                    "0": "FactFinance100m",
                                    "1": "6",
                                    "2": "1",
                                    "3": "3",
                                    "4": "COMPRESSED",
                                    "5": "333324",
                                    "6": "BULKLOAD",
                                    "7": "Table_5e36fad5620b4f1c8f3eb0d9fc992bec_28",
                                    "8": "2022-07-08 14:30:04.590"
                                },
                                {
                                    "0": "FactFinance100m",
                                    "1": "6",
                                    "2": "1",
                                    "3": "3",
                                    "4": "COMPRESSED",
                                    "5": "333324",
                                    "6": "BULKLOAD",
                                    "7": "Table_5e36fad5620b4f1c8f3eb0d9fc992bec_29",
                                    "8": "2022-07-08 14:30:04.587"
                                },
                                {
                                    "0": "FactFinance100m",
                                    "1": "6",
                                    "2": "1",
                                    "3": "3",
                                    "4": "COMPRESSED",
                                    "5": "333324",
                                    "6": "BULKLOAD",
                                    "7": "Table_5e36fad5620b4f1c8f3eb0d9fc992bec_30",
                                    "8": "2022-07-08 14:30:04.610"
                                },
                                {
                                    "0": "FactFinance100m",
                                    "1": "6",
                                    "2": "1",
                                    "3": "3",
                                    "4": "COMPRESSED",
                                    "5": "333324",
                                    "6": "BULKLOAD",
                                    "7": "Table_5e36fad5620b4f1c8f3eb0d9fc992bec_31",
                                    "8": "2022-07-08 14:30:04.613"
                                },
                                {
                                    "0": "FactFinance100m",
                                    "1": "6",
                                    "2": "1",
                                    "3": "3",
                                    "4": "COMPRESSED",
                                    "5": "333324",
                                    "6": "BULKLOAD",
                                    "7": "Table_5e36fad5620b4f1c8f3eb0d9fc992bec_32",
                                    "8": "2022-07-08 14:30:04.770"
                                },
                                {
                                    "0": "FactFinance100m",
                                    "1": "6",
                                    "2": "1",
                                    "3": "3",
                                    "4": "COMPRESSED",
                                    "5": "333324",
                                    "6": "BULKLOAD",
                                    "7": "Table_5e36fad5620b4f1c8f3eb0d9fc992bec_33",
                                    "8": "2022-07-08 14:30:04.660"
                                },
                                {
                                    "0": "FactFinance100m",
                                    "1": "6",
                                    "2": "1",
                                    "3": "3",
                                    "4": "COMPRESSED",
                                    "5": "333324",
                                    "6": "BULKLOAD",
                                    "7": "Table_5e36fad5620b4f1c8f3eb0d9fc992bec_34",
                                    "8": "2022-07-08 14:30:04.617"
                                },
                                {
                                    "0": "FactFinance100m",
                                    "1": "6",
                                    "2": "1",
                                    "3": "3",
                                    "4": "COMPRESSED",
                                    "5": "333324",
                                    "6": "BULKLOAD",
                                    "7": "Table_5e36fad5620b4f1c8f3eb0d9fc992bec_35",
                                    "8": "2022-07-08 14:30:04.620"
                                },
                                {
                                    "0": "FactFinance100m",
                                    "1": "6",
                                    "2": "1",
                                    "3": "3",
                                    "4": "COMPRESSED",
                                    "5": "333324",
                                    "6": "BULKLOAD",
                                    "7": "Table_5e36fad5620b4f1c8f3eb0d9fc992bec_36",
                                    "8": "2022-07-08 14:30:05.373"
                                },
                                {
                                    "0": "FactFinance100m",
                                    "1": "6",
                                    "2": "1",
                                    "3": "3",
                                    "4": "COMPRESSED",
                                    "5": "333324",
                                    "6": "BULKLOAD",
                                    "7": "Table_5e36fad5620b4f1c8f3eb0d9fc992bec_37",
                                    "8": "2022-07-08 14:30:04.550"
                                },
                                {
                                    "0": "FactFinance100m",
                                    "1": "6",
                                    "2": "1",
                                    "3": "3",
                                    "4": "COMPRESSED",
                                    "5": "333324",
                                    "6": "BULKLOAD",
                                    "7": "Table_5e36fad5620b4f1c8f3eb0d9fc992bec_38",
                                    "8": "2022-07-08 14:30:04.637"
                                },
                                {
                                    "0": "FactFinance100m",
                                    "1": "6",
                                    "2": "1",
                                    "3": "3",
                                    "4": "COMPRESSED",
                                    "5": "333324",
                                    "6": "BULKLOAD",
                                    "7": "Table_5e36fad5620b4f1c8f3eb0d9fc992bec_39",
                                    "8": "2022-07-08 14:30:04.627"
                                },
                                {
                                    "0": "FactFinance100m",
                                    "1": "6",
                                    "2": "1",
                                    "3": "3",
                                    "4": "COMPRESSED",
                                    "5": "333324",
                                    "6": "BULKLOAD",
                                    "7": "Table_5e36fad5620b4f1c8f3eb0d9fc992bec_40",
                                    "8": "2022-07-08 14:30:04.633"
                                },
                                {
                                    "0": "FactFinance100m",
                                    "1": "6",
                                    "2": "1",
                                    "3": "3",
                                    "4": "COMPRESSED",
                                    "5": "333324",
                                    "6": "BULKLOAD",
                                    "7": "Table_5e36fad5620b4f1c8f3eb0d9fc992bec_41",
                                    "8": "2022-07-08 14:30:04.650"
                                },
                                {
                                    "0": "FactFinance100m",
                                    "1": "6",
                                    "2": "1",
                                    "3": "3",
                                    "4": "COMPRESSED",
                                    "5": "333324",
                                    "6": "BULKLOAD",
                                    "7": "Table_5e36fad5620b4f1c8f3eb0d9fc992bec_42",
                                    "8": "2022-07-08 14:30:04.607"
                                },
                                {
                                    "0": "FactFinance100m",
                                    "1": "6",
                                    "2": "1",
                                    "3": "3",
                                    "4": "COMPRESSED",
                                    "5": "333324",
                                    "6": "BULKLOAD",
                                    "7": "Table_5e36fad5620b4f1c8f3eb0d9fc992bec_43",
                                    "8": "2022-07-08 14:30:04.630"
                                },
                                {
                                    "0": "FactFinance100m",
                                    "1": "6",
                                    "2": "1",
                                    "3": "3",
                                    "4": "COMPRESSED",
                                    "5": "333324",
                                    "6": "BULKLOAD",
                                    "7": "Table_5e36fad5620b4f1c8f3eb0d9fc992bec_44",
                                    "8": "2022-07-08 14:30:04.610"
                                },
                                {
                                    "0": "FactFinance100m",
                                    "1": "6",
                                    "2": "1",
                                    "3": "3",
                                    "4": "COMPRESSED",
                                    "5": "333324",
                                    "6": "BULKLOAD",
                                    "7": "Table_5e36fad5620b4f1c8f3eb0d9fc992bec_45",
                                    "8": "2022-07-08 14:30:04.620"
                                },
                                {
                                    "0": "FactFinance100m",
                                    "1": "6",
                                    "2": "1",
                                    "3": "3",
                                    "4": "COMPRESSED",
                                    "5": "333324",
                                    "6": "BULKLOAD",
                                    "7": "Table_5e36fad5620b4f1c8f3eb0d9fc992bec_46",
                                    "8": "2022-07-08 14:30:04.600"
                                },
                                {
                                    "0": "FactFinance100m",
                                    "1": "6",
                                    "2": "1",
                                    "3": "3",
                                    "4": "COMPRESSED",
                                    "5": "333324",
                                    "6": "BULKLOAD",
                                    "7": "Table_5e36fad5620b4f1c8f3eb0d9fc992bec_47",
                                    "8": "2022-07-08 14:30:04.657"
                                },
                                {
                                    "0": "FactFinance100m",
                                    "1": "6",
                                    "2": "1",
                                    "3": "3",
                                    "4": "COMPRESSED",
                                    "5": "333324",
                                    "6": "BULKLOAD",
                                    "7": "Table_5e36fad5620b4f1c8f3eb0d9fc992bec_48",
                                    "8": "2022-07-08 14:30:04.590"
                                },
                                {
                                    "0": "FactFinance100m",
                                    "1": "6",
                                    "2": "1",
                                    "3": "3",
                                    "4": "COMPRESSED",
                                    "5": "333324",
                                    "6": "BULKLOAD",
                                    "7": "Table_5e36fad5620b4f1c8f3eb0d9fc992bec_49",
                                    "8": "2022-07-08 14:30:04.587"
                                },
                                {
                                    "0": "FactFinance100m",
                                    "1": "6",
                                    "2": "1",
                                    "3": "3",
                                    "4": "COMPRESSED",
                                    "5": "333324",
                                    "6": "BULKLOAD",
                                    "7": "Table_5e36fad5620b4f1c8f3eb0d9fc992bec_50",
                                    "8": "2022-07-08 14:30:04.650"
                                },
                                {
                                    "0": "FactFinance100m",
                                    "1": "6",
                                    "2": "1",
                                    "3": "3",
                                    "4": "COMPRESSED",
                                    "5": "333324",
                                    "6": "BULKLOAD",
                                    "7": "Table_5e36fad5620b4f1c8f3eb0d9fc992bec_51",
                                    "8": "2022-07-08 14:30:04.623"
                                },
                                {
                                    "0": "FactFinance100m",
                                    "1": "6",
                                    "2": "1",
                                    "3": "3",
                                    "4": "COMPRESSED",
                                    "5": "333324",
                                    "6": "BULKLOAD",
                                    "7": "Table_5e36fad5620b4f1c8f3eb0d9fc992bec_52",
                                    "8": "2022-07-08 14:30:05.353"
                                },
                                {
                                    "0": "FactFinance100m",
                                    "1": "6",
                                    "2": "1",
                                    "3": "3",
                                    "4": "COMPRESSED",
                                    "5": "333884",
                                    "6": "BULKLOAD",
                                    "7": "Table_5e36fad5620b4f1c8f3eb0d9fc992bec_53",
                                    "8": "2022-07-08 14:30:04.647"
                                },
                                {
                                    "0": "FactFinance100m",
                                    "1": "6",
                                    "2": "1",
                                    "3": "3",
                                    "4": "COMPRESSED",
                                    "5": "333324",
                                    "6": "BULKLOAD",
                                    "7": "Table_5e36fad5620b4f1c8f3eb0d9fc992bec_54",
                                    "8": "2022-07-08 14:30:04.650"
                                },
                                {
                                    "0": "FactFinance100m",
                                    "1": "6",
                                    "2": "1",
                                    "3": "3",
                                    "4": "COMPRESSED",
                                    "5": "333324",
                                    "6": "BULKLOAD",
                                    "7": "Table_5e36fad5620b4f1c8f3eb0d9fc992bec_55",
                                    "8": "2022-07-08 14:30:04.563"
                                },
                                {
                                    "0": "FactFinance100m",
                                    "1": "6",
                                    "2": "1",
                                    "3": "3",
                                    "4": "COMPRESSED",
                                    "5": "333324",
                                    "6": "BULKLOAD",
                                    "7": "Table_5e36fad5620b4f1c8f3eb0d9fc992bec_56",
                                    "8": "2022-07-08 14:30:04.657"
                                },
                                {
                                    "0": "FactFinance100m",
                                    "1": "6",
                                    "2": "1",
                                    "3": "3",
                                    "4": "COMPRESSED",
                                    "5": "333324",
                                    "6": "BULKLOAD",
                                    "7": "Table_5e36fad5620b4f1c8f3eb0d9fc992bec_57",
                                    "8": "2022-07-08 14:30:04.640"
                                },
                                {
                                    "0": "FactFinance100m",
                                    "1": "6",
                                    "2": "1",
                                    "3": "3",
                                    "4": "COMPRESSED",
                                    "5": "333324",
                                    "6": "BULKLOAD",
                                    "7": "Table_5e36fad5620b4f1c8f3eb0d9fc992bec_58",
                                    "8": "2022-07-08 14:30:04.660"
                                },
                                {
                                    "0": "FactFinance100m",
                                    "1": "6",
                                    "2": "1",
                                    "3": "3",
                                    "4": "COMPRESSED",
                                    "5": "333324",
                                    "6": "BULKLOAD",
                                    "7": "Table_5e36fad5620b4f1c8f3eb0d9fc992bec_59",
                                    "8": "2022-07-08 14:30:04.677"
                                },
                                {
                                    "0": "FactFinance100m",
                                    "1": "6",
                                    "2": "1",
                                    "3": "3",
                                    "4": "COMPRESSED",
                                    "5": "333324",
                                    "6": "BULKLOAD",
                                    "7": "Table_5e36fad5620b4f1c8f3eb0d9fc992bec_60",
                                    "8": "2022-07-08 14:30:04.683"
                                },
                                {
                                    "0": "FactFinance100m",
                                    "1": "5",
                                    "2": "1",
                                    "3": "3",
                                    "4": "COMPRESSED",
                                    "5": "333324",
                                    "6": "BULKLOAD",
                                    "7": "Table_5e36fad5620b4f1c8f3eb0d9fc992bec_1",
                                    "8": "2022-07-08 14:29:25.277"
                                },
                                {
                                    "0": "FactFinance100m",
                                    "1": "5",
                                    "2": "1",
                                    "3": "3",
                                    "4": "COMPRESSED",
                                    "5": "333324",
                                    "6": "BULKLOAD",
                                    "7": "Table_5e36fad5620b4f1c8f3eb0d9fc992bec_2",
                                    "8": "2022-07-08 14:29:24.543"
                                },
                                {
                                    "0": "FactFinance100m",
                                    "1": "5",
                                    "2": "1",
                                    "3": "3",
                                    "4": "COMPRESSED",
                                    "5": "333324",
                                    "6": "BULKLOAD",
                                    "7": "Table_5e36fad5620b4f1c8f3eb0d9fc992bec_3",
                                    "8": "2022-07-08 14:29:25.253"
                                },
                                {
                                    "0": "FactFinance100m",
                                    "1": "5",
                                    "2": "1",
                                    "3": "3",
                                    "4": "COMPRESSED",
                                    "5": "333324",
                                    "6": "BULKLOAD",
                                    "7": "Table_5e36fad5620b4f1c8f3eb0d9fc992bec_4",
                                    "8": "2022-07-08 14:29:24.453"
                                },
                                {
                                    "0": "FactFinance100m",
                                    "1": "5",
                                    "2": "1",
                                    "3": "3",
                                    "4": "COMPRESSED",
                                    "5": "333324",
                                    "6": "BULKLOAD",
                                    "7": "Table_5e36fad5620b4f1c8f3eb0d9fc992bec_5",
                                    "8": "2022-07-08 14:29:24.447"
                                },
                                {
                                    "0": "FactFinance100m",
                                    "1": "5",
                                    "2": "1",
                                    "3": "3",
                                    "4": "COMPRESSED",
                                    "5": "333324",
                                    "6": "BULKLOAD",
                                    "7": "Table_5e36fad5620b4f1c8f3eb0d9fc992bec_6",
                                    "8": "2022-07-08 14:29:24.503"
                                },
                                {
                                    "0": "FactFinance100m",
                                    "1": "5",
                                    "2": "1",
                                    "3": "3",
                                    "4": "COMPRESSED",
                                    "5": "333324",
                                    "6": "BULKLOAD",
                                    "7": "Table_5e36fad5620b4f1c8f3eb0d9fc992bec_7",
                                    "8": "2022-07-08 14:29:24.537"
                                },
                                {
                                    "0": "FactFinance100m",
                                    "1": "5",
                                    "2": "1",
                                    "3": "3",
                                    "4": "COMPRESSED",
                                    "5": "333324",
                                    "6": "BULKLOAD",
                                    "7": "Table_5e36fad5620b4f1c8f3eb0d9fc992bec_8",
                                    "8": "2022-07-08 14:29:24.407"
                                },
                                {
                                    "0": "FactFinance100m",
                                    "1": "5",
                                    "2": "1",
                                    "3": "3",
                                    "4": "COMPRESSED",
                                    "5": "333324",
                                    "6": "BULKLOAD",
                                    "7": "Table_5e36fad5620b4f1c8f3eb0d9fc992bec_9",
                                    "8": "2022-07-08 14:29:25.237"
                                },
                                {
                                    "0": "FactFinance100m",
                                    "1": "5",
                                    "2": "1",
                                    "3": "3",
                                    "4": "COMPRESSED",
                                    "5": "333324",
                                    "6": "BULKLOAD",
                                    "7": "Table_5e36fad5620b4f1c8f3eb0d9fc992bec_10",
                                    "8": "2022-07-08 14:29:24.517"
                                },
                                {
                                    "0": "FactFinance100m",
                                    "1": "5",
                                    "2": "1",
                                    "3": "3",
                                    "4": "COMPRESSED",
                                    "5": "333324",
                                    "6": "BULKLOAD",
                                    "7": "Table_5e36fad5620b4f1c8f3eb0d9fc992bec_11",
                                    "8": "2022-07-08 14:29:24.530"
                                },
                                {
                                    "0": "FactFinance100m",
                                    "1": "5",
                                    "2": "1",
                                    "3": "3",
                                    "4": "COMPRESSED",
                                    "5": "333324",
                                    "6": "BULKLOAD",
                                    "7": "Table_5e36fad5620b4f1c8f3eb0d9fc992bec_12",
                                    "8": "2022-07-08 14:29:24.477"
                                },
                                {
                                    "0": "FactFinance100m",
                                    "1": "5",
                                    "2": "1",
                                    "3": "3",
                                    "4": "COMPRESSED",
                                    "5": "333324",
                                    "6": "BULKLOAD",
                                    "7": "Table_5e36fad5620b4f1c8f3eb0d9fc992bec_13",
                                    "8": "2022-07-08 14:29:24.413"
                                },
                                {
                                    "0": "FactFinance100m",
                                    "1": "5",
                                    "2": "1",
                                    "3": "3",
                                    "4": "COMPRESSED",
                                    "5": "333324",
                                    "6": "BULKLOAD",
                                    "7": "Table_5e36fad5620b4f1c8f3eb0d9fc992bec_14",
                                    "8": "2022-07-08 14:29:24.530"
                                },
                                {
                                    "0": "FactFinance100m",
                                    "1": "5",
                                    "2": "1",
                                    "3": "3",
                                    "4": "COMPRESSED",
                                    "5": "333324",
                                    "6": "BULKLOAD",
                                    "7": "Table_5e36fad5620b4f1c8f3eb0d9fc992bec_15",
                                    "8": "2022-07-08 14:29:24.460"
                                },
                                {
                                    "0": "FactFinance100m",
                                    "1": "5",
                                    "2": "1",
                                    "3": "3",
                                    "4": "COMPRESSED",
                                    "5": "333324",
                                    "6": "BULKLOAD",
                                    "7": "Table_5e36fad5620b4f1c8f3eb0d9fc992bec_16",
                                    "8": "2022-07-08 14:29:24.453"
                                },
                                {
                                    "0": "FactFinance100m",
                                    "1": "5",
                                    "2": "1",
                                    "3": "3",
                                    "4": "COMPRESSED",
                                    "5": "333324",
                                    "6": "BULKLOAD",
                                    "7": "Table_5e36fad5620b4f1c8f3eb0d9fc992bec_17",
                                    "8": "2022-07-08 14:29:24.513"
                                },
                                {
                                    "0": "FactFinance100m",
                                    "1": "5",
                                    "2": "1",
                                    "3": "3",
                                    "4": "COMPRESSED",
                                    "5": "333324",
                                    "6": "BULKLOAD",
                                    "7": "Table_5e36fad5620b4f1c8f3eb0d9fc992bec_18",
                                    "8": "2022-07-08 14:29:24.500"
                                },
                                {
                                    "0": "FactFinance100m",
                                    "1": "5",
                                    "2": "1",
                                    "3": "3",
                                    "4": "COMPRESSED",
                                    "5": "333324",
                                    "6": "BULKLOAD",
                                    "7": "Table_5e36fad5620b4f1c8f3eb0d9fc992bec_19",
                                    "8": "2022-07-08 14:29:25.273"
                                },
                                {
                                    "0": "FactFinance100m",
                                    "1": "5",
                                    "2": "1",
                                    "3": "3",
                                    "4": "COMPRESSED",
                                    "5": "333324",
                                    "6": "BULKLOAD",
                                    "7": "Table_5e36fad5620b4f1c8f3eb0d9fc992bec_20",
                                    "8": "2022-07-08 14:29:25.247"
                                },
                                {
                                    "0": "FactFinance100m",
                                    "1": "5",
                                    "2": "1",
                                    "3": "3",
                                    "4": "COMPRESSED",
                                    "5": "333324",
                                    "6": "BULKLOAD",
                                    "7": "Table_5e36fad5620b4f1c8f3eb0d9fc992bec_21",
                                    "8": "2022-07-08 14:29:25.250"
                                },
                                {
                                    "0": "FactFinance100m",
                                    "1": "5",
                                    "2": "1",
                                    "3": "3",
                                    "4": "COMPRESSED",
                                    "5": "333324",
                                    "6": "BULKLOAD",
                                    "7": "Table_5e36fad5620b4f1c8f3eb0d9fc992bec_22",
                                    "8": "2022-07-08 14:29:24.457"
                                },
                                {
                                    "0": "FactFinance100m",
                                    "1": "5",
                                    "2": "1",
                                    "3": "3",
                                    "4": "COMPRESSED",
                                    "5": "333324",
                                    "6": "BULKLOAD",
                                    "7": "Table_5e36fad5620b4f1c8f3eb0d9fc992bec_23",
                                    "8": "2022-07-08 14:29:25.270"
                                },
                                {
                                    "0": "FactFinance100m",
                                    "1": "5",
                                    "2": "1",
                                    "3": "3",
                                    "4": "COMPRESSED",
                                    "5": "333324",
                                    "6": "BULKLOAD",
                                    "7": "Table_5e36fad5620b4f1c8f3eb0d9fc992bec_24",
                                    "8": "2022-07-08 14:29:24.453"
                                },
                                {
                                    "0": "FactFinance100m",
                                    "1": "5",
                                    "2": "1",
                                    "3": "3",
                                    "4": "COMPRESSED",
                                    "5": "333324",
                                    "6": "BULKLOAD",
                                    "7": "Table_5e36fad5620b4f1c8f3eb0d9fc992bec_25",
                                    "8": "2022-07-08 14:29:24.427"
                                },
                                {
                                    "0": "FactFinance100m",
                                    "1": "5",
                                    "2": "1",
                                    "3": "3",
                                    "4": "COMPRESSED",
                                    "5": "333324",
                                    "6": "BULKLOAD",
                                    "7": "Table_5e36fad5620b4f1c8f3eb0d9fc992bec_26",
                                    "8": "2022-07-08 14:29:24.453"
                                },
                                {
                                    "0": "FactFinance100m",
                                    "1": "5",
                                    "2": "1",
                                    "3": "3",
                                    "4": "COMPRESSED",
                                    "5": "333324",
                                    "6": "BULKLOAD",
                                    "7": "Table_5e36fad5620b4f1c8f3eb0d9fc992bec_27",
                                    "8": "2022-07-08 14:29:24.520"
                                },
                                {
                                    "0": "FactFinance100m",
                                    "1": "5",
                                    "2": "1",
                                    "3": "3",
                                    "4": "COMPRESSED",
                                    "5": "333324",
                                    "6": "BULKLOAD",
                                    "7": "Table_5e36fad5620b4f1c8f3eb0d9fc992bec_28",
                                    "8": "2022-07-08 14:29:24.497"
                                },
                                {
                                    "0": "FactFinance100m",
                                    "1": "5",
                                    "2": "1",
                                    "3": "3",
                                    "4": "COMPRESSED",
                                    "5": "333324",
                                    "6": "BULKLOAD",
                                    "7": "Table_5e36fad5620b4f1c8f3eb0d9fc992bec_29",
                                    "8": "2022-07-08 14:29:25.227"
                                },
                                {
                                    "0": "FactFinance100m",
                                    "1": "5",
                                    "2": "1",
                                    "3": "3",
                                    "4": "COMPRESSED",
                                    "5": "333324",
                                    "6": "BULKLOAD",
                                    "7": "Table_5e36fad5620b4f1c8f3eb0d9fc992bec_30",
                                    "8": "2022-07-08 14:29:24.520"
                                },
                                {
                                    "0": "FactFinance100m",
                                    "1": "5",
                                    "2": "1",
                                    "3": "3",
                                    "4": "COMPRESSED",
                                    "5": "333324",
                                    "6": "BULKLOAD",
                                    "7": "Table_5e36fad5620b4f1c8f3eb0d9fc992bec_31",
                                    "8": "2022-07-08 14:29:24.610"
                                },
                                {
                                    "0": "FactFinance100m",
                                    "1": "5",
                                    "2": "1",
                                    "3": "3",
                                    "4": "COMPRESSED",
                                    "5": "333324",
                                    "6": "BULKLOAD",
                                    "7": "Table_5e36fad5620b4f1c8f3eb0d9fc992bec_32",
                                    "8": "2022-07-08 14:29:24.517"
                                },
                                {
                                    "0": "FactFinance100m",
                                    "1": "5",
                                    "2": "1",
                                    "3": "3",
                                    "4": "COMPRESSED",
                                    "5": "333324",
                                    "6": "BULKLOAD",
                                    "7": "Table_5e36fad5620b4f1c8f3eb0d9fc992bec_33",
                                    "8": "2022-07-08 14:29:24.530"
                                },
                                {
                                    "0": "FactFinance100m",
                                    "1": "5",
                                    "2": "1",
                                    "3": "3",
                                    "4": "COMPRESSED",
                                    "5": "333324",
                                    "6": "BULKLOAD",
                                    "7": "Table_5e36fad5620b4f1c8f3eb0d9fc992bec_34",
                                    "8": "2022-07-08 14:29:24.627"
                                },
                                {
                                    "0": "FactFinance100m",
                                    "1": "5",
                                    "2": "1",
                                    "3": "3",
                                    "4": "COMPRESSED",
                                    "5": "333324",
                                    "6": "BULKLOAD",
                                    "7": "Table_5e36fad5620b4f1c8f3eb0d9fc992bec_35",
                                    "8": "2022-07-08 14:29:24.643"
                                },
                                {
                                    "0": "FactFinance100m",
                                    "1": "5",
                                    "2": "1",
                                    "3": "3",
                                    "4": "COMPRESSED",
                                    "5": "333324",
                                    "6": "BULKLOAD",
                                    "7": "Table_5e36fad5620b4f1c8f3eb0d9fc992bec_36",
                                    "8": "2022-07-08 14:29:24.510"
                                },
                                {
                                    "0": "FactFinance100m",
                                    "1": "5",
                                    "2": "1",
                                    "3": "3",
                                    "4": "COMPRESSED",
                                    "5": "333884",
                                    "6": "BULKLOAD",
                                    "7": "Table_5e36fad5620b4f1c8f3eb0d9fc992bec_37",
                                    "8": "2022-07-08 14:29:24.557"
                                },
                                {
                                    "0": "FactFinance100m",
                                    "1": "5",
                                    "2": "1",
                                    "3": "3",
                                    "4": "COMPRESSED",
                                    "5": "333324",
                                    "6": "BULKLOAD",
                                    "7": "Table_5e36fad5620b4f1c8f3eb0d9fc992bec_38",
                                    "8": "2022-07-08 14:29:24.473"
                                },
                                {
                                    "0": "FactFinance100m",
                                    "1": "5",
                                    "2": "1",
                                    "3": "3",
                                    "4": "COMPRESSED",
                                    "5": "333324",
                                    "6": "BULKLOAD",
                                    "7": "Table_5e36fad5620b4f1c8f3eb0d9fc992bec_39",
                                    "8": "2022-07-08 14:29:24.447"
                                },
                                {
                                    "0": "FactFinance100m",
                                    "1": "5",
                                    "2": "1",
                                    "3": "3",
                                    "4": "COMPRESSED",
                                    "5": "333324",
                                    "6": "BULKLOAD",
                                    "7": "Table_5e36fad5620b4f1c8f3eb0d9fc992bec_40",
                                    "8": "2022-07-08 14:29:24.620"
                                },
                                {
                                    "0": "FactFinance100m",
                                    "1": "5",
                                    "2": "1",
                                    "3": "3",
                                    "4": "COMPRESSED",
                                    "5": "333324",
                                    "6": "BULKLOAD",
                                    "7": "Table_5e36fad5620b4f1c8f3eb0d9fc992bec_41",
                                    "8": "2022-07-08 14:29:24.497"
                                },
                                {
                                    "0": "FactFinance100m",
                                    "1": "5",
                                    "2": "1",
                                    "3": "3",
                                    "4": "COMPRESSED",
                                    "5": "333324",
                                    "6": "BULKLOAD",
                                    "7": "Table_5e36fad5620b4f1c8f3eb0d9fc992bec_42",
                                    "8": "2022-07-08 14:29:24.627"
                                },
                                {
                                    "0": "FactFinance100m",
                                    "1": "5",
                                    "2": "1",
                                    "3": "3",
                                    "4": "COMPRESSED",
                                    "5": "333324",
                                    "6": "BULKLOAD",
                                    "7": "Table_5e36fad5620b4f1c8f3eb0d9fc992bec_43",
                                    "8": "2022-07-08 14:29:24.727"
                                },
                                {
                                    "0": "FactFinance100m",
                                    "1": "5",
                                    "2": "1",
                                    "3": "3",
                                    "4": "COMPRESSED",
                                    "5": "333324",
                                    "6": "BULKLOAD",
                                    "7": "Table_5e36fad5620b4f1c8f3eb0d9fc992bec_44",
                                    "8": "2022-07-08 14:29:24.483"
                                },
                                {
                                    "0": "FactFinance100m",
                                    "1": "5",
                                    "2": "1",
                                    "3": "3",
                                    "4": "COMPRESSED",
                                    "5": "333324",
                                    "6": "BULKLOAD",
                                    "7": "Table_5e36fad5620b4f1c8f3eb0d9fc992bec_45",
                                    "8": "2022-07-08 14:29:24.610"
                                },
                                {
                                    "0": "FactFinance100m",
                                    "1": "5",
                                    "2": "1",
                                    "3": "3",
                                    "4": "COMPRESSED",
                                    "5": "333324",
                                    "6": "BULKLOAD",
                                    "7": "Table_5e36fad5620b4f1c8f3eb0d9fc992bec_46",
                                    "8": "2022-07-08 14:29:24.490"
                                },
                                {
                                    "0": "FactFinance100m",
                                    "1": "5",
                                    "2": "1",
                                    "3": "3",
                                    "4": "COMPRESSED",
                                    "5": "333324",
                                    "6": "BULKLOAD",
                                    "7": "Table_5e36fad5620b4f1c8f3eb0d9fc992bec_47",
                                    "8": "2022-07-08 14:29:24.477"
                                },
                                {
                                    "0": "FactFinance100m",
                                    "1": "5",
                                    "2": "1",
                                    "3": "3",
                                    "4": "COMPRESSED",
                                    "5": "333324",
                                    "6": "BULKLOAD",
                                    "7": "Table_5e36fad5620b4f1c8f3eb0d9fc992bec_48",
                                    "8": "2022-07-08 14:29:24.450"
                                },
                                {
                                    "0": "FactFinance100m",
                                    "1": "5",
                                    "2": "1",
                                    "3": "3",
                                    "4": "COMPRESSED",
                                    "5": "333324",
                                    "6": "BULKLOAD",
                                    "7": "Table_5e36fad5620b4f1c8f3eb0d9fc992bec_49",
                                    "8": "2022-07-08 14:29:24.587"
                                },
                                {
                                    "0": "FactFinance100m",
                                    "1": "5",
                                    "2": "1",
                                    "3": "3",
                                    "4": "COMPRESSED",
                                    "5": "333324",
                                    "6": "BULKLOAD",
                                    "7": "Table_5e36fad5620b4f1c8f3eb0d9fc992bec_50",
                                    "8": "2022-07-08 14:29:24.647"
                                },
                                {
                                    "0": "FactFinance100m",
                                    "1": "5",
                                    "2": "1",
                                    "3": "3",
                                    "4": "COMPRESSED",
                                    "5": "333324",
                                    "6": "BULKLOAD",
                                    "7": "Table_5e36fad5620b4f1c8f3eb0d9fc992bec_51",
                                    "8": "2022-07-08 14:29:24.580"
                                },
                                {
                                    "0": "FactFinance100m",
                                    "1": "5",
                                    "2": "1",
                                    "3": "3",
                                    "4": "COMPRESSED",
                                    "5": "333324",
                                    "6": "BULKLOAD",
                                    "7": "Table_5e36fad5620b4f1c8f3eb0d9fc992bec_52",
                                    "8": "2022-07-08 14:29:24.570"
                                },
                                {
                                    "0": "FactFinance100m",
                                    "1": "5",
                                    "2": "1",
                                    "3": "3",
                                    "4": "COMPRESSED",
                                    "5": "333324",
                                    "6": "BULKLOAD",
                                    "7": "Table_5e36fad5620b4f1c8f3eb0d9fc992bec_53",
                                    "8": "2022-07-08 14:29:24.510"
                                },
                                {
                                    "0": "FactFinance100m",
                                    "1": "5",
                                    "2": "1",
                                    "3": "3",
                                    "4": "COMPRESSED",
                                    "5": "333324",
                                    "6": "BULKLOAD",
                                    "7": "Table_5e36fad5620b4f1c8f3eb0d9fc992bec_54",
                                    "8": "2022-07-08 14:29:24.620"
                                },
                                {
                                    "0": "FactFinance100m",
                                    "1": "5",
                                    "2": "1",
                                    "3": "3",
                                    "4": "COMPRESSED",
                                    "5": "333324",
                                    "6": "BULKLOAD",
                                    "7": "Table_5e36fad5620b4f1c8f3eb0d9fc992bec_55",
                                    "8": "2022-07-08 14:29:24.653"
                                },
                                {
                                    "0": "FactFinance100m",
                                    "1": "5",
                                    "2": "1",
                                    "3": "3",
                                    "4": "COMPRESSED",
                                    "5": "333324",
                                    "6": "BULKLOAD",
                                    "7": "Table_5e36fad5620b4f1c8f3eb0d9fc992bec_56",
                                    "8": "2022-07-08 14:29:24.480"
                                },
                                {
                                    "0": "FactFinance100m",
                                    "1": "5",
                                    "2": "1",
                                    "3": "3",
                                    "4": "COMPRESSED",
                                    "5": "333324",
                                    "6": "BULKLOAD",
                                    "7": "Table_5e36fad5620b4f1c8f3eb0d9fc992bec_57",
                                    "8": "2022-07-08 14:29:24.623"
                                },
                                {
                                    "0": "FactFinance100m",
                                    "1": "5",
                                    "2": "1",
                                    "3": "3",
                                    "4": "COMPRESSED",
                                    "5": "333324",
                                    "6": "BULKLOAD",
                                    "7": "Table_5e36fad5620b4f1c8f3eb0d9fc992bec_58",
                                    "8": "2022-07-08 14:29:24.470"
                                },
                                {
                                    "0": "FactFinance100m",
                                    "1": "5",
                                    "2": "1",
                                    "3": "3",
                                    "4": "COMPRESSED",
                                    "5": "333324",
                                    "6": "BULKLOAD",
                                    "7": "Table_5e36fad5620b4f1c8f3eb0d9fc992bec_59",
                                    "8": "2022-07-08 14:29:24.587"
                                },
                                {
                                    "0": "FactFinance100m",
                                    "1": "5",
                                    "2": "1",
                                    "3": "3",
                                    "4": "COMPRESSED",
                                    "5": "333324",
                                    "6": "BULKLOAD",
                                    "7": "Table_5e36fad5620b4f1c8f3eb0d9fc992bec_60",
                                    "8": "2022-07-08 14:29:24.617"
                                },
                                {
                                    "0": "FactFinance100m",
                                    "1": "4",
                                    "2": "1",
                                    "3": "3",
                                    "4": "COMPRESSED",
                                    "5": "333324",
                                    "6": "BULKLOAD",
                                    "7": "Table_5e36fad5620b4f1c8f3eb0d9fc992bec_1",
                                    "8": "2022-07-08 14:28:45.340"
                                },
                                {
                                    "0": "FactFinance100m",
                                    "1": "4",
                                    "2": "1",
                                    "3": "3",
                                    "4": "COMPRESSED",
                                    "5": "333324",
                                    "6": "BULKLOAD",
                                    "7": "Table_5e36fad5620b4f1c8f3eb0d9fc992bec_2",
                                    "8": "2022-07-08 14:28:45.420"
                                },
                                {
                                    "0": "FactFinance100m",
                                    "1": "4",
                                    "2": "1",
                                    "3": "3",
                                    "4": "COMPRESSED",
                                    "5": "333324",
                                    "6": "BULKLOAD",
                                    "7": "Table_5e36fad5620b4f1c8f3eb0d9fc992bec_3",
                                    "8": "2022-07-08 14:28:45.293"
                                },
                                {
                                    "0": "FactFinance100m",
                                    "1": "4",
                                    "2": "1",
                                    "3": "3",
                                    "4": "COMPRESSED",
                                    "5": "333324",
                                    "6": "BULKLOAD",
                                    "7": "Table_5e36fad5620b4f1c8f3eb0d9fc992bec_4",
                                    "8": "2022-07-08 14:28:45.293"
                                },
                                {
                                    "0": "FactFinance100m",
                                    "1": "4",
                                    "2": "1",
                                    "3": "3",
                                    "4": "COMPRESSED",
                                    "5": "333324",
                                    "6": "BULKLOAD",
                                    "7": "Table_5e36fad5620b4f1c8f3eb0d9fc992bec_5",
                                    "8": "2022-07-08 14:28:45.260"
                                },
                                {
                                    "0": "FactFinance100m",
                                    "1": "4",
                                    "2": "1",
                                    "3": "3",
                                    "4": "COMPRESSED",
                                    "5": "333324",
                                    "6": "BULKLOAD",
                                    "7": "Table_5e36fad5620b4f1c8f3eb0d9fc992bec_6",
                                    "8": "2022-07-08 14:28:46.167"
                                },
                                {
                                    "0": "FactFinance100m",
                                    "1": "4",
                                    "2": "1",
                                    "3": "3",
                                    "4": "COMPRESSED",
                                    "5": "333324",
                                    "6": "BULKLOAD",
                                    "7": "Table_5e36fad5620b4f1c8f3eb0d9fc992bec_7",
                                    "8": "2022-07-08 14:28:45.357"
                                },
                                {
                                    "0": "FactFinance100m",
                                    "1": "4",
                                    "2": "1",
                                    "3": "3",
                                    "4": "COMPRESSED",
                                    "5": "333324",
                                    "6": "BULKLOAD",
                                    "7": "Table_5e36fad5620b4f1c8f3eb0d9fc992bec_8",
                                    "8": "2022-07-08 14:28:45.343"
                                },
                                {
                                    "0": "FactFinance100m",
                                    "1": "4",
                                    "2": "1",
                                    "3": "3",
                                    "4": "COMPRESSED",
                                    "5": "333324",
                                    "6": "BULKLOAD",
                                    "7": "Table_5e36fad5620b4f1c8f3eb0d9fc992bec_9",
                                    "8": "2022-07-08 14:28:45.277"
                                },
                                {
                                    "0": "FactFinance100m",
                                    "1": "4",
                                    "2": "1",
                                    "3": "3",
                                    "4": "COMPRESSED",
                                    "5": "333324",
                                    "6": "BULKLOAD",
                                    "7": "Table_5e36fad5620b4f1c8f3eb0d9fc992bec_10",
                                    "8": "2022-07-08 14:28:45.420"
                                },
                                {
                                    "0": "FactFinance100m",
                                    "1": "4",
                                    "2": "1",
                                    "3": "3",
                                    "4": "COMPRESSED",
                                    "5": "333324",
                                    "6": "BULKLOAD",
                                    "7": "Table_5e36fad5620b4f1c8f3eb0d9fc992bec_11",
                                    "8": "2022-07-08 14:28:45.393"
                                },
                                {
                                    "0": "FactFinance100m",
                                    "1": "4",
                                    "2": "1",
                                    "3": "3",
                                    "4": "COMPRESSED",
                                    "5": "333324",
                                    "6": "BULKLOAD",
                                    "7": "Table_5e36fad5620b4f1c8f3eb0d9fc992bec_12",
                                    "8": "2022-07-08 14:28:45.313"
                                },
                                {
                                    "0": "FactFinance100m",
                                    "1": "4",
                                    "2": "1",
                                    "3": "3",
                                    "4": "COMPRESSED",
                                    "5": "333324",
                                    "6": "BULKLOAD",
                                    "7": "Table_5e36fad5620b4f1c8f3eb0d9fc992bec_13",
                                    "8": "2022-07-08 14:28:45.303"
                                },
                                {
                                    "0": "FactFinance100m",
                                    "1": "4",
                                    "2": "1",
                                    "3": "3",
                                    "4": "COMPRESSED",
                                    "5": "333324",
                                    "6": "BULKLOAD",
                                    "7": "Table_5e36fad5620b4f1c8f3eb0d9fc992bec_14",
                                    "8": "2022-07-08 14:28:46.080"
                                },
                                {
                                    "0": "FactFinance100m",
                                    "1": "4",
                                    "2": "1",
                                    "3": "3",
                                    "4": "COMPRESSED",
                                    "5": "333884",
                                    "6": "BULKLOAD",
                                    "7": "Table_5e36fad5620b4f1c8f3eb0d9fc992bec_15",
                                    "8": "2022-07-08 14:28:46.100"
                                },
                                {
                                    "0": "FactFinance100m",
                                    "1": "4",
                                    "2": "1",
                                    "3": "3",
                                    "4": "COMPRESSED",
                                    "5": "333324",
                                    "6": "BULKLOAD",
                                    "7": "Table_5e36fad5620b4f1c8f3eb0d9fc992bec_16",
                                    "8": "2022-07-08 14:28:46.070"
                                },
                                {
                                    "0": "FactFinance100m",
                                    "1": "4",
                                    "2": "1",
                                    "3": "3",
                                    "4": "COMPRESSED",
                                    "5": "333324",
                                    "6": "BULKLOAD",
                                    "7": "Table_5e36fad5620b4f1c8f3eb0d9fc992bec_17",
                                    "8": "2022-07-08 14:28:45.330"
                                },
                                {
                                    "0": "FactFinance100m",
                                    "1": "4",
                                    "2": "1",
                                    "3": "3",
                                    "4": "COMPRESSED",
                                    "5": "333324",
                                    "6": "BULKLOAD",
                                    "7": "Table_5e36fad5620b4f1c8f3eb0d9fc992bec_18",
                                    "8": "2022-07-08 14:28:45.393"
                                },
                                {
                                    "0": "FactFinance100m",
                                    "1": "4",
                                    "2": "1",
                                    "3": "3",
                                    "4": "COMPRESSED",
                                    "5": "333324",
                                    "6": "BULKLOAD",
                                    "7": "Table_5e36fad5620b4f1c8f3eb0d9fc992bec_19",
                                    "8": "2022-07-08 14:28:46.110"
                                },
                                {
                                    "0": "FactFinance100m",
                                    "1": "4",
                                    "2": "1",
                                    "3": "3",
                                    "4": "COMPRESSED",
                                    "5": "333324",
                                    "6": "BULKLOAD",
                                    "7": "Table_5e36fad5620b4f1c8f3eb0d9fc992bec_20",
                                    "8": "2022-07-08 14:28:45.353"
                                },
                                {
                                    "0": "FactFinance100m",
                                    "1": "4",
                                    "2": "1",
                                    "3": "3",
                                    "4": "COMPRESSED",
                                    "5": "333324",
                                    "6": "BULKLOAD",
                                    "7": "Table_5e36fad5620b4f1c8f3eb0d9fc992bec_21",
                                    "8": "2022-07-08 14:28:46.097"
                                },
                                {
                                    "0": "FactFinance100m",
                                    "1": "4",
                                    "2": "1",
                                    "3": "3",
                                    "4": "COMPRESSED",
                                    "5": "333324",
                                    "6": "BULKLOAD",
                                    "7": "Table_5e36fad5620b4f1c8f3eb0d9fc992bec_22",
                                    "8": "2022-07-08 14:28:45.413"
                                },
                                {
                                    "0": "FactFinance100m",
                                    "1": "4",
                                    "2": "1",
                                    "3": "3",
                                    "4": "COMPRESSED",
                                    "5": "333324",
                                    "6": "BULKLOAD",
                                    "7": "Table_5e36fad5620b4f1c8f3eb0d9fc992bec_23",
                                    "8": "2022-07-08 14:28:46.070"
                                },
                                {
                                    "0": "FactFinance100m",
                                    "1": "4",
                                    "2": "1",
                                    "3": "3",
                                    "4": "COMPRESSED",
                                    "5": "333324",
                                    "6": "BULKLOAD",
                                    "7": "Table_5e36fad5620b4f1c8f3eb0d9fc992bec_24",
                                    "8": "2022-07-08 14:28:45.320"
                                },
                                {
                                    "0": "FactFinance100m",
                                    "1": "4",
                                    "2": "1",
                                    "3": "3",
                                    "4": "COMPRESSED",
                                    "5": "333324",
                                    "6": "BULKLOAD",
                                    "7": "Table_5e36fad5620b4f1c8f3eb0d9fc992bec_25",
                                    "8": "2022-07-08 14:28:45.293"
                                },
                                {
                                    "0": "FactFinance100m",
                                    "1": "4",
                                    "2": "1",
                                    "3": "3",
                                    "4": "COMPRESSED",
                                    "5": "333324",
                                    "6": "BULKLOAD",
                                    "7": "Table_5e36fad5620b4f1c8f3eb0d9fc992bec_26",
                                    "8": "2022-07-08 14:28:45.413"
                                },
                                {
                                    "0": "FactFinance100m",
                                    "1": "4",
                                    "2": "1",
                                    "3": "3",
                                    "4": "COMPRESSED",
                                    "5": "333324",
                                    "6": "BULKLOAD",
                                    "7": "Table_5e36fad5620b4f1c8f3eb0d9fc992bec_27",
                                    "8": "2022-07-08 14:28:45.430"
                                },
                                {
                                    "0": "FactFinance100m",
                                    "1": "4",
                                    "2": "1",
                                    "3": "3",
                                    "4": "COMPRESSED",
                                    "5": "333324",
                                    "6": "BULKLOAD",
                                    "7": "Table_5e36fad5620b4f1c8f3eb0d9fc992bec_28",
                                    "8": "2022-07-08 14:28:45.427"
                                },
                                {
                                    "0": "FactFinance100m",
                                    "1": "4",
                                    "2": "1",
                                    "3": "3",
                                    "4": "COMPRESSED",
                                    "5": "333324",
                                    "6": "BULKLOAD",
                                    "7": "Table_5e36fad5620b4f1c8f3eb0d9fc992bec_29",
                                    "8": "2022-07-08 14:28:46.130"
                                },
                                {
                                    "0": "FactFinance100m",
                                    "1": "4",
                                    "2": "1",
                                    "3": "3",
                                    "4": "COMPRESSED",
                                    "5": "333324",
                                    "6": "BULKLOAD",
                                    "7": "Table_5e36fad5620b4f1c8f3eb0d9fc992bec_30",
                                    "8": "2022-07-08 14:28:45.367"
                                },
                                {
                                    "0": "FactFinance100m",
                                    "1": "4",
                                    "2": "1",
                                    "3": "3",
                                    "4": "COMPRESSED",
                                    "5": "333324",
                                    "6": "BULKLOAD",
                                    "7": "Table_5e36fad5620b4f1c8f3eb0d9fc992bec_31",
                                    "8": "2022-07-08 14:28:45.443"
                                },
                                {
                                    "0": "FactFinance100m",
                                    "1": "4",
                                    "2": "1",
                                    "3": "3",
                                    "4": "COMPRESSED",
                                    "5": "333324",
                                    "6": "BULKLOAD",
                                    "7": "Table_5e36fad5620b4f1c8f3eb0d9fc992bec_32",
                                    "8": "2022-07-08 14:28:45.360"
                                },
                                {
                                    "0": "FactFinance100m",
                                    "1": "4",
                                    "2": "1",
                                    "3": "3",
                                    "4": "COMPRESSED",
                                    "5": "333324",
                                    "6": "BULKLOAD",
                                    "7": "Table_5e36fad5620b4f1c8f3eb0d9fc992bec_33",
                                    "8": "2022-07-08 14:28:45.420"
                                },
                                {
                                    "0": "FactFinance100m",
                                    "1": "4",
                                    "2": "1",
                                    "3": "3",
                                    "4": "COMPRESSED",
                                    "5": "333324",
                                    "6": "BULKLOAD",
                                    "7": "Table_5e36fad5620b4f1c8f3eb0d9fc992bec_34",
                                    "8": "2022-07-08 14:28:45.420"
                                },
                                {
                                    "0": "FactFinance100m",
                                    "1": "4",
                                    "2": "1",
                                    "3": "3",
                                    "4": "COMPRESSED",
                                    "5": "333324",
                                    "6": "BULKLOAD",
                                    "7": "Table_5e36fad5620b4f1c8f3eb0d9fc992bec_35",
                                    "8": "2022-07-08 14:28:45.473"
                                },
                                {
                                    "0": "FactFinance100m",
                                    "1": "4",
                                    "2": "1",
                                    "3": "3",
                                    "4": "COMPRESSED",
                                    "5": "333324",
                                    "6": "BULKLOAD",
                                    "7": "Table_5e36fad5620b4f1c8f3eb0d9fc992bec_36",
                                    "8": "2022-07-08 14:28:45.413"
                                },
                                {
                                    "0": "FactFinance100m",
                                    "1": "4",
                                    "2": "1",
                                    "3": "3",
                                    "4": "COMPRESSED",
                                    "5": "333324",
                                    "6": "BULKLOAD",
                                    "7": "Table_5e36fad5620b4f1c8f3eb0d9fc992bec_37",
                                    "8": "2022-07-08 14:28:45.377"
                                },
                                {
                                    "0": "FactFinance100m",
                                    "1": "4",
                                    "2": "1",
                                    "3": "3",
                                    "4": "COMPRESSED",
                                    "5": "333324",
                                    "6": "BULKLOAD",
                                    "7": "Table_5e36fad5620b4f1c8f3eb0d9fc992bec_38",
                                    "8": "2022-07-08 14:28:45.437"
                                },
                                {
                                    "0": "FactFinance100m",
                                    "1": "4",
                                    "2": "1",
                                    "3": "3",
                                    "4": "COMPRESSED",
                                    "5": "333324",
                                    "6": "BULKLOAD",
                                    "7": "Table_5e36fad5620b4f1c8f3eb0d9fc992bec_39",
                                    "8": "2022-07-08 14:28:45.390"
                                },
                                {
                                    "0": "FactFinance100m",
                                    "1": "4",
                                    "2": "1",
                                    "3": "3",
                                    "4": "COMPRESSED",
                                    "5": "333324",
                                    "6": "BULKLOAD",
                                    "7": "Table_5e36fad5620b4f1c8f3eb0d9fc992bec_40",
                                    "8": "2022-07-08 14:28:46.163"
                                },
                                {
                                    "0": "FactFinance100m",
                                    "1": "4",
                                    "2": "1",
                                    "3": "3",
                                    "4": "COMPRESSED",
                                    "5": "333324",
                                    "6": "BULKLOAD",
                                    "7": "Table_5e36fad5620b4f1c8f3eb0d9fc992bec_41",
                                    "8": "2022-07-08 14:28:45.377"
                                },
                                {
                                    "0": "FactFinance100m",
                                    "1": "4",
                                    "2": "1",
                                    "3": "3",
                                    "4": "COMPRESSED",
                                    "5": "333324",
                                    "6": "BULKLOAD",
                                    "7": "Table_5e36fad5620b4f1c8f3eb0d9fc992bec_42",
                                    "8": "2022-07-08 14:28:45.410"
                                },
                                {
                                    "0": "FactFinance100m",
                                    "1": "4",
                                    "2": "1",
                                    "3": "3",
                                    "4": "COMPRESSED",
                                    "5": "333324",
                                    "6": "BULKLOAD",
                                    "7": "Table_5e36fad5620b4f1c8f3eb0d9fc992bec_43",
                                    "8": "2022-07-08 14:28:45.400"
                                },
                                {
                                    "0": "FactFinance100m",
                                    "1": "4",
                                    "2": "1",
                                    "3": "3",
                                    "4": "COMPRESSED",
                                    "5": "333324",
                                    "6": "BULKLOAD",
                                    "7": "Table_5e36fad5620b4f1c8f3eb0d9fc992bec_44",
                                    "8": "2022-07-08 14:28:45.423"
                                },
                                {
                                    "0": "FactFinance100m",
                                    "1": "4",
                                    "2": "1",
                                    "3": "3",
                                    "4": "COMPRESSED",
                                    "5": "333324",
                                    "6": "BULKLOAD",
                                    "7": "Table_5e36fad5620b4f1c8f3eb0d9fc992bec_45",
                                    "8": "2022-07-08 14:28:45.420"
                                },
                                {
                                    "0": "FactFinance100m",
                                    "1": "4",
                                    "2": "1",
                                    "3": "3",
                                    "4": "COMPRESSED",
                                    "5": "333324",
                                    "6": "BULKLOAD",
                                    "7": "Table_5e36fad5620b4f1c8f3eb0d9fc992bec_46",
                                    "8": "2022-07-08 14:28:45.443"
                                },
                                {
                                    "0": "FactFinance100m",
                                    "1": "4",
                                    "2": "1",
                                    "3": "3",
                                    "4": "COMPRESSED",
                                    "5": "333324",
                                    "6": "BULKLOAD",
                                    "7": "Table_5e36fad5620b4f1c8f3eb0d9fc992bec_47",
                                    "8": "2022-07-08 14:28:45.373"
                                },
                                {
                                    "0": "FactFinance100m",
                                    "1": "4",
                                    "2": "1",
                                    "3": "3",
                                    "4": "COMPRESSED",
                                    "5": "333324",
                                    "6": "BULKLOAD",
                                    "7": "Table_5e36fad5620b4f1c8f3eb0d9fc992bec_48",
                                    "8": "2022-07-08 14:28:45.400"
                                },
                                {
                                    "0": "FactFinance100m",
                                    "1": "4",
                                    "2": "1",
                                    "3": "3",
                                    "4": "COMPRESSED",
                                    "5": "333324",
                                    "6": "BULKLOAD",
                                    "7": "Table_5e36fad5620b4f1c8f3eb0d9fc992bec_49",
                                    "8": "2022-07-08 14:28:45.397"
                                },
                                {
                                    "0": "FactFinance100m",
                                    "1": "4",
                                    "2": "1",
                                    "3": "3",
                                    "4": "COMPRESSED",
                                    "5": "333324",
                                    "6": "BULKLOAD",
                                    "7": "Table_5e36fad5620b4f1c8f3eb0d9fc992bec_50",
                                    "8": "2022-07-08 14:28:45.420"
                                },
                                {
                                    "0": "FactFinance100m",
                                    "1": "4",
                                    "2": "1",
                                    "3": "3",
                                    "4": "COMPRESSED",
                                    "5": "333324",
                                    "6": "BULKLOAD",
                                    "7": "Table_5e36fad5620b4f1c8f3eb0d9fc992bec_51",
                                    "8": "2022-07-08 14:28:45.423"
                                },
                                {
                                    "0": "FactFinance100m",
                                    "1": "4",
                                    "2": "1",
                                    "3": "3",
                                    "4": "COMPRESSED",
                                    "5": "333324",
                                    "6": "BULKLOAD",
                                    "7": "Table_5e36fad5620b4f1c8f3eb0d9fc992bec_52",
                                    "8": "2022-07-08 14:28:45.323"
                                },
                                {
                                    "0": "FactFinance100m",
                                    "1": "4",
                                    "2": "1",
                                    "3": "3",
                                    "4": "COMPRESSED",
                                    "5": "333324",
                                    "6": "BULKLOAD",
                                    "7": "Table_5e36fad5620b4f1c8f3eb0d9fc992bec_53",
                                    "8": "2022-07-08 14:28:45.330"
                                },
                                {
                                    "0": "FactFinance100m",
                                    "1": "4",
                                    "2": "1",
                                    "3": "3",
                                    "4": "COMPRESSED",
                                    "5": "333324",
                                    "6": "BULKLOAD",
                                    "7": "Table_5e36fad5620b4f1c8f3eb0d9fc992bec_54",
                                    "8": "2022-07-08 14:28:46.153"
                                },
                                {
                                    "0": "FactFinance100m",
                                    "1": "4",
                                    "2": "1",
                                    "3": "3",
                                    "4": "COMPRESSED",
                                    "5": "333324",
                                    "6": "BULKLOAD",
                                    "7": "Table_5e36fad5620b4f1c8f3eb0d9fc992bec_55",
                                    "8": "2022-07-08 14:28:45.440"
                                },
                                {
                                    "0": "FactFinance100m",
                                    "1": "4",
                                    "2": "1",
                                    "3": "3",
                                    "4": "COMPRESSED",
                                    "5": "333324",
                                    "6": "BULKLOAD",
                                    "7": "Table_5e36fad5620b4f1c8f3eb0d9fc992bec_56",
                                    "8": "2022-07-08 14:28:45.320"
                                },
                                {
                                    "0": "FactFinance100m",
                                    "1": "4",
                                    "2": "1",
                                    "3": "3",
                                    "4": "COMPRESSED",
                                    "5": "333324",
                                    "6": "BULKLOAD",
                                    "7": "Table_5e36fad5620b4f1c8f3eb0d9fc992bec_57",
                                    "8": "2022-07-08 14:28:45.440"
                                },
                                {
                                    "0": "FactFinance100m",
                                    "1": "4",
                                    "2": "1",
                                    "3": "3",
                                    "4": "COMPRESSED",
                                    "5": "333324",
                                    "6": "BULKLOAD",
                                    "7": "Table_5e36fad5620b4f1c8f3eb0d9fc992bec_58",
                                    "8": "2022-07-08 14:28:45.350"
                                },
                                {
                                    "0": "FactFinance100m",
                                    "1": "4",
                                    "2": "1",
                                    "3": "3",
                                    "4": "COMPRESSED",
                                    "5": "333324",
                                    "6": "BULKLOAD",
                                    "7": "Table_5e36fad5620b4f1c8f3eb0d9fc992bec_59",
                                    "8": "2022-07-08 14:28:45.423"
                                },
                                {
                                    "0": "FactFinance100m",
                                    "1": "4",
                                    "2": "1",
                                    "3": "3",
                                    "4": "COMPRESSED",
                                    "5": "333324",
                                    "6": "BULKLOAD",
                                    "7": "Table_5e36fad5620b4f1c8f3eb0d9fc992bec_60",
                                    "8": "2022-07-08 14:28:45.377"
                                },
                                {
                                    "0": "FactFinance100m",
                                    "1": "3",
                                    "2": "1",
                                    "3": "3",
                                    "4": "COMPRESSED",
                                    "5": "333324",
                                    "6": "BULKLOAD",
                                    "7": "Table_5e36fad5620b4f1c8f3eb0d9fc992bec_1",
                                    "8": "2022-07-08 14:27:58.697"
                                },
                                {
                                    "0": "FactFinance100m",
                                    "1": "3",
                                    "2": "1",
                                    "3": "3",
                                    "4": "COMPRESSED",
                                    "5": "333324",
                                    "6": "BULKLOAD",
                                    "7": "Table_5e36fad5620b4f1c8f3eb0d9fc992bec_2",
                                    "8": "2022-07-08 14:27:58.700"
                                },
                                {
                                    "0": "FactFinance100m",
                                    "1": "3",
                                    "2": "1",
                                    "3": "3",
                                    "4": "COMPRESSED",
                                    "5": "333324",
                                    "6": "BULKLOAD",
                                    "7": "Table_5e36fad5620b4f1c8f3eb0d9fc992bec_3",
                                    "8": "2022-07-08 14:27:58.620"
                                },
                                {
                                    "0": "FactFinance100m",
                                    "1": "3",
                                    "2": "1",
                                    "3": "3",
                                    "4": "COMPRESSED",
                                    "5": "333324",
                                    "6": "BULKLOAD",
                                    "7": "Table_5e36fad5620b4f1c8f3eb0d9fc992bec_4",
                                    "8": "2022-07-08 14:27:58.760"
                                },
                                {
                                    "0": "FactFinance100m",
                                    "1": "3",
                                    "2": "1",
                                    "3": "3",
                                    "4": "COMPRESSED",
                                    "5": "333324",
                                    "6": "BULKLOAD",
                                    "7": "Table_5e36fad5620b4f1c8f3eb0d9fc992bec_5",
                                    "8": "2022-07-08 14:27:58.667"
                                },
                                {
                                    "0": "FactFinance100m",
                                    "1": "3",
                                    "2": "1",
                                    "3": "3",
                                    "4": "COMPRESSED",
                                    "5": "333324",
                                    "6": "BULKLOAD",
                                    "7": "Table_5e36fad5620b4f1c8f3eb0d9fc992bec_6",
                                    "8": "2022-07-08 14:27:58.730"
                                },
                                {
                                    "0": "FactFinance100m",
                                    "1": "3",
                                    "2": "1",
                                    "3": "3",
                                    "4": "COMPRESSED",
                                    "5": "333324",
                                    "6": "BULKLOAD",
                                    "7": "Table_5e36fad5620b4f1c8f3eb0d9fc992bec_7",
                                    "8": "2022-07-08 14:27:58.693"
                                },
                                {
                                    "0": "FactFinance100m",
                                    "1": "3",
                                    "2": "1",
                                    "3": "3",
                                    "4": "COMPRESSED",
                                    "5": "333324",
                                    "6": "BULKLOAD",
                                    "7": "Table_5e36fad5620b4f1c8f3eb0d9fc992bec_8",
                                    "8": "2022-07-08 14:27:58.663"
                                },
                                {
                                    "0": "FactFinance100m",
                                    "1": "3",
                                    "2": "1",
                                    "3": "3",
                                    "4": "COMPRESSED",
                                    "5": "333324",
                                    "6": "BULKLOAD",
                                    "7": "Table_5e36fad5620b4f1c8f3eb0d9fc992bec_9",
                                    "8": "2022-07-08 14:27:58.650"
                                },
                                {
                                    "0": "FactFinance100m",
                                    "1": "3",
                                    "2": "1",
                                    "3": "3",
                                    "4": "COMPRESSED",
                                    "5": "333324",
                                    "6": "BULKLOAD",
                                    "7": "Table_5e36fad5620b4f1c8f3eb0d9fc992bec_10",
                                    "8": "2022-07-08 14:27:58.727"
                                },
                                {
                                    "0": "FactFinance100m",
                                    "1": "3",
                                    "2": "1",
                                    "3": "3",
                                    "4": "COMPRESSED",
                                    "5": "333324",
                                    "6": "BULKLOAD",
                                    "7": "Table_5e36fad5620b4f1c8f3eb0d9fc992bec_11",
                                    "8": "2022-07-08 14:27:58.740"
                                },
                                {
                                    "0": "FactFinance100m",
                                    "1": "3",
                                    "2": "1",
                                    "3": "3",
                                    "4": "COMPRESSED",
                                    "5": "333884",
                                    "6": "BULKLOAD",
                                    "7": "Table_5e36fad5620b4f1c8f3eb0d9fc992bec_12",
                                    "8": "2022-07-08 14:27:58.600"
                                },
                                {
                                    "0": "FactFinance100m",
                                    "1": "3",
                                    "2": "1",
                                    "3": "3",
                                    "4": "COMPRESSED",
                                    "5": "333324",
                                    "6": "BULKLOAD",
                                    "7": "Table_5e36fad5620b4f1c8f3eb0d9fc992bec_13",
                                    "8": "2022-07-08 14:27:58.740"
                                },
                                {
                                    "0": "FactFinance100m",
                                    "1": "3",
                                    "2": "1",
                                    "3": "3",
                                    "4": "COMPRESSED",
                                    "5": "333324",
                                    "6": "BULKLOAD",
                                    "7": "Table_5e36fad5620b4f1c8f3eb0d9fc992bec_14",
                                    "8": "2022-07-08 14:27:59.283"
                                },
                                {
                                    "0": "FactFinance100m",
                                    "1": "3",
                                    "2": "1",
                                    "3": "3",
                                    "4": "COMPRESSED",
                                    "5": "333324",
                                    "6": "BULKLOAD",
                                    "7": "Table_5e36fad5620b4f1c8f3eb0d9fc992bec_15",
                                    "8": "2022-07-08 14:27:58.687"
                                },
                                {
                                    "0": "FactFinance100m",
                                    "1": "3",
                                    "2": "1",
                                    "3": "3",
                                    "4": "COMPRESSED",
                                    "5": "333324",
                                    "6": "BULKLOAD",
                                    "7": "Table_5e36fad5620b4f1c8f3eb0d9fc992bec_16",
                                    "8": "2022-07-08 14:27:58.633"
                                },
                                {
                                    "0": "FactFinance100m",
                                    "1": "3",
                                    "2": "1",
                                    "3": "3",
                                    "4": "COMPRESSED",
                                    "5": "333324",
                                    "6": "BULKLOAD",
                                    "7": "Table_5e36fad5620b4f1c8f3eb0d9fc992bec_17",
                                    "8": "2022-07-08 14:27:59.373"
                                },
                                {
                                    "0": "FactFinance100m",
                                    "1": "3",
                                    "2": "1",
                                    "3": "3",
                                    "4": "COMPRESSED",
                                    "5": "333324",
                                    "6": "BULKLOAD",
                                    "7": "Table_5e36fad5620b4f1c8f3eb0d9fc992bec_18",
                                    "8": "2022-07-08 14:27:58.613"
                                },
                                {
                                    "0": "FactFinance100m",
                                    "1": "3",
                                    "2": "1",
                                    "3": "3",
                                    "4": "COMPRESSED",
                                    "5": "333324",
                                    "6": "BULKLOAD",
                                    "7": "Table_5e36fad5620b4f1c8f3eb0d9fc992bec_19",
                                    "8": "2022-07-08 14:27:58.690"
                                },
                                {
                                    "0": "FactFinance100m",
                                    "1": "3",
                                    "2": "1",
                                    "3": "3",
                                    "4": "COMPRESSED",
                                    "5": "333324",
                                    "6": "BULKLOAD",
                                    "7": "Table_5e36fad5620b4f1c8f3eb0d9fc992bec_20",
                                    "8": "2022-07-08 14:27:58.747"
                                },
                                {
                                    "0": "FactFinance100m",
                                    "1": "3",
                                    "2": "1",
                                    "3": "3",
                                    "4": "COMPRESSED",
                                    "5": "333324",
                                    "6": "BULKLOAD",
                                    "7": "Table_5e36fad5620b4f1c8f3eb0d9fc992bec_21",
                                    "8": "2022-07-08 14:27:58.630"
                                },
                                {
                                    "0": "FactFinance100m",
                                    "1": "3",
                                    "2": "1",
                                    "3": "3",
                                    "4": "COMPRESSED",
                                    "5": "333324",
                                    "6": "BULKLOAD",
                                    "7": "Table_5e36fad5620b4f1c8f3eb0d9fc992bec_22",
                                    "8": "2022-07-08 14:27:58.753"
                                },
                                {
                                    "0": "FactFinance100m",
                                    "1": "3",
                                    "2": "1",
                                    "3": "3",
                                    "4": "COMPRESSED",
                                    "5": "333324",
                                    "6": "BULKLOAD",
                                    "7": "Table_5e36fad5620b4f1c8f3eb0d9fc992bec_23",
                                    "8": "2022-07-08 14:27:58.700"
                                },
                                {
                                    "0": "FactFinance100m",
                                    "1": "3",
                                    "2": "1",
                                    "3": "3",
                                    "4": "COMPRESSED",
                                    "5": "333324",
                                    "6": "BULKLOAD",
                                    "7": "Table_5e36fad5620b4f1c8f3eb0d9fc992bec_24",
                                    "8": "2022-07-08 14:27:58.680"
                                },
                                {
                                    "0": "FactFinance100m",
                                    "1": "3",
                                    "2": "1",
                                    "3": "3",
                                    "4": "COMPRESSED",
                                    "5": "333324",
                                    "6": "BULKLOAD",
                                    "7": "Table_5e36fad5620b4f1c8f3eb0d9fc992bec_25",
                                    "8": "2022-07-08 14:27:58.663"
                                },
                                {
                                    "0": "FactFinance100m",
                                    "1": "3",
                                    "2": "1",
                                    "3": "3",
                                    "4": "COMPRESSED",
                                    "5": "333324",
                                    "6": "BULKLOAD",
                                    "7": "Table_5e36fad5620b4f1c8f3eb0d9fc992bec_26",
                                    "8": "2022-07-08 14:27:58.720"
                                },
                                {
                                    "0": "FactFinance100m",
                                    "1": "3",
                                    "2": "1",
                                    "3": "3",
                                    "4": "COMPRESSED",
                                    "5": "333324",
                                    "6": "BULKLOAD",
                                    "7": "Table_5e36fad5620b4f1c8f3eb0d9fc992bec_27",
                                    "8": "2022-07-08 14:27:58.597"
                                },
                                {
                                    "0": "FactFinance100m",
                                    "1": "3",
                                    "2": "1",
                                    "3": "3",
                                    "4": "COMPRESSED",
                                    "5": "333324",
                                    "6": "BULKLOAD",
                                    "7": "Table_5e36fad5620b4f1c8f3eb0d9fc992bec_28",
                                    "8": "2022-07-08 14:27:58.610"
                                },
                                {
                                    "0": "FactFinance100m",
                                    "1": "3",
                                    "2": "1",
                                    "3": "3",
                                    "4": "COMPRESSED",
                                    "5": "333324",
                                    "6": "BULKLOAD",
                                    "7": "Table_5e36fad5620b4f1c8f3eb0d9fc992bec_29",
                                    "8": "2022-07-08 14:27:58.723"
                                },
                                {
                                    "0": "FactFinance100m",
                                    "1": "3",
                                    "2": "1",
                                    "3": "3",
                                    "4": "COMPRESSED",
                                    "5": "333324",
                                    "6": "BULKLOAD",
                                    "7": "Table_5e36fad5620b4f1c8f3eb0d9fc992bec_30",
                                    "8": "2022-07-08 14:27:58.737"
                                },
                                {
                                    "0": "FactFinance100m",
                                    "1": "3",
                                    "2": "1",
                                    "3": "3",
                                    "4": "COMPRESSED",
                                    "5": "333324",
                                    "6": "BULKLOAD",
                                    "7": "Table_5e36fad5620b4f1c8f3eb0d9fc992bec_31",
                                    "8": "2022-07-08 14:27:58.650"
                                },
                                {
                                    "0": "FactFinance100m",
                                    "1": "3",
                                    "2": "1",
                                    "3": "3",
                                    "4": "COMPRESSED",
                                    "5": "333324",
                                    "6": "BULKLOAD",
                                    "7": "Table_5e36fad5620b4f1c8f3eb0d9fc992bec_32",
                                    "8": "2022-07-08 14:27:58.580"
                                },
                                {
                                    "0": "FactFinance100m",
                                    "1": "3",
                                    "2": "1",
                                    "3": "3",
                                    "4": "COMPRESSED",
                                    "5": "333324",
                                    "6": "BULKLOAD",
                                    "7": "Table_5e36fad5620b4f1c8f3eb0d9fc992bec_33",
                                    "8": "2022-07-08 14:27:59.333"
                                },
                                {
                                    "0": "FactFinance100m",
                                    "1": "3",
                                    "2": "1",
                                    "3": "3",
                                    "4": "COMPRESSED",
                                    "5": "333324",
                                    "6": "BULKLOAD",
                                    "7": "Table_5e36fad5620b4f1c8f3eb0d9fc992bec_34",
                                    "8": "2022-07-08 14:27:58.623"
                                },
                                {
                                    "0": "FactFinance100m",
                                    "1": "3",
                                    "2": "1",
                                    "3": "3",
                                    "4": "COMPRESSED",
                                    "5": "333324",
                                    "6": "BULKLOAD",
                                    "7": "Table_5e36fad5620b4f1c8f3eb0d9fc992bec_35",
                                    "8": "2022-07-08 14:27:59.003"
                                },
                                {
                                    "0": "FactFinance100m",
                                    "1": "3",
                                    "2": "1",
                                    "3": "3",
                                    "4": "COMPRESSED",
                                    "5": "333324",
                                    "6": "BULKLOAD",
                                    "7": "Table_5e36fad5620b4f1c8f3eb0d9fc992bec_36",
                                    "8": "2022-07-08 14:27:58.597"
                                },
                                {
                                    "0": "FactFinance100m",
                                    "1": "3",
                                    "2": "1",
                                    "3": "3",
                                    "4": "COMPRESSED",
                                    "5": "333324",
                                    "6": "BULKLOAD",
                                    "7": "Table_5e36fad5620b4f1c8f3eb0d9fc992bec_37",
                                    "8": "2022-07-08 14:27:58.553"
                                },
                                {
                                    "0": "FactFinance100m",
                                    "1": "3",
                                    "2": "1",
                                    "3": "3",
                                    "4": "COMPRESSED",
                                    "5": "333324",
                                    "6": "BULKLOAD",
                                    "7": "Table_5e36fad5620b4f1c8f3eb0d9fc992bec_38",
                                    "8": "2022-07-08 14:27:58.613"
                                },
                                {
                                    "0": "FactFinance100m",
                                    "1": "3",
                                    "2": "1",
                                    "3": "3",
                                    "4": "COMPRESSED",
                                    "5": "333324",
                                    "6": "BULKLOAD",
                                    "7": "Table_5e36fad5620b4f1c8f3eb0d9fc992bec_39",
                                    "8": "2022-07-08 14:27:58.637"
                                },
                                {
                                    "0": "FactFinance100m",
                                    "1": "3",
                                    "2": "1",
                                    "3": "3",
                                    "4": "COMPRESSED",
                                    "5": "333324",
                                    "6": "BULKLOAD",
                                    "7": "Table_5e36fad5620b4f1c8f3eb0d9fc992bec_40",
                                    "8": "2022-07-08 14:27:58.660"
                                },
                                {
                                    "0": "FactFinance100m",
                                    "1": "3",
                                    "2": "1",
                                    "3": "3",
                                    "4": "COMPRESSED",
                                    "5": "333324",
                                    "6": "BULKLOAD",
                                    "7": "Table_5e36fad5620b4f1c8f3eb0d9fc992bec_41",
                                    "8": "2022-07-08 14:27:58.637"
                                },
                                {
                                    "0": "FactFinance100m",
                                    "1": "3",
                                    "2": "1",
                                    "3": "3",
                                    "4": "COMPRESSED",
                                    "5": "333324",
                                    "6": "BULKLOAD",
                                    "7": "Table_5e36fad5620b4f1c8f3eb0d9fc992bec_42",
                                    "8": "2022-07-08 14:27:58.680"
                                },
                                {
                                    "0": "FactFinance100m",
                                    "1": "3",
                                    "2": "1",
                                    "3": "3",
                                    "4": "COMPRESSED",
                                    "5": "333324",
                                    "6": "BULKLOAD",
                                    "7": "Table_5e36fad5620b4f1c8f3eb0d9fc992bec_43",
                                    "8": "2022-07-08 14:27:58.703"
                                },
                                {
                                    "0": "FactFinance100m",
                                    "1": "3",
                                    "2": "1",
                                    "3": "3",
                                    "4": "COMPRESSED",
                                    "5": "333324",
                                    "6": "BULKLOAD",
                                    "7": "Table_5e36fad5620b4f1c8f3eb0d9fc992bec_44",
                                    "8": "2022-07-08 14:27:58.577"
                                },
                                {
                                    "0": "FactFinance100m",
                                    "1": "3",
                                    "2": "1",
                                    "3": "3",
                                    "4": "COMPRESSED",
                                    "5": "333324",
                                    "6": "BULKLOAD",
                                    "7": "Table_5e36fad5620b4f1c8f3eb0d9fc992bec_45",
                                    "8": "2022-07-08 14:27:58.650"
                                },
                                {
                                    "0": "FactFinance100m",
                                    "1": "3",
                                    "2": "1",
                                    "3": "3",
                                    "4": "COMPRESSED",
                                    "5": "333324",
                                    "6": "BULKLOAD",
                                    "7": "Table_5e36fad5620b4f1c8f3eb0d9fc992bec_46",
                                    "8": "2022-07-08 14:27:58.610"
                                },
                                {
                                    "0": "FactFinance100m",
                                    "1": "3",
                                    "2": "1",
                                    "3": "3",
                                    "4": "COMPRESSED",
                                    "5": "333324",
                                    "6": "BULKLOAD",
                                    "7": "Table_5e36fad5620b4f1c8f3eb0d9fc992bec_47",
                                    "8": "2022-07-08 14:27:58.687"
                                },
                                {
                                    "0": "FactFinance100m",
                                    "1": "3",
                                    "2": "1",
                                    "3": "3",
                                    "4": "COMPRESSED",
                                    "5": "333324",
                                    "6": "BULKLOAD",
                                    "7": "Table_5e36fad5620b4f1c8f3eb0d9fc992bec_48",
                                    "8": "2022-07-08 14:27:58.540"
                                },
                                {
                                    "0": "FactFinance100m",
                                    "1": "3",
                                    "2": "1",
                                    "3": "3",
                                    "4": "COMPRESSED",
                                    "5": "333324",
                                    "6": "BULKLOAD",
                                    "7": "Table_5e36fad5620b4f1c8f3eb0d9fc992bec_49",
                                    "8": "2022-07-08 14:27:58.673"
                                },
                                {
                                    "0": "FactFinance100m",
                                    "1": "3",
                                    "2": "1",
                                    "3": "3",
                                    "4": "COMPRESSED",
                                    "5": "333324",
                                    "6": "BULKLOAD",
                                    "7": "Table_5e36fad5620b4f1c8f3eb0d9fc992bec_50",
                                    "8": "2022-07-08 14:27:58.720"
                                },
                                {
                                    "0": "FactFinance100m",
                                    "1": "3",
                                    "2": "1",
                                    "3": "3",
                                    "4": "COMPRESSED",
                                    "5": "333324",
                                    "6": "BULKLOAD",
                                    "7": "Table_5e36fad5620b4f1c8f3eb0d9fc992bec_51",
                                    "8": "2022-07-08 14:27:58.680"
                                },
                                {
                                    "0": "FactFinance100m",
                                    "1": "3",
                                    "2": "1",
                                    "3": "3",
                                    "4": "COMPRESSED",
                                    "5": "333324",
                                    "6": "BULKLOAD",
                                    "7": "Table_5e36fad5620b4f1c8f3eb0d9fc992bec_52",
                                    "8": "2022-07-08 14:27:58.703"
                                },
                                {
                                    "0": "FactFinance100m",
                                    "1": "3",
                                    "2": "1",
                                    "3": "3",
                                    "4": "COMPRESSED",
                                    "5": "333324",
                                    "6": "BULKLOAD",
                                    "7": "Table_5e36fad5620b4f1c8f3eb0d9fc992bec_53",
                                    "8": "2022-07-08 14:27:59.353"
                                },
                                {
                                    "0": "FactFinance100m",
                                    "1": "3",
                                    "2": "1",
                                    "3": "3",
                                    "4": "COMPRESSED",
                                    "5": "333324",
                                    "6": "BULKLOAD",
                                    "7": "Table_5e36fad5620b4f1c8f3eb0d9fc992bec_54",
                                    "8": "2022-07-08 14:27:58.703"
                                },
                                {
                                    "0": "FactFinance100m",
                                    "1": "3",
                                    "2": "1",
                                    "3": "3",
                                    "4": "COMPRESSED",
                                    "5": "333324",
                                    "6": "BULKLOAD",
                                    "7": "Table_5e36fad5620b4f1c8f3eb0d9fc992bec_55",
                                    "8": "2022-07-08 14:27:58.740"
                                },
                                {
                                    "0": "FactFinance100m",
                                    "1": "3",
                                    "2": "1",
                                    "3": "3",
                                    "4": "COMPRESSED",
                                    "5": "333324",
                                    "6": "BULKLOAD",
                                    "7": "Table_5e36fad5620b4f1c8f3eb0d9fc992bec_56",
                                    "8": "2022-07-08 14:27:58.587"
                                },
                                {
                                    "0": "FactFinance100m",
                                    "1": "3",
                                    "2": "1",
                                    "3": "3",
                                    "4": "COMPRESSED",
                                    "5": "333324",
                                    "6": "BULKLOAD",
                                    "7": "Table_5e36fad5620b4f1c8f3eb0d9fc992bec_57",
                                    "8": "2022-07-08 14:27:58.557"
                                },
                                {
                                    "0": "FactFinance100m",
                                    "1": "3",
                                    "2": "1",
                                    "3": "3",
                                    "4": "COMPRESSED",
                                    "5": "333324",
                                    "6": "BULKLOAD",
                                    "7": "Table_5e36fad5620b4f1c8f3eb0d9fc992bec_58",
                                    "8": "2022-07-08 14:27:58.680"
                                },
                                {
                                    "0": "FactFinance100m",
                                    "1": "3",
                                    "2": "1",
                                    "3": "3",
                                    "4": "COMPRESSED",
                                    "5": "333324",
                                    "6": "BULKLOAD",
                                    "7": "Table_5e36fad5620b4f1c8f3eb0d9fc992bec_59",
                                    "8": "2022-07-08 14:27:58.740"
                                },
                                {
                                    "0": "FactFinance100m",
                                    "1": "3",
                                    "2": "1",
                                    "3": "3",
                                    "4": "COMPRESSED",
                                    "5": "333324",
                                    "6": "BULKLOAD",
                                    "7": "Table_5e36fad5620b4f1c8f3eb0d9fc992bec_60",
                                    "8": "2022-07-08 14:27:58.560"
                                },
                                {
                                    "0": "FactFinance100m",
                                    "1": "2",
                                    "2": "1",
                                    "3": "1",
                                    "4": "OPEN",
                                    "5": "69172",
                                    "6": "NULL",
                                    "7": "Table_5e36fad5620b4f1c8f3eb0d9fc992bec_1",
                                    "8": "2022-07-08 14:20:27.257"
                                },
                                {
                                    "0": "FactFinance100m",
                                    "1": "2",
                                    "2": "1",
                                    "3": "1",
                                    "4": "OPEN",
                                    "5": "69172",
                                    "6": "NULL",
                                    "7": "Table_5e36fad5620b4f1c8f3eb0d9fc992bec_2",
                                    "8": "2022-07-08 14:20:27.217"
                                },
                                {
                                    "0": "FactFinance100m",
                                    "1": "2",
                                    "2": "1",
                                    "3": "1",
                                    "4": "OPEN",
                                    "5": "69172",
                                    "6": "NULL",
                                    "7": "Table_5e36fad5620b4f1c8f3eb0d9fc992bec_3",
                                    "8": "2022-07-08 14:20:27.210"
                                },
                                {
                                    "0": "FactFinance100m",
                                    "1": "2",
                                    "2": "1",
                                    "3": "1",
                                    "4": "OPEN",
                                    "5": "69172",
                                    "6": "NULL",
                                    "7": "Table_5e36fad5620b4f1c8f3eb0d9fc992bec_4",
                                    "8": "2022-07-08 14:20:27.003"
                                },
                                {
                                    "0": "FactFinance100m",
                                    "1": "2",
                                    "2": "1",
                                    "3": "1",
                                    "4": "OPEN",
                                    "5": "69172",
                                    "6": "NULL",
                                    "7": "Table_5e36fad5620b4f1c8f3eb0d9fc992bec_5",
                                    "8": "2022-07-08 14:20:27.113"
                                },
                                {
                                    "0": "FactFinance100m",
                                    "1": "2",
                                    "2": "1",
                                    "3": "1",
                                    "4": "OPEN",
                                    "5": "69172",
                                    "6": "NULL",
                                    "7": "Table_5e36fad5620b4f1c8f3eb0d9fc992bec_6",
                                    "8": "2022-07-08 14:20:27.247"
                                },
                                {
                                    "0": "FactFinance100m",
                                    "1": "2",
                                    "2": "1",
                                    "3": "1",
                                    "4": "OPEN",
                                    "5": "69172",
                                    "6": "NULL",
                                    "7": "Table_5e36fad5620b4f1c8f3eb0d9fc992bec_7",
                                    "8": "2022-07-08 14:20:27.123"
                                },
                                {
                                    "0": "FactFinance100m",
                                    "1": "2",
                                    "2": "1",
                                    "3": "1",
                                    "4": "OPEN",
                                    "5": "69172",
                                    "6": "NULL",
                                    "7": "Table_5e36fad5620b4f1c8f3eb0d9fc992bec_8",
                                    "8": "2022-07-08 14:20:27.193"
                                },
                                {
                                    "0": "FactFinance100m",
                                    "1": "2",
                                    "2": "1",
                                    "3": "1",
                                    "4": "OPEN",
                                    "5": "69736",
                                    "6": "NULL",
                                    "7": "Table_5e36fad5620b4f1c8f3eb0d9fc992bec_9",
                                    "8": "2022-07-08 14:20:26.993"
                                },
                                {
                                    "0": "FactFinance100m",
                                    "1": "2",
                                    "2": "1",
                                    "3": "1",
                                    "4": "OPEN",
                                    "5": "69736",
                                    "6": "NULL",
                                    "7": "Table_5e36fad5620b4f1c8f3eb0d9fc992bec_10",
                                    "8": "2022-07-08 14:20:27.173"
                                },
                                {
                                    "0": "FactFinance100m",
                                    "1": "2",
                                    "2": "1",
                                    "3": "1",
                                    "4": "OPEN",
                                    "5": "69736",
                                    "6": "NULL",
                                    "7": "Table_5e36fad5620b4f1c8f3eb0d9fc992bec_11",
                                    "8": "2022-07-08 14:20:27.117"
                                },
                                {
                                    "0": "FactFinance100m",
                                    "1": "2",
                                    "2": "1",
                                    "3": "1",
                                    "4": "OPEN",
                                    "5": "69736",
                                    "6": "NULL",
                                    "7": "Table_5e36fad5620b4f1c8f3eb0d9fc992bec_12",
                                    "8": "2022-07-08 14:20:27.090"
                                },
                                {
                                    "0": "FactFinance100m",
                                    "1": "2",
                                    "2": "1",
                                    "3": "1",
                                    "4": "OPEN",
                                    "5": "69736",
                                    "6": "NULL",
                                    "7": "Table_5e36fad5620b4f1c8f3eb0d9fc992bec_13",
                                    "8": "2022-07-08 14:20:27.140"
                                },
                                {
                                    "0": "FactFinance100m",
                                    "1": "2",
                                    "2": "1",
                                    "3": "1",
                                    "4": "OPEN",
                                    "5": "69736",
                                    "6": "NULL",
                                    "7": "Table_5e36fad5620b4f1c8f3eb0d9fc992bec_14",
                                    "8": "2022-07-08 14:20:26.977"
                                },
                                {
                                    "0": "FactFinance100m",
                                    "1": "2",
                                    "2": "1",
                                    "3": "1",
                                    "4": "OPEN",
                                    "5": "69736",
                                    "6": "NULL",
                                    "7": "Table_5e36fad5620b4f1c8f3eb0d9fc992bec_15",
                                    "8": "2022-07-08 14:20:27.207"
                                },
                                {
                                    "0": "FactFinance100m",
                                    "1": "2",
                                    "2": "1",
                                    "3": "1",
                                    "4": "OPEN",
                                    "5": "69736",
                                    "6": "NULL",
                                    "7": "Table_5e36fad5620b4f1c8f3eb0d9fc992bec_16",
                                    "8": "2022-07-08 14:20:27.037"
                                },
                                {
                                    "0": "FactFinance100m",
                                    "1": "2",
                                    "2": "1",
                                    "3": "1",
                                    "4": "OPEN",
                                    "5": "69736",
                                    "6": "NULL",
                                    "7": "Table_5e36fad5620b4f1c8f3eb0d9fc992bec_17",
                                    "8": "2022-07-08 14:20:27.243"
                                },
                                {
                                    "0": "FactFinance100m",
                                    "1": "2",
                                    "2": "1",
                                    "3": "1",
                                    "4": "OPEN",
                                    "5": "69736",
                                    "6": "NULL",
                                    "7": "Table_5e36fad5620b4f1c8f3eb0d9fc992bec_18",
                                    "8": "2022-07-08 14:20:27.167"
                                },
                                {
                                    "0": "FactFinance100m",
                                    "1": "2",
                                    "2": "1",
                                    "3": "1",
                                    "4": "OPEN",
                                    "5": "69736",
                                    "6": "NULL",
                                    "7": "Table_5e36fad5620b4f1c8f3eb0d9fc992bec_19",
                                    "8": "2022-07-08 14:20:31.930"
                                },
                                {
                                    "0": "FactFinance100m",
                                    "1": "2",
                                    "2": "1",
                                    "3": "1",
                                    "4": "OPEN",
                                    "5": "69736",
                                    "6": "NULL",
                                    "7": "Table_5e36fad5620b4f1c8f3eb0d9fc992bec_20",
                                    "8": "2022-07-08 14:20:27.107"
                                },
                                {
                                    "0": "FactFinance100m",
                                    "1": "2",
                                    "2": "1",
                                    "3": "1",
                                    "4": "OPEN",
                                    "5": "69736",
                                    "6": "NULL",
                                    "7": "Table_5e36fad5620b4f1c8f3eb0d9fc992bec_21",
                                    "8": "2022-07-08 14:20:27.203"
                                },
                                {
                                    "0": "FactFinance100m",
                                    "1": "2",
                                    "2": "1",
                                    "3": "1",
                                    "4": "OPEN",
                                    "5": "69736",
                                    "6": "NULL",
                                    "7": "Table_5e36fad5620b4f1c8f3eb0d9fc992bec_22",
                                    "8": "2022-07-08 14:20:27.287"
                                },
                                {
                                    "0": "FactFinance100m",
                                    "1": "2",
                                    "2": "1",
                                    "3": "1",
                                    "4": "OPEN",
                                    "5": "69736",
                                    "6": "NULL",
                                    "7": "Table_5e36fad5620b4f1c8f3eb0d9fc992bec_23",
                                    "8": "2022-07-08 14:20:27.100"
                                },
                                {
                                    "0": "FactFinance100m",
                                    "1": "2",
                                    "2": "1",
                                    "3": "1",
                                    "4": "OPEN",
                                    "5": "69736",
                                    "6": "NULL",
                                    "7": "Table_5e36fad5620b4f1c8f3eb0d9fc992bec_24",
                                    "8": "2022-07-08 14:20:27.050"
                                },
                                {
                                    "0": "FactFinance100m",
                                    "1": "2",
                                    "2": "1",
                                    "3": "1",
                                    "4": "OPEN",
                                    "5": "69736",
                                    "6": "NULL",
                                    "7": "Table_5e36fad5620b4f1c8f3eb0d9fc992bec_25",
                                    "8": "2022-07-08 14:20:27.153"
                                },
                                {
                                    "0": "FactFinance100m",
                                    "1": "2",
                                    "2": "1",
                                    "3": "1",
                                    "4": "OPEN",
                                    "5": "69736",
                                    "6": "NULL",
                                    "7": "Table_5e36fad5620b4f1c8f3eb0d9fc992bec_26",
                                    "8": "2022-07-08 14:20:32.027"
                                },
                                {
                                    "0": "FactFinance100m",
                                    "1": "2",
                                    "2": "1",
                                    "3": "1",
                                    "4": "OPEN",
                                    "5": "69736",
                                    "6": "NULL",
                                    "7": "Table_5e36fad5620b4f1c8f3eb0d9fc992bec_27",
                                    "8": "2022-07-08 14:20:27.127"
                                },
                                {
                                    "0": "FactFinance100m",
                                    "1": "2",
                                    "2": "1",
                                    "3": "1",
                                    "4": "OPEN",
                                    "5": "69736",
                                    "6": "NULL",
                                    "7": "Table_5e36fad5620b4f1c8f3eb0d9fc992bec_28",
                                    "8": "2022-07-08 14:20:27.200"
                                },
                                {
                                    "0": "FactFinance100m",
                                    "1": "2",
                                    "2": "1",
                                    "3": "1",
                                    "4": "OPEN",
                                    "5": "69736",
                                    "6": "NULL",
                                    "7": "Table_5e36fad5620b4f1c8f3eb0d9fc992bec_29",
                                    "8": "2022-07-08 14:20:27.063"
                                },
                                {
                                    "0": "FactFinance100m",
                                    "1": "2",
                                    "2": "1",
                                    "3": "1",
                                    "4": "OPEN",
                                    "5": "69736",
                                    "6": "NULL",
                                    "7": "Table_5e36fad5620b4f1c8f3eb0d9fc992bec_30",
                                    "8": "2022-07-08 14:20:27.110"
                                },
                                {
                                    "0": "FactFinance100m",
                                    "1": "2",
                                    "2": "1",
                                    "3": "1",
                                    "4": "OPEN",
                                    "5": "69736",
                                    "6": "NULL",
                                    "7": "Table_5e36fad5620b4f1c8f3eb0d9fc992bec_31",
                                    "8": "2022-07-08 14:20:27.020"
                                },
                                {
                                    "0": "FactFinance100m",
                                    "1": "2",
                                    "2": "1",
                                    "3": "1",
                                    "4": "OPEN",
                                    "5": "69736",
                                    "6": "NULL",
                                    "7": "Table_5e36fad5620b4f1c8f3eb0d9fc992bec_32",
                                    "8": "2022-07-08 14:20:27.180"
                                },
                                {
                                    "0": "FactFinance100m",
                                    "1": "2",
                                    "2": "1",
                                    "3": "1",
                                    "4": "OPEN",
                                    "5": "69736",
                                    "6": "NULL",
                                    "7": "Table_5e36fad5620b4f1c8f3eb0d9fc992bec_33",
                                    "8": "2022-07-08 14:20:27.060"
                                },
                                {
                                    "0": "FactFinance100m",
                                    "1": "2",
                                    "2": "1",
                                    "3": "1",
                                    "4": "OPEN",
                                    "5": "69736",
                                    "6": "NULL",
                                    "7": "Table_5e36fad5620b4f1c8f3eb0d9fc992bec_34",
                                    "8": "2022-07-08 14:20:27.170"
                                },
                                {
                                    "0": "FactFinance100m",
                                    "1": "2",
                                    "2": "1",
                                    "3": "1",
                                    "4": "OPEN",
                                    "5": "69736",
                                    "6": "NULL",
                                    "7": "Table_5e36fad5620b4f1c8f3eb0d9fc992bec_35",
                                    "8": "2022-07-08 14:20:27.180"
                                },
                                {
                                    "0": "FactFinance100m",
                                    "1": "2",
                                    "2": "1",
                                    "3": "1",
                                    "4": "OPEN",
                                    "5": "69736",
                                    "6": "NULL",
                                    "7": "Table_5e36fad5620b4f1c8f3eb0d9fc992bec_36",
                                    "8": "2022-07-08 14:20:27.223"
                                },
                                {
                                    "0": "FactFinance100m",
                                    "1": "2",
                                    "2": "1",
                                    "3": "1",
                                    "4": "OPEN",
                                    "5": "69736",
                                    "6": "NULL",
                                    "7": "Table_5e36fad5620b4f1c8f3eb0d9fc992bec_37",
                                    "8": "2022-07-08 14:20:27.227"
                                },
                                {
                                    "0": "FactFinance100m",
                                    "1": "2",
                                    "2": "1",
                                    "3": "1",
                                    "4": "OPEN",
                                    "5": "69736",
                                    "6": "NULL",
                                    "7": "Table_5e36fad5620b4f1c8f3eb0d9fc992bec_38",
                                    "8": "2022-07-08 14:20:27.263"
                                },
                                {
                                    "0": "FactFinance100m",
                                    "1": "2",
                                    "2": "1",
                                    "3": "1",
                                    "4": "OPEN",
                                    "5": "69736",
                                    "6": "NULL",
                                    "7": "Table_5e36fad5620b4f1c8f3eb0d9fc992bec_39",
                                    "8": "2022-07-08 14:20:27.390"
                                },
                                {
                                    "0": "FactFinance100m",
                                    "1": "2",
                                    "2": "1",
                                    "3": "1",
                                    "4": "OPEN",
                                    "5": "69736",
                                    "6": "NULL",
                                    "7": "Table_5e36fad5620b4f1c8f3eb0d9fc992bec_40",
                                    "8": "2022-07-08 14:20:27.330"
                                },
                                {
                                    "0": "FactFinance100m",
                                    "1": "2",
                                    "2": "1",
                                    "3": "1",
                                    "4": "OPEN",
                                    "5": "69736",
                                    "6": "NULL",
                                    "7": "Table_5e36fad5620b4f1c8f3eb0d9fc992bec_41",
                                    "8": "2022-07-08 14:20:27.130"
                                },
                                {
                                    "0": "FactFinance100m",
                                    "1": "2",
                                    "2": "1",
                                    "3": "1",
                                    "4": "OPEN",
                                    "5": "69736",
                                    "6": "NULL",
                                    "7": "Table_5e36fad5620b4f1c8f3eb0d9fc992bec_42",
                                    "8": "2022-07-08 14:20:27.317"
                                },
                                {
                                    "0": "FactFinance100m",
                                    "1": "2",
                                    "2": "1",
                                    "3": "1",
                                    "4": "OPEN",
                                    "5": "69736",
                                    "6": "NULL",
                                    "7": "Table_5e36fad5620b4f1c8f3eb0d9fc992bec_43",
                                    "8": "2022-07-08 14:20:27.440"
                                },
                                {
                                    "0": "FactFinance100m",
                                    "1": "2",
                                    "2": "1",
                                    "3": "1",
                                    "4": "OPEN",
                                    "5": "69736",
                                    "6": "NULL",
                                    "7": "Table_5e36fad5620b4f1c8f3eb0d9fc992bec_44",
                                    "8": "2022-07-08 14:20:27.093"
                                },
                                {
                                    "0": "FactFinance100m",
                                    "1": "2",
                                    "2": "1",
                                    "3": "1",
                                    "4": "OPEN",
                                    "5": "69428",
                                    "6": "NULL",
                                    "7": "Table_5e36fad5620b4f1c8f3eb0d9fc992bec_45",
                                    "8": "2022-07-08 14:20:27.177"
                                },
                                {
                                    "0": "FactFinance100m",
                                    "1": "2",
                                    "2": "1",
                                    "3": "1",
                                    "4": "OPEN",
                                    "5": "69172",
                                    "6": "NULL",
                                    "7": "Table_5e36fad5620b4f1c8f3eb0d9fc992bec_46",
                                    "8": "2022-07-08 14:20:27.077"
                                },
                                {
                                    "0": "FactFinance100m",
                                    "1": "2",
                                    "2": "1",
                                    "3": "1",
                                    "4": "OPEN",
                                    "5": "69172",
                                    "6": "NULL",
                                    "7": "Table_5e36fad5620b4f1c8f3eb0d9fc992bec_47",
                                    "8": "2022-07-08 14:20:27.113"
                                },
                                {
                                    "0": "FactFinance100m",
                                    "1": "2",
                                    "2": "1",
                                    "3": "1",
                                    "4": "OPEN",
                                    "5": "69172",
                                    "6": "NULL",
                                    "7": "Table_5e36fad5620b4f1c8f3eb0d9fc992bec_48",
                                    "8": "2022-07-08 14:20:27.083"
                                },
                                {
                                    "0": "FactFinance100m",
                                    "1": "2",
                                    "2": "1",
                                    "3": "1",
                                    "4": "OPEN",
                                    "5": "69172",
                                    "6": "NULL",
                                    "7": "Table_5e36fad5620b4f1c8f3eb0d9fc992bec_49",
                                    "8": "2022-07-08 14:20:27.337"
                                },
                                {
                                    "0": "FactFinance100m",
                                    "1": "2",
                                    "2": "1",
                                    "3": "1",
                                    "4": "OPEN",
                                    "5": "69172",
                                    "6": "NULL",
                                    "7": "Table_5e36fad5620b4f1c8f3eb0d9fc992bec_50",
                                    "8": "2022-07-08 14:20:27.557"
                                },
                                {
                                    "0": "FactFinance100m",
                                    "1": "2",
                                    "2": "1",
                                    "3": "1",
                                    "4": "OPEN",
                                    "5": "69172",
                                    "6": "NULL",
                                    "7": "Table_5e36fad5620b4f1c8f3eb0d9fc992bec_51",
                                    "8": "2022-07-08 14:20:27.330"
                                },
                                {
                                    "0": "FactFinance100m",
                                    "1": "2",
                                    "2": "1",
                                    "3": "1",
                                    "4": "OPEN",
                                    "5": "69172",
                                    "6": "NULL",
                                    "7": "Table_5e36fad5620b4f1c8f3eb0d9fc992bec_52",
                                    "8": "2022-07-08 14:20:27.310"
                                },
                                {
                                    "0": "FactFinance100m",
                                    "1": "2",
                                    "2": "1",
                                    "3": "1",
                                    "4": "OPEN",
                                    "5": "69172",
                                    "6": "NULL",
                                    "7": "Table_5e36fad5620b4f1c8f3eb0d9fc992bec_53",
                                    "8": "2022-07-08 14:20:27.170"
                                },
                                {
                                    "0": "FactFinance100m",
                                    "1": "2",
                                    "2": "1",
                                    "3": "1",
                                    "4": "OPEN",
                                    "5": "69172",
                                    "6": "NULL",
                                    "7": "Table_5e36fad5620b4f1c8f3eb0d9fc992bec_54",
                                    "8": "2022-07-08 14:20:27.137"
                                },
                                {
                                    "0": "FactFinance100m",
                                    "1": "2",
                                    "2": "1",
                                    "3": "1",
                                    "4": "OPEN",
                                    "5": "69172",
                                    "6": "NULL",
                                    "7": "Table_5e36fad5620b4f1c8f3eb0d9fc992bec_55",
                                    "8": "2022-07-08 14:20:26.907"
                                },
                                {
                                    "0": "FactFinance100m",
                                    "1": "2",
                                    "2": "1",
                                    "3": "1",
                                    "4": "OPEN",
                                    "5": "69172",
                                    "6": "NULL",
                                    "7": "Table_5e36fad5620b4f1c8f3eb0d9fc992bec_56",
                                    "8": "2022-07-08 14:20:27.017"
                                },
                                {
                                    "0": "FactFinance100m",
                                    "1": "2",
                                    "2": "1",
                                    "3": "1",
                                    "4": "OPEN",
                                    "5": "69172",
                                    "6": "NULL",
                                    "7": "Table_5e36fad5620b4f1c8f3eb0d9fc992bec_57",
                                    "8": "2022-07-08 14:20:27.333"
                                },
                                {
                                    "0": "FactFinance100m",
                                    "1": "2",
                                    "2": "1",
                                    "3": "1",
                                    "4": "OPEN",
                                    "5": "69172",
                                    "6": "NULL",
                                    "7": "Table_5e36fad5620b4f1c8f3eb0d9fc992bec_58",
                                    "8": "2022-07-08 14:20:27.117"
                                },
                                {
                                    "0": "FactFinance100m",
                                    "1": "2",
                                    "2": "1",
                                    "3": "1",
                                    "4": "OPEN",
                                    "5": "69172",
                                    "6": "NULL",
                                    "7": "Table_5e36fad5620b4f1c8f3eb0d9fc992bec_59",
                                    "8": "2022-07-08 14:20:27.187"
                                },
                                {
                                    "0": "FactFinance100m",
                                    "1": "2",
                                    "2": "1",
                                    "3": "1",
                                    "4": "OPEN",
                                    "5": "69172",
                                    "6": "NULL",
                                    "7": "Table_5e36fad5620b4f1c8f3eb0d9fc992bec_60",
                                    "8": "2022-07-08 14:20:27.187"
                                },
                                {
                                    "0": "FactFinance100m",
                                    "1": "1",
                                    "2": "1",
                                    "3": "3",
                                    "4": "COMPRESSED",
                                    "5": "1048576",
                                    "6": "NO_TRIM",
                                    "7": "Table_5e36fad5620b4f1c8f3eb0d9fc992bec_1",
                                    "8": "2022-07-08 14:20:27.087"
                                },
                                {
                                    "0": "FactFinance100m",
                                    "1": "1",
                                    "2": "1",
                                    "3": "3",
                                    "4": "COMPRESSED",
                                    "5": "1048576",
                                    "6": "NO_TRIM",
                                    "7": "Table_5e36fad5620b4f1c8f3eb0d9fc992bec_2",
                                    "8": "2022-07-08 14:20:27.043"
                                },
                                {
                                    "0": "FactFinance100m",
                                    "1": "1",
                                    "2": "1",
                                    "3": "3",
                                    "4": "COMPRESSED",
                                    "5": "1048576",
                                    "6": "NO_TRIM",
                                    "7": "Table_5e36fad5620b4f1c8f3eb0d9fc992bec_3",
                                    "8": "2022-07-08 14:20:27.020"
                                },
                                {
                                    "0": "FactFinance100m",
                                    "1": "1",
                                    "2": "1",
                                    "3": "3",
                                    "4": "COMPRESSED",
                                    "5": "1048576",
                                    "6": "NO_TRIM",
                                    "7": "Table_5e36fad5620b4f1c8f3eb0d9fc992bec_4",
                                    "8": "2022-07-08 14:20:26.830"
                                },
                                {
                                    "0": "FactFinance100m",
                                    "1": "1",
                                    "2": "1",
                                    "3": "3",
                                    "4": "COMPRESSED",
                                    "5": "1048576",
                                    "6": "NO_TRIM",
                                    "7": "Table_5e36fad5620b4f1c8f3eb0d9fc992bec_5",
                                    "8": "2022-07-08 14:20:26.940"
                                },
                                {
                                    "0": "FactFinance100m",
                                    "1": "1",
                                    "2": "1",
                                    "3": "3",
                                    "4": "COMPRESSED",
                                    "5": "1048576",
                                    "6": "NO_TRIM",
                                    "7": "Table_5e36fad5620b4f1c8f3eb0d9fc992bec_6",
                                    "8": "2022-07-08 14:20:27.073"
                                },
                                {
                                    "0": "FactFinance100m",
                                    "1": "1",
                                    "2": "1",
                                    "3": "3",
                                    "4": "COMPRESSED",
                                    "5": "1048576",
                                    "6": "NO_TRIM",
                                    "7": "Table_5e36fad5620b4f1c8f3eb0d9fc992bec_7",
                                    "8": "2022-07-08 14:20:26.947"
                                },
                                {
                                    "0": "FactFinance100m",
                                    "1": "1",
                                    "2": "1",
                                    "3": "3",
                                    "4": "COMPRESSED",
                                    "5": "1048576",
                                    "6": "NO_TRIM",
                                    "7": "Table_5e36fad5620b4f1c8f3eb0d9fc992bec_8",
                                    "8": "2022-07-08 14:20:27.003"
                                },
                                {
                                    "0": "FactFinance100m",
                                    "1": "1",
                                    "2": "1",
                                    "3": "3",
                                    "4": "COMPRESSED",
                                    "5": "1048576",
                                    "6": "NO_TRIM",
                                    "7": "Table_5e36fad5620b4f1c8f3eb0d9fc992bec_9",
                                    "8": "2022-07-08 14:20:26.820"
                                },
                                {
                                    "0": "FactFinance100m",
                                    "1": "1",
                                    "2": "1",
                                    "3": "3",
                                    "4": "COMPRESSED",
                                    "5": "1048576",
                                    "6": "NO_TRIM",
                                    "7": "Table_5e36fad5620b4f1c8f3eb0d9fc992bec_10",
                                    "8": "2022-07-08 14:20:26.990"
                                },
                                {
                                    "0": "FactFinance100m",
                                    "1": "1",
                                    "2": "1",
                                    "3": "3",
                                    "4": "COMPRESSED",
                                    "5": "1048576",
                                    "6": "NO_TRIM",
                                    "7": "Table_5e36fad5620b4f1c8f3eb0d9fc992bec_11",
                                    "8": "2022-07-08 14:20:26.943"
                                },
                                {
                                    "0": "FactFinance100m",
                                    "1": "1",
                                    "2": "1",
                                    "3": "3",
                                    "4": "COMPRESSED",
                                    "5": "1048576",
                                    "6": "NO_TRIM",
                                    "7": "Table_5e36fad5620b4f1c8f3eb0d9fc992bec_12",
                                    "8": "2022-07-08 14:20:26.907"
                                },
                                {
                                    "0": "FactFinance100m",
                                    "1": "1",
                                    "2": "1",
                                    "3": "3",
                                    "4": "COMPRESSED",
                                    "5": "1048576",
                                    "6": "NO_TRIM",
                                    "7": "Table_5e36fad5620b4f1c8f3eb0d9fc992bec_13",
                                    "8": "2022-07-08 14:20:26.970"
                                },
                                {
                                    "0": "FactFinance100m",
                                    "1": "1",
                                    "2": "1",
                                    "3": "3",
                                    "4": "COMPRESSED",
                                    "5": "1048576",
                                    "6": "NO_TRIM",
                                    "7": "Table_5e36fad5620b4f1c8f3eb0d9fc992bec_14",
                                    "8": "2022-07-08 14:20:26.800"
                                },
                                {
                                    "0": "FactFinance100m",
                                    "1": "1",
                                    "2": "1",
                                    "3": "3",
                                    "4": "COMPRESSED",
                                    "5": "1048576",
                                    "6": "NO_TRIM",
                                    "7": "Table_5e36fad5620b4f1c8f3eb0d9fc992bec_15",
                                    "8": "2022-07-08 14:20:27.023"
                                },
                                {
                                    "0": "FactFinance100m",
                                    "1": "1",
                                    "2": "1",
                                    "3": "3",
                                    "4": "COMPRESSED",
                                    "5": "1048576",
                                    "6": "NO_TRIM",
                                    "7": "Table_5e36fad5620b4f1c8f3eb0d9fc992bec_16",
                                    "8": "2022-07-08 14:20:26.863"
                                },
                                {
                                    "0": "FactFinance100m",
                                    "1": "1",
                                    "2": "1",
                                    "3": "3",
                                    "4": "COMPRESSED",
                                    "5": "1048576",
                                    "6": "NO_TRIM",
                                    "7": "Table_5e36fad5620b4f1c8f3eb0d9fc992bec_17",
                                    "8": "2022-07-08 14:20:27.060"
                                },
                                {
                                    "0": "FactFinance100m",
                                    "1": "1",
                                    "2": "1",
                                    "3": "3",
                                    "4": "COMPRESSED",
                                    "5": "1048576",
                                    "6": "NO_TRIM",
                                    "7": "Table_5e36fad5620b4f1c8f3eb0d9fc992bec_18",
                                    "8": "2022-07-08 14:20:26.987"
                                },
                                {
                                    "0": "FactFinance100m",
                                    "1": "1",
                                    "2": "1",
                                    "3": "3",
                                    "4": "COMPRESSED",
                                    "5": "1048576",
                                    "6": "NO_TRIM",
                                    "7": "Table_5e36fad5620b4f1c8f3eb0d9fc992bec_19",
                                    "8": "2022-07-08 14:20:31.737"
                                },
                                {
                                    "0": "FactFinance100m",
                                    "1": "1",
                                    "2": "1",
                                    "3": "3",
                                    "4": "COMPRESSED",
                                    "5": "1048576",
                                    "6": "NO_TRIM",
                                    "7": "Table_5e36fad5620b4f1c8f3eb0d9fc992bec_20",
                                    "8": "2022-07-08 14:20:26.923"
                                },
                                {
                                    "0": "FactFinance100m",
                                    "1": "1",
                                    "2": "1",
                                    "3": "3",
                                    "4": "COMPRESSED",
                                    "5": "1048576",
                                    "6": "NO_TRIM",
                                    "7": "Table_5e36fad5620b4f1c8f3eb0d9fc992bec_21",
                                    "8": "2022-07-08 14:20:27.020"
                                },
                                {
                                    "0": "FactFinance100m",
                                    "1": "1",
                                    "2": "1",
                                    "3": "3",
                                    "4": "COMPRESSED",
                                    "5": "1048576",
                                    "6": "NO_TRIM",
                                    "7": "Table_5e36fad5620b4f1c8f3eb0d9fc992bec_22",
                                    "8": "2022-07-08 14:20:27.117"
                                },
                                {
                                    "0": "FactFinance100m",
                                    "1": "1",
                                    "2": "1",
                                    "3": "3",
                                    "4": "COMPRESSED",
                                    "5": "1048576",
                                    "6": "NO_TRIM",
                                    "7": "Table_5e36fad5620b4f1c8f3eb0d9fc992bec_23",
                                    "8": "2022-07-08 14:20:26.920"
                                },
                                {
                                    "0": "FactFinance100m",
                                    "1": "1",
                                    "2": "1",
                                    "3": "3",
                                    "4": "COMPRESSED",
                                    "5": "1048576",
                                    "6": "NO_TRIM",
                                    "7": "Table_5e36fad5620b4f1c8f3eb0d9fc992bec_24",
                                    "8": "2022-07-08 14:20:26.860"
                                },
                                {
                                    "0": "FactFinance100m",
                                    "1": "1",
                                    "2": "1",
                                    "3": "3",
                                    "4": "COMPRESSED",
                                    "5": "1048576",
                                    "6": "NO_TRIM",
                                    "7": "Table_5e36fad5620b4f1c8f3eb0d9fc992bec_25",
                                    "8": "2022-07-08 14:20:26.973"
                                },
                                {
                                    "0": "FactFinance100m",
                                    "1": "1",
                                    "2": "1",
                                    "3": "3",
                                    "4": "COMPRESSED",
                                    "5": "1048576",
                                    "6": "NO_TRIM",
                                    "7": "Table_5e36fad5620b4f1c8f3eb0d9fc992bec_26",
                                    "8": "2022-07-08 14:20:31.790"
                                },
                                {
                                    "0": "FactFinance100m",
                                    "1": "1",
                                    "2": "1",
                                    "3": "3",
                                    "4": "COMPRESSED",
                                    "5": "1048576",
                                    "6": "NO_TRIM",
                                    "7": "Table_5e36fad5620b4f1c8f3eb0d9fc992bec_27",
                                    "8": "2022-07-08 14:20:26.953"
                                },
                                {
                                    "0": "FactFinance100m",
                                    "1": "1",
                                    "2": "1",
                                    "3": "3",
                                    "4": "COMPRESSED",
                                    "5": "1048576",
                                    "6": "NO_TRIM",
                                    "7": "Table_5e36fad5620b4f1c8f3eb0d9fc992bec_28",
                                    "8": "2022-07-08 14:20:27.023"
                                },
                                {
                                    "0": "FactFinance100m",
                                    "1": "1",
                                    "2": "1",
                                    "3": "3",
                                    "4": "COMPRESSED",
                                    "5": "1048576",
                                    "6": "NO_TRIM",
                                    "7": "Table_5e36fad5620b4f1c8f3eb0d9fc992bec_29",
                                    "8": "2022-07-08 14:20:26.890"
                                },
                                {
                                    "0": "FactFinance100m",
                                    "1": "1",
                                    "2": "1",
                                    "3": "3",
                                    "4": "COMPRESSED",
                                    "5": "1048576",
                                    "6": "NO_TRIM",
                                    "7": "Table_5e36fad5620b4f1c8f3eb0d9fc992bec_30",
                                    "8": "2022-07-08 14:20:26.933"
                                },
                                {
                                    "0": "FactFinance100m",
                                    "1": "1",
                                    "2": "1",
                                    "3": "3",
                                    "4": "COMPRESSED",
                                    "5": "1048576",
                                    "6": "NO_TRIM",
                                    "7": "Table_5e36fad5620b4f1c8f3eb0d9fc992bec_31",
                                    "8": "2022-07-08 14:20:26.850"
                                },
                                {
                                    "0": "FactFinance100m",
                                    "1": "1",
                                    "2": "1",
                                    "3": "3",
                                    "4": "COMPRESSED",
                                    "5": "1048576",
                                    "6": "NO_TRIM",
                                    "7": "Table_5e36fad5620b4f1c8f3eb0d9fc992bec_32",
                                    "8": "2022-07-08 14:20:26.997"
                                },
                                {
                                    "0": "FactFinance100m",
                                    "1": "1",
                                    "2": "1",
                                    "3": "3",
                                    "4": "COMPRESSED",
                                    "5": "1048576",
                                    "6": "NO_TRIM",
                                    "7": "Table_5e36fad5620b4f1c8f3eb0d9fc992bec_33",
                                    "8": "2022-07-08 14:20:26.880"
                                },
                                {
                                    "0": "FactFinance100m",
                                    "1": "1",
                                    "2": "1",
                                    "3": "3",
                                    "4": "COMPRESSED",
                                    "5": "1048576",
                                    "6": "NO_TRIM",
                                    "7": "Table_5e36fad5620b4f1c8f3eb0d9fc992bec_34",
                                    "8": "2022-07-08 14:20:26.967"
                                },
                                {
                                    "0": "FactFinance100m",
                                    "1": "1",
                                    "2": "1",
                                    "3": "3",
                                    "4": "COMPRESSED",
                                    "5": "1048576",
                                    "6": "NO_TRIM",
                                    "7": "Table_5e36fad5620b4f1c8f3eb0d9fc992bec_35",
                                    "8": "2022-07-08 14:20:26.993"
                                },
                                {
                                    "0": "FactFinance100m",
                                    "1": "1",
                                    "2": "1",
                                    "3": "3",
                                    "4": "COMPRESSED",
                                    "5": "1048576",
                                    "6": "NO_TRIM",
                                    "7": "Table_5e36fad5620b4f1c8f3eb0d9fc992bec_36",
                                    "8": "2022-07-08 14:20:27.050"
                                },
                                {
                                    "0": "FactFinance100m",
                                    "1": "1",
                                    "2": "1",
                                    "3": "3",
                                    "4": "COMPRESSED",
                                    "5": "1048576",
                                    "6": "NO_TRIM",
                                    "7": "Table_5e36fad5620b4f1c8f3eb0d9fc992bec_37",
                                    "8": "2022-07-08 14:20:27.053"
                                },
                                {
                                    "0": "FactFinance100m",
                                    "1": "1",
                                    "2": "1",
                                    "3": "3",
                                    "4": "COMPRESSED",
                                    "5": "1048576",
                                    "6": "NO_TRIM",
                                    "7": "Table_5e36fad5620b4f1c8f3eb0d9fc992bec_38",
                                    "8": "2022-07-08 14:20:27.037"
                                },
                                {
                                    "0": "FactFinance100m",
                                    "1": "1",
                                    "2": "1",
                                    "3": "3",
                                    "4": "COMPRESSED",
                                    "5": "1048576",
                                    "6": "NO_TRIM",
                                    "7": "Table_5e36fad5620b4f1c8f3eb0d9fc992bec_39",
                                    "8": "2022-07-08 14:20:27.147"
                                },
                                {
                                    "0": "FactFinance100m",
                                    "1": "1",
                                    "2": "1",
                                    "3": "3",
                                    "4": "COMPRESSED",
                                    "5": "1048576",
                                    "6": "NO_TRIM",
                                    "7": "Table_5e36fad5620b4f1c8f3eb0d9fc992bec_40",
                                    "8": "2022-07-08 14:20:27.107"
                                },
                                {
                                    "0": "FactFinance100m",
                                    "1": "1",
                                    "2": "1",
                                    "3": "3",
                                    "4": "COMPRESSED",
                                    "5": "1048576",
                                    "6": "NO_TRIM",
                                    "7": "Table_5e36fad5620b4f1c8f3eb0d9fc992bec_41",
                                    "8": "2022-07-08 14:20:26.957"
                                },
                                {
                                    "0": "FactFinance100m",
                                    "1": "1",
                                    "2": "1",
                                    "3": "3",
                                    "4": "COMPRESSED",
                                    "5": "1048576",
                                    "6": "NO_TRIM",
                                    "7": "Table_5e36fad5620b4f1c8f3eb0d9fc992bec_42",
                                    "8": "2022-07-08 14:20:27.123"
                                },
                                {
                                    "0": "FactFinance100m",
                                    "1": "1",
                                    "2": "1",
                                    "3": "3",
                                    "4": "COMPRESSED",
                                    "5": "1048576",
                                    "6": "NO_TRIM",
                                    "7": "Table_5e36fad5620b4f1c8f3eb0d9fc992bec_43",
                                    "8": "2022-07-08 14:20:27.233"
                                },
                                {
                                    "0": "FactFinance100m",
                                    "1": "1",
                                    "2": "1",
                                    "3": "3",
                                    "4": "COMPRESSED",
                                    "5": "1048576",
                                    "6": "NO_TRIM",
                                    "7": "Table_5e36fad5620b4f1c8f3eb0d9fc992bec_44",
                                    "8": "2022-07-08 14:20:26.920"
                                },
                                {
                                    "0": "FactFinance100m",
                                    "1": "1",
                                    "2": "1",
                                    "3": "3",
                                    "4": "COMPRESSED",
                                    "5": "1048576",
                                    "6": "NO_TRIM",
                                    "7": "Table_5e36fad5620b4f1c8f3eb0d9fc992bec_45",
                                    "8": "2022-07-08 14:20:26.993"
                                },
                                {
                                    "0": "FactFinance100m",
                                    "1": "1",
                                    "2": "1",
                                    "3": "3",
                                    "4": "COMPRESSED",
                                    "5": "1048576",
                                    "6": "NO_TRIM",
                                    "7": "Table_5e36fad5620b4f1c8f3eb0d9fc992bec_46",
                                    "8": "2022-07-08 14:20:26.900"
                                },
                                {
                                    "0": "FactFinance100m",
                                    "1": "1",
                                    "2": "1",
                                    "3": "3",
                                    "4": "COMPRESSED",
                                    "5": "1048576",
                                    "6": "NO_TRIM",
                                    "7": "Table_5e36fad5620b4f1c8f3eb0d9fc992bec_47",
                                    "8": "2022-07-08 14:20:26.930"
                                },
                                {
                                    "0": "FactFinance100m",
                                    "1": "1",
                                    "2": "1",
                                    "3": "3",
                                    "4": "COMPRESSED",
                                    "5": "1048576",
                                    "6": "NO_TRIM",
                                    "7": "Table_5e36fad5620b4f1c8f3eb0d9fc992bec_48",
                                    "8": "2022-07-08 14:20:26.910"
                                },
                                {
                                    "0": "FactFinance100m",
                                    "1": "1",
                                    "2": "1",
                                    "3": "3",
                                    "4": "COMPRESSED",
                                    "5": "1048576",
                                    "6": "NO_TRIM",
                                    "7": "Table_5e36fad5620b4f1c8f3eb0d9fc992bec_49",
                                    "8": "2022-07-08 14:20:27.103"
                                },
                                {
                                    "0": "FactFinance100m",
                                    "1": "1",
                                    "2": "1",
                                    "3": "3",
                                    "4": "COMPRESSED",
                                    "5": "1048576",
                                    "6": "NO_TRIM",
                                    "7": "Table_5e36fad5620b4f1c8f3eb0d9fc992bec_50",
                                    "8": "2022-07-08 14:20:27.357"
                                },
                                {
                                    "0": "FactFinance100m",
                                    "1": "1",
                                    "2": "1",
                                    "3": "3",
                                    "4": "COMPRESSED",
                                    "5": "1048576",
                                    "6": "NO_TRIM",
                                    "7": "Table_5e36fad5620b4f1c8f3eb0d9fc992bec_51",
                                    "8": "2022-07-08 14:20:27.103"
                                },
                                {
                                    "0": "FactFinance100m",
                                    "1": "1",
                                    "2": "1",
                                    "3": "3",
                                    "4": "COMPRESSED",
                                    "5": "1048576",
                                    "6": "NO_TRIM",
                                    "7": "Table_5e36fad5620b4f1c8f3eb0d9fc992bec_52",
                                    "8": "2022-07-08 14:20:27.067"
                                },
                                {
                                    "0": "FactFinance100m",
                                    "1": "1",
                                    "2": "1",
                                    "3": "3",
                                    "4": "COMPRESSED",
                                    "5": "1048576",
                                    "6": "NO_TRIM",
                                    "7": "Table_5e36fad5620b4f1c8f3eb0d9fc992bec_53",
                                    "8": "2022-07-08 14:20:26.993"
                                },
                                {
                                    "0": "FactFinance100m",
                                    "1": "1",
                                    "2": "1",
                                    "3": "3",
                                    "4": "COMPRESSED",
                                    "5": "1048576",
                                    "6": "NO_TRIM",
                                    "7": "Table_5e36fad5620b4f1c8f3eb0d9fc992bec_54",
                                    "8": "2022-07-08 14:20:26.963"
                                },
                                {
                                    "0": "FactFinance100m",
                                    "1": "1",
                                    "2": "1",
                                    "3": "3",
                                    "4": "COMPRESSED",
                                    "5": "1048576",
                                    "6": "NO_TRIM",
                                    "7": "Table_5e36fad5620b4f1c8f3eb0d9fc992bec_55",
                                    "8": "2022-07-08 14:20:26.730"
                                },
                                {
                                    "0": "FactFinance100m",
                                    "1": "1",
                                    "2": "1",
                                    "3": "3",
                                    "4": "COMPRESSED",
                                    "5": "1048576",
                                    "6": "NO_TRIM",
                                    "7": "Table_5e36fad5620b4f1c8f3eb0d9fc992bec_56",
                                    "8": "2022-07-08 14:20:26.837"
                                },
                                {
                                    "0": "FactFinance100m",
                                    "1": "1",
                                    "2": "1",
                                    "3": "3",
                                    "4": "COMPRESSED",
                                    "5": "1048576",
                                    "6": "NO_TRIM",
                                    "7": "Table_5e36fad5620b4f1c8f3eb0d9fc992bec_57",
                                    "8": "2022-07-08 14:20:27.080"
                                },
                                {
                                    "0": "FactFinance100m",
                                    "1": "1",
                                    "2": "1",
                                    "3": "3",
                                    "4": "COMPRESSED",
                                    "5": "1048576",
                                    "6": "NO_TRIM",
                                    "7": "Table_5e36fad5620b4f1c8f3eb0d9fc992bec_58",
                                    "8": "2022-07-08 14:20:26.943"
                                },
                                {
                                    "0": "FactFinance100m",
                                    "1": "1",
                                    "2": "1",
                                    "3": "3",
                                    "4": "COMPRESSED",
                                    "5": "1048576",
                                    "6": "NO_TRIM",
                                    "7": "Table_5e36fad5620b4f1c8f3eb0d9fc992bec_59",
                                    "8": "2022-07-08 14:20:27.000"
                                },
                                {
                                    "0": "FactFinance100m",
                                    "1": "1",
                                    "2": "1",
                                    "3": "3",
                                    "4": "COMPRESSED",
                                    "5": "1048576",
                                    "6": "NO_TRIM",
                                    "7": "Table_5e36fad5620b4f1c8f3eb0d9fc992bec_60",
                                    "8": "2022-07-08 14:20:26.997"
                                },
                                {
                                    "0": "FactFinance100m",
                                    "1": "0",
                                    "2": "1",
                                    "3": "3",
                                    "4": "COMPRESSED",
                                    "5": "1048576",
                                    "6": "NO_TRIM",
                                    "7": "Table_5e36fad5620b4f1c8f3eb0d9fc992bec_1",
                                    "8": "2022-07-08 14:20:23.740"
                                },
                                {
                                    "0": "FactFinance100m",
                                    "1": "0",
                                    "2": "1",
                                    "3": "3",
                                    "4": "COMPRESSED",
                                    "5": "1048576",
                                    "6": "NO_TRIM",
                                    "7": "Table_5e36fad5620b4f1c8f3eb0d9fc992bec_2",
                                    "8": "2022-07-08 14:20:23.707"
                                },
                                {
                                    "0": "FactFinance100m",
                                    "1": "0",
                                    "2": "1",
                                    "3": "3",
                                    "4": "COMPRESSED",
                                    "5": "1048576",
                                    "6": "NO_TRIM",
                                    "7": "Table_5e36fad5620b4f1c8f3eb0d9fc992bec_3",
                                    "8": "2022-07-08 14:20:23.670"
                                },
                                {
                                    "0": "FactFinance100m",
                                    "1": "0",
                                    "2": "1",
                                    "3": "3",
                                    "4": "COMPRESSED",
                                    "5": "1048576",
                                    "6": "NO_TRIM",
                                    "7": "Table_5e36fad5620b4f1c8f3eb0d9fc992bec_4",
                                    "8": "2022-07-08 14:20:23.547"
                                },
                                {
                                    "0": "FactFinance100m",
                                    "1": "0",
                                    "2": "1",
                                    "3": "3",
                                    "4": "COMPRESSED",
                                    "5": "1048576",
                                    "6": "NO_TRIM",
                                    "7": "Table_5e36fad5620b4f1c8f3eb0d9fc992bec_5",
                                    "8": "2022-07-08 14:20:23.610"
                                },
                                {
                                    "0": "FactFinance100m",
                                    "1": "0",
                                    "2": "1",
                                    "3": "3",
                                    "4": "COMPRESSED",
                                    "5": "1048576",
                                    "6": "NO_TRIM",
                                    "7": "Table_5e36fad5620b4f1c8f3eb0d9fc992bec_6",
                                    "8": "2022-07-08 14:20:23.703"
                                },
                                {
                                    "0": "FactFinance100m",
                                    "1": "0",
                                    "2": "1",
                                    "3": "3",
                                    "4": "COMPRESSED",
                                    "5": "1048576",
                                    "6": "NO_TRIM",
                                    "7": "Table_5e36fad5620b4f1c8f3eb0d9fc992bec_7",
                                    "8": "2022-07-08 14:20:23.607"
                                },
                                {
                                    "0": "FactFinance100m",
                                    "1": "0",
                                    "2": "1",
                                    "3": "3",
                                    "4": "COMPRESSED",
                                    "5": "1048576",
                                    "6": "NO_TRIM",
                                    "7": "Table_5e36fad5620b4f1c8f3eb0d9fc992bec_8",
                                    "8": "2022-07-08 14:20:23.663"
                                },
                                {
                                    "0": "FactFinance100m",
                                    "1": "0",
                                    "2": "1",
                                    "3": "3",
                                    "4": "COMPRESSED",
                                    "5": "1048576",
                                    "6": "NO_TRIM",
                                    "7": "Table_5e36fad5620b4f1c8f3eb0d9fc992bec_9",
                                    "8": "2022-07-08 14:20:23.523"
                                },
                                {
                                    "0": "FactFinance100m",
                                    "1": "0",
                                    "2": "1",
                                    "3": "3",
                                    "4": "COMPRESSED",
                                    "5": "1048576",
                                    "6": "NO_TRIM",
                                    "7": "Table_5e36fad5620b4f1c8f3eb0d9fc992bec_10",
                                    "8": "2022-07-08 14:20:23.663"
                                },
                                {
                                    "0": "FactFinance100m",
                                    "1": "0",
                                    "2": "1",
                                    "3": "3",
                                    "4": "COMPRESSED",
                                    "5": "1048576",
                                    "6": "NO_TRIM",
                                    "7": "Table_5e36fad5620b4f1c8f3eb0d9fc992bec_11",
                                    "8": "2022-07-08 14:20:23.613"
                                },
                                {
                                    "0": "FactFinance100m",
                                    "1": "0",
                                    "2": "1",
                                    "3": "3",
                                    "4": "COMPRESSED",
                                    "5": "1048576",
                                    "6": "NO_TRIM",
                                    "7": "Table_5e36fad5620b4f1c8f3eb0d9fc992bec_12",
                                    "8": "2022-07-08 14:20:23.590"
                                },
                                {
                                    "0": "FactFinance100m",
                                    "1": "0",
                                    "2": "1",
                                    "3": "3",
                                    "4": "COMPRESSED",
                                    "5": "1048576",
                                    "6": "NO_TRIM",
                                    "7": "Table_5e36fad5620b4f1c8f3eb0d9fc992bec_13",
                                    "8": "2022-07-08 14:20:23.573"
                                },
                                {
                                    "0": "FactFinance100m",
                                    "1": "0",
                                    "2": "1",
                                    "3": "3",
                                    "4": "COMPRESSED",
                                    "5": "1048576",
                                    "6": "NO_TRIM",
                                    "7": "Table_5e36fad5620b4f1c8f3eb0d9fc992bec_14",
                                    "8": "2022-07-08 14:20:23.533"
                                },
                                {
                                    "0": "FactFinance100m",
                                    "1": "0",
                                    "2": "1",
                                    "3": "3",
                                    "4": "COMPRESSED",
                                    "5": "1048576",
                                    "6": "NO_TRIM",
                                    "7": "Table_5e36fad5620b4f1c8f3eb0d9fc992bec_15",
                                    "8": "2022-07-08 14:20:23.663"
                                },
                                {
                                    "0": "FactFinance100m",
                                    "1": "0",
                                    "2": "1",
                                    "3": "3",
                                    "4": "COMPRESSED",
                                    "5": "1048576",
                                    "6": "NO_TRIM",
                                    "7": "Table_5e36fad5620b4f1c8f3eb0d9fc992bec_16",
                                    "8": "2022-07-08 14:20:23.563"
                                },
                                {
                                    "0": "FactFinance100m",
                                    "1": "0",
                                    "2": "1",
                                    "3": "3",
                                    "4": "COMPRESSED",
                                    "5": "1048576",
                                    "6": "NO_TRIM",
                                    "7": "Table_5e36fad5620b4f1c8f3eb0d9fc992bec_17",
                                    "8": "2022-07-08 14:20:23.700"
                                },
                                {
                                    "0": "FactFinance100m",
                                    "1": "0",
                                    "2": "1",
                                    "3": "3",
                                    "4": "COMPRESSED",
                                    "5": "1048576",
                                    "6": "NO_TRIM",
                                    "7": "Table_5e36fad5620b4f1c8f3eb0d9fc992bec_18",
                                    "8": "2022-07-08 14:20:23.663"
                                },
                                {
                                    "0": "FactFinance100m",
                                    "1": "0",
                                    "2": "1",
                                    "3": "3",
                                    "4": "COMPRESSED",
                                    "5": "1048576",
                                    "6": "NO_TRIM",
                                    "7": "Table_5e36fad5620b4f1c8f3eb0d9fc992bec_19",
                                    "8": "2022-07-08 14:20:26.503"
                                },
                                {
                                    "0": "FactFinance100m",
                                    "1": "0",
                                    "2": "1",
                                    "3": "3",
                                    "4": "COMPRESSED",
                                    "5": "1048576",
                                    "6": "NO_TRIM",
                                    "7": "Table_5e36fad5620b4f1c8f3eb0d9fc992bec_20",
                                    "8": "2022-07-08 14:20:23.580"
                                },
                                {
                                    "0": "FactFinance100m",
                                    "1": "0",
                                    "2": "1",
                                    "3": "3",
                                    "4": "COMPRESSED",
                                    "5": "1048576",
                                    "6": "NO_TRIM",
                                    "7": "Table_5e36fad5620b4f1c8f3eb0d9fc992bec_21",
                                    "8": "2022-07-08 14:20:23.640"
                                },
                                {
                                    "0": "FactFinance100m",
                                    "1": "0",
                                    "2": "1",
                                    "3": "3",
                                    "4": "COMPRESSED",
                                    "5": "1048576",
                                    "6": "NO_TRIM",
                                    "7": "Table_5e36fad5620b4f1c8f3eb0d9fc992bec_22",
                                    "8": "2022-07-08 14:20:23.747"
                                },
                                {
                                    "0": "FactFinance100m",
                                    "1": "0",
                                    "2": "1",
                                    "3": "3",
                                    "4": "COMPRESSED",
                                    "5": "1048576",
                                    "6": "NO_TRIM",
                                    "7": "Table_5e36fad5620b4f1c8f3eb0d9fc992bec_23",
                                    "8": "2022-07-08 14:20:23.603"
                                },
                                {
                                    "0": "FactFinance100m",
                                    "1": "0",
                                    "2": "1",
                                    "3": "3",
                                    "4": "COMPRESSED",
                                    "5": "1048576",
                                    "6": "NO_TRIM",
                                    "7": "Table_5e36fad5620b4f1c8f3eb0d9fc992bec_24",
                                    "8": "2022-07-08 14:20:23.540"
                                },
                                {
                                    "0": "FactFinance100m",
                                    "1": "0",
                                    "2": "1",
                                    "3": "3",
                                    "4": "COMPRESSED",
                                    "5": "1048576",
                                    "6": "NO_TRIM",
                                    "7": "Table_5e36fad5620b4f1c8f3eb0d9fc992bec_25",
                                    "8": "2022-07-08 14:20:23.570"
                                },
                                {
                                    "0": "FactFinance100m",
                                    "1": "0",
                                    "2": "1",
                                    "3": "3",
                                    "4": "COMPRESSED",
                                    "5": "1048576",
                                    "6": "NO_TRIM",
                                    "7": "Table_5e36fad5620b4f1c8f3eb0d9fc992bec_26",
                                    "8": "2022-07-08 14:20:26.553"
                                },
                                {
                                    "0": "FactFinance100m",
                                    "1": "0",
                                    "2": "1",
                                    "3": "3",
                                    "4": "COMPRESSED",
                                    "5": "1048576",
                                    "6": "NO_TRIM",
                                    "7": "Table_5e36fad5620b4f1c8f3eb0d9fc992bec_27",
                                    "8": "2022-07-08 14:20:23.617"
                                },
                                {
                                    "0": "FactFinance100m",
                                    "1": "0",
                                    "2": "1",
                                    "3": "3",
                                    "4": "COMPRESSED",
                                    "5": "1048576",
                                    "6": "NO_TRIM",
                                    "7": "Table_5e36fad5620b4f1c8f3eb0d9fc992bec_28",
                                    "8": "2022-07-08 14:20:23.687"
                                },
                                {
                                    "0": "FactFinance100m",
                                    "1": "0",
                                    "2": "1",
                                    "3": "3",
                                    "4": "COMPRESSED",
                                    "5": "1048576",
                                    "6": "NO_TRIM",
                                    "7": "Table_5e36fad5620b4f1c8f3eb0d9fc992bec_29",
                                    "8": "2022-07-08 14:20:23.553"
                                },
                                {
                                    "0": "FactFinance100m",
                                    "1": "0",
                                    "2": "1",
                                    "3": "3",
                                    "4": "COMPRESSED",
                                    "5": "1048576",
                                    "6": "NO_TRIM",
                                    "7": "Table_5e36fad5620b4f1c8f3eb0d9fc992bec_30",
                                    "8": "2022-07-08 14:20:23.553"
                                },
                                {
                                    "0": "FactFinance100m",
                                    "1": "0",
                                    "2": "1",
                                    "3": "3",
                                    "4": "COMPRESSED",
                                    "5": "1048576",
                                    "6": "NO_TRIM",
                                    "7": "Table_5e36fad5620b4f1c8f3eb0d9fc992bec_31",
                                    "8": "2022-07-08 14:20:23.520"
                                },
                                {
                                    "0": "FactFinance100m",
                                    "1": "0",
                                    "2": "1",
                                    "3": "3",
                                    "4": "COMPRESSED",
                                    "5": "1048576",
                                    "6": "NO_TRIM",
                                    "7": "Table_5e36fad5620b4f1c8f3eb0d9fc992bec_32",
                                    "8": "2022-07-08 14:20:23.587"
                                },
                                {
                                    "0": "FactFinance100m",
                                    "1": "0",
                                    "2": "1",
                                    "3": "3",
                                    "4": "COMPRESSED",
                                    "5": "1048576",
                                    "6": "NO_TRIM",
                                    "7": "Table_5e36fad5620b4f1c8f3eb0d9fc992bec_33",
                                    "8": "2022-07-08 14:20:23.510"
                                },
                                {
                                    "0": "FactFinance100m",
                                    "1": "0",
                                    "2": "1",
                                    "3": "3",
                                    "4": "COMPRESSED",
                                    "5": "1048576",
                                    "6": "NO_TRIM",
                                    "7": "Table_5e36fad5620b4f1c8f3eb0d9fc992bec_34",
                                    "8": "2022-07-08 14:20:23.623"
                                },
                                {
                                    "0": "FactFinance100m",
                                    "1": "0",
                                    "2": "1",
                                    "3": "3",
                                    "4": "COMPRESSED",
                                    "5": "1048576",
                                    "6": "NO_TRIM",
                                    "7": "Table_5e36fad5620b4f1c8f3eb0d9fc992bec_35",
                                    "8": "2022-07-08 14:20:23.610"
                                },
                                {
                                    "0": "FactFinance100m",
                                    "1": "0",
                                    "2": "1",
                                    "3": "3",
                                    "4": "COMPRESSED",
                                    "5": "1048576",
                                    "6": "NO_TRIM",
                                    "7": "Table_5e36fad5620b4f1c8f3eb0d9fc992bec_36",
                                    "8": "2022-07-08 14:20:23.650"
                                },
                                {
                                    "0": "FactFinance100m",
                                    "1": "0",
                                    "2": "1",
                                    "3": "3",
                                    "4": "COMPRESSED",
                                    "5": "1048576",
                                    "6": "NO_TRIM",
                                    "7": "Table_5e36fad5620b4f1c8f3eb0d9fc992bec_37",
                                    "8": "2022-07-08 14:20:23.583"
                                },
                                {
                                    "0": "FactFinance100m",
                                    "1": "0",
                                    "2": "1",
                                    "3": "3",
                                    "4": "COMPRESSED",
                                    "5": "1048576",
                                    "6": "NO_TRIM",
                                    "7": "Table_5e36fad5620b4f1c8f3eb0d9fc992bec_38",
                                    "8": "2022-07-08 14:20:23.670"
                                },
                                {
                                    "0": "FactFinance100m",
                                    "1": "0",
                                    "2": "1",
                                    "3": "3",
                                    "4": "COMPRESSED",
                                    "5": "1048576",
                                    "6": "NO_TRIM",
                                    "7": "Table_5e36fad5620b4f1c8f3eb0d9fc992bec_39",
                                    "8": "2022-07-08 14:20:23.720"
                                },
                                {
                                    "0": "FactFinance100m",
                                    "1": "0",
                                    "2": "1",
                                    "3": "3",
                                    "4": "COMPRESSED",
                                    "5": "1048576",
                                    "6": "NO_TRIM",
                                    "7": "Table_5e36fad5620b4f1c8f3eb0d9fc992bec_40",
                                    "8": "2022-07-08 14:20:23.663"
                                },
                                {
                                    "0": "FactFinance100m",
                                    "1": "0",
                                    "2": "1",
                                    "3": "3",
                                    "4": "COMPRESSED",
                                    "5": "1048576",
                                    "6": "NO_TRIM",
                                    "7": "Table_5e36fad5620b4f1c8f3eb0d9fc992bec_41",
                                    "8": "2022-07-08 14:20:23.600"
                                },
                                {
                                    "0": "FactFinance100m",
                                    "1": "0",
                                    "2": "1",
                                    "3": "3",
                                    "4": "COMPRESSED",
                                    "5": "1048576",
                                    "6": "NO_TRIM",
                                    "7": "Table_5e36fad5620b4f1c8f3eb0d9fc992bec_42",
                                    "8": "2022-07-08 14:20:23.680"
                                },
                                {
                                    "0": "FactFinance100m",
                                    "1": "0",
                                    "2": "1",
                                    "3": "3",
                                    "4": "COMPRESSED",
                                    "5": "1048576",
                                    "6": "NO_TRIM",
                                    "7": "Table_5e36fad5620b4f1c8f3eb0d9fc992bec_43",
                                    "8": "2022-07-08 14:20:23.877"
                                },
                                {
                                    "0": "FactFinance100m",
                                    "1": "0",
                                    "2": "1",
                                    "3": "3",
                                    "4": "COMPRESSED",
                                    "5": "1048576",
                                    "6": "NO_TRIM",
                                    "7": "Table_5e36fad5620b4f1c8f3eb0d9fc992bec_44",
                                    "8": "2022-07-08 14:20:23.520"
                                },
                                {
                                    "0": "FactFinance100m",
                                    "1": "0",
                                    "2": "1",
                                    "3": "3",
                                    "4": "COMPRESSED",
                                    "5": "1048576",
                                    "6": "NO_TRIM",
                                    "7": "Table_5e36fad5620b4f1c8f3eb0d9fc992bec_45",
                                    "8": "2022-07-08 14:20:23.603"
                                },
                                {
                                    "0": "FactFinance100m",
                                    "1": "0",
                                    "2": "1",
                                    "3": "3",
                                    "4": "COMPRESSED",
                                    "5": "1048576",
                                    "6": "NO_TRIM",
                                    "7": "Table_5e36fad5620b4f1c8f3eb0d9fc992bec_46",
                                    "8": "2022-07-08 14:20:23.517"
                                },
                                {
                                    "0": "FactFinance100m",
                                    "1": "0",
                                    "2": "1",
                                    "3": "3",
                                    "4": "COMPRESSED",
                                    "5": "1048576",
                                    "6": "NO_TRIM",
                                    "7": "Table_5e36fad5620b4f1c8f3eb0d9fc992bec_47",
                                    "8": "2022-07-08 14:20:23.577"
                                },
                                {
                                    "0": "FactFinance100m",
                                    "1": "0",
                                    "2": "1",
                                    "3": "3",
                                    "4": "COMPRESSED",
                                    "5": "1048576",
                                    "6": "NO_TRIM",
                                    "7": "Table_5e36fad5620b4f1c8f3eb0d9fc992bec_48",
                                    "8": "2022-07-08 14:20:23.553"
                                },
                                {
                                    "0": "FactFinance100m",
                                    "1": "0",
                                    "2": "1",
                                    "3": "3",
                                    "4": "COMPRESSED",
                                    "5": "1048576",
                                    "6": "NO_TRIM",
                                    "7": "Table_5e36fad5620b4f1c8f3eb0d9fc992bec_49",
                                    "8": "2022-07-08 14:20:23.653"
                                },
                                {
                                    "0": "FactFinance100m",
                                    "1": "0",
                                    "2": "1",
                                    "3": "3",
                                    "4": "COMPRESSED",
                                    "5": "1048576",
                                    "6": "NO_TRIM",
                                    "7": "Table_5e36fad5620b4f1c8f3eb0d9fc992bec_50",
                                    "8": "2022-07-08 14:20:24.007"
                                },
                                {
                                    "0": "FactFinance100m",
                                    "1": "0",
                                    "2": "1",
                                    "3": "3",
                                    "4": "COMPRESSED",
                                    "5": "1048576",
                                    "6": "NO_TRIM",
                                    "7": "Table_5e36fad5620b4f1c8f3eb0d9fc992bec_51",
                                    "8": "2022-07-08 14:20:23.640"
                                },
                                {
                                    "0": "FactFinance100m",
                                    "1": "0",
                                    "2": "1",
                                    "3": "3",
                                    "4": "COMPRESSED",
                                    "5": "1048576",
                                    "6": "NO_TRIM",
                                    "7": "Table_5e36fad5620b4f1c8f3eb0d9fc992bec_52",
                                    "8": "2022-07-08 14:20:23.617"
                                },
                                {
                                    "0": "FactFinance100m",
                                    "1": "0",
                                    "2": "1",
                                    "3": "3",
                                    "4": "COMPRESSED",
                                    "5": "1048576",
                                    "6": "NO_TRIM",
                                    "7": "Table_5e36fad5620b4f1c8f3eb0d9fc992bec_53",
                                    "8": "2022-07-08 14:20:23.583"
                                },
                                {
                                    "0": "FactFinance100m",
                                    "1": "0",
                                    "2": "1",
                                    "3": "3",
                                    "4": "COMPRESSED",
                                    "5": "1048576",
                                    "6": "NO_TRIM",
                                    "7": "Table_5e36fad5620b4f1c8f3eb0d9fc992bec_54",
                                    "8": "2022-07-08 14:20:23.600"
                                },
                                {
                                    "0": "FactFinance100m",
                                    "1": "0",
                                    "2": "1",
                                    "3": "3",
                                    "4": "COMPRESSED",
                                    "5": "1048576",
                                    "6": "NO_TRIM",
                                    "7": "Table_5e36fad5620b4f1c8f3eb0d9fc992bec_55",
                                    "8": "2022-07-08 14:20:23.430"
                                },
                                {
                                    "0": "FactFinance100m",
                                    "1": "0",
                                    "2": "1",
                                    "3": "3",
                                    "4": "COMPRESSED",
                                    "5": "1048576",
                                    "6": "NO_TRIM",
                                    "7": "Table_5e36fad5620b4f1c8f3eb0d9fc992bec_56",
                                    "8": "2022-07-08 14:20:23.500"
                                },
                                {
                                    "0": "FactFinance100m",
                                    "1": "0",
                                    "2": "1",
                                    "3": "3",
                                    "4": "COMPRESSED",
                                    "5": "1048576",
                                    "6": "NO_TRIM",
                                    "7": "Table_5e36fad5620b4f1c8f3eb0d9fc992bec_57",
                                    "8": "2022-07-08 14:20:23.590"
                                },
                                {
                                    "0": "FactFinance100m",
                                    "1": "0",
                                    "2": "1",
                                    "3": "3",
                                    "4": "COMPRESSED",
                                    "5": "1048576",
                                    "6": "NO_TRIM",
                                    "7": "Table_5e36fad5620b4f1c8f3eb0d9fc992bec_58",
                                    "8": "2022-07-08 14:20:23.550"
                                },
                                {
                                    "0": "FactFinance100m",
                                    "1": "0",
                                    "2": "1",
                                    "3": "3",
                                    "4": "COMPRESSED",
                                    "5": "1048576",
                                    "6": "NO_TRIM",
                                    "7": "Table_5e36fad5620b4f1c8f3eb0d9fc992bec_59",
                                    "8": "2022-07-08 14:20:23.593"
                                },
                                {
                                    "0": "FactFinance100m",
                                    "1": "0",
                                    "2": "1",
                                    "3": "3",
                                    "4": "COMPRESSED",
                                    "5": "1048576",
                                    "6": "NO_TRIM",
                                    "7": "Table_5e36fad5620b4f1c8f3eb0d9fc992bec_60",
                                    "8": "2022-07-08 14:20:23.607"
                                }
                            ]
                        },
                        "text/html": "<table><tr><th>logical_table_name</th><th>row_group_id</th><th>partition_number</th><th>state</th><th>state_desc</th><th>total_rows</th><th>trim_reason_desc</th><th>physical_name</th><th>created_time</th></tr><tr><td>FactFinance100m</td><td>7</td><td>1</td><td>3</td><td>COMPRESSED</td><td>333324</td><td>BULKLOAD</td><td>Table_5e36fad5620b4f1c8f3eb0d9fc992bec_1</td><td>2022-07-08 14:30:44.753</td></tr><tr><td>FactFinance100m</td><td>7</td><td>1</td><td>3</td><td>COMPRESSED</td><td>333324</td><td>BULKLOAD</td><td>Table_5e36fad5620b4f1c8f3eb0d9fc992bec_2</td><td>2022-07-08 14:30:44.740</td></tr><tr><td>FactFinance100m</td><td>7</td><td>1</td><td>3</td><td>COMPRESSED</td><td>333324</td><td>BULKLOAD</td><td>Table_5e36fad5620b4f1c8f3eb0d9fc992bec_3</td><td>2022-07-08 14:30:44.840</td></tr><tr><td>FactFinance100m</td><td>7</td><td>1</td><td>3</td><td>COMPRESSED</td><td>333324</td><td>BULKLOAD</td><td>Table_5e36fad5620b4f1c8f3eb0d9fc992bec_4</td><td>2022-07-08 14:30:44.840</td></tr><tr><td>FactFinance100m</td><td>7</td><td>1</td><td>3</td><td>COMPRESSED</td><td>333324</td><td>BULKLOAD</td><td>Table_5e36fad5620b4f1c8f3eb0d9fc992bec_5</td><td>2022-07-08 14:30:44.797</td></tr><tr><td>FactFinance100m</td><td>7</td><td>1</td><td>3</td><td>COMPRESSED</td><td>333324</td><td>BULKLOAD</td><td>Table_5e36fad5620b4f1c8f3eb0d9fc992bec_6</td><td>2022-07-08 14:30:44.837</td></tr><tr><td>FactFinance100m</td><td>7</td><td>1</td><td>3</td><td>COMPRESSED</td><td>333324</td><td>BULKLOAD</td><td>Table_5e36fad5620b4f1c8f3eb0d9fc992bec_7</td><td>2022-07-08 14:30:45.490</td></tr><tr><td>FactFinance100m</td><td>7</td><td>1</td><td>3</td><td>COMPRESSED</td><td>333324</td><td>BULKLOAD</td><td>Table_5e36fad5620b4f1c8f3eb0d9fc992bec_8</td><td>2022-07-08 14:30:44.847</td></tr><tr><td>FactFinance100m</td><td>7</td><td>1</td><td>3</td><td>COMPRESSED</td><td>333324</td><td>BULKLOAD</td><td>Table_5e36fad5620b4f1c8f3eb0d9fc992bec_9</td><td>2022-07-08 14:30:45.540</td></tr><tr><td>FactFinance100m</td><td>7</td><td>1</td><td>3</td><td>COMPRESSED</td><td>333324</td><td>BULKLOAD</td><td>Table_5e36fad5620b4f1c8f3eb0d9fc992bec_10</td><td>2022-07-08 14:30:44.767</td></tr><tr><td>FactFinance100m</td><td>7</td><td>1</td><td>3</td><td>COMPRESSED</td><td>333324</td><td>BULKLOAD</td><td>Table_5e36fad5620b4f1c8f3eb0d9fc992bec_11</td><td>2022-07-08 14:30:44.743</td></tr><tr><td>FactFinance100m</td><td>7</td><td>1</td><td>3</td><td>COMPRESSED</td><td>333324</td><td>BULKLOAD</td><td>Table_5e36fad5620b4f1c8f3eb0d9fc992bec_12</td><td>2022-07-08 14:30:44.853</td></tr><tr><td>FactFinance100m</td><td>7</td><td>1</td><td>3</td><td>COMPRESSED</td><td>333324</td><td>BULKLOAD</td><td>Table_5e36fad5620b4f1c8f3eb0d9fc992bec_13</td><td>2022-07-08 14:30:44.843</td></tr><tr><td>FactFinance100m</td><td>7</td><td>1</td><td>3</td><td>COMPRESSED</td><td>333324</td><td>BULKLOAD</td><td>Table_5e36fad5620b4f1c8f3eb0d9fc992bec_14</td><td>2022-07-08 14:30:44.787</td></tr><tr><td>FactFinance100m</td><td>7</td><td>1</td><td>3</td><td>COMPRESSED</td><td>333324</td><td>BULKLOAD</td><td>Table_5e36fad5620b4f1c8f3eb0d9fc992bec_15</td><td>2022-07-08 14:30:45.510</td></tr><tr><td>FactFinance100m</td><td>7</td><td>1</td><td>3</td><td>COMPRESSED</td><td>333324</td><td>BULKLOAD</td><td>Table_5e36fad5620b4f1c8f3eb0d9fc992bec_16</td><td>2022-07-08 14:30:44.813</td></tr><tr><td>FactFinance100m</td><td>7</td><td>1</td><td>3</td><td>COMPRESSED</td><td>333324</td><td>BULKLOAD</td><td>Table_5e36fad5620b4f1c8f3eb0d9fc992bec_17</td><td>2022-07-08 14:30:44.847</td></tr><tr><td>FactFinance100m</td><td>7</td><td>1</td><td>3</td><td>COMPRESSED</td><td>333324</td><td>BULKLOAD</td><td>Table_5e36fad5620b4f1c8f3eb0d9fc992bec_18</td><td>2022-07-08 14:30:44.833</td></tr><tr><td>FactFinance100m</td><td>7</td><td>1</td><td>3</td><td>COMPRESSED</td><td>333324</td><td>BULKLOAD</td><td>Table_5e36fad5620b4f1c8f3eb0d9fc992bec_19</td><td>2022-07-08 14:30:44.723</td></tr><tr><td>FactFinance100m</td><td>7</td><td>1</td><td>3</td><td>COMPRESSED</td><td>333324</td><td>BULKLOAD</td><td>Table_5e36fad5620b4f1c8f3eb0d9fc992bec_20</td><td>2022-07-08 14:30:44.837</td></tr><tr><td>FactFinance100m</td><td>7</td><td>1</td><td>3</td><td>COMPRESSED</td><td>333324</td><td>BULKLOAD</td><td>Table_5e36fad5620b4f1c8f3eb0d9fc992bec_21</td><td>2022-07-08 14:30:44.740</td></tr><tr><td>FactFinance100m</td><td>7</td><td>1</td><td>3</td><td>COMPRESSED</td><td>333324</td><td>BULKLOAD</td><td>Table_5e36fad5620b4f1c8f3eb0d9fc992bec_22</td><td>2022-07-08 14:30:44.837</td></tr><tr><td>FactFinance100m</td><td>7</td><td>1</td><td>3</td><td>COMPRESSED</td><td>333324</td><td>BULKLOAD</td><td>Table_5e36fad5620b4f1c8f3eb0d9fc992bec_23</td><td>2022-07-08 14:30:44.853</td></tr><tr><td>FactFinance100m</td><td>7</td><td>1</td><td>3</td><td>COMPRESSED</td><td>333324</td><td>BULKLOAD</td><td>Table_5e36fad5620b4f1c8f3eb0d9fc992bec_24</td><td>2022-07-08 14:30:45.547</td></tr><tr><td>FactFinance100m</td><td>7</td><td>1</td><td>3</td><td>COMPRESSED</td><td>333324</td><td>BULKLOAD</td><td>Table_5e36fad5620b4f1c8f3eb0d9fc992bec_25</td><td>2022-07-08 14:30:44.847</td></tr><tr><td>FactFinance100m</td><td>7</td><td>1</td><td>3</td><td>COMPRESSED</td><td>333324</td><td>BULKLOAD</td><td>Table_5e36fad5620b4f1c8f3eb0d9fc992bec_26</td><td>2022-07-08 14:30:44.810</td></tr><tr><td>FactFinance100m</td><td>7</td><td>1</td><td>3</td><td>COMPRESSED</td><td>333884</td><td>BULKLOAD</td><td>Table_5e36fad5620b4f1c8f3eb0d9fc992bec_27</td><td>2022-07-08 14:30:44.853</td></tr><tr><td>FactFinance100m</td><td>7</td><td>1</td><td>3</td><td>COMPRESSED</td><td>333324</td><td>BULKLOAD</td><td>Table_5e36fad5620b4f1c8f3eb0d9fc992bec_28</td><td>2022-07-08 14:30:44.720</td></tr><tr><td>FactFinance100m</td><td>7</td><td>1</td><td>3</td><td>COMPRESSED</td><td>333324</td><td>BULKLOAD</td><td>Table_5e36fad5620b4f1c8f3eb0d9fc992bec_29</td><td>2022-07-08 14:30:44.703</td></tr><tr><td>FactFinance100m</td><td>7</td><td>1</td><td>3</td><td>COMPRESSED</td><td>333324</td><td>BULKLOAD</td><td>Table_5e36fad5620b4f1c8f3eb0d9fc992bec_30</td><td>2022-07-08 14:30:44.893</td></tr><tr><td>FactFinance100m</td><td>7</td><td>1</td><td>3</td><td>COMPRESSED</td><td>333324</td><td>BULKLOAD</td><td>Table_5e36fad5620b4f1c8f3eb0d9fc992bec_31</td><td>2022-07-08 14:30:44.773</td></tr><tr><td>FactFinance100m</td><td>7</td><td>1</td><td>3</td><td>COMPRESSED</td><td>333324</td><td>BULKLOAD</td><td>Table_5e36fad5620b4f1c8f3eb0d9fc992bec_32</td><td>2022-07-08 14:30:44.853</td></tr><tr><td>FactFinance100m</td><td>7</td><td>1</td><td>3</td><td>COMPRESSED</td><td>333324</td><td>BULKLOAD</td><td>Table_5e36fad5620b4f1c8f3eb0d9fc992bec_33</td><td>2022-07-08 14:30:44.720</td></tr><tr><td>FactFinance100m</td><td>7</td><td>1</td><td>3</td><td>COMPRESSED</td><td>333324</td><td>BULKLOAD</td><td>Table_5e36fad5620b4f1c8f3eb0d9fc992bec_34</td><td>2022-07-08 14:30:44.713</td></tr><tr><td>FactFinance100m</td><td>7</td><td>1</td><td>3</td><td>COMPRESSED</td><td>333324</td><td>BULKLOAD</td><td>Table_5e36fad5620b4f1c8f3eb0d9fc992bec_35</td><td>2022-07-08 14:30:44.847</td></tr><tr><td>FactFinance100m</td><td>7</td><td>1</td><td>3</td><td>COMPRESSED</td><td>333324</td><td>BULKLOAD</td><td>Table_5e36fad5620b4f1c8f3eb0d9fc992bec_36</td><td>2022-07-08 14:30:45.583</td></tr><tr><td>FactFinance100m</td><td>7</td><td>1</td><td>3</td><td>COMPRESSED</td><td>333324</td><td>BULKLOAD</td><td>Table_5e36fad5620b4f1c8f3eb0d9fc992bec_37</td><td>2022-07-08 14:30:44.850</td></tr><tr><td>FactFinance100m</td><td>7</td><td>1</td><td>3</td><td>COMPRESSED</td><td>333324</td><td>BULKLOAD</td><td>Table_5e36fad5620b4f1c8f3eb0d9fc992bec_38</td><td>2022-07-08 14:30:44.853</td></tr><tr><td>FactFinance100m</td><td>7</td><td>1</td><td>3</td><td>COMPRESSED</td><td>333324</td><td>BULKLOAD</td><td>Table_5e36fad5620b4f1c8f3eb0d9fc992bec_39</td><td>2022-07-08 14:30:44.810</td></tr><tr><td>FactFinance100m</td><td>7</td><td>1</td><td>3</td><td>COMPRESSED</td><td>333324</td><td>BULKLOAD</td><td>Table_5e36fad5620b4f1c8f3eb0d9fc992bec_40</td><td>2022-07-08 14:30:44.830</td></tr><tr><td>FactFinance100m</td><td>7</td><td>1</td><td>3</td><td>COMPRESSED</td><td>333324</td><td>BULKLOAD</td><td>Table_5e36fad5620b4f1c8f3eb0d9fc992bec_41</td><td>2022-07-08 14:30:44.883</td></tr><tr><td>FactFinance100m</td><td>7</td><td>1</td><td>3</td><td>COMPRESSED</td><td>333324</td><td>BULKLOAD</td><td>Table_5e36fad5620b4f1c8f3eb0d9fc992bec_42</td><td>2022-07-08 14:30:44.880</td></tr><tr><td>FactFinance100m</td><td>7</td><td>1</td><td>3</td><td>COMPRESSED</td><td>333324</td><td>BULKLOAD</td><td>Table_5e36fad5620b4f1c8f3eb0d9fc992bec_43</td><td>2022-07-08 14:30:44.843</td></tr><tr><td>FactFinance100m</td><td>7</td><td>1</td><td>3</td><td>COMPRESSED</td><td>333324</td><td>BULKLOAD</td><td>Table_5e36fad5620b4f1c8f3eb0d9fc992bec_44</td><td>2022-07-08 14:30:44.873</td></tr><tr><td>FactFinance100m</td><td>7</td><td>1</td><td>3</td><td>COMPRESSED</td><td>333324</td><td>BULKLOAD</td><td>Table_5e36fad5620b4f1c8f3eb0d9fc992bec_45</td><td>2022-07-08 14:30:44.733</td></tr><tr><td>FactFinance100m</td><td>7</td><td>1</td><td>3</td><td>COMPRESSED</td><td>333324</td><td>BULKLOAD</td><td>Table_5e36fad5620b4f1c8f3eb0d9fc992bec_46</td><td>2022-07-08 14:30:44.860</td></tr><tr><td>FactFinance100m</td><td>7</td><td>1</td><td>3</td><td>COMPRESSED</td><td>333324</td><td>BULKLOAD</td><td>Table_5e36fad5620b4f1c8f3eb0d9fc992bec_47</td><td>2022-07-08 14:30:44.773</td></tr><tr><td>FactFinance100m</td><td>7</td><td>1</td><td>3</td><td>COMPRESSED</td><td>333324</td><td>BULKLOAD</td><td>Table_5e36fad5620b4f1c8f3eb0d9fc992bec_48</td><td>2022-07-08 14:30:44.830</td></tr><tr><td>FactFinance100m</td><td>7</td><td>1</td><td>3</td><td>COMPRESSED</td><td>333324</td><td>BULKLOAD</td><td>Table_5e36fad5620b4f1c8f3eb0d9fc992bec_49</td><td>2022-07-08 14:30:44.733</td></tr><tr><td>FactFinance100m</td><td>7</td><td>1</td><td>3</td><td>COMPRESSED</td><td>333324</td><td>BULKLOAD</td><td>Table_5e36fad5620b4f1c8f3eb0d9fc992bec_50</td><td>2022-07-08 14:30:44.817</td></tr><tr><td>FactFinance100m</td><td>7</td><td>1</td><td>3</td><td>COMPRESSED</td><td>333324</td><td>BULKLOAD</td><td>Table_5e36fad5620b4f1c8f3eb0d9fc992bec_51</td><td>2022-07-08 14:30:44.853</td></tr><tr><td>FactFinance100m</td><td>7</td><td>1</td><td>3</td><td>COMPRESSED</td><td>333324</td><td>BULKLOAD</td><td>Table_5e36fad5620b4f1c8f3eb0d9fc992bec_52</td><td>2022-07-08 14:30:44.850</td></tr><tr><td>FactFinance100m</td><td>7</td><td>1</td><td>3</td><td>COMPRESSED</td><td>333324</td><td>BULKLOAD</td><td>Table_5e36fad5620b4f1c8f3eb0d9fc992bec_53</td><td>2022-07-08 14:30:44.800</td></tr><tr><td>FactFinance100m</td><td>7</td><td>1</td><td>3</td><td>COMPRESSED</td><td>333324</td><td>BULKLOAD</td><td>Table_5e36fad5620b4f1c8f3eb0d9fc992bec_54</td><td>2022-07-08 14:30:44.800</td></tr><tr><td>FactFinance100m</td><td>7</td><td>1</td><td>3</td><td>COMPRESSED</td><td>333324</td><td>BULKLOAD</td><td>Table_5e36fad5620b4f1c8f3eb0d9fc992bec_55</td><td>2022-07-08 14:30:44.700</td></tr><tr><td>FactFinance100m</td><td>7</td><td>1</td><td>3</td><td>COMPRESSED</td><td>333324</td><td>BULKLOAD</td><td>Table_5e36fad5620b4f1c8f3eb0d9fc992bec_56</td><td>2022-07-08 14:30:44.800</td></tr><tr><td>FactFinance100m</td><td>7</td><td>1</td><td>3</td><td>COMPRESSED</td><td>333324</td><td>BULKLOAD</td><td>Table_5e36fad5620b4f1c8f3eb0d9fc992bec_57</td><td>2022-07-08 14:30:44.890</td></tr><tr><td>FactFinance100m</td><td>7</td><td>1</td><td>3</td><td>COMPRESSED</td><td>333324</td><td>BULKLOAD</td><td>Table_5e36fad5620b4f1c8f3eb0d9fc992bec_58</td><td>2022-07-08 14:30:44.870</td></tr><tr><td>FactFinance100m</td><td>7</td><td>1</td><td>3</td><td>COMPRESSED</td><td>333324</td><td>BULKLOAD</td><td>Table_5e36fad5620b4f1c8f3eb0d9fc992bec_59</td><td>2022-07-08 14:30:45.520</td></tr><tr><td>FactFinance100m</td><td>7</td><td>1</td><td>3</td><td>COMPRESSED</td><td>333324</td><td>BULKLOAD</td><td>Table_5e36fad5620b4f1c8f3eb0d9fc992bec_60</td><td>2022-07-08 14:30:44.847</td></tr><tr><td>FactFinance100m</td><td>6</td><td>1</td><td>3</td><td>COMPRESSED</td><td>333324</td><td>BULKLOAD</td><td>Table_5e36fad5620b4f1c8f3eb0d9fc992bec_1</td><td>2022-07-08 14:30:06.097</td></tr><tr><td>FactFinance100m</td><td>6</td><td>1</td><td>3</td><td>COMPRESSED</td><td>333324</td><td>BULKLOAD</td><td>Table_5e36fad5620b4f1c8f3eb0d9fc992bec_2</td><td>2022-07-08 14:30:04.580</td></tr><tr><td>FactFinance100m</td><td>6</td><td>1</td><td>3</td><td>COMPRESSED</td><td>333324</td><td>BULKLOAD</td><td>Table_5e36fad5620b4f1c8f3eb0d9fc992bec_3</td><td>2022-07-08 14:30:05.363</td></tr><tr><td>FactFinance100m</td><td>6</td><td>1</td><td>3</td><td>COMPRESSED</td><td>333324</td><td>BULKLOAD</td><td>Table_5e36fad5620b4f1c8f3eb0d9fc992bec_4</td><td>2022-07-08 14:30:05.307</td></tr><tr><td>FactFinance100m</td><td>6</td><td>1</td><td>3</td><td>COMPRESSED</td><td>333324</td><td>BULKLOAD</td><td>Table_5e36fad5620b4f1c8f3eb0d9fc992bec_5</td><td>2022-07-08 14:30:04.600</td></tr><tr><td>FactFinance100m</td><td>6</td><td>1</td><td>3</td><td>COMPRESSED</td><td>333324</td><td>BULKLOAD</td><td>Table_5e36fad5620b4f1c8f3eb0d9fc992bec_6</td><td>2022-07-08 14:30:04.513</td></tr><tr><td>FactFinance100m</td><td>6</td><td>1</td><td>3</td><td>COMPRESSED</td><td>333324</td><td>BULKLOAD</td><td>Table_5e36fad5620b4f1c8f3eb0d9fc992bec_7</td><td>2022-07-08 14:30:04.613</td></tr><tr><td>FactFinance100m</td><td>6</td><td>1</td><td>3</td><td>COMPRESSED</td><td>333324</td><td>BULKLOAD</td><td>Table_5e36fad5620b4f1c8f3eb0d9fc992bec_8</td><td>2022-07-08 14:30:04.620</td></tr><tr><td>FactFinance100m</td><td>6</td><td>1</td><td>3</td><td>COMPRESSED</td><td>333324</td><td>BULKLOAD</td><td>Table_5e36fad5620b4f1c8f3eb0d9fc992bec_9</td><td>2022-07-08 14:30:04.607</td></tr><tr><td>FactFinance100m</td><td>6</td><td>1</td><td>3</td><td>COMPRESSED</td><td>333324</td><td>BULKLOAD</td><td>Table_5e36fad5620b4f1c8f3eb0d9fc992bec_10</td><td>2022-07-08 14:30:04.640</td></tr><tr><td>FactFinance100m</td><td>6</td><td>1</td><td>3</td><td>COMPRESSED</td><td>333324</td><td>BULKLOAD</td><td>Table_5e36fad5620b4f1c8f3eb0d9fc992bec_11</td><td>2022-07-08 14:30:04.607</td></tr><tr><td>FactFinance100m</td><td>6</td><td>1</td><td>3</td><td>COMPRESSED</td><td>333324</td><td>BULKLOAD</td><td>Table_5e36fad5620b4f1c8f3eb0d9fc992bec_12</td><td>2022-07-08 14:30:04.540</td></tr><tr><td>FactFinance100m</td><td>6</td><td>1</td><td>3</td><td>COMPRESSED</td><td>333324</td><td>BULKLOAD</td><td>Table_5e36fad5620b4f1c8f3eb0d9fc992bec_13</td><td>2022-07-08 14:30:04.537</td></tr><tr><td>FactFinance100m</td><td>6</td><td>1</td><td>3</td><td>COMPRESSED</td><td>333324</td><td>BULKLOAD</td><td>Table_5e36fad5620b4f1c8f3eb0d9fc992bec_14</td><td>2022-07-08 14:30:04.650</td></tr><tr><td>FactFinance100m</td><td>6</td><td>1</td><td>3</td><td>COMPRESSED</td><td>333324</td><td>BULKLOAD</td><td>Table_5e36fad5620b4f1c8f3eb0d9fc992bec_15</td><td>2022-07-08 14:30:04.627</td></tr><tr><td>FactFinance100m</td><td>6</td><td>1</td><td>3</td><td>COMPRESSED</td><td>333324</td><td>BULKLOAD</td><td>Table_5e36fad5620b4f1c8f3eb0d9fc992bec_16</td><td>2022-07-08 14:30:04.510</td></tr><tr><td>FactFinance100m</td><td>6</td><td>1</td><td>3</td><td>COMPRESSED</td><td>333324</td><td>BULKLOAD</td><td>Table_5e36fad5620b4f1c8f3eb0d9fc992bec_17</td><td>2022-07-08 14:30:04.617</td></tr><tr><td>FactFinance100m</td><td>6</td><td>1</td><td>3</td><td>COMPRESSED</td><td>333324</td><td>BULKLOAD</td><td>Table_5e36fad5620b4f1c8f3eb0d9fc992bec_18</td><td>2022-07-08 14:30:04.600</td></tr><tr><td>FactFinance100m</td><td>6</td><td>1</td><td>3</td><td>COMPRESSED</td><td>333324</td><td>BULKLOAD</td><td>Table_5e36fad5620b4f1c8f3eb0d9fc992bec_19</td><td>2022-07-08 14:30:06.180</td></tr><tr><td>FactFinance100m</td><td>6</td><td>1</td><td>3</td><td>COMPRESSED</td><td>333324</td><td>BULKLOAD</td><td>Table_5e36fad5620b4f1c8f3eb0d9fc992bec_20</td><td>2022-07-08 14:30:04.643</td></tr><tr><td>FactFinance100m</td><td>6</td><td>1</td><td>3</td><td>COMPRESSED</td><td>333324</td><td>BULKLOAD</td><td>Table_5e36fad5620b4f1c8f3eb0d9fc992bec_21</td><td>2022-07-08 14:30:04.537</td></tr><tr><td>FactFinance100m</td><td>6</td><td>1</td><td>3</td><td>COMPRESSED</td><td>333324</td><td>BULKLOAD</td><td>Table_5e36fad5620b4f1c8f3eb0d9fc992bec_22</td><td>2022-07-08 14:30:04.610</td></tr><tr><td>FactFinance100m</td><td>6</td><td>1</td><td>3</td><td>COMPRESSED</td><td>333324</td><td>BULKLOAD</td><td>Table_5e36fad5620b4f1c8f3eb0d9fc992bec_23</td><td>2022-07-08 14:30:04.513</td></tr><tr><td>FactFinance100m</td><td>6</td><td>1</td><td>3</td><td>COMPRESSED</td><td>333324</td><td>BULKLOAD</td><td>Table_5e36fad5620b4f1c8f3eb0d9fc992bec_24</td><td>2022-07-08 14:30:05.347</td></tr><tr><td>FactFinance100m</td><td>6</td><td>1</td><td>3</td><td>COMPRESSED</td><td>333324</td><td>BULKLOAD</td><td>Table_5e36fad5620b4f1c8f3eb0d9fc992bec_25</td><td>2022-07-08 14:30:05.377</td></tr><tr><td>FactFinance100m</td><td>6</td><td>1</td><td>3</td><td>COMPRESSED</td><td>333324</td><td>BULKLOAD</td><td>Table_5e36fad5620b4f1c8f3eb0d9fc992bec_26</td><td>2022-07-08 14:30:06.190</td></tr><tr><td>FactFinance100m</td><td>6</td><td>1</td><td>3</td><td>COMPRESSED</td><td>333324</td><td>BULKLOAD</td><td>Table_5e36fad5620b4f1c8f3eb0d9fc992bec_27</td><td>2022-07-08 14:30:04.650</td></tr><tr><td>FactFinance100m</td><td>6</td><td>1</td><td>3</td><td>COMPRESSED</td><td>333324</td><td>BULKLOAD</td><td>Table_5e36fad5620b4f1c8f3eb0d9fc992bec_28</td><td>2022-07-08 14:30:04.590</td></tr><tr><td>FactFinance100m</td><td>6</td><td>1</td><td>3</td><td>COMPRESSED</td><td>333324</td><td>BULKLOAD</td><td>Table_5e36fad5620b4f1c8f3eb0d9fc992bec_29</td><td>2022-07-08 14:30:04.587</td></tr><tr><td>FactFinance100m</td><td>6</td><td>1</td><td>3</td><td>COMPRESSED</td><td>333324</td><td>BULKLOAD</td><td>Table_5e36fad5620b4f1c8f3eb0d9fc992bec_30</td><td>2022-07-08 14:30:04.610</td></tr><tr><td>FactFinance100m</td><td>6</td><td>1</td><td>3</td><td>COMPRESSED</td><td>333324</td><td>BULKLOAD</td><td>Table_5e36fad5620b4f1c8f3eb0d9fc992bec_31</td><td>2022-07-08 14:30:04.613</td></tr><tr><td>FactFinance100m</td><td>6</td><td>1</td><td>3</td><td>COMPRESSED</td><td>333324</td><td>BULKLOAD</td><td>Table_5e36fad5620b4f1c8f3eb0d9fc992bec_32</td><td>2022-07-08 14:30:04.770</td></tr><tr><td>FactFinance100m</td><td>6</td><td>1</td><td>3</td><td>COMPRESSED</td><td>333324</td><td>BULKLOAD</td><td>Table_5e36fad5620b4f1c8f3eb0d9fc992bec_33</td><td>2022-07-08 14:30:04.660</td></tr><tr><td>FactFinance100m</td><td>6</td><td>1</td><td>3</td><td>COMPRESSED</td><td>333324</td><td>BULKLOAD</td><td>Table_5e36fad5620b4f1c8f3eb0d9fc992bec_34</td><td>2022-07-08 14:30:04.617</td></tr><tr><td>FactFinance100m</td><td>6</td><td>1</td><td>3</td><td>COMPRESSED</td><td>333324</td><td>BULKLOAD</td><td>Table_5e36fad5620b4f1c8f3eb0d9fc992bec_35</td><td>2022-07-08 14:30:04.620</td></tr><tr><td>FactFinance100m</td><td>6</td><td>1</td><td>3</td><td>COMPRESSED</td><td>333324</td><td>BULKLOAD</td><td>Table_5e36fad5620b4f1c8f3eb0d9fc992bec_36</td><td>2022-07-08 14:30:05.373</td></tr><tr><td>FactFinance100m</td><td>6</td><td>1</td><td>3</td><td>COMPRESSED</td><td>333324</td><td>BULKLOAD</td><td>Table_5e36fad5620b4f1c8f3eb0d9fc992bec_37</td><td>2022-07-08 14:30:04.550</td></tr><tr><td>FactFinance100m</td><td>6</td><td>1</td><td>3</td><td>COMPRESSED</td><td>333324</td><td>BULKLOAD</td><td>Table_5e36fad5620b4f1c8f3eb0d9fc992bec_38</td><td>2022-07-08 14:30:04.637</td></tr><tr><td>FactFinance100m</td><td>6</td><td>1</td><td>3</td><td>COMPRESSED</td><td>333324</td><td>BULKLOAD</td><td>Table_5e36fad5620b4f1c8f3eb0d9fc992bec_39</td><td>2022-07-08 14:30:04.627</td></tr><tr><td>FactFinance100m</td><td>6</td><td>1</td><td>3</td><td>COMPRESSED</td><td>333324</td><td>BULKLOAD</td><td>Table_5e36fad5620b4f1c8f3eb0d9fc992bec_40</td><td>2022-07-08 14:30:04.633</td></tr><tr><td>FactFinance100m</td><td>6</td><td>1</td><td>3</td><td>COMPRESSED</td><td>333324</td><td>BULKLOAD</td><td>Table_5e36fad5620b4f1c8f3eb0d9fc992bec_41</td><td>2022-07-08 14:30:04.650</td></tr><tr><td>FactFinance100m</td><td>6</td><td>1</td><td>3</td><td>COMPRESSED</td><td>333324</td><td>BULKLOAD</td><td>Table_5e36fad5620b4f1c8f3eb0d9fc992bec_42</td><td>2022-07-08 14:30:04.607</td></tr><tr><td>FactFinance100m</td><td>6</td><td>1</td><td>3</td><td>COMPRESSED</td><td>333324</td><td>BULKLOAD</td><td>Table_5e36fad5620b4f1c8f3eb0d9fc992bec_43</td><td>2022-07-08 14:30:04.630</td></tr><tr><td>FactFinance100m</td><td>6</td><td>1</td><td>3</td><td>COMPRESSED</td><td>333324</td><td>BULKLOAD</td><td>Table_5e36fad5620b4f1c8f3eb0d9fc992bec_44</td><td>2022-07-08 14:30:04.610</td></tr><tr><td>FactFinance100m</td><td>6</td><td>1</td><td>3</td><td>COMPRESSED</td><td>333324</td><td>BULKLOAD</td><td>Table_5e36fad5620b4f1c8f3eb0d9fc992bec_45</td><td>2022-07-08 14:30:04.620</td></tr><tr><td>FactFinance100m</td><td>6</td><td>1</td><td>3</td><td>COMPRESSED</td><td>333324</td><td>BULKLOAD</td><td>Table_5e36fad5620b4f1c8f3eb0d9fc992bec_46</td><td>2022-07-08 14:30:04.600</td></tr><tr><td>FactFinance100m</td><td>6</td><td>1</td><td>3</td><td>COMPRESSED</td><td>333324</td><td>BULKLOAD</td><td>Table_5e36fad5620b4f1c8f3eb0d9fc992bec_47</td><td>2022-07-08 14:30:04.657</td></tr><tr><td>FactFinance100m</td><td>6</td><td>1</td><td>3</td><td>COMPRESSED</td><td>333324</td><td>BULKLOAD</td><td>Table_5e36fad5620b4f1c8f3eb0d9fc992bec_48</td><td>2022-07-08 14:30:04.590</td></tr><tr><td>FactFinance100m</td><td>6</td><td>1</td><td>3</td><td>COMPRESSED</td><td>333324</td><td>BULKLOAD</td><td>Table_5e36fad5620b4f1c8f3eb0d9fc992bec_49</td><td>2022-07-08 14:30:04.587</td></tr><tr><td>FactFinance100m</td><td>6</td><td>1</td><td>3</td><td>COMPRESSED</td><td>333324</td><td>BULKLOAD</td><td>Table_5e36fad5620b4f1c8f3eb0d9fc992bec_50</td><td>2022-07-08 14:30:04.650</td></tr><tr><td>FactFinance100m</td><td>6</td><td>1</td><td>3</td><td>COMPRESSED</td><td>333324</td><td>BULKLOAD</td><td>Table_5e36fad5620b4f1c8f3eb0d9fc992bec_51</td><td>2022-07-08 14:30:04.623</td></tr><tr><td>FactFinance100m</td><td>6</td><td>1</td><td>3</td><td>COMPRESSED</td><td>333324</td><td>BULKLOAD</td><td>Table_5e36fad5620b4f1c8f3eb0d9fc992bec_52</td><td>2022-07-08 14:30:05.353</td></tr><tr><td>FactFinance100m</td><td>6</td><td>1</td><td>3</td><td>COMPRESSED</td><td>333884</td><td>BULKLOAD</td><td>Table_5e36fad5620b4f1c8f3eb0d9fc992bec_53</td><td>2022-07-08 14:30:04.647</td></tr><tr><td>FactFinance100m</td><td>6</td><td>1</td><td>3</td><td>COMPRESSED</td><td>333324</td><td>BULKLOAD</td><td>Table_5e36fad5620b4f1c8f3eb0d9fc992bec_54</td><td>2022-07-08 14:30:04.650</td></tr><tr><td>FactFinance100m</td><td>6</td><td>1</td><td>3</td><td>COMPRESSED</td><td>333324</td><td>BULKLOAD</td><td>Table_5e36fad5620b4f1c8f3eb0d9fc992bec_55</td><td>2022-07-08 14:30:04.563</td></tr><tr><td>FactFinance100m</td><td>6</td><td>1</td><td>3</td><td>COMPRESSED</td><td>333324</td><td>BULKLOAD</td><td>Table_5e36fad5620b4f1c8f3eb0d9fc992bec_56</td><td>2022-07-08 14:30:04.657</td></tr><tr><td>FactFinance100m</td><td>6</td><td>1</td><td>3</td><td>COMPRESSED</td><td>333324</td><td>BULKLOAD</td><td>Table_5e36fad5620b4f1c8f3eb0d9fc992bec_57</td><td>2022-07-08 14:30:04.640</td></tr><tr><td>FactFinance100m</td><td>6</td><td>1</td><td>3</td><td>COMPRESSED</td><td>333324</td><td>BULKLOAD</td><td>Table_5e36fad5620b4f1c8f3eb0d9fc992bec_58</td><td>2022-07-08 14:30:04.660</td></tr><tr><td>FactFinance100m</td><td>6</td><td>1</td><td>3</td><td>COMPRESSED</td><td>333324</td><td>BULKLOAD</td><td>Table_5e36fad5620b4f1c8f3eb0d9fc992bec_59</td><td>2022-07-08 14:30:04.677</td></tr><tr><td>FactFinance100m</td><td>6</td><td>1</td><td>3</td><td>COMPRESSED</td><td>333324</td><td>BULKLOAD</td><td>Table_5e36fad5620b4f1c8f3eb0d9fc992bec_60</td><td>2022-07-08 14:30:04.683</td></tr><tr><td>FactFinance100m</td><td>5</td><td>1</td><td>3</td><td>COMPRESSED</td><td>333324</td><td>BULKLOAD</td><td>Table_5e36fad5620b4f1c8f3eb0d9fc992bec_1</td><td>2022-07-08 14:29:25.277</td></tr><tr><td>FactFinance100m</td><td>5</td><td>1</td><td>3</td><td>COMPRESSED</td><td>333324</td><td>BULKLOAD</td><td>Table_5e36fad5620b4f1c8f3eb0d9fc992bec_2</td><td>2022-07-08 14:29:24.543</td></tr><tr><td>FactFinance100m</td><td>5</td><td>1</td><td>3</td><td>COMPRESSED</td><td>333324</td><td>BULKLOAD</td><td>Table_5e36fad5620b4f1c8f3eb0d9fc992bec_3</td><td>2022-07-08 14:29:25.253</td></tr><tr><td>FactFinance100m</td><td>5</td><td>1</td><td>3</td><td>COMPRESSED</td><td>333324</td><td>BULKLOAD</td><td>Table_5e36fad5620b4f1c8f3eb0d9fc992bec_4</td><td>2022-07-08 14:29:24.453</td></tr><tr><td>FactFinance100m</td><td>5</td><td>1</td><td>3</td><td>COMPRESSED</td><td>333324</td><td>BULKLOAD</td><td>Table_5e36fad5620b4f1c8f3eb0d9fc992bec_5</td><td>2022-07-08 14:29:24.447</td></tr><tr><td>FactFinance100m</td><td>5</td><td>1</td><td>3</td><td>COMPRESSED</td><td>333324</td><td>BULKLOAD</td><td>Table_5e36fad5620b4f1c8f3eb0d9fc992bec_6</td><td>2022-07-08 14:29:24.503</td></tr><tr><td>FactFinance100m</td><td>5</td><td>1</td><td>3</td><td>COMPRESSED</td><td>333324</td><td>BULKLOAD</td><td>Table_5e36fad5620b4f1c8f3eb0d9fc992bec_7</td><td>2022-07-08 14:29:24.537</td></tr><tr><td>FactFinance100m</td><td>5</td><td>1</td><td>3</td><td>COMPRESSED</td><td>333324</td><td>BULKLOAD</td><td>Table_5e36fad5620b4f1c8f3eb0d9fc992bec_8</td><td>2022-07-08 14:29:24.407</td></tr><tr><td>FactFinance100m</td><td>5</td><td>1</td><td>3</td><td>COMPRESSED</td><td>333324</td><td>BULKLOAD</td><td>Table_5e36fad5620b4f1c8f3eb0d9fc992bec_9</td><td>2022-07-08 14:29:25.237</td></tr><tr><td>FactFinance100m</td><td>5</td><td>1</td><td>3</td><td>COMPRESSED</td><td>333324</td><td>BULKLOAD</td><td>Table_5e36fad5620b4f1c8f3eb0d9fc992bec_10</td><td>2022-07-08 14:29:24.517</td></tr><tr><td>FactFinance100m</td><td>5</td><td>1</td><td>3</td><td>COMPRESSED</td><td>333324</td><td>BULKLOAD</td><td>Table_5e36fad5620b4f1c8f3eb0d9fc992bec_11</td><td>2022-07-08 14:29:24.530</td></tr><tr><td>FactFinance100m</td><td>5</td><td>1</td><td>3</td><td>COMPRESSED</td><td>333324</td><td>BULKLOAD</td><td>Table_5e36fad5620b4f1c8f3eb0d9fc992bec_12</td><td>2022-07-08 14:29:24.477</td></tr><tr><td>FactFinance100m</td><td>5</td><td>1</td><td>3</td><td>COMPRESSED</td><td>333324</td><td>BULKLOAD</td><td>Table_5e36fad5620b4f1c8f3eb0d9fc992bec_13</td><td>2022-07-08 14:29:24.413</td></tr><tr><td>FactFinance100m</td><td>5</td><td>1</td><td>3</td><td>COMPRESSED</td><td>333324</td><td>BULKLOAD</td><td>Table_5e36fad5620b4f1c8f3eb0d9fc992bec_14</td><td>2022-07-08 14:29:24.530</td></tr><tr><td>FactFinance100m</td><td>5</td><td>1</td><td>3</td><td>COMPRESSED</td><td>333324</td><td>BULKLOAD</td><td>Table_5e36fad5620b4f1c8f3eb0d9fc992bec_15</td><td>2022-07-08 14:29:24.460</td></tr><tr><td>FactFinance100m</td><td>5</td><td>1</td><td>3</td><td>COMPRESSED</td><td>333324</td><td>BULKLOAD</td><td>Table_5e36fad5620b4f1c8f3eb0d9fc992bec_16</td><td>2022-07-08 14:29:24.453</td></tr><tr><td>FactFinance100m</td><td>5</td><td>1</td><td>3</td><td>COMPRESSED</td><td>333324</td><td>BULKLOAD</td><td>Table_5e36fad5620b4f1c8f3eb0d9fc992bec_17</td><td>2022-07-08 14:29:24.513</td></tr><tr><td>FactFinance100m</td><td>5</td><td>1</td><td>3</td><td>COMPRESSED</td><td>333324</td><td>BULKLOAD</td><td>Table_5e36fad5620b4f1c8f3eb0d9fc992bec_18</td><td>2022-07-08 14:29:24.500</td></tr><tr><td>FactFinance100m</td><td>5</td><td>1</td><td>3</td><td>COMPRESSED</td><td>333324</td><td>BULKLOAD</td><td>Table_5e36fad5620b4f1c8f3eb0d9fc992bec_19</td><td>2022-07-08 14:29:25.273</td></tr><tr><td>FactFinance100m</td><td>5</td><td>1</td><td>3</td><td>COMPRESSED</td><td>333324</td><td>BULKLOAD</td><td>Table_5e36fad5620b4f1c8f3eb0d9fc992bec_20</td><td>2022-07-08 14:29:25.247</td></tr><tr><td>FactFinance100m</td><td>5</td><td>1</td><td>3</td><td>COMPRESSED</td><td>333324</td><td>BULKLOAD</td><td>Table_5e36fad5620b4f1c8f3eb0d9fc992bec_21</td><td>2022-07-08 14:29:25.250</td></tr><tr><td>FactFinance100m</td><td>5</td><td>1</td><td>3</td><td>COMPRESSED</td><td>333324</td><td>BULKLOAD</td><td>Table_5e36fad5620b4f1c8f3eb0d9fc992bec_22</td><td>2022-07-08 14:29:24.457</td></tr><tr><td>FactFinance100m</td><td>5</td><td>1</td><td>3</td><td>COMPRESSED</td><td>333324</td><td>BULKLOAD</td><td>Table_5e36fad5620b4f1c8f3eb0d9fc992bec_23</td><td>2022-07-08 14:29:25.270</td></tr><tr><td>FactFinance100m</td><td>5</td><td>1</td><td>3</td><td>COMPRESSED</td><td>333324</td><td>BULKLOAD</td><td>Table_5e36fad5620b4f1c8f3eb0d9fc992bec_24</td><td>2022-07-08 14:29:24.453</td></tr><tr><td>FactFinance100m</td><td>5</td><td>1</td><td>3</td><td>COMPRESSED</td><td>333324</td><td>BULKLOAD</td><td>Table_5e36fad5620b4f1c8f3eb0d9fc992bec_25</td><td>2022-07-08 14:29:24.427</td></tr><tr><td>FactFinance100m</td><td>5</td><td>1</td><td>3</td><td>COMPRESSED</td><td>333324</td><td>BULKLOAD</td><td>Table_5e36fad5620b4f1c8f3eb0d9fc992bec_26</td><td>2022-07-08 14:29:24.453</td></tr><tr><td>FactFinance100m</td><td>5</td><td>1</td><td>3</td><td>COMPRESSED</td><td>333324</td><td>BULKLOAD</td><td>Table_5e36fad5620b4f1c8f3eb0d9fc992bec_27</td><td>2022-07-08 14:29:24.520</td></tr><tr><td>FactFinance100m</td><td>5</td><td>1</td><td>3</td><td>COMPRESSED</td><td>333324</td><td>BULKLOAD</td><td>Table_5e36fad5620b4f1c8f3eb0d9fc992bec_28</td><td>2022-07-08 14:29:24.497</td></tr><tr><td>FactFinance100m</td><td>5</td><td>1</td><td>3</td><td>COMPRESSED</td><td>333324</td><td>BULKLOAD</td><td>Table_5e36fad5620b4f1c8f3eb0d9fc992bec_29</td><td>2022-07-08 14:29:25.227</td></tr><tr><td>FactFinance100m</td><td>5</td><td>1</td><td>3</td><td>COMPRESSED</td><td>333324</td><td>BULKLOAD</td><td>Table_5e36fad5620b4f1c8f3eb0d9fc992bec_30</td><td>2022-07-08 14:29:24.520</td></tr><tr><td>FactFinance100m</td><td>5</td><td>1</td><td>3</td><td>COMPRESSED</td><td>333324</td><td>BULKLOAD</td><td>Table_5e36fad5620b4f1c8f3eb0d9fc992bec_31</td><td>2022-07-08 14:29:24.610</td></tr><tr><td>FactFinance100m</td><td>5</td><td>1</td><td>3</td><td>COMPRESSED</td><td>333324</td><td>BULKLOAD</td><td>Table_5e36fad5620b4f1c8f3eb0d9fc992bec_32</td><td>2022-07-08 14:29:24.517</td></tr><tr><td>FactFinance100m</td><td>5</td><td>1</td><td>3</td><td>COMPRESSED</td><td>333324</td><td>BULKLOAD</td><td>Table_5e36fad5620b4f1c8f3eb0d9fc992bec_33</td><td>2022-07-08 14:29:24.530</td></tr><tr><td>FactFinance100m</td><td>5</td><td>1</td><td>3</td><td>COMPRESSED</td><td>333324</td><td>BULKLOAD</td><td>Table_5e36fad5620b4f1c8f3eb0d9fc992bec_34</td><td>2022-07-08 14:29:24.627</td></tr><tr><td>FactFinance100m</td><td>5</td><td>1</td><td>3</td><td>COMPRESSED</td><td>333324</td><td>BULKLOAD</td><td>Table_5e36fad5620b4f1c8f3eb0d9fc992bec_35</td><td>2022-07-08 14:29:24.643</td></tr><tr><td>FactFinance100m</td><td>5</td><td>1</td><td>3</td><td>COMPRESSED</td><td>333324</td><td>BULKLOAD</td><td>Table_5e36fad5620b4f1c8f3eb0d9fc992bec_36</td><td>2022-07-08 14:29:24.510</td></tr><tr><td>FactFinance100m</td><td>5</td><td>1</td><td>3</td><td>COMPRESSED</td><td>333884</td><td>BULKLOAD</td><td>Table_5e36fad5620b4f1c8f3eb0d9fc992bec_37</td><td>2022-07-08 14:29:24.557</td></tr><tr><td>FactFinance100m</td><td>5</td><td>1</td><td>3</td><td>COMPRESSED</td><td>333324</td><td>BULKLOAD</td><td>Table_5e36fad5620b4f1c8f3eb0d9fc992bec_38</td><td>2022-07-08 14:29:24.473</td></tr><tr><td>FactFinance100m</td><td>5</td><td>1</td><td>3</td><td>COMPRESSED</td><td>333324</td><td>BULKLOAD</td><td>Table_5e36fad5620b4f1c8f3eb0d9fc992bec_39</td><td>2022-07-08 14:29:24.447</td></tr><tr><td>FactFinance100m</td><td>5</td><td>1</td><td>3</td><td>COMPRESSED</td><td>333324</td><td>BULKLOAD</td><td>Table_5e36fad5620b4f1c8f3eb0d9fc992bec_40</td><td>2022-07-08 14:29:24.620</td></tr><tr><td>FactFinance100m</td><td>5</td><td>1</td><td>3</td><td>COMPRESSED</td><td>333324</td><td>BULKLOAD</td><td>Table_5e36fad5620b4f1c8f3eb0d9fc992bec_41</td><td>2022-07-08 14:29:24.497</td></tr><tr><td>FactFinance100m</td><td>5</td><td>1</td><td>3</td><td>COMPRESSED</td><td>333324</td><td>BULKLOAD</td><td>Table_5e36fad5620b4f1c8f3eb0d9fc992bec_42</td><td>2022-07-08 14:29:24.627</td></tr><tr><td>FactFinance100m</td><td>5</td><td>1</td><td>3</td><td>COMPRESSED</td><td>333324</td><td>BULKLOAD</td><td>Table_5e36fad5620b4f1c8f3eb0d9fc992bec_43</td><td>2022-07-08 14:29:24.727</td></tr><tr><td>FactFinance100m</td><td>5</td><td>1</td><td>3</td><td>COMPRESSED</td><td>333324</td><td>BULKLOAD</td><td>Table_5e36fad5620b4f1c8f3eb0d9fc992bec_44</td><td>2022-07-08 14:29:24.483</td></tr><tr><td>FactFinance100m</td><td>5</td><td>1</td><td>3</td><td>COMPRESSED</td><td>333324</td><td>BULKLOAD</td><td>Table_5e36fad5620b4f1c8f3eb0d9fc992bec_45</td><td>2022-07-08 14:29:24.610</td></tr><tr><td>FactFinance100m</td><td>5</td><td>1</td><td>3</td><td>COMPRESSED</td><td>333324</td><td>BULKLOAD</td><td>Table_5e36fad5620b4f1c8f3eb0d9fc992bec_46</td><td>2022-07-08 14:29:24.490</td></tr><tr><td>FactFinance100m</td><td>5</td><td>1</td><td>3</td><td>COMPRESSED</td><td>333324</td><td>BULKLOAD</td><td>Table_5e36fad5620b4f1c8f3eb0d9fc992bec_47</td><td>2022-07-08 14:29:24.477</td></tr><tr><td>FactFinance100m</td><td>5</td><td>1</td><td>3</td><td>COMPRESSED</td><td>333324</td><td>BULKLOAD</td><td>Table_5e36fad5620b4f1c8f3eb0d9fc992bec_48</td><td>2022-07-08 14:29:24.450</td></tr><tr><td>FactFinance100m</td><td>5</td><td>1</td><td>3</td><td>COMPRESSED</td><td>333324</td><td>BULKLOAD</td><td>Table_5e36fad5620b4f1c8f3eb0d9fc992bec_49</td><td>2022-07-08 14:29:24.587</td></tr><tr><td>FactFinance100m</td><td>5</td><td>1</td><td>3</td><td>COMPRESSED</td><td>333324</td><td>BULKLOAD</td><td>Table_5e36fad5620b4f1c8f3eb0d9fc992bec_50</td><td>2022-07-08 14:29:24.647</td></tr><tr><td>FactFinance100m</td><td>5</td><td>1</td><td>3</td><td>COMPRESSED</td><td>333324</td><td>BULKLOAD</td><td>Table_5e36fad5620b4f1c8f3eb0d9fc992bec_51</td><td>2022-07-08 14:29:24.580</td></tr><tr><td>FactFinance100m</td><td>5</td><td>1</td><td>3</td><td>COMPRESSED</td><td>333324</td><td>BULKLOAD</td><td>Table_5e36fad5620b4f1c8f3eb0d9fc992bec_52</td><td>2022-07-08 14:29:24.570</td></tr><tr><td>FactFinance100m</td><td>5</td><td>1</td><td>3</td><td>COMPRESSED</td><td>333324</td><td>BULKLOAD</td><td>Table_5e36fad5620b4f1c8f3eb0d9fc992bec_53</td><td>2022-07-08 14:29:24.510</td></tr><tr><td>FactFinance100m</td><td>5</td><td>1</td><td>3</td><td>COMPRESSED</td><td>333324</td><td>BULKLOAD</td><td>Table_5e36fad5620b4f1c8f3eb0d9fc992bec_54</td><td>2022-07-08 14:29:24.620</td></tr><tr><td>FactFinance100m</td><td>5</td><td>1</td><td>3</td><td>COMPRESSED</td><td>333324</td><td>BULKLOAD</td><td>Table_5e36fad5620b4f1c8f3eb0d9fc992bec_55</td><td>2022-07-08 14:29:24.653</td></tr><tr><td>FactFinance100m</td><td>5</td><td>1</td><td>3</td><td>COMPRESSED</td><td>333324</td><td>BULKLOAD</td><td>Table_5e36fad5620b4f1c8f3eb0d9fc992bec_56</td><td>2022-07-08 14:29:24.480</td></tr><tr><td>FactFinance100m</td><td>5</td><td>1</td><td>3</td><td>COMPRESSED</td><td>333324</td><td>BULKLOAD</td><td>Table_5e36fad5620b4f1c8f3eb0d9fc992bec_57</td><td>2022-07-08 14:29:24.623</td></tr><tr><td>FactFinance100m</td><td>5</td><td>1</td><td>3</td><td>COMPRESSED</td><td>333324</td><td>BULKLOAD</td><td>Table_5e36fad5620b4f1c8f3eb0d9fc992bec_58</td><td>2022-07-08 14:29:24.470</td></tr><tr><td>FactFinance100m</td><td>5</td><td>1</td><td>3</td><td>COMPRESSED</td><td>333324</td><td>BULKLOAD</td><td>Table_5e36fad5620b4f1c8f3eb0d9fc992bec_59</td><td>2022-07-08 14:29:24.587</td></tr><tr><td>FactFinance100m</td><td>5</td><td>1</td><td>3</td><td>COMPRESSED</td><td>333324</td><td>BULKLOAD</td><td>Table_5e36fad5620b4f1c8f3eb0d9fc992bec_60</td><td>2022-07-08 14:29:24.617</td></tr><tr><td>FactFinance100m</td><td>4</td><td>1</td><td>3</td><td>COMPRESSED</td><td>333324</td><td>BULKLOAD</td><td>Table_5e36fad5620b4f1c8f3eb0d9fc992bec_1</td><td>2022-07-08 14:28:45.340</td></tr><tr><td>FactFinance100m</td><td>4</td><td>1</td><td>3</td><td>COMPRESSED</td><td>333324</td><td>BULKLOAD</td><td>Table_5e36fad5620b4f1c8f3eb0d9fc992bec_2</td><td>2022-07-08 14:28:45.420</td></tr><tr><td>FactFinance100m</td><td>4</td><td>1</td><td>3</td><td>COMPRESSED</td><td>333324</td><td>BULKLOAD</td><td>Table_5e36fad5620b4f1c8f3eb0d9fc992bec_3</td><td>2022-07-08 14:28:45.293</td></tr><tr><td>FactFinance100m</td><td>4</td><td>1</td><td>3</td><td>COMPRESSED</td><td>333324</td><td>BULKLOAD</td><td>Table_5e36fad5620b4f1c8f3eb0d9fc992bec_4</td><td>2022-07-08 14:28:45.293</td></tr><tr><td>FactFinance100m</td><td>4</td><td>1</td><td>3</td><td>COMPRESSED</td><td>333324</td><td>BULKLOAD</td><td>Table_5e36fad5620b4f1c8f3eb0d9fc992bec_5</td><td>2022-07-08 14:28:45.260</td></tr><tr><td>FactFinance100m</td><td>4</td><td>1</td><td>3</td><td>COMPRESSED</td><td>333324</td><td>BULKLOAD</td><td>Table_5e36fad5620b4f1c8f3eb0d9fc992bec_6</td><td>2022-07-08 14:28:46.167</td></tr><tr><td>FactFinance100m</td><td>4</td><td>1</td><td>3</td><td>COMPRESSED</td><td>333324</td><td>BULKLOAD</td><td>Table_5e36fad5620b4f1c8f3eb0d9fc992bec_7</td><td>2022-07-08 14:28:45.357</td></tr><tr><td>FactFinance100m</td><td>4</td><td>1</td><td>3</td><td>COMPRESSED</td><td>333324</td><td>BULKLOAD</td><td>Table_5e36fad5620b4f1c8f3eb0d9fc992bec_8</td><td>2022-07-08 14:28:45.343</td></tr><tr><td>FactFinance100m</td><td>4</td><td>1</td><td>3</td><td>COMPRESSED</td><td>333324</td><td>BULKLOAD</td><td>Table_5e36fad5620b4f1c8f3eb0d9fc992bec_9</td><td>2022-07-08 14:28:45.277</td></tr><tr><td>FactFinance100m</td><td>4</td><td>1</td><td>3</td><td>COMPRESSED</td><td>333324</td><td>BULKLOAD</td><td>Table_5e36fad5620b4f1c8f3eb0d9fc992bec_10</td><td>2022-07-08 14:28:45.420</td></tr><tr><td>FactFinance100m</td><td>4</td><td>1</td><td>3</td><td>COMPRESSED</td><td>333324</td><td>BULKLOAD</td><td>Table_5e36fad5620b4f1c8f3eb0d9fc992bec_11</td><td>2022-07-08 14:28:45.393</td></tr><tr><td>FactFinance100m</td><td>4</td><td>1</td><td>3</td><td>COMPRESSED</td><td>333324</td><td>BULKLOAD</td><td>Table_5e36fad5620b4f1c8f3eb0d9fc992bec_12</td><td>2022-07-08 14:28:45.313</td></tr><tr><td>FactFinance100m</td><td>4</td><td>1</td><td>3</td><td>COMPRESSED</td><td>333324</td><td>BULKLOAD</td><td>Table_5e36fad5620b4f1c8f3eb0d9fc992bec_13</td><td>2022-07-08 14:28:45.303</td></tr><tr><td>FactFinance100m</td><td>4</td><td>1</td><td>3</td><td>COMPRESSED</td><td>333324</td><td>BULKLOAD</td><td>Table_5e36fad5620b4f1c8f3eb0d9fc992bec_14</td><td>2022-07-08 14:28:46.080</td></tr><tr><td>FactFinance100m</td><td>4</td><td>1</td><td>3</td><td>COMPRESSED</td><td>333884</td><td>BULKLOAD</td><td>Table_5e36fad5620b4f1c8f3eb0d9fc992bec_15</td><td>2022-07-08 14:28:46.100</td></tr><tr><td>FactFinance100m</td><td>4</td><td>1</td><td>3</td><td>COMPRESSED</td><td>333324</td><td>BULKLOAD</td><td>Table_5e36fad5620b4f1c8f3eb0d9fc992bec_16</td><td>2022-07-08 14:28:46.070</td></tr><tr><td>FactFinance100m</td><td>4</td><td>1</td><td>3</td><td>COMPRESSED</td><td>333324</td><td>BULKLOAD</td><td>Table_5e36fad5620b4f1c8f3eb0d9fc992bec_17</td><td>2022-07-08 14:28:45.330</td></tr><tr><td>FactFinance100m</td><td>4</td><td>1</td><td>3</td><td>COMPRESSED</td><td>333324</td><td>BULKLOAD</td><td>Table_5e36fad5620b4f1c8f3eb0d9fc992bec_18</td><td>2022-07-08 14:28:45.393</td></tr><tr><td>FactFinance100m</td><td>4</td><td>1</td><td>3</td><td>COMPRESSED</td><td>333324</td><td>BULKLOAD</td><td>Table_5e36fad5620b4f1c8f3eb0d9fc992bec_19</td><td>2022-07-08 14:28:46.110</td></tr><tr><td>FactFinance100m</td><td>4</td><td>1</td><td>3</td><td>COMPRESSED</td><td>333324</td><td>BULKLOAD</td><td>Table_5e36fad5620b4f1c8f3eb0d9fc992bec_20</td><td>2022-07-08 14:28:45.353</td></tr><tr><td>FactFinance100m</td><td>4</td><td>1</td><td>3</td><td>COMPRESSED</td><td>333324</td><td>BULKLOAD</td><td>Table_5e36fad5620b4f1c8f3eb0d9fc992bec_21</td><td>2022-07-08 14:28:46.097</td></tr><tr><td>FactFinance100m</td><td>4</td><td>1</td><td>3</td><td>COMPRESSED</td><td>333324</td><td>BULKLOAD</td><td>Table_5e36fad5620b4f1c8f3eb0d9fc992bec_22</td><td>2022-07-08 14:28:45.413</td></tr><tr><td>FactFinance100m</td><td>4</td><td>1</td><td>3</td><td>COMPRESSED</td><td>333324</td><td>BULKLOAD</td><td>Table_5e36fad5620b4f1c8f3eb0d9fc992bec_23</td><td>2022-07-08 14:28:46.070</td></tr><tr><td>FactFinance100m</td><td>4</td><td>1</td><td>3</td><td>COMPRESSED</td><td>333324</td><td>BULKLOAD</td><td>Table_5e36fad5620b4f1c8f3eb0d9fc992bec_24</td><td>2022-07-08 14:28:45.320</td></tr><tr><td>FactFinance100m</td><td>4</td><td>1</td><td>3</td><td>COMPRESSED</td><td>333324</td><td>BULKLOAD</td><td>Table_5e36fad5620b4f1c8f3eb0d9fc992bec_25</td><td>2022-07-08 14:28:45.293</td></tr><tr><td>FactFinance100m</td><td>4</td><td>1</td><td>3</td><td>COMPRESSED</td><td>333324</td><td>BULKLOAD</td><td>Table_5e36fad5620b4f1c8f3eb0d9fc992bec_26</td><td>2022-07-08 14:28:45.413</td></tr><tr><td>FactFinance100m</td><td>4</td><td>1</td><td>3</td><td>COMPRESSED</td><td>333324</td><td>BULKLOAD</td><td>Table_5e36fad5620b4f1c8f3eb0d9fc992bec_27</td><td>2022-07-08 14:28:45.430</td></tr><tr><td>FactFinance100m</td><td>4</td><td>1</td><td>3</td><td>COMPRESSED</td><td>333324</td><td>BULKLOAD</td><td>Table_5e36fad5620b4f1c8f3eb0d9fc992bec_28</td><td>2022-07-08 14:28:45.427</td></tr><tr><td>FactFinance100m</td><td>4</td><td>1</td><td>3</td><td>COMPRESSED</td><td>333324</td><td>BULKLOAD</td><td>Table_5e36fad5620b4f1c8f3eb0d9fc992bec_29</td><td>2022-07-08 14:28:46.130</td></tr><tr><td>FactFinance100m</td><td>4</td><td>1</td><td>3</td><td>COMPRESSED</td><td>333324</td><td>BULKLOAD</td><td>Table_5e36fad5620b4f1c8f3eb0d9fc992bec_30</td><td>2022-07-08 14:28:45.367</td></tr><tr><td>FactFinance100m</td><td>4</td><td>1</td><td>3</td><td>COMPRESSED</td><td>333324</td><td>BULKLOAD</td><td>Table_5e36fad5620b4f1c8f3eb0d9fc992bec_31</td><td>2022-07-08 14:28:45.443</td></tr><tr><td>FactFinance100m</td><td>4</td><td>1</td><td>3</td><td>COMPRESSED</td><td>333324</td><td>BULKLOAD</td><td>Table_5e36fad5620b4f1c8f3eb0d9fc992bec_32</td><td>2022-07-08 14:28:45.360</td></tr><tr><td>FactFinance100m</td><td>4</td><td>1</td><td>3</td><td>COMPRESSED</td><td>333324</td><td>BULKLOAD</td><td>Table_5e36fad5620b4f1c8f3eb0d9fc992bec_33</td><td>2022-07-08 14:28:45.420</td></tr><tr><td>FactFinance100m</td><td>4</td><td>1</td><td>3</td><td>COMPRESSED</td><td>333324</td><td>BULKLOAD</td><td>Table_5e36fad5620b4f1c8f3eb0d9fc992bec_34</td><td>2022-07-08 14:28:45.420</td></tr><tr><td>FactFinance100m</td><td>4</td><td>1</td><td>3</td><td>COMPRESSED</td><td>333324</td><td>BULKLOAD</td><td>Table_5e36fad5620b4f1c8f3eb0d9fc992bec_35</td><td>2022-07-08 14:28:45.473</td></tr><tr><td>FactFinance100m</td><td>4</td><td>1</td><td>3</td><td>COMPRESSED</td><td>333324</td><td>BULKLOAD</td><td>Table_5e36fad5620b4f1c8f3eb0d9fc992bec_36</td><td>2022-07-08 14:28:45.413</td></tr><tr><td>FactFinance100m</td><td>4</td><td>1</td><td>3</td><td>COMPRESSED</td><td>333324</td><td>BULKLOAD</td><td>Table_5e36fad5620b4f1c8f3eb0d9fc992bec_37</td><td>2022-07-08 14:28:45.377</td></tr><tr><td>FactFinance100m</td><td>4</td><td>1</td><td>3</td><td>COMPRESSED</td><td>333324</td><td>BULKLOAD</td><td>Table_5e36fad5620b4f1c8f3eb0d9fc992bec_38</td><td>2022-07-08 14:28:45.437</td></tr><tr><td>FactFinance100m</td><td>4</td><td>1</td><td>3</td><td>COMPRESSED</td><td>333324</td><td>BULKLOAD</td><td>Table_5e36fad5620b4f1c8f3eb0d9fc992bec_39</td><td>2022-07-08 14:28:45.390</td></tr><tr><td>FactFinance100m</td><td>4</td><td>1</td><td>3</td><td>COMPRESSED</td><td>333324</td><td>BULKLOAD</td><td>Table_5e36fad5620b4f1c8f3eb0d9fc992bec_40</td><td>2022-07-08 14:28:46.163</td></tr><tr><td>FactFinance100m</td><td>4</td><td>1</td><td>3</td><td>COMPRESSED</td><td>333324</td><td>BULKLOAD</td><td>Table_5e36fad5620b4f1c8f3eb0d9fc992bec_41</td><td>2022-07-08 14:28:45.377</td></tr><tr><td>FactFinance100m</td><td>4</td><td>1</td><td>3</td><td>COMPRESSED</td><td>333324</td><td>BULKLOAD</td><td>Table_5e36fad5620b4f1c8f3eb0d9fc992bec_42</td><td>2022-07-08 14:28:45.410</td></tr><tr><td>FactFinance100m</td><td>4</td><td>1</td><td>3</td><td>COMPRESSED</td><td>333324</td><td>BULKLOAD</td><td>Table_5e36fad5620b4f1c8f3eb0d9fc992bec_43</td><td>2022-07-08 14:28:45.400</td></tr><tr><td>FactFinance100m</td><td>4</td><td>1</td><td>3</td><td>COMPRESSED</td><td>333324</td><td>BULKLOAD</td><td>Table_5e36fad5620b4f1c8f3eb0d9fc992bec_44</td><td>2022-07-08 14:28:45.423</td></tr><tr><td>FactFinance100m</td><td>4</td><td>1</td><td>3</td><td>COMPRESSED</td><td>333324</td><td>BULKLOAD</td><td>Table_5e36fad5620b4f1c8f3eb0d9fc992bec_45</td><td>2022-07-08 14:28:45.420</td></tr><tr><td>FactFinance100m</td><td>4</td><td>1</td><td>3</td><td>COMPRESSED</td><td>333324</td><td>BULKLOAD</td><td>Table_5e36fad5620b4f1c8f3eb0d9fc992bec_46</td><td>2022-07-08 14:28:45.443</td></tr><tr><td>FactFinance100m</td><td>4</td><td>1</td><td>3</td><td>COMPRESSED</td><td>333324</td><td>BULKLOAD</td><td>Table_5e36fad5620b4f1c8f3eb0d9fc992bec_47</td><td>2022-07-08 14:28:45.373</td></tr><tr><td>FactFinance100m</td><td>4</td><td>1</td><td>3</td><td>COMPRESSED</td><td>333324</td><td>BULKLOAD</td><td>Table_5e36fad5620b4f1c8f3eb0d9fc992bec_48</td><td>2022-07-08 14:28:45.400</td></tr><tr><td>FactFinance100m</td><td>4</td><td>1</td><td>3</td><td>COMPRESSED</td><td>333324</td><td>BULKLOAD</td><td>Table_5e36fad5620b4f1c8f3eb0d9fc992bec_49</td><td>2022-07-08 14:28:45.397</td></tr><tr><td>FactFinance100m</td><td>4</td><td>1</td><td>3</td><td>COMPRESSED</td><td>333324</td><td>BULKLOAD</td><td>Table_5e36fad5620b4f1c8f3eb0d9fc992bec_50</td><td>2022-07-08 14:28:45.420</td></tr><tr><td>FactFinance100m</td><td>4</td><td>1</td><td>3</td><td>COMPRESSED</td><td>333324</td><td>BULKLOAD</td><td>Table_5e36fad5620b4f1c8f3eb0d9fc992bec_51</td><td>2022-07-08 14:28:45.423</td></tr><tr><td>FactFinance100m</td><td>4</td><td>1</td><td>3</td><td>COMPRESSED</td><td>333324</td><td>BULKLOAD</td><td>Table_5e36fad5620b4f1c8f3eb0d9fc992bec_52</td><td>2022-07-08 14:28:45.323</td></tr><tr><td>FactFinance100m</td><td>4</td><td>1</td><td>3</td><td>COMPRESSED</td><td>333324</td><td>BULKLOAD</td><td>Table_5e36fad5620b4f1c8f3eb0d9fc992bec_53</td><td>2022-07-08 14:28:45.330</td></tr><tr><td>FactFinance100m</td><td>4</td><td>1</td><td>3</td><td>COMPRESSED</td><td>333324</td><td>BULKLOAD</td><td>Table_5e36fad5620b4f1c8f3eb0d9fc992bec_54</td><td>2022-07-08 14:28:46.153</td></tr><tr><td>FactFinance100m</td><td>4</td><td>1</td><td>3</td><td>COMPRESSED</td><td>333324</td><td>BULKLOAD</td><td>Table_5e36fad5620b4f1c8f3eb0d9fc992bec_55</td><td>2022-07-08 14:28:45.440</td></tr><tr><td>FactFinance100m</td><td>4</td><td>1</td><td>3</td><td>COMPRESSED</td><td>333324</td><td>BULKLOAD</td><td>Table_5e36fad5620b4f1c8f3eb0d9fc992bec_56</td><td>2022-07-08 14:28:45.320</td></tr><tr><td>FactFinance100m</td><td>4</td><td>1</td><td>3</td><td>COMPRESSED</td><td>333324</td><td>BULKLOAD</td><td>Table_5e36fad5620b4f1c8f3eb0d9fc992bec_57</td><td>2022-07-08 14:28:45.440</td></tr><tr><td>FactFinance100m</td><td>4</td><td>1</td><td>3</td><td>COMPRESSED</td><td>333324</td><td>BULKLOAD</td><td>Table_5e36fad5620b4f1c8f3eb0d9fc992bec_58</td><td>2022-07-08 14:28:45.350</td></tr><tr><td>FactFinance100m</td><td>4</td><td>1</td><td>3</td><td>COMPRESSED</td><td>333324</td><td>BULKLOAD</td><td>Table_5e36fad5620b4f1c8f3eb0d9fc992bec_59</td><td>2022-07-08 14:28:45.423</td></tr><tr><td>FactFinance100m</td><td>4</td><td>1</td><td>3</td><td>COMPRESSED</td><td>333324</td><td>BULKLOAD</td><td>Table_5e36fad5620b4f1c8f3eb0d9fc992bec_60</td><td>2022-07-08 14:28:45.377</td></tr><tr><td>FactFinance100m</td><td>3</td><td>1</td><td>3</td><td>COMPRESSED</td><td>333324</td><td>BULKLOAD</td><td>Table_5e36fad5620b4f1c8f3eb0d9fc992bec_1</td><td>2022-07-08 14:27:58.697</td></tr><tr><td>FactFinance100m</td><td>3</td><td>1</td><td>3</td><td>COMPRESSED</td><td>333324</td><td>BULKLOAD</td><td>Table_5e36fad5620b4f1c8f3eb0d9fc992bec_2</td><td>2022-07-08 14:27:58.700</td></tr><tr><td>FactFinance100m</td><td>3</td><td>1</td><td>3</td><td>COMPRESSED</td><td>333324</td><td>BULKLOAD</td><td>Table_5e36fad5620b4f1c8f3eb0d9fc992bec_3</td><td>2022-07-08 14:27:58.620</td></tr><tr><td>FactFinance100m</td><td>3</td><td>1</td><td>3</td><td>COMPRESSED</td><td>333324</td><td>BULKLOAD</td><td>Table_5e36fad5620b4f1c8f3eb0d9fc992bec_4</td><td>2022-07-08 14:27:58.760</td></tr><tr><td>FactFinance100m</td><td>3</td><td>1</td><td>3</td><td>COMPRESSED</td><td>333324</td><td>BULKLOAD</td><td>Table_5e36fad5620b4f1c8f3eb0d9fc992bec_5</td><td>2022-07-08 14:27:58.667</td></tr><tr><td>FactFinance100m</td><td>3</td><td>1</td><td>3</td><td>COMPRESSED</td><td>333324</td><td>BULKLOAD</td><td>Table_5e36fad5620b4f1c8f3eb0d9fc992bec_6</td><td>2022-07-08 14:27:58.730</td></tr><tr><td>FactFinance100m</td><td>3</td><td>1</td><td>3</td><td>COMPRESSED</td><td>333324</td><td>BULKLOAD</td><td>Table_5e36fad5620b4f1c8f3eb0d9fc992bec_7</td><td>2022-07-08 14:27:58.693</td></tr><tr><td>FactFinance100m</td><td>3</td><td>1</td><td>3</td><td>COMPRESSED</td><td>333324</td><td>BULKLOAD</td><td>Table_5e36fad5620b4f1c8f3eb0d9fc992bec_8</td><td>2022-07-08 14:27:58.663</td></tr><tr><td>FactFinance100m</td><td>3</td><td>1</td><td>3</td><td>COMPRESSED</td><td>333324</td><td>BULKLOAD</td><td>Table_5e36fad5620b4f1c8f3eb0d9fc992bec_9</td><td>2022-07-08 14:27:58.650</td></tr><tr><td>FactFinance100m</td><td>3</td><td>1</td><td>3</td><td>COMPRESSED</td><td>333324</td><td>BULKLOAD</td><td>Table_5e36fad5620b4f1c8f3eb0d9fc992bec_10</td><td>2022-07-08 14:27:58.727</td></tr><tr><td>FactFinance100m</td><td>3</td><td>1</td><td>3</td><td>COMPRESSED</td><td>333324</td><td>BULKLOAD</td><td>Table_5e36fad5620b4f1c8f3eb0d9fc992bec_11</td><td>2022-07-08 14:27:58.740</td></tr><tr><td>FactFinance100m</td><td>3</td><td>1</td><td>3</td><td>COMPRESSED</td><td>333884</td><td>BULKLOAD</td><td>Table_5e36fad5620b4f1c8f3eb0d9fc992bec_12</td><td>2022-07-08 14:27:58.600</td></tr><tr><td>FactFinance100m</td><td>3</td><td>1</td><td>3</td><td>COMPRESSED</td><td>333324</td><td>BULKLOAD</td><td>Table_5e36fad5620b4f1c8f3eb0d9fc992bec_13</td><td>2022-07-08 14:27:58.740</td></tr><tr><td>FactFinance100m</td><td>3</td><td>1</td><td>3</td><td>COMPRESSED</td><td>333324</td><td>BULKLOAD</td><td>Table_5e36fad5620b4f1c8f3eb0d9fc992bec_14</td><td>2022-07-08 14:27:59.283</td></tr><tr><td>FactFinance100m</td><td>3</td><td>1</td><td>3</td><td>COMPRESSED</td><td>333324</td><td>BULKLOAD</td><td>Table_5e36fad5620b4f1c8f3eb0d9fc992bec_15</td><td>2022-07-08 14:27:58.687</td></tr><tr><td>FactFinance100m</td><td>3</td><td>1</td><td>3</td><td>COMPRESSED</td><td>333324</td><td>BULKLOAD</td><td>Table_5e36fad5620b4f1c8f3eb0d9fc992bec_16</td><td>2022-07-08 14:27:58.633</td></tr><tr><td>FactFinance100m</td><td>3</td><td>1</td><td>3</td><td>COMPRESSED</td><td>333324</td><td>BULKLOAD</td><td>Table_5e36fad5620b4f1c8f3eb0d9fc992bec_17</td><td>2022-07-08 14:27:59.373</td></tr><tr><td>FactFinance100m</td><td>3</td><td>1</td><td>3</td><td>COMPRESSED</td><td>333324</td><td>BULKLOAD</td><td>Table_5e36fad5620b4f1c8f3eb0d9fc992bec_18</td><td>2022-07-08 14:27:58.613</td></tr><tr><td>FactFinance100m</td><td>3</td><td>1</td><td>3</td><td>COMPRESSED</td><td>333324</td><td>BULKLOAD</td><td>Table_5e36fad5620b4f1c8f3eb0d9fc992bec_19</td><td>2022-07-08 14:27:58.690</td></tr><tr><td>FactFinance100m</td><td>3</td><td>1</td><td>3</td><td>COMPRESSED</td><td>333324</td><td>BULKLOAD</td><td>Table_5e36fad5620b4f1c8f3eb0d9fc992bec_20</td><td>2022-07-08 14:27:58.747</td></tr><tr><td>FactFinance100m</td><td>3</td><td>1</td><td>3</td><td>COMPRESSED</td><td>333324</td><td>BULKLOAD</td><td>Table_5e36fad5620b4f1c8f3eb0d9fc992bec_21</td><td>2022-07-08 14:27:58.630</td></tr><tr><td>FactFinance100m</td><td>3</td><td>1</td><td>3</td><td>COMPRESSED</td><td>333324</td><td>BULKLOAD</td><td>Table_5e36fad5620b4f1c8f3eb0d9fc992bec_22</td><td>2022-07-08 14:27:58.753</td></tr><tr><td>FactFinance100m</td><td>3</td><td>1</td><td>3</td><td>COMPRESSED</td><td>333324</td><td>BULKLOAD</td><td>Table_5e36fad5620b4f1c8f3eb0d9fc992bec_23</td><td>2022-07-08 14:27:58.700</td></tr><tr><td>FactFinance100m</td><td>3</td><td>1</td><td>3</td><td>COMPRESSED</td><td>333324</td><td>BULKLOAD</td><td>Table_5e36fad5620b4f1c8f3eb0d9fc992bec_24</td><td>2022-07-08 14:27:58.680</td></tr><tr><td>FactFinance100m</td><td>3</td><td>1</td><td>3</td><td>COMPRESSED</td><td>333324</td><td>BULKLOAD</td><td>Table_5e36fad5620b4f1c8f3eb0d9fc992bec_25</td><td>2022-07-08 14:27:58.663</td></tr><tr><td>FactFinance100m</td><td>3</td><td>1</td><td>3</td><td>COMPRESSED</td><td>333324</td><td>BULKLOAD</td><td>Table_5e36fad5620b4f1c8f3eb0d9fc992bec_26</td><td>2022-07-08 14:27:58.720</td></tr><tr><td>FactFinance100m</td><td>3</td><td>1</td><td>3</td><td>COMPRESSED</td><td>333324</td><td>BULKLOAD</td><td>Table_5e36fad5620b4f1c8f3eb0d9fc992bec_27</td><td>2022-07-08 14:27:58.597</td></tr><tr><td>FactFinance100m</td><td>3</td><td>1</td><td>3</td><td>COMPRESSED</td><td>333324</td><td>BULKLOAD</td><td>Table_5e36fad5620b4f1c8f3eb0d9fc992bec_28</td><td>2022-07-08 14:27:58.610</td></tr><tr><td>FactFinance100m</td><td>3</td><td>1</td><td>3</td><td>COMPRESSED</td><td>333324</td><td>BULKLOAD</td><td>Table_5e36fad5620b4f1c8f3eb0d9fc992bec_29</td><td>2022-07-08 14:27:58.723</td></tr><tr><td>FactFinance100m</td><td>3</td><td>1</td><td>3</td><td>COMPRESSED</td><td>333324</td><td>BULKLOAD</td><td>Table_5e36fad5620b4f1c8f3eb0d9fc992bec_30</td><td>2022-07-08 14:27:58.737</td></tr><tr><td>FactFinance100m</td><td>3</td><td>1</td><td>3</td><td>COMPRESSED</td><td>333324</td><td>BULKLOAD</td><td>Table_5e36fad5620b4f1c8f3eb0d9fc992bec_31</td><td>2022-07-08 14:27:58.650</td></tr><tr><td>FactFinance100m</td><td>3</td><td>1</td><td>3</td><td>COMPRESSED</td><td>333324</td><td>BULKLOAD</td><td>Table_5e36fad5620b4f1c8f3eb0d9fc992bec_32</td><td>2022-07-08 14:27:58.580</td></tr><tr><td>FactFinance100m</td><td>3</td><td>1</td><td>3</td><td>COMPRESSED</td><td>333324</td><td>BULKLOAD</td><td>Table_5e36fad5620b4f1c8f3eb0d9fc992bec_33</td><td>2022-07-08 14:27:59.333</td></tr><tr><td>FactFinance100m</td><td>3</td><td>1</td><td>3</td><td>COMPRESSED</td><td>333324</td><td>BULKLOAD</td><td>Table_5e36fad5620b4f1c8f3eb0d9fc992bec_34</td><td>2022-07-08 14:27:58.623</td></tr><tr><td>FactFinance100m</td><td>3</td><td>1</td><td>3</td><td>COMPRESSED</td><td>333324</td><td>BULKLOAD</td><td>Table_5e36fad5620b4f1c8f3eb0d9fc992bec_35</td><td>2022-07-08 14:27:59.003</td></tr><tr><td>FactFinance100m</td><td>3</td><td>1</td><td>3</td><td>COMPRESSED</td><td>333324</td><td>BULKLOAD</td><td>Table_5e36fad5620b4f1c8f3eb0d9fc992bec_36</td><td>2022-07-08 14:27:58.597</td></tr><tr><td>FactFinance100m</td><td>3</td><td>1</td><td>3</td><td>COMPRESSED</td><td>333324</td><td>BULKLOAD</td><td>Table_5e36fad5620b4f1c8f3eb0d9fc992bec_37</td><td>2022-07-08 14:27:58.553</td></tr><tr><td>FactFinance100m</td><td>3</td><td>1</td><td>3</td><td>COMPRESSED</td><td>333324</td><td>BULKLOAD</td><td>Table_5e36fad5620b4f1c8f3eb0d9fc992bec_38</td><td>2022-07-08 14:27:58.613</td></tr><tr><td>FactFinance100m</td><td>3</td><td>1</td><td>3</td><td>COMPRESSED</td><td>333324</td><td>BULKLOAD</td><td>Table_5e36fad5620b4f1c8f3eb0d9fc992bec_39</td><td>2022-07-08 14:27:58.637</td></tr><tr><td>FactFinance100m</td><td>3</td><td>1</td><td>3</td><td>COMPRESSED</td><td>333324</td><td>BULKLOAD</td><td>Table_5e36fad5620b4f1c8f3eb0d9fc992bec_40</td><td>2022-07-08 14:27:58.660</td></tr><tr><td>FactFinance100m</td><td>3</td><td>1</td><td>3</td><td>COMPRESSED</td><td>333324</td><td>BULKLOAD</td><td>Table_5e36fad5620b4f1c8f3eb0d9fc992bec_41</td><td>2022-07-08 14:27:58.637</td></tr><tr><td>FactFinance100m</td><td>3</td><td>1</td><td>3</td><td>COMPRESSED</td><td>333324</td><td>BULKLOAD</td><td>Table_5e36fad5620b4f1c8f3eb0d9fc992bec_42</td><td>2022-07-08 14:27:58.680</td></tr><tr><td>FactFinance100m</td><td>3</td><td>1</td><td>3</td><td>COMPRESSED</td><td>333324</td><td>BULKLOAD</td><td>Table_5e36fad5620b4f1c8f3eb0d9fc992bec_43</td><td>2022-07-08 14:27:58.703</td></tr><tr><td>FactFinance100m</td><td>3</td><td>1</td><td>3</td><td>COMPRESSED</td><td>333324</td><td>BULKLOAD</td><td>Table_5e36fad5620b4f1c8f3eb0d9fc992bec_44</td><td>2022-07-08 14:27:58.577</td></tr><tr><td>FactFinance100m</td><td>3</td><td>1</td><td>3</td><td>COMPRESSED</td><td>333324</td><td>BULKLOAD</td><td>Table_5e36fad5620b4f1c8f3eb0d9fc992bec_45</td><td>2022-07-08 14:27:58.650</td></tr><tr><td>FactFinance100m</td><td>3</td><td>1</td><td>3</td><td>COMPRESSED</td><td>333324</td><td>BULKLOAD</td><td>Table_5e36fad5620b4f1c8f3eb0d9fc992bec_46</td><td>2022-07-08 14:27:58.610</td></tr><tr><td>FactFinance100m</td><td>3</td><td>1</td><td>3</td><td>COMPRESSED</td><td>333324</td><td>BULKLOAD</td><td>Table_5e36fad5620b4f1c8f3eb0d9fc992bec_47</td><td>2022-07-08 14:27:58.687</td></tr><tr><td>FactFinance100m</td><td>3</td><td>1</td><td>3</td><td>COMPRESSED</td><td>333324</td><td>BULKLOAD</td><td>Table_5e36fad5620b4f1c8f3eb0d9fc992bec_48</td><td>2022-07-08 14:27:58.540</td></tr><tr><td>FactFinance100m</td><td>3</td><td>1</td><td>3</td><td>COMPRESSED</td><td>333324</td><td>BULKLOAD</td><td>Table_5e36fad5620b4f1c8f3eb0d9fc992bec_49</td><td>2022-07-08 14:27:58.673</td></tr><tr><td>FactFinance100m</td><td>3</td><td>1</td><td>3</td><td>COMPRESSED</td><td>333324</td><td>BULKLOAD</td><td>Table_5e36fad5620b4f1c8f3eb0d9fc992bec_50</td><td>2022-07-08 14:27:58.720</td></tr><tr><td>FactFinance100m</td><td>3</td><td>1</td><td>3</td><td>COMPRESSED</td><td>333324</td><td>BULKLOAD</td><td>Table_5e36fad5620b4f1c8f3eb0d9fc992bec_51</td><td>2022-07-08 14:27:58.680</td></tr><tr><td>FactFinance100m</td><td>3</td><td>1</td><td>3</td><td>COMPRESSED</td><td>333324</td><td>BULKLOAD</td><td>Table_5e36fad5620b4f1c8f3eb0d9fc992bec_52</td><td>2022-07-08 14:27:58.703</td></tr><tr><td>FactFinance100m</td><td>3</td><td>1</td><td>3</td><td>COMPRESSED</td><td>333324</td><td>BULKLOAD</td><td>Table_5e36fad5620b4f1c8f3eb0d9fc992bec_53</td><td>2022-07-08 14:27:59.353</td></tr><tr><td>FactFinance100m</td><td>3</td><td>1</td><td>3</td><td>COMPRESSED</td><td>333324</td><td>BULKLOAD</td><td>Table_5e36fad5620b4f1c8f3eb0d9fc992bec_54</td><td>2022-07-08 14:27:58.703</td></tr><tr><td>FactFinance100m</td><td>3</td><td>1</td><td>3</td><td>COMPRESSED</td><td>333324</td><td>BULKLOAD</td><td>Table_5e36fad5620b4f1c8f3eb0d9fc992bec_55</td><td>2022-07-08 14:27:58.740</td></tr><tr><td>FactFinance100m</td><td>3</td><td>1</td><td>3</td><td>COMPRESSED</td><td>333324</td><td>BULKLOAD</td><td>Table_5e36fad5620b4f1c8f3eb0d9fc992bec_56</td><td>2022-07-08 14:27:58.587</td></tr><tr><td>FactFinance100m</td><td>3</td><td>1</td><td>3</td><td>COMPRESSED</td><td>333324</td><td>BULKLOAD</td><td>Table_5e36fad5620b4f1c8f3eb0d9fc992bec_57</td><td>2022-07-08 14:27:58.557</td></tr><tr><td>FactFinance100m</td><td>3</td><td>1</td><td>3</td><td>COMPRESSED</td><td>333324</td><td>BULKLOAD</td><td>Table_5e36fad5620b4f1c8f3eb0d9fc992bec_58</td><td>2022-07-08 14:27:58.680</td></tr><tr><td>FactFinance100m</td><td>3</td><td>1</td><td>3</td><td>COMPRESSED</td><td>333324</td><td>BULKLOAD</td><td>Table_5e36fad5620b4f1c8f3eb0d9fc992bec_59</td><td>2022-07-08 14:27:58.740</td></tr><tr><td>FactFinance100m</td><td>3</td><td>1</td><td>3</td><td>COMPRESSED</td><td>333324</td><td>BULKLOAD</td><td>Table_5e36fad5620b4f1c8f3eb0d9fc992bec_60</td><td>2022-07-08 14:27:58.560</td></tr><tr><td>FactFinance100m</td><td>2</td><td>1</td><td>1</td><td>OPEN</td><td>69172</td><td>NULL</td><td>Table_5e36fad5620b4f1c8f3eb0d9fc992bec_1</td><td>2022-07-08 14:20:27.257</td></tr><tr><td>FactFinance100m</td><td>2</td><td>1</td><td>1</td><td>OPEN</td><td>69172</td><td>NULL</td><td>Table_5e36fad5620b4f1c8f3eb0d9fc992bec_2</td><td>2022-07-08 14:20:27.217</td></tr><tr><td>FactFinance100m</td><td>2</td><td>1</td><td>1</td><td>OPEN</td><td>69172</td><td>NULL</td><td>Table_5e36fad5620b4f1c8f3eb0d9fc992bec_3</td><td>2022-07-08 14:20:27.210</td></tr><tr><td>FactFinance100m</td><td>2</td><td>1</td><td>1</td><td>OPEN</td><td>69172</td><td>NULL</td><td>Table_5e36fad5620b4f1c8f3eb0d9fc992bec_4</td><td>2022-07-08 14:20:27.003</td></tr><tr><td>FactFinance100m</td><td>2</td><td>1</td><td>1</td><td>OPEN</td><td>69172</td><td>NULL</td><td>Table_5e36fad5620b4f1c8f3eb0d9fc992bec_5</td><td>2022-07-08 14:20:27.113</td></tr><tr><td>FactFinance100m</td><td>2</td><td>1</td><td>1</td><td>OPEN</td><td>69172</td><td>NULL</td><td>Table_5e36fad5620b4f1c8f3eb0d9fc992bec_6</td><td>2022-07-08 14:20:27.247</td></tr><tr><td>FactFinance100m</td><td>2</td><td>1</td><td>1</td><td>OPEN</td><td>69172</td><td>NULL</td><td>Table_5e36fad5620b4f1c8f3eb0d9fc992bec_7</td><td>2022-07-08 14:20:27.123</td></tr><tr><td>FactFinance100m</td><td>2</td><td>1</td><td>1</td><td>OPEN</td><td>69172</td><td>NULL</td><td>Table_5e36fad5620b4f1c8f3eb0d9fc992bec_8</td><td>2022-07-08 14:20:27.193</td></tr><tr><td>FactFinance100m</td><td>2</td><td>1</td><td>1</td><td>OPEN</td><td>69736</td><td>NULL</td><td>Table_5e36fad5620b4f1c8f3eb0d9fc992bec_9</td><td>2022-07-08 14:20:26.993</td></tr><tr><td>FactFinance100m</td><td>2</td><td>1</td><td>1</td><td>OPEN</td><td>69736</td><td>NULL</td><td>Table_5e36fad5620b4f1c8f3eb0d9fc992bec_10</td><td>2022-07-08 14:20:27.173</td></tr><tr><td>FactFinance100m</td><td>2</td><td>1</td><td>1</td><td>OPEN</td><td>69736</td><td>NULL</td><td>Table_5e36fad5620b4f1c8f3eb0d9fc992bec_11</td><td>2022-07-08 14:20:27.117</td></tr><tr><td>FactFinance100m</td><td>2</td><td>1</td><td>1</td><td>OPEN</td><td>69736</td><td>NULL</td><td>Table_5e36fad5620b4f1c8f3eb0d9fc992bec_12</td><td>2022-07-08 14:20:27.090</td></tr><tr><td>FactFinance100m</td><td>2</td><td>1</td><td>1</td><td>OPEN</td><td>69736</td><td>NULL</td><td>Table_5e36fad5620b4f1c8f3eb0d9fc992bec_13</td><td>2022-07-08 14:20:27.140</td></tr><tr><td>FactFinance100m</td><td>2</td><td>1</td><td>1</td><td>OPEN</td><td>69736</td><td>NULL</td><td>Table_5e36fad5620b4f1c8f3eb0d9fc992bec_14</td><td>2022-07-08 14:20:26.977</td></tr><tr><td>FactFinance100m</td><td>2</td><td>1</td><td>1</td><td>OPEN</td><td>69736</td><td>NULL</td><td>Table_5e36fad5620b4f1c8f3eb0d9fc992bec_15</td><td>2022-07-08 14:20:27.207</td></tr><tr><td>FactFinance100m</td><td>2</td><td>1</td><td>1</td><td>OPEN</td><td>69736</td><td>NULL</td><td>Table_5e36fad5620b4f1c8f3eb0d9fc992bec_16</td><td>2022-07-08 14:20:27.037</td></tr><tr><td>FactFinance100m</td><td>2</td><td>1</td><td>1</td><td>OPEN</td><td>69736</td><td>NULL</td><td>Table_5e36fad5620b4f1c8f3eb0d9fc992bec_17</td><td>2022-07-08 14:20:27.243</td></tr><tr><td>FactFinance100m</td><td>2</td><td>1</td><td>1</td><td>OPEN</td><td>69736</td><td>NULL</td><td>Table_5e36fad5620b4f1c8f3eb0d9fc992bec_18</td><td>2022-07-08 14:20:27.167</td></tr><tr><td>FactFinance100m</td><td>2</td><td>1</td><td>1</td><td>OPEN</td><td>69736</td><td>NULL</td><td>Table_5e36fad5620b4f1c8f3eb0d9fc992bec_19</td><td>2022-07-08 14:20:31.930</td></tr><tr><td>FactFinance100m</td><td>2</td><td>1</td><td>1</td><td>OPEN</td><td>69736</td><td>NULL</td><td>Table_5e36fad5620b4f1c8f3eb0d9fc992bec_20</td><td>2022-07-08 14:20:27.107</td></tr><tr><td>FactFinance100m</td><td>2</td><td>1</td><td>1</td><td>OPEN</td><td>69736</td><td>NULL</td><td>Table_5e36fad5620b4f1c8f3eb0d9fc992bec_21</td><td>2022-07-08 14:20:27.203</td></tr><tr><td>FactFinance100m</td><td>2</td><td>1</td><td>1</td><td>OPEN</td><td>69736</td><td>NULL</td><td>Table_5e36fad5620b4f1c8f3eb0d9fc992bec_22</td><td>2022-07-08 14:20:27.287</td></tr><tr><td>FactFinance100m</td><td>2</td><td>1</td><td>1</td><td>OPEN</td><td>69736</td><td>NULL</td><td>Table_5e36fad5620b4f1c8f3eb0d9fc992bec_23</td><td>2022-07-08 14:20:27.100</td></tr><tr><td>FactFinance100m</td><td>2</td><td>1</td><td>1</td><td>OPEN</td><td>69736</td><td>NULL</td><td>Table_5e36fad5620b4f1c8f3eb0d9fc992bec_24</td><td>2022-07-08 14:20:27.050</td></tr><tr><td>FactFinance100m</td><td>2</td><td>1</td><td>1</td><td>OPEN</td><td>69736</td><td>NULL</td><td>Table_5e36fad5620b4f1c8f3eb0d9fc992bec_25</td><td>2022-07-08 14:20:27.153</td></tr><tr><td>FactFinance100m</td><td>2</td><td>1</td><td>1</td><td>OPEN</td><td>69736</td><td>NULL</td><td>Table_5e36fad5620b4f1c8f3eb0d9fc992bec_26</td><td>2022-07-08 14:20:32.027</td></tr><tr><td>FactFinance100m</td><td>2</td><td>1</td><td>1</td><td>OPEN</td><td>69736</td><td>NULL</td><td>Table_5e36fad5620b4f1c8f3eb0d9fc992bec_27</td><td>2022-07-08 14:20:27.127</td></tr><tr><td>FactFinance100m</td><td>2</td><td>1</td><td>1</td><td>OPEN</td><td>69736</td><td>NULL</td><td>Table_5e36fad5620b4f1c8f3eb0d9fc992bec_28</td><td>2022-07-08 14:20:27.200</td></tr><tr><td>FactFinance100m</td><td>2</td><td>1</td><td>1</td><td>OPEN</td><td>69736</td><td>NULL</td><td>Table_5e36fad5620b4f1c8f3eb0d9fc992bec_29</td><td>2022-07-08 14:20:27.063</td></tr><tr><td>FactFinance100m</td><td>2</td><td>1</td><td>1</td><td>OPEN</td><td>69736</td><td>NULL</td><td>Table_5e36fad5620b4f1c8f3eb0d9fc992bec_30</td><td>2022-07-08 14:20:27.110</td></tr><tr><td>FactFinance100m</td><td>2</td><td>1</td><td>1</td><td>OPEN</td><td>69736</td><td>NULL</td><td>Table_5e36fad5620b4f1c8f3eb0d9fc992bec_31</td><td>2022-07-08 14:20:27.020</td></tr><tr><td>FactFinance100m</td><td>2</td><td>1</td><td>1</td><td>OPEN</td><td>69736</td><td>NULL</td><td>Table_5e36fad5620b4f1c8f3eb0d9fc992bec_32</td><td>2022-07-08 14:20:27.180</td></tr><tr><td>FactFinance100m</td><td>2</td><td>1</td><td>1</td><td>OPEN</td><td>69736</td><td>NULL</td><td>Table_5e36fad5620b4f1c8f3eb0d9fc992bec_33</td><td>2022-07-08 14:20:27.060</td></tr><tr><td>FactFinance100m</td><td>2</td><td>1</td><td>1</td><td>OPEN</td><td>69736</td><td>NULL</td><td>Table_5e36fad5620b4f1c8f3eb0d9fc992bec_34</td><td>2022-07-08 14:20:27.170</td></tr><tr><td>FactFinance100m</td><td>2</td><td>1</td><td>1</td><td>OPEN</td><td>69736</td><td>NULL</td><td>Table_5e36fad5620b4f1c8f3eb0d9fc992bec_35</td><td>2022-07-08 14:20:27.180</td></tr><tr><td>FactFinance100m</td><td>2</td><td>1</td><td>1</td><td>OPEN</td><td>69736</td><td>NULL</td><td>Table_5e36fad5620b4f1c8f3eb0d9fc992bec_36</td><td>2022-07-08 14:20:27.223</td></tr><tr><td>FactFinance100m</td><td>2</td><td>1</td><td>1</td><td>OPEN</td><td>69736</td><td>NULL</td><td>Table_5e36fad5620b4f1c8f3eb0d9fc992bec_37</td><td>2022-07-08 14:20:27.227</td></tr><tr><td>FactFinance100m</td><td>2</td><td>1</td><td>1</td><td>OPEN</td><td>69736</td><td>NULL</td><td>Table_5e36fad5620b4f1c8f3eb0d9fc992bec_38</td><td>2022-07-08 14:20:27.263</td></tr><tr><td>FactFinance100m</td><td>2</td><td>1</td><td>1</td><td>OPEN</td><td>69736</td><td>NULL</td><td>Table_5e36fad5620b4f1c8f3eb0d9fc992bec_39</td><td>2022-07-08 14:20:27.390</td></tr><tr><td>FactFinance100m</td><td>2</td><td>1</td><td>1</td><td>OPEN</td><td>69736</td><td>NULL</td><td>Table_5e36fad5620b4f1c8f3eb0d9fc992bec_40</td><td>2022-07-08 14:20:27.330</td></tr><tr><td>FactFinance100m</td><td>2</td><td>1</td><td>1</td><td>OPEN</td><td>69736</td><td>NULL</td><td>Table_5e36fad5620b4f1c8f3eb0d9fc992bec_41</td><td>2022-07-08 14:20:27.130</td></tr><tr><td>FactFinance100m</td><td>2</td><td>1</td><td>1</td><td>OPEN</td><td>69736</td><td>NULL</td><td>Table_5e36fad5620b4f1c8f3eb0d9fc992bec_42</td><td>2022-07-08 14:20:27.317</td></tr><tr><td>FactFinance100m</td><td>2</td><td>1</td><td>1</td><td>OPEN</td><td>69736</td><td>NULL</td><td>Table_5e36fad5620b4f1c8f3eb0d9fc992bec_43</td><td>2022-07-08 14:20:27.440</td></tr><tr><td>FactFinance100m</td><td>2</td><td>1</td><td>1</td><td>OPEN</td><td>69736</td><td>NULL</td><td>Table_5e36fad5620b4f1c8f3eb0d9fc992bec_44</td><td>2022-07-08 14:20:27.093</td></tr><tr><td>FactFinance100m</td><td>2</td><td>1</td><td>1</td><td>OPEN</td><td>69428</td><td>NULL</td><td>Table_5e36fad5620b4f1c8f3eb0d9fc992bec_45</td><td>2022-07-08 14:20:27.177</td></tr><tr><td>FactFinance100m</td><td>2</td><td>1</td><td>1</td><td>OPEN</td><td>69172</td><td>NULL</td><td>Table_5e36fad5620b4f1c8f3eb0d9fc992bec_46</td><td>2022-07-08 14:20:27.077</td></tr><tr><td>FactFinance100m</td><td>2</td><td>1</td><td>1</td><td>OPEN</td><td>69172</td><td>NULL</td><td>Table_5e36fad5620b4f1c8f3eb0d9fc992bec_47</td><td>2022-07-08 14:20:27.113</td></tr><tr><td>FactFinance100m</td><td>2</td><td>1</td><td>1</td><td>OPEN</td><td>69172</td><td>NULL</td><td>Table_5e36fad5620b4f1c8f3eb0d9fc992bec_48</td><td>2022-07-08 14:20:27.083</td></tr><tr><td>FactFinance100m</td><td>2</td><td>1</td><td>1</td><td>OPEN</td><td>69172</td><td>NULL</td><td>Table_5e36fad5620b4f1c8f3eb0d9fc992bec_49</td><td>2022-07-08 14:20:27.337</td></tr><tr><td>FactFinance100m</td><td>2</td><td>1</td><td>1</td><td>OPEN</td><td>69172</td><td>NULL</td><td>Table_5e36fad5620b4f1c8f3eb0d9fc992bec_50</td><td>2022-07-08 14:20:27.557</td></tr><tr><td>FactFinance100m</td><td>2</td><td>1</td><td>1</td><td>OPEN</td><td>69172</td><td>NULL</td><td>Table_5e36fad5620b4f1c8f3eb0d9fc992bec_51</td><td>2022-07-08 14:20:27.330</td></tr><tr><td>FactFinance100m</td><td>2</td><td>1</td><td>1</td><td>OPEN</td><td>69172</td><td>NULL</td><td>Table_5e36fad5620b4f1c8f3eb0d9fc992bec_52</td><td>2022-07-08 14:20:27.310</td></tr><tr><td>FactFinance100m</td><td>2</td><td>1</td><td>1</td><td>OPEN</td><td>69172</td><td>NULL</td><td>Table_5e36fad5620b4f1c8f3eb0d9fc992bec_53</td><td>2022-07-08 14:20:27.170</td></tr><tr><td>FactFinance100m</td><td>2</td><td>1</td><td>1</td><td>OPEN</td><td>69172</td><td>NULL</td><td>Table_5e36fad5620b4f1c8f3eb0d9fc992bec_54</td><td>2022-07-08 14:20:27.137</td></tr><tr><td>FactFinance100m</td><td>2</td><td>1</td><td>1</td><td>OPEN</td><td>69172</td><td>NULL</td><td>Table_5e36fad5620b4f1c8f3eb0d9fc992bec_55</td><td>2022-07-08 14:20:26.907</td></tr><tr><td>FactFinance100m</td><td>2</td><td>1</td><td>1</td><td>OPEN</td><td>69172</td><td>NULL</td><td>Table_5e36fad5620b4f1c8f3eb0d9fc992bec_56</td><td>2022-07-08 14:20:27.017</td></tr><tr><td>FactFinance100m</td><td>2</td><td>1</td><td>1</td><td>OPEN</td><td>69172</td><td>NULL</td><td>Table_5e36fad5620b4f1c8f3eb0d9fc992bec_57</td><td>2022-07-08 14:20:27.333</td></tr><tr><td>FactFinance100m</td><td>2</td><td>1</td><td>1</td><td>OPEN</td><td>69172</td><td>NULL</td><td>Table_5e36fad5620b4f1c8f3eb0d9fc992bec_58</td><td>2022-07-08 14:20:27.117</td></tr><tr><td>FactFinance100m</td><td>2</td><td>1</td><td>1</td><td>OPEN</td><td>69172</td><td>NULL</td><td>Table_5e36fad5620b4f1c8f3eb0d9fc992bec_59</td><td>2022-07-08 14:20:27.187</td></tr><tr><td>FactFinance100m</td><td>2</td><td>1</td><td>1</td><td>OPEN</td><td>69172</td><td>NULL</td><td>Table_5e36fad5620b4f1c8f3eb0d9fc992bec_60</td><td>2022-07-08 14:20:27.187</td></tr><tr><td>FactFinance100m</td><td>1</td><td>1</td><td>3</td><td>COMPRESSED</td><td>1048576</td><td>NO_TRIM</td><td>Table_5e36fad5620b4f1c8f3eb0d9fc992bec_1</td><td>2022-07-08 14:20:27.087</td></tr><tr><td>FactFinance100m</td><td>1</td><td>1</td><td>3</td><td>COMPRESSED</td><td>1048576</td><td>NO_TRIM</td><td>Table_5e36fad5620b4f1c8f3eb0d9fc992bec_2</td><td>2022-07-08 14:20:27.043</td></tr><tr><td>FactFinance100m</td><td>1</td><td>1</td><td>3</td><td>COMPRESSED</td><td>1048576</td><td>NO_TRIM</td><td>Table_5e36fad5620b4f1c8f3eb0d9fc992bec_3</td><td>2022-07-08 14:20:27.020</td></tr><tr><td>FactFinance100m</td><td>1</td><td>1</td><td>3</td><td>COMPRESSED</td><td>1048576</td><td>NO_TRIM</td><td>Table_5e36fad5620b4f1c8f3eb0d9fc992bec_4</td><td>2022-07-08 14:20:26.830</td></tr><tr><td>FactFinance100m</td><td>1</td><td>1</td><td>3</td><td>COMPRESSED</td><td>1048576</td><td>NO_TRIM</td><td>Table_5e36fad5620b4f1c8f3eb0d9fc992bec_5</td><td>2022-07-08 14:20:26.940</td></tr><tr><td>FactFinance100m</td><td>1</td><td>1</td><td>3</td><td>COMPRESSED</td><td>1048576</td><td>NO_TRIM</td><td>Table_5e36fad5620b4f1c8f3eb0d9fc992bec_6</td><td>2022-07-08 14:20:27.073</td></tr><tr><td>FactFinance100m</td><td>1</td><td>1</td><td>3</td><td>COMPRESSED</td><td>1048576</td><td>NO_TRIM</td><td>Table_5e36fad5620b4f1c8f3eb0d9fc992bec_7</td><td>2022-07-08 14:20:26.947</td></tr><tr><td>FactFinance100m</td><td>1</td><td>1</td><td>3</td><td>COMPRESSED</td><td>1048576</td><td>NO_TRIM</td><td>Table_5e36fad5620b4f1c8f3eb0d9fc992bec_8</td><td>2022-07-08 14:20:27.003</td></tr><tr><td>FactFinance100m</td><td>1</td><td>1</td><td>3</td><td>COMPRESSED</td><td>1048576</td><td>NO_TRIM</td><td>Table_5e36fad5620b4f1c8f3eb0d9fc992bec_9</td><td>2022-07-08 14:20:26.820</td></tr><tr><td>FactFinance100m</td><td>1</td><td>1</td><td>3</td><td>COMPRESSED</td><td>1048576</td><td>NO_TRIM</td><td>Table_5e36fad5620b4f1c8f3eb0d9fc992bec_10</td><td>2022-07-08 14:20:26.990</td></tr><tr><td>FactFinance100m</td><td>1</td><td>1</td><td>3</td><td>COMPRESSED</td><td>1048576</td><td>NO_TRIM</td><td>Table_5e36fad5620b4f1c8f3eb0d9fc992bec_11</td><td>2022-07-08 14:20:26.943</td></tr><tr><td>FactFinance100m</td><td>1</td><td>1</td><td>3</td><td>COMPRESSED</td><td>1048576</td><td>NO_TRIM</td><td>Table_5e36fad5620b4f1c8f3eb0d9fc992bec_12</td><td>2022-07-08 14:20:26.907</td></tr><tr><td>FactFinance100m</td><td>1</td><td>1</td><td>3</td><td>COMPRESSED</td><td>1048576</td><td>NO_TRIM</td><td>Table_5e36fad5620b4f1c8f3eb0d9fc992bec_13</td><td>2022-07-08 14:20:26.970</td></tr><tr><td>FactFinance100m</td><td>1</td><td>1</td><td>3</td><td>COMPRESSED</td><td>1048576</td><td>NO_TRIM</td><td>Table_5e36fad5620b4f1c8f3eb0d9fc992bec_14</td><td>2022-07-08 14:20:26.800</td></tr><tr><td>FactFinance100m</td><td>1</td><td>1</td><td>3</td><td>COMPRESSED</td><td>1048576</td><td>NO_TRIM</td><td>Table_5e36fad5620b4f1c8f3eb0d9fc992bec_15</td><td>2022-07-08 14:20:27.023</td></tr><tr><td>FactFinance100m</td><td>1</td><td>1</td><td>3</td><td>COMPRESSED</td><td>1048576</td><td>NO_TRIM</td><td>Table_5e36fad5620b4f1c8f3eb0d9fc992bec_16</td><td>2022-07-08 14:20:26.863</td></tr><tr><td>FactFinance100m</td><td>1</td><td>1</td><td>3</td><td>COMPRESSED</td><td>1048576</td><td>NO_TRIM</td><td>Table_5e36fad5620b4f1c8f3eb0d9fc992bec_17</td><td>2022-07-08 14:20:27.060</td></tr><tr><td>FactFinance100m</td><td>1</td><td>1</td><td>3</td><td>COMPRESSED</td><td>1048576</td><td>NO_TRIM</td><td>Table_5e36fad5620b4f1c8f3eb0d9fc992bec_18</td><td>2022-07-08 14:20:26.987</td></tr><tr><td>FactFinance100m</td><td>1</td><td>1</td><td>3</td><td>COMPRESSED</td><td>1048576</td><td>NO_TRIM</td><td>Table_5e36fad5620b4f1c8f3eb0d9fc992bec_19</td><td>2022-07-08 14:20:31.737</td></tr><tr><td>FactFinance100m</td><td>1</td><td>1</td><td>3</td><td>COMPRESSED</td><td>1048576</td><td>NO_TRIM</td><td>Table_5e36fad5620b4f1c8f3eb0d9fc992bec_20</td><td>2022-07-08 14:20:26.923</td></tr><tr><td>FactFinance100m</td><td>1</td><td>1</td><td>3</td><td>COMPRESSED</td><td>1048576</td><td>NO_TRIM</td><td>Table_5e36fad5620b4f1c8f3eb0d9fc992bec_21</td><td>2022-07-08 14:20:27.020</td></tr><tr><td>FactFinance100m</td><td>1</td><td>1</td><td>3</td><td>COMPRESSED</td><td>1048576</td><td>NO_TRIM</td><td>Table_5e36fad5620b4f1c8f3eb0d9fc992bec_22</td><td>2022-07-08 14:20:27.117</td></tr><tr><td>FactFinance100m</td><td>1</td><td>1</td><td>3</td><td>COMPRESSED</td><td>1048576</td><td>NO_TRIM</td><td>Table_5e36fad5620b4f1c8f3eb0d9fc992bec_23</td><td>2022-07-08 14:20:26.920</td></tr><tr><td>FactFinance100m</td><td>1</td><td>1</td><td>3</td><td>COMPRESSED</td><td>1048576</td><td>NO_TRIM</td><td>Table_5e36fad5620b4f1c8f3eb0d9fc992bec_24</td><td>2022-07-08 14:20:26.860</td></tr><tr><td>FactFinance100m</td><td>1</td><td>1</td><td>3</td><td>COMPRESSED</td><td>1048576</td><td>NO_TRIM</td><td>Table_5e36fad5620b4f1c8f3eb0d9fc992bec_25</td><td>2022-07-08 14:20:26.973</td></tr><tr><td>FactFinance100m</td><td>1</td><td>1</td><td>3</td><td>COMPRESSED</td><td>1048576</td><td>NO_TRIM</td><td>Table_5e36fad5620b4f1c8f3eb0d9fc992bec_26</td><td>2022-07-08 14:20:31.790</td></tr><tr><td>FactFinance100m</td><td>1</td><td>1</td><td>3</td><td>COMPRESSED</td><td>1048576</td><td>NO_TRIM</td><td>Table_5e36fad5620b4f1c8f3eb0d9fc992bec_27</td><td>2022-07-08 14:20:26.953</td></tr><tr><td>FactFinance100m</td><td>1</td><td>1</td><td>3</td><td>COMPRESSED</td><td>1048576</td><td>NO_TRIM</td><td>Table_5e36fad5620b4f1c8f3eb0d9fc992bec_28</td><td>2022-07-08 14:20:27.023</td></tr><tr><td>FactFinance100m</td><td>1</td><td>1</td><td>3</td><td>COMPRESSED</td><td>1048576</td><td>NO_TRIM</td><td>Table_5e36fad5620b4f1c8f3eb0d9fc992bec_29</td><td>2022-07-08 14:20:26.890</td></tr><tr><td>FactFinance100m</td><td>1</td><td>1</td><td>3</td><td>COMPRESSED</td><td>1048576</td><td>NO_TRIM</td><td>Table_5e36fad5620b4f1c8f3eb0d9fc992bec_30</td><td>2022-07-08 14:20:26.933</td></tr><tr><td>FactFinance100m</td><td>1</td><td>1</td><td>3</td><td>COMPRESSED</td><td>1048576</td><td>NO_TRIM</td><td>Table_5e36fad5620b4f1c8f3eb0d9fc992bec_31</td><td>2022-07-08 14:20:26.850</td></tr><tr><td>FactFinance100m</td><td>1</td><td>1</td><td>3</td><td>COMPRESSED</td><td>1048576</td><td>NO_TRIM</td><td>Table_5e36fad5620b4f1c8f3eb0d9fc992bec_32</td><td>2022-07-08 14:20:26.997</td></tr><tr><td>FactFinance100m</td><td>1</td><td>1</td><td>3</td><td>COMPRESSED</td><td>1048576</td><td>NO_TRIM</td><td>Table_5e36fad5620b4f1c8f3eb0d9fc992bec_33</td><td>2022-07-08 14:20:26.880</td></tr><tr><td>FactFinance100m</td><td>1</td><td>1</td><td>3</td><td>COMPRESSED</td><td>1048576</td><td>NO_TRIM</td><td>Table_5e36fad5620b4f1c8f3eb0d9fc992bec_34</td><td>2022-07-08 14:20:26.967</td></tr><tr><td>FactFinance100m</td><td>1</td><td>1</td><td>3</td><td>COMPRESSED</td><td>1048576</td><td>NO_TRIM</td><td>Table_5e36fad5620b4f1c8f3eb0d9fc992bec_35</td><td>2022-07-08 14:20:26.993</td></tr><tr><td>FactFinance100m</td><td>1</td><td>1</td><td>3</td><td>COMPRESSED</td><td>1048576</td><td>NO_TRIM</td><td>Table_5e36fad5620b4f1c8f3eb0d9fc992bec_36</td><td>2022-07-08 14:20:27.050</td></tr><tr><td>FactFinance100m</td><td>1</td><td>1</td><td>3</td><td>COMPRESSED</td><td>1048576</td><td>NO_TRIM</td><td>Table_5e36fad5620b4f1c8f3eb0d9fc992bec_37</td><td>2022-07-08 14:20:27.053</td></tr><tr><td>FactFinance100m</td><td>1</td><td>1</td><td>3</td><td>COMPRESSED</td><td>1048576</td><td>NO_TRIM</td><td>Table_5e36fad5620b4f1c8f3eb0d9fc992bec_38</td><td>2022-07-08 14:20:27.037</td></tr><tr><td>FactFinance100m</td><td>1</td><td>1</td><td>3</td><td>COMPRESSED</td><td>1048576</td><td>NO_TRIM</td><td>Table_5e36fad5620b4f1c8f3eb0d9fc992bec_39</td><td>2022-07-08 14:20:27.147</td></tr><tr><td>FactFinance100m</td><td>1</td><td>1</td><td>3</td><td>COMPRESSED</td><td>1048576</td><td>NO_TRIM</td><td>Table_5e36fad5620b4f1c8f3eb0d9fc992bec_40</td><td>2022-07-08 14:20:27.107</td></tr><tr><td>FactFinance100m</td><td>1</td><td>1</td><td>3</td><td>COMPRESSED</td><td>1048576</td><td>NO_TRIM</td><td>Table_5e36fad5620b4f1c8f3eb0d9fc992bec_41</td><td>2022-07-08 14:20:26.957</td></tr><tr><td>FactFinance100m</td><td>1</td><td>1</td><td>3</td><td>COMPRESSED</td><td>1048576</td><td>NO_TRIM</td><td>Table_5e36fad5620b4f1c8f3eb0d9fc992bec_42</td><td>2022-07-08 14:20:27.123</td></tr><tr><td>FactFinance100m</td><td>1</td><td>1</td><td>3</td><td>COMPRESSED</td><td>1048576</td><td>NO_TRIM</td><td>Table_5e36fad5620b4f1c8f3eb0d9fc992bec_43</td><td>2022-07-08 14:20:27.233</td></tr><tr><td>FactFinance100m</td><td>1</td><td>1</td><td>3</td><td>COMPRESSED</td><td>1048576</td><td>NO_TRIM</td><td>Table_5e36fad5620b4f1c8f3eb0d9fc992bec_44</td><td>2022-07-08 14:20:26.920</td></tr><tr><td>FactFinance100m</td><td>1</td><td>1</td><td>3</td><td>COMPRESSED</td><td>1048576</td><td>NO_TRIM</td><td>Table_5e36fad5620b4f1c8f3eb0d9fc992bec_45</td><td>2022-07-08 14:20:26.993</td></tr><tr><td>FactFinance100m</td><td>1</td><td>1</td><td>3</td><td>COMPRESSED</td><td>1048576</td><td>NO_TRIM</td><td>Table_5e36fad5620b4f1c8f3eb0d9fc992bec_46</td><td>2022-07-08 14:20:26.900</td></tr><tr><td>FactFinance100m</td><td>1</td><td>1</td><td>3</td><td>COMPRESSED</td><td>1048576</td><td>NO_TRIM</td><td>Table_5e36fad5620b4f1c8f3eb0d9fc992bec_47</td><td>2022-07-08 14:20:26.930</td></tr><tr><td>FactFinance100m</td><td>1</td><td>1</td><td>3</td><td>COMPRESSED</td><td>1048576</td><td>NO_TRIM</td><td>Table_5e36fad5620b4f1c8f3eb0d9fc992bec_48</td><td>2022-07-08 14:20:26.910</td></tr><tr><td>FactFinance100m</td><td>1</td><td>1</td><td>3</td><td>COMPRESSED</td><td>1048576</td><td>NO_TRIM</td><td>Table_5e36fad5620b4f1c8f3eb0d9fc992bec_49</td><td>2022-07-08 14:20:27.103</td></tr><tr><td>FactFinance100m</td><td>1</td><td>1</td><td>3</td><td>COMPRESSED</td><td>1048576</td><td>NO_TRIM</td><td>Table_5e36fad5620b4f1c8f3eb0d9fc992bec_50</td><td>2022-07-08 14:20:27.357</td></tr><tr><td>FactFinance100m</td><td>1</td><td>1</td><td>3</td><td>COMPRESSED</td><td>1048576</td><td>NO_TRIM</td><td>Table_5e36fad5620b4f1c8f3eb0d9fc992bec_51</td><td>2022-07-08 14:20:27.103</td></tr><tr><td>FactFinance100m</td><td>1</td><td>1</td><td>3</td><td>COMPRESSED</td><td>1048576</td><td>NO_TRIM</td><td>Table_5e36fad5620b4f1c8f3eb0d9fc992bec_52</td><td>2022-07-08 14:20:27.067</td></tr><tr><td>FactFinance100m</td><td>1</td><td>1</td><td>3</td><td>COMPRESSED</td><td>1048576</td><td>NO_TRIM</td><td>Table_5e36fad5620b4f1c8f3eb0d9fc992bec_53</td><td>2022-07-08 14:20:26.993</td></tr><tr><td>FactFinance100m</td><td>1</td><td>1</td><td>3</td><td>COMPRESSED</td><td>1048576</td><td>NO_TRIM</td><td>Table_5e36fad5620b4f1c8f3eb0d9fc992bec_54</td><td>2022-07-08 14:20:26.963</td></tr><tr><td>FactFinance100m</td><td>1</td><td>1</td><td>3</td><td>COMPRESSED</td><td>1048576</td><td>NO_TRIM</td><td>Table_5e36fad5620b4f1c8f3eb0d9fc992bec_55</td><td>2022-07-08 14:20:26.730</td></tr><tr><td>FactFinance100m</td><td>1</td><td>1</td><td>3</td><td>COMPRESSED</td><td>1048576</td><td>NO_TRIM</td><td>Table_5e36fad5620b4f1c8f3eb0d9fc992bec_56</td><td>2022-07-08 14:20:26.837</td></tr><tr><td>FactFinance100m</td><td>1</td><td>1</td><td>3</td><td>COMPRESSED</td><td>1048576</td><td>NO_TRIM</td><td>Table_5e36fad5620b4f1c8f3eb0d9fc992bec_57</td><td>2022-07-08 14:20:27.080</td></tr><tr><td>FactFinance100m</td><td>1</td><td>1</td><td>3</td><td>COMPRESSED</td><td>1048576</td><td>NO_TRIM</td><td>Table_5e36fad5620b4f1c8f3eb0d9fc992bec_58</td><td>2022-07-08 14:20:26.943</td></tr><tr><td>FactFinance100m</td><td>1</td><td>1</td><td>3</td><td>COMPRESSED</td><td>1048576</td><td>NO_TRIM</td><td>Table_5e36fad5620b4f1c8f3eb0d9fc992bec_59</td><td>2022-07-08 14:20:27.000</td></tr><tr><td>FactFinance100m</td><td>1</td><td>1</td><td>3</td><td>COMPRESSED</td><td>1048576</td><td>NO_TRIM</td><td>Table_5e36fad5620b4f1c8f3eb0d9fc992bec_60</td><td>2022-07-08 14:20:26.997</td></tr><tr><td>FactFinance100m</td><td>0</td><td>1</td><td>3</td><td>COMPRESSED</td><td>1048576</td><td>NO_TRIM</td><td>Table_5e36fad5620b4f1c8f3eb0d9fc992bec_1</td><td>2022-07-08 14:20:23.740</td></tr><tr><td>FactFinance100m</td><td>0</td><td>1</td><td>3</td><td>COMPRESSED</td><td>1048576</td><td>NO_TRIM</td><td>Table_5e36fad5620b4f1c8f3eb0d9fc992bec_2</td><td>2022-07-08 14:20:23.707</td></tr><tr><td>FactFinance100m</td><td>0</td><td>1</td><td>3</td><td>COMPRESSED</td><td>1048576</td><td>NO_TRIM</td><td>Table_5e36fad5620b4f1c8f3eb0d9fc992bec_3</td><td>2022-07-08 14:20:23.670</td></tr><tr><td>FactFinance100m</td><td>0</td><td>1</td><td>3</td><td>COMPRESSED</td><td>1048576</td><td>NO_TRIM</td><td>Table_5e36fad5620b4f1c8f3eb0d9fc992bec_4</td><td>2022-07-08 14:20:23.547</td></tr><tr><td>FactFinance100m</td><td>0</td><td>1</td><td>3</td><td>COMPRESSED</td><td>1048576</td><td>NO_TRIM</td><td>Table_5e36fad5620b4f1c8f3eb0d9fc992bec_5</td><td>2022-07-08 14:20:23.610</td></tr><tr><td>FactFinance100m</td><td>0</td><td>1</td><td>3</td><td>COMPRESSED</td><td>1048576</td><td>NO_TRIM</td><td>Table_5e36fad5620b4f1c8f3eb0d9fc992bec_6</td><td>2022-07-08 14:20:23.703</td></tr><tr><td>FactFinance100m</td><td>0</td><td>1</td><td>3</td><td>COMPRESSED</td><td>1048576</td><td>NO_TRIM</td><td>Table_5e36fad5620b4f1c8f3eb0d9fc992bec_7</td><td>2022-07-08 14:20:23.607</td></tr><tr><td>FactFinance100m</td><td>0</td><td>1</td><td>3</td><td>COMPRESSED</td><td>1048576</td><td>NO_TRIM</td><td>Table_5e36fad5620b4f1c8f3eb0d9fc992bec_8</td><td>2022-07-08 14:20:23.663</td></tr><tr><td>FactFinance100m</td><td>0</td><td>1</td><td>3</td><td>COMPRESSED</td><td>1048576</td><td>NO_TRIM</td><td>Table_5e36fad5620b4f1c8f3eb0d9fc992bec_9</td><td>2022-07-08 14:20:23.523</td></tr><tr><td>FactFinance100m</td><td>0</td><td>1</td><td>3</td><td>COMPRESSED</td><td>1048576</td><td>NO_TRIM</td><td>Table_5e36fad5620b4f1c8f3eb0d9fc992bec_10</td><td>2022-07-08 14:20:23.663</td></tr><tr><td>FactFinance100m</td><td>0</td><td>1</td><td>3</td><td>COMPRESSED</td><td>1048576</td><td>NO_TRIM</td><td>Table_5e36fad5620b4f1c8f3eb0d9fc992bec_11</td><td>2022-07-08 14:20:23.613</td></tr><tr><td>FactFinance100m</td><td>0</td><td>1</td><td>3</td><td>COMPRESSED</td><td>1048576</td><td>NO_TRIM</td><td>Table_5e36fad5620b4f1c8f3eb0d9fc992bec_12</td><td>2022-07-08 14:20:23.590</td></tr><tr><td>FactFinance100m</td><td>0</td><td>1</td><td>3</td><td>COMPRESSED</td><td>1048576</td><td>NO_TRIM</td><td>Table_5e36fad5620b4f1c8f3eb0d9fc992bec_13</td><td>2022-07-08 14:20:23.573</td></tr><tr><td>FactFinance100m</td><td>0</td><td>1</td><td>3</td><td>COMPRESSED</td><td>1048576</td><td>NO_TRIM</td><td>Table_5e36fad5620b4f1c8f3eb0d9fc992bec_14</td><td>2022-07-08 14:20:23.533</td></tr><tr><td>FactFinance100m</td><td>0</td><td>1</td><td>3</td><td>COMPRESSED</td><td>1048576</td><td>NO_TRIM</td><td>Table_5e36fad5620b4f1c8f3eb0d9fc992bec_15</td><td>2022-07-08 14:20:23.663</td></tr><tr><td>FactFinance100m</td><td>0</td><td>1</td><td>3</td><td>COMPRESSED</td><td>1048576</td><td>NO_TRIM</td><td>Table_5e36fad5620b4f1c8f3eb0d9fc992bec_16</td><td>2022-07-08 14:20:23.563</td></tr><tr><td>FactFinance100m</td><td>0</td><td>1</td><td>3</td><td>COMPRESSED</td><td>1048576</td><td>NO_TRIM</td><td>Table_5e36fad5620b4f1c8f3eb0d9fc992bec_17</td><td>2022-07-08 14:20:23.700</td></tr><tr><td>FactFinance100m</td><td>0</td><td>1</td><td>3</td><td>COMPRESSED</td><td>1048576</td><td>NO_TRIM</td><td>Table_5e36fad5620b4f1c8f3eb0d9fc992bec_18</td><td>2022-07-08 14:20:23.663</td></tr><tr><td>FactFinance100m</td><td>0</td><td>1</td><td>3</td><td>COMPRESSED</td><td>1048576</td><td>NO_TRIM</td><td>Table_5e36fad5620b4f1c8f3eb0d9fc992bec_19</td><td>2022-07-08 14:20:26.503</td></tr><tr><td>FactFinance100m</td><td>0</td><td>1</td><td>3</td><td>COMPRESSED</td><td>1048576</td><td>NO_TRIM</td><td>Table_5e36fad5620b4f1c8f3eb0d9fc992bec_20</td><td>2022-07-08 14:20:23.580</td></tr><tr><td>FactFinance100m</td><td>0</td><td>1</td><td>3</td><td>COMPRESSED</td><td>1048576</td><td>NO_TRIM</td><td>Table_5e36fad5620b4f1c8f3eb0d9fc992bec_21</td><td>2022-07-08 14:20:23.640</td></tr><tr><td>FactFinance100m</td><td>0</td><td>1</td><td>3</td><td>COMPRESSED</td><td>1048576</td><td>NO_TRIM</td><td>Table_5e36fad5620b4f1c8f3eb0d9fc992bec_22</td><td>2022-07-08 14:20:23.747</td></tr><tr><td>FactFinance100m</td><td>0</td><td>1</td><td>3</td><td>COMPRESSED</td><td>1048576</td><td>NO_TRIM</td><td>Table_5e36fad5620b4f1c8f3eb0d9fc992bec_23</td><td>2022-07-08 14:20:23.603</td></tr><tr><td>FactFinance100m</td><td>0</td><td>1</td><td>3</td><td>COMPRESSED</td><td>1048576</td><td>NO_TRIM</td><td>Table_5e36fad5620b4f1c8f3eb0d9fc992bec_24</td><td>2022-07-08 14:20:23.540</td></tr><tr><td>FactFinance100m</td><td>0</td><td>1</td><td>3</td><td>COMPRESSED</td><td>1048576</td><td>NO_TRIM</td><td>Table_5e36fad5620b4f1c8f3eb0d9fc992bec_25</td><td>2022-07-08 14:20:23.570</td></tr><tr><td>FactFinance100m</td><td>0</td><td>1</td><td>3</td><td>COMPRESSED</td><td>1048576</td><td>NO_TRIM</td><td>Table_5e36fad5620b4f1c8f3eb0d9fc992bec_26</td><td>2022-07-08 14:20:26.553</td></tr><tr><td>FactFinance100m</td><td>0</td><td>1</td><td>3</td><td>COMPRESSED</td><td>1048576</td><td>NO_TRIM</td><td>Table_5e36fad5620b4f1c8f3eb0d9fc992bec_27</td><td>2022-07-08 14:20:23.617</td></tr><tr><td>FactFinance100m</td><td>0</td><td>1</td><td>3</td><td>COMPRESSED</td><td>1048576</td><td>NO_TRIM</td><td>Table_5e36fad5620b4f1c8f3eb0d9fc992bec_28</td><td>2022-07-08 14:20:23.687</td></tr><tr><td>FactFinance100m</td><td>0</td><td>1</td><td>3</td><td>COMPRESSED</td><td>1048576</td><td>NO_TRIM</td><td>Table_5e36fad5620b4f1c8f3eb0d9fc992bec_29</td><td>2022-07-08 14:20:23.553</td></tr><tr><td>FactFinance100m</td><td>0</td><td>1</td><td>3</td><td>COMPRESSED</td><td>1048576</td><td>NO_TRIM</td><td>Table_5e36fad5620b4f1c8f3eb0d9fc992bec_30</td><td>2022-07-08 14:20:23.553</td></tr><tr><td>FactFinance100m</td><td>0</td><td>1</td><td>3</td><td>COMPRESSED</td><td>1048576</td><td>NO_TRIM</td><td>Table_5e36fad5620b4f1c8f3eb0d9fc992bec_31</td><td>2022-07-08 14:20:23.520</td></tr><tr><td>FactFinance100m</td><td>0</td><td>1</td><td>3</td><td>COMPRESSED</td><td>1048576</td><td>NO_TRIM</td><td>Table_5e36fad5620b4f1c8f3eb0d9fc992bec_32</td><td>2022-07-08 14:20:23.587</td></tr><tr><td>FactFinance100m</td><td>0</td><td>1</td><td>3</td><td>COMPRESSED</td><td>1048576</td><td>NO_TRIM</td><td>Table_5e36fad5620b4f1c8f3eb0d9fc992bec_33</td><td>2022-07-08 14:20:23.510</td></tr><tr><td>FactFinance100m</td><td>0</td><td>1</td><td>3</td><td>COMPRESSED</td><td>1048576</td><td>NO_TRIM</td><td>Table_5e36fad5620b4f1c8f3eb0d9fc992bec_34</td><td>2022-07-08 14:20:23.623</td></tr><tr><td>FactFinance100m</td><td>0</td><td>1</td><td>3</td><td>COMPRESSED</td><td>1048576</td><td>NO_TRIM</td><td>Table_5e36fad5620b4f1c8f3eb0d9fc992bec_35</td><td>2022-07-08 14:20:23.610</td></tr><tr><td>FactFinance100m</td><td>0</td><td>1</td><td>3</td><td>COMPRESSED</td><td>1048576</td><td>NO_TRIM</td><td>Table_5e36fad5620b4f1c8f3eb0d9fc992bec_36</td><td>2022-07-08 14:20:23.650</td></tr><tr><td>FactFinance100m</td><td>0</td><td>1</td><td>3</td><td>COMPRESSED</td><td>1048576</td><td>NO_TRIM</td><td>Table_5e36fad5620b4f1c8f3eb0d9fc992bec_37</td><td>2022-07-08 14:20:23.583</td></tr><tr><td>FactFinance100m</td><td>0</td><td>1</td><td>3</td><td>COMPRESSED</td><td>1048576</td><td>NO_TRIM</td><td>Table_5e36fad5620b4f1c8f3eb0d9fc992bec_38</td><td>2022-07-08 14:20:23.670</td></tr><tr><td>FactFinance100m</td><td>0</td><td>1</td><td>3</td><td>COMPRESSED</td><td>1048576</td><td>NO_TRIM</td><td>Table_5e36fad5620b4f1c8f3eb0d9fc992bec_39</td><td>2022-07-08 14:20:23.720</td></tr><tr><td>FactFinance100m</td><td>0</td><td>1</td><td>3</td><td>COMPRESSED</td><td>1048576</td><td>NO_TRIM</td><td>Table_5e36fad5620b4f1c8f3eb0d9fc992bec_40</td><td>2022-07-08 14:20:23.663</td></tr><tr><td>FactFinance100m</td><td>0</td><td>1</td><td>3</td><td>COMPRESSED</td><td>1048576</td><td>NO_TRIM</td><td>Table_5e36fad5620b4f1c8f3eb0d9fc992bec_41</td><td>2022-07-08 14:20:23.600</td></tr><tr><td>FactFinance100m</td><td>0</td><td>1</td><td>3</td><td>COMPRESSED</td><td>1048576</td><td>NO_TRIM</td><td>Table_5e36fad5620b4f1c8f3eb0d9fc992bec_42</td><td>2022-07-08 14:20:23.680</td></tr><tr><td>FactFinance100m</td><td>0</td><td>1</td><td>3</td><td>COMPRESSED</td><td>1048576</td><td>NO_TRIM</td><td>Table_5e36fad5620b4f1c8f3eb0d9fc992bec_43</td><td>2022-07-08 14:20:23.877</td></tr><tr><td>FactFinance100m</td><td>0</td><td>1</td><td>3</td><td>COMPRESSED</td><td>1048576</td><td>NO_TRIM</td><td>Table_5e36fad5620b4f1c8f3eb0d9fc992bec_44</td><td>2022-07-08 14:20:23.520</td></tr><tr><td>FactFinance100m</td><td>0</td><td>1</td><td>3</td><td>COMPRESSED</td><td>1048576</td><td>NO_TRIM</td><td>Table_5e36fad5620b4f1c8f3eb0d9fc992bec_45</td><td>2022-07-08 14:20:23.603</td></tr><tr><td>FactFinance100m</td><td>0</td><td>1</td><td>3</td><td>COMPRESSED</td><td>1048576</td><td>NO_TRIM</td><td>Table_5e36fad5620b4f1c8f3eb0d9fc992bec_46</td><td>2022-07-08 14:20:23.517</td></tr><tr><td>FactFinance100m</td><td>0</td><td>1</td><td>3</td><td>COMPRESSED</td><td>1048576</td><td>NO_TRIM</td><td>Table_5e36fad5620b4f1c8f3eb0d9fc992bec_47</td><td>2022-07-08 14:20:23.577</td></tr><tr><td>FactFinance100m</td><td>0</td><td>1</td><td>3</td><td>COMPRESSED</td><td>1048576</td><td>NO_TRIM</td><td>Table_5e36fad5620b4f1c8f3eb0d9fc992bec_48</td><td>2022-07-08 14:20:23.553</td></tr><tr><td>FactFinance100m</td><td>0</td><td>1</td><td>3</td><td>COMPRESSED</td><td>1048576</td><td>NO_TRIM</td><td>Table_5e36fad5620b4f1c8f3eb0d9fc992bec_49</td><td>2022-07-08 14:20:23.653</td></tr><tr><td>FactFinance100m</td><td>0</td><td>1</td><td>3</td><td>COMPRESSED</td><td>1048576</td><td>NO_TRIM</td><td>Table_5e36fad5620b4f1c8f3eb0d9fc992bec_50</td><td>2022-07-08 14:20:24.007</td></tr><tr><td>FactFinance100m</td><td>0</td><td>1</td><td>3</td><td>COMPRESSED</td><td>1048576</td><td>NO_TRIM</td><td>Table_5e36fad5620b4f1c8f3eb0d9fc992bec_51</td><td>2022-07-08 14:20:23.640</td></tr><tr><td>FactFinance100m</td><td>0</td><td>1</td><td>3</td><td>COMPRESSED</td><td>1048576</td><td>NO_TRIM</td><td>Table_5e36fad5620b4f1c8f3eb0d9fc992bec_52</td><td>2022-07-08 14:20:23.617</td></tr><tr><td>FactFinance100m</td><td>0</td><td>1</td><td>3</td><td>COMPRESSED</td><td>1048576</td><td>NO_TRIM</td><td>Table_5e36fad5620b4f1c8f3eb0d9fc992bec_53</td><td>2022-07-08 14:20:23.583</td></tr><tr><td>FactFinance100m</td><td>0</td><td>1</td><td>3</td><td>COMPRESSED</td><td>1048576</td><td>NO_TRIM</td><td>Table_5e36fad5620b4f1c8f3eb0d9fc992bec_54</td><td>2022-07-08 14:20:23.600</td></tr><tr><td>FactFinance100m</td><td>0</td><td>1</td><td>3</td><td>COMPRESSED</td><td>1048576</td><td>NO_TRIM</td><td>Table_5e36fad5620b4f1c8f3eb0d9fc992bec_55</td><td>2022-07-08 14:20:23.430</td></tr><tr><td>FactFinance100m</td><td>0</td><td>1</td><td>3</td><td>COMPRESSED</td><td>1048576</td><td>NO_TRIM</td><td>Table_5e36fad5620b4f1c8f3eb0d9fc992bec_56</td><td>2022-07-08 14:20:23.500</td></tr><tr><td>FactFinance100m</td><td>0</td><td>1</td><td>3</td><td>COMPRESSED</td><td>1048576</td><td>NO_TRIM</td><td>Table_5e36fad5620b4f1c8f3eb0d9fc992bec_57</td><td>2022-07-08 14:20:23.590</td></tr><tr><td>FactFinance100m</td><td>0</td><td>1</td><td>3</td><td>COMPRESSED</td><td>1048576</td><td>NO_TRIM</td><td>Table_5e36fad5620b4f1c8f3eb0d9fc992bec_58</td><td>2022-07-08 14:20:23.550</td></tr><tr><td>FactFinance100m</td><td>0</td><td>1</td><td>3</td><td>COMPRESSED</td><td>1048576</td><td>NO_TRIM</td><td>Table_5e36fad5620b4f1c8f3eb0d9fc992bec_59</td><td>2022-07-08 14:20:23.593</td></tr><tr><td>FactFinance100m</td><td>0</td><td>1</td><td>3</td><td>COMPRESSED</td><td>1048576</td><td>NO_TRIM</td><td>Table_5e36fad5620b4f1c8f3eb0d9fc992bec_60</td><td>2022-07-08 14:20:23.607</td></tr></table>"
                    },
                    "metadata": {}
                }
            ],
            "execution_count": 34
        }
    ]
}