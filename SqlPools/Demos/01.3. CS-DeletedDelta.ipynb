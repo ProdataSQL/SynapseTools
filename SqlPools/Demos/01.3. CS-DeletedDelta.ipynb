{
    "metadata": {
        "kernelspec": {
            "name": "SQL",
            "display_name": "SQL",
            "language": "sql"
        },
        "language_info": {
            "name": "sql",
            "version": ""
        }
    },
    "nbformat_minor": 2,
    "nbformat": 4,
    "cells": [
        {
            "cell_type": "markdown",
            "source": [
                "### Demo - Deleted delta Stores"
            ],
            "metadata": {
                "azdata_cell_guid": "75c0f687-c8b5-4a6e-a0dd-14f7f8da0ce3"
            }
        },
        {
            "cell_type": "code",
            "source": [
                "/* \r\n",
                "    ColumnStores are READONLY, so when we delete (or update rows), it simulates R/W by writing a delete followed by an insert into the delta store, and merging this at query time.\r\n",
                "\r\n",
                "    This demo shows impact of Updatees and how we can see the deleted rows in the delta store.\r\n",
                "*/\r\n",
                "\r\n",
                "\tUPDATE [dbo].[FactFinance100m]\r\n",
                "\tSET Amount=Amount+1\r\n",
                "\twhere DateKey =20131228 \r\n",
                ""
            ],
            "metadata": {
                "azdata_cell_guid": "1b2be4a4-5f13-47c6-9ea9-97b86812c946"
            },
            "outputs": [
                {
                    "output_type": "display_data",
                    "data": {
                        "text/html": "(25380 rows affected)"
                    },
                    "metadata": {}
                },
                {
                    "output_type": "display_data",
                    "data": {
                        "text/html": "Total execution time: 00:00:01.480"
                    },
                    "metadata": {}
                }
            ],
            "execution_count": 1
        },
        {
            "cell_type": "code",
            "source": [
                "/* we can see the impact on the deleted/inserted rows and open Delta Stores */\r\n",
                "\r\n",
                "SELECT * FROM dbo.vColumnstoreStats WHERE table_name='FactFinance100m'\r\n",
                "select * From [dbo].[vCS_rg_physical_stats] WHERE logical_table_name='FactFinance100m'"
            ],
            "metadata": {
                "azdata_cell_guid": "0519a78c-8593-4919-a1ba-ac1fd8a0b52f"
            },
            "outputs": [
                {
                    "output_type": "display_data",
                    "data": {
                        "text/html": "(1 row affected)"
                    },
                    "metadata": {}
                },
                {
                    "output_type": "display_data",
                    "data": {
                        "text/html": "(162 rows affected)"
                    },
                    "metadata": {}
                },
                {
                    "output_type": "display_data",
                    "data": {
                        "text/html": "Total execution time: 00:00:13.423"
                    },
                    "metadata": {}
                },
                {
                    "output_type": "execute_result",
                    "metadata": {},
                    "execution_count": 2,
                    "data": {
                        "application/vnd.dataresource+json": {
                            "schema": {
                                "fields": [
                                    {
                                        "name": "execution_date"
                                    },
                                    {
                                        "name": "database_name"
                                    },
                                    {
                                        "name": "schema_name"
                                    },
                                    {
                                        "name": "table_name"
                                    },
                                    {
                                        "name": "partition_number"
                                    },
                                    {
                                        "name": "partition_scheme"
                                    },
                                    {
                                        "name": "object_id"
                                    },
                                    {
                                        "name": "index_name"
                                    },
                                    {
                                        "name": "row_count"
                                    },
                                    {
                                        "name": "deleted_row_count"
                                    },
                                    {
                                        "name": "row_group_count"
                                    },
                                    {
                                        "name": "compressed_row_count"
                                    },
                                    {
                                        "name": "compressed_rowgroup_count"
                                    },
                                    {
                                        "name": "open_rowgroup_count"
                                    },
                                    {
                                        "name": "open_row_count"
                                    },
                                    {
                                        "name": "compressed_row_max"
                                    },
                                    {
                                        "name": "compressed_row_avg"
                                    },
                                    {
                                        "name": "fragmentation_density"
                                    },
                                    {
                                        "name": "fragmentation_deletes"
                                    },
                                    {
                                        "name": "fragmentation_open"
                                    }
                                ]
                            },
                            "data": [
                                {
                                    "0": "2021-08-23 09:12:45.623",
                                    "1": "AdventureWorksDW",
                                    "2": "dbo",
                                    "3": "FactFinance100m",
                                    "4": "NULL",
                                    "5": "NULL",
                                    "6": "1940917986",
                                    "7": "ClusteredIndex_1fba0db5c48b40288124497ec2198389",
                                    "8": "66025380",
                                    "9": "25380",
                                    "10": "162",
                                    "11": "66000000",
                                    "12": "120",
                                    "13": "42",
                                    "14": "25380",
                                    "15": "1000520",
                                    "16": "550000",
                                    "17": "45.0300",
                                    "18": "0.0400",
                                    "19": "0.0400"
                                }
                            ]
                        },
                        "text/html": [
                            "<table>",
                            "<tr><th>execution_date</th><th>database_name</th><th>schema_name</th><th>table_name</th><th>partition_number</th><th>partition_scheme</th><th>object_id</th><th>index_name</th><th>row_count</th><th>deleted_row_count</th><th>row_group_count</th><th>compressed_row_count</th><th>compressed_rowgroup_count</th><th>open_rowgroup_count</th><th>open_row_count</th><th>compressed_row_max</th><th>compressed_row_avg</th><th>fragmentation_density</th><th>fragmentation_deletes</th><th>fragmentation_open</th></tr>",
                            "<tr><td>2021-08-23 09:12:45.623</td><td>AdventureWorksDW</td><td>dbo</td><td>FactFinance100m</td><td>NULL</td><td>NULL</td><td>1940917986</td><td>ClusteredIndex_1fba0db5c48b40288124497ec2198389</td><td>66025380</td><td>25380</td><td>162</td><td>66000000</td><td>120</td><td>42</td><td>25380</td><td>1000520</td><td>550000</td><td>45.0300</td><td>0.0400</td><td>0.0400</td></tr>",
                            "</table>"
                        ]
                    }
                },
                {
                    "output_type": "execute_result",
                    "metadata": {},
                    "execution_count": 2,
                    "data": {
                        "application/vnd.dataresource+json": {
                            "schema": {
                                "fields": [
                                    {
                                        "name": "logical_table_name"
                                    },
                                    {
                                        "name": "row_group_id"
                                    },
                                    {
                                        "name": "partition_number"
                                    },
                                    {
                                        "name": "state"
                                    },
                                    {
                                        "name": "state_desc"
                                    },
                                    {
                                        "name": "total_rows"
                                    },
                                    {
                                        "name": "trim_reason_desc"
                                    },
                                    {
                                        "name": "physical_name"
                                    },
                                    {
                                        "name": "created_time"
                                    }
                                ]
                            },
                            "data": [
                                {
                                    "0": "FactFinance100m",
                                    "1": "6",
                                    "2": "1",
                                    "3": "1",
                                    "4": "OPEN",
                                    "5": "584",
                                    "6": "NULL",
                                    "7": "Table_8c92dbd39040490a8eae0c6877992248_1",
                                    "8": "2021-08-22 19:15:13.953"
                                },
                                {
                                    "0": "FactFinance100m",
                                    "1": "6",
                                    "2": "1",
                                    "3": "1",
                                    "4": "OPEN",
                                    "5": "408",
                                    "6": "NULL",
                                    "7": "Table_8c92dbd39040490a8eae0c6877992248_2",
                                    "8": "2021-08-22 19:15:14.007"
                                },
                                {
                                    "0": "FactFinance100m",
                                    "1": "6",
                                    "2": "1",
                                    "3": "1",
                                    "4": "OPEN",
                                    "5": "246",
                                    "6": "NULL",
                                    "7": "Table_8c92dbd39040490a8eae0c6877992248_3",
                                    "8": "2021-08-22 19:15:13.980"
                                },
                                {
                                    "0": "FactFinance100m",
                                    "1": "6",
                                    "2": "1",
                                    "3": "1",
                                    "4": "OPEN",
                                    "5": "318",
                                    "6": "NULL",
                                    "7": "Table_8c92dbd39040490a8eae0c6877992248_4",
                                    "8": "2021-08-22 19:15:14.027"
                                },
                                {
                                    "0": "FactFinance100m",
                                    "1": "6",
                                    "2": "1",
                                    "3": "1",
                                    "4": "OPEN",
                                    "5": "780",
                                    "6": "NULL",
                                    "7": "Table_8c92dbd39040490a8eae0c6877992248_5",
                                    "8": "2021-08-22 19:15:14.060"
                                },
                                {
                                    "0": "FactFinance100m",
                                    "1": "6",
                                    "2": "1",
                                    "3": "1",
                                    "4": "OPEN",
                                    "5": "1147",
                                    "6": "NULL",
                                    "7": "Table_8c92dbd39040490a8eae0c6877992248_6",
                                    "8": "2021-08-22 19:15:14.063"
                                },
                                {
                                    "0": "FactFinance100m",
                                    "1": "6",
                                    "2": "1",
                                    "3": "1",
                                    "4": "OPEN",
                                    "5": "979",
                                    "6": "NULL",
                                    "7": "Table_8c92dbd39040490a8eae0c6877992248_7",
                                    "8": "2021-08-22 19:15:14.040"
                                },
                                {
                                    "0": "FactFinance100m",
                                    "1": "6",
                                    "2": "1",
                                    "3": "1",
                                    "4": "OPEN",
                                    "5": "985",
                                    "6": "NULL",
                                    "7": "Table_8c92dbd39040490a8eae0c6877992248_8",
                                    "8": "2021-08-22 19:15:14.027"
                                },
                                {
                                    "0": "FactFinance100m",
                                    "1": "6",
                                    "2": "1",
                                    "3": "1",
                                    "4": "OPEN",
                                    "5": "149",
                                    "6": "NULL",
                                    "7": "Table_8c92dbd39040490a8eae0c6877992248_9",
                                    "8": "2021-08-22 19:15:14.080"
                                },
                                {
                                    "0": "FactFinance100m",
                                    "1": "5",
                                    "2": "1",
                                    "3": "3",
                                    "4": "COMPRESSED",
                                    "5": "100392",
                                    "6": "REORG",
                                    "7": "Table_8c92dbd39040490a8eae0c6877992248_10",
                                    "8": "2021-08-22 19:02:19.200"
                                },
                                {
                                    "0": "FactFinance100m",
                                    "1": "5",
                                    "2": "1",
                                    "3": "3",
                                    "4": "COMPRESSED",
                                    "5": "100392",
                                    "6": "REORG",
                                    "7": "Table_8c92dbd39040490a8eae0c6877992248_11",
                                    "8": "2021-08-22 19:02:17.670"
                                },
                                {
                                    "0": "FactFinance100m",
                                    "1": "5",
                                    "2": "1",
                                    "3": "3",
                                    "4": "COMPRESSED",
                                    "5": "100392",
                                    "6": "REORG",
                                    "7": "Table_8c92dbd39040490a8eae0c6877992248_12",
                                    "8": "2021-08-22 19:02:19.210"
                                },
                                {
                                    "0": "FactFinance100m",
                                    "1": "5",
                                    "2": "1",
                                    "3": "3",
                                    "4": "COMPRESSED",
                                    "5": "100392",
                                    "6": "REORG",
                                    "7": "Table_8c92dbd39040490a8eae0c6877992248_13",
                                    "8": "2021-08-22 19:02:16.953"
                                },
                                {
                                    "0": "FactFinance100m",
                                    "1": "5",
                                    "2": "1",
                                    "3": "3",
                                    "4": "COMPRESSED",
                                    "5": "100392",
                                    "6": "REORG",
                                    "7": "Table_8c92dbd39040490a8eae0c6877992248_14",
                                    "8": "2021-08-22 19:02:18.737"
                                },
                                {
                                    "0": "FactFinance100m",
                                    "1": "5",
                                    "2": "1",
                                    "3": "3",
                                    "4": "COMPRESSED",
                                    "5": "100392",
                                    "6": "REORG",
                                    "7": "Table_8c92dbd39040490a8eae0c6877992248_15",
                                    "8": "2021-08-22 19:02:17.480"
                                },
                                {
                                    "0": "FactFinance100m",
                                    "1": "5",
                                    "2": "1",
                                    "3": "3",
                                    "4": "COMPRESSED",
                                    "5": "99996",
                                    "6": "REORG",
                                    "7": "Table_8c92dbd39040490a8eae0c6877992248_16",
                                    "8": "2021-08-22 19:02:19.097"
                                },
                                {
                                    "0": "FactFinance100m",
                                    "1": "5",
                                    "2": "1",
                                    "3": "3",
                                    "4": "COMPRESSED",
                                    "5": "99828",
                                    "6": "REORG",
                                    "7": "Table_8c92dbd39040490a8eae0c6877992248_17",
                                    "8": "2021-08-22 19:02:19.077"
                                },
                                {
                                    "0": "FactFinance100m",
                                    "1": "3",
                                    "2": "1",
                                    "3": "3",
                                    "4": "COMPRESSED",
                                    "5": "999960",
                                    "6": "REORG",
                                    "7": "Table_8c92dbd39040490a8eae0c6877992248_18",
                                    "8": "2021-08-22 18:50:16.987"
                                },
                                {
                                    "0": "FactFinance100m",
                                    "1": "5",
                                    "2": "1",
                                    "3": "3",
                                    "4": "COMPRESSED",
                                    "5": "99828",
                                    "6": "REORG",
                                    "7": "Table_8c92dbd39040490a8eae0c6877992248_19",
                                    "8": "2021-08-22 19:02:19.540"
                                },
                                {
                                    "0": "FactFinance100m",
                                    "1": "3",
                                    "2": "1",
                                    "3": "3",
                                    "4": "COMPRESSED",
                                    "5": "999960",
                                    "6": "REORG",
                                    "7": "Table_8c92dbd39040490a8eae0c6877992248_20",
                                    "8": "2021-08-22 18:50:13.823"
                                },
                                {
                                    "0": "FactFinance100m",
                                    "1": "5",
                                    "2": "1",
                                    "3": "3",
                                    "4": "COMPRESSED",
                                    "5": "99828",
                                    "6": "REORG",
                                    "7": "Table_8c92dbd39040490a8eae0c6877992248_21",
                                    "8": "2021-08-22 19:02:18.857"
                                },
                                {
                                    "0": "FactFinance100m",
                                    "1": "5",
                                    "2": "1",
                                    "3": "3",
                                    "4": "COMPRESSED",
                                    "5": "99828",
                                    "6": "REORG",
                                    "7": "Table_8c92dbd39040490a8eae0c6877992248_22",
                                    "8": "2021-08-22 19:02:18.983"
                                },
                                {
                                    "0": "FactFinance100m",
                                    "1": "6",
                                    "2": "1",
                                    "3": "1",
                                    "4": "OPEN",
                                    "5": "148",
                                    "6": "NULL",
                                    "7": "Table_8c92dbd39040490a8eae0c6877992248_23",
                                    "8": "2021-08-22 19:15:13.800"
                                },
                                {
                                    "0": "FactFinance100m",
                                    "1": "5",
                                    "2": "1",
                                    "3": "3",
                                    "4": "COMPRESSED",
                                    "5": "99828",
                                    "6": "REORG",
                                    "7": "Table_8c92dbd39040490a8eae0c6877992248_24",
                                    "8": "2021-08-22 19:02:17.510"
                                },
                                {
                                    "0": "FactFinance100m",
                                    "1": "6",
                                    "2": "1",
                                    "3": "1",
                                    "4": "OPEN",
                                    "5": "924",
                                    "6": "NULL",
                                    "7": "Table_8c92dbd39040490a8eae0c6877992248_25",
                                    "8": "2021-08-22 19:15:13.913"
                                },
                                {
                                    "0": "FactFinance100m",
                                    "1": "6",
                                    "2": "1",
                                    "3": "1",
                                    "4": "OPEN",
                                    "5": "768",
                                    "6": "NULL",
                                    "7": "Table_8c92dbd39040490a8eae0c6877992248_26",
                                    "8": "2021-08-22 19:15:13.877"
                                },
                                {
                                    "0": "FactFinance100m",
                                    "1": "5",
                                    "2": "1",
                                    "3": "3",
                                    "4": "COMPRESSED",
                                    "5": "99828",
                                    "6": "REORG",
                                    "7": "Table_8c92dbd39040490a8eae0c6877992248_27",
                                    "8": "2021-08-22 19:02:19.157"
                                },
                                {
                                    "0": "FactFinance100m",
                                    "1": "6",
                                    "2": "1",
                                    "3": "1",
                                    "4": "OPEN",
                                    "5": "148",
                                    "6": "NULL",
                                    "7": "Table_8c92dbd39040490a8eae0c6877992248_28",
                                    "8": "2021-08-22 19:15:14.120"
                                },
                                {
                                    "0": "FactFinance100m",
                                    "1": "6",
                                    "2": "1",
                                    "3": "1",
                                    "4": "OPEN",
                                    "5": "564",
                                    "6": "NULL",
                                    "7": "Table_8c92dbd39040490a8eae0c6877992248_29",
                                    "8": "2021-08-22 19:15:13.950"
                                },
                                {
                                    "0": "FactFinance100m",
                                    "1": "5",
                                    "2": "1",
                                    "3": "3",
                                    "4": "COMPRESSED",
                                    "5": "99828",
                                    "6": "REORG",
                                    "7": "Table_8c92dbd39040490a8eae0c6877992248_30",
                                    "8": "2021-08-22 19:02:16.830"
                                },
                                {
                                    "0": "FactFinance100m",
                                    "1": "6",
                                    "2": "1",
                                    "3": "1",
                                    "4": "OPEN",
                                    "5": "100",
                                    "6": "NULL",
                                    "7": "Table_8c92dbd39040490a8eae0c6877992248_31",
                                    "8": "2021-08-22 19:15:13.930"
                                },
                                {
                                    "0": "FactFinance100m",
                                    "1": "5",
                                    "2": "1",
                                    "3": "3",
                                    "4": "COMPRESSED",
                                    "5": "99828",
                                    "6": "REORG",
                                    "7": "Table_8c92dbd39040490a8eae0c6877992248_32",
                                    "8": "2021-08-22 19:02:19.110"
                                },
                                {
                                    "0": "FactFinance100m",
                                    "1": "5",
                                    "2": "1",
                                    "3": "3",
                                    "4": "COMPRESSED",
                                    "5": "99828",
                                    "6": "REORG",
                                    "7": "Table_8c92dbd39040490a8eae0c6877992248_33",
                                    "8": "2021-08-22 19:02:19.560"
                                },
                                {
                                    "0": "FactFinance100m",
                                    "1": "6",
                                    "2": "1",
                                    "3": "1",
                                    "4": "OPEN",
                                    "5": "388",
                                    "6": "NULL",
                                    "7": "Table_8c92dbd39040490a8eae0c6877992248_34",
                                    "8": "2021-08-22 19:15:14.210"
                                },
                                {
                                    "0": "FactFinance100m",
                                    "1": "6",
                                    "2": "1",
                                    "3": "1",
                                    "4": "OPEN",
                                    "5": "520",
                                    "6": "NULL",
                                    "7": "Table_8c92dbd39040490a8eae0c6877992248_35",
                                    "8": "2021-08-22 19:15:13.907"
                                },
                                {
                                    "0": "FactFinance100m",
                                    "1": "6",
                                    "2": "1",
                                    "3": "1",
                                    "4": "OPEN",
                                    "5": "564",
                                    "6": "NULL",
                                    "7": "Table_8c92dbd39040490a8eae0c6877992248_36",
                                    "8": "2021-08-22 19:15:13.937"
                                },
                                {
                                    "0": "FactFinance100m",
                                    "1": "6",
                                    "2": "1",
                                    "3": "1",
                                    "4": "OPEN",
                                    "5": "432",
                                    "6": "NULL",
                                    "7": "Table_8c92dbd39040490a8eae0c6877992248_37",
                                    "8": "2021-08-22 19:15:13.883"
                                },
                                {
                                    "0": "FactFinance100m",
                                    "1": "6",
                                    "2": "1",
                                    "3": "1",
                                    "4": "OPEN",
                                    "5": "176",
                                    "6": "NULL",
                                    "7": "Table_8c92dbd39040490a8eae0c6877992248_38",
                                    "8": "2021-08-22 19:15:13.963"
                                },
                                {
                                    "0": "FactFinance100m",
                                    "1": "5",
                                    "2": "1",
                                    "3": "3",
                                    "4": "COMPRESSED",
                                    "5": "99828",
                                    "6": "REORG",
                                    "7": "Table_8c92dbd39040490a8eae0c6877992248_39",
                                    "8": "2021-08-22 19:02:18.770"
                                },
                                {
                                    "0": "FactFinance100m",
                                    "1": "5",
                                    "2": "1",
                                    "3": "3",
                                    "4": "COMPRESSED",
                                    "5": "99828",
                                    "6": "REORG",
                                    "7": "Table_8c92dbd39040490a8eae0c6877992248_40",
                                    "8": "2021-08-22 19:02:19.167"
                                },
                                {
                                    "0": "FactFinance100m",
                                    "1": "6",
                                    "2": "1",
                                    "3": "1",
                                    "4": "OPEN",
                                    "5": "91",
                                    "6": "NULL",
                                    "7": "Table_8c92dbd39040490a8eae0c6877992248_41",
                                    "8": "2021-08-22 19:15:13.807"
                                },
                                {
                                    "0": "FactFinance100m",
                                    "1": "6",
                                    "2": "1",
                                    "3": "1",
                                    "4": "OPEN",
                                    "5": "496",
                                    "6": "NULL",
                                    "7": "Table_8c92dbd39040490a8eae0c6877992248_42",
                                    "8": "2021-08-22 19:15:13.997"
                                },
                                {
                                    "0": "FactFinance100m",
                                    "1": "6",
                                    "2": "1",
                                    "3": "1",
                                    "4": "OPEN",
                                    "5": "815",
                                    "6": "NULL",
                                    "7": "Table_8c92dbd39040490a8eae0c6877992248_43",
                                    "8": "2021-08-22 19:15:13.990"
                                },
                                {
                                    "0": "FactFinance100m",
                                    "1": "6",
                                    "2": "1",
                                    "3": "1",
                                    "4": "OPEN",
                                    "5": "712",
                                    "6": "NULL",
                                    "7": "Table_8c92dbd39040490a8eae0c6877992248_44",
                                    "8": "2021-08-22 19:15:14.027"
                                },
                                {
                                    "0": "FactFinance100m",
                                    "1": "6",
                                    "2": "1",
                                    "3": "1",
                                    "4": "OPEN",
                                    "5": "290",
                                    "6": "NULL",
                                    "7": "Table_8c92dbd39040490a8eae0c6877992248_45",
                                    "8": "2021-08-22 19:15:14.107"
                                },
                                {
                                    "0": "FactFinance100m",
                                    "1": "6",
                                    "2": "1",
                                    "3": "1",
                                    "4": "OPEN",
                                    "5": "214",
                                    "6": "NULL",
                                    "7": "Table_8c92dbd39040490a8eae0c6877992248_46",
                                    "8": "2021-08-22 19:15:13.880"
                                },
                                {
                                    "0": "FactFinance100m",
                                    "1": "6",
                                    "2": "1",
                                    "3": "1",
                                    "4": "OPEN",
                                    "5": "992",
                                    "6": "NULL",
                                    "7": "Table_8c92dbd39040490a8eae0c6877992248_47",
                                    "8": "2021-08-22 19:15:14.170"
                                },
                                {
                                    "0": "FactFinance100m",
                                    "1": "6",
                                    "2": "1",
                                    "3": "1",
                                    "4": "OPEN",
                                    "5": "818",
                                    "6": "NULL",
                                    "7": "Table_8c92dbd39040490a8eae0c6877992248_48",
                                    "8": "2021-08-22 19:15:13.967"
                                },
                                {
                                    "0": "FactFinance100m",
                                    "1": "6",
                                    "2": "1",
                                    "3": "1",
                                    "4": "OPEN",
                                    "5": "232",
                                    "6": "NULL",
                                    "7": "Table_8c92dbd39040490a8eae0c6877992248_49",
                                    "8": "2021-08-22 19:15:14.017"
                                },
                                {
                                    "0": "FactFinance100m",
                                    "1": "5",
                                    "2": "1",
                                    "3": "3",
                                    "4": "COMPRESSED",
                                    "5": "99828",
                                    "6": "REORG",
                                    "7": "Table_8c92dbd39040490a8eae0c6877992248_50",
                                    "8": "2021-08-22 19:02:19.023"
                                },
                                {
                                    "0": "FactFinance100m",
                                    "1": "6",
                                    "2": "1",
                                    "3": "1",
                                    "4": "OPEN",
                                    "5": "454",
                                    "6": "NULL",
                                    "7": "Table_8c92dbd39040490a8eae0c6877992248_51",
                                    "8": "2021-08-22 19:15:14.063"
                                },
                                {
                                    "0": "FactFinance100m",
                                    "1": "6",
                                    "2": "1",
                                    "3": "1",
                                    "4": "OPEN",
                                    "5": "684",
                                    "6": "NULL",
                                    "7": "Table_8c92dbd39040490a8eae0c6877992248_52",
                                    "8": "2021-08-22 19:15:13.843"
                                },
                                {
                                    "0": "FactFinance100m",
                                    "1": "6",
                                    "2": "1",
                                    "3": "1",
                                    "4": "OPEN",
                                    "5": "616",
                                    "6": "NULL",
                                    "7": "Table_8c92dbd39040490a8eae0c6877992248_53",
                                    "8": "2021-08-22 19:15:14.043"
                                },
                                {
                                    "0": "FactFinance100m",
                                    "1": "6",
                                    "2": "1",
                                    "3": "1",
                                    "4": "OPEN",
                                    "5": "816",
                                    "6": "NULL",
                                    "7": "Table_8c92dbd39040490a8eae0c6877992248_54",
                                    "8": "2021-08-22 19:15:14.090"
                                },
                                {
                                    "0": "FactFinance100m",
                                    "1": "6",
                                    "2": "1",
                                    "3": "1",
                                    "4": "OPEN",
                                    "5": "1030",
                                    "6": "NULL",
                                    "7": "Table_8c92dbd39040490a8eae0c6877992248_55",
                                    "8": "2021-08-22 19:15:14.133"
                                },
                                {
                                    "0": "FactFinance100m",
                                    "1": "6",
                                    "2": "1",
                                    "3": "1",
                                    "4": "OPEN",
                                    "5": "876",
                                    "6": "NULL",
                                    "7": "Table_8c92dbd39040490a8eae0c6877992248_56",
                                    "8": "2021-08-22 19:15:14.043"
                                },
                                {
                                    "0": "FactFinance100m",
                                    "1": "6",
                                    "2": "1",
                                    "3": "1",
                                    "4": "OPEN",
                                    "5": "686",
                                    "6": "NULL",
                                    "7": "Table_8c92dbd39040490a8eae0c6877992248_57",
                                    "8": "2021-08-22 19:15:13.930"
                                },
                                {
                                    "0": "FactFinance100m",
                                    "1": "5",
                                    "2": "1",
                                    "3": "3",
                                    "4": "COMPRESSED",
                                    "5": "100392",
                                    "6": "REORG",
                                    "7": "Table_8c92dbd39040490a8eae0c6877992248_58",
                                    "8": "2021-08-22 19:02:18.843"
                                },
                                {
                                    "0": "FactFinance100m",
                                    "1": "6",
                                    "2": "1",
                                    "3": "1",
                                    "4": "OPEN",
                                    "5": "1354",
                                    "6": "NULL",
                                    "7": "Table_8c92dbd39040490a8eae0c6877992248_59",
                                    "8": "2021-08-22 19:15:14.210"
                                },
                                {
                                    "0": "FactFinance100m",
                                    "1": "6",
                                    "2": "1",
                                    "3": "1",
                                    "4": "OPEN",
                                    "5": "1218",
                                    "6": "NULL",
                                    "7": "Table_8c92dbd39040490a8eae0c6877992248_60",
                                    "8": "2021-08-22 19:15:14.027"
                                },
                                {
                                    "0": "FactFinance100m",
                                    "1": "5",
                                    "2": "1",
                                    "3": "3",
                                    "4": "COMPRESSED",
                                    "5": "100392",
                                    "6": "REORG",
                                    "7": "Table_8c92dbd39040490a8eae0c6877992248_1",
                                    "8": "2021-08-22 19:02:19.177"
                                },
                                {
                                    "0": "FactFinance100m",
                                    "1": "5",
                                    "2": "1",
                                    "3": "3",
                                    "4": "COMPRESSED",
                                    "5": "100392",
                                    "6": "REORG",
                                    "7": "Table_8c92dbd39040490a8eae0c6877992248_2",
                                    "8": "2021-08-22 19:02:19.163"
                                },
                                {
                                    "0": "FactFinance100m",
                                    "1": "5",
                                    "2": "1",
                                    "3": "3",
                                    "4": "COMPRESSED",
                                    "5": "100392",
                                    "6": "REORG",
                                    "7": "Table_8c92dbd39040490a8eae0c6877992248_3",
                                    "8": "2021-08-22 19:02:19.147"
                                },
                                {
                                    "0": "FactFinance100m",
                                    "1": "5",
                                    "2": "1",
                                    "3": "3",
                                    "4": "COMPRESSED",
                                    "5": "100392",
                                    "6": "REORG",
                                    "7": "Table_8c92dbd39040490a8eae0c6877992248_4",
                                    "8": "2021-08-22 19:02:18.293"
                                },
                                {
                                    "0": "FactFinance100m",
                                    "1": "5",
                                    "2": "1",
                                    "3": "3",
                                    "4": "COMPRESSED",
                                    "5": "100392",
                                    "6": "REORG",
                                    "7": "Table_8c92dbd39040490a8eae0c6877992248_5",
                                    "8": "2021-08-22 19:02:19.507"
                                },
                                {
                                    "0": "FactFinance100m",
                                    "1": "5",
                                    "2": "1",
                                    "3": "3",
                                    "4": "COMPRESSED",
                                    "5": "100392",
                                    "6": "REORG",
                                    "7": "Table_8c92dbd39040490a8eae0c6877992248_6",
                                    "8": "2021-08-22 19:02:19.507"
                                },
                                {
                                    "0": "FactFinance100m",
                                    "1": "5",
                                    "2": "1",
                                    "3": "3",
                                    "4": "COMPRESSED",
                                    "5": "100392",
                                    "6": "REORG",
                                    "7": "Table_8c92dbd39040490a8eae0c6877992248_7",
                                    "8": "2021-08-22 19:02:19.500"
                                },
                                {
                                    "0": "FactFinance100m",
                                    "1": "5",
                                    "2": "1",
                                    "3": "3",
                                    "4": "COMPRESSED",
                                    "5": "100392",
                                    "6": "REORG",
                                    "7": "Table_8c92dbd39040490a8eae0c6877992248_8",
                                    "8": "2021-08-22 19:02:16.787"
                                },
                                {
                                    "0": "FactFinance100m",
                                    "1": "5",
                                    "2": "1",
                                    "3": "3",
                                    "4": "COMPRESSED",
                                    "5": "100392",
                                    "6": "REORG",
                                    "7": "Table_8c92dbd39040490a8eae0c6877992248_9",
                                    "8": "2021-08-22 19:02:19.483"
                                },
                                {
                                    "0": "FactFinance100m",
                                    "1": "3",
                                    "2": "1",
                                    "3": "3",
                                    "4": "COMPRESSED",
                                    "5": "999960",
                                    "6": "REORG",
                                    "7": "Table_8c92dbd39040490a8eae0c6877992248_10",
                                    "8": "2021-08-22 18:50:17.007"
                                },
                                {
                                    "0": "FactFinance100m",
                                    "1": "3",
                                    "2": "1",
                                    "3": "3",
                                    "4": "COMPRESSED",
                                    "5": "999960",
                                    "6": "REORG",
                                    "7": "Table_8c92dbd39040490a8eae0c6877992248_11",
                                    "8": "2021-08-22 18:50:09.960"
                                },
                                {
                                    "0": "FactFinance100m",
                                    "1": "3",
                                    "2": "1",
                                    "3": "3",
                                    "4": "COMPRESSED",
                                    "5": "999960",
                                    "6": "REORG",
                                    "7": "Table_8c92dbd39040490a8eae0c6877992248_12",
                                    "8": "2021-08-22 18:50:10.710"
                                },
                                {
                                    "0": "FactFinance100m",
                                    "1": "3",
                                    "2": "1",
                                    "3": "3",
                                    "4": "COMPRESSED",
                                    "5": "999960",
                                    "6": "REORG",
                                    "7": "Table_8c92dbd39040490a8eae0c6877992248_13",
                                    "8": "2021-08-22 18:50:12.533"
                                },
                                {
                                    "0": "FactFinance100m",
                                    "1": "3",
                                    "2": "1",
                                    "3": "3",
                                    "4": "COMPRESSED",
                                    "5": "999960",
                                    "6": "REORG",
                                    "7": "Table_8c92dbd39040490a8eae0c6877992248_14",
                                    "8": "2021-08-22 18:50:12.020"
                                },
                                {
                                    "0": "FactFinance100m",
                                    "1": "3",
                                    "2": "1",
                                    "3": "3",
                                    "4": "COMPRESSED",
                                    "5": "999960",
                                    "6": "REORG",
                                    "7": "Table_8c92dbd39040490a8eae0c6877992248_15",
                                    "8": "2021-08-22 18:50:14.883"
                                },
                                {
                                    "0": "FactFinance100m",
                                    "1": "3",
                                    "2": "1",
                                    "3": "3",
                                    "4": "COMPRESSED",
                                    "5": "999960",
                                    "6": "REORG",
                                    "7": "Table_8c92dbd39040490a8eae0c6877992248_16",
                                    "8": "2021-08-22 18:50:15.103"
                                },
                                {
                                    "0": "FactFinance100m",
                                    "1": "3",
                                    "2": "1",
                                    "3": "3",
                                    "4": "COMPRESSED",
                                    "5": "999960",
                                    "6": "REORG",
                                    "7": "Table_8c92dbd39040490a8eae0c6877992248_17",
                                    "8": "2021-08-22 18:50:15.113"
                                },
                                {
                                    "0": "FactFinance100m",
                                    "1": "5",
                                    "2": "1",
                                    "3": "3",
                                    "4": "COMPRESSED",
                                    "5": "99828",
                                    "6": "REORG",
                                    "7": "Table_8c92dbd39040490a8eae0c6877992248_18",
                                    "8": "2021-08-22 19:02:18.310"
                                },
                                {
                                    "0": "FactFinance100m",
                                    "1": "3",
                                    "2": "1",
                                    "3": "3",
                                    "4": "COMPRESSED",
                                    "5": "999960",
                                    "6": "REORG",
                                    "7": "Table_8c92dbd39040490a8eae0c6877992248_19",
                                    "8": "2021-08-22 18:50:13.360"
                                },
                                {
                                    "0": "FactFinance100m",
                                    "1": "5",
                                    "2": "1",
                                    "3": "3",
                                    "4": "COMPRESSED",
                                    "5": "99828",
                                    "6": "REORG",
                                    "7": "Table_8c92dbd39040490a8eae0c6877992248_20",
                                    "8": "2021-08-22 19:02:19.187"
                                },
                                {
                                    "0": "FactFinance100m",
                                    "1": "3",
                                    "2": "1",
                                    "3": "3",
                                    "4": "COMPRESSED",
                                    "5": "999960",
                                    "6": "REORG",
                                    "7": "Table_8c92dbd39040490a8eae0c6877992248_21",
                                    "8": "2021-08-22 18:50:11.873"
                                },
                                {
                                    "0": "FactFinance100m",
                                    "1": "3",
                                    "2": "1",
                                    "3": "3",
                                    "4": "COMPRESSED",
                                    "5": "999960",
                                    "6": "REORG",
                                    "7": "Table_8c92dbd39040490a8eae0c6877992248_22",
                                    "8": "2021-08-22 18:50:12.657"
                                },
                                {
                                    "0": "FactFinance100m",
                                    "1": "5",
                                    "2": "1",
                                    "3": "3",
                                    "4": "COMPRESSED",
                                    "5": "99828",
                                    "6": "REORG",
                                    "7": "Table_8c92dbd39040490a8eae0c6877992248_23",
                                    "8": "2021-08-22 19:02:18.863"
                                },
                                {
                                    "0": "FactFinance100m",
                                    "1": "3",
                                    "2": "1",
                                    "3": "3",
                                    "4": "COMPRESSED",
                                    "5": "999960",
                                    "6": "REORG",
                                    "7": "Table_8c92dbd39040490a8eae0c6877992248_24",
                                    "8": "2021-08-22 18:50:14.830"
                                },
                                {
                                    "0": "FactFinance100m",
                                    "1": "5",
                                    "2": "1",
                                    "3": "3",
                                    "4": "COMPRESSED",
                                    "5": "99828",
                                    "6": "REORG",
                                    "7": "Table_8c92dbd39040490a8eae0c6877992248_25",
                                    "8": "2021-08-22 19:02:18.803"
                                },
                                {
                                    "0": "FactFinance100m",
                                    "1": "5",
                                    "2": "1",
                                    "3": "3",
                                    "4": "COMPRESSED",
                                    "5": "99828",
                                    "6": "REORG",
                                    "7": "Table_8c92dbd39040490a8eae0c6877992248_26",
                                    "8": "2021-08-22 19:02:16.787"
                                },
                                {
                                    "0": "FactFinance100m",
                                    "1": "3",
                                    "2": "1",
                                    "3": "3",
                                    "4": "COMPRESSED",
                                    "5": "999960",
                                    "6": "REORG",
                                    "7": "Table_8c92dbd39040490a8eae0c6877992248_27",
                                    "8": "2021-08-22 18:50:08.670"
                                },
                                {
                                    "0": "FactFinance100m",
                                    "1": "5",
                                    "2": "1",
                                    "3": "3",
                                    "4": "COMPRESSED",
                                    "5": "99828",
                                    "6": "REORG",
                                    "7": "Table_8c92dbd39040490a8eae0c6877992248_28",
                                    "8": "2021-08-22 19:02:19.510"
                                },
                                {
                                    "0": "FactFinance100m",
                                    "1": "5",
                                    "2": "1",
                                    "3": "3",
                                    "4": "COMPRESSED",
                                    "5": "99828",
                                    "6": "REORG",
                                    "7": "Table_8c92dbd39040490a8eae0c6877992248_29",
                                    "8": "2021-08-22 19:02:18.747"
                                },
                                {
                                    "0": "FactFinance100m",
                                    "1": "3",
                                    "2": "1",
                                    "3": "3",
                                    "4": "COMPRESSED",
                                    "5": "999960",
                                    "6": "REORG",
                                    "7": "Table_8c92dbd39040490a8eae0c6877992248_30",
                                    "8": "2021-08-22 18:50:12.280"
                                },
                                {
                                    "0": "FactFinance100m",
                                    "1": "5",
                                    "2": "1",
                                    "3": "3",
                                    "4": "COMPRESSED",
                                    "5": "99828",
                                    "6": "REORG",
                                    "7": "Table_8c92dbd39040490a8eae0c6877992248_31",
                                    "8": "2021-08-22 19:02:19.513"
                                },
                                {
                                    "0": "FactFinance100m",
                                    "1": "3",
                                    "2": "1",
                                    "3": "3",
                                    "4": "COMPRESSED",
                                    "5": "999960",
                                    "6": "REORG",
                                    "7": "Table_8c92dbd39040490a8eae0c6877992248_32",
                                    "8": "2021-08-22 18:50:13.127"
                                },
                                {
                                    "0": "FactFinance100m",
                                    "1": "3",
                                    "2": "1",
                                    "3": "3",
                                    "4": "COMPRESSED",
                                    "5": "999960",
                                    "6": "REORG",
                                    "7": "Table_8c92dbd39040490a8eae0c6877992248_33",
                                    "8": "2021-08-22 18:50:11.800"
                                },
                                {
                                    "0": "FactFinance100m",
                                    "1": "5",
                                    "2": "1",
                                    "3": "3",
                                    "4": "COMPRESSED",
                                    "5": "99828",
                                    "6": "REORG",
                                    "7": "Table_8c92dbd39040490a8eae0c6877992248_34",
                                    "8": "2021-08-22 19:02:19.487"
                                },
                                {
                                    "0": "FactFinance100m",
                                    "1": "5",
                                    "2": "1",
                                    "3": "3",
                                    "4": "COMPRESSED",
                                    "5": "99828",
                                    "6": "REORG",
                                    "7": "Table_8c92dbd39040490a8eae0c6877992248_35",
                                    "8": "2021-08-22 19:02:19.130"
                                },
                                {
                                    "0": "FactFinance100m",
                                    "1": "5",
                                    "2": "1",
                                    "3": "3",
                                    "4": "COMPRESSED",
                                    "5": "99828",
                                    "6": "REORG",
                                    "7": "Table_8c92dbd39040490a8eae0c6877992248_36",
                                    "8": "2021-08-22 19:02:17.113"
                                },
                                {
                                    "0": "FactFinance100m",
                                    "1": "5",
                                    "2": "1",
                                    "3": "3",
                                    "4": "COMPRESSED",
                                    "5": "99828",
                                    "6": "REORG",
                                    "7": "Table_8c92dbd39040490a8eae0c6877992248_37",
                                    "8": "2021-08-22 19:02:18.727"
                                },
                                {
                                    "0": "FactFinance100m",
                                    "1": "5",
                                    "2": "1",
                                    "3": "3",
                                    "4": "COMPRESSED",
                                    "5": "99828",
                                    "6": "REORG",
                                    "7": "Table_8c92dbd39040490a8eae0c6877992248_38",
                                    "8": "2021-08-22 19:02:18.910"
                                },
                                {
                                    "0": "FactFinance100m",
                                    "1": "3",
                                    "2": "1",
                                    "3": "3",
                                    "4": "COMPRESSED",
                                    "5": "999960",
                                    "6": "REORG",
                                    "7": "Table_8c92dbd39040490a8eae0c6877992248_39",
                                    "8": "2021-08-22 18:50:17.017"
                                },
                                {
                                    "0": "FactFinance100m",
                                    "1": "3",
                                    "2": "1",
                                    "3": "3",
                                    "4": "COMPRESSED",
                                    "5": "999960",
                                    "6": "REORG",
                                    "7": "Table_8c92dbd39040490a8eae0c6877992248_40",
                                    "8": "2021-08-22 18:50:10.850"
                                },
                                {
                                    "0": "FactFinance100m",
                                    "1": "5",
                                    "2": "1",
                                    "3": "3",
                                    "4": "COMPRESSED",
                                    "5": "99828",
                                    "6": "REORG",
                                    "7": "Table_8c92dbd39040490a8eae0c6877992248_41",
                                    "8": "2021-08-22 19:02:17.023"
                                },
                                {
                                    "0": "FactFinance100m",
                                    "1": "5",
                                    "2": "1",
                                    "3": "3",
                                    "4": "COMPRESSED",
                                    "5": "99828",
                                    "6": "REORG",
                                    "7": "Table_8c92dbd39040490a8eae0c6877992248_42",
                                    "8": "2021-08-22 19:02:19.157"
                                },
                                {
                                    "0": "FactFinance100m",
                                    "1": "5",
                                    "2": "1",
                                    "3": "3",
                                    "4": "COMPRESSED",
                                    "5": "99828",
                                    "6": "REORG",
                                    "7": "Table_8c92dbd39040490a8eae0c6877992248_43",
                                    "8": "2021-08-22 19:02:19.517"
                                },
                                {
                                    "0": "FactFinance100m",
                                    "1": "5",
                                    "2": "1",
                                    "3": "3",
                                    "4": "COMPRESSED",
                                    "5": "99828",
                                    "6": "REORG",
                                    "7": "Table_8c92dbd39040490a8eae0c6877992248_44",
                                    "8": "2021-08-22 19:02:19.550"
                                },
                                {
                                    "0": "FactFinance100m",
                                    "1": "5",
                                    "2": "1",
                                    "3": "3",
                                    "4": "COMPRESSED",
                                    "5": "99828",
                                    "6": "REORG",
                                    "7": "Table_8c92dbd39040490a8eae0c6877992248_45",
                                    "8": "2021-08-22 19:02:19.223"
                                },
                                {
                                    "0": "FactFinance100m",
                                    "1": "5",
                                    "2": "1",
                                    "3": "3",
                                    "4": "COMPRESSED",
                                    "5": "99828",
                                    "6": "REORG",
                                    "7": "Table_8c92dbd39040490a8eae0c6877992248_46",
                                    "8": "2021-08-22 19:02:18.797"
                                },
                                {
                                    "0": "FactFinance100m",
                                    "1": "5",
                                    "2": "1",
                                    "3": "3",
                                    "4": "COMPRESSED",
                                    "5": "99828",
                                    "6": "REORG",
                                    "7": "Table_8c92dbd39040490a8eae0c6877992248_47",
                                    "8": "2021-08-22 19:02:19.557"
                                },
                                {
                                    "0": "FactFinance100m",
                                    "1": "5",
                                    "2": "1",
                                    "3": "3",
                                    "4": "COMPRESSED",
                                    "5": "99828",
                                    "6": "REORG",
                                    "7": "Table_8c92dbd39040490a8eae0c6877992248_48",
                                    "8": "2021-08-22 19:02:18.777"
                                },
                                {
                                    "0": "FactFinance100m",
                                    "1": "5",
                                    "2": "1",
                                    "3": "3",
                                    "4": "COMPRESSED",
                                    "5": "99828",
                                    "6": "REORG",
                                    "7": "Table_8c92dbd39040490a8eae0c6877992248_49",
                                    "8": "2021-08-22 19:02:18.840"
                                },
                                {
                                    "0": "FactFinance100m",
                                    "1": "3",
                                    "2": "1",
                                    "3": "3",
                                    "4": "COMPRESSED",
                                    "5": "999960",
                                    "6": "REORG",
                                    "7": "Table_8c92dbd39040490a8eae0c6877992248_50",
                                    "8": "2021-08-22 18:50:13.570"
                                },
                                {
                                    "0": "FactFinance100m",
                                    "1": "5",
                                    "2": "1",
                                    "3": "3",
                                    "4": "COMPRESSED",
                                    "5": "99828",
                                    "6": "REORG",
                                    "7": "Table_8c92dbd39040490a8eae0c6877992248_51",
                                    "8": "2021-08-22 19:02:19.517"
                                },
                                {
                                    "0": "FactFinance100m",
                                    "1": "5",
                                    "2": "1",
                                    "3": "3",
                                    "4": "COMPRESSED",
                                    "5": "99828",
                                    "6": "REORG",
                                    "7": "Table_8c92dbd39040490a8eae0c6877992248_52",
                                    "8": "2021-08-22 19:02:16.750"
                                },
                                {
                                    "0": "FactFinance100m",
                                    "1": "5",
                                    "2": "1",
                                    "3": "3",
                                    "4": "COMPRESSED",
                                    "5": "99828",
                                    "6": "REORG",
                                    "7": "Table_8c92dbd39040490a8eae0c6877992248_53",
                                    "8": "2021-08-22 19:02:18.753"
                                },
                                {
                                    "0": "FactFinance100m",
                                    "1": "5",
                                    "2": "1",
                                    "3": "3",
                                    "4": "COMPRESSED",
                                    "5": "99828",
                                    "6": "REORG",
                                    "7": "Table_8c92dbd39040490a8eae0c6877992248_54",
                                    "8": "2021-08-22 19:02:19.083"
                                },
                                {
                                    "0": "FactFinance100m",
                                    "1": "5",
                                    "2": "1",
                                    "3": "3",
                                    "4": "COMPRESSED",
                                    "5": "99828",
                                    "6": "REORG",
                                    "7": "Table_8c92dbd39040490a8eae0c6877992248_55",
                                    "8": "2021-08-22 19:02:18.770"
                                },
                                {
                                    "0": "FactFinance100m",
                                    "1": "5",
                                    "2": "1",
                                    "3": "3",
                                    "4": "COMPRESSED",
                                    "5": "99828",
                                    "6": "REORG",
                                    "7": "Table_8c92dbd39040490a8eae0c6877992248_56",
                                    "8": "2021-08-22 19:02:19.527"
                                },
                                {
                                    "0": "FactFinance100m",
                                    "1": "5",
                                    "2": "1",
                                    "3": "3",
                                    "4": "COMPRESSED",
                                    "5": "99828",
                                    "6": "REORG",
                                    "7": "Table_8c92dbd39040490a8eae0c6877992248_57",
                                    "8": "2021-08-22 19:02:16.933"
                                },
                                {
                                    "0": "FactFinance100m",
                                    "1": "3",
                                    "2": "1",
                                    "3": "3",
                                    "4": "COMPRESSED",
                                    "5": "999960",
                                    "6": "REORG",
                                    "7": "Table_8c92dbd39040490a8eae0c6877992248_58",
                                    "8": "2021-08-22 18:50:13.610"
                                },
                                {
                                    "0": "FactFinance100m",
                                    "1": "5",
                                    "2": "1",
                                    "3": "3",
                                    "4": "COMPRESSED",
                                    "5": "100392",
                                    "6": "REORG",
                                    "7": "Table_8c92dbd39040490a8eae0c6877992248_59",
                                    "8": "2021-08-22 19:02:19.167"
                                },
                                {
                                    "0": "FactFinance100m",
                                    "1": "5",
                                    "2": "1",
                                    "3": "3",
                                    "4": "COMPRESSED",
                                    "5": "100392",
                                    "6": "REORG",
                                    "7": "Table_8c92dbd39040490a8eae0c6877992248_60",
                                    "8": "2021-08-22 19:02:18.950"
                                },
                                {
                                    "0": "FactFinance100m",
                                    "1": "3",
                                    "2": "1",
                                    "3": "3",
                                    "4": "COMPRESSED",
                                    "5": "999960",
                                    "6": "REORG",
                                    "7": "Table_8c92dbd39040490a8eae0c6877992248_1",
                                    "8": "2021-08-22 18:50:12.597"
                                },
                                {
                                    "0": "FactFinance100m",
                                    "1": "3",
                                    "2": "1",
                                    "3": "3",
                                    "4": "COMPRESSED",
                                    "5": "999960",
                                    "6": "REORG",
                                    "7": "Table_8c92dbd39040490a8eae0c6877992248_2",
                                    "8": "2021-08-22 18:50:10.677"
                                },
                                {
                                    "0": "FactFinance100m",
                                    "1": "3",
                                    "2": "1",
                                    "3": "3",
                                    "4": "COMPRESSED",
                                    "5": "1000520",
                                    "6": "REORG",
                                    "7": "Table_8c92dbd39040490a8eae0c6877992248_3",
                                    "8": "2021-08-22 18:50:15.077"
                                },
                                {
                                    "0": "FactFinance100m",
                                    "1": "3",
                                    "2": "1",
                                    "3": "3",
                                    "4": "COMPRESSED",
                                    "5": "1000520",
                                    "6": "REORG",
                                    "7": "Table_8c92dbd39040490a8eae0c6877992248_4",
                                    "8": "2021-08-22 18:50:13.157"
                                },
                                {
                                    "0": "FactFinance100m",
                                    "1": "3",
                                    "2": "1",
                                    "3": "3",
                                    "4": "COMPRESSED",
                                    "5": "999960",
                                    "6": "REORG",
                                    "7": "Table_8c92dbd39040490a8eae0c6877992248_5",
                                    "8": "2021-08-22 18:50:09.270"
                                },
                                {
                                    "0": "FactFinance100m",
                                    "1": "3",
                                    "2": "1",
                                    "3": "3",
                                    "4": "COMPRESSED",
                                    "5": "999960",
                                    "6": "REORG",
                                    "7": "Table_8c92dbd39040490a8eae0c6877992248_6",
                                    "8": "2021-08-22 18:50:08.450"
                                },
                                {
                                    "0": "FactFinance100m",
                                    "1": "3",
                                    "2": "1",
                                    "3": "3",
                                    "4": "COMPRESSED",
                                    "5": "999960",
                                    "6": "REORG",
                                    "7": "Table_8c92dbd39040490a8eae0c6877992248_7",
                                    "8": "2021-08-22 18:50:12.277"
                                },
                                {
                                    "0": "FactFinance100m",
                                    "1": "3",
                                    "2": "1",
                                    "3": "3",
                                    "4": "COMPRESSED",
                                    "5": "999960",
                                    "6": "REORG",
                                    "7": "Table_8c92dbd39040490a8eae0c6877992248_8",
                                    "8": "2021-08-22 18:50:13.150"
                                },
                                {
                                    "0": "FactFinance100m",
                                    "1": "3",
                                    "2": "1",
                                    "3": "3",
                                    "4": "COMPRESSED",
                                    "5": "999960",
                                    "6": "REORG",
                                    "7": "Table_8c92dbd39040490a8eae0c6877992248_9",
                                    "8": "2021-08-22 18:50:12.790"
                                },
                                {
                                    "0": "FactFinance100m",
                                    "1": "3",
                                    "2": "1",
                                    "3": "3",
                                    "4": "COMPRESSED",
                                    "5": "999960",
                                    "6": "REORG",
                                    "7": "Table_8c92dbd39040490a8eae0c6877992248_23",
                                    "8": "2021-08-22 18:50:14.880"
                                },
                                {
                                    "0": "FactFinance100m",
                                    "1": "6",
                                    "2": "1",
                                    "3": "1",
                                    "4": "OPEN",
                                    "5": "360",
                                    "6": "NULL",
                                    "7": "Table_8c92dbd39040490a8eae0c6877992248_24",
                                    "8": "2021-08-22 19:15:13.867"
                                },
                                {
                                    "0": "FactFinance100m",
                                    "1": "3",
                                    "2": "1",
                                    "3": "3",
                                    "4": "COMPRESSED",
                                    "5": "999960",
                                    "6": "REORG",
                                    "7": "Table_8c92dbd39040490a8eae0c6877992248_25",
                                    "8": "2021-08-22 18:50:10.460"
                                },
                                {
                                    "0": "FactFinance100m",
                                    "1": "3",
                                    "2": "1",
                                    "3": "3",
                                    "4": "COMPRESSED",
                                    "5": "999960",
                                    "6": "REORG",
                                    "7": "Table_8c92dbd39040490a8eae0c6877992248_26",
                                    "8": "2021-08-22 18:50:10.380"
                                },
                                {
                                    "0": "FactFinance100m",
                                    "1": "6",
                                    "2": "1",
                                    "3": "1",
                                    "4": "OPEN",
                                    "5": "204",
                                    "6": "NULL",
                                    "7": "Table_8c92dbd39040490a8eae0c6877992248_27",
                                    "8": "2021-08-22 19:15:13.970"
                                },
                                {
                                    "0": "FactFinance100m",
                                    "1": "3",
                                    "2": "1",
                                    "3": "3",
                                    "4": "COMPRESSED",
                                    "5": "999960",
                                    "6": "REORG",
                                    "7": "Table_8c92dbd39040490a8eae0c6877992248_28",
                                    "8": "2021-08-22 18:50:15.160"
                                },
                                {
                                    "0": "FactFinance100m",
                                    "1": "3",
                                    "2": "1",
                                    "3": "3",
                                    "4": "COMPRESSED",
                                    "5": "999960",
                                    "6": "REORG",
                                    "7": "Table_8c92dbd39040490a8eae0c6877992248_29",
                                    "8": "2021-08-22 18:50:16.570"
                                },
                                {
                                    "0": "FactFinance100m",
                                    "1": "6",
                                    "2": "1",
                                    "3": "1",
                                    "4": "OPEN",
                                    "5": "880",
                                    "6": "NULL",
                                    "7": "Table_8c92dbd39040490a8eae0c6877992248_30",
                                    "8": "2021-08-22 19:15:13.987"
                                },
                                {
                                    "0": "FactFinance100m",
                                    "1": "3",
                                    "2": "1",
                                    "3": "3",
                                    "4": "COMPRESSED",
                                    "5": "999960",
                                    "6": "REORG",
                                    "7": "Table_8c92dbd39040490a8eae0c6877992248_31",
                                    "8": "2021-08-22 18:50:12.483"
                                },
                                {
                                    "0": "FactFinance100m",
                                    "1": "3",
                                    "2": "1",
                                    "3": "3",
                                    "4": "COMPRESSED",
                                    "5": "999960",
                                    "6": "REORG",
                                    "7": "Table_8c92dbd39040490a8eae0c6877992248_34",
                                    "8": "2021-08-22 18:50:12.337"
                                },
                                {
                                    "0": "FactFinance100m",
                                    "1": "3",
                                    "2": "1",
                                    "3": "3",
                                    "4": "COMPRESSED",
                                    "5": "999960",
                                    "6": "REORG",
                                    "7": "Table_8c92dbd39040490a8eae0c6877992248_35",
                                    "8": "2021-08-22 18:50:13.823"
                                },
                                {
                                    "0": "FactFinance100m",
                                    "1": "3",
                                    "2": "1",
                                    "3": "3",
                                    "4": "COMPRESSED",
                                    "5": "999960",
                                    "6": "REORG",
                                    "7": "Table_8c92dbd39040490a8eae0c6877992248_36",
                                    "8": "2021-08-22 18:50:12.600"
                                },
                                {
                                    "0": "FactFinance100m",
                                    "1": "3",
                                    "2": "1",
                                    "3": "3",
                                    "4": "COMPRESSED",
                                    "5": "999960",
                                    "6": "REORG",
                                    "7": "Table_8c92dbd39040490a8eae0c6877992248_37",
                                    "8": "2021-08-22 18:50:12.817"
                                },
                                {
                                    "0": "FactFinance100m",
                                    "1": "3",
                                    "2": "1",
                                    "3": "3",
                                    "4": "COMPRESSED",
                                    "5": "999960",
                                    "6": "REORG",
                                    "7": "Table_8c92dbd39040490a8eae0c6877992248_38",
                                    "8": "2021-08-22 18:50:16.987"
                                },
                                {
                                    "0": "FactFinance100m",
                                    "1": "3",
                                    "2": "1",
                                    "3": "3",
                                    "4": "COMPRESSED",
                                    "5": "999960",
                                    "6": "REORG",
                                    "7": "Table_8c92dbd39040490a8eae0c6877992248_41",
                                    "8": "2021-08-22 18:50:10.143"
                                },
                                {
                                    "0": "FactFinance100m",
                                    "1": "3",
                                    "2": "1",
                                    "3": "3",
                                    "4": "COMPRESSED",
                                    "5": "999960",
                                    "6": "REORG",
                                    "7": "Table_8c92dbd39040490a8eae0c6877992248_42",
                                    "8": "2021-08-22 18:50:13.740"
                                },
                                {
                                    "0": "FactFinance100m",
                                    "1": "3",
                                    "2": "1",
                                    "3": "3",
                                    "4": "COMPRESSED",
                                    "5": "999960",
                                    "6": "REORG",
                                    "7": "Table_8c92dbd39040490a8eae0c6877992248_43",
                                    "8": "2021-08-22 18:50:13.660"
                                },
                                {
                                    "0": "FactFinance100m",
                                    "1": "3",
                                    "2": "1",
                                    "3": "3",
                                    "4": "COMPRESSED",
                                    "5": "999960",
                                    "6": "REORG",
                                    "7": "Table_8c92dbd39040490a8eae0c6877992248_44",
                                    "8": "2021-08-22 18:50:13.723"
                                },
                                {
                                    "0": "FactFinance100m",
                                    "1": "3",
                                    "2": "1",
                                    "3": "3",
                                    "4": "COMPRESSED",
                                    "5": "999960",
                                    "6": "REORG",
                                    "7": "Table_8c92dbd39040490a8eae0c6877992248_45",
                                    "8": "2021-08-22 18:50:15.097"
                                },
                                {
                                    "0": "FactFinance100m",
                                    "1": "3",
                                    "2": "1",
                                    "3": "3",
                                    "4": "COMPRESSED",
                                    "5": "999960",
                                    "6": "REORG",
                                    "7": "Table_8c92dbd39040490a8eae0c6877992248_46",
                                    "8": "2021-08-22 18:50:09.893"
                                },
                                {
                                    "0": "FactFinance100m",
                                    "1": "3",
                                    "2": "1",
                                    "3": "3",
                                    "4": "COMPRESSED",
                                    "5": "1000456",
                                    "6": "REORG",
                                    "7": "Table_8c92dbd39040490a8eae0c6877992248_47",
                                    "8": "2021-08-22 18:50:08.703"
                                },
                                {
                                    "0": "FactFinance100m",
                                    "1": "3",
                                    "2": "1",
                                    "3": "3",
                                    "4": "COMPRESSED",
                                    "5": "1000456",
                                    "6": "REORG",
                                    "7": "Table_8c92dbd39040490a8eae0c6877992248_48",
                                    "8": "2021-08-22 18:50:11.240"
                                },
                                {
                                    "0": "FactFinance100m",
                                    "1": "3",
                                    "2": "1",
                                    "3": "3",
                                    "4": "COMPRESSED",
                                    "5": "1000248",
                                    "6": "REORG",
                                    "7": "Table_8c92dbd39040490a8eae0c6877992248_49",
                                    "8": "2021-08-22 18:50:09.893"
                                },
                                {
                                    "0": "FactFinance100m",
                                    "1": "3",
                                    "2": "1",
                                    "3": "3",
                                    "4": "COMPRESSED",
                                    "5": "999960",
                                    "6": "REORG",
                                    "7": "Table_8c92dbd39040490a8eae0c6877992248_51",
                                    "8": "2021-08-22 18:50:16.540"
                                },
                                {
                                    "0": "FactFinance100m",
                                    "1": "3",
                                    "2": "1",
                                    "3": "3",
                                    "4": "COMPRESSED",
                                    "5": "999960",
                                    "6": "REORG",
                                    "7": "Table_8c92dbd39040490a8eae0c6877992248_52",
                                    "8": "2021-08-22 18:50:08.593"
                                },
                                {
                                    "0": "FactFinance100m",
                                    "1": "3",
                                    "2": "1",
                                    "3": "3",
                                    "4": "COMPRESSED",
                                    "5": "999960",
                                    "6": "REORG",
                                    "7": "Table_8c92dbd39040490a8eae0c6877992248_53",
                                    "8": "2021-08-22 18:50:13.137"
                                },
                                {
                                    "0": "FactFinance100m",
                                    "1": "3",
                                    "2": "1",
                                    "3": "3",
                                    "4": "COMPRESSED",
                                    "5": "999960",
                                    "6": "REORG",
                                    "7": "Table_8c92dbd39040490a8eae0c6877992248_54",
                                    "8": "2021-08-22 18:50:10.640"
                                },
                                {
                                    "0": "FactFinance100m",
                                    "1": "3",
                                    "2": "1",
                                    "3": "3",
                                    "4": "COMPRESSED",
                                    "5": "999960",
                                    "6": "REORG",
                                    "7": "Table_8c92dbd39040490a8eae0c6877992248_55",
                                    "8": "2021-08-22 18:50:06.080"
                                },
                                {
                                    "0": "FactFinance100m",
                                    "1": "3",
                                    "2": "1",
                                    "3": "3",
                                    "4": "COMPRESSED",
                                    "5": "999960",
                                    "6": "REORG",
                                    "7": "Table_8c92dbd39040490a8eae0c6877992248_56",
                                    "8": "2021-08-22 18:50:16.710"
                                },
                                {
                                    "0": "FactFinance100m",
                                    "1": "3",
                                    "2": "1",
                                    "3": "3",
                                    "4": "COMPRESSED",
                                    "5": "999960",
                                    "6": "REORG",
                                    "7": "Table_8c92dbd39040490a8eae0c6877992248_57",
                                    "8": "2021-08-22 18:50:09.717"
                                },
                                {
                                    "0": "FactFinance100m",
                                    "1": "6",
                                    "2": "1",
                                    "3": "1",
                                    "4": "OPEN",
                                    "5": "1214",
                                    "6": "NULL",
                                    "7": "Table_8c92dbd39040490a8eae0c6877992248_58",
                                    "8": "2021-08-22 19:15:14.017"
                                },
                                {
                                    "0": "FactFinance100m",
                                    "1": "3",
                                    "2": "1",
                                    "3": "3",
                                    "4": "COMPRESSED",
                                    "5": "999960",
                                    "6": "REORG",
                                    "7": "Table_8c92dbd39040490a8eae0c6877992248_59",
                                    "8": "2021-08-22 18:50:12.453"
                                },
                                {
                                    "0": "FactFinance100m",
                                    "1": "3",
                                    "2": "1",
                                    "3": "3",
                                    "4": "COMPRESSED",
                                    "5": "999960",
                                    "6": "REORG",
                                    "7": "Table_8c92dbd39040490a8eae0c6877992248_60",
                                    "8": "2021-08-22 18:50:12.423"
                                }
                            ]
                        },
                        "text/html": [
                            "<table>",
                            "<tr><th>logical_table_name</th><th>row_group_id</th><th>partition_number</th><th>state</th><th>state_desc</th><th>total_rows</th><th>trim_reason_desc</th><th>physical_name</th><th>created_time</th></tr>",
                            "<tr><td>FactFinance100m</td><td>6</td><td>1</td><td>1</td><td>OPEN</td><td>584</td><td>NULL</td><td>Table_8c92dbd39040490a8eae0c6877992248_1</td><td>2021-08-22 19:15:13.953</td></tr>",
                            "<tr><td>FactFinance100m</td><td>6</td><td>1</td><td>1</td><td>OPEN</td><td>408</td><td>NULL</td><td>Table_8c92dbd39040490a8eae0c6877992248_2</td><td>2021-08-22 19:15:14.007</td></tr>",
                            "<tr><td>FactFinance100m</td><td>6</td><td>1</td><td>1</td><td>OPEN</td><td>246</td><td>NULL</td><td>Table_8c92dbd39040490a8eae0c6877992248_3</td><td>2021-08-22 19:15:13.980</td></tr>",
                            "<tr><td>FactFinance100m</td><td>6</td><td>1</td><td>1</td><td>OPEN</td><td>318</td><td>NULL</td><td>Table_8c92dbd39040490a8eae0c6877992248_4</td><td>2021-08-22 19:15:14.027</td></tr>",
                            "<tr><td>FactFinance100m</td><td>6</td><td>1</td><td>1</td><td>OPEN</td><td>780</td><td>NULL</td><td>Table_8c92dbd39040490a8eae0c6877992248_5</td><td>2021-08-22 19:15:14.060</td></tr>",
                            "<tr><td>FactFinance100m</td><td>6</td><td>1</td><td>1</td><td>OPEN</td><td>1147</td><td>NULL</td><td>Table_8c92dbd39040490a8eae0c6877992248_6</td><td>2021-08-22 19:15:14.063</td></tr>",
                            "<tr><td>FactFinance100m</td><td>6</td><td>1</td><td>1</td><td>OPEN</td><td>979</td><td>NULL</td><td>Table_8c92dbd39040490a8eae0c6877992248_7</td><td>2021-08-22 19:15:14.040</td></tr>",
                            "<tr><td>FactFinance100m</td><td>6</td><td>1</td><td>1</td><td>OPEN</td><td>985</td><td>NULL</td><td>Table_8c92dbd39040490a8eae0c6877992248_8</td><td>2021-08-22 19:15:14.027</td></tr>",
                            "<tr><td>FactFinance100m</td><td>6</td><td>1</td><td>1</td><td>OPEN</td><td>149</td><td>NULL</td><td>Table_8c92dbd39040490a8eae0c6877992248_9</td><td>2021-08-22 19:15:14.080</td></tr>",
                            "<tr><td>FactFinance100m</td><td>5</td><td>1</td><td>3</td><td>COMPRESSED</td><td>100392</td><td>REORG</td><td>Table_8c92dbd39040490a8eae0c6877992248_10</td><td>2021-08-22 19:02:19.200</td></tr>",
                            "<tr><td>FactFinance100m</td><td>5</td><td>1</td><td>3</td><td>COMPRESSED</td><td>100392</td><td>REORG</td><td>Table_8c92dbd39040490a8eae0c6877992248_11</td><td>2021-08-22 19:02:17.670</td></tr>",
                            "<tr><td>FactFinance100m</td><td>5</td><td>1</td><td>3</td><td>COMPRESSED</td><td>100392</td><td>REORG</td><td>Table_8c92dbd39040490a8eae0c6877992248_12</td><td>2021-08-22 19:02:19.210</td></tr>",
                            "<tr><td>FactFinance100m</td><td>5</td><td>1</td><td>3</td><td>COMPRESSED</td><td>100392</td><td>REORG</td><td>Table_8c92dbd39040490a8eae0c6877992248_13</td><td>2021-08-22 19:02:16.953</td></tr>",
                            "<tr><td>FactFinance100m</td><td>5</td><td>1</td><td>3</td><td>COMPRESSED</td><td>100392</td><td>REORG</td><td>Table_8c92dbd39040490a8eae0c6877992248_14</td><td>2021-08-22 19:02:18.737</td></tr>",
                            "<tr><td>FactFinance100m</td><td>5</td><td>1</td><td>3</td><td>COMPRESSED</td><td>100392</td><td>REORG</td><td>Table_8c92dbd39040490a8eae0c6877992248_15</td><td>2021-08-22 19:02:17.480</td></tr>",
                            "<tr><td>FactFinance100m</td><td>5</td><td>1</td><td>3</td><td>COMPRESSED</td><td>99996</td><td>REORG</td><td>Table_8c92dbd39040490a8eae0c6877992248_16</td><td>2021-08-22 19:02:19.097</td></tr>",
                            "<tr><td>FactFinance100m</td><td>5</td><td>1</td><td>3</td><td>COMPRESSED</td><td>99828</td><td>REORG</td><td>Table_8c92dbd39040490a8eae0c6877992248_17</td><td>2021-08-22 19:02:19.077</td></tr>",
                            "<tr><td>FactFinance100m</td><td>3</td><td>1</td><td>3</td><td>COMPRESSED</td><td>999960</td><td>REORG</td><td>Table_8c92dbd39040490a8eae0c6877992248_18</td><td>2021-08-22 18:50:16.987</td></tr>",
                            "<tr><td>FactFinance100m</td><td>5</td><td>1</td><td>3</td><td>COMPRESSED</td><td>99828</td><td>REORG</td><td>Table_8c92dbd39040490a8eae0c6877992248_19</td><td>2021-08-22 19:02:19.540</td></tr>",
                            "<tr><td>FactFinance100m</td><td>3</td><td>1</td><td>3</td><td>COMPRESSED</td><td>999960</td><td>REORG</td><td>Table_8c92dbd39040490a8eae0c6877992248_20</td><td>2021-08-22 18:50:13.823</td></tr>",
                            "<tr><td>FactFinance100m</td><td>5</td><td>1</td><td>3</td><td>COMPRESSED</td><td>99828</td><td>REORG</td><td>Table_8c92dbd39040490a8eae0c6877992248_21</td><td>2021-08-22 19:02:18.857</td></tr>",
                            "<tr><td>FactFinance100m</td><td>5</td><td>1</td><td>3</td><td>COMPRESSED</td><td>99828</td><td>REORG</td><td>Table_8c92dbd39040490a8eae0c6877992248_22</td><td>2021-08-22 19:02:18.983</td></tr>",
                            "<tr><td>FactFinance100m</td><td>6</td><td>1</td><td>1</td><td>OPEN</td><td>148</td><td>NULL</td><td>Table_8c92dbd39040490a8eae0c6877992248_23</td><td>2021-08-22 19:15:13.800</td></tr>",
                            "<tr><td>FactFinance100m</td><td>5</td><td>1</td><td>3</td><td>COMPRESSED</td><td>99828</td><td>REORG</td><td>Table_8c92dbd39040490a8eae0c6877992248_24</td><td>2021-08-22 19:02:17.510</td></tr>",
                            "<tr><td>FactFinance100m</td><td>6</td><td>1</td><td>1</td><td>OPEN</td><td>924</td><td>NULL</td><td>Table_8c92dbd39040490a8eae0c6877992248_25</td><td>2021-08-22 19:15:13.913</td></tr>",
                            "<tr><td>FactFinance100m</td><td>6</td><td>1</td><td>1</td><td>OPEN</td><td>768</td><td>NULL</td><td>Table_8c92dbd39040490a8eae0c6877992248_26</td><td>2021-08-22 19:15:13.877</td></tr>",
                            "<tr><td>FactFinance100m</td><td>5</td><td>1</td><td>3</td><td>COMPRESSED</td><td>99828</td><td>REORG</td><td>Table_8c92dbd39040490a8eae0c6877992248_27</td><td>2021-08-22 19:02:19.157</td></tr>",
                            "<tr><td>FactFinance100m</td><td>6</td><td>1</td><td>1</td><td>OPEN</td><td>148</td><td>NULL</td><td>Table_8c92dbd39040490a8eae0c6877992248_28</td><td>2021-08-22 19:15:14.120</td></tr>",
                            "<tr><td>FactFinance100m</td><td>6</td><td>1</td><td>1</td><td>OPEN</td><td>564</td><td>NULL</td><td>Table_8c92dbd39040490a8eae0c6877992248_29</td><td>2021-08-22 19:15:13.950</td></tr>",
                            "<tr><td>FactFinance100m</td><td>5</td><td>1</td><td>3</td><td>COMPRESSED</td><td>99828</td><td>REORG</td><td>Table_8c92dbd39040490a8eae0c6877992248_30</td><td>2021-08-22 19:02:16.830</td></tr>",
                            "<tr><td>FactFinance100m</td><td>6</td><td>1</td><td>1</td><td>OPEN</td><td>100</td><td>NULL</td><td>Table_8c92dbd39040490a8eae0c6877992248_31</td><td>2021-08-22 19:15:13.930</td></tr>",
                            "<tr><td>FactFinance100m</td><td>5</td><td>1</td><td>3</td><td>COMPRESSED</td><td>99828</td><td>REORG</td><td>Table_8c92dbd39040490a8eae0c6877992248_32</td><td>2021-08-22 19:02:19.110</td></tr>",
                            "<tr><td>FactFinance100m</td><td>5</td><td>1</td><td>3</td><td>COMPRESSED</td><td>99828</td><td>REORG</td><td>Table_8c92dbd39040490a8eae0c6877992248_33</td><td>2021-08-22 19:02:19.560</td></tr>",
                            "<tr><td>FactFinance100m</td><td>6</td><td>1</td><td>1</td><td>OPEN</td><td>388</td><td>NULL</td><td>Table_8c92dbd39040490a8eae0c6877992248_34</td><td>2021-08-22 19:15:14.210</td></tr>",
                            "<tr><td>FactFinance100m</td><td>6</td><td>1</td><td>1</td><td>OPEN</td><td>520</td><td>NULL</td><td>Table_8c92dbd39040490a8eae0c6877992248_35</td><td>2021-08-22 19:15:13.907</td></tr>",
                            "<tr><td>FactFinance100m</td><td>6</td><td>1</td><td>1</td><td>OPEN</td><td>564</td><td>NULL</td><td>Table_8c92dbd39040490a8eae0c6877992248_36</td><td>2021-08-22 19:15:13.937</td></tr>",
                            "<tr><td>FactFinance100m</td><td>6</td><td>1</td><td>1</td><td>OPEN</td><td>432</td><td>NULL</td><td>Table_8c92dbd39040490a8eae0c6877992248_37</td><td>2021-08-22 19:15:13.883</td></tr>",
                            "<tr><td>FactFinance100m</td><td>6</td><td>1</td><td>1</td><td>OPEN</td><td>176</td><td>NULL</td><td>Table_8c92dbd39040490a8eae0c6877992248_38</td><td>2021-08-22 19:15:13.963</td></tr>",
                            "<tr><td>FactFinance100m</td><td>5</td><td>1</td><td>3</td><td>COMPRESSED</td><td>99828</td><td>REORG</td><td>Table_8c92dbd39040490a8eae0c6877992248_39</td><td>2021-08-22 19:02:18.770</td></tr>",
                            "<tr><td>FactFinance100m</td><td>5</td><td>1</td><td>3</td><td>COMPRESSED</td><td>99828</td><td>REORG</td><td>Table_8c92dbd39040490a8eae0c6877992248_40</td><td>2021-08-22 19:02:19.167</td></tr>",
                            "<tr><td>FactFinance100m</td><td>6</td><td>1</td><td>1</td><td>OPEN</td><td>91</td><td>NULL</td><td>Table_8c92dbd39040490a8eae0c6877992248_41</td><td>2021-08-22 19:15:13.807</td></tr>",
                            "<tr><td>FactFinance100m</td><td>6</td><td>1</td><td>1</td><td>OPEN</td><td>496</td><td>NULL</td><td>Table_8c92dbd39040490a8eae0c6877992248_42</td><td>2021-08-22 19:15:13.997</td></tr>",
                            "<tr><td>FactFinance100m</td><td>6</td><td>1</td><td>1</td><td>OPEN</td><td>815</td><td>NULL</td><td>Table_8c92dbd39040490a8eae0c6877992248_43</td><td>2021-08-22 19:15:13.990</td></tr>",
                            "<tr><td>FactFinance100m</td><td>6</td><td>1</td><td>1</td><td>OPEN</td><td>712</td><td>NULL</td><td>Table_8c92dbd39040490a8eae0c6877992248_44</td><td>2021-08-22 19:15:14.027</td></tr>",
                            "<tr><td>FactFinance100m</td><td>6</td><td>1</td><td>1</td><td>OPEN</td><td>290</td><td>NULL</td><td>Table_8c92dbd39040490a8eae0c6877992248_45</td><td>2021-08-22 19:15:14.107</td></tr>",
                            "<tr><td>FactFinance100m</td><td>6</td><td>1</td><td>1</td><td>OPEN</td><td>214</td><td>NULL</td><td>Table_8c92dbd39040490a8eae0c6877992248_46</td><td>2021-08-22 19:15:13.880</td></tr>",
                            "<tr><td>FactFinance100m</td><td>6</td><td>1</td><td>1</td><td>OPEN</td><td>992</td><td>NULL</td><td>Table_8c92dbd39040490a8eae0c6877992248_47</td><td>2021-08-22 19:15:14.170</td></tr>",
                            "<tr><td>FactFinance100m</td><td>6</td><td>1</td><td>1</td><td>OPEN</td><td>818</td><td>NULL</td><td>Table_8c92dbd39040490a8eae0c6877992248_48</td><td>2021-08-22 19:15:13.967</td></tr>",
                            "<tr><td>FactFinance100m</td><td>6</td><td>1</td><td>1</td><td>OPEN</td><td>232</td><td>NULL</td><td>Table_8c92dbd39040490a8eae0c6877992248_49</td><td>2021-08-22 19:15:14.017</td></tr>",
                            "<tr><td>FactFinance100m</td><td>5</td><td>1</td><td>3</td><td>COMPRESSED</td><td>99828</td><td>REORG</td><td>Table_8c92dbd39040490a8eae0c6877992248_50</td><td>2021-08-22 19:02:19.023</td></tr>",
                            "<tr><td>FactFinance100m</td><td>6</td><td>1</td><td>1</td><td>OPEN</td><td>454</td><td>NULL</td><td>Table_8c92dbd39040490a8eae0c6877992248_51</td><td>2021-08-22 19:15:14.063</td></tr>",
                            "<tr><td>FactFinance100m</td><td>6</td><td>1</td><td>1</td><td>OPEN</td><td>684</td><td>NULL</td><td>Table_8c92dbd39040490a8eae0c6877992248_52</td><td>2021-08-22 19:15:13.843</td></tr>",
                            "<tr><td>FactFinance100m</td><td>6</td><td>1</td><td>1</td><td>OPEN</td><td>616</td><td>NULL</td><td>Table_8c92dbd39040490a8eae0c6877992248_53</td><td>2021-08-22 19:15:14.043</td></tr>",
                            "<tr><td>FactFinance100m</td><td>6</td><td>1</td><td>1</td><td>OPEN</td><td>816</td><td>NULL</td><td>Table_8c92dbd39040490a8eae0c6877992248_54</td><td>2021-08-22 19:15:14.090</td></tr>",
                            "<tr><td>FactFinance100m</td><td>6</td><td>1</td><td>1</td><td>OPEN</td><td>1030</td><td>NULL</td><td>Table_8c92dbd39040490a8eae0c6877992248_55</td><td>2021-08-22 19:15:14.133</td></tr>",
                            "<tr><td>FactFinance100m</td><td>6</td><td>1</td><td>1</td><td>OPEN</td><td>876</td><td>NULL</td><td>Table_8c92dbd39040490a8eae0c6877992248_56</td><td>2021-08-22 19:15:14.043</td></tr>",
                            "<tr><td>FactFinance100m</td><td>6</td><td>1</td><td>1</td><td>OPEN</td><td>686</td><td>NULL</td><td>Table_8c92dbd39040490a8eae0c6877992248_57</td><td>2021-08-22 19:15:13.930</td></tr>",
                            "<tr><td>FactFinance100m</td><td>5</td><td>1</td><td>3</td><td>COMPRESSED</td><td>100392</td><td>REORG</td><td>Table_8c92dbd39040490a8eae0c6877992248_58</td><td>2021-08-22 19:02:18.843</td></tr>",
                            "<tr><td>FactFinance100m</td><td>6</td><td>1</td><td>1</td><td>OPEN</td><td>1354</td><td>NULL</td><td>Table_8c92dbd39040490a8eae0c6877992248_59</td><td>2021-08-22 19:15:14.210</td></tr>",
                            "<tr><td>FactFinance100m</td><td>6</td><td>1</td><td>1</td><td>OPEN</td><td>1218</td><td>NULL</td><td>Table_8c92dbd39040490a8eae0c6877992248_60</td><td>2021-08-22 19:15:14.027</td></tr>",
                            "<tr><td>FactFinance100m</td><td>5</td><td>1</td><td>3</td><td>COMPRESSED</td><td>100392</td><td>REORG</td><td>Table_8c92dbd39040490a8eae0c6877992248_1</td><td>2021-08-22 19:02:19.177</td></tr>",
                            "<tr><td>FactFinance100m</td><td>5</td><td>1</td><td>3</td><td>COMPRESSED</td><td>100392</td><td>REORG</td><td>Table_8c92dbd39040490a8eae0c6877992248_2</td><td>2021-08-22 19:02:19.163</td></tr>",
                            "<tr><td>FactFinance100m</td><td>5</td><td>1</td><td>3</td><td>COMPRESSED</td><td>100392</td><td>REORG</td><td>Table_8c92dbd39040490a8eae0c6877992248_3</td><td>2021-08-22 19:02:19.147</td></tr>",
                            "<tr><td>FactFinance100m</td><td>5</td><td>1</td><td>3</td><td>COMPRESSED</td><td>100392</td><td>REORG</td><td>Table_8c92dbd39040490a8eae0c6877992248_4</td><td>2021-08-22 19:02:18.293</td></tr>",
                            "<tr><td>FactFinance100m</td><td>5</td><td>1</td><td>3</td><td>COMPRESSED</td><td>100392</td><td>REORG</td><td>Table_8c92dbd39040490a8eae0c6877992248_5</td><td>2021-08-22 19:02:19.507</td></tr>",
                            "<tr><td>FactFinance100m</td><td>5</td><td>1</td><td>3</td><td>COMPRESSED</td><td>100392</td><td>REORG</td><td>Table_8c92dbd39040490a8eae0c6877992248_6</td><td>2021-08-22 19:02:19.507</td></tr>",
                            "<tr><td>FactFinance100m</td><td>5</td><td>1</td><td>3</td><td>COMPRESSED</td><td>100392</td><td>REORG</td><td>Table_8c92dbd39040490a8eae0c6877992248_7</td><td>2021-08-22 19:02:19.500</td></tr>",
                            "<tr><td>FactFinance100m</td><td>5</td><td>1</td><td>3</td><td>COMPRESSED</td><td>100392</td><td>REORG</td><td>Table_8c92dbd39040490a8eae0c6877992248_8</td><td>2021-08-22 19:02:16.787</td></tr>",
                            "<tr><td>FactFinance100m</td><td>5</td><td>1</td><td>3</td><td>COMPRESSED</td><td>100392</td><td>REORG</td><td>Table_8c92dbd39040490a8eae0c6877992248_9</td><td>2021-08-22 19:02:19.483</td></tr>",
                            "<tr><td>FactFinance100m</td><td>3</td><td>1</td><td>3</td><td>COMPRESSED</td><td>999960</td><td>REORG</td><td>Table_8c92dbd39040490a8eae0c6877992248_10</td><td>2021-08-22 18:50:17.007</td></tr>",
                            "<tr><td>FactFinance100m</td><td>3</td><td>1</td><td>3</td><td>COMPRESSED</td><td>999960</td><td>REORG</td><td>Table_8c92dbd39040490a8eae0c6877992248_11</td><td>2021-08-22 18:50:09.960</td></tr>",
                            "<tr><td>FactFinance100m</td><td>3</td><td>1</td><td>3</td><td>COMPRESSED</td><td>999960</td><td>REORG</td><td>Table_8c92dbd39040490a8eae0c6877992248_12</td><td>2021-08-22 18:50:10.710</td></tr>",
                            "<tr><td>FactFinance100m</td><td>3</td><td>1</td><td>3</td><td>COMPRESSED</td><td>999960</td><td>REORG</td><td>Table_8c92dbd39040490a8eae0c6877992248_13</td><td>2021-08-22 18:50:12.533</td></tr>",
                            "<tr><td>FactFinance100m</td><td>3</td><td>1</td><td>3</td><td>COMPRESSED</td><td>999960</td><td>REORG</td><td>Table_8c92dbd39040490a8eae0c6877992248_14</td><td>2021-08-22 18:50:12.020</td></tr>",
                            "<tr><td>FactFinance100m</td><td>3</td><td>1</td><td>3</td><td>COMPRESSED</td><td>999960</td><td>REORG</td><td>Table_8c92dbd39040490a8eae0c6877992248_15</td><td>2021-08-22 18:50:14.883</td></tr>",
                            "<tr><td>FactFinance100m</td><td>3</td><td>1</td><td>3</td><td>COMPRESSED</td><td>999960</td><td>REORG</td><td>Table_8c92dbd39040490a8eae0c6877992248_16</td><td>2021-08-22 18:50:15.103</td></tr>",
                            "<tr><td>FactFinance100m</td><td>3</td><td>1</td><td>3</td><td>COMPRESSED</td><td>999960</td><td>REORG</td><td>Table_8c92dbd39040490a8eae0c6877992248_17</td><td>2021-08-22 18:50:15.113</td></tr>",
                            "<tr><td>FactFinance100m</td><td>5</td><td>1</td><td>3</td><td>COMPRESSED</td><td>99828</td><td>REORG</td><td>Table_8c92dbd39040490a8eae0c6877992248_18</td><td>2021-08-22 19:02:18.310</td></tr>",
                            "<tr><td>FactFinance100m</td><td>3</td><td>1</td><td>3</td><td>COMPRESSED</td><td>999960</td><td>REORG</td><td>Table_8c92dbd39040490a8eae0c6877992248_19</td><td>2021-08-22 18:50:13.360</td></tr>",
                            "<tr><td>FactFinance100m</td><td>5</td><td>1</td><td>3</td><td>COMPRESSED</td><td>99828</td><td>REORG</td><td>Table_8c92dbd39040490a8eae0c6877992248_20</td><td>2021-08-22 19:02:19.187</td></tr>",
                            "<tr><td>FactFinance100m</td><td>3</td><td>1</td><td>3</td><td>COMPRESSED</td><td>999960</td><td>REORG</td><td>Table_8c92dbd39040490a8eae0c6877992248_21</td><td>2021-08-22 18:50:11.873</td></tr>",
                            "<tr><td>FactFinance100m</td><td>3</td><td>1</td><td>3</td><td>COMPRESSED</td><td>999960</td><td>REORG</td><td>Table_8c92dbd39040490a8eae0c6877992248_22</td><td>2021-08-22 18:50:12.657</td></tr>",
                            "<tr><td>FactFinance100m</td><td>5</td><td>1</td><td>3</td><td>COMPRESSED</td><td>99828</td><td>REORG</td><td>Table_8c92dbd39040490a8eae0c6877992248_23</td><td>2021-08-22 19:02:18.863</td></tr>",
                            "<tr><td>FactFinance100m</td><td>3</td><td>1</td><td>3</td><td>COMPRESSED</td><td>999960</td><td>REORG</td><td>Table_8c92dbd39040490a8eae0c6877992248_24</td><td>2021-08-22 18:50:14.830</td></tr>",
                            "<tr><td>FactFinance100m</td><td>5</td><td>1</td><td>3</td><td>COMPRESSED</td><td>99828</td><td>REORG</td><td>Table_8c92dbd39040490a8eae0c6877992248_25</td><td>2021-08-22 19:02:18.803</td></tr>",
                            "<tr><td>FactFinance100m</td><td>5</td><td>1</td><td>3</td><td>COMPRESSED</td><td>99828</td><td>REORG</td><td>Table_8c92dbd39040490a8eae0c6877992248_26</td><td>2021-08-22 19:02:16.787</td></tr>",
                            "<tr><td>FactFinance100m</td><td>3</td><td>1</td><td>3</td><td>COMPRESSED</td><td>999960</td><td>REORG</td><td>Table_8c92dbd39040490a8eae0c6877992248_27</td><td>2021-08-22 18:50:08.670</td></tr>",
                            "<tr><td>FactFinance100m</td><td>5</td><td>1</td><td>3</td><td>COMPRESSED</td><td>99828</td><td>REORG</td><td>Table_8c92dbd39040490a8eae0c6877992248_28</td><td>2021-08-22 19:02:19.510</td></tr>",
                            "<tr><td>FactFinance100m</td><td>5</td><td>1</td><td>3</td><td>COMPRESSED</td><td>99828</td><td>REORG</td><td>Table_8c92dbd39040490a8eae0c6877992248_29</td><td>2021-08-22 19:02:18.747</td></tr>",
                            "<tr><td>FactFinance100m</td><td>3</td><td>1</td><td>3</td><td>COMPRESSED</td><td>999960</td><td>REORG</td><td>Table_8c92dbd39040490a8eae0c6877992248_30</td><td>2021-08-22 18:50:12.280</td></tr>",
                            "<tr><td>FactFinance100m</td><td>5</td><td>1</td><td>3</td><td>COMPRESSED</td><td>99828</td><td>REORG</td><td>Table_8c92dbd39040490a8eae0c6877992248_31</td><td>2021-08-22 19:02:19.513</td></tr>",
                            "<tr><td>FactFinance100m</td><td>3</td><td>1</td><td>3</td><td>COMPRESSED</td><td>999960</td><td>REORG</td><td>Table_8c92dbd39040490a8eae0c6877992248_32</td><td>2021-08-22 18:50:13.127</td></tr>",
                            "<tr><td>FactFinance100m</td><td>3</td><td>1</td><td>3</td><td>COMPRESSED</td><td>999960</td><td>REORG</td><td>Table_8c92dbd39040490a8eae0c6877992248_33</td><td>2021-08-22 18:50:11.800</td></tr>",
                            "<tr><td>FactFinance100m</td><td>5</td><td>1</td><td>3</td><td>COMPRESSED</td><td>99828</td><td>REORG</td><td>Table_8c92dbd39040490a8eae0c6877992248_34</td><td>2021-08-22 19:02:19.487</td></tr>",
                            "<tr><td>FactFinance100m</td><td>5</td><td>1</td><td>3</td><td>COMPRESSED</td><td>99828</td><td>REORG</td><td>Table_8c92dbd39040490a8eae0c6877992248_35</td><td>2021-08-22 19:02:19.130</td></tr>",
                            "<tr><td>FactFinance100m</td><td>5</td><td>1</td><td>3</td><td>COMPRESSED</td><td>99828</td><td>REORG</td><td>Table_8c92dbd39040490a8eae0c6877992248_36</td><td>2021-08-22 19:02:17.113</td></tr>",
                            "<tr><td>FactFinance100m</td><td>5</td><td>1</td><td>3</td><td>COMPRESSED</td><td>99828</td><td>REORG</td><td>Table_8c92dbd39040490a8eae0c6877992248_37</td><td>2021-08-22 19:02:18.727</td></tr>",
                            "<tr><td>FactFinance100m</td><td>5</td><td>1</td><td>3</td><td>COMPRESSED</td><td>99828</td><td>REORG</td><td>Table_8c92dbd39040490a8eae0c6877992248_38</td><td>2021-08-22 19:02:18.910</td></tr>",
                            "<tr><td>FactFinance100m</td><td>3</td><td>1</td><td>3</td><td>COMPRESSED</td><td>999960</td><td>REORG</td><td>Table_8c92dbd39040490a8eae0c6877992248_39</td><td>2021-08-22 18:50:17.017</td></tr>",
                            "<tr><td>FactFinance100m</td><td>3</td><td>1</td><td>3</td><td>COMPRESSED</td><td>999960</td><td>REORG</td><td>Table_8c92dbd39040490a8eae0c6877992248_40</td><td>2021-08-22 18:50:10.850</td></tr>",
                            "<tr><td>FactFinance100m</td><td>5</td><td>1</td><td>3</td><td>COMPRESSED</td><td>99828</td><td>REORG</td><td>Table_8c92dbd39040490a8eae0c6877992248_41</td><td>2021-08-22 19:02:17.023</td></tr>",
                            "<tr><td>FactFinance100m</td><td>5</td><td>1</td><td>3</td><td>COMPRESSED</td><td>99828</td><td>REORG</td><td>Table_8c92dbd39040490a8eae0c6877992248_42</td><td>2021-08-22 19:02:19.157</td></tr>",
                            "<tr><td>FactFinance100m</td><td>5</td><td>1</td><td>3</td><td>COMPRESSED</td><td>99828</td><td>REORG</td><td>Table_8c92dbd39040490a8eae0c6877992248_43</td><td>2021-08-22 19:02:19.517</td></tr>",
                            "<tr><td>FactFinance100m</td><td>5</td><td>1</td><td>3</td><td>COMPRESSED</td><td>99828</td><td>REORG</td><td>Table_8c92dbd39040490a8eae0c6877992248_44</td><td>2021-08-22 19:02:19.550</td></tr>",
                            "<tr><td>FactFinance100m</td><td>5</td><td>1</td><td>3</td><td>COMPRESSED</td><td>99828</td><td>REORG</td><td>Table_8c92dbd39040490a8eae0c6877992248_45</td><td>2021-08-22 19:02:19.223</td></tr>",
                            "<tr><td>FactFinance100m</td><td>5</td><td>1</td><td>3</td><td>COMPRESSED</td><td>99828</td><td>REORG</td><td>Table_8c92dbd39040490a8eae0c6877992248_46</td><td>2021-08-22 19:02:18.797</td></tr>",
                            "<tr><td>FactFinance100m</td><td>5</td><td>1</td><td>3</td><td>COMPRESSED</td><td>99828</td><td>REORG</td><td>Table_8c92dbd39040490a8eae0c6877992248_47</td><td>2021-08-22 19:02:19.557</td></tr>",
                            "<tr><td>FactFinance100m</td><td>5</td><td>1</td><td>3</td><td>COMPRESSED</td><td>99828</td><td>REORG</td><td>Table_8c92dbd39040490a8eae0c6877992248_48</td><td>2021-08-22 19:02:18.777</td></tr>",
                            "<tr><td>FactFinance100m</td><td>5</td><td>1</td><td>3</td><td>COMPRESSED</td><td>99828</td><td>REORG</td><td>Table_8c92dbd39040490a8eae0c6877992248_49</td><td>2021-08-22 19:02:18.840</td></tr>",
                            "<tr><td>FactFinance100m</td><td>3</td><td>1</td><td>3</td><td>COMPRESSED</td><td>999960</td><td>REORG</td><td>Table_8c92dbd39040490a8eae0c6877992248_50</td><td>2021-08-22 18:50:13.570</td></tr>",
                            "<tr><td>FactFinance100m</td><td>5</td><td>1</td><td>3</td><td>COMPRESSED</td><td>99828</td><td>REORG</td><td>Table_8c92dbd39040490a8eae0c6877992248_51</td><td>2021-08-22 19:02:19.517</td></tr>",
                            "<tr><td>FactFinance100m</td><td>5</td><td>1</td><td>3</td><td>COMPRESSED</td><td>99828</td><td>REORG</td><td>Table_8c92dbd39040490a8eae0c6877992248_52</td><td>2021-08-22 19:02:16.750</td></tr>",
                            "<tr><td>FactFinance100m</td><td>5</td><td>1</td><td>3</td><td>COMPRESSED</td><td>99828</td><td>REORG</td><td>Table_8c92dbd39040490a8eae0c6877992248_53</td><td>2021-08-22 19:02:18.753</td></tr>",
                            "<tr><td>FactFinance100m</td><td>5</td><td>1</td><td>3</td><td>COMPRESSED</td><td>99828</td><td>REORG</td><td>Table_8c92dbd39040490a8eae0c6877992248_54</td><td>2021-08-22 19:02:19.083</td></tr>",
                            "<tr><td>FactFinance100m</td><td>5</td><td>1</td><td>3</td><td>COMPRESSED</td><td>99828</td><td>REORG</td><td>Table_8c92dbd39040490a8eae0c6877992248_55</td><td>2021-08-22 19:02:18.770</td></tr>",
                            "<tr><td>FactFinance100m</td><td>5</td><td>1</td><td>3</td><td>COMPRESSED</td><td>99828</td><td>REORG</td><td>Table_8c92dbd39040490a8eae0c6877992248_56</td><td>2021-08-22 19:02:19.527</td></tr>",
                            "<tr><td>FactFinance100m</td><td>5</td><td>1</td><td>3</td><td>COMPRESSED</td><td>99828</td><td>REORG</td><td>Table_8c92dbd39040490a8eae0c6877992248_57</td><td>2021-08-22 19:02:16.933</td></tr>",
                            "<tr><td>FactFinance100m</td><td>3</td><td>1</td><td>3</td><td>COMPRESSED</td><td>999960</td><td>REORG</td><td>Table_8c92dbd39040490a8eae0c6877992248_58</td><td>2021-08-22 18:50:13.610</td></tr>",
                            "<tr><td>FactFinance100m</td><td>5</td><td>1</td><td>3</td><td>COMPRESSED</td><td>100392</td><td>REORG</td><td>Table_8c92dbd39040490a8eae0c6877992248_59</td><td>2021-08-22 19:02:19.167</td></tr>",
                            "<tr><td>FactFinance100m</td><td>5</td><td>1</td><td>3</td><td>COMPRESSED</td><td>100392</td><td>REORG</td><td>Table_8c92dbd39040490a8eae0c6877992248_60</td><td>2021-08-22 19:02:18.950</td></tr>",
                            "<tr><td>FactFinance100m</td><td>3</td><td>1</td><td>3</td><td>COMPRESSED</td><td>999960</td><td>REORG</td><td>Table_8c92dbd39040490a8eae0c6877992248_1</td><td>2021-08-22 18:50:12.597</td></tr>",
                            "<tr><td>FactFinance100m</td><td>3</td><td>1</td><td>3</td><td>COMPRESSED</td><td>999960</td><td>REORG</td><td>Table_8c92dbd39040490a8eae0c6877992248_2</td><td>2021-08-22 18:50:10.677</td></tr>",
                            "<tr><td>FactFinance100m</td><td>3</td><td>1</td><td>3</td><td>COMPRESSED</td><td>1000520</td><td>REORG</td><td>Table_8c92dbd39040490a8eae0c6877992248_3</td><td>2021-08-22 18:50:15.077</td></tr>",
                            "<tr><td>FactFinance100m</td><td>3</td><td>1</td><td>3</td><td>COMPRESSED</td><td>1000520</td><td>REORG</td><td>Table_8c92dbd39040490a8eae0c6877992248_4</td><td>2021-08-22 18:50:13.157</td></tr>",
                            "<tr><td>FactFinance100m</td><td>3</td><td>1</td><td>3</td><td>COMPRESSED</td><td>999960</td><td>REORG</td><td>Table_8c92dbd39040490a8eae0c6877992248_5</td><td>2021-08-22 18:50:09.270</td></tr>",
                            "<tr><td>FactFinance100m</td><td>3</td><td>1</td><td>3</td><td>COMPRESSED</td><td>999960</td><td>REORG</td><td>Table_8c92dbd39040490a8eae0c6877992248_6</td><td>2021-08-22 18:50:08.450</td></tr>",
                            "<tr><td>FactFinance100m</td><td>3</td><td>1</td><td>3</td><td>COMPRESSED</td><td>999960</td><td>REORG</td><td>Table_8c92dbd39040490a8eae0c6877992248_7</td><td>2021-08-22 18:50:12.277</td></tr>",
                            "<tr><td>FactFinance100m</td><td>3</td><td>1</td><td>3</td><td>COMPRESSED</td><td>999960</td><td>REORG</td><td>Table_8c92dbd39040490a8eae0c6877992248_8</td><td>2021-08-22 18:50:13.150</td></tr>",
                            "<tr><td>FactFinance100m</td><td>3</td><td>1</td><td>3</td><td>COMPRESSED</td><td>999960</td><td>REORG</td><td>Table_8c92dbd39040490a8eae0c6877992248_9</td><td>2021-08-22 18:50:12.790</td></tr>",
                            "<tr><td>FactFinance100m</td><td>3</td><td>1</td><td>3</td><td>COMPRESSED</td><td>999960</td><td>REORG</td><td>Table_8c92dbd39040490a8eae0c6877992248_23</td><td>2021-08-22 18:50:14.880</td></tr>",
                            "<tr><td>FactFinance100m</td><td>6</td><td>1</td><td>1</td><td>OPEN</td><td>360</td><td>NULL</td><td>Table_8c92dbd39040490a8eae0c6877992248_24</td><td>2021-08-22 19:15:13.867</td></tr>",
                            "<tr><td>FactFinance100m</td><td>3</td><td>1</td><td>3</td><td>COMPRESSED</td><td>999960</td><td>REORG</td><td>Table_8c92dbd39040490a8eae0c6877992248_25</td><td>2021-08-22 18:50:10.460</td></tr>",
                            "<tr><td>FactFinance100m</td><td>3</td><td>1</td><td>3</td><td>COMPRESSED</td><td>999960</td><td>REORG</td><td>Table_8c92dbd39040490a8eae0c6877992248_26</td><td>2021-08-22 18:50:10.380</td></tr>",
                            "<tr><td>FactFinance100m</td><td>6</td><td>1</td><td>1</td><td>OPEN</td><td>204</td><td>NULL</td><td>Table_8c92dbd39040490a8eae0c6877992248_27</td><td>2021-08-22 19:15:13.970</td></tr>",
                            "<tr><td>FactFinance100m</td><td>3</td><td>1</td><td>3</td><td>COMPRESSED</td><td>999960</td><td>REORG</td><td>Table_8c92dbd39040490a8eae0c6877992248_28</td><td>2021-08-22 18:50:15.160</td></tr>",
                            "<tr><td>FactFinance100m</td><td>3</td><td>1</td><td>3</td><td>COMPRESSED</td><td>999960</td><td>REORG</td><td>Table_8c92dbd39040490a8eae0c6877992248_29</td><td>2021-08-22 18:50:16.570</td></tr>",
                            "<tr><td>FactFinance100m</td><td>6</td><td>1</td><td>1</td><td>OPEN</td><td>880</td><td>NULL</td><td>Table_8c92dbd39040490a8eae0c6877992248_30</td><td>2021-08-22 19:15:13.987</td></tr>",
                            "<tr><td>FactFinance100m</td><td>3</td><td>1</td><td>3</td><td>COMPRESSED</td><td>999960</td><td>REORG</td><td>Table_8c92dbd39040490a8eae0c6877992248_31</td><td>2021-08-22 18:50:12.483</td></tr>",
                            "<tr><td>FactFinance100m</td><td>3</td><td>1</td><td>3</td><td>COMPRESSED</td><td>999960</td><td>REORG</td><td>Table_8c92dbd39040490a8eae0c6877992248_34</td><td>2021-08-22 18:50:12.337</td></tr>",
                            "<tr><td>FactFinance100m</td><td>3</td><td>1</td><td>3</td><td>COMPRESSED</td><td>999960</td><td>REORG</td><td>Table_8c92dbd39040490a8eae0c6877992248_35</td><td>2021-08-22 18:50:13.823</td></tr>",
                            "<tr><td>FactFinance100m</td><td>3</td><td>1</td><td>3</td><td>COMPRESSED</td><td>999960</td><td>REORG</td><td>Table_8c92dbd39040490a8eae0c6877992248_36</td><td>2021-08-22 18:50:12.600</td></tr>",
                            "<tr><td>FactFinance100m</td><td>3</td><td>1</td><td>3</td><td>COMPRESSED</td><td>999960</td><td>REORG</td><td>Table_8c92dbd39040490a8eae0c6877992248_37</td><td>2021-08-22 18:50:12.817</td></tr>",
                            "<tr><td>FactFinance100m</td><td>3</td><td>1</td><td>3</td><td>COMPRESSED</td><td>999960</td><td>REORG</td><td>Table_8c92dbd39040490a8eae0c6877992248_38</td><td>2021-08-22 18:50:16.987</td></tr>",
                            "<tr><td>FactFinance100m</td><td>3</td><td>1</td><td>3</td><td>COMPRESSED</td><td>999960</td><td>REORG</td><td>Table_8c92dbd39040490a8eae0c6877992248_41</td><td>2021-08-22 18:50:10.143</td></tr>",
                            "<tr><td>FactFinance100m</td><td>3</td><td>1</td><td>3</td><td>COMPRESSED</td><td>999960</td><td>REORG</td><td>Table_8c92dbd39040490a8eae0c6877992248_42</td><td>2021-08-22 18:50:13.740</td></tr>",
                            "<tr><td>FactFinance100m</td><td>3</td><td>1</td><td>3</td><td>COMPRESSED</td><td>999960</td><td>REORG</td><td>Table_8c92dbd39040490a8eae0c6877992248_43</td><td>2021-08-22 18:50:13.660</td></tr>",
                            "<tr><td>FactFinance100m</td><td>3</td><td>1</td><td>3</td><td>COMPRESSED</td><td>999960</td><td>REORG</td><td>Table_8c92dbd39040490a8eae0c6877992248_44</td><td>2021-08-22 18:50:13.723</td></tr>",
                            "<tr><td>FactFinance100m</td><td>3</td><td>1</td><td>3</td><td>COMPRESSED</td><td>999960</td><td>REORG</td><td>Table_8c92dbd39040490a8eae0c6877992248_45</td><td>2021-08-22 18:50:15.097</td></tr>",
                            "<tr><td>FactFinance100m</td><td>3</td><td>1</td><td>3</td><td>COMPRESSED</td><td>999960</td><td>REORG</td><td>Table_8c92dbd39040490a8eae0c6877992248_46</td><td>2021-08-22 18:50:09.893</td></tr>",
                            "<tr><td>FactFinance100m</td><td>3</td><td>1</td><td>3</td><td>COMPRESSED</td><td>1000456</td><td>REORG</td><td>Table_8c92dbd39040490a8eae0c6877992248_47</td><td>2021-08-22 18:50:08.703</td></tr>",
                            "<tr><td>FactFinance100m</td><td>3</td><td>1</td><td>3</td><td>COMPRESSED</td><td>1000456</td><td>REORG</td><td>Table_8c92dbd39040490a8eae0c6877992248_48</td><td>2021-08-22 18:50:11.240</td></tr>",
                            "<tr><td>FactFinance100m</td><td>3</td><td>1</td><td>3</td><td>COMPRESSED</td><td>1000248</td><td>REORG</td><td>Table_8c92dbd39040490a8eae0c6877992248_49</td><td>2021-08-22 18:50:09.893</td></tr>",
                            "<tr><td>FactFinance100m</td><td>3</td><td>1</td><td>3</td><td>COMPRESSED</td><td>999960</td><td>REORG</td><td>Table_8c92dbd39040490a8eae0c6877992248_51</td><td>2021-08-22 18:50:16.540</td></tr>",
                            "<tr><td>FactFinance100m</td><td>3</td><td>1</td><td>3</td><td>COMPRESSED</td><td>999960</td><td>REORG</td><td>Table_8c92dbd39040490a8eae0c6877992248_52</td><td>2021-08-22 18:50:08.593</td></tr>",
                            "<tr><td>FactFinance100m</td><td>3</td><td>1</td><td>3</td><td>COMPRESSED</td><td>999960</td><td>REORG</td><td>Table_8c92dbd39040490a8eae0c6877992248_53</td><td>2021-08-22 18:50:13.137</td></tr>",
                            "<tr><td>FactFinance100m</td><td>3</td><td>1</td><td>3</td><td>COMPRESSED</td><td>999960</td><td>REORG</td><td>Table_8c92dbd39040490a8eae0c6877992248_54</td><td>2021-08-22 18:50:10.640</td></tr>",
                            "<tr><td>FactFinance100m</td><td>3</td><td>1</td><td>3</td><td>COMPRESSED</td><td>999960</td><td>REORG</td><td>Table_8c92dbd39040490a8eae0c6877992248_55</td><td>2021-08-22 18:50:06.080</td></tr>",
                            "<tr><td>FactFinance100m</td><td>3</td><td>1</td><td>3</td><td>COMPRESSED</td><td>999960</td><td>REORG</td><td>Table_8c92dbd39040490a8eae0c6877992248_56</td><td>2021-08-22 18:50:16.710</td></tr>",
                            "<tr><td>FactFinance100m</td><td>3</td><td>1</td><td>3</td><td>COMPRESSED</td><td>999960</td><td>REORG</td><td>Table_8c92dbd39040490a8eae0c6877992248_57</td><td>2021-08-22 18:50:09.717</td></tr>",
                            "<tr><td>FactFinance100m</td><td>6</td><td>1</td><td>1</td><td>OPEN</td><td>1214</td><td>NULL</td><td>Table_8c92dbd39040490a8eae0c6877992248_58</td><td>2021-08-22 19:15:14.017</td></tr>",
                            "<tr><td>FactFinance100m</td><td>3</td><td>1</td><td>3</td><td>COMPRESSED</td><td>999960</td><td>REORG</td><td>Table_8c92dbd39040490a8eae0c6877992248_59</td><td>2021-08-22 18:50:12.453</td></tr>",
                            "<tr><td>FactFinance100m</td><td>3</td><td>1</td><td>3</td><td>COMPRESSED</td><td>999960</td><td>REORG</td><td>Table_8c92dbd39040490a8eae0c6877992248_60</td><td>2021-08-22 18:50:12.423</td></tr>",
                            "</table>"
                        ]
                    }
                }
            ],
            "execution_count": 2
        },
        {
            "cell_type": "markdown",
            "source": [
                "A simple REORGANIZE wil not close the open row groups.\n",
                "\n",
                "While a <span style=\"color: rgb(0, 128, 0); font-family: Consolas, &quot;Courier New&quot;, monospace; font-size: 12px; white-space: pre;\">REORGANIZE&nbsp;WITH&nbsp;(COMPRESS_ALL_ROW_GROUPS&nbsp;=&nbsp;ON)</span> will close the open RowGroup for inserts it will also not take care of deleted row. See below - after REGORG we still have the deleted rows  \n",
                ""
            ],
            "metadata": {
                "azdata_cell_guid": "2f22701e-ae9a-4027-babd-f5ece18c6208"
            },
            "attachments": {}
        },
        {
            "cell_type": "code",
            "source": [
                "ALTER INDEX ClusteredIndex_1fba0db5c48b40288124497ec2198389 ON [dbo].[FactFinance100m] REORGANIZE WITH (COMPRESS_ALL_ROW_GROUPS = ON)\r\n",
                "\r\n",
                "SELECT * FROM dbo.vColumnstoreStats WHERE table_name='FactFinance100m'"
            ],
            "metadata": {
                "azdata_cell_guid": "94a67e55-db37-4367-b56d-b5051e8470fd"
            },
            "outputs": [
                {
                    "output_type": "display_data",
                    "data": {
                        "text/html": "(1 row affected)"
                    },
                    "metadata": {}
                },
                {
                    "output_type": "display_data",
                    "data": {
                        "text/html": "Total execution time: 00:00:03.772"
                    },
                    "metadata": {}
                },
                {
                    "output_type": "execute_result",
                    "metadata": {},
                    "execution_count": 4,
                    "data": {
                        "application/vnd.dataresource+json": {
                            "schema": {
                                "fields": [
                                    {
                                        "name": "execution_date"
                                    },
                                    {
                                        "name": "database_name"
                                    },
                                    {
                                        "name": "schema_name"
                                    },
                                    {
                                        "name": "table_name"
                                    },
                                    {
                                        "name": "partition_number"
                                    },
                                    {
                                        "name": "partition_scheme"
                                    },
                                    {
                                        "name": "object_id"
                                    },
                                    {
                                        "name": "index_name"
                                    },
                                    {
                                        "name": "row_count"
                                    },
                                    {
                                        "name": "deleted_row_count"
                                    },
                                    {
                                        "name": "row_group_count"
                                    },
                                    {
                                        "name": "compressed_row_count"
                                    },
                                    {
                                        "name": "compressed_rowgroup_count"
                                    },
                                    {
                                        "name": "open_rowgroup_count"
                                    },
                                    {
                                        "name": "open_row_count"
                                    },
                                    {
                                        "name": "compressed_row_max"
                                    },
                                    {
                                        "name": "compressed_row_avg"
                                    },
                                    {
                                        "name": "fragmentation_density"
                                    },
                                    {
                                        "name": "fragmentation_deletes"
                                    },
                                    {
                                        "name": "fragmentation_open"
                                    }
                                ]
                            },
                            "data": [
                                {
                                    "0": "2021-08-23 12:16:37.767",
                                    "1": "AdventureWorksDW",
                                    "2": "dbo",
                                    "3": "FactFinance100m",
                                    "4": "NULL",
                                    "5": "NULL",
                                    "6": "1940917986",
                                    "7": "ClusteredIndex_1fba0db5c48b40288124497ec2198389",
                                    "8": "66025380",
                                    "9": "25380",
                                    "10": "162",
                                    "11": "66025380",
                                    "12": "162",
                                    "13": "0",
                                    "14": "0",
                                    "15": "1000520",
                                    "16": "407564",
                                    "17": "59.2600",
                                    "18": "0.0400",
                                    "19": "0.0000"
                                }
                            ]
                        },
                        "text/html": [
                            "<table>",
                            "<tr><th>execution_date</th><th>database_name</th><th>schema_name</th><th>table_name</th><th>partition_number</th><th>partition_scheme</th><th>object_id</th><th>index_name</th><th>row_count</th><th>deleted_row_count</th><th>row_group_count</th><th>compressed_row_count</th><th>compressed_rowgroup_count</th><th>open_rowgroup_count</th><th>open_row_count</th><th>compressed_row_max</th><th>compressed_row_avg</th><th>fragmentation_density</th><th>fragmentation_deletes</th><th>fragmentation_open</th></tr>",
                            "<tr><td>2021-08-23 12:16:37.767</td><td>AdventureWorksDW</td><td>dbo</td><td>FactFinance100m</td><td>NULL</td><td>NULL</td><td>1940917986</td><td>ClusteredIndex_1fba0db5c48b40288124497ec2198389</td><td>66025380</td><td>25380</td><td>162</td><td>66025380</td><td>162</td><td>0</td><td>0</td><td>1000520</td><td>407564</td><td>59.2600</td><td>0.0400</td><td>0.0000</td></tr>",
                            "</table>"
                        ]
                    }
                }
            ],
            "execution_count": 4
        },
        {
            "cell_type": "markdown",
            "source": [
                "Using the ColumnStoreOrganise we can pass a DeleteThrehsold and force a REBUILD, which is an offline operation\n",
                "\n",
                "(queries blocked ontil finished)"
            ],
            "metadata": {
                "azdata_cell_guid": "d246c5a9-fdd0-47c1-adc7-bde91bf39b29"
            },
            "attachments": {}
        },
        {
            "cell_type": "code",
            "source": [
                "exec   [dbo].[ColumnstoreOptimize]  @Tables='FactFinance100m'\r\n",
                ",@DensityThreshold=null\r\n",
                ",@OpenThreshold=null\r\n",
                ",@DeleteThreshold=10000\r\n",
                ",@TimeLimit =null\r\n",
                ",@Execute=null\r\n",
                "\r\n",
                "SELECT * FROM dbo.vColumnstoreStats WHERE table_name='FactFinance100m'"
            ],
            "metadata": {
                "azdata_cell_guid": "af850ae7-d039-4615-8dae-f75011ca4e3f"
            },
            "outputs": [
                {
                    "output_type": "display_data",
                    "data": {
                        "text/html": "Date and time: 2021-08-23 12:18:39"
                    },
                    "metadata": {}
                },
                {
                    "output_type": "display_data",
                    "data": {
                        "text/html": "Server: aw-dev"
                    },
                    "metadata": {}
                },
                {
                    "output_type": "display_data",
                    "data": {
                        "text/html": "Version: 10.0.13657.0"
                    },
                    "metadata": {}
                },
                {
                    "output_type": "display_data",
                    "data": {
                        "text/html": "Edition: SQL Azure"
                    },
                    "metadata": {}
                },
                {
                    "output_type": "display_data",
                    "data": {
                        "text/html": "Parameters: @Tables= 'FactFinance100m', @DensityThreshold = 25.00, @OpenThreshold = 200000, @DeleteThreshold = 10000, @Execute = Y"
                    },
                    "metadata": {}
                },
                {
                    "output_type": "display_data",
                    "data": {
                        "text/html": "Version: Microsoft Azure SQL Data Warehouse - 10.0.13657.0 Aug 7 2021 01:10:26 Copyright (c) Microsoft Corporation"
                    },
                    "metadata": {}
                },
                {
                    "output_type": "display_data",
                    "data": {
                        "text/html": "Source: https://github.com/ProdataSQL/SynapseTools/tree/main/SqlPools/Maintenance"
                    },
                    "metadata": {}
                },
                {
                    "output_type": "display_data",
                    "data": {
                        "text/html": "Date and time: 2021-08-23 12:18:44"
                    },
                    "metadata": {}
                },
                {
                    "output_type": "display_data",
                    "data": {
                        "text/html": "[dbo].[FactFinance100m]"
                    },
                    "metadata": {}
                },
                {
                    "output_type": "display_data",
                    "data": {
                        "text/html": "SqlCommand: ALTER INDEX ClusteredIndex_1fba0db5c48b40288124497ec2198389 ON [dbo].[FactFinance100m] REBUILD "
                    },
                    "metadata": {}
                },
                {
                    "output_type": "display_data",
                    "data": {
                        "text/html": "<ExtendedInfo><RowGroups>162</RowGroups><Rows>66025380</Rows><OpenRows>0</OpenRows><DeletedRows>25380</DeletedRows><DensityFragmentation>59.26%</DensityFragmentation></ExtendedInfo>"
                    },
                    "metadata": {}
                },
                {
                    "output_type": "display_data",
                    "data": {
                        "text/html": "(1 row affected)"
                    },
                    "metadata": {}
                },
                {
                    "output_type": "display_data",
                    "data": {
                        "text/html": "Total execution time: 00:00:54.611"
                    },
                    "metadata": {}
                },
                {
                    "output_type": "execute_result",
                    "metadata": {},
                    "execution_count": 5,
                    "data": {
                        "application/vnd.dataresource+json": {
                            "schema": {
                                "fields": [
                                    {
                                        "name": "execution_date"
                                    },
                                    {
                                        "name": "database_name"
                                    },
                                    {
                                        "name": "schema_name"
                                    },
                                    {
                                        "name": "table_name"
                                    },
                                    {
                                        "name": "partition_number"
                                    },
                                    {
                                        "name": "partition_scheme"
                                    },
                                    {
                                        "name": "object_id"
                                    },
                                    {
                                        "name": "index_name"
                                    },
                                    {
                                        "name": "row_count"
                                    },
                                    {
                                        "name": "deleted_row_count"
                                    },
                                    {
                                        "name": "row_group_count"
                                    },
                                    {
                                        "name": "compressed_row_count"
                                    },
                                    {
                                        "name": "compressed_rowgroup_count"
                                    },
                                    {
                                        "name": "open_rowgroup_count"
                                    },
                                    {
                                        "name": "open_row_count"
                                    },
                                    {
                                        "name": "compressed_row_max"
                                    },
                                    {
                                        "name": "compressed_row_avg"
                                    },
                                    {
                                        "name": "fragmentation_density"
                                    },
                                    {
                                        "name": "fragmentation_deletes"
                                    },
                                    {
                                        "name": "fragmentation_open"
                                    }
                                ]
                            },
                            "data": [
                                {
                                    "0": "2021-08-23 12:19:31.703",
                                    "1": "AdventureWorksDW",
                                    "2": "dbo",
                                    "3": "FactFinance100m",
                                    "4": "NULL",
                                    "5": "NULL",
                                    "6": "1940917986",
                                    "7": "ClusteredIndex_1fba0db5c48b40288124497ec2198389",
                                    "8": "66000000",
                                    "9": "0",
                                    "10": "120",
                                    "11": "66000000",
                                    "12": "120",
                                    "13": "0",
                                    "14": "0",
                                    "15": "1048576",
                                    "16": "550000",
                                    "17": "47.5500",
                                    "18": "0.0000",
                                    "19": "0.0000"
                                }
                            ]
                        },
                        "text/html": [
                            "<table>",
                            "<tr><th>execution_date</th><th>database_name</th><th>schema_name</th><th>table_name</th><th>partition_number</th><th>partition_scheme</th><th>object_id</th><th>index_name</th><th>row_count</th><th>deleted_row_count</th><th>row_group_count</th><th>compressed_row_count</th><th>compressed_rowgroup_count</th><th>open_rowgroup_count</th><th>open_row_count</th><th>compressed_row_max</th><th>compressed_row_avg</th><th>fragmentation_density</th><th>fragmentation_deletes</th><th>fragmentation_open</th></tr>",
                            "<tr><td>2021-08-23 12:19:31.703</td><td>AdventureWorksDW</td><td>dbo</td><td>FactFinance100m</td><td>NULL</td><td>NULL</td><td>1940917986</td><td>ClusteredIndex_1fba0db5c48b40288124497ec2198389</td><td>66000000</td><td>0</td><td>120</td><td>66000000</td><td>120</td><td>0</td><td>0</td><td>1048576</td><td>550000</td><td>47.5500</td><td>0.0000</td><td>0.0000</td></tr>",
                            "</table>"
                        ]
                    }
                }
            ],
            "execution_count": 5
        }
    ]
}