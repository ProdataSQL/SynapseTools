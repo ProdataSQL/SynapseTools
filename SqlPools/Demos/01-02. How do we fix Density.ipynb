{
    "metadata": {
        "kernelspec": {
            "name": "SQL",
            "display_name": "SQL",
            "language": "sql"
        },
        "language_info": {
            "name": "sql",
            "version": ""
        },
        "extensions": {
            "azuredatastudio": {
                "version": 1,
                "views": []
            }
        }
    },
    "nbformat_minor": 2,
    "nbformat": 4,
    "cells": [
        {
            "cell_type": "markdown",
            "source": [
                "## How do we Fix Density Fragmentation\n",
                "\n",
                "We could fix this with INDEX REORG \n",
                "\n",
                "REORG ALTER INDEX \\[ClusteredIndex\\_1fba0db5c48b40288124497ec2198389\\] ON \\[dbo\\].\\[FactFinance100m\\] REORGANIZE\n",
                "\n",
                "But, lets introduce the GitHub Library function ColumnStoreOptimize which can locate all Column Stores with low density and REORG them [https://github.com/ProdataSQL/SynapseTools/tree/main/SqlPools/Maintenance](https://github.com/ProdataSQL/SynapseTools/tree/main/SqlPools/Maintenance)"
            ],
            "metadata": {
                "azdata_cell_guid": "b2704311-c14c-4863-a619-f4dad5b90778"
            },
            "attachments": {}
        },
        {
            "cell_type": "code",
            "source": [
                "/*  ALTER INDEX ClusteredIndex_1fba0db5c48b40288124497ec2198389 ON [dbo].[FactFinance100m] REORGANIZE */\r\n",
                "exec   [dbo].[ColumnstoreOptimize]  @Tables='FactFinance100m'\r\n",
                ",@DensityThreshold=25 /* Default=25 */\r\n",
                ",@OpenThreshold=null\r\n",
                ",@DeleteThreshold=null\r\n",
                ",@TimeLimit =null\r\n",
                ", @Execute='Y'\r\n",
                ""
            ],
            "metadata": {
                "azdata_cell_guid": "8fab48bc-e202-46d5-9f7e-087a780f9fdd",
                "extensions": {
                    "azuredatastudio": {
                        "views": []
                    }
                },
                "tags": [],
                "language": "sql"
            },
            "outputs": [
                {
                    "output_type": "display_data",
                    "data": {
                        "text/html": "Date and time: 2022-07-08 12:59:40"
                    },
                    "metadata": {}
                },
                {
                    "output_type": "display_data",
                    "data": {
                        "text/html": "Server: aw-dev"
                    },
                    "metadata": {}
                },
                {
                    "output_type": "display_data",
                    "data": {
                        "text/html": "Version: 10.0.15665.0"
                    },
                    "metadata": {}
                },
                {
                    "output_type": "display_data",
                    "data": {
                        "text/html": "Edition: SQL Azure"
                    },
                    "metadata": {}
                },
                {
                    "output_type": "display_data",
                    "data": {
                        "text/html": "Parameters: @Tables= 'FactFinance100m', @DensityThreshold = 25.00, @OpenThreshold = 200000, @DeleteThreshold = 200000, @Execute = Y"
                    },
                    "metadata": {}
                },
                {
                    "output_type": "display_data",
                    "data": {
                        "text/html": "Version: Microsoft Azure SQL Data Warehouse - 10.0.15665.0 Jul 7 2022 07:03:56 Copyright (c) Microsoft Corporation"
                    },
                    "metadata": {}
                },
                {
                    "output_type": "display_data",
                    "data": {
                        "text/html": "Source: https://github.com/ProdataSQL/SynapseTools/tree/main/SqlPools/Maintenance"
                    },
                    "metadata": {}
                },
                {
                    "output_type": "display_data",
                    "data": {
                        "text/html": "Date and time: 2022-07-08 12:59:42"
                    },
                    "metadata": {}
                },
                {
                    "output_type": "display_data",
                    "data": {
                        "text/html": "SqlCommand: ALTER INDEX ClusteredIndex_766ace22025346dba8b1db2efab6ee27 ON [dbo].[FactFinance100m] REORGANIZE"
                    },
                    "metadata": {}
                },
                {
                    "output_type": "display_data",
                    "data": {
                        "text/html": "Total execution time: 00:00:13.103"
                    },
                    "metadata": {}
                }
            ],
            "execution_count": 3
        },
        {
            "cell_type": "code",
            "source": [
                "/*  Now we can check commandlog and also imprves Stats\r\n",
                "    From 180 row groups to just 60 (one per distibution)\r\n",
                " */\r\n",
                "SELECT TOP 1 * FROM dbo.CommandLog ORDER BY StartTime DESC\r\n",
                "SELECT * From vColumnstoreStats where table_name ='factFinance100m'\r\n",
                ""
            ],
            "metadata": {
                "azdata_cell_guid": "dbcf391b-fcd1-4e63-8284-b8433fd7ed47",
                "extensions": {
                    "azuredatastudio": {
                        "views": []
                    }
                },
                "language": "sql"
            },
            "outputs": [
                {
                    "output_type": "display_data",
                    "data": {
                        "text/html": "(1 row affected)"
                    },
                    "metadata": {}
                },
                {
                    "output_type": "display_data",
                    "data": {
                        "text/html": "(1 row affected)"
                    },
                    "metadata": {}
                },
                {
                    "output_type": "display_data",
                    "data": {
                        "text/html": "Total execution time: 00:00:01.439"
                    },
                    "metadata": {}
                },
                {
                    "output_type": "execute_result",
                    "execution_count": 4,
                    "data": {
                        "application/vnd.dataresource+json": {
                            "schema": {
                                "fields": [
                                    {
                                        "name": "ID"
                                    },
                                    {
                                        "name": "DatabaseName"
                                    },
                                    {
                                        "name": "SchemaName"
                                    },
                                    {
                                        "name": "ObjectName"
                                    },
                                    {
                                        "name": "ObjectType"
                                    },
                                    {
                                        "name": "IndexName"
                                    },
                                    {
                                        "name": "IndexType"
                                    },
                                    {
                                        "name": "StatisticsName"
                                    },
                                    {
                                        "name": "PartitionNumber"
                                    },
                                    {
                                        "name": "ExtendedInfo"
                                    },
                                    {
                                        "name": "Command"
                                    },
                                    {
                                        "name": "CommandType"
                                    },
                                    {
                                        "name": "StartTime"
                                    },
                                    {
                                        "name": "EndTime"
                                    },
                                    {
                                        "name": "ErrorNumber"
                                    },
                                    {
                                        "name": "ErrorMessage"
                                    }
                                ]
                            },
                            "data": [
                                {
                                    "0": "86",
                                    "1": "AdventureWorksDW",
                                    "2": "dbo",
                                    "3": "FactFinance100m",
                                    "4": "U ",
                                    "5": "ClusteredIndex_e2f1410ade274620bfb52e91dcee6ddb",
                                    "6": "5",
                                    "7": "NULL",
                                    "8": "NULL",
                                    "9": "<ExtendedInfo><RowGroups>420</RowGroups><Rows>230000000</Rows><OpenRows>4170880</OpenRows><DeletedRows>0</DeletedRows><DensityFragmentation>48.72 %</DensityFragmentation></ExtendedInfo>",
                                    "10": "ALTER INDEX ClusteredIndex_e2f1410ade274620bfb52e91dcee6ddb ON [dbo].[FactFinance100m] REORGANIZE WITH (COMPRESS_ALL_ROW_GROUPS = ON)",
                                    "11": "ALTER INDEX",
                                    "12": "2022-07-08 14:33:59.787",
                                    "13": "2022-07-08 14:34:07.160",
                                    "14": "NULL",
                                    "15": "NULL"
                                }
                            ]
                        },
                        "text/html": "<table><tr><th>ID</th><th>DatabaseName</th><th>SchemaName</th><th>ObjectName</th><th>ObjectType</th><th>IndexName</th><th>IndexType</th><th>StatisticsName</th><th>PartitionNumber</th><th>ExtendedInfo</th><th>Command</th><th>CommandType</th><th>StartTime</th><th>EndTime</th><th>ErrorNumber</th><th>ErrorMessage</th></tr><tr><td>86</td><td>AdventureWorksDW</td><td>dbo</td><td>FactFinance100m</td><td>U </td><td>ClusteredIndex_e2f1410ade274620bfb52e91dcee6ddb</td><td>5</td><td>NULL</td><td>NULL</td><td>&lt;ExtendedInfo&gt;&lt;RowGroups&gt;420&lt;/RowGroups&gt;&lt;Rows&gt;230000000&lt;/Rows&gt;&lt;OpenRows&gt;4170880&lt;/OpenRows&gt;&lt;DeletedRows&gt;0&lt;/DeletedRows&gt;&lt;DensityFragmentation&gt;48.72 %&lt;/DensityFragmentation&gt;&lt;/ExtendedInfo&gt;</td><td>ALTER INDEX ClusteredIndex_e2f1410ade274620bfb52e91dcee6ddb ON [dbo].[FactFinance100m] REORGANIZE WITH (COMPRESS_ALL_ROW_GROUPS = ON)</td><td>ALTER INDEX</td><td>2022-07-08 14:33:59.787</td><td>2022-07-08 14:34:07.160</td><td>NULL</td><td>NULL</td></tr></table>"
                    },
                    "metadata": {}
                },
                {
                    "output_type": "execute_result",
                    "execution_count": 4,
                    "data": {
                        "application/vnd.dataresource+json": {
                            "schema": {
                                "fields": [
                                    {
                                        "name": "execution_date"
                                    },
                                    {
                                        "name": "database_name"
                                    },
                                    {
                                        "name": "schema_name"
                                    },
                                    {
                                        "name": "table_name"
                                    },
                                    {
                                        "name": "partition_number"
                                    },
                                    {
                                        "name": "partition_scheme"
                                    },
                                    {
                                        "name": "object_id"
                                    },
                                    {
                                        "name": "index_name"
                                    },
                                    {
                                        "name": "row_count"
                                    },
                                    {
                                        "name": "deleted_row_count"
                                    },
                                    {
                                        "name": "row_group_count"
                                    },
                                    {
                                        "name": "compressed_row_count"
                                    },
                                    {
                                        "name": "compressed_rowgroup_count"
                                    },
                                    {
                                        "name": "open_rowgroup_count"
                                    },
                                    {
                                        "name": "open_row_count"
                                    },
                                    {
                                        "name": "compressed_row_max"
                                    },
                                    {
                                        "name": "compressed_row_avg"
                                    },
                                    {
                                        "name": "fragmentation_density"
                                    },
                                    {
                                        "name": "fragmentation_deletes"
                                    },
                                    {
                                        "name": "fragmentation_open"
                                    }
                                ]
                            },
                            "data": [
                                {
                                    "0": "2022-07-08 14:35:45.453",
                                    "1": "AdventureWorksDW",
                                    "2": "dbo",
                                    "3": "FactFinance100m",
                                    "4": "NULL",
                                    "5": "NULL",
                                    "6": "290868153",
                                    "7": "ClusteredIndex_e2f1410ade274620bfb52e91dcee6ddb",
                                    "8": "230000000",
                                    "9": "0",
                                    "10": "300",
                                    "11": "230000000",
                                    "12": "300",
                                    "13": "0",
                                    "14": "0",
                                    "15": "1048576",
                                    "16": "766666",
                                    "17": "26.8900",
                                    "18": "0.0000",
                                    "19": "0.0000"
                                }
                            ]
                        },
                        "text/html": "<table><tr><th>execution_date</th><th>database_name</th><th>schema_name</th><th>table_name</th><th>partition_number</th><th>partition_scheme</th><th>object_id</th><th>index_name</th><th>row_count</th><th>deleted_row_count</th><th>row_group_count</th><th>compressed_row_count</th><th>compressed_rowgroup_count</th><th>open_rowgroup_count</th><th>open_row_count</th><th>compressed_row_max</th><th>compressed_row_avg</th><th>fragmentation_density</th><th>fragmentation_deletes</th><th>fragmentation_open</th></tr><tr><td>2022-07-08 14:35:45.453</td><td>AdventureWorksDW</td><td>dbo</td><td>FactFinance100m</td><td>NULL</td><td>NULL</td><td>290868153</td><td>ClusteredIndex_e2f1410ade274620bfb52e91dcee6ddb</td><td>230000000</td><td>0</td><td>300</td><td>230000000</td><td>300</td><td>0</td><td>0</td><td>1048576</td><td>766666</td><td>26.8900</td><td>0.0000</td><td>0.0000</td></tr></table>"
                    },
                    "metadata": {}
                }
            ],
            "execution_count": 4
        }
    ]
}