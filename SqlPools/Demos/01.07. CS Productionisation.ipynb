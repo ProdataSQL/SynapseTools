{
    "metadata": {
        "kernelspec": {
            "name": "SQL",
            "display_name": "SQL",
            "language": "sql"
        },
        "language_info": {
            "name": "sql",
            "version": ""
        }
    },
    "nbformat_minor": 2,
    "nbformat": 4,
    "cells": [
        {
            "cell_type": "markdown",
            "source": [
                "### Splitting up Your Work\n",
                "\n",
                "You can use the @Tables parameter and the @Timelimit to avoid having to al maintenance work in one window. Example below."
            ],
            "metadata": {
                "azdata_cell_guid": "b17c1e49-153d-441a-add4-42035fef0f89"
            },
            "attachments": {}
        },
        {
            "cell_type": "code",
            "source": [
                "/* Do Default Maintenance on All Fact Tables except those in staging schema \r\n",
                "    reorg if > 20% fragmented (may cause churn if this low. Recommend 25%)\r\n",
                "    Only do a rebuild if > 1 million deletes\r\n",
                "    Stop after 1 hour\r\n",
                "    Dont actually run just list commands\r\n",
                "*/\r\n",
                "\r\n",
                "exec   [dbo].[ColumnstoreOptimize]  \r\n",
                "@Tables='Fact%,-stg.%'\r\n",
                ",@DensityThreshold=20\r\n",
                ",@OpenThreshold=null\r\n",
                ",@DeleteThreshold=1000000\r\n",
                ",@TimeLimit =3600\r\n",
                ",@Execute='N'\r\n",
                "\r\n",
                "\r\n",
                ""
            ],
            "metadata": {
                "azdata_cell_guid": "23dc7197-ca5f-4e86-a719-6cadc321e0d9",
                "tags": [],
                "language": "sql"
            },
            "outputs": [
                {
                    "output_type": "display_data",
                    "data": {
                        "text/html": "Date and time: 2022-07-07 20:03:06"
                    },
                    "metadata": {}
                },
                {
                    "output_type": "display_data",
                    "data": {
                        "text/html": "Server: aw-dev"
                    },
                    "metadata": {}
                },
                {
                    "output_type": "display_data",
                    "data": {
                        "text/html": "Version: 10.0.15665.0"
                    },
                    "metadata": {}
                },
                {
                    "output_type": "display_data",
                    "data": {
                        "text/html": "Edition: SQL Azure"
                    },
                    "metadata": {}
                },
                {
                    "output_type": "display_data",
                    "data": {
                        "text/html": "Parameters: @Tables= 'Fact%,-stg.%', @DensityThreshold = 20.00, @OpenThreshold = 200000, @DeleteThreshold = 1000000, @Execute = N"
                    },
                    "metadata": {}
                },
                {
                    "output_type": "display_data",
                    "data": {
                        "text/html": "Version: Microsoft Azure SQL Data Warehouse - 10.0.15665.0 Jul 6 2022 10:30:07 Copyright (c) Microsoft Corporation"
                    },
                    "metadata": {}
                },
                {
                    "output_type": "display_data",
                    "data": {
                        "text/html": "Source: https://github.com/ProdataSQL/SynapseTools/tree/main/SqlPools/Maintenance"
                    },
                    "metadata": {}
                },
                {
                    "output_type": "display_data",
                    "data": {
                        "text/html": "Date and time: 2022-07-07 20:03:09"
                    },
                    "metadata": {}
                },
                {
                    "output_type": "display_data",
                    "data": {
                        "text/html": "SqlCommand: ALTER INDEX ClusteredIndex_baff5ac740d64e1694b250169905d4cf ON [dbo].[FactFinance100m] REORGANIZE"
                    },
                    "metadata": {}
                },
                {
                    "output_type": "display_data",
                    "data": {
                        "text/html": "Total execution time: 00:00:03.211"
                    },
                    "metadata": {}
                }
            ],
            "execution_count": 2
        }
    ]
}