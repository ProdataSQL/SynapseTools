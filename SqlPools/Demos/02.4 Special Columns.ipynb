{
    "metadata": {
        "kernelspec": {
            "name": "SQL",
            "display_name": "SQL",
            "language": "sql"
        },
        "language_info": {
            "name": "sql",
            "version": ""
        },
        "extensions": {
            "azuredatastudio": {
                "version": 1,
                "views": []
            }
        }
    },
    "nbformat_minor": 2,
    "nbformat": 4,
    "cells": [
        {
            "cell_type": "markdown",
            "source": [
                "# 2.3 Special Columns (Ascending Keys)\r\n",
                ""
            ],
            "metadata": {
                "azdata_cell_guid": "161db256-512c-43f4-bf7d-04da7efee8fa"
            }
        },
        {
            "cell_type": "markdown",
            "source": [
                "As per [https://docs.microsoft.com/en-us/azure/synapse-analytics/sql/develop-tables-statistics](https://docs.microsoft.com/en-us/azure/synapse-analytics/sql/develop-tables-statistics)\n",
                "\n",
                "_Consider updating \"ascending key\" columns such as transaction dates more frequently because these values won't be included in the statistics histogram._\n",
                "\n",
                "As a demo lets show a table with a date missing and perfect stats. Also introducing the StatsOptimize SProc to automate updating of Stats"
            ],
            "metadata": {
                "azdata_cell_guid": "5fd0c0c0-1b6b-4d69-9ed2-27154c17d909"
            },
            "attachments": {}
        },
        {
            "cell_type": "code",
            "source": [
                "delete from  [dbo].[FactFinance100m_nostats] WHERE DateKey> 20130000\r\n",
                "\r\n",
                "exec  dbo.[StatsOptimize]  @Tables='FactFinance100m_nostats'\r\n",
                ", @StatisticsModificationLevel=0\r\n",
                ", @StatisticsSample=100 \r\n",
                ", @OnlyModifiedStatistics=null\r\n",
                ", @DeleteOverlappingStats=null\r\n",
                ", @TimeLimit=null \r\n",
                ", @Execute='Y'\r\n",
                "\r\n",
                "\r\n",
                "SELECT * FROM vStats WHERE table_name ='FactFinance100m_nostats'\r\n",
                ""
            ],
            "metadata": {
                "azdata_cell_guid": "5b3df579-8822-45e0-9728-38e4228cc9c5",
                "language": "sql",
                "tags": []
            },
            "outputs": [
                {
                    "output_type": "display_data",
                    "data": {
                        "text/html": "(10000000 rows affected)"
                    },
                    "metadata": {}
                },
                {
                    "output_type": "display_data",
                    "data": {
                        "text/html": "Date and time: 2022-07-09 09:29:24"
                    },
                    "metadata": {}
                },
                {
                    "output_type": "display_data",
                    "data": {
                        "text/html": "Server: aw-dev"
                    },
                    "metadata": {}
                },
                {
                    "output_type": "display_data",
                    "data": {
                        "text/html": "Version: 10.0.15665.0"
                    },
                    "metadata": {}
                },
                {
                    "output_type": "display_data",
                    "data": {
                        "text/html": "Edition: SQL Azure"
                    },
                    "metadata": {}
                },
                {
                    "output_type": "display_data",
                    "data": {
                        "text/html": "Parameters: @Tables= 'FactFinance100m_nostats', @OnlyModifiedStatistics = 'Y', @StatisticsModificationLevel = 0, @StatisticsSample = 100, @DeleteOverlappingStats = N, @TimeLimit = NULL, @Execute = Y"
                    },
                    "metadata": {}
                },
                {
                    "output_type": "display_data",
                    "data": {
                        "text/html": "Version: Microsoft Azure SQL Data Warehouse - 10.0.15665.0 Jul 5 2022 18:38:14 Copyright (c) Microsoft Corporation"
                    },
                    "metadata": {}
                },
                {
                    "output_type": "display_data",
                    "data": {
                        "text/html": "Source: https://github.com/ProdataSQL/SynapseTools/tree/main/SqlPools/Maintenance"
                    },
                    "metadata": {}
                },
                {
                    "output_type": "display_data",
                    "data": {
                        "text/html": "\t"
                    },
                    "metadata": {}
                },
                {
                    "output_type": "display_data",
                    "data": {
                        "text/html": "Date and time: 2022-07-09 09:29:29"
                    },
                    "metadata": {}
                },
                {
                    "output_type": "display_data",
                    "data": {
                        "text/html": "SqlCommand: UPDATE STATISTICS [dbo].[FactFinance100m_nostats] WITH FULLSCAN"
                    },
                    "metadata": {}
                },
                {
                    "output_type": "display_data",
                    "data": {
                        "text/html": "Date and time: 2022-07-09 09:29:33"
                    },
                    "metadata": {}
                },
                {
                    "output_type": "display_data",
                    "data": {
                        "text/html": "\t"
                    },
                    "metadata": {}
                },
                {
                    "output_type": "display_data",
                    "data": {
                        "text/html": "(3 rows affected)"
                    },
                    "metadata": {}
                },
                {
                    "output_type": "display_data",
                    "data": {
                        "text/html": "Total execution time: 00:00:17.980"
                    },
                    "metadata": {}
                },
                {
                    "output_type": "execute_result",
                    "metadata": {},
                    "execution_count": 14,
                    "data": {
                        "application/vnd.dataresource+json": {
                            "schema": {
                                "fields": [
                                    {
                                        "name": "object_id"
                                    },
                                    {
                                        "name": "stat_name"
                                    },
                                    {
                                        "name": "table_name"
                                    },
                                    {
                                        "name": "schema_name"
                                    },
                                    {
                                        "name": "stats_id"
                                    },
                                    {
                                        "name": "auto_created"
                                    },
                                    {
                                        "name": "filter_definition"
                                    },
                                    {
                                        "name": "last_updated_date"
                                    },
                                    {
                                        "name": "stat_columns"
                                    },
                                    {
                                        "name": "stats_row_count"
                                    },
                                    {
                                        "name": "actual_row_count"
                                    },
                                    {
                                        "name": "stats_difference_percent"
                                    },
                                    {
                                        "name": "stats_sample_rate"
                                    },
                                    {
                                        "name": "sqlCommand"
                                    },
                                    {
                                        "name": "user_created"
                                    }
                                ]
                            },
                            "data": [
                                {
                                    "0": "354868381",
                                    "1": "ClusteredIndex_790bfcda58a449a7a8517a169f0e7e0a",
                                    "2": "FactFinance100m_nostats",
                                    "3": "dbo",
                                    "4": "1",
                                    "5": "0",
                                    "6": "NULL",
                                    "7": "NULL",
                                    "8": "DateKey,DepartmentGroupKey,ScenarioKey,OrganizationKey,AccountKey,Amount,Date,LineageKey",
                                    "9": "67403926",
                                    "10": "67403926",
                                    "11": "0.00",
                                    "12": "12",
                                    "13": "UPDATE STATISTICS [dbo].[FactFinance100m_nostats] (ClusteredIndex_790bfcda58a449a7a8517a169f0e7e0a) WITH SAMPLE 12 PERCENT",
                                    "14": "0"
                                },
                                {
                                    "0": "354868381",
                                    "1": "_WA_Sys_00000001_1526DC9D",
                                    "2": "FactFinance100m_nostats",
                                    "3": "dbo",
                                    "4": "2",
                                    "5": "1",
                                    "6": "NULL",
                                    "7": "2022-07-09 09:29:32.500",
                                    "8": "DateKey",
                                    "9": "67403926",
                                    "10": "67403926",
                                    "11": "0.00",
                                    "12": "12",
                                    "13": "UPDATE STATISTICS [dbo].[FactFinance100m_nostats] (_WA_Sys_00000001_1526DC9D) WITH SAMPLE 12 PERCENT",
                                    "14": "0"
                                },
                                {
                                    "0": "354868381",
                                    "1": "_WA_Sys_00000005_1526DC9D",
                                    "2": "FactFinance100m_nostats",
                                    "3": "dbo",
                                    "4": "3",
                                    "5": "1",
                                    "6": "NULL",
                                    "7": "2022-07-09 09:29:32.690",
                                    "8": "AccountKey",
                                    "9": "67403926",
                                    "10": "67403926",
                                    "11": "0.00",
                                    "12": "12",
                                    "13": "UPDATE STATISTICS [dbo].[FactFinance100m_nostats] (_WA_Sys_00000005_1526DC9D) WITH SAMPLE 12 PERCENT",
                                    "14": "0"
                                }
                            ]
                        },
                        "text/html": [
                            "<table>",
                            "<tr><th>object_id</th><th>stat_name</th><th>table_name</th><th>schema_name</th><th>stats_id</th><th>auto_created</th><th>filter_definition</th><th>last_updated_date</th><th>stat_columns</th><th>stats_row_count</th><th>actual_row_count</th><th>stats_difference_percent</th><th>stats_sample_rate</th><th>sqlCommand</th><th>user_created</th></tr>",
                            "<tr><td>354868381</td><td>ClusteredIndex_790bfcda58a449a7a8517a169f0e7e0a</td><td>FactFinance100m_nostats</td><td>dbo</td><td>1</td><td>0</td><td>NULL</td><td>NULL</td><td>DateKey,DepartmentGroupKey,ScenarioKey,OrganizationKey,AccountKey,Amount,Date,LineageKey</td><td>67403926</td><td>67403926</td><td>0.00</td><td>12</td><td>UPDATE STATISTICS [dbo].[FactFinance100m_nostats] (ClusteredIndex_790bfcda58a449a7a8517a169f0e7e0a) WITH SAMPLE 12 PERCENT</td><td>0</td></tr>",
                            "<tr><td>354868381</td><td>_WA_Sys_00000001_1526DC9D</td><td>FactFinance100m_nostats</td><td>dbo</td><td>2</td><td>1</td><td>NULL</td><td>2022-07-09 09:29:32.500</td><td>DateKey</td><td>67403926</td><td>67403926</td><td>0.00</td><td>12</td><td>UPDATE STATISTICS [dbo].[FactFinance100m_nostats] (_WA_Sys_00000001_1526DC9D) WITH SAMPLE 12 PERCENT</td><td>0</td></tr>",
                            "<tr><td>354868381</td><td>_WA_Sys_00000005_1526DC9D</td><td>FactFinance100m_nostats</td><td>dbo</td><td>3</td><td>1</td><td>NULL</td><td>2022-07-09 09:29:32.690</td><td>AccountKey</td><td>67403926</td><td>67403926</td><td>0.00</td><td>12</td><td>UPDATE STATISTICS [dbo].[FactFinance100m_nostats] (_WA_Sys_00000005_1526DC9D) WITH SAMPLE 12 PERCENT</td><td>0</td></tr>",
                            "</table>"
                        ]
                    }
                }
            ],
            "execution_count": 14
        },
        {
            "cell_type": "code",
            "source": [
                "/* The Stats Histogram is now mising latest date (while being perfect)*/\r\n",
                "DBCC SHOW_STATISTICS ('FactFinance100m_nostats',_WA_Sys_00000001_1526DC9D)"
            ],
            "metadata": {
                "azdata_cell_guid": "bb39211f-027b-4400-99dc-28064a3a44f9",
                "tags": [],
                "language": "sql"
            },
            "outputs": [
                {
                    "output_type": "display_data",
                    "data": {
                        "text/html": "(1 row affected)"
                    },
                    "metadata": {}
                },
                {
                    "output_type": "display_data",
                    "data": {
                        "text/html": "(1 row affected)"
                    },
                    "metadata": {}
                },
                {
                    "output_type": "display_data",
                    "data": {
                        "text/html": "(27 rows affected)"
                    },
                    "metadata": {}
                },
                {
                    "output_type": "display_data",
                    "data": {
                        "text/html": "Total execution time: 00:00:00.080"
                    },
                    "metadata": {}
                },
                {
                    "output_type": "execute_result",
                    "metadata": {},
                    "execution_count": 15,
                    "data": {
                        "application/vnd.dataresource+json": {
                            "schema": {
                                "fields": [
                                    {
                                        "name": "Name"
                                    },
                                    {
                                        "name": "Updated"
                                    },
                                    {
                                        "name": "Rows"
                                    },
                                    {
                                        "name": "Rows Sampled"
                                    },
                                    {
                                        "name": "Steps"
                                    },
                                    {
                                        "name": "Density"
                                    },
                                    {
                                        "name": "Average key length"
                                    },
                                    {
                                        "name": "String Index"
                                    },
                                    {
                                        "name": "Filter Expression"
                                    },
                                    {
                                        "name": "Unfiltered Rows"
                                    },
                                    {
                                        "name": "Persisted Sample Percent"
                                    }
                                ]
                            },
                            "data": [
                                {
                                    "0": "_WA_Sys_00000001_1526DC9D",
                                    "1": "Jul  9 2022  9:29AM",
                                    "2": "67403926",
                                    "3": "67403926",
                                    "4": "27",
                                    "5": "0.037037037",
                                    "6": "4",
                                    "7": "NO ",
                                    "8": "NULL",
                                    "9": "67403926",
                                    "10": "0"
                                }
                            ]
                        },
                        "text/html": [
                            "<table>",
                            "<tr><th>Name</th><th>Updated</th><th>Rows</th><th>Rows Sampled</th><th>Steps</th><th>Density</th><th>Average key length</th><th>String Index</th><th>Filter Expression</th><th>Unfiltered Rows</th><th>Persisted Sample Percent</th></tr>",
                            "<tr><td>_WA_Sys_00000001_1526DC9D</td><td>Jul  9 2022  9:29AM</td><td>67403926</td><td>67403926</td><td>27</td><td>0.037037037</td><td>4</td><td>NO </td><td>NULL</td><td>67403926</td><td>0</td></tr>",
                            "</table>"
                        ]
                    }
                },
                {
                    "output_type": "execute_result",
                    "metadata": {},
                    "execution_count": 15,
                    "data": {
                        "application/vnd.dataresource+json": {
                            "schema": {
                                "fields": [
                                    {
                                        "name": "All density"
                                    },
                                    {
                                        "name": "Average Length"
                                    },
                                    {
                                        "name": "Columns"
                                    }
                                ]
                            },
                            "data": [
                                {
                                    "0": "0.037059914",
                                    "1": "4",
                                    "2": "DateKey"
                                }
                            ]
                        },
                        "text/html": [
                            "<table>",
                            "<tr><th>All density</th><th>Average Length</th><th>Columns</th></tr>",
                            "<tr><td>0.037059914</td><td>4</td><td>DateKey</td></tr>",
                            "</table>"
                        ]
                    }
                },
                {
                    "output_type": "execute_result",
                    "metadata": {},
                    "execution_count": 15,
                    "data": {
                        "application/vnd.dataresource+json": {
                            "schema": {
                                "fields": [
                                    {
                                        "name": "RANGE_HI_KEY"
                                    },
                                    {
                                        "name": "RANGE_ROWS"
                                    },
                                    {
                                        "name": "EQ_ROWS"
                                    },
                                    {
                                        "name": "DISTINCT_RANGE_ROWS"
                                    },
                                    {
                                        "name": "AVG_RANGE_ROWS"
                                    }
                                ]
                            },
                            "data": [
                                {
                                    "0": "20101229",
                                    "1": "0",
                                    "2": "4318566",
                                    "3": "0",
                                    "4": "1"
                                },
                                {
                                    "0": "20110129",
                                    "1": "0",
                                    "2": "4364350",
                                    "3": "0",
                                    "4": "1"
                                },
                                {
                                    "0": "20110301",
                                    "1": "0",
                                    "2": "4357974",
                                    "3": "0",
                                    "4": "1"
                                },
                                {
                                    "0": "20110331",
                                    "1": "0",
                                    "2": "3807165",
                                    "3": "0",
                                    "4": "1"
                                },
                                {
                                    "0": "20110501",
                                    "1": "0",
                                    "2": "3409494",
                                    "3": "0",
                                    "4": "1"
                                },
                                {
                                    "0": "20110531",
                                    "1": "0",
                                    "2": "3667331",
                                    "3": "0",
                                    "4": "1"
                                },
                                {
                                    "0": "20110701",
                                    "1": "0",
                                    "2": "3336511",
                                    "3": "0",
                                    "4": "1"
                                },
                                {
                                    "0": "20110801",
                                    "1": "0",
                                    "2": "3064507",
                                    "3": "0",
                                    "4": "1"
                                },
                                {
                                    "0": "20110829",
                                    "1": "0",
                                    "2": "3118080",
                                    "3": "0",
                                    "4": "1"
                                },
                                {
                                    "0": "20110929",
                                    "1": "0",
                                    "2": "2602791",
                                    "3": "0",
                                    "4": "1"
                                },
                                {
                                    "0": "20111029",
                                    "1": "0",
                                    "2": "2495241",
                                    "3": "0",
                                    "4": "1"
                                },
                                {
                                    "0": "20111129",
                                    "1": "0",
                                    "2": "2453396",
                                    "3": "0",
                                    "4": "1"
                                },
                                {
                                    "0": "20111228",
                                    "1": "0",
                                    "2": "40837",
                                    "3": "0",
                                    "4": "1"
                                },
                                {
                                    "0": "20111229",
                                    "1": "0",
                                    "2": "2270446",
                                    "3": "0",
                                    "4": "1"
                                },
                                {
                                    "0": "20120129",
                                    "1": "0",
                                    "2": "2676081",
                                    "3": "0",
                                    "4": "1"
                                },
                                {
                                    "0": "20120229",
                                    "1": "0",
                                    "2": "3152058",
                                    "3": "0",
                                    "4": "1"
                                },
                                {
                                    "0": "20120330",
                                    "1": "0",
                                    "2": "3144568",
                                    "3": "0",
                                    "4": "1"
                                },
                                {
                                    "0": "20120430",
                                    "1": "0",
                                    "2": "2132675",
                                    "3": "0",
                                    "4": "1"
                                },
                                {
                                    "0": "20120530",
                                    "1": "0",
                                    "2": "2041068",
                                    "3": "0",
                                    "4": "1"
                                },
                                {
                                    "0": "20120630",
                                    "1": "0",
                                    "2": "1986862",
                                    "3": "0",
                                    "4": "1"
                                },
                                {
                                    "0": "20120731",
                                    "1": "0",
                                    "2": "1684231",
                                    "3": "0",
                                    "4": "1"
                                },
                                {
                                    "0": "20120828",
                                    "1": "0",
                                    "2": "1133358",
                                    "3": "0",
                                    "4": "1"
                                },
                                {
                                    "0": "20120928",
                                    "1": "0",
                                    "2": "1123563",
                                    "3": "0",
                                    "4": "1"
                                },
                                {
                                    "0": "20121028",
                                    "1": "0",
                                    "2": "1130587",
                                    "3": "0",
                                    "4": "1"
                                },
                                {
                                    "0": "20121128",
                                    "1": "0",
                                    "2": "1360288",
                                    "3": "0",
                                    "4": "1"
                                },
                                {
                                    "0": "20121227",
                                    "1": "0",
                                    "2": "51304",
                                    "3": "0",
                                    "4": "1"
                                },
                                {
                                    "0": "20121228",
                                    "1": "0",
                                    "2": "2480594",
                                    "3": "0",
                                    "4": "1"
                                }
                            ]
                        },
                        "text/html": [
                            "<table>",
                            "<tr><th>RANGE_HI_KEY</th><th>RANGE_ROWS</th><th>EQ_ROWS</th><th>DISTINCT_RANGE_ROWS</th><th>AVG_RANGE_ROWS</th></tr>",
                            "<tr><td>20101229</td><td>0</td><td>4318566</td><td>0</td><td>1</td></tr>",
                            "<tr><td>20110129</td><td>0</td><td>4364350</td><td>0</td><td>1</td></tr>",
                            "<tr><td>20110301</td><td>0</td><td>4357974</td><td>0</td><td>1</td></tr>",
                            "<tr><td>20110331</td><td>0</td><td>3807165</td><td>0</td><td>1</td></tr>",
                            "<tr><td>20110501</td><td>0</td><td>3409494</td><td>0</td><td>1</td></tr>",
                            "<tr><td>20110531</td><td>0</td><td>3667331</td><td>0</td><td>1</td></tr>",
                            "<tr><td>20110701</td><td>0</td><td>3336511</td><td>0</td><td>1</td></tr>",
                            "<tr><td>20110801</td><td>0</td><td>3064507</td><td>0</td><td>1</td></tr>",
                            "<tr><td>20110829</td><td>0</td><td>3118080</td><td>0</td><td>1</td></tr>",
                            "<tr><td>20110929</td><td>0</td><td>2602791</td><td>0</td><td>1</td></tr>",
                            "<tr><td>20111029</td><td>0</td><td>2495241</td><td>0</td><td>1</td></tr>",
                            "<tr><td>20111129</td><td>0</td><td>2453396</td><td>0</td><td>1</td></tr>",
                            "<tr><td>20111228</td><td>0</td><td>40837</td><td>0</td><td>1</td></tr>",
                            "<tr><td>20111229</td><td>0</td><td>2270446</td><td>0</td><td>1</td></tr>",
                            "<tr><td>20120129</td><td>0</td><td>2676081</td><td>0</td><td>1</td></tr>",
                            "<tr><td>20120229</td><td>0</td><td>3152058</td><td>0</td><td>1</td></tr>",
                            "<tr><td>20120330</td><td>0</td><td>3144568</td><td>0</td><td>1</td></tr>",
                            "<tr><td>20120430</td><td>0</td><td>2132675</td><td>0</td><td>1</td></tr>",
                            "<tr><td>20120530</td><td>0</td><td>2041068</td><td>0</td><td>1</td></tr>",
                            "<tr><td>20120630</td><td>0</td><td>1986862</td><td>0</td><td>1</td></tr>",
                            "<tr><td>20120731</td><td>0</td><td>1684231</td><td>0</td><td>1</td></tr>",
                            "<tr><td>20120828</td><td>0</td><td>1133358</td><td>0</td><td>1</td></tr>",
                            "<tr><td>20120928</td><td>0</td><td>1123563</td><td>0</td><td>1</td></tr>",
                            "<tr><td>20121028</td><td>0</td><td>1130587</td><td>0</td><td>1</td></tr>",
                            "<tr><td>20121128</td><td>0</td><td>1360288</td><td>0</td><td>1</td></tr>",
                            "<tr><td>20121227</td><td>0</td><td>51304</td><td>0</td><td>1</td></tr>",
                            "<tr><td>20121228</td><td>0</td><td>2480594</td><td>0</td><td>1</td></tr>",
                            "</table>"
                        ]
                    }
                }
            ],
            "execution_count": 15
        },
        {
            "cell_type": "code",
            "source": [
                "/* Lets insert 10 million rows into today to simulate a load */\r\n",
                "INSERT INTO FactFinance100m_nostats ([AccountKey], [ScenarioKey], [DepartmentGroupKey], [DateKey], [OrganizationKey], [Amount], [Date], [LineageKey])\r\n",
                "SELECT  TOP 10000000 [AccountKey], [ScenarioKey], [DepartmentGroupKey], [DateKey], [OrganizationKey], [Amount], [Date], [LineageKey]  \r\n",
                "FROM [dbo].[FactFinance1b]  WHERE dateKey >20130000"
            ],
            "metadata": {
                "azdata_cell_guid": "68029723-ad07-4646-a99b-c3e26625e471",
                "tags": [],
                "language": "sql"
            },
            "outputs": [
                {
                    "output_type": "display_data",
                    "data": {
                        "text/html": "(10000000 rows affected)"
                    },
                    "metadata": {}
                },
                {
                    "output_type": "display_data",
                    "data": {
                        "text/html": "Total execution time: 00:00:16.364"
                    },
                    "metadata": {}
                }
            ],
            "execution_count": 16
        },
        {
            "cell_type": "code",
            "source": [
                "/* Lets Upodate any stat that is based on DateKey */\r\n",
                "exec  dbo.[StatsOptimize]  @Tables='%.%.DateKey'\r\n",
                ", @StatisticsModificationLevel=null\r\n",
                ", @StatisticsSample=100 \r\n",
                ", @OnlyModifiedStatistics=null\r\n",
                ", @DeleteOverlappingStats=null\r\n",
                ", @TimeLimit=null \r\n",
                ", @Execute='Y'\r\n",
                "\r\n",
                "/* The Stats Histogram is now perfect */\r\n",
                "DBCC SHOW_STATISTICS ('FactFinance100m_nostats',_WA_Sys_00000001_1526DC9D)"
            ],
            "metadata": {
                "azdata_cell_guid": "b60b4dce-19aa-4250-81c1-9b46f2ad6bbd",
                "tags": [],
                "language": "sql"
            },
            "outputs": [
                {
                    "output_type": "display_data",
                    "data": {
                        "text/html": "Date and time: 2022-07-09 09:30:32"
                    },
                    "metadata": {}
                },
                {
                    "output_type": "display_data",
                    "data": {
                        "text/html": "Server: aw-dev"
                    },
                    "metadata": {}
                },
                {
                    "output_type": "display_data",
                    "data": {
                        "text/html": "Version: 10.0.15665.0"
                    },
                    "metadata": {}
                },
                {
                    "output_type": "display_data",
                    "data": {
                        "text/html": "Edition: SQL Azure"
                    },
                    "metadata": {}
                },
                {
                    "output_type": "display_data",
                    "data": {
                        "text/html": "Parameters: @Tables= '%.%.DateKey', @OnlyModifiedStatistics = 'Y', @StatisticsModificationLevel = NULL, @StatisticsSample = 100, @DeleteOverlappingStats = N, @TimeLimit = NULL, @Execute = Y"
                    },
                    "metadata": {}
                },
                {
                    "output_type": "display_data",
                    "data": {
                        "text/html": "Version: Microsoft Azure SQL Data Warehouse - 10.0.15665.0 Jul 5 2022 18:38:14 Copyright (c) Microsoft Corporation"
                    },
                    "metadata": {}
                },
                {
                    "output_type": "display_data",
                    "data": {
                        "text/html": "Source: https://github.com/ProdataSQL/SynapseTools/tree/main/SqlPools/Maintenance"
                    },
                    "metadata": {}
                },
                {
                    "output_type": "display_data",
                    "data": {
                        "text/html": "\t"
                    },
                    "metadata": {}
                },
                {
                    "output_type": "display_data",
                    "data": {
                        "text/html": "Date and time: 2022-07-09 09:30:38"
                    },
                    "metadata": {}
                },
                {
                    "output_type": "display_data",
                    "data": {
                        "text/html": "SqlCommand: UPDATE STATISTICS [dbo].[FactFinance100m_nostats](_WA_Sys_00000001_1526DC9D) WITH FULLSCAN"
                    },
                    "metadata": {}
                },
                {
                    "output_type": "display_data",
                    "data": {
                        "text/html": "Date and time: 2022-07-09 09:30:41"
                    },
                    "metadata": {}
                },
                {
                    "output_type": "display_data",
                    "data": {
                        "text/html": "\t"
                    },
                    "metadata": {}
                },
                {
                    "output_type": "display_data",
                    "data": {
                        "text/html": "(1 row affected)"
                    },
                    "metadata": {}
                },
                {
                    "output_type": "display_data",
                    "data": {
                        "text/html": "(1 row affected)"
                    },
                    "metadata": {}
                },
                {
                    "output_type": "display_data",
                    "data": {
                        "text/html": "(39 rows affected)"
                    },
                    "metadata": {}
                },
                {
                    "output_type": "display_data",
                    "data": {
                        "text/html": "Total execution time: 00:00:09.373"
                    },
                    "metadata": {}
                },
                {
                    "output_type": "execute_result",
                    "metadata": {},
                    "execution_count": 17,
                    "data": {
                        "application/vnd.dataresource+json": {
                            "schema": {
                                "fields": [
                                    {
                                        "name": "Name"
                                    },
                                    {
                                        "name": "Updated"
                                    },
                                    {
                                        "name": "Rows"
                                    },
                                    {
                                        "name": "Rows Sampled"
                                    },
                                    {
                                        "name": "Steps"
                                    },
                                    {
                                        "name": "Density"
                                    },
                                    {
                                        "name": "Average key length"
                                    },
                                    {
                                        "name": "String Index"
                                    },
                                    {
                                        "name": "Filter Expression"
                                    },
                                    {
                                        "name": "Unfiltered Rows"
                                    },
                                    {
                                        "name": "Persisted Sample Percent"
                                    }
                                ]
                            },
                            "data": [
                                {
                                    "0": "_WA_Sys_00000001_1526DC9D",
                                    "1": "Jul  9 2022  9:30AM",
                                    "2": "77403926",
                                    "3": "77403926",
                                    "4": "39",
                                    "5": "0.025641026",
                                    "6": "4",
                                    "7": "NO ",
                                    "8": "NULL",
                                    "9": "77403926",
                                    "10": "0"
                                }
                            ]
                        },
                        "text/html": [
                            "<table>",
                            "<tr><th>Name</th><th>Updated</th><th>Rows</th><th>Rows Sampled</th><th>Steps</th><th>Density</th><th>Average key length</th><th>String Index</th><th>Filter Expression</th><th>Unfiltered Rows</th><th>Persisted Sample Percent</th></tr>",
                            "<tr><td>_WA_Sys_00000001_1526DC9D</td><td>Jul  9 2022  9:30AM</td><td>77403926</td><td>77403926</td><td>39</td><td>0.025641026</td><td>4</td><td>NO </td><td>NULL</td><td>77403926</td><td>0</td></tr>",
                            "</table>"
                        ]
                    }
                },
                {
                    "output_type": "execute_result",
                    "metadata": {},
                    "execution_count": 17,
                    "data": {
                        "application/vnd.dataresource+json": {
                            "schema": {
                                "fields": [
                                    {
                                        "name": "All density"
                                    },
                                    {
                                        "name": "Average Length"
                                    },
                                    {
                                        "name": "Columns"
                                    }
                                ]
                            },
                            "data": [
                                {
                                    "0": "0.025740026",
                                    "1": "4",
                                    "2": "DateKey"
                                }
                            ]
                        },
                        "text/html": [
                            "<table>",
                            "<tr><th>All density</th><th>Average Length</th><th>Columns</th></tr>",
                            "<tr><td>0.025740026</td><td>4</td><td>DateKey</td></tr>",
                            "</table>"
                        ]
                    }
                },
                {
                    "output_type": "execute_result",
                    "metadata": {},
                    "execution_count": 17,
                    "data": {
                        "application/vnd.dataresource+json": {
                            "schema": {
                                "fields": [
                                    {
                                        "name": "RANGE_HI_KEY"
                                    },
                                    {
                                        "name": "RANGE_ROWS"
                                    },
                                    {
                                        "name": "EQ_ROWS"
                                    },
                                    {
                                        "name": "DISTINCT_RANGE_ROWS"
                                    },
                                    {
                                        "name": "AVG_RANGE_ROWS"
                                    }
                                ]
                            },
                            "data": [
                                {
                                    "0": "20101229",
                                    "1": "0",
                                    "2": "4318566",
                                    "3": "0",
                                    "4": "1"
                                },
                                {
                                    "0": "20110129",
                                    "1": "0",
                                    "2": "4364350",
                                    "3": "0",
                                    "4": "1"
                                },
                                {
                                    "0": "20110301",
                                    "1": "0",
                                    "2": "4357974",
                                    "3": "0",
                                    "4": "1"
                                },
                                {
                                    "0": "20110331",
                                    "1": "0",
                                    "2": "3807165",
                                    "3": "0",
                                    "4": "1"
                                },
                                {
                                    "0": "20110501",
                                    "1": "0",
                                    "2": "3409494",
                                    "3": "0",
                                    "4": "1"
                                },
                                {
                                    "0": "20110531",
                                    "1": "0",
                                    "2": "3667331",
                                    "3": "0",
                                    "4": "1"
                                },
                                {
                                    "0": "20110701",
                                    "1": "0",
                                    "2": "3336511",
                                    "3": "0",
                                    "4": "1"
                                },
                                {
                                    "0": "20110801",
                                    "1": "0",
                                    "2": "3064507",
                                    "3": "0",
                                    "4": "1"
                                },
                                {
                                    "0": "20110829",
                                    "1": "0",
                                    "2": "3118080",
                                    "3": "0",
                                    "4": "1"
                                },
                                {
                                    "0": "20110929",
                                    "1": "0",
                                    "2": "2602791",
                                    "3": "0",
                                    "4": "1"
                                },
                                {
                                    "0": "20111029",
                                    "1": "0",
                                    "2": "2495241",
                                    "3": "0",
                                    "4": "1"
                                },
                                {
                                    "0": "20111129",
                                    "1": "0",
                                    "2": "2453396",
                                    "3": "0",
                                    "4": "1"
                                },
                                {
                                    "0": "20111228",
                                    "1": "0",
                                    "2": "40837",
                                    "3": "0",
                                    "4": "1"
                                },
                                {
                                    "0": "20111229",
                                    "1": "0",
                                    "2": "2270446",
                                    "3": "0",
                                    "4": "1"
                                },
                                {
                                    "0": "20120129",
                                    "1": "0",
                                    "2": "2676081",
                                    "3": "0",
                                    "4": "1"
                                },
                                {
                                    "0": "20120229",
                                    "1": "0",
                                    "2": "3152058",
                                    "3": "0",
                                    "4": "1"
                                },
                                {
                                    "0": "20120330",
                                    "1": "0",
                                    "2": "3144568",
                                    "3": "0",
                                    "4": "1"
                                },
                                {
                                    "0": "20120430",
                                    "1": "0",
                                    "2": "2132675",
                                    "3": "0",
                                    "4": "1"
                                },
                                {
                                    "0": "20120530",
                                    "1": "0",
                                    "2": "2041068",
                                    "3": "0",
                                    "4": "1"
                                },
                                {
                                    "0": "20120630",
                                    "1": "0",
                                    "2": "1986862",
                                    "3": "0",
                                    "4": "1"
                                },
                                {
                                    "0": "20120731",
                                    "1": "0",
                                    "2": "1684231",
                                    "3": "0",
                                    "4": "1"
                                },
                                {
                                    "0": "20120828",
                                    "1": "0",
                                    "2": "1133358",
                                    "3": "0",
                                    "4": "1"
                                },
                                {
                                    "0": "20120928",
                                    "1": "0",
                                    "2": "1123563",
                                    "3": "0",
                                    "4": "1"
                                },
                                {
                                    "0": "20121028",
                                    "1": "0",
                                    "2": "1130587",
                                    "3": "0",
                                    "4": "1"
                                },
                                {
                                    "0": "20121128",
                                    "1": "0",
                                    "2": "1360288",
                                    "3": "0",
                                    "4": "1"
                                },
                                {
                                    "0": "20121227",
                                    "1": "0",
                                    "2": "51304",
                                    "3": "0",
                                    "4": "1"
                                },
                                {
                                    "0": "20121228",
                                    "1": "0",
                                    "2": "2480594",
                                    "3": "0",
                                    "4": "1"
                                },
                                {
                                    "0": "20130128",
                                    "1": "0",
                                    "2": "805675",
                                    "3": "0",
                                    "4": "1"
                                },
                                {
                                    "0": "20130228",
                                    "1": "0",
                                    "2": "608313",
                                    "3": "0",
                                    "4": "1"
                                },
                                {
                                    "0": "20130330",
                                    "1": "0",
                                    "2": "851876",
                                    "3": "0",
                                    "4": "1"
                                },
                                {
                                    "0": "20130430",
                                    "1": "0",
                                    "2": "935994",
                                    "3": "0",
                                    "4": "1"
                                },
                                {
                                    "0": "20130530",
                                    "1": "0",
                                    "2": "975456",
                                    "3": "0",
                                    "4": "1"
                                },
                                {
                                    "0": "20130630",
                                    "1": "0",
                                    "2": "939735",
                                    "3": "0",
                                    "4": "1"
                                },
                                {
                                    "0": "20130731",
                                    "1": "0",
                                    "2": "1156436",
                                    "3": "0",
                                    "4": "1"
                                },
                                {
                                    "0": "20130829",
                                    "1": "0",
                                    "2": "1187914",
                                    "3": "0",
                                    "4": "1"
                                },
                                {
                                    "0": "20130929",
                                    "1": "0",
                                    "2": "863965",
                                    "3": "0",
                                    "4": "1"
                                },
                                {
                                    "0": "20131029",
                                    "1": "0",
                                    "2": "836523",
                                    "3": "0",
                                    "4": "1"
                                },
                                {
                                    "0": "20131129",
                                    "1": "0",
                                    "2": "815425",
                                    "3": "0",
                                    "4": "1"
                                },
                                {
                                    "0": "20131228",
                                    "1": "0",
                                    "2": "22688",
                                    "3": "0",
                                    "4": "1"
                                }
                            ]
                        },
                        "text/html": [
                            "<table>",
                            "<tr><th>RANGE_HI_KEY</th><th>RANGE_ROWS</th><th>EQ_ROWS</th><th>DISTINCT_RANGE_ROWS</th><th>AVG_RANGE_ROWS</th></tr>",
                            "<tr><td>20101229</td><td>0</td><td>4318566</td><td>0</td><td>1</td></tr>",
                            "<tr><td>20110129</td><td>0</td><td>4364350</td><td>0</td><td>1</td></tr>",
                            "<tr><td>20110301</td><td>0</td><td>4357974</td><td>0</td><td>1</td></tr>",
                            "<tr><td>20110331</td><td>0</td><td>3807165</td><td>0</td><td>1</td></tr>",
                            "<tr><td>20110501</td><td>0</td><td>3409494</td><td>0</td><td>1</td></tr>",
                            "<tr><td>20110531</td><td>0</td><td>3667331</td><td>0</td><td>1</td></tr>",
                            "<tr><td>20110701</td><td>0</td><td>3336511</td><td>0</td><td>1</td></tr>",
                            "<tr><td>20110801</td><td>0</td><td>3064507</td><td>0</td><td>1</td></tr>",
                            "<tr><td>20110829</td><td>0</td><td>3118080</td><td>0</td><td>1</td></tr>",
                            "<tr><td>20110929</td><td>0</td><td>2602791</td><td>0</td><td>1</td></tr>",
                            "<tr><td>20111029</td><td>0</td><td>2495241</td><td>0</td><td>1</td></tr>",
                            "<tr><td>20111129</td><td>0</td><td>2453396</td><td>0</td><td>1</td></tr>",
                            "<tr><td>20111228</td><td>0</td><td>40837</td><td>0</td><td>1</td></tr>",
                            "<tr><td>20111229</td><td>0</td><td>2270446</td><td>0</td><td>1</td></tr>",
                            "<tr><td>20120129</td><td>0</td><td>2676081</td><td>0</td><td>1</td></tr>",
                            "<tr><td>20120229</td><td>0</td><td>3152058</td><td>0</td><td>1</td></tr>",
                            "<tr><td>20120330</td><td>0</td><td>3144568</td><td>0</td><td>1</td></tr>",
                            "<tr><td>20120430</td><td>0</td><td>2132675</td><td>0</td><td>1</td></tr>",
                            "<tr><td>20120530</td><td>0</td><td>2041068</td><td>0</td><td>1</td></tr>",
                            "<tr><td>20120630</td><td>0</td><td>1986862</td><td>0</td><td>1</td></tr>",
                            "<tr><td>20120731</td><td>0</td><td>1684231</td><td>0</td><td>1</td></tr>",
                            "<tr><td>20120828</td><td>0</td><td>1133358</td><td>0</td><td>1</td></tr>",
                            "<tr><td>20120928</td><td>0</td><td>1123563</td><td>0</td><td>1</td></tr>",
                            "<tr><td>20121028</td><td>0</td><td>1130587</td><td>0</td><td>1</td></tr>",
                            "<tr><td>20121128</td><td>0</td><td>1360288</td><td>0</td><td>1</td></tr>",
                            "<tr><td>20121227</td><td>0</td><td>51304</td><td>0</td><td>1</td></tr>",
                            "<tr><td>20121228</td><td>0</td><td>2480594</td><td>0</td><td>1</td></tr>",
                            "<tr><td>20130128</td><td>0</td><td>805675</td><td>0</td><td>1</td></tr>",
                            "<tr><td>20130228</td><td>0</td><td>608313</td><td>0</td><td>1</td></tr>",
                            "<tr><td>20130330</td><td>0</td><td>851876</td><td>0</td><td>1</td></tr>",
                            "<tr><td>20130430</td><td>0</td><td>935994</td><td>0</td><td>1</td></tr>",
                            "<tr><td>20130530</td><td>0</td><td>975456</td><td>0</td><td>1</td></tr>",
                            "<tr><td>20130630</td><td>0</td><td>939735</td><td>0</td><td>1</td></tr>",
                            "<tr><td>20130731</td><td>0</td><td>1156436</td><td>0</td><td>1</td></tr>",
                            "<tr><td>20130829</td><td>0</td><td>1187914</td><td>0</td><td>1</td></tr>",
                            "<tr><td>20130929</td><td>0</td><td>863965</td><td>0</td><td>1</td></tr>",
                            "<tr><td>20131029</td><td>0</td><td>836523</td><td>0</td><td>1</td></tr>",
                            "<tr><td>20131129</td><td>0</td><td>815425</td><td>0</td><td>1</td></tr>",
                            "<tr><td>20131228</td><td>0</td><td>22688</td><td>0</td><td>1</td></tr>",
                            "</table>"
                        ]
                    }
                }
            ],
            "execution_count": 17
        }
    ]
}