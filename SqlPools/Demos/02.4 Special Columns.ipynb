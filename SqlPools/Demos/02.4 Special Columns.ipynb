{
    "metadata": {
        "kernelspec": {
            "name": "SQL",
            "display_name": "SQL",
            "language": "sql"
        },
        "language_info": {
            "name": "sql",
            "version": ""
        },
        "extensions": {
            "azuredatastudio": {
                "version": 1,
                "views": []
            }
        }
    },
    "nbformat_minor": 2,
    "nbformat": 4,
    "cells": [
        {
            "cell_type": "markdown",
            "source": [
                "# 2.3 Special Columns (Ascending Keys)\r\n",
                ""
            ],
            "metadata": {
                "azdata_cell_guid": "161db256-512c-43f4-bf7d-04da7efee8fa"
            }
        },
        {
            "cell_type": "markdown",
            "source": [
                "As per [https://docs.microsoft.com/en-us/azure/synapse-analytics/sql/develop-tables-statistics](https://docs.microsoft.com/en-us/azure/synapse-analytics/sql/develop-tables-statistics)\n",
                "\n",
                "_Consider updating \"ascending key\" columns such as transaction dates more frequently because these values won't be included in the statistics histogram._\n",
                "\n",
                "As a demo lets show a table with a date missing and perfect stats. Also introducing the StatsOptimize SProc to automate updating of Stats"
            ],
            "metadata": {
                "azdata_cell_guid": "5fd0c0c0-1b6b-4d69-9ed2-27154c17d909"
            },
            "attachments": {}
        },
        {
            "cell_type": "code",
            "source": [
                "delete from  [dbo].[FactFinance100m_nostats] WHERE DateKey> 20130000\r\n",
                "\r\n",
                "exec  dbo.[StatsOptimize]  @Tables='FactFinance100m_nostats'\r\n",
                ", @StatisticsModificationLevel=null\r\n",
                ", @StatisticsSample=100 \r\n",
                ", @OnlyModifiedStatistics=null\r\n",
                ", @DeleteOverlappingStats=null\r\n",
                ", @TimeLimit=null \r\n",
                ", @Execute='Y'\r\n",
                ""
            ],
            "metadata": {
                "azdata_cell_guid": "5b3df579-8822-45e0-9728-38e4228cc9c5",
                "language": "sql"
            },
            "outputs": [
                {
                    "output_type": "display_data",
                    "data": {
                        "text/html": "(10000000 rows affected)"
                    },
                    "metadata": {}
                },
                {
                    "output_type": "display_data",
                    "data": {
                        "text/html": "Date and time: 2022-07-07 20:39:49"
                    },
                    "metadata": {}
                },
                {
                    "output_type": "display_data",
                    "data": {
                        "text/html": "Server: aw-dev"
                    },
                    "metadata": {}
                },
                {
                    "output_type": "display_data",
                    "data": {
                        "text/html": "Version: 10.0.15665.0"
                    },
                    "metadata": {}
                },
                {
                    "output_type": "display_data",
                    "data": {
                        "text/html": "Edition: SQL Azure"
                    },
                    "metadata": {}
                },
                {
                    "output_type": "display_data",
                    "data": {
                        "text/html": "Parameters: @Tables= 'FactFinance100m_nostats', @OnlyModifiedStatistics = 'Y', @StatisticsModificationLevel = NULL, @StatisticsSample = 100, @DeleteOverlappingStats = N, @TimeLimit = NULL, @Execute = Y"
                    },
                    "metadata": {}
                },
                {
                    "output_type": "display_data",
                    "data": {
                        "text/html": "Version: Microsoft Azure SQL Data Warehouse - 10.0.15665.0 Jul 6 2022 10:30:07 Copyright (c) Microsoft Corporation"
                    },
                    "metadata": {}
                },
                {
                    "output_type": "display_data",
                    "data": {
                        "text/html": "Source: https://github.com/ProdataSQL/SynapseTools/tree/main/SqlPools/Maintenance"
                    },
                    "metadata": {}
                },
                {
                    "output_type": "display_data",
                    "data": {
                        "text/html": "\t"
                    },
                    "metadata": {}
                },
                {
                    "output_type": "display_data",
                    "data": {
                        "text/html": "Date and time: 2022-07-07 20:39:55"
                    },
                    "metadata": {}
                },
                {
                    "output_type": "display_data",
                    "data": {
                        "text/html": "\t"
                    },
                    "metadata": {}
                },
                {
                    "output_type": "display_data",
                    "data": {
                        "text/html": "Total execution time: 00:00:11.954"
                    },
                    "metadata": {}
                }
            ],
            "execution_count": 22
        },
        {
            "cell_type": "code",
            "source": [
                "/* The Stats Histogram is now mising latest date (while being perfect)*/\r\n",
                "DBCC SHOW_STATISTICS ('FactFinance100m_nostats',_WA_Sys_00000001_76A2557D)"
            ],
            "metadata": {
                "azdata_cell_guid": "bb39211f-027b-4400-99dc-28064a3a44f9",
                "tags": [],
                "language": "sql"
            },
            "outputs": [
                {
                    "output_type": "display_data",
                    "data": {
                        "text/html": "(1 row affected)"
                    },
                    "metadata": {}
                },
                {
                    "output_type": "display_data",
                    "data": {
                        "text/html": "(1 row affected)"
                    },
                    "metadata": {}
                },
                {
                    "output_type": "display_data",
                    "data": {
                        "text/html": "(27 rows affected)"
                    },
                    "metadata": {}
                },
                {
                    "output_type": "display_data",
                    "data": {
                        "text/html": "Total execution time: 00:00:00.111"
                    },
                    "metadata": {}
                },
                {
                    "output_type": "execute_result",
                    "metadata": {},
                    "execution_count": 28,
                    "data": {
                        "application/vnd.dataresource+json": {
                            "schema": {
                                "fields": [
                                    {
                                        "name": "Name"
                                    },
                                    {
                                        "name": "Updated"
                                    },
                                    {
                                        "name": "Rows"
                                    },
                                    {
                                        "name": "Rows Sampled"
                                    },
                                    {
                                        "name": "Steps"
                                    },
                                    {
                                        "name": "Density"
                                    },
                                    {
                                        "name": "Average key length"
                                    },
                                    {
                                        "name": "String Index"
                                    },
                                    {
                                        "name": "Filter Expression"
                                    },
                                    {
                                        "name": "Unfiltered Rows"
                                    },
                                    {
                                        "name": "Persisted Sample Percent"
                                    }
                                ]
                            },
                            "data": [
                                {
                                    "0": "_WA_Sys_00000001_76A2557D",
                                    "1": "Jul  7 2022  8:37PM",
                                    "2": "67403926",
                                    "3": "67403926",
                                    "4": "27",
                                    "5": "0.037037037",
                                    "6": "4",
                                    "7": "NO ",
                                    "8": "NULL",
                                    "9": "67403926",
                                    "10": "0"
                                }
                            ]
                        },
                        "text/html": [
                            "<table>",
                            "<tr><th>Name</th><th>Updated</th><th>Rows</th><th>Rows Sampled</th><th>Steps</th><th>Density</th><th>Average key length</th><th>String Index</th><th>Filter Expression</th><th>Unfiltered Rows</th><th>Persisted Sample Percent</th></tr>",
                            "<tr><td>_WA_Sys_00000001_76A2557D</td><td>Jul  7 2022  8:37PM</td><td>67403926</td><td>67403926</td><td>27</td><td>0.037037037</td><td>4</td><td>NO </td><td>NULL</td><td>67403926</td><td>0</td></tr>",
                            "</table>"
                        ]
                    }
                },
                {
                    "output_type": "execute_result",
                    "metadata": {},
                    "execution_count": 28,
                    "data": {
                        "application/vnd.dataresource+json": {
                            "schema": {
                                "fields": [
                                    {
                                        "name": "All density"
                                    },
                                    {
                                        "name": "Average Length"
                                    },
                                    {
                                        "name": "Columns"
                                    }
                                ]
                            },
                            "data": [
                                {
                                    "0": "0.037059914",
                                    "1": "4",
                                    "2": "DateKey"
                                }
                            ]
                        },
                        "text/html": [
                            "<table>",
                            "<tr><th>All density</th><th>Average Length</th><th>Columns</th></tr>",
                            "<tr><td>0.037059914</td><td>4</td><td>DateKey</td></tr>",
                            "</table>"
                        ]
                    }
                },
                {
                    "output_type": "execute_result",
                    "metadata": {},
                    "execution_count": 28,
                    "data": {
                        "application/vnd.dataresource+json": {
                            "schema": {
                                "fields": [
                                    {
                                        "name": "RANGE_HI_KEY"
                                    },
                                    {
                                        "name": "RANGE_ROWS"
                                    },
                                    {
                                        "name": "EQ_ROWS"
                                    },
                                    {
                                        "name": "DISTINCT_RANGE_ROWS"
                                    },
                                    {
                                        "name": "AVG_RANGE_ROWS"
                                    }
                                ]
                            },
                            "data": [
                                {
                                    "0": "20101229",
                                    "1": "0",
                                    "2": "4318566",
                                    "3": "0",
                                    "4": "1"
                                },
                                {
                                    "0": "20110129",
                                    "1": "0",
                                    "2": "4364350",
                                    "3": "0",
                                    "4": "1"
                                },
                                {
                                    "0": "20110301",
                                    "1": "0",
                                    "2": "4357974",
                                    "3": "0",
                                    "4": "1"
                                },
                                {
                                    "0": "20110331",
                                    "1": "0",
                                    "2": "3807165",
                                    "3": "0",
                                    "4": "1"
                                },
                                {
                                    "0": "20110501",
                                    "1": "0",
                                    "2": "3409494",
                                    "3": "0",
                                    "4": "1"
                                },
                                {
                                    "0": "20110531",
                                    "1": "0",
                                    "2": "3667331",
                                    "3": "0",
                                    "4": "1"
                                },
                                {
                                    "0": "20110701",
                                    "1": "0",
                                    "2": "3336511",
                                    "3": "0",
                                    "4": "1"
                                },
                                {
                                    "0": "20110801",
                                    "1": "0",
                                    "2": "3064507",
                                    "3": "0",
                                    "4": "1"
                                },
                                {
                                    "0": "20110829",
                                    "1": "0",
                                    "2": "3118080",
                                    "3": "0",
                                    "4": "1"
                                },
                                {
                                    "0": "20110929",
                                    "1": "0",
                                    "2": "2602791",
                                    "3": "0",
                                    "4": "1"
                                },
                                {
                                    "0": "20111029",
                                    "1": "0",
                                    "2": "2495241",
                                    "3": "0",
                                    "4": "1"
                                },
                                {
                                    "0": "20111129",
                                    "1": "0",
                                    "2": "2453396",
                                    "3": "0",
                                    "4": "1"
                                },
                                {
                                    "0": "20111228",
                                    "1": "0",
                                    "2": "40837",
                                    "3": "0",
                                    "4": "1"
                                },
                                {
                                    "0": "20111229",
                                    "1": "0",
                                    "2": "2270446",
                                    "3": "0",
                                    "4": "1"
                                },
                                {
                                    "0": "20120129",
                                    "1": "0",
                                    "2": "2676081",
                                    "3": "0",
                                    "4": "1"
                                },
                                {
                                    "0": "20120229",
                                    "1": "0",
                                    "2": "3152058",
                                    "3": "0",
                                    "4": "1"
                                },
                                {
                                    "0": "20120330",
                                    "1": "0",
                                    "2": "3144568",
                                    "3": "0",
                                    "4": "1"
                                },
                                {
                                    "0": "20120430",
                                    "1": "0",
                                    "2": "2132675",
                                    "3": "0",
                                    "4": "1"
                                },
                                {
                                    "0": "20120530",
                                    "1": "0",
                                    "2": "2041068",
                                    "3": "0",
                                    "4": "1"
                                },
                                {
                                    "0": "20120630",
                                    "1": "0",
                                    "2": "1986862",
                                    "3": "0",
                                    "4": "1"
                                },
                                {
                                    "0": "20120731",
                                    "1": "0",
                                    "2": "1684231",
                                    "3": "0",
                                    "4": "1"
                                },
                                {
                                    "0": "20120828",
                                    "1": "0",
                                    "2": "1133358",
                                    "3": "0",
                                    "4": "1"
                                },
                                {
                                    "0": "20120928",
                                    "1": "0",
                                    "2": "1123563",
                                    "3": "0",
                                    "4": "1"
                                },
                                {
                                    "0": "20121028",
                                    "1": "0",
                                    "2": "1130587",
                                    "3": "0",
                                    "4": "1"
                                },
                                {
                                    "0": "20121128",
                                    "1": "0",
                                    "2": "1360288",
                                    "3": "0",
                                    "4": "1"
                                },
                                {
                                    "0": "20121227",
                                    "1": "0",
                                    "2": "51304",
                                    "3": "0",
                                    "4": "1"
                                },
                                {
                                    "0": "20121228",
                                    "1": "0",
                                    "2": "2480594",
                                    "3": "0",
                                    "4": "1"
                                }
                            ]
                        },
                        "text/html": [
                            "<table>",
                            "<tr><th>RANGE_HI_KEY</th><th>RANGE_ROWS</th><th>EQ_ROWS</th><th>DISTINCT_RANGE_ROWS</th><th>AVG_RANGE_ROWS</th></tr>",
                            "<tr><td>20101229</td><td>0</td><td>4318566</td><td>0</td><td>1</td></tr>",
                            "<tr><td>20110129</td><td>0</td><td>4364350</td><td>0</td><td>1</td></tr>",
                            "<tr><td>20110301</td><td>0</td><td>4357974</td><td>0</td><td>1</td></tr>",
                            "<tr><td>20110331</td><td>0</td><td>3807165</td><td>0</td><td>1</td></tr>",
                            "<tr><td>20110501</td><td>0</td><td>3409494</td><td>0</td><td>1</td></tr>",
                            "<tr><td>20110531</td><td>0</td><td>3667331</td><td>0</td><td>1</td></tr>",
                            "<tr><td>20110701</td><td>0</td><td>3336511</td><td>0</td><td>1</td></tr>",
                            "<tr><td>20110801</td><td>0</td><td>3064507</td><td>0</td><td>1</td></tr>",
                            "<tr><td>20110829</td><td>0</td><td>3118080</td><td>0</td><td>1</td></tr>",
                            "<tr><td>20110929</td><td>0</td><td>2602791</td><td>0</td><td>1</td></tr>",
                            "<tr><td>20111029</td><td>0</td><td>2495241</td><td>0</td><td>1</td></tr>",
                            "<tr><td>20111129</td><td>0</td><td>2453396</td><td>0</td><td>1</td></tr>",
                            "<tr><td>20111228</td><td>0</td><td>40837</td><td>0</td><td>1</td></tr>",
                            "<tr><td>20111229</td><td>0</td><td>2270446</td><td>0</td><td>1</td></tr>",
                            "<tr><td>20120129</td><td>0</td><td>2676081</td><td>0</td><td>1</td></tr>",
                            "<tr><td>20120229</td><td>0</td><td>3152058</td><td>0</td><td>1</td></tr>",
                            "<tr><td>20120330</td><td>0</td><td>3144568</td><td>0</td><td>1</td></tr>",
                            "<tr><td>20120430</td><td>0</td><td>2132675</td><td>0</td><td>1</td></tr>",
                            "<tr><td>20120530</td><td>0</td><td>2041068</td><td>0</td><td>1</td></tr>",
                            "<tr><td>20120630</td><td>0</td><td>1986862</td><td>0</td><td>1</td></tr>",
                            "<tr><td>20120731</td><td>0</td><td>1684231</td><td>0</td><td>1</td></tr>",
                            "<tr><td>20120828</td><td>0</td><td>1133358</td><td>0</td><td>1</td></tr>",
                            "<tr><td>20120928</td><td>0</td><td>1123563</td><td>0</td><td>1</td></tr>",
                            "<tr><td>20121028</td><td>0</td><td>1130587</td><td>0</td><td>1</td></tr>",
                            "<tr><td>20121128</td><td>0</td><td>1360288</td><td>0</td><td>1</td></tr>",
                            "<tr><td>20121227</td><td>0</td><td>51304</td><td>0</td><td>1</td></tr>",
                            "<tr><td>20121228</td><td>0</td><td>2480594</td><td>0</td><td>1</td></tr>",
                            "</table>"
                        ]
                    }
                }
            ],
            "execution_count": 28
        },
        {
            "cell_type": "code",
            "source": [
                "/* Lets query Rows in one day. Query is very fast */\r\n",
                "\r\n",
                "\r\n",
                "select d.[FiscalYear], d.DayOfWeek, sum(Amount) as Amount, count(*) as Rows  from \r\n",
                "FactFinance100m_nostats f \r\n",
                "INNER JOIN DimDate d on d.[DateKey]=f.DateKey \r\n",
                "WHERE d.DateKey=20120129\r\n",
                "GROUP BY  d.[FiscalYear], d.DayOfWeek"
            ],
            "metadata": {
                "azdata_cell_guid": "3058cb5b-c039-49aa-a3ef-1c538918dc31",
                "tags": [],
                "language": "sql"
            },
            "outputs": [
                {
                    "output_type": "display_data",
                    "data": {
                        "text/html": "(1 row affected)"
                    },
                    "metadata": {}
                },
                {
                    "output_type": "display_data",
                    "data": {
                        "text/html": "Total execution time: 00:00:00.882"
                    },
                    "metadata": {}
                },
                {
                    "output_type": "execute_result",
                    "metadata": {},
                    "execution_count": 24,
                    "data": {
                        "application/vnd.dataresource+json": {
                            "schema": {
                                "fields": [
                                    {
                                        "name": "FiscalYear"
                                    },
                                    {
                                        "name": "DayOfWeek"
                                    },
                                    {
                                        "name": "Amount"
                                    },
                                    {
                                        "name": "Rows"
                                    }
                                ]
                            },
                            "data": [
                                {
                                    "0": "2011",
                                    "1": "Sunday",
                                    "2": "105775666467.75511",
                                    "3": "2676081"
                                }
                            ]
                        },
                        "text/html": [
                            "<table>",
                            "<tr><th>FiscalYear</th><th>DayOfWeek</th><th>Amount</th><th>Rows</th></tr>",
                            "<tr><td>2011</td><td>Sunday</td><td>105775666467.75511</td><td>2676081</td></tr>",
                            "</table>"
                        ]
                    }
                }
            ],
            "execution_count": 24
        },
        {
            "cell_type": "code",
            "source": [
                "/* Lets insert 10 million rows into today to simulate a load */\r\n",
                "INSERT INTO FactFinance100m_nostats ([AccountKey], [ScenarioKey], [DepartmentGroupKey], [DateKey], [OrganizationKey], [Amount], [Date], [LineageKey])\r\n",
                "SELECT  TOP 10000000 [AccountKey], [ScenarioKey], [DepartmentGroupKey], [DateKey], [OrganizationKey], [Amount], [Date], [LineageKey]  \r\n",
                "FROM [dbo].[FactFinance1b]  WHERE dateKey >20130000"
            ],
            "metadata": {
                "azdata_cell_guid": "68029723-ad07-4646-a99b-c3e26625e471",
                "tags": [],
                "language": "sql"
            },
            "outputs": [
                {
                    "output_type": "display_data",
                    "data": {
                        "text/html": "(10000000 rows affected)"
                    },
                    "metadata": {}
                },
                {
                    "output_type": "display_data",
                    "data": {
                        "text/html": "Total execution time: 00:00:15.727"
                    },
                    "metadata": {}
                }
            ],
            "execution_count": 25
        },
        {
            "cell_type": "code",
            "source": [
                "/* Lets try same query now. Current Date will have no stats in histogram */\r\n",
                "select d.[FiscalYear], d.DayOfWeek, sum(Amount) as Amount, count(*) as Rows  from \r\n",
                "FactFinance100m_nostats f \r\n",
                "INNER JOIN DimDate d on d.[DateKey]=f.DateKey \r\n",
                "WHERE d.DateKey=20130829\r\n",
                "GROUP BY  d.[FiscalYear], d.DayOfWeek"
            ],
            "metadata": {
                "azdata_cell_guid": "b60b4dce-19aa-4250-81c1-9b46f2ad6bbd",
                "tags": [],
                "language": "sql"
            },
            "outputs": [
                {
                    "output_type": "display_data",
                    "data": {
                        "text/html": "(1 row affected)"
                    },
                    "metadata": {}
                },
                {
                    "output_type": "display_data",
                    "data": {
                        "text/html": "Total execution time: 00:00:01.130"
                    },
                    "metadata": {}
                },
                {
                    "output_type": "execute_result",
                    "metadata": {},
                    "execution_count": 26,
                    "data": {
                        "application/vnd.dataresource+json": {
                            "schema": {
                                "fields": [
                                    {
                                        "name": "FiscalYear"
                                    },
                                    {
                                        "name": "DayOfWeek"
                                    },
                                    {
                                        "name": "Amount"
                                    },
                                    {
                                        "name": "Rows"
                                    }
                                ]
                            },
                            "data": [
                                {
                                    "0": "2013",
                                    "1": "Thursday",
                                    "2": "41245969830.65645",
                                    "3": "1172356"
                                }
                            ]
                        },
                        "text/html": [
                            "<table>",
                            "<tr><th>FiscalYear</th><th>DayOfWeek</th><th>Amount</th><th>Rows</th></tr>",
                            "<tr><td>2013</td><td>Thursday</td><td>41245969830.65645</td><td>1172356</td></tr>",
                            "</table>"
                        ]
                    }
                }
            ],
            "execution_count": 26
        },
        {
            "cell_type": "code",
            "source": [
                "/* Lets query an older date which has stats */\r\n",
                "select d.[FiscalYear], d.DayOfWeek, sum(Amount) as Amount, count(*) as Rows  from \r\n",
                "FactFinance100m_nostats f \r\n",
                "INNER JOIN DimDate d on d.[DateKey]=f.DateKey \r\n",
                "WHERE d.DateKey=20120630\r\n",
                "GROUP BY  d.[FiscalYear], d.DayOfWeek\r\n",
                ""
            ],
            "metadata": {
                "azdata_cell_guid": "17598b18-ac47-4936-83e6-2ed007cb2814",
                "tags": [],
                "language": "sql"
            },
            "outputs": [
                {
                    "output_type": "display_data",
                    "data": {
                        "text/html": "(1 row affected)"
                    },
                    "metadata": {}
                },
                {
                    "output_type": "display_data",
                    "data": {
                        "text/html": "Total execution time: 00:00:00.348"
                    },
                    "metadata": {}
                },
                {
                    "output_type": "execute_result",
                    "metadata": {},
                    "execution_count": 27,
                    "data": {
                        "application/vnd.dataresource+json": {
                            "schema": {
                                "fields": [
                                    {
                                        "name": "FiscalYear"
                                    },
                                    {
                                        "name": "DayOfWeek"
                                    },
                                    {
                                        "name": "Amount"
                                    },
                                    {
                                        "name": "Rows"
                                    }
                                ]
                            },
                            "data": [
                                {
                                    "0": "2011",
                                    "1": "Saturday",
                                    "2": "50437281700.268036",
                                    "3": "1986862"
                                }
                            ]
                        },
                        "text/html": [
                            "<table>",
                            "<tr><th>FiscalYear</th><th>DayOfWeek</th><th>Amount</th><th>Rows</th></tr>",
                            "<tr><td>2011</td><td>Saturday</td><td>50437281700.268036</td><td>1986862</td></tr>",
                            "</table>"
                        ]
                    }
                }
            ],
            "execution_count": 27
        }
    ]
}